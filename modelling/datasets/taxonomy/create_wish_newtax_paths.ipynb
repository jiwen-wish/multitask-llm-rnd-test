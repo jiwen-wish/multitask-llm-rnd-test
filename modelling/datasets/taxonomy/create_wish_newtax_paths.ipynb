{
 "cells": [
  {
   "cell_type": "code",
   "execution_count": 1,
   "metadata": {},
   "outputs": [],
   "source": [
    "import pandas as pd\n",
    "import dvc.api "
   ]
  },
  {
   "cell_type": "code",
   "execution_count": 2,
   "metadata": {},
   "outputs": [],
   "source": [
    "df = pd.read_json(dvc.api.get_url(\n",
    "    'data/taxonomy/wish_newtax.json',\n",
    "    repo='git@github.com:junwang-wish/query_understanding_data.git'\n",
    "), lines=True)"
   ]
  },
  {
   "cell_type": "code",
   "execution_count": 3,
   "metadata": {},
   "outputs": [
    {
     "data": {
      "text/html": [
       "<div>\n",
       "<style scoped>\n",
       "    .dataframe tbody tr th:only-of-type {\n",
       "        vertical-align: middle;\n",
       "    }\n",
       "\n",
       "    .dataframe tbody tr th {\n",
       "        vertical-align: top;\n",
       "    }\n",
       "\n",
       "    .dataframe thead th {\n",
       "        text-align: right;\n",
       "    }\n",
       "</style>\n",
       "<table border=\"1\" class=\"dataframe\">\n",
       "  <thead>\n",
       "    <tr style=\"text-align: right;\">\n",
       "      <th></th>\n",
       "      <th>category_tree_version</th>\n",
       "      <th>id</th>\n",
       "      <th>category_path</th>\n",
       "      <th>is_leaf</th>\n",
       "    </tr>\n",
       "  </thead>\n",
       "  <tbody>\n",
       "    <tr>\n",
       "      <th>0</th>\n",
       "      <td>v1.2.1</td>\n",
       "      <td>4658</td>\n",
       "      <td>Security &amp; Protection &gt; Building Automation</td>\n",
       "      <td>True</td>\n",
       "    </tr>\n",
       "    <tr>\n",
       "      <th>1</th>\n",
       "      <td>v1.2.1</td>\n",
       "      <td>4659</td>\n",
       "      <td>Security &amp; Protection &gt; Door Intercom</td>\n",
       "      <td>False</td>\n",
       "    </tr>\n",
       "    <tr>\n",
       "      <th>2</th>\n",
       "      <td>v1.2.1</td>\n",
       "      <td>4666</td>\n",
       "      <td>Security &amp; Protection &gt; Emergency Kits</td>\n",
       "      <td>True</td>\n",
       "    </tr>\n",
       "    <tr>\n",
       "      <th>3</th>\n",
       "      <td>v1.2.1</td>\n",
       "      <td>4667</td>\n",
       "      <td>Security &amp; Protection &gt; Fire Protection</td>\n",
       "      <td>False</td>\n",
       "    </tr>\n",
       "    <tr>\n",
       "      <th>4</th>\n",
       "      <td>v1.2.1</td>\n",
       "      <td>4678</td>\n",
       "      <td>Security &amp; Protection &gt; IoT Devices</td>\n",
       "      <td>False</td>\n",
       "    </tr>\n",
       "  </tbody>\n",
       "</table>\n",
       "</div>"
      ],
      "text/plain": [
       "  category_tree_version    id                                category_path  \\\n",
       "0                v1.2.1  4658  Security & Protection > Building Automation   \n",
       "1                v1.2.1  4659        Security & Protection > Door Intercom   \n",
       "2                v1.2.1  4666       Security & Protection > Emergency Kits   \n",
       "3                v1.2.1  4667      Security & Protection > Fire Protection   \n",
       "4                v1.2.1  4678          Security & Protection > IoT Devices   \n",
       "\n",
       "   is_leaf  \n",
       "0     True  \n",
       "1    False  \n",
       "2     True  \n",
       "3    False  \n",
       "4    False  "
      ]
     },
     "execution_count": 3,
     "metadata": {},
     "output_type": "execute_result"
    }
   ],
   "source": [
    "df.head()"
   ]
  },
  {
   "cell_type": "code",
   "execution_count": 4,
   "metadata": {},
   "outputs": [],
   "source": [
    "paths = df.drop_duplicates('category_path')[df.is_leaf].category_path.apply(lambda x: x.lower()).tolist()"
   ]
  },
  {
   "cell_type": "code",
   "execution_count": 5,
   "metadata": {},
   "outputs": [
    {
     "data": {
      "text/plain": [
       "5291"
      ]
     },
     "execution_count": 5,
     "metadata": {},
     "output_type": "execute_result"
    }
   ],
   "source": [
    "len(paths)"
   ]
  },
  {
   "cell_type": "code",
   "execution_count": 6,
   "metadata": {},
   "outputs": [],
   "source": [
    "with open('wish_v1.2.1_newtax_leafpaths.txt', 'w') as f:\n",
    "    for i in paths:\n",
    "        f.write(i)\n",
    "        f.write('\\n')"
   ]
  },
  {
   "cell_type": "code",
   "execution_count": 7,
   "metadata": {},
   "outputs": [],
   "source": [
    "paths_all = df[df.category_path.apply(len) > 0].drop_duplicates('category_path').category_path.apply(\n",
    "    lambda x: x.lower()).tolist()"
   ]
  },
  {
   "cell_type": "code",
   "execution_count": 8,
   "metadata": {},
   "outputs": [
    {
     "data": {
      "text/plain": [
       "6037"
      ]
     },
     "execution_count": 8,
     "metadata": {},
     "output_type": "execute_result"
    }
   ],
   "source": [
    "len(paths_all)"
   ]
  },
  {
   "cell_type": "code",
   "execution_count": 9,
   "metadata": {},
   "outputs": [],
   "source": [
    "with open('wish_v1.2.1_newtax_allpaths.txt', 'w') as f:\n",
    "    for i in sorted(paths_all):\n",
    "        f.write(i)\n",
    "        f.write('\\n')"
   ]
  },
  {
   "cell_type": "code",
   "execution_count": null,
   "metadata": {},
   "outputs": [],
   "source": []
  }
 ],
 "metadata": {
  "kernelspec": {
   "display_name": "Python 3.8.13 ('py38')",
   "language": "python",
   "name": "python3"
  },
  "language_info": {
   "codemirror_mode": {
    "name": "ipython",
    "version": 3
   },
   "file_extension": ".py",
   "mimetype": "text/x-python",
   "name": "python",
   "nbconvert_exporter": "python",
   "pygments_lexer": "ipython3",
   "version": "3.8.13"
  },
  "orig_nbformat": 4,
  "vscode": {
   "interpreter": {
    "hash": "3ea19d11efa7602c1f12500925a974ed4f31fcf847bd6f694bd5180da2602ded"
   }
  }
 },
 "nbformat": 4,
 "nbformat_minor": 2
}
