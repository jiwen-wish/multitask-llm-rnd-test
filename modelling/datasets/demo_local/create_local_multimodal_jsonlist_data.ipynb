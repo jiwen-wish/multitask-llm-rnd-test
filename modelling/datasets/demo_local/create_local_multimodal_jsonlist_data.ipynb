{
 "cells": [
  {
   "cell_type": "code",
   "execution_count": 1,
   "metadata": {},
   "outputs": [],
   "source": [
    "import numpy as np \n",
    "import json\n"
   ]
  },
  {
   "cell_type": "code",
   "execution_count": 2,
   "metadata": {},
   "outputs": [],
   "source": [
    "with open(\"tmp_multimodal_data.json\", \"w\") as f:\n",
    "    for i in range(1000):\n",
    "        dat = {\n",
    "            \"title\": f\"product_{i}\",\n",
    "            \"description\": f\"description_{i}\",\n",
    "            \"image_embedding\": np.random.random(768).tolist(),\n",
    "            \"category\": [\"baby\", \"food\"]\n",
    "        }\n",
    "        f.write(json.dumps(dat)+\"\\n\")"
   ]
  },
  {
   "cell_type": "code",
   "execution_count": 3,
   "metadata": {},
   "outputs": [],
   "source": [
    "with open(\"tmp_multimodal_full_data.json\", \"w\") as f:\n",
    "    for i in range(1000):\n",
    "        dat = {\n",
    "            \"title\": f\"product_{i} a really nice product\",\n",
    "            \"description\": f\"description_{i} a really nice description\",\n",
    "            \"img_embedding\": np.random.random(768).tolist(),\n",
    "            \"category\": [\"bAbY\", \"fOod\"],\n",
    "            \"pseudo_category\": [\"baBy\", \"dRinks\"],\n",
    "            \"relevance\": np.random.random(),\n",
    "            \"query\": f\"query_{i} a really nice query\"\n",
    "        }\n",
    "        f.write(json.dumps(dat)+\"\\n\")"
   ]
  },
  {
   "cell_type": "code",
   "execution_count": null,
   "metadata": {},
   "outputs": [],
   "source": []
  }
 ],
 "metadata": {
  "kernelspec": {
   "display_name": "Python 3.8.13 ('py38')",
   "language": "python",
   "name": "python3"
  },
  "language_info": {
   "codemirror_mode": {
    "name": "ipython",
    "version": 3
   },
   "file_extension": ".py",
   "mimetype": "text/x-python",
   "name": "python",
   "nbconvert_exporter": "python",
   "pygments_lexer": "ipython3",
   "version": "3.8.13"
  },
  "orig_nbformat": 4,
  "vscode": {
   "interpreter": {
    "hash": "3ea19d11efa7602c1f12500925a974ed4f31fcf847bd6f694bd5180da2602ded"
   }
  }
 },
 "nbformat": 4,
 "nbformat_minor": 2
}
