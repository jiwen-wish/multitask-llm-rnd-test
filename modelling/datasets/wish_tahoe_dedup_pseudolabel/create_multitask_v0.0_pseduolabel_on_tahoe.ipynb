{
 "cells": [
  {
   "cell_type": "code",
   "execution_count": 1,
   "metadata": {},
   "outputs": [],
   "source": [
    "import pandas as pd\n",
    "import json\n",
    "from tqdm import tqdm\n",
    "import numpy as np\n",
    "import dvc.api\n",
    "import zarr\n",
    "from collections import defaultdict\n",
    "from itertools import islice\n",
    "from copy import deepcopy"
   ]
  },
  {
   "cell_type": "code",
   "execution_count": 96,
   "metadata": {},
   "outputs": [],
   "source": [
    "results = defaultdict(list)"
   ]
  },
  {
   "cell_type": "markdown",
   "metadata": {},
   "source": [
    "# seqclf"
   ]
  },
  {
   "cell_type": "code",
   "execution_count": 86,
   "metadata": {},
   "outputs": [],
   "source": [
    "label_map_file = \"/workspaces/query_understanding_model/datasets/taxonomy/wish_v1.2.1_newtax_allpaths.txt\""
   ]
  },
  {
   "cell_type": "code",
   "execution_count": 87,
   "metadata": {},
   "outputs": [],
   "source": [
    "label_map = {}\n",
    "with open(label_map_file, 'r') as f:\n",
    "    for l in f:\n",
    "        l = l.replace('\\n', '').strip()\n",
    "        if len(l):\n",
    "            label_map[l] = len(label_map)\n",
    "\n",
    "label_map_rev = {label_map[i]: i for i in label_map}\n",
    "\n",
    "df_tax = pd.read_json(\n",
    "    dvc.api.get_url(\n",
    "        'data/taxonomy/wish_newtax.json',\n",
    "        repo='git@github.com:junwang-wish/query_understanding_data.git'\n",
    "    ), lines=True\n",
    ")\n",
    "df_tax['category_path'] = df_tax['category_path'].str.lower().str.strip()\n",
    "df_tax = df_tax[df_tax['category_path'] != '']\n",
    "df_tax['category_index'] = df_tax['category_path'].apply(lambda x: label_map[x])\n"
   ]
  },
  {
   "cell_type": "code",
   "execution_count": 97,
   "metadata": {},
   "outputs": [],
   "source": [
    "df_tax_leaf = df_tax[df_tax.is_leaf]\n",
    "leaf_index = df_tax_leaf['category_index'].to_numpy()"
   ]
  },
  {
   "cell_type": "code",
   "execution_count": null,
   "metadata": {},
   "outputs": [],
   "source": [
    "with zarr.open('/workspaces/query_understanding_model/models/product_title_multitask/version_1/seqclf-epoch=0-step=349636--wish-tahoe-dedup-train-predict-inputonly.zarr', 'r') as z:\n",
    "    for i in list(z.array_keys()):\n",
    "        arr = z[i]\n",
    "        c = 0\n",
    "        for subarr in tqdm(arr):\n",
    "            c += 1\n",
    "            bidx = int(subarr[2])\n",
    "            if bidx not in results:\n",
    "                print(bidx)\n",
    "                logits = subarr[3:]\n",
    "                pred = leaf_index[logits[leaf_index].argmax()]\n",
    "                results[bidx].append(pred)"
   ]
  },
  {
   "cell_type": "code",
   "execution_count": 122,
   "metadata": {},
   "outputs": [
    {
     "data": {
      "text/plain": [
       "103665516.0"
      ]
     },
     "execution_count": 122,
     "metadata": {},
     "output_type": "execute_result"
    }
   ],
   "source": [
    "max(results)"
   ]
  },
  {
   "cell_type": "code",
   "execution_count": 124,
   "metadata": {},
   "outputs": [
    {
     "data": {
      "text/plain": [
       "103665517"
      ]
     },
     "execution_count": 124,
     "metadata": {},
     "output_type": "execute_result"
    }
   ],
   "source": [
    "len(results)"
   ]
  },
  {
   "cell_type": "markdown",
   "metadata": {},
   "source": [
    "# clm"
   ]
  },
  {
   "cell_type": "code",
   "execution_count": 128,
   "metadata": {},
   "outputs": [],
   "source": [
    "from thefuzz import process as fuzz_process"
   ]
  },
  {
   "cell_type": "code",
   "execution_count": 132,
   "metadata": {},
   "outputs": [],
   "source": [
    "label_map_list = [i for i in label_map]"
   ]
  },
  {
   "cell_type": "code",
   "execution_count": 139,
   "metadata": {},
   "outputs": [],
   "source": [
    "fuzz_map_dict = {}"
   ]
  },
  {
   "cell_type": "code",
   "execution_count": 141,
   "metadata": {},
   "outputs": [
    {
     "name": "stderr",
     "output_type": "stream",
     "text": [
      "100%|██████████| 310996551/310996551 [25:20<00:00, 204488.63it/s]\n"
     ]
    }
   ],
   "source": [
    "with open('/workspaces/query_understanding_model/models/product_title_multitask/version_1/clm-epoch=0-step=349636--wish-tahoe-dedup-pseudo-test-simpleprompt-topdown.json', 'r') as f:\n",
    "    for l in tqdm(f, total=310996551):\n",
    "        dat = json.loads(l)\n",
    "        bidx = int(dat['batch_indices'])\n",
    "        if dat['rank_indices'] == 0:\n",
    "            if bidx in results:\n",
    "                pred_text = dat['prediction_decoded']\n",
    "                if pred_text in label_map:\n",
    "                    pred = label_map[pred_text]\n",
    "                elif pred_text in fuzz_map_dict:\n",
    "                    match = fuzz_map_dict[pred_text]\n",
    "                    pred = label_map[match]\n",
    "                else:\n",
    "                    match = fuzz_process.extractOne(pred_text, label_map_list)[0]\n",
    "                    fuzz_map_dict[pred_text] = match\n",
    "                    pred = label_map[match]\n",
    "                pred = int(pred)\n",
    "                if len(results[bidx]) == 1:\n",
    "                    results[bidx].append(pred)\n",
    "                elif len(results[bidx]) == 2:\n",
    "                    results[bidx][1] = pred \n",
    "                else:\n",
    "                    raise Exception()\n",
    "            else:\n",
    "                print(bidx)"
   ]
  },
  {
   "cell_type": "code",
   "execution_count": 142,
   "metadata": {},
   "outputs": [
    {
     "data": {
      "text/plain": [
       "{2}"
      ]
     },
     "execution_count": 142,
     "metadata": {},
     "output_type": "execute_result"
    }
   ],
   "source": [
    "set([len(results[i]) for i in results])"
   ]
  },
  {
   "cell_type": "code",
   "execution_count": 143,
   "metadata": {},
   "outputs": [
    {
     "data": {
      "text/plain": [
       "103665517"
      ]
     },
     "execution_count": 143,
     "metadata": {},
     "output_type": "execute_result"
    }
   ],
   "source": [
    "len(results)"
   ]
  },
  {
   "cell_type": "code",
   "execution_count": 144,
   "metadata": {},
   "outputs": [],
   "source": [
    "# import pickle \n",
    "# with open(\"seqclf_clm_results.pkl\", \"wb\") as f:\n",
    "#     pickle.dump(results, f, protocol=pickle.HIGHEST_PROTOCOL)"
   ]
  },
  {
   "cell_type": "markdown",
   "metadata": {},
   "source": [
    "# emb"
   ]
  },
  {
   "cell_type": "code",
   "execution_count": 157,
   "metadata": {},
   "outputs": [],
   "source": [
    "df_tax_emb = pd.read_json(\"/workspaces/query_understanding_model/models/product_title_multitask/version_1/emb-epoch=0-step=349636--wish-newtax-v1.2.1--inputemb.json\", \n",
    "    lines=True)"
   ]
  },
  {
   "cell_type": "code",
   "execution_count": 158,
   "metadata": {},
   "outputs": [],
   "source": [
    "df_tax_emb_input = pd.read_json(\n",
    "    dvc.api.get_url(\n",
    "        'data/taxonomy/wish_newtax_converted_to_data.json',\n",
    "        repo='git@github.com:junwang-wish/query_understanding_data.git'\n",
    "    ), lines=True\n",
    ")"
   ]
  },
  {
   "cell_type": "code",
   "execution_count": 159,
   "metadata": {},
   "outputs": [],
   "source": [
    "df_tax_emb_input['category_index'] = df_tax_emb_input['title'].apply(lambda x: label_map[x]).tolist()"
   ]
  },
  {
   "cell_type": "code",
   "execution_count": 160,
   "metadata": {},
   "outputs": [],
   "source": [
    "df_tax_emb = df_tax_emb.sort_values('batch_indices')"
   ]
  },
  {
   "cell_type": "code",
   "execution_count": 164,
   "metadata": {},
   "outputs": [],
   "source": [
    "df_tax_emb_input[\"embedding\"] = df_tax_emb.embedding.tolist()"
   ]
  },
  {
   "cell_type": "code",
   "execution_count": 165,
   "metadata": {},
   "outputs": [],
   "source": [
    "del df_tax_emb"
   ]
  },
  {
   "cell_type": "code",
   "execution_count": 168,
   "metadata": {},
   "outputs": [],
   "source": [
    "df_tax_emb_input_leaf = df_tax_emb_input[df_tax_emb_input.is_leaf]"
   ]
  },
  {
   "cell_type": "code",
   "execution_count": 175,
   "metadata": {},
   "outputs": [],
   "source": [
    "leaf_index = df_tax_emb_input_leaf.category_index.to_numpy()\n",
    "leaf_embs = np.array(df_tax_emb_input_leaf.embedding.tolist())"
   ]
  },
  {
   "cell_type": "code",
   "execution_count": 179,
   "metadata": {},
   "outputs": [],
   "source": [
    "from torch import nn\n",
    "import torch"
   ]
  },
  {
   "cell_type": "code",
   "execution_count": 185,
   "metadata": {},
   "outputs": [],
   "source": [
    "emb_tensor_T = nn.functional.normalize(torch.tensor(leaf_embs).cuda(), 1).T"
   ]
  },
  {
   "cell_type": "code",
   "execution_count": 197,
   "metadata": {},
   "outputs": [
    {
     "name": "stderr",
     "output_type": "stream",
     "text": [
      "100%|██████████| 14810/14810 [12:22<00:00, 19.93it/s]\n",
      "100%|██████████| 14810/14810 [12:39<00:00, 19.51it/s]\n",
      "100%|██████████| 14810/14810 [12:16<00:00, 20.10it/s]\n",
      "100%|██████████| 14810/14810 [12:25<00:00, 19.85it/s]\n",
      "100%|██████████| 14810/14810 [12:56<00:00, 19.07it/s]\n",
      "100%|██████████| 14810/14810 [15:41<00:00, 15.73it/s]\n",
      "100%|██████████| 14810/14810 [14:44<00:00, 16.75it/s]\n"
     ]
    }
   ],
   "source": [
    "with zarr.open('/workspaces/query_understanding_model/models/product_title_multitask/version_1/emb-epoch=0-step=349636--wish-tahoe-dedup-pseudo-test--inputemb.zarr', 'r') as z:\n",
    "    for i in list(z.array_keys()):\n",
    "        arr = z[i]\n",
    "        for subarr_start in tqdm(range(0, len(arr), 1000)):\n",
    "            subarr_end = subarr_start + 1000\n",
    "            subarr = arr[subarr_start: subarr_end]\n",
    "            bidxs = subarr[:, 2].astype(int)\n",
    "            emb_title = subarr[:, 3:]\n",
    "            preds_inds = nn.functional.normalize(torch.tensor(emb_title).cuda(), 1).mm(\n",
    "                emb_tensor_T).argmax(1).detach().cpu().numpy()\n",
    "            preds = leaf_index[preds_inds]\n",
    "            for bidx, pred in zip(bidxs, preds):\n",
    "                if bidx in results:\n",
    "                    if len(results[bidx]) == 2:\n",
    "                        results[bidx].append(pred) \n",
    "                    else:\n",
    "                        raise Exception()\n",
    "                else:\n",
    "                    print(bidx)\n",
    "                    raise Exception()"
   ]
  },
  {
   "cell_type": "code",
   "execution_count": 198,
   "metadata": {},
   "outputs": [],
   "source": [
    "# import pickle \n",
    "# with open(\"seqclf_clm_emb_results.pkl\", \"wb\") as f:\n",
    "#     pickle.dump(results, f, protocol=pickle.HIGHEST_PROTOCOL)"
   ]
  },
  {
   "cell_type": "code",
   "execution_count": 199,
   "metadata": {},
   "outputs": [
    {
     "data": {
      "text/plain": [
       "{3}"
      ]
     },
     "execution_count": 199,
     "metadata": {},
     "output_type": "execute_result"
    }
   ],
   "source": [
    "set([len(results[i]) for i in results])"
   ]
  },
  {
   "cell_type": "markdown",
   "metadata": {},
   "source": [
    "# save to pandas"
   ]
  },
  {
   "cell_type": "code",
   "execution_count": 200,
   "metadata": {},
   "outputs": [],
   "source": [
    "import sys \n",
    "sys.path.append(\"../..\")"
   ]
  },
  {
   "cell_type": "code",
   "execution_count": 201,
   "metadata": {},
   "outputs": [],
   "source": [
    "from main_utils import LLMData"
   ]
  },
  {
   "cell_type": "code",
   "execution_count": 202,
   "metadata": {},
   "outputs": [
    {
     "name": "stderr",
     "output_type": "stream",
     "text": [
      "/opt/conda/envs/py38/lib/python3.8/site-packages/transformers/models/t5/tokenization_t5_fast.py:156: FutureWarning: This tokenizer was incorrectly instantiated with a model max length of 512 which will be corrected in Transformers v5.\n",
      "For now, this behavior is kept to avoid breaking backwards compatibility when padding/encoding with `truncation is True`.\n",
      "- Be aware that you SHOULD NOT rely on t5-base automatically truncating your input to 512 when padding/encoding.\n",
      "- If you want to encode/pad to sequences longer than 512 you can either instantiate this tokenizer with `model_max_length` or pass `max_length` when encoding/padding.\n",
      "- To avoid this warning, please instantiate this tokenizer with `model_max_length` set to your preferred value.\n",
      "  warnings.warn(\n"
     ]
    },
    {
     "data": {
      "text/plain": [
       "\"batch_size\":            16\n",
       "\"data_hash\":             7163b3e63222d6c970c99c02dfeb73ff\n",
       "\"data_source\":           OrderedDict([('is_encoder_decoder', True), ('preprocess', OrderedDict([('transform', 'top-down')])), ('test', [{'path': 'data/wish_products_truetag_tahoe/Wish_Truetag_Tahoe_Meta_Train_Dedup.json', 'repo': 'git@github.com:junwang-wish/query_understanding_data.git', 'rev': None, 'task_prefix': 'categorize product: '}])])\n",
       "\"data_source_yaml_path\": /workspaces/query_understanding_model/datasets/product_title_taxonomy_classification/wish-tahoe-dedup-pseudo-test-simpleprompt-topdown.yaml\n",
       "\"max_length\":            250\n",
       "\"max_length_out\":        100\n",
       "\"model_name\":            t5-base\n",
       "\"num_workers\":           80\n",
       "\"overwrite_cache\":       False\n",
       "\"predict_on_test\":       True\n",
       "\"raw_cache_dir\":         /data/junwang/.cache/general\n",
       "\"raw_cache_dir_folder\":  /data/junwang/.cache/general/7163b3e63222d6c970c99c02dfeb73ff"
      ]
     },
     "execution_count": 202,
     "metadata": {},
     "output_type": "execute_result"
    }
   ],
   "source": [
    "LLMData('/workspaces/query_understanding_model/datasets/product_title_taxonomy_classification/wish-tahoe-dedup-pseudo-test-simpleprompt-topdown.yaml').hparams"
   ]
  },
  {
   "cell_type": "code",
   "execution_count": 203,
   "metadata": {},
   "outputs": [
    {
     "name": "stdout",
     "output_type": "stream",
     "text": [
      "test.json.gz  test.json.gz.lock\n"
     ]
    }
   ],
   "source": [
    "!ls /data/junwang/.cache/general/7163b3e63222d6c970c99c02dfeb73ff"
   ]
  },
  {
   "cell_type": "code",
   "execution_count": 204,
   "metadata": {},
   "outputs": [],
   "source": [
    "import gzip"
   ]
  },
  {
   "cell_type": "code",
   "execution_count": 208,
   "metadata": {},
   "outputs": [
    {
     "name": "stderr",
     "output_type": "stream",
     "text": [
      "103665517it [04:23, 393302.07it/s]\n"
     ]
    }
   ],
   "source": [
    "c = 0\n",
    "with gzip.open('/data/junwang/.cache/general/7163b3e63222d6c970c99c02dfeb73ff/test.json.gz', 'r') as f:\n",
    "    for l in tqdm(f):\n",
    "        if len(l):\n",
    "            c += 1"
   ]
  },
  {
   "cell_type": "code",
   "execution_count": 209,
   "metadata": {},
   "outputs": [
    {
     "data": {
      "text/plain": [
       "(103665517, 103665517)"
      ]
     },
     "execution_count": 209,
     "metadata": {},
     "output_type": "execute_result"
    }
   ],
   "source": [
    "len(results), c"
   ]
  },
  {
   "cell_type": "code",
   "execution_count": 223,
   "metadata": {},
   "outputs": [
    {
     "name": "stderr",
     "output_type": "stream",
     "text": [
      "100%|██████████| 103665517/103665517 [2:41:53<00:00, 10672.06it/s] \n"
     ]
    }
   ],
   "source": [
    "ind = 0\n",
    "c_allmatch = 0\n",
    "with gzip.open('/data/junwang/.cache/general/7163b3e63222d6c970c99c02dfeb73ff/test.json.gz', 'r') as f, \\\n",
    "        gzip.open('wish_tahoe_title_dedup_multitask_v0.1_preds.json.gz', 'w') as f_out, \\\n",
    "        gzip.open('wish_tahoe_title_dedup_multitask_v0.1_preds_allmatch.json.gz', 'w') as f_out_allmatch:\n",
    "    for l in tqdm(f, total=103665517):\n",
    "        if len(l):\n",
    "            dat = json.loads(l)\n",
    "            title = dat['text_input'][29:]\n",
    "            truetag = dat['text_output'].split(\" > \")\n",
    "            preds = results[ind]\n",
    "            if preds[0] == preds[1] == preds[2]:\n",
    "                all_match = True\n",
    "                c_allmatch += 1\n",
    "            else:\n",
    "                all_match = False\n",
    "            preds_cat = [label_map_rev[i].split(\" > \") for i in preds]\n",
    "            seqclf, clm, emb = preds_cat\n",
    "            out_dat = {\n",
    "                \"title\": title,\n",
    "                \"category_truetag\": truetag,\n",
    "                \"multitask_seqclf_v0.1_predicted_category\": seqclf,\n",
    "                \"multitask_emb_v0.1_predicted_category\": emb,\n",
    "                \"multitask_clm_v0.1_predicted_category\": clm,\n",
    "                \"all_match\": all_match\n",
    "            }\n",
    "            ind += 1\n",
    "            out_text = (json.dumps(out_dat) + \"\\n\").encode(\"utf-8\")\n",
    "            f_out.write(out_text)\n",
    "            if all_match:\n",
    "                f_out_allmatch.write(out_text)"
   ]
  },
  {
   "cell_type": "code",
   "execution_count": 224,
   "metadata": {},
   "outputs": [
    {
     "name": "stdout",
     "output_type": "stream",
     "text": [
      "8.1G\twish_tahoe_title_dedup_multitask_v0.1_preds.json.gz\n",
      "2.3G\twish_tahoe_title_dedup_multitask_v0.1_preds_allmatch.json.gz\n"
     ]
    }
   ],
   "source": [
    "!du -sh *.json.gz"
   ]
  },
  {
   "cell_type": "code",
   "execution_count": 226,
   "metadata": {},
   "outputs": [
    {
     "name": "stdout",
     "output_type": "stream",
     "text": [
      "{\n",
      "  \"title\": \"1997 Action Packed #118 Bryan Cox DD NFL Football Trading Card\",\n",
      "  \"category_truetag\": [\n",
      "    \"hobbies\",\n",
      "    \"collectible items\"\n",
      "  ],\n",
      "  \"multitask_seqclf_v0.1_predicted_category\": [\n",
      "    \"toys & hobbies\",\n",
      "    \"hobby & collectibles\",\n",
      "    \"game collection cards\"\n",
      "  ],\n",
      "  \"multitask_emb_v0.1_predicted_category\": [\n",
      "    \"toys & hobbies\",\n",
      "    \"hobby & collectibles\",\n",
      "    \"game collection cards\"\n",
      "  ],\n",
      "  \"multitask_clm_v0.1_predicted_category\": [\n",
      "    \"toys & hobbies\",\n",
      "    \"hobby & collectibles\",\n",
      "    \"game collection cards\"\n",
      "  ],\n",
      "  \"all_match\": true\n",
      "}\n",
      "\n",
      "gzip: stdout: Broken pipe\n"
     ]
    }
   ],
   "source": [
    "!zcat wish_tahoe_title_dedup_multitask_v0.1_preds_allmatch.json.gz | head -n 1 | jq ."
   ]
  },
  {
   "cell_type": "markdown",
   "metadata": {},
   "source": [
    "# split files"
   ]
  },
  {
   "cell_type": "code",
   "execution_count": 2,
   "metadata": {},
   "outputs": [],
   "source": [
    "df_allmatch = pd.read_json('/workspaces/query_understanding_model/datasets/wish_tahoe_dedup_pseudolabel/wish_tahoe_title_dedup_multitask_v0.1_preds_allmatch.json.gz', \n",
    "    lines=True)"
   ]
  },
  {
   "cell_type": "code",
   "execution_count": 4,
   "metadata": {},
   "outputs": [],
   "source": [
    "df_allmatch = df_allmatch.rename(columns={i: i.replace('v0.1', 'v0_1') for i in df_allmatch})"
   ]
  },
  {
   "cell_type": "code",
   "execution_count": 5,
   "metadata": {},
   "outputs": [
    {
     "data": {
      "text/html": [
       "<div>\n",
       "<style scoped>\n",
       "    .dataframe tbody tr th:only-of-type {\n",
       "        vertical-align: middle;\n",
       "    }\n",
       "\n",
       "    .dataframe tbody tr th {\n",
       "        vertical-align: top;\n",
       "    }\n",
       "\n",
       "    .dataframe thead th {\n",
       "        text-align: right;\n",
       "    }\n",
       "</style>\n",
       "<table border=\"1\" class=\"dataframe\">\n",
       "  <thead>\n",
       "    <tr style=\"text-align: right;\">\n",
       "      <th></th>\n",
       "      <th>title</th>\n",
       "      <th>category_truetag</th>\n",
       "      <th>multitask_seqclf_v0_1_predicted_category</th>\n",
       "      <th>multitask_emb_v0_1_predicted_category</th>\n",
       "      <th>multitask_clm_v0_1_predicted_category</th>\n",
       "      <th>all_match</th>\n",
       "    </tr>\n",
       "  </thead>\n",
       "  <tbody>\n",
       "    <tr>\n",
       "      <th>0</th>\n",
       "      <td>1997 Action Packed #118 Bryan Cox DD NFL Footb...</td>\n",
       "      <td>[hobbies, collectible items]</td>\n",
       "      <td>[toys &amp; hobbies, hobby &amp; collectibles, game co...</td>\n",
       "      <td>[toys &amp; hobbies, hobby &amp; collectibles, game co...</td>\n",
       "      <td>[toys &amp; hobbies, hobby &amp; collectibles, game co...</td>\n",
       "      <td>True</td>\n",
       "    </tr>\n",
       "    <tr>\n",
       "      <th>1</th>\n",
       "      <td>2020 Summer T Shirt Tshirt -Lifting is Cheaper...</td>\n",
       "      <td>[fashion, tops]</td>\n",
       "      <td>[sports, sports clothing, shirts, trainning &amp; ...</td>\n",
       "      <td>[sports, sports clothing, shirts, trainning &amp; ...</td>\n",
       "      <td>[sports, sports clothing, shirts, trainning &amp; ...</td>\n",
       "      <td>True</td>\n",
       "    </tr>\n",
       "    <tr>\n",
       "      <th>2</th>\n",
       "      <td>3PCS Car Seat Cushions, Peel and Stick Pink Fl...</td>\n",
       "      <td>[automotive, parts &amp; accessories]</td>\n",
       "      <td>[automobiles &amp; motorcycles, interior accessori...</td>\n",
       "      <td>[automobiles &amp; motorcycles, interior accessori...</td>\n",
       "      <td>[automobiles &amp; motorcycles, interior accessori...</td>\n",
       "      <td>True</td>\n",
       "    </tr>\n",
       "    <tr>\n",
       "      <th>3</th>\n",
       "      <td>500 Pieces Educational Puzzle Games Toys Cute ...</td>\n",
       "      <td>[games, hobbies, puzzles]</td>\n",
       "      <td>[toys &amp; hobbies, puzzles &amp; games, puzzles]</td>\n",
       "      <td>[toys &amp; hobbies, puzzles &amp; games, puzzles]</td>\n",
       "      <td>[toys &amp; hobbies, puzzles &amp; games, puzzles]</td>\n",
       "      <td>True</td>\n",
       "    </tr>\n",
       "    <tr>\n",
       "      <th>4</th>\n",
       "      <td>Antione Bar Name Necklace Gold and Silver Colo...</td>\n",
       "      <td>[accessories, necklaces]</td>\n",
       "      <td>[jewelry &amp; accessories, customized jewelry, cu...</td>\n",
       "      <td>[jewelry &amp; accessories, customized jewelry, cu...</td>\n",
       "      <td>[jewelry &amp; accessories, customized jewelry, cu...</td>\n",
       "      <td>True</td>\n",
       "    </tr>\n",
       "  </tbody>\n",
       "</table>\n",
       "</div>"
      ],
      "text/plain": [
       "                                               title  \\\n",
       "0  1997 Action Packed #118 Bryan Cox DD NFL Footb...   \n",
       "1  2020 Summer T Shirt Tshirt -Lifting is Cheaper...   \n",
       "2  3PCS Car Seat Cushions, Peel and Stick Pink Fl...   \n",
       "3  500 Pieces Educational Puzzle Games Toys Cute ...   \n",
       "4  Antione Bar Name Necklace Gold and Silver Colo...   \n",
       "\n",
       "                    category_truetag  \\\n",
       "0       [hobbies, collectible items]   \n",
       "1                    [fashion, tops]   \n",
       "2  [automotive, parts & accessories]   \n",
       "3          [games, hobbies, puzzles]   \n",
       "4           [accessories, necklaces]   \n",
       "\n",
       "            multitask_seqclf_v0_1_predicted_category  \\\n",
       "0  [toys & hobbies, hobby & collectibles, game co...   \n",
       "1  [sports, sports clothing, shirts, trainning & ...   \n",
       "2  [automobiles & motorcycles, interior accessori...   \n",
       "3         [toys & hobbies, puzzles & games, puzzles]   \n",
       "4  [jewelry & accessories, customized jewelry, cu...   \n",
       "\n",
       "               multitask_emb_v0_1_predicted_category  \\\n",
       "0  [toys & hobbies, hobby & collectibles, game co...   \n",
       "1  [sports, sports clothing, shirts, trainning & ...   \n",
       "2  [automobiles & motorcycles, interior accessori...   \n",
       "3         [toys & hobbies, puzzles & games, puzzles]   \n",
       "4  [jewelry & accessories, customized jewelry, cu...   \n",
       "\n",
       "               multitask_clm_v0_1_predicted_category  all_match  \n",
       "0  [toys & hobbies, hobby & collectibles, game co...       True  \n",
       "1  [sports, sports clothing, shirts, trainning & ...       True  \n",
       "2  [automobiles & motorcycles, interior accessori...       True  \n",
       "3         [toys & hobbies, puzzles & games, puzzles]       True  \n",
       "4  [jewelry & accessories, customized jewelry, cu...       True  "
      ]
     },
     "execution_count": 5,
     "metadata": {},
     "output_type": "execute_result"
    }
   ],
   "source": [
    "df_allmatch.head()"
   ]
  },
  {
   "cell_type": "code",
   "execution_count": 6,
   "metadata": {},
   "outputs": [
    {
     "data": {
      "text/plain": [
       "[{'title': 'Metallic Sewing Buttons Decorative On Leather Vintage Black For Brass Supplies Craft Snap Fastener D = 21mm 5pcs Silver Color',\n",
       "  'multitask_seqclf_v0_1_predicted_category': ['home & garden',\n",
       "   'arts, crafts & sewing',\n",
       "   'apparel sewing & fabric',\n",
       "   'buttons']},\n",
       " {'title': 'Print-Floral-Patterns Round Mouse Pad 7.9X7.9 In Black 4 Pcs',\n",
       "  'multitask_seqclf_v0_1_predicted_category': ['computer & office',\n",
       "   'mouse & keyboards',\n",
       "   'mouse pads']},\n",
       " {'title': 'GFA Return to Forever * CHICK COREA * Signed Autograph 11x14 Photo PROOF C1',\n",
       "  'multitask_seqclf_v0_1_predicted_category': ['home & garden',\n",
       "   'home decor',\n",
       "   'photo albums']},\n",
       " {'title': 'New Jesus Stainless Steel Round Cross Pendant',\n",
       "  'multitask_seqclf_v0_1_predicted_category': ['home & garden',\n",
       "   'home decor',\n",
       "   'christian decor',\n",
       "   'wall crosses']},\n",
       " {'title': \"- Women's Clothing V-Neck Lace Dress Long Sleeve Sideslit Solid Color Evening Dress Pull Strip Stitching Sexy Two-Piece Ladies Dress Set\",\n",
       "  'multitask_seqclf_v0_1_predicted_category': [\"women's clothing\",\n",
       "   'matching sets',\n",
       "   'dress sets']}]"
      ]
     },
     "execution_count": 6,
     "metadata": {},
     "output_type": "execute_result"
    }
   ],
   "source": [
    "df_allmatch[['title', 'multitask_seqclf_v0_1_predicted_category']].sample(5).to_dict('records')"
   ]
  },
  {
   "cell_type": "code",
   "execution_count": 11,
   "metadata": {},
   "outputs": [
    {
     "data": {
      "text/plain": [
       "31846838"
      ]
     },
     "execution_count": 11,
     "metadata": {},
     "output_type": "execute_result"
    }
   ],
   "source": [
    "len(df_allmatch)"
   ]
  },
  {
   "cell_type": "code",
   "execution_count": 12,
   "metadata": {},
   "outputs": [],
   "source": [
    "df_allmatch = df_allmatch[(df_allmatch.category_truetag.apply(lambda x: len(x) > 0)) & \\\n",
    "    (df_allmatch.multitask_seqclf_v0_1_predicted_category.apply(lambda x: len(x) > 0))]"
   ]
  },
  {
   "cell_type": "code",
   "execution_count": 13,
   "metadata": {},
   "outputs": [
    {
     "data": {
      "text/plain": [
       "31846838"
      ]
     },
     "execution_count": 13,
     "metadata": {},
     "output_type": "execute_result"
    }
   ],
   "source": [
    "len(df_allmatch)"
   ]
  },
  {
   "cell_type": "code",
   "execution_count": 14,
   "metadata": {},
   "outputs": [],
   "source": [
    "df_allmatch = df_allmatch.sample(frac=1.0, random_state=42)"
   ]
  },
  {
   "cell_type": "code",
   "execution_count": 15,
   "metadata": {},
   "outputs": [],
   "source": [
    "import numpy as np"
   ]
  },
  {
   "cell_type": "code",
   "execution_count": 16,
   "metadata": {},
   "outputs": [],
   "source": [
    "valtest_size = 10000"
   ]
  },
  {
   "cell_type": "code",
   "execution_count": 17,
   "metadata": {},
   "outputs": [],
   "source": [
    "df_allmatch_train = df_allmatch.head(len(df_allmatch) - valtest_size)\n",
    "df_allmatch_valtest = df_allmatch.tail(valtest_size)\n",
    "df_allmatch_val, df_allmatch_test = np.array_split(df_allmatch_valtest, 2)"
   ]
  },
  {
   "cell_type": "code",
   "execution_count": 22,
   "metadata": {},
   "outputs": [
    {
     "data": {
      "text/plain": [
       "(31846838, 31846838)"
      ]
     },
     "execution_count": 22,
     "metadata": {},
     "output_type": "execute_result"
    }
   ],
   "source": [
    "len(df_allmatch_train) + len(df_allmatch_val) + len(df_allmatch_test), len(df_allmatch)"
   ]
  },
  {
   "cell_type": "code",
   "execution_count": 23,
   "metadata": {},
   "outputs": [
    {
     "data": {
      "text/plain": [
       "31836838"
      ]
     },
     "execution_count": 23,
     "metadata": {},
     "output_type": "execute_result"
    }
   ],
   "source": [
    "len(df_allmatch_train)"
   ]
  },
  {
   "cell_type": "code",
   "execution_count": 20,
   "metadata": {},
   "outputs": [],
   "source": [
    "df_allmatch_train_chunk_1, df_allmatch_train_chunk_2, df_allmatch_train_chunk_3 = np.array_split(df_allmatch_train, 3)"
   ]
  },
  {
   "cell_type": "code",
   "execution_count": 24,
   "metadata": {},
   "outputs": [
    {
     "data": {
      "text/plain": [
       "10612280"
      ]
     },
     "execution_count": 24,
     "metadata": {},
     "output_type": "execute_result"
    }
   ],
   "source": [
    "len(df_allmatch_train_chunk_1)"
   ]
  },
  {
   "cell_type": "code",
   "execution_count": 25,
   "metadata": {},
   "outputs": [],
   "source": [
    "df_allmatch_train_chunk_1[['title', 'category_truetag', 'multitask_seqclf_v0_1_predicted_category']].to_json(\n",
    "    'wish_tahoe_title_dedup_multitask_v0.1_preds_allmatch_Train_Chunk_1.json', lines=True, orient='records')\n",
    "df_allmatch_train_chunk_2[['title', 'category_truetag', 'multitask_seqclf_v0_1_predicted_category']].to_json(\n",
    "    'wish_tahoe_title_dedup_multitask_v0.1_preds_allmatch_Train_Chunk_2.json', lines=True, orient='records')\n",
    "df_allmatch_train_chunk_3[['title', 'category_truetag', 'multitask_seqclf_v0_1_predicted_category']].to_json(\n",
    "    'wish_tahoe_title_dedup_multitask_v0.1_preds_allmatch_Train_Chunk_3.json', lines=True, orient='records')\n",
    "df_allmatch_val[['title', 'category_truetag', 'multitask_seqclf_v0_1_predicted_category']].to_json(\n",
    "    'wish_tahoe_title_dedup_multitask_v0.1_preds_allmatch_Val.json', lines=True, orient='records')\n",
    "df_allmatch_test[['title', 'category_truetag', 'multitask_seqclf_v0_1_predicted_category']].to_json(\n",
    "    'wish_tahoe_title_dedup_multitask_v0.1_preds_allmatch_Test.json', lines=True, orient='records')"
   ]
  },
  {
   "cell_type": "code",
   "execution_count": 28,
   "metadata": {},
   "outputs": [
    {
     "name": "stdout",
     "output_type": "stream",
     "text": [
      "1.4M\twish_tahoe_title_dedup_multitask_v0.1_preds_allmatch_Test.json\n",
      "2.8G\twish_tahoe_title_dedup_multitask_v0.1_preds_allmatch_Train_Chunk_1.json\n",
      "2.8G\twish_tahoe_title_dedup_multitask_v0.1_preds_allmatch_Train_Chunk_2.json\n",
      "2.8G\twish_tahoe_title_dedup_multitask_v0.1_preds_allmatch_Train_Chunk_3.json\n",
      "1.4M\twish_tahoe_title_dedup_multitask_v0.1_preds_allmatch_Val.json\n"
     ]
    }
   ],
   "source": [
    "!du -sh *.json"
   ]
  },
  {
   "cell_type": "code",
   "execution_count": 29,
   "metadata": {},
   "outputs": [
    {
     "name": "stdout",
     "output_type": "stream",
     "text": [
      "{\n",
      "  \"title\": \"Diy Forest Mushroom Tales Panel Waterfall Koi Fish Jungle Green Meadow Elf Night View Case Ipad Air 4 Leather Case For Case Ipad 2020 / Air 4 / 2020 Pro 11/12.9 In Ipad 2020 / Air 4 / 2020 Pro 11/12.9 In\",\n",
      "  \"category_truetag\": [\n",
      "    \"gadgets\",\n",
      "    \"ipad cases & covers\"\n",
      "  ],\n",
      "  \"multitask_seqclf_v0_1_predicted_category\": [\n",
      "    \"computer & office\",\n",
      "    \"tablet accessories\",\n",
      "    \"tablets & e-books case\"\n",
      "  ]\n",
      "}\n"
     ]
    }
   ],
   "source": [
    "!head -n 1 wish_tahoe_title_dedup_multitask_v0.1_preds_allmatch_Train_Chunk_1.json | jq ."
   ]
  },
  {
   "cell_type": "code",
   "execution_count": null,
   "metadata": {},
   "outputs": [],
   "source": []
  }
 ],
 "metadata": {
  "kernelspec": {
   "display_name": "Python 3.8.13 ('py38')",
   "language": "python",
   "name": "python3"
  },
  "language_info": {
   "codemirror_mode": {
    "name": "ipython",
    "version": 3
   },
   "file_extension": ".py",
   "mimetype": "text/x-python",
   "name": "python",
   "nbconvert_exporter": "python",
   "pygments_lexer": "ipython3",
   "version": "3.8.13"
  },
  "orig_nbformat": 4,
  "vscode": {
   "interpreter": {
    "hash": "3ea19d11efa7602c1f12500925a974ed4f31fcf847bd6f694bd5180da2602ded"
   }
  }
 },
 "nbformat": 4,
 "nbformat_minor": 2
}
