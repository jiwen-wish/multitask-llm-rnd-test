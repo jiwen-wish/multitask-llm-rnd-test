{
 "cells": [
  {
   "cell_type": "code",
   "execution_count": 2,
   "metadata": {},
   "outputs": [
    {
     "name": "stdout",
     "output_type": "stream",
     "text": [
      "[{\"label\":\"NEGATIVE\",\"score\":0.960575520992279}][{\"label\":\"NEGATIVE\",\"score\":0.960575520992279}][{\"label\":\"NEGATIVE\",\"score\":0.960575520992279}][{\"label\":\"NEGATIVE\",\"score\":0.960575520992279}][{\"label\":\"NEGATIVE\",\"score\":0.960575520992279}][{\"label\":\"NEGATIVE\",\"score\":0.960575520992279}][{\"label\":\"NEGATIVE\",\"score\":0.960575520992279}][{\"label\":\"NEGATIVE\",\"score\":0.960575520992279}]475 ms ± 57.6 ms per loop (mean ± std. dev. of 7 runs, 1 loop each)\n"
     ]
    }
   ],
   "source": [
    "%%timeit\n",
    "!curl -X POST -d \"test\" http://coeus-gpu-multitask-ml-dev.service.consul:8081"
   ]
  },
  {
   "cell_type": "code",
   "execution_count": 3,
   "metadata": {},
   "outputs": [
    {
     "name": "stdout",
     "output_type": "stream",
     "text": [
      "[{\"label\":\"NEGATIVE\",\"score\":0.960575520992279}]CPU times: user 7.22 ms, sys: 5.7 ms, total: 12.9 ms\n",
      "Wall time: 568 ms\n"
     ]
    }
   ],
   "source": [
    "%%time\n",
    "!curl -X POST -d \"test\" http://coeus-gpu-multitask-ml-dev.service.consul:8081"
   ]
  },
  {
   "cell_type": "code",
   "execution_count": 14,
   "metadata": {},
   "outputs": [],
   "source": [
    "import os \n",
    "import time"
   ]
  },
  {
   "cell_type": "code",
   "execution_count": 15,
   "metadata": {},
   "outputs": [
    {
     "name": "stderr",
     "output_type": "stream",
     "text": [
      "  % Total    % Received % Xferd  Average Speed   Time    Time     Time  Current\n",
      "                                 Dload  Upload   Total   Spent    Left  Speed\n",
      "  0     0    0     0    0     0      0      0 --:--:-- --:--:-- --:--:--     0"
     ]
    },
    {
     "name": "stdout",
     "output_type": "stream",
     "text": [
      "[{\"label\":\"NEGATIVE\",\"score\":0.960575520992279}]"
     ]
    },
    {
     "name": "stderr",
     "output_type": "stream",
     "text": [
      "100    52  100    48  100     4    168     14 --:--:-- --:--:-- --:--:--   182\n"
     ]
    }
   ],
   "source": [
    "a = time.time()\n",
    "os.system(\"\"\"curl -X POST -d \"test\" http://coeus-gpu-multitask-ml-dev.service.consul:8081\"\"\")\n",
    "b = time.time()"
   ]
  },
  {
   "cell_type": "code",
   "execution_count": 16,
   "metadata": {},
   "outputs": [
    {
     "data": {
      "text/plain": [
       "0.3027534484863281"
      ]
     },
     "execution_count": 16,
     "metadata": {},
     "output_type": "execute_result"
    }
   ],
   "source": [
    "b - a"
   ]
  },
  {
   "cell_type": "code",
   "execution_count": 17,
   "metadata": {},
   "outputs": [
    {
     "name": "stdout",
     "output_type": "stream",
     "text": [
      "{\"label\":\"NEGATIVE\",\"score\":0.960575520992279}"
     ]
    },
    {
     "name": "stderr",
     "output_type": "stream",
     "text": [
      "  % Total    % Received % Xferd  Average Speed   Time    Time     Time  Current\n",
      "                                 Dload  Upload   Total   Spent    Left  Speed\n",
      "100    50  100    46  100     4   1314    114 --:--:-- --:--:-- --:--:--  1428\n"
     ]
    }
   ],
   "source": [
    "a = time.time()\n",
    "os.system(\"\"\"curl -X POST -d \"test\" http://localhost:8000\"\"\")\n",
    "b = time.time()"
   ]
  },
  {
   "cell_type": "code",
   "execution_count": 18,
   "metadata": {},
   "outputs": [
    {
     "data": {
      "text/plain": [
       "0.053211212158203125"
      ]
     },
     "execution_count": 18,
     "metadata": {},
     "output_type": "execute_result"
    }
   ],
   "source": [
    "b - a"
   ]
  },
  {
   "cell_type": "code",
   "execution_count": 19,
   "metadata": {},
   "outputs": [
    {
     "data": {
      "text/plain": [
       "250.0"
      ]
     },
     "execution_count": 19,
     "metadata": {},
     "output_type": "execute_result"
    }
   ],
   "source": [
    "(.3 - .05) * 1000"
   ]
  },
  {
   "cell_type": "code",
   "execution_count": null,
   "metadata": {},
   "outputs": [],
   "source": []
  }
 ],
 "metadata": {
  "kernelspec": {
   "display_name": "py38",
   "language": "python",
   "name": "python3"
  },
  "language_info": {
   "codemirror_mode": {
    "name": "ipython",
    "version": 3
   },
   "file_extension": ".py",
   "mimetype": "text/x-python",
   "name": "python",
   "nbconvert_exporter": "python",
   "pygments_lexer": "ipython3",
   "version": "3.8.13"
  },
  "orig_nbformat": 4,
  "vscode": {
   "interpreter": {
    "hash": "3ea19d11efa7602c1f12500925a974ed4f31fcf847bd6f694bd5180da2602ded"
   }
  }
 },
 "nbformat": 4,
 "nbformat_minor": 2
}
