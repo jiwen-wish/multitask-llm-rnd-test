{
 "cells": [
  {
   "cell_type": "code",
   "execution_count": 1,
   "metadata": {},
   "outputs": [],
   "source": [
    "# python main_inference_multimodal.py \\\n",
    "#         --model=LLM_Inference_Multimodal \\\n",
    "#         --model.llm_type=\"seqclf\" \\\n",
    "#         --model.ckpt_path=\"models/multitask_multimodal_multilingual/version_11/epoch=3-step=776.ckpt\" \\\n",
    "#         --model.config_path=\"models/multitask_multimodal_multilingual/version_11/config.yaml\" \\\n",
    "#         --model.task=\"seqclf_singlemodal_wishquery2tax\" \\\n",
    "#         --model.output_dir=\"models/multitask_multimodal_multilingual/version_11\" \\\n",
    "#         --model.write_interval=\"batch\" \\\n",
    "#         --data=JSONListData \\\n",
    "#         --data.llm_type=\"seqclf\" \\\n",
    "#         --data.label_map_file=\"datasets/taxonomy/wish_v1.2.1_newtax_allpaths_withunknown.txt\" \\\n",
    "#         --data.label_type=\"multilabel_taxonomy\" \\\n",
    "#         --data.data_source_yaml_path=\"datasets/multimodal_multitask/wish_qcv2_tahoe_queries_for_debug.yaml\" \\\n",
    "#         --data.input_dict=\"{'template': '{query}', 'task_prefix': 'Classify query: '}\" \\\n",
    "#         --data.output_dict=\"{'template': '{query}'}\" \\\n",
    "#         --data.data_source_type=\"dvc\" \\\n",
    "#         --data.model_name=\"microsoft/Multilingual-MiniLM-L12-H384\" \\\n",
    "#         --data.batch_size=50 \\\n",
    "#         --data.max_length=50 \\\n",
    "#         --data.num_workers=0 \\\n",
    "#         --data.predict_on_test=false \\\n",
    "#         --data.overwrite_cache=true \\\n",
    "#         --data.force_download_hfdata=true \\\n",
    "#         --trainer.logger=false \\\n",
    "#         --trainer.enable_checkpointing=false \\\n",
    "#         --trainer.accelerator gpu \\\n",
    "#         --trainer.strategy ddp"
   ]
  },
  {
   "cell_type": "code",
   "execution_count": 2,
   "metadata": {},
   "outputs": [],
   "source": [
    "import pandas as pd\n",
    "import dvc.api\n",
    "from tqdm import tqdm"
   ]
  },
  {
   "cell_type": "code",
   "execution_count": 3,
   "metadata": {},
   "outputs": [],
   "source": [
    "df_predicts = pd.read_json(\n",
    "    '/workspaces/multitask-llm-rnd/modelling/models/multitask_multimodal_multilingual/version_11/seqclf-epoch=3-step=776--wish_qcv2_tahoe_queries_for_debug--test.json', \n",
    "lines=True, chunksize=1000)"
   ]
  },
  {
   "cell_type": "code",
   "execution_count": 4,
   "metadata": {},
   "outputs": [
    {
     "name": "stderr",
     "output_type": "stream",
     "text": [
      "6628it [2:35:58,  1.41s/it]\n"
     ]
    }
   ],
   "source": [
    "dfs = []\n",
    "for df_predict in tqdm(df_predicts):\n",
    "    dfs.append(df_predict[['preds', 'batch_indices']])"
   ]
  },
  {
   "cell_type": "code",
   "execution_count": 5,
   "metadata": {},
   "outputs": [],
   "source": [
    "df_cat = pd.concat(dfs)"
   ]
  },
  {
   "cell_type": "code",
   "execution_count": 6,
   "metadata": {},
   "outputs": [],
   "source": [
    "df_cat = df_cat.sort_values('batch_indices')"
   ]
  },
  {
   "cell_type": "code",
   "execution_count": 7,
   "metadata": {},
   "outputs": [],
   "source": [
    "df_cat.to_json('/workspaces/multitask-llm-rnd/modelling/models/multitask_multimodal_multilingual/version_11/seqclf-epoch=3-step=776--wish_qcv2_tahoe_queries_for_debug--test--nologits.json', \n",
    "               lines=True, orient='records')"
   ]
  },
  {
   "cell_type": "code",
   "execution_count": 8,
   "metadata": {},
   "outputs": [
    {
     "data": {
      "text/plain": [
       "6627925"
      ]
     },
     "execution_count": 8,
     "metadata": {},
     "output_type": "execute_result"
    }
   ],
   "source": [
    "len(df_cat)"
   ]
  },
  {
   "cell_type": "code",
   "execution_count": 9,
   "metadata": {},
   "outputs": [],
   "source": [
    "df_data = pd.read_json(dvc.api.get_url( \n",
    "    'datasets/notebooks/quali_analysis_queryv0v2/query_classify_v2_20230311.json',\n",
    "    repo='git@github.com:ContextLogic/multitask-llm-rnd.git'\n",
    "), lines=True)"
   ]
  },
  {
   "cell_type": "code",
   "execution_count": 14,
   "metadata": {},
   "outputs": [
    {
     "data": {
      "text/plain": [
       "6627925"
      ]
     },
     "execution_count": 14,
     "metadata": {},
     "output_type": "execute_result"
    }
   ],
   "source": [
    "len(df_data)"
   ]
  },
  {
   "cell_type": "code",
   "execution_count": 15,
   "metadata": {},
   "outputs": [],
   "source": [
    "df_data['batch_indices'] = list(range(len(df_data)))"
   ]
  },
  {
   "cell_type": "code",
   "execution_count": 16,
   "metadata": {},
   "outputs": [],
   "source": [
    "df_merge = df_data.merge(df_cat[['preds', 'batch_indices']], on='batch_indices', how='inner')"
   ]
  },
  {
   "cell_type": "code",
   "execution_count": 17,
   "metadata": {},
   "outputs": [
    {
     "data": {
      "text/plain": [
       "6627925"
      ]
     },
     "execution_count": 17,
     "metadata": {},
     "output_type": "execute_result"
    }
   ],
   "source": [
    "len(df_merge)"
   ]
  },
  {
   "cell_type": "code",
   "execution_count": 19,
   "metadata": {},
   "outputs": [
    {
     "data": {
      "text/plain": [
       "[{'query': 'conector para chuveiro',\n",
       "  'categories': '3431,3429,3433',\n",
       "  'category_names': 'Shower Faucets,Shower Equipment,Shower Mounting Brackets',\n",
       "  'weights': '0.5499190092086791,0.28613626956939703,0.056671749800443004',\n",
       "  'batch_indices': 1600875,\n",
       "  'preds': [['home improvement > bathroom fixtures > shower equipment > shower heads',\n",
       "    0.211508110165596],\n",
       "   ['home improvement > bathroom fixtures > shower equipment > shower faucets',\n",
       "    0.07878024131059601],\n",
       "   ['tools > machine tools & accessories > chuck', 0.030217060819268],\n",
       "   ['home improvement > bathroom fixtures > bathroom sinks, faucets & accessories > basin faucets',\n",
       "    0.020751867443323],\n",
       "   ['mother & kids > feeding > nipple & accessories > pacifiers leashes & cases',\n",
       "    0.018634542822837],\n",
       "   ['mother & kids > feeding > nipple & accessories > pacifier',\n",
       "    0.015546122565865001],\n",
       "   ['home improvement > electrical equipments & supplies > electrical sockets & accessories > electrical sockets',\n",
       "    0.010784139856696],\n",
       "   ['home improvement > bathroom fixtures > shower equipment',\n",
       "    0.007970749400556],\n",
       "   ['mother & kids > feeding > nipple & accessories > nipple',\n",
       "    0.0074643595144150005],\n",
       "   ['computer & office > tablets', 0.0056986617855720005]]}]"
      ]
     },
     "execution_count": 19,
     "metadata": {},
     "output_type": "execute_result"
    }
   ],
   "source": [
    "df_merge.sample(1).to_dict('records')"
   ]
  },
  {
   "cell_type": "code",
   "execution_count": 55,
   "metadata": {},
   "outputs": [],
   "source": [
    "df_merge = df_merge.rename(columns={ \n",
    "    'categories': 'categories_v2',\n",
    "    'category_names': 'category_names_v2',\n",
    "    'weights': 'weights_v2',\n",
    "    'preds': 'preds_v3'\n",
    "})"
   ]
  },
  {
   "cell_type": "code",
   "execution_count": 21,
   "metadata": {},
   "outputs": [],
   "source": [
    "del df_merge['batch_indices']"
   ]
  },
  {
   "cell_type": "code",
   "execution_count": 58,
   "metadata": {},
   "outputs": [],
   "source": [
    "df_merge.to_json('tahoe_20230311_v2v3_res.json', lines=True, orient='records')"
   ]
  },
  {
   "cell_type": "code",
   "execution_count": null,
   "metadata": {},
   "outputs": [],
   "source": [
    "assert len(set(df_merge['query'])) == len(df_merge)"
   ]
  },
  {
   "cell_type": "code",
   "execution_count": 33,
   "metadata": {},
   "outputs": [],
   "source": [
    "x = \"\"\"winner_gmv\twinner_relevance\n",
    "-1\t2\n",
    "2\t2\n",
    "-1\t2\n",
    "-1\t-1\n",
    "-1\t-1\n",
    "0\t-1\n",
    "-1\t2\n",
    "-1\t-1\n",
    "-1\t-1\n",
    "0\t0\n",
    "0\t0\n",
    "2\t2\n",
    "-1\t-1\n",
    "-1\t-1\n",
    "-1\t-1\n",
    "-1\t-1\n",
    "-1\t-1\n",
    "0\t0\n",
    "-1\t-1\n",
    "-1\t-1\n",
    "2\t2\n",
    "2\t2\n",
    "0\t0\n",
    "0\t0\n",
    "0\t0\n",
    "2\t2\n",
    "2\t2\n",
    "2\t2\n",
    "0\t0\n",
    "2\t2\n",
    "2\t2\n",
    "-1\t-1\n",
    "2\t2\n",
    "0\t0\n",
    "2\t2\n",
    "2\t2\n",
    "2\t2\n",
    "-1\t-1\n",
    "-1\t-1\n",
    "-1\t-1\n",
    "0\t2\n",
    "2\t2\n",
    "0\t0\n",
    "-1\t-1\n",
    "0\t0\n",
    "0\t0\n",
    "2\t2\n",
    "-1\t-1\n",
    "0\t0\n",
    "0\t0\n",
    "2\t2\n",
    "2\t2\n",
    "0\t0\n",
    "2\t2\n",
    "0\t0\n",
    "2\t2\n",
    "0\t0\n",
    "0\t2\n",
    "-1\t-1\n",
    "-1\t-1\n",
    "2\t2\n",
    "2\t2\n",
    "2\t2\n",
    "2\t2\n",
    "-1\t-1\n",
    "-1\t-1\n",
    "2\t2\n",
    "-1\t-1\n",
    "0\t0\n",
    "2\t2\n",
    "-1\t-1\n",
    "2\t2\n",
    "-1\t-1\n",
    "-1\t-1\n",
    "0\t0\n",
    "2\t2\n",
    "-1\t-1\n",
    "2\t2\n",
    "-1\t-1\n",
    "0\t0\n",
    "2\t2\n",
    "-1\t-1\n",
    "-1\t-1\n",
    "2\t2\n",
    "2\t-1\n",
    "2\t2\n",
    "0\t0\n",
    "-1\t-1\n",
    "2\t-1\n",
    "0\t0\n",
    "-1\t-1\n",
    "-1\t-1\n",
    "-1\t-1\n",
    "-1\t-1\n",
    "2\t2\n",
    "2\t2\n",
    "2\t2\n",
    "0\t0\n",
    "2\t2\n",
    "2\t2\n",
    "2\t2\n",
    "-1\t-1\n",
    "-1\t-1\n",
    "2\t2\n",
    "-1\t-1\n",
    "-1\t-1\n",
    "-1\t-1\n",
    "-1\t-1\n",
    "-1\t-1\n",
    "0\t0\n",
    "0\t2\n",
    "2\t2\n",
    "2\t2\n",
    "2\t2\n",
    "2\t2\n",
    "-1\t-1\n",
    "-1\t-1\n",
    "-1\t-1\n",
    "-1\t-1\n",
    "2\t2\n",
    "0\t0\n",
    "-1\t-1\n",
    "-1\t-1\n",
    "-1\t-1\n",
    "-1\t-1\n",
    "-1\t-1\n",
    "0\t0\n",
    "-1\t-1\n",
    "0\t0\n",
    "-1\t-1\n",
    "0\t0\n",
    "-1\t-1\n",
    "0\t0\n",
    "0\t0\n",
    "-1\t-1\n",
    "-1\t-1\n",
    "-1\t-1\n",
    "-1\t-1\n",
    "-1\t-1\n",
    "-1\t-1\n",
    "-1\t-1\n",
    "-1\t-1\n",
    "-1\t-1\n",
    "-1\t-1\n",
    "2\t2\n",
    "-1\t-1\n",
    "0\t0\n",
    "-1\t-1\n",
    "0\t-1\n",
    "0\t0\n",
    "0\t0\n",
    "-1\t-1\n",
    "-1\t-1\n",
    "2\t2\n",
    "-1\t-1\n",
    "2\t2\n",
    "-1\t-1\n",
    "0\t2\n",
    "2\t2\n",
    "-1\t-1\n",
    "-1\t-1\n",
    "2\t2\n",
    "-1\t-1\n",
    "-1\t-1\n",
    "-1\t-1\n",
    "2\t2\n",
    "2\t2\n",
    "0\t0\n",
    "-1\t-1\n",
    "-1\t-1\n",
    "2\t2\n",
    "-1\t-1\n",
    "-1\t-1\n",
    "-1\t-1\n",
    "0\t0\n",
    "0\t0\n",
    "-1\t-1\n",
    "2\t2\n",
    "0\t0\n",
    "0\t0\n",
    "-1\t-1\n",
    "0\t0\n",
    "-1\t-1\n",
    "-1\t-1\n",
    "-1\t-1\n",
    "0\t2\n",
    "0\t0\n",
    "-1\t-1\n",
    "-1\t-1\n",
    "-1\t-1\n",
    "2\t2\n",
    "2\t2\n",
    "-1\t-1\n",
    "-1\t-1\n",
    "2\t2\n",
    "2\t2\n",
    "0\t0\n",
    "0\t0\n",
    "-1\t-1\n",
    "-1\t-1\n",
    "2\t2\n",
    "0\t0\n",
    "-1\t-1\n",
    "-1\t-1\n",
    "-1\t-1\n",
    "2\t2\n",
    "-1\t-1\n",
    "2\t2\n",
    "-1\t-1\n",
    "-1\t-1\n",
    "2\t2\n",
    "2\t2\n",
    "2\t2\n",
    "0\t0\n",
    "-1\t-1\n",
    "-1\t-1\n",
    "-1\t-1\n",
    "-1\t-1\n",
    "2\t2\n",
    "-1\t-1\n",
    "2\t2\n",
    "2\t2\n",
    "-1\t-1\n",
    "2\t0\n",
    "2\t2\n",
    "-1\t-1\n",
    "-1\t-1\n",
    "2\t2\n",
    "2\t2\n",
    "-1\t-1\n",
    "2\t2\n",
    "0\t0\n",
    "0\t0\n",
    "-1\t-1\n",
    "0\t2\n",
    "0\t0\n",
    "-1\t-1\n",
    "0\t0\n",
    "0\t0\n",
    "-1\t-1\n",
    "-1\t-1\n",
    "2\t2\n",
    "-1\t-1\n",
    "-1\t-1\n",
    "-1\t-1\n",
    "-1\t-1\n",
    "-1\t-1\n",
    "-1\t-1\n",
    "0\t0\n",
    "2\t2\n",
    "-1\t-1\n",
    "-1\t-1\n",
    "-1\t-1\n",
    "-1\t-1\n",
    "2\t2\n",
    "-1\t-1\n",
    "-1\t-1\n",
    "-1\t-1\n",
    "0\t0\n",
    "-1\t-1\n",
    "-1\t-1\n",
    "0\t0\n",
    "2\t2\n",
    "-1\t-1\n",
    "-1\t-1\n",
    "2\t2\n",
    "0\t-1\n",
    "0\t0\n",
    "-1\t-1\n",
    "0\t0\n",
    "\"\"\""
   ]
  },
  {
   "cell_type": "code",
   "execution_count": 34,
   "metadata": {},
   "outputs": [],
   "source": [
    "df_x = pd.DataFrame([i.split('\\t') for i in x.split('\\n')])"
   ]
  },
  {
   "cell_type": "code",
   "execution_count": 35,
   "metadata": {},
   "outputs": [],
   "source": [
    "df_x.columns = ['winner_gmv', 'winner_relevance']"
   ]
  },
  {
   "cell_type": "code",
   "execution_count": 36,
   "metadata": {},
   "outputs": [],
   "source": [
    "df_x = df_x.loc[1:]"
   ]
  },
  {
   "cell_type": "code",
   "execution_count": 37,
   "metadata": {},
   "outputs": [],
   "source": [
    "df_x = df_x[df_x['winner_gmv'].apply(lambda x: len(x) > 0)]"
   ]
  },
  {
   "cell_type": "code",
   "execution_count": 38,
   "metadata": {},
   "outputs": [
    {
     "data": {
      "text/plain": [
       "270"
      ]
     },
     "execution_count": 38,
     "metadata": {},
     "output_type": "execute_result"
    }
   ],
   "source": [
    "len(df_x)"
   ]
  },
  {
   "cell_type": "code",
   "execution_count": 39,
   "metadata": {},
   "outputs": [
    {
     "data": {
      "text/plain": [
       "<AxesSubplot: ylabel='winner_gmv'>"
      ]
     },
     "execution_count": 39,
     "metadata": {},
     "output_type": "execute_result"
    },
    {
     "data": {
      "image/png": "[encoded data removed]",
      "text/plain": [
       "<Figure size 640x480 with 1 Axes>"
      ]
     },
     "metadata": {},
     "output_type": "display_data"
    }
   ],
   "source": [
    "df_x.winner_gmv.value_counts().plot.pie(autopct='%.2f')"
   ]
  },
  {
   "cell_type": "code",
   "execution_count": 41,
   "metadata": {},
   "outputs": [
    {
     "data": {
      "text/plain": [
       "<AxesSubplot: ylabel='winner_relevance'>"
      ]
     },
     "execution_count": 41,
     "metadata": {},
     "output_type": "execute_result"
    },
    {
     "data": {
      "image/png": "[encoded data removed]",
      "text/plain": [
       "<Figure size 640x480 with 1 Axes>"
      ]
     },
     "metadata": {},
     "output_type": "display_data"
    }
   ],
   "source": [
    "df_x.winner_relevance.value_counts().plot.pie(autopct='%.2f')"
   ]
  },
  {
   "cell_type": "code",
   "execution_count": 42,
   "metadata": {},
   "outputs": [],
   "source": [
    "y = \"\"\"comment\n",
    "\n",
    "\n",
    "\n",
    "\n",
    "\n",
    "\n",
    "\n",
    "\n",
    "\n",
    "\n",
    "\n",
    "\n",
    "\n",
    "\n",
    "\n",
    "\n",
    "ambiguous\n",
    "\n",
    "ambiguous\n",
    "\n",
    "\n",
    "\n",
    "2 clearly wrong\n",
    "i don't know if wish shoppers buy a lot of fabrics for arts and crafts\n",
    "\n",
    "0 clearly wrong\n",
    "\n",
    "0 clearly wrong\n",
    "2 clearly wrong\n",
    "0 clearly wrong\n",
    "0 clearly wrong\n",
    "ambiguous\n",
    "\n",
    "\n",
    "0 clearly wrong\n",
    "0 clearly wrong\n",
    "little ambiguos, but 2 is better\n",
    "both are good\n",
    "\n",
    "both are good\n",
    "\n",
    "\n",
    "\n",
    "\n",
    "\n",
    "2 clearly wrong\n",
    "\n",
    "\n",
    "2 clearly wrong\n",
    "2 clearly wrong\n",
    "\n",
    "\n",
    "\n",
    "0 clearly wrong\n",
    "2 clearly wrong\n",
    "\n",
    "\n",
    "\n",
    "\n",
    "\n",
    "\n",
    "\n",
    "\n",
    "0 clearly wrong\n",
    "\n",
    "\n",
    "\n",
    "\n",
    "2 clearly wrong\n",
    "\n",
    "\n",
    "\n",
    "\n",
    "\n",
    "\n",
    "\n",
    "\n",
    "\n",
    "\n",
    "\n",
    "\n",
    "\n",
    "need to create better categories for this query\n",
    "\n",
    "\n",
    "0 clearly wrong\n",
    "\n",
    "\n",
    "both are relevant\n",
    "2 clearly wrong\n",
    "\n",
    "\n",
    "\n",
    "\n",
    "\n",
    "0 clearly wrong\n",
    "\n",
    "2 clearly wrong\n",
    "\n",
    "\n",
    "\n",
    "\n",
    "\n",
    "\n",
    "don't think we can support this query\n",
    "\n",
    "both are good\n",
    "\n",
    "\n",
    "\n",
    "\n",
    "\n",
    "\n",
    "\n",
    "\n",
    "\n",
    "\n",
    "\n",
    "\n",
    "0 clearly wrong\n",
    "2 clearly wrong\n",
    "\n",
    "\n",
    "\n",
    "\n",
    "\n",
    "2 clearly wrong\n",
    "both equally good\n",
    "2 clearly wrong\n",
    "\n",
    "\n",
    "both make sense\n",
    "\n",
    "2 clearly wrong\n",
    "\n",
    "\n",
    "both are good\n",
    "both are good\n",
    "both are good\n",
    "ambiguous\n",
    "\n",
    "\n",
    "we need better categories for food if we plan to sell this\n",
    "\n",
    "\n",
    "both are plausible\n",
    "\n",
    "\n",
    "both are plausible\n",
    "\n",
    "\n",
    "\n",
    "\n",
    "0 clearly wrong\n",
    "\n",
    "\n",
    "\n",
    "\n",
    "\n",
    "\n",
    "\n",
    "\n",
    "both are relevant\n",
    "ambiguous\n",
    "\n",
    "\n",
    "\n",
    "\n",
    "ambiguous\n",
    "\n",
    "\n",
    "\n",
    "\n",
    "\n",
    "\n",
    "\n",
    "\n",
    "0 clearly wrong\n",
    "\n",
    "\n",
    "\n",
    "\n",
    "both are good\n",
    "\n",
    "not looking for anything specific\n",
    "\n",
    "\n",
    "\n",
    "\n",
    "\n",
    "\n",
    "\n",
    "\n",
    "\n",
    "\n",
    "\n",
    "\n",
    "\n",
    "\n",
    "\n",
    "\n",
    "\n",
    "both are plausible\n",
    "\n",
    "both are plausible\n",
    "\n",
    "\n",
    "\n",
    "\n",
    "\n",
    "\n",
    "\n",
    "\n",
    "\n",
    "\n",
    "\n",
    "\n",
    "\n",
    "\n",
    "\n",
    "\n",
    "\n",
    "\n",
    "\n",
    "\n",
    "both are good\n",
    "\n",
    "\n",
    "\n",
    "both are good\n",
    "\n",
    "\n",
    "\n",
    "\n",
    "\n",
    "\n",
    "both are good\n",
    "2 clearly wrong\n",
    "\n",
    "both are good\n",
    "not sure what the intent is\n",
    "\n",
    "\n",
    "\n",
    "intent could be anything\n",
    "\n",
    "\n",
    "\n",
    "\n",
    "0 clearly wrong\n",
    "\n",
    "both are good\n",
    "\n",
    "\n",
    "\n",
    "\n",
    "ambiguous\n",
    "ambiguous\n",
    "\n",
    "\n",
    "\n",
    "\n",
    "\n",
    "\n",
    "both are good\n",
    "\n",
    "both are good\n",
    "\n",
    "\n",
    "0 is more general, 2 is more limited to baby and toddlers\"\"\""
   ]
  },
  {
   "cell_type": "code",
   "execution_count": 43,
   "metadata": {},
   "outputs": [],
   "source": [
    "df_y = pd.DataFrame(y.split('\\n'))"
   ]
  },
  {
   "cell_type": "code",
   "execution_count": 45,
   "metadata": {},
   "outputs": [],
   "source": [
    "df_y.columns = ['comment']"
   ]
  },
  {
   "cell_type": "code",
   "execution_count": 46,
   "metadata": {},
   "outputs": [],
   "source": [
    "df_y = df_y.loc[1:]"
   ]
  },
  {
   "cell_type": "code",
   "execution_count": 49,
   "metadata": {},
   "outputs": [],
   "source": [
    "df_y['comment'] = df_y['comment'].apply(lambda x: 'Null' if len(x) == 0 else x)"
   ]
  },
  {
   "cell_type": "code",
   "execution_count": 51,
   "metadata": {},
   "outputs": [
    {
     "data": {
      "text/plain": [
       "<AxesSubplot: ylabel='comment'>"
      ]
     },
     "execution_count": 51,
     "metadata": {},
     "output_type": "execute_result"
    },
    {
     "data": {
      "image/png": "[encoded data removed]",
      "text/plain": [
       "<Figure size 640x480 with 1 Axes>"
      ]
     },
     "metadata": {},
     "output_type": "display_data"
    }
   ],
   "source": [
    "df_y.comment.value_counts().plot.pie()"
   ]
  },
  {
   "cell_type": "code",
   "execution_count": null,
   "metadata": {},
   "outputs": [],
   "source": []
  }
 ],
 "metadata": {
  "kernelspec": {
   "display_name": "py38",
   "language": "python",
   "name": "python3"
  },
  "language_info": {
   "codemirror_mode": {
    "name": "ipython",
    "version": 3
   },
   "file_extension": ".py",
   "mimetype": "text/x-python",
   "name": "python",
   "nbconvert_exporter": "python",
   "pygments_lexer": "ipython3",
   "version": "3.8.13"
  },
  "orig_nbformat": 4,
  "vscode": {
   "interpreter": {
    "hash": "3ea19d11efa7602c1f12500925a974ed4f31fcf847bd6f694bd5180da2602ded"
   }
  }
 },
 "nbformat": 4,
 "nbformat_minor": 2
}
