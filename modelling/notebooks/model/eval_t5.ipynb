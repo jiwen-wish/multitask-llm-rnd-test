{
 "cells": [
  {
   "cell_type": "code",
   "execution_count": 1,
   "metadata": {},
   "outputs": [],
   "source": [
    "import sys \n",
    "sys.path.append('../../')\n",
    "from main import LLM\n",
    "from main_utils import Trie"
   ]
  },
  {
   "cell_type": "code",
   "execution_count": 2,
   "metadata": {},
   "outputs": [
    {
     "name": "stderr",
     "output_type": "stream",
     "text": [
      "INFO:root:Unused kwargs when getting t5-base: {}\n",
      "/opt/conda/envs/py38/lib/python3.8/site-packages/transformers/models/t5/tokenization_t5_fast.py:156: FutureWarning: This tokenizer was incorrectly instantiated with a model max length of 512 which will be corrected in Transformers v5.\n",
      "For now, this behavior is kept to avoid breaking backwards compatibility when padding/encoding with `truncation is True`.\n",
      "- Be aware that you SHOULD NOT rely on t5-base automatically truncating your input to 512 when padding/encoding.\n",
      "- If you want to encode/pad to sequences longer than 512 you can either instantiate this tokenizer with `model_max_length` or pass `max_length` when encoding/padding.\n",
      "- To avoid this warning, please instantiate this tokenizer with `model_max_length` set to your preferred value.\n",
      "  warnings.warn(\n"
     ]
    }
   ],
   "source": [
    "model = LLM.load_from_checkpoint(\n",
    "    '../../models/product_title_taxonomy_classification/version_1/epoch=0-step=29648.ckpt')"
   ]
  },
  {
   "cell_type": "code",
   "execution_count": null,
   "metadata": {},
   "outputs": [],
   "source": []
  },
  {
   "cell_type": "code",
   "execution_count": 3,
   "metadata": {},
   "outputs": [],
   "source": [
    "model.eval()\n",
    "model.cuda()\n",
    "tokenizer = model.tokenizer"
   ]
  },
  {
   "cell_type": "code",
   "execution_count": 4,
   "metadata": {},
   "outputs": [
    {
     "data": {
      "text/plain": [
       "([\"<pad> [women's clothing][bottoms][fashion leggings]</s><pad><pad><pad><pad><pad><pad>\",\n",
       "  \"<pad> [women's clothing][active & loungewear][leggings]</s><pad><pad><pad><pad>\",\n",
       "  '<pad> [sports][fitness & body building][yoga][yoga pants]</s><pad><pad><pad>',\n",
       "  '<pad> [mother & kids][pregnancy & maternity][leggings]</s><pad><pad><pad><pad>',\n",
       "  '<pad> [sports][sports clothing][sets/suits][trainning & exercise sets]</s>'],\n",
       " tensor([0.6398, 0.1505, 0.0250, 0.0215, 0.0206], device='cuda:0'),\n",
       " tensor(0.8573, device='cuda:0'))"
      ]
     },
     "execution_count": 4,
     "metadata": {},
     "output_type": "execute_result"
    }
   ],
   "source": [
    "\n",
    "outs = model.transformer.generate(\n",
    "    **model.tokenizer(\n",
    "        \"Categorize Aliexpress product: \" + \\\n",
    "            \"ALONG FIT High Waisted Tummy Control Leggings-Yoga-Pants with Pockets Leggings for Women Workout Squat Proof Tights\", \n",
    "        return_tensors='pt'\n",
    "    ).to('cuda'), \n",
    "    num_beams=5, num_return_sequences=5, output_scores=True, return_dict_in_generate=True, length_penalty=0, max_new_tokens=50\n",
    ")\n",
    "model.tokenizer.batch_decode(outs.sequences), outs.sequences_scores.exp(), outs.sequences_scores.exp().sum()"
   ]
  },
  {
   "cell_type": "code",
   "execution_count": 7,
   "metadata": {},
   "outputs": [],
   "source": [
    "import yaml \n",
    "config = yaml.safe_load(open('../../models/product_title_taxonomy_classification/version_1/config.yaml', 'r'))"
   ]
  },
  {
   "cell_type": "code",
   "execution_count": 12,
   "metadata": {},
   "outputs": [
    {
     "data": {
      "text/plain": [
       "'datasets/product_title_taxonomy_classification/wish-aliexpress.yaml'"
      ]
     },
     "execution_count": 12,
     "metadata": {},
     "output_type": "execute_result"
    }
   ],
   "source": [
    "config['data']['data_source_yaml_path']"
   ]
  },
  {
   "cell_type": "code",
   "execution_count": 14,
   "metadata": {},
   "outputs": [],
   "source": [
    "import os"
   ]
  },
  {
   "cell_type": "code",
   "execution_count": 15,
   "metadata": {},
   "outputs": [],
   "source": [
    "data_config = yaml.safe_load(open(\n",
    "    os.path.join('..','..',config['data']['data_source_yaml_path']), \n",
    "'r'))"
   ]
  },
  {
   "cell_type": "code",
   "execution_count": 16,
   "metadata": {},
   "outputs": [
    {
     "data": {
      "text/plain": [
       "{'train': [{'path': 'data/wish_products/Wish_Meta_Train.json',\n",
       "   'repo': 'git@github.com:ContextLogic/multitask-llm-rnd.git',\n",
       "   'rev': None,\n",
       "   'task_prefix': 'Categorize Aliexpress product: '}],\n",
       " 'val': [{'path': 'data/wish_products/Wish_Meta_Val.json',\n",
       "   'repo': 'git@github.com:ContextLogic/multitask-llm-rnd.git',\n",
       "   'rev': None,\n",
       "   'task_prefix': 'Categorize Aliexpress product: '}],\n",
       " 'test': [{'path': 'data/wish_products/Wish_Meta_Test.json',\n",
       "   'repo': 'git@github.com:ContextLogic/multitask-llm-rnd.git',\n",
       "   'rev': None,\n",
       "   'task_prefix': 'Categorize Aliexpress product: '}]}"
      ]
     },
     "execution_count": 16,
     "metadata": {},
     "output_type": "execute_result"
    }
   ],
   "source": [
    "data_config['test']['path']"
   ]
  },
  {
   "cell_type": "code",
   "execution_count": 18,
   "metadata": {},
   "outputs": [],
   "source": [
    "import dvc.api"
   ]
  },
  {
   "cell_type": "code",
   "execution_count": null,
   "metadata": {},
   "outputs": [],
   "source": [
    "resource_url = dvc.api.get_url(\n",
    "    data_config['train'][0]['path'],\n",
    "    repo=data_config['train'][0]['repo'],\n",
    "    rev=data_config['train'][0]['rev']\n",
    ")"
   ]
  },
  {
   "cell_type": "code",
   "execution_count": 51,
   "metadata": {},
   "outputs": [],
   "source": [
    "import pandas as pd"
   ]
  },
  {
   "cell_type": "code",
   "execution_count": 54,
   "metadata": {},
   "outputs": [],
   "source": [
    "df = pd.read_json(resource_url, lines=True)"
   ]
  },
  {
   "cell_type": "code",
   "execution_count": null,
   "metadata": {},
   "outputs": [],
   "source": [
    "df_tax = pd.read_json(\n",
    "    dvc.api.get_url(\n",
    "        'data/taxonomy/wish_newtax.json',\n",
    "        repo='git@github.com:ContextLogic/multitask-llm-rnd.git'\n",
    "    ), lines=True\n",
    ")"
   ]
  },
  {
   "cell_type": "code",
   "execution_count": 56,
   "metadata": {},
   "outputs": [],
   "source": [
    "paths = df_tax[df_tax['is_leaf']]['category_path'].apply(lambda x: ''.join(['[' + i.strip().lower() + ']' for i in x.split(' > ')])).tolist()"
   ]
  },
  {
   "cell_type": "code",
   "execution_count": 57,
   "metadata": {},
   "outputs": [
    {
     "data": {
      "text/plain": [
       "5291"
      ]
     },
     "execution_count": 57,
     "metadata": {},
     "output_type": "execute_result"
    }
   ],
   "source": [
    "len(paths)"
   ]
  },
  {
   "cell_type": "code",
   "execution_count": 58,
   "metadata": {},
   "outputs": [],
   "source": [
    "paths_data = list(set(df.category.apply(lambda x: ''.join(['[' + i + ']' for i in x]))))"
   ]
  },
  {
   "cell_type": "code",
   "execution_count": 61,
   "metadata": {},
   "outputs": [
    {
     "data": {
      "text/plain": [
       "5278"
      ]
     },
     "execution_count": 61,
     "metadata": {},
     "output_type": "execute_result"
    }
   ],
   "source": [
    "len(paths_data)"
   ]
  },
  {
   "cell_type": "code",
   "execution_count": 62,
   "metadata": {},
   "outputs": [
    {
     "data": {
      "text/plain": [
       "0.8422520481087676"
      ]
     },
     "execution_count": 62,
     "metadata": {},
     "output_type": "execute_result"
    }
   ],
   "source": [
    "len(set(paths_data).intersection(set(paths))) / len(set(paths_data).union(set(paths)))"
   ]
  },
  {
   "cell_type": "code",
   "execution_count": 63,
   "metadata": {},
   "outputs": [],
   "source": [
    "trie = Trie([\n",
    "    [tokenizer.pad_token_id] + tokenizer.encode(i) + [tokenizer.eos_token_id] for i in paths_data\n",
    "])"
   ]
  },
  {
   "cell_type": "code",
   "execution_count": 64,
   "metadata": {},
   "outputs": [],
   "source": [
    "def constraint(batch_id, sent):\n",
    "    return trie.get(sent.tolist())"
   ]
  },
  {
   "cell_type": "code",
   "execution_count": 65,
   "metadata": {},
   "outputs": [
    {
     "data": {
      "text/plain": [
       "([\"<pad> [women's clothing][bottoms][fashion leggings]</s><pad><pad><pad><pad><pad><pad>\",\n",
       "  \"<pad> [women's clothing][active & loungewear][leggings]</s><pad><pad><pad><pad>\",\n",
       "  '<pad> [sports][fitness & body building][yoga][yoga pants]</s><pad><pad><pad>',\n",
       "  '<pad> [mother & kids][pregnancy & maternity][leggings]</s><pad><pad><pad><pad>',\n",
       "  '<pad> [sports][sports clothing][sets/suits][trainning & exercise sets]</s>'],\n",
       " tensor([0.6398, 0.1505, 0.0250, 0.0215, 0.0206], device='cuda:0'),\n",
       " tensor(0.8573, device='cuda:0'))"
      ]
     },
     "execution_count": 65,
     "metadata": {},
     "output_type": "execute_result"
    }
   ],
   "source": [
    "outs = model.transformer.generate(\n",
    "    **model.tokenizer(\n",
    "        \"Categorize Aliexpress product: \" + \\\n",
    "            \"ALONG FIT High Waisted Tummy Control Leggings-Yoga-Pants with Pockets Leggings for Women Workout Squat Proof Tights\", \n",
    "        return_tensors='pt'\n",
    "    ).to('cuda'), \n",
    "    num_beams=5, num_return_sequences=5, output_scores=True, return_dict_in_generate=True, length_penalty=0, max_new_tokens=50,\n",
    "    prefix_allowed_tokens_fn=constraint\n",
    ")\n",
    "model.tokenizer.batch_decode(outs.sequences), outs.sequences_scores.exp(), outs.sequences_scores.exp().sum()"
   ]
  },
  {
   "cell_type": "code",
   "execution_count": 66,
   "metadata": {},
   "outputs": [],
   "source": [
    "from tqdm import tqdm"
   ]
  },
  {
   "cell_type": "code",
   "execution_count": 67,
   "metadata": {},
   "outputs": [],
   "source": [
    "df = df.sample(frac=1.0)"
   ]
  },
  {
   "cell_type": "code",
   "execution_count": 68,
   "metadata": {},
   "outputs": [
    {
     "name": "stderr",
     "output_type": "stream",
     "text": [
      "100%|██████████| 100/100 [00:50<00:00,  1.98it/s]\n"
     ]
    }
   ],
   "source": [
    "recs = []\n",
    "for rec in tqdm(df.iloc[:200].to_dict('records')[:100]):\n",
    "    outs = model.transformer.generate(\n",
    "        **model.tokenizer(\n",
    "            \"Categorize Aliexpress product: \" + \\\n",
    "                rec['title'], \n",
    "            return_tensors='pt'\n",
    "        ).to('cuda'), \n",
    "        num_beams=2, num_return_sequences=2, output_scores=True, return_dict_in_generate=True, length_penalty=0, max_new_tokens=50,\n",
    "        prefix_allowed_tokens_fn=constraint\n",
    "    )\n",
    "    preds = model.tokenizer.batch_decode(outs.sequences, skip_special_tokens=True)\n",
    "    probs = outs.sequences_scores.exp()\n",
    "    rec['t5_predicted_categories'] = [pred[1:-1].split('][') for pred in preds]\n",
    "    rec['t5_predicted_category_prob'] = probs.detach().cpu().tolist()\n",
    "    recs.append(rec)"
   ]
  },
  {
   "cell_type": "code",
   "execution_count": 69,
   "metadata": {},
   "outputs": [],
   "source": [
    "df_pred = pd.DataFrame(recs)"
   ]
  },
  {
   "cell_type": "code",
   "execution_count": 70,
   "metadata": {},
   "outputs": [
    {
     "data": {
      "text/html": [
       "<div>\n",
       "<style scoped>\n",
       "    .dataframe tbody tr th:only-of-type {\n",
       "        vertical-align: middle;\n",
       "    }\n",
       "\n",
       "    .dataframe tbody tr th {\n",
       "        vertical-align: top;\n",
       "    }\n",
       "\n",
       "    .dataframe thead th {\n",
       "        text-align: right;\n",
       "    }\n",
       "</style>\n",
       "<table border=\"1\" class=\"dataframe\">\n",
       "  <thead>\n",
       "    <tr style=\"text-align: right;\">\n",
       "      <th></th>\n",
       "      <th>title</th>\n",
       "      <th>category</th>\n",
       "      <th>text</th>\n",
       "      <th>t5_predicted_categories</th>\n",
       "      <th>t5_predicted_category_prob</th>\n",
       "    </tr>\n",
       "  </thead>\n",
       "  <tbody>\n",
       "    <tr>\n",
       "      <th>0</th>\n",
       "      <td>Insoles Arch-Support Foot-Pain for Women/men O...</td>\n",
       "      <td>[shoes, shoe accessories, insoles]</td>\n",
       "      <td>Insoles Arch-Support Foot-Pain for Women/men O...</td>\n",
       "      <td>[[shoes, shoe accessories, insoles], [shoes, s...</td>\n",
       "      <td>[0.24975982308387756, 0.20985464751720428]</td>\n",
       "    </tr>\n",
       "    <tr>\n",
       "      <th>1</th>\n",
       "      <td>1Set Tire Fit For 47CC 49cc Mini Dirt Bike Sco...</td>\n",
       "      <td>[automobiles &amp; motorcycles, motorcycle accesso...</td>\n",
       "      <td>1Set Tire Fit For 47CC 49cc Mini Dirt Bike Sco...</td>\n",
       "      <td>[[automobiles &amp; motorcycles, motorcycle access...</td>\n",
       "      <td>[0.859704315662384, 0.04090460017323494]</td>\n",
       "    </tr>\n",
       "  </tbody>\n",
       "</table>\n",
       "</div>"
      ],
      "text/plain": [
       "                                               title  \\\n",
       "0  Insoles Arch-Support Foot-Pain for Women/men O...   \n",
       "1  1Set Tire Fit For 47CC 49cc Mini Dirt Bike Sco...   \n",
       "\n",
       "                                            category  \\\n",
       "0                 [shoes, shoe accessories, insoles]   \n",
       "1  [automobiles & motorcycles, motorcycle accesso...   \n",
       "\n",
       "                                                text  \\\n",
       "0  Insoles Arch-Support Foot-Pain for Women/men O...   \n",
       "1  1Set Tire Fit For 47CC 49cc Mini Dirt Bike Sco...   \n",
       "\n",
       "                             t5_predicted_categories  \\\n",
       "0  [[shoes, shoe accessories, insoles], [shoes, s...   \n",
       "1  [[automobiles & motorcycles, motorcycle access...   \n",
       "\n",
       "                   t5_predicted_category_prob  \n",
       "0  [0.24975982308387756, 0.20985464751720428]  \n",
       "1    [0.859704315662384, 0.04090460017323494]  "
      ]
     },
     "execution_count": 70,
     "metadata": {},
     "output_type": "execute_result"
    }
   ],
   "source": [
    "df_pred.head(2)"
   ]
  },
  {
   "cell_type": "code",
   "execution_count": 71,
   "metadata": {},
   "outputs": [
    {
     "name": "stdout",
     "output_type": "stream",
     "text": [
      "Depth: 0\n",
      "Size:  100\n",
      "# Unique Targets 20\n",
      "ACC T5:  0.8\n",
      "----------------------------------------------------------------------------------------------------\n",
      "Depth: 1\n",
      "Size:  100\n",
      "# Unique Targets 62\n",
      "ACC T5:  0.66\n",
      "----------------------------------------------------------------------------------------------------\n",
      "Depth: 2\n",
      "Size:  100\n",
      "# Unique Targets 88\n",
      "ACC T5:  0.46\n",
      "----------------------------------------------------------------------------------------------------\n",
      "Depth: 3\n",
      "Size:  62\n",
      "# Unique Targets 62\n",
      "ACC T5:  0.3709677419354839\n",
      "----------------------------------------------------------------------------------------------------\n",
      "Depth: 4\n",
      "Size:  2\n",
      "# Unique Targets 2\n",
      "ACC T5:  0.0\n",
      "----------------------------------------------------------------------------------------------------\n"
     ]
    }
   ],
   "source": [
    "for depth in range(7):\n",
    "    tmp = df_pred[df_pred.category.apply(len) > depth]\n",
    "    if len(tmp) > 0:\n",
    "        print('Depth:', depth)\n",
    "        print('Size: ', len(tmp))\n",
    "        print('# Unique Targets', len(set(tmp.category.apply(lambda x: ''.join(x[:depth+1])))))\n",
    "        print('ACC T5: ', (tmp.category.apply(lambda x: ''.join(x[:depth+1])) == \\\n",
    "            tmp.t5_predicted_categories.apply(lambda x: ''.join(x[0][:depth+1]) if len(x[0]) > depth else None)).mean())\n",
    "        print('-' * 100)"
   ]
  },
  {
   "cell_type": "code",
   "execution_count": 73,
   "metadata": {},
   "outputs": [],
   "source": [
    "depth = 0\n",
    "tmp = df_pred[df_pred.category.apply(len) > depth]\n",
    "errors = tmp[(tmp.category.apply(lambda x: ''.join(x[:depth+1])) != \\\n",
    "            tmp.t5_predicted_categories.apply(lambda x: ''.join(x[0][:depth+1]) if len(x[0]) > depth else None))]"
   ]
  },
  {
   "cell_type": "code",
   "execution_count": 82,
   "metadata": {},
   "outputs": [
    {
     "data": {
      "text/plain": [
       "['▁hello', '>', '<', '->', '▁by', 'e']"
      ]
     },
     "execution_count": 82,
     "metadata": {},
     "output_type": "execute_result"
    }
   ],
   "source": [
    "tokenizer.tokenize('hello><-> bye')"
   ]
  },
  {
   "cell_type": "code",
   "execution_count": 76,
   "metadata": {},
   "outputs": [
    {
     "data": {
      "text/plain": [
       "[{'title': 'Board-Game Angels Tarot-Cards-Deck Divination Rider Oracle Manara Modern Witch Romance',\n",
       "  'category': ['toys & hobbies', 'puzzles & games', 'games', 'card games'],\n",
       "  't5_predicted_categories': [['entertainment', 'board games'],\n",
       "   ['toys & hobbies', 'puzzles & games', 'games', 'card games']]},\n",
       " {'title': 'Ring-Holder-Stand Crystal Sailor Moon Finger-Cosmic Heart for Phone Crisis Star Random-Style',\n",
       "  'category': ['beauty & health',\n",
       "   'makeup',\n",
       "   'makeup tools & accessories',\n",
       "   'makeup tool kits'],\n",
       "  't5_predicted_categories': [['cellphones & telecommunications',\n",
       "    'mobile phone accessories',\n",
       "    'phone holders & stands'],\n",
       "   ['jewelry & accessories', 'rings']]},\n",
       " {'title': 'Spaarpot Met Top Gat En Cap',\n",
       "  'category': ['sports', 'horse racing', 'horse riding boots'],\n",
       "  't5_predicted_categories': [['apparel accessories',\n",
       "    \"men's hats\",\n",
       "    \"men's visors\"],\n",
       "   ['apparel accessories', \"women's hats\", \"women's visors\"]]},\n",
       " {'title': '77JF الإبداعية عيد الميلاد تقويم القدوم حقيبة التخزين الحلوى قابلة لإعادة الاستخدام العد التنازلي عيد الميلاد معلقة التقويم السنة الجديدة الحلي ديكور',\n",
       "  'category': ['home & garden',\n",
       "   'festive & party supplies',\n",
       "   'christmas',\n",
       "   'advent calendars'],\n",
       "  't5_predicted_categories': [['home improvement',\n",
       "    'home appliances',\n",
       "    'home appliance parts',\n",
       "    'kitchen appliance parts',\n",
       "    'coffee maker parts'],\n",
       "   ['home & garden', 'kitchen,dining & bar', 'drinkware', 'pitchers']]},\n",
       " {'title': \"2021 New Ladies' Suit Arab Middle East Plus Size Split Robe Two-piece Suit\",\n",
       "  'category': ['novelty & special use',\n",
       "   'traditional & cultural wear',\n",
       "   'india & pakistan clothing'],\n",
       "  't5_predicted_categories': [[\"women's clothing\",\n",
       "    'active & loungewear',\n",
       "    'lounge sets'],\n",
       "   [\"women's clothing\", 'muslim fashion', 'muslim sets']]},\n",
       " {'title': 'Electronic Shooting Earmuff Anti-noise Headphone Sound Amplification Hearing Protection Headset Foldable Tactical Headset',\n",
       "  'category': ['security & protection',\n",
       "   'workplace safety supplies',\n",
       "   'ear protector'],\n",
       "  't5_predicted_categories': [['sports',\n",
       "    'hunting',\n",
       "    'tactical headsets & accessories'],\n",
       "   ['security & protection', 'workplace safety supplies', 'ear protector']]},\n",
       " {'title': '1 قطعة Aimoosi A9 NeedlePMU آلة المهنية الرقمية ماكياج آلة الوشم الروتاري جهاز إبرة ل الحاجب الشفاه كحل',\n",
       "  'category': ['beauty & health',\n",
       "   'tattoo & body art',\n",
       "   'eyebrow tattoo machine'],\n",
       "  't5_predicted_categories': [['education & office supplies',\n",
       "    'school & educational supplies',\n",
       "    'lab supplies',\n",
       "    'laboratory bottle'],\n",
       "   ['education & office supplies',\n",
       "    'writing & correction supplies',\n",
       "    'highlighters']]},\n",
       " {'title': 'Wristband Dispenser Hand-Sanatizer Desinfectant Bracelet Silicone 5pcs/Lot Wearable',\n",
       "  'category': ['home & garden',\n",
       "   'bathroom products',\n",
       "   'portable soap dispensers'],\n",
       "  't5_predicted_categories': [['home improvement',\n",
       "    'bathroom fixtures',\n",
       "    'bathroom hardware',\n",
       "    'liquid soap dispensers'],\n",
       "   ['home & garden',\n",
       "    'kitchen,dining & bar',\n",
       "    'drinkware',\n",
       "    'hand press water pumps']]},\n",
       " {'title': 'Original FFB0812SH 80*80*25mm 12V 0,60 A 4-draht PWM 67,02 CFM Hohe Volumen booster Lüfter',\n",
       "  'category': ['home improvement',\n",
       "   'building supplies',\n",
       "   'heating, cooling & vents',\n",
       "   'hvac systems & parts'],\n",
       "  't5_predicted_categories': [['tools',\n",
       "    'machine tools & accessories',\n",
       "    'machine tool spindle'],\n",
       "   ['home improvement',\n",
       "    'electrical equipments & supplies',\n",
       "    'motors & parts',\n",
       "    'ac motor']]},\n",
       " {'title': 'Spoon Sealing-Stamp Wooden-Handle-Material Wax Envelope Brass Durable Vintage',\n",
       "  'category': ['home & garden',\n",
       "   'arts,crafts & sewing',\n",
       "   'candle making',\n",
       "   'candle making kits'],\n",
       "  't5_predicted_categories': [['home improvement',\n",
       "    'hardware',\n",
       "    'adhesives & sealers',\n",
       "    'silicone sealant'],\n",
       "   ['home & garden', 'arts,crafts & sewing', 'candle making', 'wax']]},\n",
       " {'title': 'Laeger A-ARM Kogelgewricht 10Mm & 16Mm Top Bovenarm Voor Atv 125cc - 250cc 450 500cc Atv quad Utv',\n",
       "  'category': ['automobiles & motorcycles',\n",
       "   'atv,rv,boat & other vehicle',\n",
       "   'atv parts & accessories'],\n",
       "  't5_predicted_categories': [['home improvement',\n",
       "    'electrical equipments & supplies',\n",
       "    'power supplies',\n",
       "    'inductors'],\n",
       "   ['home improvement',\n",
       "    'electrical equipments & supplies',\n",
       "    'wires, cables & cable assemblies',\n",
       "    'wiring harness']]},\n",
       " {'title': 'Mobile Phone Arm Band Hand Holder Case Gym Outdoor Sport Running Pouch Armband Bag For iphone 11 max 7 plus xiaomi',\n",
       "  'category': ['consumer electronics',\n",
       "   'accessories & parts',\n",
       "   'digital gear bags',\n",
       "   'mp3/mp4 bags & cases'],\n",
       "  't5_predicted_categories': [['cellphones & telecommunications',\n",
       "    'mobile phone accessories',\n",
       "    'armbands'],\n",
       "   ['sports', 'running', 'running bags']]},\n",
       " {'title': 'Przenośny szczery ukryta kamera długopis z detektorem Wifi RF sygnału podsłuchu otworkowej Audio bezprzewodowy błąd GSM urządzenie GPS Finder',\n",
       "  'category': ['security & protection',\n",
       "   'security alarm',\n",
       "   'anti candid camera detector'],\n",
       "  't5_predicted_categories': [['automobiles & motorcycles',\n",
       "    'car electronics',\n",
       "    'gps & accessories',\n",
       "    'gps trackers'],\n",
       "   ['security & protection', 'security alarm', 'anti-lost alarm']]},\n",
       " {'title': 'Fogo truques mágicos chamas coloridas fulgor festa ferramenta cor brinquedo aniversário bonfire saquetas lareira pit pátio festival ferramenta d0',\n",
       "  'category': ['home & garden', 'arts,crafts & sewing', 'fabric decorating'],\n",
       "  't5_predicted_categories': [['beauty & health',\n",
       "    'health care',\n",
       "    'chinese medicine',\n",
       "    'patches'],\n",
       "   ['beauty & health',\n",
       "    'health care',\n",
       "    'personal health care',\n",
       "    'foot care tools']]},\n",
       " {'title': 'Gaming Adapter Strong Compatibility Keyboard Mouse Converter Long Service Life for PS4 Home Switch',\n",
       "  'category': ['consumer electronics', 'video games', 'movement sensors'],\n",
       "  't5_predicted_categories': [['computer & office',\n",
       "    'computer peripherals',\n",
       "    'usb hubs'],\n",
       "   ['computer & office', 'mouse & keyboards', 'keyboard mouse combos']]},\n",
       " {'title': 'Rubber Chair Stoppers Protector-Pads Floor-Surface Bed Non-Slip Black 2pcs Baby-Carriage',\n",
       "  'category': ['furniture', 'furniture parts', 'furniture legs'],\n",
       "  't5_predicted_categories': [['mother & kids',\n",
       "    'safety equipment',\n",
       "    'edge & corner guards'],\n",
       "   ['mother & kids', 'nappy changing', 'changing pads & covers']]},\n",
       " {'title': 'Evrensel araba dinamik parça kamera kore vidalı harici araba kamera geri kamera',\n",
       "  'category': ['automobiles & motorcycles',\n",
       "   'car electronics',\n",
       "   'gps & accessories',\n",
       "   'gps accessories'],\n",
       "  't5_predicted_categories': [['home improvement',\n",
       "    'home appliances',\n",
       "    'home appliance parts',\n",
       "    'kitchen appliance parts',\n",
       "    'coffee maker parts'],\n",
       "   ['home improvement',\n",
       "    'home appliances',\n",
       "    'home appliance parts',\n",
       "    'kitchen appliance parts',\n",
       "    'slow cooker parts']]},\n",
       " {'title': 'XMT-HOME square bamboo mat for Chinese green oolong tea puer tea cups serving tray bambu organizer tea set accessories',\n",
       "  'category': ['home & garden',\n",
       "   'kitchen,dining & bar',\n",
       "   'teaware',\n",
       "   'tea trays'],\n",
       "  't5_predicted_categories': [['home improvement',\n",
       "    'hardware',\n",
       "    'furniture hardware',\n",
       "    'swivel plates'],\n",
       "   ['home & garden', 'kitchen,dining & bar', 'teaware', 'tea pets']]},\n",
       " {'title': '2018 nowy uchwyt na szyszki do lodów komercyjnych części zamienne maszyny akcesoria do Guangshen Goshen Spaceman',\n",
       "  'category': ['home improvement',\n",
       "   'home appliances',\n",
       "   'home appliance parts',\n",
       "   'kitchen appliance parts',\n",
       "   'ice cream maker parts'],\n",
       "  't5_predicted_categories': [['home & garden',\n",
       "    'pet products',\n",
       "    'dog clothing & shoes',\n",
       "    'dog shirts'],\n",
       "   ['home & garden', 'kitchen,dining & bar', 'drinkware', 'pitchers']]},\n",
       " {'title': 'Double-layer Sink Soap Drainer Rack Shelf Household Kitchen Suction Cup Sponge Storage Holder Bathroom Organizer Tool Accessory',\n",
       "  'category': ['home & garden',\n",
       "   'home storage & organization',\n",
       "   'kitchen storage & organization',\n",
       "   'racks & holders'],\n",
       "  't5_predicted_categories': [['home improvement',\n",
       "    'bathroom fixtures',\n",
       "    'bathroom hardware',\n",
       "    'soap dishes'],\n",
       "   ['home & garden',\n",
       "    'home storage & organization',\n",
       "    'bathroom storage & organization',\n",
       "    'storage shelves & racks']]}]"
      ]
     },
     "execution_count": 76,
     "metadata": {},
     "output_type": "execute_result"
    }
   ],
   "source": [
    "errors[['title', 'category', 't5_predicted_categories']].to_dict('records')"
   ]
  },
  {
   "cell_type": "code",
   "execution_count": null,
   "metadata": {},
   "outputs": [],
   "source": []
  }
 ],
 "metadata": {
  "kernelspec": {
   "display_name": "Python 3.8.13 ('py38')",
   "language": "python",
   "name": "python3"
  },
  "language_info": {
   "codemirror_mode": {
    "name": "ipython",
    "version": 3
   },
   "file_extension": ".py",
   "mimetype": "text/x-python",
   "name": "python",
   "nbconvert_exporter": "python",
   "pygments_lexer": "ipython3",
   "version": "3.8.13"
  },
  "orig_nbformat": 4,
  "vscode": {
   "interpreter": {
    "hash": "3ea19d11efa7602c1f12500925a974ed4f31fcf847bd6f694bd5180da2602ded"
   }
  }
 },
 "nbformat": 4,
 "nbformat_minor": 2
}
