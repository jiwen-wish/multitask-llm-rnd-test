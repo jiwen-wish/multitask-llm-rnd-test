{
 "cells": [
  {
   "cell_type": "code",
   "execution_count": 1,
   "metadata": {},
   "outputs": [],
   "source": [
    "import sys \n",
    "sys.path.append('../../')\n",
    "from main import LLM\n",
    "from main_utils import Trie"
   ]
  },
  {
   "cell_type": "code",
   "execution_count": 5,
   "metadata": {},
   "outputs": [],
   "source": [
    "from pytorch_lightning.utilities.deepspeed import convert_zero_checkpoint_to_fp32_state_dict\n",
    "\n",
    "# lightning deepspeed has saved a directory instead of a file\n",
    "save_path = '../../models/product_title_taxonomy_classification/version_4/epoch=0-step=545514.ckpt'\n",
    "output_path = '../../models/product_title_taxonomy_classification/version_4/epoch=0-step=545514.ckpt/pytorch_model.bin'\n"
   ]
  },
  {
   "cell_type": "code",
   "execution_count": null,
   "metadata": {},
   "outputs": [],
   "source": [
    "convert_zero_checkpoint_to_fp32_state_dict(save_path, output_path)"
   ]
  },
  {
   "cell_type": "code",
   "execution_count": 6,
   "metadata": {},
   "outputs": [],
   "source": [
    "import torch"
   ]
  },
  {
   "cell_type": "code",
   "execution_count": 7,
   "metadata": {},
   "outputs": [],
   "source": [
    "ckpt = torch.load(output_path)"
   ]
  },
  {
   "cell_type": "code",
   "execution_count": 16,
   "metadata": {},
   "outputs": [
    {
     "name": "stderr",
     "output_type": "stream",
     "text": [
      "INFO:root:Unused kwargs when getting t5-large: {}\n",
      "/opt/conda/envs/py38/lib/python3.8/site-packages/transformers/models/t5/tokenization_t5_fast.py:156: FutureWarning: This tokenizer was incorrectly instantiated with a model max length of 512 which will be corrected in Transformers v5.\n",
      "For now, this behavior is kept to avoid breaking backwards compatibility when padding/encoding with `truncation is True`.\n",
      "- Be aware that you SHOULD NOT rely on t5-large automatically truncating your input to 512 when padding/encoding.\n",
      "- If you want to encode/pad to sequences longer than 512 you can either instantiate this tokenizer with `model_max_length` or pass `max_length` when encoding/padding.\n",
      "- To avoid this warning, please instantiate this tokenizer with `model_max_length` set to your preferred value.\n",
      "  warnings.warn(\n",
      "/opt/conda/envs/py38/lib/python3.8/site-packages/pytorch_lightning/core/saving.py:263: UserWarning: Found keys that are in the model state dict but not in the checkpoint: ['transformer.encoder.embed_tokens.weight', 'transformer.decoder.embed_tokens.weight', 'transformer.lm_head.weight']\n",
      "  rank_zero_warn(\n"
     ]
    }
   ],
   "source": [
    "model = LLM.load_from_checkpoint(output_path, strict=False)"
   ]
  },
  {
   "cell_type": "code",
   "execution_count": 18,
   "metadata": {},
   "outputs": [],
   "source": [
    "# fix ckpt missing weights\n",
    "ckpt = torch.load(\n",
    "    '../../models/product_title_taxonomy_classification/version_4/epoch=0-step=545514.ckpt/checkpoint/mp_rank_00_model_states.pt', \n",
    "    map_location=torch.device('cpu')\n",
    ")\n",
    "patch_state_dict = {}\n",
    "for i in ['transformer.encoder.embed_tokens.weight', 'transformer.decoder.embed_tokens.weight', 'transformer.lm_head.weight']:\n",
    "    patch_state_dict[i] = ckpt['module']['module.' + i]\n"
   ]
  },
  {
   "cell_type": "code",
   "execution_count": 26,
   "metadata": {},
   "outputs": [
    {
     "name": "stdout",
     "output_type": "stream",
     "text": [
      "transformer.encoder.embed_tokens.weight error tensor(0.)\n",
      "transformer.decoder.embed_tokens.weight error tensor(0.)\n",
      "transformer.lm_head.weight error tensor(0.)\n"
     ]
    }
   ],
   "source": [
    "for i in patch_state_dict:\n",
    "    print(i, 'error', ((model.state_dict()[i] - patch_state_dict[i])**2).sum())"
   ]
  },
  {
   "cell_type": "code",
   "execution_count": 27,
   "metadata": {},
   "outputs": [],
   "source": [
    "model.eval()\n",
    "model.cuda()\n",
    "tokenizer = model.tokenizer"
   ]
  },
  {
   "cell_type": "code",
   "execution_count": 43,
   "metadata": {},
   "outputs": [
    {
     "data": {
      "text/plain": [
       "([\"<pad> women's clothing > bottoms > fashion leggings</s><pad><pad>\",\n",
       "  '<pad> sports > sports clothing > tights > running tights</s><pad><pad><pad>',\n",
       "  '<pad> sports > sports clothing > pants > trainning & exercise pants</s>',\n",
       "  '<pad> sports > fitness & body building > yoga > yoga pants</s><pad><pad>',\n",
       "  '<pad> sports > racquet sports > tennis > tennis pants</s><pad><pad>'],\n",
       " tensor([0.3565, 0.3226, 0.1016, 0.0787, 0.0234], device='cuda:0'),\n",
       " tensor(0.8828, device='cuda:0'))"
      ]
     },
     "execution_count": 43,
     "metadata": {},
     "output_type": "execute_result"
    }
   ],
   "source": [
    "\n",
    "outs = model.transformer.generate(\n",
    "    **model.tokenizer(\n",
    "        \"Top-down categorize Aliexpress product: \" + \\\n",
    "            \"ALONG FIT High Waisted Tummy Control Leggings-Yoga-Pants with Pockets Leggings for Women Workout Squat Proof Tights\", \n",
    "        return_tensors='pt'\n",
    "    ).to('cuda'), \n",
    "    num_beams=5, num_return_sequences=5, output_scores=True, return_dict_in_generate=True, length_penalty=0, max_new_tokens=50\n",
    ")\n",
    "model.tokenizer.batch_decode(outs.sequences), outs.sequences_scores.exp(), outs.sequences_scores.exp().sum()"
   ]
  },
  {
   "cell_type": "code",
   "execution_count": 44,
   "metadata": {},
   "outputs": [
    {
     "data": {
      "text/plain": [
       "(['<pad> yoga pants <unk> yoga <unk> fitness & body building <unk> sports</s><pad><pad>',\n",
       "  '<pad> running tights <unk> tights <unk> sports clothing <unk> sports</s><pad><pad><pad>',\n",
       "  '<pad> trainning & exercise pants <unk> pants <unk> sports clothing <unk> sports</s>',\n",
       "  \"<pad> fashion leggings <unk> bottoms <unk> women's clothing</s><pad><pad><pad>\",\n",
       "  \"<pad> pants <unk> bottoms <unk> women's clothing</s><pad><pad><pad><pad><pad><pad>\"],\n",
       " tensor([0.2948, 0.1508, 0.1357, 0.0937, 0.0472], device='cuda:0'),\n",
       " tensor(0.7222, device='cuda:0'))"
      ]
     },
     "execution_count": 44,
     "metadata": {},
     "output_type": "execute_result"
    }
   ],
   "source": [
    "\n",
    "outs = model.transformer.generate(\n",
    "    **model.tokenizer(\n",
    "        \"Bottom-up categorize Aliexpress product: \" + \\\n",
    "            \"ALONG FIT High Waisted Tummy Control Leggings-Yoga-Pants with Pockets Leggings for Women Workout Squat Proof Tights\", \n",
    "        return_tensors='pt'\n",
    "    ).to('cuda'), \n",
    "    num_beams=5, num_return_sequences=5, output_scores=True, return_dict_in_generate=True, length_penalty=0, max_new_tokens=50\n",
    ")\n",
    "model.tokenizer.batch_decode(outs.sequences), outs.sequences_scores.exp(), outs.sequences_scores.exp().sum()"
   ]
  },
  {
   "cell_type": "code",
   "execution_count": 45,
   "metadata": {},
   "outputs": [],
   "source": [
    "import yaml \n",
    "config = yaml.safe_load(open('../../models/product_title_taxonomy_classification/version_4/config.yaml', 'r'))"
   ]
  },
  {
   "cell_type": "code",
   "execution_count": 46,
   "metadata": {},
   "outputs": [
    {
     "data": {
      "text/plain": [
       "'datasets/product_title_taxonomy_classification/wish-aliexpress.yaml'"
      ]
     },
     "execution_count": 46,
     "metadata": {},
     "output_type": "execute_result"
    }
   ],
   "source": [
    "config['data']['data_source_yaml_path']"
   ]
  },
  {
   "cell_type": "code",
   "execution_count": 47,
   "metadata": {},
   "outputs": [],
   "source": [
    "import os"
   ]
  },
  {
   "cell_type": "code",
   "execution_count": 48,
   "metadata": {},
   "outputs": [],
   "source": [
    "data_config = yaml.safe_load(open(\n",
    "    os.path.join('..','..',config['data']['data_source_yaml_path']), \n",
    "'r'))"
   ]
  },
  {
   "cell_type": "code",
   "execution_count": 52,
   "metadata": {},
   "outputs": [
    {
     "data": {
      "text/plain": [
       "[{'path': 'data/wish_products/Wish_Meta_Test.json',\n",
       "  'repo': 'git@github.com:junwang-wish/query_understanding_data.git',\n",
       "  'rev': None,\n",
       "  'task_prefix': 'categorize Aliexpress product: '}]"
      ]
     },
     "execution_count": 52,
     "metadata": {},
     "output_type": "execute_result"
    }
   ],
   "source": [
    "data_config['test']"
   ]
  },
  {
   "cell_type": "code",
   "execution_count": 53,
   "metadata": {},
   "outputs": [],
   "source": [
    "import dvc.api"
   ]
  },
  {
   "cell_type": "code",
   "execution_count": null,
   "metadata": {},
   "outputs": [],
   "source": [
    "resource_url = dvc.api.get_url(\n",
    "    data_config['train'][0]['path'],\n",
    "    repo=data_config['train'][0]['repo'],\n",
    "    rev=data_config['train'][0]['rev']\n",
    ")"
   ]
  },
  {
   "cell_type": "code",
   "execution_count": 55,
   "metadata": {},
   "outputs": [],
   "source": [
    "import pandas as pd"
   ]
  },
  {
   "cell_type": "code",
   "execution_count": 56,
   "metadata": {},
   "outputs": [
    {
     "name": "stderr",
     "output_type": "stream",
     "text": [
      "INFO:aiobotocore.credentials:Found credentials in environment variables.\n"
     ]
    }
   ],
   "source": [
    "df = pd.read_json(resource_url, lines=True)"
   ]
  },
  {
   "cell_type": "code",
   "execution_count": null,
   "metadata": {},
   "outputs": [],
   "source": [
    "df_tax = pd.read_json(\n",
    "    dvc.api.get_url(\n",
    "        'data/taxonomy/wish_newtax.json',\n",
    "        repo='git@github.com:junwang-wish/query_understanding_data.git'\n",
    "    ), lines=True\n",
    ")"
   ]
  },
  {
   "cell_type": "code",
   "execution_count": 82,
   "metadata": {},
   "outputs": [],
   "source": [
    "paths = df_tax[df_tax['is_leaf']]['category_path'].apply(lambda x: ' > '.join([i.strip().lower() for i in x.split(' > ')])).tolist()\n",
    "paths_rev = df_tax[df_tax['is_leaf']]['category_path'].apply(lambda x: ' < '.join([i.strip().lower() for i in x.split(' > ')[::-1]])).tolist()"
   ]
  },
  {
   "cell_type": "code",
   "execution_count": 77,
   "metadata": {},
   "outputs": [
    {
     "data": {
      "text/plain": [
       "(5291, 5291)"
      ]
     },
     "execution_count": 77,
     "metadata": {},
     "output_type": "execute_result"
    }
   ],
   "source": [
    "len(paths), len(paths_rev)"
   ]
  },
  {
   "cell_type": "code",
   "execution_count": 75,
   "metadata": {},
   "outputs": [],
   "source": [
    "paths_data = list(set(df.category.apply(lambda x: ' > '.join(x))))\n",
    "paths_data_rev = list(set(df.category.apply(lambda x: ' < '.join(x[::-1]))))"
   ]
  },
  {
   "cell_type": "code",
   "execution_count": 78,
   "metadata": {},
   "outputs": [
    {
     "data": {
      "text/plain": [
       "(5278, 5278)"
      ]
     },
     "execution_count": 78,
     "metadata": {},
     "output_type": "execute_result"
    }
   ],
   "source": [
    "len(paths_data), len(paths_data_rev)"
   ]
  },
  {
   "cell_type": "code",
   "execution_count": 84,
   "metadata": {},
   "outputs": [
    {
     "data": {
      "text/plain": [
       "0.8422520481087676"
      ]
     },
     "execution_count": 84,
     "metadata": {},
     "output_type": "execute_result"
    }
   ],
   "source": [
    "len(set(paths_data).intersection(set(paths))) / len(set(paths_data).union(set(paths)))"
   ]
  },
  {
   "cell_type": "code",
   "execution_count": 85,
   "metadata": {},
   "outputs": [
    {
     "data": {
      "text/plain": [
       "0.8422520481087676"
      ]
     },
     "execution_count": 85,
     "metadata": {},
     "output_type": "execute_result"
    }
   ],
   "source": [
    "len(set(paths_data_rev).intersection(set(paths_rev))) / len(set(paths_data_rev).union(set(paths_rev)))"
   ]
  },
  {
   "cell_type": "code",
   "execution_count": 86,
   "metadata": {},
   "outputs": [],
   "source": [
    "trie = Trie([\n",
    "    [tokenizer.pad_token_id] + tokenizer.encode(i) + [tokenizer.eos_token_id] for i in paths_data\n",
    "])\n",
    "\n",
    "trie_rev = Trie([\n",
    "    [tokenizer.pad_token_id] + tokenizer.encode(i) + [tokenizer.eos_token_id] for i in paths_data_rev\n",
    "])"
   ]
  },
  {
   "cell_type": "code",
   "execution_count": 87,
   "metadata": {},
   "outputs": [],
   "source": [
    "def constraint(batch_id, sent):\n",
    "    return trie.get(sent.tolist())\n",
    "\n",
    "def constraint_rev(batch_id, sent):\n",
    "    return trie_rev.get(sent.tolist())"
   ]
  },
  {
   "cell_type": "code",
   "execution_count": 89,
   "metadata": {},
   "outputs": [
    {
     "data": {
      "text/plain": [
       "([\"<pad> women's clothing > bottoms > fashion leggings</s><pad><pad>\",\n",
       "  '<pad> sports > sports clothing > tights > running tights</s><pad><pad><pad>',\n",
       "  '<pad> sports > sports clothing > pants > trainning & exercise pants</s>',\n",
       "  '<pad> sports > fitness & body building > yoga > yoga pants</s><pad><pad>',\n",
       "  '<pad> sports > racquet sports > tennis > tennis pants</s><pad><pad>'],\n",
       " tensor([0.3565, 0.3226, 0.1016, 0.0787, 0.0234], device='cuda:0'),\n",
       " tensor(0.8828, device='cuda:0'))"
      ]
     },
     "execution_count": 89,
     "metadata": {},
     "output_type": "execute_result"
    }
   ],
   "source": [
    "outs = model.transformer.generate(\n",
    "    **model.tokenizer(\n",
    "        \"Top-down categorize Aliexpress product: \" + \\\n",
    "            \"ALONG FIT High Waisted Tummy Control Leggings-Yoga-Pants with Pockets Leggings for Women Workout Squat Proof Tights\", \n",
    "        return_tensors='pt'\n",
    "    ).to('cuda'), \n",
    "    num_beams=5, num_return_sequences=5, output_scores=True, return_dict_in_generate=True, length_penalty=0, max_new_tokens=50,\n",
    "    prefix_allowed_tokens_fn=constraint\n",
    ")\n",
    "model.tokenizer.batch_decode(outs.sequences), outs.sequences_scores.exp(), outs.sequences_scores.exp().sum()"
   ]
  },
  {
   "cell_type": "code",
   "execution_count": 90,
   "metadata": {},
   "outputs": [
    {
     "data": {
      "text/plain": [
       "(['<pad> yoga pants <unk> yoga <unk> fitness & body building <unk> sports</s><pad><pad>',\n",
       "  '<pad> running tights <unk> tights <unk> sports clothing <unk> sports</s><pad><pad><pad>',\n",
       "  '<pad> trainning & exercise pants <unk> pants <unk> sports clothing <unk> sports</s>',\n",
       "  \"<pad> fashion leggings <unk> bottoms <unk> women's clothing</s><pad><pad><pad>\",\n",
       "  \"<pad> pants <unk> bottoms <unk> women's clothing</s><pad><pad><pad><pad><pad><pad>\"],\n",
       " tensor([0.2948, 0.1508, 0.1357, 0.0937, 0.0472], device='cuda:0'),\n",
       " tensor(0.7222, device='cuda:0'))"
      ]
     },
     "execution_count": 90,
     "metadata": {},
     "output_type": "execute_result"
    }
   ],
   "source": [
    "outs = model.transformer.generate(\n",
    "    **model.tokenizer(\n",
    "        \"Bottom-up categorize Aliexpress product: \" + \\\n",
    "            \"ALONG FIT High Waisted Tummy Control Leggings-Yoga-Pants with Pockets Leggings for Women Workout Squat Proof Tights\", \n",
    "        return_tensors='pt'\n",
    "    ).to('cuda'), \n",
    "    num_beams=5, num_return_sequences=5, output_scores=True, return_dict_in_generate=True, length_penalty=0, max_new_tokens=50,\n",
    "    prefix_allowed_tokens_fn=constraint_rev\n",
    ")\n",
    "model.tokenizer.batch_decode(outs.sequences), outs.sequences_scores.exp(), outs.sequences_scores.exp().sum()"
   ]
  },
  {
   "cell_type": "code",
   "execution_count": 91,
   "metadata": {},
   "outputs": [],
   "source": [
    "from tqdm import tqdm"
   ]
  },
  {
   "cell_type": "code",
   "execution_count": 92,
   "metadata": {},
   "outputs": [],
   "source": [
    "df = df.sample(frac=1.0)"
   ]
  },
  {
   "cell_type": "code",
   "execution_count": 100,
   "metadata": {},
   "outputs": [
    {
     "name": "stderr",
     "output_type": "stream",
     "text": [
      "100%|██████████| 100/100 [03:11<00:00,  1.91s/it]\n"
     ]
    }
   ],
   "source": [
    "recs = []\n",
    "for rec in tqdm(df.iloc[:200].to_dict('records')[:100]):\n",
    "    outs = model.transformer.generate(\n",
    "        **model.tokenizer(\n",
    "            \"Top-down categorize Aliexpress product: \" + \\\n",
    "                rec['title'], \n",
    "            return_tensors='pt'\n",
    "        ).to('cuda'), \n",
    "        num_beams=5, num_return_sequences=5, output_scores=True, return_dict_in_generate=True, length_penalty=0, max_new_tokens=50,\n",
    "        prefix_allowed_tokens_fn=constraint\n",
    "    )\n",
    "    outs_rev = model.transformer.generate(\n",
    "        **model.tokenizer(\n",
    "            \"Bottom-up categorize Aliexpress product: \" + \\\n",
    "                rec['title'], \n",
    "            return_tensors='pt'\n",
    "        ).to('cuda'), \n",
    "        num_beams=5, num_return_sequences=5, output_scores=True, return_dict_in_generate=True, length_penalty=0, max_new_tokens=50,\n",
    "        prefix_allowed_tokens_fn=constraint_rev\n",
    "    )\n",
    "\n",
    "    preds = model.tokenizer.batch_decode(outs.sequences, skip_special_tokens=True)\n",
    "    probs = outs.sequences_scores.exp()\n",
    "    rec['t5_predicted_categories'] = [pred.split(' > ') for pred in preds]\n",
    "    rec['t5_predicted_category_prob'] = probs.detach().cpu().tolist()\n",
    "\n",
    "    preds_rev = model.tokenizer.batch_decode(outs_rev.sequences)\n",
    "    preds_rev = [i.replace('<unk>', '<').replace('</s>', '').replace('<pad>', '').strip() for i in preds_rev]\n",
    "    probs_rev = outs_rev.sequences_scores.exp()\n",
    "    rec['t5_predicted_categories_rev'] = [pred.split(' < ') for pred in preds_rev]\n",
    "    rec['t5_predicted_category_prob_rev'] = probs.detach().cpu().tolist()\n",
    "    recs.append(rec)"
   ]
  },
  {
   "cell_type": "code",
   "execution_count": 101,
   "metadata": {},
   "outputs": [],
   "source": [
    "df_pred = pd.DataFrame(recs)"
   ]
  },
  {
   "cell_type": "code",
   "execution_count": 102,
   "metadata": {},
   "outputs": [
    {
     "data": {
      "text/html": [
       "<div>\n",
       "<style scoped>\n",
       "    .dataframe tbody tr th:only-of-type {\n",
       "        vertical-align: middle;\n",
       "    }\n",
       "\n",
       "    .dataframe tbody tr th {\n",
       "        vertical-align: top;\n",
       "    }\n",
       "\n",
       "    .dataframe thead th {\n",
       "        text-align: right;\n",
       "    }\n",
       "</style>\n",
       "<table border=\"1\" class=\"dataframe\">\n",
       "  <thead>\n",
       "    <tr style=\"text-align: right;\">\n",
       "      <th></th>\n",
       "      <th>title</th>\n",
       "      <th>category</th>\n",
       "      <th>text</th>\n",
       "      <th>t5_predicted_categories</th>\n",
       "      <th>t5_predicted_category_prob</th>\n",
       "      <th>t5_predicted_categories_rev</th>\n",
       "      <th>t5_predicted_category_prob_rev</th>\n",
       "    </tr>\n",
       "  </thead>\n",
       "  <tbody>\n",
       "    <tr>\n",
       "      <th>0</th>\n",
       "      <td>8 Colors Strong Hyaluronic Acid Blossom Vitami...</td>\n",
       "      <td>[beauty &amp; health, makeup, face, primer]</td>\n",
       "      <td>8 Colors Strong Hyaluronic Acid Blossom Vitami...</td>\n",
       "      <td>[[beauty &amp; health, skin care, face, serum], [b...</td>\n",
       "      <td>[0.3518790304660797, 0.11798278242349625, 0.08...</td>\n",
       "      <td>[[facial sunscreen, sun, skin care, beauty &amp; h...</td>\n",
       "      <td>[0.3518790304660797, 0.11798278242349625, 0.08...</td>\n",
       "    </tr>\n",
       "    <tr>\n",
       "      <th>1</th>\n",
       "      <td>Snow-Socks Hiking-Equipment Self-Heating Magne...</td>\n",
       "      <td>[sports, camping &amp; hiking, hiking clothings, h...</td>\n",
       "      <td>Snow-Socks Hiking-Equipment Self-Heating Magne...</td>\n",
       "      <td>[[sports, skiing &amp; snowboarding, skiing socks]...</td>\n",
       "      <td>[0.797848105430603, 0.04138117656111717, 0.023...</td>\n",
       "      <td>[[skiing socks, skiing &amp; snowboarding, sports]...</td>\n",
       "      <td>[0.797848105430603, 0.04138117656111717, 0.023...</td>\n",
       "    </tr>\n",
       "  </tbody>\n",
       "</table>\n",
       "</div>"
      ],
      "text/plain": [
       "                                               title  \\\n",
       "0  8 Colors Strong Hyaluronic Acid Blossom Vitami...   \n",
       "1  Snow-Socks Hiking-Equipment Self-Heating Magne...   \n",
       "\n",
       "                                            category  \\\n",
       "0            [beauty & health, makeup, face, primer]   \n",
       "1  [sports, camping & hiking, hiking clothings, h...   \n",
       "\n",
       "                                                text  \\\n",
       "0  8 Colors Strong Hyaluronic Acid Blossom Vitami...   \n",
       "1  Snow-Socks Hiking-Equipment Self-Heating Magne...   \n",
       "\n",
       "                             t5_predicted_categories  \\\n",
       "0  [[beauty & health, skin care, face, serum], [b...   \n",
       "1  [[sports, skiing & snowboarding, skiing socks]...   \n",
       "\n",
       "                          t5_predicted_category_prob  \\\n",
       "0  [0.3518790304660797, 0.11798278242349625, 0.08...   \n",
       "1  [0.797848105430603, 0.04138117656111717, 0.023...   \n",
       "\n",
       "                         t5_predicted_categories_rev  \\\n",
       "0  [[facial sunscreen, sun, skin care, beauty & h...   \n",
       "1  [[skiing socks, skiing & snowboarding, sports]...   \n",
       "\n",
       "                      t5_predicted_category_prob_rev  \n",
       "0  [0.3518790304660797, 0.11798278242349625, 0.08...  \n",
       "1  [0.797848105430603, 0.04138117656111717, 0.023...  "
      ]
     },
     "execution_count": 102,
     "metadata": {},
     "output_type": "execute_result"
    }
   ],
   "source": [
    "df_pred.head(2)"
   ]
  },
  {
   "cell_type": "code",
   "execution_count": 112,
   "metadata": {},
   "outputs": [],
   "source": [
    "recs = []\n",
    "for i in df_pred.to_dict('records'):\n",
    "    tmp = set([tuple(j[::-1]) for j in i['t5_predicted_categories_rev']])\n",
    "    i['t5_predicted_categories_bidirectional'] = [j for j in i['t5_predicted_categories'] if tuple(j) in tmp]\n",
    "    recs.append(i)\n",
    "df_pred = pd.DataFrame(recs)"
   ]
  },
  {
   "cell_type": "code",
   "execution_count": 116,
   "metadata": {},
   "outputs": [
    {
     "name": "stdout",
     "output_type": "stream",
     "text": [
      "Depth: 0\n",
      "Size:  100\n",
      "# Unique Targets 22\n",
      "ACC T5:  0.88\n",
      "----------------------------------------------------------------------------------------------------\n",
      "Depth: 1\n",
      "Size:  100\n",
      "# Unique Targets 68\n",
      "ACC T5:  0.74\n",
      "----------------------------------------------------------------------------------------------------\n",
      "Depth: 2\n",
      "Size:  96\n",
      "# Unique Targets 93\n",
      "ACC T5:  0.6666666666666666\n",
      "----------------------------------------------------------------------------------------------------\n",
      "Depth: 3\n",
      "Size:  59\n",
      "# Unique Targets 58\n",
      "ACC T5:  0.6440677966101694\n",
      "----------------------------------------------------------------------------------------------------\n",
      "Depth: 4\n",
      "Size:  3\n",
      "# Unique Targets 3\n",
      "ACC T5:  1.0\n",
      "----------------------------------------------------------------------------------------------------\n"
     ]
    }
   ],
   "source": [
    "# top-down prediction\n",
    "for depth in range(7):\n",
    "    tmp = df_pred[df_pred.category.apply(len) > depth]\n",
    "    if len(tmp) > 0:\n",
    "        print('Depth:', depth)\n",
    "        print('Size: ', len(tmp))\n",
    "        print('# Unique Targets', len(set(tmp.category.apply(lambda x: ''.join(x[:depth+1])))))\n",
    "        print('ACC T5: ', (tmp.category.apply(lambda x: ''.join(x[:depth+1])) == \\\n",
    "            tmp.t5_predicted_categories.apply(lambda x: ''.join(x[0][:depth+1]) if len(x[0]) > depth else None)).mean())\n",
    "        print('-' * 100)"
   ]
  },
  {
   "cell_type": "code",
   "execution_count": 117,
   "metadata": {},
   "outputs": [
    {
     "name": "stdout",
     "output_type": "stream",
     "text": [
      "Depth: 0\n",
      "Size:  100\n",
      "# Unique Targets 22\n",
      "ACC T5:  0.85\n",
      "----------------------------------------------------------------------------------------------------\n",
      "Depth: 1\n",
      "Size:  100\n",
      "# Unique Targets 68\n",
      "ACC T5:  0.73\n",
      "----------------------------------------------------------------------------------------------------\n",
      "Depth: 2\n",
      "Size:  96\n",
      "# Unique Targets 93\n",
      "ACC T5:  0.6354166666666666\n",
      "----------------------------------------------------------------------------------------------------\n",
      "Depth: 3\n",
      "Size:  59\n",
      "# Unique Targets 58\n",
      "ACC T5:  0.5932203389830508\n",
      "----------------------------------------------------------------------------------------------------\n",
      "Depth: 4\n",
      "Size:  3\n",
      "# Unique Targets 3\n",
      "ACC T5:  0.6666666666666666\n",
      "----------------------------------------------------------------------------------------------------\n"
     ]
    }
   ],
   "source": [
    "# bottom-up prediction\n",
    "for depth in range(7):\n",
    "    tmp = df_pred[df_pred.category.apply(len) > depth]\n",
    "    if len(tmp) > 0:\n",
    "        print('Depth:', depth)\n",
    "        print('Size: ', len(tmp))\n",
    "        print('# Unique Targets', len(set(tmp.category.apply(lambda x: ''.join(x[:depth+1])))))\n",
    "        print('ACC T5: ', (tmp.category.apply(lambda x: ''.join(x[:depth+1])) == \\\n",
    "            tmp.t5_predicted_categories_rev.apply(lambda x: ''.join(x[0][::-1][:depth+1]) if len(x[0]) > depth else None)).mean())\n",
    "        print('-' * 100)"
   ]
  },
  {
   "cell_type": "code",
   "execution_count": 118,
   "metadata": {},
   "outputs": [
    {
     "name": "stdout",
     "output_type": "stream",
     "text": [
      "Depth: 0\n",
      "Size:  99\n",
      "# Unique Targets 22\n",
      "ACC T5:  0.8888888888888888\n",
      "----------------------------------------------------------------------------------------------------\n",
      "Depth: 1\n",
      "Size:  99\n",
      "# Unique Targets 68\n",
      "ACC T5:  0.7474747474747475\n",
      "----------------------------------------------------------------------------------------------------\n",
      "Depth: 2\n",
      "Size:  95\n",
      "# Unique Targets 92\n",
      "ACC T5:  0.6736842105263158\n",
      "----------------------------------------------------------------------------------------------------\n",
      "Depth: 3\n",
      "Size:  59\n",
      "# Unique Targets 58\n",
      "ACC T5:  0.6440677966101694\n",
      "----------------------------------------------------------------------------------------------------\n",
      "Depth: 4\n",
      "Size:  3\n",
      "# Unique Targets 3\n",
      "ACC T5:  1.0\n",
      "----------------------------------------------------------------------------------------------------\n"
     ]
    }
   ],
   "source": [
    "# bidirectional set intersection of top-down and bottom-up\n",
    "for depth in range(7):\n",
    "    tmp = df_pred[(df_pred.category.apply(len) > depth) & (df_pred.t5_predicted_categories_bidirectional.apply(len) > 0)]\n",
    "    if len(tmp) > 0:\n",
    "        print('Depth:', depth)\n",
    "        print('Size: ', len(tmp))\n",
    "        print('# Unique Targets', len(set(tmp.category.apply(lambda x: ''.join(x[:depth+1])))))\n",
    "        print('ACC T5: ', (tmp.category.apply(lambda x: ''.join(x[:depth+1])) == \\\n",
    "            tmp.t5_predicted_categories_bidirectional.apply(lambda x: ''.join(x[0][:depth+1]) if len(x[0]) > depth else None)).mean())\n",
    "        print('-' * 100)"
   ]
  },
  {
   "cell_type": "code",
   "execution_count": 119,
   "metadata": {},
   "outputs": [],
   "source": [
    "depth = 0\n",
    "tmp = df_pred[df_pred.category.apply(len) > depth]\n",
    "errors = tmp[(tmp.category.apply(lambda x: ''.join(x[:depth+1])) != \\\n",
    "            tmp.t5_predicted_categories.apply(lambda x: ''.join(x[0][:depth+1]) if len(x[0]) > depth else None))]"
   ]
  },
  {
   "cell_type": "code",
   "execution_count": 120,
   "metadata": {},
   "outputs": [
    {
     "data": {
      "text/plain": [
       "[{'title': 'Men Women Heated Insoles USB Rechargeable Winter Warm Heated  Insoles Lightweight Free to',\n",
       "  'category': ['mother & kids',\n",
       "   'baby stroller & accessories',\n",
       "   'lightweight stroller'],\n",
       "  't5_predicted_categories': [['shoes', 'shoe accessories', 'insoles'],\n",
       "   ['sports', 'sneakers', 'sneaker accessories'],\n",
       "   ['home & garden',\n",
       "    'household merchandises',\n",
       "    'warming products',\n",
       "    'warm paste pads'],\n",
       "   ['home & garden',\n",
       "    'household merchandises',\n",
       "    'warming products',\n",
       "    'electric heating pads'],\n",
       "   ['home & garden',\n",
       "    'household merchandises',\n",
       "    'warming products',\n",
       "    'electric blankets']]},\n",
       " {'title': 'Qianli apollo interstellar um para iphone fixo fotossensível cor original linha de dados detecção código da bateria ler e escrever',\n",
       "  'category': ['tools', 'tool sets', 'power tool sets'],\n",
       "  't5_predicted_categories': [['cellphones & telecommunications',\n",
       "    'mobile phone parts',\n",
       "    'mobile phone circuits'],\n",
       "   ['cellphones & telecommunications',\n",
       "    'mobile phone accessories',\n",
       "    'dust plug'],\n",
       "   ['cellphones & telecommunications',\n",
       "    'mobile phone accessories',\n",
       "    'phone accessory bundles & sets'],\n",
       "   ['tools', 'tool sets', 'power tool sets'],\n",
       "   ['cellphones & telecommunications',\n",
       "    'mobile phone parts',\n",
       "    'mobile phone housings & frames']]},\n",
       " {'title': 'Заказной Love Live! Проект «кумир школы» Наволочка украшения для дома размером 45*45 см; На молнии; С отделкой из квадратная Наволочка декоративна...',\n",
       "  'category': ['home & garden', 'home textile', 'bedding', 'pillow case'],\n",
       "  't5_predicted_categories': [['toys & hobbies',\n",
       "    'stuffed animals & plush',\n",
       "    'plush backpacks'],\n",
       "   ['home & garden', 'home decor', 'statues & sculptures'],\n",
       "   ['toys & hobbies', 'stuffed animals & plush', 'plush pillows'],\n",
       "   ['home & garden', 'home textile', 'bedding', 'pillow case'],\n",
       "   ['toys & hobbies', 'stuffed animals & plush', 'plush wall stuff']]},\n",
       " {'title': '1PC Watche Balance Wheel Spring for 8205 Watch Movements Watch Part Tool',\n",
       "  'category': ['home & garden',\n",
       "   'home decor',\n",
       "   'clocks',\n",
       "   'clock parts & accessories'],\n",
       "  't5_predicted_categories': [['watches',\n",
       "    'watch accessories',\n",
       "    'repair tools & kits'],\n",
       "   ['watches', 'watch accessories', 'watch movement'],\n",
       "   ['watches', 'watch accessories', 'watch boxes'],\n",
       "   ['watches', 'watch accessories', 'watch faces'],\n",
       "   ['home & garden', 'home decor', 'clocks', 'clock parts & accessories']]},\n",
       " {'title': 'XKT-1511 High-power Wireless Charging Three-terminal Output IC',\n",
       "  'category': ['furniture',\n",
       "   'home furniture',\n",
       "   'kitchen furniture',\n",
       "   'kitchen islands & trolleys'],\n",
       "  't5_predicted_categories': [['consumer electronics',\n",
       "    'accessories & parts',\n",
       "    'audio & video replacement parts',\n",
       "    'wireless module'],\n",
       "   ['electronic components & supplies',\n",
       "    'active components',\n",
       "    'integrated circuits'],\n",
       "   ['consumer electronics',\n",
       "    'accessories & parts',\n",
       "    'digital cables',\n",
       "    'power cables'],\n",
       "   ['consumer electronics',\n",
       "    'portable audio & video',\n",
       "    'professional audio equipment',\n",
       "    'stage audio'],\n",
       "   ['home improvement',\n",
       "    'electrical equipments & supplies',\n",
       "    'motors & parts',\n",
       "    'electricity generation']]},\n",
       " {'title': 'New Oracle Tarot of White cats tarot Card Board Deck Games Play Cards For Party Game Ghost tarot',\n",
       "  'category': ['entertainment', 'board games'],\n",
       "  't5_predicted_categories': [['toys & hobbies',\n",
       "    'puzzles & games',\n",
       "    'games',\n",
       "    'card games'],\n",
       "   ['entertainment', 'board games'],\n",
       "   ['toys & hobbies', 'hobby & collectibles', 'game collection cards'],\n",
       "   ['entertainment', 'gambling', 'playing cards'],\n",
       "   ['toys & hobbies', 'puzzles & games', 'games', 'party games']]},\n",
       " {'title': 'SCS409172 Escalator Step Guide Pad Use for SDS SWE 9300 1 Pack=100 Pieces',\n",
       "  'category': ['home improvement',\n",
       "   'hardware',\n",
       "   'power transmission',\n",
       "   'transmission chains'],\n",
       "  't5_predicted_categories': [['electronic components & supplies',\n",
       "    'electronic accessories & supplies',\n",
       "    'escalators & escalator parts',\n",
       "    'escalator parts'],\n",
       "   ['electronic components & supplies',\n",
       "    'electronic accessories & supplies',\n",
       "    'elevators & elevator parts',\n",
       "    'elevator parts'],\n",
       "   ['home improvement',\n",
       "    'hardware',\n",
       "    'power transmission',\n",
       "    'transmission chains'],\n",
       "   ['electronic components & supplies',\n",
       "    'electronic accessories & supplies',\n",
       "    'electrical contacts and contact materials'],\n",
       "   ['tools', 'machine tools & accessories', 'cnc controller']]},\n",
       " {'title': 'Спортивный женский костюм онлайн знаменитости Профессиональный тренажерный зал бег Повседневная мода для начинающих весна-осень женская ...',\n",
       "  'category': ['sports', 'fitness & body building', 'yoga', 'yoga shirts'],\n",
       "  't5_predicted_categories': [[\"women's clothing\", 'outerwear', 'blazers'],\n",
       "   [\"women's clothing\", 'rompers'],\n",
       "   [\"women's clothing\", 'outerwear', 'jackets'],\n",
       "   [\"women's clothing\", 'matching sets', 'pants sets'],\n",
       "   ['novelty & special use',\n",
       "    'costumes & accessories',\n",
       "    \"women's costumes\",\n",
       "    'movie & tv costumes']]},\n",
       " {'title': 'Teddy Bear Mascot Costume Suit Adult Cosplay Halloween Funny Party Game Dress Outfits Clothing Advertising Carnival Xmas Easter',\n",
       "  'category': ['novelty & special use', 'costumes & accessories', 'mascot'],\n",
       "  't5_predicted_categories': [['toys & hobbies',\n",
       "    'stuffed animals & plush',\n",
       "    'clothing & accessories for plush stuff'],\n",
       "   ['novelty & special use', 'costumes & accessories', 'mascot'],\n",
       "   ['home & garden', 'pet products', 'dog clothing & shoes', 'dog sets'],\n",
       "   ['toys & hobbies', 'stuffed animals & plush', 'stuffed & plush animals'],\n",
       "   ['novelty & special use',\n",
       "    'costumes & accessories',\n",
       "    \"men's costumes\",\n",
       "    'game costumes']]},\n",
       " {'title': 'Electric Bicycle 24V 36V 48V S830  Waterproof LCD Display Screen for eBike Bike Screen',\n",
       "  'category': ['automobiles & motorcycles',\n",
       "   'auto replacement parts',\n",
       "   'gauges',\n",
       "   'speedometers'],\n",
       "  't5_predicted_categories': [['sports',\n",
       "    'cycling',\n",
       "    'electric bicycle part',\n",
       "    'conversion kit'],\n",
       "   ['sports', 'cycling', 'electric bicycle accessories'],\n",
       "   ['sports', 'cycling', 'electric bicycle part', 'electric bicycle motor'],\n",
       "   ['sports', 'cycling', 'electric bicycle part', 'electric bicycle battery'],\n",
       "   ['sports', 'cycling', 'electric bicycle']]},\n",
       " {'title': 'نابض بالحياة ثلاثية الأبعاد أوزة طُعم للصيد كامل الجسم الحديقة اطلاق النار شرك ساحة والعتاد',\n",
       "  'category': ['sports', 'hunting', 'hunting decoy'],\n",
       "  't5_predicted_categories': [['home & garden',\n",
       "    'pet products',\n",
       "    'dog clothing & shoes',\n",
       "    'dog sets'],\n",
       "   ['home & garden', 'kitchen,dining & bar', 'utensils', 'scrapers'],\n",
       "   ['home & garden', 'kitchen,dining & bar', 'bakeware', 'baking inserts'],\n",
       "   ['home & garden',\n",
       "    'kitchen,dining & bar',\n",
       "    'bakeware',\n",
       "    'baking & pastry spatulas'],\n",
       "   ['home & garden',\n",
       "    'kitchen,dining & bar',\n",
       "    'cookware & parts',\n",
       "    'cookware sets']]},\n",
       " {'title': 'LED Ring Flash Light Lamp Tabletop Stand Monopod Mount Bracket with Tripods with Mobile Phone Holder Overhead Shot For Nail art',\n",
       "  'category': ['cellphones & telecommunications',\n",
       "   'mobile phone accessories',\n",
       "   'phone flashes & selfie lights'],\n",
       "  't5_predicted_categories': [['consumer electronics',\n",
       "    'camera & photo',\n",
       "    'flashes & accessories',\n",
       "    'flash accessories'],\n",
       "   ['consumer electronics', 'live equipment', 'live tripods'],\n",
       "   ['consumer electronics', 'camera & photo', 'photo studio', 'light stand'],\n",
       "   ['consumer electronics',\n",
       "    'camera & photo',\n",
       "    'camera & photo accessories',\n",
       "    'photo studio accessories'],\n",
       "   ['consumer electronics',\n",
       "    'camera & photo',\n",
       "    'camera & photo accessories',\n",
       "    'photographic lighting']]}]"
      ]
     },
     "execution_count": 120,
     "metadata": {},
     "output_type": "execute_result"
    }
   ],
   "source": [
    "# lots errors are from label not model\n",
    "errors[['title', 'category', 't5_predicted_categories']].to_dict('records')"
   ]
  },
  {
   "cell_type": "code",
   "execution_count": null,
   "metadata": {},
   "outputs": [],
   "source": []
  }
 ],
 "metadata": {
  "kernelspec": {
   "display_name": "Python 3.8.13 ('py38')",
   "language": "python",
   "name": "python3"
  },
  "language_info": {
   "codemirror_mode": {
    "name": "ipython",
    "version": 3
   },
   "file_extension": ".py",
   "mimetype": "text/x-python",
   "name": "python",
   "nbconvert_exporter": "python",
   "pygments_lexer": "ipython3",
   "version": "3.8.13"
  },
  "orig_nbformat": 4,
  "vscode": {
   "interpreter": {
    "hash": "3ea19d11efa7602c1f12500925a974ed4f31fcf847bd6f694bd5180da2602ded"
   }
  }
 },
 "nbformat": 4,
 "nbformat_minor": 2
}
