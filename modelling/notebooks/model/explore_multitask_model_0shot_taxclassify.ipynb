{
 "cells": [
  {
   "cell_type": "code",
   "execution_count": 1,
   "metadata": {},
   "outputs": [],
   "source": [
    "import dvc.api\n",
    "import pandas as pd"
   ]
  },
  {
   "cell_type": "code",
   "execution_count": 2,
   "metadata": {},
   "outputs": [],
   "source": [
    "import sys \n",
    "sys.path.append('../../')"
   ]
  },
  {
   "cell_type": "code",
   "execution_count": 3,
   "metadata": {},
   "outputs": [],
   "source": [
    "from main_multitask import LLM_Multitask"
   ]
  },
  {
   "cell_type": "code",
   "execution_count": 3,
   "metadata": {},
   "outputs": [
    {
     "name": "stderr",
     "output_type": "stream",
     "text": [
      "INFO:root:Unused kwargs when getting t5-base: {'distance_func': 'cosine', 'loss_type': 'cross-entropy', 'margin': None, 'hidden_states_type': 'encoder-last', 'add_simcse': True, 'label_map_file': '../../datasets/taxonomy/wish_v1.2.1_newtax_allpaths.txt', 'label_weight_type': 'ancestor-high', 'additional_tricks': None, 'multitask_names': ['clm_ali_title2tax', 'dlm_wish_title', 'emb_all_title2tax', 'seqclf_ali_title2tax'], 'auto_task_weight': False}\n",
      "/opt/conda/envs/py38/lib/python3.8/site-packages/transformers/models/t5/tokenization_t5_fast.py:156: FutureWarning: This tokenizer was incorrectly instantiated with a model max length of 512 which will be corrected in Transformers v5.\n",
      "For now, this behavior is kept to avoid breaking backwards compatibility when padding/encoding with `truncation is True`.\n",
      "- Be aware that you SHOULD NOT rely on t5-base automatically truncating your input to 512 when padding/encoding.\n",
      "- If you want to encode/pad to sequences longer than 512 you can either instantiate this tokenizer with `model_max_length` or pass `max_length` when encoding/padding.\n",
      "- To avoid this warning, please instantiate this tokenizer with `model_max_length` set to your preferred value.\n",
      "  warnings.warn(\n"
     ]
    }
   ],
   "source": [
    "model = LLM_Multitask.load_from_checkpoint('../../models/product_title_multitask/version_1/epoch=0-step=349636.ckpt', \n",
    "    label_map_file='../../datasets/taxonomy/wish_v1.2.1_newtax_allpaths.txt')"
   ]
  },
  {
   "cell_type": "code",
   "execution_count": 4,
   "metadata": {},
   "outputs": [],
   "source": [
    "model.eval()\n",
    "tmp = 2"
   ]
  },
  {
   "cell_type": "markdown",
   "metadata": {},
   "source": [
    "# useful"
   ]
  },
  {
   "cell_type": "code",
   "execution_count": 51,
   "metadata": {},
   "outputs": [
    {
     "data": {
      "text/plain": [
       "(37, 984, 995)"
      ]
     },
     "execution_count": 51,
     "metadata": {},
     "output_type": "execute_result"
    }
   ],
   "source": [
    "df_sam = pd.read_csv('../../tmp_test_value_list.csv')\n",
    "df_sam['amazon_l1_flattype'] = (df_sam.L1_source + \" > \" + df_sam.product_type).str.lower()\n",
    "len(set(df_sam.L1_source)), len(set(df_sam.product_type)), len(set(df_sam.amazon_l1_flattype))"
   ]
  },
  {
   "cell_type": "code",
   "execution_count": 59,
   "metadata": {},
   "outputs": [],
   "source": [
    "results = {i: [] for i in set(df_sam['amazon_l1_flattype'])}"
   ]
  },
  {
   "cell_type": "code",
   "execution_count": 60,
   "metadata": {},
   "outputs": [],
   "source": [
    "# seqclf-based 0-shot categorize ood taxonomy from google shopping\n",
    "label_map_rev = {model.label_map[i]: i for i in model.label_map}\n"
   ]
  },
  {
   "cell_type": "code",
   "execution_count": 61,
   "metadata": {},
   "outputs": [],
   "source": [
    "from tqdm import tqdm"
   ]
  },
  {
   "cell_type": "code",
   "execution_count": 62,
   "metadata": {},
   "outputs": [
    {
     "name": "stderr",
     "output_type": "stream",
     "text": [
      "100%|██████████| 995/995 [13:50<00:00,  1.20it/s] \n"
     ]
    }
   ],
   "source": [
    "for t in tqdm(results):\n",
    "    inputs = model.tokenizer(f\"Classify taxonomy: {t}\", \n",
    "        return_tensors='pt')\n",
    "    input_ids = inputs['input_ids']\n",
    "    attention_mask = inputs['attention_mask']\n",
    "    hidden_states = model.get_hidden_states(\n",
    "        input_ids = input_ids, \n",
    "        attention_mask = attention_mask\n",
    "    )\n",
    "    logits = model.clf_head(hidden_states)\n",
    "    prediction = logits\n",
    "    probs = prediction.sigmoid()\n",
    "    top_probs, top_pred_indices = probs.topk(probs.size(1))\n",
    "    assert prediction.size(1) == len(model.label_map)\n",
    "    results[t] = [(label_map_rev[i], probs[0][i].item()) for i in top_pred_indices.detach().cpu().numpy().reshape(-1) if label_map_rev[i].count('>') == 1]\n"
   ]
  },
  {
   "cell_type": "code",
   "execution_count": 77,
   "metadata": {},
   "outputs": [],
   "source": [
    "df_sam['top_prediced_wish_l2s'] = df_sam['amazon_l1_flattype'].apply(lambda x: results[x][:25])"
   ]
  },
  {
   "cell_type": "code",
   "execution_count": 79,
   "metadata": {},
   "outputs": [],
   "source": [
    "df_sam.to_csv('../../tmp_test_value_list_withpredwishl2s.csv', index=False)"
   ]
  },
  {
   "cell_type": "code",
   "execution_count": 4,
   "metadata": {},
   "outputs": [],
   "source": [
    "import pandas as pd\n",
    "df_sam = pd.read_csv('../../tmp_test_value_list_withpredwishl2s.csv')"
   ]
  },
  {
   "cell_type": "code",
   "execution_count": 7,
   "metadata": {},
   "outputs": [],
   "source": [
    "df_sam.groupby(['product_type', 'L1_source']).agg({\"top_prediced_wish_l2s\": \"first\"}).reset_index().to_csv(\n",
    "    '../../tmp_test_value_list_withpredwishl2s_groupby.csv', index=False)"
   ]
  },
  {
   "cell_type": "code",
   "execution_count": 6,
   "metadata": {},
   "outputs": [
    {
     "data": {
      "text/plain": [
       "[{'attribute': 'Maximum Weight Recommendation Unit Of Measure',\n",
       "  'product_type': 'toybuildingblock',\n",
       "  'L1_source': 'Toy',\n",
       "  'attr_values': \"['LB', 'Tons', 'OZ', 'KG', 'MG', 'GR', 'Hundredths Pounds']\",\n",
       "  'amazon_l1_flattype': 'toy > toybuildingblock',\n",
       "  'top_prediced_wish_l2s': \"[('toys & hobbies > classic toys', 0.12237467616796494), ('sports > team sports', 0.04356149211525917), ('sports > fitness & body building', 0.042670391499996185), ('education & office supplies > books & magazines', 0.037974338978528976), ('toys & hobbies > dolls & accessories', 0.03540969640016556), ('toys & hobbies > learning & education', 0.034304190427064896), ('entertainment > musical instruments', 0.026826132088899612), ('toys & hobbies > stuffed animals & plush toys', 0.02505052275955677), ('sports > sports clothing', 0.019445398822426796), ('toys & hobbies > baby & toddler toys', 0.014485400170087814), ('toys & hobbies > action & toy figures', 0.013625518418848515), ('sports > sneakers', 0.010622089728713036), ('toys & hobbies > puzzles & games', 0.009732312522828579), ('sports > horse racing', 0.00894645694643259), ('toys & hobbies > model building', 0.008935442194342613), ('entertainment > chess sets', 0.008462915197014809), ('mother & kids > activity & gear', 0.00802638940513134), ('toys & hobbies > outdoor fun & sports', 0.007675101049244404), ('sports > swimming', 0.007472881115972996), ('toys & hobbies > pools & water fun', 0.007295159623026848), ('toys & hobbies > pretend play', 0.006633516401052475), ('home & garden > arts, crafts & sewing', 0.006609995849430561), ('automobiles & motorcycles > auto replacement parts', 0.006229038815945387), ('sports > racquet sports', 0.005483548156917095), ('entertainment > amusement park', 0.005362614523619413)]\"},\n",
       " {'attribute': 'lithium_battery_energy_content_unit_of_measure',\n",
       "  'product_type': 'steeringwheelcover',\n",
       "  'L1_source': 'AutoAccessory',\n",
       "  'attr_values': \"['Kilowatt Hours', 'Joules', 'Cubic Feet', 'Watt Hours', 'Milliampere Hour (mAh)', 'Cubic Meters', 'Milliamp Hours (mAh)', 'Milliampere Second (mAs)', 'British Thermal Units (BTUs)']\",\n",
       "  'amazon_l1_flattype': 'autoaccessory > steeringwheelcover',\n",
       "  'top_prediced_wish_l2s': \"[('automobiles & motorcycles > auto replacement parts', 0.49938932061195374), ('automobiles & motorcycles > atv,rv,boat & other vehicle', 0.12256070971488953), ('automobiles & motorcycles > interior accessories', 0.0277076605707407), ('home improvement > home appliances', 0.025563068687915802), ('mother & kids > baby stroller & accessories', 0.025452962145209312), ('furniture > home furniture', 0.020457906648516655), ('automobiles & motorcycles > motorcycle accessories & parts', 0.01237223669886589), ('sports > roller skates, skateboards & scooters', 0.01204800046980381), ('tools > machine tools & accessories', 0.00816192477941513), ('home & garden > home textile', 0.00755016366019845), ('home & garden > home decor', 0.006215316709131002), ('consumer electronics > video games', 0.005679728928953409), ('consumer electronics > camera & photo', 0.004724255297333002), ('automobiles & motorcycles > car electronics', 0.004089065827429295), ('cellphones & telecommunications > mobile phone accessories', 0.003937142435461283), ('sports > golf', 0.003871974302455783), ('toys & hobbies > ride-on toys', 0.0037352994550019503), ('entertainment > musical instruments', 0.003724708454683423), ('mother & kids > car seats & accessories', 0.0035232575610280037), ('toys & hobbies > model building', 0.003523210994899273), ('toys & hobbies > remote control toys', 0.003381890943273902), ('sports > sneakers', 0.0028600143268704414), ('computer & office > tablet accessories', 0.0026161500718444586), ('sports > cycling', 0.002610660158097744), ('sports > team sports', 0.002570399781689048)]\"},\n",
       " {'attribute': 'Shape',\n",
       "  'product_type': 'rug',\n",
       "  'L1_source': 'Home',\n",
       "  'attr_values': \"['Runner', 'Rectangular', 'Oval', 'Half Circle', 'Octagon', 'Round', 'Square']\",\n",
       "  'amazon_l1_flattype': 'home > rug',\n",
       "  'top_prediced_wish_l2s': '[(\\'furniture > home furniture\\', 0.3744298219680786), (\\'entertainment > musical instruments\\', 0.1427547037601471), (\\'home & garden > garden supplies\\', 0.036358945071697235), (\\'home & garden > home decor\\', 0.03244418278336525), (\\'home & garden > household cleaning\\', 0.02427801676094532), (\\'home & garden > home textile\\', 0.02099614590406418), (\\'education & office supplies > books & magazines\\', 0.01980939321219921), (\\'mother & kids > activity & gear\\', 0.015934115275740623), (\\'home & garden > pet products\\', 0.013709869235754013), (\\'home improvement > painting supplies & wall treatments\\', 0.012297768145799637), (\\'home improvement > building supplies\\', 0.011713658459484577), (\\'education & office supplies > art supplies\\', 0.011415352113544941), (\\'consumer electronics > portable audio & video\\', 0.01003761775791645), (\\'home improvement > home appliances\\', 0.009979259222745895), (\\'education & office supplies > filing products\\', 0.0094076469540596), (\\'home improvement > hardware\\', 0.009333042427897453), (\\'home & garden > kitchen,dining & bar\\', 0.009211097843945026), (\\'home improvement > kitchen fixtures\\', 0.009031355381011963), (\\'entertainment > amusement park\\', 0.008701639249920845), (\\'home improvement > bathroom fixtures\\', 0.008028446696698666), (\\'tools > measurement & analysis instruments\\', 0.0073526096530258656), (\\'automobiles & motorcycles > interior accessories\\', 0.0064229704439640045), (\"shoes > women\\'s shoes\", 0.006388859357684851), (\\'home & garden > arts, crafts & sewing\\', 0.0063135987147688866), (\\'tools > tool organizers\\', 0.006279205437749624)]'},\n",
       " {'attribute': 'Sleeve Length Unit Of Measure',\n",
       "  'product_type': 'golfclubiron',\n",
       "  'L1_source': 'Sports',\n",
       "  'attr_values': \"['CM', 'feet', 'IN', 'meters', 'MM']\",\n",
       "  'amazon_l1_flattype': 'sports > golfclubiron',\n",
       "  'top_prediced_wish_l2s': '[(\\'sports > golf\\', 0.9898949265480042), (\\'sports > team sports\\', 0.04358505457639694), (\\'sports > sports clothing\\', 0.018455905839800835), (\\'sports > racquet sports\\', 0.012859818525612354), (\\'sports > sneakers\\', 0.00886495504528284), (\\'sports > fitness & body building\\', 0.007781835738569498), (\\'sports > fishing\\', 0.007139215711504221), (\\'sports > water sports\\', 0.005770657677203417), (\\'automobiles & motorcycles > auto replacement parts\\', 0.0057463631965219975), (\\'sports > roller skates, skateboards & scooters\\', 0.005623338744044304), (\\'sports > swimming\\', 0.0052405414171516895), (\\'sports > sports bags\\', 0.0042785643599927425), (\\'home & garden > arts, crafts & sewing\\', 0.003912429325282574), (\\'sports > running\\', 0.0031030832324177027), (\\'cellphones & telecommunications > mobile phone parts\\', 0.002340256003662944), (\\'sports > sports accessories\\', 0.002239988651126623), (\\'sports > cycling\\', 0.002189572202041745), (\\'home & garden > household cleaning\\', 0.0019771126098930836), (\\'home improvement > home appliances\\', 0.001413825317285955), (\\'automobiles & motorcycles > atv,rv,boat & other vehicle\\', 0.0009924306068569422), (\\'sports > hunting\\', 0.0009587384411133826), (\"women\\'s clothing > activewear & loungewear\", 0.0009370266925543547), (\\'home & garden > household merchandise\\', 0.0007912890869192779), (\\'sports > skiing & snowboarding\\', 0.0007439743494614959), (\\'home & garden > home decor\\', 0.0007318324642255902)]'},\n",
       " {'attribute': 'Categorization/GHS pictograms (select all that apply)',\n",
       "  'product_type': 'toiletpaper',\n",
       "  'L1_source': 'Office',\n",
       "  'attr_values': \"['explosive', 'flammable', 'oxidizing', 'compressed_gas', 'corrosive', 'toxic', 'irritant', 'health_hazard', 'environmentally_damaging', 'amzn_specific_no_label_with_warning']\",\n",
       "  'amazon_l1_flattype': 'office > toiletpaper',\n",
       "  'top_prediced_wish_l2s': '[(\\'home improvement > bathroom fixtures\\', 0.42526283860206604), (\\'home & garden > bathroom products\\', 0.04182012379169464), (\\'home & garden > household cleaning\\', 0.02797909453511238), (\\'beauty & health > health care\\', 0.0268247053027153), (\\'beauty & health > sanitary paper\\', 0.02187114953994751), (\\'mother & kids > toilet training\\', 0.017150864005088806), (\\'home improvement > hardware\\', 0.01702575385570526), (\\'furniture > home furniture\\', 0.015246660448610783), (\\'novelty & special use > traditional & cultural wear\\', 0.014678220264613628), (\\'home improvement > home appliances\\', 0.012736131437122822), (\\'sports > fitness & body building\\', 0.012352639809250832), (\"women\\'s clothing > swimwear\", 0.009621958248317242), (\\'home & garden > pet products\\', 0.009232411161065102), (\"women\\'s clothing > muslim fashion\", 0.008078171871602535), (\\'home improvement > plumbing\\', 0.007647418882697821), (\\'home & garden > home decor\\', 0.007352206390351057), (\\'home improvement > kitchen fixtures\\', 0.00669291103258729), (\\'computer & office > office electronics\\', 0.0062514119781553745), (\\'beauty & health > fragrances & deodorants\\', 0.006019951775670052), (\\'beauty & health > bath & shower\\', 0.005398570094257593), (\\'education & office supplies > labels, indexes & stamps\\', 0.005132343154400587), (\\'automobiles & motorcycles > auto replacement parts\\', 0.004679014440625906), (\\'automobiles & motorcycles > car wash & maintenance\\', 0.004470864776521921), (\\'home & garden > garden supplies\\', 0.004233307670801878), (\\'computer & office > desktops\\', 0.00395414512604475)]'}]"
      ]
     },
     "execution_count": 6,
     "metadata": {},
     "output_type": "execute_result"
    }
   ],
   "source": [
    "df_sam.sample(5).to_dict('records')"
   ]
  },
  {
   "cell_type": "code",
   "execution_count": 74,
   "metadata": {},
   "outputs": [
    {
     "data": {
      "text/plain": [
       "[('automobiles & motorcycles > car electronics', 0.08472103625535965),\n",
       " ('consumer electronics > portable audio & video', 0.05618169158697128),\n",
       " ('entertainment > musical instruments', 0.0555446483194828),\n",
       " ('tools > measurement & analysis instruments', 0.05305119603872299),\n",
       " ('home improvement > home appliances', 0.04363132640719414),\n",
       " ('automobiles & motorcycles > car repair tools', 0.03162699565291405),\n",
       " ('consumer electronics > home audio & video', 0.031125836074352264),\n",
       " ('automobiles & motorcycles > auto replacement parts', 0.021887294948101044),\n",
       " ('electronic components & supplies > passive components',\n",
       "  0.011953347362577915),\n",
       " ('computer & office > networking', 0.009184069000184536)]"
      ]
     },
     "execution_count": 74,
     "metadata": {},
     "output_type": "execute_result"
    }
   ],
   "source": [
    "results['consumerelectronics > tuner'][:10]"
   ]
  }
 ],
 "metadata": {
  "kernelspec": {
   "display_name": "Python 3.8.13 ('py38')",
   "language": "python",
   "name": "python3"
  },
  "language_info": {
   "codemirror_mode": {
    "name": "ipython",
    "version": 3
   },
   "file_extension": ".py",
   "mimetype": "text/x-python",
   "name": "python",
   "nbconvert_exporter": "python",
   "pygments_lexer": "ipython3",
   "version": "3.8.13"
  },
  "orig_nbformat": 4,
  "vscode": {
   "interpreter": {
    "hash": "3ea19d11efa7602c1f12500925a974ed4f31fcf847bd6f694bd5180da2602ded"
   }
  }
 },
 "nbformat": 4,
 "nbformat_minor": 2
}
