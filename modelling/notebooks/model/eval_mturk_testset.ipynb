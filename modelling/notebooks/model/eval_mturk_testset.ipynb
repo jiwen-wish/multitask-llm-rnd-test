{
 "cells": [
  {
   "cell_type": "code",
   "execution_count": 2,
   "metadata": {},
   "outputs": [],
   "source": [
    "import sys \n",
    "sys.path.append('../../')\n",
    "from main_conditional_lm import LLM\n",
    "from main_utils import Trie"
   ]
  },
  {
   "cell_type": "code",
   "execution_count": 4,
   "metadata": {},
   "outputs": [
    {
     "name": "stderr",
     "output_type": "stream",
     "text": [
      "INFO:root:Unused kwargs when getting t5-large: {}\n",
      "/opt/conda/envs/py38/lib/python3.8/site-packages/pytorch_lightning/core/saving.py:263: UserWarning: Found keys that are in the model state dict but not in the checkpoint: ['transformer.encoder.embed_tokens.weight', 'transformer.decoder.embed_tokens.weight', 'transformer.lm_head.weight']\n",
      "  rank_zero_warn(\n"
     ]
    }
   ],
   "source": [
    "model = LLM.load_from_checkpoint(\n",
    "    '../../models/product_title_taxonomy_classification/version_4/epoch=0-step=996156.ckpt/pytorch_model.bin', strict=False)"
   ]
  },
  {
   "cell_type": "code",
   "execution_count": 5,
   "metadata": {},
   "outputs": [],
   "source": [
    "model.eval()\n",
    "model.cuda()\n",
    "tokenizer = model.tokenizer"
   ]
  },
  {
   "cell_type": "code",
   "execution_count": 11,
   "metadata": {},
   "outputs": [
    {
     "data": {
      "text/plain": [
       "(['<pad> beauty & health > sexual wellness > sex toys > anal expander</s><pad><pad><pad>',\n",
       "  '<pad> beauty & health > sexual wellness > sex toys > vibrators</s><pad><pad><pad><pad><pad>',\n",
       "  '<pad> beauty & health > sexual wellness > sex toys > anal plug</s><pad><pad><pad><pad>',\n",
       "  '<pad> beauty & health > sexual wellness > sex toys > dildos</s><pad>',\n",
       "  '<pad> beauty & health > sexual wellness > sex toys > clitoris stimulation</s><pad><pad>',\n",
       "  '<pad> beauty & health > sexual wellness > sex toys > anal sex toys</s><pad>',\n",
       "  '<pad> beauty & health > sexual wellness > sm products > gags & muzzles</s>',\n",
       "  '<pad> beauty & health > sexual wellness > sm products > masturbation machine</s><pad><pad>',\n",
       "  '<pad> beauty & health > sexual wellness > sm products > adult games</s><pad><pad><pad><pad><pad>',\n",
       "  '<pad> beauty & health > sexual wellness > sm products > sex furniture</s><pad><pad><pad>'],\n",
       " tensor([0.2459, 0.2404, 0.1402, 0.0812, 0.0425, 0.0202, 0.0161, 0.0151, 0.0113,\n",
       "         0.0101], device='cuda:0'),\n",
       " tensor(0.8231, device='cuda:0'))"
      ]
     },
     "execution_count": 11,
     "metadata": {},
     "output_type": "execute_result"
    }
   ],
   "source": [
    "\n",
    "outs = model.transformer.generate(\n",
    "    **model.tokenizer(\n",
    "        \"Top-down categorize Aliexpress product: \" + \\\n",
    "            \"High-tech Dildo vibrator XL\", \n",
    "        return_tensors='pt'\n",
    "    ).to('cuda'), \n",
    "    num_beams=10, num_return_sequences=10, output_scores=True, return_dict_in_generate=True, length_penalty=0, max_new_tokens=50\n",
    ")\n",
    "model.tokenizer.batch_decode(outs.sequences), outs.sequences_scores.exp(), outs.sequences_scores.exp().sum()"
   ]
  },
  {
   "cell_type": "code",
   "execution_count": 4,
   "metadata": {},
   "outputs": [],
   "source": [
    "import dvc.api"
   ]
  },
  {
   "cell_type": "code",
   "execution_count": 5,
   "metadata": {},
   "outputs": [
    {
     "name": "stderr",
     "output_type": "stream",
     "text": [
      "INFO:asyncssh:Opening SSH connection to github.com, port 22\n",
      "INFO:asyncssh:[conn=0] Connected to SSH server at github.com, port 22\n",
      "INFO:asyncssh:[conn=0]   Local address: 192.168.0.3, port 32798\n",
      "INFO:asyncssh:[conn=0]   Peer address: 140.82.114.3, port 22\n",
      "INFO:asyncssh:[conn=0] Beginning auth for user git\n",
      "INFO:asyncssh:[conn=0] Auth for user git succeeded\n",
      "INFO:asyncssh:[conn=0, chan=0] Requesting new SSH session\n",
      "INFO:asyncssh:[conn=0, chan=0]   Command: git-upload-pack 'junwang-wish/query_understanding_data.git'\n",
      "INFO:asyncssh:[conn=0, chan=0] Received exit status 0\n",
      "INFO:asyncssh:[conn=0, chan=0] Received channel close\n",
      "INFO:asyncssh:[conn=0, chan=0] Channel closed\n",
      "INFO:asyncssh:[conn=0] Closing connection\n",
      "INFO:asyncssh:[conn=0] Sending disconnect: Disconnected by application (11)\n",
      "INFO:asyncssh:[conn=0] Connection closed\n",
      "INFO:asyncssh:Opening SSH connection to github.com, port 22\n",
      "INFO:asyncssh:[conn=1] Connected to SSH server at github.com, port 22\n",
      "INFO:asyncssh:[conn=1]   Local address: 192.168.0.3, port 44246\n",
      "INFO:asyncssh:[conn=1]   Peer address: 140.82.114.4, port 22\n",
      "INFO:asyncssh:[conn=1] Beginning auth for user git\n",
      "INFO:asyncssh:[conn=1] Auth for user git succeeded\n",
      "INFO:asyncssh:[conn=1, chan=0] Requesting new SSH session\n",
      "INFO:asyncssh:[conn=1, chan=0]   Command: git-upload-pack 'junwang-wish/query_understanding_data.git'\n",
      "INFO:asyncssh:[conn=1] Closing connection\n",
      "INFO:asyncssh:[conn=1, chan=0] Closing channel\n",
      "INFO:asyncssh:[conn=1] Sending disconnect: Disconnected by application (11)\n",
      "INFO:asyncssh:[conn=1] Connection closed\n",
      "INFO:asyncssh:[conn=1, chan=0] Closing channel due to connection close\n",
      "INFO:asyncssh:[conn=1, chan=0] Channel closed\n",
      "INFO:asyncssh:Opening SSH connection to github.com, port 22\n",
      "INFO:asyncssh:[conn=2] Connected to SSH server at github.com, port 22\n",
      "INFO:asyncssh:[conn=2]   Local address: 192.168.0.3, port 32806\n",
      "INFO:asyncssh:[conn=2]   Peer address: 140.82.114.3, port 22\n",
      "INFO:asyncssh:[conn=2] Beginning auth for user git\n",
      "INFO:asyncssh:[conn=2] Auth for user git succeeded\n",
      "INFO:asyncssh:[conn=2, chan=0] Requesting new SSH session\n",
      "INFO:asyncssh:[conn=2, chan=0]   Command: git-upload-pack 'junwang-wish/query_understanding_data.git'\n",
      "INFO:asyncssh:[conn=2] Closing connection\n",
      "INFO:asyncssh:[conn=2, chan=0] Closing channel\n",
      "INFO:asyncssh:[conn=2] Sending disconnect: Disconnected by application (11)\n",
      "INFO:asyncssh:[conn=2] Connection closed\n",
      "INFO:asyncssh:[conn=2, chan=0] Closing channel due to connection close\n",
      "INFO:asyncssh:[conn=2, chan=0] Channel closed\n"
     ]
    }
   ],
   "source": [
    "resource_url = dvc.api.get_url(\n",
    "    'data/taxonomy/wish_newtax.json',\n",
    "    repo='git@github.com:ContextLogic/multitask-llm-rnd.git'\n",
    ")"
   ]
  },
  {
   "cell_type": "code",
   "execution_count": 6,
   "metadata": {},
   "outputs": [],
   "source": [
    "import pandas as pd"
   ]
  },
  {
   "cell_type": "code",
   "execution_count": 7,
   "metadata": {},
   "outputs": [
    {
     "name": "stderr",
     "output_type": "stream",
     "text": [
      "INFO:aiobotocore.credentials:Found credentials in environment variables.\n"
     ]
    }
   ],
   "source": [
    "df_tax = pd.read_json(resource_url, lines=True)"
   ]
  },
  {
   "cell_type": "code",
   "execution_count": 8,
   "metadata": {},
   "outputs": [
    {
     "data": {
      "text/html": [
       "<div>\n",
       "<style scoped>\n",
       "    .dataframe tbody tr th:only-of-type {\n",
       "        vertical-align: middle;\n",
       "    }\n",
       "\n",
       "    .dataframe tbody tr th {\n",
       "        vertical-align: top;\n",
       "    }\n",
       "\n",
       "    .dataframe thead th {\n",
       "        text-align: right;\n",
       "    }\n",
       "</style>\n",
       "<table border=\"1\" class=\"dataframe\">\n",
       "  <thead>\n",
       "    <tr style=\"text-align: right;\">\n",
       "      <th></th>\n",
       "      <th>category_tree_version</th>\n",
       "      <th>id</th>\n",
       "      <th>category_path</th>\n",
       "      <th>is_leaf</th>\n",
       "    </tr>\n",
       "  </thead>\n",
       "  <tbody>\n",
       "    <tr>\n",
       "      <th>0</th>\n",
       "      <td>v1.2.1</td>\n",
       "      <td>4658</td>\n",
       "      <td>Security &amp; Protection &gt; Building Automation</td>\n",
       "      <td>True</td>\n",
       "    </tr>\n",
       "    <tr>\n",
       "      <th>1</th>\n",
       "      <td>v1.2.1</td>\n",
       "      <td>4659</td>\n",
       "      <td>Security &amp; Protection &gt; Door Intercom</td>\n",
       "      <td>False</td>\n",
       "    </tr>\n",
       "  </tbody>\n",
       "</table>\n",
       "</div>"
      ],
      "text/plain": [
       "  category_tree_version    id                                category_path  \\\n",
       "0                v1.2.1  4658  Security & Protection > Building Automation   \n",
       "1                v1.2.1  4659        Security & Protection > Door Intercom   \n",
       "\n",
       "   is_leaf  \n",
       "0     True  \n",
       "1    False  "
      ]
     },
     "execution_count": 8,
     "metadata": {},
     "output_type": "execute_result"
    }
   ],
   "source": [
    "df_tax.head(2)"
   ]
  },
  {
   "cell_type": "code",
   "execution_count": 9,
   "metadata": {},
   "outputs": [],
   "source": [
    "paths = df_tax[df_tax['is_leaf']]['category_path'].apply(lambda x: ''.join(['[' + i.strip().lower() + ']' for i in x.split(' > ')])).tolist()"
   ]
  },
  {
   "cell_type": "code",
   "execution_count": 10,
   "metadata": {},
   "outputs": [
    {
     "data": {
      "text/plain": [
       "5291"
      ]
     },
     "execution_count": 10,
     "metadata": {},
     "output_type": "execute_result"
    }
   ],
   "source": [
    "len(paths)"
   ]
  },
  {
   "cell_type": "code",
   "execution_count": 11,
   "metadata": {},
   "outputs": [],
   "source": [
    "trie = Trie([\n",
    "    [tokenizer.pad_token_id] + tokenizer.encode(i) + [tokenizer.eos_token_id] for i in paths\n",
    "])"
   ]
  },
  {
   "cell_type": "code",
   "execution_count": 12,
   "metadata": {},
   "outputs": [],
   "source": [
    "def constraint(batch_id, sent):\n",
    "    return trie.get(sent.tolist())"
   ]
  },
  {
   "cell_type": "code",
   "execution_count": 19,
   "metadata": {},
   "outputs": [
    {
     "data": {
      "text/plain": [
       "([\"<pad> [women's clothing][bottoms][fashion leggings]</s><pad><pad><pad><pad><pad><pad>\",\n",
       "  '<pad> [sports][fitness & body building][yoga][yoga pants]</s><pad><pad><pad>',\n",
       "  '<pad> [mother & kids][pregnancy & maternity][leggings]</s><pad><pad><pad><pad>',\n",
       "  '<pad> [sports][sports clothing][sets/suits][trainning & exercise sets]</s>',\n",
       "  '<pad> [sports][sports clothing][tights][running tights]</s><pad><pad><pad><pad><pad>'],\n",
       " tensor([0.6398, 0.0250, 0.0215, 0.0206, 0.0196], device='cuda:0'),\n",
       " tensor(0.7264, device='cuda:0'))"
      ]
     },
     "execution_count": 19,
     "metadata": {},
     "output_type": "execute_result"
    }
   ],
   "source": [
    "outs = model.transformer.generate(\n",
    "    **model.tokenizer(\n",
    "        \"Categorize Aliexpress product: \" + \\\n",
    "            \"ALONG FIT High Waisted Tummy Control Leggings-Yoga-Pants with Pockets Leggings for Women Workout Squat Proof Tights\", \n",
    "        return_tensors='pt'\n",
    "    ).to('cuda'), \n",
    "    num_beams=5, num_return_sequences=5, output_scores=True, return_dict_in_generate=True, length_penalty=0, max_new_tokens=50,\n",
    "    prefix_allowed_tokens_fn=constraint\n",
    ")\n",
    "model.tokenizer.batch_decode(outs.sequences), outs.sequences_scores.exp(), outs.sequences_scores.exp().sum()"
   ]
  },
  {
   "cell_type": "code",
   "execution_count": 13,
   "metadata": {},
   "outputs": [
    {
     "name": "stderr",
     "output_type": "stream",
     "text": [
      "INFO:asyncssh:Opening SSH connection to github.com, port 22\n",
      "INFO:asyncssh:[conn=3] Connected to SSH server at github.com, port 22\n",
      "INFO:asyncssh:[conn=3]   Local address: 192.168.0.3, port 32828\n",
      "INFO:asyncssh:[conn=3]   Peer address: 140.82.114.3, port 22\n",
      "INFO:asyncssh:[conn=3] Beginning auth for user git\n",
      "INFO:asyncssh:[conn=3] Auth for user git succeeded\n",
      "INFO:asyncssh:[conn=3, chan=0] Requesting new SSH session\n",
      "INFO:asyncssh:[conn=3, chan=0]   Command: git-upload-pack '/junwang-wish/query_understanding_data.git'\n",
      "INFO:asyncssh:[conn=3] Closing connection\n",
      "INFO:asyncssh:[conn=3, chan=0] Closing channel\n",
      "INFO:asyncssh:[conn=3] Sending disconnect: Disconnected by application (11)\n",
      "INFO:asyncssh:[conn=3] Connection closed\n",
      "INFO:asyncssh:[conn=3, chan=0] Closing channel due to connection close\n",
      "INFO:asyncssh:[conn=3, chan=0] Channel closed\n",
      "INFO:asyncssh:Opening SSH connection to github.com, port 22\n",
      "INFO:asyncssh:[conn=4] Connected to SSH server at github.com, port 22\n",
      "INFO:asyncssh:[conn=4]   Local address: 192.168.0.3, port 44272\n",
      "INFO:asyncssh:[conn=4]   Peer address: 140.82.114.4, port 22\n",
      "INFO:asyncssh:[conn=4] Beginning auth for user git\n",
      "INFO:asyncssh:[conn=4] Auth for user git succeeded\n",
      "INFO:asyncssh:[conn=4, chan=0] Requesting new SSH session\n",
      "INFO:asyncssh:[conn=4, chan=0]   Command: git-upload-pack '/junwang-wish/query_understanding_data.git'\n",
      "INFO:asyncssh:[conn=4] Closing connection\n",
      "INFO:asyncssh:[conn=4, chan=0] Closing channel\n",
      "INFO:asyncssh:[conn=4] Sending disconnect: Disconnected by application (11)\n",
      "INFO:asyncssh:[conn=4] Connection closed\n",
      "INFO:asyncssh:[conn=4, chan=0] Closing channel due to connection close\n",
      "INFO:asyncssh:[conn=4, chan=0] Channel closed\n",
      "INFO:asyncssh:Opening SSH connection to github.com, port 22\n",
      "INFO:asyncssh:[conn=5] Connected to SSH server at github.com, port 22\n",
      "INFO:asyncssh:[conn=5]   Local address: 192.168.0.3, port 44274\n",
      "INFO:asyncssh:[conn=5]   Peer address: 140.82.114.4, port 22\n",
      "INFO:asyncssh:[conn=5] Beginning auth for user git\n",
      "INFO:asyncssh:[conn=5] Auth for user git succeeded\n",
      "INFO:asyncssh:[conn=5, chan=0] Requesting new SSH session\n",
      "INFO:asyncssh:[conn=5, chan=0]   Command: git-upload-pack '/junwang-wish/query_understanding_data.git'\n",
      "INFO:asyncssh:[conn=5] Closing connection\n",
      "INFO:asyncssh:[conn=5, chan=0] Closing channel\n",
      "INFO:asyncssh:[conn=5] Sending disconnect: Disconnected by application (11)\n",
      "INFO:asyncssh:[conn=5] Connection closed\n",
      "INFO:asyncssh:[conn=5, chan=0] Closing channel due to connection close\n",
      "INFO:asyncssh:[conn=5, chan=0] Channel closed\n"
     ]
    }
   ],
   "source": [
    "df = pd.read_json(\n",
    "    dvc.api.get_url(\n",
    "        'data/wish_products/wish-mturk-labelled-09202022-clean-joinedlance.json',\n",
    "        repo='git@github.com:ContextLogic/multitask-llm-rnd.git'\n",
    "    ), lines=True\n",
    ")"
   ]
  },
  {
   "cell_type": "code",
   "execution_count": 14,
   "metadata": {},
   "outputs": [
    {
     "data": {
      "text/html": [
       "<div>\n",
       "<style scoped>\n",
       "    .dataframe tbody tr th:only-of-type {\n",
       "        vertical-align: middle;\n",
       "    }\n",
       "\n",
       "    .dataframe tbody tr th {\n",
       "        vertical-align: top;\n",
       "    }\n",
       "\n",
       "    .dataframe thead th {\n",
       "        text-align: right;\n",
       "    }\n",
       "</style>\n",
       "<table border=\"1\" class=\"dataframe\">\n",
       "  <thead>\n",
       "    <tr style=\"text-align: right;\">\n",
       "      <th></th>\n",
       "      <th>pid</th>\n",
       "      <th>title</th>\n",
       "      <th>category</th>\n",
       "      <th>text</th>\n",
       "      <th>lance_predicted_category_id</th>\n",
       "      <th>lance_predicted_category</th>\n",
       "      <th>lance_predicted_is_leaf</th>\n",
       "    </tr>\n",
       "  </thead>\n",
       "  <tbody>\n",
       "    <tr>\n",
       "      <th>0</th>\n",
       "      <td>5ce7ad18c04b4c486820a407</td>\n",
       "      <td>Fantasy Master - 681 - sv√§rd</td>\n",
       "      <td>[education &amp; office supplies, cutting supplies...</td>\n",
       "      <td>Fantasy Master - 681 - sv√§rd -&gt; [education &amp; ...</td>\n",
       "      <td>2705</td>\n",
       "      <td>[home &amp; garden, home decor, ornaments, swords]</td>\n",
       "      <td>True</td>\n",
       "    </tr>\n",
       "    <tr>\n",
       "      <th>1</th>\n",
       "      <td>610dee5b63838066f029717e</td>\n",
       "      <td>Silent Red Thing Silent Hill Pyramid Head Horr...</td>\n",
       "      <td>[home &amp; garden, home textile, bedding, blankets]</td>\n",
       "      <td>Silent Red Thing Silent Hill Pyramid Head Horr...</td>\n",
       "      <td>2784</td>\n",
       "      <td>[home &amp; garden, home textile, bedding, throws]</td>\n",
       "      <td>True</td>\n",
       "    </tr>\n",
       "  </tbody>\n",
       "</table>\n",
       "</div>"
      ],
      "text/plain": [
       "                        pid  \\\n",
       "0  5ce7ad18c04b4c486820a407   \n",
       "1  610dee5b63838066f029717e   \n",
       "\n",
       "                                               title  \\\n",
       "0                      Fantasy Master - 681 - sv√§rd   \n",
       "1  Silent Red Thing Silent Hill Pyramid Head Horr...   \n",
       "\n",
       "                                            category  \\\n",
       "0  [education & office supplies, cutting supplies...   \n",
       "1   [home & garden, home textile, bedding, blankets]   \n",
       "\n",
       "                                                text  \\\n",
       "0  Fantasy Master - 681 - sv√§rd -> [education & ...   \n",
       "1  Silent Red Thing Silent Hill Pyramid Head Horr...   \n",
       "\n",
       "   lance_predicted_category_id  \\\n",
       "0                         2705   \n",
       "1                         2784   \n",
       "\n",
       "                         lance_predicted_category  lance_predicted_is_leaf  \n",
       "0  [home & garden, home decor, ornaments, swords]                     True  \n",
       "1  [home & garden, home textile, bedding, throws]                     True  "
      ]
     },
     "execution_count": 14,
     "metadata": {},
     "output_type": "execute_result"
    }
   ],
   "source": [
    "df.head(2)"
   ]
  },
  {
   "cell_type": "code",
   "execution_count": 15,
   "metadata": {},
   "outputs": [],
   "source": [
    "df['category_text'] = df['category'].apply(lambda x: ''.join(['[' + i + ']' for i in x]))\n",
    "assert df['category_text'].apply(lambda x: x in paths).all()"
   ]
  },
  {
   "cell_type": "code",
   "execution_count": 30,
   "metadata": {},
   "outputs": [],
   "source": [
    "from tqdm import tqdm"
   ]
  },
  {
   "cell_type": "code",
   "execution_count": 40,
   "metadata": {},
   "outputs": [
    {
     "name": "stderr",
     "output_type": "stream",
     "text": [
      "100%|██████████| 6401/6401 [45:56<00:00,  2.32it/s]\n"
     ]
    }
   ],
   "source": [
    "recs = []\n",
    "for rec in tqdm(df.to_dict('records')):\n",
    "    outs = model.transformer.generate(\n",
    "        **model.tokenizer(\n",
    "            \"Categorize Aliexpress product: \" + \\\n",
    "                rec['title'], \n",
    "            return_tensors='pt'\n",
    "        ).to('cuda'), \n",
    "        num_beams=2, num_return_sequences=2, output_scores=True, return_dict_in_generate=True, length_penalty=0, max_new_tokens=50,\n",
    "        prefix_allowed_tokens_fn=constraint\n",
    "    )\n",
    "    preds = model.tokenizer.batch_decode(outs.sequences, skip_special_tokens=True)\n",
    "    probs = outs.sequences_scores.exp()\n",
    "    rec['t5_predicted_categories'] = [pred[1:-1].split('][') for pred in preds]\n",
    "    rec['t5_predicted_category_prob'] = probs.detach().cpu().tolist()\n",
    "    recs.append(rec)"
   ]
  },
  {
   "cell_type": "code",
   "execution_count": 41,
   "metadata": {},
   "outputs": [],
   "source": [
    "df_pred = pd.DataFrame(recs)\n"
   ]
  },
  {
   "cell_type": "code",
   "execution_count": 42,
   "metadata": {},
   "outputs": [
    {
     "data": {
      "text/html": [
       "<div>\n",
       "<style scoped>\n",
       "    .dataframe tbody tr th:only-of-type {\n",
       "        vertical-align: middle;\n",
       "    }\n",
       "\n",
       "    .dataframe tbody tr th {\n",
       "        vertical-align: top;\n",
       "    }\n",
       "\n",
       "    .dataframe thead th {\n",
       "        text-align: right;\n",
       "    }\n",
       "</style>\n",
       "<table border=\"1\" class=\"dataframe\">\n",
       "  <thead>\n",
       "    <tr style=\"text-align: right;\">\n",
       "      <th></th>\n",
       "      <th>pid</th>\n",
       "      <th>title</th>\n",
       "      <th>category</th>\n",
       "      <th>text</th>\n",
       "      <th>lance_predicted_category_id</th>\n",
       "      <th>lance_predicted_category</th>\n",
       "      <th>lance_predicted_is_leaf</th>\n",
       "      <th>category_text</th>\n",
       "      <th>t5_predicted_categories</th>\n",
       "      <th>t5_predicted_category_prob</th>\n",
       "    </tr>\n",
       "  </thead>\n",
       "  <tbody>\n",
       "    <tr>\n",
       "      <th>0</th>\n",
       "      <td>5ce7ad18c04b4c486820a407</td>\n",
       "      <td>Fantasy Master - 681 - sv√§rd</td>\n",
       "      <td>[education &amp; office supplies, cutting supplies...</td>\n",
       "      <td>Fantasy Master - 681 - sv√§rd -&gt; [education &amp; ...</td>\n",
       "      <td>2705</td>\n",
       "      <td>[home &amp; garden, home decor, ornaments, swords]</td>\n",
       "      <td>True</td>\n",
       "      <td>[education &amp; office supplies][cutting supplies...</td>\n",
       "      <td>[[home improvement, home appliances, home appl...</td>\n",
       "      <td>[0.01616569049656391, 0.01278897374868393]</td>\n",
       "    </tr>\n",
       "    <tr>\n",
       "      <th>1</th>\n",
       "      <td>610dee5b63838066f029717e</td>\n",
       "      <td>Silent Red Thing Silent Hill Pyramid Head Horr...</td>\n",
       "      <td>[home &amp; garden, home textile, bedding, blankets]</td>\n",
       "      <td>Silent Red Thing Silent Hill Pyramid Head Horr...</td>\n",
       "      <td>2784</td>\n",
       "      <td>[home &amp; garden, home textile, bedding, throws]</td>\n",
       "      <td>True</td>\n",
       "      <td>[home &amp; garden][home textile][bedding][blankets]</td>\n",
       "      <td>[[home &amp; garden, home textile, bedding, blanke...</td>\n",
       "      <td>[0.35011327266693115, 0.1273525208234787]</td>\n",
       "    </tr>\n",
       "  </tbody>\n",
       "</table>\n",
       "</div>"
      ],
      "text/plain": [
       "                        pid  \\\n",
       "0  5ce7ad18c04b4c486820a407   \n",
       "1  610dee5b63838066f029717e   \n",
       "\n",
       "                                               title  \\\n",
       "0                      Fantasy Master - 681 - sv√§rd   \n",
       "1  Silent Red Thing Silent Hill Pyramid Head Horr...   \n",
       "\n",
       "                                            category  \\\n",
       "0  [education & office supplies, cutting supplies...   \n",
       "1   [home & garden, home textile, bedding, blankets]   \n",
       "\n",
       "                                                text  \\\n",
       "0  Fantasy Master - 681 - sv√§rd -> [education & ...   \n",
       "1  Silent Red Thing Silent Hill Pyramid Head Horr...   \n",
       "\n",
       "   lance_predicted_category_id  \\\n",
       "0                         2705   \n",
       "1                         2784   \n",
       "\n",
       "                         lance_predicted_category  lance_predicted_is_leaf  \\\n",
       "0  [home & garden, home decor, ornaments, swords]                     True   \n",
       "1  [home & garden, home textile, bedding, throws]                     True   \n",
       "\n",
       "                                       category_text  \\\n",
       "0  [education & office supplies][cutting supplies...   \n",
       "1   [home & garden][home textile][bedding][blankets]   \n",
       "\n",
       "                             t5_predicted_categories  \\\n",
       "0  [[home improvement, home appliances, home appl...   \n",
       "1  [[home & garden, home textile, bedding, blanke...   \n",
       "\n",
       "                   t5_predicted_category_prob  \n",
       "0  [0.01616569049656391, 0.01278897374868393]  \n",
       "1   [0.35011327266693115, 0.1273525208234787]  "
      ]
     },
     "execution_count": 42,
     "metadata": {},
     "output_type": "execute_result"
    }
   ],
   "source": [
    "df_pred.head(2)"
   ]
  },
  {
   "cell_type": "code",
   "execution_count": 44,
   "metadata": {},
   "outputs": [
    {
     "name": "stdout",
     "output_type": "stream",
     "text": [
      "Depth: 0\n",
      "Size:  6401\n",
      "# Unique Targets 25\n",
      "ACC T5:  0.6777066083424464\n",
      "ACC Lance:  0.8042493360412436\n",
      "----------------------------------------------------------------------------------------------------\n",
      "Depth: 1\n",
      "Size:  6401\n",
      "# Unique Targets 203\n",
      "ACC T5:  0.5192938603343228\n",
      "ACC Lance:  0.6231838775191376\n",
      "----------------------------------------------------------------------------------------------------\n",
      "Depth: 2\n",
      "Size:  6401\n",
      "# Unique Targets 868\n",
      "ACC T5:  0.37478518981409153\n",
      "ACC Lance:  0.5063271363849399\n",
      "----------------------------------------------------------------------------------------------------\n",
      "Depth: 3\n",
      "Size:  2475\n",
      "# Unique Targets 869\n",
      "ACC T5:  0.2404040404040404\n",
      "ACC Lance:  0.4\n",
      "----------------------------------------------------------------------------------------------------\n",
      "Depth: 4\n",
      "Size:  27\n",
      "# Unique Targets 18\n",
      "ACC T5:  0.2222222222222222\n",
      "ACC Lance:  0.4074074074074074\n",
      "----------------------------------------------------------------------------------------------------\n"
     ]
    }
   ],
   "source": [
    "for depth in range(7):\n",
    "    tmp = df_pred[df_pred.category.apply(len) > depth]\n",
    "    if len(tmp) > 0:\n",
    "        print('Depth:', depth)\n",
    "        print('Size: ', len(tmp))\n",
    "        print('# Unique Targets', len(set(tmp.category.apply(lambda x: ''.join(x[:depth+1])))))\n",
    "        print('ACC T5: ', (tmp.category.apply(lambda x: ''.join(x[:depth+1])) == \\\n",
    "            tmp.t5_predicted_categories.apply(lambda x: ''.join(x[0][:depth+1]) if len(x[0]) > depth else None)).mean())\n",
    "        print('ACC Lance: ', (tmp.category.apply(lambda x: ''.join(x[:depth+1])) == \\\n",
    "            tmp.lance_predicted_category.apply(lambda x: ''.join(x[:depth+1]) if len(x) > depth else None)).mean())\n",
    "        print('-' * 100)"
   ]
  },
  {
   "cell_type": "code",
   "execution_count": null,
   "metadata": {},
   "outputs": [],
   "source": []
  }
 ],
 "metadata": {
  "kernelspec": {
   "display_name": "Python 3.8.13 ('py38')",
   "language": "python",
   "name": "python3"
  },
  "language_info": {
   "codemirror_mode": {
    "name": "ipython",
    "version": 3
   },
   "file_extension": ".py",
   "mimetype": "text/x-python",
   "name": "python",
   "nbconvert_exporter": "python",
   "pygments_lexer": "ipython3",
   "version": "3.8.13"
  },
  "orig_nbformat": 4,
  "vscode": {
   "interpreter": {
    "hash": "3ea19d11efa7602c1f12500925a974ed4f31fcf847bd6f694bd5180da2602ded"
   }
  }
 },
 "nbformat": 4,
 "nbformat_minor": 2
}
