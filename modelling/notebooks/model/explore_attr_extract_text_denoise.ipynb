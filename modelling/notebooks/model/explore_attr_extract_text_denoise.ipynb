{
 "cells": [
  {
   "cell_type": "code",
   "execution_count": 1,
   "metadata": {},
   "outputs": [],
   "source": [
    "import dvc.api\n",
    "import pandas as pd\n",
    "import sys \n",
    "sys.path.append('../../')\n",
    "from main_multitask_multimodal import LLM_MultitaskMultimodal"
   ]
  },
  {
   "cell_type": "code",
   "execution_count": 167,
   "metadata": {},
   "outputs": [],
   "source": [
    "from pytorch_lightning.utilities.deepspeed import convert_zero_checkpoint_to_fp32_state_dict\n",
    "save_path = '/workspaces/multitask-llm-rnd/modelling/models/product_attribute_extraction_text_generation/version_2/epoch=4-step=8094.ckpt'\n",
    "output_path = f'{save_path}/pytorch_model.bin'\n"
   ]
  },
  {
   "cell_type": "code",
   "execution_count": 168,
   "metadata": {},
   "outputs": [
    {
     "name": "stdout",
     "output_type": "stream",
     "text": [
      "Processing zero checkpoint '/workspaces/multitask-llm-rnd/modelling/models/product_attribute_extraction_text_generation/version_2/epoch=4-step=8094.ckpt/checkpoint'\n",
      "Detected checkpoint of type zero stage 2, world_size: 6\n",
      "Parsing checkpoint created by deepspeed==0.7.3\n",
      "Reconstructed fp32 state dict with 283 params 582401281 elements\n",
      "Saving fp32 state dict to /workspaces/multitask-llm-rnd/modelling/models/product_attribute_extraction_text_generation/version_2/epoch=4-step=8094.ckpt/pytorch_model.bin\n"
     ]
    }
   ],
   "source": [
    "convert_zero_checkpoint_to_fp32_state_dict(save_path, output_path)"
   ]
  },
  {
   "cell_type": "code",
   "execution_count": 169,
   "metadata": {},
   "outputs": [
    {
     "name": "stderr",
     "output_type": "stream",
     "text": [
      "INFO:root:Unused kwargs when getting google/mt5-base: {'distance_func': 'cosine', 'loss_type': 'cross-entropy', 'margin': None, 'hidden_states_type': 'encoder-last', 'add_simcse': False, 'manual_loss_type': 'manual_mse', 'auto_task_weight': False, 'multitask_specs_dict': {'clm_singlemodal_wishtitledesp2attrkvpair': None}, 'head_dict': {}}\n"
     ]
    }
   ],
   "source": [
    "model = LLM_MultitaskMultimodal.load_from_checkpoint(output_path)"
   ]
  },
  {
   "cell_type": "code",
   "execution_count": 170,
   "metadata": {},
   "outputs": [],
   "source": [
    "def format_input(question, title, description, category):\n",
    "    template = f'[question start] {question} [question end] [title start] {title} [title end] [description start] {description} [description end] [taxonomy start] {category} [taxonomy end]'\n",
    "    task_prefix = 'Denoise attribute value given attribute key questions for product with description and taxonomy: '\n",
    "    return task_prefix + template"
   ]
  },
  {
   "cell_type": "code",
   "execution_count": 171,
   "metadata": {},
   "outputs": [],
   "source": [
    "# df = pd.read_json(dvc.api.get_url( \n",
    "#     'datasets/data/wish_attr_extract_label/processed2/appen_020323_030323_delivered_030623_validated_product_attr_textonly_train_t5denoiseformat.json', \n",
    "#     repo='git@github.com:ContextLogic/multitask-llm-rnd.git'\n",
    "# ), lines=True)"
   ]
  },
  {
   "cell_type": "code",
   "execution_count": 172,
   "metadata": {},
   "outputs": [],
   "source": [
    "rec = df.sample(1).to_dict('records')[0]"
   ]
  },
  {
   "cell_type": "code",
   "execution_count": 180,
   "metadata": {},
   "outputs": [],
   "source": [
    "input_text = format_input(rec['attr_name_value_pairs_all_lower_t5_denoise_question'], rec['title'], rec['description'], rec['category'])"
   ]
  },
  {
   "cell_type": "code",
   "execution_count": 174,
   "metadata": {},
   "outputs": [],
   "source": [
    "# input_text = format_input('gender: <extra_id_0>', rec['title'], rec['description'], rec['category'])"
   ]
  },
  {
   "cell_type": "code",
   "execution_count": 190,
   "metadata": {},
   "outputs": [],
   "source": [
    "input_text = format_input('sport or activity type: <extra_id_0>', rec['title'], rec['description'], rec['category'])"
   ]
  },
  {
   "cell_type": "code",
   "execution_count": 191,
   "metadata": {},
   "outputs": [
    {
     "data": {
      "text/plain": [
       "{'label_ordering': 18723,\n",
       " 'sample_method': 'only_text',\n",
       " 'pid': '602b8cab460914324f037c51',\n",
       " 'category': 'Sports > Sneakers > Skateboarding Shoes',\n",
       " 'title': 'Spring Autumn 2021 Men Canvas Shoes High Top Sneakers Men Vulcanize Shoes Casual Lace-Up Breathable Plus Size 35-44 High Quality 202101@#148',\n",
       " 'description': 'Brand Name:\\nUpper Material:Canvas\\nOrigin:CN(Origin)\\nInsole Material:EVA\\nFashion Element:Sewing\\nPattern Type:Patchwork\\nLining Material:Canvas\\nSeason:Spring/Autumn\\nClosure Type:Lace-Up\\nHeel Height:Low (1cm-3cm)\\nFit:Fits true to size, take your normal size 202101@#148',\n",
       " 'main_img_url': nan,\n",
       " 'rater_output_processed': 'Sports > Sneakers > Skateboarding Shoes > Sport or Activity Type > Skateboarding\\nSports > Sneakers > Skateboarding Shoes > Materials > Ethylene Vinyl Acetate (EVA)\\nSports > Sneakers > Skateboarding Shoes > Materials > Canvas',\n",
       " 'attr_name_value_pairs_normalized': [['Materials', 'Canvas'],\n",
       "  ['Materials', 'Ethylene Vinyl Acetate (EVA)'],\n",
       "  ['Sport or Activity Type', 'Skateboarding']],\n",
       " 'attr_name_value_pairs_custom': [],\n",
       " 'attr_name_value_pairs_normalized_text': 'Materials|Canvas\\nMaterials|Ethylene Vinyl Acetate (EVA)\\nSport or Activity Type|Skateboarding',\n",
       " 'attr_name_value_pairs_all_lower_t5_denoise_question': 'sport or activity type: <extra_id_0>;materials: <extra_id_1>',\n",
       " 'attr_name_value_pairs_all_lower_t5_denoise_answer': '<extra_id_0>skateboarding <extra_id_1>ethylene vinyl acetate (eva),canvas <extra_id_2>'}"
      ]
     },
     "execution_count": 191,
     "metadata": {},
     "output_type": "execute_result"
    }
   ],
   "source": [
    "rec"
   ]
  },
  {
   "cell_type": "code",
   "execution_count": 192,
   "metadata": {},
   "outputs": [
    {
     "name": "stdout",
     "output_type": "stream",
     "text": [
      "Denoise attribute value given attribute key questions for product with description and taxonomy: [question start] sport or activity type: <extra_id_0> [question end] [title start] Spring Autumn 2021 Men Canvas Shoes High Top Sneakers Men Vulcanize Shoes Casual Lace-Up Breathable Plus Size 35-44 High Quality 202101@#148 [title end] [description start] Brand Name:\n",
      "Upper Material:Canvas\n",
      "Origin:CN(Origin)\n",
      "Insole Material:EVA\n",
      "Fashion Element:Sewing\n",
      "Pattern Type:Patchwork\n",
      "Lining Material:Canvas\n",
      "Season:Spring/Autumn\n",
      "Closure Type:Lace-Up\n",
      "Heel Height:Low (1cm-3cm)\n",
      "Fit:Fits true to size, take your normal size 202101@#148 [description end] [taxonomy start] Sports > Sneakers > Skateboarding Shoes [taxonomy end]\n"
     ]
    }
   ],
   "source": [
    "print(input_text)"
   ]
  },
  {
   "cell_type": "code",
   "execution_count": 193,
   "metadata": {},
   "outputs": [],
   "source": [
    "inputs = model.tokenizer(input_text, return_tensors='pt')"
   ]
  },
  {
   "cell_type": "code",
   "execution_count": 194,
   "metadata": {},
   "outputs": [
    {
     "data": {
      "text/plain": [
       "['<pad> <extra_id_0>skateboarding <extra_id_1></s>']"
      ]
     },
     "execution_count": 194,
     "metadata": {},
     "output_type": "execute_result"
    }
   ],
   "source": [
    "model.eval()\n",
    "model.tokenizer.batch_decode(model.transformer.generate(**inputs))"
   ]
  },
  {
   "cell_type": "code",
   "execution_count": null,
   "metadata": {},
   "outputs": [],
   "source": []
  },
  {
   "cell_type": "code",
   "execution_count": null,
   "metadata": {},
   "outputs": [],
   "source": []
  }
 ],
 "metadata": {
  "kernelspec": {
   "display_name": "py38",
   "language": "python",
   "name": "python3"
  },
  "language_info": {
   "codemirror_mode": {
    "name": "ipython",
    "version": 3
   },
   "file_extension": ".py",
   "mimetype": "text/x-python",
   "name": "python",
   "nbconvert_exporter": "python",
   "pygments_lexer": "ipython3",
   "version": "3.8.13"
  },
  "orig_nbformat": 4,
  "vscode": {
   "interpreter": {
    "hash": "3ea19d11efa7602c1f12500925a974ed4f31fcf847bd6f694bd5180da2602ded"
   }
  }
 },
 "nbformat": 4,
 "nbformat_minor": 2
}
