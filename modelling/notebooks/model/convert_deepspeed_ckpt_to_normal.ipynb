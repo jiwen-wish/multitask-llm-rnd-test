{
 "cells": [
  {
   "cell_type": "code",
   "execution_count": 1,
   "metadata": {},
   "outputs": [],
   "source": [
    "import sys \n",
    "sys.path.append('../../')\n",
    "from main_conditional_lm import LLM\n",
    "from main_utils import Trie"
   ]
  },
  {
   "cell_type": "code",
   "execution_count": 2,
   "metadata": {},
   "outputs": [],
   "source": [
    "from pytorch_lightning.utilities.deepspeed import convert_zero_checkpoint_to_fp32_state_dict\n",
    "\n",
    "# lightning deepspeed has saved a directory instead of a file\n",
    "save_path = '../../models/product_title_taxonomy_classification/version_4/epoch=0-step=996156.ckpt'\n",
    "output_path = '../../models/product_title_taxonomy_classification/version_4/epoch=0-step=996156.ckpt/pytorch_model.bin'\n"
   ]
  },
  {
   "cell_type": "code",
   "execution_count": 3,
   "metadata": {},
   "outputs": [
    {
     "name": "stdout",
     "output_type": "stream",
     "text": [
      "Processing zero checkpoint '../../models/product_title_taxonomy_classification/version_4/epoch=0-step=996156.ckpt/checkpoint'\n",
      "Detected checkpoint of type zero stage 2, world_size: 7\n",
      "Parsing checkpoint created by deepspeed==0.7.3\n",
      "Reconstructed fp32 state dict with 509 params 737668096 elements\n",
      "Saving fp32 state dict to ../../models/product_title_taxonomy_classification/version_4/epoch=0-step=996156.ckpt/pytorch_model.bin\n"
     ]
    }
   ],
   "source": [
    "convert_zero_checkpoint_to_fp32_state_dict(save_path, output_path)"
   ]
  },
  {
   "cell_type": "code",
   "execution_count": null,
   "metadata": {},
   "outputs": [],
   "source": []
  }
 ],
 "metadata": {
  "kernelspec": {
   "display_name": "Python 3.8.13 ('py38')",
   "language": "python",
   "name": "python3"
  },
  "language_info": {
   "codemirror_mode": {
    "name": "ipython",
    "version": 3
   },
   "file_extension": ".py",
   "mimetype": "text/x-python",
   "name": "python",
   "nbconvert_exporter": "python",
   "pygments_lexer": "ipython3",
   "version": "3.8.13"
  },
  "orig_nbformat": 4,
  "vscode": {
   "interpreter": {
    "hash": "3ea19d11efa7602c1f12500925a974ed4f31fcf847bd6f694bd5180da2602ded"
   }
  }
 },
 "nbformat": 4,
 "nbformat_minor": 2
}
