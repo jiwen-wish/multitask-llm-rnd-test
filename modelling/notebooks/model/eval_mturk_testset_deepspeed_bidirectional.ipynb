{
 "cells": [
  {
   "cell_type": "code",
   "execution_count": 85,
   "metadata": {},
   "outputs": [],
   "source": [
    "import numpy as np"
   ]
  },
  {
   "cell_type": "code",
   "execution_count": 1,
   "metadata": {},
   "outputs": [],
   "source": [
    "import sys \n",
    "sys.path.append('../../')\n",
    "from main import LLM\n",
    "from main_utils import Trie"
   ]
  },
  {
   "cell_type": "code",
   "execution_count": 2,
   "metadata": {},
   "outputs": [],
   "source": [
    "from pytorch_lightning.utilities.deepspeed import convert_zero_checkpoint_to_fp32_state_dict\n",
    "\n",
    "# lightning deepspeed has saved a directory instead of a file\n",
    "save_path = '../../models/product_title_taxonomy_classification/version_4/epoch=0-step=545514.ckpt'\n",
    "output_path = '../../models/product_title_taxonomy_classification/version_4/epoch=0-step=545514.ckpt/pytorch_model.bin'\n"
   ]
  },
  {
   "cell_type": "code",
   "execution_count": 3,
   "metadata": {},
   "outputs": [],
   "source": [
    "# convert_zero_checkpoint_to_fp32_state_dict(save_path, output_path)"
   ]
  },
  {
   "cell_type": "code",
   "execution_count": 4,
   "metadata": {},
   "outputs": [
    {
     "name": "stderr",
     "output_type": "stream",
     "text": [
      "INFO:root:Unused kwargs when getting t5-large: {}\n",
      "/opt/conda/envs/py38/lib/python3.8/site-packages/transformers/models/t5/tokenization_t5_fast.py:156: FutureWarning: This tokenizer was incorrectly instantiated with a model max length of 512 which will be corrected in Transformers v5.\n",
      "For now, this behavior is kept to avoid breaking backwards compatibility when padding/encoding with `truncation is True`.\n",
      "- Be aware that you SHOULD NOT rely on t5-large automatically truncating your input to 512 when padding/encoding.\n",
      "- If you want to encode/pad to sequences longer than 512 you can either instantiate this tokenizer with `model_max_length` or pass `max_length` when encoding/padding.\n",
      "- To avoid this warning, please instantiate this tokenizer with `model_max_length` set to your preferred value.\n",
      "  warnings.warn(\n",
      "/opt/conda/envs/py38/lib/python3.8/site-packages/pytorch_lightning/core/saving.py:263: UserWarning: Found keys that are in the model state dict but not in the checkpoint: ['transformer.encoder.embed_tokens.weight', 'transformer.decoder.embed_tokens.weight', 'transformer.lm_head.weight']\n",
      "  rank_zero_warn(\n"
     ]
    }
   ],
   "source": [
    "model = LLM.load_from_checkpoint(output_path, strict=False)"
   ]
  },
  {
   "cell_type": "code",
   "execution_count": 5,
   "metadata": {},
   "outputs": [],
   "source": [
    "model.eval()\n",
    "model.cuda()\n",
    "tokenizer = model.tokenizer"
   ]
  },
  {
   "cell_type": "code",
   "execution_count": 6,
   "metadata": {},
   "outputs": [],
   "source": [
    "import dvc.api"
   ]
  },
  {
   "cell_type": "code",
   "execution_count": null,
   "metadata": {},
   "outputs": [],
   "source": [
    "resource_url = dvc.api.get_url(\n",
    "    'data/taxonomy/wish_newtax.json',\n",
    "    repo='git@github.com:junwang-wish/query_understanding_data.git'\n",
    ")"
   ]
  },
  {
   "cell_type": "code",
   "execution_count": 8,
   "metadata": {},
   "outputs": [],
   "source": [
    "import pandas as pd"
   ]
  },
  {
   "cell_type": "code",
   "execution_count": 9,
   "metadata": {},
   "outputs": [
    {
     "name": "stderr",
     "output_type": "stream",
     "text": [
      "INFO:aiobotocore.credentials:Found credentials in environment variables.\n"
     ]
    }
   ],
   "source": [
    "df_tax = pd.read_json(resource_url, lines=True)"
   ]
  },
  {
   "cell_type": "code",
   "execution_count": 10,
   "metadata": {},
   "outputs": [
    {
     "data": {
      "text/html": [
       "<div>\n",
       "<style scoped>\n",
       "    .dataframe tbody tr th:only-of-type {\n",
       "        vertical-align: middle;\n",
       "    }\n",
       "\n",
       "    .dataframe tbody tr th {\n",
       "        vertical-align: top;\n",
       "    }\n",
       "\n",
       "    .dataframe thead th {\n",
       "        text-align: right;\n",
       "    }\n",
       "</style>\n",
       "<table border=\"1\" class=\"dataframe\">\n",
       "  <thead>\n",
       "    <tr style=\"text-align: right;\">\n",
       "      <th></th>\n",
       "      <th>category_tree_version</th>\n",
       "      <th>id</th>\n",
       "      <th>category_path</th>\n",
       "      <th>is_leaf</th>\n",
       "    </tr>\n",
       "  </thead>\n",
       "  <tbody>\n",
       "    <tr>\n",
       "      <th>0</th>\n",
       "      <td>v1.2.1</td>\n",
       "      <td>4658</td>\n",
       "      <td>Security &amp; Protection &gt; Building Automation</td>\n",
       "      <td>True</td>\n",
       "    </tr>\n",
       "    <tr>\n",
       "      <th>1</th>\n",
       "      <td>v1.2.1</td>\n",
       "      <td>4659</td>\n",
       "      <td>Security &amp; Protection &gt; Door Intercom</td>\n",
       "      <td>False</td>\n",
       "    </tr>\n",
       "  </tbody>\n",
       "</table>\n",
       "</div>"
      ],
      "text/plain": [
       "  category_tree_version    id                                category_path  \\\n",
       "0                v1.2.1  4658  Security & Protection > Building Automation   \n",
       "1                v1.2.1  4659        Security & Protection > Door Intercom   \n",
       "\n",
       "   is_leaf  \n",
       "0     True  \n",
       "1    False  "
      ]
     },
     "execution_count": 10,
     "metadata": {},
     "output_type": "execute_result"
    }
   ],
   "source": [
    "df_tax.head(2)"
   ]
  },
  {
   "cell_type": "code",
   "execution_count": 11,
   "metadata": {},
   "outputs": [],
   "source": [
    "paths = df_tax[df_tax['is_leaf']]['category_path'].apply(lambda x: ' > '.join([i.strip().lower() for i in x.split(' > ')])).tolist()"
   ]
  },
  {
   "cell_type": "code",
   "execution_count": 12,
   "metadata": {},
   "outputs": [
    {
     "data": {
      "text/plain": [
       "5291"
      ]
     },
     "execution_count": 12,
     "metadata": {},
     "output_type": "execute_result"
    }
   ],
   "source": [
    "len(paths)"
   ]
  },
  {
   "cell_type": "code",
   "execution_count": 13,
   "metadata": {},
   "outputs": [],
   "source": [
    "trie = Trie([\n",
    "    [tokenizer.pad_token_id] + tokenizer.encode(i) + [tokenizer.eos_token_id] for i in paths\n",
    "])"
   ]
  },
  {
   "cell_type": "code",
   "execution_count": 14,
   "metadata": {},
   "outputs": [],
   "source": [
    "def constraint(batch_id, sent):\n",
    "    return trie.get(sent.tolist())"
   ]
  },
  {
   "cell_type": "code",
   "execution_count": 15,
   "metadata": {},
   "outputs": [
    {
     "data": {
      "text/plain": [
       "([\"<pad> women's clothing > bottoms > fashion leggings</s><pad><pad>\",\n",
       "  '<pad> sports > sports clothing > tights > running tights</s><pad><pad><pad>',\n",
       "  '<pad> sports > sports clothing > pants > trainning & exercise pants</s>',\n",
       "  '<pad> sports > fitness & body building > yoga > yoga pants</s><pad><pad>',\n",
       "  '<pad> sports > racquet sports > tennis > tennis pants</s><pad><pad>'],\n",
       " tensor([0.3565, 0.3226, 0.1016, 0.0787, 0.0234], device='cuda:0'),\n",
       " tensor(0.8828, device='cuda:0'))"
      ]
     },
     "execution_count": 15,
     "metadata": {},
     "output_type": "execute_result"
    }
   ],
   "source": [
    "outs = model.transformer.generate(\n",
    "    **model.tokenizer(\n",
    "        \"Top-down categorize Aliexpress product: \" + \\\n",
    "            \"ALONG FIT High Waisted Tummy Control Leggings-Yoga-Pants with Pockets Leggings for Women Workout Squat Proof Tights\", \n",
    "        return_tensors='pt'\n",
    "    ).to('cuda'), \n",
    "    num_beams=5, num_return_sequences=5, output_scores=True, return_dict_in_generate=True, length_penalty=0, max_new_tokens=50,\n",
    "    prefix_allowed_tokens_fn=constraint\n",
    ")\n",
    "model.tokenizer.batch_decode(outs.sequences), outs.sequences_scores.exp(), outs.sequences_scores.exp().sum()"
   ]
  },
  {
   "cell_type": "code",
   "execution_count": 16,
   "metadata": {},
   "outputs": [],
   "source": [
    "df = pd.read_json(\n",
    "    dvc.api.get_url(\n",
    "        'data/wish_products/wish-mturk-labelled-09202022-clean-joinedlance.json',\n",
    "        repo='git@github.com:junwang-wish/query_understanding_data.git'\n",
    "    ), lines=True\n",
    ")"
   ]
  },
  {
   "cell_type": "code",
   "execution_count": 17,
   "metadata": {},
   "outputs": [
    {
     "data": {
      "text/html": [
       "<div>\n",
       "<style scoped>\n",
       "    .dataframe tbody tr th:only-of-type {\n",
       "        vertical-align: middle;\n",
       "    }\n",
       "\n",
       "    .dataframe tbody tr th {\n",
       "        vertical-align: top;\n",
       "    }\n",
       "\n",
       "    .dataframe thead th {\n",
       "        text-align: right;\n",
       "    }\n",
       "</style>\n",
       "<table border=\"1\" class=\"dataframe\">\n",
       "  <thead>\n",
       "    <tr style=\"text-align: right;\">\n",
       "      <th></th>\n",
       "      <th>pid</th>\n",
       "      <th>title</th>\n",
       "      <th>category</th>\n",
       "      <th>text</th>\n",
       "      <th>lance_predicted_category_id</th>\n",
       "      <th>lance_predicted_category</th>\n",
       "      <th>lance_predicted_is_leaf</th>\n",
       "    </tr>\n",
       "  </thead>\n",
       "  <tbody>\n",
       "    <tr>\n",
       "      <th>0</th>\n",
       "      <td>5ce7ad18c04b4c486820a407</td>\n",
       "      <td>Fantasy Master - 681 - sv√§rd</td>\n",
       "      <td>[education &amp; office supplies, cutting supplies...</td>\n",
       "      <td>Fantasy Master - 681 - sv√§rd -&gt; [education &amp; ...</td>\n",
       "      <td>2705</td>\n",
       "      <td>[home &amp; garden, home decor, ornaments, swords]</td>\n",
       "      <td>True</td>\n",
       "    </tr>\n",
       "    <tr>\n",
       "      <th>1</th>\n",
       "      <td>610dee5b63838066f029717e</td>\n",
       "      <td>Silent Red Thing Silent Hill Pyramid Head Horr...</td>\n",
       "      <td>[home &amp; garden, home textile, bedding, blankets]</td>\n",
       "      <td>Silent Red Thing Silent Hill Pyramid Head Horr...</td>\n",
       "      <td>2784</td>\n",
       "      <td>[home &amp; garden, home textile, bedding, throws]</td>\n",
       "      <td>True</td>\n",
       "    </tr>\n",
       "  </tbody>\n",
       "</table>\n",
       "</div>"
      ],
      "text/plain": [
       "                        pid  \\\n",
       "0  5ce7ad18c04b4c486820a407   \n",
       "1  610dee5b63838066f029717e   \n",
       "\n",
       "                                               title  \\\n",
       "0                      Fantasy Master - 681 - sv√§rd   \n",
       "1  Silent Red Thing Silent Hill Pyramid Head Horr...   \n",
       "\n",
       "                                            category  \\\n",
       "0  [education & office supplies, cutting supplies...   \n",
       "1   [home & garden, home textile, bedding, blankets]   \n",
       "\n",
       "                                                text  \\\n",
       "0  Fantasy Master - 681 - sv√§rd -> [education & ...   \n",
       "1  Silent Red Thing Silent Hill Pyramid Head Horr...   \n",
       "\n",
       "   lance_predicted_category_id  \\\n",
       "0                         2705   \n",
       "1                         2784   \n",
       "\n",
       "                         lance_predicted_category  lance_predicted_is_leaf  \n",
       "0  [home & garden, home decor, ornaments, swords]                     True  \n",
       "1  [home & garden, home textile, bedding, throws]                     True  "
      ]
     },
     "execution_count": 17,
     "metadata": {},
     "output_type": "execute_result"
    }
   ],
   "source": [
    "df.head(2)"
   ]
  },
  {
   "cell_type": "code",
   "execution_count": 18,
   "metadata": {},
   "outputs": [],
   "source": [
    "df['category_text'] = df['category'].apply(lambda x: ' > '.join(x))\n",
    "assert df['category_text'].apply(lambda x: x in paths).all()"
   ]
  },
  {
   "cell_type": "code",
   "execution_count": 19,
   "metadata": {},
   "outputs": [],
   "source": [
    "from tqdm import tqdm"
   ]
  },
  {
   "cell_type": "code",
   "execution_count": 22,
   "metadata": {},
   "outputs": [
    {
     "name": "stderr",
     "output_type": "stream",
     "text": [
      "100%|██████████| 6401/6401 [1:39:21<00:00,  1.07it/s]  \n"
     ]
    }
   ],
   "source": [
    "recs = []\n",
    "for rec in tqdm(df.to_dict('records')):\n",
    "    outs = model.transformer.generate(\n",
    "        **model.tokenizer(\n",
    "            \"Top-down categorize Aliexpress product: \" + \\\n",
    "                rec['title'], \n",
    "            return_tensors='pt'\n",
    "        ).to('cuda'), \n",
    "        num_beams=2, num_return_sequences=2, output_scores=True, return_dict_in_generate=True, length_penalty=0, max_new_tokens=50,\n",
    "        prefix_allowed_tokens_fn=constraint\n",
    "    )\n",
    "    preds = model.tokenizer.batch_decode(outs.sequences, skip_special_tokens=True)\n",
    "    probs = outs.sequences_scores.exp()\n",
    "    rec['t5_predicted_categories'] = [pred.split(' > ') for pred in preds]\n",
    "    rec['t5_predicted_category_prob'] = probs.detach().cpu().tolist()\n",
    "    recs.append(rec)"
   ]
  },
  {
   "cell_type": "code",
   "execution_count": 49,
   "metadata": {},
   "outputs": [
    {
     "name": "stderr",
     "output_type": "stream",
     "text": [
      "100%|██████████| 6401/6401 [1:25:16<00:00,  1.25it/s]\n"
     ]
    }
   ],
   "source": [
    "recs_rev = []\n",
    "for rec in tqdm(df.to_dict('records')):\n",
    "    outs = model.transformer.generate(\n",
    "        **model.tokenizer(\n",
    "            \"Bottom-up categorize Aliexpress product: \" + \\\n",
    "                rec['title'], \n",
    "            return_tensors='pt'\n",
    "        ).to('cuda'), \n",
    "        num_beams=2, num_return_sequences=2, output_scores=True, return_dict_in_generate=True, length_penalty=0, max_new_tokens=50,\n",
    "        prefix_allowed_tokens_fn=constraint\n",
    "    )\n",
    "    preds = model.tokenizer.batch_decode(outs.sequences)\n",
    "    preds = [i.replace('<unk>', '<').replace('</s>', '').replace('<pad>', '').strip() for i in preds]\n",
    "    probs = outs.sequences_scores.exp()\n",
    "    rec['t5_predicted_categories_rev'] = [pred.split(' < ') for pred in preds]\n",
    "    rec['t5_predicted_category_prob_rev'] = probs.detach().cpu().tolist()\n",
    "    recs_rev.append(rec)"
   ]
  },
  {
   "cell_type": "code",
   "execution_count": 61,
   "metadata": {},
   "outputs": [],
   "source": [
    "df_pred_rev = pd.DataFrame(recs_rev)\n",
    "df_pred_rev['t5_predicted_categories_rev'] = df_pred_rev['t5_predicted_categories_rev'].apply(lambda x: [i[0].split(' > ') for i in x])"
   ]
  },
  {
   "cell_type": "code",
   "execution_count": 64,
   "metadata": {},
   "outputs": [
    {
     "data": {
      "text/html": [
       "<div>\n",
       "<style scoped>\n",
       "    .dataframe tbody tr th:only-of-type {\n",
       "        vertical-align: middle;\n",
       "    }\n",
       "\n",
       "    .dataframe tbody tr th {\n",
       "        vertical-align: top;\n",
       "    }\n",
       "\n",
       "    .dataframe thead th {\n",
       "        text-align: right;\n",
       "    }\n",
       "</style>\n",
       "<table border=\"1\" class=\"dataframe\">\n",
       "  <thead>\n",
       "    <tr style=\"text-align: right;\">\n",
       "      <th></th>\n",
       "      <th>pid</th>\n",
       "      <th>title</th>\n",
       "      <th>category</th>\n",
       "      <th>text</th>\n",
       "      <th>lance_predicted_category_id</th>\n",
       "      <th>lance_predicted_category</th>\n",
       "      <th>lance_predicted_is_leaf</th>\n",
       "      <th>category_text</th>\n",
       "      <th>t5_predicted_categories_rev</th>\n",
       "      <th>t5_predicted_category_prob_rev</th>\n",
       "    </tr>\n",
       "  </thead>\n",
       "  <tbody>\n",
       "    <tr>\n",
       "      <th>0</th>\n",
       "      <td>5ce7ad18c04b4c486820a407</td>\n",
       "      <td>Fantasy Master - 681 - sv√§rd</td>\n",
       "      <td>[education &amp; office supplies, cutting supplies...</td>\n",
       "      <td>Fantasy Master - 681 - sv√§rd -&gt; [education &amp; ...</td>\n",
       "      <td>2705</td>\n",
       "      <td>[home &amp; garden, home decor, ornaments, swords]</td>\n",
       "      <td>True</td>\n",
       "      <td>education &amp; office supplies &gt; cutting supplies...</td>\n",
       "      <td>[[electronic components &amp; supplies, electronic...</td>\n",
       "      <td>[1.0617370094223588e-07, 4.7696129712448965e-08]</td>\n",
       "    </tr>\n",
       "    <tr>\n",
       "      <th>1</th>\n",
       "      <td>610dee5b63838066f029717e</td>\n",
       "      <td>Silent Red Thing Silent Hill Pyramid Head Horr...</td>\n",
       "      <td>[home &amp; garden, home textile, bedding, blankets]</td>\n",
       "      <td>Silent Red Thing Silent Hill Pyramid Head Horr...</td>\n",
       "      <td>2784</td>\n",
       "      <td>[home &amp; garden, home textile, bedding, throws]</td>\n",
       "      <td>True</td>\n",
       "      <td>home &amp; garden &gt; home textile &gt; bedding &gt; blankets</td>\n",
       "      <td>[[women's clothing, tops, blouses &amp; shirts], [...</td>\n",
       "      <td>[1.2485299523846277e-13, 1.2113937240473827e-13]</td>\n",
       "    </tr>\n",
       "  </tbody>\n",
       "</table>\n",
       "</div>"
      ],
      "text/plain": [
       "                        pid  \\\n",
       "0  5ce7ad18c04b4c486820a407   \n",
       "1  610dee5b63838066f029717e   \n",
       "\n",
       "                                               title  \\\n",
       "0                      Fantasy Master - 681 - sv√§rd   \n",
       "1  Silent Red Thing Silent Hill Pyramid Head Horr...   \n",
       "\n",
       "                                            category  \\\n",
       "0  [education & office supplies, cutting supplies...   \n",
       "1   [home & garden, home textile, bedding, blankets]   \n",
       "\n",
       "                                                text  \\\n",
       "0  Fantasy Master - 681 - sv√§rd -> [education & ...   \n",
       "1  Silent Red Thing Silent Hill Pyramid Head Horr...   \n",
       "\n",
       "   lance_predicted_category_id  \\\n",
       "0                         2705   \n",
       "1                         2784   \n",
       "\n",
       "                         lance_predicted_category  lance_predicted_is_leaf  \\\n",
       "0  [home & garden, home decor, ornaments, swords]                     True   \n",
       "1  [home & garden, home textile, bedding, throws]                     True   \n",
       "\n",
       "                                       category_text  \\\n",
       "0  education & office supplies > cutting supplies...   \n",
       "1  home & garden > home textile > bedding > blankets   \n",
       "\n",
       "                         t5_predicted_categories_rev  \\\n",
       "0  [[electronic components & supplies, electronic...   \n",
       "1  [[women's clothing, tops, blouses & shirts], [...   \n",
       "\n",
       "                     t5_predicted_category_prob_rev  \n",
       "0  [1.0617370094223588e-07, 4.7696129712448965e-08]  \n",
       "1  [1.2485299523846277e-13, 1.2113937240473827e-13]  "
      ]
     },
     "execution_count": 64,
     "metadata": {},
     "output_type": "execute_result"
    }
   ],
   "source": [
    "df_pred_rev.head(2)"
   ]
  },
  {
   "cell_type": "code",
   "execution_count": 62,
   "metadata": {},
   "outputs": [],
   "source": [
    "df_pred = pd.DataFrame(recs)"
   ]
  },
  {
   "cell_type": "code",
   "execution_count": 63,
   "metadata": {},
   "outputs": [
    {
     "data": {
      "text/html": [
       "<div>\n",
       "<style scoped>\n",
       "    .dataframe tbody tr th:only-of-type {\n",
       "        vertical-align: middle;\n",
       "    }\n",
       "\n",
       "    .dataframe tbody tr th {\n",
       "        vertical-align: top;\n",
       "    }\n",
       "\n",
       "    .dataframe thead th {\n",
       "        text-align: right;\n",
       "    }\n",
       "</style>\n",
       "<table border=\"1\" class=\"dataframe\">\n",
       "  <thead>\n",
       "    <tr style=\"text-align: right;\">\n",
       "      <th></th>\n",
       "      <th>pid</th>\n",
       "      <th>title</th>\n",
       "      <th>category</th>\n",
       "      <th>text</th>\n",
       "      <th>lance_predicted_category_id</th>\n",
       "      <th>lance_predicted_category</th>\n",
       "      <th>lance_predicted_is_leaf</th>\n",
       "      <th>category_text</th>\n",
       "      <th>t5_predicted_categories</th>\n",
       "      <th>t5_predicted_category_prob</th>\n",
       "    </tr>\n",
       "  </thead>\n",
       "  <tbody>\n",
       "    <tr>\n",
       "      <th>0</th>\n",
       "      <td>5ce7ad18c04b4c486820a407</td>\n",
       "      <td>Fantasy Master - 681 - sv√§rd</td>\n",
       "      <td>[education &amp; office supplies, cutting supplies...</td>\n",
       "      <td>Fantasy Master - 681 - sv√§rd -&gt; [education &amp; ...</td>\n",
       "      <td>2705</td>\n",
       "      <td>[home &amp; garden, home decor, ornaments, swords]</td>\n",
       "      <td>True</td>\n",
       "      <td>education &amp; office supplies &gt; cutting supplies...</td>\n",
       "      <td>[[consumer electronics, portable audio &amp; video...</td>\n",
       "      <td>[0.020152555778622627, 0.012340139597654343]</td>\n",
       "    </tr>\n",
       "    <tr>\n",
       "      <th>1</th>\n",
       "      <td>610dee5b63838066f029717e</td>\n",
       "      <td>Silent Red Thing Silent Hill Pyramid Head Horr...</td>\n",
       "      <td>[home &amp; garden, home textile, bedding, blankets]</td>\n",
       "      <td>Silent Red Thing Silent Hill Pyramid Head Horr...</td>\n",
       "      <td>2784</td>\n",
       "      <td>[home &amp; garden, home textile, bedding, throws]</td>\n",
       "      <td>True</td>\n",
       "      <td>home &amp; garden &gt; home textile &gt; bedding &gt; blankets</td>\n",
       "      <td>[[home &amp; garden, home textile, bedding, blanke...</td>\n",
       "      <td>[0.2627204656600952, 1.4428826785716636e-13]</td>\n",
       "    </tr>\n",
       "  </tbody>\n",
       "</table>\n",
       "</div>"
      ],
      "text/plain": [
       "                        pid  \\\n",
       "0  5ce7ad18c04b4c486820a407   \n",
       "1  610dee5b63838066f029717e   \n",
       "\n",
       "                                               title  \\\n",
       "0                      Fantasy Master - 681 - sv√§rd   \n",
       "1  Silent Red Thing Silent Hill Pyramid Head Horr...   \n",
       "\n",
       "                                            category  \\\n",
       "0  [education & office supplies, cutting supplies...   \n",
       "1   [home & garden, home textile, bedding, blankets]   \n",
       "\n",
       "                                                text  \\\n",
       "0  Fantasy Master - 681 - sv√§rd -> [education & ...   \n",
       "1  Silent Red Thing Silent Hill Pyramid Head Horr...   \n",
       "\n",
       "   lance_predicted_category_id  \\\n",
       "0                         2705   \n",
       "1                         2784   \n",
       "\n",
       "                         lance_predicted_category  lance_predicted_is_leaf  \\\n",
       "0  [home & garden, home decor, ornaments, swords]                     True   \n",
       "1  [home & garden, home textile, bedding, throws]                     True   \n",
       "\n",
       "                                       category_text  \\\n",
       "0  education & office supplies > cutting supplies...   \n",
       "1  home & garden > home textile > bedding > blankets   \n",
       "\n",
       "                             t5_predicted_categories  \\\n",
       "0  [[consumer electronics, portable audio & video...   \n",
       "1  [[home & garden, home textile, bedding, blanke...   \n",
       "\n",
       "                     t5_predicted_category_prob  \n",
       "0  [0.020152555778622627, 0.012340139597654343]  \n",
       "1  [0.2627204656600952, 1.4428826785716636e-13]  "
      ]
     },
     "execution_count": 63,
     "metadata": {},
     "output_type": "execute_result"
    }
   ],
   "source": [
    "df_pred.head(2)"
   ]
  },
  {
   "cell_type": "code",
   "execution_count": 74,
   "metadata": {},
   "outputs": [],
   "source": [
    "df_join = df_pred.merge(df_pred_rev[['pid', 't5_predicted_categories_rev', 't5_predicted_category_prob_rev']], on='pid', how='inner')"
   ]
  },
  {
   "cell_type": "code",
   "execution_count": 77,
   "metadata": {},
   "outputs": [],
   "source": [
    "recs_join_nonempty = []\n",
    "for i in df_join.to_dict('records'):\n",
    "    i['t5_predicted_categories_join'] = [\n",
    "        j for j in i['t5_predicted_categories'] if tuple(j) in set([tuple(p) for p in i['t5_predicted_categories_rev']])\n",
    "    ]\n",
    "    \n",
    "    if len(i['t5_predicted_categories_join']):\n",
    "        recs_join_nonempty.append(i)\n",
    "df_join_nonempty = pd.DataFrame(recs_join_nonempty)"
   ]
  },
  {
   "cell_type": "code",
   "execution_count": 78,
   "metadata": {},
   "outputs": [
    {
     "data": {
      "text/plain": [
       "(3981, 6401)"
      ]
     },
     "execution_count": 78,
     "metadata": {},
     "output_type": "execute_result"
    }
   ],
   "source": [
    "len(df_join_nonempty), len(df_join)"
   ]
  },
  {
   "cell_type": "code",
   "execution_count": 65,
   "metadata": {},
   "outputs": [
    {
     "name": "stdout",
     "output_type": "stream",
     "text": [
      "Depth: 0\n",
      "Size:  6401\n",
      "# Unique Targets 25\n",
      "ACC T5:  0.743321356038119\n",
      "ACC Lance:  0.8042493360412436\n",
      "----------------------------------------------------------------------------------------------------\n",
      "Depth: 1\n",
      "Size:  6401\n",
      "# Unique Targets 203\n",
      "ACC T5:  0.5425714732073114\n",
      "ACC Lance:  0.6231838775191376\n",
      "----------------------------------------------------------------------------------------------------\n",
      "Depth: 2\n",
      "Size:  6401\n",
      "# Unique Targets 868\n",
      "ACC T5:  0.4252460553038588\n",
      "ACC Lance:  0.5063271363849399\n",
      "----------------------------------------------------------------------------------------------------\n",
      "Depth: 3\n",
      "Size:  2475\n",
      "# Unique Targets 869\n",
      "ACC T5:  0.3107070707070707\n",
      "ACC Lance:  0.4\n",
      "----------------------------------------------------------------------------------------------------\n",
      "Depth: 4\n",
      "Size:  27\n",
      "# Unique Targets 18\n",
      "ACC T5:  0.3333333333333333\n",
      "ACC Lance:  0.4074074074074074\n",
      "----------------------------------------------------------------------------------------------------\n"
     ]
    }
   ],
   "source": [
    "for depth in range(7):\n",
    "    tmp = df_pred[df_pred.category.apply(len) > depth]\n",
    "    if len(tmp) > 0:\n",
    "        print('Depth:', depth)\n",
    "        print('Size: ', len(tmp))\n",
    "        print('# Unique Targets', len(set(tmp.category.apply(lambda x: ''.join(x[:depth+1])))))\n",
    "        print('ACC T5: ', (tmp.category.apply(lambda x: ''.join(x[:depth+1])) == \\\n",
    "            tmp.t5_predicted_categories.apply(lambda x: ''.join(x[0][:depth+1]) if len(x[0]) > depth else None)).mean())\n",
    "        print('ACC Lance: ', (tmp.category.apply(lambda x: ''.join(x[:depth+1])) == \\\n",
    "            tmp.lance_predicted_category.apply(lambda x: ''.join(x[:depth+1]) if len(x) > depth else None)).mean())\n",
    "        print('-' * 100)"
   ]
  },
  {
   "cell_type": "code",
   "execution_count": 69,
   "metadata": {},
   "outputs": [
    {
     "name": "stdout",
     "output_type": "stream",
     "text": [
      "Depth: 0\n",
      "Size:  6401\n",
      "# Unique Targets 25\n",
      "ACC T5 reverse:  0.5438212779253242\n",
      "ACC Lance:  0.8042493360412436\n",
      "----------------------------------------------------------------------------------------------------\n",
      "Depth: 1\n",
      "Size:  6401\n",
      "# Unique Targets 203\n",
      "ACC T5 reverse:  0.3371348226839556\n",
      "ACC Lance:  0.6231838775191376\n",
      "----------------------------------------------------------------------------------------------------\n",
      "Depth: 2\n",
      "Size:  6401\n",
      "# Unique Targets 868\n",
      "ACC T5 reverse:  0.2729261052960475\n",
      "ACC Lance:  0.5063271363849399\n",
      "----------------------------------------------------------------------------------------------------\n",
      "Depth: 3\n",
      "Size:  2475\n",
      "# Unique Targets 869\n",
      "ACC T5 reverse:  0.19757575757575757\n",
      "ACC Lance:  0.4\n",
      "----------------------------------------------------------------------------------------------------\n",
      "Depth: 4\n",
      "Size:  27\n",
      "# Unique Targets 18\n",
      "ACC T5 reverse:  0.25925925925925924\n",
      "ACC Lance:  0.4074074074074074\n",
      "----------------------------------------------------------------------------------------------------\n"
     ]
    }
   ],
   "source": [
    "for depth in range(7):\n",
    "    tmp = df_pred_rev[df_pred_rev.category.apply(len) > depth]\n",
    "    if len(tmp) > 0:\n",
    "        print('Depth:', depth)\n",
    "        print('Size: ', len(tmp))\n",
    "        print('# Unique Targets', len(set(tmp.category.apply(lambda x: ''.join(x[:depth+1])))))\n",
    "        print('ACC T5 reverse: ', (tmp.category.apply(lambda x: ''.join(x[:depth+1])) == \\\n",
    "            tmp.t5_predicted_categories_rev.apply(lambda x: ''.join(x[0][:depth+1]) if len(x[0]) > depth else None)).mean())\n",
    "        print('ACC Lance: ', (tmp.category.apply(lambda x: ''.join(x[:depth+1])) == \\\n",
    "            tmp.lance_predicted_category.apply(lambda x: ''.join(x[:depth+1]) if len(x) > depth else None)).mean())\n",
    "        print('-' * 100)"
   ]
  },
  {
   "cell_type": "code",
   "execution_count": 80,
   "metadata": {},
   "outputs": [
    {
     "name": "stdout",
     "output_type": "stream",
     "text": [
      "Depth: 0\n",
      "Size:  3981\n",
      "# Unique Targets 24\n",
      "ACC T5 Join:  0.8156242150213514\n",
      "ACC Lance:  0.8332077367495604\n",
      "----------------------------------------------------------------------------------------------------\n",
      "Depth: 1\n",
      "Size:  3981\n",
      "# Unique Targets 175\n",
      "ACC T5 Join:  0.5820145692037176\n",
      "ACC Lance:  0.6367746797287114\n",
      "----------------------------------------------------------------------------------------------------\n",
      "Depth: 2\n",
      "Size:  3981\n",
      "# Unique Targets 667\n",
      "ACC T5 Join:  0.46797287113790503\n",
      "ACC Lance:  0.528761617683999\n",
      "----------------------------------------------------------------------------------------------------\n",
      "Depth: 3\n",
      "Size:  1404\n",
      "# Unique Targets 596\n",
      "ACC T5 Join:  0.35327635327635326\n",
      "ACC Lance:  0.4066951566951567\n",
      "----------------------------------------------------------------------------------------------------\n",
      "Depth: 4\n",
      "Size:  19\n",
      "# Unique Targets 15\n",
      "ACC T5 Join:  0.42105263157894735\n",
      "ACC Lance:  0.47368421052631576\n",
      "----------------------------------------------------------------------------------------------------\n"
     ]
    }
   ],
   "source": [
    "for depth in range(7):\n",
    "    tmp = df_join_nonempty[df_join_nonempty.category.apply(len) > depth]\n",
    "    if len(tmp) > 0:\n",
    "        print('Depth:', depth)\n",
    "        print('Size: ', len(tmp))\n",
    "        print('# Unique Targets', len(set(tmp.category.apply(lambda x: ''.join(x[:depth+1])))))\n",
    "        print('ACC T5 Join: ', (tmp.category.apply(lambda x: ''.join(x[:depth+1])) == \\\n",
    "            tmp.t5_predicted_categories_join.apply(lambda x: ''.join(x[0][:depth+1]) if len(x[0]) > depth else None)).mean())\n",
    "        print('ACC Lance: ', (tmp.category.apply(lambda x: ''.join(x[:depth+1])) == \\\n",
    "            tmp.lance_predicted_category.apply(lambda x: ''.join(x[:depth+1]) if len(x) > depth else None)).mean())\n",
    "        print('-' * 100)"
   ]
  },
  {
   "cell_type": "code",
   "execution_count": 70,
   "metadata": {},
   "outputs": [
    {
     "name": "stdout",
     "output_type": "stream",
     "text": [
      "Depth: 0\n",
      "Size:  6401\n",
      "# Unique Targets 25\n",
      "ACC T5 (2 beams):  0.8034682080924855\n",
      "ACC Lance:  0.8042493360412436\n",
      "----------------------------------------------------------------------------------------------------\n",
      "Depth: 1\n",
      "Size:  6401\n",
      "# Unique Targets 203\n",
      "ACC T5 (2 beams):  0.6627089517262927\n",
      "ACC Lance:  0.6231838775191376\n",
      "----------------------------------------------------------------------------------------------------\n",
      "Depth: 2\n",
      "Size:  6401\n",
      "# Unique Targets 868\n",
      "ACC T5 (2 beams):  0.5702234025933448\n",
      "ACC Lance:  0.5063271363849399\n",
      "----------------------------------------------------------------------------------------------------\n",
      "Depth: 3\n",
      "Size:  2475\n",
      "# Unique Targets 869\n",
      "ACC T5 (2 beams):  0.42343434343434344\n",
      "ACC Lance:  0.4\n",
      "----------------------------------------------------------------------------------------------------\n",
      "Depth: 4\n",
      "Size:  27\n",
      "# Unique Targets 18\n",
      "ACC T5 (2 beams):  0.4444444444444444\n",
      "ACC Lance:  0.4074074074074074\n",
      "----------------------------------------------------------------------------------------------------\n"
     ]
    }
   ],
   "source": [
    "for depth in range(7):\n",
    "    tmp = df_pred[df_pred.category.apply(len) > depth]\n",
    "    if len(tmp) > 0:\n",
    "        print('Depth:', depth)\n",
    "        print('Size: ', len(tmp))\n",
    "        print('# Unique Targets', len(set(tmp.category.apply(lambda x: ''.join(x[:depth+1])))))\n",
    "        print('ACC T5 (2 beams): ', (\n",
    "            (tmp.category.apply(lambda x: ''.join(x[:depth+1])) == \\\n",
    "                tmp.t5_predicted_categories.apply(lambda x: ''.join(x[0][:depth+1]) if len(x[0]) > depth else None)) | \\\n",
    "            (tmp.category.apply(lambda x: ''.join(x[:depth+1])) == \\\n",
    "                tmp.t5_predicted_categories.apply(lambda x: ''.join(x[1][:depth+1]) if len(x[1]) > depth else None))\n",
    "        ).mean())\n",
    "        print('ACC Lance: ', (tmp.category.apply(lambda x: ''.join(x[:depth+1])) == \\\n",
    "            tmp.lance_predicted_category.apply(lambda x: ''.join(x[:depth+1]) if len(x) > depth else None)).mean())\n",
    "        print('-' * 100)"
   ]
  },
  {
   "cell_type": "code",
   "execution_count": 71,
   "metadata": {},
   "outputs": [
    {
     "name": "stdout",
     "output_type": "stream",
     "text": [
      "Depth: 0\n",
      "Size:  6401\n",
      "# Unique Targets 25\n",
      "ACC T5 reverse (2 beams):  0.572098109670364\n",
      "ACC Lance:  0.8042493360412436\n",
      "----------------------------------------------------------------------------------------------------\n",
      "Depth: 1\n",
      "Size:  6401\n",
      "# Unique Targets 203\n",
      "ACC T5 reverse (2 beams):  0.4403999375097641\n",
      "ACC Lance:  0.6231838775191376\n",
      "----------------------------------------------------------------------------------------------------\n",
      "Depth: 2\n",
      "Size:  6401\n",
      "# Unique Targets 868\n",
      "ACC T5 reverse (2 beams):  0.3775972504296204\n",
      "ACC Lance:  0.5063271363849399\n",
      "----------------------------------------------------------------------------------------------------\n",
      "Depth: 3\n",
      "Size:  2475\n",
      "# Unique Targets 869\n",
      "ACC T5 reverse (2 beams):  0.26666666666666666\n",
      "ACC Lance:  0.4\n",
      "----------------------------------------------------------------------------------------------------\n",
      "Depth: 4\n",
      "Size:  27\n",
      "# Unique Targets 18\n",
      "ACC T5 reverse (2 beams):  0.4074074074074074\n",
      "ACC Lance:  0.4074074074074074\n",
      "----------------------------------------------------------------------------------------------------\n"
     ]
    }
   ],
   "source": [
    "for depth in range(7):\n",
    "    tmp = df_pred_rev[df_pred_rev.category.apply(len) > depth]\n",
    "    if len(tmp) > 0:\n",
    "        print('Depth:', depth)\n",
    "        print('Size: ', len(tmp))\n",
    "        print('# Unique Targets', len(set(tmp.category.apply(lambda x: ''.join(x[:depth+1])))))\n",
    "        print('ACC T5 reverse (2 beams): ', (\n",
    "            (tmp.category.apply(lambda x: ''.join(x[:depth+1])) == \\\n",
    "                tmp.t5_predicted_categories_rev.apply(lambda x: ''.join(x[0][:depth+1]) if len(x[0]) > depth else None)) | \\\n",
    "            (tmp.category.apply(lambda x: ''.join(x[:depth+1])) == \\\n",
    "                tmp.t5_predicted_categories_rev.apply(lambda x: ''.join(x[1][:depth+1]) if len(x[1]) > depth else None))\n",
    "        ).mean())\n",
    "        print('ACC Lance: ', (tmp.category.apply(lambda x: ''.join(x[:depth+1])) == \\\n",
    "            tmp.lance_predicted_category.apply(lambda x: ''.join(x[:depth+1]) if len(x) > depth else None)).mean())\n",
    "        print('-' * 100)"
   ]
  },
  {
   "cell_type": "code",
   "execution_count": 88,
   "metadata": {},
   "outputs": [
    {
     "name": "stdout",
     "output_type": "stream",
     "text": [
      "Depth: 0\n",
      "Size:  3981\n",
      "# Unique Targets 24\n",
      "ACC T5 join (2 beams):  0.8234112032152725\n",
      "ACC Lance:  0.8332077367495604\n",
      "----------------------------------------------------------------------------------------------------\n",
      "Depth: 1\n",
      "Size:  3981\n",
      "# Unique Targets 175\n",
      "ACC T5 join (2 beams):  0.635769907058528\n",
      "ACC Lance:  0.6367746797287114\n",
      "----------------------------------------------------------------------------------------------------\n",
      "Depth: 2\n",
      "Size:  3981\n",
      "# Unique Targets 667\n",
      "ACC T5 join (2 beams):  0.5398141170560161\n",
      "ACC Lance:  0.528761617683999\n",
      "----------------------------------------------------------------------------------------------------\n",
      "Depth: 3\n",
      "Size:  1404\n",
      "# Unique Targets 596\n",
      "ACC T5 join (2 beams):  0.4408831908831909\n",
      "ACC Lance:  0.4066951566951567\n",
      "----------------------------------------------------------------------------------------------------\n",
      "Depth: 4\n",
      "Size:  19\n",
      "# Unique Targets 15\n",
      "ACC T5 join (2 beams):  0.5263157894736842\n",
      "ACC Lance:  0.47368421052631576\n",
      "----------------------------------------------------------------------------------------------------\n"
     ]
    }
   ],
   "source": [
    "for depth in range(7):\n",
    "    tmp = df_join_nonempty[df_join_nonempty.category.apply(len) > depth]\n",
    "    if len(tmp) > 0:\n",
    "        print('Depth:', depth)\n",
    "        print('Size: ', len(tmp))\n",
    "        print('# Unique Targets', len(set(tmp.category.apply(lambda x: ''.join(x[:depth+1])))))\n",
    "        hits = []\n",
    "        for i in tmp.to_dict('records'):\n",
    "            if tuple(i['category'][:depth+1]) in [tuple(j[:depth+1]) for j in i['t5_predicted_categories_join']]:\n",
    "                hits.append(1)\n",
    "            else:\n",
    "                hits.append(0)\n",
    "        print('ACC T5 join (2 beams): ', np.mean(hits))\n",
    "        print('ACC Lance: ', (tmp.category.apply(lambda x: ''.join(x[:depth+1])) == \\\n",
    "            tmp.lance_predicted_category.apply(lambda x: ''.join(x[:depth+1]) if len(x) > depth else None)).mean())\n",
    "        print('-' * 100)"
   ]
  },
  {
   "cell_type": "code",
   "execution_count": 44,
   "metadata": {},
   "outputs": [
    {
     "data": {
      "text/plain": [
       "[{'title': 'Snowboarder Necklace, Snowboarder Charm, Snowboarder Pendant, Snowboarder Jewelry, Snowboard Jewelry, Snowboard Charm, Snowboard Gifts',\n",
       "  'category': ['jewelry & accessories',\n",
       "   'customized jewelry',\n",
       "   'customized necklaces'],\n",
       "  'lance_predicted_category': ['jewelry & accessories',\n",
       "   'customized jewelry',\n",
       "   'customized pendants'],\n",
       "  't5_predicted_categories': [['sports', 'skiing & snowboarding', 'ski poles'],\n",
       "   ['sports', 'skiing & snowboarding', 'skiing gloves']],\n",
       "  't5_predicted_category_prob': [0.13644839823246002, 0.05306606739759445]},\n",
       " {'title': 'Detergente em p√≥ omo lavagem perfeita ativo 1,6kg',\n",
       "  'category': ['home & garden',\n",
       "   'household cleaning',\n",
       "   'household chemicals',\n",
       "   'laundry detergent'],\n",
       "  'lance_predicted_category': ['home & garden',\n",
       "   'household cleaning',\n",
       "   'household chemicals',\n",
       "   'laundry detergent'],\n",
       "  't5_predicted_categories': [['automobiles & motorcycles',\n",
       "    'car wash & maintenance',\n",
       "    'paint care',\n",
       "    'paint cleaner'],\n",
       "   ['automobiles & motorcycles',\n",
       "    'car wash & maintenance',\n",
       "    'paint care',\n",
       "    'grinding polishing paste & liquid']],\n",
       "  't5_predicted_category_prob': [0.11122123152017593, 0.04071395844221115]},\n",
       " {'title': 'New Racing Africa Twin Motorcycle Print T Shirt Short Sleeve O-neck Cotton Tee',\n",
       "  'category': [\"men's clothing\", 'tops & tees', 't-shirts'],\n",
       "  'lance_predicted_category': [\"men's clothing\", 'tops & tees', 't-shirts'],\n",
       "  't5_predicted_categories': [['automobiles & motorcycles',\n",
       "    'motorcycle accessories & parts',\n",
       "    'protective gear',\n",
       "    'shirts & tops'],\n",
       "   [\"men's clothing\", 'tops & tees', 't-shirts']],\n",
       "  't5_predicted_category_prob': [0.9545719027519226, 0.023728756234049797]},\n",
       " {'title': 'Summer Fashion Tops Jojos Bizarre Adventure Jean Pierre Polnareff Printing Japan Anime Cotton T Shirt Female/male Short Sleeved',\n",
       "  'category': [\"men's clothing\", 'tops & tees', 't-shirts'],\n",
       "  'lance_predicted_category': [\"men's clothing\", 'tops & tees', 't-shirts'],\n",
       "  't5_predicted_categories': [[\"women's clothing\", 'tops', 'tees'],\n",
       "   ['mother & kids', 'pregnancy & maternity', 'maternity clothing', 'tees']],\n",
       "  't5_predicted_category_prob': [0.7216366529464722, 0.1011960357427597]},\n",
       " {'title': 'DIY Suede Hand sewing car Steering Wheel Cover Soft Anti slip With Needles Thread 38cm Size',\n",
       "  'category': ['automobiles & motorcycles',\n",
       "   'auto replacement parts',\n",
       "   'interior parts',\n",
       "   'steering wheels & horns'],\n",
       "  'lance_predicted_category': ['automobiles & motorcycles',\n",
       "   'interior accessories',\n",
       "   'steering covers'],\n",
       "  't5_predicted_categories': [['home & garden',\n",
       "    'arts, crafts & sewing',\n",
       "    'diy knitting'],\n",
       "   ['home & garden',\n",
       "    'arts, crafts & sewing',\n",
       "    'needle arts & crafts',\n",
       "    'sewing tools & accessories']],\n",
       "  't5_predicted_category_prob': [2.0152435276088454e-09,\n",
       "   6.4182094833822316e-21]},\n",
       " {'title': 'Movie Saw II Key Chain Edition Movie Theme Mask Killer Saw Mask Keychain Key Rings Key Chain',\n",
       "  'category': ['jewelry & accessories', 'jewelry sets & more', 'key chains'],\n",
       "  'lance_predicted_category': ['jewelry & accessories',\n",
       "   'jewelry sets & more',\n",
       "   'key chains'],\n",
       "  't5_predicted_categories': [['novelty & special use',\n",
       "    'costumes & accessories',\n",
       "    'costume props'],\n",
       "   ['education & office supplies',\n",
       "    'desk accessories & organizer',\n",
       "    'key holder & keychain organizer']],\n",
       "  't5_predicted_category_prob': [0.16519415378570557, 0.12923608720302582]},\n",
       " {'title': 'Pitbull MOM Decal - Smiley Face Pit with Paws - Floppy Ear Pit Bull - Pitbull Bull Dog Vinyl Car Decal, Laptop Decal, Window Sticker',\n",
       "  'category': ['automobiles & motorcycles',\n",
       "   'exterior accessories',\n",
       "   'car stickers'],\n",
       "  'lance_predicted_category': ['automobiles & motorcycles',\n",
       "   'exterior accessories',\n",
       "   'car stickers'],\n",
       "  't5_predicted_categories': [['computer & office',\n",
       "    'tablet accessories',\n",
       "    'tablet decals'],\n",
       "   ['automobiles & motorcycles', 'exterior accessories', 'car stickers']],\n",
       "  't5_predicted_category_prob': [0.23008926212787628, 0.21766678988933563]},\n",
       " {'title': 'You Will Give Me TP Beavis and Butt-Head T-Shirt',\n",
       "  'category': [\"men's clothing\", 'tops & tees', 't-shirts'],\n",
       "  'lance_predicted_category': [\"men's clothing\", 'tops & tees', 't-shirts'],\n",
       "  't5_predicted_categories': [[\"women's clothing\", 'tops', 'blouses & shirts'],\n",
       "   ['sports',\n",
       "    'roller skates, skateboards & scooters',\n",
       "    'skateboarding t-shirts']],\n",
       "  't5_predicted_category_prob': [0.17819629609584808, 0.1582697033882141]},\n",
       " {'title': 'Colorful Butterfly Animal Iron On Patches For DIY Heat Transfer Clothes T-Shirt Bag Thermal Stickers Decoration Printing',\n",
       "  'category': ['home & garden',\n",
       "   'arts, crafts & sewing',\n",
       "   'apparel sewing & fabric',\n",
       "   'patches'],\n",
       "  'lance_predicted_category': ['home & garden',\n",
       "   'arts, crafts & sewing',\n",
       "   'apparel sewing & fabric',\n",
       "   'patches'],\n",
       "  't5_predicted_categories': [['apparel accessories',\n",
       "    'garment fabrics & accessories',\n",
       "    'garment accessories & samples'],\n",
       "   ['apparel accessories',\n",
       "    'garment fabrics & accessories',\n",
       "    'garment appliqué']],\n",
       "  't5_predicted_category_prob': [0.03402455896139145, 2.5200961522243116e-23]},\n",
       " {'title': 'Ball Python Winston Sticker Coin Purse',\n",
       "  'category': ['luggage & bags', 'coin purses & holders', 'coin purses'],\n",
       "  'lance_predicted_category': ['luggage & bags',\n",
       "   'coin purses & holders',\n",
       "   'coin purses'],\n",
       "  't5_predicted_categories': [['home & garden',\n",
       "    'home decor',\n",
       "    'ornaments',\n",
       "    'non-currency coins'],\n",
       "   ['home & garden', 'home decor', 'money boxes']],\n",
       "  't5_predicted_category_prob': [0.1347639560699463, 0.04393185302615166]}]"
      ]
     },
     "execution_count": 44,
     "metadata": {},
     "output_type": "execute_result"
    }
   ],
   "source": [
    "# lance correct, t5 beam-0 incorrect\n",
    "df_pred[(df_pred.category.apply(lambda x: x[0]) == df_pred.lance_predicted_category.apply(lambda x: x[0])) & \\\n",
    "     (df_pred.category.apply(lambda x: x[0]) != df_pred.t5_predicted_categories.apply(lambda x: x[0][0]))][[ \n",
    "        'title', 'category', 'lance_predicted_category', 't5_predicted_categories', 't5_predicted_category_prob'\n",
    "     ]].sample(10, random_state=42).to_dict('records')"
   ]
  },
  {
   "cell_type": "code",
   "execution_count": 45,
   "metadata": {},
   "outputs": [
    {
     "data": {
      "text/plain": [
       "[{'title': 'Natural Veg Tanned Cowhide Purse Wallet Shoe Lining First Layer Cowhide Leather DIY Craft 2mm Thick',\n",
       "  'category': ['home & garden',\n",
       "   'arts, crafts & sewing',\n",
       "   'apparel sewing & fabric',\n",
       "   'synthetic leather'],\n",
       "  'lance_predicted_category': ['home & garden',\n",
       "   'arts, crafts & sewing',\n",
       "   'apparel sewing & fabric',\n",
       "   'genuine leather'],\n",
       "  't5_predicted_categories': [['luggage & bags', 'bag parts & accessories'],\n",
       "   ['home & garden',\n",
       "    'arts, crafts & sewing',\n",
       "    'leathercraft',\n",
       "    'leathercraft accessories']],\n",
       "  't5_predicted_category_prob': [0.003665035590529442,\n",
       "   1.5833576116897063e-10]},\n",
       " {'title': 'HOT Super Brand Mens Underwear Boxer Shorts Mens Trunks Breathable Ice Silk Male Panties Underpants Underwear',\n",
       "  'category': [\"men's clothing\",\n",
       "   'underwear & sleepwear',\n",
       "   \"men's underwear\",\n",
       "   'boxers'],\n",
       "  'lance_predicted_category': [\"men's clothing\",\n",
       "   'underwear & sleepwear',\n",
       "   \"men's underwear\",\n",
       "   'boxers'],\n",
       "  't5_predicted_categories': [['sports',\n",
       "    'sports clothing',\n",
       "    'shorts',\n",
       "    'trainning & exercise shorts'],\n",
       "   [\"men's clothing\", 'underwear & sleepwear', \"men's underwear\", 'boxers']],\n",
       "  't5_predicted_category_prob': [0.011424366384744644, 1.708850949633245e-09]},\n",
       " {'title': 'Emperor Logo T-Shirt, Emperor Unisex Tee, Emperor Band',\n",
       "  'category': [\"men's clothing\", 'tops & tees', 't-shirts'],\n",
       "  'lance_predicted_category': [\"men's clothing\", 'tops & tees', 't-shirts'],\n",
       "  't5_predicted_categories': [['sports',\n",
       "    'roller skates, skateboards & scooters',\n",
       "    'skateboarding t-shirts'],\n",
       "   [\"men's clothing\", 'tops & tees', 't-shirts']],\n",
       "  't5_predicted_category_prob': [0.5824761986732483, 0.22423066198825836]},\n",
       " {'title': 'I-N-C Womens Raglan Peasant Blouse',\n",
       "  'category': [\"women's clothing\", 'tops', 'blouses & shirts'],\n",
       "  'lance_predicted_category': [\"women's clothing\",\n",
       "   'muslim fashion',\n",
       "   \"women's tops\"],\n",
       "  't5_predicted_categories': [['novelty & special use',\n",
       "    'traditional & cultural wear',\n",
       "    'traditional chinese clothing',\n",
       "    'tops'],\n",
       "   [\"women's clothing\", 'tops', 'blouses & shirts']],\n",
       "  't5_predicted_category_prob': [0.28150641918182373, 0.24845372140407562]},\n",
       " {'title': '600pcs Automatic Shoe Cover Machine Special Plastic Shoe Cover T Buckle Shoe Cover Household Indoor Disposable Machine Shoe Cover',\n",
       "  'category': ['home & garden',\n",
       "   'household merchandise',\n",
       "   'dust covers',\n",
       "   'shoe covers'],\n",
       "  'lance_predicted_category': ['home & garden',\n",
       "   'household merchandise',\n",
       "   'dust covers',\n",
       "   'shoe covers'],\n",
       "  't5_predicted_categories': [['shoes', 'shoe accessories', 'shoes covers'],\n",
       "   ['home & garden', 'household merchandise', 'dust covers', 'shoe covers']],\n",
       "  't5_predicted_category_prob': [0.20240409672260284, 2.6022431431904636e-10]},\n",
       " {'title': 'Water Cup, Reliable Food Grade Materials High Quality Straw Water Bottle, for Home Camping School Office',\n",
       "  'category': ['home & garden',\n",
       "   'kitchen,dining & bar',\n",
       "   'drinkware',\n",
       "   'water bottles'],\n",
       "  'lance_predicted_category': ['home & garden',\n",
       "   'kitchen,dining & bar',\n",
       "   'cookware & parts',\n",
       "   'water kettles'],\n",
       "  't5_predicted_categories': [['sports',\n",
       "    'camping & hiking',\n",
       "    'camp cooking supplies',\n",
       "    'sports bottles'],\n",
       "   ['home & garden', 'kitchen,dining & bar', 'drinkware', 'water bottles']],\n",
       "  't5_predicted_category_prob': [0.4230777323246002, 0.23901522159576416]},\n",
       " {'title': '14.5*12.1CM Pretty Red Rose Flowers Modelling Car Stickers Decor Bumper Personalized High Quality 11A1209',\n",
       "  'category': ['automobiles & motorcycles',\n",
       "   'motorcycle accessories & parts',\n",
       "   'motorbike accessories',\n",
       "   'decals & stickers'],\n",
       "  'lance_predicted_category': ['automobiles & motorcycles',\n",
       "   'exterior accessories',\n",
       "   'car stickers'],\n",
       "  't5_predicted_categories': [['home & garden',\n",
       "    'festive & party supplies',\n",
       "    'event & party',\n",
       "    'party diy decorations'],\n",
       "   ['automobiles & motorcycles',\n",
       "    'auto replacement parts',\n",
       "    'exterior parts',\n",
       "    'body kits']],\n",
       "  't5_predicted_category_prob': [0.20106899738311768, 0.04276864230632782]},\n",
       " {'title': 'Ergonomic Wrist Rest Mouse Pad EVA Protect Wrist Soft Comfortable Memory Foam Anti-skidding Wrist Pad for Computer Office Computer Game Convenient Mouse Mat Variety Styles',\n",
       "  'category': ['computer & office', 'mouse & keyboards', 'mouse pads'],\n",
       "  'lance_predicted_category': ['computer & office',\n",
       "   'mouse & keyboards',\n",
       "   'mouse pads'],\n",
       "  't5_predicted_categories': [['education & office supplies',\n",
       "    'desk accessories & organizer',\n",
       "    'desk pads & blotters'],\n",
       "   ['computer & office', 'mouse & keyboards', 'mouse pads']],\n",
       "  't5_predicted_category_prob': [0.5790371298789978, 0.3506077527999878]},\n",
       " {'title': 'Incubatrice covatutto 24',\n",
       "  'category': ['home & garden',\n",
       "   'arts, crafts & sewing',\n",
       "   'apparel sewing & fabric',\n",
       "   'pins & pincushions'],\n",
       "  'lance_predicted_category': ['home & garden',\n",
       "   'pet products',\n",
       "   'farm animal supplies',\n",
       "   'feeding & watering supplies'],\n",
       "  't5_predicted_categories': [['education & office supplies',\n",
       "    'school & educational supplies',\n",
       "    'lab supplies',\n",
       "    'laboratory thermostatic devices'],\n",
       "   ['home & garden',\n",
       "    'pet products',\n",
       "    'farm animal supplies',\n",
       "    'feeding & watering supplies']],\n",
       "  't5_predicted_category_prob': [0.7146917581558228, 0.05899735540151596]},\n",
       " {'title': \"Low-rise Bulge Pouch Night Club Stage Performance Tights N2N Bodywear Pants Men's Sexy Faux Leather Leggings Black Skin\",\n",
       "  'category': [\"men's clothing\", 'pants', 'leggings'],\n",
       "  'lance_predicted_category': [\"men's clothing\", 'pants', 'leggings'],\n",
       "  't5_predicted_categories': [[\"women's clothing\",\n",
       "    \"women's exotic apparel\",\n",
       "    'pants'],\n",
       "   [\"men's clothing\", 'pants', 'leather pants']],\n",
       "  't5_predicted_category_prob': [0.60899817943573, 0.32450494170188904]}]"
      ]
     },
     "execution_count": 45,
     "metadata": {},
     "output_type": "execute_result"
    }
   ],
   "source": [
    "# lance correct, t5 beam-1 correct but beam-0 incorrect\n",
    "df_pred[(df_pred.category.apply(lambda x: x[0]) == df_pred.lance_predicted_category.apply(lambda x: x[0])) & \\\n",
    "     (df_pred.category.apply(lambda x: x[0]) != df_pred.t5_predicted_categories.apply(lambda x: x[0][0])) & \\\n",
    "     (df_pred.category.apply(lambda x: x[0]) == df_pred.t5_predicted_categories.apply(lambda x: x[1][0]))\n",
    "     ][[ \n",
    "        'title', 'category', 'lance_predicted_category', 't5_predicted_categories', 't5_predicted_category_prob'\n",
    "     ]].sample(10, random_state=42).to_dict('records')"
   ]
  },
  {
   "cell_type": "code",
   "execution_count": null,
   "metadata": {},
   "outputs": [],
   "source": []
  }
 ],
 "metadata": {
  "kernelspec": {
   "display_name": "Python 3.8.13 ('py38')",
   "language": "python",
   "name": "python3"
  },
  "language_info": {
   "codemirror_mode": {
    "name": "ipython",
    "version": 3
   },
   "file_extension": ".py",
   "mimetype": "text/x-python",
   "name": "python",
   "nbconvert_exporter": "python",
   "pygments_lexer": "ipython3",
   "version": "3.8.13"
  },
  "orig_nbformat": 4,
  "vscode": {
   "interpreter": {
    "hash": "3ea19d11efa7602c1f12500925a974ed4f31fcf847bd6f694bd5180da2602ded"
   }
  }
 },
 "nbformat": 4,
 "nbformat_minor": 2
}
