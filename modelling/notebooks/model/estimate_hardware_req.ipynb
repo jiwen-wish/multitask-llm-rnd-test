{
 "cells": [
  {
   "cell_type": "code",
   "execution_count": 5,
   "metadata": {},
   "outputs": [
    {
     "name": "stdout",
     "output_type": "stream",
     "text": [
      "Estimated memory needed for params, optim states and gradients for a:\n",
      "HW: Setup with 1 node, 8 GPUs per node.\n",
      "SW: Model with 737M total params.\n",
      "  per CPU  |  per GPU |   Options\n",
      "   32.98GB |   1.37GB | offload_optimizer=cpu \n",
      "   32.98GB |   4.12GB | offload_optimizer=none\n"
     ]
    }
   ],
   "source": [
    "!python -c 'from transformers import AutoModel; \\\n",
    "from deepspeed.runtime.zero.stage_1_and_2 import estimate_zero2_model_states_mem_needs_all_live; \\\n",
    "model = AutoModel.from_pretrained(\"t5-large\"); \\\n",
    "estimate_zero2_model_states_mem_needs_all_live(model, num_gpus_per_node=8, num_nodes=1)'"
   ]
  },
  {
   "cell_type": "code",
   "execution_count": 1,
   "metadata": {},
   "outputs": [
    {
     "name": "stdout",
     "output_type": "stream",
     "text": [
      "Downloading: 100%|█████████████████████████| 1.20k/1.20k [00:00<00:00, 1.24MB/s]\n",
      "Downloading: 100%|█████████████████████████| 11.4G/11.4G [03:51<00:00, 49.3MB/s]\n",
      "Estimated memory needed for params, optim states and gradients for a:\n",
      "HW: Setup with 1 node, 8 GPUs per node.\n",
      "SW: Model with 2851M total params.\n",
      "  per CPU  |  per GPU |   Options\n",
      "  127.48GB |   5.31GB | offload_optimizer=cpu \n",
      "  127.48GB |  15.93GB | offload_optimizer=none\n"
     ]
    }
   ],
   "source": [
    "!python -c 'from transformers import AutoModel; \\\n",
    "from deepspeed.runtime.zero.stage_1_and_2 import estimate_zero2_model_states_mem_needs_all_live; \\\n",
    "model = AutoModel.from_pretrained(\"t5-3b\"); \\\n",
    "estimate_zero2_model_states_mem_needs_all_live(model, num_gpus_per_node=8, num_nodes=1)'"
   ]
  },
  {
   "cell_type": "code",
   "execution_count": 3,
   "metadata": {},
   "outputs": [
    {
     "name": "stdout",
     "output_type": "stream",
     "text": [
      "Downloading: 100%|██████████████████████████████| 688/688 [00:00<00:00, 544kB/s]\n",
      "Downloading: 100%|█████████████████████████| 15.0G/15.0G [05:41<00:00, 43.8MB/s]\n",
      "Some weights of the model checkpoint at google/mt5-xl were not used when initializing MT5Model: ['lm_head.weight']\n",
      "- This IS expected if you are initializing MT5Model from the checkpoint of a model trained on another task or with another architecture (e.g. initializing a BertForSequenceClassification model from a BertForPreTraining model).\n",
      "- This IS NOT expected if you are initializing MT5Model from the checkpoint of a model that you expect to be exactly identical (initializing a BertForSequenceClassification model from a BertForSequenceClassification model).\n",
      "Estimated memory needed for params, optim states and gradients for a:\n",
      "HW: Setup with 1 node, 8 GPUs per node.\n",
      "SW: Model with 3230M total params.\n",
      "  per CPU  |  per GPU |   Options\n",
      "  144.41GB |   6.02GB | offload_optimizer=cpu \n",
      "  144.41GB |  18.05GB | offload_optimizer=none\n"
     ]
    }
   ],
   "source": [
    "!python -c 'from transformers import AutoModel; \\\n",
    "from deepspeed.runtime.zero.stage_1_and_2 import estimate_zero2_model_states_mem_needs_all_live; \\\n",
    "model = AutoModel.from_pretrained(\"google/mt5-xl\"); \\\n",
    "estimate_zero2_model_states_mem_needs_all_live(model, num_gpus_per_node=8, num_nodes=1)'"
   ]
  },
  {
   "cell_type": "code",
   "execution_count": 2,
   "metadata": {},
   "outputs": [
    {
     "name": "stdout",
     "output_type": "stream",
     "text": [
      "Downloading: 100%|██████████████████████████████| 627/627 [00:00<00:00, 355kB/s]\n",
      "Downloading: 100%|█████████████████████████| 51.7G/51.7G [23:16<00:00, 37.0MB/s]\n",
      "Some weights of the model checkpoint at google/mt5-xxl were not used when initializing MT5Model: ['lm_head.weight']\n",
      "- This IS expected if you are initializing MT5Model from the checkpoint of a model trained on another task or with another architecture (e.g. initializing a BertForSequenceClassification model from a BertForPreTraining model).\n",
      "- This IS NOT expected if you are initializing MT5Model from the checkpoint of a model that you expect to be exactly identical (initializing a BertForSequenceClassification model from a BertForSequenceClassification model).\n",
      "Estimated memory needed for params, optim states and gradients for a:\n",
      "HW: Setup with 1 node, 8 GPUs per node.\n",
      "SW: Model with 11896M total params.\n",
      "  per CPU  |  per GPU |   Options\n",
      "  531.82GB |  22.16GB | offload_optimizer=cpu \n",
      "  531.82GB |  66.48GB | offload_optimizer=none\n"
     ]
    }
   ],
   "source": [
    "!python -c 'from transformers import AutoModel; \\\n",
    "from deepspeed.runtime.zero.stage_1_and_2 import estimate_zero2_model_states_mem_needs_all_live; \\\n",
    "model = AutoModel.from_pretrained(\"google/mt5-xxl\"); \\\n",
    "estimate_zero2_model_states_mem_needs_all_live(model, num_gpus_per_node=8, num_nodes=1)'"
   ]
  },
  {
   "cell_type": "code",
   "execution_count": null,
   "metadata": {},
   "outputs": [],
   "source": []
  }
 ],
 "metadata": {
  "kernelspec": {
   "display_name": "Python 3.8.13 ('py38')",
   "language": "python",
   "name": "python3"
  },
  "language_info": {
   "codemirror_mode": {
    "name": "ipython",
    "version": 3
   },
   "file_extension": ".py",
   "mimetype": "text/x-python",
   "name": "python",
   "nbconvert_exporter": "python",
   "pygments_lexer": "ipython3",
   "version": "3.8.13"
  },
  "orig_nbformat": 4,
  "vscode": {
   "interpreter": {
    "hash": "3ea19d11efa7602c1f12500925a974ed4f31fcf847bd6f694bd5180da2602ded"
   }
  }
 },
 "nbformat": 4,
 "nbformat_minor": 2
}
