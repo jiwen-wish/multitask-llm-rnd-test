{
 "cells": [
  {
   "cell_type": "code",
   "execution_count": 1,
   "metadata": {},
   "outputs": [],
   "source": [
    "import dvc.api\n",
    "import pandas as pd\n",
    "import sys \n",
    "sys.path.append('../../')\n",
    "from main_multitask_multimodal import LLM_MultitaskMultimodal"
   ]
  },
  {
   "cell_type": "code",
   "execution_count": 4,
   "metadata": {},
   "outputs": [],
   "source": [
    "from pytorch_lightning.utilities.deepspeed import convert_zero_checkpoint_to_fp32_state_dict\n",
    "save_path = '/workspaces/multitask-llm-rnd/modelling/models/product_attribute_extraction_text_generation/version_0/epoch=4-step=4630.ckpt'\n",
    "output_path = '/workspaces/multitask-llm-rnd/modelling/models/product_attribute_extraction_text_generation/version_0/epoch=4-step=4630.ckpt/pytorch_model.bin'\n"
   ]
  },
  {
   "cell_type": "code",
   "execution_count": 5,
   "metadata": {},
   "outputs": [
    {
     "name": "stdout",
     "output_type": "stream",
     "text": [
      "Processing zero checkpoint '/workspaces/multitask-llm-rnd/modelling/models/product_attribute_extraction_text_generation/version_0/epoch=4-step=4630.ckpt/checkpoint'\n",
      "Detected checkpoint of type zero stage 2, world_size: 6\n",
      "Parsing checkpoint created by deepspeed==0.7.3\n",
      "Reconstructed fp32 state dict with 559 params 783150081 elements\n",
      "Saving fp32 state dict to /workspaces/multitask-llm-rnd/modelling/models/product_attribute_extraction_text_generation/version_0/epoch=4-step=4630.ckpt/pytorch_model.bin\n"
     ]
    }
   ],
   "source": [
    "convert_zero_checkpoint_to_fp32_state_dict(save_path, output_path)"
   ]
  },
  {
   "cell_type": "code",
   "execution_count": 6,
   "metadata": {},
   "outputs": [
    {
     "name": "stderr",
     "output_type": "stream",
     "text": [
      "INFO:root:Unused kwargs when getting google/flan-t5-large: {'distance_func': 'cosine', 'loss_type': 'cross-entropy', 'margin': None, 'hidden_states_type': 'encoder-last', 'add_simcse': False, 'manual_loss_type': 'manual_mse', 'auto_task_weight': False, 'multitask_specs_dict': {'clm_singlemodal_wishtitledesp2attrkvpair': None}, 'head_dict': {}}\n"
     ]
    }
   ],
   "source": [
    "model = LLM_MultitaskMultimodal.load_from_checkpoint('/workspaces/multitask-llm-rnd/modelling/models/product_attribute_extraction_text_generation/version_0/epoch=4-step=4630.ckpt/pytorch_model.bin')"
   ]
  },
  {
   "cell_type": "code",
   "execution_count": 8,
   "metadata": {},
   "outputs": [],
   "source": [
    "def format_input(title, description, category):\n",
    "    template = f'[title start] {title} [title end] [description start] {description} [description end] [taxonomy start] {category} [taxonomy end]'\n",
    "    task_prefix = 'Generate attribute key value pairs for product with description and taxonomy: '\n",
    "    return task_prefix + template"
   ]
  },
  {
   "cell_type": "code",
   "execution_count": 12,
   "metadata": {},
   "outputs": [],
   "source": [
    "df = pd.read_json(dvc.api.get_url( \n",
    "    'datasets/data/wish_attr_extract_label/processed/appen_020323_030323_delivered_030623_validated_product_attr_textonly_train.json', \n",
    "    repo='git@github.com:ContextLogic/multitask-llm-rnd.git'\n",
    "), lines=True)"
   ]
  },
  {
   "cell_type": "code",
   "execution_count": 14,
   "metadata": {},
   "outputs": [],
   "source": [
    "rec = df.sample(1).to_dict('records')[0]"
   ]
  },
  {
   "cell_type": "code",
   "execution_count": 17,
   "metadata": {},
   "outputs": [],
   "source": [
    "input_text = format_input(rec['title'], rec['description'], rec['category'])"
   ]
  },
  {
   "cell_type": "code",
   "execution_count": 24,
   "metadata": {},
   "outputs": [
    {
     "data": {
      "text/plain": [
       "{'label_ordering': 8576,\n",
       " 'sample_method': 'only_text',\n",
       " 'pid': '5ffddddf87dcf4d88684b371',\n",
       " 'category': 'Sports > Fishing > Fishing Lures',\n",
       " 'title': 'Vib Spoon Lure 15G 20G Metal Fishing Lures Sequins Spinner Vibration Hard Ice Bait Pesca Jigging Japan Tackle Winter',\n",
       " 'description': 'Brand Name: Lqcrwoc\\nPosition: Ocean Boat Fishing\\nPosition: Ocean Beach Fishing\\nPosition: Lake\\nPosition: River\\nPosition: Reservoir Pond\\nPosition: Stream\\nPosition: Ocean Rock Fishing\\nCategory: Lure\\nModel Number: Dmt2P\\nType: Artificial Bait\\nType: Vib Sequins Bait\\nSize: 15G/20G\\nMaterial: Metal\\nColor: Gold ,  Silver',\n",
       " 'main_img_url': nan,\n",
       " 'rater_output_processed': 'Sports > Fishing > Fishing Lures > Primary Color > Gold\\nSports > Fishing > Fishing Lures > Primary Color > Silver',\n",
       " 'attr_name_value_pairs_normalized': [['Primary Color', 'Gold'],\n",
       "  ['Primary Color', 'Silver']],\n",
       " 'attr_name_value_pairs_custom': [],\n",
       " 'attr_name_value_pairs_normalized_text': 'Primary Color|Gold\\nPrimary Color|Silver'}"
      ]
     },
     "execution_count": 24,
     "metadata": {},
     "output_type": "execute_result"
    }
   ],
   "source": [
    "rec"
   ]
  },
  {
   "cell_type": "code",
   "execution_count": 28,
   "metadata": {},
   "outputs": [
    {
     "data": {
      "text/plain": [
       "['<pad> Materials|Metal [NL] Primary Color|Silver [NL] Styles|Sinking [NL] Styles|Sinking [NL] Styles|Sintage [NL] Styles|Sintage [NL] Styles|Sintage [NL] Styles|Sintage [NL] Styles|Sintage [NL] Styles|Sintage [NL] Styles|Sintage [NL] Styles']"
      ]
     },
     "execution_count": 28,
     "metadata": {},
     "output_type": "execute_result"
    }
   ],
   "source": [
    "model.eval()\n",
    "model.tokenizer.batch_decode(model.transformer.generate(**model.tokenizer(input_text, return_tensors='pt'), min_length=100, max_length=100))"
   ]
  },
  {
   "cell_type": "code",
   "execution_count": null,
   "metadata": {},
   "outputs": [],
   "source": []
  }
 ],
 "metadata": {
  "kernelspec": {
   "display_name": "py38",
   "language": "python",
   "name": "python3"
  },
  "language_info": {
   "codemirror_mode": {
    "name": "ipython",
    "version": 3
   },
   "file_extension": ".py",
   "mimetype": "text/x-python",
   "name": "python",
   "nbconvert_exporter": "python",
   "pygments_lexer": "ipython3",
   "version": "3.8.13"
  },
  "orig_nbformat": 4,
  "vscode": {
   "interpreter": {
    "hash": "3ea19d11efa7602c1f12500925a974ed4f31fcf847bd6f694bd5180da2602ded"
   }
  }
 },
 "nbformat": 4,
 "nbformat_minor": 2
}
