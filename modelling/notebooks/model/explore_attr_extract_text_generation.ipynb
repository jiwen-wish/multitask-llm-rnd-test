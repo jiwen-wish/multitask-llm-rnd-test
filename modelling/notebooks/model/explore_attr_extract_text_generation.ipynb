{
 "cells": [
  {
   "cell_type": "code",
   "execution_count": 122,
   "metadata": {},
   "outputs": [],
   "source": [
    "import dvc.api\n",
    "import pandas as pd\n",
    "import sys \n",
    "sys.path.append('../../')\n",
    "from main_multitask_multimodal import LLM_MultitaskMultimodal"
   ]
  },
  {
   "cell_type": "code",
   "execution_count": 123,
   "metadata": {},
   "outputs": [],
   "source": [
    "from pytorch_lightning.utilities.deepspeed import convert_zero_checkpoint_to_fp32_state_dict\n",
    "save_path = '/workspaces/multitask-llm-rnd/modelling/models/product_attribute_extraction_text_generation/version_1/epoch=4-step=8094.ckpt'\n",
    "output_path = f'{save_path}/pytorch_model.bin'\n"
   ]
  },
  {
   "cell_type": "code",
   "execution_count": 124,
   "metadata": {},
   "outputs": [
    {
     "name": "stdout",
     "output_type": "stream",
     "text": [
      "Processing zero checkpoint '/workspaces/multitask-llm-rnd/modelling/models/product_attribute_extraction_text_generation/version_1/epoch=4-step=8094.ckpt/checkpoint'\n",
      "Detected checkpoint of type zero stage 2, world_size: 6\n",
      "Parsing checkpoint created by deepspeed==0.7.3\n",
      "Reconstructed fp32 state dict with 283 params 582401281 elements\n",
      "Saving fp32 state dict to /workspaces/multitask-llm-rnd/modelling/models/product_attribute_extraction_text_generation/version_1/epoch=4-step=8094.ckpt/pytorch_model.bin\n"
     ]
    }
   ],
   "source": [
    "convert_zero_checkpoint_to_fp32_state_dict(save_path, output_path)"
   ]
  },
  {
   "cell_type": "code",
   "execution_count": 125,
   "metadata": {},
   "outputs": [
    {
     "name": "stderr",
     "output_type": "stream",
     "text": [
      "INFO:root:Unused kwargs when getting google/mt5-base: {'distance_func': 'cosine', 'loss_type': 'cross-entropy', 'margin': None, 'hidden_states_type': 'encoder-last', 'add_simcse': False, 'manual_loss_type': 'manual_mse', 'auto_task_weight': False, 'multitask_specs_dict': {'clm_singlemodal_wishtitledesp2attrkvpair': None}, 'head_dict': {}}\n"
     ]
    }
   ],
   "source": [
    "model = LLM_MultitaskMultimodal.load_from_checkpoint(output_path)"
   ]
  },
  {
   "cell_type": "code",
   "execution_count": 126,
   "metadata": {},
   "outputs": [],
   "source": [
    "def format_input(title, description, category):\n",
    "    template = f'[title start] {title} [title end] [description start] {description} [description end] [taxonomy start] {category} [taxonomy end]'\n",
    "    task_prefix = 'Generate attribute key value pairs for product with description and taxonomy: '\n",
    "    return task_prefix + template"
   ]
  },
  {
   "cell_type": "code",
   "execution_count": 127,
   "metadata": {},
   "outputs": [],
   "source": [
    "df = pd.read_json(dvc.api.get_url( \n",
    "    'datasets/data/wish_attr_extract_label/processed/appen_020323_030323_delivered_030623_validated_product_attr_textonly_train.json', \n",
    "    repo='git@github.com:ContextLogic/multitask-llm-rnd.git'\n",
    "), lines=True)"
   ]
  },
  {
   "cell_type": "code",
   "execution_count": 138,
   "metadata": {},
   "outputs": [],
   "source": [
    "rec = df.sample(1).to_dict('records')[0]"
   ]
  },
  {
   "cell_type": "code",
   "execution_count": 139,
   "metadata": {},
   "outputs": [],
   "source": [
    "input_text = format_input(rec['title'], rec['description'], rec['category'])"
   ]
  },
  {
   "cell_type": "code",
   "execution_count": 140,
   "metadata": {},
   "outputs": [
    {
     "data": {
      "text/plain": [
       "{'label_ordering': 44790,\n",
       " 'sample_method': 'only_text',\n",
       " 'pid': '60198af7f883788328ddf725',\n",
       " 'category': 'Home & Garden > Home Decor > Flags, Banners & Accessories',\n",
       " 'title': 'Spring Dissent 2009 - Orange banner flag 150*90 cm',\n",
       " 'description': 'Spring Dissent 2009 - Orange flag banner flags 3*5 inch',\n",
       " 'main_img_url': nan,\n",
       " 'rater_output_processed': 'Home & Garden > Home Decor > Flags, Banners & Accessories > Alpha Size > 3.5 inch\\nHome & Garden > Home Decor > Flags, Banners & Accessories > Item Types > Flag\\nHome & Garden > Home Decor > Flags, Banners & Accessories > Item Types > Banner\\nHome & Garden > Home Decor > Flags, Banners & Accessories > Primary Color > Orange\\nHome & Garden > Home Decor > Flags, Banners & Accessories > Alpha Size > 3x5 inch',\n",
       " 'attr_name_value_pairs_normalized': [['Primary Color', 'Orange']],\n",
       " 'attr_name_value_pairs_custom': [['Alpha Size', '3.5 inch'],\n",
       "  ['Alpha Size', '3x5 inch'],\n",
       "  ['Item Types', 'Banner'],\n",
       "  ['Item Types', 'Flag']],\n",
       " 'attr_name_value_pairs_normalized_text': 'Primary Color|Orange'}"
      ]
     },
     "execution_count": 140,
     "metadata": {},
     "output_type": "execute_result"
    }
   ],
   "source": [
    "rec"
   ]
  },
  {
   "cell_type": "code",
   "execution_count": 141,
   "metadata": {},
   "outputs": [
    {
     "name": "stdout",
     "output_type": "stream",
     "text": [
      "Generate attribute key value pairs for product with description and taxonomy: [title start] Spring Dissent 2009 - Orange banner flag 150*90 cm [title end] [description start] Spring Dissent 2009 - Orange flag banner flags 3*5 inch [description end] [taxonomy start] Home & Garden > Home Decor > Flags, Banners & Accessories [taxonomy end]\n"
     ]
    }
   ],
   "source": [
    "print(input_text)"
   ]
  },
  {
   "cell_type": "code",
   "execution_count": 142,
   "metadata": {},
   "outputs": [],
   "source": [
    "inputs = model.tokenizer(input_text, return_tensors='pt')"
   ]
  },
  {
   "cell_type": "code",
   "execution_count": 143,
   "metadata": {},
   "outputs": [],
   "source": [
    "decoder_inputs = model.tokenizer('<pad>Materials|', return_tensors='pt')"
   ]
  },
  {
   "cell_type": "code",
   "execution_count": 144,
   "metadata": {},
   "outputs": [
    {
     "data": {
      "text/plain": [
       "['<pad> Materials|']"
      ]
     },
     "execution_count": 144,
     "metadata": {},
     "output_type": "execute_result"
    }
   ],
   "source": [
    "model.tokenizer.batch_decode(decoder_inputs['input_ids'][:,:-1])"
   ]
  },
  {
   "cell_type": "code",
   "execution_count": 145,
   "metadata": {},
   "outputs": [
    {
     "data": {
      "text/plain": [
       "['<pad> Materials|Polyester</s>']"
      ]
     },
     "execution_count": 145,
     "metadata": {},
     "output_type": "execute_result"
    }
   ],
   "source": [
    "model.eval()\n",
    "model.tokenizer.batch_decode(model.transformer.generate(\n",
    "    decoder_input_ids=decoder_inputs['input_ids'][:,:-1], \n",
    "    **inputs))"
   ]
  },
  {
   "cell_type": "code",
   "execution_count": 146,
   "metadata": {},
   "outputs": [
    {
     "data": {
      "text/plain": [
       "['<pad></s>']"
      ]
     },
     "execution_count": 146,
     "metadata": {},
     "output_type": "execute_result"
    }
   ],
   "source": [
    "model.eval()\n",
    "model.tokenizer.batch_decode(model.transformer.generate(**inputs))"
   ]
  },
  {
   "cell_type": "code",
   "execution_count": 147,
   "metadata": {},
   "outputs": [
    {
     "data": {
      "text/plain": [
       "['<pad> Materials|Polyester [NL] Primary Color|Multicolor [NL] Primary Color|White [NL] Shape|Rectangular [NL] Theme|Flag [NL] Theme|Flag [NL] Theme|Flag [NL] Theme|Flowers [NL] Theme|Flag [NL] Theme|Flag [NL] Theme|Flag [NL] Theme|Flag [NL] Theme|Flag [NL] Theme|Flag [NL] Theme|Flag [NL] Theme']"
      ]
     },
     "execution_count": 147,
     "metadata": {},
     "output_type": "execute_result"
    }
   ],
   "source": [
    "model.eval()\n",
    "model.tokenizer.batch_decode(model.transformer.generate(**inputs, min_length=100, max_length=100))"
   ]
  },
  {
   "cell_type": "code",
   "execution_count": 16,
   "metadata": {},
   "outputs": [],
   "source": [
    "recs = df.sample(4).to_dict('records')"
   ]
  },
  {
   "cell_type": "code",
   "execution_count": 20,
   "metadata": {},
   "outputs": [
    {
     "name": "stdout",
     "output_type": "stream",
     "text": [
      "Generate attribute key value pairs for product with description and taxonomy: [title start] 316L Solid Stainless Steel  Necklace [title end] [description start] Authenticity Guaranteed\n",
      "Hypoallergenic Jewelry\n",
      "Comfort Fit Design\n",
      "Safe on Skin\n",
      "Made to Last a Lifetime\n",
      "Designed in ITALY\n",
      "Certifed Gemstones\n",
      "Creation Method: Lab Created \n",
      "Guaranteed to Retain its Color and Shine\n",
      "316L Solid Stainless Steel Necklace [description end] [taxonomy start] Jewelry & Accessories > Necklaces & Pendants > Power Necklaces [taxonomy end] -> Department|Women\n",
      "Materials|Argentium Plated Stainless Steel\n",
      "Materials|Stainless Steel\n",
      "\n",
      "Generate attribute key value pairs for product with description and taxonomy: [title start] Simple Style Rolls Royce Pillowcase Throw Pillows Soft Sofa Cushion Covers Square Pillowcase [title end] [description start] Item: Pillow cases\n",
      "Material: Cotton （As shown in the figure）\n",
      "Style: Modern Printed/Personality DIY decoration\n",
      "Pattern Type: Portrait/photo/Animal/plants/Letter and so on\n",
      "Print area: Both the front and the back of the pillow cover have the same color\n",
      "Unpick and Wash: Removable and Washable\n",
      "Shape: Square\n",
      "Size: 16\" * 16\"\n",
      "Lining: no padding (Note: Only Cover, and INSERT NOT INCLUDED)\n",
      "Feature: Soft, Textured, made with color matching invisible zipper and allows easy insertion and removal of pillow inserts.\n",
      "Use: Home, Hotel, Car Seat, Decorative, Chair, Floor\n",
      "Maintenance: Hang to dry, avoid rubbing and wring\n",
      "Tips: Avoid prolong exposure to sunlight [description end] [taxonomy start] Home & Garden > Home Textile > Bedding > Pillow Cases [taxonomy end] -> \n"
     ]
    }
   ],
   "source": [
    "prompts = []\n",
    "for rec in recs[:1]:\n",
    "    prompts.append(format_input(rec['title'], rec['description'], rec['category']) + ' -> ' + \\\n",
    "                  rec['attr_name_value_pairs_normalized_text'])\n",
    "rec = recs[-1]\n",
    "prompts.append(format_input(rec['title'], rec['description'], rec['category']) + ' -> ')\n",
    "print('\\n\\n'.join(prompts))"
   ]
  },
  {
   "cell_type": "code",
   "execution_count": 22,
   "metadata": {},
   "outputs": [],
   "source": [
    "input_text = '\\n'.join(prompts)"
   ]
  },
  {
   "cell_type": "code",
   "execution_count": 23,
   "metadata": {},
   "outputs": [
    {
     "name": "stderr",
     "output_type": "stream",
     "text": [
      "/opt/conda/envs/py38/lib/python3.8/site-packages/transformers/generation_utils.py:1227: UserWarning: Neither `max_length` nor `max_new_tokens` has been set, `max_length` will default to 20 (`self.config.max_length`). Controlling `max_length` via the config is deprecated and `max_length` will be removed from the config in v5 of Transformers -- we recommend using `max_new_tokens` to control the maximum length of the generation.\n",
      "  warnings.warn(\n"
     ]
    },
    {
     "data": {
      "text/plain": [
       "['<pad> Primary Color|Black [NL] Primary Color|Green</s>']"
      ]
     },
     "execution_count": 23,
     "metadata": {},
     "output_type": "execute_result"
    }
   ],
   "source": [
    "model.eval()\n",
    "model.tokenizer.batch_decode(model.transformer.generate(**model.tokenizer(input_text, return_tensors='pt'), min_length=10))"
   ]
  },
  {
   "cell_type": "code",
   "execution_count": null,
   "metadata": {},
   "outputs": [],
   "source": []
  }
 ],
 "metadata": {
  "kernelspec": {
   "display_name": "py38",
   "language": "python",
   "name": "python3"
  },
  "language_info": {
   "codemirror_mode": {
    "name": "ipython",
    "version": 3
   },
   "file_extension": ".py",
   "mimetype": "text/x-python",
   "name": "python",
   "nbconvert_exporter": "python",
   "pygments_lexer": "ipython3",
   "version": "3.8.13"
  },
  "orig_nbformat": 4,
  "vscode": {
   "interpreter": {
    "hash": "3ea19d11efa7602c1f12500925a974ed4f31fcf847bd6f694bd5180da2602ded"
   }
  }
 },
 "nbformat": 4,
 "nbformat_minor": 2
}
