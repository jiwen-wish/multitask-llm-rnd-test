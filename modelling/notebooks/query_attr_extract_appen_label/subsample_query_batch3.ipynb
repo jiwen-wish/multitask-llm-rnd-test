{
 "cells": [
  {
   "cell_type": "code",
   "execution_count": 1,
   "metadata": {},
   "outputs": [
    {
     "name": "stdout",
     "output_type": "stream",
     "text": [
      "  0% Transferring|                                   |0/1 [00:00<?,     ?file/s]\n",
      "!\u001b[A\n",
      "  0%|          |structured-data-dev/junwang_query_u0.00/? [00:00<?,        ?B/s]\u001b[A\n",
      "  0%|          |structured-data-dev/junwang_que0.00/12.1M [00:00<?,        ?B/s]\u001b[A\n",
      "  1%|          |structured-data-dev/junwang115k/12.1M [00:00<00:14,     855kB/s]\u001b[A\n",
      "  3%|▎         |structured-data-dev/junwang340k/12.1M [00:00<00:09,    1.34MB/s]\u001b[A\n",
      "  9%|▉         |structured-data-dev/junwan1.12M/12.1M [00:00<00:03,    3.46MB/s]\u001b[A\n",
      " 23%|██▎       |structured-data-dev/junwan2.83M/12.1M [00:00<00:01,    7.26MB/s]\u001b[A\n",
      " 54%|█████▎    |structured-data-dev/junwan6.50M/12.1M [00:00<00:00,    14.7MB/s]\u001b[A\n",
      " 83%|████████▎ |structured-data-dev/junwan10.1M/12.1M [00:00<00:00,    20.4MB/s]\u001b[A\n",
      "\n",
      "!\u001b[A\u001b[A\n",
      "\n",
      "  0%|          |bad5bc9139a4c6ad3c84c746154e7f     0.00/? [00:00<?,        ?B/s]\u001b[A\u001b[A\n",
      "                                                                                \u001b[A\n",
      "\n",
      "  0% Checkout|                                       |0/1 [00:00<?,     ?file/s]\u001b[A\u001b[A\n",
      "!\u001b[A\n",
      "  0%|          |/workspaces/multitask-llm-rnd/model0.00/? [00:00<?,        ?B/s]\u001b[A\n",
      "  0%|          |/workspaces/multitask-llm-rnd/m0.00/12.1M [00:00<?,        ?B/s]\u001b[A\n",
      "\u001b[32mA\u001b[0m       appen_query_attribution_batch3.csv                             \u001b[A\n",
      "1 file added and 1 file fetched\n",
      "\u001b[0m"
     ]
    }
   ],
   "source": [
    "!dvc pull appen_query_attribution_batch3.csv"
   ]
  },
  {
   "cell_type": "code",
   "execution_count": 2,
   "metadata": {},
   "outputs": [],
   "source": [
    "import pandas as pd"
   ]
  },
  {
   "cell_type": "code",
   "execution_count": 3,
   "metadata": {},
   "outputs": [],
   "source": [
    "df = pd.read_csv('appen_query_attribution_batch3.csv')"
   ]
  },
  {
   "cell_type": "code",
   "execution_count": 5,
   "metadata": {},
   "outputs": [],
   "source": [
    "df.head(74419).to_csv('appen_query_attribution_batch3_top74419.csv', index=False)"
   ]
  },
  {
   "cell_type": "code",
   "execution_count": null,
   "metadata": {},
   "outputs": [],
   "source": []
  }
 ],
 "metadata": {
  "kernelspec": {
   "display_name": "py38",
   "language": "python",
   "name": "python3"
  },
  "language_info": {
   "codemirror_mode": {
    "name": "ipython",
    "version": 3
   },
   "file_extension": ".py",
   "mimetype": "text/x-python",
   "name": "python",
   "nbconvert_exporter": "python",
   "pygments_lexer": "ipython3",
   "version": "3.8.13"
  },
  "orig_nbformat": 4,
  "vscode": {
   "interpreter": {
    "hash": "3ea19d11efa7602c1f12500925a974ed4f31fcf847bd6f694bd5180da2602ded"
   }
  }
 },
 "nbformat": 4,
 "nbformat_minor": 2
}
