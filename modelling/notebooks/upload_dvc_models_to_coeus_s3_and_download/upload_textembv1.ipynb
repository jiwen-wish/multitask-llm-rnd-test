{
 "cells": [
  {
   "cell_type": "code",
   "execution_count": 1,
   "metadata": {},
   "outputs": [],
   "source": [
    "from constants import DEV_BUCKET, STAGE_BUCKET, PROD_BUCKET, FOLDER_NAME\n",
    "import tempfile\n",
    "from dvc.api import DVCFileSystem\n",
    "import s3fs\n",
    "import yaml\n",
    "import datetime"
   ]
  },
  {
   "cell_type": "code",
   "execution_count": 2,
   "metadata": {},
   "outputs": [],
   "source": [
    "repo = 'git@github.com:ContextLogic/multitask-llm-rnd.git'\n",
    "path = '/modelling/notebooks/convert_pl_to_hf_ckpt/text_emb_v1/onnx_ckpt'"
   ]
  },
  {
   "cell_type": "code",
   "execution_count": 3,
   "metadata": {},
   "outputs": [],
   "source": [
    "MODEL_NAME = \"text-emb/v1\""
   ]
  },
  {
   "cell_type": "code",
   "execution_count": 4,
   "metadata": {},
   "outputs": [],
   "source": [
    "s3_file = s3fs.S3FileSystem()"
   ]
  },
  {
   "cell_type": "code",
   "execution_count": 5,
   "metadata": {},
   "outputs": [
    {
     "name": "stdout",
     "output_type": "stream",
     "text": [
      "/tmp/tmpi3g6sz94\n",
      "save to structured-data-dev/coeus-gpu-multitask-ml/text-emb/v1\n",
      "save to structured-data-stage/coeus-gpu-multitask-ml/text-emb/v1\n",
      "save to structured-data-prod/coeus-gpu-multitask-ml/text-emb/v1\n"
     ]
    }
   ],
   "source": [
    "with tempfile.TemporaryDirectory() as tmpdirname:\n",
    "    print(tmpdirname)\n",
    "    fs = DVCFileSystem(repo, subrepos=True)\n",
    "    fs.get(path, tmpdirname, recursive=True)\n",
    "    s3_file = s3fs.S3FileSystem()\n",
    "    local_path = tmpdirname\n",
    "    \n",
    "    def rm_and_save(s3_path):\n",
    "        if len(s3_file.ls(s3_path)) > 0:\n",
    "            try:\n",
    "                print(f'rm -rf {s3_path}')\n",
    "                s3_file.rm(s3_path, recursive=True)\n",
    "            except Exception as e:\n",
    "                print(f'rm failed due to {e}')\n",
    "        print(f'save to {s3_path}')\n",
    "        s3_file.put(local_path, s3_path, recursive=True) \n",
    "\n",
    "    rm_and_save(f\"{DEV_BUCKET}/{FOLDER_NAME}/{MODEL_NAME}\")\n",
    "    rm_and_save(f\"{STAGE_BUCKET}/{FOLDER_NAME}/{MODEL_NAME}\")\n",
    "    rm_and_save(f\"{PROD_BUCKET}/{FOLDER_NAME}/{MODEL_NAME}\")\n",
    "    "
   ]
  },
  {
   "cell_type": "code",
   "execution_count": 6,
   "metadata": {},
   "outputs": [],
   "source": [
    "yaml_dict = yaml.safe_load(open('models.yaml', 'r'))"
   ]
  },
  {
   "cell_type": "code",
   "execution_count": 7,
   "metadata": {},
   "outputs": [],
   "source": [
    "if yaml_dict is None:\n",
    "    yaml_dict = {}"
   ]
  },
  {
   "cell_type": "code",
   "execution_count": 8,
   "metadata": {},
   "outputs": [],
   "source": [
    "assert MODEL_NAME.count('/') == 1"
   ]
  },
  {
   "cell_type": "code",
   "execution_count": 9,
   "metadata": {},
   "outputs": [],
   "source": [
    "model_class, model_version = MODEL_NAME.split('/')"
   ]
  },
  {
   "cell_type": "code",
   "execution_count": 10,
   "metadata": {},
   "outputs": [],
   "source": [
    "if model_class not in yaml_dict:\n",
    "    yaml_dict[model_class] ={}\n",
    "if model_version in yaml_dict[model_class]:\n",
    "    print(f'overwrite {model_class}/{model_version} !!!!!')\n",
    "yaml_dict[model_class][model_version] = {\n",
    "    \"dvc\": {\n",
    "        \"repo\": \"git@github.com:ContextLogic/multitask-llm-rnd.git\", \n",
    "        \"path\": \"/modelling/notebooks/convert_pl_to_hf_ckpt/text_emb_v1/onnx_ckpt\", \n",
    "        \"rev\": \"45340f4f9d957169d95ad48f884cf531d0c36fe8\"\n",
    "    },\n",
    "    \"s3\": {\n",
    "        \"dev\": f\"{DEV_BUCKET}/{FOLDER_NAME}/{MODEL_NAME}\",\n",
    "        \"stage\": f\"{STAGE_BUCKET}/{FOLDER_NAME}/{MODEL_NAME}\",\n",
    "        \"prod\": f\"{PROD_BUCKET}/{FOLDER_NAME}/{MODEL_NAME}\"\n",
    "    },\n",
    "    \"metadata\": {\n",
    "        \"library_type\": \"onnx\",\n",
    "        \"model_type\": \"text-embedding\",\n",
    "        \"yaml_update_time\": str(datetime.datetime.now())\n",
    "    }\n",
    "}"
   ]
  },
  {
   "cell_type": "code",
   "execution_count": 11,
   "metadata": {},
   "outputs": [],
   "source": [
    "with open('models.yaml', 'w') as f:\n",
    "    f.write(yaml.dump(yaml_dict))"
   ]
  },
  {
   "cell_type": "code",
   "execution_count": 12,
   "metadata": {},
   "outputs": [],
   "source": [
    "import s3fs\n",
    "fs = s3fs.S3FileSystem()\n",
    "fs.get(f\"{DEV_BUCKET}/{FOLDER_NAME}/{MODEL_NAME}/\", \"tmp\", recursive=True)"
   ]
  },
  {
   "cell_type": "code",
   "execution_count": null,
   "metadata": {},
   "outputs": [],
   "source": []
  }
 ],
 "metadata": {
  "kernelspec": {
   "display_name": "py38",
   "language": "python",
   "name": "python3"
  },
  "language_info": {
   "codemirror_mode": {
    "name": "ipython",
    "version": 3
   },
   "file_extension": ".py",
   "mimetype": "text/x-python",
   "name": "python",
   "nbconvert_exporter": "python",
   "pygments_lexer": "ipython3",
   "version": "3.8.13"
  },
  "orig_nbformat": 4,
  "vscode": {
   "interpreter": {
    "hash": "3ea19d11efa7602c1f12500925a974ed4f31fcf847bd6f694bd5180da2602ded"
   }
  }
 },
 "nbformat": 4,
 "nbformat_minor": 2
}
