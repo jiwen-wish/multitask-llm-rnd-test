{
 "cells": [
  {
   "cell_type": "code",
   "execution_count": 12,
   "metadata": {},
   "outputs": [],
   "source": [
    "from constants import DEV_BUCKET, STAGE_BUCKET, PROD_BUCKET, FOLDER_NAME\n",
    "import tempfile\n",
    "from dvc.api import DVCFileSystem\n",
    "import s3fs\n",
    "import yaml\n",
    "import datetime"
   ]
  },
  {
   "cell_type": "code",
   "execution_count": 13,
   "metadata": {},
   "outputs": [],
   "source": [
    "repo = 'git@github.com:ContextLogic/multitask-llm-rnd.git'\n",
    "path = '/modelling/notebooks/convert_pl_to_hf_ckpt/content_moderation_v2/raw_ckpt'"
   ]
  },
  {
   "cell_type": "code",
   "execution_count": 14,
   "metadata": {},
   "outputs": [],
   "source": [
    "MODEL_NAME = \"content-moderation/v2\""
   ]
  },
  {
   "cell_type": "code",
   "execution_count": 15,
   "metadata": {},
   "outputs": [
    {
     "name": "stdout",
     "output_type": "stream",
     "text": [
      "/tmp/tmpmc8oxgqf\n",
      "save to structured-data-dev/coeus-gpu-multitask-ml/content-moderation/v2\n",
      "save to structured-data-stage/coeus-gpu-multitask-ml/content-moderation/v2\n",
      "save to structured-data-prod/coeus-gpu-multitask-ml/content-moderation/v2\n"
     ]
    }
   ],
   "source": [
    "with tempfile.TemporaryDirectory() as tmpdirname:\n",
    "    print(tmpdirname)\n",
    "    fs = DVCFileSystem(repo, subrepos=True)\n",
    "    fs.get(path, tmpdirname, recursive=True)\n",
    "    s3_file = s3fs.S3FileSystem()\n",
    "    local_path = tmpdirname\n",
    "    \n",
    "    def rm_and_save(s3_path):\n",
    "        try:\n",
    "            print(f'rm -rf {s3_path}')\n",
    "            s3_file.rm(s3_path, recursive=True)\n",
    "        except Exception as e:\n",
    "            print(f'rm failed due to {e}')\n",
    "        print(f'save to {s3_path}')\n",
    "        s3_file.put(local_path, s3_path, recursive=True) \n",
    "\n",
    "    rm_and_save(f\"{DEV_BUCKET}/{FOLDER_NAME}/{MODEL_NAME}\")\n",
    "    rm_and_save(f\"{STAGE_BUCKET}/{FOLDER_NAME}/{MODEL_NAME}\")\n",
    "    rm_and_save(f\"{PROD_BUCKET}/{FOLDER_NAME}/{MODEL_NAME}\")\n",
    "    "
   ]
  },
  {
   "cell_type": "code",
   "execution_count": 5,
   "metadata": {},
   "outputs": [],
   "source": [
    "yaml_dict = yaml.safe_load(open('models.yaml', 'r'))\n",
    "if yaml_dict is None:\n",
    "    yaml_dict = {}"
   ]
  },
  {
   "cell_type": "code",
   "execution_count": 6,
   "metadata": {},
   "outputs": [],
   "source": [
    "assert MODEL_NAME.count('/') == 1"
   ]
  },
  {
   "cell_type": "code",
   "execution_count": 7,
   "metadata": {},
   "outputs": [],
   "source": [
    "model_class, model_version = MODEL_NAME.split('/')"
   ]
  },
  {
   "cell_type": "code",
   "execution_count": 8,
   "metadata": {},
   "outputs": [
    {
     "name": "stdout",
     "output_type": "stream",
     "text": [
      "overwrite previous config\n"
     ]
    }
   ],
   "source": [
    "if model_class not in yaml_dict:\n",
    "    yaml_dict[model_class] ={}\n",
    "if model_version in yaml_dict[model_class]:\n",
    "    print('overwrite previous config')\n",
    "yaml_dict[model_class][model_version] = {\n",
    "    \"dvc\": {\n",
    "        \"repo\": repo, \n",
    "        \"path\": path, \n",
    "        \"rev\": \"1393dc0d7a29cd637aca3d6b3062d5bebfdedade\"\n",
    "    },\n",
    "    \"s3\": {\n",
    "        \"dev\": f\"{DEV_BUCKET}/{FOLDER_NAME}/{MODEL_NAME}\",\n",
    "        \"stage\": f\"{STAGE_BUCKET}/{FOLDER_NAME}/{MODEL_NAME}\",\n",
    "        \"prod\": f\"{PROD_BUCKET}/{FOLDER_NAME}/{MODEL_NAME}\"\n",
    "    },\n",
    "    \"metadata\": {\n",
    "        \"library_type\": \"custom-python-func\",\n",
    "        \"model_type\": \"clip-catboost\",\n",
    "        \"yaml_update_time\": str(datetime.datetime.now()),\n",
    "        \"max_batch_size\": 20\n",
    "    }\n",
    "}"
   ]
  },
  {
   "cell_type": "code",
   "execution_count": 9,
   "metadata": {},
   "outputs": [],
   "source": [
    "with open('models.yaml', 'w') as f:\n",
    "    f.write(yaml.dump(yaml_dict))"
   ]
  },
  {
   "cell_type": "code",
   "execution_count": 11,
   "metadata": {},
   "outputs": [
    {
     "data": {
      "text/plain": [
       "[None,\n",
       " None,\n",
       " None,\n",
       " None,\n",
       " None,\n",
       " None,\n",
       " None,\n",
       " None,\n",
       " None,\n",
       " None,\n",
       " None,\n",
       " None,\n",
       " None,\n",
       " None,\n",
       " None,\n",
       " None]"
      ]
     },
     "execution_count": 11,
     "metadata": {},
     "output_type": "execute_result"
    }
   ],
   "source": [
    "import s3fs\n",
    "fs = s3fs.S3FileSystem()\n",
    "fs.get(f\"{DEV_BUCKET}/{FOLDER_NAME}/{MODEL_NAME}\", \"tmp2\", recursive=True)"
   ]
  },
  {
   "cell_type": "code",
   "execution_count": null,
   "metadata": {},
   "outputs": [],
   "source": []
  }
 ],
 "metadata": {
  "kernelspec": {
   "display_name": "py38",
   "language": "python",
   "name": "python3"
  },
  "language_info": {
   "codemirror_mode": {
    "name": "ipython",
    "version": 3
   },
   "file_extension": ".py",
   "mimetype": "text/x-python",
   "name": "python",
   "nbconvert_exporter": "python",
   "pygments_lexer": "ipython3",
   "version": "3.8.13"
  },
  "orig_nbformat": 4,
  "vscode": {
   "interpreter": {
    "hash": "3ea19d11efa7602c1f12500925a974ed4f31fcf847bd6f694bd5180da2602ded"
   }
  }
 },
 "nbformat": 4,
 "nbformat_minor": 2
}
