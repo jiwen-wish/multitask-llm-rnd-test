{
 "cells": [
  {
   "cell_type": "code",
   "execution_count": 5,
   "metadata": {},
   "outputs": [],
   "source": [
    "from constants import DEV_BUCKET, STAGE_BUCKET, PROD_BUCKET, FOLDER_NAME\n",
    "import tempfile\n",
    "from dvc.api import DVCFileSystem\n",
    "import s3fs\n",
    "import yaml\n",
    "import datetime"
   ]
  },
  {
   "cell_type": "code",
   "execution_count": 6,
   "metadata": {},
   "outputs": [],
   "source": [
    "repo = 'git@github.com:ContextLogic/multitask-llm-rnd.git'\n",
    "path = '/modelling/notebooks/convert_pl_to_hf_ckpt/query_classify_v3_mini/hf_ckpt'"
   ]
  },
  {
   "cell_type": "code",
   "execution_count": 7,
   "metadata": {},
   "outputs": [],
   "source": [
    "MODEL_NAME = \"query-classify/v3\""
   ]
  },
  {
   "cell_type": "code",
   "execution_count": 8,
   "metadata": {},
   "outputs": [],
   "source": [
    "s3_file = s3fs.S3FileSystem()"
   ]
  },
  {
   "cell_type": "code",
   "execution_count": 10,
   "metadata": {},
   "outputs": [
    {
     "data": {
      "text/plain": [
       "[]"
      ]
     },
     "execution_count": 10,
     "metadata": {},
     "output_type": "execute_result"
    }
   ],
   "source": [
    "s3_file.ls(f\"{DEV_BUCKET}/xyz/{MODEL_NAME}\")"
   ]
  },
  {
   "cell_type": "code",
   "execution_count": 4,
   "metadata": {},
   "outputs": [
    {
     "name": "stdout",
     "output_type": "stream",
     "text": [
      "/tmp/tmpbk0yai24\n",
      "save to structured-data-dev/coeus-gpu-multitask-ml/query-classify/v3\n",
      "save to structured-data-stage/coeus-gpu-multitask-ml/query-classify/v3\n",
      "save to structured-data-prod/coeus-gpu-multitask-ml/query-classify/v3\n"
     ]
    }
   ],
   "source": [
    "with tempfile.TemporaryDirectory() as tmpdirname:\n",
    "    print(tmpdirname)\n",
    "    fs = DVCFileSystem(repo, subrepos=True)\n",
    "    fs.get(path, tmpdirname, recursive=True)\n",
    "    s3_file = s3fs.S3FileSystem()\n",
    "    local_path = tmpdirname\n",
    "    \n",
    "    def rm_and_save(s3_path):\n",
    "        if len(s3_file.ls(s3_path)) > 0:\n",
    "            try:\n",
    "                print(f'rm -rf {s3_path}')\n",
    "                s3_file.rm(s3_path, recursive=True)\n",
    "            except Exception as e:\n",
    "                print(f'rm failed due to {e}')\n",
    "        print(f'save to {s3_path}')\n",
    "        s3_file.put(local_path, s3_path, recursive=True) \n",
    "\n",
    "    rm_and_save(f\"{DEV_BUCKET}/{FOLDER_NAME}/{MODEL_NAME}\")\n",
    "    rm_and_save(f\"{STAGE_BUCKET}/{FOLDER_NAME}/{MODEL_NAME}\")\n",
    "    rm_and_save(f\"{PROD_BUCKET}/{FOLDER_NAME}/{MODEL_NAME}\")\n",
    "    "
   ]
  },
  {
   "cell_type": "code",
   "execution_count": 4,
   "metadata": {},
   "outputs": [],
   "source": [
    "yaml_dict = yaml.safe_load(open('models.yaml', 'r'))"
   ]
  },
  {
   "cell_type": "code",
   "execution_count": 5,
   "metadata": {},
   "outputs": [],
   "source": [
    "if yaml_dict is None:\n",
    "    yaml_dict = {}"
   ]
  },
  {
   "cell_type": "code",
   "execution_count": 6,
   "metadata": {},
   "outputs": [],
   "source": [
    "assert MODEL_NAME.count('/') == 1"
   ]
  },
  {
   "cell_type": "code",
   "execution_count": 7,
   "metadata": {},
   "outputs": [],
   "source": [
    "model_class, model_version = MODEL_NAME.split('/')"
   ]
  },
  {
   "cell_type": "code",
   "execution_count": 9,
   "metadata": {},
   "outputs": [],
   "source": [
    "if model_class not in yaml_dict:\n",
    "    yaml_dict[model_class] ={}\n",
    "assert model_version not in yaml_dict[model_class]\n",
    "yaml_dict[model_class][model_version] = {\n",
    "    \"dvc\": {\n",
    "        \"repo\": \"git@github.com:ContextLogic/multitask-llm-rnd.git\", \n",
    "        \"path\": \"/modelling/notebooks/convert_pl_to_hf_ckpt/query_classify_v3_mini/hf_ckpt\", \n",
    "        \"rev\": \"1c1262ab17874ff326866c0843d135e083da3af2\"\n",
    "    },\n",
    "    \"s3\": {\n",
    "        \"dev\": f\"{DEV_BUCKET}/{FOLDER_NAME}/{MODEL_NAME}\",\n",
    "        \"stage\": f\"{STAGE_BUCKET}/{FOLDER_NAME}/{MODEL_NAME}\",\n",
    "        \"prod\": f\"{PROD_BUCKET}/{FOLDER_NAME}/{MODEL_NAME}\"\n",
    "    },\n",
    "    \"metadata\": {\n",
    "        \"library_type\": \"huggingface-pipeline\",\n",
    "        \"model_type\": \"text-classification-multilabel\",\n",
    "        \"yaml_update_time\": str(datetime.datetime.now()),\n",
    "        \"taxonomy_version\": \"v1.2.1\",\n",
    "        \"max_batch_size\": 100,\n",
    "        \"num_top_preds\": 3\n",
    "    }\n",
    "}"
   ]
  },
  {
   "cell_type": "code",
   "execution_count": 10,
   "metadata": {},
   "outputs": [],
   "source": [
    "with open('models.yaml', 'w') as f:\n",
    "    f.write(yaml.dump(yaml_dict))"
   ]
  },
  {
   "cell_type": "code",
   "execution_count": 4,
   "metadata": {},
   "outputs": [
    {
     "data": {
      "text/plain": [
       "'structured-data-dev/coeus-gpu-multitask-ml/query-classify/v3'"
      ]
     },
     "execution_count": 4,
     "metadata": {},
     "output_type": "execute_result"
    }
   ],
   "source": [
    "f\"{DEV_BUCKET}/{FOLDER_NAME}/{MODEL_NAME}\""
   ]
  },
  {
   "cell_type": "code",
   "execution_count": 7,
   "metadata": {},
   "outputs": [
    {
     "name": "stdout",
     "output_type": "stream",
     "text": [
      "Help on function _get in module fsspec.asyn:\n",
      "\n",
      "_get(rpath, lpath, recursive=False, callback=<fsspec.callbacks.NoOpCallback object at 0x7f8d0bb65fa0>, **kwargs)\n",
      "    Copy file(s) to local.\n",
      "    \n",
      "    Copies a specific file or tree of files (if recursive=True). If lpath\n",
      "    ends with a \"/\", it will be assumed to be a directory, and target files\n",
      "    will go within. Can submit a list of paths, which may be glob-patterns\n",
      "    and will be expanded.\n",
      "    \n",
      "    The get_file method will be called concurrently on a batch of files. The\n",
      "    batch_size option can configure the amount of futures that can be executed\n",
      "    at the same time. If it is -1, then all the files will be uploaded concurrently.\n",
      "    The default can be set for this instance by passing \"batch_size\" in the\n",
      "    constructor, or for all instances by setting the \"gather_batch_size\" key\n",
      "    in ``fsspec.config.conf``, falling back to 1/8th of the system limit .\n",
      "\n"
     ]
    }
   ],
   "source": [
    "help(fs.get)"
   ]
  },
  {
   "cell_type": "code",
   "execution_count": 5,
   "metadata": {},
   "outputs": [],
   "source": [
    "import s3fs\n",
    "fs = s3fs.S3FileSystem()"
   ]
  },
  {
   "cell_type": "code",
   "execution_count": 8,
   "metadata": {},
   "outputs": [
    {
     "data": {
      "text/plain": [
       "[None, None, None, None, None, None, None, None, None]"
      ]
     },
     "execution_count": 8,
     "metadata": {},
     "output_type": "execute_result"
    }
   ],
   "source": [
    "fs.get(f\"{DEV_BUCKET}/{FOLDER_NAME}/{MODEL_NAME}\", \"tmp\", recursive=True)"
   ]
  },
  {
   "cell_type": "code",
   "execution_count": null,
   "metadata": {},
   "outputs": [],
   "source": []
  }
 ],
 "metadata": {
  "kernelspec": {
   "display_name": "py38",
   "language": "python",
   "name": "python3"
  },
  "language_info": {
   "codemirror_mode": {
    "name": "ipython",
    "version": 3
   },
   "file_extension": ".py",
   "mimetype": "text/x-python",
   "name": "python",
   "nbconvert_exporter": "python",
   "pygments_lexer": "ipython3",
   "version": "3.8.13"
  },
  "orig_nbformat": 4,
  "vscode": {
   "interpreter": {
    "hash": "3ea19d11efa7602c1f12500925a974ed4f31fcf847bd6f694bd5180da2602ded"
   }
  }
 },
 "nbformat": 4,
 "nbformat_minor": 2
}
