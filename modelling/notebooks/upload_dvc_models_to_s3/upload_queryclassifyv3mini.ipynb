{
 "cells": [
  {
   "cell_type": "code",
   "execution_count": 19,
   "metadata": {},
   "outputs": [],
   "source": [
    "from constants import DEV_BUCKET, STAGE_BUCKET, PROD_BUCKET, FOLDER_NAME\n",
    "import tempfile\n",
    "from dvc.api import DVCFileSystem\n",
    "import s3fs\n",
    "import yaml\n",
    "import datetime"
   ]
  },
  {
   "cell_type": "code",
   "execution_count": 3,
   "metadata": {},
   "outputs": [],
   "source": [
    "repo = 'git@github.com:ContextLogic/multitask-llm-rnd.git'\n",
    "path = '/modelling/notebooks/convert_pl_to_hf_ckpt/query_classify_v3_mini/hf_ckpt'"
   ]
  },
  {
   "cell_type": "code",
   "execution_count": 6,
   "metadata": {},
   "outputs": [],
   "source": [
    "MODEL_NAME = \"query-classify/v3\""
   ]
  },
  {
   "cell_type": "code",
   "execution_count": 8,
   "metadata": {},
   "outputs": [],
   "source": [
    "with tempfile.TemporaryDirectory() as tmpdirname:\n",
    "    fs = DVCFileSystem(repo, subrepos=True)\n",
    "    fs.get(path, tmpdirname, recursive=True)\n",
    "    s3_file = s3fs.S3FileSystem()\n",
    "    local_path = tmpdirname\n",
    "    s3_path = f\"{DEV_BUCKET}/{FOLDER_NAME}/{MODEL_NAME}\"\n",
    "    s3_file.put(local_path, s3_path, recursive=True) \n",
    "    s3_path = f\"{STAGE_BUCKET}/{FOLDER_NAME}/{MODEL_NAME}\"\n",
    "    s3_file.put(local_path, s3_path, recursive=True) \n",
    "    s3_path = f\"{PROD_BUCKET}/{FOLDER_NAME}/{MODEL_NAME}\"\n",
    "    s3_file.put(local_path, s3_path, recursive=True) "
   ]
  },
  {
   "cell_type": "code",
   "execution_count": 11,
   "metadata": {},
   "outputs": [],
   "source": [
    "yaml_dict = yaml.safe_load(open('models.yaml', 'r'))"
   ]
  },
  {
   "cell_type": "code",
   "execution_count": 14,
   "metadata": {},
   "outputs": [],
   "source": [
    "if yaml_dict is None:\n",
    "    yaml_dict = {}"
   ]
  },
  {
   "cell_type": "code",
   "execution_count": 15,
   "metadata": {},
   "outputs": [],
   "source": [
    "assert MODEL_NAME.count('/') == 1"
   ]
  },
  {
   "cell_type": "code",
   "execution_count": 16,
   "metadata": {},
   "outputs": [],
   "source": [
    "model_class, model_version = MODEL_NAME.split('/')"
   ]
  },
  {
   "cell_type": "code",
   "execution_count": 25,
   "metadata": {},
   "outputs": [],
   "source": [
    "if model_class not in yaml_dict:\n",
    "    yaml_dict[model_class] ={}\n",
    "assert model_version not in yaml_dict[model_class]\n",
    "yaml_dict[model_class][model_version] = {\n",
    "    \"dvc\": {\n",
    "        \"repo\": \"git@github.com:ContextLogic/multitask-llm-rnd.git\", \n",
    "        \"path\": \"/modelling/notebooks/convert_pl_to_hf_ckpt/query_classify_v3_mini/hf_ckpt\", \n",
    "        \"rev\": \"1c1262ab17874ff326866c0843d135e083da3af2\"\n",
    "    },\n",
    "    \"s3\": {\n",
    "        \"dev\": f\"{DEV_BUCKET}/{FOLDER_NAME}/{MODEL_NAME}\",\n",
    "        \"stage\": f\"{STAGE_BUCKET}/{FOLDER_NAME}/{MODEL_NAME}\",\n",
    "        \"prod\": f\"{PROD_BUCKET}/{FOLDER_NAME}/{MODEL_NAME}\"\n",
    "    },\n",
    "    \"metadata\": {\n",
    "        \"library_type\": \"huggingface-pipeline\",\n",
    "        \"model_type\": \"text-classification-multilabel\",\n",
    "        \"yaml_update_time\": str(datetime.datetime.now()),\n",
    "        \"taxonomy_version\": \"v1.2.1\"\n",
    "    }\n",
    "}"
   ]
  },
  {
   "cell_type": "code",
   "execution_count": 27,
   "metadata": {},
   "outputs": [],
   "source": [
    "with open('models.yaml', 'w') as f:\n",
    "    f.write(yaml.dump(yaml_dict))"
   ]
  },
  {
   "cell_type": "code",
   "execution_count": null,
   "metadata": {},
   "outputs": [],
   "source": []
  }
 ],
 "metadata": {
  "kernelspec": {
   "display_name": "py38",
   "language": "python",
   "name": "python3"
  },
  "language_info": {
   "codemirror_mode": {
    "name": "ipython",
    "version": 3
   },
   "file_extension": ".py",
   "mimetype": "text/x-python",
   "name": "python",
   "nbconvert_exporter": "python",
   "pygments_lexer": "ipython3",
   "version": "3.8.13"
  },
  "orig_nbformat": 4,
  "vscode": {
   "interpreter": {
    "hash": "3ea19d11efa7602c1f12500925a974ed4f31fcf847bd6f694bd5180da2602ded"
   }
  }
 },
 "nbformat": 4,
 "nbformat_minor": 2
}
