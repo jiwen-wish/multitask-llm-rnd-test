{
 "cells": [
  {
   "cell_type": "code",
   "execution_count": null,
   "metadata": {},
   "outputs": [],
   "source": [
    "## command to run to infer ProductClassifyTestSetV2\n",
    "\n",
    "# CUDA_VISIBLE_DEVICES=1,2,5,6 python main_inference_multimodal.py \\\n",
    "#         --model=LLM_Inference_Multimodal \\\n",
    "#         --model.llm_type=\"clm\" \\\n",
    "#         --model.ckpt_path=\"models/product_title_multitask_multimodal/version_1/epoch=0-step=75000.ckpt\" \\\n",
    "#         --model.config_path=\"models/product_title_multitask_multimodal/version_1/config.yaml\" \\\n",
    "#         --model.task=\"clm_singlemodal_wishtitle2pseudov121tax\" \\\n",
    "#         --model.allowed_gen_sequences=\"datasets/taxonomy/wish_v1.2.1_newtax_leafpaths.txt\" \\\n",
    "#         --model.output_dir=\"models/product_title_multitask_multimodal/version_1\" \\\n",
    "#         --model.write_interval=\"batch\" \\\n",
    "#         --data=JSONListData \\\n",
    "#         --data.llm_type=\"clm\" \\\n",
    "#         --data.data_source_yaml_path=\"datasets/multimodal_multitask/wish_product_classify_testsetv2.yaml\" \\\n",
    "#         --data.input_dict=\"{'template': '{title}', 'task_prefix': 'Generate taxonomy for product: '}\" \\\n",
    "#         --data.output_dict=\"{'template': '{category_path}'}\" \\\n",
    "#         --data.transform_dict=\"{'category_path': 'taxonomy'}\" \\\n",
    "#         --data.data_source_type=\"dvc\" \\\n",
    "#         --data.model_name=\"t5-base\" \\\n",
    "#         --data.overwrite_cache=true \\ \n",
    "#         --data.batch_size=50 \\\n",
    "#         --data.max_length=50 \\\n",
    "#         --data.num_workers=0 \\\n",
    "#         --trainer.logger=false \\\n",
    "#         --trainer.enable_checkpointing=false \\\n",
    "#         --trainer.accelerator gpu \\\n",
    "#         --trainer.strategy ddp"
   ]
  },
  {
   "cell_type": "code",
   "execution_count": 1,
   "metadata": {},
   "outputs": [],
   "source": [
    "import pandas as pd \n",
    "import dvc.api"
   ]
  },
  {
   "cell_type": "code",
   "execution_count": 6,
   "metadata": {},
   "outputs": [],
   "source": [
    "df_data = pd.read_json(dvc.api.get_url(\n",
    "    'data/appen_delivery/diamond_testing/diamond_testing_validated.json',\n",
    "    repo='git@github.com:ContextLogic/listing_classification_data.git'\n",
    "), lines=True)"
   ]
  },
  {
   "cell_type": "code",
   "execution_count": 7,
   "metadata": {},
   "outputs": [],
   "source": [
    "df_pred = pd.read_json('../../models/product_title_multitask_multimodal/version_1/clm-epoch=0-step=75000--wish_product_classify_testsetv2--test.json', \n",
    "    lines=True)"
   ]
  },
  {
   "cell_type": "code",
   "execution_count": 8,
   "metadata": {},
   "outputs": [],
   "source": [
    "df_pred = df_pred[df_pred.rank_indices == 0].sort_values('batch_indices')"
   ]
  },
  {
   "cell_type": "code",
   "execution_count": 9,
   "metadata": {},
   "outputs": [],
   "source": [
    "assert len(df_data) == len(df_pred)"
   ]
  },
  {
   "cell_type": "code",
   "execution_count": 10,
   "metadata": {},
   "outputs": [],
   "source": [
    "from eval_from_file import perf_eval_util"
   ]
  },
  {
   "cell_type": "code",
   "execution_count": 11,
   "metadata": {},
   "outputs": [],
   "source": [
    "df_data['category'] = df_data['category_path'].apply(lambda x: x.lower().strip().split(' > '))"
   ]
  },
  {
   "cell_type": "code",
   "execution_count": 14,
   "metadata": {},
   "outputs": [],
   "source": [
    "version = 'mm_clm_v0.1'\n",
    "df_data[f'{version}_predicted_category'] = df_pred['prediction_decoded'].tolist()\n",
    "df_data[f'{version}_predicted_category'] = df_data[f'{version}_predicted_category'].apply(lambda x: x.split(' > '))\n",
    "perm = pd.concat([perf_eval_util(df_data, level=i, col=f'{version}_predicted_category') for i in [1, 2, 3, 0, -1, -2]])"
   ]
  },
  {
   "cell_type": "code",
   "execution_count": 15,
   "metadata": {},
   "outputs": [
    {
     "data": {
      "text/html": [
       "<div>\n",
       "<style scoped>\n",
       "    .dataframe tbody tr th:only-of-type {\n",
       "        vertical-align: middle;\n",
       "    }\n",
       "\n",
       "    .dataframe tbody tr th {\n",
       "        vertical-align: top;\n",
       "    }\n",
       "\n",
       "    .dataframe thead th {\n",
       "        text-align: right;\n",
       "    }\n",
       "</style>\n",
       "<table border=\"1\" class=\"dataframe\">\n",
       "  <thead>\n",
       "    <tr style=\"text-align: right;\">\n",
       "      <th></th>\n",
       "      <th>id</th>\n",
       "      <th>precision</th>\n",
       "      <th>recall</th>\n",
       "      <th>f1-score</th>\n",
       "      <th>support</th>\n",
       "      <th>level</th>\n",
       "    </tr>\n",
       "  </thead>\n",
       "  <tbody>\n",
       "    <tr>\n",
       "      <th>31</th>\n",
       "      <td>weighted avg</td>\n",
       "      <td>0.867874</td>\n",
       "      <td>0.858027</td>\n",
       "      <td>0.859153</td>\n",
       "      <td>5008.0</td>\n",
       "      <td>1</td>\n",
       "    </tr>\n",
       "    <tr>\n",
       "      <th>286</th>\n",
       "      <td>weighted avg</td>\n",
       "      <td>0.769190</td>\n",
       "      <td>0.711661</td>\n",
       "      <td>0.720204</td>\n",
       "      <td>5008.0</td>\n",
       "      <td>2</td>\n",
       "    </tr>\n",
       "    <tr>\n",
       "      <th>1284</th>\n",
       "      <td>weighted avg</td>\n",
       "      <td>0.660513</td>\n",
       "      <td>0.591653</td>\n",
       "      <td>0.596645</td>\n",
       "      <td>5008.0</td>\n",
       "      <td>3</td>\n",
       "    </tr>\n",
       "    <tr>\n",
       "      <th>1979</th>\n",
       "      <td>weighted avg</td>\n",
       "      <td>0.618630</td>\n",
       "      <td>0.539337</td>\n",
       "      <td>0.544803</td>\n",
       "      <td>5008.0</td>\n",
       "      <td>0</td>\n",
       "    </tr>\n",
       "    <tr>\n",
       "      <th>580</th>\n",
       "      <td>weighted avg</td>\n",
       "      <td>0.736160</td>\n",
       "      <td>0.668331</td>\n",
       "      <td>0.677468</td>\n",
       "      <td>5008.0</td>\n",
       "      <td>-1</td>\n",
       "    </tr>\n",
       "    <tr>\n",
       "      <th>122</th>\n",
       "      <td>weighted avg</td>\n",
       "      <td>0.822692</td>\n",
       "      <td>0.802716</td>\n",
       "      <td>0.806331</td>\n",
       "      <td>5008.0</td>\n",
       "      <td>-2</td>\n",
       "    </tr>\n",
       "  </tbody>\n",
       "</table>\n",
       "</div>"
      ],
      "text/plain": [
       "                id  precision    recall  f1-score  support  level\n",
       "31    weighted avg   0.867874  0.858027  0.859153   5008.0      1\n",
       "286   weighted avg   0.769190  0.711661  0.720204   5008.0      2\n",
       "1284  weighted avg   0.660513  0.591653  0.596645   5008.0      3\n",
       "1979  weighted avg   0.618630  0.539337  0.544803   5008.0      0\n",
       "580   weighted avg   0.736160  0.668331  0.677468   5008.0     -1\n",
       "122   weighted avg   0.822692  0.802716  0.806331   5008.0     -2"
      ]
     },
     "execution_count": 15,
     "metadata": {},
     "output_type": "execute_result"
    }
   ],
   "source": [
    "perm[perm['id'] == 'weighted avg']"
   ]
  },
  {
   "cell_type": "code",
   "execution_count": null,
   "metadata": {},
   "outputs": [],
   "source": []
  }
 ],
 "metadata": {
  "kernelspec": {
   "display_name": "py38",
   "language": "python",
   "name": "python3"
  },
  "language_info": {
   "codemirror_mode": {
    "name": "ipython",
    "version": 3
   },
   "file_extension": ".py",
   "mimetype": "text/x-python",
   "name": "python",
   "nbconvert_exporter": "python",
   "pygments_lexer": "ipython3",
   "version": "3.8.13"
  },
  "orig_nbformat": 4,
  "vscode": {
   "interpreter": {
    "hash": "3ea19d11efa7602c1f12500925a974ed4f31fcf847bd6f694bd5180da2602ded"
   }
  }
 },
 "nbformat": 4,
 "nbformat_minor": 2
}
