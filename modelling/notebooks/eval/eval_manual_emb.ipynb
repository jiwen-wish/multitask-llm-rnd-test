{
 "cells": [
  {
   "cell_type": "code",
   "execution_count": 1,
   "metadata": {},
   "outputs": [],
   "source": [
    "import pandas as pd\n",
    "import zarr"
   ]
  },
  {
   "cell_type": "code",
   "execution_count": 2,
   "metadata": {},
   "outputs": [],
   "source": [
    "z_i = zarr.open('/workspaces/tmp_query_understanding_model/models/product_title_query_embedding/version_1/emb-epoch=12-step=120756--amazon-esci-title-query-uslocale--inputemb.zarr', 'r')\n",
    "z_o = zarr.open('/workspaces/tmp_query_understanding_model/models/product_title_query_embedding/version_1/emb-epoch=12-step=120756--amazon-esci-title-query-uslocale--outputemb.zarr', 'r')"
   ]
  },
  {
   "cell_type": "code",
   "execution_count": 17,
   "metadata": {},
   "outputs": [
    {
     "data": {
      "text/plain": [
       "['dl-idx_b-idx_s-idx_pred_rank-0']"
      ]
     },
     "execution_count": 17,
     "metadata": {},
     "output_type": "execute_result"
    }
   ],
   "source": [
    "list(z_i.array_keys())"
   ]
  },
  {
   "cell_type": "code",
   "execution_count": 36,
   "metadata": {},
   "outputs": [],
   "source": [
    "import torch\n",
    "import numpy as np\n",
    "from tqdm import tqdm"
   ]
  },
  {
   "cell_type": "code",
   "execution_count": 35,
   "metadata": {},
   "outputs": [
    {
     "name": "stderr",
     "output_type": "stream",
     "text": [
      "100%|██████████| 426/426 [00:52<00:00,  8.04it/s]\n"
     ]
    }
   ],
   "source": [
    "inds = [] \n",
    "sims = []\n",
    "dszie = z_i['dl-idx_b-idx_s-idx_pred_rank-0'].shape[0]\n",
    "for s in tqdm(range(0, dszie, 1000)):\n",
    "    inds_i = z_i['dl-idx_b-idx_s-idx_pred_rank-0'][s:s+1000][:, 2]\n",
    "    inds_o = z_o['dl-idx_b-idx_s-idx_pred_rank-0'][s:s+1000][:, 2]\n",
    "    assert (inds_i == inds_o).all()\n",
    "    emb_i = z_i['dl-idx_b-idx_s-idx_pred_rank-0'][s:s+1000][:, 3:]\n",
    "    emb_o = z_o['dl-idx_b-idx_s-idx_pred_rank-0'][s:s+1000][:, 3:]\n",
    "    inds.append(inds_i)\n",
    "    sims_ = torch.nn.CosineSimilarity()(torch.tensor(emb_i).cuda(), torch.tensor(emb_o).cuda()).detach().cpu().numpy()\n",
    "    sims.append(sims_)"
   ]
  },
  {
   "cell_type": "code",
   "execution_count": 38,
   "metadata": {},
   "outputs": [],
   "source": [
    "inds = np.concatenate(inds).astype(int)"
   ]
  },
  {
   "cell_type": "code",
   "execution_count": 40,
   "metadata": {},
   "outputs": [],
   "source": [
    "sims = np.concatenate(sims)"
   ]
  },
  {
   "cell_type": "code",
   "execution_count": 41,
   "metadata": {},
   "outputs": [
    {
     "data": {
      "text/plain": [
       "((425762,), (425762,))"
      ]
     },
     "execution_count": 41,
     "metadata": {},
     "output_type": "execute_result"
    }
   ],
   "source": [
    "inds.shape, sims.shape"
   ]
  },
  {
   "cell_type": "code",
   "execution_count": 46,
   "metadata": {},
   "outputs": [],
   "source": [
    "import sys \n",
    "sys.path.append('../..')"
   ]
  },
  {
   "cell_type": "code",
   "execution_count": 49,
   "metadata": {},
   "outputs": [
    {
     "name": "stderr",
     "output_type": "stream",
     "text": [
      "/opt/conda/envs/py38/lib/python3.8/site-packages/transformers/models/t5/tokenization_t5_fast.py:156: FutureWarning: This tokenizer was incorrectly instantiated with a model max length of 512 which will be corrected in Transformers v5.\n",
      "For now, this behavior is kept to avoid breaking backwards compatibility when padding/encoding with `truncation is True`.\n",
      "- Be aware that you SHOULD NOT rely on t5-base automatically truncating your input to 512 when padding/encoding.\n",
      "- If you want to encode/pad to sequences longer than 512 you can either instantiate this tokenizer with `model_max_length` or pass `max_length` when encoding/padding.\n",
      "- To avoid this warning, please instantiate this tokenizer with `model_max_length` set to your preferred value.\n",
      "  warnings.warn(\n"
     ]
    },
    {
     "data": {
      "text/plain": [
       "'/data/junwang/.cache/general/35464de061558e33a7d10a7653930ea7'"
      ]
     },
     "execution_count": 49,
     "metadata": {},
     "output_type": "execute_result"
    }
   ],
   "source": [
    "from main_utils import LLM_EmbedManualData\n",
    "data_module = LLM_EmbedManualData('/workspaces/tmp_query_understanding_model/datasets/product_title_query_embedding_manual/amazon-esci-title-query-uslocale.yaml')\n",
    "data_module.hparams.raw_cache_dir_folder"
   ]
  },
  {
   "cell_type": "code",
   "execution_count": 50,
   "metadata": {},
   "outputs": [
    {
     "name": "stdout",
     "output_type": "stream",
     "text": [
      "test.json.gz\t   train.json.gz       val.json.gz\n",
      "test.json.gz.lock  train.json.gz.lock  val.json.gz.lock\n"
     ]
    }
   ],
   "source": [
    "!ls /data/junwang/.cache/general/35464de061558e33a7d10a7653930ea7"
   ]
  },
  {
   "cell_type": "code",
   "execution_count": 52,
   "metadata": {},
   "outputs": [],
   "source": [
    "df = pd.read_json('/data/junwang/.cache/general/35464de061558e33a7d10a7653930ea7/test.json.gz', lines=True)"
   ]
  },
  {
   "cell_type": "code",
   "execution_count": 61,
   "metadata": {},
   "outputs": [],
   "source": [
    "df['index'] = df.index.tolist()"
   ]
  },
  {
   "cell_type": "code",
   "execution_count": 62,
   "metadata": {},
   "outputs": [],
   "source": [
    "assert (inds == df.index).all()"
   ]
  },
  {
   "cell_type": "code",
   "execution_count": 64,
   "metadata": {},
   "outputs": [],
   "source": [
    "df['sims'] = sims"
   ]
  },
  {
   "cell_type": "code",
   "execution_count": 67,
   "metadata": {},
   "outputs": [],
   "source": [
    "query_groups = df.groupby('text_output').agg({ \n",
    "    'labels': lambda x: [i for i in x], \n",
    "    'sims': lambda x: [i for i in x]\n",
    "})"
   ]
  },
  {
   "cell_type": "code",
   "execution_count": 68,
   "metadata": {},
   "outputs": [],
   "source": [
    "from sklearn.metrics import ndcg_score"
   ]
  },
  {
   "cell_type": "code",
   "execution_count": 74,
   "metadata": {},
   "outputs": [
    {
     "data": {
      "text/plain": [
       "0.8029482835498372"
      ]
     },
     "execution_count": 74,
     "metadata": {},
     "output_type": "execute_result"
    }
   ],
   "source": [
    "ndcg_score(np.asarray([i['labels']]), np.asarray([i['sims']]))"
   ]
  },
  {
   "cell_type": "code",
   "execution_count": 75,
   "metadata": {},
   "outputs": [
    {
     "name": "stderr",
     "output_type": "stream",
     "text": [
      "100%|██████████| 22458/22458 [00:10<00:00, 2199.62it/s]\n"
     ]
    }
   ],
   "source": [
    "ndcgs = []\n",
    "for i in tqdm(query_groups.to_dict('records')):\n",
    "    ndcgs.append(ndcg_score(np.asarray([i['labels']]), np.asarray([i['sims']])))"
   ]
  },
  {
   "cell_type": "code",
   "execution_count": 76,
   "metadata": {},
   "outputs": [
    {
     "data": {
      "text/plain": [
       "0.8766786853147283"
      ]
     },
     "execution_count": 76,
     "metadata": {},
     "output_type": "execute_result"
    }
   ],
   "source": [
    "np.mean(ndcgs)"
   ]
  },
  {
   "cell_type": "code",
   "execution_count": null,
   "metadata": {},
   "outputs": [],
   "source": []
  }
 ],
 "metadata": {
  "kernelspec": {
   "display_name": "Python 3.8.13 ('py38')",
   "language": "python",
   "name": "python3"
  },
  "language_info": {
   "codemirror_mode": {
    "name": "ipython",
    "version": 3
   },
   "file_extension": ".py",
   "mimetype": "text/x-python",
   "name": "python",
   "nbconvert_exporter": "python",
   "pygments_lexer": "ipython3",
   "version": "3.8.13"
  },
  "orig_nbformat": 4,
  "vscode": {
   "interpreter": {
    "hash": "3ea19d11efa7602c1f12500925a974ed4f31fcf847bd6f694bd5180da2602ded"
   }
  }
 },
 "nbformat": 4,
 "nbformat_minor": 2
}
