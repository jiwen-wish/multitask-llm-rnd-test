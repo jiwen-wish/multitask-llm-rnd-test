{
 "cells": [
  {
   "cell_type": "code",
   "execution_count": 2,
   "metadata": {},
   "outputs": [],
   "source": [
    "import pandas as pd"
   ]
  },
  {
   "cell_type": "code",
   "execution_count": 3,
   "metadata": {},
   "outputs": [],
   "source": [
    "import dvc.api"
   ]
  },
  {
   "cell_type": "code",
   "execution_count": null,
   "metadata": {},
   "outputs": [],
   "source": [
    "# python main_inference_multimodal.py \\\n",
    "#         --model=LLM_Inference_Multimodal \\\n",
    "#         --model.llm_type=\"seqclf\" \\\n",
    "#         --model.ckpt_path=\"models/product_title_multitask_multimodal/version_1/epoch=0-step=75000.ckpt\" \\\n",
    "#         --model.config_path=\"models/product_title_multitask_multimodal/version_1/config.yaml\" \\\n",
    "#         --model.task=\"seqclf_singlemodal_wishtitle2pseudov121tax\" \\\n",
    "#         --model.output_dir=\"models/product_title_multitask_multimodal/version_1\" \\\n",
    "#         --model.write_interval=\"batch\" \\\n",
    "#         --data=JSONListData \\\n",
    "#         --data.llm_type=\"seqclf\" \\\n",
    "#         --data.label_map_file=\"datasets/taxonomy/wish_v1.2.1_newtax_allpaths.txt\" \\\n",
    "#         --data.label_type=\"taxonomy\" \\\n",
    "#         --data.data_source_yaml_path=\"datasets/multimodal_multitask/wish_offshore_validated.yaml\" \\\n",
    "#         --data.input_dict=\"{'template': '{title}', 'task_prefix': 'Classify product: '}\" \\\n",
    "#         --data.output_dict=\"{'template': '{category}'}\" \\\n",
    "#         --data.data_source_type=\"dvc\" \\\n",
    "#         --data.model_name=\"t5-base\" \\\n",
    "#         --data.batch_size=50 \\\n",
    "#         --data.max_length=50 \\\n",
    "#         --data.num_workers=0 \\\n",
    "#         --data.overwrite_cache=true \\\n",
    "#         --data.force_download_hfdata=true \\\n",
    "#         --trainer.logger=false \\\n",
    "#         --trainer.enable_checkpointing=false \\\n",
    "#         --trainer.accelerator gpu \\\n",
    "#         --trainer.strategy ddp"
   ]
  },
  {
   "cell_type": "code",
   "execution_count": 70,
   "metadata": {},
   "outputs": [],
   "source": [
    "df_preds = pd.read_json('/workspaces/multitask-llm-rnd/modelling/models/product_title_multitask_multimodal/version_1/seqclf-epoch=0-step=75000--wish_offshore_validated--test.json', \n",
    "                        lines=True)"
   ]
  },
  {
   "cell_type": "code",
   "execution_count": 88,
   "metadata": {},
   "outputs": [
    {
     "data": {
      "text/html": [
       "<div>\n",
       "<style scoped>\n",
       "    .dataframe tbody tr th:only-of-type {\n",
       "        vertical-align: middle;\n",
       "    }\n",
       "\n",
       "    .dataframe tbody tr th {\n",
       "        vertical-align: top;\n",
       "    }\n",
       "\n",
       "    .dataframe thead th {\n",
       "        text-align: right;\n",
       "    }\n",
       "</style>\n",
       "<table border=\"1\" class=\"dataframe\">\n",
       "  <thead>\n",
       "    <tr style=\"text-align: right;\">\n",
       "      <th></th>\n",
       "      <th>preds</th>\n",
       "      <th>batch_idx</th>\n",
       "      <th>dataloader_idx</th>\n",
       "      <th>batch_indices</th>\n",
       "      <th>logits</th>\n",
       "      <th>top_pred</th>\n",
       "    </tr>\n",
       "  </thead>\n",
       "  <tbody>\n",
       "    <tr>\n",
       "      <th>62</th>\n",
       "      <td>[[consumer electronics, 0.17633756995201103], ...</td>\n",
       "      <td>0</td>\n",
       "      <td>0</td>\n",
       "      <td>0</td>\n",
       "      <td>[-10.456609725952148, -10.014580726623535, -13...</td>\n",
       "      <td>entertainment &gt; musical instruments &gt; stringed...</td>\n",
       "    </tr>\n",
       "    <tr>\n",
       "      <th>45</th>\n",
       "      <td>[[entertainment, 0.848908901214599], [entertai...</td>\n",
       "      <td>0</td>\n",
       "      <td>0</td>\n",
       "      <td>1</td>\n",
       "      <td>[-11.307157516479492, -10.211978912353516, -13...</td>\n",
       "      <td>entertainment &gt; musical instruments &gt; stringed...</td>\n",
       "    </tr>\n",
       "  </tbody>\n",
       "</table>\n",
       "</div>"
      ],
      "text/plain": [
       "                                                preds  batch_idx  \\\n",
       "62  [[consumer electronics, 0.17633756995201103], ...          0   \n",
       "45  [[entertainment, 0.848908901214599], [entertai...          0   \n",
       "\n",
       "    dataloader_idx  batch_indices  \\\n",
       "62               0              0   \n",
       "45               0              1   \n",
       "\n",
       "                                               logits  \\\n",
       "62  [-10.456609725952148, -10.014580726623535, -13...   \n",
       "45  [-11.307157516479492, -10.211978912353516, -13...   \n",
       "\n",
       "                                             top_pred  \n",
       "62  entertainment > musical instruments > stringed...  \n",
       "45  entertainment > musical instruments > stringed...  "
      ]
     },
     "execution_count": 88,
     "metadata": {},
     "output_type": "execute_result"
    }
   ],
   "source": [
    "df_preds.head(2)"
   ]
  },
  {
   "cell_type": "code",
   "execution_count": 89,
   "metadata": {},
   "outputs": [
    {
     "data": {
      "text/plain": [
       "1024"
      ]
     },
     "execution_count": 89,
     "metadata": {},
     "output_type": "execute_result"
    }
   ],
   "source": [
    "len(df_preds)"
   ]
  },
  {
   "cell_type": "code",
   "execution_count": 67,
   "metadata": {},
   "outputs": [],
   "source": [
    "df_test = pd.read_json(dvc.api.get_url( \n",
    "    'datasets/data/wish_products_internallabel/wish_products_offshore_labelled_validated_processed.json',\n",
    "    repo='git@github.com:ContextLogic/multitask-llm-rnd.git'\n",
    "), lines=True)"
   ]
  },
  {
   "cell_type": "code",
   "execution_count": 5,
   "metadata": {},
   "outputs": [],
   "source": [
    "# df_test = pd.read_json(dvc.api.get_url( \n",
    "#     'datasets/data/liang_product/liang_product_classification_offshorev2only_test.json',\n",
    "#     repo='git@github.com:ContextLogic/multitask-llm-rnd.git'\n",
    "# ), lines=True)"
   ]
  },
  {
   "cell_type": "code",
   "execution_count": 90,
   "metadata": {},
   "outputs": [
    {
     "data": {
      "text/html": [
       "<div>\n",
       "<style scoped>\n",
       "    .dataframe tbody tr th:only-of-type {\n",
       "        vertical-align: middle;\n",
       "    }\n",
       "\n",
       "    .dataframe tbody tr th {\n",
       "        vertical-align: top;\n",
       "    }\n",
       "\n",
       "    .dataframe thead th {\n",
       "        text-align: right;\n",
       "    }\n",
       "</style>\n",
       "<table border=\"1\" class=\"dataframe\">\n",
       "  <thead>\n",
       "    <tr style=\"text-align: right;\">\n",
       "      <th></th>\n",
       "      <th>pid</th>\n",
       "      <th>title</th>\n",
       "      <th>text</th>\n",
       "      <th>category</th>\n",
       "      <th>lance_predicted_category</th>\n",
       "      <th>category_path</th>\n",
       "      <th>category_pred</th>\n",
       "    </tr>\n",
       "  </thead>\n",
       "  <tbody>\n",
       "    <tr>\n",
       "      <th>0</th>\n",
       "      <td>53d7e25dbcfb7338b24fddd4</td>\n",
       "      <td>3w/5w Electric Guitar Amplifier</td>\n",
       "      <td>3w/5w Electric Guitar Amplifier -&gt; [entertainm...</td>\n",
       "      <td>[entertainment, musical instruments, stringed ...</td>\n",
       "      <td>[entertainment, musical instruments, stringed ...</td>\n",
       "      <td>entertainment &gt; musical instruments &gt; stringed...</td>\n",
       "      <td>[jewelry &amp; accessories, jewelry making, beads]</td>\n",
       "    </tr>\n",
       "    <tr>\n",
       "      <th>1</th>\n",
       "      <td>548a3d9f9f88e91005750ef1</td>\n",
       "      <td>New 3/5/7/9 Multiple Guitar Bass Stand Holder ...</td>\n",
       "      <td>New 3/5/7/9 Multiple Guitar Bass Stand Holder ...</td>\n",
       "      <td>[entertainment, musical instruments, stringed ...</td>\n",
       "      <td>[entertainment, musical instruments, stringed ...</td>\n",
       "      <td>entertainment &gt; musical instruments &gt; stringed...</td>\n",
       "      <td>[luggage &amp; bags, coin purses &amp; holders, key wa...</td>\n",
       "    </tr>\n",
       "  </tbody>\n",
       "</table>\n",
       "</div>"
      ],
      "text/plain": [
       "                        pid  \\\n",
       "0  53d7e25dbcfb7338b24fddd4   \n",
       "1  548a3d9f9f88e91005750ef1   \n",
       "\n",
       "                                               title  \\\n",
       "0                    3w/5w Electric Guitar Amplifier   \n",
       "1  New 3/5/7/9 Multiple Guitar Bass Stand Holder ...   \n",
       "\n",
       "                                                text  \\\n",
       "0  3w/5w Electric Guitar Amplifier -> [entertainm...   \n",
       "1  New 3/5/7/9 Multiple Guitar Bass Stand Holder ...   \n",
       "\n",
       "                                            category  \\\n",
       "0  [entertainment, musical instruments, stringed ...   \n",
       "1  [entertainment, musical instruments, stringed ...   \n",
       "\n",
       "                            lance_predicted_category  \\\n",
       "0  [entertainment, musical instruments, stringed ...   \n",
       "1  [entertainment, musical instruments, stringed ...   \n",
       "\n",
       "                                       category_path  \\\n",
       "0  entertainment > musical instruments > stringed...   \n",
       "1  entertainment > musical instruments > stringed...   \n",
       "\n",
       "                                       category_pred  \n",
       "0     [jewelry & accessories, jewelry making, beads]  \n",
       "1  [luggage & bags, coin purses & holders, key wa...  "
      ]
     },
     "execution_count": 90,
     "metadata": {},
     "output_type": "execute_result"
    }
   ],
   "source": [
    "df_test.head(2)"
   ]
  },
  {
   "cell_type": "code",
   "execution_count": 78,
   "metadata": {},
   "outputs": [],
   "source": [
    "df_test['category_path'] = df_test.category.apply(lambda x: ' > '.join(x))"
   ]
  },
  {
   "cell_type": "code",
   "execution_count": 68,
   "metadata": {},
   "outputs": [
    {
     "data": {
      "text/plain": [
       "1024"
      ]
     },
     "execution_count": 68,
     "metadata": {},
     "output_type": "execute_result"
    }
   ],
   "source": [
    "len(df_test)"
   ]
  },
  {
   "cell_type": "code",
   "execution_count": 98,
   "metadata": {},
   "outputs": [],
   "source": [
    "df_preds = df_preds.sort_values('batch_indices').reset_index()"
   ]
  },
  {
   "cell_type": "code",
   "execution_count": 7,
   "metadata": {},
   "outputs": [],
   "source": [
    "df_tax = pd.read_json(dvc.api.get_url(\n",
    "    'datasets/data/taxonomy/wish_newtax.json',\n",
    "    repo='git@github.com:ContextLogic/multitask-llm-rnd.git'\n",
    "), lines=True)"
   ]
  },
  {
   "cell_type": "code",
   "execution_count": 8,
   "metadata": {},
   "outputs": [],
   "source": [
    "df_tax_leaf = df_tax[df_tax.is_leaf]"
   ]
  },
  {
   "cell_type": "code",
   "execution_count": 9,
   "metadata": {},
   "outputs": [],
   "source": [
    "valid_leaf_paths = set(df_tax_leaf['category_path'].str.lower())"
   ]
  },
  {
   "cell_type": "code",
   "execution_count": 74,
   "metadata": {},
   "outputs": [
    {
     "data": {
      "text/plain": [
       "False"
      ]
     },
     "execution_count": 74,
     "metadata": {},
     "output_type": "execute_result"
    }
   ],
   "source": [
    "df_preds['preds'].apply(lambda x: x[0][0] in valid_leaf_paths).all()"
   ]
  },
  {
   "cell_type": "code",
   "execution_count": 75,
   "metadata": {},
   "outputs": [],
   "source": [
    "def get_top_leaf_pred(x):\n",
    "    for i in x:\n",
    "        if i[0] in valid_leaf_paths:\n",
    "            return i[0]\n",
    "    return 'unknown'"
   ]
  },
  {
   "cell_type": "code",
   "execution_count": 99,
   "metadata": {},
   "outputs": [],
   "source": [
    "df_preds['top_pred'] = df_preds['preds'].apply(get_top_leaf_pred)"
   ]
  },
  {
   "cell_type": "code",
   "execution_count": 100,
   "metadata": {},
   "outputs": [
    {
     "data": {
      "text/plain": [
       "True"
      ]
     },
     "execution_count": 100,
     "metadata": {},
     "output_type": "execute_result"
    }
   ],
   "source": [
    "df_test.category_path.str.lower().apply(lambda x: x in valid_leaf_paths).all()"
   ]
  },
  {
   "cell_type": "code",
   "execution_count": 101,
   "metadata": {},
   "outputs": [
    {
     "data": {
      "text/plain": [
       "False"
      ]
     },
     "execution_count": 101,
     "metadata": {},
     "output_type": "execute_result"
    }
   ],
   "source": [
    "df_preds.top_pred.str.lower().apply(lambda x: x in valid_leaf_paths).all()"
   ]
  },
  {
   "cell_type": "code",
   "execution_count": 106,
   "metadata": {},
   "outputs": [
    {
     "data": {
      "text/html": [
       "<div>\n",
       "<style scoped>\n",
       "    .dataframe tbody tr th:only-of-type {\n",
       "        vertical-align: middle;\n",
       "    }\n",
       "\n",
       "    .dataframe tbody tr th {\n",
       "        vertical-align: top;\n",
       "    }\n",
       "\n",
       "    .dataframe thead th {\n",
       "        text-align: right;\n",
       "    }\n",
       "</style>\n",
       "<table border=\"1\" class=\"dataframe\">\n",
       "  <thead>\n",
       "    <tr style=\"text-align: right;\">\n",
       "      <th></th>\n",
       "      <th>index</th>\n",
       "      <th>preds</th>\n",
       "      <th>batch_idx</th>\n",
       "      <th>dataloader_idx</th>\n",
       "      <th>batch_indices</th>\n",
       "      <th>logits</th>\n",
       "      <th>top_pred</th>\n",
       "    </tr>\n",
       "  </thead>\n",
       "  <tbody>\n",
       "    <tr>\n",
       "      <th>103</th>\n",
       "      <td>131</td>\n",
       "      <td>[[home improvement, 0.9015701413154601], [home...</td>\n",
       "      <td>0</td>\n",
       "      <td>0</td>\n",
       "      <td>103</td>\n",
       "      <td>[-11.108057022094727, -10.607271194458008, -13...</td>\n",
       "      <td>unknown</td>\n",
       "    </tr>\n",
       "    <tr>\n",
       "      <th>137</th>\n",
       "      <td>150</td>\n",
       "      <td>[[home improvement, 0.6993829607963561], [home...</td>\n",
       "      <td>0</td>\n",
       "      <td>0</td>\n",
       "      <td>137</td>\n",
       "      <td>[-10.193086624145508, -9.886104583740234, -12....</td>\n",
       "      <td>unknown</td>\n",
       "    </tr>\n",
       "  </tbody>\n",
       "</table>\n",
       "</div>"
      ],
      "text/plain": [
       "     index                                              preds  batch_idx  \\\n",
       "103    131  [[home improvement, 0.9015701413154601], [home...          0   \n",
       "137    150  [[home improvement, 0.6993829607963561], [home...          0   \n",
       "\n",
       "     dataloader_idx  batch_indices  \\\n",
       "103               0            103   \n",
       "137               0            137   \n",
       "\n",
       "                                                logits top_pred  \n",
       "103  [-11.108057022094727, -10.607271194458008, -13...  unknown  \n",
       "137  [-10.193086624145508, -9.886104583740234, -12....  unknown  "
      ]
     },
     "execution_count": 106,
     "metadata": {},
     "output_type": "execute_result"
    }
   ],
   "source": [
    "df_preds[~df_preds.top_pred.str.lower().apply(lambda x: x in valid_leaf_paths)].head(2)"
   ]
  },
  {
   "cell_type": "code",
   "execution_count": 80,
   "metadata": {},
   "outputs": [],
   "source": [
    "from eval_from_file import perf_eval_util\n"
   ]
  },
  {
   "cell_type": "code",
   "execution_count": 107,
   "metadata": {},
   "outputs": [],
   "source": [
    "df_test['category'] = df_test['category_path'].str.lower().apply(lambda x: x.split(' > '))\n",
    "df_test['category_pred'] = df_preds['top_pred'].str.lower().apply(lambda x: x.split(' > '))"
   ]
  },
  {
   "cell_type": "code",
   "execution_count": 110,
   "metadata": {},
   "outputs": [
    {
     "data": {
      "text/html": [
       "<div>\n",
       "<style scoped>\n",
       "    .dataframe tbody tr th:only-of-type {\n",
       "        vertical-align: middle;\n",
       "    }\n",
       "\n",
       "    .dataframe tbody tr th {\n",
       "        vertical-align: top;\n",
       "    }\n",
       "\n",
       "    .dataframe thead th {\n",
       "        text-align: right;\n",
       "    }\n",
       "</style>\n",
       "<table border=\"1\" class=\"dataframe\">\n",
       "  <thead>\n",
       "    <tr style=\"text-align: right;\">\n",
       "      <th></th>\n",
       "      <th>id</th>\n",
       "      <th>precision</th>\n",
       "      <th>recall</th>\n",
       "      <th>f1-score</th>\n",
       "      <th>support</th>\n",
       "      <th>level</th>\n",
       "    </tr>\n",
       "  </thead>\n",
       "  <tbody>\n",
       "    <tr>\n",
       "      <th>0</th>\n",
       "      <td>apparel accessories</td>\n",
       "      <td>0.826087</td>\n",
       "      <td>0.558824</td>\n",
       "      <td>0.666667</td>\n",
       "      <td>34.000000</td>\n",
       "      <td>1</td>\n",
       "    </tr>\n",
       "    <tr>\n",
       "      <th>1</th>\n",
       "      <td>automobiles &amp; motorcycles</td>\n",
       "      <td>0.791667</td>\n",
       "      <td>0.558824</td>\n",
       "      <td>0.655172</td>\n",
       "      <td>34.000000</td>\n",
       "      <td>1</td>\n",
       "    </tr>\n",
       "    <tr>\n",
       "      <th>2</th>\n",
       "      <td>beauty &amp; health</td>\n",
       "      <td>0.851064</td>\n",
       "      <td>0.952381</td>\n",
       "      <td>0.898876</td>\n",
       "      <td>42.000000</td>\n",
       "      <td>1</td>\n",
       "    </tr>\n",
       "    <tr>\n",
       "      <th>3</th>\n",
       "      <td>cellphones &amp; telecommunications</td>\n",
       "      <td>0.730159</td>\n",
       "      <td>0.938776</td>\n",
       "      <td>0.821429</td>\n",
       "      <td>49.000000</td>\n",
       "      <td>1</td>\n",
       "    </tr>\n",
       "    <tr>\n",
       "      <th>4</th>\n",
       "      <td>computer &amp; office</td>\n",
       "      <td>0.916667</td>\n",
       "      <td>0.868421</td>\n",
       "      <td>0.891892</td>\n",
       "      <td>38.000000</td>\n",
       "      <td>1</td>\n",
       "    </tr>\n",
       "    <tr>\n",
       "      <th>5</th>\n",
       "      <td>consumer electronics</td>\n",
       "      <td>0.647059</td>\n",
       "      <td>0.717391</td>\n",
       "      <td>0.680412</td>\n",
       "      <td>46.000000</td>\n",
       "      <td>1</td>\n",
       "    </tr>\n",
       "    <tr>\n",
       "      <th>6</th>\n",
       "      <td>education &amp; office supplies</td>\n",
       "      <td>0.705882</td>\n",
       "      <td>0.648649</td>\n",
       "      <td>0.676056</td>\n",
       "      <td>37.000000</td>\n",
       "      <td>1</td>\n",
       "    </tr>\n",
       "    <tr>\n",
       "      <th>7</th>\n",
       "      <td>electronic components &amp; supplies</td>\n",
       "      <td>1.000000</td>\n",
       "      <td>0.470588</td>\n",
       "      <td>0.640000</td>\n",
       "      <td>17.000000</td>\n",
       "      <td>1</td>\n",
       "    </tr>\n",
       "    <tr>\n",
       "      <th>8</th>\n",
       "      <td>entertainment</td>\n",
       "      <td>0.953488</td>\n",
       "      <td>0.872340</td>\n",
       "      <td>0.911111</td>\n",
       "      <td>47.000000</td>\n",
       "      <td>1</td>\n",
       "    </tr>\n",
       "    <tr>\n",
       "      <th>9</th>\n",
       "      <td>food</td>\n",
       "      <td>0.000000</td>\n",
       "      <td>0.000000</td>\n",
       "      <td>0.000000</td>\n",
       "      <td>7.000000</td>\n",
       "      <td>1</td>\n",
       "    </tr>\n",
       "    <tr>\n",
       "      <th>10</th>\n",
       "      <td>furniture</td>\n",
       "      <td>1.000000</td>\n",
       "      <td>0.864865</td>\n",
       "      <td>0.927536</td>\n",
       "      <td>37.000000</td>\n",
       "      <td>1</td>\n",
       "    </tr>\n",
       "    <tr>\n",
       "      <th>11</th>\n",
       "      <td>hair extensions &amp; wigs</td>\n",
       "      <td>1.000000</td>\n",
       "      <td>0.868421</td>\n",
       "      <td>0.929577</td>\n",
       "      <td>38.000000</td>\n",
       "      <td>1</td>\n",
       "    </tr>\n",
       "    <tr>\n",
       "      <th>12</th>\n",
       "      <td>home &amp; garden</td>\n",
       "      <td>0.651515</td>\n",
       "      <td>0.934783</td>\n",
       "      <td>0.767857</td>\n",
       "      <td>46.000000</td>\n",
       "      <td>1</td>\n",
       "    </tr>\n",
       "    <tr>\n",
       "      <th>13</th>\n",
       "      <td>home improvement</td>\n",
       "      <td>0.700000</td>\n",
       "      <td>0.853659</td>\n",
       "      <td>0.769231</td>\n",
       "      <td>41.000000</td>\n",
       "      <td>1</td>\n",
       "    </tr>\n",
       "    <tr>\n",
       "      <th>14</th>\n",
       "      <td>jewelry &amp; accessories</td>\n",
       "      <td>0.954545</td>\n",
       "      <td>0.954545</td>\n",
       "      <td>0.954545</td>\n",
       "      <td>44.000000</td>\n",
       "      <td>1</td>\n",
       "    </tr>\n",
       "    <tr>\n",
       "      <th>15</th>\n",
       "      <td>luggage &amp; bags</td>\n",
       "      <td>0.975610</td>\n",
       "      <td>0.869565</td>\n",
       "      <td>0.919540</td>\n",
       "      <td>46.000000</td>\n",
       "      <td>1</td>\n",
       "    </tr>\n",
       "    <tr>\n",
       "      <th>16</th>\n",
       "      <td>men's clothing</td>\n",
       "      <td>0.755102</td>\n",
       "      <td>0.804348</td>\n",
       "      <td>0.778947</td>\n",
       "      <td>46.000000</td>\n",
       "      <td>1</td>\n",
       "    </tr>\n",
       "    <tr>\n",
       "      <th>17</th>\n",
       "      <td>mother &amp; kids</td>\n",
       "      <td>0.909091</td>\n",
       "      <td>0.930233</td>\n",
       "      <td>0.919540</td>\n",
       "      <td>43.000000</td>\n",
       "      <td>1</td>\n",
       "    </tr>\n",
       "    <tr>\n",
       "      <th>18</th>\n",
       "      <td>novelty &amp; special use</td>\n",
       "      <td>0.923077</td>\n",
       "      <td>0.600000</td>\n",
       "      <td>0.727273</td>\n",
       "      <td>40.000000</td>\n",
       "      <td>1</td>\n",
       "    </tr>\n",
       "    <tr>\n",
       "      <th>19</th>\n",
       "      <td>security &amp; protection</td>\n",
       "      <td>0.958333</td>\n",
       "      <td>0.547619</td>\n",
       "      <td>0.696970</td>\n",
       "      <td>42.000000</td>\n",
       "      <td>1</td>\n",
       "    </tr>\n",
       "    <tr>\n",
       "      <th>20</th>\n",
       "      <td>shoes</td>\n",
       "      <td>0.945946</td>\n",
       "      <td>0.853659</td>\n",
       "      <td>0.897436</td>\n",
       "      <td>41.000000</td>\n",
       "      <td>1</td>\n",
       "    </tr>\n",
       "    <tr>\n",
       "      <th>21</th>\n",
       "      <td>sports</td>\n",
       "      <td>0.629032</td>\n",
       "      <td>0.866667</td>\n",
       "      <td>0.728972</td>\n",
       "      <td>45.000000</td>\n",
       "      <td>1</td>\n",
       "    </tr>\n",
       "    <tr>\n",
       "      <th>22</th>\n",
       "      <td>tools</td>\n",
       "      <td>0.791667</td>\n",
       "      <td>0.950000</td>\n",
       "      <td>0.863636</td>\n",
       "      <td>40.000000</td>\n",
       "      <td>1</td>\n",
       "    </tr>\n",
       "    <tr>\n",
       "      <th>23</th>\n",
       "      <td>toys &amp; hobbies</td>\n",
       "      <td>0.782609</td>\n",
       "      <td>0.878049</td>\n",
       "      <td>0.827586</td>\n",
       "      <td>41.000000</td>\n",
       "      <td>1</td>\n",
       "    </tr>\n",
       "    <tr>\n",
       "      <th>24</th>\n",
       "      <td>unknown</td>\n",
       "      <td>0.000000</td>\n",
       "      <td>0.000000</td>\n",
       "      <td>0.000000</td>\n",
       "      <td>0.000000</td>\n",
       "      <td>1</td>\n",
       "    </tr>\n",
       "    <tr>\n",
       "      <th>25</th>\n",
       "      <td>virtual goods</td>\n",
       "      <td>0.000000</td>\n",
       "      <td>0.000000</td>\n",
       "      <td>0.000000</td>\n",
       "      <td>1.000000</td>\n",
       "      <td>1</td>\n",
       "    </tr>\n",
       "    <tr>\n",
       "      <th>26</th>\n",
       "      <td>watches</td>\n",
       "      <td>0.928571</td>\n",
       "      <td>0.886364</td>\n",
       "      <td>0.906977</td>\n",
       "      <td>44.000000</td>\n",
       "      <td>1</td>\n",
       "    </tr>\n",
       "    <tr>\n",
       "      <th>27</th>\n",
       "      <td>women's clothing</td>\n",
       "      <td>0.756757</td>\n",
       "      <td>0.736842</td>\n",
       "      <td>0.746667</td>\n",
       "      <td>38.000000</td>\n",
       "      <td>1</td>\n",
       "    </tr>\n",
       "    <tr>\n",
       "      <th>28</th>\n",
       "      <td>accuracy</td>\n",
       "      <td>0.807617</td>\n",
       "      <td>0.807617</td>\n",
       "      <td>0.807617</td>\n",
       "      <td>0.807617</td>\n",
       "      <td>1</td>\n",
       "    </tr>\n",
       "    <tr>\n",
       "      <th>29</th>\n",
       "      <td>macro avg</td>\n",
       "      <td>0.752997</td>\n",
       "      <td>0.713779</td>\n",
       "      <td>0.721568</td>\n",
       "      <td>1024.000000</td>\n",
       "      <td>1</td>\n",
       "    </tr>\n",
       "    <tr>\n",
       "      <th>30</th>\n",
       "      <td>weighted avg</td>\n",
       "      <td>0.831113</td>\n",
       "      <td>0.807617</td>\n",
       "      <td>0.808345</td>\n",
       "      <td>1024.000000</td>\n",
       "      <td>1</td>\n",
       "    </tr>\n",
       "  </tbody>\n",
       "</table>\n",
       "</div>"
      ],
      "text/plain": [
       "                                  id  precision    recall  f1-score  \\\n",
       "0                apparel accessories   0.826087  0.558824  0.666667   \n",
       "1          automobiles & motorcycles   0.791667  0.558824  0.655172   \n",
       "2                    beauty & health   0.851064  0.952381  0.898876   \n",
       "3    cellphones & telecommunications   0.730159  0.938776  0.821429   \n",
       "4                  computer & office   0.916667  0.868421  0.891892   \n",
       "5               consumer electronics   0.647059  0.717391  0.680412   \n",
       "6        education & office supplies   0.705882  0.648649  0.676056   \n",
       "7   electronic components & supplies   1.000000  0.470588  0.640000   \n",
       "8                      entertainment   0.953488  0.872340  0.911111   \n",
       "9                               food   0.000000  0.000000  0.000000   \n",
       "10                         furniture   1.000000  0.864865  0.927536   \n",
       "11            hair extensions & wigs   1.000000  0.868421  0.929577   \n",
       "12                     home & garden   0.651515  0.934783  0.767857   \n",
       "13                  home improvement   0.700000  0.853659  0.769231   \n",
       "14             jewelry & accessories   0.954545  0.954545  0.954545   \n",
       "15                    luggage & bags   0.975610  0.869565  0.919540   \n",
       "16                    men's clothing   0.755102  0.804348  0.778947   \n",
       "17                     mother & kids   0.909091  0.930233  0.919540   \n",
       "18             novelty & special use   0.923077  0.600000  0.727273   \n",
       "19             security & protection   0.958333  0.547619  0.696970   \n",
       "20                             shoes   0.945946  0.853659  0.897436   \n",
       "21                            sports   0.629032  0.866667  0.728972   \n",
       "22                             tools   0.791667  0.950000  0.863636   \n",
       "23                    toys & hobbies   0.782609  0.878049  0.827586   \n",
       "24                           unknown   0.000000  0.000000  0.000000   \n",
       "25                     virtual goods   0.000000  0.000000  0.000000   \n",
       "26                           watches   0.928571  0.886364  0.906977   \n",
       "27                  women's clothing   0.756757  0.736842  0.746667   \n",
       "28                          accuracy   0.807617  0.807617  0.807617   \n",
       "29                         macro avg   0.752997  0.713779  0.721568   \n",
       "30                      weighted avg   0.831113  0.807617  0.808345   \n",
       "\n",
       "        support  level  \n",
       "0     34.000000      1  \n",
       "1     34.000000      1  \n",
       "2     42.000000      1  \n",
       "3     49.000000      1  \n",
       "4     38.000000      1  \n",
       "5     46.000000      1  \n",
       "6     37.000000      1  \n",
       "7     17.000000      1  \n",
       "8     47.000000      1  \n",
       "9      7.000000      1  \n",
       "10    37.000000      1  \n",
       "11    38.000000      1  \n",
       "12    46.000000      1  \n",
       "13    41.000000      1  \n",
       "14    44.000000      1  \n",
       "15    46.000000      1  \n",
       "16    46.000000      1  \n",
       "17    43.000000      1  \n",
       "18    40.000000      1  \n",
       "19    42.000000      1  \n",
       "20    41.000000      1  \n",
       "21    45.000000      1  \n",
       "22    40.000000      1  \n",
       "23    41.000000      1  \n",
       "24     0.000000      1  \n",
       "25     1.000000      1  \n",
       "26    44.000000      1  \n",
       "27    38.000000      1  \n",
       "28     0.807617      1  \n",
       "29  1024.000000      1  \n",
       "30  1024.000000      1  "
      ]
     },
     "execution_count": 110,
     "metadata": {},
     "output_type": "execute_result"
    }
   ],
   "source": [
    "perf_eval_util(df_test, 1, 'category_pred')"
   ]
  },
  {
   "cell_type": "code",
   "execution_count": null,
   "metadata": {},
   "outputs": [],
   "source": []
  }
 ],
 "metadata": {
  "kernelspec": {
   "display_name": "py38",
   "language": "python",
   "name": "python3"
  },
  "language_info": {
   "codemirror_mode": {
    "name": "ipython",
    "version": 3
   },
   "file_extension": ".py",
   "mimetype": "text/x-python",
   "name": "python",
   "nbconvert_exporter": "python",
   "pygments_lexer": "ipython3",
   "version": "3.8.13"
  },
  "orig_nbformat": 4,
  "vscode": {
   "interpreter": {
    "hash": "3ea19d11efa7602c1f12500925a974ed4f31fcf847bd6f694bd5180da2602ded"
   }
  }
 },
 "nbformat": 4,
 "nbformat_minor": 2
}
