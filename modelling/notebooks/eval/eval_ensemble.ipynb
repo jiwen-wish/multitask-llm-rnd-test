{
 "cells": [
  {
   "cell_type": "code",
   "execution_count": 1,
   "metadata": {},
   "outputs": [],
   "source": [
    "import pandas as pd"
   ]
  },
  {
   "cell_type": "code",
   "execution_count": 2,
   "metadata": {},
   "outputs": [],
   "source": [
    "dfs = pd.read_excel('eval_offshore_validated.xlsx', sheet_name=None)"
   ]
  },
  {
   "cell_type": "code",
   "execution_count": 3,
   "metadata": {},
   "outputs": [
    {
     "data": {
      "text/plain": [
       "dict_keys(['lance_metrics', 'lance_preds', 'clm_v0.4_aliprompt_metrics', 'clm_v0.4_aliprompt_preds', 'clm_v0.4_wishprompt_metrics', 'clm_v0.4_wishprompt_preds', 'clm_v0.5_aliprompt_metrics', 'clm_v0.5_aliprompt_preds', 'clm_v0.5_wishprompt_metrics', 'clm_v0.5_wishprompt_preds', 'emb_v0.0_metrics', 'emb_v0.0_preds', 'emb_v0.4_metrics', 'emb_v0.4_preds', 'seqclf_v0.0_metrics', 'seqclf_v0.0_preds', 'seqclf_v0.1_metrics', 'seqclf_v0.1_preds', 'seqclf_v0.2_metrics', 'seqclf_v0.2_preds', 'seqclf_v0.5_metrics', 'seqclf_v0.5_preds', 'seqclf_v0.6_metrics', 'seqclf_v0.6_preds', 'seqclf_v0.7_metrics', 'seqclf_v0.7_preds', 'seqclf_v0.8_metrics', 'seqclf_v0.8_preds', 'seqclf_v0.9_metrics', 'seqclf_v0.9_preds', 'multitask_clm_v0.1_metrics', 'multitask_clm_v0.1_preds', 'multitask_seqclf_v0.1_metrics', 'multitask_seqclf_v0.1_preds', 'multitask_emb_v0.1_metrics', 'multitask_emb_v0.1_preds'])"
      ]
     },
     "execution_count": 3,
     "metadata": {},
     "output_type": "execute_result"
    }
   ],
   "source": [
    "dfs.keys()"
   ]
  },
  {
   "cell_type": "code",
   "execution_count": 4,
   "metadata": {},
   "outputs": [],
   "source": [
    "import scipy.stats as ss\n",
    "import numpy as np"
   ]
  },
  {
   "cell_type": "code",
   "execution_count": 5,
   "metadata": {},
   "outputs": [],
   "source": [
    "def cramer_v(x, y):\n",
    "    conf_matrix = pd.crosstab(x, y)\n",
    "    chi2 = ss.chi2_contingency(conf_matrix)[0]\n",
    "    n = sum(conf_matrix.sum())\n",
    "    phi2 = chi2/n\n",
    "    r,k = conf_matrix.shape\n",
    "    phi2corr = max(0, phi2 - ((k-1)*(r-1))/(n-1))    \n",
    "    rcorr = r - ((r-1)**2)/(n-1)\n",
    "    kcorr = k - ((k-1)**2)/(n-1)\n",
    "    return np.sqrt(phi2corr / min( (kcorr-1), (rcorr-1)))"
   ]
  },
  {
   "cell_type": "code",
   "execution_count": 6,
   "metadata": {},
   "outputs": [],
   "source": [
    "titles = dfs['multitask_clm_v0.1_preds']['title'].tolist()"
   ]
  },
  {
   "cell_type": "code",
   "execution_count": 7,
   "metadata": {},
   "outputs": [],
   "source": [
    "clms = dfs['multitask_clm_v0.1_preds']['multitask_clm_v0.1_predicted_category'].apply(lambda x: tuple(eval(x))).tolist()"
   ]
  },
  {
   "cell_type": "code",
   "execution_count": 8,
   "metadata": {},
   "outputs": [],
   "source": [
    "embs = dfs['multitask_emb_v0.1_preds']['multitask_emb_v0.1_predicted_category'].apply(lambda x: tuple(eval(x))).tolist()"
   ]
  },
  {
   "cell_type": "code",
   "execution_count": 9,
   "metadata": {},
   "outputs": [],
   "source": [
    "seqclfs = dfs['multitask_seqclf_v0.1_preds']['multitask_seqclf_v0.1_predicted_category'].apply(lambda x: tuple(eval(x))).tolist()"
   ]
  },
  {
   "cell_type": "code",
   "execution_count": 10,
   "metadata": {},
   "outputs": [],
   "source": [
    "trus = dfs['multitask_clm_v0.1_preds']['category'].apply(lambda x: tuple(eval(x))).tolist()"
   ]
  },
  {
   "cell_type": "code",
   "execution_count": 11,
   "metadata": {},
   "outputs": [],
   "source": [
    "df_all = pd.DataFrame({'clm':clms, 'emb': embs, 'seqclf': seqclfs, 'truth': trus})"
   ]
  },
  {
   "cell_type": "code",
   "execution_count": 12,
   "metadata": {},
   "outputs": [],
   "source": [
    "from sklearn import metrics"
   ]
  },
  {
   "cell_type": "code",
   "execution_count": 13,
   "metadata": {},
   "outputs": [],
   "source": [
    "cat2id = {}\n",
    "for i in df_all.to_numpy().flatten():\n",
    "    if i not in cat2id:\n",
    "        cat2id[i] = len(cat2id)"
   ]
  },
  {
   "cell_type": "code",
   "execution_count": 14,
   "metadata": {},
   "outputs": [
    {
     "data": {
      "text/plain": [
       "1153"
      ]
     },
     "execution_count": 14,
     "metadata": {},
     "output_type": "execute_result"
    }
   ],
   "source": [
    "len(cat2id)"
   ]
  },
  {
   "cell_type": "code",
   "execution_count": 15,
   "metadata": {},
   "outputs": [],
   "source": [
    "df_all_title = df_all.copy()\n",
    "df_all_title['title'] = titles"
   ]
  },
  {
   "cell_type": "code",
   "execution_count": 16,
   "metadata": {},
   "outputs": [],
   "source": [
    "df_all_id = df_all.applymap(lambda x: cat2id[x])\n",
    "\n",
    "\n",
    "df_all_id['all_match'] = df_all_id[['clm', 'emb', 'seqclf']].apply(\n",
    "    lambda x: len(set(x)) == 1, axis=1).tolist()"
   ]
  },
  {
   "cell_type": "code",
   "execution_count": 17,
   "metadata": {},
   "outputs": [],
   "source": [
    "df_all_id['maj_vote_default_seqclf'] = df_all_id[['clm', 'emb', 'seqclf']].apply(\n",
    "    lambda x: ss.mode(x, keepdims=False).mode if len(set(x)) != len(x) else x.seqclf, axis=1).tolist()"
   ]
  },
  {
   "cell_type": "code",
   "execution_count": 18,
   "metadata": {},
   "outputs": [
    {
     "data": {
      "text/html": [
       "<div>\n",
       "<style scoped>\n",
       "    .dataframe tbody tr th:only-of-type {\n",
       "        vertical-align: middle;\n",
       "    }\n",
       "\n",
       "    .dataframe tbody tr th {\n",
       "        vertical-align: top;\n",
       "    }\n",
       "\n",
       "    .dataframe thead th {\n",
       "        text-align: right;\n",
       "    }\n",
       "</style>\n",
       "<table border=\"1\" class=\"dataframe\">\n",
       "  <thead>\n",
       "    <tr style=\"text-align: right;\">\n",
       "      <th></th>\n",
       "      <th>clm</th>\n",
       "      <th>emb</th>\n",
       "      <th>seqclf</th>\n",
       "      <th>truth</th>\n",
       "      <th>maj_vote_default_seqclf</th>\n",
       "    </tr>\n",
       "  </thead>\n",
       "  <tbody>\n",
       "    <tr>\n",
       "      <th>clm</th>\n",
       "      <td>1.000000</td>\n",
       "      <td>0.341797</td>\n",
       "      <td>0.678711</td>\n",
       "      <td>0.455078</td>\n",
       "      <td>0.717773</td>\n",
       "    </tr>\n",
       "    <tr>\n",
       "      <th>emb</th>\n",
       "      <td>0.341797</td>\n",
       "      <td>1.000000</td>\n",
       "      <td>0.377930</td>\n",
       "      <td>0.359375</td>\n",
       "      <td>0.416992</td>\n",
       "    </tr>\n",
       "    <tr>\n",
       "      <th>seqclf</th>\n",
       "      <td>0.678711</td>\n",
       "      <td>0.377930</td>\n",
       "      <td>1.000000</td>\n",
       "      <td>0.511719</td>\n",
       "      <td>0.960938</td>\n",
       "    </tr>\n",
       "    <tr>\n",
       "      <th>truth</th>\n",
       "      <td>0.455078</td>\n",
       "      <td>0.359375</td>\n",
       "      <td>0.511719</td>\n",
       "      <td>1.000000</td>\n",
       "      <td>0.511719</td>\n",
       "    </tr>\n",
       "    <tr>\n",
       "      <th>maj_vote_default_seqclf</th>\n",
       "      <td>0.717773</td>\n",
       "      <td>0.416992</td>\n",
       "      <td>0.960938</td>\n",
       "      <td>0.511719</td>\n",
       "      <td>1.000000</td>\n",
       "    </tr>\n",
       "  </tbody>\n",
       "</table>\n",
       "</div>"
      ],
      "text/plain": [
       "                              clm       emb    seqclf     truth  \\\n",
       "clm                      1.000000  0.341797  0.678711  0.455078   \n",
       "emb                      0.341797  1.000000  0.377930  0.359375   \n",
       "seqclf                   0.678711  0.377930  1.000000  0.511719   \n",
       "truth                    0.455078  0.359375  0.511719  1.000000   \n",
       "maj_vote_default_seqclf  0.717773  0.416992  0.960938  0.511719   \n",
       "\n",
       "                         maj_vote_default_seqclf  \n",
       "clm                                     0.717773  \n",
       "emb                                     0.416992  \n",
       "seqclf                                  0.960938  \n",
       "truth                                   0.511719  \n",
       "maj_vote_default_seqclf                 1.000000  "
      ]
     },
     "execution_count": 18,
     "metadata": {},
     "output_type": "execute_result"
    }
   ],
   "source": [
    "df_all_id.loc[:, df_all_id.columns != 'all_match'].corr(method=metrics.accuracy_score)"
   ]
  },
  {
   "cell_type": "code",
   "execution_count": 19,
   "metadata": {},
   "outputs": [
    {
     "data": {
      "text/plain": [
       "[{'clm': ('security & protection',\n",
       "   'video surveillance',\n",
       "   'surveillance cameras'),\n",
       "  'emb': ('security & protection',\n",
       "   'video surveillance',\n",
       "   'surveillance cameras'),\n",
       "  'seqclf': ('security & protection',\n",
       "   'video surveillance',\n",
       "   'surveillance system'),\n",
       "  'truth': ('security & protection',\n",
       "   'video surveillance',\n",
       "   'surveillance cameras'),\n",
       "  'title': '2/1pcs 2MP Analog Security Camera HD 1080P Surveillance Camera with Night Vision,Indoor Outdoor Weatherproof for Home Video Surveillance Pal System'},\n",
       " {'clm': ('jewelry & accessories', 'earrings', 'stud earrings'),\n",
       "  'emb': ('jewelry & accessories', 'earrings', 'stud earrings'),\n",
       "  'seqclf': ('jewelry & accessories', 'jewelry sets & more', 'body jewelry'),\n",
       "  'truth': ('jewelry & accessories', 'earrings', 'stud earrings'),\n",
       "  'title': '6 Pairs/lot 3-8MM Square Zircon Stud Earring Set Silver Black Color 20g Stainless Steel Ear Studs Helix Conch Tragus Piercings'}]"
      ]
     },
     "execution_count": 19,
     "metadata": {},
     "output_type": "execute_result"
    }
   ],
   "source": [
    "idx = df_all_id[(df_all_id.maj_vote_default_seqclf != df_all_id.seqclf) & (df_all_id.maj_vote_default_seqclf == df_all_id.truth)].index\n",
    "df_all_title.loc[idx].sample(2).to_dict('records')"
   ]
  },
  {
   "cell_type": "code",
   "execution_count": 20,
   "metadata": {},
   "outputs": [
    {
     "data": {
      "text/plain": [
       "[{'clm': ('luggage & bags', 'coin purses & holders', 'card & id holders'),\n",
       "  'emb': ('luggage & bags', 'coin purses & holders', 'card & id holders'),\n",
       "  'seqclf': ('luggage & bags', \"women's bags\", 'wallets'),\n",
       "  'truth': ('luggage & bags', \"women's bags\", 'wallets'),\n",
       "  'title': \"Credit Card Wallet for Women RFID Blocking Card Holder Bifold Leather Wallet with Zipper Pocket Women's Handbag\"},\n",
       " {'clm': ('sports',\n",
       "   'sports clothing',\n",
       "   'shirts',\n",
       "   'trainning & exercise t-shirts'),\n",
       "  'emb': ('sports',\n",
       "   'sports clothing',\n",
       "   'shirts',\n",
       "   'trainning & exercise t-shirts'),\n",
       "  'seqclf': (\"men's clothing\", 'tops & tees', 't-shirts'),\n",
       "  'truth': (\"men's clothing\", 'tops & tees', 't-shirts'),\n",
       "  'title': \"Hot sale  Ty-Son Fury Gypsy King Round Neck Fashion Sports Cotton Men's T-Shirt\"}]"
      ]
     },
     "execution_count": 20,
     "metadata": {},
     "output_type": "execute_result"
    }
   ],
   "source": [
    "idx = df_all_id[(df_all_id.maj_vote_default_seqclf != df_all_id.seqclf) & (df_all_id.seqclf == df_all_id.truth)].index\n",
    "df_all_title.loc[idx].sample(2).to_dict('records')"
   ]
  },
  {
   "cell_type": "code",
   "execution_count": 21,
   "metadata": {},
   "outputs": [],
   "source": [
    "df_all_title_allmatch = df_all_title.loc[df_all_id[df_all_id.all_match].index].copy()"
   ]
  },
  {
   "cell_type": "code",
   "execution_count": 24,
   "metadata": {},
   "outputs": [
    {
     "data": {
      "text/plain": [
       "0.302734375"
      ]
     },
     "execution_count": 24,
     "metadata": {},
     "output_type": "execute_result"
    }
   ],
   "source": [
    "len(df_all_title_allmatch) / len(df_all_title)"
   ]
  },
  {
   "cell_type": "code",
   "execution_count": 22,
   "metadata": {},
   "outputs": [
    {
     "data": {
      "text/plain": [
       "[{'title': 'New Kids U-shaped Electric Toothbrush 360° Teeth Cleaner USB Rechargeable Age 2-6',\n",
       "  'seqclf': ('beauty & health', 'oral hygiene', 'electric toothbrush'),\n",
       "  'truth': ('mother & kids', 'baby care', 'dental care', 'toothbrushes')},\n",
       " {'title': 'Holder For Phone In Car Mobile Gravity Air Vent Monut Stand For iPhone X Xiaomi No Magnetic Smartphone Auto Smile Face Support',\n",
       "  'seqclf': ('cellphones & telecommunications',\n",
       "   'mobile phone accessories',\n",
       "   'phone holders & stands'),\n",
       "  'truth': ('automobiles & motorcycles',\n",
       "   'interior accessories',\n",
       "   'mounts & holder',\n",
       "   'universal car bracket')},\n",
       " {'title': 'UGREEN USB C to USB 3.0 OTG Convertor Adapter On The Go Cable Free up Phone Storage',\n",
       "  'seqclf': ('cellphones & telecommunications',\n",
       "   'mobile phone accessories',\n",
       "   'phone adapters & converters'),\n",
       "  'truth': ('consumer electronics', 'accessories & parts', 'type-c adapter')},\n",
       " {'title': 'S-5XL Men Loose Long Sleeve Shirt Coat Casual Black Kurta Suit Medium Length Tops',\n",
       "  'seqclf': (\"men's clothing\", 'shirts', 'casual shirts'),\n",
       "  'truth': ('novelty & special use',\n",
       "   'traditional & cultural wear',\n",
       "   'india & pakistan clothing')},\n",
       " {'title': 'Air outlet, mobile phone bracket, one hand operation, automobile mobile phone bracket',\n",
       "  'seqclf': ('cellphones & telecommunications',\n",
       "   'mobile phone accessories',\n",
       "   'phone holders & stands'),\n",
       "  'truth': ('automobiles & motorcycles',\n",
       "   'interior accessories',\n",
       "   'mounts & holder',\n",
       "   'universal car bracket')}]"
      ]
     },
     "execution_count": 22,
     "metadata": {},
     "output_type": "execute_result"
    }
   ],
   "source": [
    "df_all_title_allmatch[df_all_title_allmatch.truth.apply(lambda x: x[0]) != df_all_title_allmatch.seqclf.apply(lambda x: x[0])][\n",
    "    ['title', 'seqclf', 'truth']].sample(5).to_dict('records')"
   ]
  },
  {
   "cell_type": "code",
   "execution_count": 25,
   "metadata": {},
   "outputs": [],
   "source": [
    "df_all_title_allmatch['allmatch_pred'] = df_all_title_allmatch.seqclf.apply(list).tolist()\n",
    "df_all_title_allmatch['category'] = df_all_title_allmatch.truth.apply(list).tolist()"
   ]
  },
  {
   "cell_type": "code",
   "execution_count": 26,
   "metadata": {},
   "outputs": [],
   "source": [
    "df_all_title_allmatch = df_all_title_allmatch[['title', 'allmatch_pred', 'category']]"
   ]
  },
  {
   "cell_type": "code",
   "execution_count": 27,
   "metadata": {},
   "outputs": [],
   "source": [
    "from eval_from_file import perf_eval_util"
   ]
  },
  {
   "cell_type": "code",
   "execution_count": 28,
   "metadata": {},
   "outputs": [],
   "source": [
    "df_all_title_allmatch['lance_pred'] = dfs['lance_preds']['lance_predicted_category'].loc[df_all_title_allmatch.index].apply(eval)"
   ]
  },
  {
   "cell_type": "code",
   "execution_count": 30,
   "metadata": {},
   "outputs": [],
   "source": [
    "df_all_title['lance_pred'] = dfs['lance_preds']['lance_predicted_category'].loc[df_all_title.index].apply(eval)"
   ]
  },
  {
   "cell_type": "code",
   "execution_count": 33,
   "metadata": {},
   "outputs": [],
   "source": [
    "df_all_title['category'] = df_all_title['truth']"
   ]
  },
  {
   "cell_type": "code",
   "execution_count": 35,
   "metadata": {},
   "outputs": [],
   "source": [
    "perm_nonallmatch = pd.concat([perf_eval_util(df_all_title, i, 'seqclf') for i in [1,2,0,-1,-2]])\n",
    "perm_nonallmatch_lance = pd.concat([perf_eval_util(df_all_title, i, 'lance_pred') for i in [1,2,0,-1,-2]])\n",
    "\n",
    "perm_allmatch = pd.concat([perf_eval_util(df_all_title_allmatch, i, 'allmatch_pred') for i in [1,2,0,-1,-2]])\n",
    "perm_allmatch_lance = pd.concat([perf_eval_util(df_all_title_allmatch, i, 'lance_pred') for i in [1,2,0,-1,-2]])"
   ]
  },
  {
   "cell_type": "code",
   "execution_count": 37,
   "metadata": {},
   "outputs": [
    {
     "data": {
      "text/html": [
       "<div>\n",
       "<style scoped>\n",
       "    .dataframe tbody tr th:only-of-type {\n",
       "        vertical-align: middle;\n",
       "    }\n",
       "\n",
       "    .dataframe tbody tr th {\n",
       "        vertical-align: top;\n",
       "    }\n",
       "\n",
       "    .dataframe thead th {\n",
       "        text-align: right;\n",
       "    }\n",
       "</style>\n",
       "<table border=\"1\" class=\"dataframe\">\n",
       "  <thead>\n",
       "    <tr style=\"text-align: right;\">\n",
       "      <th></th>\n",
       "      <th>id</th>\n",
       "      <th>precision</th>\n",
       "      <th>recall</th>\n",
       "      <th>f1-score</th>\n",
       "      <th>support</th>\n",
       "      <th>level</th>\n",
       "    </tr>\n",
       "  </thead>\n",
       "  <tbody>\n",
       "    <tr>\n",
       "      <th>29</th>\n",
       "      <td>weighted avg</td>\n",
       "      <td>0.829992</td>\n",
       "      <td>0.807617</td>\n",
       "      <td>0.803903</td>\n",
       "      <td>1024.0</td>\n",
       "      <td>1</td>\n",
       "    </tr>\n",
       "    <tr>\n",
       "      <th>239</th>\n",
       "      <td>weighted avg</td>\n",
       "      <td>0.723378</td>\n",
       "      <td>0.673828</td>\n",
       "      <td>0.671428</td>\n",
       "      <td>1024.0</td>\n",
       "      <td>2</td>\n",
       "    </tr>\n",
       "    <tr>\n",
       "      <th>781</th>\n",
       "      <td>weighted avg</td>\n",
       "      <td>0.599452</td>\n",
       "      <td>0.511719</td>\n",
       "      <td>0.526921</td>\n",
       "      <td>1024.0</td>\n",
       "      <td>0</td>\n",
       "    </tr>\n",
       "    <tr>\n",
       "      <th>362</th>\n",
       "      <td>weighted avg</td>\n",
       "      <td>0.711969</td>\n",
       "      <td>0.637695</td>\n",
       "      <td>0.643821</td>\n",
       "      <td>1024.0</td>\n",
       "      <td>-1</td>\n",
       "    </tr>\n",
       "    <tr>\n",
       "      <th>103</th>\n",
       "      <td>weighted avg</td>\n",
       "      <td>0.812740</td>\n",
       "      <td>0.772461</td>\n",
       "      <td>0.772305</td>\n",
       "      <td>1024.0</td>\n",
       "      <td>-2</td>\n",
       "    </tr>\n",
       "  </tbody>\n",
       "</table>\n",
       "</div>"
      ],
      "text/plain": [
       "               id  precision    recall  f1-score  support  level\n",
       "29   weighted avg   0.829992  0.807617  0.803903   1024.0      1\n",
       "239  weighted avg   0.723378  0.673828  0.671428   1024.0      2\n",
       "781  weighted avg   0.599452  0.511719  0.526921   1024.0      0\n",
       "362  weighted avg   0.711969  0.637695  0.643821   1024.0     -1\n",
       "103  weighted avg   0.812740  0.772461  0.772305   1024.0     -2"
      ]
     },
     "execution_count": 37,
     "metadata": {},
     "output_type": "execute_result"
    }
   ],
   "source": [
    "# multitask v0.1 full dataset\n",
    "perm_nonallmatch[perm_nonallmatch['id'] == 'weighted avg']"
   ]
  },
  {
   "cell_type": "code",
   "execution_count": 39,
   "metadata": {},
   "outputs": [
    {
     "data": {
      "text/html": [
       "<div>\n",
       "<style scoped>\n",
       "    .dataframe tbody tr th:only-of-type {\n",
       "        vertical-align: middle;\n",
       "    }\n",
       "\n",
       "    .dataframe tbody tr th {\n",
       "        vertical-align: top;\n",
       "    }\n",
       "\n",
       "    .dataframe thead th {\n",
       "        text-align: right;\n",
       "    }\n",
       "</style>\n",
       "<table border=\"1\" class=\"dataframe\">\n",
       "  <thead>\n",
       "    <tr style=\"text-align: right;\">\n",
       "      <th></th>\n",
       "      <th>id</th>\n",
       "      <th>precision</th>\n",
       "      <th>recall</th>\n",
       "      <th>f1-score</th>\n",
       "      <th>support</th>\n",
       "      <th>level</th>\n",
       "    </tr>\n",
       "  </thead>\n",
       "  <tbody>\n",
       "    <tr>\n",
       "      <th>29</th>\n",
       "      <td>weighted avg</td>\n",
       "      <td>0.742939</td>\n",
       "      <td>0.757812</td>\n",
       "      <td>0.733032</td>\n",
       "      <td>1024.0</td>\n",
       "      <td>1</td>\n",
       "    </tr>\n",
       "    <tr>\n",
       "      <th>234</th>\n",
       "      <td>weighted avg</td>\n",
       "      <td>0.683832</td>\n",
       "      <td>0.647461</td>\n",
       "      <td>0.634103</td>\n",
       "      <td>1024.0</td>\n",
       "      <td>2</td>\n",
       "    </tr>\n",
       "    <tr>\n",
       "      <th>794</th>\n",
       "      <td>weighted avg</td>\n",
       "      <td>0.640225</td>\n",
       "      <td>0.506836</td>\n",
       "      <td>0.533479</td>\n",
       "      <td>1024.0</td>\n",
       "      <td>0</td>\n",
       "    </tr>\n",
       "    <tr>\n",
       "      <th>353</th>\n",
       "      <td>weighted avg</td>\n",
       "      <td>0.692509</td>\n",
       "      <td>0.623047</td>\n",
       "      <td>0.625475</td>\n",
       "      <td>1024.0</td>\n",
       "      <td>-1</td>\n",
       "    </tr>\n",
       "    <tr>\n",
       "      <th>101</th>\n",
       "      <td>weighted avg</td>\n",
       "      <td>0.737987</td>\n",
       "      <td>0.726562</td>\n",
       "      <td>0.712077</td>\n",
       "      <td>1024.0</td>\n",
       "      <td>-2</td>\n",
       "    </tr>\n",
       "  </tbody>\n",
       "</table>\n",
       "</div>"
      ],
      "text/plain": [
       "               id  precision    recall  f1-score  support  level\n",
       "29   weighted avg   0.742939  0.757812  0.733032   1024.0      1\n",
       "234  weighted avg   0.683832  0.647461  0.634103   1024.0      2\n",
       "794  weighted avg   0.640225  0.506836  0.533479   1024.0      0\n",
       "353  weighted avg   0.692509  0.623047  0.625475   1024.0     -1\n",
       "101  weighted avg   0.737987  0.726562  0.712077   1024.0     -2"
      ]
     },
     "execution_count": 39,
     "metadata": {},
     "output_type": "execute_result"
    }
   ],
   "source": [
    "# lance full dataset\n",
    "perm_nonallmatch_lance[perm_nonallmatch_lance['id'] == 'weighted avg']"
   ]
  },
  {
   "cell_type": "code",
   "execution_count": 40,
   "metadata": {},
   "outputs": [
    {
     "data": {
      "text/html": [
       "<div>\n",
       "<style scoped>\n",
       "    .dataframe tbody tr th:only-of-type {\n",
       "        vertical-align: middle;\n",
       "    }\n",
       "\n",
       "    .dataframe tbody tr th {\n",
       "        vertical-align: top;\n",
       "    }\n",
       "\n",
       "    .dataframe thead th {\n",
       "        text-align: right;\n",
       "    }\n",
       "</style>\n",
       "<table border=\"1\" class=\"dataframe\">\n",
       "  <thead>\n",
       "    <tr style=\"text-align: right;\">\n",
       "      <th></th>\n",
       "      <th>id</th>\n",
       "      <th>precision</th>\n",
       "      <th>recall</th>\n",
       "      <th>f1-score</th>\n",
       "      <th>support</th>\n",
       "      <th>level</th>\n",
       "    </tr>\n",
       "  </thead>\n",
       "  <tbody>\n",
       "    <tr>\n",
       "      <th>28</th>\n",
       "      <td>weighted avg</td>\n",
       "      <td>0.911977</td>\n",
       "      <td>0.896774</td>\n",
       "      <td>0.894799</td>\n",
       "      <td>310.0</td>\n",
       "      <td>1</td>\n",
       "    </tr>\n",
       "    <tr>\n",
       "      <th>147</th>\n",
       "      <td>weighted avg</td>\n",
       "      <td>0.830873</td>\n",
       "      <td>0.774194</td>\n",
       "      <td>0.780344</td>\n",
       "      <td>310.0</td>\n",
       "      <td>2</td>\n",
       "    </tr>\n",
       "    <tr>\n",
       "      <th>267</th>\n",
       "      <td>weighted avg</td>\n",
       "      <td>0.709391</td>\n",
       "      <td>0.677419</td>\n",
       "      <td>0.678115</td>\n",
       "      <td>310.0</td>\n",
       "      <td>0</td>\n",
       "    </tr>\n",
       "    <tr>\n",
       "      <th>171</th>\n",
       "      <td>weighted avg</td>\n",
       "      <td>0.810243</td>\n",
       "      <td>0.764516</td>\n",
       "      <td>0.768545</td>\n",
       "      <td>310.0</td>\n",
       "      <td>-1</td>\n",
       "    </tr>\n",
       "    <tr>\n",
       "      <th>75</th>\n",
       "      <td>weighted avg</td>\n",
       "      <td>0.894420</td>\n",
       "      <td>0.877419</td>\n",
       "      <td>0.875172</td>\n",
       "      <td>310.0</td>\n",
       "      <td>-2</td>\n",
       "    </tr>\n",
       "  </tbody>\n",
       "</table>\n",
       "</div>"
      ],
      "text/plain": [
       "               id  precision    recall  f1-score  support  level\n",
       "28   weighted avg   0.911977  0.896774  0.894799    310.0      1\n",
       "147  weighted avg   0.830873  0.774194  0.780344    310.0      2\n",
       "267  weighted avg   0.709391  0.677419  0.678115    310.0      0\n",
       "171  weighted avg   0.810243  0.764516  0.768545    310.0     -1\n",
       "75   weighted avg   0.894420  0.877419  0.875172    310.0     -2"
      ]
     },
     "execution_count": 40,
     "metadata": {},
     "output_type": "execute_result"
    }
   ],
   "source": [
    "# multitask v0.1 all-match subset\n",
    "perm_allmatch[perm_allmatch['id'] == 'weighted avg']"
   ]
  },
  {
   "cell_type": "code",
   "execution_count": 41,
   "metadata": {},
   "outputs": [
    {
     "data": {
      "text/html": [
       "<div>\n",
       "<style scoped>\n",
       "    .dataframe tbody tr th:only-of-type {\n",
       "        vertical-align: middle;\n",
       "    }\n",
       "\n",
       "    .dataframe tbody tr th {\n",
       "        vertical-align: top;\n",
       "    }\n",
       "\n",
       "    .dataframe thead th {\n",
       "        text-align: right;\n",
       "    }\n",
       "</style>\n",
       "<table border=\"1\" class=\"dataframe\">\n",
       "  <thead>\n",
       "    <tr style=\"text-align: right;\">\n",
       "      <th></th>\n",
       "      <th>id</th>\n",
       "      <th>precision</th>\n",
       "      <th>recall</th>\n",
       "      <th>f1-score</th>\n",
       "      <th>support</th>\n",
       "      <th>level</th>\n",
       "    </tr>\n",
       "  </thead>\n",
       "  <tbody>\n",
       "    <tr>\n",
       "      <th>28</th>\n",
       "      <td>weighted avg</td>\n",
       "      <td>0.827047</td>\n",
       "      <td>0.841935</td>\n",
       "      <td>0.823629</td>\n",
       "      <td>310.0</td>\n",
       "      <td>1</td>\n",
       "    </tr>\n",
       "    <tr>\n",
       "      <th>147</th>\n",
       "      <td>weighted avg</td>\n",
       "      <td>0.782419</td>\n",
       "      <td>0.729032</td>\n",
       "      <td>0.730545</td>\n",
       "      <td>310.0</td>\n",
       "      <td>2</td>\n",
       "    </tr>\n",
       "    <tr>\n",
       "      <th>286</th>\n",
       "      <td>weighted avg</td>\n",
       "      <td>0.695968</td>\n",
       "      <td>0.622581</td>\n",
       "      <td>0.636538</td>\n",
       "      <td>310.0</td>\n",
       "      <td>0</td>\n",
       "    </tr>\n",
       "    <tr>\n",
       "      <th>178</th>\n",
       "      <td>weighted avg</td>\n",
       "      <td>0.774892</td>\n",
       "      <td>0.725806</td>\n",
       "      <td>0.732057</td>\n",
       "      <td>310.0</td>\n",
       "      <td>-1</td>\n",
       "    </tr>\n",
       "    <tr>\n",
       "      <th>77</th>\n",
       "      <td>weighted avg</td>\n",
       "      <td>0.839307</td>\n",
       "      <td>0.825806</td>\n",
       "      <td>0.819636</td>\n",
       "      <td>310.0</td>\n",
       "      <td>-2</td>\n",
       "    </tr>\n",
       "  </tbody>\n",
       "</table>\n",
       "</div>"
      ],
      "text/plain": [
       "               id  precision    recall  f1-score  support  level\n",
       "28   weighted avg   0.827047  0.841935  0.823629    310.0      1\n",
       "147  weighted avg   0.782419  0.729032  0.730545    310.0      2\n",
       "286  weighted avg   0.695968  0.622581  0.636538    310.0      0\n",
       "178  weighted avg   0.774892  0.725806  0.732057    310.0     -1\n",
       "77   weighted avg   0.839307  0.825806  0.819636    310.0     -2"
      ]
     },
     "execution_count": 41,
     "metadata": {},
     "output_type": "execute_result"
    }
   ],
   "source": [
    "# lance all-match subset\n",
    "perm_allmatch_lance[perm_allmatch_lance['id'] == 'weighted avg']"
   ]
  },
  {
   "cell_type": "code",
   "execution_count": null,
   "metadata": {},
   "outputs": [],
   "source": []
  }
 ],
 "metadata": {
  "kernelspec": {
   "display_name": "Python 3.8.13 ('py38')",
   "language": "python",
   "name": "python3"
  },
  "language_info": {
   "codemirror_mode": {
    "name": "ipython",
    "version": 3
   },
   "file_extension": ".py",
   "mimetype": "text/x-python",
   "name": "python",
   "nbconvert_exporter": "python",
   "pygments_lexer": "ipython3",
   "version": "3.8.13"
  },
  "orig_nbformat": 4,
  "vscode": {
   "interpreter": {
    "hash": "3ea19d11efa7602c1f12500925a974ed4f31fcf847bd6f694bd5180da2602ded"
   }
  }
 },
 "nbformat": 4,
 "nbformat_minor": 2
}
