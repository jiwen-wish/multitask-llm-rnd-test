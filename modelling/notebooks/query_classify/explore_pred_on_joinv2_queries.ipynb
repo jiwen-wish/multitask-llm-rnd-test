{
 "cells": [
  {
   "cell_type": "code",
   "execution_count": 1,
   "metadata": {},
   "outputs": [],
   "source": [
    "import pandas as pd \n"
   ]
  },
  {
   "cell_type": "code",
   "execution_count": 2,
   "metadata": {},
   "outputs": [],
   "source": [
    "df = pd.read_json('../../models/product_title_multitask_multimodal/version_1/clm-epoch=0-step=75000--wish_joinv2_queries_en_20221130140116--test.json', \n",
    "    lines=True)"
   ]
  },
  {
   "cell_type": "code",
   "execution_count": 23,
   "metadata": {},
   "outputs": [],
   "source": [
    "df_group = df.groupby('batch_indices').agg({ \n",
    "    'prediction_decoded': lambda x: [i for i in x], \n",
    "    'prob': lambda x: [i for i in x],\n",
    "    'rank_indices': lambda x: [i for i in x]\n",
    "})"
   ]
  },
  {
   "cell_type": "code",
   "execution_count": 24,
   "metadata": {},
   "outputs": [
    {
     "data": {
      "text/plain": [
       "True"
      ]
     },
     "execution_count": 24,
     "metadata": {},
     "output_type": "execute_result"
    }
   ],
   "source": [
    "df_group.rank_indices.apply(lambda x: tuple(x) == tuple([0, 1, 2])).all()"
   ]
  },
  {
   "cell_type": "code",
   "execution_count": 25,
   "metadata": {},
   "outputs": [],
   "source": [
    "df_group = df_group.sort_index()"
   ]
  },
  {
   "cell_type": "code",
   "execution_count": 5,
   "metadata": {},
   "outputs": [],
   "source": [
    "df_query = pd.read_json('/data/junwang/.cache/general/9e8ada6de3920646a28c965a7bfe2cd9/test.json.gz', lines=True)"
   ]
  },
  {
   "cell_type": "code",
   "execution_count": 12,
   "metadata": {},
   "outputs": [],
   "source": [
    "df_query['query'] = df_query['json_content'].apply(lambda x: x['query'])"
   ]
  },
  {
   "cell_type": "code",
   "execution_count": 27,
   "metadata": {},
   "outputs": [],
   "source": [
    "df_query['top3_predictions'] = df_group['prediction_decoded']\n",
    "df_query['top3_probs'] = df_group['prob']"
   ]
  },
  {
   "cell_type": "code",
   "execution_count": 30,
   "metadata": {},
   "outputs": [
    {
     "data": {
      "text/plain": [
       "[{'query': 'fall shoes for women',\n",
       "  'top3_predictions': [\"shoes > women's shoes > boat shoes\",\n",
       "   \"shoes > women's shoes > loafers\",\n",
       "   \"shoes > women's shoes > women's flats\"],\n",
       "  'top3_probs': [0.5151156783103941, 0.192192524671554, 0.075434908270835]},\n",
       " {'query': 'resistance band exercises',\n",
       "  'top3_predictions': ['sports > fitness & body building > fitness equipments > resistance bands',\n",
       "   'security & protection > workplace safety supplies > warning tape',\n",
       "   'cellphones & telecommunications > communication equipments > communications parts'],\n",
       "  'top3_probs': [0.184184566140174,\n",
       "   0.055124502629041006,\n",
       "   0.022966852411627003]},\n",
       " {'query': '1 1 refurbished 2nd wireless bluetooth earphones',\n",
       "  'top3_predictions': ['consumer electronics > portable audio & video > earphones & headphones',\n",
       "   'consumer electronics > earphones & headphones > bluetooth earphones & headphones',\n",
       "   'consumer electronics > earphones & headphones > headphone/headset'],\n",
       "  'top3_probs': [0.183929920196533, 0.129032358527183, 0.12754833698272702]},\n",
       " {'query': 'google pixel pro phone case',\n",
       "  'top3_predictions': ['cellphones & telecommunications > phone bags & cases > half-wrapped cases',\n",
       "   'cellphones & telecommunications > mobile phone accessories > phone case & covers',\n",
       "   'cellphones & telecommunications > phone bags & cases > phone pouches'],\n",
       "  'top3_probs': [0.8311051726341241, 0.019255347549915, 0.008883628994226001]},\n",
       " {'query': 'cool gaming headset',\n",
       "  'top3_predictions': ['computer & office > laptop accessories > laptop headphones',\n",
       "   'computer & office > computer components > computer cases & towers',\n",
       "   'computer & office > office electronics > telephones & accessories > telephone headsets'],\n",
       "  'top3_probs': [0.302567690610885, 0.07985831052064801, 0.07623369246721201]}]"
      ]
     },
     "execution_count": 30,
     "metadata": {},
     "output_type": "execute_result"
    }
   ],
   "source": [
    "df_query[['query', 'top3_predictions', 'top3_probs']].sample(5).to_dict('records')"
   ]
  },
  {
   "cell_type": "code",
   "execution_count": null,
   "metadata": {},
   "outputs": [],
   "source": []
  }
 ],
 "metadata": {
  "kernelspec": {
   "display_name": "Python 3.8.13 ('py38')",
   "language": "python",
   "name": "python3"
  },
  "language_info": {
   "codemirror_mode": {
    "name": "ipython",
    "version": 3
   },
   "file_extension": ".py",
   "mimetype": "text/x-python",
   "name": "python",
   "nbconvert_exporter": "python",
   "pygments_lexer": "ipython3",
   "version": "3.8.13"
  },
  "orig_nbformat": 4,
  "vscode": {
   "interpreter": {
    "hash": "3ea19d11efa7602c1f12500925a974ed4f31fcf847bd6f694bd5180da2602ded"
   }
  }
 },
 "nbformat": 4,
 "nbformat_minor": 2
}
