{
 "cells": [
  {
   "cell_type": "code",
   "execution_count": 18,
   "metadata": {},
   "outputs": [],
   "source": [
    "import pandas as pd\n",
    "import yaml \n",
    "import os\n",
    "import dvc.api"
   ]
  },
  {
   "cell_type": "code",
   "execution_count": 19,
   "metadata": {},
   "outputs": [],
   "source": [
    "df_all = pd.read_json('../../models/multitask_multimodal_multilingual/version_9/clm-epoch=1-step=2600--wish_labelled_query_offshore_test--test.json', \n",
    "    lines=True)\n",
    "df_leaf = pd.read_json('../../models/multitask_multimodal_multilingual/version_9/clm-epoch=1-step=2600--wish_labelled_query_offshore_test--test--leaf.json', \n",
    "    lines=True)"
   ]
  },
  {
   "cell_type": "code",
   "execution_count": 20,
   "metadata": {},
   "outputs": [],
   "source": [
    "data_config = yaml.safe_load(open('../../datasets/multimodal_multitask/wish_labelled_query_offshore_test.yaml', 'r'))\n",
    "df_query = pd.read_json(dvc.api.get_url(**data_config['test'][0]), lines=True)"
   ]
  },
  {
   "cell_type": "code",
   "execution_count": 21,
   "metadata": {},
   "outputs": [],
   "source": [
    "df_query['allnode_pred'] = df_all.sort_values(['batch_indices', 'rank_indices']).groupby('batch_indices').agg({\n",
    "    'prediction_decoded': lambda x: [i for i in x]\n",
    "})['prediction_decoded']\n",
    "\n",
    "df_query['allnode_prob'] = df_all.sort_values(['batch_indices', 'rank_indices']).groupby('batch_indices').agg({\n",
    "    'prob': lambda x: [i for i in x]\n",
    "})['prob']\n",
    "\n",
    "df_query['leafnode_pred'] = df_leaf.sort_values(['batch_indices', 'rank_indices']).groupby('batch_indices').agg({\n",
    "    'prediction_decoded': lambda x: [i for i in x]\n",
    "})['prediction_decoded']\n",
    "\n",
    "df_query['leafnode_prob'] = df_leaf.sort_values(['batch_indices', 'rank_indices']).groupby('batch_indices').agg({\n",
    "    'prob': lambda x: [i for i in x]\n",
    "})['prob']"
   ]
  },
  {
   "cell_type": "code",
   "execution_count": 34,
   "metadata": {},
   "outputs": [
    {
     "data": {
      "text/plain": [
       "[{'sample_method': 'uniform',\n",
       "  'gmv': 867.1312255859,\n",
       "  'query': 'toyota camry 2019 accessory',\n",
       "  'query_classification_lists': ['Automobiles & Motorcycles > Car Lights > Car Headlight Bulbs (LED)',\n",
       "   'Automobiles & Motorcycles > Exterior Accessories > Car Covers',\n",
       "   'Automobiles & Motorcycles > Interior Accessories > Automobiles Seat Covers'],\n",
       "  'allnode_pred': ['automobiles & motorcycles > interior accessories',\n",
       "   'automobiles & motorcycles > auto replacement parts',\n",
       "   'automobiles & motorcycles > exterior accessories'],\n",
       "  'allnode_prob': [0.434425622224807,\n",
       "   0.25307852029800404,\n",
       "   0.21197882294654802],\n",
       "  'leafnode_pred': ['automobiles & motorcycles > interior accessories > interior mouldings',\n",
       "   'automobiles & motorcycles > interior accessories > floor mats',\n",
       "   'automobiles & motorcycles > auto replacement parts > exterior parts > exterior door handles'],\n",
       "  'leafnode_prob': [0.015315063297748002,\n",
       "   0.013075442053377,\n",
       "   0.007432257290929001]},\n",
       " {'sample_method': 'head',\n",
       "  'gmv': 1698.6970214844,\n",
       "  'query': 'high boots for women',\n",
       "  'query_classification_lists': [\"Shoes > Women's Shoes > Women's Boots > Knee-High Boots\"],\n",
       "  'allnode_pred': [\"shoes > women's shoes > women's boots\",\n",
       "   \"shoes > women's shoes > women's boots > over-the-knee boots\",\n",
       "   \"shoes > women's shoes > women's boots > ankle boots\"],\n",
       "  'allnode_prob': [0.556640267372131, 0.22910927236080103, 0.145035207271575],\n",
       "  'leafnode_pred': [\"shoes > women's shoes > women's boots > over-the-knee boots\",\n",
       "   \"shoes > women's shoes > women's boots > ankle boots\",\n",
       "   \"shoes > women's shoes > women's boots > mid-calf boots\"],\n",
       "  'leafnode_prob': [0.22910927236080103,\n",
       "   0.145035207271575,\n",
       "   0.030524039641022002]}]"
      ]
     },
     "execution_count": 34,
     "metadata": {},
     "output_type": "execute_result"
    }
   ],
   "source": [
    "df_query[df_query.allnode_pred.apply(lambda x: x[0]) != df_query.leafnode_pred.apply(lambda x: x[0])][[ \n",
    "    'sample_method', 'gmv', 'query', 'query_classification_lists', 'allnode_pred', 'allnode_prob', 'leafnode_pred', 'leafnode_prob'\n",
    "]].sample(2).to_dict('records')"
   ]
  },
  {
   "cell_type": "code",
   "execution_count": 31,
   "metadata": {},
   "outputs": [
    {
     "data": {
      "text/plain": [
       "<matplotlib.legend.Legend at 0x7f438335deb0>"
      ]
     },
     "execution_count": 31,
     "metadata": {},
     "output_type": "execute_result"
    },
    {
     "data": {
      "image/png": "[encoded data removed]",
      "text/plain": [
       "<Figure size 640x480 with 1 Axes>"
      ]
     },
     "metadata": {},
     "output_type": "display_data"
    }
   ],
   "source": [
    "df_query.allnode_prob.apply(sum).plot.hist(label='allnode', alpha=.2)\n",
    "df_query.leafnode_prob.apply(sum).plot.hist(label='leafnode', alpha=.2)\n",
    "import matplotlib.pyplot as plt\n",
    "plt.legend()"
   ]
  },
  {
   "cell_type": "code",
   "execution_count": 33,
   "metadata": {},
   "outputs": [
    {
     "data": {
      "text/plain": [
       "(0.732526014944305, 0.6599261522220737)"
      ]
     },
     "execution_count": 33,
     "metadata": {},
     "output_type": "execute_result"
    }
   ],
   "source": [
    "df_query.allnode_prob.apply(sum).mean(), df_query.leafnode_prob.apply(sum).mean()"
   ]
  },
  {
   "cell_type": "code",
   "execution_count": null,
   "metadata": {},
   "outputs": [],
   "source": []
  }
 ],
 "metadata": {
  "kernelspec": {
   "display_name": "py38",
   "language": "python",
   "name": "python3"
  },
  "language_info": {
   "codemirror_mode": {
    "name": "ipython",
    "version": 3
   },
   "file_extension": ".py",
   "mimetype": "text/x-python",
   "name": "python",
   "nbconvert_exporter": "python",
   "pygments_lexer": "ipython3",
   "version": "3.8.13"
  },
  "orig_nbformat": 4,
  "vscode": {
   "interpreter": {
    "hash": "3ea19d11efa7602c1f12500925a974ed4f31fcf847bd6f694bd5180da2602ded"
   }
  }
 },
 "nbformat": 4,
 "nbformat_minor": 2
}
