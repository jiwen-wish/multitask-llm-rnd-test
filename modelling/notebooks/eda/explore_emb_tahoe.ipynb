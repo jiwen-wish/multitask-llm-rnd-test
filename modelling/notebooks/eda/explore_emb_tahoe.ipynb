{
 "cells": [
  {
   "cell_type": "code",
   "execution_count": 1,
   "metadata": {},
   "outputs": [],
   "source": [
    "import sys \n",
    "sys.path.append('../..')"
   ]
  },
  {
   "cell_type": "code",
   "execution_count": 2,
   "metadata": {},
   "outputs": [],
   "source": [
    "import zarr "
   ]
  },
  {
   "cell_type": "code",
   "execution_count": 3,
   "metadata": {},
   "outputs": [],
   "source": [
    "from main_utils import LLM_EmbedData"
   ]
  },
  {
   "cell_type": "code",
   "execution_count": 4,
   "metadata": {},
   "outputs": [],
   "source": [
    "data = LLM_EmbedData(\n",
    "    data_source_yaml_path='../../datasets/product_title_embedding/wish-tahoe-pseudo-test.yaml', \n",
    "    model_name='sentence-transformers/sentence-t5-large'\n",
    ")"
   ]
  },
  {
   "cell_type": "code",
   "execution_count": 5,
   "metadata": {},
   "outputs": [
    {
     "data": {
      "text/plain": [
       "'/data/junwang/.cache/general/e2713f4e00f4e84a004ee2968a1d8425'"
      ]
     },
     "execution_count": 5,
     "metadata": {},
     "output_type": "execute_result"
    }
   ],
   "source": [
    "data.hparams.raw_cache_dir_folder"
   ]
  },
  {
   "cell_type": "code",
   "execution_count": 6,
   "metadata": {},
   "outputs": [
    {
     "name": "stdout",
     "output_type": "stream",
     "text": [
      "test.json.gz  test.json.gz.lock\n"
     ]
    }
   ],
   "source": [
    "!ls /data/junwang/.cache/general/e2713f4e00f4e84a004ee2968a1d8425"
   ]
  },
  {
   "cell_type": "code",
   "execution_count": 7,
   "metadata": {},
   "outputs": [
    {
     "name": "stdout",
     "output_type": "stream",
     "text": [
      "6.4G\t/data/junwang/.cache/general/e2713f4e00f4e84a004ee2968a1d8425\n"
     ]
    }
   ],
   "source": [
    "!du -sh /data/junwang/.cache/general/e2713f4e00f4e84a004ee2968a1d8425"
   ]
  },
  {
   "cell_type": "code",
   "execution_count": 8,
   "metadata": {},
   "outputs": [],
   "source": [
    "import pandas as pd\n",
    "import os"
   ]
  },
  {
   "cell_type": "code",
   "execution_count": 9,
   "metadata": {},
   "outputs": [],
   "source": [
    "df = pd.read_json(\n",
    "    os.path.join(data.hparams.raw_cache_dir_folder, 'test.json.gz'), \n",
    "    lines=True)"
   ]
  },
  {
   "cell_type": "code",
   "execution_count": 10,
   "metadata": {},
   "outputs": [
    {
     "data": {
      "text/plain": [
       "195.372388"
      ]
     },
     "execution_count": 10,
     "metadata": {},
     "output_type": "execute_result"
    }
   ],
   "source": [
    "len(df) / 1e6"
   ]
  },
  {
   "cell_type": "code",
   "execution_count": 11,
   "metadata": {},
   "outputs": [],
   "source": [
    "z = zarr.open('../../models/product_title_embedding/version_0/epoch=4-step=370604--wish-tahoe-pseudo-test.zarr', 'r')"
   ]
  },
  {
   "cell_type": "code",
   "execution_count": 12,
   "metadata": {},
   "outputs": [
    {
     "data": {
      "text/plain": [
       "['dl-idx_b-idx_s-idx_pred_rank-0']"
      ]
     },
     "execution_count": 12,
     "metadata": {},
     "output_type": "execute_result"
    }
   ],
   "source": [
    "list(z.array_keys())"
   ]
  },
  {
   "cell_type": "code",
   "execution_count": 13,
   "metadata": {},
   "outputs": [],
   "source": [
    "import numpy as np"
   ]
  },
  {
   "cell_type": "code",
   "execution_count": 14,
   "metadata": {},
   "outputs": [
    {
     "data": {
      "text/plain": [
       "77.28"
      ]
     },
     "execution_count": 14,
     "metadata": {},
     "output_type": "execute_result"
    }
   ],
   "source": [
    "z['dl-idx_b-idx_s-idx_pred_rank-0'].shape[0] / 1e6"
   ]
  },
  {
   "cell_type": "code",
   "execution_count": 15,
   "metadata": {},
   "outputs": [],
   "source": [
    "import random"
   ]
  },
  {
   "cell_type": "code",
   "execution_count": 16,
   "metadata": {},
   "outputs": [],
   "source": [
    "sample_arr = z['dl-idx_b-idx_s-idx_pred_rank-0'].oindex[\n",
    "    random.sample(range(z['dl-idx_b-idx_s-idx_pred_rank-0'].shape[0]),int(1e6)), :]"
   ]
  },
  {
   "cell_type": "code",
   "execution_count": 17,
   "metadata": {},
   "outputs": [],
   "source": [
    "s_idx = sample_arr[:,2].astype(int)\n",
    "embs = sample_arr[:,3:]"
   ]
  },
  {
   "cell_type": "code",
   "execution_count": 18,
   "metadata": {},
   "outputs": [
    {
     "data": {
      "text/plain": [
       "array([27587945, 13243002, 21798751, ..., 70212466, 68044253, 17219541])"
      ]
     },
     "execution_count": 18,
     "metadata": {},
     "output_type": "execute_result"
    }
   ],
   "source": [
    "s_idx"
   ]
  },
  {
   "cell_type": "code",
   "execution_count": 19,
   "metadata": {},
   "outputs": [],
   "source": [
    "df_sample = df.iloc[s_idx].reset_index()"
   ]
  },
  {
   "cell_type": "code",
   "execution_count": 20,
   "metadata": {},
   "outputs": [
    {
     "data": {
      "text/html": [
       "<div>\n",
       "<style scoped>\n",
       "    .dataframe tbody tr th:only-of-type {\n",
       "        vertical-align: middle;\n",
       "    }\n",
       "\n",
       "    .dataframe tbody tr th {\n",
       "        vertical-align: top;\n",
       "    }\n",
       "\n",
       "    .dataframe thead th {\n",
       "        text-align: right;\n",
       "    }\n",
       "</style>\n",
       "<table border=\"1\" class=\"dataframe\">\n",
       "  <thead>\n",
       "    <tr style=\"text-align: right;\">\n",
       "      <th></th>\n",
       "      <th>index</th>\n",
       "      <th>text_input</th>\n",
       "      <th>text_output</th>\n",
       "    </tr>\n",
       "  </thead>\n",
       "  <tbody>\n",
       "    <tr>\n",
       "      <th>0</th>\n",
       "      <td>27587945</td>\n",
       "      <td>Embed product: LIUBETY Decorative Throw Pillow...</td>\n",
       "      <td>Embed taxonomy: bedroom &gt; home decor &gt; pillow ...</td>\n",
       "    </tr>\n",
       "    <tr>\n",
       "      <th>1</th>\n",
       "      <td>13243002</td>\n",
       "      <td>Embed product: E1SYNDICATE T-SHIRT MDMA RED DE...</td>\n",
       "      <td>Embed taxonomy: tops &gt; fashion &gt; short sleeves</td>\n",
       "    </tr>\n",
       "    <tr>\n",
       "      <th>2</th>\n",
       "      <td>21798751</td>\n",
       "      <td>Embed product: Dead Sea T-Shirt Mens undeadwat...</td>\n",
       "      <td>Embed taxonomy: tops &gt; fashion &gt; shirts</td>\n",
       "    </tr>\n",
       "    <tr>\n",
       "      <th>3</th>\n",
       "      <td>23030827</td>\n",
       "      <td>Embed product: Dead Kennedys Portable Bags Clu...</td>\n",
       "      <td>Embed taxonomy: bags &gt; wallets &amp; bags &gt; pouches</td>\n",
       "    </tr>\n",
       "    <tr>\n",
       "      <th>4</th>\n",
       "      <td>72772649</td>\n",
       "      <td>Embed product: Omg Santa Santa Coming Pants</td>\n",
       "      <td>Embed taxonomy: fashion &gt; bottoms &gt; shorts</td>\n",
       "    </tr>\n",
       "    <tr>\n",
       "      <th>...</th>\n",
       "      <td>...</td>\n",
       "      <td>...</td>\n",
       "      <td>...</td>\n",
       "    </tr>\n",
       "    <tr>\n",
       "      <th>999995</th>\n",
       "      <td>51469693</td>\n",
       "      <td>Embed product: WWX01 Dog Paw Prints Pattern De...</td>\n",
       "      <td>Embed taxonomy: accessories &gt; masks</td>\n",
       "    </tr>\n",
       "    <tr>\n",
       "      <th>999996</th>\n",
       "      <td>57009459</td>\n",
       "      <td>Embed product: Floral Pattern Unisex Reusable ...</td>\n",
       "      <td>Embed taxonomy: accessories &gt; masks</td>\n",
       "    </tr>\n",
       "    <tr>\n",
       "      <th>999997</th>\n",
       "      <td>70212466</td>\n",
       "      <td>Embed product: New Fashion Animal Marlin Hunti...</td>\n",
       "      <td>Embed taxonomy: shirts &gt; tops &gt; fashion &gt; swea...</td>\n",
       "    </tr>\n",
       "    <tr>\n",
       "      <th>999998</th>\n",
       "      <td>68044253</td>\n",
       "      <td>Embed product: 2020 NEW Cat 3d T Shirt Show Sh...</td>\n",
       "      <td>Embed taxonomy: tops &gt; fashion &gt; short sleeves</td>\n",
       "    </tr>\n",
       "    <tr>\n",
       "      <th>999999</th>\n",
       "      <td>17219541</td>\n",
       "      <td>Embed product: Premium Wired Earbud Stereo In-...</td>\n",
       "      <td>Embed taxonomy: gadgets &gt; headphones</td>\n",
       "    </tr>\n",
       "  </tbody>\n",
       "</table>\n",
       "<p>1000000 rows × 3 columns</p>\n",
       "</div>"
      ],
      "text/plain": [
       "           index                                         text_input  \\\n",
       "0       27587945  Embed product: LIUBETY Decorative Throw Pillow...   \n",
       "1       13243002  Embed product: E1SYNDICATE T-SHIRT MDMA RED DE...   \n",
       "2       21798751  Embed product: Dead Sea T-Shirt Mens undeadwat...   \n",
       "3       23030827  Embed product: Dead Kennedys Portable Bags Clu...   \n",
       "4       72772649        Embed product: Omg Santa Santa Coming Pants   \n",
       "...          ...                                                ...   \n",
       "999995  51469693  Embed product: WWX01 Dog Paw Prints Pattern De...   \n",
       "999996  57009459  Embed product: Floral Pattern Unisex Reusable ...   \n",
       "999997  70212466  Embed product: New Fashion Animal Marlin Hunti...   \n",
       "999998  68044253  Embed product: 2020 NEW Cat 3d T Shirt Show Sh...   \n",
       "999999  17219541  Embed product: Premium Wired Earbud Stereo In-...   \n",
       "\n",
       "                                              text_output  \n",
       "0       Embed taxonomy: bedroom > home decor > pillow ...  \n",
       "1          Embed taxonomy: tops > fashion > short sleeves  \n",
       "2                 Embed taxonomy: tops > fashion > shirts  \n",
       "3         Embed taxonomy: bags > wallets & bags > pouches  \n",
       "4              Embed taxonomy: fashion > bottoms > shorts  \n",
       "...                                                   ...  \n",
       "999995                Embed taxonomy: accessories > masks  \n",
       "999996                Embed taxonomy: accessories > masks  \n",
       "999997  Embed taxonomy: shirts > tops > fashion > swea...  \n",
       "999998     Embed taxonomy: tops > fashion > short sleeves  \n",
       "999999               Embed taxonomy: gadgets > headphones  \n",
       "\n",
       "[1000000 rows x 3 columns]"
      ]
     },
     "execution_count": 20,
     "metadata": {},
     "output_type": "execute_result"
    }
   ],
   "source": [
    "df_sample"
   ]
  },
  {
   "cell_type": "code",
   "execution_count": 21,
   "metadata": {},
   "outputs": [],
   "source": [
    "z_tax = zarr.open('../../models/product_title_embedding/version_0/epoch=4-step=370604--wish-newtax-v1.2.1.zarr', 'r')\n",
    "data_tax = LLM_EmbedData(\n",
    "    data_source_yaml_path='../../datasets/taxonomy_embedding/wish-newtax-v1.2.1.yaml', \n",
    "    model_name='sentence-transformers/sentence-t5-large'\n",
    ")\n",
    "df_tax = pd.read_json(\n",
    "    os.path.join(data_tax.hparams.raw_cache_dir_folder, 'test.json.gz'), \n",
    "    lines=True)"
   ]
  },
  {
   "cell_type": "code",
   "execution_count": 22,
   "metadata": {},
   "outputs": [
    {
     "data": {
      "text/plain": [
       "((6037, 2), (6037, 1027))"
      ]
     },
     "execution_count": 22,
     "metadata": {},
     "output_type": "execute_result"
    }
   ],
   "source": [
    "df_tax.shape, z_tax['dl-idx_b-idx_s-idx_pred_rank-0'].shape"
   ]
  },
  {
   "cell_type": "code",
   "execution_count": 23,
   "metadata": {},
   "outputs": [],
   "source": [
    "arr = z_tax['dl-idx_b-idx_s-idx_pred_rank-0']\n",
    "s_idx_tax = arr[:,2].astype(int)\n",
    "embs_tax = arr[:,3:]"
   ]
  },
  {
   "cell_type": "code",
   "execution_count": 24,
   "metadata": {},
   "outputs": [],
   "source": [
    "df_tax = df_tax.iloc[s_idx_tax].reset_index()"
   ]
  },
  {
   "cell_type": "code",
   "execution_count": 25,
   "metadata": {},
   "outputs": [
    {
     "data": {
      "text/html": [
       "<div>\n",
       "<style scoped>\n",
       "    .dataframe tbody tr th:only-of-type {\n",
       "        vertical-align: middle;\n",
       "    }\n",
       "\n",
       "    .dataframe tbody tr th {\n",
       "        vertical-align: top;\n",
       "    }\n",
       "\n",
       "    .dataframe thead th {\n",
       "        text-align: right;\n",
       "    }\n",
       "</style>\n",
       "<table border=\"1\" class=\"dataframe\">\n",
       "  <thead>\n",
       "    <tr style=\"text-align: right;\">\n",
       "      <th></th>\n",
       "      <th>index</th>\n",
       "      <th>text_input</th>\n",
       "      <th>text_output</th>\n",
       "    </tr>\n",
       "  </thead>\n",
       "  <tbody>\n",
       "    <tr>\n",
       "      <th>0</th>\n",
       "      <td>0</td>\n",
       "      <td>Embed taxonomy: security &amp; protection &gt; buildi...</td>\n",
       "      <td>Embed taxonomy: security &amp; protection &gt; buildi...</td>\n",
       "    </tr>\n",
       "    <tr>\n",
       "      <th>1</th>\n",
       "      <td>1</td>\n",
       "      <td>Embed taxonomy: security &amp; protection &gt; door i...</td>\n",
       "      <td>Embed taxonomy: security &amp; protection &gt; door i...</td>\n",
       "    </tr>\n",
       "    <tr>\n",
       "      <th>2</th>\n",
       "      <td>2</td>\n",
       "      <td>Embed taxonomy: security &amp; protection &gt; emerge...</td>\n",
       "      <td>Embed taxonomy: security &amp; protection &gt; emerge...</td>\n",
       "    </tr>\n",
       "    <tr>\n",
       "      <th>3</th>\n",
       "      <td>3</td>\n",
       "      <td>Embed taxonomy: security &amp; protection &gt; fire p...</td>\n",
       "      <td>Embed taxonomy: security &amp; protection &gt; fire p...</td>\n",
       "    </tr>\n",
       "    <tr>\n",
       "      <th>4</th>\n",
       "      <td>4</td>\n",
       "      <td>Embed taxonomy: security &amp; protection &gt; iot de...</td>\n",
       "      <td>Embed taxonomy: security &amp; protection &gt; iot de...</td>\n",
       "    </tr>\n",
       "    <tr>\n",
       "      <th>...</th>\n",
       "      <td>...</td>\n",
       "      <td>...</td>\n",
       "      <td>...</td>\n",
       "    </tr>\n",
       "    <tr>\n",
       "      <th>6032</th>\n",
       "      <td>6032</td>\n",
       "      <td>Embed taxonomy: women's clothing &gt; underwear &amp;...</td>\n",
       "      <td>Embed taxonomy: women's clothing &gt; underwear &amp;...</td>\n",
       "    </tr>\n",
       "    <tr>\n",
       "      <th>6033</th>\n",
       "      <td>6033</td>\n",
       "      <td>Embed taxonomy: women's clothing &gt; underwear &amp;...</td>\n",
       "      <td>Embed taxonomy: women's clothing &gt; underwear &amp;...</td>\n",
       "    </tr>\n",
       "    <tr>\n",
       "      <th>6034</th>\n",
       "      <td>6034</td>\n",
       "      <td>Embed taxonomy: women's clothing &gt; underwear &amp;...</td>\n",
       "      <td>Embed taxonomy: women's clothing &gt; underwear &amp;...</td>\n",
       "    </tr>\n",
       "    <tr>\n",
       "      <th>6035</th>\n",
       "      <td>6035</td>\n",
       "      <td>Embed taxonomy: women's clothing &gt; underwear &amp;...</td>\n",
       "      <td>Embed taxonomy: women's clothing &gt; underwear &amp;...</td>\n",
       "    </tr>\n",
       "    <tr>\n",
       "      <th>6036</th>\n",
       "      <td>6036</td>\n",
       "      <td>Embed taxonomy: women's clothing &gt; underwear &amp;...</td>\n",
       "      <td>Embed taxonomy: women's clothing &gt; underwear &amp;...</td>\n",
       "    </tr>\n",
       "  </tbody>\n",
       "</table>\n",
       "<p>6037 rows × 3 columns</p>\n",
       "</div>"
      ],
      "text/plain": [
       "      index                                         text_input  \\\n",
       "0         0  Embed taxonomy: security & protection > buildi...   \n",
       "1         1  Embed taxonomy: security & protection > door i...   \n",
       "2         2  Embed taxonomy: security & protection > emerge...   \n",
       "3         3  Embed taxonomy: security & protection > fire p...   \n",
       "4         4  Embed taxonomy: security & protection > iot de...   \n",
       "...     ...                                                ...   \n",
       "6032   6032  Embed taxonomy: women's clothing > underwear &...   \n",
       "6033   6033  Embed taxonomy: women's clothing > underwear &...   \n",
       "6034   6034  Embed taxonomy: women's clothing > underwear &...   \n",
       "6035   6035  Embed taxonomy: women's clothing > underwear &...   \n",
       "6036   6036  Embed taxonomy: women's clothing > underwear &...   \n",
       "\n",
       "                                            text_output  \n",
       "0     Embed taxonomy: security & protection > buildi...  \n",
       "1     Embed taxonomy: security & protection > door i...  \n",
       "2     Embed taxonomy: security & protection > emerge...  \n",
       "3     Embed taxonomy: security & protection > fire p...  \n",
       "4     Embed taxonomy: security & protection > iot de...  \n",
       "...                                                 ...  \n",
       "6032  Embed taxonomy: women's clothing > underwear &...  \n",
       "6033  Embed taxonomy: women's clothing > underwear &...  \n",
       "6034  Embed taxonomy: women's clothing > underwear &...  \n",
       "6035  Embed taxonomy: women's clothing > underwear &...  \n",
       "6036  Embed taxonomy: women's clothing > underwear &...  \n",
       "\n",
       "[6037 rows x 3 columns]"
      ]
     },
     "execution_count": 25,
     "metadata": {},
     "output_type": "execute_result"
    }
   ],
   "source": [
    "df_tax"
   ]
  },
  {
   "cell_type": "code",
   "execution_count": 26,
   "metadata": {},
   "outputs": [
    {
     "data": {
      "text/plain": [
       "(6037, 1024)"
      ]
     },
     "execution_count": 26,
     "metadata": {},
     "output_type": "execute_result"
    }
   ],
   "source": [
    "embs_tax.shape"
   ]
  },
  {
   "cell_type": "code",
   "execution_count": 27,
   "metadata": {},
   "outputs": [
    {
     "data": {
      "text/plain": [
       "(1000000, 1024)"
      ]
     },
     "execution_count": 27,
     "metadata": {},
     "output_type": "execute_result"
    }
   ],
   "source": [
    "embs.shape"
   ]
  },
  {
   "cell_type": "code",
   "execution_count": 28,
   "metadata": {},
   "outputs": [
    {
     "data": {
      "text/plain": [
       "array([[ 0.18753853,  0.23982352, -1.93111479, ..., -0.68145633,\n",
       "         0.84323353, -0.87728482],\n",
       "       [ 0.10616554,  0.67645431,  0.05028763, ...,  1.20773911,\n",
       "        -1.23720419, -0.86730665],\n",
       "       [ 0.03214292,  0.25528508,  0.21895012, ...,  0.33676004,\n",
       "         0.02206876, -0.06674462],\n",
       "       ...,\n",
       "       [ 0.67787844,  0.10636625,  0.09057429, ...,  0.96151429,\n",
       "         1.03130782, -1.39424753],\n",
       "       [-0.91273552,  0.00465587, -0.52761531, ...,  1.1218828 ,\n",
       "         0.22350179, -1.17181718],\n",
       "       [-1.01307166,  0.33498546, -2.00109291, ..., -1.63484514,\n",
       "        -1.40571547, -1.13246679]])"
      ]
     },
     "execution_count": 28,
     "metadata": {},
     "output_type": "execute_result"
    }
   ],
   "source": [
    "embs"
   ]
  },
  {
   "cell_type": "code",
   "execution_count": 29,
   "metadata": {},
   "outputs": [],
   "source": [
    "import torch\n",
    "from torch import nn"
   ]
  },
  {
   "cell_type": "code",
   "execution_count": 30,
   "metadata": {},
   "outputs": [],
   "source": [
    "embs_tax_cuda = torch.tensor(embs_tax).cuda()"
   ]
  },
  {
   "cell_type": "code",
   "execution_count": 31,
   "metadata": {},
   "outputs": [],
   "source": [
    "embs_tax_cuda = nn.functional.normalize(embs_tax_cuda, dim=1)"
   ]
  },
  {
   "cell_type": "code",
   "execution_count": 32,
   "metadata": {},
   "outputs": [
    {
     "data": {
      "text/plain": [
       "tensor([[-0.0059,  0.0320,  0.0137,  ...,  0.0275, -0.0143, -0.0158],\n",
       "        [-0.0151,  0.0096,  0.0094,  ...,  0.0405, -0.0124, -0.0372],\n",
       "        [ 0.0314,  0.0567,  0.0249,  ..., -0.0450,  0.0147, -0.0464],\n",
       "        ...,\n",
       "        [ 0.0182,  0.0298,  0.0267,  ...,  0.0452, -0.0207,  0.0038],\n",
       "        [ 0.0091,  0.0434,  0.0405,  ...,  0.0402, -0.0151, -0.0074],\n",
       "        [ 0.0058,  0.0561,  0.0471,  ...,  0.0354, -0.0264, -0.0041]],\n",
       "       device='cuda:0', dtype=torch.float64)"
      ]
     },
     "execution_count": 32,
     "metadata": {},
     "output_type": "execute_result"
    }
   ],
   "source": [
    "embs_tax_cuda"
   ]
  },
  {
   "cell_type": "code",
   "execution_count": 33,
   "metadata": {},
   "outputs": [],
   "source": [
    "embs_chunks = np.array_split(embs, 100)"
   ]
  },
  {
   "cell_type": "code",
   "execution_count": 34,
   "metadata": {},
   "outputs": [],
   "source": [
    "from tqdm import tqdm"
   ]
  },
  {
   "cell_type": "code",
   "execution_count": 35,
   "metadata": {},
   "outputs": [
    {
     "name": "stderr",
     "output_type": "stream",
     "text": [
      "100%|██████████| 100/100 [00:45<00:00,  2.18it/s]\n"
     ]
    }
   ],
   "source": [
    "sim_chunks = []\n",
    "for chunk in tqdm(embs_chunks):\n",
    "    chunk_ = nn.functional.normalize(torch.tensor(chunk).cuda(), dim=1)\n",
    "    sim_chunks.append(chunk_.mm(embs_tax_cuda.T).detach().cpu())"
   ]
  },
  {
   "cell_type": "code",
   "execution_count": 36,
   "metadata": {},
   "outputs": [],
   "source": [
    "sims = np.vstack(sim_chunks)"
   ]
  },
  {
   "cell_type": "code",
   "execution_count": 37,
   "metadata": {},
   "outputs": [
    {
     "data": {
      "text/plain": [
       "(1000000, 6037)"
      ]
     },
     "execution_count": 37,
     "metadata": {},
     "output_type": "execute_result"
    }
   ],
   "source": [
    "sims.shape"
   ]
  },
  {
   "cell_type": "code",
   "execution_count": 38,
   "metadata": {},
   "outputs": [],
   "source": [
    "preds = sims.argmax(1)\n",
    "df_preds = df_tax.iloc[preds]\n",
    "df_sample['pred'] = df_preds['text_input'].apply(lambda x: x.split('Embed taxonomy: ')[1]).tolist()"
   ]
  },
  {
   "cell_type": "code",
   "execution_count": 42,
   "metadata": {},
   "outputs": [
    {
     "data": {
      "text/plain": [
       "[{'index': 63196477,\n",
       "  'text_input': 'Embed product: Lion Wall Art Canvas Painting Wall Picture Art Print, Lion Posters for Room Modern Home Decor for Living Room(no Frame)',\n",
       "  'text_output': 'Embed taxonomy: home decor > wall art',\n",
       "  'pred': 'home & garden > home decor > painting & calligraphy'},\n",
       " {'index': 40888127,\n",
       "  'text_input': 'Embed product: Our favorite Women Charm Lace Lady Briefs Lingerie Knickers G-string Thongs Panties Underwear',\n",
       "  'text_output': 'Embed taxonomy: fashion > underwear',\n",
       "  'pred': \"women's clothing > women's exotic apparel > panties\"},\n",
       " {'index': 46818007,\n",
       "  'text_input': \"Embed product: Clerks Berserker Funny Movie T Shirt Summer Men'S fashion Tee,Comfortable t shirt,Casual Short Sleeve TEE hip hop funny tee\",\n",
       "  'text_output': 'Embed taxonomy: tops > fashion > short sleeves',\n",
       "  'pred': \"men's clothing > tops & tees > t-shirts\"},\n",
       " {'index': 10765811,\n",
       "  'text_input': 'Embed product: Wholesale Dog Paw Dangle Navel Ring Body Jewelry Piercings 316L Surgical Steel Crystal Belly Button Ring Fashion Body Jewelry',\n",
       "  'text_output': 'Embed taxonomy: accessories > piercings',\n",
       "  'pred': 'jewelry & accessories > jewelry sets & more > body jewelry'},\n",
       " {'index': 8126269,\n",
       "  'text_input': 'Embed product: Juan Deere T-shirt',\n",
       "  'text_output': 'Embed taxonomy: fashion > tops',\n",
       "  'pred': 'sports > sports clothing > children sportswear & accessories > children quick-dry t-shirts'}]"
      ]
     },
     "execution_count": 42,
     "metadata": {},
     "output_type": "execute_result"
    }
   ],
   "source": [
    "df_sample.sample(5).to_dict('records')"
   ]
  },
  {
   "cell_type": "code",
   "execution_count": 43,
   "metadata": {},
   "outputs": [],
   "source": [
    "from collections import Counter"
   ]
  },
  {
   "cell_type": "code",
   "execution_count": 44,
   "metadata": {},
   "outputs": [
    {
     "data": {
      "text/plain": [
       "1000000"
      ]
     },
     "execution_count": 44,
     "metadata": {},
     "output_type": "execute_result"
    }
   ],
   "source": [
    "len(df_sample)"
   ]
  },
  {
   "cell_type": "code",
   "execution_count": 45,
   "metadata": {},
   "outputs": [
    {
     "data": {
      "text/plain": [
       "[('home & garden', 229951),\n",
       " ('sports', 162343),\n",
       " (\"men's clothing\", 119744),\n",
       " ('jewelry & accessories', 75139),\n",
       " (\"women's clothing\", 67025),\n",
       " ('education & office supplies', 38512),\n",
       " ('automobiles & motorcycles', 37855),\n",
       " ('mother & kids', 35471),\n",
       " ('apparel accessories', 30722),\n",
       " ('home improvement', 27902),\n",
       " ('luggage & bags', 25275),\n",
       " ('beauty & health', 19959),\n",
       " ('toys & hobbies', 19945),\n",
       " ('cellphones & telecommunications', 18576),\n",
       " ('novelty & special use', 13647),\n",
       " ('consumer electronics', 11902),\n",
       " ('virtual goods', 11669),\n",
       " ('computer & office', 11212),\n",
       " ('security & protection', 8830),\n",
       " ('shoes', 7273),\n",
       " ('tools', 7109),\n",
       " ('watches', 4956),\n",
       " ('entertainment', 4897),\n",
       " ('furniture', 4014),\n",
       " ('food', 3486),\n",
       " ('hair extensions & wigs', 1831),\n",
       " ('electronic components & supplies', 755)]"
      ]
     },
     "execution_count": 45,
     "metadata": {},
     "output_type": "execute_result"
    }
   ],
   "source": [
    "Counter(df_sample['pred'].apply(lambda x: x.split(' > ')[0])).most_common()"
   ]
  },
  {
   "cell_type": "code",
   "execution_count": 98,
   "metadata": {},
   "outputs": [
    {
     "data": {
      "text/plain": [
       "285.546699875467"
      ]
     },
     "execution_count": 98,
     "metadata": {},
     "output_type": "execute_result"
    }
   ],
   "source": [
    "229294 / 803"
   ]
  },
  {
   "cell_type": "code",
   "execution_count": 100,
   "metadata": {},
   "outputs": [
    {
     "data": {
      "text/plain": [
       "[{'index': 53306093,\n",
       "  'text_input': 'Embed product: tiki bar open tin metal sign garage man cave plans',\n",
       "  'text_output': 'Embed taxonomy: home decor > signs',\n",
       "  'pred': 'electronic components & supplies > electronic signs'},\n",
       " {'index': 64942003,\n",
       "  'text_input': 'Embed product: SLIMRUN  CAT6 UTP CABLE-5FT BLUE',\n",
       "  'text_output': 'Embed taxonomy: gadgets > cables',\n",
       "  'pred': 'electronic components & supplies > electronic data systems'},\n",
       " {'index': 60252493,\n",
       "  'text_input': 'Embed product: bedroom ideas Western arms and ammuntion Super-X for long range power tin sign',\n",
       "  'text_output': 'Embed taxonomy: home decor > wall art',\n",
       "  'pred': 'electronic components & supplies > electronic signs'},\n",
       " {'index': 1285639,\n",
       "  'text_input': 'Embed product: 10Pcs 20Pcs 50Pcs 100Pcs 20cm 3mm/5mm LED Lamp Cable Bulb Pre-wired DC Emitting Diode Light',\n",
       "  'text_output': 'Embed taxonomy: gadgets > led lights',\n",
       "  'pred': 'electronic components & supplies > active components > diodes'},\n",
       " {'index': 15818021,\n",
       "  'text_input': 'Embed product: garage shop room wall art 512 NKB New Mexico USA tin sign car plate Retro',\n",
       "  'text_output': 'Embed taxonomy: home decor > wall art',\n",
       "  'pred': 'electronic components & supplies > electronic signs'}]"
      ]
     },
     "execution_count": 100,
     "metadata": {},
     "output_type": "execute_result"
    }
   ],
   "source": [
    "df_sample[df_sample['pred'].apply(lambda x: \"electronic components & supplies >\" in x)].sample(5).to_dict('records')"
   ]
  },
  {
   "cell_type": "code",
   "execution_count": 47,
   "metadata": {},
   "outputs": [
    {
     "data": {
      "text/plain": [
       "[{'index': 54401824,\n",
       "  'text_input': 'Embed product: 2 Pieces Soft Kitchen Rugs, Koi Fish Hibiscus Flower Pattern by Hand Art Highly Detailed in Line Patterns Batik Paint Washable Long Kitchen Mat Set 15.7\" x 23.6\"+15.7\" x 47.2\" Rugs for Kitchen Floor',\n",
       "  'text_output': 'Embed taxonomy: living room > home decor > carpets',\n",
       "  'pred': 'home & garden > festive & party supplies > wedding decorations > aisle runners'},\n",
       " {'index': 64693297,\n",
       "  'text_input': 'Embed product: Dual Rib Indoor Mat&#44; Vinyl Backing&#44; 3 in. x 5 in.&#44; Chocolate',\n",
       "  'text_output': 'Embed taxonomy: home decor > living room',\n",
       "  'pred': 'home & garden > festive & party supplies > wedding decorations > aisle runners'},\n",
       " {'index': 13441012,\n",
       "  'text_input': 'Embed product: St Patrick\\'s Day Decoration Doormat Home Decor Classic Plaid Stripes Clover Welcome Indoor Outdoor Entrance Bathroom Floor Mats Non Slip Washable Hoilday Pet Food Mat, 20\" X 30\"Inch',\n",
       "  'text_output': 'Embed taxonomy: living room > home decor > carpets',\n",
       "  'pred': 'home & garden > festive & party supplies > wedding decorations > aisle runners'},\n",
       " {'index': 44040729,\n",
       "  'text_input': 'Embed product: YIJIN47 Pug Pizza Party Printed Welcome Door Mat Indoor Outdoor Entrance Rug Floor Mats Shoe Scraper Mat for Kitchen Bathroom Floors 15.7\" X 23.5\"',\n",
       "  'text_output': 'Embed taxonomy: living room > home decor > carpets',\n",
       "  'pred': 'home & garden > festive & party supplies > wedding decorations > aisle runners'},\n",
       " {'index': 25700321,\n",
       "  'text_input': 'Embed product: Soft Kitchen Rugs 2 Pieces,Happy Day Greeting Card Colorful Background Template Washable Non-Slip Kitchen Mat Set 15.7\" x 23.6\"+15.7\" x 47.2\" Rug for Kitchen',\n",
       "  'text_output': 'Embed taxonomy: living room > home decor > carpets',\n",
       "  'pred': 'home & garden > festive & party supplies > wedding decorations > aisle runners'}]"
      ]
     },
     "execution_count": 47,
     "metadata": {},
     "output_type": "execute_result"
    }
   ],
   "source": [
    "df_sample[df_sample['pred'].apply(lambda x: \"home & garden > festive & party supplies > wedding decorations > aisle runners\" in x)].sample(5).to_dict('records')"
   ]
  },
  {
   "cell_type": "code",
   "execution_count": 48,
   "metadata": {},
   "outputs": [],
   "source": [
    "df_openai_reverse = pd.read_json('../../models/product_title_embedding/version_0/epoch=4-step=370604--wish-tahoe-openai-reversegen.json', lines=True)"
   ]
  },
  {
   "cell_type": "code",
   "execution_count": 50,
   "metadata": {},
   "outputs": [
    {
     "name": "stderr",
     "output_type": "stream",
     "text": [
      "/opt/conda/envs/py38/lib/python3.8/site-packages/transformers/models/t5/tokenization_t5_fast.py:156: FutureWarning: This tokenizer was incorrectly instantiated with a model max length of 512 which will be corrected in Transformers v5.\n",
      "For now, this behavior is kept to avoid breaking backwards compatibility when padding/encoding with `truncation is True`.\n",
      "- Be aware that you SHOULD NOT rely on t5-base automatically truncating your input to 512 when padding/encoding.\n",
      "- If you want to encode/pad to sequences longer than 512 you can either instantiate this tokenizer with `model_max_length` or pass `max_length` when encoding/padding.\n",
      "- To avoid this warning, please instantiate this tokenizer with `model_max_length` set to your preferred value.\n",
      "  warnings.warn(\n"
     ]
    }
   ],
   "source": [
    "tmp = LLM_EmbedData('../../datasets/product_title_embedding/wish-tahoe-openai-reversegen.yaml')\n",
    "tmp.prepare_data()"
   ]
  },
  {
   "cell_type": "code",
   "execution_count": 52,
   "metadata": {},
   "outputs": [],
   "source": [
    "ds_openai_reverse = tmp.get_hf_dataset()"
   ]
  },
  {
   "cell_type": "code",
   "execution_count": 53,
   "metadata": {},
   "outputs": [
    {
     "data": {
      "text/plain": [
       "DatasetDict({\n",
       "    test: Dataset({\n",
       "        features: ['text_input', 'text_output'],\n",
       "        num_rows: 128659\n",
       "    })\n",
       "    train: Dataset({\n",
       "        features: ['text_input', 'text_output'],\n",
       "        num_rows: 145399\n",
       "    })\n",
       "    val: Dataset({\n",
       "        features: ['text_input', 'text_output'],\n",
       "        num_rows: 122960\n",
       "    })\n",
       "})"
      ]
     },
     "execution_count": 53,
     "metadata": {},
     "output_type": "execute_result"
    }
   ],
   "source": [
    "ds_openai_reverse"
   ]
  },
  {
   "cell_type": "code",
   "execution_count": 55,
   "metadata": {},
   "outputs": [],
   "source": [
    "tmp = pd.DataFrame(ds_openai_reverse['test'][:len(df_openai_reverse)])"
   ]
  },
  {
   "cell_type": "code",
   "execution_count": 56,
   "metadata": {},
   "outputs": [
    {
     "data": {
      "text/html": [
       "<div>\n",
       "<style scoped>\n",
       "    .dataframe tbody tr th:only-of-type {\n",
       "        vertical-align: middle;\n",
       "    }\n",
       "\n",
       "    .dataframe tbody tr th {\n",
       "        vertical-align: top;\n",
       "    }\n",
       "\n",
       "    .dataframe thead th {\n",
       "        text-align: right;\n",
       "    }\n",
       "</style>\n",
       "<table border=\"1\" class=\"dataframe\">\n",
       "  <thead>\n",
       "    <tr style=\"text-align: right;\">\n",
       "      <th></th>\n",
       "      <th>text_input</th>\n",
       "      <th>text_output</th>\n",
       "    </tr>\n",
       "  </thead>\n",
       "  <tbody>\n",
       "    <tr>\n",
       "      <th>0</th>\n",
       "      <td>Embed product: Buckle Down Seatbelt Belt boys ...</td>\n",
       "      <td>Embed taxonomy: apparel accessories &gt; boys' ac...</td>\n",
       "    </tr>\n",
       "    <tr>\n",
       "      <th>1</th>\n",
       "      <td>Embed product: Boys' Blue Light Blocking Glass...</td>\n",
       "      <td>Embed taxonomy: apparel accessories &gt; boys' ac...</td>\n",
       "    </tr>\n",
       "    <tr>\n",
       "      <th>2</th>\n",
       "      <td>Embed product: Boys' Stylish Rectangular Plast...</td>\n",
       "      <td>Embed taxonomy: apparel accessories &gt; boys' ac...</td>\n",
       "    </tr>\n",
       "    <tr>\n",
       "      <th>3</th>\n",
       "      <td>Embed product: Sunglasses for Boys - Fashionab...</td>\n",
       "      <td>Embed taxonomy: apparel accessories &gt; boys' ac...</td>\n",
       "    </tr>\n",
       "    <tr>\n",
       "      <th>4</th>\n",
       "      <td>Embed product: Warm Winter Gloves for Boys - E...</td>\n",
       "      <td>Embed taxonomy: apparel accessories &gt; boys' ac...</td>\n",
       "    </tr>\n",
       "    <tr>\n",
       "      <th>...</th>\n",
       "      <td>...</td>\n",
       "      <td>...</td>\n",
       "    </tr>\n",
       "    <tr>\n",
       "      <th>98197</th>\n",
       "      <td>Embed product:  Professional Stainless Steel M...</td>\n",
       "      <td>Embed taxonomy: beauty &amp; health &gt; makeup &gt; mak...</td>\n",
       "    </tr>\n",
       "    <tr>\n",
       "      <th>98198</th>\n",
       "      <td>Embed product: Premium Makeup Tool Kit - 12 Pi...</td>\n",
       "      <td>Embed taxonomy: beauty &amp; health &gt; makeup &gt; mak...</td>\n",
       "    </tr>\n",
       "    <tr>\n",
       "      <th>98199</th>\n",
       "      <td>Embed product: Hair Loss Treatment Men's Shamp...</td>\n",
       "      <td>Embed taxonomy: beauty &amp; health &gt; men's groomi...</td>\n",
       "    </tr>\n",
       "    <tr>\n",
       "      <th>98200</th>\n",
       "      <td>Embed product: Jack Black Double-Duty Face Was...</td>\n",
       "      <td>Embed taxonomy: beauty &amp; health &gt; men's groomi...</td>\n",
       "    </tr>\n",
       "    <tr>\n",
       "      <th>98201</th>\n",
       "      <td>Embed product: Acrylic Liquid Powder 4pcs/set</td>\n",
       "      <td>Embed taxonomy: beauty &amp; health &gt; nails art &amp; ...</td>\n",
       "    </tr>\n",
       "  </tbody>\n",
       "</table>\n",
       "<p>98202 rows × 2 columns</p>\n",
       "</div>"
      ],
      "text/plain": [
       "                                              text_input  \\\n",
       "0      Embed product: Buckle Down Seatbelt Belt boys ...   \n",
       "1      Embed product: Boys' Blue Light Blocking Glass...   \n",
       "2      Embed product: Boys' Stylish Rectangular Plast...   \n",
       "3      Embed product: Sunglasses for Boys - Fashionab...   \n",
       "4      Embed product: Warm Winter Gloves for Boys - E...   \n",
       "...                                                  ...   \n",
       "98197  Embed product:  Professional Stainless Steel M...   \n",
       "98198  Embed product: Premium Makeup Tool Kit - 12 Pi...   \n",
       "98199  Embed product: Hair Loss Treatment Men's Shamp...   \n",
       "98200  Embed product: Jack Black Double-Duty Face Was...   \n",
       "98201      Embed product: Acrylic Liquid Powder 4pcs/set   \n",
       "\n",
       "                                             text_output  \n",
       "0      Embed taxonomy: apparel accessories > boys' ac...  \n",
       "1      Embed taxonomy: apparel accessories > boys' ac...  \n",
       "2      Embed taxonomy: apparel accessories > boys' ac...  \n",
       "3      Embed taxonomy: apparel accessories > boys' ac...  \n",
       "4      Embed taxonomy: apparel accessories > boys' ac...  \n",
       "...                                                  ...  \n",
       "98197  Embed taxonomy: beauty & health > makeup > mak...  \n",
       "98198  Embed taxonomy: beauty & health > makeup > mak...  \n",
       "98199  Embed taxonomy: beauty & health > men's groomi...  \n",
       "98200  Embed taxonomy: beauty & health > men's groomi...  \n",
       "98201  Embed taxonomy: beauty & health > nails art & ...  \n",
       "\n",
       "[98202 rows x 2 columns]"
      ]
     },
     "execution_count": 56,
     "metadata": {},
     "output_type": "execute_result"
    }
   ],
   "source": [
    "tmp"
   ]
  },
  {
   "cell_type": "code",
   "execution_count": 57,
   "metadata": {},
   "outputs": [],
   "source": [
    "df_openai_reverse['title'] = tmp['text_input'].apply(lambda x: x.split('Embed product: ')[1])\n",
    "df_openai_reverse['taxonomy'] = tmp['text_output'].apply(lambda x: x.split('Embed taxonomy: ')[1])"
   ]
  },
  {
   "cell_type": "code",
   "execution_count": 60,
   "metadata": {},
   "outputs": [],
   "source": [
    "df_openai_reverse_agg = df_openai_reverse.groupby('taxonomy').agg(\n",
    "    {\"embedding\": lambda x: np.array([i for i in x]).mean(0).tolist()}\n",
    ")"
   ]
  },
  {
   "cell_type": "code",
   "execution_count": 65,
   "metadata": {},
   "outputs": [],
   "source": [
    "df_openai_reverse_agg = df_openai_reverse_agg.reset_index()"
   ]
  },
  {
   "cell_type": "code",
   "execution_count": 63,
   "metadata": {},
   "outputs": [],
   "source": [
    "df_tax['taxonomy'] = df_tax['text_input'].apply(lambda x: x.split('Embed taxonomy: ')[1])"
   ]
  },
  {
   "cell_type": "code",
   "execution_count": 66,
   "metadata": {},
   "outputs": [
    {
     "data": {
      "text/html": [
       "<div>\n",
       "<style scoped>\n",
       "    .dataframe tbody tr th:only-of-type {\n",
       "        vertical-align: middle;\n",
       "    }\n",
       "\n",
       "    .dataframe tbody tr th {\n",
       "        vertical-align: top;\n",
       "    }\n",
       "\n",
       "    .dataframe thead th {\n",
       "        text-align: right;\n",
       "    }\n",
       "</style>\n",
       "<table border=\"1\" class=\"dataframe\">\n",
       "  <thead>\n",
       "    <tr style=\"text-align: right;\">\n",
       "      <th></th>\n",
       "      <th>taxonomy</th>\n",
       "      <th>embedding</th>\n",
       "    </tr>\n",
       "  </thead>\n",
       "  <tbody>\n",
       "    <tr>\n",
       "      <th>0</th>\n",
       "      <td>apparel accessories &gt; boys' accessories &gt; boys...</td>\n",
       "      <td>[0.33757509915158124, 2.0586912453174593, 1.04...</td>\n",
       "    </tr>\n",
       "    <tr>\n",
       "      <th>1</th>\n",
       "      <td>apparel accessories &gt; boys' accessories &gt; boys...</td>\n",
       "      <td>[0.5721632391796445, 0.5484681069850919, 0.070...</td>\n",
       "    </tr>\n",
       "    <tr>\n",
       "      <th>2</th>\n",
       "      <td>apparel accessories &gt; boys' accessories &gt; boys...</td>\n",
       "      <td>[-0.2087530322372912, 0.42678223438560925, 0.1...</td>\n",
       "    </tr>\n",
       "    <tr>\n",
       "      <th>3</th>\n",
       "      <td>apparel accessories &gt; boys' accessories &gt; boys...</td>\n",
       "      <td>[-0.2707704186439512, 0.07436672411859022, -0....</td>\n",
       "    </tr>\n",
       "    <tr>\n",
       "      <th>4</th>\n",
       "      <td>apparel accessories &gt; boys' accessories &gt; boys...</td>\n",
       "      <td>[-1.497097337245941, -0.24853019751608355, 0.1...</td>\n",
       "    </tr>\n",
       "    <tr>\n",
       "      <th>...</th>\n",
       "      <td>...</td>\n",
       "      <td>...</td>\n",
       "    </tr>\n",
       "    <tr>\n",
       "      <th>5286</th>\n",
       "      <td>women's clothing &gt; women's exotic apparel &gt; li...</td>\n",
       "      <td>[0.3948894550816878, -0.12318266379750413, 0.1...</td>\n",
       "    </tr>\n",
       "    <tr>\n",
       "      <th>5287</th>\n",
       "      <td>women's clothing &gt; women's exotic apparel &gt; pa...</td>\n",
       "      <td>[1.1524825676211286, 0.034289209172129555, 0.3...</td>\n",
       "    </tr>\n",
       "    <tr>\n",
       "      <th>5288</th>\n",
       "      <td>women's clothing &gt; women's exotic apparel &gt; pants</td>\n",
       "      <td>[0.7438778032859165, 0.12014147535794296, 0.43...</td>\n",
       "    </tr>\n",
       "    <tr>\n",
       "      <th>5289</th>\n",
       "      <td>women's clothing &gt; women's exotic apparel &gt; tanks</td>\n",
       "      <td>[0.44326331721324624, 0.3391908056249745, 1.16...</td>\n",
       "    </tr>\n",
       "    <tr>\n",
       "      <th>5290</th>\n",
       "      <td>women's clothing &gt; women's exotic apparel &gt; te...</td>\n",
       "      <td>[0.4467347766223706, 1.0395379850738926, 0.052...</td>\n",
       "    </tr>\n",
       "  </tbody>\n",
       "</table>\n",
       "<p>5291 rows × 2 columns</p>\n",
       "</div>"
      ],
      "text/plain": [
       "                                               taxonomy  \\\n",
       "0     apparel accessories > boys' accessories > boys...   \n",
       "1     apparel accessories > boys' accessories > boys...   \n",
       "2     apparel accessories > boys' accessories > boys...   \n",
       "3     apparel accessories > boys' accessories > boys...   \n",
       "4     apparel accessories > boys' accessories > boys...   \n",
       "...                                                 ...   \n",
       "5286  women's clothing > women's exotic apparel > li...   \n",
       "5287  women's clothing > women's exotic apparel > pa...   \n",
       "5288  women's clothing > women's exotic apparel > pants   \n",
       "5289  women's clothing > women's exotic apparel > tanks   \n",
       "5290  women's clothing > women's exotic apparel > te...   \n",
       "\n",
       "                                              embedding  \n",
       "0     [0.33757509915158124, 2.0586912453174593, 1.04...  \n",
       "1     [0.5721632391796445, 0.5484681069850919, 0.070...  \n",
       "2     [-0.2087530322372912, 0.42678223438560925, 0.1...  \n",
       "3     [-0.2707704186439512, 0.07436672411859022, -0....  \n",
       "4     [-1.497097337245941, -0.24853019751608355, 0.1...  \n",
       "...                                                 ...  \n",
       "5286  [0.3948894550816878, -0.12318266379750413, 0.1...  \n",
       "5287  [1.1524825676211286, 0.034289209172129555, 0.3...  \n",
       "5288  [0.7438778032859165, 0.12014147535794296, 0.43...  \n",
       "5289  [0.44326331721324624, 0.3391908056249745, 1.16...  \n",
       "5290  [0.4467347766223706, 1.0395379850738926, 0.052...  \n",
       "\n",
       "[5291 rows x 2 columns]"
      ]
     },
     "execution_count": 66,
     "metadata": {},
     "output_type": "execute_result"
    }
   ],
   "source": [
    "df_openai_reverse_agg"
   ]
  },
  {
   "cell_type": "code",
   "execution_count": 67,
   "metadata": {},
   "outputs": [],
   "source": [
    "df_tax_merge = df_tax.merge(df_openai_reverse_agg, on='taxonomy', how='inner')"
   ]
  },
  {
   "cell_type": "code",
   "execution_count": 69,
   "metadata": {},
   "outputs": [],
   "source": [
    "embs_tax_new = np.array(df_tax_merge.embedding.tolist())"
   ]
  },
  {
   "cell_type": "code",
   "execution_count": 71,
   "metadata": {},
   "outputs": [],
   "source": [
    "embs_tax_new_cuda = nn.functional.normalize(torch.tensor(embs_tax_new).cuda(), dim=1)"
   ]
  },
  {
   "cell_type": "code",
   "execution_count": 72,
   "metadata": {},
   "outputs": [
    {
     "name": "stderr",
     "output_type": "stream",
     "text": [
      "100%|██████████| 100/100 [00:33<00:00,  2.96it/s]\n"
     ]
    }
   ],
   "source": [
    "sim_chunks_new = []\n",
    "for chunk in tqdm(embs_chunks):\n",
    "    chunk_ = nn.functional.normalize(torch.tensor(chunk).cuda(), dim=1)\n",
    "    sim_chunks_new.append(chunk_.mm(embs_tax_new_cuda.T).detach().cpu())\n",
    "sims_new = np.vstack(sim_chunks_new)\n",
    "preds_new = sims_new.argmax(1)\n",
    "df_preds_new = df_tax_merge.iloc[preds_new]\n"
   ]
  },
  {
   "cell_type": "code",
   "execution_count": 74,
   "metadata": {},
   "outputs": [],
   "source": [
    "df_sample['pred_new'] = df_preds_new['text_input'].apply(lambda x: x.split('Embed taxonomy: ')[1]).tolist()"
   ]
  },
  {
   "cell_type": "code",
   "execution_count": 78,
   "metadata": {},
   "outputs": [
    {
     "data": {
      "text/plain": [
       "(1000000, 374616)"
      ]
     },
     "execution_count": 78,
     "metadata": {},
     "output_type": "execute_result"
    }
   ],
   "source": [
    "len(df_sample), len(df_sample[df_sample.pred == df_sample.pred_new])"
   ]
  },
  {
   "cell_type": "code",
   "execution_count": 79,
   "metadata": {},
   "outputs": [
    {
     "data": {
      "text/plain": [
       "[(\"men's clothing\", 99044),\n",
       " ('home & garden', 95654),\n",
       " (\"women's clothing\", 35280),\n",
       " ('sports', 25125),\n",
       " ('jewelry & accessories', 22926),\n",
       " ('automobiles & motorcycles', 16390),\n",
       " ('luggage & bags', 11403),\n",
       " ('mother & kids', 10042),\n",
       " ('apparel accessories', 8605),\n",
       " ('beauty & health', 6928),\n",
       " ('education & office supplies', 6887),\n",
       " ('home improvement', 5397),\n",
       " ('computer & office', 5048),\n",
       " ('cellphones & telecommunications', 4728),\n",
       " ('consumer electronics', 4053),\n",
       " ('toys & hobbies', 3468),\n",
       " ('shoes', 3179),\n",
       " ('tools', 3087),\n",
       " ('novelty & special use', 2200),\n",
       " ('entertainment', 1468),\n",
       " ('furniture', 1019),\n",
       " ('virtual goods', 846),\n",
       " ('watches', 705),\n",
       " ('security & protection', 627),\n",
       " ('electronic components & supplies', 298),\n",
       " ('hair extensions & wigs', 132),\n",
       " ('food', 77)]"
      ]
     },
     "execution_count": 79,
     "metadata": {},
     "output_type": "execute_result"
    }
   ],
   "source": [
    "Counter(df_sample[df_sample.pred == df_sample.pred_new]['pred'].apply(lambda x: x.split(' > ')[0])).most_common()"
   ]
  },
  {
   "cell_type": "code",
   "execution_count": 81,
   "metadata": {},
   "outputs": [
    {
     "data": {
      "text/plain": [
       "[{'text_input': \"Embed product: tobiijhleget Work Sucks Let's Ride Cap Custom Pattern Baseball Cap The New Printed Fashion Cap Hat Adjustable Adult Sun Casquette\",\n",
       "  'pred': \"apparel accessories > women's hats > women's baseball caps\",\n",
       "  'pred_new': \"apparel accessories > women's hats > women's baseball caps\"},\n",
       " {'text_input': 'Embed product: 2020 Fashion T-shirt. Was Not Me Saying Funny Mens T-shirt, Joke Graphic Design Printed Tee',\n",
       "  'pred': \"men's clothing > tops & tees > t-shirts\",\n",
       "  'pred_new': \"men's clothing > tops & tees > t-shirts\"},\n",
       " {'text_input': 'Embed product: SignMission SSA-A-17 Nomad 4 x 18 in. Air Force Aircraft Military Street Sign - A-17 Nomad',\n",
       "  'pred': 'electronic components & supplies > electronic signs',\n",
       "  'pred_new': 'electronic components & supplies > electronic signs'}]"
      ]
     },
     "execution_count": 81,
     "metadata": {},
     "output_type": "execute_result"
    }
   ],
   "source": [
    "df_sample[df_sample.pred == df_sample.pred_new].sample(3)[['text_input', 'pred', 'pred_new']].to_dict('records')"
   ]
  },
  {
   "cell_type": "code",
   "execution_count": null,
   "metadata": {},
   "outputs": [],
   "source": []
  }
 ],
 "metadata": {
  "kernelspec": {
   "display_name": "Python 3.8.13 ('py38')",
   "language": "python",
   "name": "python3"
  },
  "language_info": {
   "codemirror_mode": {
    "name": "ipython",
    "version": 3
   },
   "file_extension": ".py",
   "mimetype": "text/x-python",
   "name": "python",
   "nbconvert_exporter": "python",
   "pygments_lexer": "ipython3",
   "version": "3.8.13"
  },
  "orig_nbformat": 4,
  "vscode": {
   "interpreter": {
    "hash": "3ea19d11efa7602c1f12500925a974ed4f31fcf847bd6f694bd5180da2602ded"
   }
  }
 },
 "nbformat": 4,
 "nbformat_minor": 2
}
