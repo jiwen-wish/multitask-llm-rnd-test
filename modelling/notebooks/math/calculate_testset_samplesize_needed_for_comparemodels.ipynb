{
 "cells": [
  {
   "cell_type": "markdown",
   "metadata": {},
   "source": [
    "How many samples do we need in a test set for a certain label, to ensure 1% difference in Accuracy between two classifiers is meaningful."
   ]
  },
  {
   "cell_type": "markdown",
   "metadata": {},
   "source": [
    "## 1. normal approximation interval (wald interval)"
   ]
  },
  {
   "cell_type": "markdown",
   "metadata": {},
   "source": [
    "A commonly used formula for a binomial confidence interval relies on approximating the distribution of error about a binomially-distributed observation, with a normal distribution. This approximation is based on the central limit theorem and is unreliable when the sample size is small or the success probability is close to 0 or 1."
   ]
  },
  {
   "cell_type": "code",
   "execution_count": 1,
   "metadata": {},
   "outputs": [
    {
     "name": "stdout",
     "output_type": "stream",
     "text": [
      "(-0.049, 0.049)\n"
     ]
    }
   ],
   "source": [
    "z = 1.96 # 95% CI standard score (number of std from the mean) for unit gaussian - 95% times estimate fall within interval\n",
    "p_hat = 0.75 # model accuracy on test set (interpreted as observed proportion of successes in a bernoulli trial process)\n",
    "n = 1200 # sample size for a certain label (i.e. number of cat pictures in cat classification)\n",
    "def meaningful_diff_wald_interval(z, p_hat, n):\n",
    "    diff = z * (p_hat * (1 - p_hat) / n)**.5 * 2 # multiply by 2 to ensure model CI don't overlap (do we need it?)\n",
    "    return -diff, diff\n",
    "print(meaningful_diff_wald_interval(z, p_hat, n))"
   ]
  },
  {
   "cell_type": "markdown",
   "metadata": {},
   "source": [
    "## 2. wilson score interval"
   ]
  },
  {
   "cell_type": "code",
   "execution_count": null,
   "metadata": {},
   "outputs": [],
   "source": []
  }
 ],
 "metadata": {
  "kernelspec": {
   "display_name": "Python 3.8.13 ('py38')",
   "language": "python",
   "name": "python3"
  },
  "language_info": {
   "codemirror_mode": {
    "name": "ipython",
    "version": 3
   },
   "file_extension": ".py",
   "mimetype": "text/x-python",
   "name": "python",
   "nbconvert_exporter": "python",
   "pygments_lexer": "ipython3",
   "version": "3.8.13"
  },
  "orig_nbformat": 4,
  "vscode": {
   "interpreter": {
    "hash": "3ea19d11efa7602c1f12500925a974ed4f31fcf847bd6f694bd5180da2602ded"
   }
  }
 },
 "nbformat": 4,
 "nbformat_minor": 2
}
