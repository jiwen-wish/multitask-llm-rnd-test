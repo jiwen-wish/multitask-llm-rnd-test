{
 "cells": [
  {
   "cell_type": "code",
   "execution_count": 2,
   "metadata": {},
   "outputs": [],
   "source": [
    "import pandas as pd"
   ]
  },
  {
   "cell_type": "code",
   "execution_count": 2,
   "metadata": {},
   "outputs": [],
   "source": [
    "## infer attr name val pair\n",
    "# python main_inference_multimodal.py \\\n",
    "#         --model=LLM_Inference_Multimodal \\\n",
    "#         --model.llm_type=\"seqclf\" \\\n",
    "#         --model.ckpt_path=\"models/query_attr_extract/version_1/epoch=99-step=1896.ckpt\" \\\n",
    "#         --model.config_path=\"models/query_attr_extract/version_1/config.yaml\" \\\n",
    "#         --model.task=\"seqclf_singlemodal_wishquery2attrkvpair\" \\\n",
    "#         --model.output_dir=\"models/query_attr_extract/version_1\" \\\n",
    "#         --model.write_interval=\"batch\" \\\n",
    "#         --data=JSONListData \\\n",
    "#         --data.llm_type=\"seqclf\" \\\n",
    "#         --data.label_map_file=\"datasets/attribute_definition/25L2_unfreetext_attribute_name_value_pairs_02232023.txt\" \\\n",
    "#         --data.label_type=\"multilabel_attrkvpair\" \\\n",
    "#         --data.data_source_yaml_path=\"datasets/query_attr_extract/appen_valid_batch1_query_attr.yaml\" \\\n",
    "#         --data.input_dict=\"{'template': '{query}', 'task_prefix': 'Classify attribute value pairs of query: '}\" \\\n",
    "#         --data.output_dict=\"{'template': '{attr_name_value_pairs_normalized_text}'}\" \\\n",
    "#         --data.data_source_type=\"dvc\" \\\n",
    "#         --data.model_name=\"microsoft/Multilingual-MiniLM-L12-H384\" \\\n",
    "#         --data.batch_size=50 \\\n",
    "#         --data.max_length=50 \\\n",
    "#         --data.num_workers=0 \\\n",
    "#         --data.overwrite_cache=true \\\n",
    "#         --data.force_download_hfdata=true \\\n",
    "#         --trainer.logger=false \\\n",
    "#         --trainer.enable_checkpointing=false \\\n",
    "#         --trainer.accelerator gpu \\\n",
    "#         --trainer.strategy ddp"
   ]
  },
  {
   "cell_type": "code",
   "execution_count": null,
   "metadata": {},
   "outputs": [],
   "source": [
    "## infer attr name only\n",
    "# python main_inference_multimodal.py \\\n",
    "#         --model=LLM_Inference_Multimodal \\\n",
    "#         --model.llm_type=\"seqclf\" \\\n",
    "#         --model.ckpt_path=\"models/query_attr_extract/version_2/epoch=12-step=1696.ckpt\" \\\n",
    "#         --model.config_path=\"models/query_attr_extract/version_2/config.yaml\" \\\n",
    "#         --model.task=\"seqclf_singlemodal_wishquery2attr\" \\\n",
    "#         --model.output_dir=\"models/query_attr_extract/version_2\" \\\n",
    "#         --model.write_interval=\"batch\" \\\n",
    "#         --data=JSONListData \\\n",
    "#         --data.llm_type=\"seqclf\" \\\n",
    "#         --data.label_map_file=\"datasets/attribute_definition/25L2_unfreetext_attribute_name_02232023.txt\" \\\n",
    "#         --data.label_type=\"multilabel_attrkvpair\" \\\n",
    "#         --data.data_source_yaml_path=\"datasets/query_attr_extract/appen_valid_batch1_query_attr.yaml\" \\\n",
    "#         --data.input_dict=\"{'template': '{query}', 'task_prefix': 'Classify attribute name of query: '}\" \\\n",
    "#         --data.output_dict=\"{'template': '{attr_name_value_pairs_normalized_text}'}\" \\\n",
    "#         --data.transform_dict=\"{'attr_name_value_pairs_normalized_text': 'get_attribute_name'}\" \\\n",
    "#         --data.data_source_type=\"dvc\" \\\n",
    "#         --data.model_name=\"microsoft/Multilingual-MiniLM-L12-H384\" \\\n",
    "#         --data.batch_size=50 \\\n",
    "#         --data.max_length=50 \\\n",
    "#         --data.num_workers=0 \\\n",
    "#         --data.overwrite_cache=true \\\n",
    "#         --data.force_download_hfdata=true \\\n",
    "#         --trainer.logger=false \\\n",
    "#         --trainer.enable_checkpointing=false \\\n",
    "#         --trainer.accelerator gpu \\\n",
    "#         --trainer.strategy ddp"
   ]
  },
  {
   "cell_type": "code",
   "execution_count": 5,
   "metadata": {},
   "outputs": [],
   "source": [
    "df = pd.read_json('../../models/query_attr_extract/version_1/seqclf-epoch=99-step=1896--appen_valid_batch1_query_attr--test.json', \n",
    "    lines=True)"
   ]
  },
  {
   "cell_type": "code",
   "execution_count": 10,
   "metadata": {},
   "outputs": [
    {
     "data": {
      "text/plain": [
       "{'Department|Women'}"
      ]
     },
     "execution_count": 10,
     "metadata": {},
     "output_type": "execute_result"
    }
   ],
   "source": [
    "set(df.preds.apply(lambda x: x[0][0]))"
   ]
  },
  {
   "cell_type": "code",
   "execution_count": 3,
   "metadata": {},
   "outputs": [],
   "source": [
    "df2 = pd.read_json('../../models/query_attr_extract/version_2/seqclf-epoch=12-step=1696--appen_valid_batch1_query_attr--test.json', \n",
    "    lines=True)"
   ]
  },
  {
   "cell_type": "code",
   "execution_count": 5,
   "metadata": {},
   "outputs": [
    {
     "data": {
      "text/plain": [
       "{'Age Range Description',\n",
       " 'Alpha Size',\n",
       " 'Brand',\n",
       " 'Closure Type',\n",
       " 'Connection Type',\n",
       " 'Connectivity',\n",
       " 'Department',\n",
       " 'Fishing Reel or Rod Type',\n",
       " 'Heel Type',\n",
       " 'Included Components',\n",
       " 'Installation or Mount Compatibility',\n",
       " 'Intended Usage',\n",
       " 'Item Features',\n",
       " 'Item Type',\n",
       " 'Light Bulb Type',\n",
       " 'Main Stone',\n",
       " 'Materials',\n",
       " 'Occasion & Lifestyle',\n",
       " 'Pattern',\n",
       " 'Pest Type',\n",
       " 'Power Source',\n",
       " 'Primary Color',\n",
       " 'Recommended Room',\n",
       " 'Scent',\n",
       " 'Shape',\n",
       " 'Shoe Type',\n",
       " 'Size',\n",
       " 'Sleeping Capacity',\n",
       " 'Small Animal Type',\n",
       " 'Sport or Activity Type',\n",
       " 'Styles',\n",
       " 'Tent Design',\n",
       " 'Theme',\n",
       " 'Water Resistance Level',\n",
       " 'Wireless Communication Types'}"
      ]
     },
     "execution_count": 5,
     "metadata": {},
     "output_type": "execute_result"
    }
   ],
   "source": [
    "set(df2.preds.apply(lambda x: x[0][0]))"
   ]
  },
  {
   "cell_type": "code",
   "execution_count": null,
   "metadata": {},
   "outputs": [],
   "source": []
  }
 ],
 "metadata": {
  "kernelspec": {
   "display_name": "py38",
   "language": "python",
   "name": "python3"
  },
  "language_info": {
   "codemirror_mode": {
    "name": "ipython",
    "version": 3
   },
   "file_extension": ".py",
   "mimetype": "text/x-python",
   "name": "python",
   "nbconvert_exporter": "python",
   "pygments_lexer": "ipython3",
   "version": "3.8.13"
  },
  "orig_nbformat": 4,
  "vscode": {
   "interpreter": {
    "hash": "3ea19d11efa7602c1f12500925a974ed4f31fcf847bd6f694bd5180da2602ded"
   }
  }
 },
 "nbformat": 4,
 "nbformat_minor": 2
}
