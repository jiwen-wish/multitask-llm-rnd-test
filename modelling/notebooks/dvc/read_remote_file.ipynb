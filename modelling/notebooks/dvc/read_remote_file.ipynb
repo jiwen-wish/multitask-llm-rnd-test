{
 "cells": [
  {
   "cell_type": "code",
   "execution_count": 47,
   "metadata": {},
   "outputs": [],
   "source": [
    "import dvc.api\n"
   ]
  },
  {
   "cell_type": "code",
   "execution_count": 48,
   "metadata": {},
   "outputs": [],
   "source": [
    "\n",
    "resource_url = dvc.api.get_url(\n",
    "    'data/aliexpress/Aliexpress_Meta_Train.json',\n",
    "    repo='git@github.com:ContextLogic/multitask-llm-rnd.git'\n",
    ")"
   ]
  },
  {
   "cell_type": "code",
   "execution_count": 49,
   "metadata": {},
   "outputs": [
    {
     "data": {
      "text/plain": [
       "'s3://structured-data-dev/junwang_query_understand_data/dvc/7d/2ee2f1b789f9b8e3a1a16381e57fea'"
      ]
     },
     "execution_count": 49,
     "metadata": {},
     "output_type": "execute_result"
    }
   ],
   "source": [
    "resource_url"
   ]
  },
  {
   "cell_type": "code",
   "execution_count": 50,
   "metadata": {},
   "outputs": [],
   "source": [
    "import pandas as pd"
   ]
  },
  {
   "cell_type": "code",
   "execution_count": 51,
   "metadata": {},
   "outputs": [],
   "source": [
    "df = pd.read_json(resource_url, lines=True)"
   ]
  },
  {
   "cell_type": "code",
   "execution_count": 80,
   "metadata": {},
   "outputs": [
    {
     "data": {
      "text/html": [
       "<div>\n",
       "<style scoped>\n",
       "    .dataframe tbody tr th:only-of-type {\n",
       "        vertical-align: middle;\n",
       "    }\n",
       "\n",
       "    .dataframe tbody tr th {\n",
       "        vertical-align: top;\n",
       "    }\n",
       "\n",
       "    .dataframe thead th {\n",
       "        text-align: right;\n",
       "    }\n",
       "</style>\n",
       "<table border=\"1\" class=\"dataframe\">\n",
       "  <thead>\n",
       "    <tr style=\"text-align: right;\">\n",
       "      <th></th>\n",
       "      <th>category</th>\n",
       "      <th>text</th>\n",
       "      <th>title</th>\n",
       "    </tr>\n",
       "  </thead>\n",
       "  <tbody>\n",
       "    <tr>\n",
       "      <th>0</th>\n",
       "      <td>[home &amp; garden, arts,crafts &amp; sewing, soap mak...</td>\n",
       "      <td>Myrrh resin medicinal materials can be ground ...</td>\n",
       "      <td>Myrrh resin medicinal materials can be ground ...</td>\n",
       "    </tr>\n",
       "    <tr>\n",
       "      <th>1</th>\n",
       "      <td>[home &amp; garden, arts,crafts &amp; sewing, soap mak...</td>\n",
       "      <td>Soap Candle for Diffuser Solubility Handmade D...</td>\n",
       "      <td>Soap Candle for Diffuser Solubility Handmade D...</td>\n",
       "    </tr>\n",
       "    <tr>\n",
       "      <th>2</th>\n",
       "      <td>[home &amp; garden, arts,crafts &amp; sewing, soap mak...</td>\n",
       "      <td>99% min 1um Si3N4 Silicon nitride powder -&gt; [h...</td>\n",
       "      <td>99% min 1um Si3N4 Silicon nitride powder</td>\n",
       "    </tr>\n",
       "    <tr>\n",
       "      <th>3</th>\n",
       "      <td>[home &amp; garden, arts,crafts &amp; sewing, soap mak...</td>\n",
       "      <td>Hot Selling Aspartame Sweetener Powder With Go...</td>\n",
       "      <td>Hot Selling Aspartame Sweetener Powder With Go...</td>\n",
       "    </tr>\n",
       "    <tr>\n",
       "      <th>4</th>\n",
       "      <td>[home &amp; garden, arts,crafts &amp; sewing, soap mak...</td>\n",
       "      <td>40# 15colors Pigments Brilliant Mica Powder Ki...</td>\n",
       "      <td>40# 15colors Pigments Brilliant Mica Powder Ki...</td>\n",
       "    </tr>\n",
       "  </tbody>\n",
       "</table>\n",
       "</div>"
      ],
      "text/plain": [
       "                                            category  \\\n",
       "0  [home & garden, arts,crafts & sewing, soap mak...   \n",
       "1  [home & garden, arts,crafts & sewing, soap mak...   \n",
       "2  [home & garden, arts,crafts & sewing, soap mak...   \n",
       "3  [home & garden, arts,crafts & sewing, soap mak...   \n",
       "4  [home & garden, arts,crafts & sewing, soap mak...   \n",
       "\n",
       "                                                text  \\\n",
       "0  Myrrh resin medicinal materials can be ground ...   \n",
       "1  Soap Candle for Diffuser Solubility Handmade D...   \n",
       "2  99% min 1um Si3N4 Silicon nitride powder -> [h...   \n",
       "3  Hot Selling Aspartame Sweetener Powder With Go...   \n",
       "4  40# 15colors Pigments Brilliant Mica Powder Ki...   \n",
       "\n",
       "                                               title  \n",
       "0  Myrrh resin medicinal materials can be ground ...  \n",
       "1  Soap Candle for Diffuser Solubility Handmade D...  \n",
       "2           99% min 1um Si3N4 Silicon nitride powder  \n",
       "3  Hot Selling Aspartame Sweetener Powder With Go...  \n",
       "4  40# 15colors Pigments Brilliant Mica Powder Ki...  "
      ]
     },
     "execution_count": 80,
     "metadata": {},
     "output_type": "execute_result"
    }
   ],
   "source": [
    "df.head()"
   ]
  },
  {
   "cell_type": "code",
   "execution_count": 81,
   "metadata": {},
   "outputs": [],
   "source": [
    "with dvc.api.open(\n",
    "    'data/aliexpress/Aliexpress_Meta_Train.json',\n",
    "    repo='git@github.com:ContextLogic/multitask-llm-rnd.git'\n",
    ") as f:\n",
    "    for l in f:\n",
    "        break"
   ]
  },
  {
   "cell_type": "code",
   "execution_count": 82,
   "metadata": {},
   "outputs": [
    {
     "data": {
      "text/plain": [
       "'{\"title\":\"Myrrh resin medicinal materials can be ground naturally 250g 500g\",\"category\":[\"home & garden\",\"arts,crafts & sewing\",\"soap making\",\"soap scents\"],\"text\":\"Myrrh resin medicinal materials can be ground naturally 250g 500g -> [home & garden][arts,crafts & sewing][soap making][soap scents]\"}\\n'"
      ]
     },
     "execution_count": 82,
     "metadata": {},
     "output_type": "execute_result"
    }
   ],
   "source": [
    "l"
   ]
  },
  {
   "cell_type": "code",
   "execution_count": null,
   "metadata": {},
   "outputs": [],
   "source": []
  }
 ],
 "metadata": {
  "kernelspec": {
   "display_name": "Python 3.6.9 ('base')",
   "language": "python",
   "name": "python3"
  },
  "language_info": {
   "codemirror_mode": {
    "name": "ipython",
    "version": 3
   },
   "file_extension": ".py",
   "mimetype": "text/x-python",
   "name": "python",
   "nbconvert_exporter": "python",
   "pygments_lexer": "ipython3",
   "version": "3.6.9"
  },
  "orig_nbformat": 4,
  "vscode": {
   "interpreter": {
    "hash": "d4d1e4263499bec80672ea0156c357c1ee493ec2b1c70f0acce89fc37c4a6abe"
   }
  }
 },
 "nbformat": 4,
 "nbformat_minor": 2
}
