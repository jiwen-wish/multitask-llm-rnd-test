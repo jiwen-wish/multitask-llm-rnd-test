{
 "cells": [
  {
   "cell_type": "code",
   "execution_count": 1,
   "metadata": {},
   "outputs": [],
   "source": [
    "import dvc.api\n"
   ]
  },
  {
   "cell_type": "code",
   "execution_count": 2,
   "metadata": {},
   "outputs": [],
   "source": [
    "\n",
    "resource_url = dvc.api.get_url(\n",
    "    'datasets/data/aliexpress/Aliexpress_Meta_Train.json',\n",
    "    repo='git@github.com:ContextLogic/multitask-llm-rnd.git'\n",
    ")"
   ]
  },
  {
   "cell_type": "code",
   "execution_count": 3,
   "metadata": {},
   "outputs": [
    {
     "data": {
      "text/plain": [
       "'s3://structured-data-dev/junwang_query_understand_data/dvc/7d/2ee2f1b789f9b8e3a1a16381e57fea'"
      ]
     },
     "execution_count": 3,
     "metadata": {},
     "output_type": "execute_result"
    }
   ],
   "source": [
    "resource_url"
   ]
  },
  {
   "cell_type": "code",
   "execution_count": 4,
   "metadata": {},
   "outputs": [],
   "source": [
    "import pandas as pd"
   ]
  },
  {
   "cell_type": "code",
   "execution_count": 5,
   "metadata": {},
   "outputs": [],
   "source": [
    "df = pd.read_json(resource_url, lines=True)"
   ]
  },
  {
   "cell_type": "code",
   "execution_count": 6,
   "metadata": {},
   "outputs": [
    {
     "data": {
      "text/html": [
       "<div>\n",
       "<style scoped>\n",
       "    .dataframe tbody tr th:only-of-type {\n",
       "        vertical-align: middle;\n",
       "    }\n",
       "\n",
       "    .dataframe tbody tr th {\n",
       "        vertical-align: top;\n",
       "    }\n",
       "\n",
       "    .dataframe thead th {\n",
       "        text-align: right;\n",
       "    }\n",
       "</style>\n",
       "<table border=\"1\" class=\"dataframe\">\n",
       "  <thead>\n",
       "    <tr style=\"text-align: right;\">\n",
       "      <th></th>\n",
       "      <th>title</th>\n",
       "      <th>category</th>\n",
       "      <th>text</th>\n",
       "    </tr>\n",
       "  </thead>\n",
       "  <tbody>\n",
       "    <tr>\n",
       "      <th>0</th>\n",
       "      <td>Myrrh resin medicinal materials can be ground ...</td>\n",
       "      <td>[home &amp; garden, arts,crafts &amp; sewing, soap mak...</td>\n",
       "      <td>Myrrh resin medicinal materials can be ground ...</td>\n",
       "    </tr>\n",
       "    <tr>\n",
       "      <th>1</th>\n",
       "      <td>Soap Candle for Diffuser Solubility Handmade D...</td>\n",
       "      <td>[home &amp; garden, arts,crafts &amp; sewing, soap mak...</td>\n",
       "      <td>Soap Candle for Diffuser Solubility Handmade D...</td>\n",
       "    </tr>\n",
       "    <tr>\n",
       "      <th>2</th>\n",
       "      <td>99% min 1um Si3N4 Silicon nitride powder</td>\n",
       "      <td>[home &amp; garden, arts,crafts &amp; sewing, soap mak...</td>\n",
       "      <td>99% min 1um Si3N4 Silicon nitride powder -&gt; [h...</td>\n",
       "    </tr>\n",
       "    <tr>\n",
       "      <th>3</th>\n",
       "      <td>Hot Selling Aspartame Sweetener Powder With Go...</td>\n",
       "      <td>[home &amp; garden, arts,crafts &amp; sewing, soap mak...</td>\n",
       "      <td>Hot Selling Aspartame Sweetener Powder With Go...</td>\n",
       "    </tr>\n",
       "    <tr>\n",
       "      <th>4</th>\n",
       "      <td>40# 15colors Pigments Brilliant Mica Powder Ki...</td>\n",
       "      <td>[home &amp; garden, arts,crafts &amp; sewing, soap mak...</td>\n",
       "      <td>40# 15colors Pigments Brilliant Mica Powder Ki...</td>\n",
       "    </tr>\n",
       "  </tbody>\n",
       "</table>\n",
       "</div>"
      ],
      "text/plain": [
       "                                               title  \\\n",
       "0  Myrrh resin medicinal materials can be ground ...   \n",
       "1  Soap Candle for Diffuser Solubility Handmade D...   \n",
       "2           99% min 1um Si3N4 Silicon nitride powder   \n",
       "3  Hot Selling Aspartame Sweetener Powder With Go...   \n",
       "4  40# 15colors Pigments Brilliant Mica Powder Ki...   \n",
       "\n",
       "                                            category  \\\n",
       "0  [home & garden, arts,crafts & sewing, soap mak...   \n",
       "1  [home & garden, arts,crafts & sewing, soap mak...   \n",
       "2  [home & garden, arts,crafts & sewing, soap mak...   \n",
       "3  [home & garden, arts,crafts & sewing, soap mak...   \n",
       "4  [home & garden, arts,crafts & sewing, soap mak...   \n",
       "\n",
       "                                                text  \n",
       "0  Myrrh resin medicinal materials can be ground ...  \n",
       "1  Soap Candle for Diffuser Solubility Handmade D...  \n",
       "2  99% min 1um Si3N4 Silicon nitride powder -> [h...  \n",
       "3  Hot Selling Aspartame Sweetener Powder With Go...  \n",
       "4  40# 15colors Pigments Brilliant Mica Powder Ki...  "
      ]
     },
     "execution_count": 6,
     "metadata": {},
     "output_type": "execute_result"
    }
   ],
   "source": [
    "df.head()"
   ]
  },
  {
   "cell_type": "code",
   "execution_count": 7,
   "metadata": {},
   "outputs": [],
   "source": [
    "with dvc.api.open(\n",
    "    'datasets/data/aliexpress/Aliexpress_Meta_Train.json',\n",
    "    repo='git@github.com:ContextLogic/multitask-llm-rnd.git'\n",
    ") as f:\n",
    "    for l in f:\n",
    "        break"
   ]
  },
  {
   "cell_type": "code",
   "execution_count": 8,
   "metadata": {},
   "outputs": [
    {
     "data": {
      "text/plain": [
       "'{\"title\":\"Myrrh resin medicinal materials can be ground naturally 250g 500g\",\"category\":[\"home & garden\",\"arts,crafts & sewing\",\"soap making\",\"soap scents\"],\"text\":\"Myrrh resin medicinal materials can be ground naturally 250g 500g -> [home & garden][arts,crafts & sewing][soap making][soap scents]\"}\\n'"
      ]
     },
     "execution_count": 8,
     "metadata": {},
     "output_type": "execute_result"
    }
   ],
   "source": [
    "l"
   ]
  },
  {
   "cell_type": "code",
   "execution_count": null,
   "metadata": {},
   "outputs": [],
   "source": []
  }
 ],
 "metadata": {
  "kernelspec": {
   "display_name": "py38",
   "language": "python",
   "name": "python3"
  },
  "language_info": {
   "codemirror_mode": {
    "name": "ipython",
    "version": 3
   },
   "file_extension": ".py",
   "mimetype": "text/x-python",
   "name": "python",
   "nbconvert_exporter": "python",
   "pygments_lexer": "ipython3",
   "version": "3.8.13"
  },
  "orig_nbformat": 4,
  "vscode": {
   "interpreter": {
    "hash": "3ea19d11efa7602c1f12500925a974ed4f31fcf847bd6f694bd5180da2602ded"
   }
  }
 },
 "nbformat": 4,
 "nbformat_minor": 2
}
