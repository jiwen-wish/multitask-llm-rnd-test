{
 "cells": [
  {
   "cell_type": "markdown",
   "metadata": {},
   "source": [
    "### Simple conversion from large json.gz that doesn't fit into memory, to a huggingface dataset that use pyarrow to reduce memory usage to be able to use arbitrarily large dataset"
   ]
  },
  {
   "cell_type": "code",
   "execution_count": 2,
   "metadata": {},
   "outputs": [],
   "source": [
    "from datasets import load_dataset"
   ]
  },
  {
   "cell_type": "code",
   "execution_count": 3,
   "metadata": {},
   "outputs": [],
   "source": [
    "import json\n",
    "import gzip\n",
    "with gzip.open('tmp.json.gz', 'w') as f:\n",
    "    f.write(json.dumps({\"text\": \"x\", \"label\": 1}).encode('utf-8'))\n",
    "    f.write(json.dumps({\"text\": \"y\", \"label\": 0}).encode('utf-8'))"
   ]
  },
  {
   "cell_type": "markdown",
   "metadata": {},
   "source": [
    "#### i. map-style dataset"
   ]
  },
  {
   "cell_type": "code",
   "execution_count": 4,
   "metadata": {},
   "outputs": [
    {
     "name": "stderr",
     "output_type": "stream",
     "text": [
      "Using custom data configuration default-fb38c71641562337\n"
     ]
    },
    {
     "name": "stdout",
     "output_type": "stream",
     "text": [
      "Downloading and preparing dataset json/default to /root/.cache/huggingface/datasets/json/default-fb38c71641562337/0.0.0/a3e658c4731e59120d44081ac10bf85dc7e1388126b92338344ce9661907f253...\n"
     ]
    },
    {
     "data": {
      "application/vnd.jupyter.widget-view+json": {
       "model_id": "fe24ceaf12704819a91dcda870494b3e",
       "version_major": 2,
       "version_minor": 0
      },
      "text/plain": [
       "Downloading data files:   0%|          | 0/1 [00:00<?, ?it/s]"
      ]
     },
     "metadata": {},
     "output_type": "display_data"
    },
    {
     "data": {
      "application/vnd.jupyter.widget-view+json": {
       "model_id": "ed01cf2248194c018713702d6aa07a65",
       "version_major": 2,
       "version_minor": 0
      },
      "text/plain": [
       "Extracting data files:   0%|          | 0/1 [00:00<?, ?it/s]"
      ]
     },
     "metadata": {},
     "output_type": "display_data"
    },
    {
     "data": {
      "application/vnd.jupyter.widget-view+json": {
       "model_id": "48ac48423510489986b82a46b2d3fb30",
       "version_major": 2,
       "version_minor": 0
      },
      "text/plain": [
       "0 tables [00:00, ? tables/s]"
      ]
     },
     "metadata": {},
     "output_type": "display_data"
    },
    {
     "name": "stdout",
     "output_type": "stream",
     "text": [
      "Dataset json downloaded and prepared to /root/.cache/huggingface/datasets/json/default-fb38c71641562337/0.0.0/a3e658c4731e59120d44081ac10bf85dc7e1388126b92338344ce9661907f253. Subsequent calls will reuse this data.\n"
     ]
    },
    {
     "data": {
      "application/vnd.jupyter.widget-view+json": {
       "model_id": "83e80af3ed864d038b588217a81c3118",
       "version_major": 2,
       "version_minor": 0
      },
      "text/plain": [
       "  0%|          | 0/1 [00:00<?, ?it/s]"
      ]
     },
     "metadata": {},
     "output_type": "display_data"
    }
   ],
   "source": [
    "ds = load_dataset('json', data_files='tmp.json.gz', streaming=False)"
   ]
  },
  {
   "cell_type": "code",
   "execution_count": 7,
   "metadata": {},
   "outputs": [
    {
     "data": {
      "text/plain": [
       "DatasetDict({\n",
       "    train: Dataset({\n",
       "        features: ['text', 'label'],\n",
       "        num_rows: 2\n",
       "    })\n",
       "})"
      ]
     },
     "execution_count": 7,
     "metadata": {},
     "output_type": "execute_result"
    }
   ],
   "source": [
    "ds"
   ]
  },
  {
   "cell_type": "code",
   "execution_count": 8,
   "metadata": {},
   "outputs": [
    {
     "data": {
      "text/plain": [
       "{'text': 'x', 'label': 1}"
      ]
     },
     "execution_count": 8,
     "metadata": {},
     "output_type": "execute_result"
    }
   ],
   "source": [
    "ds['train'][0]"
   ]
  },
  {
   "cell_type": "code",
   "execution_count": 9,
   "metadata": {},
   "outputs": [
    {
     "data": {
      "text/plain": [
       "{'text': ['x', 'y'], 'label': [1, 0]}"
      ]
     },
     "execution_count": 9,
     "metadata": {},
     "output_type": "execute_result"
    }
   ],
   "source": [
    "ds['train'][:]"
   ]
  },
  {
   "cell_type": "markdown",
   "metadata": {},
   "source": [
    "#### ii. iterable-style dataset"
   ]
  },
  {
   "cell_type": "code",
   "execution_count": 10,
   "metadata": {},
   "outputs": [
    {
     "name": "stderr",
     "output_type": "stream",
     "text": [
      "Using custom data configuration default-fb38c71641562337\n"
     ]
    }
   ],
   "source": [
    "ds = load_dataset('json', data_files='tmp.json.gz', streaming=True)"
   ]
  },
  {
   "cell_type": "code",
   "execution_count": 11,
   "metadata": {},
   "outputs": [
    {
     "name": "stdout",
     "output_type": "stream",
     "text": [
      "{'text': 'x', 'label': 1}\n",
      "{'text': 'y', 'label': 0}\n"
     ]
    }
   ],
   "source": [
    "for i in ds['train']:\n",
    "    print(i)"
   ]
  },
  {
   "cell_type": "markdown",
   "metadata": {},
   "source": [
    "### Load custom datasets .yaml config that contain dvc info into huggingface dataset"
   ]
  },
  {
   "cell_type": "code",
   "execution_count": 1,
   "metadata": {},
   "outputs": [],
   "source": [
    "import yaml \n",
    "import glob \n",
    "import logging \n",
    "logging.getLogger().setLevel(logging.INFO)\n",
    "import dvc.api\n",
    "import pathlib \n",
    "import hashlib\n",
    "import os\n",
    "import json\n",
    "from tqdm import tqdm\n",
    "import gzip\n",
    "from datasets import load_dataset"
   ]
  },
  {
   "cell_type": "code",
   "execution_count": 2,
   "metadata": {},
   "outputs": [],
   "source": [
    "data_source = yaml.safe_load(open('../../datasets/test.yaml', 'r'))"
   ]
  },
  {
   "cell_type": "markdown",
   "metadata": {},
   "source": [
    "##### Note: if you don't want hassle, \"cols\" in data_source should only contain primitive types such as str, int, not list or dict"
   ]
  },
  {
   "cell_type": "code",
   "execution_count": 3,
   "metadata": {},
   "outputs": [
    {
     "data": {
      "text/plain": [
       "{'train': [{'path': 'data/wish_products/Wish_Meta_Val.json',\n",
       "   'repo': 'git@github.com:junwang-wish/query_understanding_data.git',\n",
       "   'rev': None,\n",
       "   'cols': ['text']}],\n",
       " 'val': [{'path': 'data/wish_products/Wish_Meta_Val.json',\n",
       "   'repo': 'git@github.com:junwang-wish/query_understanding_data.git',\n",
       "   'rev': None,\n",
       "   'cols': ['text']}],\n",
       " 'test': [{'path': 'data/wish_products/wish-mturk-labelled-09202022-clean.json',\n",
       "   'repo': 'git@github.com:junwang-wish/query_understanding_data.git',\n",
       "   'rev': None,\n",
       "   'cols': ['text']}]}"
      ]
     },
     "execution_count": 3,
     "metadata": {},
     "output_type": "execute_result"
    }
   ],
   "source": [
    "data_source"
   ]
  },
  {
   "cell_type": "code",
   "execution_count": 4,
   "metadata": {},
   "outputs": [],
   "source": [
    "cache_dir = '.tmp'\n",
    "overwrite_cache = False"
   ]
  },
  {
   "cell_type": "code",
   "execution_count": 5,
   "metadata": {},
   "outputs": [],
   "source": [
    "# setup cache folder\n",
    "data_hash = hashlib.md5(\n",
    "    json.dumps(data_source).encode('utf-8')\n",
    ").hexdigest()\n",
    "cache_dir_folder = os.path.join(cache_dir, \n",
    "    data_hash)\n",
    "pathlib.Path(cache_dir_folder).mkdir(parents=True, exist_ok=True)"
   ]
  },
  {
   "cell_type": "code",
   "execution_count": 6,
   "metadata": {},
   "outputs": [
    {
     "data": {
      "text/plain": [
       "'.tmp/9858c132a96d50d4f57e377afe5798f6'"
      ]
     },
     "execution_count": 6,
     "metadata": {},
     "output_type": "execute_result"
    }
   ],
   "source": [
    "cache_dir_folder"
   ]
  },
  {
   "cell_type": "code",
   "execution_count": 7,
   "metadata": {},
   "outputs": [
    {
     "name": "stderr",
     "output_type": "stream",
     "text": [
      "INFO:root:Write train.json.gz to .tmp/9858c132a96d50d4f57e377afe5798f6\n",
      "INFO:asyncssh:Opening SSH connection to github.com, port 22\n",
      "INFO:asyncssh:[conn=0] Connected to SSH server at github.com, port 22\n",
      "INFO:asyncssh:[conn=0]   Local address: 192.168.0.3, port 54862\n",
      "INFO:asyncssh:[conn=0]   Peer address: 140.82.112.4, port 22\n",
      "INFO:asyncssh:[conn=0] Beginning auth for user git\n",
      "INFO:asyncssh:[conn=0] Auth for user git succeeded\n",
      "INFO:asyncssh:[conn=0, chan=0] Requesting new SSH session\n",
      "INFO:asyncssh:[conn=0, chan=0]   Command: git-upload-pack 'junwang-wish/query_understanding_data.git'\n",
      "INFO:asyncssh:[conn=0, chan=0] Received exit status 0\n",
      "INFO:asyncssh:[conn=0, chan=0] Received channel close\n",
      "INFO:asyncssh:[conn=0, chan=0] Channel closed\n",
      "INFO:asyncssh:[conn=0] Closing connection\n",
      "INFO:asyncssh:[conn=0] Sending disconnect: Disconnected by application (11)\n",
      "INFO:asyncssh:[conn=0] Connection closed\n",
      "INFO:asyncssh:Opening SSH connection to github.com, port 22\n",
      "INFO:asyncssh:[conn=1] Connected to SSH server at github.com, port 22\n",
      "INFO:asyncssh:[conn=1]   Local address: 192.168.0.3, port 49378\n",
      "INFO:asyncssh:[conn=1]   Peer address: 140.82.112.3, port 22\n",
      "INFO:asyncssh:[conn=1] Beginning auth for user git\n",
      "INFO:asyncssh:[conn=1] Auth for user git succeeded\n",
      "INFO:asyncssh:[conn=1, chan=0] Requesting new SSH session\n",
      "INFO:asyncssh:[conn=1, chan=0]   Command: git-upload-pack 'junwang-wish/query_understanding_data.git'\n",
      "INFO:asyncssh:[conn=1] Closing connection\n",
      "INFO:asyncssh:[conn=1, chan=0] Closing channel\n",
      "INFO:asyncssh:[conn=1] Sending disconnect: Disconnected by application (11)\n",
      "INFO:asyncssh:[conn=1] Connection closed\n",
      "INFO:asyncssh:[conn=1, chan=0] Closing channel due to connection close\n",
      "INFO:asyncssh:[conn=1, chan=0] Channel closed\n",
      "INFO:asyncssh:Opening SSH connection to github.com, port 22\n",
      "INFO:asyncssh:[conn=2] Connected to SSH server at github.com, port 22\n",
      "INFO:asyncssh:[conn=2]   Local address: 192.168.0.3, port 49380\n",
      "INFO:asyncssh:[conn=2]   Peer address: 140.82.112.3, port 22\n",
      "INFO:asyncssh:[conn=2] Beginning auth for user git\n",
      "INFO:asyncssh:[conn=2] Auth for user git succeeded\n",
      "INFO:asyncssh:[conn=2, chan=0] Requesting new SSH session\n",
      "INFO:asyncssh:[conn=2, chan=0]   Command: git-upload-pack 'junwang-wish/query_understanding_data.git'\n",
      "INFO:asyncssh:[conn=2] Closing connection\n",
      "INFO:asyncssh:[conn=2, chan=0] Closing channel\n",
      "INFO:asyncssh:[conn=2] Sending disconnect: Disconnected by application (11)\n",
      "INFO:asyncssh:[conn=2] Connection closed\n",
      "INFO:asyncssh:[conn=2, chan=0] Closing channel due to connection close\n",
      "INFO:asyncssh:[conn=2, chan=0] Channel closed\n",
      "INFO:aiobotocore.credentials:Found credentials in environment variables.\n",
      "102471it [00:06, 14848.45it/s]\n",
      "INFO:root:Write val.json.gz to .tmp/9858c132a96d50d4f57e377afe5798f6\n",
      "INFO:asyncssh:Opening SSH connection to github.com, port 22\n",
      "INFO:asyncssh:[conn=3] Connected to SSH server at github.com, port 22\n",
      "INFO:asyncssh:[conn=3]   Local address: 192.168.0.3, port 54888\n",
      "INFO:asyncssh:[conn=3]   Peer address: 140.82.112.4, port 22\n",
      "INFO:asyncssh:[conn=3] Beginning auth for user git\n",
      "INFO:asyncssh:[conn=3] Auth for user git succeeded\n",
      "INFO:asyncssh:[conn=3, chan=0] Requesting new SSH session\n",
      "INFO:asyncssh:[conn=3, chan=0]   Command: git-upload-pack '/junwang-wish/query_understanding_data.git'\n",
      "INFO:asyncssh:[conn=3] Closing connection\n",
      "INFO:asyncssh:[conn=3, chan=0] Closing channel\n",
      "INFO:asyncssh:[conn=3] Sending disconnect: Disconnected by application (11)\n",
      "INFO:asyncssh:[conn=3] Connection closed\n",
      "INFO:asyncssh:[conn=3, chan=0] Closing channel due to connection close\n",
      "INFO:asyncssh:[conn=3, chan=0] Channel closed\n",
      "INFO:asyncssh:Opening SSH connection to github.com, port 22\n",
      "INFO:asyncssh:[conn=4] Connected to SSH server at github.com, port 22\n",
      "INFO:asyncssh:[conn=4]   Local address: 192.168.0.3, port 60004\n",
      "INFO:asyncssh:[conn=4]   Peer address: 140.82.114.4, port 22\n",
      "INFO:asyncssh:[conn=4] Beginning auth for user git\n",
      "INFO:asyncssh:[conn=4] Auth for user git succeeded\n",
      "INFO:asyncssh:[conn=4, chan=0] Requesting new SSH session\n",
      "INFO:asyncssh:[conn=4, chan=0]   Command: git-upload-pack '/junwang-wish/query_understanding_data.git'\n",
      "INFO:asyncssh:[conn=4] Closing connection\n",
      "INFO:asyncssh:[conn=4, chan=0] Closing channel\n",
      "INFO:asyncssh:[conn=4] Sending disconnect: Disconnected by application (11)\n",
      "INFO:asyncssh:[conn=4] Connection closed\n",
      "INFO:asyncssh:[conn=4, chan=0] Closing channel due to connection close\n",
      "INFO:asyncssh:[conn=4, chan=0] Channel closed\n",
      "INFO:asyncssh:Opening SSH connection to github.com, port 22\n",
      "INFO:asyncssh:[conn=5] Connected to SSH server at github.com, port 22\n",
      "INFO:asyncssh:[conn=5]   Local address: 192.168.0.3, port 60008\n",
      "INFO:asyncssh:[conn=5]   Peer address: 140.82.114.4, port 22\n",
      "INFO:asyncssh:[conn=5] Beginning auth for user git\n",
      "INFO:asyncssh:[conn=5] Auth for user git succeeded\n",
      "INFO:asyncssh:[conn=5, chan=0] Requesting new SSH session\n",
      "INFO:asyncssh:[conn=5, chan=0]   Command: git-upload-pack '/junwang-wish/query_understanding_data.git'\n",
      "INFO:asyncssh:[conn=5] Closing connection\n",
      "INFO:asyncssh:[conn=5, chan=0] Closing channel\n",
      "INFO:asyncssh:[conn=5] Sending disconnect: Disconnected by application (11)\n",
      "INFO:asyncssh:[conn=5] Connection closed\n",
      "INFO:asyncssh:[conn=5, chan=0] Closing channel due to connection close\n",
      "INFO:asyncssh:[conn=5, chan=0] Channel closed\n",
      "INFO:aiobotocore.credentials:Found credentials in environment variables.\n",
      "102471it [00:15, 6570.47it/s] \n",
      "INFO:root:Write test.json.gz to .tmp/9858c132a96d50d4f57e377afe5798f6\n",
      "INFO:asyncssh:Opening SSH connection to github.com, port 22\n",
      "INFO:asyncssh:[conn=6] Connected to SSH server at github.com, port 22\n",
      "INFO:asyncssh:[conn=6]   Local address: 192.168.0.3, port 51582\n",
      "INFO:asyncssh:[conn=6]   Peer address: 140.82.113.3, port 22\n",
      "INFO:asyncssh:[conn=6] Beginning auth for user git\n",
      "INFO:asyncssh:[conn=6] Auth for user git succeeded\n",
      "INFO:asyncssh:[conn=6, chan=0] Requesting new SSH session\n",
      "INFO:asyncssh:[conn=6, chan=0]   Command: git-upload-pack '/junwang-wish/query_understanding_data.git'\n",
      "INFO:asyncssh:[conn=6] Closing connection\n",
      "INFO:asyncssh:[conn=6, chan=0] Closing channel\n",
      "INFO:asyncssh:[conn=6] Sending disconnect: Disconnected by application (11)\n",
      "INFO:asyncssh:[conn=6] Connection closed\n",
      "INFO:asyncssh:[conn=6, chan=0] Closing channel due to connection close\n",
      "INFO:asyncssh:[conn=6, chan=0] Channel closed\n",
      "INFO:asyncssh:Opening SSH connection to github.com, port 22\n",
      "INFO:asyncssh:[conn=7] Connected to SSH server at github.com, port 22\n",
      "INFO:asyncssh:[conn=7]   Local address: 192.168.0.3, port 54924\n",
      "INFO:asyncssh:[conn=7]   Peer address: 140.82.112.4, port 22\n",
      "INFO:asyncssh:[conn=7] Beginning auth for user git\n",
      "INFO:asyncssh:[conn=7] Auth for user git succeeded\n",
      "INFO:asyncssh:[conn=7, chan=0] Requesting new SSH session\n",
      "INFO:asyncssh:[conn=7, chan=0]   Command: git-upload-pack '/junwang-wish/query_understanding_data.git'\n",
      "INFO:asyncssh:[conn=7] Closing connection\n",
      "INFO:asyncssh:[conn=7, chan=0] Closing channel\n",
      "INFO:asyncssh:[conn=7] Sending disconnect: Disconnected by application (11)\n",
      "INFO:asyncssh:[conn=7] Connection closed\n",
      "INFO:asyncssh:[conn=7, chan=0] Closing channel due to connection close\n",
      "INFO:asyncssh:[conn=7, chan=0] Channel closed\n",
      "INFO:asyncssh:Opening SSH connection to github.com, port 22\n",
      "INFO:asyncssh:[conn=8] Connected to SSH server at github.com, port 22\n",
      "INFO:asyncssh:[conn=8]   Local address: 192.168.0.3, port 60042\n",
      "INFO:asyncssh:[conn=8]   Peer address: 140.82.114.4, port 22\n",
      "INFO:asyncssh:[conn=8] Beginning auth for user git\n",
      "INFO:asyncssh:[conn=8] Auth for user git succeeded\n",
      "INFO:asyncssh:[conn=8, chan=0] Requesting new SSH session\n",
      "INFO:asyncssh:[conn=8, chan=0]   Command: git-upload-pack '/junwang-wish/query_understanding_data.git'\n",
      "INFO:asyncssh:[conn=8] Closing connection\n",
      "INFO:asyncssh:[conn=8, chan=0] Closing channel\n",
      "INFO:asyncssh:[conn=8] Sending disconnect: Disconnected by application (11)\n",
      "INFO:asyncssh:[conn=8] Connection closed\n",
      "INFO:asyncssh:[conn=8, chan=0] Closing channel due to connection close\n",
      "INFO:asyncssh:[conn=8, chan=0] Channel closed\n",
      "INFO:aiobotocore.credentials:Found credentials in environment variables.\n",
      "6401it [00:00, 7815.74it/s]\n"
     ]
    }
   ],
   "source": [
    "existing_files = glob.glob(cache_dir_folder + '/*.json.gz')\n",
    "if len(existing_files) == 0 or overwrite_cache:\n",
    "    data_dict = data_source\n",
    "    for stage in data_dict:\n",
    "        if stage in ['train', 'val', 'test']:\n",
    "            logging.info(f\"Write {stage}.json.gz to {cache_dir_folder}\")\n",
    "            with gzip.open(os.path.join(\n",
    "                        cache_dir_folder, \n",
    "                        f'{stage}.json.gz'), 'w'\n",
    "                    ) as fout:\n",
    "                for file_dict in data_dict[stage]:\n",
    "                    with dvc.api.open(\n",
    "                        path=file_dict['path'],\n",
    "                        repo=file_dict['repo'],\n",
    "                        rev=file_dict['rev']\n",
    "                    ) as f:\n",
    "                        for l in tqdm(f):\n",
    "                            dat = json.loads(l)\n",
    "                            fout.write(\n",
    "                                (json.dumps(\n",
    "                                    {k: dat[k] for k in file_dict['cols'] if k in dat}\n",
    "                                ) + '\\n').encode('utf-8')\n",
    "                            )\n",
    "else:\n",
    "    logging.info(f\"Use cache stored in {cache_dir_folder}\")"
   ]
  },
  {
   "cell_type": "code",
   "execution_count": 8,
   "metadata": {},
   "outputs": [
    {
     "name": "stderr",
     "output_type": "stream",
     "text": [
      "WARNING:datasets.builder:Using custom data configuration default-62e3ee0ddcaf453c\n"
     ]
    },
    {
     "name": "stdout",
     "output_type": "stream",
     "text": [
      "Downloading and preparing dataset json/default to /data/junwang/.cache/huggingface/datasets/json/default-62e3ee0ddcaf453c/0.0.0/e6070c77f18f01a5ad4551a8b7edfba20b8438b7cad4d94e6ad9378022ce4aab...\n"
     ]
    },
    {
     "data": {
      "application/vnd.jupyter.widget-view+json": {
       "model_id": "bdb90ba9d1b14513a12659c189718676",
       "version_major": 2,
       "version_minor": 0
      },
      "text/plain": [
       "Downloading data files:   0%|          | 0/3 [00:00<?, ?it/s]"
      ]
     },
     "metadata": {},
     "output_type": "display_data"
    },
    {
     "data": {
      "application/vnd.jupyter.widget-view+json": {
       "model_id": "4496a2492dec427e8ac117cc4216b24a",
       "version_major": 2,
       "version_minor": 0
      },
      "text/plain": [
       "Extracting data files:   0%|          | 0/3 [00:00<?, ?it/s]"
      ]
     },
     "metadata": {},
     "output_type": "display_data"
    },
    {
     "data": {
      "application/vnd.jupyter.widget-view+json": {
       "model_id": "e4a704f5495d4e559d48e821ca13b750",
       "version_major": 2,
       "version_minor": 0
      },
      "text/plain": [
       "0 tables [00:00, ? tables/s]"
      ]
     },
     "metadata": {},
     "output_type": "display_data"
    },
    {
     "data": {
      "application/vnd.jupyter.widget-view+json": {
       "model_id": "7c78b25c405d4c91b572107bc044821c",
       "version_major": 2,
       "version_minor": 0
      },
      "text/plain": [
       "0 tables [00:00, ? tables/s]"
      ]
     },
     "metadata": {},
     "output_type": "display_data"
    },
    {
     "data": {
      "application/vnd.jupyter.widget-view+json": {
       "model_id": "fc7b32c6632947fa86a29aa31c9df49c",
       "version_major": 2,
       "version_minor": 0
      },
      "text/plain": [
       "0 tables [00:00, ? tables/s]"
      ]
     },
     "metadata": {},
     "output_type": "display_data"
    },
    {
     "name": "stdout",
     "output_type": "stream",
     "text": [
      "Dataset json downloaded and prepared to /data/junwang/.cache/huggingface/datasets/json/default-62e3ee0ddcaf453c/0.0.0/e6070c77f18f01a5ad4551a8b7edfba20b8438b7cad4d94e6ad9378022ce4aab. Subsequent calls will reuse this data.\n"
     ]
    },
    {
     "data": {
      "application/vnd.jupyter.widget-view+json": {
       "model_id": "1bc288a542b14ab7ad440d94a1db8ad7",
       "version_major": 2,
       "version_minor": 0
      },
      "text/plain": [
       "  0%|          | 0/3 [00:00<?, ?it/s]"
      ]
     },
     "metadata": {},
     "output_type": "display_data"
    }
   ],
   "source": [
    "ds = load_dataset('json', data_files={\n",
    "    stage: os.path.join(cache_dir_folder, f'{stage}.json.gz') for stage in data_dict\n",
    "})"
   ]
  },
  {
   "cell_type": "code",
   "execution_count": 9,
   "metadata": {},
   "outputs": [
    {
     "data": {
      "text/plain": [
       "DatasetDict({\n",
       "    train: Dataset({\n",
       "        features: ['text'],\n",
       "        num_rows: 102471\n",
       "    })\n",
       "    val: Dataset({\n",
       "        features: ['text'],\n",
       "        num_rows: 102471\n",
       "    })\n",
       "    test: Dataset({\n",
       "        features: ['text'],\n",
       "        num_rows: 6401\n",
       "    })\n",
       "})"
      ]
     },
     "execution_count": 9,
     "metadata": {},
     "output_type": "execute_result"
    }
   ],
   "source": [
    "ds"
   ]
  },
  {
   "cell_type": "code",
   "execution_count": 10,
   "metadata": {},
   "outputs": [
    {
     "data": {
      "text/plain": [
       "{'text': ['Upgrade Pets Safety Waterproof Dog Car Mats Hammock Protector Rear Back Pet Dog Car  Cover -> [home & garden][pet products][dog doors, houses, & furniture][dog beds & mats]',\n",
       "  'Turquoise Howlite Lapis Lazuli Earrings Gold Geometric Gemstone Boho Earrings Blue Statement Chendelier Earrings -> [jewelry & accessories][fine jewelry][earrings]',\n",
       "  \"Funny Mens T-shirt I Have A Crazy Wife t-shirt Birthday Gift For Husband Christmas Gifts For Husband -> [men's clothing][tops & tees][t-shirts]\",\n",
       "  'Travel Laptop Backpack Water Resistant Business College Print Pig Florals Farm Computer Bag For Men Women -> [computer & office][laptop accessories][laptop bags & cases]',\n",
       "  \"New Women Fashion Double-Layer Divided Skirt Sports Shorts Quick-Drying Yoga Sports Leggings Fitness Shorts -> [women's clothing][activewear & loungewear][skirts]\",\n",
       "  \"Men Pants Cotton Linen Vintage Solid Wide Leg Loose Casual Comfy Trousers -> [men's clothing][pants][casual pants]\",\n",
       "  \"Men's Vintage Nordic Viking Hammer Pendant 316L Stainless Steel Thor's Hammer Mjolnir Pendant Necklace Punk Men's Viking Amulet Necklace Best Men's Gift -> [jewelry & accessories][necklaces & pendants][pendant necklaces]\",\n",
       "  'Buena Vista Home Entertainment Up (DVD, 2009) -> [consumer electronics][home audio & video][dvd & vcd player]',\n",
       "  'Removable Water Accumulator Tank Water Pump Supply Marine RV Boat Water System Accessory Easy to Install CAX -> [automobiles & motorcycles][atv,rv,boat & other vehicle][boat parts & accessories][marine hardware]',\n",
       "  \"Women's Autumn Winter Bamboo Fiber Soft Gold Leaf Loose Socks -> [women's clothing][underwear & sleepwear][women's socks & hosiery][socks]\"]}"
      ]
     },
     "execution_count": 10,
     "metadata": {},
     "output_type": "execute_result"
    }
   ],
   "source": [
    "ds['test'][:10]"
   ]
  },
  {
   "cell_type": "code",
   "execution_count": 11,
   "metadata": {},
   "outputs": [
    {
     "name": "stderr",
     "output_type": "stream",
     "text": [
      "WARNING:datasets.builder:Using custom data configuration default-62e3ee0ddcaf453c\n",
      "WARNING:datasets.builder:Found cached dataset json (/data/junwang/.cache/huggingface/datasets/json/default-62e3ee0ddcaf453c/0.0.0/e6070c77f18f01a5ad4551a8b7edfba20b8438b7cad4d94e6ad9378022ce4aab)\n"
     ]
    }
   ],
   "source": [
    "ds_test = load_dataset('json', data_files={\n",
    "    stage: os.path.join(cache_dir_folder, f'{stage}.json.gz') for stage in data_dict\n",
    "}, split='test')"
   ]
  },
  {
   "cell_type": "code",
   "execution_count": 12,
   "metadata": {},
   "outputs": [
    {
     "data": {
      "text/plain": [
       "Dataset({\n",
       "    features: ['text'],\n",
       "    num_rows: 6401\n",
       "})"
      ]
     },
     "execution_count": 12,
     "metadata": {},
     "output_type": "execute_result"
    }
   ],
   "source": [
    "ds_test"
   ]
  },
  {
   "cell_type": "markdown",
   "metadata": {},
   "source": [
    "### cleanup notebook generated temp files"
   ]
  },
  {
   "cell_type": "code",
   "execution_count": 13,
   "metadata": {},
   "outputs": [
    {
     "data": {
      "text/plain": [
       "0"
      ]
     },
     "execution_count": 13,
     "metadata": {},
     "output_type": "execute_result"
    }
   ],
   "source": [
    "os.system('rm -rf tmp*')\n",
    "os.system('rm -rf .tmp')"
   ]
  },
  {
   "cell_type": "code",
   "execution_count": null,
   "metadata": {},
   "outputs": [],
   "source": []
  }
 ],
 "metadata": {
  "kernelspec": {
   "display_name": "Python 3.8.13 ('py38')",
   "language": "python",
   "name": "python3"
  },
  "language_info": {
   "codemirror_mode": {
    "name": "ipython",
    "version": 3
   },
   "file_extension": ".py",
   "mimetype": "text/x-python",
   "name": "python",
   "nbconvert_exporter": "python",
   "pygments_lexer": "ipython3",
   "version": "3.8.13"
  },
  "orig_nbformat": 4,
  "vscode": {
   "interpreter": {
    "hash": "3ea19d11efa7602c1f12500925a974ed4f31fcf847bd6f694bd5180da2602ded"
   }
  }
 },
 "nbformat": 4,
 "nbformat_minor": 2
}
