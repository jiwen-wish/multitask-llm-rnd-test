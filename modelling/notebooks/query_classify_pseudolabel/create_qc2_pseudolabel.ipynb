{
 "cells": [
  {
   "cell_type": "code",
   "execution_count": null,
   "metadata": {},
   "outputs": [],
   "source": [
    "## command to run to infer 12M queries\n",
    "\n",
    "# python main_inference_multimodal.py \\\n",
    "#         --model=LLM_Inference_Multimodal \\\n",
    "#         --model.llm_type=\"clm\" \\\n",
    "#         --model.output_scores=true \\\n",
    "#         --model.ckpt_path=\"models/multitask_multimodal_multilingual/version_9/epoch=1-step=2600.ckpt\" \\\n",
    "#         --model.config_path=\"models/multitask_multimodal_multilingual/version_9/config.yaml\" \\\n",
    "#         --model.task=\"clm_singlemodal_wishquery2tax\" \\\n",
    "#         --model.allowed_gen_sequences=\"datasets/taxonomy/wish_v1.2.1_newtax_allpaths.txt\" \\\n",
    "#         --model.num_beams=3 \\\n",
    "#         --model.num_return_sequences=3 \\\n",
    "#         --model.length_penalty=0 \\\n",
    "#         --model.do_sample=false \\\n",
    "#         --model.max_new_tokens=50 \\\n",
    "#         --model.output_dir=\"models/multitask_multimodal_multilingual/version_9\" \\\n",
    "#         --model.write_interval=\"batch\" \\\n",
    "#         --data=JSONListData \\\n",
    "#         --data.llm_type=\"clm\" \\\n",
    "#         --data.data_source_yaml_path=\"datasets/multimodal_multitask/wish_3yr_queries_12M_headtail_sample.yaml\" \\\n",
    "#         --data.input_dict=\"{'template': '{query}', 'task_prefix': 'Generate taxonomy for query: '}\" \\\n",
    "#         --data.output_dict=\"{'template': '{query}'}\" \\\n",
    "#         --data.data_source_type=\"dvc\" \\\n",
    "#         --data.model_name=\"google/mt5-base\" \\\n",
    "#         --data.batch_size=50 \\\n",
    "#         --data.max_length=50 \\\n",
    "#         --data.num_workers=0 \\\n",
    "#         --data.max_length_out=50 \\\n",
    "#         --data.predict_on_test=true \\\n",
    "#         --trainer.logger=false \\\n",
    "#         --trainer.enable_checkpointing=false \\\n",
    "#         --trainer.accelerator gpu \\\n",
    "#         --trainer.strategy ddp"
   ]
  },
  {
   "cell_type": "code",
   "execution_count": 1,
   "metadata": {},
   "outputs": [],
   "source": [
    "import pandas as pd\n",
    "import dvc.api"
   ]
  },
  {
   "cell_type": "code",
   "execution_count": 2,
   "metadata": {},
   "outputs": [],
   "source": [
    "df = pd.read_json('../../models/multitask_multimodal_multilingual/version_9/clm-epoch=1-step=2600--wish_3yr_queries_12M_headtail_sample--test.json', \n",
    "    lines=True)"
   ]
  },
  {
   "cell_type": "code",
   "execution_count": 5,
   "metadata": {},
   "outputs": [],
   "source": [
    "df_query = pd.read_json(dvc.api.get_url(\n",
    "    'datasets/data/query/wish_queries_with_timestamp_3yr_all_sample_12M_headtail.json',\n",
    "    repo='git@github.com:ContextLogic/multitask-llm-rnd.git'\n",
    "), lines=True)"
   ]
  },
  {
   "cell_type": "code",
   "execution_count": 14,
   "metadata": {},
   "outputs": [
    {
     "data": {
      "text/html": [
       "<div>\n",
       "<style scoped>\n",
       "    .dataframe tbody tr th:only-of-type {\n",
       "        vertical-align: middle;\n",
       "    }\n",
       "\n",
       "    .dataframe tbody tr th {\n",
       "        vertical-align: top;\n",
       "    }\n",
       "\n",
       "    .dataframe thead th {\n",
       "        text-align: right;\n",
       "    }\n",
       "</style>\n",
       "<table border=\"1\" class=\"dataframe\">\n",
       "  <thead>\n",
       "    <tr style=\"text-align: right;\">\n",
       "      <th></th>\n",
       "      <th>query</th>\n",
       "      <th>min_timestamp</th>\n",
       "      <th>max_timestamp</th>\n",
       "      <th>min_dt</th>\n",
       "      <th>max_dt</th>\n",
       "      <th>cnt</th>\n",
       "      <th>gmv</th>\n",
       "      <th>sample_method</th>\n",
       "      <th>label_ordering</th>\n",
       "    </tr>\n",
       "  </thead>\n",
       "  <tbody>\n",
       "    <tr>\n",
       "      <th>0</th>\n",
       "      <td>digital measurement tape</td>\n",
       "      <td>1577816493</td>\n",
       "      <td>1667154019</td>\n",
       "      <td>2020-01-01</td>\n",
       "      <td>2022-10-31</td>\n",
       "      <td>298</td>\n",
       "      <td>0.000000</td>\n",
       "      <td>head</td>\n",
       "      <td>0</td>\n",
       "    </tr>\n",
       "    <tr>\n",
       "      <th>1</th>\n",
       "      <td>máquina singer</td>\n",
       "      <td>1578798301</td>\n",
       "      <td>1669681981</td>\n",
       "      <td>2020-01-12</td>\n",
       "      <td>2022-11-29</td>\n",
       "      <td>629</td>\n",
       "      <td>23.688904</td>\n",
       "      <td>head</td>\n",
       "      <td>1</td>\n",
       "    </tr>\n",
       "    <tr>\n",
       "      <th>2</th>\n",
       "      <td>mens summer tee</td>\n",
       "      <td>1588359626</td>\n",
       "      <td>1641584512</td>\n",
       "      <td>2020-05-02</td>\n",
       "      <td>2022-01-08</td>\n",
       "      <td>25</td>\n",
       "      <td>0.000000</td>\n",
       "      <td>uniform</td>\n",
       "      <td>2</td>\n",
       "    </tr>\n",
       "    <tr>\n",
       "      <th>3</th>\n",
       "      <td>5d81ea40f8ebae3f8645fb92</td>\n",
       "      <td>1591962614</td>\n",
       "      <td>1594600431</td>\n",
       "      <td>2020-06-13</td>\n",
       "      <td>2020-07-13</td>\n",
       "      <td>140</td>\n",
       "      <td>0.000000</td>\n",
       "      <td>head</td>\n",
       "      <td>3</td>\n",
       "    </tr>\n",
       "    <tr>\n",
       "      <th>4</th>\n",
       "      <td>strass emblemen</td>\n",
       "      <td>1581023561</td>\n",
       "      <td>1581023561</td>\n",
       "      <td>2020-02-07</td>\n",
       "      <td>2020-02-07</td>\n",
       "      <td>1</td>\n",
       "      <td>0.000000</td>\n",
       "      <td>uniform</td>\n",
       "      <td>4</td>\n",
       "    </tr>\n",
       "    <tr>\n",
       "      <th>...</th>\n",
       "      <td>...</td>\n",
       "      <td>...</td>\n",
       "      <td>...</td>\n",
       "      <td>...</td>\n",
       "      <td>...</td>\n",
       "      <td>...</td>\n",
       "      <td>...</td>\n",
       "      <td>...</td>\n",
       "      <td>...</td>\n",
       "    </tr>\n",
       "    <tr>\n",
       "      <th>11939641</th>\n",
       "      <td>steine kleben</td>\n",
       "      <td>1578396273</td>\n",
       "      <td>1666631606</td>\n",
       "      <td>2020-01-08</td>\n",
       "      <td>2022-10-25</td>\n",
       "      <td>163</td>\n",
       "      <td>0.000000</td>\n",
       "      <td>head</td>\n",
       "      <td>11939641</td>\n",
       "    </tr>\n",
       "    <tr>\n",
       "      <th>11939642</th>\n",
       "      <td>wigs human hair for black women</td>\n",
       "      <td>1577902600</td>\n",
       "      <td>1669783688</td>\n",
       "      <td>2020-01-02</td>\n",
       "      <td>2022-11-30</td>\n",
       "      <td>34965</td>\n",
       "      <td>2826.243652</td>\n",
       "      <td>head</td>\n",
       "      <td>11939642</td>\n",
       "    </tr>\n",
       "    <tr>\n",
       "      <th>11939643</th>\n",
       "      <td>robe danse tangongo</td>\n",
       "      <td>1625602413</td>\n",
       "      <td>1625602413</td>\n",
       "      <td>2021-07-07</td>\n",
       "      <td>2021-07-07</td>\n",
       "      <td>1</td>\n",
       "      <td>0.000000</td>\n",
       "      <td>uniform</td>\n",
       "      <td>11939643</td>\n",
       "    </tr>\n",
       "    <tr>\n",
       "      <th>11939644</th>\n",
       "      <td>センターキャップ 54mm</td>\n",
       "      <td>1584866218</td>\n",
       "      <td>1669381685</td>\n",
       "      <td>2020-03-23</td>\n",
       "      <td>2022-11-26</td>\n",
       "      <td>1202</td>\n",
       "      <td>59.559296</td>\n",
       "      <td>head</td>\n",
       "      <td>11939644</td>\n",
       "    </tr>\n",
       "    <tr>\n",
       "      <th>11939645</th>\n",
       "      <td>緑 財布</td>\n",
       "      <td>1577955280</td>\n",
       "      <td>1667087090</td>\n",
       "      <td>2020-01-03</td>\n",
       "      <td>2022-10-30</td>\n",
       "      <td>250</td>\n",
       "      <td>3.117316</td>\n",
       "      <td>head</td>\n",
       "      <td>11939645</td>\n",
       "    </tr>\n",
       "  </tbody>\n",
       "</table>\n",
       "<p>11939646 rows × 9 columns</p>\n",
       "</div>"
      ],
      "text/plain": [
       "                                    query  min_timestamp  max_timestamp  \\\n",
       "0                digital measurement tape     1577816493     1667154019   \n",
       "1                          máquina singer     1578798301     1669681981   \n",
       "2                         mens summer tee     1588359626     1641584512   \n",
       "3                5d81ea40f8ebae3f8645fb92     1591962614     1594600431   \n",
       "4                         strass emblemen     1581023561     1581023561   \n",
       "...                                   ...            ...            ...   \n",
       "11939641                    steine kleben     1578396273     1666631606   \n",
       "11939642  wigs human hair for black women     1577902600     1669783688   \n",
       "11939643              robe danse tangongo     1625602413     1625602413   \n",
       "11939644                    センターキャップ 54mm     1584866218     1669381685   \n",
       "11939645                             緑 財布     1577955280     1667087090   \n",
       "\n",
       "              min_dt      max_dt    cnt          gmv sample_method  \\\n",
       "0         2020-01-01  2022-10-31    298     0.000000          head   \n",
       "1         2020-01-12  2022-11-29    629    23.688904          head   \n",
       "2         2020-05-02  2022-01-08     25     0.000000       uniform   \n",
       "3         2020-06-13  2020-07-13    140     0.000000          head   \n",
       "4         2020-02-07  2020-02-07      1     0.000000       uniform   \n",
       "...              ...         ...    ...          ...           ...   \n",
       "11939641  2020-01-08  2022-10-25    163     0.000000          head   \n",
       "11939642  2020-01-02  2022-11-30  34965  2826.243652          head   \n",
       "11939643  2021-07-07  2021-07-07      1     0.000000       uniform   \n",
       "11939644  2020-03-23  2022-11-26   1202    59.559296          head   \n",
       "11939645  2020-01-03  2022-10-30    250     3.117316          head   \n",
       "\n",
       "          label_ordering  \n",
       "0                      0  \n",
       "1                      1  \n",
       "2                      2  \n",
       "3                      3  \n",
       "4                      4  \n",
       "...                  ...  \n",
       "11939641        11939641  \n",
       "11939642        11939642  \n",
       "11939643        11939643  \n",
       "11939644        11939644  \n",
       "11939645        11939645  \n",
       "\n",
       "[11939646 rows x 9 columns]"
      ]
     },
     "execution_count": 14,
     "metadata": {},
     "output_type": "execute_result"
    }
   ],
   "source": [
    "df_query"
   ]
  },
  {
   "cell_type": "code",
   "execution_count": 15,
   "metadata": {},
   "outputs": [],
   "source": [
    "df_merge = df.rename(columns={'batch_indices': 'label_ordering'}).merge(df_query, on='label_ordering', how='inner')"
   ]
  },
  {
   "cell_type": "code",
   "execution_count": 17,
   "metadata": {},
   "outputs": [
    {
     "data": {
      "text/plain": [
       "<AxesSubplot: ylabel='Frequency'>"
      ]
     },
     "execution_count": 17,
     "metadata": {},
     "output_type": "execute_result"
    },
    {
     "data": {
      "image/png": "[encoded data removed]",
      "text/plain": [
       "<Figure size 640x480 with 1 Axes>"
      ]
     },
     "metadata": {},
     "output_type": "display_data"
    }
   ],
   "source": [
    "df_merge.prob.plot.hist()"
   ]
  },
  {
   "cell_type": "code",
   "execution_count": 25,
   "metadata": {},
   "outputs": [],
   "source": [
    "df_merge = df_merge[df_merge.prob > .05]"
   ]
  },
  {
   "cell_type": "code",
   "execution_count": 30,
   "metadata": {},
   "outputs": [],
   "source": [
    "df_tax = pd.read_json(dvc.api.get_url(\n",
    "    'datasets/data/taxonomy/wish_newtax.json',\n",
    "    repo='git@github.com:ContextLogic/multitask-llm-rnd.git'\n",
    "), lines=True)"
   ]
  },
  {
   "cell_type": "code",
   "execution_count": 32,
   "metadata": {},
   "outputs": [],
   "source": [
    "paths = set(df_tax[df_tax.category_path.apply(len) > 0].category_path.apply(lambda x: x.lower().strip()))"
   ]
  },
  {
   "cell_type": "code",
   "execution_count": 33,
   "metadata": {},
   "outputs": [
    {
     "data": {
      "text/plain": [
       "True"
      ]
     },
     "execution_count": 33,
     "metadata": {},
     "output_type": "execute_result"
    }
   ],
   "source": [
    "df_merge.prediction_decoded.apply(lambda x: x in paths).all()"
   ]
  },
  {
   "cell_type": "code",
   "execution_count": 36,
   "metadata": {},
   "outputs": [],
   "source": [
    "queries = sorted(list(set(df_merge['query'])))"
   ]
  },
  {
   "cell_type": "code",
   "execution_count": 35,
   "metadata": {},
   "outputs": [],
   "source": [
    "from sklearn.model_selection import train_test_split"
   ]
  },
  {
   "cell_type": "code",
   "execution_count": 38,
   "metadata": {},
   "outputs": [],
   "source": [
    "train_queries, val_queries = train_test_split(queries, test_size=20000)"
   ]
  },
  {
   "cell_type": "code",
   "execution_count": 40,
   "metadata": {},
   "outputs": [
    {
     "data": {
      "text/plain": [
       "(11603222, 20000)"
      ]
     },
     "execution_count": 40,
     "metadata": {},
     "output_type": "execute_result"
    }
   ],
   "source": [
    "len(train_queries), len(val_queries)"
   ]
  },
  {
   "cell_type": "code",
   "execution_count": 41,
   "metadata": {},
   "outputs": [],
   "source": [
    "assert len(set(train_queries).intersection(val_queries)) == 0"
   ]
  },
  {
   "cell_type": "code",
   "execution_count": 44,
   "metadata": {},
   "outputs": [],
   "source": [
    "df_out = df_merge[['query', 'prediction_decoded']].rename(columns={'prediction_decoded': 'category'})"
   ]
  },
  {
   "cell_type": "code",
   "execution_count": 46,
   "metadata": {},
   "outputs": [
    {
     "data": {
      "text/plain": [
       "[{'query': 'porte clef voiture jeep',\n",
       "  'category': 'automobiles & motorcycles > interior accessories > key case for car'},\n",
       " {'query': 'porte clef voiture jeep',\n",
       "  'category': 'automobiles & motorcycles > interior accessories > key rings'},\n",
       " {'query': 'camera gopro hero 7',\n",
       "  'category': 'consumer electronics > live equipment > action cameras'},\n",
       " {'query': 'camera gopro hero 7',\n",
       "  'category': 'consumer electronics > camera & photo > tripod & accessories > tripods'},\n",
       " {'query': 'camera gopro hero 7',\n",
       "  'category': 'consumer electronics > camera & photo > camera & photo accessories > action video cameras accessories'}]"
      ]
     },
     "execution_count": 46,
     "metadata": {},
     "output_type": "execute_result"
    }
   ],
   "source": [
    "df_out.head(5).to_dict('records')"
   ]
  },
  {
   "cell_type": "code",
   "execution_count": 49,
   "metadata": {},
   "outputs": [],
   "source": [
    "df_out_train = pd.DataFrame({'query': train_queries}).merge(df_out, on='query', how='inner')\n",
    "df_out_val = pd.DataFrame({'query': val_queries}).merge(df_out, on='query', how='inner')"
   ]
  },
  {
   "cell_type": "code",
   "execution_count": 50,
   "metadata": {},
   "outputs": [
    {
     "data": {
      "text/plain": [
       "(29871552, 51558, 0)"
      ]
     },
     "execution_count": 50,
     "metadata": {},
     "output_type": "execute_result"
    }
   ],
   "source": [
    "len(df_out_train), len(df_out_val), len(set(df_out_train['query']).intersection(df_out_val['query']))"
   ]
  },
  {
   "cell_type": "code",
   "execution_count": 52,
   "metadata": {},
   "outputs": [],
   "source": [
    "df_out_train.to_json('wish_queries_with_timestamp_3yr_all_sample_12M_headtail_qcv2_pseudolabel_train.json', orient='records', lines=True)\n",
    "df_out_val.to_json('wish_queries_with_timestamp_3yr_all_sample_12M_headtail_qcv2_pseudolabel_val.json', orient='records', lines=True)"
   ]
  },
  {
   "cell_type": "code",
   "execution_count": null,
   "metadata": {},
   "outputs": [],
   "source": []
  }
 ],
 "metadata": {
  "kernelspec": {
   "display_name": "py38",
   "language": "python",
   "name": "python3"
  },
  "language_info": {
   "codemirror_mode": {
    "name": "ipython",
    "version": 3
   },
   "file_extension": ".py",
   "mimetype": "text/x-python",
   "name": "python",
   "nbconvert_exporter": "python",
   "pygments_lexer": "ipython3",
   "version": "3.8.13"
  },
  "orig_nbformat": 4,
  "vscode": {
   "interpreter": {
    "hash": "3ea19d11efa7602c1f12500925a974ed4f31fcf847bd6f694bd5180da2602ded"
   }
  }
 },
 "nbformat": 4,
 "nbformat_minor": 2
}
