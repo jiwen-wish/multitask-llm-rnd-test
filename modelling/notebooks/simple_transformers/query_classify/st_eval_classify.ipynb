{
 "cells": [
  {
   "cell_type": "code",
   "execution_count": 5,
   "metadata": {},
   "outputs": [],
   "source": [
    "import os"
   ]
  },
  {
   "cell_type": "code",
   "execution_count": 6,
   "metadata": {},
   "outputs": [],
   "source": [
    "os.environ[\"CUDA_VISIBLE_DEVICES\"]=\"1\""
   ]
  },
  {
   "cell_type": "code",
   "execution_count": 7,
   "metadata": {},
   "outputs": [],
   "source": [
    "DEPTH_CONSTRAINT = 5"
   ]
  },
  {
   "cell_type": "code",
   "execution_count": 8,
   "metadata": {},
   "outputs": [],
   "source": [
    "from simpletransformers.classification import (\n",
    "    MultiLabelClassificationModel, MultiLabelClassificationArgs\n",
    ")\n",
    "import pandas as pd\n",
    "import logging\n",
    "import numpy as np\n",
    "\n",
    "\n",
    "\n",
    "transformers_logger = logging.getLogger(\"transformers\")\n",
    "transformers_logger.setLevel(logging.WARNING)\n",
    "\n",
    "# %%\n",
    "import dvc.api\n",
    "\n",
    "df_test = pd.read_json(dvc.api.get_url(\n",
    "    'datasets/data/query_label/processed/Offshore_Labelled_Query_Classification_Test_V2.json',\n",
    "    repo='git@github.com:ContextLogic/multitask-llm-rnd.git'\n",
    "), lines=True)\n",
    "\n",
    "# %%\n",
    "df_tax = pd.read_json(dvc.api.get_url(\n",
    "    'datasets/data/taxonomy/wish_newtax.json',\n",
    "    repo='git@github.com:ContextLogic/multitask-llm-rnd.git'\n",
    "), lines=True)\n",
    "df_tax = df_tax[(df_tax.category_path.apply(len) > 0) & (df_tax.category_path.apply(lambda x: len(x.split(' > ')) <= DEPTH_CONSTRAINT))]\n",
    "\n",
    "# %%\n",
    "LABEL_SET = sorted(df_tax.category_path.str.lower().str.strip().tolist()) + ['unknown']\n",
    "\n",
    "# %%\n",
    "LABEL_NAME_TO_ID = {i: ind for ind, i in enumerate(LABEL_SET)}\n",
    "# %%\n",
    "\n",
    "# %%\n",
    "def categories2labels(cats):\n",
    "    if len(cats) == 0:\n",
    "        cats = ['unknown']\n",
    "    labs = [0] * len(LABEL_NAME_TO_ID)\n",
    "    for c in cats:\n",
    "        labs[LABEL_NAME_TO_ID[c]] = 1\n",
    "    return labs\n"
   ]
  },
  {
   "cell_type": "code",
   "execution_count": 9,
   "metadata": {},
   "outputs": [],
   "source": [
    "model = MultiLabelClassificationModel(\n",
    "    \"xlmroberta\",\n",
    "    \"outputs_stage10/best_model\",\n",
    ")"
   ]
  },
  {
   "cell_type": "code",
   "execution_count": 10,
   "metadata": {},
   "outputs": [],
   "source": [
    "import torch"
   ]
  },
  {
   "cell_type": "code",
   "execution_count": 11,
   "metadata": {},
   "outputs": [],
   "source": [
    "df_test['labels'] = df_test['query_classification_lists'].apply(\n",
    "    lambda x: categories2labels([' > '.join(i.lower().strip().split(' > ')[:DEPTH_CONSTRAINT]) for i in x]))\n",
    "df_test['text'] = df_test['query']"
   ]
  },
  {
   "cell_type": "code",
   "execution_count": 12,
   "metadata": {},
   "outputs": [
    {
     "data": {
      "application/vnd.jupyter.widget-view+json": {
       "model_id": "0b0b984eec2c4a66b2403af40ff56dfd",
       "version_major": 2,
       "version_minor": 0
      },
      "text/plain": [
       "Running Evaluation:   0%|          | 0/1681 [00:00<?, ?it/s]"
      ]
     },
     "metadata": {},
     "output_type": "display_data"
    }
   ],
   "source": [
    "result, model_outputs, wrong_predictions = model.eval_model(\n",
    "    df_test\n",
    ")"
   ]
  },
  {
   "cell_type": "code",
   "execution_count": 13,
   "metadata": {},
   "outputs": [
    {
     "data": {
      "text/plain": [
       "{'LRAP': 0.5478723087276776, 'eval_loss': 0.0016791872885316423}"
      ]
     },
     "execution_count": 13,
     "metadata": {},
     "output_type": "execute_result"
    }
   ],
   "source": [
    "result"
   ]
  },
  {
   "cell_type": "code",
   "execution_count": 14,
   "metadata": {},
   "outputs": [],
   "source": [
    "from sklearn.metrics import classification_report"
   ]
  },
  {
   "cell_type": "code",
   "execution_count": 17,
   "metadata": {},
   "outputs": [],
   "source": [
    "print(classification_report(np.array(df_test['labels'].tolist()), model_outputs>.5, zero_division=0,)[-500:])"
   ]
  },
  {
   "cell_type": "code",
   "execution_count": 27,
   "metadata": {},
   "outputs": [],
   "source": [
    "import pandas as pd"
   ]
  },
  {
   "cell_type": "code",
   "execution_count": 28,
   "metadata": {},
   "outputs": [],
   "source": [
    "df_qcv2 = pd.read_json(\n",
    "    \"../../../models/multitask_multimodal_multilingual/version_9/clm-epoch=1-step=2600--wish_labelled_query_offshore_test_V2--test.json\", \n",
    "    lines=True)"
   ]
  },
  {
   "cell_type": "code",
   "execution_count": 29,
   "metadata": {},
   "outputs": [],
   "source": [
    "df_qcv2 = df_qcv2.sort_values(['batch_indices', 'rank_indices']).groupby('batch_indices').agg({\n",
    "    'prediction_decoded': lambda x: [i for i in x], \n",
    "    'prob': lambda x: [i for i in x]\n",
    "})"
   ]
  },
  {
   "cell_type": "code",
   "execution_count": 30,
   "metadata": {},
   "outputs": [],
   "source": [
    "recs = []\n",
    "for i in df_qcv2.to_dict('records'):\n",
    "    prediction_decoded_confident = []\n",
    "    for pred, prob in zip(i['prediction_decoded'], i['prob']):\n",
    "        if prob >= .05:\n",
    "            prediction_decoded_confident.append(pred)\n",
    "    i['prediction_decoded_confident'] = prediction_decoded_confident\n",
    "    recs.append(i)\n",
    "df_qcv2 = pd.DataFrame(recs)"
   ]
  },
  {
   "cell_type": "code",
   "execution_count": 31,
   "metadata": {},
   "outputs": [],
   "source": [
    "df_qcv2['labels'] = df_qcv2['prediction_decoded_confident'].apply(\n",
    "    lambda x: categories2labels([' > '.join(i.lower().strip().split(' > ')[:DEPTH_CONSTRAINT]) for i in x]))"
   ]
  },
  {
   "cell_type": "code",
   "execution_count": 16,
   "metadata": {},
   "outputs": [],
   "source": [
    "print(classification_report(np.array(df_test['labels'].tolist()), np.array(df_qcv2['labels'].tolist()))[-500:])"
   ]
  },
  {
   "cell_type": "code",
   "execution_count": null,
   "metadata": {},
   "outputs": [],
   "source": []
  }
 ],
 "metadata": {
  "kernelspec": {
   "display_name": "py38",
   "language": "python",
   "name": "python3"
  },
  "language_info": {
   "codemirror_mode": {
    "name": "ipython",
    "version": 3
   },
   "file_extension": ".py",
   "mimetype": "text/x-python",
   "name": "python",
   "nbconvert_exporter": "python",
   "pygments_lexer": "ipython3",
   "version": "3.8.13"
  },
  "orig_nbformat": 4,
  "vscode": {
   "interpreter": {
    "hash": "3ea19d11efa7602c1f12500925a974ed4f31fcf847bd6f694bd5180da2602ded"
   }
  }
 },
 "nbformat": 4,
 "nbformat_minor": 2
}
