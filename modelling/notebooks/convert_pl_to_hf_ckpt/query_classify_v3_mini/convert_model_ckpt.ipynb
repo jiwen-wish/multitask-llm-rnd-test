{
 "cells": [
  {
   "cell_type": "code",
   "execution_count": 1,
   "metadata": {},
   "outputs": [],
   "source": [
    "import sys \n",
    "sys.path.append('../../..')\n",
    "from main_multitask_multimodal import LLM_MultitaskMultimodal"
   ]
  },
  {
   "cell_type": "code",
   "execution_count": 2,
   "metadata": {},
   "outputs": [],
   "source": [
    "import json"
   ]
  },
  {
   "cell_type": "code",
   "execution_count": 3,
   "metadata": {},
   "outputs": [
    {
     "name": "stderr",
     "output_type": "stream",
     "text": [
      "INFO:root:Unused kwargs when getting microsoft/Multilingual-MiniLM-L12-H384: {'distance_func': 'cosine', 'loss_type': 'cross-entropy', 'margin': None, 'hidden_states_type': 'encoder-first', 'add_simcse': False, 'manual_loss_type': 'manual_mse', 'auto_task_weight': False, 'multitask_specs_dict': {'seqclf_singlemodal_wishquery2tax': {'specs': {'clf_head': 'clf_head', 'clf_weight_type': None, 'label_map_file': '/workspaces/multitask-llm-rnd/modelling/datasets/taxonomy/wish_v1.2.1_newtax_allpaths.txt', 'label_type': 'multilabel_taxonomy'}}}, 'head_dict': {'clf_head': {'purpose': 'seqclf', 'type': 'linear', 'in_features': 384, 'out_features': 6037}}}\n"
     ]
    }
   ],
   "source": [
    "model = LLM_MultitaskMultimodal.load_from_checkpoint('../../../models/distill_query_classify/version_6/epoch=2-step=604.ckpt'\n",
    "                                                     ).cuda().eval()"
   ]
  },
  {
   "attachments": {},
   "cell_type": "markdown",
   "metadata": {},
   "source": [
    "# qualitative check"
   ]
  },
  {
   "cell_type": "code",
   "execution_count": 4,
   "metadata": {},
   "outputs": [],
   "source": [
    "inputs = model.tokenizer(\"Classify query: dildo\", return_tensors='pt').to('cuda')"
   ]
  },
  {
   "cell_type": "code",
   "execution_count": 5,
   "metadata": {},
   "outputs": [],
   "source": [
    "probs = model.clf_head(model.get_hidden_states(**inputs)).sigmoid()"
   ]
  },
  {
   "cell_type": "code",
   "execution_count": 6,
   "metadata": {},
   "outputs": [],
   "source": [
    "top_probs, top_preds = probs.topk(10)"
   ]
  },
  {
   "cell_type": "code",
   "execution_count": 7,
   "metadata": {},
   "outputs": [
    {
     "data": {
      "text/plain": [
       "tensor([[1130, 1121, 1146, 1118, 1125, 1139, 1149, 1116, 1140, 1126]],\n",
       "       device='cuda:0')"
      ]
     },
     "execution_count": 7,
     "metadata": {},
     "output_type": "execute_result"
    }
   ],
   "source": [
    "top_preds"
   ]
  },
  {
   "cell_type": "code",
   "execution_count": 8,
   "metadata": {},
   "outputs": [],
   "source": [
    "label_map_file = model.hparams.multitask_specs_dict['seqclf_singlemodal_wishquery2tax']['specs']['label_map_file']"
   ]
  },
  {
   "cell_type": "code",
   "execution_count": 9,
   "metadata": {},
   "outputs": [],
   "source": [
    "label_map = {}\n",
    "with open(label_map_file, 'r') as f:\n",
    "    for l in f:\n",
    "        l = l.replace('\\n', '').strip()\n",
    "        if len(l):\n",
    "            label_map[l] = len(label_map)"
   ]
  },
  {
   "cell_type": "code",
   "execution_count": 10,
   "metadata": {},
   "outputs": [],
   "source": [
    "label_map_rev = {label_map[i]: i for i in label_map}"
   ]
  },
  {
   "cell_type": "code",
   "execution_count": 11,
   "metadata": {},
   "outputs": [
    {
     "data": {
      "text/plain": [
       "['beauty & health > sexual wellness > sex toys > dildos',\n",
       " 'beauty & health > sexual wellness > sex toys',\n",
       " 'beauty & health > sexual wellness > sex toys > vibrators',\n",
       " 'beauty & health > sexual wellness > safer sex > condoms',\n",
       " 'beauty & health > sexual wellness > sex toys > anal plug',\n",
       " 'beauty & health > sexual wellness > sex toys > penis rings',\n",
       " 'beauty & health > sexual wellness > sm products > bondage gear',\n",
       " 'beauty & health > sexual wellness',\n",
       " 'beauty & health > sexual wellness > sex toys > pumps & enlargers',\n",
       " 'beauty & health > sexual wellness > sex toys > anal sex toys']"
      ]
     },
     "execution_count": 11,
     "metadata": {},
     "output_type": "execute_result"
    }
   ],
   "source": [
    "[label_map_rev[i.item()] for i in top_preds[0]]"
   ]
  },
  {
   "cell_type": "code",
   "execution_count": 12,
   "metadata": {},
   "outputs": [
    {
     "data": {
      "text/plain": [
       "tensor([[9.9035e-01, 2.5334e-02, 1.3481e-03, 8.7281e-04, 5.0182e-04, 3.0553e-04,\n",
       "         3.0020e-04, 2.9364e-04, 2.1401e-04, 2.0970e-04]], device='cuda:0',\n",
       "       grad_fn=<TopkBackward0>)"
      ]
     },
     "execution_count": 12,
     "metadata": {},
     "output_type": "execute_result"
    }
   ],
   "source": [
    "top_probs"
   ]
  },
  {
   "cell_type": "code",
   "execution_count": 15,
   "metadata": {},
   "outputs": [],
   "source": [
    "def infer_model(query, topk = 3):\n",
    "    assert topk <= len(label_map_rev)\n",
    "    inputs = model.tokenizer(f\"Classify query: {query}\", return_tensors='pt').to('cuda')\n",
    "    probs = model.clf_head(model.get_hidden_states(**inputs)).sigmoid()\n",
    "    top_probs, top_preds = probs.topk(topk)\n",
    "    return [(label_map_rev[top_preds[0][ind].item()], top_probs[0][ind].item()) for ind in range(topk)]"
   ]
  },
  {
   "cell_type": "code",
   "execution_count": 16,
   "metadata": {},
   "outputs": [
    {
     "data": {
      "text/plain": [
       "[('cellphones & telecommunications > iphones', 0.6980677247047424),\n",
       " ('consumer electronics > smart electronics > wearable devices > smart watches',\n",
       "  0.32453083992004395),\n",
       " ('computer & office > tablets', 0.09000036120414734)]"
      ]
     },
     "execution_count": 16,
     "metadata": {},
     "output_type": "execute_result"
    }
   ],
   "source": [
    "infer_model('apple', 3)"
   ]
  },
  {
   "cell_type": "code",
   "execution_count": 17,
   "metadata": {},
   "outputs": [
    {
     "data": {
      "text/plain": [
       "[('cellphones & telecommunications > iphones', 0.9638227224349976),\n",
       " ('cellphones & telecommunications > mobile phone accessories',\n",
       "  0.12202276289463043),\n",
       " ('cellphones & telecommunications > cellphones', 0.06417359411716461)]"
      ]
     },
     "execution_count": 17,
     "metadata": {},
     "output_type": "execute_result"
    }
   ],
   "source": [
    "infer_model('iphone', 3)"
   ]
  },
  {
   "cell_type": "code",
   "execution_count": 18,
   "metadata": {},
   "outputs": [],
   "source": [
    "badsearch = [\n",
    "    \"chopsticks\",\n",
    "    \"keyboard for mac\",\n",
    "    \"Logitech K380\",\n",
    "    \"K380\",\n",
    "    \"keyboard with usb dongle\",\n",
    "    \"rc cars 1/10 scale brushless\"\n",
    "]"
   ]
  },
  {
   "cell_type": "code",
   "execution_count": 19,
   "metadata": {},
   "outputs": [
    {
     "name": "stdout",
     "output_type": "stream",
     "text": [
      " > chopsticks\n",
      "[('home & garden > kitchen,dining & bar > flatware > chopsticks', 0.9893905520439148), ('home & garden > kitchen,dining & bar > disposable kitchenware > disposable chopsticks', 0.25948646664619446), ('beauty & health > beauty essentials > lipstick', 0.012643793597817421)]\n",
      " > keyboard for mac\n",
      "[('computer & office > mouse & keyboards > keyboards', 0.9168869853019714), ('computer & office > mouse & keyboards > keyboard mouse combos', 0.10149267315864563), ('computer & office > laptop accessories > keyboard covers', 0.08296918123960495)]\n",
      " > Logitech K380\n",
      "[('computer & office > mouse & keyboards > mice', 0.8567105531692505), ('computer & office > mouse & keyboards > mice & keyboards accessories', 0.12367086857557297), ('computer & office > laptop accessories > laptop mice', 0.06955510377883911)]\n",
      " > K380\n",
      "[('security & protection > video surveillance > surveillance cameras', 0.17515814304351807), ('security & protection > self defense supplies', 0.035376228392124176), ('security & protection > security alarm > sensor & detector', 0.028529001399874687)]\n",
      " > keyboard with usb dongle\n",
      "[('computer & office > mouse & keyboards > keyboards', 0.8142960667610168), ('computer & office > networking > usb bluetooth adapters/dongles', 0.3370077311992645), ('computer & office > mouse & keyboards > keyboard mouse combos', 0.02518758736550808)]\n",
      " > rc cars 1/10 scale brushless\n",
      "[('toys & hobbies > remote control toys > rc cars', 0.8336057662963867), ('toys & hobbies > remote control toys > parts & accessories', 0.474776953458786), ('toys & hobbies > remote control toys > rc trucks', 0.013782136142253876)]\n"
     ]
    }
   ],
   "source": [
    "for q in badsearch:\n",
    "    print(f\" > {q}\")\n",
    "    print(infer_model(q.lower().strip(), 3))"
   ]
  },
  {
   "cell_type": "code",
   "execution_count": 21,
   "metadata": {},
   "outputs": [
    {
     "data": {
      "text/plain": [
       "([('sports > hunting > hunting gun accessories', 0.22011637687683105),\n",
       "  ('sports > hunting', 0.10330711305141449),\n",
       "  ('sports > hunting > hunting optics > riflescopes', 0.036959145218133926)],\n",
       " [('computer & office > mouse & keyboards > mice', 0.8567105531692505),\n",
       "  ('computer & office > mouse & keyboards > mice & keyboards accessories',\n",
       "   0.12367086857557297),\n",
       "  ('computer & office > laptop accessories > laptop mice',\n",
       "   0.06955510377883911)])"
      ]
     },
     "execution_count": 21,
     "metadata": {},
     "output_type": "execute_result"
    }
   ],
   "source": [
    "infer_model('Logitech K380'), infer_model('Logitech K380'.lower())"
   ]
  },
  {
   "attachments": {},
   "cell_type": "markdown",
   "metadata": {},
   "source": [
    "# convert"
   ]
  },
  {
   "cell_type": "code",
   "execution_count": 22,
   "metadata": {},
   "outputs": [],
   "source": [
    "import pandas as pd \n",
    "import dvc.api\n",
    "from torch import nn\n",
    "import torch"
   ]
  },
  {
   "cell_type": "code",
   "execution_count": 23,
   "metadata": {},
   "outputs": [
    {
     "name": "stderr",
     "output_type": "stream",
     "text": [
      "INFO:aiobotocore.credentials:Found credentials in environment variables.\n"
     ]
    }
   ],
   "source": [
    "df_tax = pd.read_json(dvc.api.get_url(\n",
    "    'datasets/data/taxonomy/wish_newtax.json',\n",
    "    repo='git@github.com:ContextLogic/multitask-llm-rnd.git'\n",
    "), lines=True)"
   ]
  },
  {
   "cell_type": "code",
   "execution_count": 24,
   "metadata": {},
   "outputs": [],
   "source": [
    "orig_cat2id = {}\n",
    "lower2orig = {}\n",
    "for i in df_tax.to_dict('records'):\n",
    "    if len(i['category_path']) > 0:\n",
    "        orig_cat2id[i['category_path'].lower()] = int(i['id'])\n",
    "        lower2orig[i['category_path'].lower()] = i['category_path']"
   ]
  },
  {
   "cell_type": "code",
   "execution_count": 25,
   "metadata": {},
   "outputs": [],
   "source": [
    "modelid2origid = {}\n",
    "for i in label_map_rev:\n",
    "    modelid2origid[i] = (orig_cat2id[label_map_rev[i]], lower2orig[label_map_rev[i]])\n",
    "assert max(modelid2origid) == len(modelid2origid) - 1 and min(modelid2origid) == 0"
   ]
  },
  {
   "cell_type": "code",
   "execution_count": 26,
   "metadata": {},
   "outputs": [],
   "source": [
    "from transformers import AutoModelForSequenceClassification, AutoTokenizer, pipeline"
   ]
  },
  {
   "cell_type": "code",
   "execution_count": 28,
   "metadata": {},
   "outputs": [
    {
     "name": "stderr",
     "output_type": "stream",
     "text": [
      "Some weights of BertForSequenceClassification were not initialized from the model checkpoint at microsoft/Multilingual-MiniLM-L12-H384 and are newly initialized: ['classifier.weight', 'classifier.bias']\n",
      "You should probably TRAIN this model on a down-stream task to be able to use it for predictions and inference.\n"
     ]
    }
   ],
   "source": [
    "model_hf = AutoModelForSequenceClassification.from_pretrained(\"microsoft/Multilingual-MiniLM-L12-H384\", \n",
    "                                                              id2label=modelid2origid).cuda().eval()"
   ]
  },
  {
   "cell_type": "code",
   "execution_count": 29,
   "metadata": {},
   "outputs": [],
   "source": [
    "tokenizer_hf = AutoTokenizer.from_pretrained(\"microsoft/Multilingual-MiniLM-L12-H384\", fast=True)"
   ]
  },
  {
   "cell_type": "code",
   "execution_count": 30,
   "metadata": {},
   "outputs": [
    {
     "data": {
      "text/plain": [
       "True"
      ]
     },
     "execution_count": 30,
     "metadata": {},
     "output_type": "execute_result"
    }
   ],
   "source": [
    "set(model.transformer.state_dict().keys()) == set(model_hf.bert.state_dict().keys())"
   ]
  },
  {
   "cell_type": "code",
   "execution_count": 31,
   "metadata": {},
   "outputs": [
    {
     "data": {
      "text/plain": [
       "<All keys matched successfully>"
      ]
     },
     "execution_count": 31,
     "metadata": {},
     "output_type": "execute_result"
    }
   ],
   "source": [
    "model_hf.bert.load_state_dict(model.transformer.state_dict())"
   ]
  },
  {
   "cell_type": "code",
   "execution_count": 32,
   "metadata": {},
   "outputs": [
    {
     "data": {
      "text/plain": [
       "True"
      ]
     },
     "execution_count": 32,
     "metadata": {},
     "output_type": "execute_result"
    }
   ],
   "source": [
    "set(model.clf_head[1].state_dict().keys()) == set(model_hf.classifier.state_dict().keys())"
   ]
  },
  {
   "cell_type": "code",
   "execution_count": 33,
   "metadata": {},
   "outputs": [
    {
     "data": {
      "text/plain": [
       "<All keys matched successfully>"
      ]
     },
     "execution_count": 33,
     "metadata": {},
     "output_type": "execute_result"
    }
   ],
   "source": [
    "model_hf.classifier.load_state_dict(model.clf_head[1].state_dict())"
   ]
  },
  {
   "cell_type": "code",
   "execution_count": 40,
   "metadata": {},
   "outputs": [],
   "source": [
    "with torch.no_grad():\n",
    "    model_hf.bert.pooler.dense.weight = nn.Parameter(torch.eye(384).cuda())\n",
    "    model_hf.bert.pooler.activation = nn.Identity()\n",
    "    model_hf.bert.pooler.dense.bias = nn.Parameter(model_hf.bert.pooler.dense.bias * 0)"
   ]
  },
  {
   "cell_type": "code",
   "execution_count": 45,
   "metadata": {},
   "outputs": [],
   "source": [
    "classify = pipeline(\"text-classification\", model=model_hf,\n",
    "        tokenizer=tokenizer_hf, function_to_apply='sigmoid', device=0)"
   ]
  },
  {
   "cell_type": "code",
   "execution_count": 46,
   "metadata": {},
   "outputs": [
    {
     "data": {
      "text/plain": [
       "[{'label': (1316, 'Cellphones & Telecommunications > iPhones'),\n",
       "  'score': 0.6980677247047424},\n",
       " {'label': (1752,\n",
       "   'Consumer Electronics > Smart Electronics > Wearable Devices > Smart Watches'),\n",
       "  'score': 0.32453083992004395},\n",
       " {'label': (1494, 'Computer & Office > Tablets'),\n",
       "  'score': 0.09000036120414734}]"
      ]
     },
     "execution_count": 46,
     "metadata": {},
     "output_type": "execute_result"
    }
   ],
   "source": [
    "classify('Classify query: apple', top_k=3)"
   ]
  },
  {
   "cell_type": "code",
   "execution_count": 47,
   "metadata": {},
   "outputs": [
    {
     "data": {
      "text/plain": [
       "[('cellphones & telecommunications > iphones', 0.6980677247047424),\n",
       " ('consumer electronics > smart electronics > wearable devices > smart watches',\n",
       "  0.32453083992004395),\n",
       " ('computer & office > tablets', 0.09000036120414734)]"
      ]
     },
     "execution_count": 47,
     "metadata": {},
     "output_type": "execute_result"
    }
   ],
   "source": [
    "infer_model('apple', 3)"
   ]
  },
  {
   "cell_type": "code",
   "execution_count": 50,
   "metadata": {},
   "outputs": [],
   "source": [
    "def infer_model_hf(query, topk = 3):\n",
    "    assert topk <= len(label_map_rev)\n",
    "    inputs = tokenizer_hf(f\"Classify query: {query}\", return_tensors='pt').to('cuda')\n",
    "    probs = model_hf(**inputs).logits.sigmoid()\n",
    "    top_probs, top_preds = probs.topk(topk)\n",
    "    return [(label_map_rev[top_preds[0][ind].item()], top_probs[0][ind].item()) for ind in range(topk)]"
   ]
  },
  {
   "cell_type": "code",
   "execution_count": 51,
   "metadata": {},
   "outputs": [
    {
     "data": {
      "text/plain": [
       "[('cellphones & telecommunications > iphones', 0.6980677247047424),\n",
       " ('consumer electronics > smart electronics > wearable devices > smart watches',\n",
       "  0.32453083992004395),\n",
       " ('computer & office > tablets', 0.09000036120414734)]"
      ]
     },
     "execution_count": 51,
     "metadata": {},
     "output_type": "execute_result"
    }
   ],
   "source": [
    "infer_model_hf('apple', 3)"
   ]
  },
  {
   "cell_type": "code",
   "execution_count": 52,
   "metadata": {},
   "outputs": [
    {
     "name": "stderr",
     "output_type": "stream",
     "text": [
      "/opt/conda/envs/py38/lib/python3.8/site-packages/transformers/pipelines/base.py:1043: UserWarning: You seem to be using the pipelines sequentially on GPU. In order to maximize efficiency please use a dataset\n",
      "  warnings.warn(\n"
     ]
    },
    {
     "name": "stdout",
     "output_type": "stream",
     "text": [
      "17.5 ms ± 61.6 µs per loop (mean ± std. dev. of 7 runs, 100 loops each)\n"
     ]
    }
   ],
   "source": [
    "%%timeit\n",
    "classify('Classify query: apple', top_k=3)"
   ]
  },
  {
   "cell_type": "code",
   "execution_count": 53,
   "metadata": {},
   "outputs": [
    {
     "name": "stdout",
     "output_type": "stream",
     "text": [
      "11 ms ± 37 µs per loop (mean ± std. dev. of 7 runs, 100 loops each)\n"
     ]
    }
   ],
   "source": [
    "%%timeit\n",
    "infer_model('apple', 3)"
   ]
  },
  {
   "cell_type": "code",
   "execution_count": 54,
   "metadata": {},
   "outputs": [
    {
     "name": "stdout",
     "output_type": "stream",
     "text": [
      "11.1 ms ± 42 µs per loop (mean ± std. dev. of 7 runs, 100 loops each)\n"
     ]
    }
   ],
   "source": [
    "%%timeit\n",
    "infer_model_hf('apple', 3)"
   ]
  },
  {
   "cell_type": "code",
   "execution_count": 55,
   "metadata": {},
   "outputs": [
    {
     "data": {
      "text/plain": [
       "[('cellphones & telecommunications > iphones', 0.6980677247047424),\n",
       " ('consumer electronics > smart electronics > wearable devices > smart watches',\n",
       "  0.32453083992004395),\n",
       " ('computer & office > tablets', 0.09000036120414734)]"
      ]
     },
     "execution_count": 55,
     "metadata": {},
     "output_type": "execute_result"
    }
   ],
   "source": [
    "infer_model_hf('apple', 3)"
   ]
  },
  {
   "cell_type": "code",
   "execution_count": 56,
   "metadata": {},
   "outputs": [],
   "source": [
    "for q in badsearch:\n",
    "    b = json.dumps(infer_model_hf('apple', 3))\n",
    "    c = json.dumps(infer_model('apple', 3))\n",
    "    assert b==c"
   ]
  },
  {
   "cell_type": "code",
   "execution_count": 78,
   "metadata": {},
   "outputs": [],
   "source": [
    "model_hf.save_pretrained('hf_ckpt')"
   ]
  },
  {
   "cell_type": "code",
   "execution_count": 79,
   "metadata": {},
   "outputs": [
    {
     "data": {
      "text/plain": [
       "('hf_ckpt/tokenizer_config.json',\n",
       " 'hf_ckpt/special_tokens_map.json',\n",
       " 'hf_ckpt/sentencepiece.bpe.model',\n",
       " 'hf_ckpt/added_tokens.json',\n",
       " 'hf_ckpt/tokenizer.json')"
      ]
     },
     "execution_count": 79,
     "metadata": {},
     "output_type": "execute_result"
    }
   ],
   "source": [
    "tokenizer_hf.save_pretrained('hf_ckpt')"
   ]
  },
  {
   "cell_type": "code",
   "execution_count": 57,
   "metadata": {},
   "outputs": [],
   "source": [
    "model_hf_reload = AutoModelForSequenceClassification.from_pretrained('hf_ckpt').cuda().eval()"
   ]
  },
  {
   "cell_type": "code",
   "execution_count": 58,
   "metadata": {},
   "outputs": [],
   "source": [
    "tokenizer_hf_reload = AutoTokenizer.from_pretrained('hf_ckpt')"
   ]
  },
  {
   "cell_type": "code",
   "execution_count": 59,
   "metadata": {},
   "outputs": [],
   "source": [
    "def infer_model_hf_reload(query, topk = 3):\n",
    "    assert topk <= len(label_map_rev)\n",
    "    inputs = tokenizer_hf_reload(f\"Classify query: {query}\", return_tensors='pt').to('cuda')\n",
    "    probs = model_hf_reload(**inputs).logits.sigmoid()\n",
    "    top_probs, top_preds = probs.topk(topk)\n",
    "    return [(label_map_rev[top_preds[0][ind].item()], top_probs[0][ind].item()) for ind in range(topk)]"
   ]
  },
  {
   "cell_type": "code",
   "execution_count": 60,
   "metadata": {},
   "outputs": [
    {
     "data": {
      "text/plain": [
       "[('cellphones & telecommunications > iphones', 0.5591620802879333),\n",
       " ('consumer electronics > smart electronics > wearable devices > smart watches',\n",
       "  0.2996892035007477),\n",
       " ('computer & office > tablets', 0.1604585498571396)]"
      ]
     },
     "execution_count": 60,
     "metadata": {},
     "output_type": "execute_result"
    }
   ],
   "source": [
    "infer_model_hf_reload('apple')"
   ]
  },
  {
   "cell_type": "code",
   "execution_count": 61,
   "metadata": {},
   "outputs": [],
   "source": [
    "with torch.no_grad():\n",
    "    model_hf_reload.bert.pooler.activation = nn.Identity()"
   ]
  },
  {
   "cell_type": "code",
   "execution_count": 62,
   "metadata": {},
   "outputs": [
    {
     "data": {
      "text/plain": [
       "[('cellphones & telecommunications > iphones', 0.6980677247047424),\n",
       " ('consumer electronics > smart electronics > wearable devices > smart watches',\n",
       "  0.32453083992004395),\n",
       " ('computer & office > tablets', 0.09000036120414734)]"
      ]
     },
     "execution_count": 62,
     "metadata": {},
     "output_type": "execute_result"
    }
   ],
   "source": [
    "infer_model_hf_reload('apple')"
   ]
  },
  {
   "cell_type": "code",
   "execution_count": 63,
   "metadata": {},
   "outputs": [],
   "source": [
    "for q in badsearch:\n",
    "    b = json.dumps(infer_model_hf('apple', 3))\n",
    "    c = json.dumps(infer_model('apple', 3))\n",
    "    d = json.dumps(infer_model_hf_reload('apple', 3))\n",
    "    assert b==c==d"
   ]
  },
  {
   "cell_type": "code",
   "execution_count": 64,
   "metadata": {},
   "outputs": [],
   "source": [
    "from hf_ckpt.load_model import load_pipeline"
   ]
  },
  {
   "cell_type": "code",
   "execution_count": 65,
   "metadata": {},
   "outputs": [],
   "source": [
    "classify_reload = load_pipeline()"
   ]
  },
  {
   "cell_type": "code",
   "execution_count": 88,
   "metadata": {},
   "outputs": [
    {
     "name": "stderr",
     "output_type": "stream",
     "text": [
      "/opt/conda/envs/py38/lib/python3.8/site-packages/transformers/pipelines/base.py:1043: UserWarning: You seem to be using the pipelines sequentially on GPU. In order to maximize efficiency please use a dataset\n",
      "  warnings.warn(\n"
     ]
    }
   ],
   "source": [
    "for q in badsearch:\n",
    "    a = classify(f\"Classify query: {q}\")\n",
    "    b = classify_reload(f\"Classify query: {q}\")\n",
    "    c = infer_model(q)\n",
    "    d = infer_model_hf(q)\n",
    "    e = infer_model_hf_reload(q)\n",
    "    assert json.dumps(a)==json.dumps(b)\n",
    "    assert c[0][1] == d[0][1] == e[0][1] == a[0]['score'] == b[0]['score']"
   ]
  }
 ],
 "metadata": {
  "kernelspec": {
   "display_name": "py38",
   "language": "python",
   "name": "python3"
  },
  "language_info": {
   "codemirror_mode": {
    "name": "ipython",
    "version": 3
   },
   "file_extension": ".py",
   "mimetype": "text/x-python",
   "name": "python",
   "nbconvert_exporter": "python",
   "pygments_lexer": "ipython3",
   "version": "3.8.13"
  },
  "orig_nbformat": 4,
  "vscode": {
   "interpreter": {
    "hash": "3ea19d11efa7602c1f12500925a974ed4f31fcf847bd6f694bd5180da2602ded"
   }
  }
 },
 "nbformat": 4,
 "nbformat_minor": 2
}
