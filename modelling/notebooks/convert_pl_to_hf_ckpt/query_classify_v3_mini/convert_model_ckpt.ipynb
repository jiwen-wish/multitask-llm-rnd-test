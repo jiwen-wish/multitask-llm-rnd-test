{
 "cells": [
  {
   "cell_type": "code",
   "execution_count": 1,
   "metadata": {},
   "outputs": [],
   "source": [
    "import sys \n",
    "sys.path.append('../../..')\n",
    "from main_multitask_multimodal import LLM_MultitaskMultimodal"
   ]
  },
  {
   "cell_type": "code",
   "execution_count": 2,
   "metadata": {},
   "outputs": [],
   "source": [
    "import json"
   ]
  },
  {
   "cell_type": "code",
   "execution_count": 3,
   "metadata": {},
   "outputs": [
    {
     "name": "stderr",
     "output_type": "stream",
     "text": [
      "INFO:root:Unused kwargs when getting microsoft/Multilingual-MiniLM-L12-H384: {'distance_func': 'cosine', 'loss_type': 'cross-entropy', 'margin': None, 'hidden_states_type': 'encoder-first', 'add_simcse': False, 'manual_loss_type': 'manual_mse', 'auto_task_weight': False, 'multitask_specs_dict': {'seqclf_singlemodal_wishquery2tax': {'specs': {'clf_head': 'clf_head', 'clf_weight_type': None, 'label_map_file': '/workspaces/multitask-llm-rnd/modelling/datasets/taxonomy/wish_v1.2.1_newtax_allpaths_withunknown.txt', 'label_type': 'multilabel_taxonomy'}}}, 'head_dict': {'clf_head': {'purpose': 'seqclf', 'type': 'linear', 'in_features': 384, 'out_features': 6038}}}\n"
     ]
    }
   ],
   "source": [
    "model = LLM_MultitaskMultimodal.load_from_checkpoint('../../../models/multitask_multimodal_multilingual/version_11/epoch=3-step=776.ckpt'\n",
    "                                                     ).cuda().eval()"
   ]
  },
  {
   "attachments": {},
   "cell_type": "markdown",
   "metadata": {},
   "source": [
    "# qualitative check"
   ]
  },
  {
   "cell_type": "code",
   "execution_count": 4,
   "metadata": {},
   "outputs": [],
   "source": [
    "inputs = model.tokenizer(\"Classify query: dildo\", return_tensors='pt').to('cuda')"
   ]
  },
  {
   "cell_type": "code",
   "execution_count": 5,
   "metadata": {},
   "outputs": [],
   "source": [
    "probs = model.clf_head(model.get_hidden_states(**inputs)).sigmoid()"
   ]
  },
  {
   "cell_type": "code",
   "execution_count": 6,
   "metadata": {},
   "outputs": [],
   "source": [
    "top_probs, top_preds = probs.topk(10)"
   ]
  },
  {
   "cell_type": "code",
   "execution_count": 7,
   "metadata": {},
   "outputs": [
    {
     "data": {
      "text/plain": [
       "tensor([[1130, 1121, 1146, 1149, 1143, 1140, 1116, 1126, 1125, 1145]],\n",
       "       device='cuda:0')"
      ]
     },
     "execution_count": 7,
     "metadata": {},
     "output_type": "execute_result"
    }
   ],
   "source": [
    "top_preds"
   ]
  },
  {
   "cell_type": "code",
   "execution_count": 8,
   "metadata": {},
   "outputs": [],
   "source": [
    "label_map_file = model.hparams.multitask_specs_dict['seqclf_singlemodal_wishquery2tax']['specs']['label_map_file']"
   ]
  },
  {
   "cell_type": "code",
   "execution_count": 20,
   "metadata": {},
   "outputs": [
    {
     "data": {
      "text/plain": [
       "'/workspaces/multitask-llm-rnd/modelling/datasets/taxonomy/wish_v1.2.1_newtax_allpaths_withunknown.txt'"
      ]
     },
     "execution_count": 20,
     "metadata": {},
     "output_type": "execute_result"
    }
   ],
   "source": [
    "model.hparams.multitask_specs_dict['seqclf_singlemodal_wishquery2tax']['specs']['label_map_file']"
   ]
  },
  {
   "cell_type": "code",
   "execution_count": 9,
   "metadata": {},
   "outputs": [],
   "source": [
    "label_map = {}\n",
    "with open(label_map_file, 'r') as f:\n",
    "    for l in f:\n",
    "        l = l.replace('\\n', '').strip()\n",
    "        if len(l):\n",
    "            label_map[l] = len(label_map)"
   ]
  },
  {
   "cell_type": "code",
   "execution_count": 21,
   "metadata": {},
   "outputs": [
    {
     "data": {
      "text/plain": [
       "6037"
      ]
     },
     "execution_count": 21,
     "metadata": {},
     "output_type": "execute_result"
    }
   ],
   "source": [
    "label_map['unknown']"
   ]
  },
  {
   "cell_type": "code",
   "execution_count": 10,
   "metadata": {},
   "outputs": [],
   "source": [
    "label_map_rev = {label_map[i]: i for i in label_map}"
   ]
  },
  {
   "cell_type": "code",
   "execution_count": 11,
   "metadata": {},
   "outputs": [
    {
     "data": {
      "text/plain": [
       "['beauty & health > sexual wellness > sex toys > dildos',\n",
       " 'beauty & health > sexual wellness > sex toys',\n",
       " 'beauty & health > sexual wellness > sex toys > vibrators',\n",
       " 'beauty & health > sexual wellness > sm products > bondage gear',\n",
       " 'beauty & health > sexual wellness > sex toys > sex sucking toys',\n",
       " 'beauty & health > sexual wellness > sex toys > pumps & enlargers',\n",
       " 'beauty & health > sexual wellness',\n",
       " 'beauty & health > sexual wellness > sex toys > anal sex toys',\n",
       " 'beauty & health > sexual wellness > sex toys > anal plug',\n",
       " 'beauty & health > sexual wellness > sex toys > vagina balls']"
      ]
     },
     "execution_count": 11,
     "metadata": {},
     "output_type": "execute_result"
    }
   ],
   "source": [
    "[label_map_rev[i.item()] for i in top_preds[0]]"
   ]
  },
  {
   "cell_type": "code",
   "execution_count": 12,
   "metadata": {},
   "outputs": [
    {
     "data": {
      "text/plain": [
       "tensor([[0.9914, 0.0414, 0.0127, 0.0028, 0.0027, 0.0027, 0.0022, 0.0022, 0.0021,\n",
       "         0.0020]], device='cuda:0', grad_fn=<TopkBackward0>)"
      ]
     },
     "execution_count": 12,
     "metadata": {},
     "output_type": "execute_result"
    }
   ],
   "source": [
    "top_probs"
   ]
  },
  {
   "cell_type": "code",
   "execution_count": 13,
   "metadata": {},
   "outputs": [],
   "source": [
    "def infer_model(query, topk = 3):\n",
    "    assert topk <= len(label_map_rev)\n",
    "    inputs = model.tokenizer(f\"Classify query: {query}\", return_tensors='pt').to('cuda')\n",
    "    probs = model.clf_head(model.get_hidden_states(**inputs)).sigmoid()\n",
    "    top_probs, top_preds = probs.topk(topk)\n",
    "    return [(label_map_rev[top_preds[0][ind].item()], top_probs[0][ind].item()) for ind in range(topk)]"
   ]
  },
  {
   "cell_type": "code",
   "execution_count": 14,
   "metadata": {},
   "outputs": [
    {
     "data": {
      "text/plain": [
       "[('cellphones & telecommunications > iphones', 0.8689472079277039),\n",
       " ('cellphones & telecommunications > mobile phone accessories',\n",
       "  0.22444188594818115),\n",
       " ('consumer electronics > smart electronics > wearable devices > smart watches',\n",
       "  0.15000593662261963)]"
      ]
     },
     "execution_count": 14,
     "metadata": {},
     "output_type": "execute_result"
    }
   ],
   "source": [
    "infer_model('apple', 3)"
   ]
  },
  {
   "cell_type": "code",
   "execution_count": 15,
   "metadata": {},
   "outputs": [
    {
     "data": {
      "text/plain": [
       "[('cellphones & telecommunications > iphones', 0.9730964303016663),\n",
       " ('cellphones & telecommunications > mobile phone accessories',\n",
       "  0.16338349878787994),\n",
       " ('cellphones & telecommunications > cellphones', 0.04844042286276817)]"
      ]
     },
     "execution_count": 15,
     "metadata": {},
     "output_type": "execute_result"
    }
   ],
   "source": [
    "infer_model('iphone', 3)"
   ]
  },
  {
   "cell_type": "code",
   "execution_count": 16,
   "metadata": {},
   "outputs": [],
   "source": [
    "badsearch = [\n",
    "    \"chopsticks\",\n",
    "    \"keyboard for mac\",\n",
    "    \"Logitech K380\",\n",
    "    \"K380\",\n",
    "    \"keyboard with usb dongle\",\n",
    "    \"rc cars 1/10 scale brushless\"\n",
    "]"
   ]
  },
  {
   "cell_type": "code",
   "execution_count": 17,
   "metadata": {},
   "outputs": [
    {
     "name": "stdout",
     "output_type": "stream",
     "text": [
      " > chopsticks\n",
      "[('home & garden > kitchen,dining & bar > flatware > chopsticks', 0.9727470874786377), ('home & garden > kitchen,dining & bar > disposable kitchenware > disposable chopsticks', 0.09758913516998291), ('home & garden > kitchen,dining & bar > kitchen tools & gadgets > sushi tools', 0.02138880454003811)]\n",
      " > keyboard for mac\n",
      "[('computer & office > mouse & keyboards > keyboards', 0.733725368976593), ('computer & office > mouse & keyboards > keyboard mouse combos', 0.0785374566912651), ('computer & office > mouse & keyboards > mice & keyboards accessories', 0.07391010969877243)]\n",
      " > Logitech K380\n",
      "[('computer & office > mouse & keyboards > mice', 0.938803493976593), ('computer & office > mouse & keyboards > mice & keyboards accessories', 0.12057773023843765), ('computer & office > laptop accessories > laptop mice', 0.05699257180094719)]\n",
      " > K380\n",
      "[('security & protection > video surveillance > surveillance cameras', 0.43163105845451355), ('security & protection > security alarm > sensor & detector', 0.06359169632196426), ('home improvement > lights & lighting > led lighting', 0.03219327703118324)]\n",
      " > keyboard with usb dongle\n",
      "[('computer & office > networking > usb bluetooth adapters/dongles', 0.5584684610366821), ('computer & office > storage devices > usb flash drives', 0.2888745665550232), ('computer & office > mouse & keyboards > keyboards', 0.205294668674469)]\n",
      " > rc cars 1/10 scale brushless\n",
      "[('toys & hobbies > remote control toys > rc cars', 0.7608525156974792), ('toys & hobbies > remote control toys > parts & accessories', 0.41910484433174133), ('toys & hobbies > remote control toys > rc trucks', 0.024178555235266685)]\n"
     ]
    }
   ],
   "source": [
    "for q in badsearch:\n",
    "    print(f\" > {q}\")\n",
    "    print(infer_model(q.lower().strip(), 3))"
   ]
  },
  {
   "cell_type": "code",
   "execution_count": 18,
   "metadata": {},
   "outputs": [
    {
     "data": {
      "text/plain": [
       "([('sports > hunting > hunting gun accessories', 0.1675172597169876),\n",
       "  ('tools > hand tools > knives', 0.061903852969408035),\n",
       "  ('security & protection > self defense supplies', 0.0551854632794857)],\n",
       " [('computer & office > mouse & keyboards > mice', 0.938803493976593),\n",
       "  ('computer & office > mouse & keyboards > mice & keyboards accessories',\n",
       "   0.12057773023843765),\n",
       "  ('computer & office > laptop accessories > laptop mice',\n",
       "   0.05699257180094719)])"
      ]
     },
     "execution_count": 18,
     "metadata": {},
     "output_type": "execute_result"
    }
   ],
   "source": [
    "infer_model('Logitech K380'), infer_model('Logitech K380'.lower())"
   ]
  },
  {
   "attachments": {},
   "cell_type": "markdown",
   "metadata": {},
   "source": [
    "# convert"
   ]
  },
  {
   "cell_type": "code",
   "execution_count": 19,
   "metadata": {},
   "outputs": [],
   "source": [
    "import pandas as pd \n",
    "import dvc.api\n",
    "from torch import nn\n",
    "import torch"
   ]
  },
  {
   "cell_type": "code",
   "execution_count": 22,
   "metadata": {},
   "outputs": [
    {
     "name": "stderr",
     "output_type": "stream",
     "text": [
      "INFO:aiobotocore.credentials:Found credentials in environment variables.\n"
     ]
    }
   ],
   "source": [
    "df_tax = pd.read_json(dvc.api.get_url(\n",
    "    'datasets/data/taxonomy/wish_newtax.json',\n",
    "    repo='git@github.com:ContextLogic/multitask-llm-rnd.git'\n",
    "), lines=True)"
   ]
  },
  {
   "cell_type": "code",
   "execution_count": 23,
   "metadata": {},
   "outputs": [],
   "source": [
    "orig_cat2id = {}\n",
    "lower2orig = {}\n",
    "for i in df_tax.to_dict('records'):\n",
    "    if len(i['category_path']) > 0:\n",
    "        orig_cat2id[i['category_path'].lower()] = int(i['id'])\n",
    "        lower2orig[i['category_path'].lower()] = i['category_path']\n",
    "orig_cat2id['unknown'] = -1\n",
    "lower2orig['unknown'] = 'unknown'"
   ]
  },
  {
   "cell_type": "code",
   "execution_count": 24,
   "metadata": {},
   "outputs": [],
   "source": [
    "modelid2origid = {}\n",
    "for i in label_map_rev:\n",
    "    modelid2origid[i] = (orig_cat2id[label_map_rev[i]], lower2orig[label_map_rev[i]])\n",
    "assert max(modelid2origid) == len(modelid2origid) - 1 and min(modelid2origid) == 0"
   ]
  },
  {
   "cell_type": "code",
   "execution_count": 26,
   "metadata": {},
   "outputs": [
    {
     "data": {
      "text/plain": [
       "(-1, 'unknown')"
      ]
     },
     "execution_count": 26,
     "metadata": {},
     "output_type": "execute_result"
    }
   ],
   "source": [
    "modelid2origid[len(modelid2origid)-1]"
   ]
  },
  {
   "cell_type": "code",
   "execution_count": 27,
   "metadata": {},
   "outputs": [],
   "source": [
    "from transformers import AutoModelForSequenceClassification, AutoTokenizer, pipeline"
   ]
  },
  {
   "cell_type": "code",
   "execution_count": 28,
   "metadata": {},
   "outputs": [
    {
     "name": "stderr",
     "output_type": "stream",
     "text": [
      "Some weights of BertForSequenceClassification were not initialized from the model checkpoint at microsoft/Multilingual-MiniLM-L12-H384 and are newly initialized: ['classifier.weight', 'classifier.bias']\n",
      "You should probably TRAIN this model on a down-stream task to be able to use it for predictions and inference.\n"
     ]
    }
   ],
   "source": [
    "model_hf = AutoModelForSequenceClassification.from_pretrained(\"microsoft/Multilingual-MiniLM-L12-H384\", \n",
    "                                                              id2label=modelid2origid).cuda().eval()"
   ]
  },
  {
   "cell_type": "code",
   "execution_count": 29,
   "metadata": {},
   "outputs": [],
   "source": [
    "tokenizer_hf = AutoTokenizer.from_pretrained(\"microsoft/Multilingual-MiniLM-L12-H384\", fast=True)"
   ]
  },
  {
   "cell_type": "code",
   "execution_count": 30,
   "metadata": {},
   "outputs": [
    {
     "data": {
      "text/plain": [
       "True"
      ]
     },
     "execution_count": 30,
     "metadata": {},
     "output_type": "execute_result"
    }
   ],
   "source": [
    "set(model.transformer.state_dict().keys()) == set(model_hf.bert.state_dict().keys())"
   ]
  },
  {
   "cell_type": "code",
   "execution_count": 31,
   "metadata": {},
   "outputs": [
    {
     "data": {
      "text/plain": [
       "<All keys matched successfully>"
      ]
     },
     "execution_count": 31,
     "metadata": {},
     "output_type": "execute_result"
    }
   ],
   "source": [
    "model_hf.bert.load_state_dict(model.transformer.state_dict())"
   ]
  },
  {
   "cell_type": "code",
   "execution_count": 32,
   "metadata": {},
   "outputs": [
    {
     "data": {
      "text/plain": [
       "True"
      ]
     },
     "execution_count": 32,
     "metadata": {},
     "output_type": "execute_result"
    }
   ],
   "source": [
    "set(model.clf_head[1].state_dict().keys()) == set(model_hf.classifier.state_dict().keys())"
   ]
  },
  {
   "cell_type": "code",
   "execution_count": 33,
   "metadata": {},
   "outputs": [
    {
     "data": {
      "text/plain": [
       "<All keys matched successfully>"
      ]
     },
     "execution_count": 33,
     "metadata": {},
     "output_type": "execute_result"
    }
   ],
   "source": [
    "model_hf.classifier.load_state_dict(model.clf_head[1].state_dict())"
   ]
  },
  {
   "cell_type": "code",
   "execution_count": 34,
   "metadata": {},
   "outputs": [],
   "source": [
    "with torch.no_grad():\n",
    "    model_hf.bert.pooler.dense.weight = nn.Parameter(torch.eye(384).cuda())\n",
    "    model_hf.bert.pooler.activation = nn.Identity()\n",
    "    model_hf.bert.pooler.dense.bias = nn.Parameter(model_hf.bert.pooler.dense.bias * 0)"
   ]
  },
  {
   "cell_type": "code",
   "execution_count": 35,
   "metadata": {},
   "outputs": [],
   "source": [
    "classify = pipeline(\"text-classification\", model=model_hf,\n",
    "        tokenizer=tokenizer_hf, function_to_apply='sigmoid', device=0)"
   ]
  },
  {
   "cell_type": "code",
   "execution_count": 36,
   "metadata": {},
   "outputs": [
    {
     "data": {
      "text/plain": [
       "[{'label': (1316, 'Cellphones & Telecommunications > iPhones'),\n",
       "  'score': 0.8689472079277039},\n",
       " {'label': (1255,\n",
       "   'Cellphones & Telecommunications > Mobile Phone Accessories'),\n",
       "  'score': 0.22444191575050354},\n",
       " {'label': (1752,\n",
       "   'Consumer Electronics > Smart Electronics > Wearable Devices > Smart Watches'),\n",
       "  'score': 0.15000595152378082}]"
      ]
     },
     "execution_count": 36,
     "metadata": {},
     "output_type": "execute_result"
    }
   ],
   "source": [
    "classify('Classify query: apple', top_k=3)"
   ]
  },
  {
   "cell_type": "code",
   "execution_count": 37,
   "metadata": {},
   "outputs": [
    {
     "data": {
      "text/plain": [
       "[('cellphones & telecommunications > iphones', 0.8689472079277039),\n",
       " ('cellphones & telecommunications > mobile phone accessories',\n",
       "  0.22444188594818115),\n",
       " ('consumer electronics > smart electronics > wearable devices > smart watches',\n",
       "  0.15000593662261963)]"
      ]
     },
     "execution_count": 37,
     "metadata": {},
     "output_type": "execute_result"
    }
   ],
   "source": [
    "infer_model('apple', 3)"
   ]
  },
  {
   "cell_type": "code",
   "execution_count": 38,
   "metadata": {},
   "outputs": [],
   "source": [
    "def infer_model_hf(query, topk = 3):\n",
    "    assert topk <= len(label_map_rev)\n",
    "    inputs = tokenizer_hf(f\"Classify query: {query}\", return_tensors='pt').to('cuda')\n",
    "    probs = model_hf(**inputs).logits.sigmoid()\n",
    "    top_probs, top_preds = probs.topk(topk)\n",
    "    return [(label_map_rev[top_preds[0][ind].item()], top_probs[0][ind].item()) for ind in range(topk)]"
   ]
  },
  {
   "cell_type": "code",
   "execution_count": 39,
   "metadata": {},
   "outputs": [
    {
     "data": {
      "text/plain": [
       "[('cellphones & telecommunications > iphones', 0.8689472079277039),\n",
       " ('cellphones & telecommunications > mobile phone accessories',\n",
       "  0.22444188594818115),\n",
       " ('consumer electronics > smart electronics > wearable devices > smart watches',\n",
       "  0.15000593662261963)]"
      ]
     },
     "execution_count": 39,
     "metadata": {},
     "output_type": "execute_result"
    }
   ],
   "source": [
    "infer_model_hf('apple', 3)"
   ]
  },
  {
   "cell_type": "code",
   "execution_count": 40,
   "metadata": {},
   "outputs": [
    {
     "name": "stderr",
     "output_type": "stream",
     "text": [
      "/opt/conda/envs/py38/lib/python3.8/site-packages/transformers/pipelines/base.py:1043: UserWarning: You seem to be using the pipelines sequentially on GPU. In order to maximize efficiency please use a dataset\n",
      "  warnings.warn(\n"
     ]
    },
    {
     "name": "stdout",
     "output_type": "stream",
     "text": [
      "17.8 ms ± 198 µs per loop (mean ± std. dev. of 7 runs, 100 loops each)\n"
     ]
    }
   ],
   "source": [
    "%%timeit\n",
    "classify('Classify query: apple', top_k=3)"
   ]
  },
  {
   "cell_type": "code",
   "execution_count": 41,
   "metadata": {},
   "outputs": [
    {
     "name": "stdout",
     "output_type": "stream",
     "text": [
      "10.9 ms ± 26.8 µs per loop (mean ± std. dev. of 7 runs, 100 loops each)\n"
     ]
    }
   ],
   "source": [
    "%%timeit\n",
    "infer_model('apple', 3)"
   ]
  },
  {
   "cell_type": "code",
   "execution_count": 42,
   "metadata": {},
   "outputs": [
    {
     "name": "stdout",
     "output_type": "stream",
     "text": [
      "10.9 ms ± 51.1 µs per loop (mean ± std. dev. of 7 runs, 100 loops each)\n"
     ]
    }
   ],
   "source": [
    "%%timeit\n",
    "infer_model_hf('apple', 3)"
   ]
  },
  {
   "cell_type": "code",
   "execution_count": 43,
   "metadata": {},
   "outputs": [
    {
     "data": {
      "text/plain": [
       "[('cellphones & telecommunications > iphones', 0.8689472079277039),\n",
       " ('cellphones & telecommunications > mobile phone accessories',\n",
       "  0.22444188594818115),\n",
       " ('consumer electronics > smart electronics > wearable devices > smart watches',\n",
       "  0.15000593662261963)]"
      ]
     },
     "execution_count": 43,
     "metadata": {},
     "output_type": "execute_result"
    }
   ],
   "source": [
    "infer_model_hf('apple', 3)"
   ]
  },
  {
   "cell_type": "code",
   "execution_count": 44,
   "metadata": {},
   "outputs": [],
   "source": [
    "for q in badsearch:\n",
    "    b = json.dumps(infer_model_hf('apple', 3))\n",
    "    c = json.dumps(infer_model('apple', 3))\n",
    "    assert b==c"
   ]
  },
  {
   "cell_type": "code",
   "execution_count": 45,
   "metadata": {},
   "outputs": [],
   "source": [
    "model_hf.save_pretrained('hf_ckpt')"
   ]
  },
  {
   "cell_type": "code",
   "execution_count": 46,
   "metadata": {},
   "outputs": [
    {
     "data": {
      "text/plain": [
       "('hf_ckpt/tokenizer_config.json',\n",
       " 'hf_ckpt/special_tokens_map.json',\n",
       " 'hf_ckpt/sentencepiece.bpe.model',\n",
       " 'hf_ckpt/added_tokens.json',\n",
       " 'hf_ckpt/tokenizer.json')"
      ]
     },
     "execution_count": 46,
     "metadata": {},
     "output_type": "execute_result"
    }
   ],
   "source": [
    "tokenizer_hf.save_pretrained('hf_ckpt')"
   ]
  },
  {
   "cell_type": "code",
   "execution_count": 47,
   "metadata": {},
   "outputs": [],
   "source": [
    "model_hf_reload = AutoModelForSequenceClassification.from_pretrained('hf_ckpt').cuda().eval()"
   ]
  },
  {
   "cell_type": "code",
   "execution_count": 48,
   "metadata": {},
   "outputs": [],
   "source": [
    "tokenizer_hf_reload = AutoTokenizer.from_pretrained('hf_ckpt')"
   ]
  },
  {
   "cell_type": "code",
   "execution_count": 49,
   "metadata": {},
   "outputs": [],
   "source": [
    "def infer_model_hf_reload(query, topk = 3):\n",
    "    assert topk <= len(label_map_rev)\n",
    "    inputs = tokenizer_hf_reload(f\"Classify query: {query}\", return_tensors='pt').to('cuda')\n",
    "    probs = model_hf_reload(**inputs).logits.sigmoid()\n",
    "    top_probs, top_preds = probs.topk(topk)\n",
    "    return [(label_map_rev[top_preds[0][ind].item()], top_probs[0][ind].item()) for ind in range(topk)]"
   ]
  },
  {
   "cell_type": "code",
   "execution_count": 50,
   "metadata": {},
   "outputs": [
    {
     "data": {
      "text/plain": [
       "[('cellphones & telecommunications > iphones', 0.5747516751289368),\n",
       " ('consumer electronics > smart electronics > wearable devices > smart watches',\n",
       "  0.2517867982387543),\n",
       " ('cellphones & telecommunications > mobile phone accessories',\n",
       "  0.2467278242111206)]"
      ]
     },
     "execution_count": 50,
     "metadata": {},
     "output_type": "execute_result"
    }
   ],
   "source": [
    "infer_model_hf_reload('apple')"
   ]
  },
  {
   "cell_type": "code",
   "execution_count": 51,
   "metadata": {},
   "outputs": [],
   "source": [
    "with torch.no_grad():\n",
    "    model_hf_reload.bert.pooler.activation = nn.Identity()"
   ]
  },
  {
   "cell_type": "code",
   "execution_count": 52,
   "metadata": {},
   "outputs": [
    {
     "data": {
      "text/plain": [
       "[('cellphones & telecommunications > iphones', 0.8689472079277039),\n",
       " ('cellphones & telecommunications > mobile phone accessories',\n",
       "  0.22444188594818115),\n",
       " ('consumer electronics > smart electronics > wearable devices > smart watches',\n",
       "  0.15000593662261963)]"
      ]
     },
     "execution_count": 52,
     "metadata": {},
     "output_type": "execute_result"
    }
   ],
   "source": [
    "infer_model_hf_reload('apple')"
   ]
  },
  {
   "cell_type": "code",
   "execution_count": 53,
   "metadata": {},
   "outputs": [],
   "source": [
    "for q in badsearch:\n",
    "    b = json.dumps(infer_model_hf('apple', 3))\n",
    "    c = json.dumps(infer_model('apple', 3))\n",
    "    d = json.dumps(infer_model_hf_reload('apple', 3))\n",
    "    assert b==c==d"
   ]
  },
  {
   "cell_type": "code",
   "execution_count": 56,
   "metadata": {},
   "outputs": [],
   "source": [
    "from hf_ckpt.load_model import load_pipeline"
   ]
  },
  {
   "cell_type": "code",
   "execution_count": 57,
   "metadata": {},
   "outputs": [],
   "source": [
    "classify_reload = load_pipeline()"
   ]
  },
  {
   "cell_type": "code",
   "execution_count": 65,
   "metadata": {},
   "outputs": [],
   "source": [
    "for q in badsearch:\n",
    "    a = classify(f\"Classify query: {q}\")\n",
    "    b = classify_reload(f\"Classify query: {q}\")\n",
    "    c = infer_model(q)\n",
    "    d = infer_model_hf(q)\n",
    "    e = infer_model_hf_reload(q)\n",
    "    assert json.dumps(a)==json.dumps(b)\n",
    "    assert -1e-5 < c[0][1] - d[0][1] < 1e-5\n",
    "    assert -1e-5 < d[0][1] - e[0][1] < 1e-5\n",
    "    assert -1e-5 < e[0][1] - a[0]['score'] < 1e-5 \n",
    "    assert -1e-5 < a[0]['score'] - b[0]['score'] < 1e-5 "
   ]
  },
  {
   "cell_type": "code",
   "execution_count": null,
   "metadata": {},
   "outputs": [],
   "source": []
  }
 ],
 "metadata": {
  "kernelspec": {
   "display_name": "py38",
   "language": "python",
   "name": "python3"
  },
  "language_info": {
   "codemirror_mode": {
    "name": "ipython",
    "version": 3
   },
   "file_extension": ".py",
   "mimetype": "text/x-python",
   "name": "python",
   "nbconvert_exporter": "python",
   "pygments_lexer": "ipython3",
   "version": "3.8.13"
  },
  "orig_nbformat": 4,
  "vscode": {
   "interpreter": {
    "hash": "3ea19d11efa7602c1f12500925a974ed4f31fcf847bd6f694bd5180da2602ded"
   }
  }
 },
 "nbformat": 4,
 "nbformat_minor": 2
}
