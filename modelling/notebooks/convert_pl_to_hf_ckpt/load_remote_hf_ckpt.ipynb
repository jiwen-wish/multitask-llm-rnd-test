{
 "cells": [
  {
   "cell_type": "code",
   "execution_count": 36,
   "metadata": {},
   "outputs": [],
   "source": [
    "from dvc.api import DVCFileSystem\n",
    "import tempfile\n",
    "import sys\n",
    "import os\n",
    "import importlib"
   ]
  },
  {
   "cell_type": "code",
   "execution_count": 38,
   "metadata": {},
   "outputs": [],
   "source": [
    "def import_path(path):\n",
    "    module_name = os.path.basename(path).replace('-', '_')\n",
    "    spec = importlib.util.spec_from_loader(\n",
    "        module_name,\n",
    "        importlib.machinery.SourceFileLoader(module_name, path)\n",
    "    )\n",
    "    module = importlib.util.module_from_spec(spec)\n",
    "    spec.loader.exec_module(module)\n",
    "    sys.modules[module_name] = module\n",
    "    return module"
   ]
  },
  {
   "cell_type": "code",
   "execution_count": 44,
   "metadata": {},
   "outputs": [],
   "source": [
    "repo = 'git@github.com:ContextLogic/multitask-llm-rnd.git'\n",
    "path = '/modelling/notebooks/convert_pl_to_hf_ckpt/query_classify_v3_mini/hf_ckpt'"
   ]
  },
  {
   "cell_type": "code",
   "execution_count": 45,
   "metadata": {},
   "outputs": [
    {
     "name": "stdout",
     "output_type": "stream",
     "text": [
      "['config.json', 'pytorch_model.bin', 'tokenizer.json', 'tokenizer_config.json', 'load_model.py', '.gitignore', 'sentencepiece.bpe.model', 'special_tokens_map.json']\n"
     ]
    }
   ],
   "source": [
    "with tempfile.TemporaryDirectory() as tmpdirname:\n",
    "    fs = DVCFileSystem(repo, subrepos=True)\n",
    "    fs.get(path, tmpdirname, recursive=True)\n",
    "    pipe = import_path(f\"{tmpdirname}/load_model.py\").load_pipeline()"
   ]
  },
  {
   "cell_type": "code",
   "execution_count": 47,
   "metadata": {},
   "outputs": [
    {
     "data": {
      "text/plain": [
       "[{'label': [1143, 'Beauty & Health > Sexual Wellness > Sex Toys > Dildos'],\n",
       "  'score': 0.9903542995452881}]"
      ]
     },
     "execution_count": 47,
     "metadata": {},
     "output_type": "execute_result"
    }
   ],
   "source": [
    "pipe('Classify query: dildo')"
   ]
  },
  {
   "cell_type": "code",
   "execution_count": null,
   "metadata": {},
   "outputs": [],
   "source": []
  }
 ],
 "metadata": {
  "kernelspec": {
   "display_name": "py38",
   "language": "python",
   "name": "python3"
  },
  "language_info": {
   "codemirror_mode": {
    "name": "ipython",
    "version": 3
   },
   "file_extension": ".py",
   "mimetype": "text/x-python",
   "name": "python",
   "nbconvert_exporter": "python",
   "pygments_lexer": "ipython3",
   "version": "3.8.13"
  },
  "orig_nbformat": 4,
  "vscode": {
   "interpreter": {
    "hash": "3ea19d11efa7602c1f12500925a974ed4f31fcf847bd6f694bd5180da2602ded"
   }
  }
 },
 "nbformat": 4,
 "nbformat_minor": 2
}
