{
 "cells": [
  {
   "cell_type": "code",
   "execution_count": 117,
   "metadata": {},
   "outputs": [],
   "source": [
    "import requests"
   ]
  },
  {
   "cell_type": "code",
   "execution_count": 118,
   "metadata": {},
   "outputs": [],
   "source": [
    "import numpy as np"
   ]
  },
  {
   "cell_type": "code",
   "execution_count": 74,
   "metadata": {},
   "outputs": [
    {
     "data": {
      "text/plain": [
       "{'backend',\n",
       " 'batch_input',\n",
       " 'batch_output',\n",
       " 'cc_model_filenames',\n",
       " 'default_model_filename',\n",
       " 'ensemble_scheduling',\n",
       " 'input',\n",
       " 'instance_group',\n",
       " 'max_batch_size',\n",
       " 'metric_tags',\n",
       " 'model_transaction_policy',\n",
       " 'model_warmup',\n",
       " 'name',\n",
       " 'output',\n",
       " 'parameters',\n",
       " 'platform',\n",
       " 'version_policy'}"
      ]
     },
     "execution_count": 74,
     "metadata": {},
     "output_type": "execute_result"
    }
   ],
   "source": [
    "set(requests.get('http://localhost:8000/v2/models/query_classify_ensemble/config').json())"
   ]
  },
  {
   "cell_type": "code",
   "execution_count": 75,
   "metadata": {},
   "outputs": [],
   "source": [
    "input_json = {\n",
    "   \"inputs\":[\n",
    "      {\t\n",
    "      \"name\": \"text\",\n",
    "      \"shape\": [2,1],\n",
    "      \"datatype\": \"BYTES\",\n",
    "      \"data\": [['hello' * 2], ['bye']]\n",
    "      }\n",
    "   ]\n",
    "}"
   ]
  },
  {
   "cell_type": "code",
   "execution_count": 76,
   "metadata": {},
   "outputs": [],
   "source": [
    "res = requests.post('http://localhost:8000/v2/models/query_classify_tokenizer/versions/1/infer', json=input_json).json()"
   ]
  },
  {
   "cell_type": "code",
   "execution_count": 78,
   "metadata": {},
   "outputs": [
    {
     "data": {
      "text/plain": [
       "{'model_name', 'model_version', 'outputs'}"
      ]
     },
     "execution_count": 78,
     "metadata": {},
     "output_type": "execute_result"
    }
   ],
   "source": [
    "set(res)"
   ]
  },
  {
   "cell_type": "code",
   "execution_count": 79,
   "metadata": {},
   "outputs": [],
   "source": [
    "input_json = {\n",
    "   \"inputs\":[\n",
    "      {\t\n",
    "         \"name\": \"input_ids\",\n",
    "         \"shape\": [1, 4],\n",
    "         \"datatype\": \"INT64\",\n",
    "         \"data\": [[1, 1, 1, 1]]\n",
    "      },\n",
    "      {\t\n",
    "         \"name\": \"attention_mask\",\n",
    "         \"shape\": [1, 4],\n",
    "         \"datatype\": \"INT64\",\n",
    "         \"data\": [[1, 1, 1, 1]]\n",
    "      }\n",
    "   ]\n",
    "}"
   ]
  },
  {
   "cell_type": "code",
   "execution_count": 80,
   "metadata": {},
   "outputs": [],
   "source": [
    "res = requests.post('http://localhost:8000/v2/models/query_classify_onnx/versions/1/infer', json=input_json).json()"
   ]
  },
  {
   "cell_type": "code",
   "execution_count": 81,
   "metadata": {},
   "outputs": [
    {
     "data": {
      "text/plain": [
       "{'model_name', 'model_version', 'outputs'}"
      ]
     },
     "execution_count": 81,
     "metadata": {},
     "output_type": "execute_result"
    }
   ],
   "source": [
    "set(res)"
   ]
  },
  {
   "cell_type": "code",
   "execution_count": 127,
   "metadata": {},
   "outputs": [],
   "source": [
    "input_json = {\n",
    "   \"inputs\":[\n",
    "      {\t\n",
    "      \"name\": \"text\",\n",
    "      \"shape\": [1,1],\n",
    "      \"datatype\": \"BYTES\",\n",
    "      \"data\": ['Classify query: rothco 40139/40169/40 lt;wbr gt;129/40239/4015 lt;wbr gt;9/40125/41129 molle ii 3-day assault pack']\n",
    "      }\n",
    "   ]\n",
    "}"
   ]
  },
  {
   "cell_type": "code",
   "execution_count": 128,
   "metadata": {},
   "outputs": [],
   "source": [
    "res = requests.post('http://localhost:8000/v2/models/query_classify_ensemble/versions/1/infer', json=input_json).json()"
   ]
  },
  {
   "cell_type": "code",
   "execution_count": 129,
   "metadata": {},
   "outputs": [
    {
     "data": {
      "text/plain": [
       "{'model_name', 'model_version', 'outputs', 'parameters'}"
      ]
     },
     "execution_count": 129,
     "metadata": {},
     "output_type": "execute_result"
    }
   ],
   "source": [
    "set(res)"
   ]
  },
  {
   "cell_type": "code",
   "execution_count": 215,
   "metadata": {},
   "outputs": [],
   "source": [
    "input_json = {\n",
    "   \"inputs\":[\n",
    "      {\t\n",
    "      \"name\": \"text\",\n",
    "      \"shape\": [64,1],\n",
    "      \"datatype\": \"BYTES\",\n",
    "      \"data\": ['Classify query: dildo'] * 64\n",
    "      }\n",
    "   ]\n",
    "}"
   ]
  },
  {
   "cell_type": "code",
   "execution_count": 216,
   "metadata": {},
   "outputs": [],
   "source": [
    "res = requests.post('http://localhost:8000/v2/models/query_classify_ensemble/versions/1/infer', json=input_json).json()"
   ]
  },
  {
   "cell_type": "code",
   "execution_count": 217,
   "metadata": {},
   "outputs": [
    {
     "data": {
      "text/plain": [
       "{'model_name': 'query_classify_ensemble',\n",
       " 'model_version': '1',\n",
       " 'parameters': {'sequence_id': 0,\n",
       "  'sequence_start': False,\n",
       "  'sequence_end': False},\n",
       " 'outputs': [{'name': 'weights',\n",
       "   'datatype': 'BYTES',\n",
       "   'shape': [2],\n",
       "   'data': ['0.9913872741634293,0.041354320304082794,0.012661241504828174,0.0028439047863669646,0.0026740422460652643,0.002666802230467729,0.0021832118795518662,0.0021646143962891647,0.00209828174567186,0.0020010979724855112',\n",
       "    '0.9730964170194983,0.16338344685905343,0.04844044228406595,0.016988948668499995,0.013814002133392046,0.013090193619753655,0.0038075623246409764,0.003753926175974252,0.003585217032781402,0.0034202455861947778']},\n",
       "  {'name': 'categories',\n",
       "   'datatype': 'BYTES',\n",
       "   'shape': [2],\n",
       "   'data': ['1143,1134,1159,1118,1156,1153,1115,1139,1138,1158',\n",
       "    '1316,1255,1245,1273,1313,1285,1264,1458,1308,1279']}]}"
      ]
     },
     "execution_count": 217,
     "metadata": {},
     "output_type": "execute_result"
    }
   ],
   "source": [
    "res"
   ]
  },
  {
   "cell_type": "code",
   "execution_count": 16,
   "metadata": {},
   "outputs": [
    {
     "data": {
      "text/plain": [
       "{'sequence_id': 0, 'sequence_start': False, 'sequence_end': False}"
      ]
     },
     "execution_count": 16,
     "metadata": {},
     "output_type": "execute_result"
    }
   ],
   "source": [
    "res['parameters']"
   ]
  },
  {
   "cell_type": "code",
   "execution_count": 116,
   "metadata": {},
   "outputs": [],
   "source": [
    "# model-analyzer profile --config-file model_analyzer.yaml --override-output-model-repository --run-config-search-mode quick"
   ]
  },
  {
   "cell_type": "code",
   "execution_count": null,
   "metadata": {},
   "outputs": [],
   "source": [
    "# perf_analyzer -m query_classify_onnx -u coeus-gpu-multitask-ml-stage.service.consul:8081 --shape input_ids:64 --shape attention_mask:64 --concurrency-range 1:10 --percentile 95 -i grpc"
   ]
  },
  {
   "cell_type": "code",
   "execution_count": null,
   "metadata": {},
   "outputs": [],
   "source": [
    "# perf_analyzer -m query_classify_ensemble --concurrency-range 1:10"
   ]
  }
 ],
 "metadata": {
  "kernelspec": {
   "display_name": "Python 3",
   "language": "python",
   "name": "python3"
  },
  "language_info": {
   "codemirror_mode": {
    "name": "ipython",
    "version": 3
   },
   "file_extension": ".py",
   "mimetype": "text/x-python",
   "name": "python",
   "nbconvert_exporter": "python",
   "pygments_lexer": "ipython3",
   "version": "3.8.10"
  },
  "orig_nbformat": 4,
  "vscode": {
   "interpreter": {
    "hash": "31f2aee4e71d21fbe5cf8b01ff0e069b9275f58929596ceb00d14d90e3e16cd6"
   }
  }
 },
 "nbformat": 4,
 "nbformat_minor": 2
}
