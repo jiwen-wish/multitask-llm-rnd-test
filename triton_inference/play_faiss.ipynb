{
 "cells": [
  {
   "cell_type": "code",
   "execution_count": 1,
   "metadata": {},
   "outputs": [
    {
     "name": "stderr",
     "output_type": "stream",
     "text": [
      "/usr/local/lib/python3.8/dist-packages/tqdm/auto.py:21: TqdmWarning: IProgress not found. Please update jupyter and ipywidgets. See https://ipywidgets.readthedocs.io/en/stable/user_install.html\n",
      "  from .autonotebook import tqdm as notebook_tqdm\n"
     ]
    }
   ],
   "source": [
    "from datasets import load_dataset, Dataset"
   ]
  },
  {
   "cell_type": "code",
   "execution_count": 2,
   "metadata": {},
   "outputs": [],
   "source": [
    "import pandas as pd\n",
    "import numpy as np"
   ]
  },
  {
   "cell_type": "code",
   "execution_count": 4,
   "metadata": {},
   "outputs": [],
   "source": [
    "ds = Dataset.from_pandas(pd.DataFrame(\n",
    "    {\"pid\": [str(i) for i in range(1000_000)]}\n",
    "))"
   ]
  },
  {
   "cell_type": "code",
   "execution_count": 5,
   "metadata": {},
   "outputs": [
    {
     "name": "stderr",
     "output_type": "stream",
     "text": [
      "                                                                       \r"
     ]
    }
   ],
   "source": [
    "ds_with_embeddings = ds.map(lambda example: {'embeddings': np.random.random(512)})"
   ]
  },
  {
   "cell_type": "code",
   "execution_count": 6,
   "metadata": {},
   "outputs": [
    {
     "data": {
      "text/plain": [
       "Dataset({\n",
       "    features: ['pid', 'embeddings'],\n",
       "    num_rows: 1000000\n",
       "})"
      ]
     },
     "execution_count": 6,
     "metadata": {},
     "output_type": "execute_result"
    }
   ],
   "source": [
    "ds_with_embeddings"
   ]
  },
  {
   "cell_type": "code",
   "execution_count": 8,
   "metadata": {},
   "outputs": [
    {
     "name": "stderr",
     "output_type": "stream",
     "text": [
      "100%|██████████| 1000/1000 [00:05<00:00, 194.66it/s]\n"
     ]
    },
    {
     "data": {
      "text/plain": [
       "Dataset({\n",
       "    features: ['pid', 'embeddings'],\n",
       "    num_rows: 1000000\n",
       "})"
      ]
     },
     "execution_count": 8,
     "metadata": {},
     "output_type": "execute_result"
    }
   ],
   "source": [
    "ds_with_embeddings.add_faiss_index(column='embeddings')"
   ]
  },
  {
   "cell_type": "code",
   "execution_count": 13,
   "metadata": {},
   "outputs": [
    {
     "name": "stdout",
     "output_type": "stream",
     "text": [
      "406 ms ± 10.9 ms per loop (mean ± std. dev. of 7 runs, 1 loop each)\n"
     ]
    }
   ],
   "source": [
    "%%timeit\n",
    "scores, retrieved_examples = ds_with_embeddings.get_nearest_examples('embeddings', \n",
    "    np.random.random(512), k=1000)"
   ]
  },
  {
   "cell_type": "code",
   "execution_count": 1,
   "metadata": {},
   "outputs": [
    {
     "name": "stderr",
     "output_type": "stream",
     "text": [
      "2023-04-16 15:17:03,295 [INFO]: Using 4 omp threads (processes), consider increasing --nb_cores if you have more\n",
      "2023-04-16 15:17:04,219 [INFO]: Launching the whole pipeline 04/16/2023, 15:17:04\n",
      "2023-04-16 15:17:04,220 [INFO]: Reading total number of vectors and dimension 04/16/2023, 15:17:04\n",
      "100%|██████████| 1/1 [00:00<00:00, 12336.19it/s]\n",
      "2023-04-16 15:17:04,289 [INFO]: There are 1000000 embeddings of dim 512\n",
      "2023-04-16 15:17:04,290 [INFO]: >>> Finished \"Reading total number of vectors and dimension\" in 0.0689 secs\n",
      "2023-04-16 15:17:04,291 [INFO]: \tCompute estimated construction time of the index 04/16/2023, 15:17:04\n",
      "2023-04-16 15:17:04,293 [INFO]: \t\t-> Train: 16.7 minutes\n",
      "2023-04-16 15:17:04,294 [INFO]: \t\t-> Add: 5.7 seconds\n",
      "2023-04-16 15:17:04,294 [INFO]: \t\tTotal: 16.8 minutes\n",
      "2023-04-16 15:17:04,295 [INFO]: \t>>> Finished \"Compute estimated construction time of the index\" in 0.0032 secs\n",
      "2023-04-16 15:17:04,296 [INFO]: \tChecking that your have enough memory available to create the index 04/16/2023, 15:17:04\n",
      "2023-04-16 15:17:04,297 [INFO]: 2.4GB of memory will be needed to build the index (more might be used if you have more)\n",
      "2023-04-16 15:17:04,298 [INFO]: \t>>> Finished \"Checking that your have enough memory available to create the index\" in 0.0019 secs\n",
      "2023-04-16 15:17:04,299 [INFO]: \tSelecting most promising index types given data characteristics 04/16/2023, 15:17:04\n",
      "2023-04-16 15:17:04,300 [INFO]: \t>>> Finished \"Selecting most promising index types given data characteristics\" in 0.0001 secs\n",
      "2023-04-16 15:17:04,301 [INFO]: \tCreating the index 04/16/2023, 15:17:04\n",
      "2023-04-16 15:17:04,302 [INFO]: \t\t-> Instanciate the index HNSW32 04/16/2023, 15:17:04\n",
      "2023-04-16 15:17:04,313 [INFO]: \t\t>>> Finished \"-> Instanciate the index HNSW32\" in 0.0108 secs\n",
      "2023-04-16 15:17:04,314 [INFO]: \t\t-> Adding the vectors to the index 04/16/2023, 15:17:04\n",
      "2023-04-16 15:17:04,314 [INFO]: The memory available for adding the vectors is 29.9GB(total available - used by the index)\n",
      "2023-04-16 15:17:04,315 [INFO]: Using a batch size of 488281 (memory overhead 953.7MB)\n",
      " 42%|████▏     | 18/43 [00:00<00:00, 32.41it/s]"
     ]
    }
   ],
   "source": [
    "from autofaiss import build_index\n",
    "import numpy as np\n",
    "\n",
    "embeddings = np.float32(np.random.rand(1000_000, 512))\n",
    "index, index_infos = build_index(embeddings, save_on_disk=False)\n"
   ]
  },
  {
   "cell_type": "code",
   "execution_count": null,
   "metadata": {},
   "outputs": [],
   "source": [
    "\n",
    "query = np.float32(np.random.rand(1, 512))\n",
    "_, I = index.search(query, 1000)\n",
    "print(I)"
   ]
  }
 ],
 "metadata": {
  "kernelspec": {
   "display_name": "Python 3",
   "language": "python",
   "name": "python3"
  },
  "language_info": {
   "codemirror_mode": {
    "name": "ipython",
    "version": 3
   },
   "file_extension": ".py",
   "mimetype": "text/x-python",
   "name": "python",
   "nbconvert_exporter": "python",
   "pygments_lexer": "ipython3",
   "version": "3.8.10"
  },
  "orig_nbformat": 4
 },
 "nbformat": 4,
 "nbformat_minor": 2
}
