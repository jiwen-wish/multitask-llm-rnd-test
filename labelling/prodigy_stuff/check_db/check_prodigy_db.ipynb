{
 "cells": [
  {
   "cell_type": "code",
   "execution_count": 1,
   "metadata": {},
   "outputs": [],
   "source": [
    "from prodigy.components.db import connect\n",
    "\n",
    "db = connect()\n",
    "all_dataset_names = db.datasets\n"
   ]
  },
  {
   "cell_type": "code",
   "execution_count": 2,
   "metadata": {},
   "outputs": [
    {
     "data": {
      "text/plain": [
       "['ner_news_headlines']"
      ]
     },
     "execution_count": 2,
     "metadata": {},
     "output_type": "execute_result"
    }
   ],
   "source": [
    "all_dataset_names"
   ]
  },
  {
   "cell_type": "code",
   "execution_count": 7,
   "metadata": {},
   "outputs": [],
   "source": [
    "examples = db.get_dataset_examples(\"ner_news_headlines\")"
   ]
  },
  {
   "cell_type": "code",
   "execution_count": 8,
   "metadata": {},
   "outputs": [
    {
     "data": {
      "text/plain": [
       "43"
      ]
     },
     "execution_count": 8,
     "metadata": {},
     "output_type": "execute_result"
    }
   ],
   "source": [
    "len(examples)"
   ]
  },
  {
   "cell_type": "code",
   "execution_count": 9,
   "metadata": {},
   "outputs": [
    {
     "data": {
      "text/plain": [
       "{'text': 'Daily Report: From Lean to Fat Start-Ups',\n",
       " 'meta': {'source': 'The New York Times'},\n",
       " '_input_hash': 1695701134,\n",
       " '_task_hash': 189454489,\n",
       " 'tokens': [{'text': 'Daily', 'start': 0, 'end': 5, 'id': 0},\n",
       "  {'text': 'Report', 'start': 6, 'end': 12, 'id': 1},\n",
       "  {'text': ':', 'start': 12, 'end': 13, 'id': 2},\n",
       "  {'text': 'From', 'start': 14, 'end': 18, 'id': 3},\n",
       "  {'text': 'Lean', 'start': 19, 'end': 23, 'id': 4},\n",
       "  {'text': 'to', 'start': 24, 'end': 26, 'id': 5},\n",
       "  {'text': 'Fat', 'start': 27, 'end': 30, 'id': 6},\n",
       "  {'text': 'Start', 'start': 31, 'end': 36, 'id': 7},\n",
       "  {'text': '-', 'start': 36, 'end': 37, 'id': 8},\n",
       "  {'text': 'Ups', 'start': 37, 'end': 40, 'id': 9}],\n",
       " '_session_id': 'ner_news_headlines-hao',\n",
       " '_view_id': 'ner_manual',\n",
       " 'answer': 'accept',\n",
       " '_is_binary': False,\n",
       " '_annotator_id': 'ner_news_headlines-hao'}"
      ]
     },
     "execution_count": 9,
     "metadata": {},
     "output_type": "execute_result"
    }
   ],
   "source": [
    "examples[0]"
   ]
  },
  {
   "cell_type": "code",
   "execution_count": null,
   "metadata": {},
   "outputs": [],
   "source": []
  }
 ],
 "metadata": {
  "kernelspec": {
   "display_name": "py38",
   "language": "python",
   "name": "python3"
  },
  "language_info": {
   "codemirror_mode": {
    "name": "ipython",
    "version": 3
   },
   "file_extension": ".py",
   "mimetype": "text/x-python",
   "name": "python",
   "nbconvert_exporter": "python",
   "pygments_lexer": "ipython3",
   "version": "3.8.13"
  },
  "orig_nbformat": 4,
  "vscode": {
   "interpreter": {
    "hash": "3ea19d11efa7602c1f12500925a974ed4f31fcf847bd6f694bd5180da2602ded"
   }
  }
 },
 "nbformat": 4,
 "nbformat_minor": 2
}
