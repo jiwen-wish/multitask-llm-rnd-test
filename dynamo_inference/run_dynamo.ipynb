{
 "cells": [
  {
   "cell_type": "code",
   "execution_count": 1,
   "metadata": {},
   "outputs": [
    {
     "name": "stdout",
     "output_type": "stream",
     "text": [
      "Python 3.10.9\n"
     ]
    }
   ],
   "source": [
    "!python --version"
   ]
  },
  {
   "cell_type": "code",
   "execution_count": 2,
   "metadata": {},
   "outputs": [
    {
     "name": "stdout",
     "output_type": "stream",
     "text": [
      "Thu Jan 26 18:42:57 2023       \n",
      "+-----------------------------------------------------------------------------+\n",
      "| NVIDIA-SMI 515.65.01    Driver Version: 515.65.01    CUDA Version: 11.7     |\n",
      "|-------------------------------+----------------------+----------------------+\n",
      "| GPU  Name        Persistence-M| Bus-Id        Disp.A | Volatile Uncorr. ECC |\n",
      "| Fan  Temp  Perf  Pwr:Usage/Cap|         Memory-Usage | GPU-Util  Compute M. |\n",
      "|                               |                      |               MIG M. |\n",
      "|===============================+======================+======================|\n",
      "|   0  Tesla T4            On   | 00000000:00:1E.0 Off |                    0 |\n",
      "| N/A   46C    P8    17W /  70W |      2MiB / 15360MiB |      0%      Default |\n",
      "|                               |                      |                  N/A |\n",
      "+-------------------------------+----------------------+----------------------+\n",
      "                                                                               \n",
      "+-----------------------------------------------------------------------------+\n",
      "| Processes:                                                                  |\n",
      "|  GPU   GI   CI        PID   Type   Process name                  GPU Memory |\n",
      "|        ID   ID                                                   Usage      |\n",
      "|=============================================================================|\n",
      "|  No running processes found                                                 |\n",
      "+-----------------------------------------------------------------------------+\n"
     ]
    }
   ],
   "source": [
    "!nvidia-smi"
   ]
  },
  {
   "cell_type": "code",
   "execution_count": 3,
   "metadata": {},
   "outputs": [
    {
     "name": "stdout",
     "output_type": "stream",
     "text": [
      "nvcc: NVIDIA (R) Cuda compiler driver\n",
      "Copyright (c) 2005-2022 NVIDIA Corporation\n",
      "Built on Tue_Mar__8_18:18:20_PST_2022\n",
      "Cuda compilation tools, release 11.6, V11.6.124\n",
      "Build cuda_11.6.r11.6/compiler.31057947_0\n"
     ]
    }
   ],
   "source": [
    "!nvcc --version"
   ]
  },
  {
   "cell_type": "code",
   "execution_count": 4,
   "metadata": {},
   "outputs": [
    {
     "data": {
      "text/plain": [
       "'2.0.0.dev20230125'"
      ]
     },
     "execution_count": 4,
     "metadata": {},
     "output_type": "execute_result"
    }
   ],
   "source": [
    "import torch\n",
    "torch.__version__"
   ]
  },
  {
   "cell_type": "code",
   "execution_count": 5,
   "metadata": {},
   "outputs": [
    {
     "name": "stderr",
     "output_type": "stream",
     "text": [
      "/opt/conda/lib/python3.10/site-packages/tqdm/auto.py:22: TqdmWarning: IProgress not found. Please update jupyter and ipywidgets. See https://ipywidgets.readthedocs.io/en/stable/user_install.html\n",
      "  from .autonotebook import tqdm as notebook_tqdm\n"
     ]
    },
    {
     "data": {
      "text/plain": [
       "'4.22.2'"
      ]
     },
     "execution_count": 5,
     "metadata": {},
     "output_type": "execute_result"
    }
   ],
   "source": [
    "import transformers\n",
    "transformers.__version__"
   ]
  },
  {
   "cell_type": "code",
   "execution_count": 6,
   "metadata": {},
   "outputs": [],
   "source": [
    "from transformers import AutoModelForSeq2SeqLM, AutoTokenizer\n",
    "import torch._dynamo as torchdynamo\n",
    "import torch"
   ]
  },
  {
   "cell_type": "code",
   "execution_count": 7,
   "metadata": {},
   "outputs": [],
   "source": [
    "# default cache size needs to be increased to store the many graphs with generative models\n",
    "torchdynamo.config.cache_size_limit = 512"
   ]
  },
  {
   "cell_type": "code",
   "execution_count": 28,
   "metadata": {},
   "outputs": [],
   "source": [
    "model_name = \"../coeus_inference/hf_models/query_classify_v2\""
   ]
  },
  {
   "cell_type": "code",
   "execution_count": 29,
   "metadata": {},
   "outputs": [],
   "source": [
    "model = AutoModelForSeq2SeqLM.from_pretrained(model_name)\n",
    "model = model.eval().cuda()\n",
    "tokenizer = AutoTokenizer.from_pretrained(model_name)"
   ]
  },
  {
   "cell_type": "code",
   "execution_count": 51,
   "metadata": {},
   "outputs": [],
   "source": [
    "inputs = tokenizer(\"Generate taxonomy for query: dildo\", return_tensors=\"pt\", padding='max_length', truncation=True, max_length=50).to('cuda')"
   ]
  },
  {
   "attachments": {},
   "cell_type": "markdown",
   "metadata": {},
   "source": [
    "# pytorch"
   ]
  },
  {
   "attachments": {},
   "cell_type": "markdown",
   "metadata": {},
   "source": [
    "## vanilla"
   ]
  },
  {
   "cell_type": "code",
   "execution_count": 53,
   "metadata": {},
   "outputs": [
    {
     "name": "stdout",
     "output_type": "stream",
     "text": [
      "['<pad> beauty & health > sexual wellness > sex toys > dildos</s>', '<pad> beauty & health > sexual wellness > sex toys</s><pad><pad><pad>', '<pad> beauty & health > sexual wellness > sm products > masturbation machine</s>']\n",
      "['<pad> beauty & health > sexual wellness > sex toys > dildos</s>', '<pad> beauty & health > sexual wellness > sex toys</s><pad><pad><pad>', '<pad> beauty & health > sexual wellness > sm products > masturbation machine</s>']\n",
      "['<pad> beauty & health > sexual wellness > sex toys > dildos</s>', '<pad> beauty & health > sexual wellness > sex toys</s><pad><pad><pad>', '<pad> beauty & health > sexual wellness > sm products > masturbation machine</s>']\n",
      "['<pad> beauty & health > sexual wellness > sex toys > dildos</s>', '<pad> beauty & health > sexual wellness > sex toys</s><pad><pad><pad>', '<pad> beauty & health > sexual wellness > sm products > masturbation machine</s>']\n",
      "['<pad> beauty & health > sexual wellness > sex toys > dildos</s>', '<pad> beauty & health > sexual wellness > sex toys</s><pad><pad><pad>', '<pad> beauty & health > sexual wellness > sm products > masturbation machine</s>']\n",
      "['<pad> beauty & health > sexual wellness > sex toys > dildos</s>', '<pad> beauty & health > sexual wellness > sex toys</s><pad><pad><pad>', '<pad> beauty & health > sexual wellness > sm products > masturbation machine</s>']\n",
      "['<pad> beauty & health > sexual wellness > sex toys > dildos</s>', '<pad> beauty & health > sexual wellness > sex toys</s><pad><pad><pad>', '<pad> beauty & health > sexual wellness > sm products > masturbation machine</s>']\n",
      "['<pad> beauty & health > sexual wellness > sex toys > dildos</s>', '<pad> beauty & health > sexual wellness > sex toys</s><pad><pad><pad>', '<pad> beauty & health > sexual wellness > sm products > masturbation machine</s>']\n",
      "362 ms ± 3.13 ms per loop (mean ± std. dev. of 7 runs, 1 loop each)\n"
     ]
    }
   ],
   "source": [
    "%%timeit\n",
    "print(tokenizer.batch_decode(model.generate(**inputs, num_beams=3, num_return_sequences=3, max_length=50)))"
   ]
  },
  {
   "cell_type": "code",
   "execution_count": 54,
   "metadata": {},
   "outputs": [
    {
     "name": "stdout",
     "output_type": "stream",
     "text": [
      "['<pad> beauty & health > sexual wellness > sex toys > dildos</s>']\n",
      "['<pad> beauty & health > sexual wellness > sex toys > dildos</s>']\n",
      "['<pad> beauty & health > sexual wellness > sex toys > dildos</s>']\n",
      "['<pad> beauty & health > sexual wellness > sex toys > dildos</s>']\n",
      "['<pad> beauty & health > sexual wellness > sex toys > dildos</s>']\n",
      "['<pad> beauty & health > sexual wellness > sex toys > dildos</s>']\n",
      "['<pad> beauty & health > sexual wellness > sex toys > dildos</s>']\n",
      "['<pad> beauty & health > sexual wellness > sex toys > dildos</s>']\n",
      "276 ms ± 8.73 ms per loop (mean ± std. dev. of 7 runs, 1 loop each)\n"
     ]
    }
   ],
   "source": [
    "%%timeit\n",
    "print(tokenizer.batch_decode(model.generate(**inputs, max_length=50)))"
   ]
  },
  {
   "attachments": {},
   "cell_type": "markdown",
   "metadata": {},
   "source": [
    "## inference mode"
   ]
  },
  {
   "cell_type": "code",
   "execution_count": 55,
   "metadata": {},
   "outputs": [
    {
     "name": "stdout",
     "output_type": "stream",
     "text": [
      "['<pad> beauty & health > sexual wellness > sex toys > dildos</s>', '<pad> beauty & health > sexual wellness > sex toys</s><pad><pad><pad>', '<pad> beauty & health > sexual wellness > sm products > masturbation machine</s>']\n",
      "['<pad> beauty & health > sexual wellness > sex toys > dildos</s>', '<pad> beauty & health > sexual wellness > sex toys</s><pad><pad><pad>', '<pad> beauty & health > sexual wellness > sm products > masturbation machine</s>']\n",
      "['<pad> beauty & health > sexual wellness > sex toys > dildos</s>', '<pad> beauty & health > sexual wellness > sex toys</s><pad><pad><pad>', '<pad> beauty & health > sexual wellness > sm products > masturbation machine</s>']\n",
      "['<pad> beauty & health > sexual wellness > sex toys > dildos</s>', '<pad> beauty & health > sexual wellness > sex toys</s><pad><pad><pad>', '<pad> beauty & health > sexual wellness > sm products > masturbation machine</s>']\n",
      "['<pad> beauty & health > sexual wellness > sex toys > dildos</s>', '<pad> beauty & health > sexual wellness > sex toys</s><pad><pad><pad>', '<pad> beauty & health > sexual wellness > sm products > masturbation machine</s>']\n",
      "['<pad> beauty & health > sexual wellness > sex toys > dildos</s>', '<pad> beauty & health > sexual wellness > sex toys</s><pad><pad><pad>', '<pad> beauty & health > sexual wellness > sm products > masturbation machine</s>']\n",
      "['<pad> beauty & health > sexual wellness > sex toys > dildos</s>', '<pad> beauty & health > sexual wellness > sex toys</s><pad><pad><pad>', '<pad> beauty & health > sexual wellness > sm products > masturbation machine</s>']\n",
      "['<pad> beauty & health > sexual wellness > sex toys > dildos</s>', '<pad> beauty & health > sexual wellness > sex toys</s><pad><pad><pad>', '<pad> beauty & health > sexual wellness > sm products > masturbation machine</s>']\n",
      "332 ms ± 3.49 ms per loop (mean ± std. dev. of 7 runs, 1 loop each)\n"
     ]
    }
   ],
   "source": [
    "%%timeit\n",
    "with torch.inference_mode():\n",
    "    print(tokenizer.batch_decode(model.generate(**inputs, num_beams=3, num_return_sequences=3, max_length=50)))"
   ]
  },
  {
   "cell_type": "code",
   "execution_count": 56,
   "metadata": {},
   "outputs": [
    {
     "name": "stdout",
     "output_type": "stream",
     "text": [
      "['<pad> beauty & health > sexual wellness > sex toys > dildos</s>']\n",
      "['<pad> beauty & health > sexual wellness > sex toys > dildos</s>']\n",
      "['<pad> beauty & health > sexual wellness > sex toys > dildos</s>']\n",
      "['<pad> beauty & health > sexual wellness > sex toys > dildos</s>']\n",
      "['<pad> beauty & health > sexual wellness > sex toys > dildos</s>']\n",
      "['<pad> beauty & health > sexual wellness > sex toys > dildos</s>']\n",
      "['<pad> beauty & health > sexual wellness > sex toys > dildos</s>']\n",
      "['<pad> beauty & health > sexual wellness > sex toys > dildos</s>']\n",
      "247 ms ± 3.66 ms per loop (mean ± std. dev. of 7 runs, 1 loop each)\n"
     ]
    }
   ],
   "source": [
    "%%timeit\n",
    "with torch.inference_mode():\n",
    "    print(tokenizer.batch_decode(model.generate(**inputs, max_length=50)))"
   ]
  },
  {
   "attachments": {},
   "cell_type": "markdown",
   "metadata": {},
   "source": [
    "# dynamo"
   ]
  },
  {
   "cell_type": "code",
   "execution_count": 57,
   "metadata": {},
   "outputs": [],
   "source": [
    "model.generate2 = torchdynamo.optimize(\"inductor\")(model.generate)"
   ]
  },
  {
   "cell_type": "code",
   "execution_count": null,
   "metadata": {},
   "outputs": [],
   "source": [
    "# dynamo warm up\n",
    "with torch.inference_mode():\n",
    "    print(tokenizer.batch_decode(model.generate2(**inputs)))"
   ]
  },
  {
   "cell_type": "code",
   "execution_count": 59,
   "metadata": {},
   "outputs": [
    {
     "name": "stderr",
     "output_type": "stream",
     "text": [
      "/opt/conda/lib/python3.10/site-packages/transformers/generation_utils.py:1227: UserWarning: Neither `max_length` nor `max_new_tokens` has been set, `max_length` will default to 20 (`self.config.max_length`). Controlling `max_length` via the config is deprecated and `max_length` will be removed from the config in v5 of Transformers -- we recommend using `max_new_tokens` to control the maximum length of the generation.\n",
      "  warnings.warn(\n"
     ]
    },
    {
     "name": "stdout",
     "output_type": "stream",
     "text": [
      "['<pad> beauty & health > sexual wellness > sex toys > dildos</s>']\n",
      "['<pad> beauty & health > sexual wellness > sex toys > dildos</s>']\n",
      "['<pad> beauty & health > sexual wellness > sex toys > dildos</s>']\n",
      "['<pad> beauty & health > sexual wellness > sex toys > dildos</s>']\n",
      "['<pad> beauty & health > sexual wellness > sex toys > dildos</s>']\n",
      "['<pad> beauty & health > sexual wellness > sex toys > dildos</s>']\n",
      "['<pad> beauty & health > sexual wellness > sex toys > dildos</s>']\n",
      "['<pad> beauty & health > sexual wellness > sex toys > dildos</s>']\n",
      "['<pad> beauty & health > sexual wellness > sex toys > dildos</s>']\n",
      "['<pad> beauty & health > sexual wellness > sex toys > dildos</s>']\n",
      "['<pad> beauty & health > sexual wellness > sex toys > dildos</s>']\n",
      "['<pad> beauty & health > sexual wellness > sex toys > dildos</s>']\n",
      "['<pad> beauty & health > sexual wellness > sex toys > dildos</s>']\n",
      "['<pad> beauty & health > sexual wellness > sex toys > dildos</s>']\n",
      "['<pad> beauty & health > sexual wellness > sex toys > dildos</s>']\n",
      "['<pad> beauty & health > sexual wellness > sex toys > dildos</s>']\n",
      "['<pad> beauty & health > sexual wellness > sex toys > dildos</s>']\n",
      "['<pad> beauty & health > sexual wellness > sex toys > dildos</s>']\n",
      "['<pad> beauty & health > sexual wellness > sex toys > dildos</s>']\n",
      "['<pad> beauty & health > sexual wellness > sex toys > dildos</s>']\n",
      "['<pad> beauty & health > sexual wellness > sex toys > dildos</s>']\n",
      "['<pad> beauty & health > sexual wellness > sex toys > dildos</s>']\n",
      "['<pad> beauty & health > sexual wellness > sex toys > dildos</s>']\n",
      "['<pad> beauty & health > sexual wellness > sex toys > dildos</s>']\n",
      "['<pad> beauty & health > sexual wellness > sex toys > dildos</s>']\n",
      "['<pad> beauty & health > sexual wellness > sex toys > dildos</s>']\n",
      "['<pad> beauty & health > sexual wellness > sex toys > dildos</s>']\n",
      "['<pad> beauty & health > sexual wellness > sex toys > dildos</s>']\n",
      "['<pad> beauty & health > sexual wellness > sex toys > dildos</s>']\n",
      "['<pad> beauty & health > sexual wellness > sex toys > dildos</s>']\n",
      "['<pad> beauty & health > sexual wellness > sex toys > dildos</s>']\n",
      "['<pad> beauty & health > sexual wellness > sex toys > dildos</s>']\n",
      "['<pad> beauty & health > sexual wellness > sex toys > dildos</s>']\n",
      "['<pad> beauty & health > sexual wellness > sex toys > dildos</s>']\n",
      "['<pad> beauty & health > sexual wellness > sex toys > dildos</s>']\n",
      "['<pad> beauty & health > sexual wellness > sex toys > dildos</s>']\n",
      "['<pad> beauty & health > sexual wellness > sex toys > dildos</s>']\n",
      "['<pad> beauty & health > sexual wellness > sex toys > dildos</s>']\n",
      "['<pad> beauty & health > sexual wellness > sex toys > dildos</s>']\n",
      "['<pad> beauty & health > sexual wellness > sex toys > dildos</s>']\n",
      "['<pad> beauty & health > sexual wellness > sex toys > dildos</s>']\n",
      "['<pad> beauty & health > sexual wellness > sex toys > dildos</s>']\n",
      "['<pad> beauty & health > sexual wellness > sex toys > dildos</s>']\n",
      "['<pad> beauty & health > sexual wellness > sex toys > dildos</s>']\n",
      "['<pad> beauty & health > sexual wellness > sex toys > dildos</s>']\n",
      "['<pad> beauty & health > sexual wellness > sex toys > dildos</s>']\n",
      "['<pad> beauty & health > sexual wellness > sex toys > dildos</s>']\n",
      "['<pad> beauty & health > sexual wellness > sex toys > dildos</s>']\n",
      "['<pad> beauty & health > sexual wellness > sex toys > dildos</s>']\n",
      "['<pad> beauty & health > sexual wellness > sex toys > dildos</s>']\n",
      "['<pad> beauty & health > sexual wellness > sex toys > dildos</s>']\n",
      "['<pad> beauty & health > sexual wellness > sex toys > dildos</s>']\n",
      "['<pad> beauty & health > sexual wellness > sex toys > dildos</s>']\n",
      "['<pad> beauty & health > sexual wellness > sex toys > dildos</s>']\n",
      "['<pad> beauty & health > sexual wellness > sex toys > dildos</s>']\n",
      "['<pad> beauty & health > sexual wellness > sex toys > dildos</s>']\n",
      "['<pad> beauty & health > sexual wellness > sex toys > dildos</s>']\n",
      "['<pad> beauty & health > sexual wellness > sex toys > dildos</s>']\n",
      "['<pad> beauty & health > sexual wellness > sex toys > dildos</s>']\n",
      "['<pad> beauty & health > sexual wellness > sex toys > dildos</s>']\n",
      "['<pad> beauty & health > sexual wellness > sex toys > dildos</s>']\n",
      "['<pad> beauty & health > sexual wellness > sex toys > dildos</s>']\n",
      "['<pad> beauty & health > sexual wellness > sex toys > dildos</s>']\n",
      "['<pad> beauty & health > sexual wellness > sex toys > dildos</s>']\n",
      "['<pad> beauty & health > sexual wellness > sex toys > dildos</s>']\n",
      "['<pad> beauty & health > sexual wellness > sex toys > dildos</s>']\n",
      "['<pad> beauty & health > sexual wellness > sex toys > dildos</s>']\n",
      "['<pad> beauty & health > sexual wellness > sex toys > dildos</s>']\n",
      "['<pad> beauty & health > sexual wellness > sex toys > dildos</s>']\n",
      "['<pad> beauty & health > sexual wellness > sex toys > dildos</s>']\n",
      "['<pad> beauty & health > sexual wellness > sex toys > dildos</s>']\n",
      "['<pad> beauty & health > sexual wellness > sex toys > dildos</s>']\n",
      "['<pad> beauty & health > sexual wellness > sex toys > dildos</s>']\n",
      "['<pad> beauty & health > sexual wellness > sex toys > dildos</s>']\n",
      "['<pad> beauty & health > sexual wellness > sex toys > dildos</s>']\n",
      "['<pad> beauty & health > sexual wellness > sex toys > dildos</s>']\n",
      "['<pad> beauty & health > sexual wellness > sex toys > dildos</s>']\n",
      "['<pad> beauty & health > sexual wellness > sex toys > dildos</s>']\n",
      "['<pad> beauty & health > sexual wellness > sex toys > dildos</s>']\n",
      "['<pad> beauty & health > sexual wellness > sex toys > dildos</s>']\n",
      "['<pad> beauty & health > sexual wellness > sex toys > dildos</s>']\n",
      "97.1 ms ± 327 µs per loop (mean ± std. dev. of 7 runs, 10 loops each)\n"
     ]
    }
   ],
   "source": [
    "%%timeit\n",
    "with torch.inference_mode():\n",
    "    print(tokenizer.batch_decode(model.generate2(**inputs)))"
   ]
  },
  {
   "cell_type": "code",
   "execution_count": 60,
   "metadata": {},
   "outputs": [],
   "source": [
    "inputs2 = tokenizer(\"Generate taxonomy for query: women gucci\", return_tensors=\"pt\", padding='max_length', truncation=True, max_length=50).to('cuda')"
   ]
  },
  {
   "cell_type": "code",
   "execution_count": 61,
   "metadata": {},
   "outputs": [
    {
     "name": "stdout",
     "output_type": "stream",
     "text": [
      "[\"<pad> luggage & bags > women's bags</s>\"]\n",
      "[\"<pad> luggage & bags > women's bags</s>\"]\n",
      "[\"<pad> luggage & bags > women's bags</s>\"]\n",
      "[\"<pad> luggage & bags > women's bags</s>\"]\n",
      "[\"<pad> luggage & bags > women's bags</s>\"]\n",
      "[\"<pad> luggage & bags > women's bags</s>\"]\n",
      "[\"<pad> luggage & bags > women's bags</s>\"]\n",
      "[\"<pad> luggage & bags > women's bags</s>\"]\n",
      "[\"<pad> luggage & bags > women's bags</s>\"]\n",
      "[\"<pad> luggage & bags > women's bags</s>\"]\n",
      "[\"<pad> luggage & bags > women's bags</s>\"]\n",
      "[\"<pad> luggage & bags > women's bags</s>\"]\n",
      "[\"<pad> luggage & bags > women's bags</s>\"]\n",
      "[\"<pad> luggage & bags > women's bags</s>\"]\n",
      "[\"<pad> luggage & bags > women's bags</s>\"]\n",
      "[\"<pad> luggage & bags > women's bags</s>\"]\n",
      "[\"<pad> luggage & bags > women's bags</s>\"]\n",
      "[\"<pad> luggage & bags > women's bags</s>\"]\n",
      "[\"<pad> luggage & bags > women's bags</s>\"]\n",
      "[\"<pad> luggage & bags > women's bags</s>\"]\n",
      "[\"<pad> luggage & bags > women's bags</s>\"]\n",
      "[\"<pad> luggage & bags > women's bags</s>\"]\n",
      "[\"<pad> luggage & bags > women's bags</s>\"]\n",
      "[\"<pad> luggage & bags > women's bags</s>\"]\n",
      "[\"<pad> luggage & bags > women's bags</s>\"]\n",
      "[\"<pad> luggage & bags > women's bags</s>\"]\n",
      "[\"<pad> luggage & bags > women's bags</s>\"]\n",
      "[\"<pad> luggage & bags > women's bags</s>\"]\n",
      "[\"<pad> luggage & bags > women's bags</s>\"]\n",
      "[\"<pad> luggage & bags > women's bags</s>\"]\n",
      "[\"<pad> luggage & bags > women's bags</s>\"]\n",
      "[\"<pad> luggage & bags > women's bags</s>\"]\n",
      "[\"<pad> luggage & bags > women's bags</s>\"]\n",
      "[\"<pad> luggage & bags > women's bags</s>\"]\n",
      "[\"<pad> luggage & bags > women's bags</s>\"]\n",
      "[\"<pad> luggage & bags > women's bags</s>\"]\n",
      "[\"<pad> luggage & bags > women's bags</s>\"]\n",
      "[\"<pad> luggage & bags > women's bags</s>\"]\n",
      "[\"<pad> luggage & bags > women's bags</s>\"]\n",
      "[\"<pad> luggage & bags > women's bags</s>\"]\n",
      "[\"<pad> luggage & bags > women's bags</s>\"]\n",
      "[\"<pad> luggage & bags > women's bags</s>\"]\n",
      "[\"<pad> luggage & bags > women's bags</s>\"]\n",
      "[\"<pad> luggage & bags > women's bags</s>\"]\n",
      "[\"<pad> luggage & bags > women's bags</s>\"]\n",
      "[\"<pad> luggage & bags > women's bags</s>\"]\n",
      "[\"<pad> luggage & bags > women's bags</s>\"]\n",
      "[\"<pad> luggage & bags > women's bags</s>\"]\n",
      "[\"<pad> luggage & bags > women's bags</s>\"]\n",
      "[\"<pad> luggage & bags > women's bags</s>\"]\n",
      "[\"<pad> luggage & bags > women's bags</s>\"]\n",
      "[\"<pad> luggage & bags > women's bags</s>\"]\n",
      "[\"<pad> luggage & bags > women's bags</s>\"]\n",
      "[\"<pad> luggage & bags > women's bags</s>\"]\n",
      "[\"<pad> luggage & bags > women's bags</s>\"]\n",
      "[\"<pad> luggage & bags > women's bags</s>\"]\n",
      "[\"<pad> luggage & bags > women's bags</s>\"]\n",
      "[\"<pad> luggage & bags > women's bags</s>\"]\n",
      "[\"<pad> luggage & bags > women's bags</s>\"]\n",
      "[\"<pad> luggage & bags > women's bags</s>\"]\n",
      "[\"<pad> luggage & bags > women's bags</s>\"]\n",
      "[\"<pad> luggage & bags > women's bags</s>\"]\n",
      "[\"<pad> luggage & bags > women's bags</s>\"]\n",
      "[\"<pad> luggage & bags > women's bags</s>\"]\n",
      "[\"<pad> luggage & bags > women's bags</s>\"]\n",
      "[\"<pad> luggage & bags > women's bags</s>\"]\n",
      "[\"<pad> luggage & bags > women's bags</s>\"]\n",
      "[\"<pad> luggage & bags > women's bags</s>\"]\n",
      "[\"<pad> luggage & bags > women's bags</s>\"]\n",
      "[\"<pad> luggage & bags > women's bags</s>\"]\n",
      "[\"<pad> luggage & bags > women's bags</s>\"]\n",
      "[\"<pad> luggage & bags > women's bags</s>\"]\n",
      "[\"<pad> luggage & bags > women's bags</s>\"]\n",
      "[\"<pad> luggage & bags > women's bags</s>\"]\n",
      "[\"<pad> luggage & bags > women's bags</s>\"]\n",
      "[\"<pad> luggage & bags > women's bags</s>\"]\n",
      "[\"<pad> luggage & bags > women's bags</s>\"]\n",
      "[\"<pad> luggage & bags > women's bags</s>\"]\n",
      "[\"<pad> luggage & bags > women's bags</s>\"]\n",
      "[\"<pad> luggage & bags > women's bags</s>\"]\n",
      "[\"<pad> luggage & bags > women's bags</s>\"]\n",
      "70.7 ms ± 177 µs per loop (mean ± std. dev. of 7 runs, 10 loops each)\n"
     ]
    }
   ],
   "source": [
    "%%timeit\n",
    "with torch.inference_mode():\n",
    "    print(tokenizer.batch_decode(model.generate2(**inputs2)))"
   ]
  },
  {
   "cell_type": "code",
   "execution_count": 64,
   "metadata": {},
   "outputs": [],
   "source": [
    "inputs3 = tokenizer(\"Generate taxonomy for query: baby milk\", return_tensors=\"pt\", padding='max_length', truncation=True, max_length=50).to('cuda')"
   ]
  },
  {
   "cell_type": "code",
   "execution_count": 65,
   "metadata": {},
   "outputs": [
    {
     "name": "stdout",
     "output_type": "stream",
     "text": [
      "['<pad> mother & kids > feeding > bottle feeding > baby food storage</s>']\n",
      "['<pad> mother & kids > feeding > bottle feeding > baby food storage</s>']\n",
      "['<pad> mother & kids > feeding > bottle feeding > baby food storage</s>']\n",
      "['<pad> mother & kids > feeding > bottle feeding > baby food storage</s>']\n",
      "['<pad> mother & kids > feeding > bottle feeding > baby food storage</s>']\n",
      "['<pad> mother & kids > feeding > bottle feeding > baby food storage</s>']\n",
      "['<pad> mother & kids > feeding > bottle feeding > baby food storage</s>']\n",
      "['<pad> mother & kids > feeding > bottle feeding > baby food storage</s>']\n",
      "['<pad> mother & kids > feeding > bottle feeding > baby food storage</s>']\n",
      "['<pad> mother & kids > feeding > bottle feeding > baby food storage</s>']\n",
      "['<pad> mother & kids > feeding > bottle feeding > baby food storage</s>']\n",
      "['<pad> mother & kids > feeding > bottle feeding > baby food storage</s>']\n",
      "['<pad> mother & kids > feeding > bottle feeding > baby food storage</s>']\n",
      "['<pad> mother & kids > feeding > bottle feeding > baby food storage</s>']\n",
      "['<pad> mother & kids > feeding > bottle feeding > baby food storage</s>']\n",
      "['<pad> mother & kids > feeding > bottle feeding > baby food storage</s>']\n",
      "['<pad> mother & kids > feeding > bottle feeding > baby food storage</s>']\n",
      "['<pad> mother & kids > feeding > bottle feeding > baby food storage</s>']\n",
      "['<pad> mother & kids > feeding > bottle feeding > baby food storage</s>']\n",
      "['<pad> mother & kids > feeding > bottle feeding > baby food storage</s>']\n",
      "['<pad> mother & kids > feeding > bottle feeding > baby food storage</s>']\n",
      "['<pad> mother & kids > feeding > bottle feeding > baby food storage</s>']\n",
      "['<pad> mother & kids > feeding > bottle feeding > baby food storage</s>']\n",
      "['<pad> mother & kids > feeding > bottle feeding > baby food storage</s>']\n",
      "['<pad> mother & kids > feeding > bottle feeding > baby food storage</s>']\n",
      "['<pad> mother & kids > feeding > bottle feeding > baby food storage</s>']\n",
      "['<pad> mother & kids > feeding > bottle feeding > baby food storage</s>']\n",
      "['<pad> mother & kids > feeding > bottle feeding > baby food storage</s>']\n",
      "['<pad> mother & kids > feeding > bottle feeding > baby food storage</s>']\n",
      "['<pad> mother & kids > feeding > bottle feeding > baby food storage</s>']\n",
      "['<pad> mother & kids > feeding > bottle feeding > baby food storage</s>']\n",
      "['<pad> mother & kids > feeding > bottle feeding > baby food storage</s>']\n",
      "['<pad> mother & kids > feeding > bottle feeding > baby food storage</s>']\n",
      "['<pad> mother & kids > feeding > bottle feeding > baby food storage</s>']\n",
      "['<pad> mother & kids > feeding > bottle feeding > baby food storage</s>']\n",
      "['<pad> mother & kids > feeding > bottle feeding > baby food storage</s>']\n",
      "['<pad> mother & kids > feeding > bottle feeding > baby food storage</s>']\n",
      "['<pad> mother & kids > feeding > bottle feeding > baby food storage</s>']\n",
      "['<pad> mother & kids > feeding > bottle feeding > baby food storage</s>']\n",
      "['<pad> mother & kids > feeding > bottle feeding > baby food storage</s>']\n",
      "['<pad> mother & kids > feeding > bottle feeding > baby food storage</s>']\n",
      "['<pad> mother & kids > feeding > bottle feeding > baby food storage</s>']\n",
      "['<pad> mother & kids > feeding > bottle feeding > baby food storage</s>']\n",
      "['<pad> mother & kids > feeding > bottle feeding > baby food storage</s>']\n",
      "['<pad> mother & kids > feeding > bottle feeding > baby food storage</s>']\n",
      "['<pad> mother & kids > feeding > bottle feeding > baby food storage</s>']\n",
      "['<pad> mother & kids > feeding > bottle feeding > baby food storage</s>']\n",
      "['<pad> mother & kids > feeding > bottle feeding > baby food storage</s>']\n",
      "['<pad> mother & kids > feeding > bottle feeding > baby food storage</s>']\n",
      "['<pad> mother & kids > feeding > bottle feeding > baby food storage</s>']\n",
      "['<pad> mother & kids > feeding > bottle feeding > baby food storage</s>']\n",
      "['<pad> mother & kids > feeding > bottle feeding > baby food storage</s>']\n",
      "['<pad> mother & kids > feeding > bottle feeding > baby food storage</s>']\n",
      "['<pad> mother & kids > feeding > bottle feeding > baby food storage</s>']\n",
      "['<pad> mother & kids > feeding > bottle feeding > baby food storage</s>']\n",
      "['<pad> mother & kids > feeding > bottle feeding > baby food storage</s>']\n",
      "['<pad> mother & kids > feeding > bottle feeding > baby food storage</s>']\n",
      "['<pad> mother & kids > feeding > bottle feeding > baby food storage</s>']\n",
      "['<pad> mother & kids > feeding > bottle feeding > baby food storage</s>']\n",
      "['<pad> mother & kids > feeding > bottle feeding > baby food storage</s>']\n",
      "['<pad> mother & kids > feeding > bottle feeding > baby food storage</s>']\n",
      "['<pad> mother & kids > feeding > bottle feeding > baby food storage</s>']\n",
      "['<pad> mother & kids > feeding > bottle feeding > baby food storage</s>']\n",
      "['<pad> mother & kids > feeding > bottle feeding > baby food storage</s>']\n",
      "['<pad> mother & kids > feeding > bottle feeding > baby food storage</s>']\n",
      "['<pad> mother & kids > feeding > bottle feeding > baby food storage</s>']\n",
      "['<pad> mother & kids > feeding > bottle feeding > baby food storage</s>']\n",
      "['<pad> mother & kids > feeding > bottle feeding > baby food storage</s>']\n",
      "['<pad> mother & kids > feeding > bottle feeding > baby food storage</s>']\n",
      "['<pad> mother & kids > feeding > bottle feeding > baby food storage</s>']\n",
      "['<pad> mother & kids > feeding > bottle feeding > baby food storage</s>']\n",
      "['<pad> mother & kids > feeding > bottle feeding > baby food storage</s>']\n",
      "['<pad> mother & kids > feeding > bottle feeding > baby food storage</s>']\n",
      "['<pad> mother & kids > feeding > bottle feeding > baby food storage</s>']\n",
      "['<pad> mother & kids > feeding > bottle feeding > baby food storage</s>']\n",
      "['<pad> mother & kids > feeding > bottle feeding > baby food storage</s>']\n",
      "['<pad> mother & kids > feeding > bottle feeding > baby food storage</s>']\n",
      "['<pad> mother & kids > feeding > bottle feeding > baby food storage</s>']\n",
      "['<pad> mother & kids > feeding > bottle feeding > baby food storage</s>']\n",
      "['<pad> mother & kids > feeding > bottle feeding > baby food storage</s>']\n",
      "['<pad> mother & kids > feeding > bottle feeding > baby food storage</s>']\n",
      "111 ms ± 159 µs per loop (mean ± std. dev. of 7 runs, 10 loops each)\n"
     ]
    }
   ],
   "source": [
    "%%timeit\n",
    "with torch.inference_mode():\n",
    "    print(tokenizer.batch_decode(model.generate2(**inputs3)))"
   ]
  },
  {
   "cell_type": "code",
   "execution_count": null,
   "metadata": {},
   "outputs": [],
   "source": []
  }
 ],
 "metadata": {
  "kernelspec": {
   "display_name": "base",
   "language": "python",
   "name": "python3"
  },
  "language_info": {
   "codemirror_mode": {
    "name": "ipython",
    "version": 3
   },
   "file_extension": ".py",
   "mimetype": "text/x-python",
   "name": "python",
   "nbconvert_exporter": "python",
   "pygments_lexer": "ipython3",
   "version": "3.10.9"
  },
  "orig_nbformat": 4,
  "vscode": {
   "interpreter": {
    "hash": "d4d1e4263499bec80672ea0156c357c1ee493ec2b1c70f0acce89fc37c4a6abe"
   }
  }
 },
 "nbformat": 4,
 "nbformat_minor": 2
}
