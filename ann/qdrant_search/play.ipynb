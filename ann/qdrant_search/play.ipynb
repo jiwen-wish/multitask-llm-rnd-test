{
 "cells": [
  {
   "cell_type": "code",
   "execution_count": 1,
   "metadata": {},
   "outputs": [],
   "source": [
    "from qdrant_client import QdrantClient\n",
    "client = QdrantClient(url=\"http://localhost:6333\")\n",
    "client_grpc = QdrantClient(url=\"http://localhost:6334\", prefer_grpc=True)"
   ]
  },
  {
   "cell_type": "code",
   "execution_count": 6,
   "metadata": {},
   "outputs": [],
   "source": [
    "import numpy as np\n",
    "from tqdm import tqdm"
   ]
  },
  {
   "cell_type": "code",
   "execution_count": 2,
   "metadata": {},
   "outputs": [],
   "source": [
    "from qdrant_client.models import Distance, VectorParams, PointStruct"
   ]
  },
  {
   "cell_type": "code",
   "execution_count": 4,
   "metadata": {},
   "outputs": [],
   "source": [
    "from qdrant_client.models import Filter, FieldCondition, Range, OptimizersConfigDiff"
   ]
  },
  {
   "cell_type": "code",
   "execution_count": 12,
   "metadata": {},
   "outputs": [
    {
     "name": "stderr",
     "output_type": "stream",
     "text": [
      "100%|██████████| 100000/100000 [7:17:57<00:00,  3.81it/s]  \n"
     ]
    }
   ],
   "source": [
    "client.recreate_collection(\n",
    "    collection_name=\"clip_image_product\",\n",
    "    vectors_config=VectorParams(size=512, distance=Distance.COSINE),\n",
    "    hnsw_config=OptimizersConfigDiff(\n",
    "        indexing_threshold=int(1e8 - 1e3),\n",
    "    )\n",
    ")\n",
    "assert client.count(collection_name=\"clip_image_product\").count == 0\n",
    "id_start = 0\n",
    "payloads = [{\"color\": \"red\", \"rand_number\": idx % 10} for idx in range(int(1e3))]\n",
    "for i in tqdm(range(int(1e5))):\n",
    "    ids = list(range(id_start, id_start + int(1e3)))\n",
    "    vectors = np.random.rand(int(1e3), 512)\n",
    "    client_grpc.upload_collection(\n",
    "        collection_name=\"clip_image_product\",\n",
    "        vectors=vectors,\n",
    "        payload=payloads,\n",
    "        ids=ids\n",
    "    )\n",
    "    id_start += int(1e3)"
   ]
  },
  {
   "cell_type": "code",
   "execution_count": 17,
   "metadata": {},
   "outputs": [
    {
     "name": "stdout",
     "output_type": "stream",
     "text": [
      "158 ms ± 3.13 ms per loop (mean ± std. dev. of 7 runs, 10 loops each)\n"
     ]
    }
   ],
   "source": [
    "%%timeit\n",
    "query_vector = np.random.rand(512)\n",
    "hits = client_grpc.search(\n",
    "    collection_name=\"clip_image_product\",\n",
    "    query_vector=query_vector,\n",
    "    query_filter=Filter(\n",
    "        must=[  # These conditions are required for search results\n",
    "            FieldCondition(\n",
    "                key='rand_number',  # Condition based on values of `rand_number` field.\n",
    "                range=Range(\n",
    "                    gte=3  # Select only those results where `rand_number` >= 3\n",
    "                )\n",
    "            )\n",
    "        ]\n",
    "    ),\n",
    "    limit=5  # Return 5 closest points\n",
    ")"
   ]
  },
  {
   "cell_type": "code",
   "execution_count": 25,
   "metadata": {},
   "outputs": [
    {
     "name": "stdout",
     "output_type": "stream",
     "text": [
      "180 ms ± 2.44 ms per loop (mean ± std. dev. of 7 runs, 10 loops each)\n"
     ]
    }
   ],
   "source": [
    "%%timeit\n",
    "query_vector = np.random.rand(512)\n",
    "hits = client_grpc.search(\n",
    "    collection_name=\"clip_image_product\",\n",
    "    query_vector=query_vector,\n",
    "    query_filter=Filter(\n",
    "        must=[  # These conditions are required for search results\n",
    "            FieldCondition(\n",
    "                key='rand_number',  # Condition based on values of `rand_number` field.\n",
    "                range=Range(\n",
    "                    gte=3  # Select only those results where `rand_number` >= 3\n",
    "                )\n",
    "            )\n",
    "        ]\n",
    "    ),\n",
    "    limit=1000  # Return 5 closest points\n",
    ")"
   ]
  },
  {
   "cell_type": "code",
   "execution_count": 19,
   "metadata": {},
   "outputs": [
    {
     "name": "stdout",
     "output_type": "stream",
     "text": [
      "396 ms ± 8.5 ms per loop (mean ± std. dev. of 7 runs, 1 loop each)\n"
     ]
    }
   ],
   "source": [
    "%%timeit\n",
    "query_vector = np.random.rand(512)\n",
    "hits = client_grpc.search(\n",
    "    collection_name=\"clip_image_product\",\n",
    "    query_vector=query_vector,\n",
    "    query_filter=Filter(\n",
    "        must=[  # These conditions are required for search results\n",
    "            FieldCondition(\n",
    "                key='rand_number',  # Condition based on values of `rand_number` field.\n",
    "                range=Range(\n",
    "                    gte=3  # Select only those results where `rand_number` >= 3\n",
    "                )\n",
    "            )\n",
    "        ]\n",
    "    ),\n",
    "    limit=5000  # Return 5 closest points\n",
    ")"
   ]
  },
  {
   "cell_type": "code",
   "execution_count": 18,
   "metadata": {},
   "outputs": [
    {
     "name": "stdout",
     "output_type": "stream",
     "text": [
      "8.81 ms ± 1.25 ms per loop (mean ± std. dev. of 7 runs, 100 loops each)\n"
     ]
    }
   ],
   "source": [
    "%%timeit\n",
    "query_vector = np.random.rand(512)\n",
    "hits = client_grpc.search(\n",
    "    collection_name=\"clip_image_product\",\n",
    "    limit=5  # Return 5 closest points\n",
    ")"
   ]
  },
  {
   "cell_type": "code",
   "execution_count": 21,
   "metadata": {},
   "outputs": [
    {
     "name": "stdout",
     "output_type": "stream",
     "text": [
      "30.4 ms ± 190 µs per loop (mean ± std. dev. of 7 runs, 10 loops each)\n"
     ]
    }
   ],
   "source": [
    "%%timeit\n",
    "query_vector = np.random.rand(512)\n",
    "hits = client_grpc.search(\n",
    "    collection_name=\"clip_image_product\",\n",
    "    query_vector=query_vector,\n",
    "    limit=1000  # Return 5 closest points\n",
    ")"
   ]
  },
  {
   "cell_type": "code",
   "execution_count": 20,
   "metadata": {},
   "outputs": [
    {
     "name": "stdout",
     "output_type": "stream",
     "text": [
      "151 ms ± 5.18 ms per loop (mean ± std. dev. of 7 runs, 10 loops each)\n"
     ]
    }
   ],
   "source": [
    "%%timeit\n",
    "query_vector = np.random.rand(512)\n",
    "hits = client_grpc.search(\n",
    "    collection_name=\"clip_image_product\",\n",
    "    query_vector=query_vector,\n",
    "    limit=5000  # Return 5 closest points\n",
    ")"
   ]
  },
  {
   "cell_type": "code",
   "execution_count": 26,
   "metadata": {},
   "outputs": [
    {
     "name": "stdout",
     "output_type": "stream",
     "text": [
      "Current memory usage: 140.05 MB\n"
     ]
    }
   ],
   "source": [
    "import psutil\n",
    "\n",
    "# function to convert bytes to a more human-readable format\n",
    "def convert_bytes(num):\n",
    "    for x in ['bytes', 'KB', 'MB', 'GB', 'TB']:\n",
    "        if num < 1024.0:\n",
    "            return f\"{num:.2f} {x}\"\n",
    "        num /= 1024.0\n",
    "\n",
    "# get the current process's memory usage\n",
    "process = psutil.Process()\n",
    "memory_info = process.memory_info().rss\n",
    "\n",
    "# print the memory usage in a human-readable format\n",
    "print(f\"Current memory usage: {convert_bytes(memory_info)}\")"
   ]
  },
  {
   "cell_type": "code",
   "execution_count": 31,
   "metadata": {},
   "outputs": [
    {
     "name": "stdout",
     "output_type": "stream",
     "text": [
      "CONTAINER ID   IMAGE           COMMAND      CREATED        STATUS        PORTS                              NAMES\n",
      "4251ba871d4e   qdrant/qdrant   \"./qdrant\"   16 hours ago   Up 16 hours   0.0.0.0:6333-6334->6333-6334/tcp   bold_mccarthy\n"
     ]
    }
   ],
   "source": [
    "!docker ps"
   ]
  },
  {
   "cell_type": "code",
   "execution_count": 32,
   "metadata": {},
   "outputs": [
    {
     "name": "stdout",
     "output_type": "stream",
     "text": [
      "\u001b[2J\u001b[HCONTAINER ID   NAME            CPU %      MEM USAGE / LIMIT   MEM %     NET I/O         BLOCK I/O      PIDS\n",
      "4251ba871d4e   bold_mccarthy   1217.29%   235GiB / 1.475TiB   15.56%    211GB / 591MB   12.6MB / 6TB   902\n",
      "\u001b[2J\u001b[HCONTAINER ID   NAME            CPU %      MEM USAGE / LIMIT   MEM %     NET I/O         BLOCK I/O      PIDS\n",
      "4251ba871d4e   bold_mccarthy   1217.29%   235GiB / 1.475TiB   15.56%    211GB / 591MB   12.6MB / 6TB   902\n",
      "\u001b[2J\u001b[HCONTAINER ID   NAME            CPU %     MEM USAGE / LIMIT   MEM %     NET I/O         BLOCK I/O      PIDS\n",
      "4251ba871d4e   bold_mccarthy   2.63%     235GiB / 1.475TiB   15.56%    211GB / 591MB   12.6MB / 6TB   902\n",
      "\u001b[2J\u001b[HCONTAINER ID   NAME            CPU %     MEM USAGE / LIMIT   MEM %     NET I/O         BLOCK I/O      PIDS\n",
      "4251ba871d4e   bold_mccarthy   2.63%     235GiB / 1.475TiB   15.56%    211GB / 591MB   12.6MB / 6TB   902\n",
      "\u001b[2J\u001b[HCONTAINER ID   NAME            CPU %     MEM USAGE / LIMIT   MEM %     NET I/O         BLOCK I/O      PIDS\n",
      "4251ba871d4e   bold_mccarthy   3.02%     235GiB / 1.475TiB   15.56%    211GB / 591MB   12.6MB / 6TB   902\n",
      "\u001b[2J\u001b[HCONTAINER ID   NAME            CPU %     MEM USAGE / LIMIT   MEM %     NET I/O         BLOCK I/O      PIDS\n",
      "4251ba871d4e   bold_mccarthy   3.02%     235GiB / 1.475TiB   15.56%    211GB / 591MB   12.6MB / 6TB   902\n",
      "\u001b[2J\u001b[HCONTAINER ID   NAME            CPU %     MEM USAGE / LIMIT   MEM %     NET I/O         BLOCK I/O      PIDS\n",
      "4251ba871d4e   bold_mccarthy   2.70%     235GiB / 1.475TiB   15.56%    211GB / 591MB   12.6MB / 6TB   902\n",
      "\u001b[2J\u001b[HCONTAINER ID   NAME            CPU %     MEM USAGE / LIMIT   MEM %     NET I/O         BLOCK I/O      PIDS\n",
      "4251ba871d4e   bold_mccarthy   2.70%     235GiB / 1.475TiB   15.56%    211GB / 591MB   12.6MB / 6TB   902\n",
      "\u001b[2J\u001b[HCONTAINER ID   NAME            CPU %     MEM USAGE / LIMIT   MEM %     NET I/O         BLOCK I/O      PIDS\n",
      "4251ba871d4e   bold_mccarthy   2.73%     235GiB / 1.475TiB   15.56%    211GB / 591MB   12.6MB / 6TB   902\n",
      "\u001b[2J\u001b[HCONTAINER ID   NAME            CPU %     MEM USAGE / LIMIT   MEM %     NET I/O         BLOCK I/O      PIDS\n",
      "4251ba871d4e   bold_mccarthy   2.73%     235GiB / 1.475TiB   15.56%    211GB / 591MB   12.6MB / 6TB   902\n",
      "\u001b[2J\u001b[HCONTAINER ID   NAME            CPU %     MEM USAGE / LIMIT   MEM %     NET I/O         BLOCK I/O      PIDS\n",
      "4251ba871d4e   bold_mccarthy   2.30%     235GiB / 1.475TiB   15.56%    211GB / 591MB   12.6MB / 6TB   902\n",
      "\u001b[2J\u001b[HCONTAINER ID   NAME            CPU %     MEM USAGE / LIMIT   MEM %     NET I/O         BLOCK I/O      PIDS\n",
      "4251ba871d4e   bold_mccarthy   2.30%     235GiB / 1.475TiB   15.56%    211GB / 591MB   12.6MB / 6TB   902\n",
      "^C\n"
     ]
    }
   ],
   "source": [
    "!docker stats"
   ]
  },
  {
   "cell_type": "code",
   "execution_count": null,
   "metadata": {},
   "outputs": [],
   "source": []
  }
 ],
 "metadata": {
  "kernelspec": {
   "display_name": "Python 3",
   "language": "python",
   "name": "python3"
  },
  "language_info": {
   "codemirror_mode": {
    "name": "ipython",
    "version": 3
   },
   "file_extension": ".py",
   "mimetype": "text/x-python",
   "name": "python",
   "nbconvert_exporter": "python",
   "pygments_lexer": "ipython3",
   "version": "3.8.16"
  },
  "orig_nbformat": 4,
  "vscode": {
   "interpreter": {
    "hash": "949777d72b0d2535278d3dc13498b2535136f6dfe0678499012e853ee9abcab1"
   }
  }
 },
 "nbformat": 4,
 "nbformat_minor": 2
}
