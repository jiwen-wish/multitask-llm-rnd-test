{
 "cells": [
  {
   "cell_type": "code",
   "execution_count": 21,
   "metadata": {},
   "outputs": [],
   "source": [
    "from qdrant_client import QdrantClient\n",
    "client = QdrantClient(url=\"http://localhost:6333\")\n",
    "client_grpc = QdrantClient(url=\"http://localhost:6334\", prefer_grpc=True)"
   ]
  },
  {
   "cell_type": "code",
   "execution_count": 26,
   "metadata": {},
   "outputs": [],
   "source": [
    "import numpy as np\n",
    "from tqdm import tqdm"
   ]
  },
  {
   "cell_type": "code",
   "execution_count": 27,
   "metadata": {},
   "outputs": [],
   "source": [
    "from qdrant_client.models import Distance, VectorParams, PointStruct"
   ]
  },
  {
   "cell_type": "code",
   "execution_count": 29,
   "metadata": {},
   "outputs": [],
   "source": [
    "from qdrant_client.models import Filter, FieldCondition, Range, OptimizersConfigDiff\n",
    "from qdrant_client.http.models import SearchRequest"
   ]
  },
  {
   "attachments": {},
   "cell_type": "markdown",
   "metadata": {},
   "source": [
    "# test indexing speed"
   ]
  },
  {
   "attachments": {},
   "cell_type": "markdown",
   "metadata": {},
   "source": [
    "## vanilla http"
   ]
  },
  {
   "cell_type": "code",
   "execution_count": 6,
   "metadata": {},
   "outputs": [
    {
     "name": "stderr",
     "output_type": "stream",
     "text": [
      "  1%|          | 51/10000 [00:12<39:49,  4.16it/s]\n"
     ]
    }
   ],
   "source": [
    "client.recreate_collection(\n",
    "    collection_name=\"clip_image_product\",\n",
    "    vectors_config=VectorParams(size=512, distance=Distance.COSINE),\n",
    "    # hnsw_config=OptimizersConfigDiff(\n",
    "    #     indexing_threshold=int(1e8 - 1e3),\n",
    "    # )\n",
    ")\n",
    "assert client.count(collection_name=\"clip_image_product\").count == 0\n",
    "id_start = 0\n",
    "payloads = [{\"color\": \"red\", \"rand_number\": idx % 10} for idx in range(int(1e3))]\n",
    "\n",
    "\n",
    "for i in tqdm(range(int(1e4))):\n",
    "    ids = list(range(id_start, id_start + int(1e2)))\n",
    "    vectors = np.random.rand(int(1e2), 512)\n",
    "    client.upload_collection(\n",
    "        collection_name=\"clip_image_product\",\n",
    "        vectors=vectors.tolist(),\n",
    "        payload=payloads,\n",
    "        ids=ids\n",
    "    )\n",
    "    id_start += int(1e2)\n",
    "    if i > 50:\n",
    "        break"
   ]
  },
  {
   "attachments": {},
   "cell_type": "markdown",
   "metadata": {},
   "source": [
    "## http with indexing off"
   ]
  },
  {
   "cell_type": "code",
   "execution_count": 7,
   "metadata": {},
   "outputs": [
    {
     "name": "stderr",
     "output_type": "stream",
     "text": [
      "  1%|          | 51/10000 [00:12<40:18,  4.11it/s]\n"
     ]
    }
   ],
   "source": [
    "client.recreate_collection(\n",
    "    collection_name=\"clip_image_product\",\n",
    "    vectors_config=VectorParams(size=512, distance=Distance.COSINE),\n",
    "    hnsw_config=OptimizersConfigDiff(\n",
    "        indexing_threshold=int(1e6 - 1e3),\n",
    "    )\n",
    ")\n",
    "assert client.count(collection_name=\"clip_image_product\").count == 0\n",
    "id_start = 0\n",
    "payloads = [{\"color\": \"red\", \"rand_number\": idx % 10} for idx in range(int(1e3))]\n",
    "\n",
    "\n",
    "for i in tqdm(range(int(1e4))):\n",
    "    ids = list(range(id_start, id_start + int(1e2)))\n",
    "    vectors = np.random.rand(int(1e2), 512)\n",
    "    client.upload_collection(\n",
    "        collection_name=\"clip_image_product\",\n",
    "        vectors=vectors.tolist(),\n",
    "        payload=payloads,\n",
    "        ids=ids\n",
    "    )\n",
    "    id_start += int(1e2)\n",
    "    if i > 50:\n",
    "        break"
   ]
  },
  {
   "attachments": {},
   "cell_type": "markdown",
   "metadata": {},
   "source": [
    "## vanilla grpc"
   ]
  },
  {
   "cell_type": "code",
   "execution_count": 10,
   "metadata": {},
   "outputs": [
    {
     "name": "stderr",
     "output_type": "stream",
     "text": [
      "  1%|          | 51/10000 [00:01<03:51, 43.00it/s]\n"
     ]
    }
   ],
   "source": [
    "client.recreate_collection(\n",
    "    collection_name=\"clip_image_product\",\n",
    "    vectors_config=VectorParams(size=512, distance=Distance.COSINE),\n",
    "    # hnsw_config=OptimizersConfigDiff(\n",
    "    #     indexing_threshold=int(1e8 - 1e3),\n",
    "    # )\n",
    ")\n",
    "assert client.count(collection_name=\"clip_image_product\").count == 0\n",
    "id_start = 0\n",
    "payloads = [{\"color\": \"red\", \"rand_number\": idx % 10} for idx in range(int(1e3))]\n",
    "\n",
    "\n",
    "for i in tqdm(range(int(1e4))):\n",
    "    ids = list(range(id_start, id_start + int(1e2)))\n",
    "    vectors = np.random.rand(int(1e2), 512)\n",
    "    client_grpc.upload_collection(\n",
    "        collection_name=\"clip_image_product\",\n",
    "        vectors=vectors,\n",
    "        payload=payloads,\n",
    "        ids=ids\n",
    "    )\n",
    "    id_start += int(1e2)\n",
    "    if i > 50:\n",
    "        break"
   ]
  },
  {
   "attachments": {},
   "cell_type": "markdown",
   "metadata": {},
   "source": [
    "## grpc with indexing off"
   ]
  },
  {
   "cell_type": "code",
   "execution_count": 11,
   "metadata": {},
   "outputs": [
    {
     "name": "stderr",
     "output_type": "stream",
     "text": [
      "  1%|          | 51/10000 [00:00<02:47, 59.23it/s]\n"
     ]
    }
   ],
   "source": [
    "client.recreate_collection(\n",
    "    collection_name=\"clip_image_product\",\n",
    "    vectors_config=VectorParams(size=512, distance=Distance.COSINE),\n",
    "    hnsw_config=OptimizersConfigDiff(\n",
    "        indexing_threshold=int(1e6 - 1e3),\n",
    "    )\n",
    ")\n",
    "assert client.count(collection_name=\"clip_image_product\").count == 0\n",
    "id_start = 0\n",
    "payloads = [{\"color\": \"red\", \"rand_number\": idx % 10} for idx in range(int(1e3))]\n",
    "\n",
    "\n",
    "for i in tqdm(range(int(1e4))):\n",
    "    ids = list(range(id_start, id_start + int(1e2)))\n",
    "    vectors = np.random.rand(int(1e2), 512)\n",
    "    client_grpc.upload_collection(\n",
    "        collection_name=\"clip_image_product\",\n",
    "        vectors=vectors,\n",
    "        payload=payloads,\n",
    "        ids=ids\n",
    "    )\n",
    "    id_start += int(1e2)\n",
    "    if i > 50:\n",
    "        break"
   ]
  },
  {
   "attachments": {},
   "cell_type": "markdown",
   "metadata": {},
   "source": [
    "# test search speed"
   ]
  },
  {
   "attachments": {},
   "cell_type": "markdown",
   "metadata": {},
   "source": [
    "## upload 1M data fast with vanilla grpc"
   ]
  },
  {
   "cell_type": "code",
   "execution_count": 12,
   "metadata": {},
   "outputs": [
    {
     "name": "stderr",
     "output_type": "stream",
     "text": [
      "100%|██████████| 10000/10000 [03:35<00:00, 46.38it/s]\n"
     ]
    }
   ],
   "source": [
    "client.recreate_collection(\n",
    "    collection_name=\"clip_image_product\",\n",
    "    vectors_config=VectorParams(size=512, distance=Distance.COSINE)\n",
    ")\n",
    "assert client.count(collection_name=\"clip_image_product\").count == 0\n",
    "id_start = 0\n",
    "payloads = [{\"color\": \"red\", \"rand_number\": idx % 10} for idx in range(int(1e3))]\n",
    "\n",
    "\n",
    "for i in tqdm(range(int(1e4))):\n",
    "    ids = list(range(id_start, id_start + int(1e2)))\n",
    "    vectors = np.random.rand(int(1e2), 512)\n",
    "    client_grpc.upload_collection(\n",
    "        collection_name=\"clip_image_product\",\n",
    "        vectors=vectors,\n",
    "        payload=payloads,\n",
    "        ids=ids\n",
    "    )\n",
    "    id_start += int(1e2)"
   ]
  },
  {
   "attachments": {},
   "cell_type": "markdown",
   "metadata": {},
   "source": [
    "## search with HTTP no batch"
   ]
  },
  {
   "cell_type": "code",
   "execution_count": 13,
   "metadata": {},
   "outputs": [
    {
     "name": "stderr",
     "output_type": "stream",
     "text": [
      "100%|██████████| 100/100 [00:03<00:00, 29.13it/s]\n"
     ]
    }
   ],
   "source": [
    "for i in tqdm(range(100)):\n",
    "    query_vector = np.random.rand(512)\n",
    "    hits = client.search(\n",
    "        collection_name=\"clip_image_product\",\n",
    "        query_vector=query_vector,\n",
    "        limit=1000\n",
    "    )"
   ]
  },
  {
   "cell_type": "code",
   "execution_count": 14,
   "metadata": {},
   "outputs": [
    {
     "name": "stdout",
     "output_type": "stream",
     "text": [
      "28.2 ms ± 570 µs per loop (mean ± std. dev. of 7 runs, 10 loops each)\n"
     ]
    }
   ],
   "source": [
    "%%timeit\n",
    "query_vector = np.random.rand(512)\n",
    "hits = client.search(\n",
    "    collection_name=\"clip_image_product\",\n",
    "    query_vector=query_vector,\n",
    "    limit=1000\n",
    ")"
   ]
  },
  {
   "attachments": {},
   "cell_type": "markdown",
   "metadata": {},
   "source": [
    "## search with grpc no batch"
   ]
  },
  {
   "cell_type": "code",
   "execution_count": 15,
   "metadata": {},
   "outputs": [
    {
     "name": "stderr",
     "output_type": "stream",
     "text": [
      "100%|██████████| 100/100 [00:02<00:00, 41.07it/s]\n"
     ]
    }
   ],
   "source": [
    "for i in tqdm(range(100)):\n",
    "    query_vector = np.random.rand(512)\n",
    "    hits = client_grpc.search(\n",
    "        collection_name=\"clip_image_product\",\n",
    "        query_vector=query_vector,\n",
    "        limit=1000\n",
    "    )"
   ]
  },
  {
   "cell_type": "code",
   "execution_count": 16,
   "metadata": {},
   "outputs": [
    {
     "name": "stdout",
     "output_type": "stream",
     "text": [
      "23.5 ms ± 252 µs per loop (mean ± std. dev. of 7 runs, 10 loops each)\n"
     ]
    }
   ],
   "source": [
    "%%timeit\n",
    "query_vector = np.random.rand(512)\n",
    "hits = client_grpc.search(\n",
    "    collection_name=\"clip_image_product\",\n",
    "    query_vector=query_vector,\n",
    "    limit=1000\n",
    ")"
   ]
  },
  {
   "attachments": {},
   "cell_type": "markdown",
   "metadata": {},
   "source": [
    "## search with http batch"
   ]
  },
  {
   "cell_type": "code",
   "execution_count": 22,
   "metadata": {},
   "outputs": [
    {
     "name": "stdout",
     "output_type": "stream",
     "text": [
      "CPU times: user 1.44 s, sys: 124 ms, total: 1.57 s\n",
      "Wall time: 2.22 s\n"
     ]
    }
   ],
   "source": [
    "%%time\n",
    "results = client.search_batch(\n",
    "    collection_name=\"clip_image_product\",\n",
    "    requests=[\n",
    "        SearchRequest(\n",
    "            vector=np.random.rand(512).tolist(),\n",
    "            limit=1000,\n",
    "        ) for _ in range(100)\n",
    "    ]\n",
    ")"
   ]
  },
  {
   "attachments": {},
   "cell_type": "markdown",
   "metadata": {},
   "source": [
    "## search with grpc batch"
   ]
  },
  {
   "cell_type": "code",
   "execution_count": 23,
   "metadata": {},
   "outputs": [
    {
     "name": "stdout",
     "output_type": "stream",
     "text": [
      "CPU times: user 1.01 s, sys: 75.8 ms, total: 1.09 s\n",
      "Wall time: 1.81 s\n"
     ]
    }
   ],
   "source": [
    "%%time\n",
    "results = client_grpc.search_batch(\n",
    "    collection_name=\"clip_image_product\",\n",
    "    requests=[\n",
    "        SearchRequest(\n",
    "            vector=np.random.rand(512).tolist(),\n",
    "            limit=1000,\n",
    "        ) for _ in range(100)\n",
    "    ]\n",
    ")"
   ]
  },
  {
   "attachments": {},
   "cell_type": "markdown",
   "metadata": {},
   "source": [
    "## forget about http, grpc is faster, so let's focus on optimize grpc"
   ]
  },
  {
   "cell_type": "code",
   "execution_count": 34,
   "metadata": {},
   "outputs": [
    {
     "ename": "TypeError",
     "evalue": "object list can't be used in 'await' expression",
     "output_type": "error",
     "traceback": [
      "\u001b[0;31m---------------------------------------------------------------------------\u001b[0m",
      "\u001b[0;31mTypeError\u001b[0m                                 Traceback (most recent call last)",
      "Cell \u001b[0;32mIn[34], line 19\u001b[0m\n\u001b[1;32m     17\u001b[0m \u001b[39mfor\u001b[39;00m reqs \u001b[39min\u001b[39;00m requests:\n\u001b[1;32m     18\u001b[0m     reses\u001b[39m.\u001b[39mappend(test_grpc_batch(reqs))\n\u001b[0;32m---> 19\u001b[0m final_reses \u001b[39m=\u001b[39m \u001b[39mawait\u001b[39;00m asyncio\u001b[39m.\u001b[39mgather(\u001b[39m*\u001b[39mreses)\n",
      "Cell \u001b[0;32mIn[34], line 5\u001b[0m, in \u001b[0;36mtest_grpc_batch\u001b[0;34m(requests)\u001b[0m\n\u001b[1;32m      4\u001b[0m \u001b[39masync\u001b[39;00m \u001b[39mdef\u001b[39;00m \u001b[39mtest_grpc_batch\u001b[39m(requests):\n\u001b[0;32m----> 5\u001b[0m     res \u001b[39m=\u001b[39m \u001b[39mawait\u001b[39;00m client_grpc\u001b[39m.\u001b[39msearch_batch(\n\u001b[1;32m      6\u001b[0m         collection_name\u001b[39m=\u001b[39m\u001b[39m\"\u001b[39m\u001b[39mclip_image_product\u001b[39m\u001b[39m\"\u001b[39m,\n\u001b[1;32m      7\u001b[0m         requests\u001b[39m=\u001b[39mrequests\n\u001b[1;32m      8\u001b[0m     )\n\u001b[1;32m      9\u001b[0m     \u001b[39mreturn\u001b[39;00m res\n",
      "\u001b[0;31mTypeError\u001b[0m: object list can't be used in 'await' expression"
     ]
    }
   ],
   "source": [
    "import asyncio\n",
    "client_grpc = QdrantClient(url=\"http://localhost:6334\", prefer_grpc=True)\n",
    "\n",
    "async def test_grpc_batch(requests):\n",
    "    res = await client_grpc.search_batch(\n",
    "        collection_name=\"clip_image_product\",\n",
    "        requests=requests\n",
    "    )\n",
    "    return res\n",
    "requests=[[\n",
    "    SearchRequest(\n",
    "        vector=np.random.rand(512).tolist(),\n",
    "        limit=1000,\n",
    "    ) for _ in range(10)\n",
    "] for __ in range(100)]\n",
    "reses = []\n",
    "for reqs in requests:\n",
    "    reses.append(test_grpc_batch(reqs))\n",
    "final_reses = await asyncio.gather(*reses)"
   ]
  },
  {
   "cell_type": "code",
   "execution_count": null,
   "metadata": {},
   "outputs": [],
   "source": []
  }
 ],
 "metadata": {
  "kernelspec": {
   "display_name": "Python 3",
   "language": "python",
   "name": "python3"
  },
  "language_info": {
   "codemirror_mode": {
    "name": "ipython",
    "version": 3
   },
   "file_extension": ".py",
   "mimetype": "text/x-python",
   "name": "python",
   "nbconvert_exporter": "python",
   "pygments_lexer": "ipython3",
   "version": "3.8.16"
  },
  "orig_nbformat": 4,
  "vscode": {
   "interpreter": {
    "hash": "949777d72b0d2535278d3dc13498b2535136f6dfe0678499012e853ee9abcab1"
   }
  }
 },
 "nbformat": 4,
 "nbformat_minor": 2
}
