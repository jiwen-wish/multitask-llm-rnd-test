{
 "cells": [
  {
   "cell_type": "code",
   "execution_count": 1,
   "metadata": {},
   "outputs": [],
   "source": [
    "from docarray import DocumentArray\n",
    "import numpy as np\n",
    "\n",
    "docs = DocumentArray.empty(5000000)\n",
    "docs.embeddings = np.random.random([5000000, 512]).astype(np.float32)"
   ]
  },
  {
   "cell_type": "code",
   "execution_count": 2,
   "metadata": {},
   "outputs": [],
   "source": [
    "import numpy as np\n",
    "from tqdm import tqdm"
   ]
  },
  {
   "cell_type": "code",
   "execution_count": 3,
   "metadata": {},
   "outputs": [],
   "source": [
    "from annlite import AnnLite"
   ]
  },
  {
   "cell_type": "code",
   "execution_count": 4,
   "metadata": {},
   "outputs": [
    {
     "name": "stdout",
     "output_type": "stream",
     "text": [
      "\u001b[32m2023-04-12 02:52:15.202\u001b[0m | \u001b[1mINFO    \u001b[0m | \u001b[36mannlite.index\u001b[0m:\u001b[36mrestore\u001b[0m:\u001b[36m670\u001b[0m - \u001b[1mrestore Annlite from local\u001b[0m\n",
      "\u001b[32m2023-04-12 02:52:15.203\u001b[0m | \u001b[1mINFO    \u001b[0m | \u001b[36mannlite.index\u001b[0m:\u001b[36m_rebuild_index_from_local\u001b[0m:\u001b[36m779\u001b[0m - \u001b[1mRebuild the indexer from scratch\u001b[0m\n",
      "\u001b[32m2023-04-12 02:52:15.204\u001b[0m | \u001b[34m\u001b[1mDEBUG   \u001b[0m | \u001b[36mannlite.index\u001b[0m:\u001b[36m_rebuild_index_from_local\u001b[0m:\u001b[36m786\u001b[0m - \u001b[34m\u001b[1mRebuild the index of cell-0 (1000000 docs)...\u001b[0m\n",
      "\u001b[32m2023-04-12 02:52:15.722\u001b[0m | \u001b[34m\u001b[1mDEBUG   \u001b[0m | \u001b[36mannlite.container\u001b[0m:\u001b[36minsert\u001b[0m:\u001b[36m308\u001b[0m - \u001b[34m\u001b[1m10240 new docs added\u001b[0m\n",
      "\u001b[32m2023-04-12 02:52:16.023\u001b[0m | \u001b[34m\u001b[1mDEBUG   \u001b[0m | \u001b[36mannlite.core.index.hnsw.index\u001b[0m:\u001b[36m_expand_capacity\u001b[0m:\u001b[36m181\u001b[0m - \u001b[34m\u001b[1mHNSW index capacity is expanded by 10240\u001b[0m\n",
      "\u001b[32m2023-04-12 02:52:16.298\u001b[0m | \u001b[34m\u001b[1mDEBUG   \u001b[0m | \u001b[36mannlite.container\u001b[0m:\u001b[36minsert\u001b[0m:\u001b[36m308\u001b[0m - \u001b[34m\u001b[1m10240 new docs added\u001b[0m\n",
      "\u001b[32m2023-04-12 02:52:16.612\u001b[0m | \u001b[34m\u001b[1mDEBUG   \u001b[0m | \u001b[36mannlite.core.index.hnsw.index\u001b[0m:\u001b[36m_expand_capacity\u001b[0m:\u001b[36m181\u001b[0m - \u001b[34m\u001b[1mHNSW index capacity is expanded by 10240\u001b[0m\n",
      "\u001b[32m2023-04-12 02:52:16.892\u001b[0m | \u001b[34m\u001b[1mDEBUG   \u001b[0m | \u001b[36mannlite.container\u001b[0m:\u001b[36minsert\u001b[0m:\u001b[36m308\u001b[0m - \u001b[34m\u001b[1m10240 new docs added\u001b[0m\n",
      "\u001b[32m2023-04-12 02:52:17.171\u001b[0m | \u001b[34m\u001b[1mDEBUG   \u001b[0m | \u001b[36mannlite.core.index.hnsw.index\u001b[0m:\u001b[36m_expand_capacity\u001b[0m:\u001b[36m181\u001b[0m - \u001b[34m\u001b[1mHNSW index capacity is expanded by 10240\u001b[0m\n",
      "\u001b[32m2023-04-12 02:52:17.495\u001b[0m | \u001b[34m\u001b[1mDEBUG   \u001b[0m | \u001b[36mannlite.container\u001b[0m:\u001b[36minsert\u001b[0m:\u001b[36m308\u001b[0m - \u001b[34m\u001b[1m10240 new docs added\u001b[0m\n",
      "\u001b[32m2023-04-12 02:52:17.822\u001b[0m | \u001b[34m\u001b[1mDEBUG   \u001b[0m | \u001b[36mannlite.core.index.hnsw.index\u001b[0m:\u001b[36m_expand_capacity\u001b[0m:\u001b[36m181\u001b[0m - \u001b[34m\u001b[1mHNSW index capacity is expanded by 10240\u001b[0m\n",
      "\u001b[32m2023-04-12 02:52:18.175\u001b[0m | \u001b[34m\u001b[1mDEBUG   \u001b[0m | \u001b[36mannlite.container\u001b[0m:\u001b[36minsert\u001b[0m:\u001b[36m308\u001b[0m - \u001b[34m\u001b[1m10240 new docs added\u001b[0m\n",
      "\u001b[32m2023-04-12 02:52:18.472\u001b[0m | \u001b[34m\u001b[1mDEBUG   \u001b[0m | \u001b[36mannlite.core.index.hnsw.index\u001b[0m:\u001b[36m_expand_capacity\u001b[0m:\u001b[36m181\u001b[0m - \u001b[34m\u001b[1mHNSW index capacity is expanded by 10240\u001b[0m\n",
      "\u001b[32m2023-04-12 02:52:18.876\u001b[0m | \u001b[34m\u001b[1mDEBUG   \u001b[0m | \u001b[36mannlite.container\u001b[0m:\u001b[36minsert\u001b[0m:\u001b[36m308\u001b[0m - \u001b[34m\u001b[1m10240 new docs added\u001b[0m\n",
      "\u001b[32m2023-04-12 02:52:19.186\u001b[0m | \u001b[34m\u001b[1mDEBUG   \u001b[0m | \u001b[36mannlite.core.index.hnsw.index\u001b[0m:\u001b[36m_expand_capacity\u001b[0m:\u001b[36m181\u001b[0m - \u001b[34m\u001b[1mHNSW index capacity is expanded by 10240\u001b[0m\n",
      "\u001b[32m2023-04-12 02:52:19.613\u001b[0m | \u001b[34m\u001b[1mDEBUG   \u001b[0m | \u001b[36mannlite.container\u001b[0m:\u001b[36minsert\u001b[0m:\u001b[36m308\u001b[0m - \u001b[34m\u001b[1m10240 new docs added\u001b[0m\n",
      "\u001b[32m2023-04-12 02:52:19.944\u001b[0m | \u001b[34m\u001b[1mDEBUG   \u001b[0m | \u001b[36mannlite.core.index.hnsw.index\u001b[0m:\u001b[36m_expand_capacity\u001b[0m:\u001b[36m181\u001b[0m - \u001b[34m\u001b[1mHNSW index capacity is expanded by 10240\u001b[0m\n",
      "\u001b[32m2023-04-12 02:52:20.420\u001b[0m | \u001b[34m\u001b[1mDEBUG   \u001b[0m | \u001b[36mannlite.container\u001b[0m:\u001b[36minsert\u001b[0m:\u001b[36m308\u001b[0m - \u001b[34m\u001b[1m10240 new docs added\u001b[0m\n",
      "\u001b[32m2023-04-12 02:52:20.732\u001b[0m | \u001b[34m\u001b[1mDEBUG   \u001b[0m | \u001b[36mannlite.core.index.hnsw.index\u001b[0m:\u001b[36m_expand_capacity\u001b[0m:\u001b[36m181\u001b[0m - \u001b[34m\u001b[1mHNSW index capacity is expanded by 10240\u001b[0m\n",
      "\u001b[32m2023-04-12 02:52:21.225\u001b[0m | \u001b[34m\u001b[1mDEBUG   \u001b[0m | \u001b[36mannlite.container\u001b[0m:\u001b[36minsert\u001b[0m:\u001b[36m308\u001b[0m - \u001b[34m\u001b[1m10240 new docs added\u001b[0m\n",
      "\u001b[32m2023-04-12 02:52:21.512\u001b[0m | \u001b[34m\u001b[1mDEBUG   \u001b[0m | \u001b[36mannlite.core.index.hnsw.index\u001b[0m:\u001b[36m_expand_capacity\u001b[0m:\u001b[36m181\u001b[0m - \u001b[34m\u001b[1mHNSW index capacity is expanded by 10240\u001b[0m\n",
      "\u001b[32m2023-04-12 02:52:22.016\u001b[0m | \u001b[34m\u001b[1mDEBUG   \u001b[0m | \u001b[36mannlite.container\u001b[0m:\u001b[36minsert\u001b[0m:\u001b[36m308\u001b[0m - \u001b[34m\u001b[1m10240 new docs added\u001b[0m\n",
      "\u001b[32m2023-04-12 02:52:22.343\u001b[0m | \u001b[34m\u001b[1mDEBUG   \u001b[0m | \u001b[36mannlite.core.index.hnsw.index\u001b[0m:\u001b[36m_expand_capacity\u001b[0m:\u001b[36m181\u001b[0m - \u001b[34m\u001b[1mHNSW index capacity is expanded by 10240\u001b[0m\n",
      "\u001b[32m2023-04-12 02:52:22.875\u001b[0m | \u001b[34m\u001b[1mDEBUG   \u001b[0m | \u001b[36mannlite.container\u001b[0m:\u001b[36minsert\u001b[0m:\u001b[36m308\u001b[0m - \u001b[34m\u001b[1m10240 new docs added\u001b[0m\n",
      "\u001b[32m2023-04-12 02:52:23.187\u001b[0m | \u001b[34m\u001b[1mDEBUG   \u001b[0m | \u001b[36mannlite.core.index.hnsw.index\u001b[0m:\u001b[36m_expand_capacity\u001b[0m:\u001b[36m181\u001b[0m - \u001b[34m\u001b[1mHNSW index capacity is expanded by 10240\u001b[0m\n",
      "\u001b[32m2023-04-12 02:52:23.745\u001b[0m | \u001b[34m\u001b[1mDEBUG   \u001b[0m | \u001b[36mannlite.container\u001b[0m:\u001b[36minsert\u001b[0m:\u001b[36m308\u001b[0m - \u001b[34m\u001b[1m10240 new docs added\u001b[0m\n",
      "\u001b[32m2023-04-12 02:52:24.038\u001b[0m | \u001b[34m\u001b[1mDEBUG   \u001b[0m | \u001b[36mannlite.core.index.hnsw.index\u001b[0m:\u001b[36m_expand_capacity\u001b[0m:\u001b[36m181\u001b[0m - \u001b[34m\u001b[1mHNSW index capacity is expanded by 10240\u001b[0m\n",
      "\u001b[32m2023-04-12 02:52:24.573\u001b[0m | \u001b[34m\u001b[1mDEBUG   \u001b[0m | \u001b[36mannlite.container\u001b[0m:\u001b[36minsert\u001b[0m:\u001b[36m308\u001b[0m - \u001b[34m\u001b[1m10240 new docs added\u001b[0m\n",
      "\u001b[32m2023-04-12 02:52:24.865\u001b[0m | \u001b[34m\u001b[1mDEBUG   \u001b[0m | \u001b[36mannlite.core.index.hnsw.index\u001b[0m:\u001b[36m_expand_capacity\u001b[0m:\u001b[36m181\u001b[0m - \u001b[34m\u001b[1mHNSW index capacity is expanded by 10240\u001b[0m\n",
      "\u001b[32m2023-04-12 02:52:25.414\u001b[0m | \u001b[34m\u001b[1mDEBUG   \u001b[0m | \u001b[36mannlite.container\u001b[0m:\u001b[36minsert\u001b[0m:\u001b[36m308\u001b[0m - \u001b[34m\u001b[1m10240 new docs added\u001b[0m\n",
      "\u001b[32m2023-04-12 02:52:25.697\u001b[0m | \u001b[34m\u001b[1mDEBUG   \u001b[0m | \u001b[36mannlite.core.index.hnsw.index\u001b[0m:\u001b[36m_expand_capacity\u001b[0m:\u001b[36m181\u001b[0m - \u001b[34m\u001b[1mHNSW index capacity is expanded by 10240\u001b[0m\n",
      "\u001b[32m2023-04-12 02:52:26.266\u001b[0m | \u001b[34m\u001b[1mDEBUG   \u001b[0m | \u001b[36mannlite.container\u001b[0m:\u001b[36minsert\u001b[0m:\u001b[36m308\u001b[0m - \u001b[34m\u001b[1m10240 new docs added\u001b[0m\n",
      "\u001b[32m2023-04-12 02:52:26.618\u001b[0m | \u001b[34m\u001b[1mDEBUG   \u001b[0m | \u001b[36mannlite.core.index.hnsw.index\u001b[0m:\u001b[36m_expand_capacity\u001b[0m:\u001b[36m181\u001b[0m - \u001b[34m\u001b[1mHNSW index capacity is expanded by 10240\u001b[0m\n",
      "\u001b[32m2023-04-12 02:52:27.198\u001b[0m | \u001b[34m\u001b[1mDEBUG   \u001b[0m | \u001b[36mannlite.container\u001b[0m:\u001b[36minsert\u001b[0m:\u001b[36m308\u001b[0m - \u001b[34m\u001b[1m10240 new docs added\u001b[0m\n",
      "\u001b[32m2023-04-12 02:52:27.513\u001b[0m | \u001b[34m\u001b[1mDEBUG   \u001b[0m | \u001b[36mannlite.core.index.hnsw.index\u001b[0m:\u001b[36m_expand_capacity\u001b[0m:\u001b[36m181\u001b[0m - \u001b[34m\u001b[1mHNSW index capacity is expanded by 10240\u001b[0m\n",
      "\u001b[32m2023-04-12 02:52:28.117\u001b[0m | \u001b[34m\u001b[1mDEBUG   \u001b[0m | \u001b[36mannlite.container\u001b[0m:\u001b[36minsert\u001b[0m:\u001b[36m308\u001b[0m - \u001b[34m\u001b[1m10240 new docs added\u001b[0m\n",
      "\u001b[32m2023-04-12 02:52:28.428\u001b[0m | \u001b[34m\u001b[1mDEBUG   \u001b[0m | \u001b[36mannlite.core.index.hnsw.index\u001b[0m:\u001b[36m_expand_capacity\u001b[0m:\u001b[36m181\u001b[0m - \u001b[34m\u001b[1mHNSW index capacity is expanded by 10240\u001b[0m\n",
      "\u001b[32m2023-04-12 02:52:29.046\u001b[0m | \u001b[34m\u001b[1mDEBUG   \u001b[0m | \u001b[36mannlite.container\u001b[0m:\u001b[36minsert\u001b[0m:\u001b[36m308\u001b[0m - \u001b[34m\u001b[1m10240 new docs added\u001b[0m\n",
      "\u001b[32m2023-04-12 02:52:29.365\u001b[0m | \u001b[34m\u001b[1mDEBUG   \u001b[0m | \u001b[36mannlite.core.index.hnsw.index\u001b[0m:\u001b[36m_expand_capacity\u001b[0m:\u001b[36m181\u001b[0m - \u001b[34m\u001b[1mHNSW index capacity is expanded by 10240\u001b[0m\n",
      "\u001b[32m2023-04-12 02:52:29.982\u001b[0m | \u001b[34m\u001b[1mDEBUG   \u001b[0m | \u001b[36mannlite.container\u001b[0m:\u001b[36minsert\u001b[0m:\u001b[36m308\u001b[0m - \u001b[34m\u001b[1m10240 new docs added\u001b[0m\n",
      "\u001b[32m2023-04-12 02:52:30.292\u001b[0m | \u001b[34m\u001b[1mDEBUG   \u001b[0m | \u001b[36mannlite.core.index.hnsw.index\u001b[0m:\u001b[36m_expand_capacity\u001b[0m:\u001b[36m181\u001b[0m - \u001b[34m\u001b[1mHNSW index capacity is expanded by 10240\u001b[0m\n",
      "\u001b[32m2023-04-12 02:52:30.913\u001b[0m | \u001b[34m\u001b[1mDEBUG   \u001b[0m | \u001b[36mannlite.container\u001b[0m:\u001b[36minsert\u001b[0m:\u001b[36m308\u001b[0m - \u001b[34m\u001b[1m10240 new docs added\u001b[0m\n",
      "\u001b[32m2023-04-12 02:52:31.226\u001b[0m | \u001b[34m\u001b[1mDEBUG   \u001b[0m | \u001b[36mannlite.core.index.hnsw.index\u001b[0m:\u001b[36m_expand_capacity\u001b[0m:\u001b[36m181\u001b[0m - \u001b[34m\u001b[1mHNSW index capacity is expanded by 10240\u001b[0m\n",
      "\u001b[32m2023-04-12 02:52:31.907\u001b[0m | \u001b[34m\u001b[1mDEBUG   \u001b[0m | \u001b[36mannlite.container\u001b[0m:\u001b[36minsert\u001b[0m:\u001b[36m308\u001b[0m - \u001b[34m\u001b[1m10240 new docs added\u001b[0m\n",
      "\u001b[32m2023-04-12 02:52:32.215\u001b[0m | \u001b[34m\u001b[1mDEBUG   \u001b[0m | \u001b[36mannlite.core.index.hnsw.index\u001b[0m:\u001b[36m_expand_capacity\u001b[0m:\u001b[36m181\u001b[0m - \u001b[34m\u001b[1mHNSW index capacity is expanded by 10240\u001b[0m\n",
      "\u001b[32m2023-04-12 02:52:32.861\u001b[0m | \u001b[34m\u001b[1mDEBUG   \u001b[0m | \u001b[36mannlite.container\u001b[0m:\u001b[36minsert\u001b[0m:\u001b[36m308\u001b[0m - \u001b[34m\u001b[1m10240 new docs added\u001b[0m\n",
      "\u001b[32m2023-04-12 02:52:33.147\u001b[0m | \u001b[34m\u001b[1mDEBUG   \u001b[0m | \u001b[36mannlite.core.index.hnsw.index\u001b[0m:\u001b[36m_expand_capacity\u001b[0m:\u001b[36m181\u001b[0m - \u001b[34m\u001b[1mHNSW index capacity is expanded by 10240\u001b[0m\n",
      "\u001b[32m2023-04-12 02:52:33.824\u001b[0m | \u001b[34m\u001b[1mDEBUG   \u001b[0m | \u001b[36mannlite.container\u001b[0m:\u001b[36minsert\u001b[0m:\u001b[36m308\u001b[0m - \u001b[34m\u001b[1m10240 new docs added\u001b[0m\n",
      "\u001b[32m2023-04-12 02:52:34.131\u001b[0m | \u001b[34m\u001b[1mDEBUG   \u001b[0m | \u001b[36mannlite.core.index.hnsw.index\u001b[0m:\u001b[36m_expand_capacity\u001b[0m:\u001b[36m181\u001b[0m - \u001b[34m\u001b[1mHNSW index capacity is expanded by 10240\u001b[0m\n",
      "\u001b[32m2023-04-12 02:52:34.797\u001b[0m | \u001b[34m\u001b[1mDEBUG   \u001b[0m | \u001b[36mannlite.container\u001b[0m:\u001b[36minsert\u001b[0m:\u001b[36m308\u001b[0m - \u001b[34m\u001b[1m10240 new docs added\u001b[0m\n",
      "\u001b[32m2023-04-12 02:52:35.108\u001b[0m | \u001b[34m\u001b[1mDEBUG   \u001b[0m | \u001b[36mannlite.core.index.hnsw.index\u001b[0m:\u001b[36m_expand_capacity\u001b[0m:\u001b[36m181\u001b[0m - \u001b[34m\u001b[1mHNSW index capacity is expanded by 10240\u001b[0m\n",
      "\u001b[32m2023-04-12 02:52:35.793\u001b[0m | \u001b[34m\u001b[1mDEBUG   \u001b[0m | \u001b[36mannlite.container\u001b[0m:\u001b[36minsert\u001b[0m:\u001b[36m308\u001b[0m - \u001b[34m\u001b[1m10240 new docs added\u001b[0m\n",
      "\u001b[32m2023-04-12 02:52:40.772\u001b[0m | \u001b[34m\u001b[1mDEBUG   \u001b[0m | \u001b[36mannlite.core.index.hnsw.index\u001b[0m:\u001b[36m_expand_capacity\u001b[0m:\u001b[36m181\u001b[0m - \u001b[34m\u001b[1mHNSW index capacity is expanded by 10240\u001b[0m\n",
      "\u001b[32m2023-04-12 02:52:41.474\u001b[0m | \u001b[34m\u001b[1mDEBUG   \u001b[0m | \u001b[36mannlite.container\u001b[0m:\u001b[36minsert\u001b[0m:\u001b[36m308\u001b[0m - \u001b[34m\u001b[1m10240 new docs added\u001b[0m\n",
      "\u001b[32m2023-04-12 02:52:41.768\u001b[0m | \u001b[34m\u001b[1mDEBUG   \u001b[0m | \u001b[36mannlite.core.index.hnsw.index\u001b[0m:\u001b[36m_expand_capacity\u001b[0m:\u001b[36m181\u001b[0m - \u001b[34m\u001b[1mHNSW index capacity is expanded by 10240\u001b[0m\n",
      "\u001b[32m2023-04-12 02:52:42.466\u001b[0m | \u001b[34m\u001b[1mDEBUG   \u001b[0m | \u001b[36mannlite.container\u001b[0m:\u001b[36minsert\u001b[0m:\u001b[36m308\u001b[0m - \u001b[34m\u001b[1m10240 new docs added\u001b[0m\n",
      "\u001b[32m2023-04-12 02:52:42.773\u001b[0m | \u001b[34m\u001b[1mDEBUG   \u001b[0m | \u001b[36mannlite.core.index.hnsw.index\u001b[0m:\u001b[36m_expand_capacity\u001b[0m:\u001b[36m181\u001b[0m - \u001b[34m\u001b[1mHNSW index capacity is expanded by 10240\u001b[0m\n",
      "\u001b[32m2023-04-12 02:52:43.470\u001b[0m | \u001b[34m\u001b[1mDEBUG   \u001b[0m | \u001b[36mannlite.container\u001b[0m:\u001b[36minsert\u001b[0m:\u001b[36m308\u001b[0m - \u001b[34m\u001b[1m10240 new docs added\u001b[0m\n",
      "\u001b[32m2023-04-12 02:52:43.787\u001b[0m | \u001b[34m\u001b[1mDEBUG   \u001b[0m | \u001b[36mannlite.core.index.hnsw.index\u001b[0m:\u001b[36m_expand_capacity\u001b[0m:\u001b[36m181\u001b[0m - \u001b[34m\u001b[1mHNSW index capacity is expanded by 10240\u001b[0m\n",
      "\u001b[32m2023-04-12 02:52:44.466\u001b[0m | \u001b[34m\u001b[1mDEBUG   \u001b[0m | \u001b[36mannlite.container\u001b[0m:\u001b[36minsert\u001b[0m:\u001b[36m308\u001b[0m - \u001b[34m\u001b[1m10240 new docs added\u001b[0m\n",
      "\u001b[32m2023-04-12 02:52:44.754\u001b[0m | \u001b[34m\u001b[1mDEBUG   \u001b[0m | \u001b[36mannlite.core.index.hnsw.index\u001b[0m:\u001b[36m_expand_capacity\u001b[0m:\u001b[36m181\u001b[0m - \u001b[34m\u001b[1mHNSW index capacity is expanded by 10240\u001b[0m\n",
      "\u001b[32m2023-04-12 02:52:45.439\u001b[0m | \u001b[34m\u001b[1mDEBUG   \u001b[0m | \u001b[36mannlite.container\u001b[0m:\u001b[36minsert\u001b[0m:\u001b[36m308\u001b[0m - \u001b[34m\u001b[1m10240 new docs added\u001b[0m\n",
      "\u001b[32m2023-04-12 02:52:45.750\u001b[0m | \u001b[34m\u001b[1mDEBUG   \u001b[0m | \u001b[36mannlite.core.index.hnsw.index\u001b[0m:\u001b[36m_expand_capacity\u001b[0m:\u001b[36m181\u001b[0m - \u001b[34m\u001b[1mHNSW index capacity is expanded by 10240\u001b[0m\n",
      "\u001b[32m2023-04-12 02:52:46.443\u001b[0m | \u001b[34m\u001b[1mDEBUG   \u001b[0m | \u001b[36mannlite.container\u001b[0m:\u001b[36minsert\u001b[0m:\u001b[36m308\u001b[0m - \u001b[34m\u001b[1m10240 new docs added\u001b[0m\n",
      "\u001b[32m2023-04-12 02:52:46.726\u001b[0m | \u001b[34m\u001b[1mDEBUG   \u001b[0m | \u001b[36mannlite.core.index.hnsw.index\u001b[0m:\u001b[36m_expand_capacity\u001b[0m:\u001b[36m181\u001b[0m - \u001b[34m\u001b[1mHNSW index capacity is expanded by 10240\u001b[0m\n",
      "\u001b[32m2023-04-12 02:52:47.410\u001b[0m | \u001b[34m\u001b[1mDEBUG   \u001b[0m | \u001b[36mannlite.container\u001b[0m:\u001b[36minsert\u001b[0m:\u001b[36m308\u001b[0m - \u001b[34m\u001b[1m10240 new docs added\u001b[0m\n",
      "\u001b[32m2023-04-12 02:52:47.704\u001b[0m | \u001b[34m\u001b[1mDEBUG   \u001b[0m | \u001b[36mannlite.core.index.hnsw.index\u001b[0m:\u001b[36m_expand_capacity\u001b[0m:\u001b[36m181\u001b[0m - \u001b[34m\u001b[1mHNSW index capacity is expanded by 10240\u001b[0m\n",
      "\u001b[32m2023-04-12 02:52:48.419\u001b[0m | \u001b[34m\u001b[1mDEBUG   \u001b[0m | \u001b[36mannlite.container\u001b[0m:\u001b[36minsert\u001b[0m:\u001b[36m308\u001b[0m - \u001b[34m\u001b[1m10240 new docs added\u001b[0m\n",
      "\u001b[32m2023-04-12 02:52:48.749\u001b[0m | \u001b[34m\u001b[1mDEBUG   \u001b[0m | \u001b[36mannlite.core.index.hnsw.index\u001b[0m:\u001b[36m_expand_capacity\u001b[0m:\u001b[36m181\u001b[0m - \u001b[34m\u001b[1mHNSW index capacity is expanded by 10240\u001b[0m\n",
      "\u001b[32m2023-04-12 02:52:49.489\u001b[0m | \u001b[34m\u001b[1mDEBUG   \u001b[0m | \u001b[36mannlite.container\u001b[0m:\u001b[36minsert\u001b[0m:\u001b[36m308\u001b[0m - \u001b[34m\u001b[1m10240 new docs added\u001b[0m\n",
      "\u001b[32m2023-04-12 02:52:49.790\u001b[0m | \u001b[34m\u001b[1mDEBUG   \u001b[0m | \u001b[36mannlite.core.index.hnsw.index\u001b[0m:\u001b[36m_expand_capacity\u001b[0m:\u001b[36m181\u001b[0m - \u001b[34m\u001b[1mHNSW index capacity is expanded by 10240\u001b[0m\n",
      "\u001b[32m2023-04-12 02:52:50.563\u001b[0m | \u001b[34m\u001b[1mDEBUG   \u001b[0m | \u001b[36mannlite.container\u001b[0m:\u001b[36minsert\u001b[0m:\u001b[36m308\u001b[0m - \u001b[34m\u001b[1m10240 new docs added\u001b[0m\n",
      "\u001b[32m2023-04-12 02:52:50.875\u001b[0m | \u001b[34m\u001b[1mDEBUG   \u001b[0m | \u001b[36mannlite.core.index.hnsw.index\u001b[0m:\u001b[36m_expand_capacity\u001b[0m:\u001b[36m181\u001b[0m - \u001b[34m\u001b[1mHNSW index capacity is expanded by 10240\u001b[0m\n",
      "\u001b[32m2023-04-12 02:52:51.579\u001b[0m | \u001b[34m\u001b[1mDEBUG   \u001b[0m | \u001b[36mannlite.container\u001b[0m:\u001b[36minsert\u001b[0m:\u001b[36m308\u001b[0m - \u001b[34m\u001b[1m10240 new docs added\u001b[0m\n",
      "\u001b[32m2023-04-12 02:52:51.893\u001b[0m | \u001b[34m\u001b[1mDEBUG   \u001b[0m | \u001b[36mannlite.core.index.hnsw.index\u001b[0m:\u001b[36m_expand_capacity\u001b[0m:\u001b[36m181\u001b[0m - \u001b[34m\u001b[1mHNSW index capacity is expanded by 10240\u001b[0m\n",
      "\u001b[32m2023-04-12 02:52:52.610\u001b[0m | \u001b[34m\u001b[1mDEBUG   \u001b[0m | \u001b[36mannlite.container\u001b[0m:\u001b[36minsert\u001b[0m:\u001b[36m308\u001b[0m - \u001b[34m\u001b[1m10240 new docs added\u001b[0m\n",
      "\u001b[32m2023-04-12 02:52:52.949\u001b[0m | \u001b[34m\u001b[1mDEBUG   \u001b[0m | \u001b[36mannlite.core.index.hnsw.index\u001b[0m:\u001b[36m_expand_capacity\u001b[0m:\u001b[36m181\u001b[0m - \u001b[34m\u001b[1mHNSW index capacity is expanded by 10240\u001b[0m\n",
      "\u001b[32m2023-04-12 02:52:53.696\u001b[0m | \u001b[34m\u001b[1mDEBUG   \u001b[0m | \u001b[36mannlite.container\u001b[0m:\u001b[36minsert\u001b[0m:\u001b[36m308\u001b[0m - \u001b[34m\u001b[1m10240 new docs added\u001b[0m\n",
      "\u001b[32m2023-04-12 02:52:54.000\u001b[0m | \u001b[34m\u001b[1mDEBUG   \u001b[0m | \u001b[36mannlite.core.index.hnsw.index\u001b[0m:\u001b[36m_expand_capacity\u001b[0m:\u001b[36m181\u001b[0m - \u001b[34m\u001b[1mHNSW index capacity is expanded by 10240\u001b[0m\n",
      "\u001b[32m2023-04-12 02:52:54.711\u001b[0m | \u001b[34m\u001b[1mDEBUG   \u001b[0m | \u001b[36mannlite.container\u001b[0m:\u001b[36minsert\u001b[0m:\u001b[36m308\u001b[0m - \u001b[34m\u001b[1m10240 new docs added\u001b[0m\n",
      "\u001b[32m2023-04-12 02:52:55.018\u001b[0m | \u001b[34m\u001b[1mDEBUG   \u001b[0m | \u001b[36mannlite.core.index.hnsw.index\u001b[0m:\u001b[36m_expand_capacity\u001b[0m:\u001b[36m181\u001b[0m - \u001b[34m\u001b[1mHNSW index capacity is expanded by 10240\u001b[0m\n",
      "\u001b[32m2023-04-12 02:52:55.747\u001b[0m | \u001b[34m\u001b[1mDEBUG   \u001b[0m | \u001b[36mannlite.container\u001b[0m:\u001b[36minsert\u001b[0m:\u001b[36m308\u001b[0m - \u001b[34m\u001b[1m10240 new docs added\u001b[0m\n",
      "\u001b[32m2023-04-12 02:52:56.077\u001b[0m | \u001b[34m\u001b[1mDEBUG   \u001b[0m | \u001b[36mannlite.core.index.hnsw.index\u001b[0m:\u001b[36m_expand_capacity\u001b[0m:\u001b[36m181\u001b[0m - \u001b[34m\u001b[1mHNSW index capacity is expanded by 10240\u001b[0m\n",
      "\u001b[32m2023-04-12 02:52:56.825\u001b[0m | \u001b[34m\u001b[1mDEBUG   \u001b[0m | \u001b[36mannlite.container\u001b[0m:\u001b[36minsert\u001b[0m:\u001b[36m308\u001b[0m - \u001b[34m\u001b[1m10240 new docs added\u001b[0m\n",
      "\u001b[32m2023-04-12 02:52:57.167\u001b[0m | \u001b[34m\u001b[1mDEBUG   \u001b[0m | \u001b[36mannlite.core.index.hnsw.index\u001b[0m:\u001b[36m_expand_capacity\u001b[0m:\u001b[36m181\u001b[0m - \u001b[34m\u001b[1mHNSW index capacity is expanded by 10240\u001b[0m\n",
      "\u001b[32m2023-04-12 02:52:57.914\u001b[0m | \u001b[34m\u001b[1mDEBUG   \u001b[0m | \u001b[36mannlite.container\u001b[0m:\u001b[36minsert\u001b[0m:\u001b[36m308\u001b[0m - \u001b[34m\u001b[1m10240 new docs added\u001b[0m\n",
      "\u001b[32m2023-04-12 02:52:58.208\u001b[0m | \u001b[34m\u001b[1mDEBUG   \u001b[0m | \u001b[36mannlite.core.index.hnsw.index\u001b[0m:\u001b[36m_expand_capacity\u001b[0m:\u001b[36m181\u001b[0m - \u001b[34m\u001b[1mHNSW index capacity is expanded by 10240\u001b[0m\n",
      "\u001b[32m2023-04-12 02:52:58.948\u001b[0m | \u001b[34m\u001b[1mDEBUG   \u001b[0m | \u001b[36mannlite.container\u001b[0m:\u001b[36minsert\u001b[0m:\u001b[36m308\u001b[0m - \u001b[34m\u001b[1m10240 new docs added\u001b[0m\n",
      "\u001b[32m2023-04-12 02:52:59.273\u001b[0m | \u001b[34m\u001b[1mDEBUG   \u001b[0m | \u001b[36mannlite.core.index.hnsw.index\u001b[0m:\u001b[36m_expand_capacity\u001b[0m:\u001b[36m181\u001b[0m - \u001b[34m\u001b[1mHNSW index capacity is expanded by 10240\u001b[0m\n",
      "\u001b[32m2023-04-12 02:53:00.046\u001b[0m | \u001b[34m\u001b[1mDEBUG   \u001b[0m | \u001b[36mannlite.container\u001b[0m:\u001b[36minsert\u001b[0m:\u001b[36m308\u001b[0m - \u001b[34m\u001b[1m10240 new docs added\u001b[0m\n",
      "\u001b[32m2023-04-12 02:53:00.363\u001b[0m | \u001b[34m\u001b[1mDEBUG   \u001b[0m | \u001b[36mannlite.core.index.hnsw.index\u001b[0m:\u001b[36m_expand_capacity\u001b[0m:\u001b[36m181\u001b[0m - \u001b[34m\u001b[1mHNSW index capacity is expanded by 10240\u001b[0m\n",
      "\u001b[32m2023-04-12 02:53:01.096\u001b[0m | \u001b[34m\u001b[1mDEBUG   \u001b[0m | \u001b[36mannlite.container\u001b[0m:\u001b[36minsert\u001b[0m:\u001b[36m308\u001b[0m - \u001b[34m\u001b[1m10240 new docs added\u001b[0m\n",
      "\u001b[32m2023-04-12 02:53:01.403\u001b[0m | \u001b[34m\u001b[1mDEBUG   \u001b[0m | \u001b[36mannlite.core.index.hnsw.index\u001b[0m:\u001b[36m_expand_capacity\u001b[0m:\u001b[36m181\u001b[0m - \u001b[34m\u001b[1mHNSW index capacity is expanded by 10240\u001b[0m\n",
      "\u001b[32m2023-04-12 02:53:02.157\u001b[0m | \u001b[34m\u001b[1mDEBUG   \u001b[0m | \u001b[36mannlite.container\u001b[0m:\u001b[36minsert\u001b[0m:\u001b[36m308\u001b[0m - \u001b[34m\u001b[1m10240 new docs added\u001b[0m\n",
      "\u001b[32m2023-04-12 02:53:02.481\u001b[0m | \u001b[34m\u001b[1mDEBUG   \u001b[0m | \u001b[36mannlite.core.index.hnsw.index\u001b[0m:\u001b[36m_expand_capacity\u001b[0m:\u001b[36m181\u001b[0m - \u001b[34m\u001b[1mHNSW index capacity is expanded by 10240\u001b[0m\n",
      "\u001b[32m2023-04-12 02:53:03.258\u001b[0m | \u001b[34m\u001b[1mDEBUG   \u001b[0m | \u001b[36mannlite.container\u001b[0m:\u001b[36minsert\u001b[0m:\u001b[36m308\u001b[0m - \u001b[34m\u001b[1m10240 new docs added\u001b[0m\n",
      "\u001b[32m2023-04-12 02:53:03.586\u001b[0m | \u001b[34m\u001b[1mDEBUG   \u001b[0m | \u001b[36mannlite.core.index.hnsw.index\u001b[0m:\u001b[36m_expand_capacity\u001b[0m:\u001b[36m181\u001b[0m - \u001b[34m\u001b[1mHNSW index capacity is expanded by 10240\u001b[0m\n",
      "\u001b[32m2023-04-12 02:53:04.352\u001b[0m | \u001b[34m\u001b[1mDEBUG   \u001b[0m | \u001b[36mannlite.container\u001b[0m:\u001b[36minsert\u001b[0m:\u001b[36m308\u001b[0m - \u001b[34m\u001b[1m10240 new docs added\u001b[0m\n",
      "\u001b[32m2023-04-12 02:53:04.645\u001b[0m | \u001b[34m\u001b[1mDEBUG   \u001b[0m | \u001b[36mannlite.core.index.hnsw.index\u001b[0m:\u001b[36m_expand_capacity\u001b[0m:\u001b[36m181\u001b[0m - \u001b[34m\u001b[1mHNSW index capacity is expanded by 10240\u001b[0m\n",
      "\u001b[32m2023-04-12 02:53:05.397\u001b[0m | \u001b[34m\u001b[1mDEBUG   \u001b[0m | \u001b[36mannlite.container\u001b[0m:\u001b[36minsert\u001b[0m:\u001b[36m308\u001b[0m - \u001b[34m\u001b[1m10240 new docs added\u001b[0m\n",
      "\u001b[32m2023-04-12 02:53:05.712\u001b[0m | \u001b[34m\u001b[1mDEBUG   \u001b[0m | \u001b[36mannlite.core.index.hnsw.index\u001b[0m:\u001b[36m_expand_capacity\u001b[0m:\u001b[36m181\u001b[0m - \u001b[34m\u001b[1mHNSW index capacity is expanded by 10240\u001b[0m\n",
      "\u001b[32m2023-04-12 02:53:06.478\u001b[0m | \u001b[34m\u001b[1mDEBUG   \u001b[0m | \u001b[36mannlite.container\u001b[0m:\u001b[36minsert\u001b[0m:\u001b[36m308\u001b[0m - \u001b[34m\u001b[1m10240 new docs added\u001b[0m\n",
      "\u001b[32m2023-04-12 02:53:06.790\u001b[0m | \u001b[34m\u001b[1mDEBUG   \u001b[0m | \u001b[36mannlite.core.index.hnsw.index\u001b[0m:\u001b[36m_expand_capacity\u001b[0m:\u001b[36m181\u001b[0m - \u001b[34m\u001b[1mHNSW index capacity is expanded by 10240\u001b[0m\n",
      "\u001b[32m2023-04-12 02:53:07.566\u001b[0m | \u001b[34m\u001b[1mDEBUG   \u001b[0m | \u001b[36mannlite.container\u001b[0m:\u001b[36minsert\u001b[0m:\u001b[36m308\u001b[0m - \u001b[34m\u001b[1m10240 new docs added\u001b[0m\n",
      "\u001b[32m2023-04-12 02:53:07.902\u001b[0m | \u001b[34m\u001b[1mDEBUG   \u001b[0m | \u001b[36mannlite.core.index.hnsw.index\u001b[0m:\u001b[36m_expand_capacity\u001b[0m:\u001b[36m181\u001b[0m - \u001b[34m\u001b[1mHNSW index capacity is expanded by 10240\u001b[0m\n",
      "\u001b[32m2023-04-12 02:53:08.694\u001b[0m | \u001b[34m\u001b[1mDEBUG   \u001b[0m | \u001b[36mannlite.container\u001b[0m:\u001b[36minsert\u001b[0m:\u001b[36m308\u001b[0m - \u001b[34m\u001b[1m10240 new docs added\u001b[0m\n",
      "\u001b[32m2023-04-12 02:53:08.986\u001b[0m | \u001b[34m\u001b[1mDEBUG   \u001b[0m | \u001b[36mannlite.core.index.hnsw.index\u001b[0m:\u001b[36m_expand_capacity\u001b[0m:\u001b[36m181\u001b[0m - \u001b[34m\u001b[1mHNSW index capacity is expanded by 10240\u001b[0m\n",
      "\u001b[32m2023-04-12 02:53:09.750\u001b[0m | \u001b[34m\u001b[1mDEBUG   \u001b[0m | \u001b[36mannlite.container\u001b[0m:\u001b[36minsert\u001b[0m:\u001b[36m308\u001b[0m - \u001b[34m\u001b[1m10240 new docs added\u001b[0m\n",
      "\u001b[32m2023-04-12 02:53:10.064\u001b[0m | \u001b[34m\u001b[1mDEBUG   \u001b[0m | \u001b[36mannlite.core.index.hnsw.index\u001b[0m:\u001b[36m_expand_capacity\u001b[0m:\u001b[36m181\u001b[0m - \u001b[34m\u001b[1mHNSW index capacity is expanded by 10240\u001b[0m\n",
      "\u001b[32m2023-04-12 02:53:10.857\u001b[0m | \u001b[34m\u001b[1mDEBUG   \u001b[0m | \u001b[36mannlite.container\u001b[0m:\u001b[36minsert\u001b[0m:\u001b[36m308\u001b[0m - \u001b[34m\u001b[1m10240 new docs added\u001b[0m\n",
      "\u001b[32m2023-04-12 02:53:11.177\u001b[0m | \u001b[34m\u001b[1mDEBUG   \u001b[0m | \u001b[36mannlite.core.index.hnsw.index\u001b[0m:\u001b[36m_expand_capacity\u001b[0m:\u001b[36m181\u001b[0m - \u001b[34m\u001b[1mHNSW index capacity is expanded by 10240\u001b[0m\n",
      "\u001b[32m2023-04-12 02:53:11.936\u001b[0m | \u001b[34m\u001b[1mDEBUG   \u001b[0m | \u001b[36mannlite.container\u001b[0m:\u001b[36minsert\u001b[0m:\u001b[36m308\u001b[0m - \u001b[34m\u001b[1m10240 new docs added\u001b[0m\n",
      "\u001b[32m2023-04-12 02:53:12.236\u001b[0m | \u001b[34m\u001b[1mDEBUG   \u001b[0m | \u001b[36mannlite.core.index.hnsw.index\u001b[0m:\u001b[36m_expand_capacity\u001b[0m:\u001b[36m181\u001b[0m - \u001b[34m\u001b[1mHNSW index capacity is expanded by 10240\u001b[0m\n",
      "\u001b[32m2023-04-12 02:53:13.034\u001b[0m | \u001b[34m\u001b[1mDEBUG   \u001b[0m | \u001b[36mannlite.container\u001b[0m:\u001b[36minsert\u001b[0m:\u001b[36m308\u001b[0m - \u001b[34m\u001b[1m10240 new docs added\u001b[0m\n",
      "\u001b[32m2023-04-12 02:53:13.378\u001b[0m | \u001b[34m\u001b[1mDEBUG   \u001b[0m | \u001b[36mannlite.core.index.hnsw.index\u001b[0m:\u001b[36m_expand_capacity\u001b[0m:\u001b[36m181\u001b[0m - \u001b[34m\u001b[1mHNSW index capacity is expanded by 10240\u001b[0m\n",
      "\u001b[32m2023-04-12 02:53:14.148\u001b[0m | \u001b[34m\u001b[1mDEBUG   \u001b[0m | \u001b[36mannlite.container\u001b[0m:\u001b[36minsert\u001b[0m:\u001b[36m308\u001b[0m - \u001b[34m\u001b[1m10240 new docs added\u001b[0m\n",
      "\u001b[32m2023-04-12 02:53:14.460\u001b[0m | \u001b[34m\u001b[1mDEBUG   \u001b[0m | \u001b[36mannlite.core.index.hnsw.index\u001b[0m:\u001b[36m_expand_capacity\u001b[0m:\u001b[36m181\u001b[0m - \u001b[34m\u001b[1mHNSW index capacity is expanded by 10240\u001b[0m\n",
      "\u001b[32m2023-04-12 02:53:15.220\u001b[0m | \u001b[34m\u001b[1mDEBUG   \u001b[0m | \u001b[36mannlite.container\u001b[0m:\u001b[36minsert\u001b[0m:\u001b[36m308\u001b[0m - \u001b[34m\u001b[1m10240 new docs added\u001b[0m\n",
      "\u001b[32m2023-04-12 02:53:15.535\u001b[0m | \u001b[34m\u001b[1mDEBUG   \u001b[0m | \u001b[36mannlite.core.index.hnsw.index\u001b[0m:\u001b[36m_expand_capacity\u001b[0m:\u001b[36m181\u001b[0m - \u001b[34m\u001b[1mHNSW index capacity is expanded by 10240\u001b[0m\n",
      "\u001b[32m2023-04-12 02:53:16.319\u001b[0m | \u001b[34m\u001b[1mDEBUG   \u001b[0m | \u001b[36mannlite.container\u001b[0m:\u001b[36minsert\u001b[0m:\u001b[36m308\u001b[0m - \u001b[34m\u001b[1m10240 new docs added\u001b[0m\n",
      "\u001b[32m2023-04-12 02:53:16.646\u001b[0m | \u001b[34m\u001b[1mDEBUG   \u001b[0m | \u001b[36mannlite.core.index.hnsw.index\u001b[0m:\u001b[36m_expand_capacity\u001b[0m:\u001b[36m181\u001b[0m - \u001b[34m\u001b[1mHNSW index capacity is expanded by 10240\u001b[0m\n",
      "\u001b[32m2023-04-12 02:53:17.433\u001b[0m | \u001b[34m\u001b[1mDEBUG   \u001b[0m | \u001b[36mannlite.container\u001b[0m:\u001b[36minsert\u001b[0m:\u001b[36m308\u001b[0m - \u001b[34m\u001b[1m10240 new docs added\u001b[0m\n",
      "\u001b[32m2023-04-12 02:53:17.765\u001b[0m | \u001b[34m\u001b[1mDEBUG   \u001b[0m | \u001b[36mannlite.core.index.hnsw.index\u001b[0m:\u001b[36m_expand_capacity\u001b[0m:\u001b[36m181\u001b[0m - \u001b[34m\u001b[1mHNSW index capacity is expanded by 10240\u001b[0m\n",
      "\u001b[32m2023-04-12 02:53:18.534\u001b[0m | \u001b[34m\u001b[1mDEBUG   \u001b[0m | \u001b[36mannlite.container\u001b[0m:\u001b[36minsert\u001b[0m:\u001b[36m308\u001b[0m - \u001b[34m\u001b[1m10240 new docs added\u001b[0m\n",
      "\u001b[32m2023-04-12 02:53:18.825\u001b[0m | \u001b[34m\u001b[1mDEBUG   \u001b[0m | \u001b[36mannlite.core.index.hnsw.index\u001b[0m:\u001b[36m_expand_capacity\u001b[0m:\u001b[36m181\u001b[0m - \u001b[34m\u001b[1mHNSW index capacity is expanded by 10240\u001b[0m\n",
      "\u001b[32m2023-04-12 02:53:19.589\u001b[0m | \u001b[34m\u001b[1mDEBUG   \u001b[0m | \u001b[36mannlite.container\u001b[0m:\u001b[36minsert\u001b[0m:\u001b[36m308\u001b[0m - \u001b[34m\u001b[1m10240 new docs added\u001b[0m\n",
      "\u001b[32m2023-04-12 02:53:19.925\u001b[0m | \u001b[34m\u001b[1mDEBUG   \u001b[0m | \u001b[36mannlite.core.index.hnsw.index\u001b[0m:\u001b[36m_expand_capacity\u001b[0m:\u001b[36m181\u001b[0m - \u001b[34m\u001b[1mHNSW index capacity is expanded by 10240\u001b[0m\n",
      "\u001b[32m2023-04-12 02:53:20.705\u001b[0m | \u001b[34m\u001b[1mDEBUG   \u001b[0m | \u001b[36mannlite.container\u001b[0m:\u001b[36minsert\u001b[0m:\u001b[36m308\u001b[0m - \u001b[34m\u001b[1m10240 new docs added\u001b[0m\n",
      "\u001b[32m2023-04-12 02:53:21.032\u001b[0m | \u001b[34m\u001b[1mDEBUG   \u001b[0m | \u001b[36mannlite.core.index.hnsw.index\u001b[0m:\u001b[36m_expand_capacity\u001b[0m:\u001b[36m181\u001b[0m - \u001b[34m\u001b[1mHNSW index capacity is expanded by 10240\u001b[0m\n",
      "\u001b[32m2023-04-12 02:53:21.852\u001b[0m | \u001b[34m\u001b[1mDEBUG   \u001b[0m | \u001b[36mannlite.container\u001b[0m:\u001b[36minsert\u001b[0m:\u001b[36m308\u001b[0m - \u001b[34m\u001b[1m10240 new docs added\u001b[0m\n",
      "\u001b[32m2023-04-12 02:53:22.154\u001b[0m | \u001b[34m\u001b[1mDEBUG   \u001b[0m | \u001b[36mannlite.core.index.hnsw.index\u001b[0m:\u001b[36m_expand_capacity\u001b[0m:\u001b[36m181\u001b[0m - \u001b[34m\u001b[1mHNSW index capacity is expanded by 10240\u001b[0m\n",
      "\u001b[32m2023-04-12 02:53:22.956\u001b[0m | \u001b[34m\u001b[1mDEBUG   \u001b[0m | \u001b[36mannlite.container\u001b[0m:\u001b[36minsert\u001b[0m:\u001b[36m308\u001b[0m - \u001b[34m\u001b[1m10240 new docs added\u001b[0m\n",
      "\u001b[32m2023-04-12 02:53:23.278\u001b[0m | \u001b[34m\u001b[1mDEBUG   \u001b[0m | \u001b[36mannlite.core.index.hnsw.index\u001b[0m:\u001b[36m_expand_capacity\u001b[0m:\u001b[36m181\u001b[0m - \u001b[34m\u001b[1mHNSW index capacity is expanded by 10240\u001b[0m\n",
      "\u001b[32m2023-04-12 02:53:24.073\u001b[0m | \u001b[34m\u001b[1mDEBUG   \u001b[0m | \u001b[36mannlite.container\u001b[0m:\u001b[36minsert\u001b[0m:\u001b[36m308\u001b[0m - \u001b[34m\u001b[1m10240 new docs added\u001b[0m\n",
      "\u001b[32m2023-04-12 02:53:24.366\u001b[0m | \u001b[34m\u001b[1mDEBUG   \u001b[0m | \u001b[36mannlite.core.index.hnsw.index\u001b[0m:\u001b[36m_expand_capacity\u001b[0m:\u001b[36m181\u001b[0m - \u001b[34m\u001b[1mHNSW index capacity is expanded by 10240\u001b[0m\n",
      "\u001b[32m2023-04-12 02:53:25.154\u001b[0m | \u001b[34m\u001b[1mDEBUG   \u001b[0m | \u001b[36mannlite.container\u001b[0m:\u001b[36minsert\u001b[0m:\u001b[36m308\u001b[0m - \u001b[34m\u001b[1m10240 new docs added\u001b[0m\n",
      "\u001b[32m2023-04-12 02:53:25.474\u001b[0m | \u001b[34m\u001b[1mDEBUG   \u001b[0m | \u001b[36mannlite.core.index.hnsw.index\u001b[0m:\u001b[36m_expand_capacity\u001b[0m:\u001b[36m181\u001b[0m - \u001b[34m\u001b[1mHNSW index capacity is expanded by 10240\u001b[0m\n",
      "\u001b[32m2023-04-12 02:53:26.276\u001b[0m | \u001b[34m\u001b[1mDEBUG   \u001b[0m | \u001b[36mannlite.container\u001b[0m:\u001b[36minsert\u001b[0m:\u001b[36m308\u001b[0m - \u001b[34m\u001b[1m10240 new docs added\u001b[0m\n",
      "\u001b[32m2023-04-12 02:53:26.586\u001b[0m | \u001b[34m\u001b[1mDEBUG   \u001b[0m | \u001b[36mannlite.core.index.hnsw.index\u001b[0m:\u001b[36m_expand_capacity\u001b[0m:\u001b[36m181\u001b[0m - \u001b[34m\u001b[1mHNSW index capacity is expanded by 10240\u001b[0m\n",
      "\u001b[32m2023-04-12 02:53:27.390\u001b[0m | \u001b[34m\u001b[1mDEBUG   \u001b[0m | \u001b[36mannlite.container\u001b[0m:\u001b[36minsert\u001b[0m:\u001b[36m308\u001b[0m - \u001b[34m\u001b[1m10240 new docs added\u001b[0m\n",
      "\u001b[32m2023-04-12 02:53:27.707\u001b[0m | \u001b[34m\u001b[1mDEBUG   \u001b[0m | \u001b[36mannlite.core.index.hnsw.index\u001b[0m:\u001b[36m_expand_capacity\u001b[0m:\u001b[36m181\u001b[0m - \u001b[34m\u001b[1mHNSW index capacity is expanded by 10240\u001b[0m\n",
      "\u001b[32m2023-04-12 02:53:28.590\u001b[0m | \u001b[34m\u001b[1mDEBUG   \u001b[0m | \u001b[36mannlite.container\u001b[0m:\u001b[36minsert\u001b[0m:\u001b[36m308\u001b[0m - \u001b[34m\u001b[1m10240 new docs added\u001b[0m\n",
      "\u001b[32m2023-04-12 02:53:28.915\u001b[0m | \u001b[34m\u001b[1mDEBUG   \u001b[0m | \u001b[36mannlite.core.index.hnsw.index\u001b[0m:\u001b[36m_expand_capacity\u001b[0m:\u001b[36m181\u001b[0m - \u001b[34m\u001b[1mHNSW index capacity is expanded by 10240\u001b[0m\n",
      "\u001b[32m2023-04-12 02:53:29.712\u001b[0m | \u001b[34m\u001b[1mDEBUG   \u001b[0m | \u001b[36mannlite.container\u001b[0m:\u001b[36minsert\u001b[0m:\u001b[36m308\u001b[0m - \u001b[34m\u001b[1m10240 new docs added\u001b[0m\n",
      "\u001b[32m2023-04-12 02:53:30.036\u001b[0m | \u001b[34m\u001b[1mDEBUG   \u001b[0m | \u001b[36mannlite.core.index.hnsw.index\u001b[0m:\u001b[36m_expand_capacity\u001b[0m:\u001b[36m181\u001b[0m - \u001b[34m\u001b[1mHNSW index capacity is expanded by 10240\u001b[0m\n",
      "\u001b[32m2023-04-12 02:53:30.838\u001b[0m | \u001b[34m\u001b[1mDEBUG   \u001b[0m | \u001b[36mannlite.container\u001b[0m:\u001b[36minsert\u001b[0m:\u001b[36m308\u001b[0m - \u001b[34m\u001b[1m10240 new docs added\u001b[0m\n",
      "\u001b[32m2023-04-12 02:53:31.175\u001b[0m | \u001b[34m\u001b[1mDEBUG   \u001b[0m | \u001b[36mannlite.core.index.hnsw.index\u001b[0m:\u001b[36m_expand_capacity\u001b[0m:\u001b[36m181\u001b[0m - \u001b[34m\u001b[1mHNSW index capacity is expanded by 10240\u001b[0m\n",
      "\u001b[32m2023-04-12 02:53:31.977\u001b[0m | \u001b[34m\u001b[1mDEBUG   \u001b[0m | \u001b[36mannlite.container\u001b[0m:\u001b[36minsert\u001b[0m:\u001b[36m308\u001b[0m - \u001b[34m\u001b[1m10240 new docs added\u001b[0m\n",
      "\u001b[32m2023-04-12 02:53:32.317\u001b[0m | \u001b[34m\u001b[1mDEBUG   \u001b[0m | \u001b[36mannlite.core.index.hnsw.index\u001b[0m:\u001b[36m_expand_capacity\u001b[0m:\u001b[36m181\u001b[0m - \u001b[34m\u001b[1mHNSW index capacity is expanded by 10240\u001b[0m\n",
      "\u001b[32m2023-04-12 02:53:33.150\u001b[0m | \u001b[34m\u001b[1mDEBUG   \u001b[0m | \u001b[36mannlite.container\u001b[0m:\u001b[36minsert\u001b[0m:\u001b[36m308\u001b[0m - \u001b[34m\u001b[1m10240 new docs added\u001b[0m\n",
      "\u001b[32m2023-04-12 02:53:33.465\u001b[0m | \u001b[34m\u001b[1mDEBUG   \u001b[0m | \u001b[36mannlite.core.index.hnsw.index\u001b[0m:\u001b[36m_expand_capacity\u001b[0m:\u001b[36m181\u001b[0m - \u001b[34m\u001b[1mHNSW index capacity is expanded by 10240\u001b[0m\n",
      "\u001b[32m2023-04-12 02:53:34.278\u001b[0m | \u001b[34m\u001b[1mDEBUG   \u001b[0m | \u001b[36mannlite.container\u001b[0m:\u001b[36minsert\u001b[0m:\u001b[36m308\u001b[0m - \u001b[34m\u001b[1m10240 new docs added\u001b[0m\n",
      "\u001b[32m2023-04-12 02:53:34.617\u001b[0m | \u001b[34m\u001b[1mDEBUG   \u001b[0m | \u001b[36mannlite.core.index.hnsw.index\u001b[0m:\u001b[36m_expand_capacity\u001b[0m:\u001b[36m181\u001b[0m - \u001b[34m\u001b[1mHNSW index capacity is expanded by 10240\u001b[0m\n",
      "\u001b[32m2023-04-12 02:53:35.422\u001b[0m | \u001b[34m\u001b[1mDEBUG   \u001b[0m | \u001b[36mannlite.container\u001b[0m:\u001b[36minsert\u001b[0m:\u001b[36m308\u001b[0m - \u001b[34m\u001b[1m10240 new docs added\u001b[0m\n",
      "\u001b[32m2023-04-12 02:53:35.799\u001b[0m | \u001b[34m\u001b[1mDEBUG   \u001b[0m | \u001b[36mannlite.core.index.hnsw.index\u001b[0m:\u001b[36m_expand_capacity\u001b[0m:\u001b[36m181\u001b[0m - \u001b[34m\u001b[1mHNSW index capacity is expanded by 10240\u001b[0m\n",
      "\u001b[32m2023-04-12 02:53:36.624\u001b[0m | \u001b[34m\u001b[1mDEBUG   \u001b[0m | \u001b[36mannlite.container\u001b[0m:\u001b[36minsert\u001b[0m:\u001b[36m308\u001b[0m - \u001b[34m\u001b[1m10240 new docs added\u001b[0m\n",
      "\u001b[32m2023-04-12 02:53:36.930\u001b[0m | \u001b[34m\u001b[1mDEBUG   \u001b[0m | \u001b[36mannlite.core.index.hnsw.index\u001b[0m:\u001b[36m_expand_capacity\u001b[0m:\u001b[36m181\u001b[0m - \u001b[34m\u001b[1mHNSW index capacity is expanded by 10240\u001b[0m\n",
      "\u001b[32m2023-04-12 02:53:37.716\u001b[0m | \u001b[34m\u001b[1mDEBUG   \u001b[0m | \u001b[36mannlite.container\u001b[0m:\u001b[36minsert\u001b[0m:\u001b[36m308\u001b[0m - \u001b[34m\u001b[1m10240 new docs added\u001b[0m\n",
      "\u001b[32m2023-04-12 02:53:38.018\u001b[0m | \u001b[34m\u001b[1mDEBUG   \u001b[0m | \u001b[36mannlite.core.index.hnsw.index\u001b[0m:\u001b[36m_expand_capacity\u001b[0m:\u001b[36m181\u001b[0m - \u001b[34m\u001b[1mHNSW index capacity is expanded by 10240\u001b[0m\n",
      "\u001b[32m2023-04-12 02:53:38.815\u001b[0m | \u001b[34m\u001b[1mDEBUG   \u001b[0m | \u001b[36mannlite.container\u001b[0m:\u001b[36minsert\u001b[0m:\u001b[36m308\u001b[0m - \u001b[34m\u001b[1m10240 new docs added\u001b[0m\n",
      "\u001b[32m2023-04-12 02:53:39.115\u001b[0m | \u001b[34m\u001b[1mDEBUG   \u001b[0m | \u001b[36mannlite.core.index.hnsw.index\u001b[0m:\u001b[36m_expand_capacity\u001b[0m:\u001b[36m181\u001b[0m - \u001b[34m\u001b[1mHNSW index capacity is expanded by 10240\u001b[0m\n",
      "\u001b[32m2023-04-12 02:53:39.911\u001b[0m | \u001b[34m\u001b[1mDEBUG   \u001b[0m | \u001b[36mannlite.container\u001b[0m:\u001b[36minsert\u001b[0m:\u001b[36m308\u001b[0m - \u001b[34m\u001b[1m10240 new docs added\u001b[0m\n",
      "\u001b[32m2023-04-12 02:53:40.234\u001b[0m | \u001b[34m\u001b[1mDEBUG   \u001b[0m | \u001b[36mannlite.core.index.hnsw.index\u001b[0m:\u001b[36m_expand_capacity\u001b[0m:\u001b[36m181\u001b[0m - \u001b[34m\u001b[1mHNSW index capacity is expanded by 10240\u001b[0m\n",
      "\u001b[32m2023-04-12 02:53:41.042\u001b[0m | \u001b[34m\u001b[1mDEBUG   \u001b[0m | \u001b[36mannlite.container\u001b[0m:\u001b[36minsert\u001b[0m:\u001b[36m308\u001b[0m - \u001b[34m\u001b[1m10240 new docs added\u001b[0m\n",
      "\u001b[32m2023-04-12 02:53:41.356\u001b[0m | \u001b[34m\u001b[1mDEBUG   \u001b[0m | \u001b[36mannlite.core.index.hnsw.index\u001b[0m:\u001b[36m_expand_capacity\u001b[0m:\u001b[36m181\u001b[0m - \u001b[34m\u001b[1mHNSW index capacity is expanded by 10240\u001b[0m\n",
      "\u001b[32m2023-04-12 02:53:42.203\u001b[0m | \u001b[34m\u001b[1mDEBUG   \u001b[0m | \u001b[36mannlite.container\u001b[0m:\u001b[36minsert\u001b[0m:\u001b[36m308\u001b[0m - \u001b[34m\u001b[1m10240 new docs added\u001b[0m\n",
      "\u001b[32m2023-04-12 02:53:42.534\u001b[0m | \u001b[34m\u001b[1mDEBUG   \u001b[0m | \u001b[36mannlite.core.index.hnsw.index\u001b[0m:\u001b[36m_expand_capacity\u001b[0m:\u001b[36m181\u001b[0m - \u001b[34m\u001b[1mHNSW index capacity is expanded by 10240\u001b[0m\n",
      "\u001b[32m2023-04-12 02:53:43.392\u001b[0m | \u001b[34m\u001b[1mDEBUG   \u001b[0m | \u001b[36mannlite.container\u001b[0m:\u001b[36minsert\u001b[0m:\u001b[36m308\u001b[0m - \u001b[34m\u001b[1m10240 new docs added\u001b[0m\n",
      "\u001b[32m2023-04-12 02:53:43.739\u001b[0m | \u001b[34m\u001b[1mDEBUG   \u001b[0m | \u001b[36mannlite.core.index.hnsw.index\u001b[0m:\u001b[36m_expand_capacity\u001b[0m:\u001b[36m181\u001b[0m - \u001b[34m\u001b[1mHNSW index capacity is expanded by 10240\u001b[0m\n",
      "\u001b[32m2023-04-12 02:53:44.581\u001b[0m | \u001b[34m\u001b[1mDEBUG   \u001b[0m | \u001b[36mannlite.container\u001b[0m:\u001b[36minsert\u001b[0m:\u001b[36m308\u001b[0m - \u001b[34m\u001b[1m10240 new docs added\u001b[0m\n",
      "\u001b[32m2023-04-12 02:53:44.873\u001b[0m | \u001b[34m\u001b[1mDEBUG   \u001b[0m | \u001b[36mannlite.core.index.hnsw.index\u001b[0m:\u001b[36m_expand_capacity\u001b[0m:\u001b[36m181\u001b[0m - \u001b[34m\u001b[1mHNSW index capacity is expanded by 10240\u001b[0m\n",
      "\u001b[32m2023-04-12 02:53:45.692\u001b[0m | \u001b[34m\u001b[1mDEBUG   \u001b[0m | \u001b[36mannlite.container\u001b[0m:\u001b[36minsert\u001b[0m:\u001b[36m308\u001b[0m - \u001b[34m\u001b[1m10240 new docs added\u001b[0m\n",
      "\u001b[32m2023-04-12 02:53:46.019\u001b[0m | \u001b[34m\u001b[1mDEBUG   \u001b[0m | \u001b[36mannlite.core.index.hnsw.index\u001b[0m:\u001b[36m_expand_capacity\u001b[0m:\u001b[36m181\u001b[0m - \u001b[34m\u001b[1mHNSW index capacity is expanded by 10240\u001b[0m\n",
      "\u001b[32m2023-04-12 02:53:46.871\u001b[0m | \u001b[34m\u001b[1mDEBUG   \u001b[0m | \u001b[36mannlite.container\u001b[0m:\u001b[36minsert\u001b[0m:\u001b[36m308\u001b[0m - \u001b[34m\u001b[1m10240 new docs added\u001b[0m\n",
      "\u001b[32m2023-04-12 02:53:47.187\u001b[0m | \u001b[34m\u001b[1mDEBUG   \u001b[0m | \u001b[36mannlite.core.index.hnsw.index\u001b[0m:\u001b[36m_expand_capacity\u001b[0m:\u001b[36m181\u001b[0m - \u001b[34m\u001b[1mHNSW index capacity is expanded by 10240\u001b[0m\n",
      "\u001b[32m2023-04-12 02:53:48.064\u001b[0m | \u001b[34m\u001b[1mDEBUG   \u001b[0m | \u001b[36mannlite.container\u001b[0m:\u001b[36minsert\u001b[0m:\u001b[36m308\u001b[0m - \u001b[34m\u001b[1m10240 new docs added\u001b[0m\n",
      "\u001b[32m2023-04-12 02:53:48.364\u001b[0m | \u001b[34m\u001b[1mDEBUG   \u001b[0m | \u001b[36mannlite.core.index.hnsw.index\u001b[0m:\u001b[36m_expand_capacity\u001b[0m:\u001b[36m181\u001b[0m - \u001b[34m\u001b[1mHNSW index capacity is expanded by 10240\u001b[0m\n",
      "\u001b[32m2023-04-12 02:53:49.191\u001b[0m | \u001b[34m\u001b[1mDEBUG   \u001b[0m | \u001b[36mannlite.container\u001b[0m:\u001b[36minsert\u001b[0m:\u001b[36m308\u001b[0m - \u001b[34m\u001b[1m10240 new docs added\u001b[0m\n",
      "\u001b[32m2023-04-12 02:53:49.521\u001b[0m | \u001b[34m\u001b[1mDEBUG   \u001b[0m | \u001b[36mannlite.core.index.hnsw.index\u001b[0m:\u001b[36m_expand_capacity\u001b[0m:\u001b[36m181\u001b[0m - \u001b[34m\u001b[1mHNSW index capacity is expanded by 10240\u001b[0m\n",
      "\u001b[32m2023-04-12 02:53:50.414\u001b[0m | \u001b[34m\u001b[1mDEBUG   \u001b[0m | \u001b[36mannlite.container\u001b[0m:\u001b[36minsert\u001b[0m:\u001b[36m308\u001b[0m - \u001b[34m\u001b[1m10240 new docs added\u001b[0m\n",
      "\u001b[32m2023-04-12 02:53:50.744\u001b[0m | \u001b[34m\u001b[1mDEBUG   \u001b[0m | \u001b[36mannlite.core.index.hnsw.index\u001b[0m:\u001b[36m_expand_capacity\u001b[0m:\u001b[36m181\u001b[0m - \u001b[34m\u001b[1mHNSW index capacity is expanded by 10240\u001b[0m\n",
      "\u001b[32m2023-04-12 02:53:51.562\u001b[0m | \u001b[34m\u001b[1mDEBUG   \u001b[0m | \u001b[36mannlite.container\u001b[0m:\u001b[36minsert\u001b[0m:\u001b[36m308\u001b[0m - \u001b[34m\u001b[1m10240 new docs added\u001b[0m\n",
      "\u001b[32m2023-04-12 02:53:51.866\u001b[0m | \u001b[34m\u001b[1mDEBUG   \u001b[0m | \u001b[36mannlite.core.index.hnsw.index\u001b[0m:\u001b[36m_expand_capacity\u001b[0m:\u001b[36m181\u001b[0m - \u001b[34m\u001b[1mHNSW index capacity is expanded by 10240\u001b[0m\n",
      "\u001b[32m2023-04-12 02:53:52.706\u001b[0m | \u001b[34m\u001b[1mDEBUG   \u001b[0m | \u001b[36mannlite.container\u001b[0m:\u001b[36minsert\u001b[0m:\u001b[36m308\u001b[0m - \u001b[34m\u001b[1m10240 new docs added\u001b[0m\n",
      "\u001b[32m2023-04-12 02:53:53.034\u001b[0m | \u001b[34m\u001b[1mDEBUG   \u001b[0m | \u001b[36mannlite.core.index.hnsw.index\u001b[0m:\u001b[36m_expand_capacity\u001b[0m:\u001b[36m181\u001b[0m - \u001b[34m\u001b[1mHNSW index capacity is expanded by 10240\u001b[0m\n",
      "\u001b[32m2023-04-12 02:53:53.881\u001b[0m | \u001b[34m\u001b[1mDEBUG   \u001b[0m | \u001b[36mannlite.container\u001b[0m:\u001b[36minsert\u001b[0m:\u001b[36m308\u001b[0m - \u001b[34m\u001b[1m10240 new docs added\u001b[0m\n",
      "\u001b[32m2023-04-12 02:53:54.202\u001b[0m | \u001b[34m\u001b[1mDEBUG   \u001b[0m | \u001b[36mannlite.core.index.hnsw.index\u001b[0m:\u001b[36m_expand_capacity\u001b[0m:\u001b[36m181\u001b[0m - \u001b[34m\u001b[1mHNSW index capacity is expanded by 10240\u001b[0m\n",
      "\u001b[32m2023-04-12 02:53:55.076\u001b[0m | \u001b[34m\u001b[1mDEBUG   \u001b[0m | \u001b[36mannlite.container\u001b[0m:\u001b[36minsert\u001b[0m:\u001b[36m308\u001b[0m - \u001b[34m\u001b[1m10240 new docs added\u001b[0m\n",
      "\u001b[32m2023-04-12 02:53:55.375\u001b[0m | \u001b[34m\u001b[1mDEBUG   \u001b[0m | \u001b[36mannlite.core.index.hnsw.index\u001b[0m:\u001b[36m_expand_capacity\u001b[0m:\u001b[36m181\u001b[0m - \u001b[34m\u001b[1mHNSW index capacity is expanded by 10240\u001b[0m\n",
      "\u001b[32m2023-04-12 02:53:56.202\u001b[0m | \u001b[34m\u001b[1mDEBUG   \u001b[0m | \u001b[36mannlite.container\u001b[0m:\u001b[36minsert\u001b[0m:\u001b[36m308\u001b[0m - \u001b[34m\u001b[1m10240 new docs added\u001b[0m\n",
      "\u001b[32m2023-04-12 02:53:56.519\u001b[0m | \u001b[34m\u001b[1mDEBUG   \u001b[0m | \u001b[36mannlite.core.index.hnsw.index\u001b[0m:\u001b[36m_expand_capacity\u001b[0m:\u001b[36m181\u001b[0m - \u001b[34m\u001b[1mHNSW index capacity is expanded by 10240\u001b[0m\n",
      "\u001b[32m2023-04-12 02:53:57.346\u001b[0m | \u001b[34m\u001b[1mDEBUG   \u001b[0m | \u001b[36mannlite.container\u001b[0m:\u001b[36minsert\u001b[0m:\u001b[36m308\u001b[0m - \u001b[34m\u001b[1m10240 new docs added\u001b[0m\n",
      "\u001b[32m2023-04-12 02:53:57.669\u001b[0m | \u001b[34m\u001b[1mDEBUG   \u001b[0m | \u001b[36mannlite.core.index.hnsw.index\u001b[0m:\u001b[36m_expand_capacity\u001b[0m:\u001b[36m181\u001b[0m - \u001b[34m\u001b[1mHNSW index capacity is expanded by 10240\u001b[0m\n",
      "\u001b[32m2023-04-12 02:53:58.492\u001b[0m | \u001b[34m\u001b[1mDEBUG   \u001b[0m | \u001b[36mannlite.container\u001b[0m:\u001b[36minsert\u001b[0m:\u001b[36m308\u001b[0m - \u001b[34m\u001b[1m10240 new docs added\u001b[0m\n",
      "\u001b[32m2023-04-12 02:53:58.801\u001b[0m | \u001b[34m\u001b[1mDEBUG   \u001b[0m | \u001b[36mannlite.core.index.hnsw.index\u001b[0m:\u001b[36m_expand_capacity\u001b[0m:\u001b[36m181\u001b[0m - \u001b[34m\u001b[1mHNSW index capacity is expanded by 10240\u001b[0m\n",
      "\u001b[32m2023-04-12 02:53:59.634\u001b[0m | \u001b[34m\u001b[1mDEBUG   \u001b[0m | \u001b[36mannlite.container\u001b[0m:\u001b[36minsert\u001b[0m:\u001b[36m308\u001b[0m - \u001b[34m\u001b[1m10240 new docs added\u001b[0m\n",
      "\u001b[32m2023-04-12 02:53:59.824\u001b[0m | \u001b[34m\u001b[1mDEBUG   \u001b[0m | \u001b[36mannlite.core.index.hnsw.index\u001b[0m:\u001b[36m_expand_capacity\u001b[0m:\u001b[36m181\u001b[0m - \u001b[34m\u001b[1mHNSW index capacity is expanded by 10240\u001b[0m\n",
      "\u001b[32m2023-04-12 02:54:00.369\u001b[0m | \u001b[34m\u001b[1mDEBUG   \u001b[0m | \u001b[36mannlite.container\u001b[0m:\u001b[36minsert\u001b[0m:\u001b[36m308\u001b[0m - \u001b[34m\u001b[1m6720 new docs added\u001b[0m\n",
      "\u001b[32m2023-04-12 02:54:00.370\u001b[0m | \u001b[34m\u001b[1mDEBUG   \u001b[0m | \u001b[36mannlite.index\u001b[0m:\u001b[36m_rebuild_index_from_local\u001b[0m:\u001b[36m794\u001b[0m - \u001b[34m\u001b[1mRebuild the index of cell-0 done\u001b[0m\n",
      "\u001b[32m2023-04-12 02:54:00.371\u001b[0m | \u001b[1mINFO    \u001b[0m | \u001b[36mannlite.index\u001b[0m:\u001b[36m_rebuild_index_from_local\u001b[0m:\u001b[36m796\u001b[0m - \u001b[1mLoad the model from data/parameters-d67b9abb496ca1fd466b6d5378c78128\u001b[0m\n"
     ]
    }
   ],
   "source": [
    "ann = AnnLite(n_dim=512, metric='cosine', verbose=True)"
   ]
  },
  {
   "cell_type": "code",
   "execution_count": 5,
   "metadata": {},
   "outputs": [
    {
     "name": "stdout",
     "output_type": "stream",
     "text": [
      "\u001b[32m2023-04-12 02:54:42.549\u001b[0m | \u001b[34m\u001b[1mDEBUG   \u001b[0m | \u001b[36mannlite.core.index.hnsw.index\u001b[0m:\u001b[36m_expand_capacity\u001b[0m:\u001b[36m181\u001b[0m - \u001b[34m\u001b[1mHNSW index capacity is expanded by 10240\u001b[0m\n",
      "\u001b[32m2023-04-12 03:05:01.159\u001b[0m | \u001b[34m\u001b[1mDEBUG   \u001b[0m | \u001b[36mannlite.container\u001b[0m:\u001b[36minsert\u001b[0m:\u001b[36m308\u001b[0m - \u001b[34m\u001b[1m5000000 new docs added\u001b[0m\n"
     ]
    }
   ],
   "source": [
    "ann.index(docs)"
   ]
  },
  {
   "cell_type": "code",
   "execution_count": 12,
   "metadata": {},
   "outputs": [],
   "source": [
    "query = DocumentArray.empty(1)\n",
    "query.embeddings = np.random.random([1, 512]).astype(np.float32)\n",
    "result = ann.search(query, limit=1000)"
   ]
  },
  {
   "cell_type": "code",
   "execution_count": 13,
   "metadata": {},
   "outputs": [
    {
     "data": {
      "text/plain": [
       "1000"
      ]
     },
     "execution_count": 13,
     "metadata": {},
     "output_type": "execute_result"
    }
   ],
   "source": [
    "len(query[0].matches.to_dict())"
   ]
  },
  {
   "cell_type": "code",
   "execution_count": 14,
   "metadata": {},
   "outputs": [
    {
     "data": {
      "text/plain": [
       "dict_keys(['id', 'parent_id', 'granularity', 'adjacency', 'blob', 'tensor', 'mime_type', 'text', 'weight', 'uri', 'tags', 'offset', 'location', 'embedding', 'modality', 'evaluations', 'scores', 'chunks', 'matches'])"
      ]
     },
     "execution_count": 14,
     "metadata": {},
     "output_type": "execute_result"
    }
   ],
   "source": [
    "query[0].matches.to_dict()[0].keys()"
   ]
  },
  {
   "cell_type": "code",
   "execution_count": 15,
   "metadata": {},
   "outputs": [
    {
     "name": "stdout",
     "output_type": "stream",
     "text": [
      "312 ms ± 3.32 ms per loop (mean ± std. dev. of 7 runs, 1 loop each)\n"
     ]
    }
   ],
   "source": [
    "%%timeit\n",
    "query = DocumentArray.empty(1)\n",
    "query.embeddings = np.random.random([1, 512]).astype(np.float32)\n",
    "result = ann.search(query, limit=1000)s"
   ]
  },
  {
   "cell_type": "code",
   "execution_count": 16,
   "metadata": {},
   "outputs": [
    {
     "name": "stdout",
     "output_type": "stream",
     "text": [
      "15.3 s ± 425 ms per loop (mean ± std. dev. of 7 runs, 1 loop each)\n"
     ]
    }
   ],
   "source": [
    "%%timeit\n",
    "query = DocumentArray.empty(50)\n",
    "query.embeddings = np.random.random([50, 512]).astype(np.float32)\n",
    "result = ann.search(query, limit=1000)"
   ]
  },
  {
   "cell_type": "code",
   "execution_count": 17,
   "metadata": {},
   "outputs": [
    {
     "name": "stdout",
     "output_type": "stream",
     "text": [
      "Current memory usage: 45.88 GB\n"
     ]
    }
   ],
   "source": [
    "import psutil\n",
    "\n",
    "# function to convert bytes to a more human-readable format\n",
    "def convert_bytes(num):\n",
    "    for x in ['bytes', 'KB', 'MB', 'GB', 'TB']:\n",
    "        if num < 1024.0:\n",
    "            return f\"{num:.2f} {x}\"\n",
    "        num /= 1024.0\n",
    "\n",
    "# get the current process's memory usage\n",
    "process = psutil.Process()\n",
    "memory_info = process.memory_info().rss\n",
    "\n",
    "# print the memory usage in a human-readable format\n",
    "print(f\"Current memory usage: {convert_bytes(memory_info)}\")"
   ]
  },
  {
   "cell_type": "code",
   "execution_count": null,
   "metadata": {},
   "outputs": [],
   "source": []
  }
 ],
 "metadata": {
  "kernelspec": {
   "display_name": "Python 3 (ipykernel)",
   "language": "python",
   "name": "python3"
  },
  "language_info": {
   "codemirror_mode": {
    "name": "ipython",
    "version": 3
   },
   "file_extension": ".py",
   "mimetype": "text/x-python",
   "name": "python",
   "nbconvert_exporter": "python",
   "pygments_lexer": "ipython3",
   "version": "3.8.16"
  },
  "orig_nbformat": 4,
  "vscode": {
   "interpreter": {
    "hash": "949777d72b0d2535278d3dc13498b2535136f6dfe0678499012e853ee9abcab1"
   }
  }
 },
 "nbformat": 4,
 "nbformat_minor": 2
}
