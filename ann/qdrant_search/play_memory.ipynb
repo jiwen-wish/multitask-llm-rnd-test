{
 "cells": [
  {
   "cell_type": "code",
   "execution_count": 1,
   "metadata": {},
   "outputs": [],
   "source": [
    "from qdrant_client import QdrantClient\n",
    "client = QdrantClient(\":memory:\", prefer_grpc=True)"
   ]
  },
  {
   "cell_type": "code",
   "execution_count": 2,
   "metadata": {},
   "outputs": [],
   "source": [
    "import numpy as np\n",
    "from tqdm import tqdm"
   ]
  },
  {
   "cell_type": "code",
   "execution_count": 3,
   "metadata": {},
   "outputs": [],
   "source": [
    "from qdrant_client.models import Distance, VectorParams, PointStruct"
   ]
  },
  {
   "cell_type": "code",
   "execution_count": 4,
   "metadata": {},
   "outputs": [],
   "source": [
    "from qdrant_client.models import Filter, FieldCondition, Range, OptimizersConfigDiff"
   ]
  },
  {
   "cell_type": "code",
   "execution_count": 5,
   "metadata": {},
   "outputs": [
    {
     "data": {
      "text/plain": [
       "True"
      ]
     },
     "execution_count": 5,
     "metadata": {},
     "output_type": "execute_result"
    }
   ],
   "source": [
    "client.recreate_collection(\n",
    "    collection_name=\"clip_image_product\",\n",
    "    vectors_config=VectorParams(size=512, distance=Distance.COSINE),\n",
    "    # optimizers_config=OptimizersConfigDiff(\n",
    "    #     indexing_threshold=int(1e6-10),\n",
    "    # ),\n",
    ")"
   ]
  },
  {
   "cell_type": "code",
   "execution_count": 6,
   "metadata": {},
   "outputs": [],
   "source": [
    "assert client.count(collection_name=\"clip_image_product\").count == 0"
   ]
  },
  {
   "cell_type": "code",
   "execution_count": 7,
   "metadata": {},
   "outputs": [
    {
     "name": "stderr",
     "output_type": "stream",
     "text": [
      "100%|██████████| 10000/10000 [23:55<00:00,  6.96it/s]\n"
     ]
    }
   ],
   "source": [
    "import numpy as np\n",
    "from qdrant_client.models import PointStruct\n",
    "\n",
    "\n",
    "for chunk in tqdm(range(10000)):\n",
    "    vectors = np.random.rand(100, 512)\n",
    "    client.upsert(\n",
    "        collection_name=\"clip_image_product\",\n",
    "        points=[\n",
    "            PointStruct(\n",
    "                id=idx+chunk*100,\n",
    "                vector=vector.tolist(),\n",
    "                payload={\"color\": [\"red\", \"yellow\", \"blue\"][idx%3], \"rand_number\": idx % 10}\n",
    "            )\n",
    "            for idx, vector in enumerate(vectors)\n",
    "        ]\n",
    "    )"
   ]
  },
  {
   "cell_type": "code",
   "execution_count": 9,
   "metadata": {},
   "outputs": [
    {
     "data": {
      "text/plain": [
       "1000000"
      ]
     },
     "execution_count": 9,
     "metadata": {},
     "output_type": "execute_result"
    }
   ],
   "source": [
    "client.count(collection_name=\"clip_image_product\").count"
   ]
  },
  {
   "cell_type": "code",
   "execution_count": 10,
   "metadata": {},
   "outputs": [
    {
     "name": "stdout",
     "output_type": "stream",
     "text": [
      "Current memory usage: 3.48 GB\n"
     ]
    }
   ],
   "source": [
    "import psutil\n",
    "\n",
    "# function to convert bytes to a more human-readable format\n",
    "def convert_bytes(num):\n",
    "    for x in ['bytes', 'KB', 'MB', 'GB', 'TB']:\n",
    "        if num < 1024.0:\n",
    "            return f\"{num:.2f} {x}\"\n",
    "        num /= 1024.0\n",
    "\n",
    "# get the current process's memory usage\n",
    "process = psutil.Process()\n",
    "memory_info = process.memory_info().rss\n",
    "\n",
    "# print the memory usage in a human-readable format\n",
    "print(f\"Current memory usage: {convert_bytes(memory_info)}\")"
   ]
  },
  {
   "cell_type": "code",
   "execution_count": 13,
   "metadata": {},
   "outputs": [],
   "source": [
    "query_vector = np.random.rand(512)\n",
    "hits = client.search(\n",
    "    collection_name=\"clip_image_product\",\n",
    "    query_vector=query_vector,\n",
    "    # query_filter=Filter(\n",
    "    #     must=[  # These conditions are required for search results\n",
    "    #         FieldCondition(\n",
    "    #             key='rand_number',  # Condition based on values of `rand_number` field.\n",
    "    #             range=Range(\n",
    "    #                 gte=3  # Select only those results where `rand_number` >= 3\n",
    "    #             )\n",
    "    #         )\n",
    "    #     ]\n",
    "    # ),\n",
    "    limit=1000  # Return 5 closest points\n",
    ")"
   ]
  },
  {
   "cell_type": "code",
   "execution_count": 15,
   "metadata": {},
   "outputs": [],
   "source": [
    "query_vector = np.random.rand(512)\n",
    "hits = client.search(\n",
    "    collection_name=\"clip_image_product\",\n",
    "    query_vector=query_vector,\n",
    "    query_filter=Filter(\n",
    "        must=[  # These conditions are required for search results\n",
    "            FieldCondition(\n",
    "                key='rand_number',  # Condition based on values of `rand_number` field.\n",
    "                range=Range(\n",
    "                    gte=3  # Select only those results where `rand_number` >= 3\n",
    "                )\n",
    "            )\n",
    "        ]\n",
    "    ),\n",
    "    limit=1000  # Return 5 closest points\n",
    ")"
   ]
  },
  {
   "cell_type": "code",
   "execution_count": null,
   "metadata": {},
   "outputs": [],
   "source": []
  }
 ],
 "metadata": {
  "kernelspec": {
   "display_name": "Python 3 (ipykernel)",
   "language": "python",
   "name": "python3"
  },
  "language_info": {
   "codemirror_mode": {
    "name": "ipython",
    "version": 3
   },
   "file_extension": ".py",
   "mimetype": "text/x-python",
   "name": "python",
   "nbconvert_exporter": "python",
   "pygments_lexer": "ipython3",
   "version": "3.8.16"
  },
  "orig_nbformat": 4,
  "vscode": {
   "interpreter": {
    "hash": "949777d72b0d2535278d3dc13498b2535136f6dfe0678499012e853ee9abcab1"
   }
  }
 },
 "nbformat": 4,
 "nbformat_minor": 2
}
