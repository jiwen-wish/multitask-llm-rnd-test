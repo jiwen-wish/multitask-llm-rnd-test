{
 "cells": [
  {
   "cell_type": "code",
   "execution_count": null,
   "metadata": {},
   "outputs": [],
   "source": [
    "%pip install redis numpy pandas\n",
    "%pip install -U sentence-transformers"
   ]
  },
  {
   "cell_type": "code",
   "execution_count": 2,
   "metadata": {},
   "outputs": [],
   "source": [
    "import random\n",
    "import numpy as np\n",
    "import pandas as pd\n",
    "import time\n",
    "from redis import Redis\n",
    "from redis.commands.search.field import VectorField\n",
    "from redis.commands.search.field import TextField\n",
    "from redis.commands.search.field import TagField\n",
    "from redis.commands.search.query import Query\n",
    "from redis.commands.search.result import Result\n",
    "\n",
    "class color:\n",
    "   PURPLE = '\\033[95m'\n",
    "   CYAN = '\\033[96m'\n",
    "   DARKCYAN = '\\033[36m'\n",
    "   BLUE = '\\033[94m'\n",
    "   GREEN = '\\033[92m'\n",
    "   YELLOW = '\\033[93m'\n",
    "   RED = '\\033[91m'\n",
    "   BOLD = '\\033[1m'\n",
    "   UNDERLINE = '\\033[4m'\n",
    "   END = '\\033[0m'"
   ]
  },
  {
   "cell_type": "code",
   "execution_count": 3,
   "metadata": {},
   "outputs": [],
   "source": [
    "MAX_TEXT_LENGTH=512\n",
    "NUMBER_PRODUCTS=1000\n",
    "\n",
    "def auto_truncate(val):\n",
    "    return val[:MAX_TEXT_LENGTH]\n",
    "\n",
    "#Load Product data and truncate long text fields\n",
    "all_prods_df = pd.read_csv(\"data/product_data.csv\", converters={'bullet_point': auto_truncate,'item_keywords':auto_truncate,'item_name':auto_truncate})\n",
    "all_prods_df['primary_key'] = all_prods_df['item_id'] + '-' + all_prods_df['domain_name']\n",
    "all_prods_df['item_keywords'].replace('', np.nan, inplace=True)\n",
    "all_prods_df.dropna(subset=['item_keywords'], inplace=True)\n",
    "all_prods_df.reset_index(drop=True,inplace=True)\n",
    "\n",
    "#get the first 1000 products with non-empty item keywords\n",
    "product_metadata = all_prods_df.head(NUMBER_PRODUCTS).to_dict(orient='index')\n",
    "\n"
   ]
  },
  {
   "cell_type": "code",
   "execution_count": 5,
   "metadata": {},
   "outputs": [
    {
     "data": {
      "text/plain": [
       "107566"
      ]
     },
     "execution_count": 5,
     "metadata": {},
     "output_type": "execute_result"
    }
   ],
   "source": [
    "len(all_prods_df)"
   ]
  },
  {
   "cell_type": "code",
   "execution_count": 4,
   "metadata": {},
   "outputs": [
    {
     "data": {
      "text/html": [
       "<div>\n",
       "<style scoped>\n",
       "    .dataframe tbody tr th:only-of-type {\n",
       "        vertical-align: middle;\n",
       "    }\n",
       "\n",
       "    .dataframe tbody tr th {\n",
       "        vertical-align: top;\n",
       "    }\n",
       "\n",
       "    .dataframe thead th {\n",
       "        text-align: right;\n",
       "    }\n",
       "</style>\n",
       "<table border=\"1\" class=\"dataframe\">\n",
       "  <thead>\n",
       "    <tr style=\"text-align: right;\">\n",
       "      <th></th>\n",
       "      <th>item_id</th>\n",
       "      <th>marketplace</th>\n",
       "      <th>country</th>\n",
       "      <th>main_image_id</th>\n",
       "      <th>domain_name</th>\n",
       "      <th>bullet_point</th>\n",
       "      <th>item_keywords</th>\n",
       "      <th>material</th>\n",
       "      <th>brand</th>\n",
       "      <th>color</th>\n",
       "      <th>item_name</th>\n",
       "      <th>model_name</th>\n",
       "      <th>model_number</th>\n",
       "      <th>product_type</th>\n",
       "      <th>primary_key</th>\n",
       "    </tr>\n",
       "  </thead>\n",
       "  <tbody>\n",
       "    <tr>\n",
       "      <th>0</th>\n",
       "      <td>B07T6RZ2CM</td>\n",
       "      <td>Amazon</td>\n",
       "      <td>IN</td>\n",
       "      <td>71dZhpsferL</td>\n",
       "      <td>amazon.in</td>\n",
       "      <td>3D Printed Hard Back Case Mobile Cover for Len...</td>\n",
       "      <td>mobile cover back cover mobile case phone case...</td>\n",
       "      <td>NaN</td>\n",
       "      <td>Amazon Brand - Solimo</td>\n",
       "      <td>Others</td>\n",
       "      <td>Amazon Brand - Solimo Designer Couples Sitting...</td>\n",
       "      <td>Lenovo K4 Note</td>\n",
       "      <td>gz8115-SL40423</td>\n",
       "      <td>CELLULAR_PHONE_CASE</td>\n",
       "      <td>B07T6RZ2CM-amazon.in</td>\n",
       "    </tr>\n",
       "    <tr>\n",
       "      <th>1</th>\n",
       "      <td>B07T2JY31Y</td>\n",
       "      <td>Amazon</td>\n",
       "      <td>IN</td>\n",
       "      <td>71vX7qIEAIL</td>\n",
       "      <td>amazon.in</td>\n",
       "      <td>3D Printed Hard Back Case Mobile Cover for Son...</td>\n",
       "      <td>mobile cover back cover mobile case phone case...</td>\n",
       "      <td>Wood</td>\n",
       "      <td>Amazon Brand - Solimo</td>\n",
       "      <td>others</td>\n",
       "      <td>Amazon Brand - Solimo Designer Leaf on Wood 3D...</td>\n",
       "      <td>Sony Xperia Z1 L39H</td>\n",
       "      <td>gz8056-SL40528</td>\n",
       "      <td>CELLULAR_PHONE_CASE</td>\n",
       "      <td>B07T2JY31Y-amazon.in</td>\n",
       "    </tr>\n",
       "    <tr>\n",
       "      <th>2</th>\n",
       "      <td>B0849YGSCZ</td>\n",
       "      <td>Amazon</td>\n",
       "      <td>AE</td>\n",
       "      <td>A1EZF-2mB5L</td>\n",
       "      <td>amazon.ae</td>\n",
       "      <td></td>\n",
       "      <td>small de fur rooms navidad woven girls shag pa...</td>\n",
       "      <td>NaN</td>\n",
       "      <td>Stone &amp; Beam</td>\n",
       "      <td>NaN</td>\n",
       "      <td>Stone &amp; Beam Contemporary Doily Wool Farmhouse...</td>\n",
       "      <td>NaN</td>\n",
       "      <td>I59I8044IVYGRYC00-Parent</td>\n",
       "      <td>HOME_FURNITURE_AND_DECOR</td>\n",
       "      <td>B0849YGSCZ-amazon.ae</td>\n",
       "    </tr>\n",
       "    <tr>\n",
       "      <th>3</th>\n",
       "      <td>B081K6TCML</td>\n",
       "      <td>Amazon</td>\n",
       "      <td>IN</td>\n",
       "      <td>81o9EyZ-fAL</td>\n",
       "      <td>amazon.in</td>\n",
       "      <td>Solimo Plastic Multipurpose Modular Drawer; sm...</td>\n",
       "      <td>drawer modular drawer 3 rack modular drawer ki...</td>\n",
       "      <td>Plastic</td>\n",
       "      <td>Amazon Brand - Solimo</td>\n",
       "      <td>Multicolor</td>\n",
       "      <td>Amazon Brand - Solimo Plastic Multipurpose Mod...</td>\n",
       "      <td>NaN</td>\n",
       "      <td>sol_cujo_13</td>\n",
       "      <td>HOME</td>\n",
       "      <td>B081K6TCML-amazon.in</td>\n",
       "    </tr>\n",
       "    <tr>\n",
       "      <th>4</th>\n",
       "      <td>B0854774X5</td>\n",
       "      <td>Amazon</td>\n",
       "      <td>IN</td>\n",
       "      <td>81xaJCVnl3L</td>\n",
       "      <td>amazon.in</td>\n",
       "      <td>Snug fit for Nokia 8.1, with perfect cut-outs ...</td>\n",
       "      <td>Back Cover Designer Case Designer Take It Easy...</td>\n",
       "      <td>Silicon</td>\n",
       "      <td>Amazon Brand - Solimo</td>\n",
       "      <td>Multicolor</td>\n",
       "      <td>Amazon Brand - Solimo Designer Take It Easy UV...</td>\n",
       "      <td>Nokia 8.1</td>\n",
       "      <td>UV10714-SL40617</td>\n",
       "      <td>CELLULAR_PHONE_CASE</td>\n",
       "      <td>B0854774X5-amazon.in</td>\n",
       "    </tr>\n",
       "  </tbody>\n",
       "</table>\n",
       "</div>"
      ],
      "text/plain": [
       "      item_id marketplace country main_image_id domain_name   \n",
       "0  B07T6RZ2CM      Amazon      IN   71dZhpsferL   amazon.in  \\\n",
       "1  B07T2JY31Y      Amazon      IN   71vX7qIEAIL   amazon.in   \n",
       "2  B0849YGSCZ      Amazon      AE   A1EZF-2mB5L   amazon.ae   \n",
       "3  B081K6TCML      Amazon      IN   81o9EyZ-fAL   amazon.in   \n",
       "4  B0854774X5      Amazon      IN   81xaJCVnl3L   amazon.in   \n",
       "\n",
       "                                        bullet_point   \n",
       "0  3D Printed Hard Back Case Mobile Cover for Len...  \\\n",
       "1  3D Printed Hard Back Case Mobile Cover for Son...   \n",
       "2                                                      \n",
       "3  Solimo Plastic Multipurpose Modular Drawer; sm...   \n",
       "4  Snug fit for Nokia 8.1, with perfect cut-outs ...   \n",
       "\n",
       "                                       item_keywords material   \n",
       "0  mobile cover back cover mobile case phone case...      NaN  \\\n",
       "1  mobile cover back cover mobile case phone case...     Wood   \n",
       "2  small de fur rooms navidad woven girls shag pa...      NaN   \n",
       "3  drawer modular drawer 3 rack modular drawer ki...  Plastic   \n",
       "4  Back Cover Designer Case Designer Take It Easy...  Silicon   \n",
       "\n",
       "                   brand       color   \n",
       "0  Amazon Brand - Solimo      Others  \\\n",
       "1  Amazon Brand - Solimo      others   \n",
       "2           Stone & Beam         NaN   \n",
       "3  Amazon Brand - Solimo  Multicolor   \n",
       "4  Amazon Brand - Solimo  Multicolor   \n",
       "\n",
       "                                           item_name           model_name   \n",
       "0  Amazon Brand - Solimo Designer Couples Sitting...       Lenovo K4 Note  \\\n",
       "1  Amazon Brand - Solimo Designer Leaf on Wood 3D...  Sony Xperia Z1 L39H   \n",
       "2  Stone & Beam Contemporary Doily Wool Farmhouse...                  NaN   \n",
       "3  Amazon Brand - Solimo Plastic Multipurpose Mod...                  NaN   \n",
       "4  Amazon Brand - Solimo Designer Take It Easy UV...            Nokia 8.1   \n",
       "\n",
       "               model_number              product_type           primary_key  \n",
       "0            gz8115-SL40423       CELLULAR_PHONE_CASE  B07T6RZ2CM-amazon.in  \n",
       "1            gz8056-SL40528       CELLULAR_PHONE_CASE  B07T2JY31Y-amazon.in  \n",
       "2  I59I8044IVYGRYC00-Parent  HOME_FURNITURE_AND_DECOR  B0849YGSCZ-amazon.ae  \n",
       "3               sol_cujo_13                      HOME  B081K6TCML-amazon.in  \n",
       "4           UV10714-SL40617       CELLULAR_PHONE_CASE  B0854774X5-amazon.in  "
      ]
     },
     "execution_count": 4,
     "metadata": {},
     "output_type": "execute_result"
    }
   ],
   "source": [
    "all_prods_df.head()"
   ]
  },
  {
   "cell_type": "code",
   "execution_count": 6,
   "metadata": {},
   "outputs": [
    {
     "name": "stdout",
     "output_type": "stream",
     "text": [
      "Connected to redis\n"
     ]
    }
   ],
   "source": [
    "redis_conn = Redis()\n",
    "print ('Connected to redis')"
   ]
  },
  {
   "cell_type": "code",
   "execution_count": 7,
   "metadata": {},
   "outputs": [
    {
     "name": "stderr",
     "output_type": "stream",
     "text": [
      "/home/vscode/.local/lib/python3.8/site-packages/tqdm/auto.py:21: TqdmWarning: IProgress not found. Please update jupyter and ipywidgets. See https://ipywidgets.readthedocs.io/en/stable/user_install.html\n",
      "  from .autonotebook import tqdm as notebook_tqdm\n",
      "Downloading (…)87e68/.gitattributes: 100%|██████████| 737/737 [00:00<00:00, 106kB/s]\n",
      "Downloading (…)_Pooling/config.json: 100%|██████████| 190/190 [00:00<00:00, 84.7kB/s]\n",
      "Downloading (…)5afc487e68/README.md: 100%|██████████| 10.3k/10.3k [00:00<00:00, 4.53MB/s]\n",
      "Downloading (…)fc487e68/config.json: 100%|██████████| 653/653 [00:00<00:00, 316kB/s]\n",
      "Downloading (…)ce_transformers.json: 100%|██████████| 116/116 [00:00<00:00, 48.9kB/s]\n",
      "Downloading (…)e68/data_config.json: 100%|██████████| 15.7k/15.7k [00:00<00:00, 7.33MB/s]\n",
      "Downloading (…)afc487e68/merges.txt: 100%|██████████| 456k/456k [00:00<00:00, 7.39MB/s]\n",
      "Downloading pytorch_model.bin: 100%|██████████| 329M/329M [00:00<00:00, 339MB/s] \n",
      "Downloading (…)nce_bert_config.json: 100%|██████████| 53.0/53.0 [00:00<00:00, 13.9kB/s]\n",
      "Downloading (…)cial_tokens_map.json: 100%|██████████| 239/239 [00:00<00:00, 101kB/s]\n",
      "Downloading (…)87e68/tokenizer.json: 100%|██████████| 1.36M/1.36M [00:00<00:00, 22.9MB/s]\n",
      "Downloading (…)okenizer_config.json: 100%|██████████| 333/333 [00:00<00:00, 85.2kB/s]\n",
      "Downloading (…)7e68/train_script.py: 100%|██████████| 13.1k/13.1k [00:00<00:00, 2.28MB/s]\n",
      "Downloading (…)afc487e68/vocab.json: 100%|██████████| 798k/798k [00:00<00:00, 4.46MB/s]\n",
      "Downloading (…)c487e68/modules.json: 100%|██████████| 349/349 [00:00<00:00, 26.6kB/s]\n"
     ]
    }
   ],
   "source": [
    "from sentence_transformers import SentenceTransformer\n",
    "model = SentenceTransformer('sentence-transformers/all-distilroberta-v1')\n",
    "\n",
    "\n",
    "\n",
    "item_keywords =  [product_metadata[i]['item_keywords']  for i in product_metadata.keys()]\n",
    "item_keywords_vectors = [ model.encode(sentence) for sentence in item_keywords]"
   ]
  },
  {
   "cell_type": "code",
   "execution_count": 8,
   "metadata": {},
   "outputs": [
    {
     "data": {
      "text/plain": [
       "(1000, 1000)"
      ]
     },
     "execution_count": 8,
     "metadata": {},
     "output_type": "execute_result"
    }
   ],
   "source": [
    "len(item_keywords_vectors), len(product_metadata)\n"
   ]
  },
  {
   "cell_type": "code",
   "execution_count": 9,
   "metadata": {},
   "outputs": [
    {
     "data": {
      "text/plain": [
       "{'item_id': 'B07T6RZ2CM',\n",
       " 'marketplace': 'Amazon',\n",
       " 'country': 'IN',\n",
       " 'main_image_id': '71dZhpsferL',\n",
       " 'domain_name': 'amazon.in',\n",
       " 'bullet_point': '3D Printed Hard Back Case Mobile Cover for Lenovo K4 Note Easy to put & take off with perfect cutouts for volume buttons, audio & charging ports. Stylish design and appearance, express your unique personality. Extreme precision design allows easy access to all buttons and ports while featuring raised bezel to life screen and camera off flat surface. Slim Hard Back Cover No Warranty None',\n",
       " 'item_keywords': 'mobile cover back cover mobile case phone case mobile panel phone panel Lenovo mobile case Lenovo phone cover Lenovo back case hard case 3D printed mobile cover mobile cover back cover mobile case phone case mobile panel phone panel Lenovo mobile case Lenovo phone cover Lenovo back case hard case 3D printed mobile cover mobile cover back cover mobile case phone case mobile panel phone panel Lenovo mobile case Lenovo phone cover Lenovo back case hard case 3D printed mobile cover mobile cover back cover mobil',\n",
       " 'material': nan,\n",
       " 'brand': 'Amazon Brand - Solimo',\n",
       " 'color': 'Others',\n",
       " 'item_name': 'Amazon Brand - Solimo Designer Couples Sitting at Dark 3D Printed Hard Back Case Mobile Cover for Lenovo K4 Note',\n",
       " 'model_name': 'Lenovo K4 Note',\n",
       " 'model_number': 'gz8115-SL40423',\n",
       " 'product_type': 'CELLULAR_PHONE_CASE',\n",
       " 'primary_key': 'B07T6RZ2CM-amazon.in'}"
      ]
     },
     "execution_count": 9,
     "metadata": {},
     "output_type": "execute_result"
    }
   ],
   "source": [
    "# Check one of the products\n",
    "product_metadata[0]"
   ]
  },
  {
   "cell_type": "code",
   "execution_count": 10,
   "metadata": {},
   "outputs": [],
   "source": [
    "def load_vectors(client:Redis, product_metadata, vector_dict, vector_field_name):\n",
    "    p = client.pipeline(transaction=False)\n",
    "    for index in product_metadata.keys():    \n",
    "        #hash key\n",
    "        key='product:'+ str(index)+ ':' + product_metadata[index]['primary_key']\n",
    "        \n",
    "        #hash values\n",
    "        item_metadata = product_metadata[index]\n",
    "        item_keywords_vector = vector_dict[index].astype(np.float32).tobytes()\n",
    "        item_metadata[vector_field_name]=item_keywords_vector\n",
    "        \n",
    "        # HSET\n",
    "        p.hset(key,mapping=item_metadata)\n",
    "            \n",
    "    p.execute()\n",
    "\n",
    "def create_flat_index (redis_conn,vector_field_name,number_of_vectors, vector_dimensions=512, distance_metric='L2'):\n",
    "    redis_conn.ft().create_index([\n",
    "        VectorField(vector_field_name, \"FLAT\", {\"TYPE\": \"FLOAT32\", \"DIM\": vector_dimensions, \"DISTANCE_METRIC\": distance_metric, \"INITIAL_CAP\": number_of_vectors, \"BLOCK_SIZE\":number_of_vectors }),\n",
    "        TagField(\"product_type\"),\n",
    "        TextField(\"item_name\"),\n",
    "        TextField(\"item_keywords\"),\n",
    "        TagField(\"country\")        \n",
    "    ])\n",
    "\n",
    "def create_hnsw_index (redis_conn,vector_field_name,number_of_vectors, vector_dimensions=512, distance_metric='L2',M=40,EF=200):\n",
    "    redis_conn.ft().create_index([\n",
    "        VectorField(vector_field_name, \"HNSW\", {\"TYPE\": \"FLOAT32\", \"DIM\": vector_dimensions, \"DISTANCE_METRIC\": distance_metric, \"INITIAL_CAP\": number_of_vectors, \"M\": M, \"EF_CONSTRUCTION\": EF}),\n",
    "        TagField(\"product_type\"),\n",
    "        TextField(\"item_keywords\"),        \n",
    "        TextField(\"item_name\"),\n",
    "        TagField(\"country\")     \n",
    "    ])    "
   ]
  },
  {
   "attachments": {},
   "cell_type": "markdown",
   "metadata": {},
   "source": [
    "# FLAT index"
   ]
  },
  {
   "cell_type": "code",
   "execution_count": 11,
   "metadata": {},
   "outputs": [
    {
     "name": "stdout",
     "output_type": "stream",
     "text": [
      "Loading and Indexing + 1000 products\n",
      "CPU times: user 71.7 ms, sys: 274 µs, total: 72 ms\n",
      "Wall time: 131 ms\n"
     ]
    }
   ],
   "source": [
    "%%time\n",
    "\n",
    "ITEM_KEYWORD_EMBEDDING_FIELD='item_keyword_vector'\n",
    "TEXT_EMBEDDING_DIMENSION=768\n",
    "NUMBER_PRODUCTS=1000\n",
    "\n",
    "print ('Loading and Indexing + ' +  str(NUMBER_PRODUCTS) + ' products')\n",
    "\n",
    "#flush all data\n",
    "redis_conn.flushall()\n",
    "\n",
    "#create flat index & load vectors\n",
    "create_flat_index(redis_conn, ITEM_KEYWORD_EMBEDDING_FIELD,NUMBER_PRODUCTS,TEXT_EMBEDDING_DIMENSION,'COSINE')\n",
    "load_vectors(redis_conn,product_metadata,item_keywords_vectors,ITEM_KEYWORD_EMBEDDING_FIELD)"
   ]
  },
  {
   "cell_type": "code",
   "execution_count": 13,
   "metadata": {},
   "outputs": [
    {
     "name": "stdout",
     "output_type": "stream",
     "text": [
      "***************Product  found ************\n",
      "\u001b[1mhash key = \u001b[0mproduct:597:B076ZYG35R-amazon.com\n",
      "\u001b[93mItem Name = \u001b[0mAmazon Brand - The Fix Women's Lizzie Block Heel Ruffled Sandal Heeled, Dove Suede, 9 B US\n",
      "\u001b[93mItem Id = \u001b[0mB076ZYG35R\n",
      "\u001b[93mItem keywords = \u001b[0mgifts her zapatos shoe ladies mujer womans designer spring summer date night dressy fancy high heels\n",
      "\u001b[93mScore = \u001b[0m0.498145878315\n",
      "***************Product  found ************\n",
      "\u001b[1mhash key = \u001b[0mproduct:112:B07716JGFN-amazon.com\n",
      "\u001b[93mItem Name = \u001b[0mAmazon Brand - The Fix Women's Jackelyn Kitten Heel Bow Sandal Heeled\n",
      "\u001b[93mItem Id = \u001b[0mB07716JGFN\n",
      "\u001b[93mItem keywords = \u001b[0mzapatos shoe ladies mujer womans spring summer casual date night gifts for her\n",
      "\u001b[93mScore = \u001b[0m0.613550662994\n",
      "***************Product  found ************\n",
      "\u001b[1mhash key = \u001b[0mproduct:838:B0746M8ZY9-amazon.com\n",
      "\u001b[93mItem Name = \u001b[0mAmazon Brand - 206 Collective Women's Roosevelt Shearling Slide Slipper Shoe, Chestnut, 7.5 B US\n",
      "\u001b[93mItem Id = \u001b[0mB0746M8ZY9\n",
      "\u001b[93mItem keywords = \u001b[0mzapatos shoe para de ladies mujer womans mocasines designer  clothing  work wear office top gifts gifts for gifts for her\n",
      "\u001b[93mScore = \u001b[0m0.623450756073\n",
      "CPU times: user 3.3 s, sys: 4.69 ms, total: 3.3 s\n",
      "Wall time: 56.4 ms\n"
     ]
    }
   ],
   "source": [
    "%%time\n",
    "topK=1000\n",
    "product_query='beautifully crafted present for her. a special occasion'\n",
    "#product_query='cool way to pimp up my cell'\n",
    "\n",
    "#vectorize the query\n",
    "query_vector = model.encode(product_query).astype(np.float32).tobytes()\n",
    "\n",
    "#prepare the query\n",
    "q = Query(f'*=>[KNN {topK} @{ITEM_KEYWORD_EMBEDDING_FIELD} $vec_param AS vector_score]').sort_by('vector_score').paging(0,topK).return_fields('vector_score','item_name','item_id','item_keywords').dialect(2)\n",
    "params_dict = {\"vec_param\": query_vector}\n",
    "\n",
    "\n",
    "#Execute the query\n",
    "results = redis_conn.ft().search(q, query_params = params_dict)\n",
    "\n",
    "#Print similar products found\n",
    "for product in results.docs[:3]:\n",
    "    print ('***************Product  found ************')\n",
    "    print (color.BOLD + 'hash key = ' +  color.END + product.id)\n",
    "    print (color.YELLOW + 'Item Name = ' +  color.END  + product.item_name)\n",
    "    print (color.YELLOW + 'Item Id = ' +  color.END  + product.item_id)\n",
    "    print (color.YELLOW + 'Item keywords = ' +  color.END  + product.item_keywords)\n",
    "    print (color.YELLOW + 'Score = ' +  color.END  + product.vector_score)"
   ]
  },
  {
   "attachments": {},
   "cell_type": "markdown",
   "metadata": {},
   "source": [
    "# HNSW"
   ]
  },
  {
   "cell_type": "code",
   "execution_count": 14,
   "metadata": {},
   "outputs": [
    {
     "name": "stdout",
     "output_type": "stream",
     "text": [
      "Loading and Indexing + 1000 products\n",
      "CPU times: user 64.7 ms, sys: 3.69 ms, total: 68.4 ms\n",
      "Wall time: 308 ms\n"
     ]
    }
   ],
   "source": [
    "%%time\n",
    "print ('Loading and Indexing + ' +  str(NUMBER_PRODUCTS) + ' products')\n",
    "\n",
    "ITEM_KEYWORD_EMBEDDING_FIELD='item_keyword_vector'\n",
    "NUMBER_PRODUCTS=1000\n",
    "TEXT_EMBEDDING_DIMENSION=768\n",
    "\n",
    "#flush all data\n",
    "redis_conn.flushall()\n",
    "\n",
    "#create flat index & load vectors\n",
    "create_hnsw_index(redis_conn, ITEM_KEYWORD_EMBEDDING_FIELD,NUMBER_PRODUCTS,TEXT_EMBEDDING_DIMENSION,'COSINE',M=40,EF=200)\n",
    "load_vectors(redis_conn,product_metadata,item_keywords_vectors,ITEM_KEYWORD_EMBEDDING_FIELD)\n"
   ]
  },
  {
   "cell_type": "code",
   "execution_count": 15,
   "metadata": {},
   "outputs": [
    {
     "name": "stdout",
     "output_type": "stream",
     "text": [
      "***************Product  found ************\n",
      "\u001b[1mhash key = \u001b[0mproduct:597:B076ZYG35R-amazon.com\n",
      "\u001b[93mItem Name = \u001b[0mAmazon Brand - The Fix Women's Lizzie Block Heel Ruffled Sandal Heeled, Dove Suede, 9 B US\n",
      "\u001b[93mItem Id = \u001b[0mB076ZYG35R\n",
      "\u001b[93mItem keywords = \u001b[0mgifts her zapatos shoe ladies mujer womans designer spring summer date night dressy fancy high heels\n",
      "\u001b[93mCountry = \u001b[0mUS\n",
      "\u001b[93mScore = \u001b[0m0.498145878315\n",
      "***************Product  found ************\n",
      "\u001b[1mhash key = \u001b[0mproduct:112:B07716JGFN-amazon.com\n",
      "\u001b[93mItem Name = \u001b[0mAmazon Brand - The Fix Women's Jackelyn Kitten Heel Bow Sandal Heeled\n",
      "\u001b[93mItem Id = \u001b[0mB07716JGFN\n",
      "\u001b[93mItem keywords = \u001b[0mzapatos shoe ladies mujer womans spring summer casual date night gifts for her\n",
      "\u001b[93mCountry = \u001b[0mUS\n",
      "\u001b[93mScore = \u001b[0m0.613550662994\n",
      "***************Product  found ************\n",
      "\u001b[1mhash key = \u001b[0mproduct:838:B0746M8ZY9-amazon.com\n",
      "\u001b[93mItem Name = \u001b[0mAmazon Brand - 206 Collective Women's Roosevelt Shearling Slide Slipper Shoe, Chestnut, 7.5 B US\n",
      "\u001b[93mItem Id = \u001b[0mB0746M8ZY9\n",
      "\u001b[93mItem keywords = \u001b[0mzapatos shoe para de ladies mujer womans mocasines designer  clothing  work wear office top gifts gifts for gifts for her\n",
      "\u001b[93mCountry = \u001b[0mUS\n",
      "\u001b[93mScore = \u001b[0m0.623450756073\n",
      "CPU times: user 3.28 s, sys: 4.24 ms, total: 3.29 s\n",
      "Wall time: 58.8 ms\n"
     ]
    }
   ],
   "source": [
    "%%time\n",
    "topK=1000\n",
    "product_query='beautifully crafted present for her. a special occasion'\n",
    "#product_query='cool way to pimp up my cell'\n",
    "\n",
    "#vectorize the query\n",
    "query_vector = model.encode(product_query).astype(np.float32).tobytes()\n",
    "\n",
    "#prepare the query\n",
    "q = Query(f'*=>[KNN {topK} @{ITEM_KEYWORD_EMBEDDING_FIELD} $vec_param AS vector_score]').sort_by('vector_score').paging(0,topK).return_fields('vector_score','item_name','item_id','item_keywords','country').dialect(2)\n",
    "params_dict = {\"vec_param\": query_vector}\n",
    "\n",
    "#Execute the query\n",
    "results = redis_conn.ft().search(q, query_params = params_dict)\n",
    "\n",
    "#Print similar products found\n",
    "for product in results.docs[:3]:\n",
    "    print ('***************Product  found ************')\n",
    "    print (color.BOLD + 'hash key = ' +  color.END + product.id)\n",
    "    print (color.YELLOW + 'Item Name = ' +  color.END  + product.item_name)\n",
    "    print (color.YELLOW + 'Item Id = ' +  color.END  + product.item_id)\n",
    "    print (color.YELLOW + 'Item keywords = ' +  color.END  + product.item_keywords)\n",
    "    print (color.YELLOW + 'Country = ' +  color.END  + product.country)\n",
    "    print (color.YELLOW + 'Score = ' +  color.END  + product.vector_score)\n"
   ]
  },
  {
   "attachments": {},
   "cell_type": "markdown",
   "metadata": {},
   "source": [
    "We highly recommend checking out [this repo](https://github.com/RedisAI/vecsim-demo) for more information and a guide on how to do a similarity search like we did here with images."
   ]
  }
 ],
 "metadata": {
  "kernelspec": {
   "display_name": "Python 3",
   "language": "python",
   "name": "python3"
  },
  "language_info": {
   "codemirror_mode": {
    "name": "ipython",
    "version": 3
   },
   "file_extension": ".py",
   "mimetype": "text/x-python",
   "name": "python",
   "nbconvert_exporter": "python",
   "pygments_lexer": "ipython3",
   "version": "3.8.16"
  },
  "orig_nbformat": 4,
  "vscode": {
   "interpreter": {
    "hash": "5ffd7eb2cebf9ac436b5021ba01877e9cee6b03524e01bf8c8637d3e64111215"
   }
  }
 },
 "nbformat": 4,
 "nbformat_minor": 2
}
