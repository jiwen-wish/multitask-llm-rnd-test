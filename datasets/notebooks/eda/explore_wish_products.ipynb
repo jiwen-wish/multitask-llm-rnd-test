{
 "cells": [
  {
   "cell_type": "code",
   "execution_count": 5,
   "metadata": {},
   "outputs": [],
   "source": [
    "import pandas as pd\n",
    "from collections import Counter\n",
    "from tqdm import tqdm\n",
    "import numpy as np\n",
    "import matplotlib.pyplot as plt"
   ]
  },
  {
   "cell_type": "code",
   "execution_count": 3,
   "metadata": {},
   "outputs": [],
   "source": [
    "df_train = pd.read_json('../../data/wish_products/Wish_Meta_Train.json', lines=True)\n",
    "df_test = pd.read_json('../../data/wish_products/Wish_Meta_Test.json', lines=True)"
   ]
  },
  {
   "cell_type": "code",
   "execution_count": 6,
   "metadata": {},
   "outputs": [
    {
     "data": {
      "text/plain": [
       "(array([ 316682.,       0.,       0., 6661010.,       0.,       0.,\n",
       "        9366678.,       0.,       0.,  258678.]),\n",
       " array([2. , 2.3, 2.6, 2.9, 3.2, 3.5, 3.8, 4.1, 4.4, 4.7, 5. ]),\n",
       " <BarContainer object of 10 artists>)"
      ]
     },
     "execution_count": 6,
     "metadata": {},
     "output_type": "execute_result"
    },
    {
     "data": {
      "image/png": "[encoded data removed]",
      "text/plain": [
       "<Figure size 640x480 with 1 Axes>"
      ]
     },
     "metadata": {},
     "output_type": "display_data"
    }
   ],
   "source": [
    "plt.hist(df_train.category.apply(len))"
   ]
  },
  {
   "cell_type": "code",
   "execution_count": 7,
   "metadata": {},
   "outputs": [
    {
     "data": {
      "text/plain": [
       "[('Home & Garden', 3222671),\n",
       " ('Automobiles & Motorcycles', 2025646),\n",
       " ('Home Improvement', 1565375),\n",
       " ('Sports', 1559988),\n",
       " ('Beauty & Health', 1064751),\n",
       " ('Auto Replacement Parts', 922624),\n",
       " ('Consumer Electronics', 910680),\n",
       " ('Kitchen,Dining & Bar', 838285),\n",
       " ('Mother & Kids', 761165),\n",
       " ('Tools', 755160)]"
      ]
     },
     "execution_count": 7,
     "metadata": {},
     "output_type": "execute_result"
    }
   ],
   "source": [
    "tmp = df_train.category.tolist()\n",
    "tmp = [j for i in tmp for j in i]\n",
    "tmp = Counter(tmp)\n",
    "tmp.most_common(10)"
   ]
  },
  {
   "cell_type": "code",
   "execution_count": 8,
   "metadata": {},
   "outputs": [
    {
     "data": {
      "text/plain": [
       "{'# products': 16603048,\n",
       " '# category paths': 5278,\n",
       " '# category nodes': 5681,\n",
       " 'avg path length': 3.5762406999004037}"
      ]
     },
     "execution_count": 8,
     "metadata": {},
     "output_type": "execute_result"
    }
   ],
   "source": [
    "{\n",
    "    '# products': len(df_train),\n",
    "    '# category paths': len(set(df_train.category.apply(tuple))),\n",
    "    '# category nodes': len(set([j for i in df_train.to_dict('records') for j in i['category']])),\n",
    "    'avg path length': df_train.category.apply(len).mean()\n",
    "}"
   ]
  },
  {
   "cell_type": "code",
   "execution_count": 9,
   "metadata": {},
   "outputs": [
    {
     "data": {
      "text/plain": [
       "{'# l1 nodes': 26, '# l2 nodes': 324, '# l3 nodes': 2268, '# l4 nodes': 3040}"
      ]
     },
     "execution_count": 9,
     "metadata": {},
     "output_type": "execute_result"
    }
   ],
   "source": [
    "{\n",
    "    '# l1 nodes': len(set(df_train.category.apply(lambda x: x[0] if len(x) > 0 else ''))),\n",
    "    '# l2 nodes': len(set(df_train.category.apply(lambda x: x[1] if len(x) > 1 else ''))),\n",
    "    '# l3 nodes': len(set(df_train.category.apply(lambda x: x[2] if len(x) > 2 else ''))),\n",
    "    '# l4 nodes': len(set(df_train.category.apply(lambda x: x[3] if len(x) > 3 else ''))),\n",
    "}"
   ]
  },
  {
   "cell_type": "code",
   "execution_count": 10,
   "metadata": {},
   "outputs": [],
   "source": [
    "df_train_paths = set(df_train.category.apply(tuple))\n",
    "df_test_paths = set(df_test.category.apply(tuple))"
   ]
  },
  {
   "cell_type": "code",
   "execution_count": 11,
   "metadata": {},
   "outputs": [
    {
     "data": {
      "text/plain": [
       "1.0"
      ]
     },
     "execution_count": 11,
     "metadata": {},
     "output_type": "execute_result"
    }
   ],
   "source": [
    "len(df_test_paths.intersection(df_train_paths)) / len(df_test_paths)"
   ]
  },
  {
   "cell_type": "code",
   "execution_count": 12,
   "metadata": {},
   "outputs": [
    {
     "data": {
      "text/plain": [
       "0.9312239484653277"
      ]
     },
     "execution_count": 12,
     "metadata": {},
     "output_type": "execute_result"
    }
   ],
   "source": [
    "len(df_test_paths.intersection(df_train_paths)) / len(df_train_paths)"
   ]
  },
  {
   "cell_type": "code",
   "execution_count": 13,
   "metadata": {},
   "outputs": [
    {
     "data": {
      "text/plain": [
       "[{'title': '5 unidades/lote H20R1203 TO-247 IGBT 1200V, nuevo original',\n",
       "  'category': ['Cellphones & Telecommunications',\n",
       "   'Mobile Phone Accessories',\n",
       "   'Power Bank Accessories'],\n",
       "  'text': '5 unidades/lote H20R1203 TO-247 IGBT 1200V, nuevo original -> [cellphones & telecommunications][mobile phone accessories][power bank accessories]'},\n",
       " {'title': '10pcs 1/2/3ml Empty Clear Glass Perfume Small Sample Vials Perfume Bottle Laboratory Liquid Fragrance Test Tube Trial Bottle',\n",
       "  'category': ['Beauty & Health', 'Skin Care Tools', 'Refillable Bottles'],\n",
       "  'text': '10pcs 1/2/3ml Empty Clear Glass Perfume Small Sample Vials Perfume Bottle Laboratory Liquid Fragrance Test Tube Trial Bottle -> [beauty & health][skin care tools][refillable bottles]'},\n",
       " {'title': 'Test OK!Original OEM Mainboard Motherboard MCU PCB Für Nikon D750; hauptplatine, Mutter bord Für Kamera Reparatur Teile',\n",
       "  'category': ['Consumer Electronics',\n",
       "   'Camera & Photo',\n",
       "   'Camera Replacement Parts',\n",
       "   'Circuits'],\n",
       "  'text': 'Test OK!Original OEM Mainboard Motherboard MCU PCB Für Nikon D750; hauptplatine, Mutter bord Für Kamera Reparatur Teile -> [consumer electronics][camera & photo][camera replacement parts][circuits]'},\n",
       " {'title': 'Stockings Pantyhose Tights Baby Toddler Girl Winter Cotton Warm Solid Autumn Kid ',\n",
       "  'category': ['Mother & Kids',\n",
       "   \"Girls' Baby Clothing\",\n",
       "   'Socks & Tights',\n",
       "   'Tights'],\n",
       "  'text': \"Stockings Pantyhose Tights Baby Toddler Girl Winter Cotton Warm Solid Autumn Kid -> [mother & kids][girls' baby clothing][socks & tights][tights]\"},\n",
       " {'title': 'Quadro AMD Radeon R7 240 2GB 128Bit GDDR5 (DX12) PCI-E x16 Graphics Card (R7 240 2 GD5)v2',\n",
       "  'category': ['Computer & Office', 'Computer Components', 'Graphics Cards'],\n",
       "  'text': 'Quadro AMD Radeon R7 240 2GB 128Bit GDDR5 (DX12) PCI-E x16 Graphics Card (R7 240 2 GD5)v2 -> [computer & office][computer components][graphics cards]'},\n",
       " {'title': 'Sneakers Casual-Shoes Krasovki Men Tenis Shoe-Adulto Slips-On Masculino Breathable Light',\n",
       "  'category': ['Shoes', \"Men's Shoes\", 'Loafers'],\n",
       "  'text': \"Sneakers Casual-Shoes Krasovki Men Tenis Shoe-Adulto Slips-On Masculino Breathable Light -> [shoes][men's shoes][loafers]\"},\n",
       " {'title': 'AdvanX маленькая электрическая щетка для завивки ресниц, легкая в эксплуатации',\n",
       "  'category': ['Beauty & Health',\n",
       "   'Hair Care & Styling',\n",
       "   'Styling Tools',\n",
       "   'Styling Accessories'],\n",
       "  'text': 'AdvanX маленькая электрическая щетка для завивки ресниц, легкая в эксплуатации -> [beauty & health][hair care & styling][styling tools][styling accessories]'},\n",
       " {'title': 'Travel-Bag Motorcycle-Handlebar Multifunctional F850GS R1200GS for BMW Modern Waterproof',\n",
       "  'category': ['Automobiles & Motorcycles',\n",
       "   'Motorcycle Accessories & Parts',\n",
       "   'Bags & Luggage',\n",
       "   'Top Cases'],\n",
       "  'text': 'Travel-Bag Motorcycle-Handlebar Multifunctional F850GS R1200GS for BMW Modern Waterproof -> [automobiles & motorcycles][motorcycle accessories & parts][bags & luggage][top cases]'},\n",
       " {'title': 'Lubrication Clean Anal Plug Anus Lubricant Enemator Vagina Lubricating Oil Injection Syringe Tools Sex Toys for Women Couple Gay',\n",
       "  'category': ['Beauty & Health', 'Sexual Wellness', 'Sex Toys', 'Anal Plug'],\n",
       "  'text': 'Lubrication Clean Anal Plug Anus Lubricant Enemator Vagina Lubricating Oil Injection Syringe Tools Sex Toys for Women Couple Gay -> [beauty & health][sexual wellness][sex toys][anal plug]'},\n",
       " {'title': 'Microscope-Camera Mount-Lens Led-Ring-Light Digital-Video Industrial HDMI 130X 56 Stand',\n",
       "  'category': ['Tools',\n",
       "   'Measurement & Analysis Instruments',\n",
       "   'Optical Instruments',\n",
       "   'Microscopes'],\n",
       "  'text': 'Microscope-Camera Mount-Lens Led-Ring-Light Digital-Video Industrial HDMI 130X 56 Stand -> [tools][measurement & analysis instruments][optical instruments][microscopes]'}]"
      ]
     },
     "execution_count": 13,
     "metadata": {},
     "output_type": "execute_result"
    }
   ],
   "source": [
    "df_train.sample(10).to_dict('records')"
   ]
  },
  {
   "cell_type": "code",
   "execution_count": null,
   "metadata": {},
   "outputs": [],
   "source": []
  }
 ],
 "metadata": {
  "kernelspec": {
   "display_name": "Python 3.8.13 64-bit",
   "language": "python",
   "name": "python3"
  },
  "language_info": {
   "codemirror_mode": {
    "name": "ipython",
    "version": 3
   },
   "file_extension": ".py",
   "mimetype": "text/x-python",
   "name": "python",
   "nbconvert_exporter": "python",
   "pygments_lexer": "ipython3",
   "version": "3.8.13"
  },
  "orig_nbformat": 4,
  "vscode": {
   "interpreter": {
    "hash": "949777d72b0d2535278d3dc13498b2535136f6dfe0678499012e853ee9abcab1"
   }
  }
 },
 "nbformat": 4,
 "nbformat_minor": 2
}
