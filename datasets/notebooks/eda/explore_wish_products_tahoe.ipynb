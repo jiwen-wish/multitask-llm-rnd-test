{
 "cells": [
  {
   "cell_type": "code",
   "execution_count": 2,
   "metadata": {},
   "outputs": [],
   "source": [
    "import pandas as pd\n",
    "import gzip \n",
    "import json"
   ]
  },
  {
   "cell_type": "code",
   "execution_count": 4,
   "metadata": {},
   "outputs": [],
   "source": [
    "recs =  []\n",
    "with gzip.open('../../data/wish_products_truetag_tahoe/wishproducts_truetag_tahoe.json.gz', 'r') as f:\n",
    "    for l in f:\n",
    "        recs.append(json.loads(l))\n",
    "        if len(recs) == 1000:\n",
    "            break \n",
    "df = pd.DataFrame(recs)"
   ]
  },
  {
   "cell_type": "code",
   "execution_count": 7,
   "metadata": {},
   "outputs": [],
   "source": [
    "from pprint import pprint"
   ]
  },
  {
   "cell_type": "code",
   "execution_count": 10,
   "metadata": {},
   "outputs": [
    {
     "name": "stdout",
     "output_type": "stream",
     "text": [
      "[{'categories': [['hobbies', 'pet accessories']],\n",
      "  'id': '57972c987a476e782d6b5fa9',\n",
      "  'product_description': '100% Brand New and Fashion 100% Brand New and '\n",
      "                         'Fashion Features:\\n'\n",
      "                         'Quality Guarantee, 100% Brand new\\n'\n",
      "                         'Convenient control leash for dogs. Just enjoy '\n",
      "                         'walking or running with your dog! New and soft, '\n",
      "                         'smooth, Use this harness and leash to have better '\n",
      "                         'control of your pet dog !\\n'\n",
      "                         'Plastic eye-splice buckle on harness for easy on and '\n",
      "                         'off\\n'\n",
      "                         'Adjustable size of harness for perfect fit\\n'\n",
      "                         'Metal snap buckle on the leash for securely '\n",
      "                         'attaching on the harness\\n'\n",
      "                         '\\n'\n",
      "                         'Specifications:\\n'\n",
      "                         'Type: Standard Dog Leash\\n'\n",
      "                         'Material: Nylon\\n'\n",
      "                         'Gender: Unisex\\n'\n",
      "                         'Colors: Red,Purple,Blue,Black\\n'\n",
      "                         'Size: (Approx.) (Length * Width): 2.5 * 140CM\\n'\n",
      "                         'Traction rope length 140cm  around, add the waist '\n",
      "                         'plus projecting generally about 1.5 meters, waist '\n",
      "                         'adjustment range is: 60-100cm (your waist between '\n",
      "                         '60-100 can be used).\\n'\n",
      "                         'Belt section: 58-100cm * 2.5cm\\n'\n",
      "                         'Traction part: 78-140cm * 2.5cm\\n'\n",
      "                         'Connection part: 16cm * 2.5cm\\n'\n",
      "                         '\\n'\n",
      "                         'Notice:\\n'\n",
      "                         \"It's better to adjust the size of collar bigger than \"\n",
      "                         \"that of your pet's neck in case your dog is \"\n",
      "                         'tightened.\\n'\n",
      "                         '  \\n'\n",
      "                         'Package content:\\n'\n",
      "                         '1X New Nylon Dog Leash',\n",
      "  'title': 'Nice New Nylon Dog Leash Rope Training Slip Lead Strap Adjustable '\n",
      "           'Traction Collar',\n",
      "  'true_tag_ids': '5406282f0b64256288412756',\n",
      "  'true_tags_are_predicted': 'false'},\n",
      " {'categories': [],\n",
      "  'id': '57c6977d09e3111cdd942f59',\n",
      "  'product_description': 'Gender: Unisex\\n'\n",
      "                         'Necklace Type: Pendant Necklaces\\n'\n",
      "                         'Metals Type: Zinc Alloy\\n'\n",
      "                         'Chain Type: Link Chain\\n'\n",
      "                         'Material: Zinc Alloy\\n'\n",
      "                         'Length: 70cm\\n'\n",
      "                         'Style: Casual/Sporty\\n'\n",
      "                         'Model Number: Antique Silver Pendant &amp; rhodium '\n",
      "                         'chain\\n'\n",
      "                         'Pendant Size: 31*24mm\\n'\n",
      "                         'Fine or Fashion: Fashion\\n'\n",
      "                         'Item Type: Necklaces\\n'\n",
      "                         'pendant color: antique silver\\n'\n",
      "                         'chain color: rhodium',\n",
      "  'title': 'fashion simple antique silver tone tiger head pendant necklace , '\n",
      "           '70cm chain long necklace',\n",
      "  'true_tag_ids': '',\n",
      "  'true_tags_are_predicted': 'false'}]\n"
     ]
    }
   ],
   "source": [
    "pprint(df.sample(2).to_dict('records'))"
   ]
  },
  {
   "cell_type": "code",
   "execution_count": null,
   "metadata": {},
   "outputs": [],
   "source": []
  }
 ],
 "metadata": {
  "kernelspec": {
   "display_name": "Python 3.8.13 64-bit",
   "language": "python",
   "name": "python3"
  },
  "language_info": {
   "codemirror_mode": {
    "name": "ipython",
    "version": 3
   },
   "file_extension": ".py",
   "mimetype": "text/x-python",
   "name": "python",
   "nbconvert_exporter": "python",
   "pygments_lexer": "ipython3",
   "version": "3.8.13"
  },
  "orig_nbformat": 4,
  "vscode": {
   "interpreter": {
    "hash": "949777d72b0d2535278d3dc13498b2535136f6dfe0678499012e853ee9abcab1"
   }
  }
 },
 "nbformat": 4,
 "nbformat_minor": 2
}
