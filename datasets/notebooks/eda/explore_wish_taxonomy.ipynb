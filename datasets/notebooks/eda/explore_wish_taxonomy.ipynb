{
 "cells": [
  {
   "cell_type": "code",
   "execution_count": 1,
   "metadata": {},
   "outputs": [],
   "source": [
    "import pandas as pd"
   ]
  },
  {
   "cell_type": "code",
   "execution_count": 3,
   "metadata": {},
   "outputs": [],
   "source": [
    "df = pd.read_excel('../../data/taxonomy/Wish_Taxonomy-Wish_Category_Tree.xlsx')"
   ]
  },
  {
   "cell_type": "code",
   "execution_count": 4,
   "metadata": {},
   "outputs": [
    {
     "data": {
      "text/html": [
       "<div>\n",
       "<style scoped>\n",
       "    .dataframe tbody tr th:only-of-type {\n",
       "        vertical-align: middle;\n",
       "    }\n",
       "\n",
       "    .dataframe tbody tr th {\n",
       "        vertical-align: top;\n",
       "    }\n",
       "\n",
       "    .dataframe thead th {\n",
       "        text-align: right;\n",
       "    }\n",
       "</style>\n",
       "<table border=\"1\" class=\"dataframe\">\n",
       "  <thead>\n",
       "    <tr style=\"text-align: right;\">\n",
       "      <th></th>\n",
       "      <th>ID</th>\n",
       "      <th>CATEGORY NAME</th>\n",
       "      <th>LEVEL</th>\n",
       "      <th>CATEGORY PATH</th>\n",
       "      <th>IS LEAF?</th>\n",
       "      <th>PARENT ID</th>\n",
       "      <th>ANCESTOR ID</th>\n",
       "    </tr>\n",
       "  </thead>\n",
       "  <tbody>\n",
       "    <tr>\n",
       "      <th>0</th>\n",
       "      <td>2.0</td>\n",
       "      <td>Apparel Accessories</td>\n",
       "      <td>1.0</td>\n",
       "      <td>Apparel Accessories</td>\n",
       "      <td>False</td>\n",
       "      <td>1.0</td>\n",
       "      <td>2.0</td>\n",
       "    </tr>\n",
       "    <tr>\n",
       "      <th>1</th>\n",
       "      <td>3.0</td>\n",
       "      <td>Boys' Accessories</td>\n",
       "      <td>2.0</td>\n",
       "      <td>Apparel Accessories &gt; Boys' Accessories</td>\n",
       "      <td>False</td>\n",
       "      <td>2.0</td>\n",
       "      <td>2.0</td>\n",
       "    </tr>\n",
       "    <tr>\n",
       "      <th>2</th>\n",
       "      <td>4.0</td>\n",
       "      <td>Boys' Belts</td>\n",
       "      <td>3.0</td>\n",
       "      <td>Apparel Accessories &gt; Boys' Accessories &gt; Boys...</td>\n",
       "      <td>True</td>\n",
       "      <td>3.0</td>\n",
       "      <td>2.0</td>\n",
       "    </tr>\n",
       "    <tr>\n",
       "      <th>3</th>\n",
       "      <td>5.0</td>\n",
       "      <td>Boys' Glasses</td>\n",
       "      <td>3.0</td>\n",
       "      <td>Apparel Accessories &gt; Boys' Accessories &gt; Boys...</td>\n",
       "      <td>False</td>\n",
       "      <td>3.0</td>\n",
       "      <td>2.0</td>\n",
       "    </tr>\n",
       "    <tr>\n",
       "      <th>4</th>\n",
       "      <td>6.0</td>\n",
       "      <td>Boys' Blue Light Blocking Glasses</td>\n",
       "      <td>4.0</td>\n",
       "      <td>Apparel Accessories &gt; Boys' Accessories &gt; Boys...</td>\n",
       "      <td>True</td>\n",
       "      <td>5.0</td>\n",
       "      <td>2.0</td>\n",
       "    </tr>\n",
       "    <tr>\n",
       "      <th>...</th>\n",
       "      <td>...</td>\n",
       "      <td>...</td>\n",
       "      <td>...</td>\n",
       "      <td>...</td>\n",
       "      <td>...</td>\n",
       "      <td>...</td>\n",
       "      <td>...</td>\n",
       "    </tr>\n",
       "    <tr>\n",
       "      <th>6032</th>\n",
       "      <td>4608.0</td>\n",
       "      <td>Lingerie Sets</td>\n",
       "      <td>3.0</td>\n",
       "      <td>Women's Clothing &gt; Women's Exotic Apparel &gt; Li...</td>\n",
       "      <td>True</td>\n",
       "      <td>4604.0</td>\n",
       "      <td>6023.0</td>\n",
       "    </tr>\n",
       "    <tr>\n",
       "      <th>6033</th>\n",
       "      <td>4609.0</td>\n",
       "      <td>Panties</td>\n",
       "      <td>3.0</td>\n",
       "      <td>Women's Clothing &gt; Women's Exotic Apparel &gt; Pa...</td>\n",
       "      <td>True</td>\n",
       "      <td>4604.0</td>\n",
       "      <td>6023.0</td>\n",
       "    </tr>\n",
       "    <tr>\n",
       "      <th>6034</th>\n",
       "      <td>4610.0</td>\n",
       "      <td>Pants</td>\n",
       "      <td>3.0</td>\n",
       "      <td>Women's Clothing &gt; Women's Exotic Apparel &gt; Pants</td>\n",
       "      <td>True</td>\n",
       "      <td>4604.0</td>\n",
       "      <td>6023.0</td>\n",
       "    </tr>\n",
       "    <tr>\n",
       "      <th>6035</th>\n",
       "      <td>4611.0</td>\n",
       "      <td>Tanks</td>\n",
       "      <td>3.0</td>\n",
       "      <td>Women's Clothing &gt; Women's Exotic Apparel &gt; Tanks</td>\n",
       "      <td>True</td>\n",
       "      <td>4604.0</td>\n",
       "      <td>6023.0</td>\n",
       "    </tr>\n",
       "    <tr>\n",
       "      <th>6036</th>\n",
       "      <td>4612.0</td>\n",
       "      <td>Teddies &amp; Bodysuits</td>\n",
       "      <td>3.0</td>\n",
       "      <td>Women's Clothing &gt; Women's Exotic Apparel &gt; Te...</td>\n",
       "      <td>True</td>\n",
       "      <td>4604.0</td>\n",
       "      <td>6023.0</td>\n",
       "    </tr>\n",
       "  </tbody>\n",
       "</table>\n",
       "<p>6037 rows × 7 columns</p>\n",
       "</div>"
      ],
      "text/plain": [
       "          ID                      CATEGORY NAME  LEVEL  \\\n",
       "0        2.0                Apparel Accessories    1.0   \n",
       "1        3.0                  Boys' Accessories    2.0   \n",
       "2        4.0                        Boys' Belts    3.0   \n",
       "3        5.0                      Boys' Glasses    3.0   \n",
       "4        6.0  Boys' Blue Light Blocking Glasses    4.0   \n",
       "...      ...                                ...    ...   \n",
       "6032  4608.0                      Lingerie Sets    3.0   \n",
       "6033  4609.0                            Panties    3.0   \n",
       "6034  4610.0                              Pants    3.0   \n",
       "6035  4611.0                              Tanks    3.0   \n",
       "6036  4612.0                Teddies & Bodysuits    3.0   \n",
       "\n",
       "                                          CATEGORY PATH  IS LEAF?  PARENT ID  \\\n",
       "0                                   Apparel Accessories     False        1.0   \n",
       "1               Apparel Accessories > Boys' Accessories     False        2.0   \n",
       "2     Apparel Accessories > Boys' Accessories > Boys...      True        3.0   \n",
       "3     Apparel Accessories > Boys' Accessories > Boys...     False        3.0   \n",
       "4     Apparel Accessories > Boys' Accessories > Boys...      True        5.0   \n",
       "...                                                 ...       ...        ...   \n",
       "6032  Women's Clothing > Women's Exotic Apparel > Li...      True     4604.0   \n",
       "6033  Women's Clothing > Women's Exotic Apparel > Pa...      True     4604.0   \n",
       "6034  Women's Clothing > Women's Exotic Apparel > Pants      True     4604.0   \n",
       "6035  Women's Clothing > Women's Exotic Apparel > Tanks      True     4604.0   \n",
       "6036  Women's Clothing > Women's Exotic Apparel > Te...      True     4604.0   \n",
       "\n",
       "      ANCESTOR ID  \n",
       "0             2.0  \n",
       "1             2.0  \n",
       "2             2.0  \n",
       "3             2.0  \n",
       "4             2.0  \n",
       "...           ...  \n",
       "6032       6023.0  \n",
       "6033       6023.0  \n",
       "6034       6023.0  \n",
       "6035       6023.0  \n",
       "6036       6023.0  \n",
       "\n",
       "[6037 rows x 7 columns]"
      ]
     },
     "execution_count": 4,
     "metadata": {},
     "output_type": "execute_result"
    }
   ],
   "source": [
    "df"
   ]
  },
  {
   "cell_type": "code",
   "execution_count": 5,
   "metadata": {},
   "outputs": [
    {
     "data": {
      "text/plain": [
       "5.0"
      ]
     },
     "execution_count": 5,
     "metadata": {},
     "output_type": "execute_result"
    }
   ],
   "source": [
    "df.LEVEL.max()"
   ]
  },
  {
   "cell_type": "code",
   "execution_count": 6,
   "metadata": {},
   "outputs": [
    {
     "data": {
      "text/plain": [
       "6037"
      ]
     },
     "execution_count": 6,
     "metadata": {},
     "output_type": "execute_result"
    }
   ],
   "source": [
    "len(df)"
   ]
  },
  {
   "cell_type": "code",
   "execution_count": null,
   "metadata": {},
   "outputs": [],
   "source": []
  }
 ],
 "metadata": {
  "kernelspec": {
   "display_name": "Python 3.8.13 64-bit",
   "language": "python",
   "name": "python3"
  },
  "language_info": {
   "codemirror_mode": {
    "name": "ipython",
    "version": 3
   },
   "file_extension": ".py",
   "mimetype": "text/x-python",
   "name": "python",
   "nbconvert_exporter": "python",
   "pygments_lexer": "ipython3",
   "version": "3.8.13"
  },
  "orig_nbformat": 4,
  "vscode": {
   "interpreter": {
    "hash": "949777d72b0d2535278d3dc13498b2535136f6dfe0678499012e853ee9abcab1"
   }
  }
 },
 "nbformat": 4,
 "nbformat_minor": 2
}
