{
 "cells": [
  {
   "cell_type": "code",
   "execution_count": 1,
   "metadata": {},
   "outputs": [],
   "source": [
    "import pandas as pd\n",
    "import numpy as np\n",
    "import matplotlib.pyplot as plt\n",
    "from collections import Counter"
   ]
  },
  {
   "cell_type": "code",
   "execution_count": 2,
   "metadata": {},
   "outputs": [],
   "source": [
    "df = pd.read_json('../../data/query/top_used_wish_queries.json', lines=True)"
   ]
  },
  {
   "cell_type": "code",
   "execution_count": 3,
   "metadata": {},
   "outputs": [],
   "source": [
    "df_inf = pd.read_json('../../data/query/wish_queries_inferred_newtax.json', lines=True)"
   ]
  },
  {
   "cell_type": "code",
   "execution_count": 7,
   "metadata": {},
   "outputs": [],
   "source": [
    "df_inf = df_inf.merge(df, on='query', how='left')"
   ]
  },
  {
   "cell_type": "code",
   "execution_count": 10,
   "metadata": {},
   "outputs": [
    {
     "data": {
      "text/plain": [
       "0.7940550932721836"
      ]
     },
     "execution_count": 10,
     "metadata": {},
     "output_type": "execute_result"
    }
   ],
   "source": [
    "df_inf.cnt.isna().mean()"
   ]
  },
  {
   "cell_type": "code",
   "execution_count": 11,
   "metadata": {},
   "outputs": [
    {
     "data": {
      "text/html": [
       "<div>\n",
       "<style scoped>\n",
       "    .dataframe tbody tr th:only-of-type {\n",
       "        vertical-align: middle;\n",
       "    }\n",
       "\n",
       "    .dataframe tbody tr th {\n",
       "        vertical-align: top;\n",
       "    }\n",
       "\n",
       "    .dataframe thead th {\n",
       "        text-align: right;\n",
       "    }\n",
       "</style>\n",
       "<table border=\"1\" class=\"dataframe\">\n",
       "  <thead>\n",
       "    <tr style=\"text-align: right;\">\n",
       "      <th></th>\n",
       "      <th>query</th>\n",
       "      <th>norm</th>\n",
       "      <th>categories</th>\n",
       "      <th>category_names</th>\n",
       "      <th>weights</th>\n",
       "      <th>cnt</th>\n",
       "      <th>gmv</th>\n",
       "    </tr>\n",
       "  </thead>\n",
       "  <tbody>\n",
       "    <tr>\n",
       "      <th>7</th>\n",
       "      <td>druckerpatronen</td>\n",
       "      <td>4.472136</td>\n",
       "      <td>1441,1437,1317</td>\n",
       "      <td>Ink Cartridges,Printer Supplies,Computer &amp; Office</td>\n",
       "      <td>1.83126679136,0.422688878253,0.422688878253</td>\n",
       "      <td>1494.0</td>\n",
       "      <td>1045.009033</td>\n",
       "    </tr>\n",
       "    <tr>\n",
       "      <th>13</th>\n",
       "      <td>strega</td>\n",
       "      <td>2.116601</td>\n",
       "      <td>2714,4581,4109,2329,2515</td>\n",
       "      <td>Statues &amp; Sculptures,Costume Accessories,Chain...</td>\n",
       "      <td>1.39493960556,0.472455591262,0.472455591262,0....</td>\n",
       "      <td>562.0</td>\n",
       "      <td>57.439545</td>\n",
       "    </tr>\n",
       "    <tr>\n",
       "      <th>14</th>\n",
       "      <td>black chain</td>\n",
       "      <td>36.273956</td>\n",
       "      <td>4109,4047,4108</td>\n",
       "      <td>Chain Necklaces,Jewelry &amp; Accessories,Necklace...</td>\n",
       "      <td>1.85141002619,0.480097426024,0.416982064014</td>\n",
       "      <td>2032.0</td>\n",
       "      <td>2465.819092</td>\n",
       "    </tr>\n",
       "    <tr>\n",
       "      <th>19</th>\n",
       "      <td>bed pillow for sitting up</td>\n",
       "      <td>1.058300</td>\n",
       "      <td>2795,2792,2770</td>\n",
       "      <td>Decorative Pillows,Pillows,Home Textile</td>\n",
       "      <td>1.88982236505,0.37796447301,0.37796447301</td>\n",
       "      <td>135.0</td>\n",
       "      <td>76.750000</td>\n",
       "    </tr>\n",
       "    <tr>\n",
       "      <th>22</th>\n",
       "      <td>lazy phone holder</td>\n",
       "      <td>1.469694</td>\n",
       "      <td>1276,1487,1255,1317</td>\n",
       "      <td>Phone Holders &amp; Stands,Tablet Stands,Mobile Ph...</td>\n",
       "      <td>1.5552831937,1.08107514625,0.174973875252,0.13...</td>\n",
       "      <td>414.0</td>\n",
       "      <td>383.247070</td>\n",
       "    </tr>\n",
       "    <tr>\n",
       "      <th>...</th>\n",
       "      <td>...</td>\n",
       "      <td>...</td>\n",
       "      <td>...</td>\n",
       "      <td>...</td>\n",
       "      <td>...</td>\n",
       "      <td>...</td>\n",
       "      <td>...</td>\n",
       "    </tr>\n",
       "    <tr>\n",
       "      <th>1605663</th>\n",
       "      <td>mini vaccume cleaner</td>\n",
       "      <td>2.116601</td>\n",
       "      <td>2857,2849,2329</td>\n",
       "      <td>Hand Push Sweepers,Household Cleaning Tools,Ho...</td>\n",
       "      <td>1.88982236505,0.37796447301,0.37796447301</td>\n",
       "      <td>222.0</td>\n",
       "      <td>161.945007</td>\n",
       "    </tr>\n",
       "    <tr>\n",
       "      <th>1605664</th>\n",
       "      <td>carcasa para iphone</td>\n",
       "      <td>1.039230</td>\n",
       "      <td>1311,1308,1244</td>\n",
       "      <td>Phone Pouches,Phone Bags &amp; Cases,Cellphones &amp; ...</td>\n",
       "      <td>1.9245008973,0.38490017946,0.38490017946</td>\n",
       "      <td>112.0</td>\n",
       "      <td>30.571060</td>\n",
       "    </tr>\n",
       "    <tr>\n",
       "      <th>1605667</th>\n",
       "      <td>portable toilet</td>\n",
       "      <td>6.257795</td>\n",
       "      <td>3455,3416,134,3454,3392,3391</td>\n",
       "      <td>Urinals,Bathroom Sinks,RV Parts &amp; Accessories,...</td>\n",
       "      <td>0.799003465126,0.67025373589,0.418344192212,0....</td>\n",
       "      <td>5183.0</td>\n",
       "      <td>9512.124023</td>\n",
       "    </tr>\n",
       "    <tr>\n",
       "      <th>1605671</th>\n",
       "      <td>shift knob led</td>\n",
       "      <td>1.058300</td>\n",
       "      <td>380,374,160</td>\n",
       "      <td>Gear Shift Knob,Interior Parts,Auto Replacemen...</td>\n",
       "      <td>1.88982236505,0.37796447301,0.37796447301</td>\n",
       "      <td>105.0</td>\n",
       "      <td>20.139212</td>\n",
       "    </tr>\n",
       "    <tr>\n",
       "      <th>1605673</th>\n",
       "      <td>lipstick making kit</td>\n",
       "      <td>1.058300</td>\n",
       "      <td>1039,998,1030</td>\n",
       "      <td>Makeup Tool Kits,Makeup,Makeup Tools &amp; Accesso...</td>\n",
       "      <td>1.88982236505,0.37796447301,0.37796447301</td>\n",
       "      <td>110.0</td>\n",
       "      <td>0.000000</td>\n",
       "    </tr>\n",
       "  </tbody>\n",
       "</table>\n",
       "<p>330681 rows × 7 columns</p>\n",
       "</div>"
      ],
      "text/plain": [
       "                             query       norm                    categories  \\\n",
       "7                  druckerpatronen   4.472136                1441,1437,1317   \n",
       "13                          strega   2.116601      2714,4581,4109,2329,2515   \n",
       "14                     black chain  36.273956                4109,4047,4108   \n",
       "19       bed pillow for sitting up   1.058300                2795,2792,2770   \n",
       "22               lazy phone holder   1.469694           1276,1487,1255,1317   \n",
       "...                            ...        ...                           ...   \n",
       "1605663       mini vaccume cleaner   2.116601                2857,2849,2329   \n",
       "1605664        carcasa para iphone   1.039230                1311,1308,1244   \n",
       "1605667            portable toilet   6.257795  3455,3416,134,3454,3392,3391   \n",
       "1605671             shift knob led   1.058300                   380,374,160   \n",
       "1605673        lipstick making kit   1.058300                 1039,998,1030   \n",
       "\n",
       "                                            category_names  \\\n",
       "7        Ink Cartridges,Printer Supplies,Computer & Office   \n",
       "13       Statues & Sculptures,Costume Accessories,Chain...   \n",
       "14       Chain Necklaces,Jewelry & Accessories,Necklace...   \n",
       "19                 Decorative Pillows,Pillows,Home Textile   \n",
       "22       Phone Holders & Stands,Tablet Stands,Mobile Ph...   \n",
       "...                                                    ...   \n",
       "1605663  Hand Push Sweepers,Household Cleaning Tools,Ho...   \n",
       "1605664  Phone Pouches,Phone Bags & Cases,Cellphones & ...   \n",
       "1605667  Urinals,Bathroom Sinks,RV Parts & Accessories,...   \n",
       "1605671  Gear Shift Knob,Interior Parts,Auto Replacemen...   \n",
       "1605673  Makeup Tool Kits,Makeup,Makeup Tools & Accesso...   \n",
       "\n",
       "                                                   weights     cnt  \\\n",
       "7              1.83126679136,0.422688878253,0.422688878253  1494.0   \n",
       "13       1.39493960556,0.472455591262,0.472455591262,0....   562.0   \n",
       "14             1.85141002619,0.480097426024,0.416982064014  2032.0   \n",
       "19               1.88982236505,0.37796447301,0.37796447301   135.0   \n",
       "22       1.5552831937,1.08107514625,0.174973875252,0.13...   414.0   \n",
       "...                                                    ...     ...   \n",
       "1605663          1.88982236505,0.37796447301,0.37796447301   222.0   \n",
       "1605664           1.9245008973,0.38490017946,0.38490017946   112.0   \n",
       "1605667  0.799003465126,0.67025373589,0.418344192212,0....  5183.0   \n",
       "1605671          1.88982236505,0.37796447301,0.37796447301   105.0   \n",
       "1605673          1.88982236505,0.37796447301,0.37796447301   110.0   \n",
       "\n",
       "                 gmv  \n",
       "7        1045.009033  \n",
       "13         57.439545  \n",
       "14       2465.819092  \n",
       "19         76.750000  \n",
       "22        383.247070  \n",
       "...              ...  \n",
       "1605663   161.945007  \n",
       "1605664    30.571060  \n",
       "1605667  9512.124023  \n",
       "1605671    20.139212  \n",
       "1605673     0.000000  \n",
       "\n",
       "[330681 rows x 7 columns]"
      ]
     },
     "execution_count": 11,
     "metadata": {},
     "output_type": "execute_result"
    }
   ],
   "source": [
    "df_inf[~df_inf.cnt.isna()]"
   ]
  },
  {
   "cell_type": "code",
   "execution_count": 14,
   "metadata": {},
   "outputs": [],
   "source": [
    "df_tax = pd.read_json('../../data/taxonomy/wish_newtax.json', lines=True)"
   ]
  },
  {
   "cell_type": "code",
   "execution_count": 23,
   "metadata": {},
   "outputs": [],
   "source": [
    "id2path = {}\n",
    "for i in df_tax.to_dict('records'):\n",
    "    id2path[str(i['id'])] = i['category_path']"
   ]
  },
  {
   "cell_type": "code",
   "execution_count": 26,
   "metadata": {},
   "outputs": [],
   "source": [
    "df_inf['category_paths'] = df_inf['categories'].apply(lambda x: [id2path[i] for i in x.split(',')])"
   ]
  },
  {
   "cell_type": "code",
   "execution_count": 29,
   "metadata": {},
   "outputs": [
    {
     "data": {
      "text/plain": [
       "[{'query': 'protector palanca de cambio moto',\n",
       "  'category_paths': ['Automobiles & Motorcycles > Motorcycle Accessories & Parts > Protective Gear > Protective Gears Accessories',\n",
       "   'Automobiles & Motorcycles > Motorcycle Accessories & Parts > Protective Gear',\n",
       "   'Automobiles & Motorcycles > Motorcycle Accessories & Parts'],\n",
       "  'weights': '1.88982236505,0.37796447301,0.37796447301'},\n",
       " {'query': 'money safe',\n",
       "  'category_paths': ['Security & Protection > Safes',\n",
       "   'Home & Garden > Home Decor > Money Boxes',\n",
       "   'Sports > Fitness & Body Building > Outdoor Fitness Equipment'],\n",
       "  'weights': '1.34963343777,1.25088899329,0.439085871472'},\n",
       " {'query': 'shower cover',\n",
       "  'category_paths': ['Home & Garden > Bathroom Products > Bathroom Gadgets > Hair Stoppers & Catchers',\n",
       "   'Home & Garden > Bathroom Products',\n",
       "   'Home & Garden'],\n",
       "  'weights': '1.88982236505,0.37796447301,0.37796447301'},\n",
       " {'query': 'espelho harley',\n",
       "  'category_paths': ['Automobiles & Motorcycles > Motorcycle Accessories & Parts > Frames & Fittings > Side Mirrors & Accessories',\n",
       "   'Automobiles & Motorcycles > Motorcycle Accessories & Parts > Frames & Fittings',\n",
       "   'Automobiles & Motorcycles > Motorcycle Accessories & Parts'],\n",
       "  'weights': '1.88982236505,0.37796447301,0.37796447301'},\n",
       " {'query': 'poulan pro chainsaw 42cc gas cap',\n",
       "  'category_paths': ['Tools > Tool Parts', 'Tools'],\n",
       "  'weights': '1.96116135138,0.392232270276'}]"
      ]
     },
     "execution_count": 29,
     "metadata": {},
     "output_type": "execute_result"
    }
   ],
   "source": [
    "df_inf[['query', 'category_paths', 'weights']].sample(5).to_dict('records')"
   ]
  },
  {
   "cell_type": "code",
   "execution_count": null,
   "metadata": {},
   "outputs": [],
   "source": []
  }
 ],
 "metadata": {
  "kernelspec": {
   "display_name": "Python 3.8.13 64-bit",
   "language": "python",
   "name": "python3"
  },
  "language_info": {
   "codemirror_mode": {
    "name": "ipython",
    "version": 3
   },
   "file_extension": ".py",
   "mimetype": "text/x-python",
   "name": "python",
   "nbconvert_exporter": "python",
   "pygments_lexer": "ipython3",
   "version": "3.8.13"
  },
  "orig_nbformat": 4,
  "vscode": {
   "interpreter": {
    "hash": "949777d72b0d2535278d3dc13498b2535136f6dfe0678499012e853ee9abcab1"
   }
  }
 },
 "nbformat": 4,
 "nbformat_minor": 2
}
