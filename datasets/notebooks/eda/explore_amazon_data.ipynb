{
 "cells": [
  {
   "cell_type": "markdown",
   "metadata": {},
   "source": [
    "# unprocessed product metadata"
   ]
  },
  {
   "cell_type": "code",
   "execution_count": 10,
   "metadata": {},
   "outputs": [],
   "source": [
    "import json\n",
    "import gzip\n",
    "import pandas as pd\n",
    "from collections import Counter\n",
    "from tqdm import tqdm\n",
    "import numpy as np"
   ]
  },
  {
   "cell_type": "code",
   "execution_count": 2,
   "metadata": {},
   "outputs": [],
   "source": [
    "amazon_meta_raw_path = '../../data/amazon/All_Amazon_Meta.json.gz'"
   ]
  },
  {
   "cell_type": "code",
   "execution_count": 5,
   "metadata": {},
   "outputs": [
    {
     "name": "stderr",
     "output_type": "stream",
     "text": [
      "15023059it [29:47, 8402.56it/s] \n"
     ]
    }
   ],
   "source": [
    "amazon_cats_counter = Counter()\n",
    "data = {}\n",
    "with gzip.open(amazon_meta_raw_path) as f:\n",
    "    for l in tqdm(f):\n",
    "        dat = json.loads(l.strip())\n",
    "        dat['category'] = [\n",
    "            i.lower() for i in dat['category']\n",
    "        ]\n",
    "        data[dat['title']] = dat['category']\n",
    "        amazon_cats_counter.update(dat['category'])\n"
   ]
  },
  {
   "cell_type": "markdown",
   "metadata": {},
   "source": [
    "# 1. raw data has too many cateogry nodes and paths (need cleaning)"
   ]
  },
  {
   "cell_type": "code",
   "execution_count": 11,
   "metadata": {},
   "outputs": [
    {
     "data": {
      "text/plain": [
       "{'# products': 14127828,\n",
       " '# category paths': 1430707,\n",
       " '# category nodes': 2405474,\n",
       " 'avg path length': 4.259480296617427}"
      ]
     },
     "execution_count": 11,
     "metadata": {},
     "output_type": "execute_result"
    }
   ],
   "source": [
    "{\n",
    "    '# products': len(data),\n",
    "    '# category paths': len(set([tuple(data[i]) for i in data])),\n",
    "    '# category nodes': len(amazon_cats_counter),\n",
    "    'avg path length': np.mean([len(data[i]) for i in data])\n",
    "}"
   ]
  },
  {
   "cell_type": "code",
   "execution_count": 12,
   "metadata": {},
   "outputs": [
    {
     "data": {
      "text/plain": [
       "9.874717884234858"
      ]
     },
     "execution_count": 12,
     "metadata": {},
     "output_type": "execute_result"
    }
   ],
   "source": [
    "# just on average 9 products for each category path (too few)\n",
    "14127828 / 1430707"
   ]
  },
  {
   "cell_type": "code",
   "execution_count": 13,
   "metadata": {},
   "outputs": [
    {
     "data": {
      "text/plain": [
       "400.9123333333333"
      ]
     },
     "execution_count": 13,
     "metadata": {},
     "output_type": "execute_result"
    }
   ],
   "source": [
    "# way more category nodes than normal (400 times more)\n",
    "2405474 / 6000"
   ]
  },
  {
   "cell_type": "code",
   "execution_count": 15,
   "metadata": {},
   "outputs": [
    {
     "data": {
      "text/plain": [
       "{'# l1 nodes': 29, '# l2 nodes': 740, '# l3 nodes': 14139, '# l4 nodes': 48417}"
      ]
     },
     "execution_count": 15,
     "metadata": {},
     "output_type": "execute_result"
    }
   ],
   "source": [
    "# l1 and l2 category size seems reasonable\n",
    "{\n",
    "    '# l1 nodes': len(set([data[i][0] for i in data if len(data[i])>0])),\n",
    "    '# l2 nodes': len(set([data[i][1] for i in data if len(data[i])>1])),\n",
    "    '# l3 nodes': len(set([data[i][2] for i in data if len(data[i])>2])),\n",
    "    '# l4 nodes': len(set([data[i][3] for i in data if len(data[i])>3])),\n",
    "}"
   ]
  },
  {
   "cell_type": "code",
   "execution_count": 17,
   "metadata": {},
   "outputs": [
    {
     "data": {
      "text/plain": [
       "25.517241379310345"
      ]
     },
     "execution_count": 17,
     "metadata": {},
     "output_type": "execute_result"
    }
   ],
   "source": [
    "# l1 -> l2 category expansion seems reasonable\n",
    "740 / 29"
   ]
  },
  {
   "cell_type": "code",
   "execution_count": 19,
   "metadata": {},
   "outputs": [
    {
     "data": {
      "text/plain": [
       "[('clothing, shoes & jewelry', 2499458),\n",
       " ('books', 2416775),\n",
       " ('home & kitchen', 1263764),\n",
       " ('automotive', 877805),\n",
       " ('sports & outdoors', 846780),\n",
       " ('electronics', 740508),\n",
       " ('toys & games', 556598),\n",
       " ('tools & home improvement', 526186),\n",
       " ('cell phones & accessories', 518564),\n",
       " ('kindle store', 473020),\n",
       " ('cds & vinyl', 327383),\n",
       " ('office products', 286094),\n",
       " ('arts, crafts & sewing', 281825),\n",
       " ('grocery & gourmet food', 280126),\n",
       " ('patio, lawn & garden', 272410),\n",
       " ('movies & tv', 176207),\n",
       " ('pet supplies', 175083),\n",
       " ('industrial & scientific', 155848),\n",
       " ('musical instruments', 105877),\n",
       " ('video games', 66537),\n",
       " ('appliances', 29172),\n",
       " ('collectibles & fine art', 26330),\n",
       " ('software', 19211),\n",
       " ('gift cards', 1334),\n",
       " ('alexa skills', 914),\n",
       " ('home & business services', 179),\n",
       " ('magazine subscriptions', 91),\n",
       " ('handmade', 7),\n",
       " ('digital music', 2)]"
      ]
     },
     "execution_count": 19,
     "metadata": {},
     "output_type": "execute_result"
    }
   ],
   "source": [
    "# clothing, shows & jewelry dominates\n",
    "Counter([data[i][0] for i in data if len(data[i])>0]).most_common()"
   ]
  },
  {
   "cell_type": "markdown",
   "metadata": {},
   "source": [
    "## 2. raw data's category is noisy"
   ]
  },
  {
   "cell_type": "code",
   "execution_count": 4,
   "metadata": {},
   "outputs": [
    {
     "data": {
      "text/plain": [
       "{'category': ['clothing, shoes & jewelry',\n",
       "  'women',\n",
       "  'clothing',\n",
       "  'tops, tees & blouses',\n",
       "  'blouses & button-down shirts',\n",
       "  'import',\n",
       "  'versatile occasions - great for daily,casual,i am sure you will like it!',\n",
       "  'black friday cyber monday christmas loose blouse v-neck blouse solid color blouse sling blouse fashion blouse cool blouse vintage blouse popular blouse fun blouse sexy blouse lace vest blouse wild blouse sleeveless blouse lace blouse closure',\n",
       "  'printing vest rose blouse velvet shirt couple blouse elegant blouse long sleeve blouse lace vest printed blouse high low hem blouse top short sleeve blouses hollow clothing casual shirts out shoulder blouse three quarter sleeve shirts chiffon blouse floral printed button shirt stailored blouse button blouse crew neck blouse zip blouse cheap blouse expensive blouse discount blouse box pattern blouse twill fabric blouse straight blouse rolling blouse crimping blouse leaf blouse sling blouse',\n",
       "  'shawl blouse transparent blouse crepe blouse rayon blouse stretch blouse embroidered blouse tie up blouse bow blouse thick blouse exquisite blouse off shoulder blouse couple blouse stitching harness rose blouse letter blouse slim blouse halter blouse oblique blouse feather blouse pullover tops easter mothers day flag day independence day holiday hot pink outfits for women chiffon blouse velvet cardigan blouses for women fashion 2018 hoodie',\n",
       "  \"poker t shirts fishing t shirts tee shirts for guys mens blue t shirt as t shirts womens t shirts casual shirts for men tee shirt maker nice shirts for guys military t shirts witty t shirts biker t shirts olive green shirt mens beer shirts t shirt transfers polyester t shirts army t shirt custom made tee shirts men's a shirts offensive t shirts bob marley t shirts hanes t shirts kids t shirts nice mens t shirts make your own shirt t shirt making website t shirt logo\",\n",
       "  'ladies tops tops for women off the shoulder tops long tops tunic tops going out tops cute tops trendy tops lace top long tops for women party tops cotton tops blouses for women womens shirts cute tops for women summer tops dressy tops halter top tunic tops for women shoulderless tops women tops online black tops for women white top ladies long tops black top halter neck tops strapless top tops online long shirts for women summer tops for women red top lace tops for women long tops',\n",
       "  \"online designer tops sleeveless tops long sleeve tops one shoulder tops ladies tops online ladies blouse basic tops white shirt womens chiffon tops pink top ladies summer tops trendy tops for women burgundy top women's shirts black and white top\"],\n",
       " 'tech1': '',\n",
       " 'description': ['(=^ ^=) 1.It is made of high quality materials,durable enought for your daily wearing<br>(=^ ^=) 2.Stylish and fashion design make you more attractive<br>(=^ ^=) 3.Perfect Match with your favorite shorts,leggings, black slacks, denim jeans, etc<br>(=^ ^=) 4.Great for Daily,Casual,I am sure you will like it! <br><br>(=^ ^=) If you would like to know more products of our store, please pay close attention to <b>Ninasill</b> <br><br>Loose Blouse V-Neck Blouse Solid Color Blouse Sling Blouse Fashion Blouse Cool Blouse Vintage Blouse Popular Blouse Fun Blouse Sexy Blouse Lace Vest Blouse Wild <br>Blouse Sleeveless Blouse Lace Blouse Lace Stitching Blouse Sweaters T-Shirts Men Blouse Women Blouse Girls Blouse Boys Blouse Kid Blouse Adult Blouse Children Blouse Printing Vest Rose Blouse Velvet Shirt Couple Blouse Elegant Blouse Long <br>Sleeve Blouse Lace Vest Printed Blouse High Low Hem Blouse Top Short Sleeve Blouses Hollow Clothing V-Collar Vest Casual Shirts Out Shoulder Blouse Three Quarter Sleeve Shirts Chiffon Blouse Floral Printed Button Shirts'],\n",
       " 'fit': '',\n",
       " 'title': 'Women Blouse, Ninasill Hooded Sweatshirt Coat Winter Warm Wool Zipper Pockets Cotton Coat Outwear',\n",
       " 'also_buy': [],\n",
       " 'image': ['https://images-na.ssl-images-amazon.com/images/I/41FcdYMol2L._SX38_SY50_CR,0,0,38,50_.jpg',\n",
       "  'https://images-na.ssl-images-amazon.com/images/I/51ul8a%2B-IjL._SX38_SY50_CR,0,0,38,50_.jpg',\n",
       "  'https://images-na.ssl-images-amazon.com/images/I/51zLLlGLEHL._SX38_SY50_CR,0,0,38,50_.jpg',\n",
       "  'https://images-na.ssl-images-amazon.com/images/I/515CIhAjPIL._SX38_SY50_CR,0,0,38,50_.jpg'],\n",
       " 'tech2': '',\n",
       " 'brand': 'Ninasill_Blouse',\n",
       " 'feature': ['Import',\n",
       "  'Versatile Occasions - Great for Daily,Casual,I am sure you will like it!',\n",
       "  'Black Friday Cyber Monday Christmas Loose Blouse V-Neck Blouse Solid Color Blouse Sling Blouse Fashion Blouse Cool Blouse Vintage Blouse Popular Blouse Fun Blouse Sexy Blouse Lace Vest Blouse Wild Blouse Sleeveless Blouse Lace Blouse closure',\n",
       "  'Printing Vest Rose Blouse Velvet Shirt Couple Blouse Elegant Blouse Long Sleeve Blouse Lace Vest Printed Blouse High Low Hem Blouse Top Short Sleeve Blouses Hollow Clothing Casual Shirts Out Shoulder Blouse Three Quarter Sleeve Shirts Chiffon Blouse Floral Printed Button Shirt Stailored Blouse Button Blouse Crew Neck Blouse Zip Blouse Cheap Blouse Expensive Blouse Discount Blouse Box Pattern Blouse Twill Fabric Blouse Straight Blouse Rolling Blouse Crimping Blouse Leaf Blouse Sling Blouse',\n",
       "  'Shawl Blouse Transparent Blouse Crepe Blouse Rayon Blouse Stretch Blouse Embroidered Blouse Tie Up Blouse Bow Blouse Thick Blouse Exquisite Blouse Off Shoulder Blouse Couple Blouse Stitching Harness Rose Blouse Letter Blouse Slim Blouse Halter Blouse Oblique Blouse Feather Blouse Pullover Tops Easter Mothers Day Flag Day Independence Day Holiday Hot Pink Outfits For Women Chiffon Blouse Velvet Cardigan Blouses For Women Fashion 2018 Hoodie',\n",
       "  \"poker t shirts fishing t shirts tee shirts for guys mens blue t shirt as t shirts womens t shirts casual shirts for men tee shirt maker nice shirts for guys military t shirts witty t shirts biker t shirts olive green shirt mens beer shirts t shirt transfers polyester t shirts army t shirt custom made tee shirts men's a shirts offensive t shirts bob marley t shirts hanes t shirts kids t shirts nice mens t shirts make your own shirt t shirt making website t shirt logo\",\n",
       "  'ladies tops tops for women off the shoulder tops long tops tunic tops going out tops cute tops trendy tops lace top long tops for women party tops cotton tops blouses for women womens shirts cute tops for women summer tops dressy tops halter top tunic tops for women shoulderless tops women tops online black tops for women white top ladies long tops black top halter neck tops strapless top tops online long shirts for women summer tops for women red top lace tops for women long tops',\n",
       "  \"online designer tops sleeveless tops long sleeve tops one shoulder tops ladies tops online ladies blouse basic tops white shirt womens chiffon tops pink top ladies summer tops trendy tops for women burgundy top women's shirts black and white top\",\n",
       "  '<span class=\"a-text-bold\">Shipping Weight:\\n                    </span>\\n                    <span>12.8 ounces (<a href=\\'https://www.amazon.com/gp/help/seller/shipping.html/ref=dp_pd_shipping?_encoding=UTF8&amp;seller=&amp;asin=B07KS5RY2B\\'>View shipping rates and policies</a>)</span>',\n",
       "  '<span class=\"a-text-bold\">ASIN:\\n                    </span>\\n                    <span>B07KS5RY2B</span>',\n",
       "  '',\n",
       "  '<span class=\"a-text-bold\">Item model number:\\n                    </span>\\n                    <span>ZC-1004</span>',\n",
       "  '<span class=\"a-text-bold\">Date first listed on Amazon:\\n                    </span>\\n                    <span>November 22, 2018</span>',\n",
       "  '<span class=\"a-text-bold\">\\n                    Average Customer Review:\\n                </span>\\n                \\n\\n\\n\\n\\n<style type=\"text/css\">\\n    /* \\n    * Fix for UDP-1061. Average customer reviews has a small extra line on hover \\n    * https://omni-grok.amazon.com/xref/src/appgroup/websiteTemplates/retail/SoftlinesDetailPageAssets/udp-intl-lock/src/legacy.css?indexName=WebsiteTemplates#40\\n    */\\n    .noUnderline a:hover { \\n        text-decoration: none; \\n    }\\n</style>\\n\\n\\n\\n    \\n    \\n    \\n    \\n        \\n\\n        \\n\\n        \\n        \\n        \\n        \\n\\t\\t\\n\\t\\t\\n\\t\\t\\n\\t\\t\\n\\t\\t        \\n\\t\\t\\n\\t\\t\\n\\t\\t\\n\\t\\t\\n\\t\\t\\n\\t\\t\\n\\t\\t\\n\\t\\t        \\n        \\n\\n        <div id=\"detailBullets_averageCustomerReviews\" class=\"a-spacing-none\" data-asin=\"B07KS5RY2B\" data-ref=\"dpx_acr_pop_\" >\\n            \\n            \\n            \\n                \\n                    \\n\\n\\n\\n\\n\\n\\n\\n    \\n    \\n        \\n            \\n                <a id=\"acrCustomerWriteReviewLink\" class=\"a-link-normal reviewCountSolicit\" href=\"/review/create-review/ref=dpx_acr_wr_link?asin=B07KS5RY2B\">\\n                    <span id=\"acrCustomerWriteReviewText\" class=\"a-size-base\">Be the first to review this item</span>\\n                </a>\\n            \\n        \\n    \\n\\n                \\n                \\n            \\n        </div>'],\n",
       " 'rank': [],\n",
       " 'also_view': [],\n",
       " 'details': {},\n",
       " 'main_cat': 'Movies & TV',\n",
       " 'similar_item': '',\n",
       " 'date': '<div class=\"a-fixed-left-grid a-spacing-none\"><div class=\"a-fixed-left-grid-inner\" style=\"padding-left:280px\"><div class=\"a-fixed-left-grid-col a-col-left\" style=\"width:280px;margin-left:-280px;float:left;\"><span class=\"a-declarative\" data-action=\"reviews:filter-action:push-state\" data-reviews:filter-action:push-state=\"{&quot;scrollToSelector&quot;:&quot;#reviews-filter-info&quot;,&quot;allowLinkDefault&quot;:&quot;1&quot;}\"><table id=\"histogramTable\" class=\"a-normal a-align-middle a-spacing-base\" role=\"presentation\"><tr class=\"a-histogram-row\"><td class=\"aok-nowrap\"><span aria-hidden=\"true\" class=\"a-size-base\">5 star</span><span class=\"a-offscreen\">5 star (0%)</span><span class=\"a-letter-space\"></span>',\n",
       " 'price': '$9.99 - $12.50',\n",
       " 'asin': '6305121869'}"
      ]
     },
     "execution_count": 4,
     "metadata": {},
     "output_type": "execute_result"
    }
   ],
   "source": [
    "dat"
   ]
  },
  {
   "cell_type": "markdown",
   "metadata": {},
   "source": [
    "# processed data (restrict number of category nodes and remove badly-named categories)"
   ]
  },
  {
   "cell_type": "code",
   "execution_count": 28,
   "metadata": {},
   "outputs": [],
   "source": [
    "# process script: ../preprocess/process_amazon_product_categories.py"
   ]
  },
  {
   "cell_type": "code",
   "execution_count": 20,
   "metadata": {},
   "outputs": [],
   "source": [
    "import pandas as pd\n",
    "from collections import Counter\n",
    "from tqdm import tqdm\n",
    "import numpy as np"
   ]
  },
  {
   "cell_type": "code",
   "execution_count": 21,
   "metadata": {},
   "outputs": [],
   "source": [
    "df_train = pd.read_json('../../data/amazon/All_Amazon_Meta_Train.json', lines=True)\n",
    "df_test = pd.read_json('../../data/amazon/All_Amazon_Meta_Test.json', lines=True)"
   ]
  },
  {
   "cell_type": "code",
   "execution_count": 22,
   "metadata": {},
   "outputs": [
    {
     "data": {
      "text/plain": [
       "{'# products': 12794705,\n",
       " '# category paths': 36354,\n",
       " '# category nodes': 5701,\n",
       " 'avg path length': 3.8124077890033417}"
      ]
     },
     "execution_count": 22,
     "metadata": {},
     "output_type": "execute_result"
    }
   ],
   "source": [
    "{\n",
    "    '# products': len(df_train),\n",
    "    '# category paths': len(set(df_train.category.apply(tuple))),\n",
    "    '# category nodes': len(set([j for i in df_train.to_dict('records') for j in i['category']])),\n",
    "    'avg path length': df_train.category.apply(len).mean()\n",
    "}"
   ]
  },
  {
   "cell_type": "code",
   "execution_count": 26,
   "metadata": {},
   "outputs": [
    {
     "data": {
      "text/plain": [
       "351.94765362821147"
      ]
     },
     "execution_count": 26,
     "metadata": {},
     "output_type": "execute_result"
    }
   ],
   "source": [
    "# after cleaning, on average 350 products for each category path, more reasonable\n",
    "12794705 / 36354"
   ]
  },
  {
   "cell_type": "code",
   "execution_count": 25,
   "metadata": {},
   "outputs": [
    {
     "data": {
      "text/plain": [
       "{'# l1 nodes': 31, '# l2 nodes': 505, '# l3 nodes': 2411, '# l4 nodes': 2933}"
      ]
     },
     "execution_count": 25,
     "metadata": {},
     "output_type": "execute_result"
    }
   ],
   "source": [
    "# after cleaning, l1 to l4 category size are resonable\n",
    "{\n",
    "    '# l1 nodes': len(set(df_train.category.apply(lambda x: x[0] if len(x) > 0 else ''))),\n",
    "    '# l2 nodes': len(set(df_train.category.apply(lambda x: x[1] if len(x) > 1 else ''))),\n",
    "    '# l3 nodes': len(set(df_train.category.apply(lambda x: x[2] if len(x) > 2 else ''))),\n",
    "    '# l4 nodes': len(set(df_train.category.apply(lambda x: x[3] if len(x) > 3 else ''))),\n",
    "}"
   ]
  },
  {
   "cell_type": "code",
   "execution_count": 27,
   "metadata": {},
   "outputs": [],
   "source": [
    "df_train_paths = set(df_train.category.apply(tuple))\n",
    "df_test_paths = set(df_test.category.apply(tuple))"
   ]
  },
  {
   "cell_type": "code",
   "execution_count": 29,
   "metadata": {},
   "outputs": [
    {
     "data": {
      "text/plain": [
       "0.9900327689787002"
      ]
     },
     "execution_count": 29,
     "metadata": {},
     "output_type": "execute_result"
    }
   ],
   "source": [
    "len(df_test_paths.intersection(df_train_paths)) / len(df_test_paths)"
   ]
  },
  {
   "cell_type": "code",
   "execution_count": 31,
   "metadata": {},
   "outputs": [
    {
     "data": {
      "text/plain": [
       "0.19945535566925235"
      ]
     },
     "execution_count": 31,
     "metadata": {},
     "output_type": "execute_result"
    }
   ],
   "source": [
    "len(df_test_paths.intersection(df_train_paths)) / len(df_train_paths)"
   ]
  },
  {
   "cell_type": "code",
   "execution_count": 33,
   "metadata": {},
   "outputs": [
    {
     "data": {
      "text/plain": [
       "[{'title': 'Champion Cooling, 3 Row All Aluminum Radiator for Jeep CJ Series, CC583',\n",
       "  'category': ['automotive',\n",
       "   'replacement parts',\n",
       "   'engine cooling & climate control',\n",
       "   'radiators'],\n",
       "  'text': 'Champion Cooling, 3 Row All Aluminum Radiator for Jeep CJ Series, CC583 -> [automotive][replacement parts][engine cooling & climate control][radiators]'},\n",
       " {'title': 'Yoga Clothing For You Ladies OM Symbol Angel Fleece Full-Zip Hoodie',\n",
       "  'category': ['sports & outdoors',\n",
       "   'sports & fitness',\n",
       "   'exercise & fitness',\n",
       "   'yoga',\n",
       "   'clothing'],\n",
       "  'text': 'Yoga Clothing For You Ladies OM Symbol Angel Fleece Full-Zip Hoodie -> [sports & outdoors][sports & fitness][exercise & fitness][yoga][clothing]'},\n",
       " {'title': \"Troy Lee Designs Ruckus Men's 3/4 Sleeve Bicycle BMX Jersey - Native Turquoise\",\n",
       "  'category': ['automotive',\n",
       "   'motorcycle & powersports',\n",
       "   'protective gear',\n",
       "   'jerseys'],\n",
       "  'text': \"Troy Lee Designs Ruckus Men's 3/4 Sleeve Bicycle BMX Jersey - Native Turquoise -> [automotive][motorcycle & powersports][protective gear][jerseys]\"},\n",
       " {'title': 'Lysol 2775 Professional Disinfectant Foam Cleaner for Multiple Surfaces (Aerosol)',\n",
       "  'category': ['industrial & scientific', 'janitorial & sanitation supplies'],\n",
       "  'text': 'Lysol 2775 Professional Disinfectant Foam Cleaner for Multiple Surfaces (Aerosol) -> [industrial & scientific][janitorial & sanitation supplies]'},\n",
       " {'title': 'Putco 400931 Chrome Trim Fuel Tank Door Cover',\n",
       "  'category': ['automotive', 'replacement parts', 'fuel system'],\n",
       "  'text': 'Putco 400931 Chrome Trim Fuel Tank Door Cover -> [automotive][replacement parts][fuel system]'},\n",
       " {'title': 'iPhone 5C Case, MagicMobile Hybrid Impact Shockproof Cover Hard Armor Shell and Soft Silicone Skin Layer [ Teal - Blue ] with Free Screen Protector / Film and Pen Stylus',\n",
       "  'category': ['cell phones & accessories', 'accessories', 'accessory kits'],\n",
       "  'text': 'iPhone 5C Case, MagicMobile Hybrid Impact Shockproof Cover Hard Armor Shell and Soft Silicone Skin Layer [ Teal - Blue ] with Free Screen Protector / Film and Pen Stylus -> [cell phones & accessories][accessories][accessory kits]'},\n",
       " {'title': 'Audrey Hepburn 2018',\n",
       "  'category': ['books', 'calendars', 'foreign language'],\n",
       "  'text': 'Audrey Hepburn 2018 -> [books][calendars][foreign language]'},\n",
       " {'title': \"Ferrand-Women's Thermal Real Rex Rabbit Fur Scarves Wraps Collar\",\n",
       "  'category': ['clothing, shoes & jewelry',\n",
       "   'women',\n",
       "   'accessories',\n",
       "   'scarves & wraps',\n",
       "   'cold weather scarves & wraps'],\n",
       "  'text': \"Ferrand-Women's Thermal Real Rex Rabbit Fur Scarves Wraps Collar -> [clothing, shoes & jewelry][women][accessories][scarves & wraps][cold weather scarves & wraps]\"},\n",
       " {'title': 'Micro Art Studio 30mm Wasteland Bases (5)',\n",
       "  'category': ['toys & games', 'games', 'game accessories'],\n",
       "  'text': 'Micro Art Studio 30mm Wasteland Bases (5) -> [toys & games][games][game accessories]'},\n",
       " {'title': 'Supershield IC3650-628-2S-12X16IN Static Shield Bag, Top Open, Thickness Surface Resistance &lt; 10^11, 3 mil, 12&quot; x 16&quot; (Pack of 100)',\n",
       "  'category': ['industrial & scientific',\n",
       "   'lab & scientific products',\n",
       "   'lab supplies & consumables',\n",
       "   'lab consumables'],\n",
       "  'text': 'Supershield IC3650-628-2S-12X16IN Static Shield Bag, Top Open, Thickness Surface Resistance &lt; 10^11, 3 mil, 12&quot; x 16&quot; (Pack of 100) -> [industrial & scientific][lab & scientific products][lab supplies & consumables][lab consumables]'}]"
      ]
     },
     "execution_count": 33,
     "metadata": {},
     "output_type": "execute_result"
    }
   ],
   "source": [
    "df_train.sample(10).to_dict('records')"
   ]
  },
  {
   "cell_type": "code",
   "execution_count": null,
   "metadata": {},
   "outputs": [],
   "source": []
  }
 ],
 "metadata": {
  "kernelspec": {
   "display_name": "Python 3.8.13 64-bit",
   "language": "python",
   "name": "python3"
  },
  "language_info": {
   "codemirror_mode": {
    "name": "ipython",
    "version": 3
   },
   "file_extension": ".py",
   "mimetype": "text/x-python",
   "name": "python",
   "nbconvert_exporter": "python",
   "pygments_lexer": "ipython3",
   "version": "3.8.13"
  },
  "orig_nbformat": 4,
  "vscode": {
   "interpreter": {
    "hash": "949777d72b0d2535278d3dc13498b2535136f6dfe0678499012e853ee9abcab1"
   }
  }
 },
 "nbformat": 4,
 "nbformat_minor": 2
}
