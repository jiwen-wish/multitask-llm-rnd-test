{
 "cells": [
  {
   "cell_type": "code",
   "execution_count": 1,
   "metadata": {},
   "outputs": [],
   "source": [
    "import pandas as pd"
   ]
  },
  {
   "cell_type": "code",
   "execution_count": 2,
   "metadata": {},
   "outputs": [],
   "source": [
    "df_train = pd.read_json('../../data/wish_products_truetag_tahoe/Wish_Truetag_Tahoe_Meta_Train_OpenaiReverseCreated.json', lines=True)\n",
    "df_val = pd.read_json('../../data/wish_products_truetag_tahoe/Wish_Truetag_Tahoe_Meta_Val_OpenaiReverseCreated.json', lines=True)\n",
    "df_test = pd.read_json('../../data/wish_products_truetag_tahoe/Wish_Truetag_Tahoe_Meta_Test_OpenaiReverseCreated.json', lines=True)"
   ]
  },
  {
   "cell_type": "code",
   "execution_count": 3,
   "metadata": {},
   "outputs": [
    {
     "data": {
      "text/plain": [
       "(149117, 144243, 5291)"
      ]
     },
     "execution_count": 3,
     "metadata": {},
     "output_type": "execute_result"
    }
   ],
   "source": [
    "len(df_train), len(set(df_train.title)), len(set(df_train.category.apply(tuple)))"
   ]
  },
  {
   "cell_type": "code",
   "execution_count": 4,
   "metadata": {},
   "outputs": [
    {
     "data": {
      "text/plain": [
       "(123691, 121505, 5291)"
      ]
     },
     "execution_count": 4,
     "metadata": {},
     "output_type": "execute_result"
    }
   ],
   "source": [
    "len(df_val), len(set(df_val.title)), len(set(df_val.category.apply(tuple)))"
   ]
  },
  {
   "cell_type": "code",
   "execution_count": 5,
   "metadata": {},
   "outputs": [
    {
     "data": {
      "text/plain": [
       "(130436, 128169, 5291)"
      ]
     },
     "execution_count": 5,
     "metadata": {},
     "output_type": "execute_result"
    }
   ],
   "source": [
    "len(df_test), len(set(df_test.title)), len(set(df_test.category.apply(tuple)))"
   ]
  },
  {
   "cell_type": "code",
   "execution_count": 6,
   "metadata": {},
   "outputs": [
    {
     "data": {
      "text/plain": [
       "(403244, 389406)"
      ]
     },
     "execution_count": 6,
     "metadata": {},
     "output_type": "execute_result"
    }
   ],
   "source": [
    "df_all = pd.concat([df_train, df_val, df_test])\n",
    "len(df_all), len(set(df_all.title))"
   ]
  },
  {
   "cell_type": "code",
   "execution_count": 7,
   "metadata": {},
   "outputs": [
    {
     "data": {
      "text/plain": [
       "76.21319221319222"
      ]
     },
     "execution_count": 7,
     "metadata": {},
     "output_type": "execute_result"
    }
   ],
   "source": [
    "len(df_all) / len(set(df_all.category.apply(tuple)))"
   ]
  },
  {
   "cell_type": "code",
   "execution_count": 8,
   "metadata": {},
   "outputs": [
    {
     "data": {
      "text/plain": [
       "[{'text': 'Bathtub with Whirlpool System and Center Drain, White -> [home improvement][bathroom fixtures][bathtubs & whirlpools]'},\n",
       " {'text': 'Digital Battery Pack with LCD Display, 12000mAh Capacity, Dual USB Ports for iPhone, iPad, Samsung, HTC, and More -> [consumer electronics][power source][batteries][digital batteries]'},\n",
       " {'text': '1 Pc Automatic LED Light Dimmer For Home Decoration -> [home improvement][lights & lighting][lighting accessories][dimmers]'},\n",
       " {'text': 'Shower Wall Mounting Brackets -> [home improvement][bathroom fixtures][shower equipment][shower mounting brackets]'},\n",
       " {'text': 'Unique Coffee Set - Beautiful Design - Best Quality -> [home & garden][kitchen,dining & bar][coffeeware][coffeeware sets]'},\n",
       " {'text': 'WARM LED OUTDOOR LANDSCAPE LIGHTING -> [home improvement][lights & lighting][led lamps][led lawn lamps]'},\n",
       " {'text': 'MP3 Portable HiFi Cylinder Loud speaker with Rechargeable Battery, acrylic paint surface -> [consumer electronics][portable audio & video][cd player]'},\n",
       " {'text': 'SUNCOO Solar Power Meter Solar Panel Tester Photovoltaic System Meter USB Tester -> [tools][measurement & analysis instruments][electrical instruments][solar power meters]'},\n",
       " {'text': 'High Quality Lock Set - 2 Keys Included! -> [home improvement][hardware][hasps & locks][locks]'},\n",
       " {'text': 'Camping & Hiking Protective Eyewear -> [sports][camping & hiking][hiking eyewears]'}]"
      ]
     },
     "execution_count": 8,
     "metadata": {},
     "output_type": "execute_result"
    }
   ],
   "source": [
    "df_train[['text']].sample(10).to_dict('records')"
   ]
  },
  {
   "cell_type": "code",
   "execution_count": 11,
   "metadata": {},
   "outputs": [
    {
     "data": {
      "text/plain": [
       "[{'title': 'Tub for Two: Luxury Oversized Whirlpool Bathtub for Relaxation and Romance'},\n",
       " {'title': 'Bathtub Spa Jet, Hydrotherapy Spa Whirlpool System with Air Spa and waterfall, 6 Jets'},\n",
       " {'title': 'Bathtub With Whirlpool Feature-White'},\n",
       " {'title': 'Walking-in Bathtub with Air Bubble Massage function'},\n",
       " {'title': 'American Standard 2771VC.002 Evolution 5-Feet by 36-Inch Deep Soak Bathtub with Dual Molded-In Arm Rests and Right Hand Drain, White'},\n",
       " {'title': \"Porcelain Clawfoot Bathtub - Vintage Stand Alone Bathroom Soaking Tub - Classic White Relaxing Spa (69'')\"},\n",
       " {'title': '56 inch White Rectangle Acrylic Freestanding Bathtub'},\n",
       " {'title': ' two person large whirlpool bathtub with tub filler faucet and led lights'},\n",
       " {'title': 'Bathtub With Bubbles!'},\n",
       " {'title': ' Jacuzzi Primo White Acrylic Whirlpool Bathtub with 10 Water Jets'},\n",
       " {'title': 'Bathtub with Whirlpool Feature'},\n",
       " {'title': 'Bathtub Whirlpool Home Improvement Fixtures Bathrooms Tubs'},\n",
       " {'title': 'Bathtubs and Whirlpools Collection'},\n",
       " {'title': 'Stylish White Modern Bathtub for Relaxation and Home Improvement'},\n",
       " {'title': ' 54in Rectangle Drop-in soaking Bathtub with Center Drain and Faucet Drillings - White Glossy Finished'},\n",
       " {'title': 'Bathtub'},\n",
       " {'title': 'Bathroom Fixtures---Bathtubs & Whirlpools'},\n",
       " {'title': 'personality bathtub'},\n",
       " {'title': 'Bathing Like a Royal: Clawfoot Bathtub'},\n",
       " {'title': 'Cozy 2-Person Indoor Whirlpool Tub with 16 Bubble Jets'},\n",
       " {'title': 'Bathtub with Bubble Massage'},\n",
       " {'title': 'Soaking in Style: Wooden Bathtub with Whirlpool System'},\n",
       " {'title': 'Bathtub for Two with Chromatherapy and Whirlpool Massage'},\n",
       " {'title': 'Bathtub with whirlpool function perfect for a spa experience in your own home.'},\n",
       " {'title': 'Bathtub with Whirlpool System and Center Drain, White'},\n",
       " {'title': 'Best Whirlpool Tubs for Relaxing Soaks'},\n",
       " {'title': 'Bathtub with Whirlpool Function. Luxury Design. Made of Heavy Duty Acrylic.'},\n",
       " {'title': 'Bathtub for Two with Bubble Massage Jacuzzi'}]"
      ]
     },
     "execution_count": 11,
     "metadata": {},
     "output_type": "execute_result"
    }
   ],
   "source": [
    "df_train[df_train.category.apply(tuple) == ('home improvement', 'bathroom fixtures','bathtubs & whirlpools')][['title']].to_dict('records')"
   ]
  },
  {
   "cell_type": "code",
   "execution_count": null,
   "metadata": {},
   "outputs": [],
   "source": []
  }
 ],
 "metadata": {
  "kernelspec": {
   "display_name": "Python 3.8.13 64-bit",
   "language": "python",
   "name": "python3"
  },
  "language_info": {
   "codemirror_mode": {
    "name": "ipython",
    "version": 3
   },
   "file_extension": ".py",
   "mimetype": "text/x-python",
   "name": "python",
   "nbconvert_exporter": "python",
   "pygments_lexer": "ipython3",
   "version": "3.8.13"
  },
  "orig_nbformat": 4,
  "vscode": {
   "interpreter": {
    "hash": "949777d72b0d2535278d3dc13498b2535136f6dfe0678499012e853ee9abcab1"
   }
  }
 },
 "nbformat": 4,
 "nbformat_minor": 2
}
