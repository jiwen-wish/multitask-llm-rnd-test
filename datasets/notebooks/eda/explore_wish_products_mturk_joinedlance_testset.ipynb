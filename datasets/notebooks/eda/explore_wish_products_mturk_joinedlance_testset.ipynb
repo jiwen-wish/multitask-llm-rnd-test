{
 "cells": [
  {
   "cell_type": "code",
   "execution_count": 1,
   "metadata": {},
   "outputs": [],
   "source": [
    "import pandas as pd"
   ]
  },
  {
   "cell_type": "code",
   "execution_count": 2,
   "metadata": {},
   "outputs": [],
   "source": [
    "df = pd.read_json('../../data/wish_products/wish-mturk-labelled-09202022-clean-joinedlance.json', lines=True)"
   ]
  },
  {
   "cell_type": "code",
   "execution_count": 18,
   "metadata": {},
   "outputs": [
    {
     "name": "stdout",
     "output_type": "stream",
     "text": [
      "Depth: 0\n",
      "Size:  6401\n",
      "# Unique Targets 25\n",
      "ACC:  0.8042493360412436\n",
      "----------------------------------------------------------------------------------------------------\n",
      "Depth: 1\n",
      "Size:  6401\n",
      "# Unique Targets 203\n",
      "ACC:  0.6231838775191376\n",
      "----------------------------------------------------------------------------------------------------\n",
      "Depth: 2\n",
      "Size:  6401\n",
      "# Unique Targets 868\n",
      "ACC:  0.5063271363849399\n",
      "----------------------------------------------------------------------------------------------------\n",
      "Depth: 3\n",
      "Size:  2475\n",
      "# Unique Targets 869\n",
      "ACC:  0.4\n",
      "----------------------------------------------------------------------------------------------------\n",
      "Depth: 4\n",
      "Size:  27\n",
      "# Unique Targets 18\n",
      "ACC:  0.4074074074074074\n",
      "----------------------------------------------------------------------------------------------------\n"
     ]
    }
   ],
   "source": [
    "for depth in range(7):\n",
    "    tmp = df[df.category.apply(len) > depth]\n",
    "    if len(tmp) > 0:\n",
    "        print('Depth:', depth)\n",
    "        print('Size: ', len(tmp))\n",
    "        print('# Unique Targets', len(set(tmp.category.apply(lambda x: ''.join(x[:depth+1])))))\n",
    "        print('ACC: ', (tmp.category.apply(lambda x: ''.join(x[:depth+1])) == \\\n",
    "            tmp.lance_predicted_category.apply(lambda x: ''.join(x[:depth+1]) if len(x) > depth else None)).mean())\n",
    "        print('-' * 100)"
   ]
  },
  {
   "cell_type": "code",
   "execution_count": null,
   "metadata": {},
   "outputs": [],
   "source": []
  }
 ],
 "metadata": {
  "kernelspec": {
   "display_name": "Python 3.8.13 64-bit",
   "language": "python",
   "name": "python3"
  },
  "language_info": {
   "codemirror_mode": {
    "name": "ipython",
    "version": 3
   },
   "file_extension": ".py",
   "mimetype": "text/x-python",
   "name": "python",
   "nbconvert_exporter": "python",
   "pygments_lexer": "ipython3",
   "version": "3.8.13"
  },
  "orig_nbformat": 4,
  "vscode": {
   "interpreter": {
    "hash": "949777d72b0d2535278d3dc13498b2535136f6dfe0678499012e853ee9abcab1"
   }
  }
 },
 "nbformat": 4,
 "nbformat_minor": 2
}
