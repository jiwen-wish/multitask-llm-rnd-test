{
 "cells": [
  {
   "cell_type": "code",
   "execution_count": 1,
   "metadata": {},
   "outputs": [],
   "source": [
    "import pandas as pd\n",
    "from collections import Counter\n",
    "from tqdm import tqdm\n",
    "import numpy as np\n",
    "import matplotlib.pyplot as plt"
   ]
  },
  {
   "cell_type": "code",
   "execution_count": 2,
   "metadata": {},
   "outputs": [],
   "source": [
    "df_train = pd.read_json('../../data/aliexpress/Aliexpress_Meta_Train.json', lines=True)\n",
    "df_test = pd.read_json('../../data/aliexpress/Aliexpress_Meta_Test.json', lines=True)"
   ]
  },
  {
   "cell_type": "code",
   "execution_count": 3,
   "metadata": {},
   "outputs": [
    {
     "data": {
      "text/plain": [
       "(array([ 278677.,       0.,       0., 5220458.,       0.,       0.,\n",
       "        7037912.,       0.,       0.,  160699.]),\n",
       " array([2. , 2.3, 2.6, 2.9, 3.2, 3.5, 3.8, 4.1, 4.4, 4.7, 5. ]),\n",
       " <BarContainer object of 10 artists>)"
      ]
     },
     "execution_count": 3,
     "metadata": {},
     "output_type": "execute_result"
    },
    {
     "data": {
      "image/png": "[encoded data removed]",
      "text/plain": [
       "<Figure size 640x480 with 1 Axes>"
      ]
     },
     "metadata": {},
     "output_type": "display_data"
    }
   ],
   "source": [
    "plt.hist(df_train.category.apply(len))"
   ]
  },
  {
   "cell_type": "code",
   "execution_count": 4,
   "metadata": {},
   "outputs": [
    {
     "data": {
      "text/plain": [
       "[('Home & Garden', 2448287),\n",
       " ('Automobiles & Motorcycles', 1523034),\n",
       " ('Sports & Entertainment', 1330039),\n",
       " ('Home Improvement', 1173212),\n",
       " ('Beauty & Health', 802416),\n",
       " ('Consumer Electronics', 685978),\n",
       " ('Auto Replacement Parts', 685384),\n",
       " ('Kitchen,Dining & Bar', 641776),\n",
       " ('Tools', 580417),\n",
       " ('Mother & Kids', 559270)]"
      ]
     },
     "execution_count": 4,
     "metadata": {},
     "output_type": "execute_result"
    }
   ],
   "source": [
    "tmp = df_train.category.tolist()\n",
    "tmp = [j for i in tmp for j in i]\n",
    "tmp = Counter(tmp)\n",
    "tmp.most_common(10)"
   ]
  },
  {
   "cell_type": "code",
   "execution_count": 5,
   "metadata": {},
   "outputs": [
    {
     "data": {
      "text/plain": [
       "{'# products': 12697746,\n",
       " '# category paths': 5294,\n",
       " '# category nodes': 5652,\n",
       " 'avg path length': 3.5576291256731705}"
      ]
     },
     "execution_count": 5,
     "metadata": {},
     "output_type": "execute_result"
    }
   ],
   "source": [
    "{\n",
    "    '# products': len(df_train),\n",
    "    '# category paths': len(set(df_train.category.apply(tuple))),\n",
    "    '# category nodes': len(set([j for i in df_train.to_dict('records') for j in i['category']])),\n",
    "    'avg path length': df_train.category.apply(len).mean()\n",
    "}"
   ]
  },
  {
   "cell_type": "code",
   "execution_count": 6,
   "metadata": {},
   "outputs": [
    {
     "data": {
      "text/plain": [
       "{'# l1 nodes': 26, '# l2 nodes': 328, '# l3 nodes': 2286, '# l4 nodes': 3030}"
      ]
     },
     "execution_count": 6,
     "metadata": {},
     "output_type": "execute_result"
    }
   ],
   "source": [
    "{\n",
    "    '# l1 nodes': len(set(df_train.category.apply(lambda x: x[0] if len(x) > 0 else ''))),\n",
    "    '# l2 nodes': len(set(df_train.category.apply(lambda x: x[1] if len(x) > 1 else ''))),\n",
    "    '# l3 nodes': len(set(df_train.category.apply(lambda x: x[2] if len(x) > 2 else ''))),\n",
    "    '# l4 nodes': len(set(df_train.category.apply(lambda x: x[3] if len(x) > 3 else ''))),\n",
    "}"
   ]
  },
  {
   "cell_type": "code",
   "execution_count": 7,
   "metadata": {},
   "outputs": [],
   "source": [
    "df_train_paths = set(df_train.category.apply(tuple))\n",
    "df_test_paths = set(df_test.category.apply(tuple))"
   ]
  },
  {
   "cell_type": "code",
   "execution_count": 8,
   "metadata": {},
   "outputs": [
    {
     "data": {
      "text/plain": [
       "1.0"
      ]
     },
     "execution_count": 8,
     "metadata": {},
     "output_type": "execute_result"
    }
   ],
   "source": [
    "len(df_test_paths.intersection(df_train_paths)) / len(df_test_paths)"
   ]
  },
  {
   "cell_type": "code",
   "execution_count": 9,
   "metadata": {},
   "outputs": [
    {
     "data": {
      "text/plain": [
       "0.9865885908575747"
      ]
     },
     "execution_count": 9,
     "metadata": {},
     "output_type": "execute_result"
    }
   ],
   "source": [
    "len(df_test_paths.intersection(df_train_paths)) / len(df_train_paths)"
   ]
  },
  {
   "cell_type": "code",
   "execution_count": 10,
   "metadata": {},
   "outputs": [
    {
     "data": {
      "text/plain": [
       "[{'title': '#1PC dogTag Disc Disk Grey Schnauzer Pet ID Enamel Accessories Collar Necklace Pendant NEW dog tag collier chien arnes perro F10',\n",
       "  'category': ['Home & Garden',\n",
       "   'Pet Products',\n",
       "   'Dog Collars & Leads',\n",
       "   'ID Tags'],\n",
       "  'text': '#1PC dogTag Disc Disk Grey Schnauzer Pet ID Enamel Accessories Collar Necklace Pendant NEW dog tag collier chien arnes perro F10 -> [home & garden][pet products][dog collars & leads][id tags]'},\n",
       " {'title': 'SMD LED SEOUL Diode 5000K 3535 150PCS M1 5W 2700K SZ5M2 3V-4.0V1500MA',\n",
       "  'category': ['Home Improvement',\n",
       "   'Lights & Lighting',\n",
       "   'Lighting Accessories',\n",
       "   'Light Beads'],\n",
       "  'text': 'SMD LED SEOUL Diode 5000K 3535 150PCS M1 5W 2700K SZ5M2 3V-4.0V1500MA -> [home improvement][lights & lighting][lighting accessories][light beads]'},\n",
       " {'title': 'QC 3.0 USB To 5V-12V Adjustable Voltage Step Up 5.5x2.1mm Cable Power Boost Line For WiFi Router LED Strip 12V Device G8TA',\n",
       "  'category': ['Consumer Electronics', 'Video Games', 'Power Supplys'],\n",
       "  'text': 'QC 3.0 USB To 5V-12V Adjustable Voltage Step Up 5.5x2.1mm Cable Power Boost Line For WiFi Router LED Strip 12V Device G8TA -> [consumer electronics][video games][power supplys]'},\n",
       " {'title': '20-30cm Dragon Hunter Tigrex Gore Magala Claosaurus Electric Dragon Rathian Kushala Soft Plush Doll Xmas Gifts For Children',\n",
       "  'category': ['Toys & Hobbies', 'Stuffed Animals & Plush', 'Movies & TV'],\n",
       "  'text': '20-30cm Dragon Hunter Tigrex Gore Magala Claosaurus Electric Dragon Rathian Kushala Soft Plush Doll Xmas Gifts For Children -> [toys & hobbies][stuffed animals & plush][movies & tv]'},\n",
       " {'title': 'Pads Foot-Insoles Cushions Orthopedic-Pad Foot-Pad-Feet Fabric-Gel Metatarsal-Ball Pain-Support',\n",
       "  'category': ['Beauty & Health',\n",
       "   'Health Care',\n",
       "   'Personal Health Care',\n",
       "   'Foot Care Tools'],\n",
       "  'text': 'Pads Foot-Insoles Cushions Orthopedic-Pad Foot-Pad-Feet Fabric-Gel Metatarsal-Ball Pain-Support -> [beauty & health][health care][personal health care][foot care tools]'},\n",
       " {'title': 'Non-slip Massage Bed Sheet Pad for Salon Beauty Spa Sauna with Face Breath Hole',\n",
       "  'category': ['Beauty & Health',\n",
       "   'Health Care',\n",
       "   'Massage & Relaxation',\n",
       "   'Massage Cushion'],\n",
       "  'text': 'Non-slip Massage Bed Sheet Pad for Salon Beauty Spa Sauna with Face Breath Hole -> [beauty & health][health care][massage & relaxation][massage cushion]'},\n",
       " {'title': 'New original 5PCS/Lot MGF65A6H or MGF65A3H or MGF65A3L TO-3P 60A 600V Power IGBT Transistor',\n",
       "  'category': ['Consumer Electronics',\n",
       "   'Accessories & Parts',\n",
       "   'Digital Cables',\n",
       "   'Cable Tools'],\n",
       "  'text': 'New original 5PCS/Lot MGF65A6H or MGF65A3H or MGF65A3L TO-3P 60A 600V Power IGBT Transistor -> [consumer electronics][accessories & parts][digital cables][cable tools]'},\n",
       " {'title': 'Portable Inflatable Sofa Household Outdoor Transparent PVC Sequins Pure Color Modern Simplicity Thicken 90kg Bearing Sofa Chair',\n",
       "  'category': ['Sports & Entertainment',\n",
       "   'Camping & Hiking',\n",
       "   'Camp Sleeping Gear',\n",
       "   'Sleeping Bags'],\n",
       "  'text': 'Portable Inflatable Sofa Household Outdoor Transparent PVC Sequins Pure Color Modern Simplicity Thicken 90kg Bearing Sofa Chair -> [sports & entertainment][camping & hiking][camp sleeping gear][sleeping bags]'},\n",
       " {'title': 'Kangaroo-Jacket Pregnant-Woman Maternity Winter for Thicken Fleece Coat Carrier Outerwear',\n",
       "  'category': ['Mother & Kids',\n",
       "   'Pregnancy & Maternity',\n",
       "   'Maternity Clothing',\n",
       "   'Coats'],\n",
       "  'text': 'Kangaroo-Jacket Pregnant-Woman Maternity Winter for Thicken Fleece Coat Carrier Outerwear -> [mother & kids][pregnancy & maternity][maternity clothing][coats]'},\n",
       " {'title': 'Xmas Party Decor Christmas Snowflakes Decorations 3D Hollow Snowflake Paper Garland Winter Kerst White Christmas Decorations',\n",
       "  'category': ['Home & Garden',\n",
       "   'Festive & Party Supplies',\n",
       "   'Christmas',\n",
       "   'Artificial Snow & Snowflakes'],\n",
       "  'text': 'Xmas Party Decor Christmas Snowflakes Decorations 3D Hollow Snowflake Paper Garland Winter Kerst White Christmas Decorations -> [home & garden][festive & party supplies][christmas][artificial snow & snowflakes]'}]"
      ]
     },
     "execution_count": 10,
     "metadata": {},
     "output_type": "execute_result"
    }
   ],
   "source": [
    "df_train.sample(10).to_dict('records')"
   ]
  },
  {
   "cell_type": "code",
   "execution_count": null,
   "metadata": {},
   "outputs": [],
   "source": []
  }
 ],
 "metadata": {
  "kernelspec": {
   "display_name": "Python 3.8.13 64-bit",
   "language": "python",
   "name": "python3"
  },
  "language_info": {
   "codemirror_mode": {
    "name": "ipython",
    "version": 3
   },
   "file_extension": ".py",
   "mimetype": "text/x-python",
   "name": "python",
   "nbconvert_exporter": "python",
   "pygments_lexer": "ipython3",
   "version": "3.8.13"
  },
  "orig_nbformat": 4,
  "vscode": {
   "interpreter": {
    "hash": "949777d72b0d2535278d3dc13498b2535136f6dfe0678499012e853ee9abcab1"
   }
  }
 },
 "nbformat": 4,
 "nbformat_minor": 2
}
