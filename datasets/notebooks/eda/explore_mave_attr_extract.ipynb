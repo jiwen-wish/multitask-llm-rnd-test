{
 "cells": [
  {
   "cell_type": "code",
   "execution_count": 1,
   "metadata": {},
   "outputs": [],
   "source": [
    "import json \n",
    "import pandas as pd\n",
    "from tqdm import tqdm"
   ]
  },
  {
   "cell_type": "code",
   "execution_count": 2,
   "metadata": {},
   "outputs": [
    {
     "name": "stderr",
     "output_type": "stream",
     "text": [
      "20it [00:00, 25606.25it/s]\n"
     ]
    }
   ],
   "source": [
    "recs = []\n",
    "with open('../../data/mave_attr_extract/MAVE/labels/mave_positives_labels_sample.jsonl', 'r') as f:\n",
    "    for l in tqdm(f):\n",
    "        recs.append(json.loads(l))\n",
    "        if len(recs) <0:\n",
    "            break \n",
    "df_pos_sample = pd.DataFrame(recs)"
   ]
  },
  {
   "cell_type": "code",
   "execution_count": 2,
   "metadata": {},
   "outputs": [
    {
     "name": "stderr",
     "output_type": "stream",
     "text": [
      "2226509it [01:37, 22914.21it/s]\n",
      "1248009it [00:43, 28999.02it/s]\n"
     ]
    }
   ],
   "source": [
    "recs = []\n",
    "with open('../../data/mave_attr_extract/mave_positives.jsonl', 'r') as f:\n",
    "    for l in tqdm(f):\n",
    "        recs.append(json.loads(l))\n",
    "        if len(recs) <0:\n",
    "            break \n",
    "df_pos = pd.DataFrame(recs)\n",
    "\n",
    "recs = []\n",
    "with open('../../data/mave_attr_extract/mave_negatives.jsonl', 'r') as f:\n",
    "    for l in tqdm(f):\n",
    "        recs.append(json.loads(l))\n",
    "        if len(recs) <0:\n",
    "            break \n",
    "df_neg = pd.DataFrame(recs)\n"
   ]
  },
  {
   "cell_type": "code",
   "execution_count": 4,
   "metadata": {},
   "outputs": [
    {
     "data": {
      "text/plain": [
       "(2226509, 1248009)"
      ]
     },
     "execution_count": 4,
     "metadata": {},
     "output_type": "execute_result"
    }
   ],
   "source": [
    "len(df_pos), len(df_neg)"
   ]
  },
  {
   "cell_type": "code",
   "execution_count": 9,
   "metadata": {},
   "outputs": [
    {
     "data": {
      "text/plain": [
       "[{'id': 'B016ISOZQC',\n",
       "  'category': 'Dresses',\n",
       "  'paragraphs': [{'text': \"Taylor Dresses Women's High Low Lace Shirt Dress\",\n",
       "    'source': 'title'},\n",
       "   {'text': 'Taylor navy lace shirt dress. Button down front with long sleeves and a high low bottom hem.',\n",
       "    'source': 'description'},\n",
       "   {'text': '50% Cotton, 50% Nylon; Combo: 100% Polyester',\n",
       "    'source': 'feature'},\n",
       "   {'text': 'Imported', 'source': 'feature'},\n",
       "   {'text': 'Hand Wash', 'source': 'feature'},\n",
       "   {'text': 'Great for a date or dinner with friend', 'source': 'feature'},\n",
       "   {'text': 'Wear from desk to dinner', 'source': 'feature'},\n",
       "   {'text': 'Package Dimensions: 17.8 x 7.3 x 4.8 inches',\n",
       "    'source': 'feature'},\n",
       "   {'text': 'Shipping Weight: 1.1 pounds', 'source': 'feature'},\n",
       "   {'text': 'ASIN: B016ISOZQC', 'source': 'feature'},\n",
       "   {'text': 'Item model number: 7009M', 'source': 'feature'},\n",
       "   {'text': 'Date first listed on Amazon: December 14, 2015',\n",
       "    'source': 'feature'},\n",
       "   {'text': 'Average Customer Review: 5.0 out of 5 stars 1 customer review',\n",
       "    'source': 'feature'}],\n",
       "  'attributes': [{'key': 'Pattern', 'evidences': []}]},\n",
       " {'id': 'B011SA43ZI',\n",
       "  'category': 'Dresses',\n",
       "  'paragraphs': [{'text': \"kensie Women's Owls and Dots Dress\",\n",
       "    'source': 'title'},\n",
       "   {'text': 'A fun dress for the season ahead. Features owl and dot design, drop-waist, and tassels. Wear with a vest, tights, and boots to complete the look.',\n",
       "    'source': 'description'},\n",
       "   {'text': '100% Polyester', 'source': 'feature'},\n",
       "   {'text': 'Imported', 'source': 'feature'},\n",
       "   {'text': 'Hand Wash', 'source': 'feature'},\n",
       "   {'text': 'Drop-waist', 'source': 'feature'},\n",
       "   {'text': 'Owl and dot design', 'source': 'feature'},\n",
       "   {'text': 'Tassels at neck', 'source': 'feature'},\n",
       "   {'text': 'Package Dimensions: 1 x 1 x 1 inches', 'source': 'feature'},\n",
       "   {'text': 'Shipping Weight: 1 pounds ( View shipping rates and policies )',\n",
       "    'source': 'feature'},\n",
       "   {'text': 'ASIN: B011S9YUPM', 'source': 'feature'},\n",
       "   {'text': 'Item model number: KS9K7662', 'source': 'feature'},\n",
       "   {'text': 'Date first listed on Amazon: August 25, 2015',\n",
       "    'source': 'feature'},\n",
       "   {'text': 'Average Customer Review: 2.7 out of 5 stars 3 customer reviews',\n",
       "    'source': 'feature'},\n",
       "   {'text': '$13.93', 'source': 'price'}],\n",
       "  'attributes': [{'key': 'Neckline', 'evidences': []}]}]"
      ]
     },
     "execution_count": 9,
     "metadata": {},
     "output_type": "execute_result"
    }
   ],
   "source": [
    "df_neg[df_neg.category == 'Dresses'].sample(2).to_dict('records')"
   ]
  },
  {
   "cell_type": "code",
   "execution_count": 6,
   "metadata": {},
   "outputs": [
    {
     "data": {
      "text/html": [
       "<div>\n",
       "<style scoped>\n",
       "    .dataframe tbody tr th:only-of-type {\n",
       "        vertical-align: middle;\n",
       "    }\n",
       "\n",
       "    .dataframe tbody tr th {\n",
       "        vertical-align: top;\n",
       "    }\n",
       "\n",
       "    .dataframe thead th {\n",
       "        text-align: right;\n",
       "    }\n",
       "</style>\n",
       "<table border=\"1\" class=\"dataframe\">\n",
       "  <thead>\n",
       "    <tr style=\"text-align: right;\">\n",
       "      <th></th>\n",
       "      <th>id</th>\n",
       "      <th>category</th>\n",
       "      <th>paragraphs</th>\n",
       "      <th>attributes</th>\n",
       "    </tr>\n",
       "  </thead>\n",
       "  <tbody>\n",
       "    <tr>\n",
       "      <th>3</th>\n",
       "      <td>6319781610</td>\n",
       "      <td>Dresses</td>\n",
       "      <td>[{'text': 'Alion Women Classic Sexy Plunge V-N...</td>\n",
       "      <td>[{'key': 'Sleeve Style', 'evidences': []}]</td>\n",
       "    </tr>\n",
       "    <tr>\n",
       "      <th>23</th>\n",
       "      <td>9985445953</td>\n",
       "      <td>Dresses</td>\n",
       "      <td>[{'text': 'YONGM Women High Waisted Leisure Co...</td>\n",
       "      <td>[{'key': 'Sleeve Style', 'evidences': []}]</td>\n",
       "    </tr>\n",
       "    <tr>\n",
       "      <th>451</th>\n",
       "      <td>B0002MM91O</td>\n",
       "      <td>Dresses</td>\n",
       "      <td>[{'text': 'Sandra Darren Women's Short Sleeve ...</td>\n",
       "      <td>[{'key': 'Pattern', 'evidences': []}]</td>\n",
       "    </tr>\n",
       "    <tr>\n",
       "      <th>452</th>\n",
       "      <td>B0002MNYHC</td>\n",
       "      <td>Dresses</td>\n",
       "      <td>[{'text': 'Sandra Darren Women's Short-Sleeve ...</td>\n",
       "      <td>[{'key': 'Pattern', 'evidences': []}]</td>\n",
       "    </tr>\n",
       "    <tr>\n",
       "      <th>516</th>\n",
       "      <td>B0002V34RI</td>\n",
       "      <td>Dresses</td>\n",
       "      <td>[{'text': 'Japanese Weekend Women's Maternity ...</td>\n",
       "      <td>[{'key': 'Neckline', 'evidences': []}]</td>\n",
       "    </tr>\n",
       "    <tr>\n",
       "      <th>...</th>\n",
       "      <td>...</td>\n",
       "      <td>...</td>\n",
       "      <td>...</td>\n",
       "      <td>...</td>\n",
       "    </tr>\n",
       "    <tr>\n",
       "      <th>835511</th>\n",
       "      <td>B01H0H91FU</td>\n",
       "      <td>Dresses</td>\n",
       "      <td>[{'text': 'prAna Amelie Dress', 'source': 'tit...</td>\n",
       "      <td>[{'key': 'Length', 'evidences': []}]</td>\n",
       "    </tr>\n",
       "    <tr>\n",
       "      <th>835604</th>\n",
       "      <td>B01H2JU1J6</td>\n",
       "      <td>Dresses</td>\n",
       "      <td>[{'text': 'Royal Robbins Women's Flynn Dress',...</td>\n",
       "      <td>[{'key': 'Length', 'evidences': []}]</td>\n",
       "    </tr>\n",
       "    <tr>\n",
       "      <th>835610</th>\n",
       "      <td>B01H2OHZ9K</td>\n",
       "      <td>Dresses</td>\n",
       "      <td>[{'text': 'Royal Robbins Women's Noe Dress', '...</td>\n",
       "      <td>[{'key': 'Pattern', 'evidences': []}]</td>\n",
       "    </tr>\n",
       "    <tr>\n",
       "      <th>1040778</th>\n",
       "      <td>B00JDBIX4W</td>\n",
       "      <td>Dresses</td>\n",
       "      <td>[{'text': 'Girl's Summer Wear Peppa Pig Lace D...</td>\n",
       "      <td>[{'key': 'Shoulder Style', 'evidences': []}]</td>\n",
       "    </tr>\n",
       "    <tr>\n",
       "      <th>1231174</th>\n",
       "      <td>B00AGWRGM2</td>\n",
       "      <td>Dresses</td>\n",
       "      <td>[{'text': 'Blackish Green Flannel Embroidery L...</td>\n",
       "      <td>[{'key': 'Length', 'evidences': []}]</td>\n",
       "    </tr>\n",
       "  </tbody>\n",
       "</table>\n",
       "<p>22258 rows × 4 columns</p>\n",
       "</div>"
      ],
      "text/plain": [
       "                 id category  \\\n",
       "3        6319781610  Dresses   \n",
       "23       9985445953  Dresses   \n",
       "451      B0002MM91O  Dresses   \n",
       "452      B0002MNYHC  Dresses   \n",
       "516      B0002V34RI  Dresses   \n",
       "...             ...      ...   \n",
       "835511   B01H0H91FU  Dresses   \n",
       "835604   B01H2JU1J6  Dresses   \n",
       "835610   B01H2OHZ9K  Dresses   \n",
       "1040778  B00JDBIX4W  Dresses   \n",
       "1231174  B00AGWRGM2  Dresses   \n",
       "\n",
       "                                                paragraphs  \\\n",
       "3        [{'text': 'Alion Women Classic Sexy Plunge V-N...   \n",
       "23       [{'text': 'YONGM Women High Waisted Leisure Co...   \n",
       "451      [{'text': 'Sandra Darren Women's Short Sleeve ...   \n",
       "452      [{'text': 'Sandra Darren Women's Short-Sleeve ...   \n",
       "516      [{'text': 'Japanese Weekend Women's Maternity ...   \n",
       "...                                                    ...   \n",
       "835511   [{'text': 'prAna Amelie Dress', 'source': 'tit...   \n",
       "835604   [{'text': 'Royal Robbins Women's Flynn Dress',...   \n",
       "835610   [{'text': 'Royal Robbins Women's Noe Dress', '...   \n",
       "1040778  [{'text': 'Girl's Summer Wear Peppa Pig Lace D...   \n",
       "1231174  [{'text': 'Blackish Green Flannel Embroidery L...   \n",
       "\n",
       "                                           attributes  \n",
       "3          [{'key': 'Sleeve Style', 'evidences': []}]  \n",
       "23         [{'key': 'Sleeve Style', 'evidences': []}]  \n",
       "451             [{'key': 'Pattern', 'evidences': []}]  \n",
       "452             [{'key': 'Pattern', 'evidences': []}]  \n",
       "516            [{'key': 'Neckline', 'evidences': []}]  \n",
       "...                                               ...  \n",
       "835511           [{'key': 'Length', 'evidences': []}]  \n",
       "835604           [{'key': 'Length', 'evidences': []}]  \n",
       "835610          [{'key': 'Pattern', 'evidences': []}]  \n",
       "1040778  [{'key': 'Shoulder Style', 'evidences': []}]  \n",
       "1231174          [{'key': 'Length', 'evidences': []}]  \n",
       "\n",
       "[22258 rows x 4 columns]"
      ]
     },
     "execution_count": 6,
     "metadata": {},
     "output_type": "execute_result"
    }
   ],
   "source": [
    "df_neg[df_neg.category == 'Dresses']"
   ]
  },
  {
   "cell_type": "code",
   "execution_count": 5,
   "metadata": {},
   "outputs": [],
   "source": [
    "df_pos['attr_vals'] = df_pos['attributes'].apply(lambda x: [(i['key'].strip().lower(), j['value'].strip().lower()) for i in x for j in i['evidences']])"
   ]
  },
  {
   "cell_type": "code",
   "execution_count": 6,
   "metadata": {},
   "outputs": [],
   "source": [
    "df_neg['attr_vals'] = df_neg['attributes'].apply(lambda x: [(i['key'].strip().lower(),j.strip().lower()) for i in x for j in (i['evidences'] + [\"\"])])"
   ]
  },
  {
   "cell_type": "code",
   "execution_count": 7,
   "metadata": {},
   "outputs": [],
   "source": [
    "from collections import defaultdict"
   ]
  },
  {
   "cell_type": "code",
   "execution_count": 8,
   "metadata": {},
   "outputs": [],
   "source": [
    "cat_attr_val_cnt_pos = defaultdict(lambda: defaultdict(lambda: defaultdict(int)))"
   ]
  },
  {
   "cell_type": "code",
   "execution_count": 9,
   "metadata": {},
   "outputs": [],
   "source": [
    "for i in df_pos.to_dict('records'):\n",
    "    for j in i['attr_vals']:\n",
    "        cat_attr_val_cnt_pos[i['category'].lower().strip()][j[0]][j[1]] += 1"
   ]
  },
  {
   "cell_type": "code",
   "execution_count": 10,
   "metadata": {},
   "outputs": [],
   "source": [
    "cat_attr_val_cnt_neg = defaultdict(lambda: defaultdict(lambda: defaultdict(int)))"
   ]
  },
  {
   "cell_type": "code",
   "execution_count": 11,
   "metadata": {},
   "outputs": [],
   "source": [
    "for i in df_neg.to_dict('records'):\n",
    "    for j in i['attr_vals']:\n",
    "        cat_attr_val_cnt_neg[i['category'].lower().strip()][j[0]][j[1]] += 1"
   ]
  },
  {
   "cell_type": "code",
   "execution_count": 12,
   "metadata": {},
   "outputs": [
    {
     "data": {
      "text/plain": [
       "1257"
      ]
     },
     "execution_count": 12,
     "metadata": {},
     "output_type": "execute_result"
    }
   ],
   "source": [
    "len(set([(i,) for i in cat_attr_val_cnt_pos for j in cat_attr_val_cnt_pos[i] for k in cat_attr_val_cnt_pos[i][j]]))"
   ]
  },
  {
   "cell_type": "code",
   "execution_count": 13,
   "metadata": {},
   "outputs": [
    {
     "data": {
      "text/plain": [
       "705"
      ]
     },
     "execution_count": 13,
     "metadata": {},
     "output_type": "execute_result"
    }
   ],
   "source": [
    "len(set([(j,) for i in cat_attr_val_cnt_pos for j in cat_attr_val_cnt_pos[i] for k in cat_attr_val_cnt_pos[i][j]]))"
   ]
  },
  {
   "cell_type": "code",
   "execution_count": 14,
   "metadata": {},
   "outputs": [
    {
     "data": {
      "text/plain": [
       "2535"
      ]
     },
     "execution_count": 14,
     "metadata": {},
     "output_type": "execute_result"
    }
   ],
   "source": [
    "len(set([(i,j) for i in cat_attr_val_cnt_pos for j in cat_attr_val_cnt_pos[i] for k in cat_attr_val_cnt_pos[i][j]]))"
   ]
  },
  {
   "cell_type": "code",
   "execution_count": 15,
   "metadata": {},
   "outputs": [
    {
     "data": {
      "text/plain": [
       "97627"
      ]
     },
     "execution_count": 15,
     "metadata": {},
     "output_type": "execute_result"
    }
   ],
   "source": [
    "len(set([(i,j,k) for i in cat_attr_val_cnt_pos for j in cat_attr_val_cnt_pos[i] for k in cat_attr_val_cnt_pos[i][j]]))"
   ]
  },
  {
   "cell_type": "code",
   "execution_count": 16,
   "metadata": {},
   "outputs": [
    {
     "data": {
      "text/plain": [
       "1114"
      ]
     },
     "execution_count": 16,
     "metadata": {},
     "output_type": "execute_result"
    }
   ],
   "source": [
    "len(set([(i,) for i in cat_attr_val_cnt_neg for j in cat_attr_val_cnt_neg[i] for k in cat_attr_val_cnt_neg[i][j]]))"
   ]
  },
  {
   "cell_type": "code",
   "execution_count": 17,
   "metadata": {},
   "outputs": [
    {
     "data": {
      "text/plain": [
       "693"
      ]
     },
     "execution_count": 17,
     "metadata": {},
     "output_type": "execute_result"
    }
   ],
   "source": [
    "len(set([(j,) for i in cat_attr_val_cnt_neg for j in cat_attr_val_cnt_neg[i] for k in cat_attr_val_cnt_neg[i][j]]))"
   ]
  },
  {
   "cell_type": "code",
   "execution_count": 18,
   "metadata": {},
   "outputs": [
    {
     "data": {
      "text/plain": [
       "2305"
      ]
     },
     "execution_count": 18,
     "metadata": {},
     "output_type": "execute_result"
    }
   ],
   "source": [
    "len(set([(i,j) for i in cat_attr_val_cnt_neg for j in cat_attr_val_cnt_neg[i] for k in cat_attr_val_cnt_neg[i][j]]))"
   ]
  },
  {
   "cell_type": "code",
   "execution_count": 19,
   "metadata": {},
   "outputs": [
    {
     "data": {
      "text/plain": [
       "2305"
      ]
     },
     "execution_count": 19,
     "metadata": {},
     "output_type": "execute_result"
    }
   ],
   "source": [
    "len(set([(i,j,k) for i in cat_attr_val_cnt_neg for j in cat_attr_val_cnt_neg[i] for k in cat_attr_val_cnt_neg[i][j]]))"
   ]
  },
  {
   "cell_type": "code",
   "execution_count": 20,
   "metadata": {},
   "outputs": [],
   "source": [
    "from thefuzz import process as fuzz_process"
   ]
  },
  {
   "cell_type": "code",
   "execution_count": 21,
   "metadata": {},
   "outputs": [],
   "source": [
    "similar_vals_mapper = defaultdict(lambda: defaultdict(lambda: defaultdict(lambda: defaultdict(list))))"
   ]
  },
  {
   "cell_type": "code",
   "execution_count": 22,
   "metadata": {},
   "outputs": [
    {
     "name": "stderr",
     "output_type": "stream",
     "text": [
      "100%|██████████| 2226509/2226509 [00:21<00:00, 104982.07it/s]\n"
     ]
    }
   ],
   "source": [
    "match_errors = []\n",
    "match_success = []\n",
    "match_sources = []\n",
    "recs = []\n",
    "for i in tqdm(df_pos.to_dict('records')):\n",
    "    has_error = False\n",
    "    for a in i['attributes']:\n",
    "        for v in a['evidences']:\n",
    "            qa_model_extracted_text = i['paragraphs'][v['pid']]['text'][v['begin']: v['end']]\n",
    "            normalized_value = v['value']\n",
    "            match_sources.append((i['id'], i['category'], a['key'], v['value'], i['paragraphs'][v['pid']]['source'], normalized_value))\n",
    "            if normalized_value != qa_model_extracted_text:\n",
    "                match_errors.append((i['id'], i['category'], a['key'], v['pid'], normalized_value, qa_model_extracted_text))\n",
    "                has_error = True\n",
    "            else:\n",
    "                match_success.append((i['id'], i['category'], a['key'], v['pid'], normalized_value, qa_model_extracted_text))\n",
    "    if not has_error:\n",
    "        recs.append(i)\n",
    "df_pos_correct = pd.DataFrame(recs)"
   ]
  },
  {
   "cell_type": "code",
   "execution_count": 23,
   "metadata": {},
   "outputs": [
    {
     "data": {
      "text/plain": [
       "(564, 8630742)"
      ]
     },
     "execution_count": 23,
     "metadata": {},
     "output_type": "execute_result"
    }
   ],
   "source": [
    "len(match_errors), len(match_success)"
   ]
  },
  {
   "cell_type": "code",
   "execution_count": 24,
   "metadata": {},
   "outputs": [
    {
     "data": {
      "text/plain": [
       "6.534352970454298e-05"
      ]
     },
     "execution_count": 24,
     "metadata": {},
     "output_type": "execute_result"
    }
   ],
   "source": [
    "len(match_errors) / (len(match_success) + len(match_errors))"
   ]
  },
  {
   "cell_type": "code",
   "execution_count": 25,
   "metadata": {},
   "outputs": [
    {
     "data": {
      "text/plain": [
       "0.9999505953041286"
      ]
     },
     "execution_count": 25,
     "metadata": {},
     "output_type": "execute_result"
    }
   ],
   "source": [
    "len(df_pos_correct) / len(df_pos)"
   ]
  },
  {
   "cell_type": "code",
   "execution_count": 26,
   "metadata": {},
   "outputs": [
    {
     "data": {
      "text/plain": [
       "[('6342506256',\n",
       "  'Shorts',\n",
       "  'Pattern',\n",
       "  'Camo Cargo Shorts',\n",
       "  'title',\n",
       "  'Camo Cargo Shorts'),\n",
       " ('6342509379', 'Pants', 'Fit', 'Loose Pants', 'title', 'Loose Pants'),\n",
       " ('6342522898', 'Dresses', 'Length', 'Mini', 'title', 'Mini'),\n",
       " ('6319781610', 'Dresses', 'Neckline', 'V-Neck', 'title', 'V-Neck'),\n",
       " ('6342502943', 'Pants', 'Fit', 'Loose', 'title', 'Loose'),\n",
       " ('6342502943', 'Pants', 'Fit', 'loose', 'description', 'loose'),\n",
       " ('6342502943', 'Pants', 'Fit', 'loose', 'description', 'loose'),\n",
       " ('6342502943', 'Pants', 'Fit', 'Loose', 'feature', 'Loose'),\n",
       " ('6318962387', 'Pants', 'Rise', 'Mid Rise', 'title', 'Mid Rise'),\n",
       " ('6318962387',\n",
       "  'Pants',\n",
       "  'Fit',\n",
       "  'Skinny Stretch Tights Pencil Pants',\n",
       "  'title',\n",
       "  'Skinny Stretch Tights Pencil Pants')]"
      ]
     },
     "execution_count": 26,
     "metadata": {},
     "output_type": "execute_result"
    }
   ],
   "source": [
    "match_sources[:10]"
   ]
  },
  {
   "cell_type": "code",
   "execution_count": 27,
   "metadata": {},
   "outputs": [
    {
     "data": {
      "text/plain": [
       "Counter({'title': 2869157,\n",
       "         'description': 3625166,\n",
       "         'feature': 2024606,\n",
       "         'brand': 112279,\n",
       "         'price': 98})"
      ]
     },
     "execution_count": 27,
     "metadata": {},
     "output_type": "execute_result"
    }
   ],
   "source": [
    "from collections import Counter\n",
    "Counter(i[-2] for i in match_sources)"
   ]
  },
  {
   "cell_type": "code",
   "execution_count": 28,
   "metadata": {},
   "outputs": [],
   "source": [
    "df_match_sources = pd.DataFrame(match_sources, columns=['id', 'cat', 'attr', 'val', 'source', 'evidence'])"
   ]
  },
  {
   "cell_type": "code",
   "execution_count": 29,
   "metadata": {},
   "outputs": [],
   "source": [
    "tmp = df_match_sources.groupby('id').agg({\n",
    "    'source': lambda x: [i for i in x],\n",
    "    'val': lambda x: [i for i in x]\n",
    "}).reset_index()"
   ]
  },
  {
   "cell_type": "code",
   "execution_count": 30,
   "metadata": {},
   "outputs": [
    {
     "name": "stderr",
     "output_type": "stream",
     "text": [
      "100%|██████████| 2226509/2226509 [00:12<00:00, 171791.93it/s]\n"
     ]
    }
   ],
   "source": [
    "recs = []\n",
    "for i in tqdm(tmp.to_dict('records')):\n",
    "    uniq_vals = {}\n",
    "    needed_s_v = []\n",
    "    for ind, (s, v) in enumerate(zip(i['source'], i['val'])):\n",
    "        v = v.lower().strip()\n",
    "        if v not in uniq_vals:\n",
    "            needed_s_v.append((ind, s, v))\n",
    "            uniq_vals[v] = 1\n",
    "    i['needed_source_value'] = needed_s_v\n",
    "    recs.append(i)\n",
    "tmp2 = pd.DataFrame(recs)"
   ]
  },
  {
   "cell_type": "code",
   "execution_count": 31,
   "metadata": {},
   "outputs": [],
   "source": [
    "tmp2['needed_source'] = tmp2.needed_source_value.apply(lambda x: tuple(set([i[1] for i in x])))"
   ]
  },
  {
   "cell_type": "code",
   "execution_count": 32,
   "metadata": {},
   "outputs": [
    {
     "data": {
      "text/html": [
       "<div>\n",
       "<style scoped>\n",
       "    .dataframe tbody tr th:only-of-type {\n",
       "        vertical-align: middle;\n",
       "    }\n",
       "\n",
       "    .dataframe tbody tr th {\n",
       "        vertical-align: top;\n",
       "    }\n",
       "\n",
       "    .dataframe thead th {\n",
       "        text-align: right;\n",
       "    }\n",
       "</style>\n",
       "<table border=\"1\" class=\"dataframe\">\n",
       "  <thead>\n",
       "    <tr style=\"text-align: right;\">\n",
       "      <th></th>\n",
       "      <th>id</th>\n",
       "      <th>source</th>\n",
       "      <th>val</th>\n",
       "      <th>needed_source_value</th>\n",
       "      <th>needed_source</th>\n",
       "    </tr>\n",
       "  </thead>\n",
       "  <tbody>\n",
       "    <tr>\n",
       "      <th>0</th>\n",
       "      <td>0000031860</td>\n",
       "      <td>[title, title]</td>\n",
       "      <td>[Ballet, Tutu]</td>\n",
       "      <td>[(0, title, ballet), (1, title, tutu)]</td>\n",
       "      <td>(title,)</td>\n",
       "    </tr>\n",
       "    <tr>\n",
       "      <th>1</th>\n",
       "      <td>0000031887</td>\n",
       "      <td>[title, title]</td>\n",
       "      <td>[Tutu, Ballet]</td>\n",
       "      <td>[(0, title, tutu), (1, title, ballet)]</td>\n",
       "      <td>(title,)</td>\n",
       "    </tr>\n",
       "    <tr>\n",
       "      <th>2</th>\n",
       "      <td>0000031895</td>\n",
       "      <td>[title, description, title, description]</td>\n",
       "      <td>[Ballet, tutu, Tutu, tutu]</td>\n",
       "      <td>[(0, title, ballet), (1, description, tutu)]</td>\n",
       "      <td>(description, title)</td>\n",
       "    </tr>\n",
       "    <tr>\n",
       "      <th>3</th>\n",
       "      <td>0000031909</td>\n",
       "      <td>[title, description, feature, title, descripti...</td>\n",
       "      <td>[Ballet, ballet, Tutu, Tutu, tutu, Tutu]</td>\n",
       "      <td>[(0, title, ballet), (2, feature, tutu)]</td>\n",
       "      <td>(feature, title)</td>\n",
       "    </tr>\n",
       "    <tr>\n",
       "      <th>4</th>\n",
       "      <td>0000032034</td>\n",
       "      <td>[title, title]</td>\n",
       "      <td>[Ballet, Tutu]</td>\n",
       "      <td>[(0, title, ballet), (1, title, tutu)]</td>\n",
       "      <td>(title,)</td>\n",
       "    </tr>\n",
       "    <tr>\n",
       "      <th>...</th>\n",
       "      <td>...</td>\n",
       "      <td>...</td>\n",
       "      <td>...</td>\n",
       "      <td>...</td>\n",
       "      <td>...</td>\n",
       "    </tr>\n",
       "    <tr>\n",
       "      <th>2226504</th>\n",
       "      <td>B01HJH8JBI</td>\n",
       "      <td>[title]</td>\n",
       "      <td>[Oxford]</td>\n",
       "      <td>[(0, title, oxford)]</td>\n",
       "      <td>(title,)</td>\n",
       "    </tr>\n",
       "    <tr>\n",
       "      <th>2226505</th>\n",
       "      <td>B01HJHA4W0</td>\n",
       "      <td>[title, title, description, feature, feature, ...</td>\n",
       "      <td>[Sandal, Wedge, wedge heel, wedge, wedge heel,...</td>\n",
       "      <td>[(0, title, sandal), (1, title, wedge), (2, de...</td>\n",
       "      <td>(description, title)</td>\n",
       "    </tr>\n",
       "    <tr>\n",
       "      <th>2226506</th>\n",
       "      <td>B01HJHND96</td>\n",
       "      <td>[title]</td>\n",
       "      <td>[Tank Top]</td>\n",
       "      <td>[(0, title, tank top)]</td>\n",
       "      <td>(title,)</td>\n",
       "    </tr>\n",
       "    <tr>\n",
       "      <th>2226507</th>\n",
       "      <td>B01HJHR2PM</td>\n",
       "      <td>[title, description, title, description, featu...</td>\n",
       "      <td>[Marker, Marker, 12 Colors, 12 colors, 12 colo...</td>\n",
       "      <td>[(0, title, marker), (2, title, 12 colors), (5...</td>\n",
       "      <td>(title,)</td>\n",
       "    </tr>\n",
       "    <tr>\n",
       "      <th>2226508</th>\n",
       "      <td>B01HJHR8A6</td>\n",
       "      <td>[title]</td>\n",
       "      <td>[Floral]</td>\n",
       "      <td>[(0, title, floral)]</td>\n",
       "      <td>(title,)</td>\n",
       "    </tr>\n",
       "  </tbody>\n",
       "</table>\n",
       "<p>2226509 rows × 5 columns</p>\n",
       "</div>"
      ],
      "text/plain": [
       "                 id                                             source  \\\n",
       "0        0000031860                                     [title, title]   \n",
       "1        0000031887                                     [title, title]   \n",
       "2        0000031895           [title, description, title, description]   \n",
       "3        0000031909  [title, description, feature, title, descripti...   \n",
       "4        0000032034                                     [title, title]   \n",
       "...             ...                                                ...   \n",
       "2226504  B01HJH8JBI                                            [title]   \n",
       "2226505  B01HJHA4W0  [title, title, description, feature, feature, ...   \n",
       "2226506  B01HJHND96                                            [title]   \n",
       "2226507  B01HJHR2PM  [title, description, title, description, featu...   \n",
       "2226508  B01HJHR8A6                                            [title]   \n",
       "\n",
       "                                                       val  \\\n",
       "0                                           [Ballet, Tutu]   \n",
       "1                                           [Tutu, Ballet]   \n",
       "2                               [Ballet, tutu, Tutu, tutu]   \n",
       "3                 [Ballet, ballet, Tutu, Tutu, tutu, Tutu]   \n",
       "4                                           [Ballet, Tutu]   \n",
       "...                                                    ...   \n",
       "2226504                                           [Oxford]   \n",
       "2226505  [Sandal, Wedge, wedge heel, wedge, wedge heel,...   \n",
       "2226506                                         [Tank Top]   \n",
       "2226507  [Marker, Marker, 12 Colors, 12 colors, 12 colo...   \n",
       "2226508                                           [Floral]   \n",
       "\n",
       "                                       needed_source_value  \\\n",
       "0                   [(0, title, ballet), (1, title, tutu)]   \n",
       "1                   [(0, title, tutu), (1, title, ballet)]   \n",
       "2             [(0, title, ballet), (1, description, tutu)]   \n",
       "3                 [(0, title, ballet), (2, feature, tutu)]   \n",
       "4                   [(0, title, ballet), (1, title, tutu)]   \n",
       "...                                                    ...   \n",
       "2226504                               [(0, title, oxford)]   \n",
       "2226505  [(0, title, sandal), (1, title, wedge), (2, de...   \n",
       "2226506                             [(0, title, tank top)]   \n",
       "2226507  [(0, title, marker), (2, title, 12 colors), (5...   \n",
       "2226508                               [(0, title, floral)]   \n",
       "\n",
       "                needed_source  \n",
       "0                    (title,)  \n",
       "1                    (title,)  \n",
       "2        (description, title)  \n",
       "3            (feature, title)  \n",
       "4                    (title,)  \n",
       "...                       ...  \n",
       "2226504              (title,)  \n",
       "2226505  (description, title)  \n",
       "2226506              (title,)  \n",
       "2226507              (title,)  \n",
       "2226508              (title,)  \n",
       "\n",
       "[2226509 rows x 5 columns]"
      ]
     },
     "execution_count": 32,
     "metadata": {},
     "output_type": "execute_result"
    }
   ],
   "source": [
    "tmp2"
   ]
  },
  {
   "cell_type": "code",
   "execution_count": 33,
   "metadata": {},
   "outputs": [],
   "source": [
    "tmp = Counter(tmp2['needed_source'])"
   ]
  },
  {
   "cell_type": "code",
   "execution_count": 34,
   "metadata": {},
   "outputs": [
    {
     "data": {
      "image/png": "[encoded data removed]",
      "text/plain": [
       "<Figure size 1000x700 with 1 Axes>"
      ]
     },
     "metadata": {},
     "output_type": "display_data"
    }
   ],
   "source": [
    "from matplotlib import pyplot as plt\n",
    "import numpy as np\n",
    " \n",
    "# Creating plot\n",
    "fig = plt.figure(figsize =(10, 7))\n",
    "plt.pie(list(tmp.values()), labels = list(tmp.keys()))\n",
    " \n",
    "# show plot\n",
    "plt.show()\n"
   ]
  },
  {
   "cell_type": "code",
   "execution_count": 35,
   "metadata": {},
   "outputs": [
    {
     "name": "stderr",
     "output_type": "stream",
     "text": [
      "/tmp/ipykernel_11733/2104020269.py:2: SettingWithCopyWarning: \n",
      "A value is trying to be set on a copy of a slice from a DataFrame.\n",
      "Try using .loc[row_indexer,col_indexer] = value instead\n",
      "\n",
      "See the caveats in the documentation: https://pandas.pydata.org/pandas-docs/stable/user_guide/indexing.html#returning-a-view-versus-a-copy\n",
      "  tmp['title_ratio'] = tmp['needed_source_value'].apply(lambda x: np.mean([i[1] == 'title' for i in x]))\n"
     ]
    }
   ],
   "source": [
    "tmp = tmp2[tmp2.needed_source != ('title',)]\n",
    "tmp['title_ratio'] = tmp['needed_source_value'].apply(lambda x: np.mean([i[1] == 'title' for i in x]))"
   ]
  },
  {
   "cell_type": "code",
   "execution_count": 36,
   "metadata": {},
   "outputs": [
    {
     "data": {
      "text/plain": [
       "(array([245127.,   4216.,  42213., 118801.,  22471., 442373.,  16743.,\n",
       "        135779.,  26785.,   7526.]),\n",
       " array([0.        , 0.08888889, 0.17777778, 0.26666667, 0.35555556,\n",
       "        0.44444444, 0.53333333, 0.62222222, 0.71111111, 0.8       ,\n",
       "        0.88888889]),\n",
       " <BarContainer object of 10 artists>)"
      ]
     },
     "execution_count": 36,
     "metadata": {},
     "output_type": "execute_result"
    },
    {
     "data": {
      "image/png": "[encoded data removed]",
      "text/plain": [
       "<Figure size 640x480 with 1 Axes>"
      ]
     },
     "metadata": {},
     "output_type": "display_data"
    }
   ],
   "source": [
    "plt.hist(tmp.title_ratio)"
   ]
  },
  {
   "cell_type": "code",
   "execution_count": 37,
   "metadata": {},
   "outputs": [],
   "source": [
    "tmp2['title_ratio'] = tmp2['needed_source_value'].apply(lambda x: np.mean([i[1] == 'title' for i in x]))"
   ]
  },
  {
   "cell_type": "code",
   "execution_count": 38,
   "metadata": {},
   "outputs": [],
   "source": [
    "df_pos_correct = tmp2[['id', 'needed_source_value', 'title_ratio']].merge(df_pos_correct, on='id', how='inner')"
   ]
  },
  {
   "cell_type": "code",
   "execution_count": 39,
   "metadata": {},
   "outputs": [],
   "source": [
    "df_pos_correct_title = df_pos_correct[df_pos_correct.title_ratio >= 0.5]"
   ]
  },
  {
   "cell_type": "code",
   "execution_count": 40,
   "metadata": {},
   "outputs": [
    {
     "name": "stderr",
     "output_type": "stream",
     "text": [
      "/tmp/ipykernel_11733/3743341173.py:1: SettingWithCopyWarning: \n",
      "A value is trying to be set on a copy of a slice from a DataFrame.\n",
      "Try using .loc[row_indexer,col_indexer] = value instead\n",
      "\n",
      "See the caveats in the documentation: https://pandas.pydata.org/pandas-docs/stable/user_guide/indexing.html#returning-a-view-versus-a-copy\n",
      "  df_pos_correct_title['title'] = df_pos_correct_title['paragraphs'].apply(lambda x: x[0]['text'] if x[0]['source'] == 'title' else None)\n"
     ]
    }
   ],
   "source": [
    "df_pos_correct_title['title'] = df_pos_correct_title['paragraphs'].apply(lambda x: x[0]['text'] if x[0]['source'] == 'title' else None)"
   ]
  },
  {
   "cell_type": "code",
   "execution_count": 41,
   "metadata": {},
   "outputs": [
    {
     "data": {
      "text/plain": [
       "[{'id': 'B00HF1G2UY',\n",
       "  'needed_source_value': [(0, 'title', 'kitchen')],\n",
       "  'title_ratio': 1.0,\n",
       "  'category': 'Faucets',\n",
       "  'paragraphs': [{'text': 'KES Lead-Free Brass Pull Down Kitchen Faucet with Swivel Spout Single Handle High Arc Spring Brushed Nickel, L6907LF-2',\n",
       "    'source': 'title'},\n",
       "   {'text': \"SPECIFICATIONS -Body Material : Lead-Free Brass (less than 0.25% lead content) -Handle Material : Zinc Alloy -Sprayer Material : Engineering Grade Plastic (ABS) -Cartridge : Ceramic Disc Cartridge -Finish : Brushed Nickel -Hose : 24-Inch (60 CM), US Standard 9/16-24 UNEF threaded -Hole Count : One -Handle Count : One -Installation Method : Deck-Mounted Package Includes Faucet 24-Inch (60 CM) Hot & Cold Supply Hoses, US Standard 9/16-24 UNEF threaded Mounting Hardware Buy from KES Reliable Ceramic Cartridge The ceramic disc cartridge can survive 500,000 times open & close test. Sophisticated ceramic engineering provides both convenience and control precision. 100% Pressure Tested Each faucet is tested at high water pressure to ensure high quality and long durability. Ease of Use With a long retractable hose, this faucet provides you with the freedom to wash, rinse, or clean wherever you need to reach. 15-day Money Back guaranteed If you don't like our product, you can always return to us in 30 days. We will fully refund you as long as the product is in new condition.\",\n",
       "    'source': 'description'},\n",
       "   {'text': 'Constructed of lead free brass, less than 0.25% lead content',\n",
       "    'source': 'feature'},\n",
       "   {'text': 'Industry leading, lifetime ceramic disc valve',\n",
       "    'source': 'feature'},\n",
       "   {'text': 'High arc spout provides plenty of clearance and pull out sprayer wand makes cleaning the sink easy',\n",
       "    'source': 'feature'},\n",
       "   {'text': 'Solid metal lever handle for precise temperature and volume control',\n",
       "    'source': 'feature'},\n",
       "   {'text': 'Including mounting hardware, hot & cold water hoses, US Standard 9/16-24 UNEF threaded',\n",
       "    'source': 'feature'},\n",
       "   {'text': '$44.99', 'source': 'price'},\n",
       "   {'text': 'Kes', 'source': 'brand'}],\n",
       "  'attributes': [{'key': 'Type',\n",
       "    'evidences': [{'value': 'Kitchen', 'pid': 0, 'begin': 30, 'end': 37}]}],\n",
       "  'attr_vals': [('type', 'kitchen')],\n",
       "  'title': 'KES Lead-Free Brass Pull Down Kitchen Faucet with Swivel Spout Single Handle High Arc Spring Brushed Nickel, L6907LF-2'},\n",
       " {'id': 'B005Y2HC14',\n",
       "  'needed_source_value': [(0, 'title', 'long sleeve')],\n",
       "  'title_ratio': 1.0,\n",
       "  'category': 'Shirts & Tops',\n",
       "  'paragraphs': [{'text': \"Russell Athletic Women's Campus Long Sleeve Tee - OXF - M\",\n",
       "    'source': 'title'},\n",
       "   {'text': 'Product Dimensions: 11 x 9 x 0.5 inches', 'source': 'feature'},\n",
       "   {'text': 'Shipping Weight: 4.8 ounces', 'source': 'feature'},\n",
       "   {'text': 'ASIN: B005Y2HC14', 'source': 'feature'},\n",
       "   {'text': 'Item model number: S19DDL2', 'source': 'feature'},\n",
       "   {'text': 'Date first listed on Amazon: August 13, 2016',\n",
       "    'source': 'feature'},\n",
       "   {'text': 'Average Customer Review: 3.0 out of 5 stars 1 customer review',\n",
       "    'source': 'feature'}],\n",
       "  'attributes': [{'key': 'Sleeve Style',\n",
       "    'evidences': [{'value': 'Long Sleeve',\n",
       "      'pid': 0,\n",
       "      'begin': 32,\n",
       "      'end': 43}]}],\n",
       "  'attr_vals': [('sleeve style', 'long sleeve')],\n",
       "  'title': \"Russell Athletic Women's Campus Long Sleeve Tee - OXF - M\"}]"
      ]
     },
     "execution_count": 41,
     "metadata": {},
     "output_type": "execute_result"
    }
   ],
   "source": [
    "df_pos_correct_title.sample(2).to_dict('records')"
   ]
  },
  {
   "cell_type": "code",
   "execution_count": 42,
   "metadata": {},
   "outputs": [
    {
     "name": "stderr",
     "output_type": "stream",
     "text": [
      "100%|██████████| 1793162/1793162 [00:09<00:00, 192739.41it/s]\n"
     ]
    }
   ],
   "source": [
    "recs = []\n",
    "for i in tqdm(df_pos_correct_title.to_dict('records')):\n",
    "    title_attributes = {a['key']: [j for j in a['evidences'] if i['paragraphs'][j['pid']]['source'] == 'title'] for a in i['attributes']}\n",
    "    title_attributes = {j: title_attributes[j] for j in title_attributes if len(title_attributes[j]) > 0}\n",
    "    i['title_attributes'] = title_attributes\n",
    "    recs.append(i)"
   ]
  },
  {
   "cell_type": "code",
   "execution_count": 43,
   "metadata": {},
   "outputs": [],
   "source": [
    "df_pos_correct_title = pd.DataFrame(recs)"
   ]
  },
  {
   "cell_type": "code",
   "execution_count": 47,
   "metadata": {},
   "outputs": [],
   "source": [
    "df_pos_correct_title_simple = df_pos_correct_title[['id', 'title', 'category', 'title_attributes']].drop_duplicates('title')"
   ]
  },
  {
   "cell_type": "code",
   "execution_count": 185,
   "metadata": {},
   "outputs": [
    {
     "data": {
      "text/html": [
       "<div>\n",
       "<style scoped>\n",
       "    .dataframe tbody tr th:only-of-type {\n",
       "        vertical-align: middle;\n",
       "    }\n",
       "\n",
       "    .dataframe tbody tr th {\n",
       "        vertical-align: top;\n",
       "    }\n",
       "\n",
       "    .dataframe thead th {\n",
       "        text-align: right;\n",
       "    }\n",
       "</style>\n",
       "<table border=\"1\" class=\"dataframe\">\n",
       "  <thead>\n",
       "    <tr style=\"text-align: right;\">\n",
       "      <th></th>\n",
       "      <th>id</th>\n",
       "      <th>title</th>\n",
       "      <th>category</th>\n",
       "      <th>title_attributes</th>\n",
       "    </tr>\n",
       "  </thead>\n",
       "  <tbody>\n",
       "    <tr>\n",
       "      <th>109839</th>\n",
       "      <td>B000PQKG62</td>\n",
       "      <td>MacBook Black 13\" Inch / 2008 / 2.4GHz Intel \"...</td>\n",
       "      <td>Laptops</td>\n",
       "      <td>{'Screen Size': [{'value': '13\"', 'pid': 0, 'b...</td>\n",
       "    </tr>\n",
       "    <tr>\n",
       "      <th>227244</th>\n",
       "      <td>B002AQUHRS</td>\n",
       "      <td>Microflex Midknight MK-296 Black XL Nitrile Po...</td>\n",
       "      <td>Disposable Gloves</td>\n",
       "      <td>{'Material': [{'value': 'Nitrile', 'pid': 0, '...</td>\n",
       "    </tr>\n",
       "    <tr>\n",
       "      <th>460736</th>\n",
       "      <td>B0067XWVUG</td>\n",
       "      <td>High Performance Battery Replacement for Sony ...</td>\n",
       "      <td>Laptop Batteries</td>\n",
       "      <td>{'Capacity': [{'value': '8800mah', 'pid': 0, '...</td>\n",
       "    </tr>\n",
       "    <tr>\n",
       "      <th>692824</th>\n",
       "      <td>B00C33VW3Q</td>\n",
       "      <td>Sony Playstation Vita Screen Protector + Back ...</td>\n",
       "      <td>Screen Protectors</td>\n",
       "      <td>{'Device Type': [{'value': 'Playstation', 'pid...</td>\n",
       "    </tr>\n",
       "    <tr>\n",
       "      <th>698473</th>\n",
       "      <td>B00C7XGKBG</td>\n",
       "      <td>Apple iPad 3 Screen Protector [2-Pack](Wi-Fi),...</td>\n",
       "      <td>Screen Protectors</td>\n",
       "      <td>{'Device Type': [{'value': 'iPad', 'pid': 0, '...</td>\n",
       "    </tr>\n",
       "    <tr>\n",
       "      <th>698475</th>\n",
       "      <td>B00C7XGQVK</td>\n",
       "      <td>Apple iPad 4 Screen Protector [2-Pack](w/Retin...</td>\n",
       "      <td>Screen Protectors</td>\n",
       "      <td>{'Device Type': [{'value': 'iPad', 'pid': 0, '...</td>\n",
       "    </tr>\n",
       "    <tr>\n",
       "      <th>703116</th>\n",
       "      <td>B00CBMT2FE</td>\n",
       "      <td>Apple iPad 2 Screen Protector [2-Pack](Wi-Fi V...</td>\n",
       "      <td>Screen Protectors</td>\n",
       "      <td>{'Device Type': [{'value': 'iPad', 'pid': 0, '...</td>\n",
       "    </tr>\n",
       "    <tr>\n",
       "      <th>703125</th>\n",
       "      <td>B00CBMVHQ6</td>\n",
       "      <td>Sony Playstation Vita Screen Protector (PS Vit...</td>\n",
       "      <td>Screen Protectors</td>\n",
       "      <td>{'Device Type': [{'value': 'Playstation', 'pid...</td>\n",
       "    </tr>\n",
       "    <tr>\n",
       "      <th>716852</th>\n",
       "      <td>B00CM5DA62</td>\n",
       "      <td>Transformers Platinum Edition Predaking Figure...</td>\n",
       "      <td>Action &amp; Toy Figures</td>\n",
       "      <td>{'Type': [{'value': 'Transformers', 'pid': 0, ...</td>\n",
       "    </tr>\n",
       "    <tr>\n",
       "      <th>739040</th>\n",
       "      <td>B00D6WGJB8</td>\n",
       "      <td>ASUS Padfone Infinity Screen Protector [2-Pack...</td>\n",
       "      <td>Screen Protectors</td>\n",
       "      <td>{'Device Type': [{'value': 'Tablet', 'pid': 0,...</td>\n",
       "    </tr>\n",
       "    <tr>\n",
       "      <th>754924</th>\n",
       "      <td>B00DNKPSQU</td>\n",
       "      <td>Wikipad 7\" Tablet Screen Protector [3-Pack](fo...</td>\n",
       "      <td>Screen Protectors</td>\n",
       "      <td>{'Device Type': [{'value': 'Tablet', 'pid': 0,...</td>\n",
       "    </tr>\n",
       "    <tr>\n",
       "      <th>899447</th>\n",
       "      <td>B00HI0TIX0</td>\n",
       "      <td>Samsung Galaxy Tab Pro 8.4 Screen Protector [2...</td>\n",
       "      <td>Screen Protectors</td>\n",
       "      <td>{'Device Type': [{'value': 'Galaxy Tab', 'pid'...</td>\n",
       "    </tr>\n",
       "    <tr>\n",
       "      <th>944034</th>\n",
       "      <td>B00IK6ADNA</td>\n",
       "      <td>Acer Iconia B1-710 Screen Protector [3-Pack](7...</td>\n",
       "      <td>Screen Protectors</td>\n",
       "      <td>{'Device Type': [{'value': 'Acer Iconia', 'pid...</td>\n",
       "    </tr>\n",
       "    <tr>\n",
       "      <th>966285</th>\n",
       "      <td>B00J2LCT4I</td>\n",
       "      <td>Xperia Z4 Tablet 10.1 Glass Screen Protector, ...</td>\n",
       "      <td>Screen Protectors</td>\n",
       "      <td>{'Device Type': [{'value': 'Tablet', 'pid': 0,...</td>\n",
       "    </tr>\n",
       "    <tr>\n",
       "      <th>967802</th>\n",
       "      <td>B00J3Y3RKE</td>\n",
       "      <td>Sony Playstation Vita Screen Protector (PS Vit...</td>\n",
       "      <td>Screen Protectors</td>\n",
       "      <td>{'Device Type': [{'value': 'Playstation', 'pid...</td>\n",
       "    </tr>\n",
       "    <tr>\n",
       "      <th>1002930</th>\n",
       "      <td>B00K193SHW</td>\n",
       "      <td>Galaxy Tab 4 8.0 Glass Screen Protector,T331(N...</td>\n",
       "      <td>Screen Protectors</td>\n",
       "      <td>{'Device Type': [{'value': 'Galaxy Tab', 'pid'...</td>\n",
       "    </tr>\n",
       "    <tr>\n",
       "      <th>1072446</th>\n",
       "      <td>B00LSS7XIA</td>\n",
       "      <td>HTC Desire 816 Glass Screen Protector, [2 Pack...</td>\n",
       "      <td>Screen Protectors</td>\n",
       "      <td>{'Device Type': [{'value': 'HTC', 'pid': 0, 'b...</td>\n",
       "    </tr>\n",
       "    <tr>\n",
       "      <th>1091871</th>\n",
       "      <td>B00MCTAB3I</td>\n",
       "      <td>Galaxy Tab Pro 8.4 Glass Screen Protector, (T3...</td>\n",
       "      <td>Screen Protectors</td>\n",
       "      <td>{'Device Type': [{'value': 'Galaxy Tab', 'pid'...</td>\n",
       "    </tr>\n",
       "    <tr>\n",
       "      <th>1186128</th>\n",
       "      <td>B00PDWMFI0</td>\n",
       "      <td>Galaxy Tab 3 Lite 7.0 T110 Glass Screen Protec...</td>\n",
       "      <td>Screen Protectors</td>\n",
       "      <td>{'Device Type': [{'value': 'Galaxy Tab', 'pid'...</td>\n",
       "    </tr>\n",
       "    <tr>\n",
       "      <th>1186129</th>\n",
       "      <td>B00PDWMFOE</td>\n",
       "      <td>Galaxy Tab 4 10.1 Glass Screen Protector, (T53...</td>\n",
       "      <td>Screen Protectors</td>\n",
       "      <td>{'Device Type': [{'value': 'Galaxy Tab', 'pid'...</td>\n",
       "    </tr>\n",
       "    <tr>\n",
       "      <th>1188306</th>\n",
       "      <td>B00PHD0D5M</td>\n",
       "      <td>HTC Desire Eye Glass Screen Protector,[2 Pack]...</td>\n",
       "      <td>Screen Protectors</td>\n",
       "      <td>{'Device Type': [{'value': 'HTC', 'pid': 0, 'b...</td>\n",
       "    </tr>\n",
       "    <tr>\n",
       "      <th>1312845</th>\n",
       "      <td>B00V9IUPOS</td>\n",
       "      <td>PECHAM F1 Universal Ceiling Fan Remote Control...</td>\n",
       "      <td>Fan Accessories</td>\n",
       "      <td>{'Accessory Type': [{'value': 'Fan Remote', 'p...</td>\n",
       "    </tr>\n",
       "    <tr>\n",
       "      <th>1319211</th>\n",
       "      <td>B00VJUNGP6</td>\n",
       "      <td>Moto E (2nd Generation) Glass Screen Protector...</td>\n",
       "      <td>Screen Protectors</td>\n",
       "      <td>{'Device Type': [{'value': 'Moto E', 'pid': 0,...</td>\n",
       "    </tr>\n",
       "    <tr>\n",
       "      <th>1358124</th>\n",
       "      <td>B00XHKP8AW</td>\n",
       "      <td>HTC One M9+ / M9 Plus Glass Screen Protector, ...</td>\n",
       "      <td>Screen Protectors</td>\n",
       "      <td>{'Device Type': [{'value': 'HTC', 'pid': 0, 'b...</td>\n",
       "    </tr>\n",
       "    <tr>\n",
       "      <th>1359422</th>\n",
       "      <td>B00XJIISQ8</td>\n",
       "      <td>digitsea Screen Protector Shield TEMPERED LIQU...</td>\n",
       "      <td>Screen Protectors</td>\n",
       "      <td>{'Device Type': [{'value': 'S6', 'pid': 0, 'be...</td>\n",
       "    </tr>\n",
       "    <tr>\n",
       "      <th>1359423</th>\n",
       "      <td>B00XJIJ06U</td>\n",
       "      <td>digitsea Screen Protector Shield TEMPERED LIQU...</td>\n",
       "      <td>Screen Protectors</td>\n",
       "      <td>{'Device Type': [{'value': 'S5', 'pid': 0, 'be...</td>\n",
       "    </tr>\n",
       "    <tr>\n",
       "      <th>1370009</th>\n",
       "      <td>B00Y22OQ0M</td>\n",
       "      <td>Apple Watch Screen Protector, VCOO Ultra Thin ...</td>\n",
       "      <td>Screen Protectors</td>\n",
       "      <td>{'Device Type': [{'value': 'Apple Watch', 'pid...</td>\n",
       "    </tr>\n",
       "    <tr>\n",
       "      <th>1389850</th>\n",
       "      <td>B00ZDYUV70</td>\n",
       "      <td>zte lever lte screen protector - [ultra clear ...</td>\n",
       "      <td>Screen Protectors</td>\n",
       "      <td>{'Device Type': [{'value': 'zte', 'pid': 0, 'b...</td>\n",
       "    </tr>\n",
       "    <tr>\n",
       "      <th>1433196</th>\n",
       "      <td>B0127MCWP4</td>\n",
       "      <td>Galaxy Tab Active 8.0 Glass Screen Protector, ...</td>\n",
       "      <td>Screen Protectors</td>\n",
       "      <td>{'Device Type': [{'value': 'Galaxy Tab', 'pid'...</td>\n",
       "    </tr>\n",
       "    <tr>\n",
       "      <th>1443704</th>\n",
       "      <td>B013045KZW</td>\n",
       "      <td>iPhone 6 (4.7 inch) Screen Protector, HMIAO El...</td>\n",
       "      <td>Screen Protectors</td>\n",
       "      <td>{'Device Type': [{'value': 'iPhone', 'pid': 0,...</td>\n",
       "    </tr>\n",
       "    <tr>\n",
       "      <th>1455327</th>\n",
       "      <td>B013QSQE5M</td>\n",
       "      <td>[Dual Quick Charge 2.0] Car Charger, iVoler 36...</td>\n",
       "      <td>Power Adapters &amp; Chargers</td>\n",
       "      <td>{'Type': [{'value': 'Car Charger', 'pid': 0, '...</td>\n",
       "    </tr>\n",
       "    <tr>\n",
       "      <th>1503618</th>\n",
       "      <td>B015SHG9NQ</td>\n",
       "      <td>NeWisdom lumia 950 Qi Wireless Charger Chargin...</td>\n",
       "      <td>Power Adapters &amp; Chargers</td>\n",
       "      <td>{'Wireless Charging Type': [{'value': 'Stand',...</td>\n",
       "    </tr>\n",
       "    <tr>\n",
       "      <th>1520336</th>\n",
       "      <td>B016JAUENC</td>\n",
       "      <td>Lyte Case Premium 2-Port full speed 2.1A USB W...</td>\n",
       "      <td>Power Adapters &amp; Chargers</td>\n",
       "      <td>{'Type': [{'value': 'Wall Charger', 'pid': 0, ...</td>\n",
       "    </tr>\n",
       "    <tr>\n",
       "      <th>1543694</th>\n",
       "      <td>B017I6TO9G</td>\n",
       "      <td>iPhone 6S Screen Protector, Magic-T 0.2mm iPho...</td>\n",
       "      <td>Screen Protectors</td>\n",
       "      <td>{'Device Type': [{'value': 'iPhone', 'pid': 0,...</td>\n",
       "    </tr>\n",
       "    <tr>\n",
       "      <th>1546487</th>\n",
       "      <td>B017LGHZ08</td>\n",
       "      <td>HTC Desire 626S / 626 Glass Screen Protector, ...</td>\n",
       "      <td>Screen Protectors</td>\n",
       "      <td>{'Device Type': [{'value': 'HTC', 'pid': 0, 'b...</td>\n",
       "    </tr>\n",
       "    <tr>\n",
       "      <th>1546589</th>\n",
       "      <td>B017LLHNBO</td>\n",
       "      <td>HTC One A9 Glass Screen Protector,[2 Pack](A9u...</td>\n",
       "      <td>Screen Protectors</td>\n",
       "      <td>{'Device Type': [{'value': 'HTC', 'pid': 0, 'b...</td>\n",
       "    </tr>\n",
       "    <tr>\n",
       "      <th>1548360</th>\n",
       "      <td>B017NKXAME</td>\n",
       "      <td>iPhone 6s/6 Screen Protector[2 Pack], MTRONX™ ...</td>\n",
       "      <td>Screen Protectors</td>\n",
       "      <td>{'Device Type': [{'value': 'iPhone', 'pid': 0,...</td>\n",
       "    </tr>\n",
       "    <tr>\n",
       "      <th>1575039</th>\n",
       "      <td>B018RW6SV2</td>\n",
       "      <td>HTC One A9 Glass Screen Protector, (A9u)[Front...</td>\n",
       "      <td>Screen Protectors</td>\n",
       "      <td>{'Device Type': [{'value': 'HTC', 'pid': 0, 'b...</td>\n",
       "    </tr>\n",
       "    <tr>\n",
       "      <th>1581342</th>\n",
       "      <td>B0192OAJVY</td>\n",
       "      <td>Amariver Premium Silicone Baking Mat for Cooki...</td>\n",
       "      <td>Baking Mats &amp; Liners</td>\n",
       "      <td>{'Type': [{'value': 'Baking Mat', 'pid': 0, 'b...</td>\n",
       "    </tr>\n",
       "    <tr>\n",
       "      <th>1584832</th>\n",
       "      <td>B0196CYOFE</td>\n",
       "      <td>AILUN Screen Protector Compatible with iPad Pr...</td>\n",
       "      <td>Screen Protectors</td>\n",
       "      <td>{'Device Type': [{'value': 'iPad', 'pid': 0, '...</td>\n",
       "    </tr>\n",
       "    <tr>\n",
       "      <th>1682208</th>\n",
       "      <td>B01D4EOCDY</td>\n",
       "      <td>Galaxy S6 Edge Glass Screen Protector,[Full Co...</td>\n",
       "      <td>Screen Protectors</td>\n",
       "      <td>{'Device Type': [{'value': 'S6', 'pid': 0, 'be...</td>\n",
       "    </tr>\n",
       "    <tr>\n",
       "      <th>1682281</th>\n",
       "      <td>B01D4GH1AI</td>\n",
       "      <td>Galaxy Tab E 8.0 Glass Screen Protector,[2 Pac...</td>\n",
       "      <td>Screen Protectors</td>\n",
       "      <td>{'Device Type': [{'value': 'Galaxy Tab', 'pid'...</td>\n",
       "    </tr>\n",
       "    <tr>\n",
       "      <th>1682282</th>\n",
       "      <td>B01D4GH608</td>\n",
       "      <td>Galaxy Note 10.1 2014 Glass Screen Protector, ...</td>\n",
       "      <td>Screen Protectors</td>\n",
       "      <td>{'Device Type': [{'value': 'Galaxy Tab', 'pid'...</td>\n",
       "    </tr>\n",
       "    <tr>\n",
       "      <th>1682598</th>\n",
       "      <td>B01D4QJBHO</td>\n",
       "      <td>[Dual Quick Charge 2.0] Car Charger, iVoler 36...</td>\n",
       "      <td>Power Adapters &amp; Chargers</td>\n",
       "      <td>{'Type': [{'value': 'Car Charger', 'pid': 0, '...</td>\n",
       "    </tr>\n",
       "    <tr>\n",
       "      <th>1725138</th>\n",
       "      <td>B01ET49AW6</td>\n",
       "      <td>Galaxy TAB A 7.0 Glass Screen Protector,(T280 ...</td>\n",
       "      <td>Screen Protectors</td>\n",
       "      <td>{'Device Type': [{'value': 'Galaxy TAB', 'pid'...</td>\n",
       "    </tr>\n",
       "    <tr>\n",
       "      <th>1760870</th>\n",
       "      <td>B01G8JXJGI</td>\n",
       "      <td>SailsON Electronics LCD Display Touch Screen D...</td>\n",
       "      <td>Mobile Phone Replacement Parts</td>\n",
       "      <td>{'Screen Display Type': [{'value': 'LCD Displa...</td>\n",
       "    </tr>\n",
       "    <tr>\n",
       "      <th>1764572</th>\n",
       "      <td>B01GEXM1OE</td>\n",
       "      <td>[4.4](68) VOJO Aux Cord for Car 6ft Coiled 3.5...</td>\n",
       "      <td>Audio &amp; Video Cables</td>\n",
       "      <td>{'Audio Channels': [{'value': 'Stereo', 'pid':...</td>\n",
       "    </tr>\n",
       "    <tr>\n",
       "      <th>1773073</th>\n",
       "      <td>B01GREJ6D4</td>\n",
       "      <td>Moto G4 Plus Glass Screen Protector, [2 Pack] ...</td>\n",
       "      <td>Screen Protectors</td>\n",
       "      <td>{'Device Type': [{'value': 'Moto G4', 'pid': 0...</td>\n",
       "    </tr>\n",
       "    <tr>\n",
       "      <th>1781842</th>\n",
       "      <td>B01H4P8E8S</td>\n",
       "      <td>Iphone 6 Plus Screen Protector, LINNO 3D Curve...</td>\n",
       "      <td>Screen Protectors</td>\n",
       "      <td>{'Device Type': [{'value': 'Iphone', 'pid': 0,...</td>\n",
       "    </tr>\n",
       "    <tr>\n",
       "      <th>1788632</th>\n",
       "      <td>B01HECQJNI</td>\n",
       "      <td>iPad 2 / iPad 3 / iPad 4 Glass Screen Protecto...</td>\n",
       "      <td>Screen Protectors</td>\n",
       "      <td>{'Device Type': [{'value': 'iPad', 'pid': 0, '...</td>\n",
       "    </tr>\n",
       "    <tr>\n",
       "      <th>1788633</th>\n",
       "      <td>B01HECQNC0</td>\n",
       "      <td>Galaxy Tab A 10.1 Glass Screen Protector,[2Pac...</td>\n",
       "      <td>Screen Protectors</td>\n",
       "      <td>{'Device Type': [{'value': 'Galaxy Tab', 'pid'...</td>\n",
       "    </tr>\n",
       "  </tbody>\n",
       "</table>\n",
       "</div>"
      ],
      "text/plain": [
       "                 id                                              title  \\\n",
       "109839   B000PQKG62  MacBook Black 13\" Inch / 2008 / 2.4GHz Intel \"...   \n",
       "227244   B002AQUHRS  Microflex Midknight MK-296 Black XL Nitrile Po...   \n",
       "460736   B0067XWVUG  High Performance Battery Replacement for Sony ...   \n",
       "692824   B00C33VW3Q  Sony Playstation Vita Screen Protector + Back ...   \n",
       "698473   B00C7XGKBG  Apple iPad 3 Screen Protector [2-Pack](Wi-Fi),...   \n",
       "698475   B00C7XGQVK  Apple iPad 4 Screen Protector [2-Pack](w/Retin...   \n",
       "703116   B00CBMT2FE  Apple iPad 2 Screen Protector [2-Pack](Wi-Fi V...   \n",
       "703125   B00CBMVHQ6  Sony Playstation Vita Screen Protector (PS Vit...   \n",
       "716852   B00CM5DA62  Transformers Platinum Edition Predaking Figure...   \n",
       "739040   B00D6WGJB8  ASUS Padfone Infinity Screen Protector [2-Pack...   \n",
       "754924   B00DNKPSQU  Wikipad 7\" Tablet Screen Protector [3-Pack](fo...   \n",
       "899447   B00HI0TIX0  Samsung Galaxy Tab Pro 8.4 Screen Protector [2...   \n",
       "944034   B00IK6ADNA  Acer Iconia B1-710 Screen Protector [3-Pack](7...   \n",
       "966285   B00J2LCT4I  Xperia Z4 Tablet 10.1 Glass Screen Protector, ...   \n",
       "967802   B00J3Y3RKE  Sony Playstation Vita Screen Protector (PS Vit...   \n",
       "1002930  B00K193SHW  Galaxy Tab 4 8.0 Glass Screen Protector,T331(N...   \n",
       "1072446  B00LSS7XIA  HTC Desire 816 Glass Screen Protector, [2 Pack...   \n",
       "1091871  B00MCTAB3I  Galaxy Tab Pro 8.4 Glass Screen Protector, (T3...   \n",
       "1186128  B00PDWMFI0  Galaxy Tab 3 Lite 7.0 T110 Glass Screen Protec...   \n",
       "1186129  B00PDWMFOE  Galaxy Tab 4 10.1 Glass Screen Protector, (T53...   \n",
       "1188306  B00PHD0D5M  HTC Desire Eye Glass Screen Protector,[2 Pack]...   \n",
       "1312845  B00V9IUPOS  PECHAM F1 Universal Ceiling Fan Remote Control...   \n",
       "1319211  B00VJUNGP6  Moto E (2nd Generation) Glass Screen Protector...   \n",
       "1358124  B00XHKP8AW  HTC One M9+ / M9 Plus Glass Screen Protector, ...   \n",
       "1359422  B00XJIISQ8  digitsea Screen Protector Shield TEMPERED LIQU...   \n",
       "1359423  B00XJIJ06U  digitsea Screen Protector Shield TEMPERED LIQU...   \n",
       "1370009  B00Y22OQ0M  Apple Watch Screen Protector, VCOO Ultra Thin ...   \n",
       "1389850  B00ZDYUV70  zte lever lte screen protector - [ultra clear ...   \n",
       "1433196  B0127MCWP4  Galaxy Tab Active 8.0 Glass Screen Protector, ...   \n",
       "1443704  B013045KZW  iPhone 6 (4.7 inch) Screen Protector, HMIAO El...   \n",
       "1455327  B013QSQE5M  [Dual Quick Charge 2.0] Car Charger, iVoler 36...   \n",
       "1503618  B015SHG9NQ  NeWisdom lumia 950 Qi Wireless Charger Chargin...   \n",
       "1520336  B016JAUENC  Lyte Case Premium 2-Port full speed 2.1A USB W...   \n",
       "1543694  B017I6TO9G  iPhone 6S Screen Protector, Magic-T 0.2mm iPho...   \n",
       "1546487  B017LGHZ08  HTC Desire 626S / 626 Glass Screen Protector, ...   \n",
       "1546589  B017LLHNBO  HTC One A9 Glass Screen Protector,[2 Pack](A9u...   \n",
       "1548360  B017NKXAME  iPhone 6s/6 Screen Protector[2 Pack], MTRONX™ ...   \n",
       "1575039  B018RW6SV2  HTC One A9 Glass Screen Protector, (A9u)[Front...   \n",
       "1581342  B0192OAJVY  Amariver Premium Silicone Baking Mat for Cooki...   \n",
       "1584832  B0196CYOFE  AILUN Screen Protector Compatible with iPad Pr...   \n",
       "1682208  B01D4EOCDY  Galaxy S6 Edge Glass Screen Protector,[Full Co...   \n",
       "1682281  B01D4GH1AI  Galaxy Tab E 8.0 Glass Screen Protector,[2 Pac...   \n",
       "1682282  B01D4GH608  Galaxy Note 10.1 2014 Glass Screen Protector, ...   \n",
       "1682598  B01D4QJBHO  [Dual Quick Charge 2.0] Car Charger, iVoler 36...   \n",
       "1725138  B01ET49AW6  Galaxy TAB A 7.0 Glass Screen Protector,(T280 ...   \n",
       "1760870  B01G8JXJGI  SailsON Electronics LCD Display Touch Screen D...   \n",
       "1764572  B01GEXM1OE  [4.4](68) VOJO Aux Cord for Car 6ft Coiled 3.5...   \n",
       "1773073  B01GREJ6D4  Moto G4 Plus Glass Screen Protector, [2 Pack] ...   \n",
       "1781842  B01H4P8E8S  Iphone 6 Plus Screen Protector, LINNO 3D Curve...   \n",
       "1788632  B01HECQJNI  iPad 2 / iPad 3 / iPad 4 Glass Screen Protecto...   \n",
       "1788633  B01HECQNC0  Galaxy Tab A 10.1 Glass Screen Protector,[2Pac...   \n",
       "\n",
       "                               category  \\\n",
       "109839                          Laptops   \n",
       "227244                Disposable Gloves   \n",
       "460736                 Laptop Batteries   \n",
       "692824                Screen Protectors   \n",
       "698473                Screen Protectors   \n",
       "698475                Screen Protectors   \n",
       "703116                Screen Protectors   \n",
       "703125                Screen Protectors   \n",
       "716852             Action & Toy Figures   \n",
       "739040                Screen Protectors   \n",
       "754924                Screen Protectors   \n",
       "899447                Screen Protectors   \n",
       "944034                Screen Protectors   \n",
       "966285                Screen Protectors   \n",
       "967802                Screen Protectors   \n",
       "1002930               Screen Protectors   \n",
       "1072446               Screen Protectors   \n",
       "1091871               Screen Protectors   \n",
       "1186128               Screen Protectors   \n",
       "1186129               Screen Protectors   \n",
       "1188306               Screen Protectors   \n",
       "1312845                 Fan Accessories   \n",
       "1319211               Screen Protectors   \n",
       "1358124               Screen Protectors   \n",
       "1359422               Screen Protectors   \n",
       "1359423               Screen Protectors   \n",
       "1370009               Screen Protectors   \n",
       "1389850               Screen Protectors   \n",
       "1433196               Screen Protectors   \n",
       "1443704               Screen Protectors   \n",
       "1455327       Power Adapters & Chargers   \n",
       "1503618       Power Adapters & Chargers   \n",
       "1520336       Power Adapters & Chargers   \n",
       "1543694               Screen Protectors   \n",
       "1546487               Screen Protectors   \n",
       "1546589               Screen Protectors   \n",
       "1548360               Screen Protectors   \n",
       "1575039               Screen Protectors   \n",
       "1581342            Baking Mats & Liners   \n",
       "1584832               Screen Protectors   \n",
       "1682208               Screen Protectors   \n",
       "1682281               Screen Protectors   \n",
       "1682282               Screen Protectors   \n",
       "1682598       Power Adapters & Chargers   \n",
       "1725138               Screen Protectors   \n",
       "1760870  Mobile Phone Replacement Parts   \n",
       "1764572            Audio & Video Cables   \n",
       "1773073               Screen Protectors   \n",
       "1781842               Screen Protectors   \n",
       "1788632               Screen Protectors   \n",
       "1788633               Screen Protectors   \n",
       "\n",
       "                                          title_attributes  \n",
       "109839   {'Screen Size': [{'value': '13\"', 'pid': 0, 'b...  \n",
       "227244   {'Material': [{'value': 'Nitrile', 'pid': 0, '...  \n",
       "460736   {'Capacity': [{'value': '8800mah', 'pid': 0, '...  \n",
       "692824   {'Device Type': [{'value': 'Playstation', 'pid...  \n",
       "698473   {'Device Type': [{'value': 'iPad', 'pid': 0, '...  \n",
       "698475   {'Device Type': [{'value': 'iPad', 'pid': 0, '...  \n",
       "703116   {'Device Type': [{'value': 'iPad', 'pid': 0, '...  \n",
       "703125   {'Device Type': [{'value': 'Playstation', 'pid...  \n",
       "716852   {'Type': [{'value': 'Transformers', 'pid': 0, ...  \n",
       "739040   {'Device Type': [{'value': 'Tablet', 'pid': 0,...  \n",
       "754924   {'Device Type': [{'value': 'Tablet', 'pid': 0,...  \n",
       "899447   {'Device Type': [{'value': 'Galaxy Tab', 'pid'...  \n",
       "944034   {'Device Type': [{'value': 'Acer Iconia', 'pid...  \n",
       "966285   {'Device Type': [{'value': 'Tablet', 'pid': 0,...  \n",
       "967802   {'Device Type': [{'value': 'Playstation', 'pid...  \n",
       "1002930  {'Device Type': [{'value': 'Galaxy Tab', 'pid'...  \n",
       "1072446  {'Device Type': [{'value': 'HTC', 'pid': 0, 'b...  \n",
       "1091871  {'Device Type': [{'value': 'Galaxy Tab', 'pid'...  \n",
       "1186128  {'Device Type': [{'value': 'Galaxy Tab', 'pid'...  \n",
       "1186129  {'Device Type': [{'value': 'Galaxy Tab', 'pid'...  \n",
       "1188306  {'Device Type': [{'value': 'HTC', 'pid': 0, 'b...  \n",
       "1312845  {'Accessory Type': [{'value': 'Fan Remote', 'p...  \n",
       "1319211  {'Device Type': [{'value': 'Moto E', 'pid': 0,...  \n",
       "1358124  {'Device Type': [{'value': 'HTC', 'pid': 0, 'b...  \n",
       "1359422  {'Device Type': [{'value': 'S6', 'pid': 0, 'be...  \n",
       "1359423  {'Device Type': [{'value': 'S5', 'pid': 0, 'be...  \n",
       "1370009  {'Device Type': [{'value': 'Apple Watch', 'pid...  \n",
       "1389850  {'Device Type': [{'value': 'zte', 'pid': 0, 'b...  \n",
       "1433196  {'Device Type': [{'value': 'Galaxy Tab', 'pid'...  \n",
       "1443704  {'Device Type': [{'value': 'iPhone', 'pid': 0,...  \n",
       "1455327  {'Type': [{'value': 'Car Charger', 'pid': 0, '...  \n",
       "1503618  {'Wireless Charging Type': [{'value': 'Stand',...  \n",
       "1520336  {'Type': [{'value': 'Wall Charger', 'pid': 0, ...  \n",
       "1543694  {'Device Type': [{'value': 'iPhone', 'pid': 0,...  \n",
       "1546487  {'Device Type': [{'value': 'HTC', 'pid': 0, 'b...  \n",
       "1546589  {'Device Type': [{'value': 'HTC', 'pid': 0, 'b...  \n",
       "1548360  {'Device Type': [{'value': 'iPhone', 'pid': 0,...  \n",
       "1575039  {'Device Type': [{'value': 'HTC', 'pid': 0, 'b...  \n",
       "1581342  {'Type': [{'value': 'Baking Mat', 'pid': 0, 'b...  \n",
       "1584832  {'Device Type': [{'value': 'iPad', 'pid': 0, '...  \n",
       "1682208  {'Device Type': [{'value': 'S6', 'pid': 0, 'be...  \n",
       "1682281  {'Device Type': [{'value': 'Galaxy Tab', 'pid'...  \n",
       "1682282  {'Device Type': [{'value': 'Galaxy Tab', 'pid'...  \n",
       "1682598  {'Type': [{'value': 'Car Charger', 'pid': 0, '...  \n",
       "1725138  {'Device Type': [{'value': 'Galaxy TAB', 'pid'...  \n",
       "1760870  {'Screen Display Type': [{'value': 'LCD Displa...  \n",
       "1764572  {'Audio Channels': [{'value': 'Stereo', 'pid':...  \n",
       "1773073  {'Device Type': [{'value': 'Moto G4', 'pid': 0...  \n",
       "1781842  {'Device Type': [{'value': 'Iphone', 'pid': 0,...  \n",
       "1788632  {'Device Type': [{'value': 'iPad', 'pid': 0, '...  \n",
       "1788633  {'Device Type': [{'value': 'Galaxy Tab', 'pid'...  "
      ]
     },
     "execution_count": 185,
     "metadata": {},
     "output_type": "execute_result"
    }
   ],
   "source": [
    "df_pos_correct_title_simple[df_pos_correct_title_simple.title.apply(lambda x: '](' in x)]"
   ]
  },
  {
   "cell_type": "code",
   "execution_count": 186,
   "metadata": {},
   "outputs": [
    {
     "data": {
      "text/plain": [
       "0.7709679143448331"
      ]
     },
     "execution_count": 186,
     "metadata": {},
     "output_type": "execute_result"
    }
   ],
   "source": [
    "len(df_pos_correct_title_simple) / len(df_pos)"
   ]
  },
  {
   "cell_type": "code",
   "execution_count": 198,
   "metadata": {},
   "outputs": [
    {
     "name": "stderr",
     "output_type": "stream",
     "text": [
      "100%|██████████| 1716567/1716567 [00:18<00:00, 90410.32it/s]\n"
     ]
    }
   ],
   "source": [
    "recs = []\n",
    "tmp = df_pos_correct_title_simple.to_dict('records')\n",
    "\n",
    "for i in tqdm(tmp):\n",
    "    t_i = i['title'].replace('[', \" \").replace(']', \" \").replace('(', \" \").replace(')', \" \")\n",
    "    if '->' in t_i:\n",
    "        continue\n",
    "    t_o = t_i\n",
    "    attr_val_evi_dicts = [({**k, **{'attribute': j}}) for j in i['title_attributes'] for k in i['title_attributes'][j]]\n",
    "    begin_ends = {}\n",
    "    inds = []\n",
    "    discard_sample = False\n",
    "    for ind, d in enumerate(attr_val_evi_dicts):\n",
    "        b_, e_ = d['begin'], d['end']\n",
    "        if len(begin_ends) == 0:\n",
    "            begin_ends[(b_, e_)] = 1\n",
    "            inds.append(ind)\n",
    "        else:\n",
    "            not_intersect = True\n",
    "            for (b, e) in begin_ends:\n",
    "                if b_ <= b < e_ or b_ < e <= e_ or b <= b_ < e or b < e_ <= e:\n",
    "                    # print((b, e), 'intersects', (b_, e_), i, 'discarded')\n",
    "                    discard_sample = True \n",
    "                    break\n",
    "            begin_ends[(b_, e_)] = 1\n",
    "        if discard_sample:\n",
    "            break \n",
    "    if discard_sample:\n",
    "        # print('-' * 20)\n",
    "        continue\n",
    "        \n",
    "    for d in sorted(attr_val_evi_dicts, key=lambda x: -x['end']):\n",
    "        t_o = t_o[:d['begin']] + '['+ t_o[d['begin']:d['end']] + ']' + '(' + d['attribute'] + ')' + t_o[d['end']:]\n",
    "    t_i_c = t_i.strip()\n",
    "    t_o_c = t_o.strip()\n",
    "    while True:\n",
    "        t_i_c_ = t_i_c.replace(\"  \", \" \")\n",
    "        t_o_c_ = t_o_c.replace(\"  \", \" \")\n",
    "        if t_i_c_ == t_i_c and t_o_c_ == t_o_c:\n",
    "            break\n",
    "        else:\n",
    "            t_i_c = t_i_c_ \n",
    "            t_o_c = t_o_c_\n",
    "        \n",
    "    i['text'] = t_i_c + \" -> \" + t_o_c\n",
    "    recs.append(i)\n",
    "df_pos_correct_title_simple_aug = pd.DataFrame(recs)"
   ]
  },
  {
   "cell_type": "code",
   "execution_count": 199,
   "metadata": {},
   "outputs": [
    {
     "data": {
      "text/plain": [
       "0.9093842535712268"
      ]
     },
     "execution_count": 199,
     "metadata": {},
     "output_type": "execute_result"
    }
   ],
   "source": [
    "len(df_pos_correct_title_simple_aug) / len(df_pos_correct_title_simple)"
   ]
  },
  {
   "cell_type": "code",
   "execution_count": 218,
   "metadata": {},
   "outputs": [
    {
     "data": {
      "text/plain": [
       "[{'text': 'KIP 7700 Z200970060 Toner Black, Bx/4 Original Genuine -> KIP 7700 Z200970060 [Toner](Type) Black, Bx/4 Original Genuine'},\n",
       " {'text': 'Epson Claria Ink Cartridge - Color - Inkjet -> Epson Claria Ink Cartridge - Color - [Inkjet](Type)'},\n",
       " {'text': \"Billabong Men's Shifter Short Sleeve Knit Crew -> Billabong Men's Shifter [Short Sleeve](Sleeve Style) Knit Crew\"},\n",
       " {'text': 'Waterproof Brown Sofa Protector 110\"X70.5\" -> Waterproof Brown [Sofa](Type) Protector 110\"X70.5\"'},\n",
       " {'text': 'NIKE Mens SB Portmore Ultralight Mesh Breathable Skate Shoes -> NIKE Mens SB Portmore Ultralight Mesh Breathable Skate [Shoes](Type)'}]"
      ]
     },
     "execution_count": 218,
     "metadata": {},
     "output_type": "execute_result"
    }
   ],
   "source": [
    "df_pos_correct_title_simple_aug[['text']].sample(5).to_dict('records')"
   ]
  },
  {
   "cell_type": "code",
   "execution_count": 220,
   "metadata": {},
   "outputs": [],
   "source": [
    "df_pos_correct_title_simple_aug = df_pos_correct_title_simple_aug.rename(columns={'category': 'category_flat'})"
   ]
  },
  {
   "cell_type": "code",
   "execution_count": 221,
   "metadata": {},
   "outputs": [
    {
     "data": {
      "text/html": [
       "<div>\n",
       "<style scoped>\n",
       "    .dataframe tbody tr th:only-of-type {\n",
       "        vertical-align: middle;\n",
       "    }\n",
       "\n",
       "    .dataframe tbody tr th {\n",
       "        vertical-align: top;\n",
       "    }\n",
       "\n",
       "    .dataframe thead th {\n",
       "        text-align: right;\n",
       "    }\n",
       "</style>\n",
       "<table border=\"1\" class=\"dataframe\">\n",
       "  <thead>\n",
       "    <tr style=\"text-align: right;\">\n",
       "      <th></th>\n",
       "      <th>id</th>\n",
       "      <th>title</th>\n",
       "      <th>category_flat</th>\n",
       "      <th>title_attributes</th>\n",
       "      <th>text</th>\n",
       "    </tr>\n",
       "  </thead>\n",
       "  <tbody>\n",
       "    <tr>\n",
       "      <th>0</th>\n",
       "      <td>0000031860</td>\n",
       "      <td>Girls Ballet Tutu Neon Orange</td>\n",
       "      <td>Dance Dresses, Skirts &amp; Costumes</td>\n",
       "      <td>{'Dance Style': [{'value': 'Ballet', 'pid': 0,...</td>\n",
       "      <td>Girls Ballet Tutu Neon Orange -&gt; Girls [Ballet...</td>\n",
       "    </tr>\n",
       "    <tr>\n",
       "      <th>1</th>\n",
       "      <td>0000031887</td>\n",
       "      <td>Mystiqueshapes Girls Ballet Tutu Neon Lime Green</td>\n",
       "      <td>Dance Dresses, Skirts &amp; Costumes</td>\n",
       "      <td>{'Type': [{'value': 'Tutu', 'pid': 0, 'begin':...</td>\n",
       "      <td>Mystiqueshapes Girls Ballet Tutu Neon Lime Gre...</td>\n",
       "    </tr>\n",
       "    <tr>\n",
       "      <th>2</th>\n",
       "      <td>0000031895</td>\n",
       "      <td>Girls Ballet Tutu Neon Blue</td>\n",
       "      <td>Dance Dresses, Skirts &amp; Costumes</td>\n",
       "      <td>{'Dance Style': [{'value': 'Ballet', 'pid': 0,...</td>\n",
       "      <td>Girls Ballet Tutu Neon Blue -&gt; Girls [Ballet](...</td>\n",
       "    </tr>\n",
       "    <tr>\n",
       "      <th>3</th>\n",
       "      <td>0000031909</td>\n",
       "      <td>Mystiqueshapes Girls Ballet Tutu Neon Pink</td>\n",
       "      <td>Dance Dresses, Skirts &amp; Costumes</td>\n",
       "      <td>{'Dance Style': [{'value': 'Ballet', 'pid': 0,...</td>\n",
       "      <td>Mystiqueshapes Girls Ballet Tutu Neon Pink -&gt; ...</td>\n",
       "    </tr>\n",
       "    <tr>\n",
       "      <th>4</th>\n",
       "      <td>0000032034</td>\n",
       "      <td>Adult Ballet Tutu Yellow</td>\n",
       "      <td>Dance Dresses, Skirts &amp; Costumes</td>\n",
       "      <td>{'Dance Style': [{'value': 'Ballet', 'pid': 0,...</td>\n",
       "      <td>Adult Ballet Tutu Yellow -&gt; Adult [Ballet](Dan...</td>\n",
       "    </tr>\n",
       "    <tr>\n",
       "      <th>...</th>\n",
       "      <td>...</td>\n",
       "      <td>...</td>\n",
       "      <td>...</td>\n",
       "      <td>...</td>\n",
       "      <td>...</td>\n",
       "    </tr>\n",
       "    <tr>\n",
       "      <th>1561014</th>\n",
       "      <td>B01HJH8JBI</td>\n",
       "      <td>Deer Stags Men's Lohi Oxford</td>\n",
       "      <td>Shoes</td>\n",
       "      <td>{'Silhouette': [{'value': 'Oxford', 'pid': 0, ...</td>\n",
       "      <td>Deer Stags Men's Lohi Oxford -&gt; Deer Stags Men...</td>\n",
       "    </tr>\n",
       "    <tr>\n",
       "      <th>1561015</th>\n",
       "      <td>B01HJHA4W0</td>\n",
       "      <td>Soludos Women's Tall Espadrille Wedge Sandal</td>\n",
       "      <td>Shoes</td>\n",
       "      <td>{'Type': [{'value': 'Sandal', 'pid': 0, 'begin...</td>\n",
       "      <td>Soludos Women's Tall Espadrille Wedge Sandal -...</td>\n",
       "    </tr>\n",
       "    <tr>\n",
       "      <th>1561016</th>\n",
       "      <td>B01HJHND96</td>\n",
       "      <td>House Greyjoy Game of Thrones Tank Top</td>\n",
       "      <td>Shirts &amp; Tops</td>\n",
       "      <td>{'Sleeve Style': [{'value': 'Tank Top', 'pid':...</td>\n",
       "      <td>House Greyjoy Game of Thrones Tank Top -&gt; Hous...</td>\n",
       "    </tr>\n",
       "    <tr>\n",
       "      <th>1561017</th>\n",
       "      <td>B01HJHR2PM</td>\n",
       "      <td>Mural Art 12 Colors Waterproof Metal Glass Fin...</td>\n",
       "      <td>Markers &amp; Highlighters</td>\n",
       "      <td>{'Type': [{'value': 'Marker', 'pid': 0, 'begin...</td>\n",
       "      <td>Mural Art 12 Colors Waterproof Metal Glass Fin...</td>\n",
       "    </tr>\n",
       "    <tr>\n",
       "      <th>1561018</th>\n",
       "      <td>B01HJHR8A6</td>\n",
       "      <td>Newborn Baby Girl Bodysuit Lace Floral Romper ...</td>\n",
       "      <td>Baby One-Pieces</td>\n",
       "      <td>{'Pattern': [{'value': 'Floral', 'pid': 0, 'be...</td>\n",
       "      <td>Newborn Baby Girl Bodysuit Lace Floral Romper ...</td>\n",
       "    </tr>\n",
       "  </tbody>\n",
       "</table>\n",
       "<p>1561019 rows × 5 columns</p>\n",
       "</div>"
      ],
      "text/plain": [
       "                 id                                              title  \\\n",
       "0        0000031860                      Girls Ballet Tutu Neon Orange   \n",
       "1        0000031887   Mystiqueshapes Girls Ballet Tutu Neon Lime Green   \n",
       "2        0000031895                        Girls Ballet Tutu Neon Blue   \n",
       "3        0000031909         Mystiqueshapes Girls Ballet Tutu Neon Pink   \n",
       "4        0000032034                           Adult Ballet Tutu Yellow   \n",
       "...             ...                                                ...   \n",
       "1561014  B01HJH8JBI                       Deer Stags Men's Lohi Oxford   \n",
       "1561015  B01HJHA4W0       Soludos Women's Tall Espadrille Wedge Sandal   \n",
       "1561016  B01HJHND96             House Greyjoy Game of Thrones Tank Top   \n",
       "1561017  B01HJHR2PM  Mural Art 12 Colors Waterproof Metal Glass Fin...   \n",
       "1561018  B01HJHR8A6  Newborn Baby Girl Bodysuit Lace Floral Romper ...   \n",
       "\n",
       "                            category_flat  \\\n",
       "0        Dance Dresses, Skirts & Costumes   \n",
       "1        Dance Dresses, Skirts & Costumes   \n",
       "2        Dance Dresses, Skirts & Costumes   \n",
       "3        Dance Dresses, Skirts & Costumes   \n",
       "4        Dance Dresses, Skirts & Costumes   \n",
       "...                                   ...   \n",
       "1561014                             Shoes   \n",
       "1561015                             Shoes   \n",
       "1561016                     Shirts & Tops   \n",
       "1561017            Markers & Highlighters   \n",
       "1561018                   Baby One-Pieces   \n",
       "\n",
       "                                          title_attributes  \\\n",
       "0        {'Dance Style': [{'value': 'Ballet', 'pid': 0,...   \n",
       "1        {'Type': [{'value': 'Tutu', 'pid': 0, 'begin':...   \n",
       "2        {'Dance Style': [{'value': 'Ballet', 'pid': 0,...   \n",
       "3        {'Dance Style': [{'value': 'Ballet', 'pid': 0,...   \n",
       "4        {'Dance Style': [{'value': 'Ballet', 'pid': 0,...   \n",
       "...                                                    ...   \n",
       "1561014  {'Silhouette': [{'value': 'Oxford', 'pid': 0, ...   \n",
       "1561015  {'Type': [{'value': 'Sandal', 'pid': 0, 'begin...   \n",
       "1561016  {'Sleeve Style': [{'value': 'Tank Top', 'pid':...   \n",
       "1561017  {'Type': [{'value': 'Marker', 'pid': 0, 'begin...   \n",
       "1561018  {'Pattern': [{'value': 'Floral', 'pid': 0, 'be...   \n",
       "\n",
       "                                                      text  \n",
       "0        Girls Ballet Tutu Neon Orange -> Girls [Ballet...  \n",
       "1        Mystiqueshapes Girls Ballet Tutu Neon Lime Gre...  \n",
       "2        Girls Ballet Tutu Neon Blue -> Girls [Ballet](...  \n",
       "3        Mystiqueshapes Girls Ballet Tutu Neon Pink -> ...  \n",
       "4        Adult Ballet Tutu Yellow -> Adult [Ballet](Dan...  \n",
       "...                                                    ...  \n",
       "1561014  Deer Stags Men's Lohi Oxford -> Deer Stags Men...  \n",
       "1561015  Soludos Women's Tall Espadrille Wedge Sandal -...  \n",
       "1561016  House Greyjoy Game of Thrones Tank Top -> Hous...  \n",
       "1561017  Mural Art 12 Colors Waterproof Metal Glass Fin...  \n",
       "1561018  Newborn Baby Girl Bodysuit Lace Floral Romper ...  \n",
       "\n",
       "[1561019 rows x 5 columns]"
      ]
     },
     "execution_count": 221,
     "metadata": {},
     "output_type": "execute_result"
    }
   ],
   "source": [
    "df_pos_correct_title_simple_aug"
   ]
  },
  {
   "cell_type": "code",
   "execution_count": 223,
   "metadata": {},
   "outputs": [],
   "source": [
    "def remove_special_char(x):\n",
    "    x = x.replace('[', \" \").replace(']', \" \").replace('(', \" \").replace(')', \" \")\n",
    "    x = x.strip()\n",
    "    while True:\n",
    "        x_ = x.replace(\"  \", \" \")\n",
    "        if x == x_:\n",
    "            return x \n",
    "        else:\n",
    "            x = x_"
   ]
  },
  {
   "cell_type": "code",
   "execution_count": 227,
   "metadata": {},
   "outputs": [],
   "source": [
    "df_neg_aug =  df_neg\n",
    "df_neg_aug = df_neg_aug.rename(columns={'category': 'category_flat'})\n",
    "df_neg_aug['title'] = df_neg_aug['paragraphs'].apply(lambda x: x[0]['text'] if x[0]['source'] == 'title' else None)\n",
    "df_neg_aug = df_neg_aug[df_neg_aug.title.apply(lambda x: '->' not in x)]\n",
    "tmp = df_neg_aug['title'].apply(remove_special_char)\n",
    "df_neg_aug['text'] = tmp + \" -> \" + tmp\n",
    "df_neg_aug['title_attributes'] = df_neg_aug['attributes'].apply(lambda x: {i['key']: [] for i in x})\n",
    "df_neg_aug = df_neg_aug[['id', 'title', 'category_flat','title_attributes', 'text']]"
   ]
  },
  {
   "cell_type": "code",
   "execution_count": 230,
   "metadata": {},
   "outputs": [
    {
     "data": {
      "text/plain": [
       "0.9999951923423629"
      ]
     },
     "execution_count": 230,
     "metadata": {},
     "output_type": "execute_result"
    }
   ],
   "source": [
    "len(df_neg_aug) / len(df_neg)"
   ]
  },
  {
   "cell_type": "code",
   "execution_count": 231,
   "metadata": {},
   "outputs": [
    {
     "data": {
      "text/plain": [
       "(1561019, 1248003)"
      ]
     },
     "execution_count": 231,
     "metadata": {},
     "output_type": "execute_result"
    }
   ],
   "source": [
    "len(df_pos_correct_title_simple_aug), len(df_neg_aug)"
   ]
  },
  {
   "cell_type": "code",
   "execution_count": 232,
   "metadata": {},
   "outputs": [
    {
     "data": {
      "text/html": [
       "<div>\n",
       "<style scoped>\n",
       "    .dataframe tbody tr th:only-of-type {\n",
       "        vertical-align: middle;\n",
       "    }\n",
       "\n",
       "    .dataframe tbody tr th {\n",
       "        vertical-align: top;\n",
       "    }\n",
       "\n",
       "    .dataframe thead th {\n",
       "        text-align: right;\n",
       "    }\n",
       "</style>\n",
       "<table border=\"1\" class=\"dataframe\">\n",
       "  <thead>\n",
       "    <tr style=\"text-align: right;\">\n",
       "      <th></th>\n",
       "      <th>id</th>\n",
       "      <th>title</th>\n",
       "      <th>category_flat</th>\n",
       "      <th>title_attributes</th>\n",
       "      <th>text</th>\n",
       "    </tr>\n",
       "  </thead>\n",
       "  <tbody>\n",
       "    <tr>\n",
       "      <th>0</th>\n",
       "      <td>0000031860</td>\n",
       "      <td>Girls Ballet Tutu Neon Orange</td>\n",
       "      <td>Dance Dresses, Skirts &amp; Costumes</td>\n",
       "      <td>{'Dance Style': [{'value': 'Ballet', 'pid': 0,...</td>\n",
       "      <td>Girls Ballet Tutu Neon Orange -&gt; Girls [Ballet...</td>\n",
       "    </tr>\n",
       "    <tr>\n",
       "      <th>1</th>\n",
       "      <td>0000031887</td>\n",
       "      <td>Mystiqueshapes Girls Ballet Tutu Neon Lime Green</td>\n",
       "      <td>Dance Dresses, Skirts &amp; Costumes</td>\n",
       "      <td>{'Type': [{'value': 'Tutu', 'pid': 0, 'begin':...</td>\n",
       "      <td>Mystiqueshapes Girls Ballet Tutu Neon Lime Gre...</td>\n",
       "    </tr>\n",
       "    <tr>\n",
       "      <th>2</th>\n",
       "      <td>0000031895</td>\n",
       "      <td>Girls Ballet Tutu Neon Blue</td>\n",
       "      <td>Dance Dresses, Skirts &amp; Costumes</td>\n",
       "      <td>{'Dance Style': [{'value': 'Ballet', 'pid': 0,...</td>\n",
       "      <td>Girls Ballet Tutu Neon Blue -&gt; Girls [Ballet](...</td>\n",
       "    </tr>\n",
       "    <tr>\n",
       "      <th>3</th>\n",
       "      <td>0000031909</td>\n",
       "      <td>Mystiqueshapes Girls Ballet Tutu Neon Pink</td>\n",
       "      <td>Dance Dresses, Skirts &amp; Costumes</td>\n",
       "      <td>{'Dance Style': [{'value': 'Ballet', 'pid': 0,...</td>\n",
       "      <td>Mystiqueshapes Girls Ballet Tutu Neon Pink -&gt; ...</td>\n",
       "    </tr>\n",
       "    <tr>\n",
       "      <th>4</th>\n",
       "      <td>0000032034</td>\n",
       "      <td>Adult Ballet Tutu Yellow</td>\n",
       "      <td>Dance Dresses, Skirts &amp; Costumes</td>\n",
       "      <td>{'Dance Style': [{'value': 'Ballet', 'pid': 0,...</td>\n",
       "      <td>Adult Ballet Tutu Yellow -&gt; Adult [Ballet](Dan...</td>\n",
       "    </tr>\n",
       "    <tr>\n",
       "      <th>...</th>\n",
       "      <td>...</td>\n",
       "      <td>...</td>\n",
       "      <td>...</td>\n",
       "      <td>...</td>\n",
       "      <td>...</td>\n",
       "    </tr>\n",
       "    <tr>\n",
       "      <th>1561014</th>\n",
       "      <td>B01HJH8JBI</td>\n",
       "      <td>Deer Stags Men's Lohi Oxford</td>\n",
       "      <td>Shoes</td>\n",
       "      <td>{'Silhouette': [{'value': 'Oxford', 'pid': 0, ...</td>\n",
       "      <td>Deer Stags Men's Lohi Oxford -&gt; Deer Stags Men...</td>\n",
       "    </tr>\n",
       "    <tr>\n",
       "      <th>1561015</th>\n",
       "      <td>B01HJHA4W0</td>\n",
       "      <td>Soludos Women's Tall Espadrille Wedge Sandal</td>\n",
       "      <td>Shoes</td>\n",
       "      <td>{'Type': [{'value': 'Sandal', 'pid': 0, 'begin...</td>\n",
       "      <td>Soludos Women's Tall Espadrille Wedge Sandal -...</td>\n",
       "    </tr>\n",
       "    <tr>\n",
       "      <th>1561016</th>\n",
       "      <td>B01HJHND96</td>\n",
       "      <td>House Greyjoy Game of Thrones Tank Top</td>\n",
       "      <td>Shirts &amp; Tops</td>\n",
       "      <td>{'Sleeve Style': [{'value': 'Tank Top', 'pid':...</td>\n",
       "      <td>House Greyjoy Game of Thrones Tank Top -&gt; Hous...</td>\n",
       "    </tr>\n",
       "    <tr>\n",
       "      <th>1561017</th>\n",
       "      <td>B01HJHR2PM</td>\n",
       "      <td>Mural Art 12 Colors Waterproof Metal Glass Fin...</td>\n",
       "      <td>Markers &amp; Highlighters</td>\n",
       "      <td>{'Type': [{'value': 'Marker', 'pid': 0, 'begin...</td>\n",
       "      <td>Mural Art 12 Colors Waterproof Metal Glass Fin...</td>\n",
       "    </tr>\n",
       "    <tr>\n",
       "      <th>1561018</th>\n",
       "      <td>B01HJHR8A6</td>\n",
       "      <td>Newborn Baby Girl Bodysuit Lace Floral Romper ...</td>\n",
       "      <td>Baby One-Pieces</td>\n",
       "      <td>{'Pattern': [{'value': 'Floral', 'pid': 0, 'be...</td>\n",
       "      <td>Newborn Baby Girl Bodysuit Lace Floral Romper ...</td>\n",
       "    </tr>\n",
       "  </tbody>\n",
       "</table>\n",
       "<p>1561019 rows × 5 columns</p>\n",
       "</div>"
      ],
      "text/plain": [
       "                 id                                              title  \\\n",
       "0        0000031860                      Girls Ballet Tutu Neon Orange   \n",
       "1        0000031887   Mystiqueshapes Girls Ballet Tutu Neon Lime Green   \n",
       "2        0000031895                        Girls Ballet Tutu Neon Blue   \n",
       "3        0000031909         Mystiqueshapes Girls Ballet Tutu Neon Pink   \n",
       "4        0000032034                           Adult Ballet Tutu Yellow   \n",
       "...             ...                                                ...   \n",
       "1561014  B01HJH8JBI                       Deer Stags Men's Lohi Oxford   \n",
       "1561015  B01HJHA4W0       Soludos Women's Tall Espadrille Wedge Sandal   \n",
       "1561016  B01HJHND96             House Greyjoy Game of Thrones Tank Top   \n",
       "1561017  B01HJHR2PM  Mural Art 12 Colors Waterproof Metal Glass Fin...   \n",
       "1561018  B01HJHR8A6  Newborn Baby Girl Bodysuit Lace Floral Romper ...   \n",
       "\n",
       "                            category_flat  \\\n",
       "0        Dance Dresses, Skirts & Costumes   \n",
       "1        Dance Dresses, Skirts & Costumes   \n",
       "2        Dance Dresses, Skirts & Costumes   \n",
       "3        Dance Dresses, Skirts & Costumes   \n",
       "4        Dance Dresses, Skirts & Costumes   \n",
       "...                                   ...   \n",
       "1561014                             Shoes   \n",
       "1561015                             Shoes   \n",
       "1561016                     Shirts & Tops   \n",
       "1561017            Markers & Highlighters   \n",
       "1561018                   Baby One-Pieces   \n",
       "\n",
       "                                          title_attributes  \\\n",
       "0        {'Dance Style': [{'value': 'Ballet', 'pid': 0,...   \n",
       "1        {'Type': [{'value': 'Tutu', 'pid': 0, 'begin':...   \n",
       "2        {'Dance Style': [{'value': 'Ballet', 'pid': 0,...   \n",
       "3        {'Dance Style': [{'value': 'Ballet', 'pid': 0,...   \n",
       "4        {'Dance Style': [{'value': 'Ballet', 'pid': 0,...   \n",
       "...                                                    ...   \n",
       "1561014  {'Silhouette': [{'value': 'Oxford', 'pid': 0, ...   \n",
       "1561015  {'Type': [{'value': 'Sandal', 'pid': 0, 'begin...   \n",
       "1561016  {'Sleeve Style': [{'value': 'Tank Top', 'pid':...   \n",
       "1561017  {'Type': [{'value': 'Marker', 'pid': 0, 'begin...   \n",
       "1561018  {'Pattern': [{'value': 'Floral', 'pid': 0, 'be...   \n",
       "\n",
       "                                                      text  \n",
       "0        Girls Ballet Tutu Neon Orange -> Girls [Ballet...  \n",
       "1        Mystiqueshapes Girls Ballet Tutu Neon Lime Gre...  \n",
       "2        Girls Ballet Tutu Neon Blue -> Girls [Ballet](...  \n",
       "3        Mystiqueshapes Girls Ballet Tutu Neon Pink -> ...  \n",
       "4        Adult Ballet Tutu Yellow -> Adult [Ballet](Dan...  \n",
       "...                                                    ...  \n",
       "1561014  Deer Stags Men's Lohi Oxford -> Deer Stags Men...  \n",
       "1561015  Soludos Women's Tall Espadrille Wedge Sandal -...  \n",
       "1561016  House Greyjoy Game of Thrones Tank Top -> Hous...  \n",
       "1561017  Mural Art 12 Colors Waterproof Metal Glass Fin...  \n",
       "1561018  Newborn Baby Girl Bodysuit Lace Floral Romper ...  \n",
       "\n",
       "[1561019 rows x 5 columns]"
      ]
     },
     "execution_count": 232,
     "metadata": {},
     "output_type": "execute_result"
    },
    {
     "ename": "",
     "evalue": "",
     "output_type": "error",
     "traceback": [
      "\u001b[1;31mThe Kernel crashed while executing code in the the current cell or a previous cell. Please review the code in the cell(s) to identify a possible cause of the failure. Click <a href='https://aka.ms/vscodeJupyterKernelCrash'>here</a> for more info. View Jupyter <a href='command:jupyter.viewOutput'>log</a> for further details."
     ]
    }
   ],
   "source": [
    "df_pos_correct_title_simple_aug"
   ]
  },
  {
   "cell_type": "code",
   "execution_count": null,
   "metadata": {},
   "outputs": [],
   "source": []
  }
 ],
 "metadata": {
  "kernelspec": {
   "display_name": "Python 3.8.13 64-bit",
   "language": "python",
   "name": "python3"
  },
  "language_info": {
   "codemirror_mode": {
    "name": "ipython",
    "version": 3
   },
   "file_extension": ".py",
   "mimetype": "text/x-python",
   "name": "python",
   "nbconvert_exporter": "python",
   "pygments_lexer": "ipython3",
   "version": "3.8.13"
  },
  "orig_nbformat": 4,
  "vscode": {
   "interpreter": {
    "hash": "949777d72b0d2535278d3dc13498b2535136f6dfe0678499012e853ee9abcab1"
   }
  }
 },
 "nbformat": 4,
 "nbformat_minor": 2
}
