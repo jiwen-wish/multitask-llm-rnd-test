{
 "cells": [
  {
   "cell_type": "code",
   "execution_count": 1,
   "metadata": {},
   "outputs": [],
   "source": [
    "import boto3\n",
    "from s3 import get_s3_file_keys\n",
    "s3_resource = boto3.resource('s3')\n"
   ]
  },
  {
   "cell_type": "code",
   "execution_count": 2,
   "metadata": {},
   "outputs": [
    {
     "data": {
      "text/plain": [
       "[('junwang_query_understand/', 0),\n",
       " ('junwang_query_understand/dvc/4c/b8c4c5851e621ba2fb01cee08c29a3', 2),\n",
       " ('junwang_query_understand/dvc/aa/0205e7f8214e22c9a15c5213927001', 2),\n",
       " ('junwang_query_understand/dvc/e4/a932dc78a0c06672c8b3e94c237a52', 45)]"
      ]
     },
     "execution_count": 2,
     "metadata": {},
     "output_type": "execute_result"
    }
   ],
   "source": [
    "get_s3_file_keys(s3_bucket='structured-data-dev', s3_prefix=\"junwang_query_understand/\")"
   ]
  },
  {
   "cell_type": "code",
   "execution_count": 3,
   "metadata": {},
   "outputs": [
    {
     "data": {
      "text/plain": [
       "[s3.ObjectSummary(bucket_name='structured-data-dev', key='junwang_query_understand/'),\n",
       " s3.ObjectSummary(bucket_name='structured-data-dev', key='junwang_query_understand/dvc/4c/b8c4c5851e621ba2fb01cee08c29a3'),\n",
       " s3.ObjectSummary(bucket_name='structured-data-dev', key='junwang_query_understand/dvc/aa/0205e7f8214e22c9a15c5213927001'),\n",
       " s3.ObjectSummary(bucket_name='structured-data-dev', key='junwang_query_understand/dvc/e4/a932dc78a0c06672c8b3e94c237a52')]"
      ]
     },
     "execution_count": 3,
     "metadata": {},
     "output_type": "execute_result"
    }
   ],
   "source": [
    "bucket = s3_resource.Bucket('structured-data-dev')\n",
    "list(bucket.objects.filter(Prefix=\"junwang_query_understand/\").all())"
   ]
  },
  {
   "cell_type": "code",
   "execution_count": 4,
   "metadata": {},
   "outputs": [
    {
     "data": {
      "text/plain": [
       "[{'ResponseMetadata': {'RequestId': 'WD8S36SRM9SKWHEQ',\n",
       "   'HostId': '0Uqo0wpREu30f2Ta+mxZ82Drr5i7TfWemf6s1JO0gD32xuDsSkSVttLGpPeoVFaWpY2baJ8sniQ=',\n",
       "   'HTTPStatusCode': 200,\n",
       "   'HTTPHeaders': {'x-amz-id-2': '0Uqo0wpREu30f2Ta+mxZ82Drr5i7TfWemf6s1JO0gD32xuDsSkSVttLGpPeoVFaWpY2baJ8sniQ=',\n",
       "    'x-amz-request-id': 'WD8S36SRM9SKWHEQ',\n",
       "    'date': 'Fri, 16 Sep 2022 14:07:44 GMT',\n",
       "    'content-type': 'application/xml',\n",
       "    'transfer-encoding': 'chunked',\n",
       "    'server': 'AmazonS3',\n",
       "    'connection': 'close'},\n",
       "   'RetryAttempts': 0},\n",
       "  'Deleted': [{'Key': 'junwang_query_understand/'},\n",
       "   {'Key': 'junwang_query_understand/dvc/4c/b8c4c5851e621ba2fb01cee08c29a3'},\n",
       "   {'Key': 'junwang_query_understand/dvc/e4/a932dc78a0c06672c8b3e94c237a52'},\n",
       "   {'Key': 'junwang_query_understand/dvc/aa/0205e7f8214e22c9a15c5213927001'}]}]"
      ]
     },
     "execution_count": 4,
     "metadata": {},
     "output_type": "execute_result"
    }
   ],
   "source": [
    "bucket.objects.filter(Prefix=\"junwang_query_understand/\").delete()"
   ]
  },
  {
   "cell_type": "code",
   "execution_count": 5,
   "metadata": {},
   "outputs": [
    {
     "data": {
      "text/plain": [
       "[]"
      ]
     },
     "execution_count": 5,
     "metadata": {},
     "output_type": "execute_result"
    }
   ],
   "source": [
    "bucket = s3_resource.Bucket('structured-data-dev')\n",
    "list(bucket.objects.filter(Prefix=\"junwang_query_understand/\").all())"
   ]
  },
  {
   "cell_type": "code",
   "execution_count": null,
   "metadata": {},
   "outputs": [],
   "source": []
  }
 ],
 "metadata": {
  "kernelspec": {
   "display_name": "Python 3.8.13 64-bit",
   "language": "python",
   "name": "python3"
  },
  "language_info": {
   "codemirror_mode": {
    "name": "ipython",
    "version": 3
   },
   "file_extension": ".py",
   "mimetype": "text/x-python",
   "name": "python",
   "nbconvert_exporter": "python",
   "pygments_lexer": "ipython3",
   "version": "3.8.13"
  },
  "orig_nbformat": 4,
  "vscode": {
   "interpreter": {
    "hash": "949777d72b0d2535278d3dc13498b2535136f6dfe0678499012e853ee9abcab1"
   }
  }
 },
 "nbformat": 4,
 "nbformat_minor": 2
}
