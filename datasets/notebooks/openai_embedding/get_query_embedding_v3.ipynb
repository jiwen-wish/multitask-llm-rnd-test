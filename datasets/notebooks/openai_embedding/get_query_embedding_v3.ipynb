{
 "cells": [
  {
   "cell_type": "code",
   "execution_count": 68,
   "metadata": {},
   "outputs": [],
   "source": [
    "import pandas as pd\n",
    "import json\n",
    "from tqdm import tqdm\n",
    "import numpy as np\n",
    "from joblib import dump, load"
   ]
  },
  {
   "cell_type": "code",
   "execution_count": 69,
   "metadata": {},
   "outputs": [
    {
     "data": {
      "text/plain": [
       "1536"
      ]
     },
     "execution_count": 69,
     "metadata": {},
     "output_type": "execute_result"
    }
   ],
   "source": [
    "from openai.embeddings_utils import get_embedding\n",
    "engine = 'text-embedding-ada-002'\n",
    "len(get_embedding('text', engine=engine))"
   ]
  },
  {
   "attachments": {},
   "cell_type": "markdown",
   "metadata": {},
   "source": [
    "# get query embeddings"
   ]
  },
  {
   "cell_type": "code",
   "execution_count": 3,
   "metadata": {},
   "outputs": [],
   "source": [
    "df_exist = pd.concat([\n",
    "    pd.read_json('/workspaces/multitask-llm-rnd/datasets/data/query_attr_extract_label/processed2/appen_020323_delivered_022123_validated_query_attr_train_oaiemb.json', lines=True),\n",
    "    pd.read_json('/workspaces/multitask-llm-rnd/datasets/data/query_attr_extract_label/processed2/appen_020323_delivered_022123_validated_query_attr_val_oaiemb.json', lines=True),\n",
    "    pd.read_json('/workspaces/multitask-llm-rnd/datasets/data/query_attr_extract_label/processed2/appen_020323_delivered_022123_validated_query_attr_test_oaiemb.json', lines=True)\n",
    "])"
   ]
  },
  {
   "cell_type": "code",
   "execution_count": 4,
   "metadata": {},
   "outputs": [],
   "source": [
    "df_train = pd.read_json('/workspaces/multitask-llm-rnd/datasets/data/query_attr_extract_label/processed3/appen_all_validated_query_attr_train.json', lines=True)\n",
    "df_val = pd.read_json('/workspaces/multitask-llm-rnd/datasets/data/query_attr_extract_label/processed3/appen_all_validated_query_attr_val.json', lines=True)\n",
    "df_test = pd.read_json('/workspaces/multitask-llm-rnd/datasets/data/query_attr_extract_label/processed3/appen_all_validated_query_attr_test.json', lines=True)"
   ]
  },
  {
   "cell_type": "code",
   "execution_count": 5,
   "metadata": {},
   "outputs": [],
   "source": [
    "all_queries = set(df_train['query']).union(set(df_val['query'])).union(set(df_test['query']))"
   ]
  },
  {
   "cell_type": "code",
   "execution_count": 6,
   "metadata": {},
   "outputs": [
    {
     "data": {
      "text/plain": [
       "(44197, 324005)"
      ]
     },
     "execution_count": 6,
     "metadata": {},
     "output_type": "execute_result"
    }
   ],
   "source": [
    "len(set(df_exist['query'])), len(all_queries)"
   ]
  },
  {
   "cell_type": "code",
   "execution_count": 7,
   "metadata": {},
   "outputs": [],
   "source": [
    "df_emb_rest = pd.read_json('appen_tolabel_query_attr_leftover.json', lines=True)"
   ]
  },
  {
   "cell_type": "code",
   "execution_count": 8,
   "metadata": {},
   "outputs": [],
   "source": [
    "df_embs = pd.concat([\n",
    "    df_exist[['query', 'openai_embedding']],\n",
    "    df_emb_rest[['query', 'openai_embedding']]\n",
    "]).drop_duplicates('query')"
   ]
  },
  {
   "cell_type": "code",
   "execution_count": 9,
   "metadata": {},
   "outputs": [
    {
     "data": {
      "text/plain": [
       "1.543198407431984"
      ]
     },
     "execution_count": 9,
     "metadata": {},
     "output_type": "execute_result"
    }
   ],
   "source": [
    "len(df_embs) / len(all_queries)"
   ]
  },
  {
   "cell_type": "code",
   "execution_count": 10,
   "metadata": {},
   "outputs": [],
   "source": [
    "df_train_emb = df_train.merge(df_embs, on='query', how='left')\n",
    "df_val_emb = df_val.merge(df_embs, on='query', how='left')\n",
    "df_test_emb = df_test.merge(df_embs, on='query', how='left')"
   ]
  },
  {
   "cell_type": "code",
   "execution_count": 11,
   "metadata": {},
   "outputs": [
    {
     "data": {
      "text/plain": [
       "(259204, 259204, 32400, 32400, 32401, 32401)"
      ]
     },
     "execution_count": 11,
     "metadata": {},
     "output_type": "execute_result"
    }
   ],
   "source": [
    "len(df_train_emb), len(df_train), len(df_val_emb), len(df_val), len(df_test_emb), len(df_test)"
   ]
  },
  {
   "cell_type": "code",
   "execution_count": 12,
   "metadata": {},
   "outputs": [],
   "source": [
    "df_train_emb.loc[df_train_emb.openai_embedding.isna(), 'openai_embedding'] = df_train_emb.loc[df_train_emb.openai_embedding.isna(), 'query'].apply( \n",
    "    lambda x: get_embedding(x, engine=engine))\n",
    "df_val_emb.loc[df_val_emb.openai_embedding.isna(), 'openai_embedding'] = df_val_emb.loc[df_val_emb.openai_embedding.isna(), 'query'].apply( \n",
    "    lambda x: get_embedding(x, engine=engine))\n",
    "df_test_emb.loc[df_test_emb.openai_embedding.isna(), 'openai_embedding'] = df_test_emb.loc[df_test_emb.openai_embedding.isna(), 'query'].apply( \n",
    "    lambda x: get_embedding(x, engine=engine))"
   ]
  },
  {
   "cell_type": "code",
   "execution_count": 13,
   "metadata": {},
   "outputs": [
    {
     "data": {
      "text/plain": [
       "(0, 0, 0)"
      ]
     },
     "execution_count": 13,
     "metadata": {},
     "output_type": "execute_result"
    }
   ],
   "source": [
    "len(df_train_emb[df_train_emb.openai_embedding.isna()]), len(df_val_emb[df_val_emb.openai_embedding.isna()]), len(df_test_emb[df_test_emb.openai_embedding.isna()])"
   ]
  },
  {
   "cell_type": "code",
   "execution_count": 14,
   "metadata": {},
   "outputs": [],
   "source": [
    "df_train_emb.to_json('/workspaces/multitask-llm-rnd/datasets/data/query_attr_extract_label/processed3/appen_all_validated_query_attr_train_oaiemb.json', \n",
    "    lines=True, orient='records')\n",
    "df_val_emb.to_json('/workspaces/multitask-llm-rnd/datasets/data/query_attr_extract_label/processed3/appen_all_validated_query_attr_val_oaiemb.json', \n",
    "    lines=True, orient='records')\n",
    "df_test_emb.to_json('/workspaces/multitask-llm-rnd/datasets/data/query_attr_extract_label/processed3/appen_all_validated_query_attr_test_oaiemb.json', \n",
    "    lines=True, orient='records')"
   ]
  },
  {
   "attachments": {},
   "cell_type": "markdown",
   "metadata": {},
   "source": [
    "# eval simple query model"
   ]
  },
  {
   "cell_type": "code",
   "execution_count": 70,
   "metadata": {},
   "outputs": [],
   "source": [
    "# df_train_emb = pd.read_json('/workspaces/multitask-llm-rnd/datasets/data/query_attr_extract_label/processed3/appen_all_validated_query_attr_train_oaiemb.json', \n",
    "#     lines=True)\n",
    "# df_val_emb = pd.read_json('/workspaces/multitask-llm-rnd/datasets/data/query_attr_extract_label/processed3/appen_all_validated_query_attr_val_oaiemb.json', \n",
    "#     lines=True)\n",
    "df_test_emb = pd.read_json('/workspaces/multitask-llm-rnd/datasets/data/query_attr_extract_label/processed3/appen_all_validated_query_attr_test_oaiemb.json', \n",
    "    lines=True)"
   ]
  },
  {
   "cell_type": "code",
   "execution_count": 71,
   "metadata": {},
   "outputs": [],
   "source": [
    "# df_train_emb.loc[df_train_emb['attr_name_value_pairs_normalized_text'].apply(lambda x: len(x) == 0), 'attr_name_value_pairs_normalized_text'] = 'unknown'\n",
    "# df_val_emb.loc[df_val_emb['attr_name_value_pairs_normalized_text'].apply(lambda x: len(x) == 0), 'attr_name_value_pairs_normalized_text'] = 'unknown'\n",
    "df_test_emb.loc[df_test_emb['attr_name_value_pairs_normalized_text'].apply(lambda x: len(x) == 0), 'attr_name_value_pairs_normalized_text'] = 'unknown'"
   ]
  },
  {
   "cell_type": "code",
   "execution_count": 72,
   "metadata": {},
   "outputs": [],
   "source": [
    "# X_train = np.array(df_train_emb['openai_embedding'].to_list())\n",
    "# X_val = np.array(df_val_emb['openai_embedding'].to_list())\n",
    "X_test = np.array(df_test_emb['openai_embedding'].to_list())"
   ]
  },
  {
   "cell_type": "code",
   "execution_count": 73,
   "metadata": {},
   "outputs": [
    {
     "data": {
      "text/plain": [
       "(32401, 1536)"
      ]
     },
     "execution_count": 73,
     "metadata": {},
     "output_type": "execute_result"
    }
   ],
   "source": [
    "# X_train.shape, X_val.shape, \n",
    "X_test.shape"
   ]
  },
  {
   "cell_type": "code",
   "execution_count": 74,
   "metadata": {},
   "outputs": [],
   "source": [
    "label2id = {}\n",
    "with open('../../data/attribute_extraction_metadata_template/25L2_unfreetext_attribute_name_value_pairs_02232023.txt', 'r') as f:\n",
    "    for l in f:\n",
    "        i = l.replace('\\n', '')\n",
    "        if len(i) > 0:\n",
    "            label2id[i] = len(label2id)\n",
    "label2id['unknown'] = len(label2id)"
   ]
  },
  {
   "cell_type": "code",
   "execution_count": 75,
   "metadata": {},
   "outputs": [
    {
     "data": {
      "text/plain": [
       "6876"
      ]
     },
     "execution_count": 75,
     "metadata": {},
     "output_type": "execute_result"
    }
   ],
   "source": [
    "len(label2id)"
   ]
  },
  {
   "cell_type": "code",
   "execution_count": 76,
   "metadata": {},
   "outputs": [],
   "source": [
    "id2label = {label2id[i]: i for i in label2id}"
   ]
  },
  {
   "cell_type": "code",
   "execution_count": 77,
   "metadata": {},
   "outputs": [],
   "source": [
    "# y_train = np.zeros((len(X_train), len(label2id)))\n",
    "# y_val = np.zeros((len(X_val), len(label2id)))\n",
    "y_test = np.zeros((len(X_test), len(label2id)))"
   ]
  },
  {
   "cell_type": "code",
   "execution_count": 78,
   "metadata": {},
   "outputs": [],
   "source": [
    "# for ind, i in enumerate(df_train_emb['attr_name_value_pairs_normalized_text'].to_list()):\n",
    "#     for j in i.split('\\n'):\n",
    "#         if j in label2id:\n",
    "#             y_train[ind, label2id[j]] = 1\n",
    "\n",
    "# for ind, i in enumerate(df_val_emb['attr_name_value_pairs_normalized_text'].to_list()):\n",
    "#     for j in i.split('\\n'):\n",
    "#         if j in label2id:\n",
    "#             y_val[ind, label2id[j]] = 1\n",
    "\n",
    "for ind, i in enumerate(df_test_emb['attr_name_value_pairs_normalized_text'].to_list()):\n",
    "    for j in i.split('\\n'):\n",
    "        if j in label2id:\n",
    "            y_test[ind, label2id[j]] = 1"
   ]
  },
  {
   "cell_type": "code",
   "execution_count": 79,
   "metadata": {},
   "outputs": [
    {
     "data": {
      "text/plain": [
       "1.0771581124039382"
      ]
     },
     "execution_count": 79,
     "metadata": {},
     "output_type": "execute_result"
    }
   ],
   "source": [
    "# y_train.sum(1).mean(), y_val.sum(1).mean(), \n",
    "y_test.sum(1).mean()"
   ]
  },
  {
   "cell_type": "code",
   "execution_count": 80,
   "metadata": {},
   "outputs": [
    {
     "data": {
      "text/plain": [
       "(1.0, 9.0)"
      ]
     },
     "execution_count": 80,
     "metadata": {},
     "output_type": "execute_result"
    }
   ],
   "source": [
    "y_test.sum(1).min(), y_test.sum(1).max()"
   ]
  },
  {
   "cell_type": "code",
   "execution_count": 81,
   "metadata": {},
   "outputs": [],
   "source": [
    "from sklearn.metrics import (classification_report, accuracy_score, \n",
    "    label_ranking_average_precision_score)"
   ]
  },
  {
   "cell_type": "code",
   "execution_count": 82,
   "metadata": {},
   "outputs": [],
   "source": [
    "clf = load('simple_models/query_attrkv_clf_oaiemb_logistic_v3.joblib')"
   ]
  },
  {
   "cell_type": "code",
   "execution_count": 83,
   "metadata": {},
   "outputs": [],
   "source": [
    "probas = clf.predict_proba(X_test)"
   ]
  },
  {
   "cell_type": "code",
   "execution_count": 84,
   "metadata": {},
   "outputs": [
    {
     "data": {
      "text/plain": [
       "0.7510273384810208"
      ]
     },
     "execution_count": 84,
     "metadata": {},
     "output_type": "execute_result"
    }
   ],
   "source": [
    "label_ranking_average_precision_score(y_test, probas)"
   ]
  },
  {
   "cell_type": "code",
   "execution_count": 85,
   "metadata": {},
   "outputs": [],
   "source": [
    "preds = clf.predict(X_test)"
   ]
  },
  {
   "cell_type": "code",
   "execution_count": 86,
   "metadata": {},
   "outputs": [
    {
     "name": "stdout",
     "output_type": "stream",
     "text": [
      "00         0\n",
      "        6871       0.00      0.00      0.00         0\n",
      "        6872       0.00      0.00      0.00         1\n",
      "        6873       0.00      0.00      0.00         0\n",
      "        6874       0.00      0.00      0.00        43\n",
      "        6875       0.72      0.78      0.75     17275\n",
      "\n",
      "   micro avg       0.72      0.51      0.60     34901\n",
      "   macro avg       0.01      0.00      0.00     34901\n",
      "weighted avg       0.58      0.51      0.52     34901\n",
      " samples avg       0.54      0.53      0.53     34901\n",
      "\n"
     ]
    }
   ],
   "source": [
    "report = classification_report(y_test, preds, zero_division=0)\n",
    "print(report[-500:])"
   ]
  },
  {
   "cell_type": "code",
   "execution_count": 87,
   "metadata": {},
   "outputs": [
    {
     "name": "stdout",
     "output_type": "stream",
     "text": [
      "00         0\n",
      "        6871       0.00      0.00      0.00         0\n",
      "        6872       0.00      0.00      0.00         1\n",
      "        6873       0.00      0.00      0.00         0\n",
      "        6874       0.38      0.42      0.40        43\n",
      "        6875       0.60      0.97      0.74     17275\n",
      "\n",
      "   micro avg       0.59      0.69      0.64     34901\n",
      "   macro avg       0.01      0.01      0.01     34901\n",
      "weighted avg       0.51      0.69      0.57     34901\n",
      " samples avg       0.63      0.72      0.65     34901\n",
      "\n"
     ]
    }
   ],
   "source": [
    "report = classification_report(y_test, probas > 0.2, zero_division=0)\n",
    "print(report[-500:])"
   ]
  },
  {
   "cell_type": "code",
   "execution_count": 88,
   "metadata": {},
   "outputs": [
    {
     "name": "stdout",
     "output_type": "stream",
     "text": [
      "00         0\n",
      "        6871       0.00      0.00      0.00         0\n",
      "        6872       0.00      0.00      0.00         1\n",
      "        6873       0.00      0.00      0.00         0\n",
      "        6874       0.33      0.67      0.45        43\n",
      "        6875       0.56      0.99      0.72     17275\n",
      "\n",
      "   micro avg       0.53      0.75      0.62     34901\n",
      "   macro avg       0.01      0.01      0.01     34901\n",
      "weighted avg       0.47      0.75      0.56     34901\n",
      " samples avg       0.60      0.77      0.65     34901\n",
      "\n"
     ]
    }
   ],
   "source": [
    "report = classification_report(y_test, probas > 0.1, zero_division=0)\n",
    "print(report[-500:])"
   ]
  },
  {
   "cell_type": "code",
   "execution_count": 89,
   "metadata": {},
   "outputs": [],
   "source": [
    "res = []\n",
    "for ind, i in enumerate((-probas).argsort(1)[:,:10]):\n",
    "    res_i = []\n",
    "    for j in i:\n",
    "        res_i.append((id2label[j], probas[ind, j]))\n",
    "    res.append(res_i)"
   ]
  },
  {
   "cell_type": "code",
   "execution_count": 90,
   "metadata": {},
   "outputs": [],
   "source": [
    "df_test_emb['top_preds'] = res"
   ]
  },
  {
   "cell_type": "code",
   "execution_count": 101,
   "metadata": {},
   "outputs": [
    {
     "data": {
      "text/plain": [
       "[{'query': 'casa para armar',\n",
       "  'attr_name_value_pairs_normalized': [],\n",
       "  'top_preds': [('unknown', 0.8699230375676457),\n",
       "   ('Materials|Wood', 0.030229983068668736),\n",
       "   ('Installation or Mount Compatibility|Wall Mount', 0.007058864951471235),\n",
       "   ('Theme|Home', 0.006994129593506658),\n",
       "   ('Primary Color|Brown', 0.006691190845992135),\n",
       "   ('Primary Color|Multicolor', 0.0062792994298387856),\n",
       "   ('Primary Color|Black', 0.005922252810004793),\n",
       "   ('Primary Color|Blue', 0.0032515932362382313),\n",
       "   ('Styles|Art Deco', 0.0032173978764749016),\n",
       "   ('Primary Color|White', 0.003055567604436222)]},\n",
       " {'query': 'throw throw burrito',\n",
       "  'attr_name_value_pairs_normalized': [['Included Components',\n",
       "    'Throw Pillow']],\n",
       "  'top_preds': [('unknown', 0.931902528310769),\n",
       "   ('Primary Color|Brown', 0.005862086043767474),\n",
       "   ('Primary Color|Multicolor', 0.005372725447885591),\n",
       "   ('Theme|TV & Movies', 0.004054119246258599),\n",
       "   ('Theme|Animals', 0.003709178680723396),\n",
       "   ('Primary Color|Red', 0.003595764513734315),\n",
       "   ('Primary Color|Black', 0.003259445851166843),\n",
       "   ('Theme|Cartoon', 0.0029352448001640774),\n",
       "   ('Primary Color|Blue', 0.002230836019456667),\n",
       "   ('Department|Women', 0.0019273415697009747)]},\n",
       " {'query': 'rings for phones',\n",
       "  'attr_name_value_pairs_normalized': [],\n",
       "  'top_preds': [('unknown', 0.2733918151037037),\n",
       "   ('Primary Color|Black', 0.021966426502678032),\n",
       "   ('Item Condition|New', 0.021399937601301454),\n",
       "   ('Theme|Phone', 0.020131229164334793),\n",
       "   ('Primary Color|Multicolor', 0.005750043077856395),\n",
       "   ('Department|Women', 0.005503349753472759),\n",
       "   ('Brand|Samsung', 0.0052224169018302595),\n",
       "   ('Included Components|Protective Case', 0.0036596250998958517),\n",
       "   ('Primary Color|Red', 0.003332988998479956),\n",
       "   ('Intended Usage|Car', 0.0032139803027720335)]},\n",
       " {'query': 'honor 7s case',\n",
       "  'attr_name_value_pairs_normalized': [],\n",
       "  'top_preds': [('unknown', 0.6801985063659345),\n",
       "   ('Item Condition|New', 0.03977801444205211),\n",
       "   ('Theme|Phone', 0.03314385375027527),\n",
       "   ('Brand|Samsung', 0.0316492489400529),\n",
       "   ('Included Components|Protective Case', 0.01689319693517964),\n",
       "   ('Primary Color|Black', 0.012252639580228335),\n",
       "   ('Brand|LG', 0.00826862255072865),\n",
       "   ('Brand|Motorola', 0.004077967150167135),\n",
       "   ('Materials|Silicone', 0.004042980132313926),\n",
       "   ('Primary Color|Multicolor', 0.0034079146160882847)]},\n",
       " {'query': 'thank u next phone case',\n",
       "  'attr_name_value_pairs_normalized': [],\n",
       "  'top_preds': [('unknown', 0.7088030936504793),\n",
       "   ('Theme|Phone', 0.02324068107213974),\n",
       "   ('Item Condition|New', 0.022938297039112023),\n",
       "   ('Primary Color|Black', 0.01529837729784761),\n",
       "   ('Brand|Samsung', 0.012375059586136038),\n",
       "   ('Theme|TV & Movies', 0.010102691216672347),\n",
       "   ('Included Components|Protective Case', 0.008475248818712307),\n",
       "   ('Theme|Anime', 0.0076214692081340175),\n",
       "   ('Theme|Music', 0.007568274526824463),\n",
       "   ('Theme|Cartoon', 0.006142528996074846)]}]"
      ]
     },
     "execution_count": 101,
     "metadata": {},
     "output_type": "execute_result"
    }
   ],
   "source": [
    "df_test_emb[['query', 'attr_name_value_pairs_normalized', 'top_preds']].sample(5).to_dict('records')"
   ]
  },
  {
   "cell_type": "code",
   "execution_count": 105,
   "metadata": {},
   "outputs": [],
   "source": [
    "emb_i = np.array([get_embedding('red xl shirt disney', engine=engine)])"
   ]
  },
  {
   "cell_type": "code",
   "execution_count": 106,
   "metadata": {},
   "outputs": [],
   "source": [
    "probas_ = clf.predict_proba(emb_i)\n",
    "res = []\n",
    "for ind, i in enumerate((-probas_).argsort(1)[:,:10]):\n",
    "    res_i = []\n",
    "    for j in i:\n",
    "        res_i.append((id2label[j], probas_[ind, j]))\n",
    "    res.append(res_i)"
   ]
  },
  {
   "cell_type": "code",
   "execution_count": 107,
   "metadata": {},
   "outputs": [
    {
     "data": {
      "text/plain": [
       "[[('Primary Color|Red', 0.33928501312759113),\n",
       "  ('unknown', 0.20941147267689375),\n",
       "  ('Theme|Cartoon', 0.15011342953581217),\n",
       "  ('Primary Color|Blue', 0.05548318955119273),\n",
       "  ('Pattern|Cartoon', 0.03804950395816539),\n",
       "  ('Theme|Cartoons', 0.027971773440853016),\n",
       "  ('Primary Color|Pink', 0.02222330143135701),\n",
       "  ('Theme|TV & Movies', 0.02151445237910148),\n",
       "  ('Primary Color|Yellow', 0.01639633551160718),\n",
       "  ('Primary Color|Purple', 0.009825727669336438)]]"
      ]
     },
     "execution_count": 107,
     "metadata": {},
     "output_type": "execute_result"
    }
   ],
   "source": [
    "res"
   ]
  },
  {
   "attachments": {},
   "cell_type": "markdown",
   "metadata": {},
   "source": [
    "# get erp embedding"
   ]
  },
  {
   "cell_type": "code",
   "execution_count": 3,
   "metadata": {},
   "outputs": [],
   "source": [
    "import dvc.api"
   ]
  },
  {
   "cell_type": "code",
   "execution_count": 98,
   "metadata": {},
   "outputs": [],
   "source": [
    "# df_erp_train = pd.read_json(dvc.api.get_url(\n",
    "#     'datasets/data/offshore_attr_extract/excel/erp/processed/offshore_amazon_erp_attr_train.json',\n",
    "#     repo='git@github.com:ContextLogic/multitask-llm-rnd.git'\n",
    "# ), lines=True)"
   ]
  },
  {
   "cell_type": "code",
   "execution_count": 99,
   "metadata": {},
   "outputs": [],
   "source": [
    "# df_erp_val = pd.read_json(dvc.api.get_url(\n",
    "#     'datasets/data/offshore_attr_extract/excel/erp/processed/offshore_amazon_erp_attr_val.json',\n",
    "#     repo='git@github.com:ContextLogic/multitask-llm-rnd.git'\n",
    "# ), lines=True)"
   ]
  },
  {
   "cell_type": "code",
   "execution_count": 100,
   "metadata": {},
   "outputs": [],
   "source": [
    "# df_erp_test = pd.read_json(dvc.api.get_url(\n",
    "#     'datasets/data/offshore_attr_extract/excel/erp/processed/offshore_amazon_erp_attr_test.json',\n",
    "#     repo='git@github.com:ContextLogic/multitask-llm-rnd.git'\n",
    "# ), lines=True)"
   ]
  },
  {
   "cell_type": "code",
   "execution_count": 101,
   "metadata": {},
   "outputs": [
    {
     "data": {
      "text/plain": [
       "(39600, 4950, 4951)"
      ]
     },
     "execution_count": 101,
     "metadata": {},
     "output_type": "execute_result"
    }
   ],
   "source": [
    "# len(df_erp_train), len(df_erp_val), len(df_erp_test), "
   ]
  },
  {
   "cell_type": "code",
   "execution_count": 102,
   "metadata": {},
   "outputs": [],
   "source": [
    "# df_erp_train['openai_embedding'] = df_erp_train['query'].apply(lambda x: get_embedding(x, engine=engine))\n",
    "# df_erp_val['openai_embedding'] = df_erp_val['query'].apply(lambda x: get_embedding(x, engine=engine))\n",
    "# df_erp_test['openai_embedding'] = df_erp_test['query'].apply(lambda x: get_embedding(x, engine=engine))"
   ]
  },
  {
   "cell_type": "code",
   "execution_count": 103,
   "metadata": {},
   "outputs": [],
   "source": [
    "# df_erp_train.to_json('/workspaces/multitask-llm-rnd/datasets/data/offshore_attr_extract/excel/erp/processed/offshore_amazon_erp_attr_train_oaiemb.json',  \n",
    "#     lines=True, orient='records')\n",
    "# df_erp_val.to_json('/workspaces/multitask-llm-rnd/datasets/data/offshore_attr_extract/excel/erp/processed/offshore_amazon_erp_attr_val_oaiemb.json',  \n",
    "#     lines=True, orient='records')\n",
    "# df_erp_test.to_json('/workspaces/multitask-llm-rnd/datasets/data/offshore_attr_extract/excel/erp/processed/offshore_amazon_erp_attr_test_oaiemb.json',  \n",
    "#     lines=True, orient='records')"
   ]
  },
  {
   "attachments": {},
   "cell_type": "markdown",
   "metadata": {},
   "source": [
    "# eval erp model"
   ]
  },
  {
   "cell_type": "code",
   "execution_count": 108,
   "metadata": {},
   "outputs": [],
   "source": [
    "# df_erp_train = pd.read_json('/workspaces/multitask-llm-rnd/datasets/data/offshore_attr_extract/excel/erp/processed/offshore_amazon_erp_attr_train_oaiemb.json', \n",
    "#     lines=True)\n",
    "# df_erp_val = pd.read_json('/workspaces/multitask-llm-rnd/datasets/data/offshore_attr_extract/excel/erp/processed/offshore_amazon_erp_attr_val_oaiemb.json', \n",
    "#     lines=True)\n",
    "df_erp_test = pd.read_json('/workspaces/multitask-llm-rnd/datasets/data/offshore_attr_extract/excel/erp/processed/offshore_amazon_erp_attr_test_oaiemb.json', \n",
    "    lines=True)"
   ]
  },
  {
   "cell_type": "code",
   "execution_count": 109,
   "metadata": {},
   "outputs": [],
   "source": [
    "X_test = np.array(df_erp_test['openai_embedding'].tolist())"
   ]
  },
  {
   "cell_type": "code",
   "execution_count": 110,
   "metadata": {},
   "outputs": [],
   "source": [
    "y_test = np.zeros((len(X_test), len(label2id)))"
   ]
  },
  {
   "cell_type": "code",
   "execution_count": 111,
   "metadata": {},
   "outputs": [],
   "source": [
    "df_erp_test.loc[df_erp_test['attr_name_value_pairs_normalized_text'].apply(lambda x: len(x) == 0), 'attr_name_value_pairs_normalized_text'] = 'unknown'"
   ]
  },
  {
   "cell_type": "code",
   "execution_count": 112,
   "metadata": {},
   "outputs": [],
   "source": [
    "for ind, i in enumerate(df_erp_test['attr_name_value_pairs_normalized_text'].to_list()):\n",
    "    for j in i.split('\\n'):\n",
    "        if j in label2id:\n",
    "            y_test[ind, label2id[j]] = 1"
   ]
  },
  {
   "cell_type": "code",
   "execution_count": 114,
   "metadata": {},
   "outputs": [
    {
     "data": {
      "text/plain": [
       "(1.0, 1.0, 1.0)"
      ]
     },
     "execution_count": 114,
     "metadata": {},
     "output_type": "execute_result"
    }
   ],
   "source": [
    "y_test.sum(1).mean(), y_test.sum(1).max(), y_test.sum(1).min()"
   ]
  },
  {
   "cell_type": "code",
   "execution_count": 115,
   "metadata": {},
   "outputs": [],
   "source": [
    "clf = load('simple_models/query_attrkv_clf_oaiemb_logistic_v3.joblib')"
   ]
  },
  {
   "cell_type": "code",
   "execution_count": 134,
   "metadata": {},
   "outputs": [],
   "source": [
    "clf_erp = load('simple_models/query_attrkv_clf_oaiemb_logistic_v3_erp.joblib')"
   ]
  },
  {
   "cell_type": "code",
   "execution_count": 116,
   "metadata": {},
   "outputs": [
    {
     "data": {
      "text/plain": [
       "(4951, 1536)"
      ]
     },
     "execution_count": 116,
     "metadata": {},
     "output_type": "execute_result"
    }
   ],
   "source": [
    "emb_erp.shape"
   ]
  },
  {
   "cell_type": "code",
   "execution_count": 117,
   "metadata": {},
   "outputs": [],
   "source": [
    "probas_ = clf.predict_proba(X_test)\n",
    "res = []\n",
    "for ind, i in enumerate((-probas_).argsort(1)[:,:10]):\n",
    "    res_i = []\n",
    "    for j in i:\n",
    "        res_i.append((id2label[j], probas_[ind, j]))\n",
    "    res.append(res_i)\n",
    "df_erp_test['top_preds_query'] = res\n",
    "probas_query_ = probas_"
   ]
  },
  {
   "cell_type": "code",
   "execution_count": 135,
   "metadata": {},
   "outputs": [],
   "source": [
    "probas_ = clf_erp.predict_proba(X_test)\n",
    "res = []\n",
    "for ind, i in enumerate((-probas_).argsort(1)[:,:10]):\n",
    "    res_i = []\n",
    "    for j in i:\n",
    "        res_i.append((id2label[j], probas_[ind, j]))\n",
    "    res.append(res_i)\n",
    "df_erp_test['top_preds_erp'] = res\n",
    "probas_erp_ = probas_"
   ]
  },
  {
   "cell_type": "code",
   "execution_count": 141,
   "metadata": {},
   "outputs": [],
   "source": [
    "mask = y_test[:,-1] == 0"
   ]
  },
  {
   "cell_type": "code",
   "execution_count": 142,
   "metadata": {},
   "outputs": [
    {
     "data": {
      "text/plain": [
       "0.1004638540237284"
      ]
     },
     "execution_count": 142,
     "metadata": {},
     "output_type": "execute_result"
    }
   ],
   "source": [
    "label_ranking_average_precision_score(y_test[mask], probas_query_[mask])"
   ]
  },
  {
   "cell_type": "code",
   "execution_count": 120,
   "metadata": {},
   "outputs": [
    {
     "data": {
      "text/plain": [
       "0.8560293646182596"
      ]
     },
     "execution_count": 120,
     "metadata": {},
     "output_type": "execute_result"
    }
   ],
   "source": [
    "label_ranking_average_precision_score(y_test, probas_query_)"
   ]
  },
  {
   "cell_type": "code",
   "execution_count": 143,
   "metadata": {},
   "outputs": [
    {
     "data": {
      "text/plain": [
       "0.05040953612194386"
      ]
     },
     "execution_count": 143,
     "metadata": {},
     "output_type": "execute_result"
    }
   ],
   "source": [
    "label_ranking_average_precision_score(y_test[mask], probas_erp_[mask])"
   ]
  },
  {
   "cell_type": "code",
   "execution_count": 136,
   "metadata": {},
   "outputs": [
    {
     "data": {
      "text/plain": [
       "0.8586450874816954"
      ]
     },
     "execution_count": 136,
     "metadata": {},
     "output_type": "execute_result"
    }
   ],
   "source": [
    "label_ranking_average_precision_score(y_test, probas_erp_)"
   ]
  },
  {
   "cell_type": "code",
   "execution_count": 122,
   "metadata": {},
   "outputs": [
    {
     "name": "stdout",
     "output_type": "stream",
     "text": [
      "00         0\n",
      "        6871       0.00      0.00      0.00         0\n",
      "        6872       0.00      0.00      0.00         0\n",
      "        6873       0.00      0.00      0.00         0\n",
      "        6874       0.00      0.00      0.00         0\n",
      "        6875       0.85      0.99      0.92      4214\n",
      "\n",
      "   micro avg       0.79      0.86      0.82      4951\n",
      "   macro avg       0.00      0.01      0.00      4951\n",
      "weighted avg       0.73      0.86      0.79      4951\n",
      " samples avg       0.83      0.86      0.84      4951\n",
      "\n"
     ]
    }
   ],
   "source": [
    "report = classification_report(y_test, probas_query_ > 0.1, zero_division=0)\n",
    "print(report[-500:])"
   ]
  },
  {
   "cell_type": "code",
   "execution_count": 144,
   "metadata": {},
   "outputs": [
    {
     "name": "stdout",
     "output_type": "stream",
     "text": [
      "00         0\n",
      "        6871       0.00      0.00      0.00         0\n",
      "        6872       0.00      0.00      0.00         0\n",
      "        6873       0.00      0.00      0.00         0\n",
      "        6874       0.00      0.00      0.00         0\n",
      "        6875       0.00      0.00      0.00         0\n",
      "\n",
      "   micro avg       0.08      0.09      0.08       737\n",
      "   macro avg       0.00      0.01      0.00       737\n",
      "weighted avg       0.06      0.09      0.07       737\n",
      " samples avg       0.04      0.09      0.06       737\n",
      "\n"
     ]
    }
   ],
   "source": [
    "report = classification_report(y_test[mask], probas_query_[mask] > 0.1, zero_division=0)\n",
    "print(report[-500:])"
   ]
  },
  {
   "cell_type": "code",
   "execution_count": 137,
   "metadata": {},
   "outputs": [
    {
     "name": "stdout",
     "output_type": "stream",
     "text": [
      "00         0\n",
      "        6871       0.00      0.00      0.00         0\n",
      "        6872       0.00      0.00      0.00         0\n",
      "        6873       0.00      0.00      0.00         0\n",
      "        6874       0.00      0.00      0.00         0\n",
      "        6875       0.85      1.00      0.92      4214\n",
      "\n",
      "   micro avg       0.85      0.85      0.85      4951\n",
      "   macro avg       0.00      0.00      0.00      4951\n",
      "weighted avg       0.73      0.85      0.78      4951\n",
      " samples avg       0.85      0.85      0.85      4951\n",
      "\n"
     ]
    }
   ],
   "source": [
    "report = classification_report(y_test, probas_erp_ > 0.1, zero_division=0)\n",
    "print(report[-500:])"
   ]
  },
  {
   "cell_type": "code",
   "execution_count": 150,
   "metadata": {},
   "outputs": [
    {
     "name": "stdout",
     "output_type": "stream",
     "text": [
      "00         0\n",
      "        6871       0.00      0.00      0.00         0\n",
      "        6872       0.00      0.00      0.00         0\n",
      "        6873       0.00      0.00      0.00         0\n",
      "        6874       0.00      0.00      0.00         0\n",
      "        6875       0.00      0.00      0.00         0\n",
      "\n",
      "   micro avg       0.00      0.00      0.00       737\n",
      "   macro avg       0.00      0.00      0.00       737\n",
      "weighted avg       0.00      0.00      0.00       737\n",
      " samples avg       0.00      0.00      0.00       737\n",
      "\n"
     ]
    }
   ],
   "source": [
    "report = classification_report(y_test[mask], probas_erp_[mask] > 0.1, zero_division=0)\n",
    "print(report[-500:])"
   ]
  },
  {
   "cell_type": "code",
   "execution_count": null,
   "metadata": {},
   "outputs": [],
   "source": []
  },
  {
   "cell_type": "code",
   "execution_count": 170,
   "metadata": {},
   "outputs": [
    {
     "data": {
      "text/plain": [
       "[{'query': 'Material Type: PU',\n",
       "  'attr_name_value_pairs_normalized': [['Materials', 'Polyurethane (PU)']],\n",
       "  'top_preds_query': [('Materials|Leather', 0.2589480361119265),\n",
       "   ('unknown', 0.11649041201385812),\n",
       "   ('Primary Color|Black', 0.012649646896899909),\n",
       "   ('Primary Color|Purple', 0.00823496060614962),\n",
       "   ('Primary Color|Brown', 0.0076698606037492265),\n",
       "   ('Department|Women', 0.007535662501138647),\n",
       "   ('Primary Color|Multicolor', 0.006786945608152073),\n",
       "   ('Primary Color|White', 0.006203145084398819),\n",
       "   ('Primary Color|Blue', 0.0037262290271591826),\n",
       "   ('Department|Men', 0.0033205296543382585)],\n",
       "  'top_preds_erp': [('unknown', 0.4277834568938449),\n",
       "   ('Materials|Leather', 0.0035536975668387064),\n",
       "   ('Materials|Polyurethane (PU)', 0.0024810873459420184),\n",
       "   ('Materials|Plastic', 0.0023691858697588086),\n",
       "   ('Materials|Cotton', 0.0023459189563730005),\n",
       "   ('Materials|Nylon', 0.0020977730851296267),\n",
       "   ('Materials|Neoprene', 0.0018711290138382903),\n",
       "   ('Materials|Suede', 0.0014906740597624582),\n",
       "   ('Materials|Stainless Steel', 0.0014065350422551753),\n",
       "   ('Materials|Wood', 0.001320541137437345)]}]"
      ]
     },
     "execution_count": 170,
     "metadata": {},
     "output_type": "execute_result"
    }
   ],
   "source": [
    "df_erp_test[(df_erp_test['attr_name_value_pairs_normalized'].apply(len) > 0) & \\\n",
    "    (df_erp_test['top_preds_query'].apply(lambda x: x[0][0] != 'unknown'))][\n",
    "    ['query', 'attr_name_value_pairs_normalized', 'top_preds_query', 'top_preds_erp']].sample(1).to_dict('records')"
   ]
  },
  {
   "cell_type": "code",
   "execution_count": null,
   "metadata": {},
   "outputs": [],
   "source": []
  }
 ],
 "metadata": {
  "kernelspec": {
   "display_name": "Python 3",
   "language": "python",
   "name": "python3"
  },
  "language_info": {
   "codemirror_mode": {
    "name": "ipython",
    "version": 3
   },
   "file_extension": ".py",
   "mimetype": "text/x-python",
   "name": "python",
   "nbconvert_exporter": "python",
   "pygments_lexer": "ipython3",
   "version": "3.8.16"
  },
  "orig_nbformat": 4,
  "vscode": {
   "interpreter": {
    "hash": "949777d72b0d2535278d3dc13498b2535136f6dfe0678499012e853ee9abcab1"
   }
  }
 },
 "nbformat": 4,
 "nbformat_minor": 2
}
