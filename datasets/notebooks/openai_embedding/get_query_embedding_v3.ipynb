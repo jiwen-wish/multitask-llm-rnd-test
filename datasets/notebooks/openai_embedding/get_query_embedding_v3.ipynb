{
 "cells": [
  {
   "cell_type": "code",
   "execution_count": 1,
   "metadata": {},
   "outputs": [],
   "source": [
    "import pandas as pd\n",
    "import json\n",
    "from tqdm import tqdm\n",
    "import numpy as np\n",
    "from joblib import dump, load"
   ]
  },
  {
   "cell_type": "code",
   "execution_count": 4,
   "metadata": {},
   "outputs": [
    {
     "data": {
      "text/plain": [
       "1536"
      ]
     },
     "execution_count": 4,
     "metadata": {},
     "output_type": "execute_result"
    }
   ],
   "source": [
    "from openai.embeddings_utils import get_embedding\n",
    "engine = 'text-embedding-ada-002'\n",
    "len(get_embedding('text', engine=engine))"
   ]
  },
  {
   "cell_type": "code",
   "execution_count": 12,
   "metadata": {},
   "outputs": [],
   "source": [
    "df_exist = pd.concat([\n",
    "    pd.read_json('/workspaces/multitask-llm-rnd/datasets/data/query_attr_extract_label/processed2/appen_020323_delivered_022123_validated_query_attr_train_oaiemb.json', lines=True),\n",
    "    pd.read_json('/workspaces/multitask-llm-rnd/datasets/data/query_attr_extract_label/processed2/appen_020323_delivered_022123_validated_query_attr_val_oaiemb.json', lines=True),\n",
    "    pd.read_json('/workspaces/multitask-llm-rnd/datasets/data/query_attr_extract_label/processed2/appen_020323_delivered_022123_validated_query_attr_test_oaiemb.json', lines=True)\n",
    "])"
   ]
  },
  {
   "cell_type": "code",
   "execution_count": 13,
   "metadata": {},
   "outputs": [],
   "source": [
    "df_train = pd.read_json('/workspaces/multitask-llm-rnd/datasets/data/query_attr_extract_label/processed3/appen_all_validated_query_attr_train.json', lines=True)\n",
    "df_val = pd.read_json('/workspaces/multitask-llm-rnd/datasets/data/query_attr_extract_label/processed3/appen_all_validated_query_attr_val.json', lines=True)\n",
    "df_test = pd.read_json('/workspaces/multitask-llm-rnd/datasets/data/query_attr_extract_label/processed3/appen_all_validated_query_attr_test.json', lines=True)"
   ]
  },
  {
   "cell_type": "code",
   "execution_count": 14,
   "metadata": {},
   "outputs": [],
   "source": [
    "all_queries = set(df_train['query']).union(set(df_val['query'])).union(set(df_test['query']))"
   ]
  },
  {
   "cell_type": "code",
   "execution_count": 15,
   "metadata": {},
   "outputs": [
    {
     "data": {
      "text/plain": [
       "(44197, 324005)"
      ]
     },
     "execution_count": 15,
     "metadata": {},
     "output_type": "execute_result"
    }
   ],
   "source": [
    "len(set(df_exist['query'])), len(all_queries)"
   ]
  },
  {
   "cell_type": "code",
   "execution_count": 11,
   "metadata": {},
   "outputs": [
    {
     "name": "stdout",
     "output_type": "stream",
     "text": [
      "15G\tappen_tolabel_query_attr_leftover.json\n"
     ]
    }
   ],
   "source": [
    "!du -sh appen_tolabel_query_attr_leftover.json"
   ]
  },
  {
   "cell_type": "code",
   "execution_count": 17,
   "metadata": {},
   "outputs": [],
   "source": [
    "df_emb_rest = pd.read_json('appen_tolabel_query_attr_leftover.json', lines=True)"
   ]
  },
  {
   "cell_type": "code",
   "execution_count": null,
   "metadata": {},
   "outputs": [],
   "source": []
  },
  {
   "cell_type": "code",
   "execution_count": null,
   "metadata": {},
   "outputs": [],
   "source": []
  },
  {
   "cell_type": "code",
   "execution_count": null,
   "metadata": {},
   "outputs": [],
   "source": [
    "df_embs = pd.concat([\n",
    "    df_exist[['query', 'openai_embedding']],\n",
    "    df_leftover[['query', 'openai_embedding']]\n",
    "]).drop_duplicates('query')"
   ]
  },
  {
   "cell_type": "code",
   "execution_count": null,
   "metadata": {},
   "outputs": [
    {
     "data": {
      "text/plain": [
       "0.9998786927935432"
      ]
     },
     "execution_count": 28,
     "metadata": {},
     "output_type": "execute_result"
    }
   ],
   "source": [
    "len(df_embs) / len(all_queries)"
   ]
  },
  {
   "cell_type": "code",
   "execution_count": null,
   "metadata": {},
   "outputs": [],
   "source": [
    "df_train_emb = df_train.merge(df_embs, on='query', how='left')\n",
    "df_val_emb = df_val.merge(df_embs, on='query', how='left')\n",
    "df_test_emb = df_test.merge(df_embs, on='query', how='left')"
   ]
  },
  {
   "cell_type": "code",
   "execution_count": null,
   "metadata": {},
   "outputs": [],
   "source": [
    "df_train_emb.loc[df_train_emb.openai_embedding.isna(), 'openai_embedding'] = df_train_emb.loc[df_train_emb.openai_embedding.isna(), 'query'].apply( \n",
    "    lambda x: get_embedding(x, engine=engine))\n",
    "df_val_emb.loc[df_val_emb.openai_embedding.isna(), 'openai_embedding'] = df_val_emb.loc[df_val_emb.openai_embedding.isna(), 'query'].apply( \n",
    "    lambda x: get_embedding(x, engine=engine))\n",
    "df_test_emb.loc[df_test_emb.openai_embedding.isna(), 'openai_embedding'] = df_test_emb.loc[df_test_emb.openai_embedding.isna(), 'query'].apply( \n",
    "    lambda x: get_embedding(x, engine=engine))"
   ]
  },
  {
   "cell_type": "code",
   "execution_count": null,
   "metadata": {},
   "outputs": [
    {
     "data": {
      "text/plain": [
       "(Empty DataFrame\n",
       " Columns: [label_ordering, sample_method, query, category, Rater_Answer, attr_name_value_pairs_normalized, attr_name_value_pairs_custom, attr_name_value_pairs_normalized_text, openai_embedding]\n",
       " Index: [],\n",
       " Empty DataFrame\n",
       " Columns: [label_ordering, sample_method, query, category, Rater_Answer, attr_name_value_pairs_normalized, attr_name_value_pairs_custom, attr_name_value_pairs_normalized_text, openai_embedding]\n",
       " Index: [],\n",
       " Empty DataFrame\n",
       " Columns: [label_ordering, sample_method, query, category, Rater_Answer, attr_name_value_pairs_normalized, attr_name_value_pairs_custom, attr_name_value_pairs_normalized_text, openai_embedding]\n",
       " Index: [])"
      ]
     },
     "execution_count": 40,
     "metadata": {},
     "output_type": "execute_result"
    }
   ],
   "source": [
    "df_train_emb[df_train_emb.openai_embedding.isna()], df_val_emb[df_val_emb.openai_embedding.isna()], df_test_emb[df_test_emb.openai_embedding.isna()]"
   ]
  },
  {
   "cell_type": "code",
   "execution_count": 41,
   "metadata": {},
   "outputs": [],
   "source": [
    "df_train_emb.to_json('/workspaces/multitask-llm-rnd/datasets/data/query_attr_extract_label/processed2/appen_020323_030323_delivered_030623_validated_query_attr_train_oaiemb.json', \n",
    "    lines=True, orient='records')\n",
    "df_val_emb.to_json('/workspaces/multitask-llm-rnd/datasets/data/query_attr_extract_label/processed2/appen_020323_030323_delivered_030623_validated_query_attr_val_oaiemb.json', \n",
    "    lines=True, orient='records')\n",
    "df_test_emb.to_json('/workspaces/multitask-llm-rnd/datasets/data/query_attr_extract_label/processed2/appen_020323_030323_delivered_030623_validated_query_attr_test_oaiemb.json', \n",
    "    lines=True, orient='records')"
   ]
  },
  {
   "attachments": {},
   "cell_type": "markdown",
   "metadata": {},
   "source": [
    "# train simple model"
   ]
  },
  {
   "cell_type": "code",
   "execution_count": 20,
   "metadata": {},
   "outputs": [],
   "source": [
    "df_train_emb = pd.read_json('/workspaces/multitask-llm-rnd/datasets/data/query_attr_extract_label/processed2/appen_020323_030323_delivered_030623_validated_query_attr_train_oaiemb.json', \n",
    "    lines=True)\n",
    "df_val_emb = pd.read_json('/workspaces/multitask-llm-rnd/datasets/data/query_attr_extract_label/processed2/appen_020323_030323_delivered_030623_validated_query_attr_val_oaiemb.json', \n",
    "    lines=True)\n",
    "df_test_emb = pd.read_json('/workspaces/multitask-llm-rnd/datasets/data/query_attr_extract_label/processed2/appen_020323_030323_delivered_030623_validated_query_attr_test_oaiemb.json', \n",
    "    lines=True)"
   ]
  },
  {
   "cell_type": "code",
   "execution_count": 21,
   "metadata": {},
   "outputs": [],
   "source": [
    "X_train = np.array(df_train_emb['openai_embedding'].to_list())\n",
    "X_val = np.array(df_val_emb['openai_embedding'].to_list())\n",
    "X_test = np.array(df_test_emb['openai_embedding'].to_list())"
   ]
  },
  {
   "cell_type": "code",
   "execution_count": 22,
   "metadata": {},
   "outputs": [
    {
     "data": {
      "text/plain": [
       "((74191, 1536), (24731, 1536), (24731, 1536))"
      ]
     },
     "execution_count": 22,
     "metadata": {},
     "output_type": "execute_result"
    }
   ],
   "source": [
    "X_train.shape, X_val.shape, X_test.shape"
   ]
  },
  {
   "cell_type": "code",
   "execution_count": 23,
   "metadata": {},
   "outputs": [],
   "source": [
    "label2id = {}\n",
    "with open('../../data/attribute_extraction_metadata_template/25L2_unfreetext_attribute_name_value_pairs_02232023.txt', 'r') as f:\n",
    "    for l in f:\n",
    "        i = l.replace('\\n', '')\n",
    "        if len(i) > 0:\n",
    "            label2id[i] = len(label2id)"
   ]
  },
  {
   "cell_type": "code",
   "execution_count": 24,
   "metadata": {},
   "outputs": [
    {
     "data": {
      "text/plain": [
       "6875"
      ]
     },
     "execution_count": 24,
     "metadata": {},
     "output_type": "execute_result"
    }
   ],
   "source": [
    "len(label2id)"
   ]
  },
  {
   "cell_type": "code",
   "execution_count": 25,
   "metadata": {},
   "outputs": [],
   "source": [
    "id2label = {label2id[i]: i for i in label2id}"
   ]
  },
  {
   "cell_type": "code",
   "execution_count": 26,
   "metadata": {},
   "outputs": [],
   "source": [
    "y_train = np.zeros((len(X_train), len(label2id)))\n",
    "y_val = np.zeros((len(X_val), len(label2id)))\n",
    "y_test = np.zeros((len(X_test), len(label2id)))"
   ]
  },
  {
   "cell_type": "code",
   "execution_count": 27,
   "metadata": {},
   "outputs": [],
   "source": [
    "for ind, i in enumerate(df_train_emb['attr_name_value_pairs_normalized_text'].to_list()):\n",
    "    for j in i.split('\\n'):\n",
    "        if j in label2id:\n",
    "            y_train[ind, label2id[j]] = 1\n",
    "\n",
    "for ind, i in enumerate(df_val_emb['attr_name_value_pairs_normalized_text'].to_list()):\n",
    "    for j in i.split('\\n'):\n",
    "        if j in label2id:\n",
    "            y_val[ind, label2id[j]] = 1\n",
    "\n",
    "for ind, i in enumerate(df_test_emb['attr_name_value_pairs_normalized_text'].to_list()):\n",
    "    for j in i.split('\\n'):\n",
    "        if j in label2id:\n",
    "            y_test[ind, label2id[j]] = 1"
   ]
  },
  {
   "cell_type": "code",
   "execution_count": 28,
   "metadata": {},
   "outputs": [
    {
     "data": {
      "text/plain": [
       "(0.4466849078729226, 0.45072985322065423, 0.4504872427317941)"
      ]
     },
     "execution_count": 28,
     "metadata": {},
     "output_type": "execute_result"
    }
   ],
   "source": [
    "y_train.sum(1).mean(), y_val.sum(1).mean(), y_test.sum(1).mean()"
   ]
  },
  {
   "cell_type": "code",
   "execution_count": 29,
   "metadata": {},
   "outputs": [
    {
     "data": {
      "text/plain": [
       "9.0"
      ]
     },
     "execution_count": 29,
     "metadata": {},
     "output_type": "execute_result"
    }
   ],
   "source": [
    "y_test.sum(1).max()"
   ]
  },
  {
   "cell_type": "code",
   "execution_count": 30,
   "metadata": {},
   "outputs": [],
   "source": [
    "from sklearn.svm import SVC\n",
    "from sklearn.multiclass import OneVsRestClassifier\n",
    "from sklearn.metrics import (classification_report, accuracy_score, \n",
    "    label_ranking_average_precision_score)"
   ]
  },
  {
   "cell_type": "code",
   "execution_count": null,
   "metadata": {},
   "outputs": [],
   "source": [
    "clf = OneVsRestClassifier(estimator=SVC(kernel=\"linear\", probability=True), n_jobs=-1, verbose=1)\n",
    "clf.fit(X_train, y_train) # 8 hours"
   ]
  },
  {
   "cell_type": "code",
   "execution_count": 62,
   "metadata": {},
   "outputs": [
    {
     "data": {
      "text/plain": [
       "['simple_models/query_attrkv_clf_oaiemb_svc_v2.joblib']"
      ]
     },
     "execution_count": 62,
     "metadata": {},
     "output_type": "execute_result"
    }
   ],
   "source": [
    "# dump(clf, 'simple_models/query_attrkv_clf_oaiemb_svc_v2.joblib') "
   ]
  },
  {
   "cell_type": "code",
   "execution_count": 31,
   "metadata": {},
   "outputs": [],
   "source": [
    "probas = clf.predict_proba(X_test)"
   ]
  },
  {
   "cell_type": "code",
   "execution_count": 32,
   "metadata": {},
   "outputs": [
    {
     "data": {
      "text/plain": [
       "0.8620175384326433"
      ]
     },
     "execution_count": 32,
     "metadata": {},
     "output_type": "execute_result"
    }
   ],
   "source": [
    "label_ranking_average_precision_score(y_test, probas)"
   ]
  },
  {
   "cell_type": "code",
   "execution_count": 33,
   "metadata": {},
   "outputs": [],
   "source": [
    "non_empty_idx = y_test.sum(1) > 0"
   ]
  },
  {
   "cell_type": "code",
   "execution_count": 34,
   "metadata": {},
   "outputs": [
    {
     "data": {
      "text/plain": [
       "0.6488893654673905"
      ]
     },
     "execution_count": 34,
     "metadata": {},
     "output_type": "execute_result"
    }
   ],
   "source": [
    "label_ranking_average_precision_score(y_test[non_empty_idx], probas[non_empty_idx])"
   ]
  },
  {
   "cell_type": "code",
   "execution_count": 65,
   "metadata": {},
   "outputs": [],
   "source": [
    "preds = clf.predict(X_test)"
   ]
  },
  {
   "cell_type": "code",
   "execution_count": 66,
   "metadata": {},
   "outputs": [
    {
     "name": "stdout",
     "output_type": "stream",
     "text": [
      "00         0\n",
      "        6870       0.00      0.00      0.00         0\n",
      "        6871       0.00      0.00      0.00         0\n",
      "        6872       0.00      0.00      0.00         1\n",
      "        6873       0.00      0.00      0.00         0\n",
      "        6874       0.00      0.00      0.00        29\n",
      "\n",
      "   micro avg       0.67      0.24      0.35     11141\n",
      "   macro avg       0.00      0.00      0.00     11141\n",
      "weighted avg       0.25      0.24      0.23     11141\n",
      " samples avg       0.10      0.09      0.09     11141\n",
      "\n"
     ]
    }
   ],
   "source": [
    "report = classification_report(y_test, preds, zero_division=0)\n",
    "print(report[-500:])"
   ]
  },
  {
   "cell_type": "code",
   "execution_count": 71,
   "metadata": {},
   "outputs": [
    {
     "name": "stdout",
     "output_type": "stream",
     "text": [
      "00         0\n",
      "        6870       0.00      0.00      0.00         0\n",
      "        6871       0.00      0.00      0.00         0\n",
      "        6872       0.00      0.00      0.00         1\n",
      "        6873       0.00      0.00      0.00         0\n",
      "        6874       0.48      0.34      0.40        29\n",
      "\n",
      "   micro avg       0.56      0.44      0.49     11141\n",
      "   macro avg       0.02      0.02      0.02     11141\n",
      "weighted avg       0.43      0.44      0.42     11141\n",
      " samples avg       0.17      0.17      0.17     11141\n",
      "\n"
     ]
    }
   ],
   "source": [
    "report = classification_report(y_test, probas > 0.2, zero_division=0)\n",
    "print(report[-500:])"
   ]
  },
  {
   "cell_type": "code",
   "execution_count": 35,
   "metadata": {},
   "outputs": [],
   "source": [
    "res = []\n",
    "for ind, i in enumerate((-probas).argsort(1)[:,:10]):\n",
    "    res_i = []\n",
    "    for j in i:\n",
    "        res_i.append((id2label[j], probas[ind, j]))\n",
    "    res.append(res_i)"
   ]
  },
  {
   "cell_type": "code",
   "execution_count": 74,
   "metadata": {},
   "outputs": [],
   "source": [
    "df_test_emb['top_preds'] = res"
   ]
  },
  {
   "cell_type": "code",
   "execution_count": 75,
   "metadata": {},
   "outputs": [
    {
     "data": {
      "text/plain": [
       "[{'query': 'copri scarpe pioggia',\n",
       "  'attr_name_value_pairs_normalized': [],\n",
       "  'top_preds': [('Department|Women', 0.018660112003396904),\n",
       "   ('Primary Color|Multicolor', 0.011761106948106627),\n",
       "   ('Included Components|Protective Case', 0.008807595703816501),\n",
       "   ('Sport or Activity Type|Fishing', 0.008757518099708777),\n",
       "   ('Department|Dogs', 0.008660792034879027),\n",
       "   ('Water Resistance Level|Waterproof', 0.0074308194002256946),\n",
       "   ('Primary Color|Black', 0.0054832199945372626),\n",
       "   ('Shoe Type|Ankle Boot', 0.005282173029696973),\n",
       "   ('Theme|Animals', 0.005254524551960455),\n",
       "   ('Primary Color|White', 0.003893629332394848)]},\n",
       " {'query': 'scarpe firmate uomo',\n",
       "  'attr_name_value_pairs_normalized': [],\n",
       "  'top_preds': [('Department|Men', 0.703696447666589),\n",
       "   ('Department|Women', 0.05870169287225553),\n",
       "   ('Primary Color|Black', 0.01563355135644077),\n",
       "   ('Heel Type|Flat', 0.012238306557035289),\n",
       "   ('Shoe Height|High Top', 0.010150855588023299),\n",
       "   ('Materials|Leather', 0.009008516066426072),\n",
       "   ('Water Resistance Level|Waterproof', 0.007956705015235016),\n",
       "   ('Heel Type|Heeled', 0.005611471232660105),\n",
       "   ('Theme|Phone', 0.005251080899392391),\n",
       "   ('Materials|Paper', 0.004453760376031249)]},\n",
       " {'query': 'scarpe da bici corsa',\n",
       "  'attr_name_value_pairs_normalized': [['Sport or Activity Type', 'Racing']],\n",
       "  'top_preds': [('Department|Women', 0.06012486875070767),\n",
       "   ('Department|Men', 0.030875340382811662),\n",
       "   ('Primary Color|Multicolor', 0.018500769862725797),\n",
       "   ('Heel Type|Platform Heel', 0.018155016405268228),\n",
       "   ('Sport or Activity Type|Cycling', 0.010388447787376003),\n",
       "   ('Occasion & Lifestyle|Wedding and Engagement', 0.009579782587734354),\n",
       "   ('Primary Color|Black', 0.006243357110410397),\n",
       "   ('Heel Type|High Heel', 0.005853624088828319),\n",
       "   ('Sport or Activity Type|Running', 0.005374185866500265),\n",
       "   ('Item Features|Ankle Cuff', 0.005290801922974717)]},\n",
       " {'query': 'flower pots walmart',\n",
       "  'attr_name_value_pairs_normalized': [],\n",
       "  'top_preds': [('Alpha Size|L', 0.030325540310419036),\n",
       "   ('Intended Usage|Outdoor', 0.025855319694208574),\n",
       "   ('Shape|Rectangular', 0.018494088924332474),\n",
       "   ('Alpha Size|S', 0.01766561723730963),\n",
       "   ('Materials|Wood', 0.01763939239516282),\n",
       "   ('Materials|Ceramic', 0.006103848212572328),\n",
       "   ('Base Type|Vase', 0.0054843440678340035),\n",
       "   ('Intended Usage|Indoor', 0.005469037680744835),\n",
       "   ('Primary Color|Brown', 0.005034933821342644),\n",
       "   ('Department|Dogs', 0.0045807265208526555)]},\n",
       " {'query': 'wedding carpet runner',\n",
       "  'attr_name_value_pairs_normalized': [['Occasion & Lifestyle',\n",
       "    'Wedding and Engagement']],\n",
       "  'top_preds': [('Occasion & Lifestyle|Wedding and Engagement',\n",
       "    0.5125399327997229),\n",
       "   ('Primary Color|Red', 0.01037083795756839),\n",
       "   ('Materials|Marble', 0.005845954596507614),\n",
       "   ('Department|Women', 0.00514076417073646),\n",
       "   ('Materials|Bamboo', 0.0042523000775562215),\n",
       "   ('Materials|Lace', 0.004130863007283405),\n",
       "   ('Primary Color|Gold', 0.00409364462487261),\n",
       "   ('Primary Color|White', 0.003471236438912902),\n",
       "   ('Pattern|Floral', 0.0033957336897297388),\n",
       "   ('Materials|Diamond', 0.00337076272285782)]}]"
      ]
     },
     "execution_count": 75,
     "metadata": {},
     "output_type": "execute_result"
    }
   ],
   "source": [
    "df_test_emb[['query', 'attr_name_value_pairs_normalized', 'top_preds']].sample(5).to_dict('records')"
   ]
  },
  {
   "cell_type": "code",
   "execution_count": 39,
   "metadata": {},
   "outputs": [],
   "source": [
    "emb_i = np.array([get_embedding('gold and pink phone charm', engine=engine)])"
   ]
  },
  {
   "cell_type": "code",
   "execution_count": 40,
   "metadata": {},
   "outputs": [],
   "source": [
    "probas = clf.predict_proba(emb_i)\n",
    "res = []\n",
    "for ind, i in enumerate((-probas).argsort(1)[:,:10]):\n",
    "    res_i = []\n",
    "    for j in i:\n",
    "        res_i.append((id2label[j], probas[ind, j]))\n",
    "    res.append(res_i)"
   ]
  },
  {
   "cell_type": "code",
   "execution_count": 41,
   "metadata": {},
   "outputs": [
    {
     "data": {
      "text/plain": [
       "[[('Primary Color|Pink', 0.8706981997222492),\n",
       "  ('Primary Color|Gold', 0.39582361860211335),\n",
       "  ('Materials|Gold', 0.0554972406148032),\n",
       "  ('Theme|Flowers', 0.01637651667555662),\n",
       "  ('Theme|Cartoon', 0.013148701149193396),\n",
       "  ('Materials|Rose Gold', 0.013014805449244358),\n",
       "  ('Department|Women', 0.01136299659795209),\n",
       "  ('Primary Color|Multicolor', 0.008781224025904304),\n",
       "  ('Materials|Glass', 0.004119989731698643),\n",
       "  ('Theme|Princess', 0.0038509526053711767)]]"
      ]
     },
     "execution_count": 41,
     "metadata": {},
     "output_type": "execute_result"
    }
   ],
   "source": [
    "res"
   ]
  },
  {
   "cell_type": "code",
   "execution_count": null,
   "metadata": {},
   "outputs": [],
   "source": []
  }
 ],
 "metadata": {
  "kernelspec": {
   "display_name": "Python 3",
   "language": "python",
   "name": "python3"
  },
  "language_info": {
   "codemirror_mode": {
    "name": "ipython",
    "version": 3
   },
   "file_extension": ".py",
   "mimetype": "text/x-python",
   "name": "python",
   "nbconvert_exporter": "python",
   "pygments_lexer": "ipython3",
   "version": "3.8.13"
  },
  "orig_nbformat": 4,
  "vscode": {
   "interpreter": {
    "hash": "949777d72b0d2535278d3dc13498b2535136f6dfe0678499012e853ee9abcab1"
   }
  }
 },
 "nbformat": 4,
 "nbformat_minor": 2
}
