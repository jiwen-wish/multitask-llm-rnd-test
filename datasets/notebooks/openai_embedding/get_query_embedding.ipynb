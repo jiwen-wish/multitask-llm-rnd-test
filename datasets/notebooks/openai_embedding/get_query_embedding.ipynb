{
 "cells": [
  {
   "cell_type": "code",
   "execution_count": 16,
   "metadata": {},
   "outputs": [],
   "source": [
    "from openai.embeddings_utils import get_embedding\n",
    "import pandas as pd\n",
    "from tqdm import tqdm\n",
    "import numpy as np\n",
    "from joblib import dump, load"
   ]
  },
  {
   "cell_type": "code",
   "execution_count": 2,
   "metadata": {},
   "outputs": [],
   "source": [
    "engine = 'text-embedding-ada-002'"
   ]
  },
  {
   "cell_type": "code",
   "execution_count": 9,
   "metadata": {},
   "outputs": [
    {
     "data": {
      "text/plain": [
       "1536"
      ]
     },
     "execution_count": 9,
     "metadata": {},
     "output_type": "execute_result"
    }
   ],
   "source": [
    "len(get_embedding('text', engine=engine))"
   ]
  },
  {
   "cell_type": "code",
   "execution_count": 11,
   "metadata": {},
   "outputs": [],
   "source": [
    "df_train = pd.read_json('/workspaces/multitask-llm-rnd/datasets/data/query_attr_extract_label/processed2/appen_020323_delivered_022123_validated_query_attr_train.json', \n",
    "    lines=True)\n",
    "df_val = pd.read_json('/workspaces/multitask-llm-rnd/datasets/data/query_attr_extract_label/processed2/appen_020323_delivered_022123_validated_query_attr_val.json', \n",
    "    lines=True)\n",
    "df_test = pd.read_json('/workspaces/multitask-llm-rnd/datasets/data/query_attr_extract_label/processed2/appen_020323_delivered_022123_validated_query_attr_test.json', \n",
    "    lines=True)"
   ]
  },
  {
   "cell_type": "code",
   "execution_count": 14,
   "metadata": {},
   "outputs": [
    {
     "name": "stderr",
     "output_type": "stream",
     "text": [
      "100%|██████████| 8840/8840 [18:39<00:00,  7.89it/s]  \n"
     ]
    }
   ],
   "source": [
    "recs = []\n",
    "for i in tqdm(df_test.to_dict('records')):\n",
    "    i['openai_embedding'] = get_embedding(i['query'], engine=engine)\n",
    "    recs.append(i)\n",
    "\n",
    "df_test_emb = pd.DataFrame(recs)"
   ]
  },
  {
   "cell_type": "code",
   "execution_count": 16,
   "metadata": {},
   "outputs": [
    {
     "name": "stderr",
     "output_type": "stream",
     "text": [
      "100%|██████████| 8839/8839 [16:27<00:00,  8.95it/s]  \n"
     ]
    }
   ],
   "source": [
    "recs = []\n",
    "for i in tqdm(df_val.to_dict('records')):\n",
    "    i['openai_embedding'] = get_embedding(i['query'], engine=engine)\n",
    "    recs.append(i)\n",
    "\n",
    "df_val_emb = pd.DataFrame(recs)"
   ]
  },
  {
   "cell_type": "code",
   "execution_count": 17,
   "metadata": {},
   "outputs": [
    {
     "name": "stderr",
     "output_type": "stream",
     "text": [
      "100%|██████████| 26518/26518 [1:04:01<00:00,  6.90it/s]  \n"
     ]
    }
   ],
   "source": [
    "recs = []\n",
    "for i in tqdm(df_train.to_dict('records')):\n",
    "    i['openai_embedding'] = get_embedding(i['query'], engine=engine)\n",
    "    recs.append(i)\n",
    "\n",
    "df_train_emb = pd.DataFrame(recs)"
   ]
  },
  {
   "cell_type": "code",
   "execution_count": 18,
   "metadata": {},
   "outputs": [],
   "source": [
    "df_train_emb.to_json('/workspaces/multitask-llm-rnd/datasets/data/query_attr_extract_label/processed2/appen_020323_delivered_022123_validated_query_attr_train_oaiemb.json', \n",
    "    lines=True, orient='records')\n",
    "df_val_emb.to_json('/workspaces/multitask-llm-rnd/datasets/data/query_attr_extract_label/processed2/appen_020323_delivered_022123_validated_query_attr_val_oaiemb.json', \n",
    "    lines=True, orient='records')\n",
    "df_test_emb.to_json('/workspaces/multitask-llm-rnd/datasets/data/query_attr_extract_label/processed2/appen_020323_delivered_022123_validated_query_attr_test_oaiemb.json', \n",
    "    lines=True, orient='records')"
   ]
  },
  {
   "cell_type": "code",
   "execution_count": 19,
   "metadata": {},
   "outputs": [
    {
     "data": {
      "text/plain": [
       "(26518, 8839, 8840)"
      ]
     },
     "execution_count": 19,
     "metadata": {},
     "output_type": "execute_result"
    }
   ],
   "source": [
    "len(df_train_emb), len(df_val_emb), len(df_test_emb)"
   ]
  },
  {
   "attachments": {},
   "cell_type": "markdown",
   "metadata": {},
   "source": [
    "# train simple model"
   ]
  },
  {
   "cell_type": "code",
   "execution_count": 3,
   "metadata": {},
   "outputs": [],
   "source": [
    "df_train_emb = pd.read_json('/workspaces/multitask-llm-rnd/datasets/data/query_attr_extract_label/processed2/appen_020323_delivered_022123_validated_query_attr_train_oaiemb.json', \n",
    "    lines=True)\n",
    "df_val_emb = pd.read_json('/workspaces/multitask-llm-rnd/datasets/data/query_attr_extract_label/processed2/appen_020323_delivered_022123_validated_query_attr_val_oaiemb.json', \n",
    "    lines=True)\n",
    "df_test_emb = pd.read_json('/workspaces/multitask-llm-rnd/datasets/data/query_attr_extract_label/processed2/appen_020323_delivered_022123_validated_query_attr_test_oaiemb.json', \n",
    "    lines=True)"
   ]
  },
  {
   "cell_type": "code",
   "execution_count": 4,
   "metadata": {},
   "outputs": [],
   "source": [
    "X_train = np.array(df_train_emb['openai_embedding'].to_list())\n",
    "X_val = np.array(df_val_emb['openai_embedding'].to_list())\n",
    "X_test = np.array(df_test_emb['openai_embedding'].to_list())"
   ]
  },
  {
   "cell_type": "code",
   "execution_count": 5,
   "metadata": {},
   "outputs": [
    {
     "data": {
      "text/plain": [
       "((26518, 1536), (8839, 1536), (8840, 1536))"
      ]
     },
     "execution_count": 5,
     "metadata": {},
     "output_type": "execute_result"
    }
   ],
   "source": [
    "X_train.shape, X_val.shape, X_test.shape"
   ]
  },
  {
   "cell_type": "code",
   "execution_count": 6,
   "metadata": {},
   "outputs": [],
   "source": [
    "label2id = {}\n",
    "with open('../../data/attribute_extraction_metadata_template/25L2_unfreetext_attribute_name_value_pairs_02232023.txt', 'r') as f:\n",
    "    for l in f:\n",
    "        i = l.replace('\\n', '')\n",
    "        if len(i) > 0:\n",
    "            label2id[i] = len(label2id)"
   ]
  },
  {
   "cell_type": "code",
   "execution_count": 7,
   "metadata": {},
   "outputs": [
    {
     "data": {
      "text/plain": [
       "6875"
      ]
     },
     "execution_count": 7,
     "metadata": {},
     "output_type": "execute_result"
    }
   ],
   "source": [
    "len(label2id)"
   ]
  },
  {
   "cell_type": "code",
   "execution_count": 8,
   "metadata": {},
   "outputs": [],
   "source": [
    "id2label = {label2id[i]: i for i in label2id}"
   ]
  },
  {
   "cell_type": "code",
   "execution_count": 9,
   "metadata": {},
   "outputs": [],
   "source": [
    "y_train = np.zeros((len(X_train), len(label2id)))\n",
    "y_val = np.zeros((len(X_val), len(label2id)))\n",
    "y_test = np.zeros((len(X_test), len(label2id)))"
   ]
  },
  {
   "cell_type": "code",
   "execution_count": 10,
   "metadata": {},
   "outputs": [],
   "source": [
    "for ind, i in enumerate(df_train_emb['attr_name_value_pairs_normalized_text'].to_list()):\n",
    "    for j in i.split('\\n'):\n",
    "        if j in label2id:\n",
    "            y_train[ind, label2id[j]] = 1\n",
    "\n",
    "for ind, i in enumerate(df_val_emb['attr_name_value_pairs_normalized_text'].to_list()):\n",
    "    for j in i.split('\\n'):\n",
    "        if j in label2id:\n",
    "            y_val[ind, label2id[j]] = 1\n",
    "\n",
    "for ind, i in enumerate(df_test_emb['attr_name_value_pairs_normalized_text'].to_list()):\n",
    "    for j in i.split('\\n'):\n",
    "        if j in label2id:\n",
    "            y_test[ind, label2id[j]] = 1"
   ]
  },
  {
   "cell_type": "code",
   "execution_count": 11,
   "metadata": {},
   "outputs": [
    {
     "data": {
      "text/plain": [
       "(0.6673580209668905, 0.6575404457517818, 0.6733031674208145)"
      ]
     },
     "execution_count": 11,
     "metadata": {},
     "output_type": "execute_result"
    }
   ],
   "source": [
    "y_train.sum(1).mean(), y_val.sum(1).mean(), y_test.sum(1).mean()"
   ]
  },
  {
   "cell_type": "code",
   "execution_count": 31,
   "metadata": {},
   "outputs": [],
   "source": [
    "from sklearn.ensemble import RandomForestClassifier\n",
    "from sklearn.svm import SVC\n",
    "from sklearn.multiclass import OneVsRestClassifier\n",
    "from sklearn.linear_model import LogisticRegression\n",
    "from sklearn.metrics import classification_report, accuracy_score"
   ]
  },
  {
   "cell_type": "code",
   "execution_count": 13,
   "metadata": {},
   "outputs": [],
   "source": [
    "clf = OneVsRestClassifier(SVC(kernel=\"linear\", probability=True))\n",
    "clf.fit(X_train, y_train) # 3 hours"
   ]
  },
  {
   "cell_type": "code",
   "execution_count": 81,
   "metadata": {},
   "outputs": [
    {
     "data": {
      "text/plain": [
       "['query_attrkv_clf_oaiemb_svc.joblib']"
      ]
     },
     "execution_count": 81,
     "metadata": {},
     "output_type": "execute_result"
    }
   ],
   "source": [
    "dump(clf, 'query_attrkv_clf_oaiemb_svc.joblib') "
   ]
  },
  {
   "cell_type": "code",
   "execution_count": null,
   "metadata": {},
   "outputs": [],
   "source": [
    "clf2 = OneVsRestClassifier(RandomForestClassifier(n_jobs=-1, verbose=3))\n",
    "clf2.fit(X_train, y_train) # 6 hours"
   ]
  },
  {
   "cell_type": "code",
   "execution_count": 17,
   "metadata": {},
   "outputs": [
    {
     "data": {
      "text/plain": [
       "['query_attrkv_clf_oaiemb_rf.joblib']"
      ]
     },
     "execution_count": 17,
     "metadata": {},
     "output_type": "execute_result"
    }
   ],
   "source": [
    "dump(clf2, 'query_attrkv_clf_oaiemb_rf.joblib') "
   ]
  },
  {
   "cell_type": "code",
   "execution_count": null,
   "metadata": {},
   "outputs": [],
   "source": [
    "clf3 = OneVsRestClassifier(LogisticRegression())\n",
    "clf3.fit(X_train, y_train) # 1 hour"
   ]
  },
  {
   "cell_type": "code",
   "execution_count": 34,
   "metadata": {},
   "outputs": [
    {
     "data": {
      "text/plain": [
       "['query_attrkv_clf_oaiemb_logistic.joblib']"
      ]
     },
     "execution_count": 34,
     "metadata": {},
     "output_type": "execute_result"
    }
   ],
   "source": [
    "dump(clf3, 'query_attrkv_clf_oaiemb_logistic.joblib') "
   ]
  },
  {
   "attachments": {},
   "cell_type": "markdown",
   "metadata": {},
   "source": [
    "# evaluate simple model"
   ]
  },
  {
   "cell_type": "code",
   "execution_count": 35,
   "metadata": {},
   "outputs": [],
   "source": [
    "# clf_loaded = load('query_attrkv_clf_oaiemb_svc.joblib')\n",
    "# clf_loaded = load('query_attrkv_clf_oaiemb_rf.joblib')\n",
    "# clf_loaded = load('query_attrkv_clf_oaiemb_logistic.joblib')"
   ]
  },
  {
   "cell_type": "code",
   "execution_count": 36,
   "metadata": {},
   "outputs": [],
   "source": [
    "preds_loaded = clf_loaded.predict(X_test)"
   ]
  },
  {
   "cell_type": "code",
   "execution_count": 37,
   "metadata": {},
   "outputs": [
    {
     "data": {
      "text/plain": [
       "911"
      ]
     },
     "execution_count": 37,
     "metadata": {},
     "output_type": "execute_result"
    }
   ],
   "source": [
    "preds.sum()"
   ]
  },
  {
   "cell_type": "code",
   "execution_count": 38,
   "metadata": {},
   "outputs": [
    {
     "data": {
      "text/plain": [
       "0.10305429864253393"
      ]
     },
     "execution_count": 38,
     "metadata": {},
     "output_type": "execute_result"
    }
   ],
   "source": [
    "preds.sum(1).mean()"
   ]
  },
  {
   "cell_type": "code",
   "execution_count": 39,
   "metadata": {},
   "outputs": [],
   "source": [
    "probas = clf_loaded.predict_proba(X_test)"
   ]
  },
  {
   "cell_type": "code",
   "execution_count": 40,
   "metadata": {},
   "outputs": [
    {
     "data": {
      "text/plain": [
       "array([[   0, 4069, 4068, ..., 3042, 3594,  447],\n",
       "       [   0, 4069, 4068, ..., 1151, 1161, 3993],\n",
       "       [   0, 4068, 6689, ..., 6337, 1169, 6291],\n",
       "       ...,\n",
       "       [   0, 4068, 6698, ...,  195,  192, 1151],\n",
       "       [   0, 4059, 4056, ...,  427,  447, 1852],\n",
       "       [   0, 4065, 4064, ..., 1169, 1161, 3661]])"
      ]
     },
     "execution_count": 40,
     "metadata": {},
     "output_type": "execute_result"
    }
   ],
   "source": [
    "probas.argsort(1)"
   ]
  },
  {
   "cell_type": "code",
   "execution_count": 27,
   "metadata": {},
   "outputs": [],
   "source": [
    "from sklearn.metrics import label_ranking_average_precision_score"
   ]
  },
  {
   "cell_type": "code",
   "execution_count": 28,
   "metadata": {},
   "outputs": [
    {
     "data": {
      "text/plain": [
       "0.7393416870884114"
      ]
     },
     "execution_count": 28,
     "metadata": {},
     "output_type": "execute_result"
    }
   ],
   "source": [
    "# label_ranking_average_precision_score(y_test, probas) # rf"
   ]
  },
  {
   "cell_type": "code",
   "execution_count": 60,
   "metadata": {},
   "outputs": [
    {
     "data": {
      "text/plain": [
       "0.8031911161314953"
      ]
     },
     "execution_count": 60,
     "metadata": {},
     "output_type": "execute_result"
    }
   ],
   "source": [
    "# label_ranking_average_precision_score(y_test, probas) # svc"
   ]
  },
  {
   "cell_type": "code",
   "execution_count": 41,
   "metadata": {},
   "outputs": [
    {
     "data": {
      "text/plain": [
       "0.7248930079822944"
      ]
     },
     "execution_count": 41,
     "metadata": {},
     "output_type": "execute_result"
    }
   ],
   "source": [
    "# label_ranking_average_precision_score(y_test, probas) # logistic"
   ]
  },
  {
   "cell_type": "code",
   "execution_count": 63,
   "metadata": {},
   "outputs": [
    {
     "name": "stdout",
     "output_type": "stream",
     "text": [
      "00         0\n",
      "        6870       0.00      0.00      0.00         0\n",
      "        6871       0.00      0.00      0.00         0\n",
      "        6872       0.00      0.00      0.00         0\n",
      "        6873       0.00      0.00      0.00         0\n",
      "        6874       0.00      0.00      0.00        16\n",
      "\n",
      "   micro avg       0.80      0.19      0.31      5952\n",
      "   macro avg       0.00      0.00      0.00      5952\n",
      "weighted avg       0.26      0.19      0.21      5952\n",
      " samples avg       0.13      0.11      0.12      5952\n",
      "\n"
     ]
    }
   ],
   "source": [
    "report = classification_report(y_test, preds, zero_division=0)\n",
    "print(report[-500:]) # svc"
   ]
  },
  {
   "cell_type": "code",
   "execution_count": 29,
   "metadata": {},
   "outputs": [
    {
     "name": "stdout",
     "output_type": "stream",
     "text": [
      "00         0\n",
      "        6870       0.00      0.00      0.00         0\n",
      "        6871       0.00      0.00      0.00         0\n",
      "        6872       0.00      0.00      0.00         0\n",
      "        6873       0.00      0.00      0.00         0\n",
      "        6874       0.00      0.00      0.00        16\n",
      "\n",
      "   micro avg       0.82      0.13      0.22      5952\n",
      "   macro avg       0.00      0.00      0.00      5952\n",
      "weighted avg       0.32      0.13      0.16      5952\n",
      " samples avg       0.08      0.07      0.08      5952\n",
      "\n"
     ]
    }
   ],
   "source": [
    "report = classification_report(y_test, preds, zero_division=0)\n",
    "print(report[-500:]) # rf"
   ]
  },
  {
   "cell_type": "code",
   "execution_count": 42,
   "metadata": {},
   "outputs": [
    {
     "name": "stdout",
     "output_type": "stream",
     "text": [
      "00         0\n",
      "        6870       0.00      0.00      0.00         0\n",
      "        6871       0.00      0.00      0.00         0\n",
      "        6872       0.00      0.00      0.00         0\n",
      "        6873       0.00      0.00      0.00         0\n",
      "        6874       0.00      0.00      0.00        16\n",
      "\n",
      "   micro avg       0.82      0.13      0.22      5952\n",
      "   macro avg       0.00      0.00      0.00      5952\n",
      "weighted avg       0.32      0.13      0.16      5952\n",
      " samples avg       0.08      0.07      0.08      5952\n",
      "\n"
     ]
    }
   ],
   "source": [
    "report = classification_report(y_test, preds, zero_division=0)\n",
    "print(report[-500:]) # logistic"
   ]
  },
  {
   "cell_type": "code",
   "execution_count": 73,
   "metadata": {},
   "outputs": [],
   "source": [
    "res = []\n",
    "for ind, i in enumerate((-probas).argsort(1)[:,:10]):\n",
    "    res_i = []\n",
    "    for j in i:\n",
    "        res_i.append((id2label[j], probas[ind, j]))\n",
    "    res.append(res_i)"
   ]
  },
  {
   "cell_type": "code",
   "execution_count": 76,
   "metadata": {},
   "outputs": [],
   "source": [
    "df_test_emb['top_preds'] = res"
   ]
  },
  {
   "cell_type": "code",
   "execution_count": 80,
   "metadata": {},
   "outputs": [
    {
     "data": {
      "text/plain": [
       "[{'query': 'realme 5i back cover',\n",
       "  'attr_name_value_pairs_normalized': [],\n",
       "  'top_preds': [('Included Components|Protective Case', 0.010202074901125586),\n",
       "   ('Theme|Wedding and Engagement', 0.008218037599417272),\n",
       "   ('Department|Women', 0.005537317179324901),\n",
       "   ('Installation or Mount Compatibility|Wall Mount', 0.0037468586823402),\n",
       "   ('Theme|Baby', 0.003500092559363201),\n",
       "   ('Department|Men', 0.003439599094986939),\n",
       "   ('Primary Color|Black', 0.003186536085666012),\n",
       "   ('Brand|Motorola', 0.0028616101572652387),\n",
       "   ('Brand|LG', 0.002737893766047473),\n",
       "   ('Item Features|Smartphone', 0.0025427083453395233)]},\n",
       " {'query': 'pokémon phone cases',\n",
       "  'attr_name_value_pairs_normalized': [['Theme', 'Cartoon']],\n",
       "  'top_preds': [('Theme|Anime', 0.173562671074284),\n",
       "   ('Theme|Cartoon', 0.0184959805216781),\n",
       "   ('Pattern|Cartoon', 0.013892497492176473),\n",
       "   ('Theme|Animal', 0.01377347542460196),\n",
       "   ('Theme|Dragons', 0.008758548779421171),\n",
       "   ('Theme|Sport', 0.00566508060635851),\n",
       "   ('Item Features|Smartphone', 0.00565858292677312),\n",
       "   ('Stand Feature|Handle', 0.005195108640565291),\n",
       "   ('Brand|Samsung', 0.003984003284799114),\n",
       "   ('Theme|Fantasy', 0.0035177466633287973)]},\n",
       " {'query': 'diamond sharpening rod',\n",
       "  'attr_name_value_pairs_normalized': [],\n",
       "  'top_preds': [('Main Stone|Diamond', 0.011527011692265813),\n",
       "   ('Main Stone|Sapphire', 0.010875827761526895),\n",
       "   ('Scent|Coffee', 0.008947568372595232),\n",
       "   ('Theme|Music', 0.007478837191852869),\n",
       "   ('Department|Men', 0.007234918356296507),\n",
       "   ('Heel Type|High Heel', 0.005670276741475953),\n",
       "   ('Primary Color|Black', 0.0054858215029641895),\n",
       "   ('Materials|Cast Iron', 0.003507257133012533),\n",
       "   ('Primary Color|Gray', 0.0034051299522769524),\n",
       "   ('Department|Women', 0.003278641185314283)]},\n",
       " {'query': 'guantes de proteccion para la cocina',\n",
       "  'attr_name_value_pairs_normalized': [],\n",
       "  'top_preds': [('Department|Women', 0.009699016708589645),\n",
       "   ('Included Components|Protective Case', 0.004861438701312414),\n",
       "   ('Reusability|Single Use', 0.0029813779125504227),\n",
       "   ('Recommended Room|Kitchen', 0.002597526432223004),\n",
       "   ('Brand|Samsung', 0.0022511132935916778),\n",
       "   ('Item Type|Kitchen', 0.0022104283577028296),\n",
       "   ('Shoe Type|Fire and Safety Shoe', 0.002058170143966772),\n",
       "   ('Materials|Steel', 0.002047873532009075),\n",
       "   ('Theme|Animals', 0.0019401490460613097),\n",
       "   ('Styles|Art Deco', 0.001708593960627923)]},\n",
       " {'query': 'latas de aluminio',\n",
       "  'attr_name_value_pairs_normalized': [],\n",
       "  'top_preds': [('Materials|Aluminum', 0.3066850285450101),\n",
       "   ('Materials|Metal', 0.027658878074208495),\n",
       "   ('Materials|Canvas', 0.01709233228318058),\n",
       "   ('Department|Women', 0.013229845867452938),\n",
       "   ('Materials|Silver', 0.008917880215506194),\n",
       "   ('Power Source|Battery Powered', 0.004515595247973681),\n",
       "   ('Primary Color|Silver', 0.004015904702272381),\n",
       "   ('Light Bulb Type|LED', 0.003847131852523487),\n",
       "   ('Materials|Glass', 0.003466564583248298),\n",
       "   ('Item Features|Fast Charging Support', 0.0032732338823293307)]}]"
      ]
     },
     "execution_count": 80,
     "metadata": {},
     "output_type": "execute_result"
    }
   ],
   "source": [
    "df_test_emb[['query', 'attr_name_value_pairs_normalized', 'top_preds']].sample(5).to_dict('records') # svc"
   ]
  },
  {
   "attachments": {},
   "cell_type": "markdown",
   "metadata": {},
   "source": [
    "# create pseudolabels"
   ]
  },
  {
   "cell_type": "code",
   "execution_count": 30,
   "metadata": {},
   "outputs": [],
   "source": [
    "clf_loaded = load('query_attrkv_clf_oaiemb_svc.joblib')"
   ]
  },
  {
   "cell_type": "code",
   "execution_count": null,
   "metadata": {},
   "outputs": [],
   "source": []
  }
 ],
 "metadata": {
  "kernelspec": {
   "display_name": "Python 3",
   "language": "python",
   "name": "python3"
  },
  "language_info": {
   "codemirror_mode": {
    "name": "ipython",
    "version": 3
   },
   "file_extension": ".py",
   "mimetype": "text/x-python",
   "name": "python",
   "nbconvert_exporter": "python",
   "pygments_lexer": "ipython3",
   "version": "3.8.13"
  },
  "orig_nbformat": 4,
  "vscode": {
   "interpreter": {
    "hash": "949777d72b0d2535278d3dc13498b2535136f6dfe0678499012e853ee9abcab1"
   }
  }
 },
 "nbformat": 4,
 "nbformat_minor": 2
}
