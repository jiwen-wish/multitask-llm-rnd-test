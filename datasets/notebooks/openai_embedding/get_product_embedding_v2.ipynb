{
 "cells": [
  {
   "cell_type": "code",
   "execution_count": 7,
   "metadata": {},
   "outputs": [],
   "source": [
    "from openai.embeddings_utils import get_embedding\n",
    "import pandas as pd\n",
    "from tqdm import tqdm\n",
    "import numpy as np\n",
    "from joblib import dump, load\n",
    "import json"
   ]
  },
  {
   "cell_type": "code",
   "execution_count": 8,
   "metadata": {},
   "outputs": [],
   "source": [
    "# embedding download in write_appen_product_embedding_to_file.py"
   ]
  },
  {
   "cell_type": "code",
   "execution_count": 5,
   "metadata": {},
   "outputs": [
    {
     "name": "stdout",
     "output_type": "stream",
     "text": [
      "263 ms ± 37.8 ms per loop (mean ± std. dev. of 7 runs, 1 loop each)\n"
     ]
    }
   ],
   "source": [
    "%%timeit\n",
    "get_embedding('text')"
   ]
  },
  {
   "attachments": {},
   "cell_type": "markdown",
   "metadata": {},
   "source": [
    "# train simple model"
   ]
  },
  {
   "cell_type": "code",
   "execution_count": 9,
   "metadata": {},
   "outputs": [],
   "source": [
    "df_emb = pd.read_json('appen_tolabel_product_attr_leftover.json', lines=True).dropna(subset=['product_id'])"
   ]
  },
  {
   "cell_type": "code",
   "execution_count": 10,
   "metadata": {},
   "outputs": [],
   "source": [
    "assert len(set(df_emb['product_id'])) == len(df_emb)"
   ]
  },
  {
   "cell_type": "code",
   "execution_count": 11,
   "metadata": {},
   "outputs": [],
   "source": [
    "df_train = pd.read_json('/workspaces/multitask-llm-rnd/datasets/data/wish_attr_extract_label/processed/appen_020323_030323_delivered_030623_validated_product_attr_textonly_train.json', lines=True)\n",
    "df_val = pd.read_json('/workspaces/multitask-llm-rnd/datasets/data/wish_attr_extract_label/processed/appen_020323_030323_delivered_030623_validated_product_attr_textonly_val.json', lines=True)\n",
    "df_test = pd.read_json('/workspaces/multitask-llm-rnd/datasets/data/wish_attr_extract_label/processed/appen_020323_030323_delivered_030623_validated_product_attr_textonly_test.json', lines=True)"
   ]
  },
  {
   "cell_type": "code",
   "execution_count": 12,
   "metadata": {},
   "outputs": [],
   "source": [
    "assert len(set(df_train['pid'])) == len(df_train)\n",
    "assert len(set(df_val['pid'])) == len(df_val)\n",
    "assert len(set(df_test['pid'])) == len(df_test)"
   ]
  },
  {
   "cell_type": "code",
   "execution_count": 13,
   "metadata": {},
   "outputs": [
    {
     "data": {
      "text/html": [
       "<div>\n",
       "<style scoped>\n",
       "    .dataframe tbody tr th:only-of-type {\n",
       "        vertical-align: middle;\n",
       "    }\n",
       "\n",
       "    .dataframe tbody tr th {\n",
       "        vertical-align: top;\n",
       "    }\n",
       "\n",
       "    .dataframe thead th {\n",
       "        text-align: right;\n",
       "    }\n",
       "</style>\n",
       "<table border=\"1\" class=\"dataframe\">\n",
       "  <thead>\n",
       "    <tr style=\"text-align: right;\">\n",
       "      <th></th>\n",
       "      <th>openai_embedding</th>\n",
       "      <th>text</th>\n",
       "      <th>product_id</th>\n",
       "      <th>label_ordering</th>\n",
       "    </tr>\n",
       "  </thead>\n",
       "  <tbody>\n",
       "    <tr>\n",
       "      <th>0</th>\n",
       "      <td>[0.011446514166891, 0.005374236498028, 0.00731...</td>\n",
       "      <td>Product Title: Rattan Basket Pet Dome and Anim...</td>\n",
       "      <td>611bbb365b0bd8698b670d9d</td>\n",
       "      <td>0.0</td>\n",
       "    </tr>\n",
       "    <tr>\n",
       "      <th>1</th>\n",
       "      <td>[0.0015560899628320002, -0.004062985070049, -0...</td>\n",
       "      <td>Product Title: 10Pcs 7Pcs 2Pcs 1Pcs Tempered G...</td>\n",
       "      <td>61a9c0160dcaf9e1da138df1</td>\n",
       "      <td>1.0</td>\n",
       "    </tr>\n",
       "  </tbody>\n",
       "</table>\n",
       "</div>"
      ],
      "text/plain": [
       "                                    openai_embedding  \\\n",
       "0  [0.011446514166891, 0.005374236498028, 0.00731...   \n",
       "1  [0.0015560899628320002, -0.004062985070049, -0...   \n",
       "\n",
       "                                                text  \\\n",
       "0  Product Title: Rattan Basket Pet Dome and Anim...   \n",
       "1  Product Title: 10Pcs 7Pcs 2Pcs 1Pcs Tempered G...   \n",
       "\n",
       "                 product_id  label_ordering  \n",
       "0  611bbb365b0bd8698b670d9d             0.0  \n",
       "1  61a9c0160dcaf9e1da138df1             1.0  "
      ]
     },
     "execution_count": 13,
     "metadata": {},
     "output_type": "execute_result"
    }
   ],
   "source": [
    "df_emb.head(2)"
   ]
  },
  {
   "cell_type": "code",
   "execution_count": 14,
   "metadata": {},
   "outputs": [
    {
     "data": {
      "text/html": [
       "<div>\n",
       "<style scoped>\n",
       "    .dataframe tbody tr th:only-of-type {\n",
       "        vertical-align: middle;\n",
       "    }\n",
       "\n",
       "    .dataframe tbody tr th {\n",
       "        vertical-align: top;\n",
       "    }\n",
       "\n",
       "    .dataframe thead th {\n",
       "        text-align: right;\n",
       "    }\n",
       "</style>\n",
       "<table border=\"1\" class=\"dataframe\">\n",
       "  <thead>\n",
       "    <tr style=\"text-align: right;\">\n",
       "      <th></th>\n",
       "      <th>label_ordering</th>\n",
       "      <th>sample_method</th>\n",
       "      <th>pid</th>\n",
       "      <th>category</th>\n",
       "      <th>title</th>\n",
       "      <th>description</th>\n",
       "      <th>main_img_url</th>\n",
       "      <th>rater_output_processed</th>\n",
       "      <th>attr_name_value_pairs_normalized</th>\n",
       "      <th>attr_name_value_pairs_custom</th>\n",
       "      <th>attr_name_value_pairs_normalized_text</th>\n",
       "    </tr>\n",
       "  </thead>\n",
       "  <tbody>\n",
       "    <tr>\n",
       "      <th>0</th>\n",
       "      <td>33187</td>\n",
       "      <td>only_text</td>\n",
       "      <td>618294e8f002fe5ad205758d</td>\n",
       "      <td>Jewelry &amp; Accessories &gt; Fine Jewelry &gt; Bracele...</td>\n",
       "      <td>Amber Bracelet Ladies White Nectar Round Beads...</td>\n",
       "      <td>Style: bracelet/bracelet\\nAmber Classification...</td>\n",
       "      <td>NaN</td>\n",
       "      <td>Jewelry &amp; Accessories &gt; Fine Jewelry &gt; Bracele...</td>\n",
       "      <td>[[Department, Women], [Primary Color, White]]</td>\n",
       "      <td>[]</td>\n",
       "      <td>Department|Women\\nPrimary Color|White</td>\n",
       "    </tr>\n",
       "    <tr>\n",
       "      <th>1</th>\n",
       "      <td>4341</td>\n",
       "      <td>only_text</td>\n",
       "      <td>616eedbf2d6ce57507cf27c3</td>\n",
       "      <td>Sports &gt; Fitness &amp; Body Building &gt; Yoga &gt; Yoga...</td>\n",
       "      <td>YIJIN73 Yoga Pilates Skinny Workout Pants for ...</td>\n",
       "      <td>Size: Please See The Third Picture.\\nMaterials...</td>\n",
       "      <td>NaN</td>\n",
       "      <td>Sports &gt; Fitness &amp; Body Building &gt; Yoga &gt; Yoga...</td>\n",
       "      <td>[[Department, Women], [Materials, Polyester], ...</td>\n",
       "      <td>[]</td>\n",
       "      <td>Department|Women\\nMaterials|Polyester\\nSport o...</td>\n",
       "    </tr>\n",
       "  </tbody>\n",
       "</table>\n",
       "</div>"
      ],
      "text/plain": [
       "   label_ordering sample_method                       pid  \\\n",
       "0           33187     only_text  618294e8f002fe5ad205758d   \n",
       "1            4341     only_text  616eedbf2d6ce57507cf27c3   \n",
       "\n",
       "                                            category  \\\n",
       "0  Jewelry & Accessories > Fine Jewelry > Bracele...   \n",
       "1  Sports > Fitness & Body Building > Yoga > Yoga...   \n",
       "\n",
       "                                               title  \\\n",
       "0  Amber Bracelet Ladies White Nectar Round Beads...   \n",
       "1  YIJIN73 Yoga Pilates Skinny Workout Pants for ...   \n",
       "\n",
       "                                         description  main_img_url  \\\n",
       "0  Style: bracelet/bracelet\\nAmber Classification...           NaN   \n",
       "1  Size: Please See The Third Picture.\\nMaterials...           NaN   \n",
       "\n",
       "                              rater_output_processed  \\\n",
       "0  Jewelry & Accessories > Fine Jewelry > Bracele...   \n",
       "1  Sports > Fitness & Body Building > Yoga > Yoga...   \n",
       "\n",
       "                    attr_name_value_pairs_normalized  \\\n",
       "0      [[Department, Women], [Primary Color, White]]   \n",
       "1  [[Department, Women], [Materials, Polyester], ...   \n",
       "\n",
       "  attr_name_value_pairs_custom  \\\n",
       "0                           []   \n",
       "1                           []   \n",
       "\n",
       "               attr_name_value_pairs_normalized_text  \n",
       "0              Department|Women\\nPrimary Color|White  \n",
       "1  Department|Women\\nMaterials|Polyester\\nSport o...  "
      ]
     },
     "execution_count": 14,
     "metadata": {},
     "output_type": "execute_result"
    }
   ],
   "source": [
    "df_train.head(2)"
   ]
  },
  {
   "cell_type": "code",
   "execution_count": 15,
   "metadata": {},
   "outputs": [
    {
     "data": {
      "text/plain": [
       "(19424, 6475, 6475)"
      ]
     },
     "execution_count": 15,
     "metadata": {},
     "output_type": "execute_result"
    }
   ],
   "source": [
    "len(df_train), len(df_val), len(df_test)"
   ]
  },
  {
   "cell_type": "code",
   "execution_count": 16,
   "metadata": {},
   "outputs": [],
   "source": [
    "df_train_emb = df_train.merge(df_emb[['product_id', 'openai_embedding']].rename(columns={'product_id': 'pid'}), how='inner', on='pid')\n",
    "df_val_emb = df_val.merge(df_emb[['product_id', 'openai_embedding']].rename(columns={'product_id': 'pid'}), how='inner', on='pid')\n",
    "df_test_emb = df_test.merge(df_emb[['product_id', 'openai_embedding']].rename(columns={'product_id': 'pid'}), how='inner', on='pid')"
   ]
  },
  {
   "cell_type": "code",
   "execution_count": 17,
   "metadata": {},
   "outputs": [
    {
     "data": {
      "text/plain": [
       "(19422, 6473, 6474)"
      ]
     },
     "execution_count": 17,
     "metadata": {},
     "output_type": "execute_result"
    }
   ],
   "source": [
    "len(df_train_emb), len(df_val_emb), len(df_test_emb)"
   ]
  },
  {
   "cell_type": "code",
   "execution_count": 18,
   "metadata": {},
   "outputs": [],
   "source": [
    "X_train = np.array(df_train_emb['openai_embedding'].to_list())\n",
    "X_val = np.array(df_val_emb['openai_embedding'].to_list())\n",
    "X_test = np.array(df_test_emb['openai_embedding'].to_list())"
   ]
  },
  {
   "cell_type": "code",
   "execution_count": 19,
   "metadata": {},
   "outputs": [],
   "source": [
    "label2id = {}\n",
    "with open('../../data/attribute_extraction_metadata_template/25L2_unfreetext_attribute_name_value_pairs_02232023.txt', 'r') as f:\n",
    "    for l in f:\n",
    "        i = l.replace('\\n', '')\n",
    "        if len(i) > 0:\n",
    "            label2id[i] = len(label2id)"
   ]
  },
  {
   "cell_type": "code",
   "execution_count": 20,
   "metadata": {},
   "outputs": [
    {
     "data": {
      "text/plain": [
       "6875"
      ]
     },
     "execution_count": 20,
     "metadata": {},
     "output_type": "execute_result"
    }
   ],
   "source": [
    "len(label2id)"
   ]
  },
  {
   "cell_type": "code",
   "execution_count": 21,
   "metadata": {},
   "outputs": [],
   "source": [
    "id2label = {label2id[i]: i for i in label2id}"
   ]
  },
  {
   "cell_type": "code",
   "execution_count": 22,
   "metadata": {},
   "outputs": [],
   "source": [
    "y_train = np.zeros((len(X_train), len(label2id)))\n",
    "y_val = np.zeros((len(X_val), len(label2id)))\n",
    "y_test = np.zeros((len(X_test), len(label2id)))"
   ]
  },
  {
   "cell_type": "code",
   "execution_count": 23,
   "metadata": {},
   "outputs": [],
   "source": [
    "for ind, i in enumerate(df_train_emb['attr_name_value_pairs_normalized_text'].to_list()):\n",
    "    for j in i.split('\\n'):\n",
    "        if j in label2id:\n",
    "            y_train[ind, label2id[j]] = 1\n",
    "\n",
    "for ind, i in enumerate(df_val_emb['attr_name_value_pairs_normalized_text'].to_list()):\n",
    "    for j in i.split('\\n'):\n",
    "        if j in label2id:\n",
    "            y_val[ind, label2id[j]] = 1\n",
    "\n",
    "for ind, i in enumerate(df_test_emb['attr_name_value_pairs_normalized_text'].to_list()):\n",
    "    for j in i.split('\\n'):\n",
    "        if j in label2id:\n",
    "            y_test[ind, label2id[j]] = 1"
   ]
  },
  {
   "cell_type": "code",
   "execution_count": 24,
   "metadata": {},
   "outputs": [
    {
     "data": {
      "text/plain": [
       "(4.370353207702605, 4.358566352541326, 4.363453815261044)"
      ]
     },
     "execution_count": 24,
     "metadata": {},
     "output_type": "execute_result"
    }
   ],
   "source": [
    "y_train.sum(1).mean(), y_val.sum(1).mean(), y_test.sum(1).mean()"
   ]
  },
  {
   "cell_type": "code",
   "execution_count": 25,
   "metadata": {},
   "outputs": [
    {
     "data": {
      "text/plain": [
       "42.0"
      ]
     },
     "execution_count": 25,
     "metadata": {},
     "output_type": "execute_result"
    }
   ],
   "source": [
    "y_test.sum(1).max()"
   ]
  },
  {
   "cell_type": "code",
   "execution_count": 32,
   "metadata": {},
   "outputs": [],
   "source": [
    "from sklearn.svm import SVC\n",
    "from sklearn.multiclass import OneVsRestClassifier\n",
    "from sklearn.metrics import classification_report, label_ranking_average_precision_score"
   ]
  },
  {
   "cell_type": "code",
   "execution_count": null,
   "metadata": {},
   "outputs": [],
   "source": [
    "clf = OneVsRestClassifier(estimator=SVC(kernel=\"linear\", probability=True), n_jobs=-1, verbose=1)\n",
    "clf.fit(X_train, y_train) # 3.5 hour"
   ]
  },
  {
   "cell_type": "code",
   "execution_count": 28,
   "metadata": {},
   "outputs": [
    {
     "data": {
      "text/plain": [
       "['simple_models/product_attrkv_clf_oaiemb_svc_v2.joblib']"
      ]
     },
     "execution_count": 28,
     "metadata": {},
     "output_type": "execute_result"
    }
   ],
   "source": [
    "# dump(clf, 'simple_models/product_attrkv_clf_oaiemb_svc_v2.joblib') "
   ]
  },
  {
   "attachments": {},
   "cell_type": "markdown",
   "metadata": {},
   "source": [
    "# evaluate simple model"
   ]
  },
  {
   "cell_type": "code",
   "execution_count": 29,
   "metadata": {},
   "outputs": [],
   "source": [
    "clf = load('simple_models/product_attrkv_clf_oaiemb_svc_v2.joblib')"
   ]
  },
  {
   "cell_type": "code",
   "execution_count": 31,
   "metadata": {},
   "outputs": [],
   "source": [
    "probas = clf.predict_proba(X_test)"
   ]
  },
  {
   "cell_type": "code",
   "execution_count": 33,
   "metadata": {},
   "outputs": [
    {
     "data": {
      "text/plain": [
       "0.644603061560645"
      ]
     },
     "execution_count": 33,
     "metadata": {},
     "output_type": "execute_result"
    }
   ],
   "source": [
    "label_ranking_average_precision_score(y_test, probas) # svc"
   ]
  },
  {
   "cell_type": "code",
   "execution_count": 34,
   "metadata": {},
   "outputs": [
    {
     "name": "stdout",
     "output_type": "stream",
     "text": [
      "00         0\n",
      "        6870       0.00      0.00      0.00         0\n",
      "        6871       0.00      0.00      0.00         0\n",
      "        6872       0.00      0.00      0.00         0\n",
      "        6873       0.00      0.00      0.00         0\n",
      "        6874       0.41      0.21      0.28        52\n",
      "\n",
      "   micro avg       0.70      0.35      0.47     28249\n",
      "   macro avg       0.03      0.02      0.02     28249\n",
      "weighted avg       0.56      0.35      0.41     28249\n",
      " samples avg       0.52      0.31      0.35     28249\n",
      "\n"
     ]
    }
   ],
   "source": [
    "report = classification_report(y_test, probas > .5, zero_division=0)\n",
    "print(report[-500:])"
   ]
  },
  {
   "cell_type": "code",
   "execution_count": 37,
   "metadata": {},
   "outputs": [
    {
     "name": "stdout",
     "output_type": "stream",
     "text": [
      "00         0\n",
      "        6870       0.00      0.00      0.00         0\n",
      "        6871       0.00      0.00      0.00         0\n",
      "        6872       0.00      0.00      0.00         0\n",
      "        6873       0.00      0.00      0.00         0\n",
      "        6874       0.44      0.63      0.52        52\n",
      "\n",
      "   micro avg       0.57      0.50      0.53     28249\n",
      "   macro avg       0.03      0.02      0.02     28249\n",
      "weighted avg       0.49      0.50      0.48     28249\n",
      " samples avg       0.49      0.43      0.42     28249\n",
      "\n"
     ]
    }
   ],
   "source": [
    "report = classification_report(y_test, probas > .2, zero_division=0)\n",
    "print(report[-500:])"
   ]
  },
  {
   "cell_type": "code",
   "execution_count": 44,
   "metadata": {},
   "outputs": [
    {
     "name": "stdout",
     "output_type": "stream",
     "text": [
      "00         0\n",
      "        6870       0.00      0.00      0.00         0\n",
      "        6871       0.00      0.00      0.00         0\n",
      "        6872       0.00      0.00      0.00         0\n",
      "        6873       0.00      0.00      0.00         0\n",
      "        6874       0.50      0.08      0.13        52\n",
      "\n",
      "   micro avg       0.77      0.22      0.34     28249\n",
      "   macro avg       0.02      0.01      0.01     28249\n",
      "weighted avg       0.57      0.22      0.30     28249\n",
      " samples avg       0.44      0.20      0.25     28249\n",
      "\n"
     ]
    }
   ],
   "source": [
    "report = classification_report(y_test, probas > .8, zero_division=0)\n",
    "print(report[-500:])"
   ]
  },
  {
   "cell_type": "code",
   "execution_count": 38,
   "metadata": {},
   "outputs": [],
   "source": [
    "res = []\n",
    "for ind, i in enumerate((-probas).argsort(1)[:,:100]):\n",
    "    res_i = []\n",
    "    for j in i:\n",
    "        res_i.append((id2label[j], probas[ind, j]))\n",
    "    res.append(res_i)"
   ]
  },
  {
   "cell_type": "code",
   "execution_count": 39,
   "metadata": {},
   "outputs": [],
   "source": [
    "df_test_emb['top_preds'] = res"
   ]
  },
  {
   "cell_type": "code",
   "execution_count": 46,
   "metadata": {},
   "outputs": [
    {
     "data": {
      "text/plain": [
       "[{'title': 'Box Dab Rigs Concentrate Pipe With Dome',\n",
       "  'description': 'welcome to my store!\\r\\n\\r\\nMateria: Glass\\nShap: Straight Type \\nJoint:14mm\\nHight:200mm\\nWeight:0.23kg\\nExcellent design and brilliant quality,there is no doubt that it will give you an unique smoking experience.\\nIf there is any problems when you recieve it,please contact with us within 24 hours\\n\\r\\n\\r\\n  thank you!',\n",
       "  'top_preds': [('Materials|Glass', 0.18996216448015324),\n",
       "   ('Number of Hoses|1 Hose', 0.16296538916690603),\n",
       "   ('Primary Color|Black', 0.06860892822182454),\n",
       "   ('Primary Color|Multicolor', 0.06436482589514758),\n",
       "   ('Primary Color|Clear', 0.04926281868251228),\n",
       "   ('Primary Color|Blue', 0.04073675273612922),\n",
       "   ('Primary Color|White', 0.03891680603524074),\n",
       "   ('Materials|Metal', 0.02981260846144161),\n",
       "   ('Materials|Gold', 0.028718347329157227),\n",
       "   ('Alpha Size|One Size', 0.02223039981231095),\n",
       "   ('Age Range Description|Adult', 0.0197758049594304),\n",
       "   ('Primary Color|Gold', 0.01868982778285254),\n",
       "   ('Number of Hoses|2 Hoses', 0.017580185895535956),\n",
       "   ('Department|All Adults', 0.016122166381514095),\n",
       "   ('Primary Color|Green', 0.012651101939458982),\n",
       "   ('Materials|White Gold', 0.011119885324312899),\n",
       "   ('Item Condition|New', 0.009751718453681238),\n",
       "   ('Primary Color|Red', 0.00974861215480807),\n",
       "   ('Materials|Mesh', 0.00809212626396106),\n",
       "   ('Primary Color|Yellow', 0.007852818394566636),\n",
       "   ('Main Stone|Diamond', 0.007218697617594797),\n",
       "   ('Alpha Size|S', 0.007208939213091476),\n",
       "   ('Item Type|Cigar', 0.007198534512797908),\n",
       "   ('Primary Color|Bronze', 0.007023780401809219),\n",
       "   ('Primary Color|Silver', 0.00621430853201094),\n",
       "   ('Theme|Retro', 0.006213603912936388),\n",
       "   ('Shape|Round', 0.005823030811513046),\n",
       "   ('Materials|Stainless Steel', 0.0057457735004621075),\n",
       "   ('Occasion & Lifestyle|Casual', 0.005669144716622856),\n",
       "   ('Department|Men', 0.0053925604854673514),\n",
       "   ('Occasion & Lifestyle|Birthday', 0.005210421388583033),\n",
       "   ('Age Range Description|All Ages', 0.0048930798384063485),\n",
       "   ('Styles|Tote', 0.004709309595520971),\n",
       "   ('Primary Color|Gray', 0.004699926632119219),\n",
       "   ('Occasion & Lifestyle|Fashion', 0.004551985630161333),\n",
       "   ('Styles|Art Deco', 0.004549014894101103),\n",
       "   ('Materials|Paper', 0.004472793960937979),\n",
       "   ('Department|House Cats', 0.004434456992381816),\n",
       "   ('Occasion & Lifestyle|New Year', 0.00439001748293505),\n",
       "   ('Department|Women', 0.004198653091866903),\n",
       "   ('Item Features|Lightweight', 0.004007615231612409),\n",
       "   ('Number of Hoses|4 or More Hoses', 0.0039734021265007856),\n",
       "   ('Alpha Size|L', 0.003971473769153741),\n",
       "   ('Materials|Crystal', 0.0038642237174526996),\n",
       "   ('Materials|Canvas', 0.003848992513478422),\n",
       "   ('Materials|Zirconium', 0.0036440751851683035),\n",
       "   ('Materials|Plastic', 0.0036297536090382568),\n",
       "   ('Occasion & Lifestyle|Christmas', 0.0035506855864991644),\n",
       "   ('Materials|Tempered Glass', 0.003350273088800895),\n",
       "   ('Size|14', 0.0033283027473959763),\n",
       "   ('Materials|Silver', 0.0031093494890504993),\n",
       "   ('Materials|Brass', 0.002846114175503306),\n",
       "   ('Water Resistance Level|Water-Resistant', 0.002696418085629493),\n",
       "   ('Closure Type|Adjustable', 0.0026576244906133507),\n",
       "   ('Occasion & Lifestyle|Wedding and Engagement', 0.0026354373432179276),\n",
       "   ('Materials|Zinc Alloy', 0.0024919503679799045),\n",
       "   ('Occasion & Lifestyle|All Weather', 0.002233893655047677),\n",
       "   ('Occasion & Lifestyle|Travel', 0.002218060703629847),\n",
       "   ('Primary Color|No Color', 0.0022152200756979028),\n",
       "   ('Materials|Silicone', 0.002185432016302573),\n",
       "   ('Alpha Size|M', 0.0021239327474237148),\n",
       "   ('Reusability|Single Use', 0.0021096305499035788),\n",
       "   ('Size|Queen', 0.002100060245346698),\n",
       "   ('Styles|Floating', 0.0020854328361637263),\n",
       "   ('Materials|Polycarbonate (PC)', 0.00207772466894208),\n",
       "   ('Stand Feature|Portable', 0.0020414077897397517),\n",
       "   ('Primary Color|Pink', 0.002007511958163388),\n",
       "   ('Recommended Room|Living Room', 0.002000116013083672),\n",
       "   ('Theme|Flowers', 0.001969549649262444),\n",
       "   ('Power Source|Wired Electric', 0.00194569927285593),\n",
       "   ('Materials|Ceramic', 0.0018465974013414164),\n",
       "   ('Department|Girls', 0.0017642019466086285),\n",
       "   ('Department|All Kids', 0.0017486536948244807),\n",
       "   ('Season|Winter', 0.001745378007258171),\n",
       "   ('Size|10', 0.001727079127498891),\n",
       "   ('Item Features|Portable', 0.0017144339397261968),\n",
       "   ('Sport or Activity Type|Yoga', 0.0017106381126995372),\n",
       "   ('Department|Fish', 0.0016933272557752151),\n",
       "   ('Primary Color|Teal', 0.0016892460829575238),\n",
       "   ('Chain Type|Rope Chain', 0.001687388907942116),\n",
       "   ('Sport or Activity Type|Jogging', 0.0016403580100132738),\n",
       "   ('Brand|Samsung', 0.0015987273628704413),\n",
       "   ('Sport or Activity Type|Running', 0.0015925445542345556),\n",
       "   ('Water Resistance Level|Waterproof', 0.0015882583130976625),\n",
       "   ('Care Instructions|Machine Wash Cold', 0.001566009582367747),\n",
       "   ('Materials|Rose Gold', 0.0015552131787129892),\n",
       "   ('Theme|Abstract', 0.0015189299051310268),\n",
       "   ('Department|Boys', 0.001517572879356281),\n",
       "   ('Primary Color|Brass', 0.0015072915541057019),\n",
       "   ('Styles|Antique', 0.0014803955949064644),\n",
       "   ('Pattern|Solid', 0.0014638916438563985),\n",
       "   ('Size|9', 0.0014538484929058635),\n",
       "   ('Main Stone|Goldstone', 0.0014464867508984468),\n",
       "   ('Size|45', 0.00144384720971857),\n",
       "   ('Intended Usage|Desk', 0.0014134615582290387),\n",
       "   ('Theme|Anniversary', 0.0014075175480409098),\n",
       "   ('Size|18', 0.0013982439936917818),\n",
       "   ('Body Fit|Slim', 0.0013977646522972246),\n",
       "   ('Size|44', 0.0013687020979553056),\n",
       "   ('Styles|Vintage', 0.001356070929633639)]}]"
      ]
     },
     "execution_count": 46,
     "metadata": {},
     "output_type": "execute_result"
    }
   ],
   "source": [
    "df_test_emb[['title', 'description', 'top_preds']].sample(1).to_dict('records') # svc"
   ]
  },
  {
   "cell_type": "code",
   "execution_count": null,
   "metadata": {},
   "outputs": [],
   "source": []
  }
 ],
 "metadata": {
  "kernelspec": {
   "display_name": "Python 3",
   "language": "python",
   "name": "python3"
  },
  "language_info": {
   "codemirror_mode": {
    "name": "ipython",
    "version": 3
   },
   "file_extension": ".py",
   "mimetype": "text/x-python",
   "name": "python",
   "nbconvert_exporter": "python",
   "pygments_lexer": "ipython3",
   "version": "3.8.13"
  },
  "orig_nbformat": 4,
  "vscode": {
   "interpreter": {
    "hash": "949777d72b0d2535278d3dc13498b2535136f6dfe0678499012e853ee9abcab1"
   }
  }
 },
 "nbformat": 4,
 "nbformat_minor": 2
}
