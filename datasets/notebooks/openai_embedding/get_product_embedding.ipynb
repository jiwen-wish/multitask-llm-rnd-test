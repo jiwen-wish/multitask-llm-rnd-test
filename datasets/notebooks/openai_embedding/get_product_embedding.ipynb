{
 "cells": [
  {
   "cell_type": "code",
   "execution_count": 1,
   "metadata": {},
   "outputs": [],
   "source": [
    "from openai.embeddings_utils import get_embedding\n",
    "import pandas as pd\n",
    "from tqdm import tqdm\n",
    "import numpy as np\n",
    "from joblib import dump, load\n",
    "import json"
   ]
  },
  {
   "cell_type": "code",
   "execution_count": 2,
   "metadata": {},
   "outputs": [],
   "source": [
    "# embedding download in write_appen_product_embedding_to_file.py"
   ]
  },
  {
   "attachments": {},
   "cell_type": "markdown",
   "metadata": {},
   "source": [
    "# train simple model"
   ]
  },
  {
   "cell_type": "code",
   "execution_count": 3,
   "metadata": {},
   "outputs": [],
   "source": [
    "df_emb = pd.read_json('appen_tolabel_product_attr_leftover.json', lines=True).dropna(subset=['product_id'])"
   ]
  },
  {
   "cell_type": "code",
   "execution_count": 4,
   "metadata": {},
   "outputs": [],
   "source": [
    "assert len(set(df_emb['product_id'])) == len(df_emb)"
   ]
  },
  {
   "cell_type": "code",
   "execution_count": 5,
   "metadata": {},
   "outputs": [],
   "source": [
    "df_train = pd.read_json('/workspaces/multitask-llm-rnd/datasets/data/wish_attr_extract_label/processed/appen_020323_delivered_022123_validated_product_attr_textonly_train.json', lines=True)\n",
    "df_val = pd.read_json('/workspaces/multitask-llm-rnd/datasets/data/wish_attr_extract_label/processed/appen_020323_delivered_022123_validated_product_attr_textonly_val.json', lines=True)\n",
    "df_test = pd.read_json('/workspaces/multitask-llm-rnd/datasets/data/wish_attr_extract_label/processed/appen_020323_delivered_022123_validated_product_attr_textonly_test.json', lines=True)"
   ]
  },
  {
   "cell_type": "code",
   "execution_count": 6,
   "metadata": {},
   "outputs": [],
   "source": [
    "assert len(set(df_train['pid'])) == len(df_train)\n",
    "assert len(set(df_val['pid'])) == len(df_val)\n",
    "assert len(set(df_test['pid'])) == len(df_test)"
   ]
  },
  {
   "cell_type": "code",
   "execution_count": 7,
   "metadata": {},
   "outputs": [
    {
     "data": {
      "text/html": [
       "<div>\n",
       "<style scoped>\n",
       "    .dataframe tbody tr th:only-of-type {\n",
       "        vertical-align: middle;\n",
       "    }\n",
       "\n",
       "    .dataframe tbody tr th {\n",
       "        vertical-align: top;\n",
       "    }\n",
       "\n",
       "    .dataframe thead th {\n",
       "        text-align: right;\n",
       "    }\n",
       "</style>\n",
       "<table border=\"1\" class=\"dataframe\">\n",
       "  <thead>\n",
       "    <tr style=\"text-align: right;\">\n",
       "      <th></th>\n",
       "      <th>openai_embedding</th>\n",
       "      <th>text</th>\n",
       "      <th>product_id</th>\n",
       "      <th>label_ordering</th>\n",
       "    </tr>\n",
       "  </thead>\n",
       "  <tbody>\n",
       "    <tr>\n",
       "      <th>0</th>\n",
       "      <td>[0.011446514166891, 0.005374236498028, 0.00731...</td>\n",
       "      <td>Product Title: Rattan Basket Pet Dome and Anim...</td>\n",
       "      <td>611bbb365b0bd8698b670d9d</td>\n",
       "      <td>0.0</td>\n",
       "    </tr>\n",
       "    <tr>\n",
       "      <th>1</th>\n",
       "      <td>[0.0015560899628320002, -0.004062985070049, -0...</td>\n",
       "      <td>Product Title: 10Pcs 7Pcs 2Pcs 1Pcs Tempered G...</td>\n",
       "      <td>61a9c0160dcaf9e1da138df1</td>\n",
       "      <td>1.0</td>\n",
       "    </tr>\n",
       "  </tbody>\n",
       "</table>\n",
       "</div>"
      ],
      "text/plain": [
       "                                    openai_embedding  \\\n",
       "0  [0.011446514166891, 0.005374236498028, 0.00731...   \n",
       "1  [0.0015560899628320002, -0.004062985070049, -0...   \n",
       "\n",
       "                                                text  \\\n",
       "0  Product Title: Rattan Basket Pet Dome and Anim...   \n",
       "1  Product Title: 10Pcs 7Pcs 2Pcs 1Pcs Tempered G...   \n",
       "\n",
       "                 product_id  label_ordering  \n",
       "0  611bbb365b0bd8698b670d9d             0.0  \n",
       "1  61a9c0160dcaf9e1da138df1             1.0  "
      ]
     },
     "execution_count": 7,
     "metadata": {},
     "output_type": "execute_result"
    }
   ],
   "source": [
    "df_emb.head(2)"
   ]
  },
  {
   "cell_type": "code",
   "execution_count": 8,
   "metadata": {},
   "outputs": [
    {
     "data": {
      "text/html": [
       "<div>\n",
       "<style scoped>\n",
       "    .dataframe tbody tr th:only-of-type {\n",
       "        vertical-align: middle;\n",
       "    }\n",
       "\n",
       "    .dataframe tbody tr th {\n",
       "        vertical-align: top;\n",
       "    }\n",
       "\n",
       "    .dataframe thead th {\n",
       "        text-align: right;\n",
       "    }\n",
       "</style>\n",
       "<table border=\"1\" class=\"dataframe\">\n",
       "  <thead>\n",
       "    <tr style=\"text-align: right;\">\n",
       "      <th></th>\n",
       "      <th>label_ordering</th>\n",
       "      <th>sample_method</th>\n",
       "      <th>pid</th>\n",
       "      <th>category</th>\n",
       "      <th>title</th>\n",
       "      <th>description</th>\n",
       "      <th>main_img_url</th>\n",
       "      <th>Final_Answer</th>\n",
       "      <th>attr_name_value_pairs_normalized</th>\n",
       "      <th>attr_name_value_pairs_custom</th>\n",
       "      <th>attr_name_value_pairs_normalized_text</th>\n",
       "    </tr>\n",
       "  </thead>\n",
       "  <tbody>\n",
       "    <tr>\n",
       "      <th>0</th>\n",
       "      <td>18180</td>\n",
       "      <td>only_text</td>\n",
       "      <td>60e6d0ef0fa75280dc24db5f</td>\n",
       "      <td>Shoes &gt; Women's Shoes &gt; Heels &gt; Middle Heels</td>\n",
       "      <td>Sandals New Female Velcro Open Toe Net Red Thi...</td>\n",
       "      <td>Closed way: magic sticker heel high: heel head...</td>\n",
       "      <td>NaN</td>\n",
       "      <td>None</td>\n",
       "      <td>[]</td>\n",
       "      <td>[]</td>\n",
       "      <td></td>\n",
       "    </tr>\n",
       "    <tr>\n",
       "      <th>1</th>\n",
       "      <td>11745</td>\n",
       "      <td>only_text</td>\n",
       "      <td>6188cc8b03d753eb729ad93b</td>\n",
       "      <td>Home &amp; Garden &gt; Festive &amp; Party Supplies &gt; Chr...</td>\n",
       "      <td>1 Set LOVE Letter Balloon Elastic Decorative ...</td>\n",
       "      <td>Specifications: \\nA pleasure ambience usually ...</td>\n",
       "      <td>NaN</td>\n",
       "      <td>Home &amp; Garden &gt; Festive &amp; Party Supplies &gt; Chr...</td>\n",
       "      <td>[[Materials, Aluminum], [Primary Color, Silver]]</td>\n",
       "      <td>[[Number of Ornaments, 1]]</td>\n",
       "      <td>Materials|Aluminum\\nPrimary Color|Silver</td>\n",
       "    </tr>\n",
       "  </tbody>\n",
       "</table>\n",
       "</div>"
      ],
      "text/plain": [
       "   label_ordering sample_method                       pid  \\\n",
       "0           18180     only_text  60e6d0ef0fa75280dc24db5f   \n",
       "1           11745     only_text  6188cc8b03d753eb729ad93b   \n",
       "\n",
       "                                            category  \\\n",
       "0       Shoes > Women's Shoes > Heels > Middle Heels   \n",
       "1  Home & Garden > Festive & Party Supplies > Chr...   \n",
       "\n",
       "                                               title  \\\n",
       "0  Sandals New Female Velcro Open Toe Net Red Thi...   \n",
       "1   1 Set LOVE Letter Balloon Elastic Decorative ...   \n",
       "\n",
       "                                         description  main_img_url  \\\n",
       "0  Closed way: magic sticker heel high: heel head...           NaN   \n",
       "1  Specifications: \\nA pleasure ambience usually ...           NaN   \n",
       "\n",
       "                                        Final_Answer  \\\n",
       "0                                               None   \n",
       "1  Home & Garden > Festive & Party Supplies > Chr...   \n",
       "\n",
       "                   attr_name_value_pairs_normalized  \\\n",
       "0                                                []   \n",
       "1  [[Materials, Aluminum], [Primary Color, Silver]]   \n",
       "\n",
       "  attr_name_value_pairs_custom     attr_name_value_pairs_normalized_text  \n",
       "0                           []                                            \n",
       "1   [[Number of Ornaments, 1]]  Materials|Aluminum\\nPrimary Color|Silver  "
      ]
     },
     "execution_count": 8,
     "metadata": {},
     "output_type": "execute_result"
    }
   ],
   "source": [
    "df_train.head(2)"
   ]
  },
  {
   "cell_type": "code",
   "execution_count": 9,
   "metadata": {},
   "outputs": [
    {
     "data": {
      "text/plain": [
       "(7507, 2502, 2503)"
      ]
     },
     "execution_count": 9,
     "metadata": {},
     "output_type": "execute_result"
    }
   ],
   "source": [
    "len(df_train), len(df_val), len(df_test)"
   ]
  },
  {
   "cell_type": "code",
   "execution_count": 11,
   "metadata": {},
   "outputs": [],
   "source": [
    "df_train_emb = df_train.merge(df_emb[['product_id', 'openai_embedding']].rename(columns={'product_id': 'pid'}), how='inner', on='pid')\n",
    "df_val_emb = df_val.merge(df_emb[['product_id', 'openai_embedding']].rename(columns={'product_id': 'pid'}), how='inner', on='pid')\n",
    "df_test_emb = df_test.merge(df_emb[['product_id', 'openai_embedding']].rename(columns={'product_id': 'pid'}), how='inner', on='pid')"
   ]
  },
  {
   "cell_type": "code",
   "execution_count": 12,
   "metadata": {},
   "outputs": [
    {
     "data": {
      "text/plain": [
       "(7505, 2501, 2503)"
      ]
     },
     "execution_count": 12,
     "metadata": {},
     "output_type": "execute_result"
    }
   ],
   "source": [
    "len(df_train_emb), len(df_val_emb), len(df_test_emb)"
   ]
  },
  {
   "cell_type": "code",
   "execution_count": 14,
   "metadata": {},
   "outputs": [],
   "source": [
    "X_train = np.array(df_train_emb['openai_embedding'].to_list())\n",
    "X_val = np.array(df_val_emb['openai_embedding'].to_list())\n",
    "X_test = np.array(df_test_emb['openai_embedding'].to_list())"
   ]
  },
  {
   "cell_type": "code",
   "execution_count": 15,
   "metadata": {},
   "outputs": [],
   "source": [
    "label2id = {}\n",
    "with open('../../data/attribute_extraction_metadata_template/25L2_unfreetext_attribute_name_value_pairs_02232023.txt', 'r') as f:\n",
    "    for l in f:\n",
    "        i = l.replace('\\n', '')\n",
    "        if len(i) > 0:\n",
    "            label2id[i] = len(label2id)"
   ]
  },
  {
   "cell_type": "code",
   "execution_count": 16,
   "metadata": {},
   "outputs": [
    {
     "data": {
      "text/plain": [
       "6875"
      ]
     },
     "execution_count": 16,
     "metadata": {},
     "output_type": "execute_result"
    }
   ],
   "source": [
    "len(label2id)"
   ]
  },
  {
   "cell_type": "code",
   "execution_count": 17,
   "metadata": {},
   "outputs": [],
   "source": [
    "id2label = {label2id[i]: i for i in label2id}"
   ]
  },
  {
   "cell_type": "code",
   "execution_count": 18,
   "metadata": {},
   "outputs": [],
   "source": [
    "y_train = np.zeros((len(X_train), len(label2id)))\n",
    "y_val = np.zeros((len(X_val), len(label2id)))\n",
    "y_test = np.zeros((len(X_test), len(label2id)))"
   ]
  },
  {
   "cell_type": "code",
   "execution_count": 19,
   "metadata": {},
   "outputs": [],
   "source": [
    "for ind, i in enumerate(df_train_emb['attr_name_value_pairs_normalized_text'].to_list()):\n",
    "    for j in i.split('\\n'):\n",
    "        if j in label2id:\n",
    "            y_train[ind, label2id[j]] = 1\n",
    "\n",
    "for ind, i in enumerate(df_val_emb['attr_name_value_pairs_normalized_text'].to_list()):\n",
    "    for j in i.split('\\n'):\n",
    "        if j in label2id:\n",
    "            y_val[ind, label2id[j]] = 1\n",
    "\n",
    "for ind, i in enumerate(df_test_emb['attr_name_value_pairs_normalized_text'].to_list()):\n",
    "    for j in i.split('\\n'):\n",
    "        if j in label2id:\n",
    "            y_test[ind, label2id[j]] = 1"
   ]
  },
  {
   "cell_type": "code",
   "execution_count": 20,
   "metadata": {},
   "outputs": [
    {
     "data": {
      "text/plain": [
       "(3.1199200532978013, 3.143142742902839, 3.157011586096684)"
      ]
     },
     "execution_count": 20,
     "metadata": {},
     "output_type": "execute_result"
    }
   ],
   "source": [
    "y_train.sum(1).mean(), y_val.sum(1).mean(), y_test.sum(1).mean()"
   ]
  },
  {
   "cell_type": "code",
   "execution_count": 21,
   "metadata": {},
   "outputs": [
    {
     "data": {
      "text/plain": [
       "35.0"
      ]
     },
     "execution_count": 21,
     "metadata": {},
     "output_type": "execute_result"
    }
   ],
   "source": [
    "y_test.sum(1).max()"
   ]
  },
  {
   "cell_type": "code",
   "execution_count": 22,
   "metadata": {},
   "outputs": [],
   "source": [
    "from sklearn.ensemble import RandomForestClassifier\n",
    "from sklearn.svm import SVC\n",
    "from sklearn.multiclass import OneVsRestClassifier\n",
    "from sklearn.linear_model import LogisticRegression\n",
    "from sklearn.metrics import classification_report, accuracy_score"
   ]
  },
  {
   "cell_type": "code",
   "execution_count": null,
   "metadata": {},
   "outputs": [],
   "source": [
    "clf = OneVsRestClassifier(SVC(kernel=\"linear\", probability=True))\n",
    "clf.fit(X_train, y_train) # 3 hours\n",
    "dump(clf, 'product_attrkv_clf_oaiemb_svc.joblib') # 1hr"
   ]
  },
  {
   "cell_type": "code",
   "execution_count": null,
   "metadata": {},
   "outputs": [],
   "source": []
  },
  {
   "attachments": {},
   "cell_type": "markdown",
   "metadata": {},
   "source": [
    "# evaluate simple model"
   ]
  },
  {
   "cell_type": "code",
   "execution_count": 24,
   "metadata": {},
   "outputs": [],
   "source": [
    "clf_loaded = load('product_attrkv_clf_oaiemb_svc.joblib')"
   ]
  },
  {
   "cell_type": "code",
   "execution_count": 25,
   "metadata": {},
   "outputs": [],
   "source": [
    "preds = clf_loaded.predict(X_test)"
   ]
  },
  {
   "cell_type": "code",
   "execution_count": 26,
   "metadata": {},
   "outputs": [
    {
     "data": {
      "text/plain": [
       "282"
      ]
     },
     "execution_count": 26,
     "metadata": {},
     "output_type": "execute_result"
    }
   ],
   "source": [
    "preds.sum()"
   ]
  },
  {
   "cell_type": "code",
   "execution_count": 27,
   "metadata": {},
   "outputs": [
    {
     "data": {
      "text/plain": [
       "0.11266480223731522"
      ]
     },
     "execution_count": 27,
     "metadata": {},
     "output_type": "execute_result"
    }
   ],
   "source": [
    "preds.sum(1).mean()"
   ]
  },
  {
   "cell_type": "code",
   "execution_count": 28,
   "metadata": {},
   "outputs": [],
   "source": [
    "probas = clf_loaded.predict_proba(X_test)"
   ]
  },
  {
   "cell_type": "code",
   "execution_count": 29,
   "metadata": {},
   "outputs": [],
   "source": [
    "from sklearn.metrics import label_ranking_average_precision_score"
   ]
  },
  {
   "cell_type": "code",
   "execution_count": 30,
   "metadata": {},
   "outputs": [
    {
     "data": {
      "text/plain": [
       "0.6344327129287932"
      ]
     },
     "execution_count": 30,
     "metadata": {},
     "output_type": "execute_result"
    }
   ],
   "source": [
    "label_ranking_average_precision_score(y_test, probas) # svc"
   ]
  },
  {
   "cell_type": "code",
   "execution_count": 31,
   "metadata": {},
   "outputs": [
    {
     "name": "stdout",
     "output_type": "stream",
     "text": [
      "00         0\n",
      "        6870       0.00      0.00      0.00         0\n",
      "        6871       0.00      0.00      0.00         0\n",
      "        6872       0.00      0.00      0.00         0\n",
      "        6873       0.00      0.00      0.00         0\n",
      "        6874       0.00      0.00      0.00        10\n",
      "\n",
      "   micro avg       0.77      0.03      0.05      7902\n",
      "   macro avg       0.00      0.00      0.00      7902\n",
      "weighted avg       0.13      0.03      0.04      7902\n",
      " samples avg       0.05      0.02      0.02      7902\n",
      "\n"
     ]
    }
   ],
   "source": [
    "report = classification_report(y_test, preds, zero_division=0)\n",
    "print(report[-500:]) # svc"
   ]
  },
  {
   "cell_type": "code",
   "execution_count": 33,
   "metadata": {},
   "outputs": [],
   "source": [
    "res = []\n",
    "for ind, i in enumerate((-probas).argsort(1)[:,:100]):\n",
    "    res_i = []\n",
    "    for j in i:\n",
    "        res_i.append((id2label[j], probas[ind, j]))\n",
    "    res.append(res_i)"
   ]
  },
  {
   "cell_type": "code",
   "execution_count": 34,
   "metadata": {},
   "outputs": [],
   "source": [
    "df_test_emb['top_preds'] = res"
   ]
  },
  {
   "cell_type": "code",
   "execution_count": 38,
   "metadata": {},
   "outputs": [
    {
     "data": {
      "text/plain": [
       "[{'title': 'Construction Truck Birthday Party Decoration Excavator Balloon Truck Pull Flag Children Birthday Party Decoration Balloon Decoration Happy Birthday Banner Pull Flag',\n",
       "  'description': 'EASY TO ASSEMBLE: the banners and balloons come with tools and balloons glue, very easy to assemble, it would be a happy family craft for fun to assemble with your kids and decorate the party\\nDESIGN: The highly detailed design of our construction party happy birthday banner, vehicle banner, traffic signs cutouts, balloons and cake toppers will make your child feel the atmosphere of a busy construction zone right inside the party. Our construction party supplies are guaranteed to create unforgettable memories for your child, family and guests\\nHIGH QUALITY: The balloons are crafted of durable and strong latex, the cupcake toppers, banners and traffic signs cutouts are made of sturdy heavy duty card stock paper and can easily be reused for multiple parties\\nKITS AND PERFECT DECOR: To throw a construction theme party, we have the right decorations for your party needs. Save time and money by buying all your party decorations as a set rather than having to search around and buy one by one. Go ahead and let us take care of the amazing and unforgettable decorations for your party\\n\\nSize：as picture shows\\nColour：as picture shows\\nMetarial：latex, Aluminum film\\n\\nPackage：1 x Excavator Balloons Set\\n',\n",
       "  'top_preds': [('Occasion & Lifestyle|Birthday', 0.8065504016136597),\n",
       "   ('Occasion & Lifestyle|Wedding and Engagement', 0.1460926468251932),\n",
       "   ('Occasion & Lifestyle|Valentines Day', 0.1316174843353391),\n",
       "   ('Occasion & Lifestyle|Christmas', 0.11322957471894173),\n",
       "   ('Materials|Nylon', 0.07430848738566913),\n",
       "   ('Primary Color|Green', 0.06963277989142219),\n",
       "   ('Age Range Description|Adult', 0.05319673712654657),\n",
       "   ('Primary Color|Multicolor', 0.04599805948837314),\n",
       "   ('Occasion & Lifestyle|Halloween', 0.035941068487475664),\n",
       "   ('Primary Color|Blue', 0.029130701324361765),\n",
       "   ('Materials|Polyethylene (PE)', 0.019585261498671035),\n",
       "   ('Shape|Star', 0.01869759439257485),\n",
       "   ('Materials|Metal', 0.018337481812510343),\n",
       "   ('Art Medium|Oil', 0.01800706822071935),\n",
       "   ('Primary Color|Brown', 0.017368998082271145),\n",
       "   ('Department|Boys', 0.016678957812101183),\n",
       "   ('Theme|Cartoons', 0.016007001769822147),\n",
       "   ('Alpha Size|XS', 0.015302427444099934),\n",
       "   ('Occasion & Lifestyle|Party', 0.0147454149752398),\n",
       "   ('Theme|Halloween', 0.014456814863793835),\n",
       "   ('Department|Men', 0.013372575620745068),\n",
       "   ('Materials|Polypropylene (PP)', 0.013314292490140295),\n",
       "   ('Theme|Flag', 0.012190563682761286),\n",
       "   ('Materials|Paper', 0.011862320117082052),\n",
       "   ('Primary Color|Gold', 0.011389110840250296),\n",
       "   ('Occasion & Lifestyle|Casual', 0.010558441727514283),\n",
       "   ('Alpha Size|One Size', 0.009799342209833684),\n",
       "   ('Materials|Polyester', 0.00914227772414157),\n",
       "   ('Materials|Polyvinyl Chloride (PVC)', 0.00850478866086525),\n",
       "   ('Connection Type|Bluetooth', 0.008434163688528574),\n",
       "   ('Occasion & Lifestyle|Anniversary', 0.00823836310494474),\n",
       "   ('Primary Color|White', 0.007542768683449755),\n",
       "   ('Materials|Fabric', 0.007193916876452058),\n",
       "   ('Certifications|Bluetooth', 0.006988647951668854),\n",
       "   ('Item Features|Lightweight', 0.006848233831921903),\n",
       "   ('Theme|Birthday', 0.006725096081731194),\n",
       "   ('Theme|Wedding and Engagement', 0.005374848289037487),\n",
       "   ('Theme|Flowers', 0.005210015975101222),\n",
       "   ('Light Bulb Type|LED', 0.005170104666417259),\n",
       "   ('Primary Color|Bronze', 0.005066170692389596),\n",
       "   ('Control Method|Remote Control', 0.005056840564919721),\n",
       "   ('Alpha Size|L', 0.004713908027068657),\n",
       "   ('Occasion & Lifestyle|New Year', 0.004600966014419368),\n",
       "   ('Sport or Activity Type|Running', 0.004504271655223631),\n",
       "   ('Small Animal Type|Hamsters', 0.0044850085253880494),\n",
       "   ('Size|29', 0.00439772436561368),\n",
       "   ('Care Instructions|Hand Wash', 0.004358006279098586),\n",
       "   ('Occasion & Lifestyle|Formal', 0.004327360652686164),\n",
       "   ('Materials|Plastic', 0.004250844326757531),\n",
       "   ('Care Instructions|Machine Wash', 0.004247717712047314),\n",
       "   ('Materials|Rubber', 0.004115004103598544),\n",
       "   ('Materials|Latex', 0.004069298408616526),\n",
       "   ('Materials|Fleece', 0.004045445100668114),\n",
       "   ('Closure Type|Adjustable', 0.004014746427598026),\n",
       "   ('Materials|Aluminum', 0.003992130272630254),\n",
       "   ('Item Features|Eco-Friendly', 0.00395210530615187),\n",
       "   ('Theme|Christmas', 0.003946606462648849),\n",
       "   ('Primary Color|Red', 0.003927045550490555),\n",
       "   ('Age Range Description|Kids', 0.0038770014827173927),\n",
       "   ('Materials|Ethylene Vinyl Acetate (EVA)', 0.0036106058398964413),\n",
       "   ('Pattern|Cartoon', 0.003515230516049122),\n",
       "   ('Closure Type|Zip', 0.0034671509572549654),\n",
       "   ('Included Components|Bulb', 0.0034481033555173748),\n",
       "   ('Item Features|Adjustable', 0.0033942991034327),\n",
       "   ('Primary Color|Clear', 0.003322460927121067),\n",
       "   ('Materials|Wood', 0.0032516463574728035),\n",
       "   ('Noise Control|Active Noise Cancellation', 0.0028641135514482804),\n",
       "   ('Sport or Activity Type|Yoga', 0.0027861935140889894),\n",
       "   ('Age Range Description|All Ages', 0.0027751253642077),\n",
       "   ('Occasion & Lifestyle|Mothers Day', 0.002766107511200316),\n",
       "   ('Size|10', 0.0027258426292194786),\n",
       "   ('Main Stone|Opal', 0.0026912945342061206),\n",
       "   ('Materials|Cotton', 0.002682132000358302),\n",
       "   ('Materials|Zinc Alloy', 0.0026518286748504747),\n",
       "   ('Shape|Rectangular', 0.0026270918675779186),\n",
       "   ('Size|45', 0.002578166389920061),\n",
       "   ('Primary Color|Black', 0.002524927034884191),\n",
       "   ('Materials|Canvas', 0.002485110256362566),\n",
       "   ('Occasion & Lifestyle|Beach', 0.002438358682459693),\n",
       "   ('Water Resistance Level|Water-Resistant', 0.002307766923000669),\n",
       "   ('Department|Guinea Pigs', 0.0022757518893715693),\n",
       "   ('Connection Type|USB-A', 0.0022372280843064446),\n",
       "   ('Size|34', 0.002200545935766177),\n",
       "   ('Size|39.5', 0.0021569301740112625),\n",
       "   ('Primary Color|Yellow', 0.0021291862680502724),\n",
       "   ('Size|37.5', 0.002103287971454411),\n",
       "   ('Item Condition|New', 0.002041025400959846),\n",
       "   ('Styles|Rustic', 0.002030411241813034),\n",
       "   ('Primary Color|Silver', 0.0020297805362807335),\n",
       "   ('Size|9', 0.001969820424921505),\n",
       "   ('Size|42', 0.0019678035565927196),\n",
       "   ('Materials|Polycarbonate (PC)', 0.0019580708814666875),\n",
       "   ('Arch Type|Low Arch', 0.0018889233164475266),\n",
       "   ('Materials|Tin', 0.0018887237761253824),\n",
       "   ('Connection Type|Wired', 0.001869689307222366),\n",
       "   ('Styles|Art Deco', 0.0018658678545880856),\n",
       "   ('Sport or Activity Type|Volleyball', 0.001848839619270337),\n",
       "   ('Department|Girls', 0.0018466699319210432),\n",
       "   ('Alpha Size|S', 0.0018378891381329132),\n",
       "   ('Department|Women', 0.0018128454619919256)]}]"
      ]
     },
     "execution_count": 38,
     "metadata": {},
     "output_type": "execute_result"
    }
   ],
   "source": [
    "df_test_emb[['title', 'description', 'top_preds']].sample(1).to_dict('records') # svc"
   ]
  },
  {
   "cell_type": "code",
   "execution_count": null,
   "metadata": {},
   "outputs": [],
   "source": []
  }
 ],
 "metadata": {
  "kernelspec": {
   "display_name": "Python 3",
   "language": "python",
   "name": "python3"
  },
  "language_info": {
   "codemirror_mode": {
    "name": "ipython",
    "version": 3
   },
   "file_extension": ".py",
   "mimetype": "text/x-python",
   "name": "python",
   "nbconvert_exporter": "python",
   "pygments_lexer": "ipython3",
   "version": "3.8.13"
  },
  "orig_nbformat": 4,
  "vscode": {
   "interpreter": {
    "hash": "949777d72b0d2535278d3dc13498b2535136f6dfe0678499012e853ee9abcab1"
   }
  }
 },
 "nbformat": 4,
 "nbformat_minor": 2
}
