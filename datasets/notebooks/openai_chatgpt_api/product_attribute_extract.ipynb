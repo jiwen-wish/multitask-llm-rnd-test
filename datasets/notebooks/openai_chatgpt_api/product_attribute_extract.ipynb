{
 "cells": [
  {
   "attachments": {},
   "cell_type": "markdown",
   "metadata": {},
   "source": [
    "# vanilla"
   ]
  },
  {
   "cell_type": "code",
   "execution_count": 96,
   "metadata": {},
   "outputs": [],
   "source": [
    "# Note: you need to be using OpenAI Python v0.27.0 for the code below to work\n",
    "import openai\n",
    "msgs = [\n",
    "        {\"role\": \"system\", \"content\": \"You are a state of art NER system that extracts all attribute key value pairs from e commerce data\"},\n",
    "        {\"role\": \"user\", \"content\": \"\"\"[title start] 316L Solid Stainless Steel  Necklace [title end] [description start] Authenticity Guaranteed\n",
    "Hypoallergenic Jewelry\n",
    "Comfort Fit Design\n",
    "Safe on Skin\n",
    "Made to Last a Lifetime\n",
    "Designed in ITALY\n",
    "Certifed Gemstones\n",
    "Creation Method: Lab Created \n",
    "Guaranteed to Retain its Color and Shine\n",
    "316L Solid Stainless Steel Necklace [description end]\"\"\"},\n",
    "      {\"role\": \"assistant\", \"content\": \"\"\"Department|Women\n",
    "Materials|Argentium Plated Stainless Steel\n",
    "Materials|Stainless Steel\"\"\"},\n",
    "#       {\"role\": \"user\", \"content\": \"\"\"[title start] Conjunto Deportivo Enei Iris [title end] [description start]  Conjunto deportivo de mujer Iris enei confeccionado con un tejido compresivo de secado rápido. Ideal para cualquier práctica deportiva este conjunto deportivo esta diseñado con el mínimo de costuras para un ajuste más cómodo y suave con efecto segunda piel. Realza la forma natural de la figura. tejido super suave, elástico y flexible sin transparencias, cintura alta, el top: tejido super suave, diseño de tiras cruzadas en la parte trasera, ajuste de abdomen, foam extraible. el legging: tejido super suave, elástico y flexible sin transparencias, cintura alta  [description end]\"\"\"},\n",
    "#       {\"role\": \"assistant\", \"content\": \"\"\"Alpha Size|One Size\n",
    "# Body Closure|Elastic\n",
    "# Department|Women\n",
    "# Materials|Fabric\"\"\"},\n",
    "      {\"role\": \"user\", \"content\": \"\"\"Yes, follow the previous schemas, and do better. [title start] Safavieh DSN504F-5 5 x 7 ft. Disney Rugs Power Loomed Rectangle Area Rug&#44; Grey & Purple [title end] [description start] <p>Disney Rugs Power Loomed Rectangle Area Rug </p><p>Gives your home whispers of timeless magic&#46; Features gently mottled silhouettes of Disney&#39;s most iconic Princess characters across a soothing grey backdrop&#46; Celebrates decades of strong, empowered women in beautiful, decor&#45;smart tones&#46; Machine washable for easy&#45;care maintenance, lasting comfort and endless style&#46; </p><b>Specifications</b>. <b>Color&#58;</b> Grey &#38; Purple. <b>Size&#58;</b> 5 x 7 ft&#46;. <b>Collection&#58;</b> Disney Rugs. <b>Fiber Content&#58;</b> Polyamide. <b>Style&#58;</b> Kids. <b>Construction&#58;</b> Power Loomed. <b>Shape&#58;</b> Rectangle. <b>Pile Height&#58;</b> 0&#46;22''. <b>Backing&#58;</b> Gel. <b>Country of Origin&#58;</b> Turkey. <b>Weight&#58;</b> 12 lbs-We do not ship to PO BOXES, please enter a street address. We only ship to the contiguous 48 States. [description end]\"\"\"}\n",
    "    ]\n",
    "res = openai.ChatCompletion.create(\n",
    "  model=\"gpt-3.5-turbo\",\n",
    "  messages=msgs,\n",
    "  temperature=0\n",
    ")"
   ]
  },
  {
   "cell_type": "code",
   "execution_count": 97,
   "metadata": {},
   "outputs": [],
   "source": [
    "res_text = res['choices'][0]['message']['content']"
   ]
  },
  {
   "cell_type": "code",
   "execution_count": 98,
   "metadata": {},
   "outputs": [],
   "source": [
    "from pprint import pprint"
   ]
  },
  {
   "cell_type": "code",
   "execution_count": 99,
   "metadata": {},
   "outputs": [
    {
     "name": "stdout",
     "output_type": "stream",
     "text": [
      "[{'content': 'You are a state of art NER system that extracts all attribute '\n",
      "             'key value pairs from e commerce data',\n",
      "  'role': 'system'},\n",
      " {'content': '[title start] 316L Solid Stainless Steel  Necklace [title end] '\n",
      "             '[description start] Authenticity Guaranteed\\n'\n",
      "             'Hypoallergenic Jewelry\\n'\n",
      "             'Comfort Fit Design\\n'\n",
      "             'Safe on Skin\\n'\n",
      "             'Made to Last a Lifetime\\n'\n",
      "             'Designed in ITALY\\n'\n",
      "             'Certifed Gemstones\\n'\n",
      "             'Creation Method: Lab Created \\n'\n",
      "             'Guaranteed to Retain its Color and Shine\\n'\n",
      "             '316L Solid Stainless Steel Necklace [description end]',\n",
      "  'role': 'user'},\n",
      " {'content': 'Department|Women\\n'\n",
      "             'Materials|Argentium Plated Stainless Steel\\n'\n",
      "             'Materials|Stainless Steel',\n",
      "  'role': 'assistant'},\n",
      " {'content': 'Yes, follow the previous schemas, and do better. [title start] '\n",
      "             'Safavieh DSN504F-5 5 x 7 ft. Disney Rugs Power Loomed Rectangle '\n",
      "             'Area Rug&#44; Grey & Purple [title end] [description start] '\n",
      "             '<p>Disney Rugs Power Loomed Rectangle Area Rug </p><p>Gives your '\n",
      "             'home whispers of timeless magic&#46; Features gently mottled '\n",
      "             'silhouettes of Disney&#39;s most iconic Princess characters '\n",
      "             'across a soothing grey backdrop&#46; Celebrates decades of '\n",
      "             'strong, empowered women in beautiful, decor&#45;smart tones&#46; '\n",
      "             'Machine washable for easy&#45;care maintenance, lasting comfort '\n",
      "             'and endless style&#46; </p><b>Specifications</b>. '\n",
      "             '<b>Color&#58;</b> Grey &#38; Purple. <b>Size&#58;</b> 5 x 7 '\n",
      "             'ft&#46;. <b>Collection&#58;</b> Disney Rugs. <b>Fiber '\n",
      "             'Content&#58;</b> Polyamide. <b>Style&#58;</b> Kids. '\n",
      "             '<b>Construction&#58;</b> Power Loomed. <b>Shape&#58;</b> '\n",
      "             \"Rectangle. <b>Pile Height&#58;</b> 0&#46;22''. \"\n",
      "             '<b>Backing&#58;</b> Gel. <b>Country of Origin&#58;</b> Turkey. '\n",
      "             '<b>Weight&#58;</b> 12 lbs-We do not ship to PO BOXES, please '\n",
      "             'enter a street address. We only ship to the contiguous 48 '\n",
      "             'States. [description end]',\n",
      "  'role': 'user'}]\n"
     ]
    }
   ],
   "source": [
    "pprint(msgs)"
   ]
  },
  {
   "cell_type": "code",
   "execution_count": 100,
   "metadata": {},
   "outputs": [
    {
     "name": "stdout",
     "output_type": "stream",
     "text": [
      "Brand|Safavieh\n",
      "Department|Kids\n",
      "Color|Grey & Purple\n",
      "Size|5 x 7 ft.\n",
      "Collection|Disney Rugs\n",
      "Fiber Content|Polyamide\n",
      "Style|Power Loomed\n",
      "Shape|Rectangle\n",
      "Pile Height|0.22''\n",
      "Backing|Gel\n",
      "Country of Origin|Turkey\n",
      "Weight|12 lbs\n",
      "Care Instructions|Machine Washable\n",
      "Shipping Restrictions|Does not ship to PO Boxes. Only ships to contiguous 48 states.\n"
     ]
    }
   ],
   "source": [
    "print(res_text)"
   ]
  },
  {
   "cell_type": "code",
   "execution_count": 44,
   "metadata": {},
   "outputs": [],
   "source": [
    "from transformers import AutoTokenizer"
   ]
  },
  {
   "cell_type": "code",
   "execution_count": 45,
   "metadata": {},
   "outputs": [],
   "source": [
    "tokenizer = AutoTokenizer.from_pretrained('gpt2')"
   ]
  },
  {
   "cell_type": "code",
   "execution_count": 46,
   "metadata": {},
   "outputs": [],
   "source": [
    "import json"
   ]
  },
  {
   "cell_type": "code",
   "execution_count": 47,
   "metadata": {},
   "outputs": [
    {
     "data": {
      "text/plain": [
       "695"
      ]
     },
     "execution_count": 47,
     "metadata": {},
     "output_type": "execute_result"
    }
   ],
   "source": [
    "len(tokenizer.tokenize(json.dumps(msgs) + res_text))"
   ]
  },
  {
   "attachments": {},
   "cell_type": "markdown",
   "metadata": {},
   "source": [
    "# vanilla with attribute info"
   ]
  },
  {
   "cell_type": "code",
   "execution_count": 104,
   "metadata": {},
   "outputs": [],
   "source": [
    "# Note: you need to be using OpenAI Python v0.27.0 for the code below to work\n",
    "import openai\n",
    "msgs = [\n",
    "        {\"role\": \"system\", \"content\": \"You are a state of art NER system that extracts all attribute key value pairs from e commerce data\"},\n",
    "        {\"role\": \"user\", \"content\": \"\"\"[title start] 316L Solid Stainless Steel  Necklace [title end] [description start] Authenticity Guaranteed\n",
    "Hypoallergenic Jewelry\n",
    "Comfort Fit Design\n",
    "Safe on Skin\n",
    "Made to Last a Lifetime\n",
    "Designed in ITALY\n",
    "Certifed Gemstones\n",
    "Creation Method: Lab Created \n",
    "Guaranteed to Retain its Color and Shine\n",
    "316L Solid Stainless Steel Necklace [description end]\"\"\"},\n",
    "      {\"role\": \"assistant\", \"content\": \"\"\"Department|Women\n",
    "Materials|Argentium Plated Stainless Steel\n",
    "Materials|Stainless Steel\"\"\"},\n",
    "#       {\"role\": \"user\", \"content\": \"\"\"[title start] Conjunto Deportivo Enei Iris [title end] [description start]  Conjunto deportivo de mujer Iris enei confeccionado con un tejido compresivo de secado rápido. Ideal para cualquier práctica deportiva este conjunto deportivo esta diseñado con el mínimo de costuras para un ajuste más cómodo y suave con efecto segunda piel. Realza la forma natural de la figura. tejido super suave, elástico y flexible sin transparencias, cintura alta, el top: tejido super suave, diseño de tiras cruzadas en la parte trasera, ajuste de abdomen, foam extraible. el legging: tejido super suave, elástico y flexible sin transparencias, cintura alta  [description end]\"\"\"},\n",
    "#       {\"role\": \"assistant\", \"content\": \"\"\"Alpha Size|One Size\n",
    "# Body Closure|Elastic\n",
    "# Department|Women\n",
    "# Materials|Fabric\"\"\"},\n",
    "      {\"role\": \"user\", \"content\": \"\"\"Yes, follow the previous schemas, and do better. [title start] Safavieh DSN504F-5 5 x 7 ft. Disney Rugs Power Loomed Rectangle Area Rug&#44; Grey & Purple [title end] [description start] <p>Disney Rugs Power Loomed Rectangle Area Rug </p><p>Gives your home whispers of timeless magic&#46; Features gently mottled silhouettes of Disney&#39;s most iconic Princess characters across a soothing grey backdrop&#46; Celebrates decades of strong, empowered women in beautiful, decor&#45;smart tones&#46; Machine washable for easy&#45;care maintenance, lasting comfort and endless style&#46; </p><b>Specifications</b>. <b>Color&#58;</b> Grey &#38; Purple. <b>Size&#58;</b> 5 x 7 ft&#46;. <b>Collection&#58;</b> Disney Rugs. <b>Fiber Content&#58;</b> Polyamide. <b>Style&#58;</b> Kids. <b>Construction&#58;</b> Power Loomed. <b>Shape&#58;</b> Rectangle. <b>Pile Height&#58;</b> 0&#46;22''. <b>Backing&#58;</b> Gel. <b>Country of Origin&#58;</b> Turkey. <b>Weight&#58;</b> 12 lbs-We do not ship to PO BOXES, please enter a street address. We only ship to the contiguous 48 States. [description end]\"\"\"}\n",
    "    ]\n",
    "res = openai.ChatCompletion.create(\n",
    "  model=\"gpt-3.5-turbo\",\n",
    "  messages=msgs,\n",
    "  temperature=0\n",
    ")"
   ]
  },
  {
   "attachments": {},
   "cell_type": "markdown",
   "metadata": {},
   "source": [
    "# vanilla http"
   ]
  },
  {
   "cell_type": "code",
   "execution_count": 149,
   "metadata": {},
   "outputs": [
    {
     "name": "stdout",
     "output_type": "stream",
     "text": [
      "{'id': 'chatcmpl-71h8dhGHWx6LAG4r9MQW0RkK6JIfp', 'object': 'chat.completion', 'created': 1680638507, 'model': 'gpt-3.5-turbo-0301', 'usage': {'prompt_tokens': 10, 'completion_tokens': 9, 'total_tokens': 19}, 'choices': [{'message': {'role': 'assistant', 'content': 'Hello! How can I assist you today?'}, 'finish_reason': 'stop', 'index': 0}]}\n"
     ]
    }
   ],
   "source": [
    "import requests\n",
    "import os \n",
    "OPENAI_KEY = os.environ['OPENAI_KEY']\n",
    "headers = {\n",
    "    \"Content-Type\": \"application/json\",\n",
    "    \"Authorization\": f\"Bearer {OPENAI_KEY}\"\n",
    "}\n",
    "\n",
    "data = {\n",
    "    \"model\": \"gpt-3.5-turbo\",\n",
    "    \"messages\": [{\"role\": \"user\", \"content\": \"Hello!\"}]\n",
    "}\n",
    "\n",
    "response = requests.post(\n",
    "    \"https://api.openai.com/v1/chat/completions\",\n",
    "    headers=headers,\n",
    "    json=data\n",
    ")\n",
    "\n",
    "print(response.json())"
   ]
  },
  {
   "attachments": {},
   "cell_type": "markdown",
   "metadata": {},
   "source": [
    "# vanilla http with async"
   ]
  },
  {
   "cell_type": "code",
   "execution_count": 110,
   "metadata": {},
   "outputs": [],
   "source": [
    "import asyncio\n",
    "import aiohttp\n",
    "import logging\n",
    "import os \n",
    "OPENAI_KEY = os.environ['OPENAI_KEY']\n",
    "headers = {\n",
    "    \"Content-Type\": \"application/json\",\n",
    "    \"Authorization\": f\"Bearer {OPENAI_KEY}\"\n",
    "}\n",
    "\n",
    "async def call_oai(session, data):\n",
    "    try:\n",
    "        async with session.post(\n",
    "            'https://api.openai.com/v1/chat/completions',\n",
    "            headers=headers,\n",
    "            json=data\n",
    "        ) as response:\n",
    "            res = await response.json()\n",
    "        return data, res\n",
    "    except Exception as e:\n",
    "        logging.error(f\"{data} failed due to {e}\")\n",
    "        return data, None\n",
    "\n",
    "async def call_oais(datas):\n",
    "    async with aiohttp.ClientSession() as session:\n",
    "        tasks = []\n",
    "        for data in datas:\n",
    "            task = asyncio.ensure_future(call_oai(session, data))\n",
    "            tasks.append(task)\n",
    "        reses = await asyncio.gather(*tasks)\n",
    "        return reses"
   ]
  },
  {
   "cell_type": "code",
   "execution_count": 123,
   "metadata": {},
   "outputs": [],
   "source": [
    "def call_oai_sync(data):\n",
    "    try:\n",
    "        res = requests.post(\n",
    "            \"https://api.openai.com/v1/chat/completions\",\n",
    "            headers=headers,\n",
    "            json=data\n",
    "        ).json()\n",
    "        return data, res\n",
    "    except Exception as e:\n",
    "        logging.error(f\"{data} failed due to {e}\")\n",
    "        return data, None"
   ]
  },
  {
   "cell_type": "code",
   "execution_count": null,
   "metadata": {},
   "outputs": [],
   "source": [
    "# reses = asyncio.run(call_oais([\n",
    "#     {\n",
    "#         \"model\": \"gpt-3.5-turbo\",\n",
    "#         \"messages\": [{\"role\": \"user\", \"content\": \"Hello!\"}]\n",
    "#     },\n",
    "#     {\n",
    "#         \"model\": \"gpt-3.5-turbo\",\n",
    "#         \"messages\": [{\"role\": \"user\", \"content\": \"Hello!\"}]\n",
    "#     },\n",
    "# ]))\n"
   ]
  },
  {
   "cell_type": "code",
   "execution_count": 152,
   "metadata": {},
   "outputs": [],
   "source": [
    "reses = await call_oais([\n",
    "    {\n",
    "        \"model\": \"gpt-3.5-turbo\",\n",
    "        \"messages\": msgs,\n",
    "        \"temperature\": 0,\n",
    "        \"max_tokens\": 200\n",
    "    },\n",
    "] * 10)"
   ]
  },
  {
   "cell_type": "code",
   "execution_count": 165,
   "metadata": {},
   "outputs": [
    {
     "data": {
      "text/plain": [
       "({'model': 'gpt-3.5-turbo',\n",
       "  'messages': [{'role': 'system',\n",
       "    'content': 'You are a state of art NER system that extracts all attribute key value pairs from e commerce data'},\n",
       "   {'role': 'user',\n",
       "    'content': '[title start] 316L Solid Stainless Steel  Necklace [title end] [description start] Authenticity Guaranteed\\nHypoallergenic Jewelry\\nComfort Fit Design\\nSafe on Skin\\nMade to Last a Lifetime\\nDesigned in ITALY\\nCertifed Gemstones\\nCreation Method: Lab Created \\nGuaranteed to Retain its Color and Shine\\n316L Solid Stainless Steel Necklace [description end]'},\n",
       "   {'role': 'assistant',\n",
       "    'content': 'Department|Women\\nMaterials|Argentium Plated Stainless Steel\\nMaterials|Stainless Steel'},\n",
       "   {'role': 'user',\n",
       "    'content': \"Yes, follow the previous schemas, and do better. [title start] Safavieh DSN504F-5 5 x 7 ft. Disney Rugs Power Loomed Rectangle Area Rug&#44; Grey & Purple [title end] [description start] <p>Disney Rugs Power Loomed Rectangle Area Rug </p><p>Gives your home whispers of timeless magic&#46; Features gently mottled silhouettes of Disney&#39;s most iconic Princess characters across a soothing grey backdrop&#46; Celebrates decades of strong, empowered women in beautiful, decor&#45;smart tones&#46; Machine washable for easy&#45;care maintenance, lasting comfort and endless style&#46; </p><b>Specifications</b>. <b>Color&#58;</b> Grey &#38; Purple. <b>Size&#58;</b> 5 x 7 ft&#46;. <b>Collection&#58;</b> Disney Rugs. <b>Fiber Content&#58;</b> Polyamide. <b>Style&#58;</b> Kids. <b>Construction&#58;</b> Power Loomed. <b>Shape&#58;</b> Rectangle. <b>Pile Height&#58;</b> 0&#46;22''. <b>Backing&#58;</b> Gel. <b>Country of Origin&#58;</b> Turkey. <b>Weight&#58;</b> 12 lbs-We do not ship to PO BOXES, please enter a street address. We only ship to the contiguous 48 States. [description end]\"}],\n",
       "  'temperature': 0,\n",
       "  'max_tokens': 200},\n",
       " {'id': 'chatcmpl-71hQqiUk0RRIc4LqOUnvlZPkNixDJ',\n",
       "  'object': 'chat.completion',\n",
       "  'created': 1680639636,\n",
       "  'model': 'gpt-3.5-turbo-0301',\n",
       "  'usage': {'prompt_tokens': 481,\n",
       "   'completion_tokens': 99,\n",
       "   'total_tokens': 580},\n",
       "  'choices': [{'message': {'role': 'assistant',\n",
       "     'content': \"Brand|Safavieh\\nDepartment|Kids\\nCollection|Disney Rugs\\nColor|Grey & Purple\\nSize|5 x 7 ft.\\nFiber Content|Polyamide\\nStyle|Power Loomed\\nShape|Rectangle\\nPile Height|0.22''\\nBacking|Gel\\nCountry of Origin|Turkey\\nWeight|12 lbs\\nCare Instructions|Machine Washable\\nShipping Restrictions|Does not ship to PO Boxes. Only ships to contiguous 48 states.\"},\n",
       "    'finish_reason': 'stop',\n",
       "    'index': 0}]})"
      ]
     },
     "execution_count": 165,
     "metadata": {},
     "output_type": "execute_result"
    }
   ],
   "source": [
    "call_oai_sync(\n",
    "    {\n",
    "        \"model\": \"gpt-3.5-turbo\",\n",
    "        \"messages\": msgs,\n",
    "        \"temperature\": 0,\n",
    "        \"max_tokens\": 200\n",
    "    })"
   ]
  },
  {
   "cell_type": "code",
   "execution_count": 135,
   "metadata": {},
   "outputs": [
    {
     "data": {
      "text/plain": [
       "100"
      ]
     },
     "execution_count": 135,
     "metadata": {},
     "output_type": "execute_result"
    }
   ],
   "source": [
    "len(reses)"
   ]
  },
  {
   "cell_type": "code",
   "execution_count": 160,
   "metadata": {},
   "outputs": [
    {
     "data": {
      "text/plain": [
       "558"
      ]
     },
     "execution_count": 160,
     "metadata": {},
     "output_type": "execute_result"
    }
   ],
   "source": [
    "len(tokenizer.tokenize(json.dumps(msgs)))"
   ]
  },
  {
   "cell_type": "code",
   "execution_count": 163,
   "metadata": {},
   "outputs": [
    {
     "data": {
      "text/plain": [
       "907200.0"
      ]
     },
     "execution_count": 163,
     "metadata": {},
     "output_type": "execute_result"
    }
   ],
   "source": [
    "90000 / 1000 * 60 * 24 * 7"
   ]
  },
  {
   "attachments": {},
   "cell_type": "markdown",
   "metadata": {},
   "source": [
    "# use promptify"
   ]
  },
  {
   "cell_type": "code",
   "execution_count": null,
   "metadata": {},
   "outputs": [],
   "source": [
    "# !pip install promptify markupsafe==2.0.1"
   ]
  },
  {
   "cell_type": "code",
   "execution_count": 4,
   "metadata": {},
   "outputs": [],
   "source": [
    "from promptify.models.nlp.openai_model import OpenAI\n",
    "from promptify.prompts.nlp.prompter import Prompter\n",
    "from pprint import pprint"
   ]
  },
  {
   "cell_type": "code",
   "execution_count": 5,
   "metadata": {},
   "outputs": [],
   "source": [
    "import os"
   ]
  },
  {
   "cell_type": "code",
   "execution_count": 6,
   "metadata": {},
   "outputs": [],
   "source": [
    "api_key = os.environ['OPENAI_API_KEY']"
   ]
  },
  {
   "cell_type": "code",
   "execution_count": 7,
   "metadata": {},
   "outputs": [],
   "source": [
    "model = OpenAI(api_key)\n",
    "nlp_prompter = Prompter(model)"
   ]
  },
  {
   "cell_type": "code",
   "execution_count": 11,
   "metadata": {},
   "outputs": [],
   "source": [
    "sent = \"\"\"Title: Safavieh DSN504F-5 5 x 7 ft. Disney Rugs Power Loomed Rectangle Area Rug&#44; Grey & Purple ; Description: <p>Disney Rugs Power Loomed Rectangle Area Rug </p><p>Gives your home whispers of timeless magic&#46; Features gently mottled silhouettes of Disney&#39;s most iconic Princess characters across a soothing grey backdrop&#46; Celebrates decades of strong, empowered women in beautiful, decor&#45;smart tones&#46; Machine washable for easy&#45;care maintenance, lasting comfort and endless style&#46; </p><b>Specifications</b>. <b>Color&#58;</b> Grey &#38; Purple. <b>Size&#58;</b> 5 x 7 ft&#46;. <b>Collection&#58;</b> Disney Rugs. <b>Fiber Content&#58;</b> Polyamide. <b>Style&#58;</b> Kids. <b>Construction&#58;</b> Power Loomed. <b>Shape&#58;</b> Rectangle. <b>Pile Height&#58;</b> 0&#46;22''. <b>Backing&#58;</b> Gel. <b>Country of Origin&#58;</b> Turkey. <b>Weight&#58;</b> 12 lbs-We do not ship to PO BOXES, please enter a street address. We only ship to the contiguous 48 States.\"\"\""
   ]
  },
  {
   "cell_type": "code",
   "execution_count": 14,
   "metadata": {},
   "outputs": [
    {
     "name": "stdout",
     "output_type": "stream",
     "text": [
      "Title: Safavieh DSN504F-5 5 x 7 ft. Disney Rugs Power Loomed Rectangle Area Rug&#44; Grey & Purple ; Description: <p>Disney Rugs Power Loomed Rectangle Area Rug </p><p>Gives your home whispers of timeless magic&#46; Features gently mottled silhouettes of Disney&#39;s most iconic Princess characters across a soothing grey backdrop&#46; Celebrates decades of strong, empowered women in beautiful, decor&#45;smart tones&#46; Machine washable for easy&#45;care maintenance, lasting comfort and endless style&#46; </p><b>Specifications</b>. <b>Color&#58;</b> Grey &#38; Purple. <b>Size&#58;</b> 5 x 7 ft&#46;. <b>Collection&#58;</b> Disney Rugs. <b>Fiber Content&#58;</b> Polyamide. <b>Style&#58;</b> Kids. <b>Construction&#58;</b> Power Loomed. <b>Shape&#58;</b> Rectangle. <b>Pile Height&#58;</b> 0&#46;22''. <b>Backing&#58;</b> Gel. <b>Country of Origin&#58;</b> Turkey. <b>Weight&#58;</b> 12 lbs-We do not ship to PO BOXES, please enter a street address. We only ship to the contiguous 48 States.\n"
     ]
    }
   ],
   "source": [
    "print(sent)"
   ]
  },
  {
   "cell_type": "code",
   "execution_count": 15,
   "metadata": {},
   "outputs": [
    {
     "name": "stdout",
     "output_type": "stream",
     "text": [
      "[{'E': 'Safavieh DSN504F-5 5 x 7 ft. Disney Rugs Power Loomed Rectangle Area '\n",
      "       'Rug',\n",
      "  'T': 'Product Name'},\n",
      " {'E': 'Grey & Purple', 'T': 'Color'},\n",
      " {'E': '5 x 7 ft.', 'T': 'Size'},\n",
      " {'E': 'Disney Rugs', 'T': 'Collection'},\n",
      " {'E': 'Polyamide', 'T': 'Fiber Content'},\n",
      " {'E': 'Kids', 'T': 'Style'},\n",
      " {'E': 'Power Loomed', 'T': 'Construction'},\n",
      " {'E': 'Rectangle', 'T': 'Shape'},\n",
      " {'E': '0.22', 'T': 'Pile Height'},\n",
      " {'E': 'Gel', 'T': 'Backing'},\n",
      " {'E': 'Turkey', 'T': 'Country of Origin'},\n",
      " {'E': '12 lbs', 'T': 'Weight'},\n",
      " {'branch': 'e-commerce', 'group': 'Named-entity recognition'}]\n"
     ]
    }
   ],
   "source": [
    "result = nlp_prompter.fit('ner.jinja',\n",
    "                          domain      = 'e-commerce',\n",
    "                          text_input  = sent, \n",
    "                          labels      = None)\n",
    "pprint(eval(result['text']))"
   ]
  },
  {
   "cell_type": "code",
   "execution_count": 18,
   "metadata": {},
   "outputs": [
    {
     "name": "stdout",
     "output_type": "stream",
     "text": [
      "Title: Safavieh DSN504F-5 5 x 7 ft. Disney Rugs Power Loomed Rectangle Area Rug&#44; Grey & Purple ; Description: <p>Disney Rugs Power Loomed Rectangle Area Rug </p><p>Gives your home whispers of timeless magic&#46; Features gently mottled silhouettes of Disney&#39;s most iconic Princess characters across a soothing grey backdrop&#46; Celebrates decades of strong, empowered women in beautiful, decor&#45;smart tones&#46; Machine washable for easy&#45;care maintenance, lasting comfort and endless style&#46; </p><b>Specifications</b>. <b>Color&#58;</b> Grey &#38; Purple. <b>Size&#58;</b> 5 x 7 ft&#46;. <b>Collection&#58;</b> Disney Rugs. <b>Fiber Content&#58;</b> Polyamide. <b>Style&#58;</b> Kids. <b>Construction&#58;</b> Power Loomed. <b>Shape&#58;</b> Rectangle. <b>Pile Height&#58;</b> 0&#46;22''. <b>Backing&#58;</b> Gel. <b>Country of Origin&#58;</b> Turkey. <b>Weight&#58;</b> 12 lbs-We do not ship to PO BOXES, please enter a street address. We only ship to the contiguous 48 States.\n"
     ]
    }
   ],
   "source": [
    "print(sent)"
   ]
  },
  {
   "cell_type": "code",
   "execution_count": 17,
   "metadata": {},
   "outputs": [
    {
     "name": "stdout",
     "output_type": "stream",
     "text": [
      "[{'E': 'Grey & Purple', 'T': 'COLOR'},\n",
      " {'E': 'Safavieh', 'T': 'BRAND'},\n",
      " {'E': '5 x 7 ft.', 'T': 'SIZE'},\n",
      " {'E': '12 lbs', 'T': 'WEIGHT'},\n",
      " {'E': 'Disney Rugs', 'T': 'THEME'},\n",
      " {'E': 'Polyamide', 'T': 'MATERIAL'},\n",
      " {'branch': 'Specifications',\n",
      "  'group': 'Color, Size, Collection, Fiber Content, Style, Construction, '\n",
      "           'Shape, Pile Height, Backing, Country of Origin, Weight'}]\n"
     ]
    }
   ],
   "source": [
    "result = nlp_prompter.fit('ner.jinja',\n",
    "                          domain      = 'e-commerce',\n",
    "                          text_input  = sent, \n",
    "                          labels      = [\"COLOR\", \"BRAND\", \"SIZE\", \"WEIGHT\", \"THEME\", \"MATERIAL\"])\n",
    "pprint(eval(result['text']))"
   ]
  },
  {
   "cell_type": "code",
   "execution_count": 23,
   "metadata": {},
   "outputs": [
    {
     "name": "stdout",
     "output_type": "stream",
     "text": [
      "[[{'E': '5 x 7 ft.', 'T': 'Alpha Size'},\n",
      "  {'E': 'Polyamide', 'T': 'Materials'},\n",
      "  {'E': 'Rectangle', 'T': 'Shape'},\n",
      "  {'E': '0.22', 'T': 'Pile Height'},\n",
      "  {'E': 'Gel', 'T': 'Backing'},\n",
      "  {'E': 'Turkey', 'T': 'Country of Origin'},\n",
      "  {'E': '12 lbs', 'T': 'Weight'}]]\n"
     ]
    }
   ],
   "source": [
    "one_shot = \"Title: Conjunto Deportivo Enei Iris ; Description: Conjunto deportivo de mujer Iris enei confeccionado con un tejido compresivo de secado rápido. Ideal para cualquier práctica deportiva este conjunto deportivo esta diseñado con el mínimo de costuras para un ajuste más cómodo y suave con efecto segunda piel. Realza la forma natural de la figura. tejido super suave, elástico y flexible sin transparencias, cintura alta, el top: tejido super suave, diseño de tiras cruzadas en la parte trasera, ajuste de abdomen, foam extraible. el legging: tejido super suave, elástico y flexible sin transparencias, cintura alta\"\n",
    "one_shot = [[one_shot, [{'T': 'Alpha Size', 'E': 'One Size'}, {'T': 'Body Closure', 'E': 'Elastic'}, \n",
    "                        {'T': 'Department', 'E': 'Women'}, {'T': 'Materials', 'E': 'Fabric'}\n",
    "            ]]]\n",
    "result = nlp_prompter.fit('ner.jinja',\n",
    "                          domain      = 'e-commerce',\n",
    "                          text_input  = sent,\n",
    "                          examples    = one_shot,\n",
    "                          labels      = ['Alpha Size', 'Materials'])\n",
    "\n",
    "\n",
    "pprint(eval(result['text']))"
   ]
  },
  {
   "cell_type": "code",
   "execution_count": null,
   "metadata": {},
   "outputs": [],
   "source": []
  }
 ],
 "metadata": {
  "kernelspec": {
   "display_name": "Python 3",
   "language": "python",
   "name": "python3"
  },
  "language_info": {
   "codemirror_mode": {
    "name": "ipython",
    "version": 3
   },
   "file_extension": ".py",
   "mimetype": "text/x-python",
   "name": "python",
   "nbconvert_exporter": "python",
   "pygments_lexer": "ipython3",
   "version": "3.8.13"
  },
  "orig_nbformat": 4,
  "vscode": {
   "interpreter": {
    "hash": "949777d72b0d2535278d3dc13498b2535136f6dfe0678499012e853ee9abcab1"
   }
  }
 },
 "nbformat": 4,
 "nbformat_minor": 2
}
