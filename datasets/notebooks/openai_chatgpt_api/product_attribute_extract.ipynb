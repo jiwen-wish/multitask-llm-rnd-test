{
 "cells": [
  {
   "attachments": {},
   "cell_type": "markdown",
   "metadata": {},
   "source": [
    "# vanilla"
   ]
  },
  {
   "cell_type": "code",
   "execution_count": 3,
   "metadata": {},
   "outputs": [],
   "source": [
    "# Note: you need to be using OpenAI Python v0.27.0 for the code below to work\n",
    "import openai\n",
    "\n",
    "res = openai.ChatCompletion.create(\n",
    "  model=\"gpt-3.5-turbo\",\n",
    "  messages=[\n",
    "        {\"role\": \"system\", \"content\": \"You extract attribute key value pairs from e commerce data\"},\n",
    "        {\"role\": \"user\", \"content\": \"\"\"[title start] 316L Solid Stainless Steel  Necklace [title end] [description start] Authenticity Guaranteed\n",
    "Hypoallergenic Jewelry\n",
    "Comfort Fit Design\n",
    "Safe on Skin\n",
    "Made to Last a Lifetime\n",
    "Designed in ITALY\n",
    "Certifed Gemstones\n",
    "Creation Method: Lab Created \n",
    "Guaranteed to Retain its Color and Shine\n",
    "316L Solid Stainless Steel Necklace [description end]\"\"\"},\n",
    "      {\"role\": \"assistant\", \"content\": \"\"\"Department|Women\n",
    "Materials|Argentium Plated Stainless Steel\n",
    "Materials|Stainless Steel\"\"\"},\n",
    "      {\"role\": \"user\", \"content\": \"\"\"[title start] Conjunto Deportivo Enei Iris [title end] [description start]  Conjunto deportivo de mujer Iris enei confeccionado con un tejido compresivo de secado rápido. Ideal para cualquier práctica deportiva este conjunto deportivo esta diseñado con el mínimo de costuras para un ajuste más cómodo y suave con efecto segunda piel. Realza la forma natural de la figura. tejido super suave, elástico y flexible sin transparencias, cintura alta, el top: tejido super suave, diseño de tiras cruzadas en la parte trasera, ajuste de abdomen, foam extraible. el legging: tejido super suave, elástico y flexible sin transparencias, cintura alta  [description end]\"\"\"},\n",
    "      {\"role\": \"assistant\", \"content\": \"\"\"Alpha Size|One Size\n",
    "Body Closure|Elastic\n",
    "Department|Women\n",
    "Materials|Fabric\"\"\"},\n",
    "      {\"role\": \"user\", \"content\": \"\"\"[title start] Safavieh DSN504F-5 5 x 7 ft. Disney Rugs Power Loomed Rectangle Area Rug&#44; Grey & Purple [title end] [description start] <p>Disney Rugs Power Loomed Rectangle Area Rug </p><p>Gives your home whispers of timeless magic&#46; Features gently mottled silhouettes of Disney&#39;s most iconic Princess characters across a soothing grey backdrop&#46; Celebrates decades of strong, empowered women in beautiful, decor&#45;smart tones&#46; Machine washable for easy&#45;care maintenance, lasting comfort and endless style&#46; </p><b>Specifications</b>. <b>Color&#58;</b> Grey &#38; Purple. <b>Size&#58;</b> 5 x 7 ft&#46;. <b>Collection&#58;</b> Disney Rugs. <b>Fiber Content&#58;</b> Polyamide. <b>Style&#58;</b> Kids. <b>Construction&#58;</b> Power Loomed. <b>Shape&#58;</b> Rectangle. <b>Pile Height&#58;</b> 0&#46;22''. <b>Backing&#58;</b> Gel. <b>Country of Origin&#58;</b> Turkey. <b>Weight&#58;</b> 12 lbs-We do not ship to PO BOXES, please enter a street address. We only ship to the contiguous 48 States. [description end]\"\"\"}\n",
    "    ]\n",
    ")"
   ]
  },
  {
   "cell_type": "code",
   "execution_count": 9,
   "metadata": {},
   "outputs": [
    {
     "name": "stdout",
     "output_type": "stream",
     "text": [
      "Brand|Safavieh\n",
      "Color|Grey & Purple\n",
      "Department|Home\n",
      "Dimensions|5 x 7 ft.\n",
      "Materials|Polyamide\n",
      "Pile Height|0.22\"\n",
      "Rug Shape|Rectangle\n",
      "Rug Style|Kids\n",
      "Weight|12 lbs. \n",
      "Country of Origin|Turkey\n",
      "Backing|Gel\n"
     ]
    }
   ],
   "source": [
    "print(res['choices'][0]['message']['content'])"
   ]
  },
  {
   "attachments": {},
   "cell_type": "markdown",
   "metadata": {},
   "source": [
    "# use promptify"
   ]
  },
  {
   "cell_type": "code",
   "execution_count": null,
   "metadata": {},
   "outputs": [],
   "source": [
    "# !pip install promptify markupsafe==2.0.1"
   ]
  },
  {
   "cell_type": "code",
   "execution_count": 2,
   "metadata": {},
   "outputs": [],
   "source": [
    "from promptify.models.nlp.openai_model import OpenAI\n",
    "from promptify.prompts.nlp.prompter import Prompter\n",
    "from pprint import pprint"
   ]
  },
  {
   "cell_type": "code",
   "execution_count": 4,
   "metadata": {},
   "outputs": [],
   "source": [
    "import os"
   ]
  },
  {
   "cell_type": "code",
   "execution_count": 9,
   "metadata": {},
   "outputs": [],
   "source": [
    "api_key = os.environ['OPENAI_API_KEY']"
   ]
  },
  {
   "cell_type": "code",
   "execution_count": 10,
   "metadata": {},
   "outputs": [],
   "source": [
    "model = OpenAI(api_key)\n",
    "nlp_prompter = Prompter(model)"
   ]
  },
  {
   "cell_type": "code",
   "execution_count": 11,
   "metadata": {},
   "outputs": [],
   "source": [
    "sent = \"\"\"Title: Safavieh DSN504F-5 5 x 7 ft. Disney Rugs Power Loomed Rectangle Area Rug&#44; Grey & Purple ; Description: <p>Disney Rugs Power Loomed Rectangle Area Rug </p><p>Gives your home whispers of timeless magic&#46; Features gently mottled silhouettes of Disney&#39;s most iconic Princess characters across a soothing grey backdrop&#46; Celebrates decades of strong, empowered women in beautiful, decor&#45;smart tones&#46; Machine washable for easy&#45;care maintenance, lasting comfort and endless style&#46; </p><b>Specifications</b>. <b>Color&#58;</b> Grey &#38; Purple. <b>Size&#58;</b> 5 x 7 ft&#46;. <b>Collection&#58;</b> Disney Rugs. <b>Fiber Content&#58;</b> Polyamide. <b>Style&#58;</b> Kids. <b>Construction&#58;</b> Power Loomed. <b>Shape&#58;</b> Rectangle. <b>Pile Height&#58;</b> 0&#46;22''. <b>Backing&#58;</b> Gel. <b>Country of Origin&#58;</b> Turkey. <b>Weight&#58;</b> 12 lbs-We do not ship to PO BOXES, please enter a street address. We only ship to the contiguous 48 States.\"\"\""
   ]
  },
  {
   "cell_type": "code",
   "execution_count": 14,
   "metadata": {},
   "outputs": [
    {
     "name": "stdout",
     "output_type": "stream",
     "text": [
      "Title: Safavieh DSN504F-5 5 x 7 ft. Disney Rugs Power Loomed Rectangle Area Rug&#44; Grey & Purple ; Description: <p>Disney Rugs Power Loomed Rectangle Area Rug </p><p>Gives your home whispers of timeless magic&#46; Features gently mottled silhouettes of Disney&#39;s most iconic Princess characters across a soothing grey backdrop&#46; Celebrates decades of strong, empowered women in beautiful, decor&#45;smart tones&#46; Machine washable for easy&#45;care maintenance, lasting comfort and endless style&#46; </p><b>Specifications</b>. <b>Color&#58;</b> Grey &#38; Purple. <b>Size&#58;</b> 5 x 7 ft&#46;. <b>Collection&#58;</b> Disney Rugs. <b>Fiber Content&#58;</b> Polyamide. <b>Style&#58;</b> Kids. <b>Construction&#58;</b> Power Loomed. <b>Shape&#58;</b> Rectangle. <b>Pile Height&#58;</b> 0&#46;22''. <b>Backing&#58;</b> Gel. <b>Country of Origin&#58;</b> Turkey. <b>Weight&#58;</b> 12 lbs-We do not ship to PO BOXES, please enter a street address. We only ship to the contiguous 48 States.\n"
     ]
    }
   ],
   "source": [
    "print(sent)"
   ]
  },
  {
   "cell_type": "code",
   "execution_count": 15,
   "metadata": {},
   "outputs": [
    {
     "name": "stdout",
     "output_type": "stream",
     "text": [
      "[{'E': 'Safavieh DSN504F-5 5 x 7 ft. Disney Rugs Power Loomed Rectangle Area '\n",
      "       'Rug',\n",
      "  'T': 'Product Name'},\n",
      " {'E': 'Grey & Purple', 'T': 'Color'},\n",
      " {'E': '5 x 7 ft.', 'T': 'Size'},\n",
      " {'E': 'Disney Rugs', 'T': 'Collection'},\n",
      " {'E': 'Polyamide', 'T': 'Fiber Content'},\n",
      " {'E': 'Kids', 'T': 'Style'},\n",
      " {'E': 'Power Loomed', 'T': 'Construction'},\n",
      " {'E': 'Rectangle', 'T': 'Shape'},\n",
      " {'E': '0.22', 'T': 'Pile Height'},\n",
      " {'E': 'Gel', 'T': 'Backing'},\n",
      " {'E': 'Turkey', 'T': 'Country of Origin'},\n",
      " {'E': '12 lbs', 'T': 'Weight'},\n",
      " {'branch': 'e-commerce', 'group': 'Named-entity recognition'}]\n"
     ]
    }
   ],
   "source": [
    "result = nlp_prompter.fit('ner.jinja',\n",
    "                          domain      = 'e-commerce',\n",
    "                          text_input  = sent, \n",
    "                          labels      = None)\n",
    "pprint(eval(result['text']))"
   ]
  },
  {
   "cell_type": "code",
   "execution_count": 18,
   "metadata": {},
   "outputs": [
    {
     "name": "stdout",
     "output_type": "stream",
     "text": [
      "Title: Safavieh DSN504F-5 5 x 7 ft. Disney Rugs Power Loomed Rectangle Area Rug&#44; Grey & Purple ; Description: <p>Disney Rugs Power Loomed Rectangle Area Rug </p><p>Gives your home whispers of timeless magic&#46; Features gently mottled silhouettes of Disney&#39;s most iconic Princess characters across a soothing grey backdrop&#46; Celebrates decades of strong, empowered women in beautiful, decor&#45;smart tones&#46; Machine washable for easy&#45;care maintenance, lasting comfort and endless style&#46; </p><b>Specifications</b>. <b>Color&#58;</b> Grey &#38; Purple. <b>Size&#58;</b> 5 x 7 ft&#46;. <b>Collection&#58;</b> Disney Rugs. <b>Fiber Content&#58;</b> Polyamide. <b>Style&#58;</b> Kids. <b>Construction&#58;</b> Power Loomed. <b>Shape&#58;</b> Rectangle. <b>Pile Height&#58;</b> 0&#46;22''. <b>Backing&#58;</b> Gel. <b>Country of Origin&#58;</b> Turkey. <b>Weight&#58;</b> 12 lbs-We do not ship to PO BOXES, please enter a street address. We only ship to the contiguous 48 States.\n"
     ]
    }
   ],
   "source": [
    "print(sent)"
   ]
  },
  {
   "cell_type": "code",
   "execution_count": 17,
   "metadata": {},
   "outputs": [
    {
     "name": "stdout",
     "output_type": "stream",
     "text": [
      "[{'E': 'Grey & Purple', 'T': 'COLOR'},\n",
      " {'E': 'Safavieh', 'T': 'BRAND'},\n",
      " {'E': '5 x 7 ft.', 'T': 'SIZE'},\n",
      " {'E': '12 lbs', 'T': 'WEIGHT'},\n",
      " {'E': 'Disney Rugs', 'T': 'THEME'},\n",
      " {'E': 'Polyamide', 'T': 'MATERIAL'},\n",
      " {'branch': 'Specifications',\n",
      "  'group': 'Color, Size, Collection, Fiber Content, Style, Construction, '\n",
      "           'Shape, Pile Height, Backing, Country of Origin, Weight'}]\n"
     ]
    }
   ],
   "source": [
    "result = nlp_prompter.fit('ner.jinja',\n",
    "                          domain      = 'e-commerce',\n",
    "                          text_input  = sent, \n",
    "                          labels      = [\"COLOR\", \"BRAND\", \"SIZE\", \"WEIGHT\", \"THEME\", \"MATERIAL\"])\n",
    "pprint(eval(result['text']))"
   ]
  },
  {
   "cell_type": "code",
   "execution_count": 23,
   "metadata": {},
   "outputs": [
    {
     "name": "stdout",
     "output_type": "stream",
     "text": [
      "[[{'E': '5 x 7 ft.', 'T': 'Alpha Size'},\n",
      "  {'E': 'Polyamide', 'T': 'Materials'},\n",
      "  {'E': 'Rectangle', 'T': 'Shape'},\n",
      "  {'E': '0.22', 'T': 'Pile Height'},\n",
      "  {'E': 'Gel', 'T': 'Backing'},\n",
      "  {'E': 'Turkey', 'T': 'Country of Origin'},\n",
      "  {'E': '12 lbs', 'T': 'Weight'}]]\n"
     ]
    }
   ],
   "source": [
    "one_shot = \"Title: Conjunto Deportivo Enei Iris ; Description: Conjunto deportivo de mujer Iris enei confeccionado con un tejido compresivo de secado rápido. Ideal para cualquier práctica deportiva este conjunto deportivo esta diseñado con el mínimo de costuras para un ajuste más cómodo y suave con efecto segunda piel. Realza la forma natural de la figura. tejido super suave, elástico y flexible sin transparencias, cintura alta, el top: tejido super suave, diseño de tiras cruzadas en la parte trasera, ajuste de abdomen, foam extraible. el legging: tejido super suave, elástico y flexible sin transparencias, cintura alta\"\n",
    "one_shot = [[one_shot, [{'T': 'Alpha Size', 'E': 'One Size'}, {'T': 'Body Closure', 'E': 'Elastic'}, \n",
    "                        {'T': 'Department', 'E': 'Women'}, {'T': 'Materials', 'E': 'Fabric'}\n",
    "            ]]]\n",
    "result = nlp_prompter.fit('ner.jinja',\n",
    "                          domain      = 'e-commerce',\n",
    "                          text_input  = sent,\n",
    "                          examples    = one_shot,\n",
    "                          labels      = ['Alpha Size', 'Materials'])\n",
    "\n",
    "\n",
    "pprint(eval(result['text']))"
   ]
  },
  {
   "cell_type": "code",
   "execution_count": null,
   "metadata": {},
   "outputs": [],
   "source": []
  }
 ],
 "metadata": {
  "kernelspec": {
   "display_name": "Python 3",
   "language": "python",
   "name": "python3"
  },
  "language_info": {
   "codemirror_mode": {
    "name": "ipython",
    "version": 3
   },
   "file_extension": ".py",
   "mimetype": "text/x-python",
   "name": "python",
   "nbconvert_exporter": "python",
   "pygments_lexer": "ipython3",
   "version": "3.8.13"
  },
  "orig_nbformat": 4,
  "vscode": {
   "interpreter": {
    "hash": "949777d72b0d2535278d3dc13498b2535136f6dfe0678499012e853ee9abcab1"
   }
  }
 },
 "nbformat": 4,
 "nbformat_minor": 2
}
