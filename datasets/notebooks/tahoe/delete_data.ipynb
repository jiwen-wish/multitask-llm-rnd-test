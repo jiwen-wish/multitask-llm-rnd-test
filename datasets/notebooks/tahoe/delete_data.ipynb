{
 "cells": [
  {
   "cell_type": "code",
   "execution_count": 1,
   "metadata": {},
   "outputs": [],
   "source": [
    "from tahoe import create_table, create_external_table, drop_external_table, execute_async\n",
    "from s3 import temp_bucket, get_s3_file_keys, upload_df_to_parquet\n",
    "import pandas as pd\n",
    "import logging\n",
    "logging.basicConfig(\n",
    "    format='%(asctime)s %(levelname)s: %(message)s',\n",
    "    level=logging.INFO\n",
    ")"
   ]
  },
  {
   "cell_type": "code",
   "execution_count": 2,
   "metadata": {},
   "outputs": [
    {
     "name": "stderr",
     "output_type": "stream",
     "text": [
      "2023-03-17 15:33:16,280 INFO: USE `default`\n",
      "2023-03-17 15:33:17,197 INFO: DROP TABLE structured_data_dev.query_top3_predictions\n",
      "2023-03-17 15:33:19,706 INFO: INFO  : Compiling command(queryId=hive_20230317153317_14fe95a6-dd3c-4d62-be90-a90518068763): DROP TABLE structured_data_dev.query_top3_predictions\n",
      "2023-03-17 15:33:19,707 INFO: INFO  : Concurrency mode is disabled, not creating a lock manager\n",
      "2023-03-17 15:33:19,708 INFO: INFO  : Semantic Analysis Completed (retrial = false)\n",
      "2023-03-17 15:33:19,708 INFO: INFO  : Returning Hive schema: Schema(fieldSchemas:null, properties:null)\n",
      "2023-03-17 15:33:19,710 INFO: INFO  : EXPLAIN output for queryid hive_20230317153317_14fe95a6-dd3c-4d62-be90-a90518068763 : STAGE DEPENDENCIES:\n",
      "2023-03-17 15:33:19,710 INFO:   Stage-0 is a root stage [DDL]\n",
      "2023-03-17 15:33:19,711 INFO: \n",
      "2023-03-17 15:33:19,713 INFO: STAGE PLANS:\n",
      "2023-03-17 15:33:19,714 INFO:   Stage: Stage-0\n",
      "2023-03-17 15:33:19,714 INFO:       Drop Table Operator:\n",
      "2023-03-17 15:33:19,715 INFO:         Drop Table\n",
      "2023-03-17 15:33:19,716 INFO:           table: structured_data_dev.query_top3_predictions\n",
      "2023-03-17 15:33:19,716 INFO: \n",
      "2023-03-17 15:33:19,717 INFO: \n",
      "2023-03-17 15:33:19,718 INFO: INFO  : Completed compiling command(queryId=hive_20230317153317_14fe95a6-dd3c-4d62-be90-a90518068763); Time taken: 0.056 seconds\n",
      "2023-03-17 15:33:19,719 INFO: INFO  : Concurrency mode is disabled, not creating a lock manager\n",
      "2023-03-17 15:33:19,719 INFO: INFO  : Executing command(queryId=hive_20230317153317_14fe95a6-dd3c-4d62-be90-a90518068763): DROP TABLE structured_data_dev.query_top3_predictions\n",
      "2023-03-17 15:33:19,720 INFO: INFO  : Starting task [Stage-0:DDL] in serial mode\n",
      "2023-03-17 15:33:19,721 INFO: INFO  : Completed executing command(queryId=hive_20230317153317_14fe95a6-dd3c-4d62-be90-a90518068763); Time taken: 1.046 seconds\n",
      "2023-03-17 15:33:19,722 INFO: INFO  : OK\n",
      "2023-03-17 15:33:19,722 INFO: INFO  : Concurrency mode is disabled, not creating a lock manager\n",
      "2023-03-17 15:33:20,111 INFO: The query returned no records.\n"
     ]
    }
   ],
   "source": [
    "q = f\"DROP TABLE structured_data_dev.query_top3_predictions\"\n",
    "execute_async(q, engine=\"hive\")"
   ]
  },
  {
   "cell_type": "code",
   "execution_count": null,
   "metadata": {},
   "outputs": [],
   "source": []
  }
 ],
 "metadata": {
  "kernelspec": {
   "display_name": "Python 3",
   "language": "python",
   "name": "python3"
  },
  "language_info": {
   "codemirror_mode": {
    "name": "ipython",
    "version": 3
   },
   "file_extension": ".py",
   "mimetype": "text/x-python",
   "name": "python",
   "nbconvert_exporter": "python",
   "pygments_lexer": "ipython3",
   "version": "3.8.13"
  },
  "orig_nbformat": 4,
  "vscode": {
   "interpreter": {
    "hash": "949777d72b0d2535278d3dc13498b2535136f6dfe0678499012e853ee9abcab1"
   }
  }
 },
 "nbformat": 4,
 "nbformat_minor": 2
}
