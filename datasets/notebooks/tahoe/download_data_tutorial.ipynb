{
 "cells": [
  {
   "cell_type": "markdown",
   "id": "6197ffdc-2cff-4f1d-b545-aeb7e8b4ab64",
   "metadata": {},
   "source": [
    "#### In this example, we download 100 listings from `wish.dim_all_products`. The steps are as follows:\n",
    "1. Create an external table for the data export.\n",
    "2. Execute a query to select some data into the external table.\n",
    "3. Download the exported data from S3.\n",
    "\n",
    "For downloading a large amount of data, this is much more efficient than directly running a SELECT query.\n",
    "\n",
    "Additional tips:\n",
    "* Use Hive for creating/altering/deleting tables and partitions. (You can't delete records by rows in Hive/Presto)\n",
    "* Use Presto for SELECT (and INSERT SELECT). Don't use Presto to download more than a few thousand rows.\n"
   ]
  },
  {
   "cell_type": "code",
   "execution_count": 2,
   "id": "51b086f3-d21d-45c8-b311-0ecc2f872a3b",
   "metadata": {},
   "outputs": [],
   "source": [
    "from tahoe import create_external_table, drop_external_table, execute_async\n",
    "from s3 import result_bucket, get_s3_file_keys, get_df_from_parquet\n",
    "import pandas as pd\n",
    "import logging\n",
    "logging.basicConfig(\n",
    "    format='%(asctime)s %(levelname)s: %(message)s',\n",
    "    level=logging.INFO\n",
    ")"
   ]
  },
  {
   "cell_type": "code",
   "execution_count": 2,
   "id": "f0d3f1d5-c00a-4925-bfdb-03d754b962b8",
   "metadata": {},
   "outputs": [],
   "source": [
    "# Define the export table\n",
    "export_table = {\n",
    "    \"name\": \"listing_export_test_123\",\n",
    "    \"columns\": [\n",
    "        {\"name\": \"listing_id\", \"type\": \"STRING\"},\n",
    "        {\"name\": \"name\", \"type\": \"STRING\"},\n",
    "        {\"name\": \"dt\", \"type\": \"STRING\"},\n",
    "    ]\n",
    "}\n",
    "db = \"sweeper_dev\""
   ]
  },
  {
   "cell_type": "code",
   "execution_count": 3,
   "id": "16c58fb0-746d-4fb3-aa52-efa84ca40c17",
   "metadata": {},
   "outputs": [
    {
     "ename": "KeyError",
     "evalue": "'TAHOE_USERNAME'",
     "output_type": "error",
     "traceback": [
      "\u001b[0;31m---------------------------------------------------------------------------\u001b[0m",
      "\u001b[0;31mKeyError\u001b[0m                                  Traceback (most recent call last)",
      "Cell \u001b[0;32mIn [3], line 2\u001b[0m\n\u001b[1;32m      1\u001b[0m \u001b[38;5;66;03m# Create the export table\u001b[39;00m\n\u001b[0;32m----> 2\u001b[0m \u001b[43mcreate_external_table\u001b[49m\u001b[43m(\u001b[49m\n\u001b[1;32m      3\u001b[0m \u001b[43m    \u001b[49m\u001b[43mtable_name\u001b[49m\u001b[38;5;241;43m=\u001b[39;49m\u001b[43mexport_table\u001b[49m\u001b[43m[\u001b[49m\u001b[38;5;124;43m\"\u001b[39;49m\u001b[38;5;124;43mname\u001b[39;49m\u001b[38;5;124;43m\"\u001b[39;49m\u001b[43m]\u001b[49m\u001b[43m,\u001b[49m\n\u001b[1;32m      4\u001b[0m \u001b[43m    \u001b[49m\u001b[43mtable_definition\u001b[49m\u001b[38;5;241;43m=\u001b[39;49m\u001b[43mexport_table\u001b[49m\u001b[43m,\u001b[49m\n\u001b[1;32m      5\u001b[0m \u001b[43m    \u001b[49m\u001b[43mdb\u001b[49m\u001b[38;5;241;43m=\u001b[39;49m\u001b[43mdb\u001b[49m\u001b[43m,\u001b[49m\n\u001b[1;32m      6\u001b[0m \u001b[43m    \u001b[49m\u001b[43mbucket\u001b[49m\u001b[38;5;241;43m=\u001b[39;49m\u001b[43mresult_bucket\u001b[49m\n\u001b[1;32m      7\u001b[0m \u001b[43m)\u001b[49m\n",
      "File \u001b[0;32m~/pyhive_utilities/tahoe.py:157\u001b[0m, in \u001b[0;36mcreate_external_table\u001b[0;34m(table_name, table_definition, db, bucket, use_partition)\u001b[0m\n\u001b[1;32m    151\u001b[0m     q \u001b[39m+\u001b[39m\u001b[39m=\u001b[39m \u001b[39mf\u001b[39m\u001b[39m\"\u001b[39m\u001b[39mPARTITIONED BY (\u001b[39m\u001b[39m{\u001b[39;00mpartition_str\u001b[39m}\u001b[39;00m\u001b[39m)\u001b[39m\u001b[39m\"\u001b[39m\n\u001b[1;32m    152\u001b[0m q \u001b[39m+\u001b[39m\u001b[39m=\u001b[39m \u001b[39m\"\u001b[39m\u001b[39m\\n\u001b[39;00m\u001b[39m\"\u001b[39m\u001b[39m.\u001b[39mjoin([\n\u001b[1;32m    153\u001b[0m     \u001b[39m\"\u001b[39m\u001b[39m\\n\u001b[39;00m\u001b[39mSTORED AS PARQUET\u001b[39m\u001b[39m\"\u001b[39m,\n\u001b[1;32m    154\u001b[0m     \u001b[39mf\u001b[39m\u001b[39m\"\u001b[39m\u001b[39mLOCATION \u001b[39m\u001b[39m'\u001b[39m\u001b[39ms3://\u001b[39m\u001b[39m{\u001b[39;00mbucket\u001b[39m}\u001b[39;00m\u001b[39m/\u001b[39m\u001b[39m{\u001b[39;00mdb\u001b[39m}\u001b[39;00m\u001b[39m/\u001b[39m\u001b[39m{\u001b[39;00mtable_name\u001b[39m}\u001b[39;00m\u001b[39m'\u001b[39m\u001b[39m\"\u001b[39m,\n\u001b[1;32m    155\u001b[0m     \u001b[39m\"\u001b[39m\u001b[39mTBLPROPERTIES (\u001b[39m\u001b[39m'\u001b[39m\u001b[39mparquet.compression\u001b[39m\u001b[39m'\u001b[39m\u001b[39m=\u001b[39m\u001b[39m'\u001b[39m\u001b[39mSNAPPY\u001b[39m\u001b[39m'\u001b[39m\u001b[39m)\u001b[39m\u001b[39m\"\u001b[39m\n\u001b[1;32m    156\u001b[0m ])\n\u001b[0;32m--> 157\u001b[0m execute_async(query\u001b[39m=\u001b[39;49mq, engine\u001b[39m=\u001b[39;49m\u001b[39m\"\u001b[39;49m\u001b[39mhive\u001b[39;49m\u001b[39m\"\u001b[39;49m)\n",
      "File \u001b[0;32m~/.local/lib/python3.8/site-packages/decorator.py:232\u001b[0m, in \u001b[0;36mdecorate.<locals>.fun\u001b[0;34m(*args, **kw)\u001b[0m\n\u001b[1;32m    230\u001b[0m \u001b[39mif\u001b[39;00m \u001b[39mnot\u001b[39;00m kwsyntax:\n\u001b[1;32m    231\u001b[0m     args, kw \u001b[39m=\u001b[39m fix(args, kw, sig)\n\u001b[0;32m--> 232\u001b[0m \u001b[39mreturn\u001b[39;00m caller(func, \u001b[39m*\u001b[39;49m(extras \u001b[39m+\u001b[39;49m args), \u001b[39m*\u001b[39;49m\u001b[39m*\u001b[39;49mkw)\n",
      "File \u001b[0;32m~/.local/lib/python3.8/site-packages/retry/api.py:73\u001b[0m, in \u001b[0;36mretry.<locals>.retry_decorator\u001b[0;34m(f, *fargs, **fkwargs)\u001b[0m\n\u001b[1;32m     71\u001b[0m args \u001b[39m=\u001b[39m fargs \u001b[39mif\u001b[39;00m fargs \u001b[39melse\u001b[39;00m \u001b[39mlist\u001b[39m()\n\u001b[1;32m     72\u001b[0m kwargs \u001b[39m=\u001b[39m fkwargs \u001b[39mif\u001b[39;00m fkwargs \u001b[39melse\u001b[39;00m \u001b[39mdict\u001b[39m()\n\u001b[0;32m---> 73\u001b[0m \u001b[39mreturn\u001b[39;00m __retry_internal(partial(f, \u001b[39m*\u001b[39;49margs, \u001b[39m*\u001b[39;49m\u001b[39m*\u001b[39;49mkwargs), exceptions, tries, delay, max_delay, backoff, jitter,\n\u001b[1;32m     74\u001b[0m                         logger)\n",
      "File \u001b[0;32m~/.local/lib/python3.8/site-packages/retry/api.py:33\u001b[0m, in \u001b[0;36m__retry_internal\u001b[0;34m(f, exceptions, tries, delay, max_delay, backoff, jitter, logger)\u001b[0m\n\u001b[1;32m     31\u001b[0m \u001b[39mwhile\u001b[39;00m _tries:\n\u001b[1;32m     32\u001b[0m     \u001b[39mtry\u001b[39;00m:\n\u001b[0;32m---> 33\u001b[0m         \u001b[39mreturn\u001b[39;00m f()\n\u001b[1;32m     34\u001b[0m     \u001b[39mexcept\u001b[39;00m exceptions \u001b[39mas\u001b[39;00m e:\n\u001b[1;32m     35\u001b[0m         _tries \u001b[39m-\u001b[39m\u001b[39m=\u001b[39m \u001b[39m1\u001b[39m\n",
      "File \u001b[0;32m~/pyhive_utilities/tahoe.py:99\u001b[0m, in \u001b[0;36mexecute_async\u001b[0;34m(query, engine, queue)\u001b[0m\n\u001b[1;32m     94\u001b[0m         cursor\u001b[39m.\u001b[39mexecute(query)\n\u001b[1;32m     95\u001b[0m \u001b[39m#         conn = get_presto_engine()\u001b[39;00m\n\u001b[1;32m     96\u001b[0m \u001b[39m#         results = conn.execute(query)\u001b[39;00m\n\u001b[1;32m     97\u001b[0m \u001b[39m#         return results.fetchall()\u001b[39;00m\n\u001b[1;32m     98\u001b[0m     \u001b[39melse\u001b[39;00m:  \u001b[39m# hive async query\u001b[39;00m\n\u001b[0;32m---> 99\u001b[0m         conn \u001b[39m=\u001b[39m get_hive_connection(queue)\n\u001b[1;32m    100\u001b[0m         cursor \u001b[39m=\u001b[39m conn\u001b[39m.\u001b[39mcursor()\n\u001b[1;32m    101\u001b[0m         cursor\u001b[39m.\u001b[39mexecute(query, async_\u001b[39m=\u001b[39m\u001b[39mTrue\u001b[39;00m)\n",
      "File \u001b[0;32m~/pyhive_utilities/tahoe.py:35\u001b[0m, in \u001b[0;36mget_hive_connection\u001b[0;34m(queue)\u001b[0m\n\u001b[1;32m     34\u001b[0m \u001b[39mdef\u001b[39;00m \u001b[39mget_hive_connection\u001b[39m(queue\u001b[39m=\u001b[39m\u001b[39m\"\u001b[39m\u001b[39mdefault\u001b[39m\u001b[39m\"\u001b[39m):\n\u001b[0;32m---> 35\u001b[0m     tahoe_username, tahoe_password \u001b[39m=\u001b[39m get_tahoe_credentials()\n\u001b[1;32m     36\u001b[0m     conn \u001b[39m=\u001b[39m hive\u001b[39m.\u001b[39mconnect(\n\u001b[1;32m     37\u001b[0m         host\u001b[39m=\u001b[39mhive_host,\n\u001b[1;32m     38\u001b[0m         port\u001b[39m=\u001b[39mhive_port,\n\u001b[0;32m   (...)\u001b[0m\n\u001b[1;32m     44\u001b[0m         configuration\u001b[39m=\u001b[39m{\u001b[39m\"\u001b[39m\u001b[39mmapred.job.queue.name\u001b[39m\u001b[39m\"\u001b[39m: queue}\n\u001b[1;32m     45\u001b[0m     )\n\u001b[1;32m     46\u001b[0m     \u001b[39mreturn\u001b[39;00m conn\n",
      "File \u001b[0;32m~/pyhive_utilities/tahoe.py:29\u001b[0m, in \u001b[0;36mget_tahoe_credentials\u001b[0;34m()\u001b[0m\n\u001b[1;32m     28\u001b[0m \u001b[39mdef\u001b[39;00m \u001b[39mget_tahoe_credentials\u001b[39m():\n\u001b[0;32m---> 29\u001b[0m     tahoe_username \u001b[39m=\u001b[39m os\u001b[39m.\u001b[39;49menviron[\u001b[39m\"\u001b[39;49m\u001b[39mTAHOE_USERNAME\u001b[39;49m\u001b[39m\"\u001b[39;49m]\n\u001b[1;32m     30\u001b[0m     tahoe_password \u001b[39m=\u001b[39m os\u001b[39m.\u001b[39menviron[\u001b[39m\"\u001b[39m\u001b[39mTAHOE_PASSWORD\u001b[39m\u001b[39m\"\u001b[39m]\n\u001b[1;32m     31\u001b[0m     \u001b[39mreturn\u001b[39;00m tahoe_username, tahoe_password\n",
      "File \u001b[0;32m/usr/local/lib/python3.8/os.py:675\u001b[0m, in \u001b[0;36m_Environ.__getitem__\u001b[0;34m(self, key)\u001b[0m\n\u001b[1;32m    672\u001b[0m     value \u001b[39m=\u001b[39m \u001b[39mself\u001b[39m\u001b[39m.\u001b[39m_data[\u001b[39mself\u001b[39m\u001b[39m.\u001b[39mencodekey(key)]\n\u001b[1;32m    673\u001b[0m \u001b[39mexcept\u001b[39;00m \u001b[39mKeyError\u001b[39;00m:\n\u001b[1;32m    674\u001b[0m     \u001b[39m# raise KeyError with the original key value\u001b[39;00m\n\u001b[0;32m--> 675\u001b[0m     \u001b[39mraise\u001b[39;00m \u001b[39mKeyError\u001b[39;00m(key) \u001b[39mfrom\u001b[39;00m \u001b[39mNone\u001b[39m\n\u001b[1;32m    676\u001b[0m \u001b[39mreturn\u001b[39;00m \u001b[39mself\u001b[39m\u001b[39m.\u001b[39mdecodevalue(value)\n",
      "\u001b[0;31mKeyError\u001b[0m: 'TAHOE_USERNAME'"
     ]
    }
   ],
   "source": [
    "# Create the export table\n",
    "create_external_table(\n",
    "    table_name=export_table[\"name\"],\n",
    "    table_definition=export_table,\n",
    "    db=db,\n",
    "    bucket=result_bucket\n",
    ")"
   ]
  },
  {
   "cell_type": "markdown",
   "id": "c7d77eb2-3cfb-4ea1-b6a1-f9bc25b8f29a",
   "metadata": {},
   "source": [
    "Data files in parquet format for this table will be stored in `'s3://wish-tahoe-query-results/sweeper_dev/listing_export_test_123'`"
   ]
  },
  {
   "cell_type": "code",
   "execution_count": 4,
   "id": "eef782e5-8f4a-4918-9b49-723df8599645",
   "metadata": {},
   "outputs": [
    {
     "name": "stderr",
     "output_type": "stream",
     "text": [
      "2022-04-05 21:19:37,715 INFO: SELECT COUNT(*) FROM sweeper_dev.listing_export_test_123\n"
     ]
    },
    {
     "data": {
      "text/plain": [
       "[(0,)]"
      ]
     },
     "execution_count": 4,
     "metadata": {},
     "output_type": "execute_result"
    }
   ],
   "source": [
    "# Check the number of rows in the external table\n",
    "q = f\"SELECT COUNT(*) FROM {db}.{export_table['name']}\"\n",
    "execute_async(q)"
   ]
  },
  {
   "cell_type": "code",
   "execution_count": 5,
   "id": "004c98b2-3478-4ad4-a0a3-bd575a76cc44",
   "metadata": {},
   "outputs": [
    {
     "name": "stderr",
     "output_type": "stream",
     "text": [
      "2022-04-05 21:19:57,020 INFO: \n",
      "INSERT INTO sweeper_dev.listing_export_test_123\n",
      "SELECT \n",
      "    _id AS listing_id,\n",
      "    name,\n",
      "    dt\n",
      "FROM wish.dim_all_products\n",
      "LIMIT 1000\n",
      "\n"
     ]
    },
    {
     "data": {
      "text/plain": [
       "[(1000,)]"
      ]
     },
     "execution_count": 5,
     "metadata": {},
     "output_type": "execute_result"
    }
   ],
   "source": [
    "# Export data to the external table\n",
    "q = f\"\"\"\n",
    "INSERT INTO {db}.{export_table['name']}\n",
    "SELECT \n",
    "    _id AS listing_id,\n",
    "    name,\n",
    "    dt\n",
    "FROM wish.dim_all_products\n",
    "LIMIT 1000\n",
    "\"\"\"\n",
    "execute_async(q)"
   ]
  },
  {
   "cell_type": "code",
   "execution_count": 6,
   "id": "f0eea482-454b-4779-ba26-f809f2ed5a0c",
   "metadata": {},
   "outputs": [
    {
     "name": "stderr",
     "output_type": "stream",
     "text": [
      "2022-04-05 21:20:02,134 INFO: SELECT COUNT(*) FROM sweeper_dev.listing_export_test_123\n"
     ]
    },
    {
     "data": {
      "text/plain": [
       "[(1000,)]"
      ]
     },
     "execution_count": 6,
     "metadata": {},
     "output_type": "execute_result"
    }
   ],
   "source": [
    "# Check again the number of rows in the external table\n",
    "q = f\"SELECT COUNT(*) FROM {db}.{export_table['name']}\"\n",
    "execute_async(q)"
   ]
  },
  {
   "cell_type": "code",
   "execution_count": 9,
   "id": "fa71a995-7414-402a-900c-e8eb79c3255e",
   "metadata": {},
   "outputs": [
    {
     "data": {
      "text/plain": [
       "[('sweeper_dev/listing_export_test_123/20220406_021957_03711_w8227_ae1a4cff-f158-4399-b435-e47692608740',\n",
       "  0),\n",
       " ('sweeper_dev/listing_export_test_123/20220406_021957_03711_w8227_d5c5b08a-6d32-455e-a9de-1435d359a095',\n",
       "  0)]"
      ]
     },
     "execution_count": 9,
     "metadata": {},
     "output_type": "execute_result"
    }
   ],
   "source": [
    "# Show the data files for the external table\n",
    "file_keys = get_s3_file_keys(s3_bucket=result_bucket, s3_prefix=\"sweeper_dev/listing_export_test_123\")\n",
    "file_keys"
   ]
  },
  {
   "cell_type": "code",
   "execution_count": 13,
   "id": "173c30f8-48e4-4000-990a-62727f404b7e",
   "metadata": {},
   "outputs": [
    {
     "name": "stderr",
     "output_type": "stream",
     "text": [
      "2022-04-05 21:21:49,252 INFO: Importing from sweeper_dev/listing_export_test_123/20220406_021957_03711_w8227_ae1a4cff-f158-4399-b435-e47692608740...\n",
      "2022-04-05 21:21:50,296 INFO: Imported DF (349, 3) from sweeper_dev/listing_export_test_123/20220406_021957_03711_w8227_ae1a4cff-f158-4399-b435-e47692608740.\n",
      "2022-04-05 21:21:50,344 INFO: Importing from sweeper_dev/listing_export_test_123/20220406_021957_03711_w8227_d5c5b08a-6d32-455e-a9de-1435d359a095...\n",
      "2022-04-05 21:21:51,395 INFO: Imported DF (651, 3) from sweeper_dev/listing_export_test_123/20220406_021957_03711_w8227_d5c5b08a-6d32-455e-a9de-1435d359a095.\n"
     ]
    },
    {
     "data": {
      "text/html": [
       "<div>\n",
       "<style scoped>\n",
       "    .dataframe tbody tr th:only-of-type {\n",
       "        vertical-align: middle;\n",
       "    }\n",
       "\n",
       "    .dataframe tbody tr th {\n",
       "        vertical-align: top;\n",
       "    }\n",
       "\n",
       "    .dataframe thead th {\n",
       "        text-align: right;\n",
       "    }\n",
       "</style>\n",
       "<table border=\"1\" class=\"dataframe\">\n",
       "  <thead>\n",
       "    <tr style=\"text-align: right;\">\n",
       "      <th></th>\n",
       "      <th>listing_id</th>\n",
       "      <th>name</th>\n",
       "      <th>dt</th>\n",
       "    </tr>\n",
       "  </thead>\n",
       "  <tbody>\n",
       "    <tr>\n",
       "      <th>0</th>\n",
       "      <td>62453dd22bab6cf58c61673f</td>\n",
       "      <td>Animal Pattern Temporary Tattoo Sticker Men Wa...</td>\n",
       "      <td>2022-03-31</td>\n",
       "    </tr>\n",
       "    <tr>\n",
       "      <th>1</th>\n",
       "      <td>62453fce324cee04c8b55caa</td>\n",
       "      <td>Gaiters Women's Stylish Leg Armor Covers Acces...</td>\n",
       "      <td>2022-03-31</td>\n",
       "    </tr>\n",
       "    <tr>\n",
       "      <th>2</th>\n",
       "      <td>6245402b70350f2946d94eee</td>\n",
       "      <td>Fashion Korea Silver Plated Demon Eye Finger R...</td>\n",
       "      <td>2022-03-31</td>\n",
       "    </tr>\n",
       "    <tr>\n",
       "      <th>3</th>\n",
       "      <td>62454101594260e9d77169ff</td>\n",
       "      <td>Men's / Women's Print 3D Shorts Sports Casual ...</td>\n",
       "      <td>2022-03-31</td>\n",
       "    </tr>\n",
       "    <tr>\n",
       "      <th>4</th>\n",
       "      <td>62454192881d18861dcd9b6a</td>\n",
       "      <td>All the Presidents' Gardens: Madison S Cabbage...</td>\n",
       "      <td>2022-03-31</td>\n",
       "    </tr>\n",
       "  </tbody>\n",
       "</table>\n",
       "</div>"
      ],
      "text/plain": [
       "                 listing_id  \\\n",
       "0  62453dd22bab6cf58c61673f   \n",
       "1  62453fce324cee04c8b55caa   \n",
       "2  6245402b70350f2946d94eee   \n",
       "3  62454101594260e9d77169ff   \n",
       "4  62454192881d18861dcd9b6a   \n",
       "\n",
       "                                                name          dt  \n",
       "0  Animal Pattern Temporary Tattoo Sticker Men Wa...  2022-03-31  \n",
       "1  Gaiters Women's Stylish Leg Armor Covers Acces...  2022-03-31  \n",
       "2  Fashion Korea Silver Plated Demon Eye Finger R...  2022-03-31  \n",
       "3  Men's / Women's Print 3D Shorts Sports Casual ...  2022-03-31  \n",
       "4  All the Presidents' Gardens: Madison S Cabbage...  2022-03-31  "
      ]
     },
     "execution_count": 13,
     "metadata": {},
     "output_type": "execute_result"
    }
   ],
   "source": [
    "# Import the parquet file as data frame\n",
    "# Alternatively, you can use boto3 to directly download the file to disk\n",
    "# For hundreds of data files, download using multiprocessing\n",
    "\n",
    "dfs = []\n",
    "for file_key, file_size in file_keys:\n",
    "    df_chunk = get_df_from_parquet(s3_bucket=result_bucket, s3_key=file_key)\n",
    "    dfs.append(df_chunk)\n",
    "    \n",
    "df_data = pd.concat(dfs)\n",
    "df_data.head()"
   ]
  },
  {
   "cell_type": "code",
   "execution_count": 14,
   "id": "90fc6545-2427-4d7a-b1b3-459ba45d7469",
   "metadata": {},
   "outputs": [],
   "source": [
    "df_data.to_parquet(\"sample_data.parquet\", index=False)"
   ]
  },
  {
   "cell_type": "code",
   "execution_count": 15,
   "id": "1d17370c-d602-494a-8fb0-47333ab1c544",
   "metadata": {},
   "outputs": [
    {
     "name": "stderr",
     "output_type": "stream",
     "text": [
      "2022-04-05 21:22:20,997 INFO: USE `default`\n",
      "2022-04-05 21:22:21,337 INFO: \n",
      "    DROP TABLE IF EXISTS sweeper_dev.listing_export_test_123\n",
      "    \n",
      "2022-04-05 21:22:21,890 INFO: The query returned no records.\n",
      "2022-04-05 21:22:21,891 INFO: Dropped sweeper_dev.listing_export_test_123\n",
      "2022-04-05 21:22:22,787 INFO: Files in 's3://wish-tahoe-query-results/sweeper_dev/listing_export_test_123 are deleted.\n"
     ]
    }
   ],
   "source": [
    "# Optional: drop the external table\n",
    "drop_external_table(\n",
    "    db=db,\n",
    "    table_name=export_table[\"name\"],\n",
    "    delete_files=True,\n",
    "    s3_bucket=result_bucket,\n",
    "    s3_prefix=\"sweeper_dev/listing_export_test_123\", \n",
    ")"
   ]
  },
  {
   "cell_type": "code",
   "execution_count": 16,
   "id": "3c829b83-ac36-4b16-9a71-f309479c8844",
   "metadata": {
    "scrolled": true,
    "tags": []
   },
   "outputs": [
    {
     "name": "stderr",
     "output_type": "stream",
     "text": [
      "2022-04-05 21:22:29,042 INFO: SELECT COUNT(*) FROM sweeper_dev.listing_export_test_123\n",
      "2022-04-05 21:22:31,551 WARNING: {'message': \"line 1:22: Table 'hive.sweeper_dev.listing_export_test_123' does not exist\", 'errorCode': 46, 'errorName': 'TABLE_NOT_FOUND', 'errorType': 'USER_ERROR', 'errorLocation': {'lineNumber': 1, 'columnNumber': 22}, 'failureInfo': {'type': 'io.prestosql.spi.PrestoException', 'message': \"line 1:22: Table 'hive.sweeper_dev.listing_export_test_123' does not exist\", 'suppressed': [], 'stack': ['io.prestosql.sql.analyzer.SemanticExceptions.semanticException(SemanticExceptions.java:48)', 'io.prestosql.sql.analyzer.SemanticExceptions.semanticException(SemanticExceptions.java:43)', 'io.prestosql.sql.analyzer.StatementAnalyzer$Visitor.visitTable(StatementAnalyzer.java:1229)', 'io.prestosql.sql.analyzer.StatementAnalyzer$Visitor.visitTable(StatementAnalyzer.java:329)', 'io.prestosql.sql.tree.Table.accept(Table.java:53)', 'io.prestosql.sql.tree.AstVisitor.process(AstVisitor.java:27)', 'io.prestosql.sql.analyzer.StatementAnalyzer$Visitor.process(StatementAnalyzer.java:346)', 'io.prestosql.sql.analyzer.StatementAnalyzer$Visitor.analyzeFrom(StatementAnalyzer.java:2529)', 'io.prestosql.sql.analyzer.StatementAnalyzer$Visitor.visitQuerySpecification(StatementAnalyzer.java:1553)', 'io.prestosql.sql.analyzer.StatementAnalyzer$Visitor.visitQuerySpecification(StatementAnalyzer.java:329)', 'io.prestosql.sql.tree.QuerySpecification.accept(QuerySpecification.java:144)', 'io.prestosql.sql.tree.AstVisitor.process(AstVisitor.java:27)', 'io.prestosql.sql.analyzer.StatementAnalyzer$Visitor.process(StatementAnalyzer.java:346)', 'io.prestosql.sql.analyzer.StatementAnalyzer$Visitor.process(StatementAnalyzer.java:356)', 'io.prestosql.sql.analyzer.StatementAnalyzer$Visitor.visitQuery(StatementAnalyzer.java:1061)', 'io.prestosql.sql.analyzer.StatementAnalyzer$Visitor.visitQuery(StatementAnalyzer.java:329)', 'io.prestosql.sql.tree.Query.accept(Query.java:107)', 'io.prestosql.sql.tree.AstVisitor.process(AstVisitor.java:27)', 'io.prestosql.sql.analyzer.StatementAnalyzer$Visitor.process(StatementAnalyzer.java:346)', 'io.prestosql.sql.analyzer.StatementAnalyzer.analyze(StatementAnalyzer.java:315)', 'io.prestosql.sql.analyzer.Analyzer.analyze(Analyzer.java:91)', 'io.prestosql.sql.analyzer.Analyzer.analyze(Analyzer.java:83)', 'io.prestosql.execution.SqlQueryExecution.analyze(SqlQueryExecution.java:263)', 'io.prestosql.execution.SqlQueryExecution.<init>(SqlQueryExecution.java:186)', 'io.prestosql.execution.SqlQueryExecution$SqlQueryExecutionFactory.createQueryExecution(SqlQueryExecution.java:768)', 'io.prestosql.dispatcher.LocalDispatchQueryFactory.lambda$createDispatchQuery$0(LocalDispatchQueryFactory.java:129)', 'io.prestosql.$gen.Presto_350_1_g8229d0a____20220402_200017_2.call(Unknown Source)', 'com.google.common.util.concurrent.TrustedListenableFutureTask$TrustedFutureInterruptibleTask.runInterruptibly(TrustedListenableFutureTask.java:125)', 'com.google.common.util.concurrent.InterruptibleTask.run(InterruptibleTask.java:69)', 'com.google.common.util.concurrent.TrustedListenableFutureTask.run(TrustedListenableFutureTask.java:78)', 'java.base/java.util.concurrent.ThreadPoolExecutor.runWorker(ThreadPoolExecutor.java:1128)', 'java.base/java.util.concurrent.ThreadPoolExecutor$Worker.run(ThreadPoolExecutor.java:628)', 'java.base/java.lang.Thread.run(Thread.java:829)'], 'errorLocation': {'lineNumber': 1, 'columnNumber': 22}}}, retrying in 0 seconds...\n",
      "2022-04-05 21:22:31,551 INFO: SELECT COUNT(*) FROM sweeper_dev.listing_export_test_123\n",
      "2022-04-05 21:22:33,988 WARNING: {'message': \"line 1:22: Table 'hive.sweeper_dev.listing_export_test_123' does not exist\", 'errorCode': 46, 'errorName': 'TABLE_NOT_FOUND', 'errorType': 'USER_ERROR', 'errorLocation': {'lineNumber': 1, 'columnNumber': 22}, 'failureInfo': {'type': 'io.prestosql.spi.PrestoException', 'message': \"line 1:22: Table 'hive.sweeper_dev.listing_export_test_123' does not exist\", 'suppressed': [], 'stack': ['io.prestosql.sql.analyzer.SemanticExceptions.semanticException(SemanticExceptions.java:48)', 'io.prestosql.sql.analyzer.SemanticExceptions.semanticException(SemanticExceptions.java:43)', 'io.prestosql.sql.analyzer.StatementAnalyzer$Visitor.visitTable(StatementAnalyzer.java:1229)', 'io.prestosql.sql.analyzer.StatementAnalyzer$Visitor.visitTable(StatementAnalyzer.java:329)', 'io.prestosql.sql.tree.Table.accept(Table.java:53)', 'io.prestosql.sql.tree.AstVisitor.process(AstVisitor.java:27)', 'io.prestosql.sql.analyzer.StatementAnalyzer$Visitor.process(StatementAnalyzer.java:346)', 'io.prestosql.sql.analyzer.StatementAnalyzer$Visitor.analyzeFrom(StatementAnalyzer.java:2529)', 'io.prestosql.sql.analyzer.StatementAnalyzer$Visitor.visitQuerySpecification(StatementAnalyzer.java:1553)', 'io.prestosql.sql.analyzer.StatementAnalyzer$Visitor.visitQuerySpecification(StatementAnalyzer.java:329)', 'io.prestosql.sql.tree.QuerySpecification.accept(QuerySpecification.java:144)', 'io.prestosql.sql.tree.AstVisitor.process(AstVisitor.java:27)', 'io.prestosql.sql.analyzer.StatementAnalyzer$Visitor.process(StatementAnalyzer.java:346)', 'io.prestosql.sql.analyzer.StatementAnalyzer$Visitor.process(StatementAnalyzer.java:356)', 'io.prestosql.sql.analyzer.StatementAnalyzer$Visitor.visitQuery(StatementAnalyzer.java:1061)', 'io.prestosql.sql.analyzer.StatementAnalyzer$Visitor.visitQuery(StatementAnalyzer.java:329)', 'io.prestosql.sql.tree.Query.accept(Query.java:107)', 'io.prestosql.sql.tree.AstVisitor.process(AstVisitor.java:27)', 'io.prestosql.sql.analyzer.StatementAnalyzer$Visitor.process(StatementAnalyzer.java:346)', 'io.prestosql.sql.analyzer.StatementAnalyzer.analyze(StatementAnalyzer.java:315)', 'io.prestosql.sql.analyzer.Analyzer.analyze(Analyzer.java:91)', 'io.prestosql.sql.analyzer.Analyzer.analyze(Analyzer.java:83)', 'io.prestosql.execution.SqlQueryExecution.analyze(SqlQueryExecution.java:263)', 'io.prestosql.execution.SqlQueryExecution.<init>(SqlQueryExecution.java:186)', 'io.prestosql.execution.SqlQueryExecution$SqlQueryExecutionFactory.createQueryExecution(SqlQueryExecution.java:768)', 'io.prestosql.dispatcher.LocalDispatchQueryFactory.lambda$createDispatchQuery$0(LocalDispatchQueryFactory.java:129)', 'io.prestosql.$gen.Presto_350_1_g8229d0a____20220402_200017_2.call(Unknown Source)', 'com.google.common.util.concurrent.TrustedListenableFutureTask$TrustedFutureInterruptibleTask.runInterruptibly(TrustedListenableFutureTask.java:125)', 'com.google.common.util.concurrent.InterruptibleTask.run(InterruptibleTask.java:69)', 'com.google.common.util.concurrent.TrustedListenableFutureTask.run(TrustedListenableFutureTask.java:78)', 'java.base/java.util.concurrent.ThreadPoolExecutor.runWorker(ThreadPoolExecutor.java:1128)', 'java.base/java.util.concurrent.ThreadPoolExecutor$Worker.run(ThreadPoolExecutor.java:628)', 'java.base/java.lang.Thread.run(Thread.java:829)'], 'errorLocation': {'lineNumber': 1, 'columnNumber': 22}}}, retrying in 0 seconds...\n",
      "2022-04-05 21:22:33,989 INFO: SELECT COUNT(*) FROM sweeper_dev.listing_export_test_123\n"
     ]
    },
    {
     "ename": "DatabaseError",
     "evalue": "{'message': \"line 1:22: Table 'hive.sweeper_dev.listing_export_test_123' does not exist\", 'errorCode': 46, 'errorName': 'TABLE_NOT_FOUND', 'errorType': 'USER_ERROR', 'errorLocation': {'lineNumber': 1, 'columnNumber': 22}, 'failureInfo': {'type': 'io.prestosql.spi.PrestoException', 'message': \"line 1:22: Table 'hive.sweeper_dev.listing_export_test_123' does not exist\", 'suppressed': [], 'stack': ['io.prestosql.sql.analyzer.SemanticExceptions.semanticException(SemanticExceptions.java:48)', 'io.prestosql.sql.analyzer.SemanticExceptions.semanticException(SemanticExceptions.java:43)', 'io.prestosql.sql.analyzer.StatementAnalyzer$Visitor.visitTable(StatementAnalyzer.java:1229)', 'io.prestosql.sql.analyzer.StatementAnalyzer$Visitor.visitTable(StatementAnalyzer.java:329)', 'io.prestosql.sql.tree.Table.accept(Table.java:53)', 'io.prestosql.sql.tree.AstVisitor.process(AstVisitor.java:27)', 'io.prestosql.sql.analyzer.StatementAnalyzer$Visitor.process(StatementAnalyzer.java:346)', 'io.prestosql.sql.analyzer.StatementAnalyzer$Visitor.analyzeFrom(StatementAnalyzer.java:2529)', 'io.prestosql.sql.analyzer.StatementAnalyzer$Visitor.visitQuerySpecification(StatementAnalyzer.java:1553)', 'io.prestosql.sql.analyzer.StatementAnalyzer$Visitor.visitQuerySpecification(StatementAnalyzer.java:329)', 'io.prestosql.sql.tree.QuerySpecification.accept(QuerySpecification.java:144)', 'io.prestosql.sql.tree.AstVisitor.process(AstVisitor.java:27)', 'io.prestosql.sql.analyzer.StatementAnalyzer$Visitor.process(StatementAnalyzer.java:346)', 'io.prestosql.sql.analyzer.StatementAnalyzer$Visitor.process(StatementAnalyzer.java:356)', 'io.prestosql.sql.analyzer.StatementAnalyzer$Visitor.visitQuery(StatementAnalyzer.java:1061)', 'io.prestosql.sql.analyzer.StatementAnalyzer$Visitor.visitQuery(StatementAnalyzer.java:329)', 'io.prestosql.sql.tree.Query.accept(Query.java:107)', 'io.prestosql.sql.tree.AstVisitor.process(AstVisitor.java:27)', 'io.prestosql.sql.analyzer.StatementAnalyzer$Visitor.process(StatementAnalyzer.java:346)', 'io.prestosql.sql.analyzer.StatementAnalyzer.analyze(StatementAnalyzer.java:315)', 'io.prestosql.sql.analyzer.Analyzer.analyze(Analyzer.java:91)', 'io.prestosql.sql.analyzer.Analyzer.analyze(Analyzer.java:83)', 'io.prestosql.execution.SqlQueryExecution.analyze(SqlQueryExecution.java:263)', 'io.prestosql.execution.SqlQueryExecution.<init>(SqlQueryExecution.java:186)', 'io.prestosql.execution.SqlQueryExecution$SqlQueryExecutionFactory.createQueryExecution(SqlQueryExecution.java:768)', 'io.prestosql.dispatcher.LocalDispatchQueryFactory.lambda$createDispatchQuery$0(LocalDispatchQueryFactory.java:129)', 'io.prestosql.$gen.Presto_350_1_g8229d0a____20220402_200017_2.call(Unknown Source)', 'com.google.common.util.concurrent.TrustedListenableFutureTask$TrustedFutureInterruptibleTask.runInterruptibly(TrustedListenableFutureTask.java:125)', 'com.google.common.util.concurrent.InterruptibleTask.run(InterruptibleTask.java:69)', 'com.google.common.util.concurrent.TrustedListenableFutureTask.run(TrustedListenableFutureTask.java:78)', 'java.base/java.util.concurrent.ThreadPoolExecutor.runWorker(ThreadPoolExecutor.java:1128)', 'java.base/java.util.concurrent.ThreadPoolExecutor$Worker.run(ThreadPoolExecutor.java:628)', 'java.base/java.lang.Thread.run(Thread.java:829)'], 'errorLocation': {'lineNumber': 1, 'columnNumber': 22}}}",
     "output_type": "error",
     "traceback": [
      "\u001b[0;31m---------------------------------------------------------------------------\u001b[0m",
      "\u001b[0;31mDatabaseError\u001b[0m                             Traceback (most recent call last)",
      "Input \u001b[0;32mIn [16]\u001b[0m, in \u001b[0;36m<cell line: 2>\u001b[0;34m()\u001b[0m\n\u001b[1;32m      1\u001b[0m q \u001b[38;5;241m=\u001b[39m \u001b[38;5;124mf\u001b[39m\u001b[38;5;124m\"\u001b[39m\u001b[38;5;124mSELECT COUNT(*) FROM \u001b[39m\u001b[38;5;132;01m{\u001b[39;00mdb\u001b[38;5;132;01m}\u001b[39;00m\u001b[38;5;124m.\u001b[39m\u001b[38;5;132;01m{\u001b[39;00mexport_table[\u001b[38;5;124m'\u001b[39m\u001b[38;5;124mname\u001b[39m\u001b[38;5;124m'\u001b[39m]\u001b[38;5;132;01m}\u001b[39;00m\u001b[38;5;124m\"\u001b[39m\n\u001b[0;32m----> 2\u001b[0m \u001b[43mexecute_async\u001b[49m\u001b[43m(\u001b[49m\u001b[43mq\u001b[49m\u001b[43m)\u001b[49m\n",
      "File \u001b[0;32m/opt/miniconda3/envs/pyhive/lib/python3.8/site-packages/decorator.py:232\u001b[0m, in \u001b[0;36mdecorate.<locals>.fun\u001b[0;34m(*args, **kw)\u001b[0m\n\u001b[1;32m    230\u001b[0m \u001b[38;5;28;01mif\u001b[39;00m \u001b[38;5;129;01mnot\u001b[39;00m kwsyntax:\n\u001b[1;32m    231\u001b[0m     args, kw \u001b[38;5;241m=\u001b[39m fix(args, kw, sig)\n\u001b[0;32m--> 232\u001b[0m \u001b[38;5;28;01mreturn\u001b[39;00m \u001b[43mcaller\u001b[49m\u001b[43m(\u001b[49m\u001b[43mfunc\u001b[49m\u001b[43m,\u001b[49m\u001b[43m \u001b[49m\u001b[38;5;241;43m*\u001b[39;49m\u001b[43m(\u001b[49m\u001b[43mextras\u001b[49m\u001b[43m \u001b[49m\u001b[38;5;241;43m+\u001b[39;49m\u001b[43m \u001b[49m\u001b[43margs\u001b[49m\u001b[43m)\u001b[49m\u001b[43m,\u001b[49m\u001b[43m \u001b[49m\u001b[38;5;241;43m*\u001b[39;49m\u001b[38;5;241;43m*\u001b[39;49m\u001b[43mkw\u001b[49m\u001b[43m)\u001b[49m\n",
      "File \u001b[0;32m/opt/miniconda3/envs/pyhive/lib/python3.8/site-packages/retry/api.py:73\u001b[0m, in \u001b[0;36mretry.<locals>.retry_decorator\u001b[0;34m(f, *fargs, **fkwargs)\u001b[0m\n\u001b[1;32m     71\u001b[0m args \u001b[38;5;241m=\u001b[39m fargs \u001b[38;5;28;01mif\u001b[39;00m fargs \u001b[38;5;28;01melse\u001b[39;00m \u001b[38;5;28mlist\u001b[39m()\n\u001b[1;32m     72\u001b[0m kwargs \u001b[38;5;241m=\u001b[39m fkwargs \u001b[38;5;28;01mif\u001b[39;00m fkwargs \u001b[38;5;28;01melse\u001b[39;00m \u001b[38;5;28mdict\u001b[39m()\n\u001b[0;32m---> 73\u001b[0m \u001b[38;5;28;01mreturn\u001b[39;00m \u001b[43m__retry_internal\u001b[49m\u001b[43m(\u001b[49m\u001b[43mpartial\u001b[49m\u001b[43m(\u001b[49m\u001b[43mf\u001b[49m\u001b[43m,\u001b[49m\u001b[43m \u001b[49m\u001b[38;5;241;43m*\u001b[39;49m\u001b[43margs\u001b[49m\u001b[43m,\u001b[49m\u001b[43m \u001b[49m\u001b[38;5;241;43m*\u001b[39;49m\u001b[38;5;241;43m*\u001b[39;49m\u001b[43mkwargs\u001b[49m\u001b[43m)\u001b[49m\u001b[43m,\u001b[49m\u001b[43m \u001b[49m\u001b[43mexceptions\u001b[49m\u001b[43m,\u001b[49m\u001b[43m \u001b[49m\u001b[43mtries\u001b[49m\u001b[43m,\u001b[49m\u001b[43m \u001b[49m\u001b[43mdelay\u001b[49m\u001b[43m,\u001b[49m\u001b[43m \u001b[49m\u001b[43mmax_delay\u001b[49m\u001b[43m,\u001b[49m\u001b[43m \u001b[49m\u001b[43mbackoff\u001b[49m\u001b[43m,\u001b[49m\u001b[43m \u001b[49m\u001b[43mjitter\u001b[49m\u001b[43m,\u001b[49m\n\u001b[1;32m     74\u001b[0m \u001b[43m                        \u001b[49m\u001b[43mlogger\u001b[49m\u001b[43m)\u001b[49m\n",
      "File \u001b[0;32m/opt/miniconda3/envs/pyhive/lib/python3.8/site-packages/retry/api.py:33\u001b[0m, in \u001b[0;36m__retry_internal\u001b[0;34m(f, exceptions, tries, delay, max_delay, backoff, jitter, logger)\u001b[0m\n\u001b[1;32m     31\u001b[0m \u001b[38;5;28;01mwhile\u001b[39;00m _tries:\n\u001b[1;32m     32\u001b[0m     \u001b[38;5;28;01mtry\u001b[39;00m:\n\u001b[0;32m---> 33\u001b[0m         \u001b[38;5;28;01mreturn\u001b[39;00m \u001b[43mf\u001b[49m\u001b[43m(\u001b[49m\u001b[43m)\u001b[49m\n\u001b[1;32m     34\u001b[0m     \u001b[38;5;28;01mexcept\u001b[39;00m exceptions \u001b[38;5;28;01mas\u001b[39;00m e:\n\u001b[1;32m     35\u001b[0m         _tries \u001b[38;5;241m-\u001b[39m\u001b[38;5;241m=\u001b[39m \u001b[38;5;241m1\u001b[39m\n",
      "File \u001b[0;32m~/pyhive_utilities/tahoe.py:108\u001b[0m, in \u001b[0;36mexecute_async\u001b[0;34m(query, engine, queue)\u001b[0m\n\u001b[1;32m    106\u001b[0m         status \u001b[38;5;241m=\u001b[39m cursor\u001b[38;5;241m.\u001b[39mpoll()\u001b[38;5;241m.\u001b[39moperationState\n\u001b[1;32m    107\u001b[0m \u001b[38;5;28;01mtry\u001b[39;00m:\n\u001b[0;32m--> 108\u001b[0m     records \u001b[38;5;241m=\u001b[39m \u001b[43mcursor\u001b[49m\u001b[38;5;241;43m.\u001b[39;49m\u001b[43mfetchall\u001b[49m\u001b[43m(\u001b[49m\u001b[43m)\u001b[49m\n\u001b[1;32m    109\u001b[0m     \u001b[38;5;28;01mreturn\u001b[39;00m records\n\u001b[1;32m    110\u001b[0m \u001b[38;5;28;01mexcept\u001b[39;00m ProgrammingError:\n",
      "File \u001b[0;32m/opt/miniconda3/envs/pyhive/lib/python3.8/site-packages/pyhive/common.py:137\u001b[0m, in \u001b[0;36mDBAPICursor.fetchall\u001b[0;34m(self)\u001b[0m\n\u001b[1;32m    130\u001b[0m \u001b[38;5;28;01mdef\u001b[39;00m \u001b[38;5;21mfetchall\u001b[39m(\u001b[38;5;28mself\u001b[39m):\n\u001b[1;32m    131\u001b[0m     \u001b[38;5;124;03m\"\"\"Fetch all (remaining) rows of a query result, returning them as a sequence of sequences\u001b[39;00m\n\u001b[1;32m    132\u001b[0m \u001b[38;5;124;03m    (e.g. a list of tuples).\u001b[39;00m\n\u001b[1;32m    133\u001b[0m \n\u001b[1;32m    134\u001b[0m \u001b[38;5;124;03m    An :py:class:`~pyhive.exc.Error` (or subclass) exception is raised if the previous call to\u001b[39;00m\n\u001b[1;32m    135\u001b[0m \u001b[38;5;124;03m    :py:meth:`execute` did not produce any result set or no call was issued yet.\u001b[39;00m\n\u001b[1;32m    136\u001b[0m \u001b[38;5;124;03m    \"\"\"\u001b[39;00m\n\u001b[0;32m--> 137\u001b[0m     \u001b[38;5;28;01mreturn\u001b[39;00m \u001b[38;5;28;43mlist\u001b[39;49m\u001b[43m(\u001b[49m\u001b[38;5;28;43miter\u001b[39;49m\u001b[43m(\u001b[49m\u001b[38;5;28;43mself\u001b[39;49m\u001b[38;5;241;43m.\u001b[39;49m\u001b[43mfetchone\u001b[49m\u001b[43m,\u001b[49m\u001b[43m \u001b[49m\u001b[38;5;28;43;01mNone\u001b[39;49;00m\u001b[43m)\u001b[49m\u001b[43m)\u001b[49m\n",
      "File \u001b[0;32m/opt/miniconda3/envs/pyhive/lib/python3.8/site-packages/pyhive/common.py:106\u001b[0m, in \u001b[0;36mDBAPICursor.fetchone\u001b[0;34m(self)\u001b[0m\n\u001b[1;32m    103\u001b[0m     \u001b[38;5;28;01mraise\u001b[39;00m exc\u001b[38;5;241m.\u001b[39mProgrammingError(\u001b[38;5;124m\"\u001b[39m\u001b[38;5;124mNo query yet\u001b[39m\u001b[38;5;124m\"\u001b[39m)\n\u001b[1;32m    105\u001b[0m \u001b[38;5;66;03m# Sleep until we're done or we have some data to return\u001b[39;00m\n\u001b[0;32m--> 106\u001b[0m \u001b[38;5;28;43mself\u001b[39;49m\u001b[38;5;241;43m.\u001b[39;49m\u001b[43m_fetch_while\u001b[49m\u001b[43m(\u001b[49m\u001b[38;5;28;43;01mlambda\u001b[39;49;00m\u001b[43m:\u001b[49m\u001b[43m \u001b[49m\u001b[38;5;129;43;01mnot\u001b[39;49;00m\u001b[43m \u001b[49m\u001b[38;5;28;43mself\u001b[39;49m\u001b[38;5;241;43m.\u001b[39;49m\u001b[43m_data\u001b[49m\u001b[43m \u001b[49m\u001b[38;5;129;43;01mand\u001b[39;49;00m\u001b[43m \u001b[49m\u001b[38;5;28;43mself\u001b[39;49m\u001b[38;5;241;43m.\u001b[39;49m\u001b[43m_state\u001b[49m\u001b[43m \u001b[49m\u001b[38;5;241;43m!=\u001b[39;49m\u001b[43m \u001b[49m\u001b[38;5;28;43mself\u001b[39;49m\u001b[38;5;241;43m.\u001b[39;49m\u001b[43m_STATE_FINISHED\u001b[49m\u001b[43m)\u001b[49m\n\u001b[1;32m    108\u001b[0m \u001b[38;5;28;01mif\u001b[39;00m \u001b[38;5;129;01mnot\u001b[39;00m \u001b[38;5;28mself\u001b[39m\u001b[38;5;241m.\u001b[39m_data:\n\u001b[1;32m    109\u001b[0m     \u001b[38;5;28;01mreturn\u001b[39;00m \u001b[38;5;28;01mNone\u001b[39;00m\n",
      "File \u001b[0;32m/opt/miniconda3/envs/pyhive/lib/python3.8/site-packages/pyhive/common.py:46\u001b[0m, in \u001b[0;36mDBAPICursor._fetch_while\u001b[0;34m(self, fn)\u001b[0m\n\u001b[1;32m     44\u001b[0m \u001b[38;5;28;01mdef\u001b[39;00m \u001b[38;5;21m_fetch_while\u001b[39m(\u001b[38;5;28mself\u001b[39m, fn):\n\u001b[1;32m     45\u001b[0m     \u001b[38;5;28;01mwhile\u001b[39;00m fn():\n\u001b[0;32m---> 46\u001b[0m         \u001b[38;5;28;43mself\u001b[39;49m\u001b[38;5;241;43m.\u001b[39;49m\u001b[43m_fetch_more\u001b[49m\u001b[43m(\u001b[49m\u001b[43m)\u001b[49m\n\u001b[1;32m     47\u001b[0m         \u001b[38;5;28;01mif\u001b[39;00m fn():\n\u001b[1;32m     48\u001b[0m             time\u001b[38;5;241m.\u001b[39msleep(\u001b[38;5;28mself\u001b[39m\u001b[38;5;241m.\u001b[39m_poll_interval)\n",
      "File \u001b[0;32m/opt/miniconda3/envs/pyhive/lib/python3.8/site-packages/pyhive/presto.py:308\u001b[0m, in \u001b[0;36mCursor._fetch_more\u001b[0;34m(self)\u001b[0m\n\u001b[1;32m    306\u001b[0m \u001b[38;5;28;01mdef\u001b[39;00m \u001b[38;5;21m_fetch_more\u001b[39m(\u001b[38;5;28mself\u001b[39m):\n\u001b[1;32m    307\u001b[0m     \u001b[38;5;124;03m\"\"\"Fetch the next URI and update state\"\"\"\u001b[39;00m\n\u001b[0;32m--> 308\u001b[0m     \u001b[38;5;28;43mself\u001b[39;49m\u001b[38;5;241;43m.\u001b[39;49m\u001b[43m_process_response\u001b[49m\u001b[43m(\u001b[49m\u001b[38;5;28;43mself\u001b[39;49m\u001b[38;5;241;43m.\u001b[39;49m\u001b[43m_requests_session\u001b[49m\u001b[38;5;241;43m.\u001b[39;49m\u001b[43mget\u001b[49m\u001b[43m(\u001b[49m\u001b[38;5;28;43mself\u001b[39;49m\u001b[38;5;241;43m.\u001b[39;49m\u001b[43m_nextUri\u001b[49m\u001b[43m,\u001b[49m\u001b[43m \u001b[49m\u001b[38;5;241;43m*\u001b[39;49m\u001b[38;5;241;43m*\u001b[39;49m\u001b[38;5;28;43mself\u001b[39;49m\u001b[38;5;241;43m.\u001b[39;49m\u001b[43m_requests_kwargs\u001b[49m\u001b[43m)\u001b[49m\u001b[43m)\u001b[49m\n",
      "File \u001b[0;32m/opt/miniconda3/envs/pyhive/lib/python3.8/site-packages/pyhive/presto.py:349\u001b[0m, in \u001b[0;36mCursor._process_response\u001b[0;34m(self, response)\u001b[0m\n\u001b[1;32m    347\u001b[0m     \u001b[38;5;28mself\u001b[39m\u001b[38;5;241m.\u001b[39m_state \u001b[38;5;241m=\u001b[39m \u001b[38;5;28mself\u001b[39m\u001b[38;5;241m.\u001b[39m_STATE_FINISHED\n\u001b[1;32m    348\u001b[0m \u001b[38;5;28;01mif\u001b[39;00m \u001b[38;5;124m'\u001b[39m\u001b[38;5;124merror\u001b[39m\u001b[38;5;124m'\u001b[39m \u001b[38;5;129;01min\u001b[39;00m response_json:\n\u001b[0;32m--> 349\u001b[0m     \u001b[38;5;28;01mraise\u001b[39;00m DatabaseError(response_json[\u001b[38;5;124m'\u001b[39m\u001b[38;5;124merror\u001b[39m\u001b[38;5;124m'\u001b[39m])\n",
      "\u001b[0;31mDatabaseError\u001b[0m: {'message': \"line 1:22: Table 'hive.sweeper_dev.listing_export_test_123' does not exist\", 'errorCode': 46, 'errorName': 'TABLE_NOT_FOUND', 'errorType': 'USER_ERROR', 'errorLocation': {'lineNumber': 1, 'columnNumber': 22}, 'failureInfo': {'type': 'io.prestosql.spi.PrestoException', 'message': \"line 1:22: Table 'hive.sweeper_dev.listing_export_test_123' does not exist\", 'suppressed': [], 'stack': ['io.prestosql.sql.analyzer.SemanticExceptions.semanticException(SemanticExceptions.java:48)', 'io.prestosql.sql.analyzer.SemanticExceptions.semanticException(SemanticExceptions.java:43)', 'io.prestosql.sql.analyzer.StatementAnalyzer$Visitor.visitTable(StatementAnalyzer.java:1229)', 'io.prestosql.sql.analyzer.StatementAnalyzer$Visitor.visitTable(StatementAnalyzer.java:329)', 'io.prestosql.sql.tree.Table.accept(Table.java:53)', 'io.prestosql.sql.tree.AstVisitor.process(AstVisitor.java:27)', 'io.prestosql.sql.analyzer.StatementAnalyzer$Visitor.process(StatementAnalyzer.java:346)', 'io.prestosql.sql.analyzer.StatementAnalyzer$Visitor.analyzeFrom(StatementAnalyzer.java:2529)', 'io.prestosql.sql.analyzer.StatementAnalyzer$Visitor.visitQuerySpecification(StatementAnalyzer.java:1553)', 'io.prestosql.sql.analyzer.StatementAnalyzer$Visitor.visitQuerySpecification(StatementAnalyzer.java:329)', 'io.prestosql.sql.tree.QuerySpecification.accept(QuerySpecification.java:144)', 'io.prestosql.sql.tree.AstVisitor.process(AstVisitor.java:27)', 'io.prestosql.sql.analyzer.StatementAnalyzer$Visitor.process(StatementAnalyzer.java:346)', 'io.prestosql.sql.analyzer.StatementAnalyzer$Visitor.process(StatementAnalyzer.java:356)', 'io.prestosql.sql.analyzer.StatementAnalyzer$Visitor.visitQuery(StatementAnalyzer.java:1061)', 'io.prestosql.sql.analyzer.StatementAnalyzer$Visitor.visitQuery(StatementAnalyzer.java:329)', 'io.prestosql.sql.tree.Query.accept(Query.java:107)', 'io.prestosql.sql.tree.AstVisitor.process(AstVisitor.java:27)', 'io.prestosql.sql.analyzer.StatementAnalyzer$Visitor.process(StatementAnalyzer.java:346)', 'io.prestosql.sql.analyzer.StatementAnalyzer.analyze(StatementAnalyzer.java:315)', 'io.prestosql.sql.analyzer.Analyzer.analyze(Analyzer.java:91)', 'io.prestosql.sql.analyzer.Analyzer.analyze(Analyzer.java:83)', 'io.prestosql.execution.SqlQueryExecution.analyze(SqlQueryExecution.java:263)', 'io.prestosql.execution.SqlQueryExecution.<init>(SqlQueryExecution.java:186)', 'io.prestosql.execution.SqlQueryExecution$SqlQueryExecutionFactory.createQueryExecution(SqlQueryExecution.java:768)', 'io.prestosql.dispatcher.LocalDispatchQueryFactory.lambda$createDispatchQuery$0(LocalDispatchQueryFactory.java:129)', 'io.prestosql.$gen.Presto_350_1_g8229d0a____20220402_200017_2.call(Unknown Source)', 'com.google.common.util.concurrent.TrustedListenableFutureTask$TrustedFutureInterruptibleTask.runInterruptibly(TrustedListenableFutureTask.java:125)', 'com.google.common.util.concurrent.InterruptibleTask.run(InterruptibleTask.java:69)', 'com.google.common.util.concurrent.TrustedListenableFutureTask.run(TrustedListenableFutureTask.java:78)', 'java.base/java.util.concurrent.ThreadPoolExecutor.runWorker(ThreadPoolExecutor.java:1128)', 'java.base/java.util.concurrent.ThreadPoolExecutor$Worker.run(ThreadPoolExecutor.java:628)', 'java.base/java.lang.Thread.run(Thread.java:829)'], 'errorLocation': {'lineNumber': 1, 'columnNumber': 22}}}"
     ]
    }
   ],
   "source": [
    "q = f\"SELECT COUNT(*) FROM {db}.{export_table['name']}\"\n",
    "execute_async(q)"
   ]
  },
  {
   "cell_type": "code",
   "execution_count": 17,
   "id": "da7dde31-d432-4475-9680-93220e898ebc",
   "metadata": {},
   "outputs": [
    {
     "data": {
      "text/plain": [
       "[]"
      ]
     },
     "execution_count": 17,
     "metadata": {},
     "output_type": "execute_result"
    }
   ],
   "source": [
    "get_s3_file_keys(s3_bucket=result_bucket, s3_prefix=\"sweeper_dev/listing_export_test_123\")"
   ]
  },
  {
   "cell_type": "code",
   "execution_count": null,
   "id": "97587d80-7aae-4660-9f7b-76e556866b1c",
   "metadata": {},
   "outputs": [],
   "source": []
  }
 ],
 "metadata": {
  "kernelspec": {
   "display_name": "Python 3.8.13 64-bit",
   "language": "python",
   "name": "python3"
  },
  "language_info": {
   "codemirror_mode": {
    "name": "ipython",
    "version": 3
   },
   "file_extension": ".py",
   "mimetype": "text/x-python",
   "name": "python",
   "nbconvert_exporter": "python",
   "pygments_lexer": "ipython3",
   "version": "3.8.13"
  },
  "vscode": {
   "interpreter": {
    "hash": "949777d72b0d2535278d3dc13498b2535136f6dfe0678499012e853ee9abcab1"
   }
  }
 },
 "nbformat": 4,
 "nbformat_minor": 5
}
