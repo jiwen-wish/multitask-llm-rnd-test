{
 "cells": [
  {
   "cell_type": "markdown",
   "id": "e2f8e437-052c-4f40-97c5-7950f7e2aaba",
   "metadata": {},
   "source": [
    "#### In this example, we upload some sample data to Tahoe. The steps are as follows:\n",
    "1. Create an external table for the data import.\n",
    "2. Upload a parquet file to the S3 location for the external table.\n",
    "3. Copy the data from the external table to the permanent table.\n",
    "\n",
    "This is the common practice because Hive and Presto do not support bulk insert through SQL. "
   ]
  },
  {
   "cell_type": "code",
   "execution_count": 2,
   "id": "aac71fd8-c3ba-4b2a-883d-1a3b74fbd294",
   "metadata": {},
   "outputs": [],
   "source": [
    "from tahoe import create_table, create_external_table, drop_external_table, execute_async\n",
    "from s3 import temp_bucket, get_s3_file_keys, upload_df_to_parquet\n",
    "import pandas as pd\n",
    "import logging\n",
    "logging.basicConfig(\n",
    "    format='%(asctime)s %(levelname)s: %(message)s',\n",
    "    level=logging.INFO\n",
    ")"
   ]
  },
  {
   "cell_type": "code",
   "execution_count": 3,
   "id": "9f111e43-483a-4d1b-bd31-780c0ef557a7",
   "metadata": {},
   "outputs": [
    {
     "name": "stdout",
     "output_type": "stream",
     "text": [
      "(1000, 3)\n"
     ]
    },
    {
     "data": {
      "text/html": [
       "<div>\n",
       "<style scoped>\n",
       "    .dataframe tbody tr th:only-of-type {\n",
       "        vertical-align: middle;\n",
       "    }\n",
       "\n",
       "    .dataframe tbody tr th {\n",
       "        vertical-align: top;\n",
       "    }\n",
       "\n",
       "    .dataframe thead th {\n",
       "        text-align: right;\n",
       "    }\n",
       "</style>\n",
       "<table border=\"1\" class=\"dataframe\">\n",
       "  <thead>\n",
       "    <tr style=\"text-align: right;\">\n",
       "      <th></th>\n",
       "      <th>listing_id</th>\n",
       "      <th>name</th>\n",
       "      <th>dt</th>\n",
       "    </tr>\n",
       "  </thead>\n",
       "  <tbody>\n",
       "    <tr>\n",
       "      <th>0</th>\n",
       "      <td>62453dd22bab6cf58c61673f</td>\n",
       "      <td>Animal Pattern Temporary Tattoo Sticker Men Wa...</td>\n",
       "      <td>2022-03-31</td>\n",
       "    </tr>\n",
       "    <tr>\n",
       "      <th>1</th>\n",
       "      <td>62453fce324cee04c8b55caa</td>\n",
       "      <td>Gaiters Women's Stylish Leg Armor Covers Acces...</td>\n",
       "      <td>2022-03-31</td>\n",
       "    </tr>\n",
       "    <tr>\n",
       "      <th>2</th>\n",
       "      <td>6245402b70350f2946d94eee</td>\n",
       "      <td>Fashion Korea Silver Plated Demon Eye Finger R...</td>\n",
       "      <td>2022-03-31</td>\n",
       "    </tr>\n",
       "    <tr>\n",
       "      <th>3</th>\n",
       "      <td>62454101594260e9d77169ff</td>\n",
       "      <td>Men's / Women's Print 3D Shorts Sports Casual ...</td>\n",
       "      <td>2022-03-31</td>\n",
       "    </tr>\n",
       "    <tr>\n",
       "      <th>4</th>\n",
       "      <td>62454192881d18861dcd9b6a</td>\n",
       "      <td>All the Presidents' Gardens: Madison S Cabbage...</td>\n",
       "      <td>2022-03-31</td>\n",
       "    </tr>\n",
       "  </tbody>\n",
       "</table>\n",
       "</div>"
      ],
      "text/plain": [
       "                 listing_id  \\\n",
       "0  62453dd22bab6cf58c61673f   \n",
       "1  62453fce324cee04c8b55caa   \n",
       "2  6245402b70350f2946d94eee   \n",
       "3  62454101594260e9d77169ff   \n",
       "4  62454192881d18861dcd9b6a   \n",
       "\n",
       "                                                name          dt  \n",
       "0  Animal Pattern Temporary Tattoo Sticker Men Wa...  2022-03-31  \n",
       "1  Gaiters Women's Stylish Leg Armor Covers Acces...  2022-03-31  \n",
       "2  Fashion Korea Silver Plated Demon Eye Finger R...  2022-03-31  \n",
       "3  Men's / Women's Print 3D Shorts Sports Casual ...  2022-03-31  \n",
       "4  All the Presidents' Gardens: Madison S Cabbage...  2022-03-31  "
      ]
     },
     "execution_count": 3,
     "metadata": {},
     "output_type": "execute_result"
    }
   ],
   "source": [
    "df_data = pd.read_parquet(\"sample_data.parquet\")\n",
    "print(df_data.shape)\n",
    "df_data.head()"
   ]
  },
  {
   "cell_type": "code",
   "execution_count": 4,
   "id": "35b2c07e-4b91-4ad5-847b-2d03644624fa",
   "metadata": {},
   "outputs": [
    {
     "data": {
      "text/plain": [
       "2022-03-31    756\n",
       "2022-04-01    244\n",
       "Name: dt, dtype: int64"
      ]
     },
     "execution_count": 4,
     "metadata": {},
     "output_type": "execute_result"
    }
   ],
   "source": [
    "df_data[\"dt\"].value_counts()"
   ]
  },
  {
   "cell_type": "code",
   "execution_count": 5,
   "id": "abb01f1d-32e9-422c-ab79-ae25da6d9be0",
   "metadata": {},
   "outputs": [],
   "source": [
    "# Create the permanent table\n",
    "test_table = {\n",
    "    \"name\": \"listing_import_test_123\",\n",
    "    \"columns\": [\n",
    "        {\"name\": \"listing_id\", \"type\": \"STRING\"},\n",
    "        {\"name\": \"name\", \"type\": \"STRING\"},\n",
    "    ],\n",
    "    \"partitions\": [\n",
    "        {\"name\": \"dt\", \"type\": \"STRING\"}\n",
    "    ]\n",
    "}\n",
    "db = \"sweeper_dev\"\n",
    "\n"
   ]
  },
  {
   "cell_type": "code",
   "execution_count": 6,
   "id": "739ffbed-ddde-46b9-82ad-d634a55e94f0",
   "metadata": {},
   "outputs": [
    {
     "name": "stderr",
     "output_type": "stream",
     "text": [
      "2022-04-05 22:22:44,917 INFO: USE `default`\n",
      "2022-04-05 22:22:45,266 INFO: DROP TABLE sweeper_dev.listing_import_test_123\n",
      "2022-04-05 22:22:45,507 INFO: The query returned no records.\n"
     ]
    }
   ],
   "source": [
    "q = f\"DROP TABLE {db}.{test_table['name']}\"\n",
    "execute_async(q, engine=\"hive\")"
   ]
  },
  {
   "cell_type": "code",
   "execution_count": 7,
   "id": "eb27c2a7-261d-4cd2-b856-e707af4cd0b3",
   "metadata": {},
   "outputs": [
    {
     "name": "stderr",
     "output_type": "stream",
     "text": [
      "2022-04-05 22:22:47,759 INFO: USE `default`\n",
      "2022-04-05 22:22:48,125 INFO: \n",
      "    CREATE TABLE sweeper_dev.listing_import_test_123 (\n",
      "    listing_id STRING,\n",
      "\tname STRING\n",
      "    )\n",
      "    PARTITIONED BY (dt STRING)\n",
      "LOCATION 's3://wish-tahoe-derived-us-west-2/sweeper_dev/listing_import_test_123'\n",
      "2022-04-05 22:22:48,595 INFO: The query returned no records.\n"
     ]
    }
   ],
   "source": [
    "create_table(table_definition=test_table, db=db)"
   ]
  },
  {
   "cell_type": "code",
   "execution_count": 8,
   "id": "6267bdaf-c12b-40ae-8574-9678598dd773",
   "metadata": {},
   "outputs": [
    {
     "name": "stderr",
     "output_type": "stream",
     "text": [
      "2022-04-05 22:22:52,303 INFO: USE `default`\n",
      "2022-04-05 22:22:52,648 INFO: \n",
      "    CREATE TABLE sweeper_dev.listing_import_test_123_temp (\n",
      "    listing_id STRING,\n",
      "\tname STRING,\n",
      "\tdt STRING\n",
      "    )\n",
      "    \n",
      "STORED AS PARQUET\n",
      "LOCATION 's3://wish-tahoe-import-us-west-2/sweeper_dev/listing_import_test_123_temp'\n",
      "TBLPROPERTIES ('parquet.compression'='SNAPPY')\n",
      "2022-04-05 22:22:52,949 INFO: The query returned no records.\n"
     ]
    }
   ],
   "source": [
    "# Create the temp import table\n",
    "# We do not partition the external table to avoid the additional effort for adding data to specific partitions and register the partitions\n",
    "temp_test_table = {\n",
    "    \"name\": \"listing_import_test_123_temp\",\n",
    "    \"columns\": [\n",
    "        {\"name\": \"listing_id\", \"type\": \"STRING\"},\n",
    "        {\"name\": \"name\", \"type\": \"STRING\"},\n",
    "        {\"name\": \"dt\", \"type\": \"STRING\"}\n",
    "    ]\n",
    "}\n",
    "db = \"sweeper_dev\"\n",
    "\n",
    "create_external_table(\n",
    "    table_name=temp_test_table[\"name\"],\n",
    "    table_definition=temp_test_table,\n",
    "    db=db,\n",
    "    bucket=temp_bucket\n",
    ")"
   ]
  },
  {
   "cell_type": "code",
   "execution_count": 9,
   "id": "2f8f7395-8bcf-44a6-bbe6-20fafe9f28f2",
   "metadata": {},
   "outputs": [
    {
     "name": "stderr",
     "output_type": "stream",
     "text": [
      "2022-04-05 22:22:58,477 INFO: Uploading DF (1000, 3) records to sweeper_dev/listing_import_test_123_temp/data.parquet.\n",
      "2022-04-05 22:22:59,828 INFO: Uploaded DF (1000, 3) to sweeper_dev/listing_import_test_123_temp/data.parquet.\n"
     ]
    }
   ],
   "source": [
    "upload_df_to_parquet(df_data, s3_bucket=temp_bucket, s3_key=\"sweeper_dev/listing_import_test_123_temp/data.parquet\")"
   ]
  },
  {
   "cell_type": "code",
   "execution_count": 10,
   "id": "cea9b6bb-0062-4606-a9c7-3bf065d96e6a",
   "metadata": {},
   "outputs": [
    {
     "name": "stderr",
     "output_type": "stream",
     "text": [
      "2022-04-05 22:23:03,122 INFO: SELECT COUNT(*) FROM sweeper_dev.listing_import_test_123_temp\n"
     ]
    },
    {
     "data": {
      "text/plain": [
       "[(1000,)]"
      ]
     },
     "execution_count": 10,
     "metadata": {},
     "output_type": "execute_result"
    }
   ],
   "source": [
    "q = f\"SELECT COUNT(*) FROM {db}.{temp_test_table['name']}\"\n",
    "execute_async(q)"
   ]
  },
  {
   "cell_type": "code",
   "execution_count": 11,
   "id": "c037afa4-f9e1-4303-97a7-82237301bc35",
   "metadata": {},
   "outputs": [
    {
     "name": "stderr",
     "output_type": "stream",
     "text": [
      "2022-04-05 22:23:22,596 INFO: \n",
      "INSERT INTO sweeper_dev.listing_import_test_123\n",
      "SELECT listing_id, name, dt\n",
      "FROM sweeper_dev.listing_import_test_123_temp\n",
      "\n"
     ]
    },
    {
     "data": {
      "text/plain": [
       "[(1000,)]"
      ]
     },
     "execution_count": 11,
     "metadata": {},
     "output_type": "execute_result"
    }
   ],
   "source": [
    "# Copy data from the temp table to the permanent table\n",
    "# The partition field must be the last in the SELECT statement\n",
    "q = f\"\"\"\n",
    "INSERT INTO {db}.{test_table['name']}\n",
    "SELECT listing_id, name, dt\n",
    "FROM {db}.{temp_test_table['name']}\n",
    "\"\"\"\n",
    "execute_async(q)"
   ]
  },
  {
   "cell_type": "code",
   "execution_count": 12,
   "id": "74e71ca9-24ba-4dea-a36b-ff89b9a15522",
   "metadata": {},
   "outputs": [
    {
     "name": "stderr",
     "output_type": "stream",
     "text": [
      "2022-04-05 22:23:37,516 INFO: SELECT COUNT(*) FROM sweeper_dev.listing_import_test_123\n"
     ]
    },
    {
     "data": {
      "text/plain": [
       "[(1001,)]"
      ]
     },
     "execution_count": 12,
     "metadata": {},
     "output_type": "execute_result"
    }
   ],
   "source": [
    "q = f\"SELECT COUNT(*) FROM {db}.{test_table['name']}\"\n",
    "execute_async(q)"
   ]
  },
  {
   "cell_type": "code",
   "execution_count": 14,
   "id": "bca8e99c-4734-4591-b130-ba30f956d6e1",
   "metadata": {},
   "outputs": [
    {
     "name": "stderr",
     "output_type": "stream",
     "text": [
      "2022-04-05 22:24:13,814 INFO: SELECT * FROM sweeper_dev.listing_import_test_123 LIMIT 10\n"
     ]
    },
    {
     "data": {
      "text/plain": [
       "[('62453dd22bab6cf58c61673f',\n",
       "  'Animal Pattern Temporary Tattoo Sticker Men Waterproof Tattoo Sticker Accessory(HB-529 ) cvv',\n",
       "  '2022-03-31'),\n",
       " ('62454101594260e9d77169ff',\n",
       "  \"Men's / Women's Print 3D Shorts Sports Casual Fashion\",\n",
       "  '2022-03-31'),\n",
       " ('62454192881d18861dcd9b6a',\n",
       "  \"All the Presidents' Gardens: Madison S Cabbages to Kennedy S Roses How the White House Grounds Have Grown with America (Hardcover)\",\n",
       "  '2022-03-31'),\n",
       " ('624541fd14cf5a580ba12140',\n",
       "  '8PCS 25 * 25cm Candy Color Cotton Twill Fabric Hand DIY Splicing Cloth Pre Cut Squares Home Decoration Art 9.8 \"* 9.8\"',\n",
       "  '2022-03-31'),\n",
       " ('6245439607d97dd8564ce612',\n",
       "  '10 PCS Kabob Grilling Basket Reusable Durable -Corrosion Wooden Handle Barbecue Tool Grill Basket Grill Net',\n",
       "  '2022-03-31'),\n",
       " ('624543b7d001ce4a7418aa5b',\n",
       "  '3M Flexible EL Neon 10 Wire Light Colors Dance Party Decor Light',\n",
       "  '2022-03-31'),\n",
       " ('6245449c67d08845b87e4077',\n",
       "  '【With 1 x 5.0Ah Battery】Kamolee DUB185 Cordless Blower 20000rpm 3000W New Cordless Hair Dryer Vacuum Cleaner 2 In 1 Switch Blowing Mode&Vacuum Cleaner Mode',\n",
       "  '2022-03-31'),\n",
       " ('62454605a0fc09230d4e1a69',\n",
       "  \"Chinese Zodiac Signs Mesh Cap New Fashion Net Cap Adult Baseball Hat Women's Men's Outdoor Cap Cool Sun Hat High Quality\",\n",
       "  '2022-03-31'),\n",
       " ('624546b1337ed43bc2235d21',\n",
       "  'Full Arm Temporary Tattoo Sticker Waterproof Simulation Tattoo Sticker for Men Women(TQB-013 ) Yanh',\n",
       "  '2022-03-31'),\n",
       " ('6245471d9f23654b0044cc99',\n",
       "  \"Short sleeve t-shirt men Five-pointed Star Slim Casual Cool Clothes New Men's Short-sleeved Round Neck T-shirt Fashion Top Summer\",\n",
       "  '2022-03-31')]"
      ]
     },
     "execution_count": 14,
     "metadata": {},
     "output_type": "execute_result"
    }
   ],
   "source": [
    "q = f\"SELECT * FROM {db}.{test_table['name']} LIMIT 10\"\n",
    "execute_async(q)"
   ]
  },
  {
   "cell_type": "code",
   "execution_count": 16,
   "id": "36371bbc-5e76-49c4-9c0a-e45dccb702c1",
   "metadata": {},
   "outputs": [
    {
     "name": "stderr",
     "output_type": "stream",
     "text": [
      "2022-04-05 22:24:48,561 INFO: USE `default`\n",
      "2022-04-05 22:24:48,895 INFO: \n",
      "    DROP TABLE IF EXISTS sweeper_dev.listing_import_test_123_temp\n",
      "    \n",
      "2022-04-05 22:24:49,415 INFO: The query returned no records.\n",
      "2022-04-05 22:24:49,416 INFO: Dropped sweeper_dev.listing_import_test_123_temp\n",
      "2022-04-05 22:24:50,355 INFO: Files in 's3://wish-tahoe-import-us-west-2/sweeper_dev/listing_import_test_123_temp are deleted.\n"
     ]
    }
   ],
   "source": [
    "# Optional: drop the external table\n",
    "drop_external_table(\n",
    "    db=db,\n",
    "    table_name=temp_test_table[\"name\"],\n",
    "    delete_files=True,\n",
    "    s3_bucket=temp_bucket,\n",
    "    s3_prefix=f'{db}/{temp_test_table[\"name\"]}', \n",
    ")"
   ]
  },
  {
   "cell_type": "code",
   "execution_count": null,
   "id": "70ecbf14-bc5d-4fe9-9d58-563bc8536592",
   "metadata": {},
   "outputs": [],
   "source": []
  }
 ],
 "metadata": {
  "kernelspec": {
   "display_name": "Python 3 (ipykernel)",
   "language": "python",
   "name": "python3"
  },
  "language_info": {
   "codemirror_mode": {
    "name": "ipython",
    "version": 3
   },
   "file_extension": ".py",
   "mimetype": "text/x-python",
   "name": "python",
   "nbconvert_exporter": "python",
   "pygments_lexer": "ipython3",
   "version": "3.8.13"
  }
 },
 "nbformat": 4,
 "nbformat_minor": 5
}
