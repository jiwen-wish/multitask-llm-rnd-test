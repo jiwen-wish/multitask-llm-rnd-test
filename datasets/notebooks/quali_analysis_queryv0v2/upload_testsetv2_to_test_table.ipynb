{
 "cells": [
  {
   "cell_type": "code",
   "execution_count": 1,
   "metadata": {},
   "outputs": [],
   "source": [
    "import pandas as pd \n",
    "import dvc.api \n",
    "from tqdm import tqdm"
   ]
  },
  {
   "cell_type": "code",
   "execution_count": 2,
   "metadata": {},
   "outputs": [],
   "source": [
    "df_test = pd.read_json(dvc.api.get_url( \n",
    "    'datasets/data/query_label/processed/Offshore_Labelled_Query_Classification_Test_V2.json',\n",
    "    repo='git@github.com:ContextLogic/multitask-llm-rnd.git'\n",
    "), lines=True)"
   ]
  },
  {
   "cell_type": "code",
   "execution_count": 3,
   "metadata": {},
   "outputs": [],
   "source": [
    "df_tax = pd.read_json(dvc.api.get_url( \n",
    "    'datasets/data/taxonomy/wish_newtax.json',\n",
    "    repo='git@github.com:ContextLogic/multitask-llm-rnd.git'\n",
    "), lines=True)"
   ]
  },
  {
   "cell_type": "code",
   "execution_count": 7,
   "metadata": {},
   "outputs": [],
   "source": [
    "tax2id = {}\n",
    "id2name = {}\n",
    "tax2name = {}\n",
    "for i in df_tax.to_dict('records'):\n",
    "    if len(i['category_path']) > 0:\n",
    "        tax2id[i['category_path'].lower()] = str(i['id'])\n",
    "        tax2name[i['category_path'].lower()] = i['category_path'].split(' > ')[-1]\n",
    "        id2name[str(i['id'])] = i['category_path'].split(' > ')[-1]"
   ]
  },
  {
   "cell_type": "code",
   "execution_count": 6,
   "metadata": {},
   "outputs": [
    {
     "data": {
      "text/html": [
       "<div>\n",
       "<style scoped>\n",
       "    .dataframe tbody tr th:only-of-type {\n",
       "        vertical-align: middle;\n",
       "    }\n",
       "\n",
       "    .dataframe tbody tr th {\n",
       "        vertical-align: top;\n",
       "    }\n",
       "\n",
       "    .dataframe thead th {\n",
       "        text-align: right;\n",
       "    }\n",
       "</style>\n",
       "<table border=\"1\" class=\"dataframe\">\n",
       "  <thead>\n",
       "    <tr style=\"text-align: right;\">\n",
       "      <th></th>\n",
       "      <th>index</th>\n",
       "      <th>filename</th>\n",
       "      <th>label_ordering</th>\n",
       "      <th>query</th>\n",
       "      <th>sample_method</th>\n",
       "      <th>gmv</th>\n",
       "      <th>cnt</th>\n",
       "      <th>query_classifications</th>\n",
       "      <th>orig_query</th>\n",
       "      <th>query_classification_lists</th>\n",
       "      <th>query_classification_ids</th>\n",
       "      <th>lang</th>\n",
       "    </tr>\n",
       "  </thead>\n",
       "  <tbody>\n",
       "    <tr>\n",
       "      <th>0</th>\n",
       "      <td>75754</td>\n",
       "      <td>offshore/TieBreaker File - 8 Dec 22.xlsx</td>\n",
       "      <td>1</td>\n",
       "      <td>regal kinderzimmer</td>\n",
       "      <td>head</td>\n",
       "      <td>410.022095</td>\n",
       "      <td>1201</td>\n",
       "      <td>Furniture &gt; Children Furniture &gt; Children Ward...</td>\n",
       "      <td>regal kinderzimmer</td>\n",
       "      <td>[Furniture &gt; Children Furniture &gt; Children War...</td>\n",
       "      <td>[2151, 2144, -1]</td>\n",
       "      <td>de</td>\n",
       "    </tr>\n",
       "    <tr>\n",
       "      <th>1</th>\n",
       "      <td>386969</td>\n",
       "      <td>offshore/TieBreaker File - 8 Dec 22.xlsx</td>\n",
       "      <td>2</td>\n",
       "      <td>wooden box with lid</td>\n",
       "      <td>uniform</td>\n",
       "      <td>53.815742</td>\n",
       "      <td>221</td>\n",
       "      <td>Home &amp; Garden &gt; Home Storage &amp; Organization &gt; ...</td>\n",
       "      <td>wooden box with lid</td>\n",
       "      <td>[Home &amp; Garden &gt; Home Storage &amp; Organization &gt;...</td>\n",
       "      <td>[2733, 2766, 2375]</td>\n",
       "      <td>en</td>\n",
       "    </tr>\n",
       "  </tbody>\n",
       "</table>\n",
       "</div>"
      ],
      "text/plain": [
       "    index                                  filename  label_ordering  \\\n",
       "0   75754  offshore/TieBreaker File - 8 Dec 22.xlsx               1   \n",
       "1  386969  offshore/TieBreaker File - 8 Dec 22.xlsx               2   \n",
       "\n",
       "                 query sample_method         gmv   cnt  \\\n",
       "0   regal kinderzimmer          head  410.022095  1201   \n",
       "1  wooden box with lid       uniform   53.815742   221   \n",
       "\n",
       "                               query_classifications           orig_query  \\\n",
       "0  Furniture > Children Furniture > Children Ward...   regal kinderzimmer   \n",
       "1  Home & Garden > Home Storage & Organization > ...  wooden box with lid   \n",
       "\n",
       "                          query_classification_lists query_classification_ids  \\\n",
       "0  [Furniture > Children Furniture > Children War...         [2151, 2144, -1]   \n",
       "1  [Home & Garden > Home Storage & Organization >...       [2733, 2766, 2375]   \n",
       "\n",
       "  lang  \n",
       "0   de  \n",
       "1   en  "
      ]
     },
     "execution_count": 6,
     "metadata": {},
     "output_type": "execute_result"
    }
   ],
   "source": [
    "df_test.head(2)"
   ]
  },
  {
   "cell_type": "code",
   "execution_count": 8,
   "metadata": {},
   "outputs": [],
   "source": [
    "upload_recs = []\n",
    "\n",
    "for rec in df_test.to_dict('records'):\n",
    "    categories = []\n",
    "    weights = []\n",
    "    names = []\n",
    "    for cat_id in rec['query_classification_ids']:\n",
    "        if cat_id == -1:\n",
    "            break\n",
    "        else:\n",
    "            categories.append(str(cat_id))\n",
    "            weights.append(str(1))\n",
    "            names.append(id2name[str(cat_id)])\n",
    "    upload_rec = { \n",
    "        'query': rec['query'], \n",
    "        'categories': ','.join(categories),\n",
    "        'category_names': ','.join(names),\n",
    "        'weights': ','.join(weights),\n",
    "        'dt': '2023-03-14',\n",
    "        'model_version': 4, \n",
    "        'taxonomy_version': 121\n",
    "    }\n",
    "    upload_recs.append(upload_rec)\n",
    "df_upload = pd.DataFrame(upload_recs)"
   ]
  },
  {
   "cell_type": "code",
   "execution_count": 12,
   "metadata": {},
   "outputs": [
    {
     "data": {
      "text/html": [
       "<div>\n",
       "<style scoped>\n",
       "    .dataframe tbody tr th:only-of-type {\n",
       "        vertical-align: middle;\n",
       "    }\n",
       "\n",
       "    .dataframe tbody tr th {\n",
       "        vertical-align: top;\n",
       "    }\n",
       "\n",
       "    .dataframe thead th {\n",
       "        text-align: right;\n",
       "    }\n",
       "</style>\n",
       "<table border=\"1\" class=\"dataframe\">\n",
       "  <thead>\n",
       "    <tr style=\"text-align: right;\">\n",
       "      <th></th>\n",
       "      <th>query</th>\n",
       "      <th>categories</th>\n",
       "      <th>category_names</th>\n",
       "      <th>weights</th>\n",
       "      <th>dt</th>\n",
       "      <th>model_version</th>\n",
       "      <th>taxonomy_version</th>\n",
       "    </tr>\n",
       "  </thead>\n",
       "  <tbody>\n",
       "    <tr>\n",
       "      <th>9484</th>\n",
       "      <td>gryffindor</td>\n",
       "      <td>4211,5975,1862</td>\n",
       "      <td>T-Shirts,Quartz Watches,Literature &amp; Fiction</td>\n",
       "      <td>1,1,1</td>\n",
       "      <td>2023-03-14</td>\n",
       "      <td>4</td>\n",
       "      <td>121</td>\n",
       "    </tr>\n",
       "    <tr>\n",
       "      <th>6514</th>\n",
       "      <td>car scratch repair</td>\n",
       "      <td>646,643,648</td>\n",
       "      <td>Polishes,Paint Cleaner,Spot Rust &amp; Tar Spot Re...</td>\n",
       "      <td>1,1,1</td>\n",
       "      <td>2023-03-14</td>\n",
       "      <td>4</td>\n",
       "      <td>121</td>\n",
       "    </tr>\n",
       "  </tbody>\n",
       "</table>\n",
       "</div>"
      ],
      "text/plain": [
       "                   query      categories  \\\n",
       "9484          gryffindor  4211,5975,1862   \n",
       "6514  car scratch repair     646,643,648   \n",
       "\n",
       "                                         category_names weights          dt  \\\n",
       "9484       T-Shirts,Quartz Watches,Literature & Fiction   1,1,1  2023-03-14   \n",
       "6514  Polishes,Paint Cleaner,Spot Rust & Tar Spot Re...   1,1,1  2023-03-14   \n",
       "\n",
       "      model_version  taxonomy_version  \n",
       "9484              4               121  \n",
       "6514              4               121  "
      ]
     },
     "execution_count": 12,
     "metadata": {},
     "output_type": "execute_result"
    }
   ],
   "source": [
    "df_upload.sample(2)"
   ]
  },
  {
   "cell_type": "code",
   "execution_count": 13,
   "metadata": {},
   "outputs": [],
   "source": [
    "from tahoe import create_table, create_external_table, drop_external_table, execute_async\n",
    "from s3 import temp_bucket, get_s3_file_keys, upload_df_to_parquet\n",
    "import pandas as pd\n",
    "import logging\n",
    "logging.basicConfig(\n",
    "    format='%(asctime)s %(levelname)s: %(message)s',\n",
    "    level=logging.INFO\n",
    ")"
   ]
  },
  {
   "cell_type": "code",
   "execution_count": 14,
   "metadata": {},
   "outputs": [],
   "source": [
    "df_data = df_upload"
   ]
  },
  {
   "cell_type": "code",
   "execution_count": 15,
   "metadata": {},
   "outputs": [
    {
     "data": {
      "text/plain": [
       "13448"
      ]
     },
     "execution_count": 15,
     "metadata": {},
     "output_type": "execute_result"
    }
   ],
   "source": [
    "len(df_data)"
   ]
  },
  {
   "cell_type": "code",
   "execution_count": 16,
   "metadata": {},
   "outputs": [
    {
     "name": "stderr",
     "output_type": "stream",
     "text": [
      "2023-03-15 14:17:49,457 INFO: USE `default`\n",
      "2023-03-15 14:17:50,348 INFO: DROP TABLE sweeper_dev.query_top_3_humanlabels_v4\n",
      "2023-03-15 14:17:51,189 INFO: The query returned no records.\n",
      "2023-03-15 14:17:51,592 INFO: USE `default`\n",
      "2023-03-15 14:17:52,519 INFO: \n",
      "    CREATE TABLE sweeper_dev.query_top_3_humanlabels_v4 (\n",
      "    query STRING,\n",
      "\tcategories STRING,\n",
      "\tcategory_names STRING,\n",
      "\tweights STRING\n",
      "    )\n",
      "    PARTITIONED BY (dt STRING,\n",
      "\tmodel_version INTEGER,\n",
      "\ttaxonomy_version INTEGER)\n",
      "LOCATION 's3://wish-tahoe-derived-us-west-2/sweeper_dev/query_top_3_humanlabels_v4'\n",
      "2023-03-15 14:17:53,371 INFO: The query returned no records.\n",
      "2023-03-15 14:17:53,774 INFO: USE `default`\n",
      "2023-03-15 14:17:54,662 INFO: \n",
      "    CREATE TABLE sweeper_dev.query_top_3_humanlabels_v4_temp (\n",
      "    query STRING,\n",
      "\tcategories STRING,\n",
      "\tcategory_names STRING,\n",
      "\tweights STRING,\n",
      "\tdt STRING,\n",
      "\tmodel_version INTEGER,\n",
      "\ttaxonomy_version INTEGER\n",
      "    )\n",
      "    \n",
      "STORED AS PARQUET\n",
      "LOCATION 's3://wish-tahoe-import-us-west-2/sweeper_dev/query_top_3_humanlabels_v4_temp'\n",
      "TBLPROPERTIES ('parquet.compression'='SNAPPY')\n",
      "2023-03-15 14:17:55,591 INFO: The query returned no records.\n"
     ]
    }
   ],
   "source": [
    "# Create the permanent table\n",
    "test_table = {\n",
    "    \"name\": \"query_top_3_humanlabels_v4\",\n",
    "    \"columns\": [\n",
    "        {\"name\": \"query\", \"type\": \"STRING\"},\n",
    "        {\"name\": \"categories\", \"type\": \"STRING\"},\n",
    "        {\"name\": \"category_names\", \"type\": \"STRING\"},\n",
    "        {\"name\": \"weights\", \"type\": \"STRING\"},\n",
    "    ], \n",
    "    \"partitions\": [\n",
    "        {\"name\": \"dt\", \"type\": \"STRING\"},\n",
    "        {\"name\": \"model_version\", \"type\": \"INTEGER\"},\n",
    "        {\"name\": \"taxonomy_version\", \"type\": \"INTEGER\"},\n",
    "    ]\n",
    "}\n",
    "db = \"sweeper_dev\"\n",
    "\n",
    "q = f\"DROP TABLE {db}.{test_table['name']}\"\n",
    "execute_async(q, engine=\"hive\")\n",
    "create_table(table_definition=test_table, db=db)\n",
    "\n",
    "temp_test_table = {\n",
    "    \"name\": \"query_top_3_humanlabels_v4_temp\",\n",
    "    \"columns\": [\n",
    "        {\"name\": \"query\", \"type\": \"STRING\"},\n",
    "        {\"name\": \"categories\", \"type\": \"STRING\"},\n",
    "        {\"name\": \"category_names\", \"type\": \"STRING\"},\n",
    "        {\"name\": \"weights\", \"type\": \"STRING\"},\n",
    "        {\"name\": \"dt\", \"type\": \"STRING\"},\n",
    "        {\"name\": \"model_version\", \"type\": \"INTEGER\"},\n",
    "        {\"name\": \"taxonomy_version\", \"type\": \"INTEGER\"},\n",
    "    ]\n",
    "}\n",
    "db = \"sweeper_dev\"\n",
    "\n",
    "create_external_table(\n",
    "    table_name=temp_test_table[\"name\"],\n",
    "    table_definition=temp_test_table,\n",
    "    db=db,\n",
    "    bucket=temp_bucket\n",
    ")\n"
   ]
  },
  {
   "cell_type": "code",
   "execution_count": 17,
   "metadata": {},
   "outputs": [
    {
     "name": "stderr",
     "output_type": "stream",
     "text": [
      "2023-03-15 14:18:07,544 INFO: Uploading DF (13448, 7) records to sweeper_dev/query_top_3_humanlabels_v4_temp/data.parquet.\n",
      "2023-03-15 14:18:08,422 INFO: Uploaded DF (13448, 7) to sweeper_dev/query_top_3_humanlabels_v4_temp/data.parquet.\n"
     ]
    }
   ],
   "source": [
    "\n",
    "upload_df_to_parquet(df_data, s3_bucket=temp_bucket, s3_key=\"sweeper_dev/query_top_3_humanlabels_v4_temp/data.parquet\")\n"
   ]
  },
  {
   "cell_type": "code",
   "execution_count": 18,
   "metadata": {},
   "outputs": [
    {
     "name": "stderr",
     "output_type": "stream",
     "text": [
      "2023-03-15 14:18:10,393 INFO: SELECT COUNT(*) FROM sweeper_dev.query_top_3_humanlabels_v4_temp\n"
     ]
    },
    {
     "data": {
      "text/plain": [
       "[(13448,)]"
      ]
     },
     "execution_count": 18,
     "metadata": {},
     "output_type": "execute_result"
    }
   ],
   "source": [
    "\n",
    "q = f\"SELECT COUNT(*) FROM {db}.{temp_test_table['name']}\"\n",
    "execute_async(q)"
   ]
  },
  {
   "cell_type": "code",
   "execution_count": 19,
   "metadata": {},
   "outputs": [
    {
     "name": "stderr",
     "output_type": "stream",
     "text": [
      "2023-03-15 14:18:16,808 INFO: \n",
      "INSERT INTO sweeper_dev.query_top_3_humanlabels_v4\n",
      "SELECT query, categories, category_names, weights, dt, model_version, taxonomy_version\n",
      "FROM sweeper_dev.query_top_3_humanlabels_v4_temp\n",
      "\n"
     ]
    },
    {
     "data": {
      "text/plain": [
       "[(13448,)]"
      ]
     },
     "execution_count": 19,
     "metadata": {},
     "output_type": "execute_result"
    }
   ],
   "source": [
    "# Copy data from the temp table to the permanent table\n",
    "# The partition field must be the last in the SELECT statement\n",
    "q = f\"\"\"\n",
    "INSERT INTO {db}.{test_table['name']}\n",
    "SELECT query, categories, category_names, weights, dt, model_version, taxonomy_version\n",
    "FROM {db}.{temp_test_table['name']}\n",
    "\"\"\"\n",
    "execute_async(q)"
   ]
  },
  {
   "cell_type": "code",
   "execution_count": 20,
   "metadata": {},
   "outputs": [
    {
     "name": "stderr",
     "output_type": "stream",
     "text": [
      "2023-03-15 14:18:22,550 INFO: SELECT COUNT(*) FROM sweeper_dev.query_top_3_humanlabels_v4\n"
     ]
    },
    {
     "data": {
      "text/plain": [
       "[(13448,)]"
      ]
     },
     "execution_count": 20,
     "metadata": {},
     "output_type": "execute_result"
    }
   ],
   "source": [
    "q = f\"SELECT COUNT(*) FROM {db}.{test_table['name']}\"\n",
    "execute_async(q)"
   ]
  },
  {
   "cell_type": "code",
   "execution_count": 21,
   "metadata": {},
   "outputs": [
    {
     "name": "stderr",
     "output_type": "stream",
     "text": [
      "2023-03-15 14:18:30,581 INFO: USE `default`\n",
      "2023-03-15 14:18:31,425 INFO: \n",
      "    DROP TABLE IF EXISTS sweeper_dev.query_top_3_humanlabels_v4_temp\n",
      "    \n",
      "2023-03-15 14:18:32,269 INFO: The query returned no records.\n",
      "2023-03-15 14:18:32,271 INFO: Dropped sweeper_dev.query_top_3_humanlabels_v4_temp\n",
      "2023-03-15 14:18:32,807 INFO: Files in 's3://wish-tahoe-import-us-west-2/sweeper_dev/query_top_3_humanlabels_v4_temp are deleted.\n"
     ]
    }
   ],
   "source": [
    "# Optional: drop the external table\n",
    "drop_external_table(\n",
    "    db=db,\n",
    "    table_name=temp_test_table[\"name\"],\n",
    "    delete_files=True,\n",
    "    s3_bucket=temp_bucket,\n",
    "    s3_prefix=f'{db}/{temp_test_table[\"name\"]}', \n",
    ")"
   ]
  },
  {
   "cell_type": "code",
   "execution_count": null,
   "metadata": {},
   "outputs": [],
   "source": []
  }
 ],
 "metadata": {
  "kernelspec": {
   "display_name": "Python 3",
   "language": "python",
   "name": "python3"
  },
  "language_info": {
   "codemirror_mode": {
    "name": "ipython",
    "version": 3
   },
   "file_extension": ".py",
   "mimetype": "text/x-python",
   "name": "python",
   "nbconvert_exporter": "python",
   "pygments_lexer": "ipython3",
   "version": "3.8.13"
  },
  "orig_nbformat": 4,
  "vscode": {
   "interpreter": {
    "hash": "949777d72b0d2535278d3dc13498b2535136f6dfe0678499012e853ee9abcab1"
   }
  }
 },
 "nbformat": 4,
 "nbformat_minor": 2
}
