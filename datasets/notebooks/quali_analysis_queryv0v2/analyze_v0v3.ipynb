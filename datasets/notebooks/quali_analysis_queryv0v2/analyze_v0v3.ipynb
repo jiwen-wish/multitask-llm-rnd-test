{
 "cells": [
  {
   "cell_type": "code",
   "execution_count": 3,
   "metadata": {},
   "outputs": [],
   "source": [
    "from tahoe import execute_async\n",
    "import pandas as pd\n",
    "import dvc.api"
   ]
  },
  {
   "attachments": {},
   "cell_type": "markdown",
   "metadata": {},
   "source": [
    "# taxonomy"
   ]
  },
  {
   "cell_type": "code",
   "execution_count": 4,
   "metadata": {},
   "outputs": [],
   "source": [
    "df_tax = pd.read_json(dvc.api.get_url( \n",
    "    'datasets/data/taxonomy/wish_newtax_02222023.json', \n",
    "    repo='git@github.com:ContextLogic/multitask-llm-rnd.git'\n",
    "), lines=True)\n",
    "\n",
    "tax2path = {}\n",
    "for i in df_tax.to_dict('records'):\n",
    "    tax2path[str(i['id'])] = i['category_path']"
   ]
  },
  {
   "attachments": {},
   "cell_type": "markdown",
   "metadata": {},
   "source": [
    "# v3 data download"
   ]
  },
  {
   "cell_type": "code",
   "execution_count": 36,
   "metadata": {},
   "outputs": [],
   "source": [
    "df_v0 = pd.read_json('query_classify_v0_20230307.json', lines=True)"
   ]
  },
  {
   "cell_type": "code",
   "execution_count": 37,
   "metadata": {},
   "outputs": [
    {
     "data": {
      "text/plain": [
       "1479410"
      ]
     },
     "execution_count": 37,
     "metadata": {},
     "output_type": "execute_result"
    }
   ],
   "source": [
    "len(df_v0)"
   ]
  },
  {
   "cell_type": "code",
   "execution_count": 6,
   "metadata": {},
   "outputs": [],
   "source": [
    "q = f\"select query, categories, category_names, weights from sweeper_dev.query_top_10_prediction_v3 where model_version = 3\"\n",
    "res = execute_async(q)"
   ]
  },
  {
   "cell_type": "code",
   "execution_count": 7,
   "metadata": {},
   "outputs": [],
   "source": [
    "df_v3 = pd.DataFrame(res, columns=['query', 'categories', 'category_names', 'weights'])"
   ]
  },
  {
   "cell_type": "code",
   "execution_count": 39,
   "metadata": {},
   "outputs": [
    {
     "data": {
      "text/plain": [
       "6627925"
      ]
     },
     "execution_count": 39,
     "metadata": {},
     "output_type": "execute_result"
    }
   ],
   "source": [
    "len(df_v3)"
   ]
  },
  {
   "cell_type": "code",
   "execution_count": 9,
   "metadata": {},
   "outputs": [],
   "source": [
    "# df_v3.to_json('query_classify_v3_20230315.json', lines=True, orient='records')"
   ]
  },
  {
   "attachments": {},
   "cell_type": "markdown",
   "metadata": {},
   "source": [
    "# load v0v3 data"
   ]
  },
  {
   "cell_type": "code",
   "execution_count": 5,
   "metadata": {},
   "outputs": [],
   "source": [
    "df_v0 = pd.read_json('query_classify_v0_20230307.json', lines=True)\n",
    "df_v3 = pd.read_json('query_classify_v3_20230315.json', lines=True)"
   ]
  },
  {
   "attachments": {},
   "cell_type": "markdown",
   "metadata": {},
   "source": [
    "# top sheet"
   ]
  },
  {
   "cell_type": "code",
   "execution_count": 40,
   "metadata": {},
   "outputs": [],
   "source": [
    "dfs = pd.read_excel('top_searched_queries_stats.xlsx', sheet_name=None)"
   ]
  },
  {
   "cell_type": "code",
   "execution_count": 41,
   "metadata": {},
   "outputs": [],
   "source": [
    "df_top = dfs['1000 top searched normalized qu']\n",
    "df_top.columns = df_top.iloc[0]\n",
    "df_top = df_top.drop(df_top.index[0])\n",
    "df_top['query'] = df_top['normalized_query']"
   ]
  },
  {
   "cell_type": "code",
   "execution_count": 42,
   "metadata": {},
   "outputs": [],
   "source": [
    "df_mid = dfs['1000 Torso searched normalized ']\n",
    "df_mid.columns = df_mid.iloc[0]\n",
    "df_mid = df_mid.drop(df_mid.index[0])\n",
    "df_mid['query'] = df_mid['normalized_query']\n",
    "\n",
    "df_tail = dfs['1000 tail searched normalized q']\n",
    "df_tail.columns = df_tail.iloc[0]\n",
    "df_tail = df_tail.drop(df_tail.index[0])\n",
    "df_tail['query'] = df_tail['normalized_query']"
   ]
  },
  {
   "cell_type": "code",
   "execution_count": 43,
   "metadata": {},
   "outputs": [],
   "source": [
    "df_top_merge = df_top.merge(df_v0.rename(columns={'norm': 'v0_norm', 'categories': 'v0_categories', 'category_names': 'v0_category_names', \n",
    "    'weights': 'v0_weights'\n",
    "}), on='query', how='left')"
   ]
  },
  {
   "cell_type": "code",
   "execution_count": 44,
   "metadata": {},
   "outputs": [],
   "source": [
    "df_mid_merge = df_mid.merge(df_v0.rename(columns={'norm': 'v0_norm', 'categories': 'v0_categories', 'category_names': 'v0_category_names', \n",
    "    'weights': 'v0_weights'\n",
    "}), on='query', how='left')\n",
    "\n",
    "df_tail_merge = df_tail.merge(df_v0.rename(columns={'norm': 'v0_norm', 'categories': 'v0_categories', 'category_names': 'v0_category_names', \n",
    "    'weights': 'v0_weights'\n",
    "}), on='query', how='left')"
   ]
  },
  {
   "cell_type": "code",
   "execution_count": 45,
   "metadata": {},
   "outputs": [],
   "source": [
    "df_top_merge = df_top_merge.merge(df_v3.rename(columns={'categories': 'v3_categories', 'category_names': 'v3_category_names', \n",
    "    'weights': 'v3_weights'\n",
    "}), on='query', how='left')"
   ]
  },
  {
   "cell_type": "code",
   "execution_count": 46,
   "metadata": {},
   "outputs": [],
   "source": [
    "df_mid_merge = df_mid_merge.merge(df_v3.rename(columns={'categories': 'v3_categories', 'category_names': 'v3_category_names', \n",
    "    'weights': 'v3_weights'\n",
    "}), on='query', how='left')\n",
    "\n",
    "df_tail_merge = df_tail_merge.merge(df_v3.rename(columns={'categories': 'v3_categories', 'category_names': 'v3_category_names', \n",
    "    'weights': 'v3_weights'\n",
    "}), on='query', how='left')"
   ]
  },
  {
   "cell_type": "code",
   "execution_count": 47,
   "metadata": {},
   "outputs": [],
   "source": [
    "df_top_merge['query_type'] = 'head'\n",
    "df_mid_merge['query_type'] = 'torso'\n",
    "df_tail_merge['query_type'] = 'tail'\n",
    "df_all_merge = pd.concat([df_top_merge, df_mid_merge, df_tail_merge])"
   ]
  },
  {
   "cell_type": "code",
   "execution_count": 48,
   "metadata": {},
   "outputs": [
    {
     "data": {
      "text/html": [
       "<div>\n",
       "<style scoped>\n",
       "    .dataframe tbody tr th:only-of-type {\n",
       "        vertical-align: middle;\n",
       "    }\n",
       "\n",
       "    .dataframe tbody tr th {\n",
       "        vertical-align: top;\n",
       "    }\n",
       "\n",
       "    .dataframe thead th {\n",
       "        text-align: right;\n",
       "    }\n",
       "</style>\n",
       "<table border=\"1\" class=\"dataframe\">\n",
       "  <thead>\n",
       "    <tr style=\"text-align: right;\">\n",
       "      <th></th>\n",
       "      <th>normalized_query</th>\n",
       "      <th>impression_cnt</th>\n",
       "      <th>clicks_cnt</th>\n",
       "      <th>a2c_cnt</th>\n",
       "      <th>orders_cnt</th>\n",
       "      <th>gmv_sum</th>\n",
       "      <th>%impression</th>\n",
       "      <th>%clicks</th>\n",
       "      <th>%a2c</th>\n",
       "      <th>%orders</th>\n",
       "      <th>...</th>\n",
       "      <th>% unique searches</th>\n",
       "      <th>query</th>\n",
       "      <th>v0_norm</th>\n",
       "      <th>v0_categories</th>\n",
       "      <th>v0_category_names</th>\n",
       "      <th>v0_weights</th>\n",
       "      <th>v3_categories</th>\n",
       "      <th>v3_category_names</th>\n",
       "      <th>v3_weights</th>\n",
       "      <th>query_type</th>\n",
       "    </tr>\n",
       "  </thead>\n",
       "  <tbody>\n",
       "    <tr>\n",
       "      <th>297</th>\n",
       "      <td>door</td>\n",
       "      <td>333798.0</td>\n",
       "      <td>4362.0</td>\n",
       "      <td>518.0</td>\n",
       "      <td>109.0</td>\n",
       "      <td>1026.082649</td>\n",
       "      <td>0.000305</td>\n",
       "      <td>0.000255</td>\n",
       "      <td>0.000223</td>\n",
       "      <td>0.000236</td>\n",
       "      <td>...</td>\n",
       "      <td>0.00038</td>\n",
       "      <td>door</td>\n",
       "      <td>10.86278</td>\n",
       "      <td>3654,2732,2786,3391,3548</td>\n",
       "      <td>Sealing Strips,Space Separation Tools,Carpets,...</td>\n",
       "      <td>1.52542043408,0.377492846163,0.315293584622,0....</td>\n",
       "      <td>3461,3457,3587,3590</td>\n",
       "      <td>Door &amp; Window Screens,Doors, Gates &amp; Windows,D...</td>\n",
       "      <td>0.2063259631,0.1043876782,0.08764750510000001,...</td>\n",
       "      <td>head</td>\n",
       "    </tr>\n",
       "  </tbody>\n",
       "</table>\n",
       "<p>1 rows × 25 columns</p>\n",
       "</div>"
      ],
      "text/plain": [
       "    normalized_query impression_cnt clicks_cnt a2c_cnt orders_cnt  \\\n",
       "297             door       333798.0     4362.0   518.0      109.0   \n",
       "\n",
       "         gmv_sum %impression   %clicks      %a2c   %orders  ...  \\\n",
       "297  1026.082649    0.000305  0.000255  0.000223  0.000236  ...   \n",
       "\n",
       "    % unique searches  query   v0_norm             v0_categories  \\\n",
       "297            0.00038  door  10.86278  3654,2732,2786,3391,3548   \n",
       "\n",
       "                                     v0_category_names  \\\n",
       "297  Sealing Strips,Space Separation Tools,Carpets,...   \n",
       "\n",
       "                                            v0_weights        v3_categories  \\\n",
       "297  1.52542043408,0.377492846163,0.315293584622,0....  3461,3457,3587,3590   \n",
       "\n",
       "                                     v3_category_names  \\\n",
       "297  Door & Window Screens,Doors, Gates & Windows,D...   \n",
       "\n",
       "                                            v3_weights query_type  \n",
       "297  0.2063259631,0.1043876782,0.08764750510000001,...       head  \n",
       "\n",
       "[1 rows x 25 columns]"
      ]
     },
     "execution_count": 48,
     "metadata": {},
     "output_type": "execute_result"
    }
   ],
   "source": [
    "df_all_merge[df_all_merge.normalized_query == 'door']"
   ]
  },
  {
   "cell_type": "code",
   "execution_count": 49,
   "metadata": {},
   "outputs": [],
   "source": [
    "df_all_merge['v0_category_paths'] = df_all_merge['v0_categories'].apply(lambda x: [tax2path[i] if i in tax2path else '' for i in x.split(',')] if isinstance(x, str) else x)\n",
    "df_all_merge['v3_category_paths'] = df_all_merge['v3_categories'].apply(lambda x: [tax2path[i] if i in tax2path else '' for i in x.split(',')] if isinstance(x, str) else x)"
   ]
  },
  {
   "cell_type": "code",
   "execution_count": 50,
   "metadata": {},
   "outputs": [],
   "source": [
    "df_all_merge.to_csv('top_searched_queries_stats_with_v0v3.csv', index=False)"
   ]
  },
  {
   "attachments": {},
   "cell_type": "markdown",
   "metadata": {},
   "source": [
    "# ndcg sheet"
   ]
  },
  {
   "cell_type": "code",
   "execution_count": 19,
   "metadata": {},
   "outputs": [],
   "source": [
    "df_ndcgs = pd.read_excel('control_vs_show-v1_queries_ndcg_difference_tables_v3.xlsx', sheet_name=None)"
   ]
  },
  {
   "cell_type": "code",
   "execution_count": 20,
   "metadata": {},
   "outputs": [],
   "source": [
    "tmp = []\n",
    "for i in df_ndcgs:\n",
    "    df_i = df_ndcgs[i]\n",
    "    df_i['query_type'] = i\n",
    "    tmp.append(df_i)\n",
    "df_ndcgs = pd.concat(tmp).reset_index()\n",
    "del df_ndcgs['index']"
   ]
  },
  {
   "cell_type": "code",
   "execution_count": 22,
   "metadata": {},
   "outputs": [],
   "source": [
    "df_ndcgs['query'] = df_ndcgs['country_gender_query'].apply(lambda x: '_'.join(x.split('_')[2:]))"
   ]
  },
  {
   "cell_type": "code",
   "execution_count": 24,
   "metadata": {},
   "outputs": [],
   "source": [
    "df_ndcgs_merge = df_ndcgs.merge(df_v0.rename(columns={'norm': 'v0_norm', 'categories': 'v0_categories', 'category_names': 'v0_category_names', \n",
    "    'weights': 'v0_weights'\n",
    "}), on='query', how='left').merge(df_v3.rename(columns={'categories': 'v3_categories', 'category_names': 'v3_category_names', \n",
    "    'weights': 'v3_weights'\n",
    "}), on='query', how='left')"
   ]
  },
  {
   "cell_type": "code",
   "execution_count": 25,
   "metadata": {},
   "outputs": [],
   "source": [
    "df_ndcgs_merge['v0_category_paths'] = df_ndcgs_merge['v0_categories'].apply(lambda x: [tax2path[i] if i in tax2path else '' for i in x.split(',')] if isinstance(x, str) else x)\n",
    "df_ndcgs_merge['v3_category_paths'] = df_ndcgs_merge['v3_categories'].apply(lambda x: [tax2path[i] if i in tax2path else '' for i in x.split(',')] if isinstance(x, str) else x)"
   ]
  },
  {
   "cell_type": "code",
   "execution_count": 27,
   "metadata": {},
   "outputs": [],
   "source": [
    "df_ndcgs_merge.to_csv('control_vs_show-v1_queries_ndcg_difference_tables_with_v0v3.csv', index=False)"
   ]
  },
  {
   "cell_type": "code",
   "execution_count": null,
   "metadata": {},
   "outputs": [],
   "source": []
  }
 ],
 "metadata": {
  "kernelspec": {
   "display_name": "Python 3",
   "language": "python",
   "name": "python3"
  },
  "language_info": {
   "codemirror_mode": {
    "name": "ipython",
    "version": 3
   },
   "file_extension": ".py",
   "mimetype": "text/x-python",
   "name": "python",
   "nbconvert_exporter": "python",
   "pygments_lexer": "ipython3",
   "version": "3.8.13"
  },
  "orig_nbformat": 4,
  "vscode": {
   "interpreter": {
    "hash": "949777d72b0d2535278d3dc13498b2535136f6dfe0678499012e853ee9abcab1"
   }
  }
 },
 "nbformat": 4,
 "nbformat_minor": 2
}
