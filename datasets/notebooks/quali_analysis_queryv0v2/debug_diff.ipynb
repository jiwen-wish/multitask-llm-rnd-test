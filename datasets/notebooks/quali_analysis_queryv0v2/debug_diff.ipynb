{
 "cells": [
  {
   "cell_type": "code",
   "execution_count": 1,
   "metadata": {},
   "outputs": [],
   "source": [
    "import pandas as pd"
   ]
  },
  {
   "cell_type": "code",
   "execution_count": 2,
   "metadata": {},
   "outputs": [],
   "source": [
    "df = pd.read_csv('debug_diff/sqllab_sdt993_impressions_80_high_20_low_20230322T144530.csv')"
   ]
  },
  {
   "cell_type": "code",
   "execution_count": 3,
   "metadata": {},
   "outputs": [],
   "source": [
    "df['query_len'] = df['query'].apply(len)"
   ]
  },
  {
   "cell_type": "code",
   "execution_count": 4,
   "metadata": {},
   "outputs": [
    {
     "name": "stderr",
     "output_type": "stream",
     "text": [
      "/home/vscode/.local/lib/python3.8/site-packages/tqdm/auto.py:22: TqdmWarning: IProgress not found. Please update jupyter and ipywidgets. See https://ipywidgets.readthedocs.io/en/stable/user_install.html\n",
      "  from .autonotebook import tqdm as notebook_tqdm\n",
      "None of PyTorch, TensorFlow >= 2.0, or Flax have been found. Models won't be available and only tokenizers, configuration and file/data utilities can be used.\n"
     ]
    }
   ],
   "source": [
    "from transformers import AutoTokenizer\n",
    "tokenizer = AutoTokenizer.from_pretrained('microsoft/Multilingual-MiniLM-L12-H384')"
   ]
  },
  {
   "cell_type": "code",
   "execution_count": 5,
   "metadata": {},
   "outputs": [],
   "source": [
    "df['query_tok_len'] = df['query'].apply(lambda x: len(tokenizer('Classify query: ' + x)['input_ids']))"
   ]
  },
  {
   "cell_type": "code",
   "execution_count": 6,
   "metadata": {},
   "outputs": [
    {
     "data": {
      "text/plain": [
       "<AxesSubplot: ylabel='Frequency'>"
      ]
     },
     "execution_count": 6,
     "metadata": {},
     "output_type": "execute_result"
    },
    {
     "data": {
      "image/png": "[encoded data removed]",
      "text/plain": [
       "<Figure size 640x480 with 1 Axes>"
      ]
     },
     "metadata": {},
     "output_type": "display_data"
    }
   ],
   "source": [
    "df.query_tok_len.plot.hist()"
   ]
  },
  {
   "cell_type": "code",
   "execution_count": 7,
   "metadata": {},
   "outputs": [
    {
     "data": {
      "text/plain": [
       "<AxesSubplot: ylabel='Frequency'>"
      ]
     },
     "execution_count": 7,
     "metadata": {},
     "output_type": "execute_result"
    },
    {
     "data": {
      "image/png": "[encoded data removed]",
      "text/plain": [
       "<Figure size 640x480 with 1 Axes>"
      ]
     },
     "metadata": {},
     "output_type": "display_data"
    }
   ],
   "source": [
    "df.query_len.plot.hist()"
   ]
  },
  {
   "cell_type": "code",
   "execution_count": 8,
   "metadata": {},
   "outputs": [
    {
     "data": {
      "text/html": [
       "<div>\n",
       "<style scoped>\n",
       "    .dataframe tbody tr th:only-of-type {\n",
       "        vertical-align: middle;\n",
       "    }\n",
       "\n",
       "    .dataframe tbody tr th {\n",
       "        vertical-align: top;\n",
       "    }\n",
       "\n",
       "    .dataframe thead th {\n",
       "        text-align: right;\n",
       "    }\n",
       "</style>\n",
       "<table border=\"1\" class=\"dataframe\">\n",
       "  <thead>\n",
       "    <tr style=\"text-align: right;\">\n",
       "      <th></th>\n",
       "      <th>query</th>\n",
       "      <th>dev</th>\n",
       "      <th>stage</th>\n",
       "      <th>dev_wts</th>\n",
       "      <th>stage_wts</th>\n",
       "      <th>query_len</th>\n",
       "      <th>query_tok_len</th>\n",
       "    </tr>\n",
       "  </thead>\n",
       "  <tbody>\n",
       "    <tr>\n",
       "      <th>0</th>\n",
       "      <td>maquina de neblina</td>\n",
       "      <td>939,913,974,941,849,1210,917,5532,903,990</td>\n",
       "      <td>939,913,974,941,849,1210,917,5532,990,903</td>\n",
       "      <td>0.0999826565,0.0936938524,0.034436598400000004...</td>\n",
       "      <td>0.09998270124197006,0.0936938151717186,0.03443...</td>\n",
       "      <td>18</td>\n",
       "      <td>12</td>\n",
       "    </tr>\n",
       "    <tr>\n",
       "      <th>1</th>\n",
       "      <td>heron statue</td>\n",
       "      <td>2714,2645,2661,2679,5709,5710,2655,2637,2685,2706</td>\n",
       "      <td>2714,2645,2661,2679,5709,5710,2655,2637,2685</td>\n",
       "      <td>0.8939518332,0.7741752267,0.15834936500000002,...</td>\n",
       "      <td>0.8939518332481384,0.774175226688385,0.1583494...</td>\n",
       "      <td>12</td>\n",
       "      <td>11</td>\n",
       "    </tr>\n",
       "    <tr>\n",
       "      <th>2</th>\n",
       "      <td>forma silicone para airfryer</td>\n",
       "      <td>3012,3784,2930,2928,2929,2925,2947,2931,3797,2926</td>\n",
       "      <td>3012,3784,2930,2929,2928,2925,2947,2931,3797,2926</td>\n",
       "      <td>0.39402872320000004,0.3507365286,0.1482180506,...</td>\n",
       "      <td>0.3940284550189972,0.3507363796234131,0.148218...</td>\n",
       "      <td>28</td>\n",
       "      <td>13</td>\n",
       "    </tr>\n",
       "    <tr>\n",
       "      <th>3</th>\n",
       "      <td>warme hose herren</td>\n",
       "      <td>4182,4181,4190,4188,4191,6031,5222,4915,4179,5207</td>\n",
       "      <td>4182,4181,4190,4188,4191,6031,5222,4915,5207,4179</td>\n",
       "      <td>0.2732402384,0.13948099320000001,0.098512575,0...</td>\n",
       "      <td>0.27324002981185913,0.1394810676574707,0.09851...</td>\n",
       "      <td>17</td>\n",
       "      <td>12</td>\n",
       "    </tr>\n",
       "    <tr>\n",
       "      <th>4</th>\n",
       "      <td>light fury</td>\n",
       "      <td>3915,3925,3919,3897,3934,3974,3901,3977,3936,5709</td>\n",
       "      <td>3915,3925,3919,3897,3934,3974,3901,3977,3936,2509</td>\n",
       "      <td>0.10463726520000001,0.1025660709,0.1001786441,...</td>\n",
       "      <td>0.10463713109493256,0.10256607085466385,0.1001...</td>\n",
       "      <td>10</td>\n",
       "      <td>10</td>\n",
       "    </tr>\n",
       "    <tr>\n",
       "      <th>...</th>\n",
       "      <td>...</td>\n",
       "      <td>...</td>\n",
       "      <td>...</td>\n",
       "      <td>...</td>\n",
       "      <td>...</td>\n",
       "      <td>...</td>\n",
       "      <td>...</td>\n",
       "    </tr>\n",
       "    <tr>\n",
       "      <th>104</th>\n",
       "      <td>a3 lightbox</td>\n",
       "      <td>1655,3925,1807,1606,1553,1626,1624,1552,516,1806</td>\n",
       "      <td>1655,3925,1807,1606,1553,1626,1624,1552,516</td>\n",
       "      <td>0.1126465723,0.061428383,0.056678447900000005,...</td>\n",
       "      <td>0.11264657974243164,0.06142842024564743,0.0566...</td>\n",
       "      <td>11</td>\n",
       "      <td>11</td>\n",
       "    </tr>\n",
       "    <tr>\n",
       "      <th>105</th>\n",
       "      <td>rollo steuerung</td>\n",
       "      <td>5876,1808,2898,1579,5885,132,5191,5195,1676,106</td>\n",
       "      <td>5876,1808,2898,1579,5885,132,5195,5191,1676,106</td>\n",
       "      <td>0.0697299764,0.0533983856,0.033307299000000005...</td>\n",
       "      <td>0.0697300061583519,0.05339837446808815,0.03330...</td>\n",
       "      <td>15</td>\n",
       "      <td>12</td>\n",
       "    </tr>\n",
       "    <tr>\n",
       "      <th>106</th>\n",
       "      <td>writing pens for sale</td>\n",
       "      <td>2046,2062,2082,2061,1410,2054,1887,2059,1488,2071</td>\n",
       "      <td>2046,2062,2082,2061,1410,2054,1887,1488,2059,2071</td>\n",
       "      <td>0.6720098853,0.2810544968,0.09873708340000001,...</td>\n",
       "      <td>0.6720098257064819,0.2810542583465576,0.098737...</td>\n",
       "      <td>21</td>\n",
       "      <td>11</td>\n",
       "    </tr>\n",
       "    <tr>\n",
       "      <th>107</th>\n",
       "      <td>boy soccer shoes</td>\n",
       "      <td>5245,5247,5232,4380,5240,4741,5251,5385,4767,5423</td>\n",
       "      <td>5245,5247,5232,4380,5240,4741,5385,5251,4767,5423</td>\n",
       "      <td>0.9222090244000001,0.0621442907,0.0406479277,0...</td>\n",
       "      <td>0.9222090244293213,0.06214426830410957,0.04064...</td>\n",
       "      <td>16</td>\n",
       "      <td>11</td>\n",
       "    </tr>\n",
       "    <tr>\n",
       "      <th>108</th>\n",
       "      <td>1 year boy</td>\n",
       "      <td>4333,5706,2501,4297,2502</td>\n",
       "      <td>4333,5706,4297,2501,2502</td>\n",
       "      <td>0.4981441498,0.2916781902,0.1366319805,0.13663...</td>\n",
       "      <td>0.4981439709663391,0.2916777729988098,0.136632...</td>\n",
       "      <td>10</td>\n",
       "      <td>10</td>\n",
       "    </tr>\n",
       "  </tbody>\n",
       "</table>\n",
       "<p>109 rows × 7 columns</p>\n",
       "</div>"
      ],
      "text/plain": [
       "                            query  \\\n",
       "0              maquina de neblina   \n",
       "1                    heron statue   \n",
       "2    forma silicone para airfryer   \n",
       "3               warme hose herren   \n",
       "4                      light fury   \n",
       "..                            ...   \n",
       "104                   a3 lightbox   \n",
       "105               rollo steuerung   \n",
       "106         writing pens for sale   \n",
       "107              boy soccer shoes   \n",
       "108                    1 year boy   \n",
       "\n",
       "                                                   dev  \\\n",
       "0            939,913,974,941,849,1210,917,5532,903,990   \n",
       "1    2714,2645,2661,2679,5709,5710,2655,2637,2685,2706   \n",
       "2    3012,3784,2930,2928,2929,2925,2947,2931,3797,2926   \n",
       "3    4182,4181,4190,4188,4191,6031,5222,4915,4179,5207   \n",
       "4    3915,3925,3919,3897,3934,3974,3901,3977,3936,5709   \n",
       "..                                                 ...   \n",
       "104   1655,3925,1807,1606,1553,1626,1624,1552,516,1806   \n",
       "105    5876,1808,2898,1579,5885,132,5191,5195,1676,106   \n",
       "106  2046,2062,2082,2061,1410,2054,1887,2059,1488,2071   \n",
       "107  5245,5247,5232,4380,5240,4741,5251,5385,4767,5423   \n",
       "108                           4333,5706,2501,4297,2502   \n",
       "\n",
       "                                                 stage  \\\n",
       "0            939,913,974,941,849,1210,917,5532,990,903   \n",
       "1         2714,2645,2661,2679,5709,5710,2655,2637,2685   \n",
       "2    3012,3784,2930,2929,2928,2925,2947,2931,3797,2926   \n",
       "3    4182,4181,4190,4188,4191,6031,5222,4915,5207,4179   \n",
       "4    3915,3925,3919,3897,3934,3974,3901,3977,3936,2509   \n",
       "..                                                 ...   \n",
       "104        1655,3925,1807,1606,1553,1626,1624,1552,516   \n",
       "105    5876,1808,2898,1579,5885,132,5195,5191,1676,106   \n",
       "106  2046,2062,2082,2061,1410,2054,1887,1488,2059,2071   \n",
       "107  5245,5247,5232,4380,5240,4741,5385,5251,4767,5423   \n",
       "108                           4333,5706,4297,2501,2502   \n",
       "\n",
       "                                               dev_wts  \\\n",
       "0    0.0999826565,0.0936938524,0.034436598400000004...   \n",
       "1    0.8939518332,0.7741752267,0.15834936500000002,...   \n",
       "2    0.39402872320000004,0.3507365286,0.1482180506,...   \n",
       "3    0.2732402384,0.13948099320000001,0.098512575,0...   \n",
       "4    0.10463726520000001,0.1025660709,0.1001786441,...   \n",
       "..                                                 ...   \n",
       "104  0.1126465723,0.061428383,0.056678447900000005,...   \n",
       "105  0.0697299764,0.0533983856,0.033307299000000005...   \n",
       "106  0.6720098853,0.2810544968,0.09873708340000001,...   \n",
       "107  0.9222090244000001,0.0621442907,0.0406479277,0...   \n",
       "108  0.4981441498,0.2916781902,0.1366319805,0.13663...   \n",
       "\n",
       "                                             stage_wts  query_len  \\\n",
       "0    0.09998270124197006,0.0936938151717186,0.03443...         18   \n",
       "1    0.8939518332481384,0.774175226688385,0.1583494...         12   \n",
       "2    0.3940284550189972,0.3507363796234131,0.148218...         28   \n",
       "3    0.27324002981185913,0.1394810676574707,0.09851...         17   \n",
       "4    0.10463713109493256,0.10256607085466385,0.1001...         10   \n",
       "..                                                 ...        ...   \n",
       "104  0.11264657974243164,0.06142842024564743,0.0566...         11   \n",
       "105  0.0697300061583519,0.05339837446808815,0.03330...         15   \n",
       "106  0.6720098257064819,0.2810542583465576,0.098737...         21   \n",
       "107  0.9222090244293213,0.06214426830410957,0.04064...         16   \n",
       "108  0.4981439709663391,0.2916777729988098,0.136632...         10   \n",
       "\n",
       "     query_tok_len  \n",
       "0               12  \n",
       "1               11  \n",
       "2               13  \n",
       "3               12  \n",
       "4               10  \n",
       "..             ...  \n",
       "104             11  \n",
       "105             12  \n",
       "106             11  \n",
       "107             11  \n",
       "108             10  \n",
       "\n",
       "[109 rows x 7 columns]"
      ]
     },
     "execution_count": 8,
     "metadata": {},
     "output_type": "execute_result"
    }
   ],
   "source": [
    "df[df.query_tok_len <= 50]"
   ]
  },
  {
   "cell_type": "code",
   "execution_count": 10,
   "metadata": {},
   "outputs": [],
   "source": [
    "weights_diff = []\n",
    "missed_weights = []\n",
    "added_weights = []\n",
    "for i in df.fillna('').to_dict('records'):\n",
    "    dev_wts = {}\n",
    "    stage_wts = {}\n",
    "    for k, v in zip(i['dev'].split(','), i['dev_wts'].split(',')):\n",
    "        if len(k) > 0:\n",
    "            dev_wts[k] = float(v) \n",
    "    for k, v in zip(i['stage'].split(','), i['stage_wts'].split(',')):\n",
    "        if len(k) > 0:\n",
    "            stage_wts[k] = float(v) \n",
    "    for k in dev_wts:\n",
    "        if k in stage_wts:\n",
    "            if not (-1e-4 < dev_wts[k] - stage_wts[k] < 1e-4):\n",
    "                weights_diff.append(i)\n",
    "                break\n",
    "    for k in dev_wts:\n",
    "        if k not in stage_wts:\n",
    "            missed_weights.append((i, k, dev_wts[k]))\n",
    "    for k in stage_wts:\n",
    "        if k not in dev_wts:\n",
    "            added_weights.append((i, k, stage_wts[k]))"
   ]
  },
  {
   "cell_type": "code",
   "execution_count": 12,
   "metadata": {},
   "outputs": [
    {
     "data": {
      "text/plain": [
       "(0, 26, 23)"
      ]
     },
     "execution_count": 12,
     "metadata": {},
     "output_type": "execute_result"
    }
   ],
   "source": [
    "len(weights_diff) ,len(missed_weights), len(added_weights)"
   ]
  },
  {
   "cell_type": "code",
   "execution_count": 13,
   "metadata": {},
   "outputs": [
    {
     "data": {
      "text/plain": [
       "0.0364044532"
      ]
     },
     "execution_count": 13,
     "metadata": {},
     "output_type": "execute_result"
    }
   ],
   "source": [
    "max([i[2] for i in missed_weights])"
   ]
  },
  {
   "cell_type": "code",
   "execution_count": 14,
   "metadata": {},
   "outputs": [
    {
     "data": {
      "text/plain": [
       "0.03695196658372879"
      ]
     },
     "execution_count": 14,
     "metadata": {},
     "output_type": "execute_result"
    }
   ],
   "source": [
    "max([i[2] for i in added_weights])"
   ]
  },
  {
   "cell_type": "code",
   "execution_count": 15,
   "metadata": {},
   "outputs": [
    {
     "data": {
      "text/plain": [
       "({'query': 'heron statue',\n",
       "  'dev': '2714,2645,2661,2679,5709,5710,2655,2637,2685,2706',\n",
       "  'stage': '2714,2645,2661,2679,5709,5710,2655,2637,2685',\n",
       "  'dev_wts': '0.8939518332,0.7741752267,0.15834936500000002,0.083498925,0.0129971635,0.0099004759,0.0090192771,0.0053493059,0.0037252039,0.0026474092',\n",
       "  'stage_wts': '0.8939518332481384,0.774175226688385,0.1583494246006012,0.08349880576133728,0.0129971569404006,0.009900451637804508,0.009019260294735432,0.005349303130060434,0.003725193440914154',\n",
       "  'query_len': 12,\n",
       "  'query_tok_len': 11},\n",
       " '2706',\n",
       " 0.0026474092)"
      ]
     },
     "execution_count": 15,
     "metadata": {},
     "output_type": "execute_result"
    }
   ],
   "source": [
    "missed_weights[0]"
   ]
  },
  {
   "cell_type": "code",
   "execution_count": 17,
   "metadata": {},
   "outputs": [
    {
     "data": {
      "text/plain": [
       "True"
      ]
     },
     "execution_count": 17,
     "metadata": {},
     "output_type": "execute_result"
    }
   ],
   "source": [
    "all([i[0]['dev'].endswith(i[1]) for i in missed_weights])"
   ]
  },
  {
   "cell_type": "code",
   "execution_count": 18,
   "metadata": {},
   "outputs": [
    {
     "data": {
      "text/plain": [
       "({'query': 'light fury',\n",
       "  'dev': '3915,3925,3919,3897,3934,3974,3901,3977,3936,5709',\n",
       "  'stage': '3915,3925,3919,3897,3934,3974,3901,3977,3936,2509',\n",
       "  'dev_wts': '0.10463726520000001,0.1025660709,0.1001786441,0.08273010700000001,0.07558809970000001,0.039496853900000004,0.0383832753,0.018651377400000002,0.0172215793,0.0164257511',\n",
       "  'stage_wts': '0.10463713109493256,0.10256607085466385,0.10017862915992737,0.08273006975650787,0.07558814436197281,0.03949686512351036,0.03838331997394562,0.018651414662599564,0.017221594229340553,0.01642579585313797',\n",
       "  'query_len': 10,\n",
       "  'query_tok_len': 10},\n",
       " '2509',\n",
       " 0.01642579585313797)"
      ]
     },
     "execution_count": 18,
     "metadata": {},
     "output_type": "execute_result"
    }
   ],
   "source": [
    "added_weights[0]"
   ]
  },
  {
   "cell_type": "code",
   "execution_count": 19,
   "metadata": {},
   "outputs": [
    {
     "data": {
      "text/plain": [
       "True"
      ]
     },
     "execution_count": 19,
     "metadata": {},
     "output_type": "execute_result"
    }
   ],
   "source": [
    "all([i[0]['stage'].endswith(i[1]) for i in added_weights])"
   ]
  },
  {
   "cell_type": "code",
   "execution_count": null,
   "metadata": {},
   "outputs": [],
   "source": []
  }
 ],
 "metadata": {
  "kernelspec": {
   "display_name": "Python 3",
   "language": "python",
   "name": "python3"
  },
  "language_info": {
   "codemirror_mode": {
    "name": "ipython",
    "version": 3
   },
   "file_extension": ".py",
   "mimetype": "text/x-python",
   "name": "python",
   "nbconvert_exporter": "python",
   "pygments_lexer": "ipython3",
   "version": "3.8.13"
  },
  "orig_nbformat": 4,
  "vscode": {
   "interpreter": {
    "hash": "949777d72b0d2535278d3dc13498b2535136f6dfe0678499012e853ee9abcab1"
   }
  }
 },
 "nbformat": 4,
 "nbformat_minor": 2
}
