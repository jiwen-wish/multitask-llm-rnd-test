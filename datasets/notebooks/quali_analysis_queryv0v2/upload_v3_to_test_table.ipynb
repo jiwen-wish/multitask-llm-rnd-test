{
 "cells": [
  {
   "cell_type": "code",
   "execution_count": 22,
   "metadata": {},
   "outputs": [],
   "source": [
    "import pandas as pd \n",
    "import dvc.api \n",
    "from tqdm import tqdm"
   ]
  },
  {
   "cell_type": "code",
   "execution_count": 23,
   "metadata": {},
   "outputs": [],
   "source": [
    "df_preds = pd.read_json(dvc.api.get_url( \n",
    "    'modelling/notebooks/quali_analyze_queryclassify/tahoe_20230311_v2v3_res.json',\n",
    "    repo='git@github.com:ContextLogic/multitask-llm-rnd.git'\n",
    "), lines=True, chunksize=1000)"
   ]
  },
  {
   "cell_type": "code",
   "execution_count": 24,
   "metadata": {},
   "outputs": [],
   "source": [
    "df_tax = pd.read_json(dvc.api.get_url( \n",
    "    'datasets/data/taxonomy/wish_newtax.json',\n",
    "    repo='git@github.com:ContextLogic/multitask-llm-rnd.git'\n",
    "), lines=True)"
   ]
  },
  {
   "cell_type": "code",
   "execution_count": 25,
   "metadata": {},
   "outputs": [],
   "source": [
    "tax2id = {}\n",
    "tax2name = {}\n",
    "for i in df_tax.to_dict('records'):\n",
    "    if len(i['category_path']) > 0:\n",
    "        tax2id[i['category_path'].lower()] = str(i['id'])\n",
    "        tax2name[i['category_path'].lower()] = i['category_path'].split(' > ')[-1]"
   ]
  },
  {
   "cell_type": "code",
   "execution_count": 26,
   "metadata": {},
   "outputs": [
    {
     "name": "stderr",
     "output_type": "stream",
     "text": [
      "6628it [38:26,  2.87it/s]\n"
     ]
    }
   ],
   "source": [
    "upload_recs = []\n",
    "for df_pred in tqdm(df_preds):\n",
    "    for rec in df_pred.to_dict('records'):\n",
    "        categories = []\n",
    "        weights = []\n",
    "        names = []\n",
    "        for cat, wt in rec['preds_v3']:\n",
    "            if cat not in tax2id:\n",
    "                assert cat == 'unknown'\n",
    "                break \n",
    "            else:\n",
    "                categories.append(tax2id[cat])\n",
    "                weights.append(str(wt))\n",
    "                names.append(tax2name[cat])\n",
    "        upload_rec = { \n",
    "            'query': rec['query'], \n",
    "            'categories': ','.join(categories),\n",
    "            'category_names': ','.join(names),\n",
    "            'weights': ','.join(weights),\n",
    "            'dt': '2023-03-14',\n",
    "            'model_version': 3, \n",
    "            'taxonomy_version': 121\n",
    "        }\n",
    "        upload_recs.append(upload_rec)\n",
    "df_upload = pd.DataFrame(upload_recs)"
   ]
  },
  {
   "cell_type": "code",
   "execution_count": 27,
   "metadata": {},
   "outputs": [
    {
     "data": {
      "text/html": [
       "<div>\n",
       "<style scoped>\n",
       "    .dataframe tbody tr th:only-of-type {\n",
       "        vertical-align: middle;\n",
       "    }\n",
       "\n",
       "    .dataframe tbody tr th {\n",
       "        vertical-align: top;\n",
       "    }\n",
       "\n",
       "    .dataframe thead th {\n",
       "        text-align: right;\n",
       "    }\n",
       "</style>\n",
       "<table border=\"1\" class=\"dataframe\">\n",
       "  <thead>\n",
       "    <tr style=\"text-align: right;\">\n",
       "      <th></th>\n",
       "      <th>query</th>\n",
       "      <th>categories</th>\n",
       "      <th>category_names</th>\n",
       "      <th>weights</th>\n",
       "      <th>dt</th>\n",
       "      <th>model_version</th>\n",
       "      <th>taxonomy_version</th>\n",
       "    </tr>\n",
       "  </thead>\n",
       "  <tbody>\n",
       "    <tr>\n",
       "      <th>6576261</th>\n",
       "      <td>alexa türschloss</td>\n",
       "      <td>3583,3545,4655,4653,3587,3590,3544,4657,4703,4700</td>\n",
       "      <td>Door Locks,Smart Home Controls,Electric Lock,D...</td>\n",
       "      <td>0.4993504286,0.2808485329,0.0398609601,0.02397...</td>\n",
       "      <td>2023-03-14</td>\n",
       "      <td>3</td>\n",
       "      <td>121</td>\n",
       "    </tr>\n",
       "    <tr>\n",
       "      <th>4283251</th>\n",
       "      <td>watches black and gold</td>\n",
       "      <td>5994,5972,5969,5993,5975,5974,5992,5976,2665</td>\n",
       "      <td>Women's Watches,Men's Watches,Watches,Women's ...</td>\n",
       "      <td>0.8134278655,0.6058135629,0.0718427449,0.07124...</td>\n",
       "      <td>2023-03-14</td>\n",
       "      <td>3</td>\n",
       "      <td>121</td>\n",
       "    </tr>\n",
       "  </tbody>\n",
       "</table>\n",
       "</div>"
      ],
      "text/plain": [
       "                          query  \\\n",
       "6576261        alexa türschloss   \n",
       "4283251  watches black and gold   \n",
       "\n",
       "                                                categories  \\\n",
       "6576261  3583,3545,4655,4653,3587,3590,3544,4657,4703,4700   \n",
       "4283251       5994,5972,5969,5993,5975,5974,5992,5976,2665   \n",
       "\n",
       "                                            category_names  \\\n",
       "6576261  Door Locks,Smart Home Controls,Electric Lock,D...   \n",
       "4283251  Women's Watches,Men's Watches,Watches,Women's ...   \n",
       "\n",
       "                                                   weights          dt  \\\n",
       "6576261  0.4993504286,0.2808485329,0.0398609601,0.02397...  2023-03-14   \n",
       "4283251  0.8134278655,0.6058135629,0.0718427449,0.07124...  2023-03-14   \n",
       "\n",
       "         model_version  taxonomy_version  \n",
       "6576261              3               121  \n",
       "4283251              3               121  "
      ]
     },
     "execution_count": 27,
     "metadata": {},
     "output_type": "execute_result"
    }
   ],
   "source": [
    "df_upload.sample(2)"
   ]
  },
  {
   "cell_type": "code",
   "execution_count": 28,
   "metadata": {},
   "outputs": [],
   "source": [
    "from tahoe import create_table, create_external_table, drop_external_table, execute_async\n",
    "from s3 import temp_bucket, get_s3_file_keys, upload_df_to_parquet\n",
    "import pandas as pd\n",
    "import logging\n",
    "logging.basicConfig(\n",
    "    format='%(asctime)s %(levelname)s: %(message)s',\n",
    "    level=logging.INFO\n",
    ")"
   ]
  },
  {
   "cell_type": "code",
   "execution_count": 29,
   "metadata": {},
   "outputs": [],
   "source": [
    "df_data = df_upload"
   ]
  },
  {
   "cell_type": "code",
   "execution_count": 31,
   "metadata": {},
   "outputs": [
    {
     "data": {
      "text/plain": [
       "6627925"
      ]
     },
     "execution_count": 31,
     "metadata": {},
     "output_type": "execute_result"
    }
   ],
   "source": [
    "len(df_data)"
   ]
  },
  {
   "cell_type": "code",
   "execution_count": 30,
   "metadata": {},
   "outputs": [
    {
     "name": "stderr",
     "output_type": "stream",
     "text": [
      "2023-03-14 23:48:19,926 INFO: USE `default`\n",
      "2023-03-14 23:48:20,927 INFO: DROP TABLE sweeper_dev.query_top_10_prediction_v3\n",
      "2023-03-14 23:48:21,703 INFO: The query returned no records.\n",
      "2023-03-14 23:48:22,062 INFO: USE `default`\n",
      "2023-03-14 23:48:22,943 INFO: \n",
      "    CREATE TABLE sweeper_dev.query_top_10_prediction_v3 (\n",
      "    query STRING,\n",
      "\tcategories STRING,\n",
      "\tcategory_names STRING,\n",
      "\tweights STRING\n",
      "    )\n",
      "    PARTITIONED BY (dt STRING,\n",
      "\tmodel_version INTEGER,\n",
      "\ttaxonomy_version INTEGER)\n",
      "LOCATION 's3://wish-tahoe-derived-us-west-2/sweeper_dev/query_top_10_prediction_v3'\n",
      "2023-03-14 23:48:23,766 INFO: The query returned no records.\n",
      "2023-03-14 23:48:24,158 INFO: USE `default`\n",
      "2023-03-14 23:48:25,047 INFO: \n",
      "    CREATE TABLE sweeper_dev.query_top_10_prediction_v3_temp (\n",
      "    query STRING,\n",
      "\tcategories STRING,\n",
      "\tcategory_names STRING,\n",
      "\tweights STRING,\n",
      "\tdt STRING,\n",
      "\tmodel_version INTEGER,\n",
      "\ttaxonomy_version INTEGER\n",
      "    )\n",
      "    \n",
      "STORED AS PARQUET\n",
      "LOCATION 's3://wish-tahoe-import-us-west-2/sweeper_dev/query_top_10_prediction_v3_temp'\n",
      "TBLPROPERTIES ('parquet.compression'='SNAPPY')\n",
      "2023-03-14 23:48:26,073 INFO: The query returned no records.\n"
     ]
    }
   ],
   "source": [
    "# Create the permanent table\n",
    "test_table = {\n",
    "    \"name\": \"query_top_10_prediction_v3\",\n",
    "    \"columns\": [\n",
    "        {\"name\": \"query\", \"type\": \"STRING\"},\n",
    "        {\"name\": \"categories\", \"type\": \"STRING\"},\n",
    "        {\"name\": \"category_names\", \"type\": \"STRING\"},\n",
    "        {\"name\": \"weights\", \"type\": \"STRING\"},\n",
    "    ], \n",
    "    \"partitions\": [\n",
    "        {\"name\": \"dt\", \"type\": \"STRING\"},\n",
    "        {\"name\": \"model_version\", \"type\": \"INTEGER\"},\n",
    "        {\"name\": \"taxonomy_version\", \"type\": \"INTEGER\"},\n",
    "    ]\n",
    "}\n",
    "db = \"sweeper_dev\"\n",
    "\n",
    "q = f\"DROP TABLE {db}.{test_table['name']}\"\n",
    "execute_async(q, engine=\"hive\")\n",
    "create_table(table_definition=test_table, db=db)\n",
    "\n",
    "temp_test_table = {\n",
    "    \"name\": \"query_top_10_prediction_v3_temp\",\n",
    "    \"columns\": [\n",
    "        {\"name\": \"query\", \"type\": \"STRING\"},\n",
    "        {\"name\": \"categories\", \"type\": \"STRING\"},\n",
    "        {\"name\": \"category_names\", \"type\": \"STRING\"},\n",
    "        {\"name\": \"weights\", \"type\": \"STRING\"},\n",
    "        {\"name\": \"dt\", \"type\": \"STRING\"},\n",
    "        {\"name\": \"model_version\", \"type\": \"INTEGER\"},\n",
    "        {\"name\": \"taxonomy_version\", \"type\": \"INTEGER\"},\n",
    "    ]\n",
    "}\n",
    "db = \"sweeper_dev\"\n",
    "\n",
    "create_external_table(\n",
    "    table_name=temp_test_table[\"name\"],\n",
    "    table_definition=temp_test_table,\n",
    "    db=db,\n",
    "    bucket=temp_bucket\n",
    ")\n"
   ]
  },
  {
   "cell_type": "code",
   "execution_count": 32,
   "metadata": {},
   "outputs": [
    {
     "name": "stderr",
     "output_type": "stream",
     "text": [
      "2023-03-14 23:48:40,682 INFO: Uploading DF (6627925, 7) records to sweeper_dev/query_top_10_prediction_v3_temp/data.parquet.\n",
      "2023-03-14 23:49:25,062 INFO: Uploaded DF (6627925, 7) to sweeper_dev/query_top_10_prediction_v3_temp/data.parquet.\n"
     ]
    }
   ],
   "source": [
    "\n",
    "upload_df_to_parquet(df_data, s3_bucket=temp_bucket, s3_key=\"sweeper_dev/query_top_10_prediction_v3_temp/data.parquet\")\n"
   ]
  },
  {
   "cell_type": "code",
   "execution_count": 33,
   "metadata": {},
   "outputs": [
    {
     "name": "stderr",
     "output_type": "stream",
     "text": [
      "2023-03-14 23:49:25,190 INFO: SELECT COUNT(*) FROM sweeper_dev.query_top_10_prediction_v3_temp\n"
     ]
    },
    {
     "data": {
      "text/plain": [
       "[(6627925,)]"
      ]
     },
     "execution_count": 33,
     "metadata": {},
     "output_type": "execute_result"
    }
   ],
   "source": [
    "\n",
    "q = f\"SELECT COUNT(*) FROM {db}.{temp_test_table['name']}\"\n",
    "execute_async(q)"
   ]
  },
  {
   "cell_type": "code",
   "execution_count": 35,
   "metadata": {},
   "outputs": [
    {
     "name": "stderr",
     "output_type": "stream",
     "text": [
      "2023-03-14 23:52:13,157 INFO: \n",
      "INSERT INTO sweeper_dev.query_top_10_prediction_v3\n",
      "SELECT query, categories, category_names, weights, dt, model_version, taxonomy_version\n",
      "FROM sweeper_dev.query_top_10_prediction_v3_temp\n",
      "\n"
     ]
    },
    {
     "data": {
      "text/plain": [
       "[(6627925,)]"
      ]
     },
     "execution_count": 35,
     "metadata": {},
     "output_type": "execute_result"
    }
   ],
   "source": [
    "# Copy data from the temp table to the permanent table\n",
    "# The partition field must be the last in the SELECT statement\n",
    "q = f\"\"\"\n",
    "INSERT INTO {db}.{test_table['name']}\n",
    "SELECT query, categories, category_names, weights, dt, model_version, taxonomy_version\n",
    "FROM {db}.{temp_test_table['name']}\n",
    "\"\"\"\n",
    "execute_async(q)"
   ]
  },
  {
   "cell_type": "code",
   "execution_count": 36,
   "metadata": {},
   "outputs": [
    {
     "name": "stderr",
     "output_type": "stream",
     "text": [
      "2023-03-14 23:52:53,288 INFO: SELECT COUNT(*) FROM sweeper_dev.query_top_10_prediction_v3\n"
     ]
    },
    {
     "data": {
      "text/plain": [
       "[(6627925,)]"
      ]
     },
     "execution_count": 36,
     "metadata": {},
     "output_type": "execute_result"
    }
   ],
   "source": [
    "q = f\"SELECT COUNT(*) FROM {db}.{test_table['name']}\"\n",
    "execute_async(q)"
   ]
  },
  {
   "cell_type": "code",
   "execution_count": 37,
   "metadata": {},
   "outputs": [
    {
     "name": "stderr",
     "output_type": "stream",
     "text": [
      "2023-03-14 23:53:06,473 INFO: USE `default`\n",
      "2023-03-14 23:53:07,276 INFO: \n",
      "    DROP TABLE IF EXISTS sweeper_dev.query_top_10_prediction_v3_temp\n",
      "    \n",
      "2023-03-14 23:53:08,076 INFO: The query returned no records.\n",
      "2023-03-14 23:53:08,078 INFO: Dropped sweeper_dev.query_top_10_prediction_v3_temp\n",
      "2023-03-14 23:53:08,568 INFO: Files in 's3://wish-tahoe-import-us-west-2/sweeper_dev/query_top_10_prediction_v3_temp are deleted.\n"
     ]
    }
   ],
   "source": [
    "# Optional: drop the external table\n",
    "drop_external_table(\n",
    "    db=db,\n",
    "    table_name=temp_test_table[\"name\"],\n",
    "    delete_files=True,\n",
    "    s3_bucket=temp_bucket,\n",
    "    s3_prefix=f'{db}/{temp_test_table[\"name\"]}', \n",
    ")"
   ]
  },
  {
   "cell_type": "code",
   "execution_count": null,
   "metadata": {},
   "outputs": [],
   "source": []
  }
 ],
 "metadata": {
  "kernelspec": {
   "display_name": "Python 3",
   "language": "python",
   "name": "python3"
  },
  "language_info": {
   "codemirror_mode": {
    "name": "ipython",
    "version": 3
   },
   "file_extension": ".py",
   "mimetype": "text/x-python",
   "name": "python",
   "nbconvert_exporter": "python",
   "pygments_lexer": "ipython3",
   "version": "3.8.13"
  },
  "orig_nbformat": 4,
  "vscode": {
   "interpreter": {
    "hash": "949777d72b0d2535278d3dc13498b2535136f6dfe0678499012e853ee9abcab1"
   }
  }
 },
 "nbformat": 4,
 "nbformat_minor": 2
}
