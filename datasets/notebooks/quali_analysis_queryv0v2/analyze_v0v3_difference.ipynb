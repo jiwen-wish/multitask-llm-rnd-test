{
 "cells": [
  {
   "cell_type": "code",
   "execution_count": 25,
   "metadata": {},
   "outputs": [],
   "source": [
    "import pandas as pd"
   ]
  },
  {
   "cell_type": "code",
   "execution_count": 26,
   "metadata": {},
   "outputs": [],
   "source": [
    "# df_ndcgs = pd.read_csv('control_vs_show-v1_queries_ndcg_difference_tables_with_v0v2.csv')\n",
    "df_toptorsotail = pd.read_csv('top_searched_queries_stats_with_v0v3.csv')"
   ]
  },
  {
   "cell_type": "code",
   "execution_count": 27,
   "metadata": {},
   "outputs": [],
   "source": [
    "# len(df_ndcgs)"
   ]
  },
  {
   "cell_type": "code",
   "execution_count": 28,
   "metadata": {},
   "outputs": [],
   "source": [
    "# df_ndcgs = df_ndcgs.dropna()"
   ]
  },
  {
   "cell_type": "code",
   "execution_count": 29,
   "metadata": {},
   "outputs": [],
   "source": [
    "# len(df_ndcgs)"
   ]
  },
  {
   "cell_type": "code",
   "execution_count": 30,
   "metadata": {},
   "outputs": [
    {
     "data": {
      "text/plain": [
       "3001"
      ]
     },
     "execution_count": 30,
     "metadata": {},
     "output_type": "execute_result"
    }
   ],
   "source": [
    "len(df_toptorsotail)"
   ]
  },
  {
   "cell_type": "code",
   "execution_count": 32,
   "metadata": {},
   "outputs": [],
   "source": [
    "df_toptorsotail = df_toptorsotail.dropna()"
   ]
  },
  {
   "cell_type": "code",
   "execution_count": 33,
   "metadata": {},
   "outputs": [
    {
     "data": {
      "text/plain": [
       "1132"
      ]
     },
     "execution_count": 33,
     "metadata": {},
     "output_type": "execute_result"
    }
   ],
   "source": [
    "len(df_toptorsotail)"
   ]
  },
  {
   "cell_type": "code",
   "execution_count": 34,
   "metadata": {},
   "outputs": [],
   "source": [
    "# df_ndcgs['v0_l2s'] = df_ndcgs['v0_category_paths'].apply(lambda x: [' > '.join(i.split(' > ')[:2]) for i in eval(x)] if isinstance(eval(x), list) else eval(x))\n",
    "# df_ndcgs['v2_l2s'] = df_ndcgs['v2_category_paths'].apply(lambda x: [' > '.join(i.split(' > ')[:2]) for i in eval(x)] if isinstance(eval(x), list) else eval(x))"
   ]
  },
  {
   "cell_type": "code",
   "execution_count": 35,
   "metadata": {},
   "outputs": [],
   "source": [
    "df_toptorsotail['v0_l2s'] = df_toptorsotail['v0_category_paths'].apply(lambda x: [' > '.join(i.split(' > ')[:2]) for i in eval(x)] if isinstance(eval(x), list) else eval(x))\n",
    "df_toptorsotail['v3_l2s'] = df_toptorsotail['v3_category_paths'].apply(lambda x: [' > '.join(i.split(' > ')[:2]) for i in eval(x)] if isinstance(eval(x), list) else eval(x))"
   ]
  },
  {
   "cell_type": "code",
   "execution_count": 36,
   "metadata": {},
   "outputs": [],
   "source": [
    "# recs = [] \n",
    "# for i in df_ndcgs.to_dict('records'):\n",
    "#     v0_l2s = set(i['v0_l2s'])\n",
    "#     v2_l2s = set(i['v2_l2s'])\n",
    "#     jc = len(v0_l2s.intersection(v2_l2s)) / len(v0_l2s.union(v2_l2s))\n",
    "#     i['v0v2_l2s_jaccard'] = jc\n",
    "#     recs.append(i)\n",
    "# df_ndcgs = pd.DataFrame(recs)\n",
    "\n",
    "recs = [] \n",
    "for i in df_toptorsotail.to_dict('records'):\n",
    "    v0_l2s = set(i['v0_l2s'])\n",
    "    v3_l2s = set(i['v3_l2s'])\n",
    "    jc = len(v0_l2s.intersection(v3_l2s)) / len(v0_l2s.union(v3_l2s))\n",
    "    i['v0v3_l2s_jaccard'] = jc\n",
    "    recs.append(i)\n",
    "df_toptorsotail = pd.DataFrame(recs)"
   ]
  },
  {
   "attachments": {},
   "cell_type": "markdown",
   "metadata": {},
   "source": [
    "# analyze ndcg"
   ]
  },
  {
   "cell_type": "code",
   "execution_count": 12,
   "metadata": {},
   "outputs": [],
   "source": [
    "# df_ndcgs['mean_lift'] = -(df_ndcgs['control - show-v1 NDCG @ 10'] + df_ndcgs['control - show-v1 NDCG @ 30'] + df_ndcgs['control - show-v1 NDCG @ 50'] + \\\n",
    "#     df_ndcgs['control - show-v1 NDCG @ 100'] + df_ndcgs['control - show-v1 NDCG @ 300']) / 5"
   ]
  },
  {
   "cell_type": "code",
   "execution_count": 13,
   "metadata": {},
   "outputs": [],
   "source": [
    "# df_ndcgs[['mean_lift', 'v0v2_l2s_jaccard']].corr()"
   ]
  },
  {
   "cell_type": "code",
   "execution_count": 14,
   "metadata": {},
   "outputs": [],
   "source": [
    "# df_ndcgs.sort_values('v0v2_l2s_jaccard').to_csv(\n",
    "#     'control_vs_show-v1_queries_ndcg_difference_tables_with_v0v2_with_jaccard.csv', index=False)"
   ]
  },
  {
   "cell_type": "code",
   "execution_count": 15,
   "metadata": {},
   "outputs": [],
   "source": [
    "# df_ndcgs.plot.scatter('mean_lift', 'v0v2_l2s_jaccard')"
   ]
  },
  {
   "cell_type": "code",
   "execution_count": 16,
   "metadata": {},
   "outputs": [],
   "source": [
    "# df_ndcgs[['query', 'query_type', 'v0_l2s', 'v2_l2s', 'v0v2_l2s_jaccard', 'mean_lift']].sort_values('v0v2_l2s_jaccard').head(10).to_dict('records')"
   ]
  },
  {
   "cell_type": "code",
   "execution_count": 17,
   "metadata": {},
   "outputs": [],
   "source": [
    "# df_ndcgs[['query', 'query_type', 'v0_l2s', 'v2_l2s', 'v0v2_l2s_jaccard', 'mean_lift']].sort_values('v0v2_l2s_jaccard', ascending=False).head(10).to_dict('records')"
   ]
  },
  {
   "cell_type": "code",
   "execution_count": 18,
   "metadata": {},
   "outputs": [],
   "source": [
    "# df_ndcgs[['query', 'query_type', 'v0_l2s', 'v2_l2s', 'v0v2_l2s_jaccard', 'mean_lift']].sort_values('mean_lift').head(10).to_dict('records')"
   ]
  },
  {
   "cell_type": "code",
   "execution_count": 19,
   "metadata": {},
   "outputs": [],
   "source": [
    "# df_ndcgs[['query', 'query_type', 'v0_l2s', 'v2_l2s', 'v0v2_l2s_jaccard', 'mean_lift']].sort_values('mean_lift', ascending=False).head(10).to_dict('records')"
   ]
  },
  {
   "attachments": {},
   "cell_type": "markdown",
   "metadata": {},
   "source": [
    "# analyze head torso tail"
   ]
  },
  {
   "cell_type": "code",
   "execution_count": 37,
   "metadata": {},
   "outputs": [
    {
     "data": {
      "text/plain": [
       "<AxesSubplot: ylabel='Frequency'>"
      ]
     },
     "execution_count": 37,
     "metadata": {},
     "output_type": "execute_result"
    },
    {
     "data": {
      "image/png": "[encoded data removed]",
      "text/plain": [
       "<Figure size 640x480 with 1 Axes>"
      ]
     },
     "metadata": {},
     "output_type": "display_data"
    }
   ],
   "source": [
    "df_toptorsotail.v0v3_l2s_jaccard.plot.hist()"
   ]
  },
  {
   "cell_type": "code",
   "execution_count": 38,
   "metadata": {},
   "outputs": [],
   "source": [
    "df_toptorsotail.sort_values('v0v3_l2s_jaccard').to_csv(\n",
    "    'top_searched_queries_stats_with_v0v3_with_jaccard.csv', index=False)"
   ]
  },
  {
   "cell_type": "code",
   "execution_count": null,
   "metadata": {},
   "outputs": [],
   "source": []
  }
 ],
 "metadata": {
  "kernelspec": {
   "display_name": "Python 3",
   "language": "python",
   "name": "python3"
  },
  "language_info": {
   "codemirror_mode": {
    "name": "ipython",
    "version": 3
   },
   "file_extension": ".py",
   "mimetype": "text/x-python",
   "name": "python",
   "nbconvert_exporter": "python",
   "pygments_lexer": "ipython3",
   "version": "3.8.13"
  },
  "orig_nbformat": 4,
  "vscode": {
   "interpreter": {
    "hash": "949777d72b0d2535278d3dc13498b2535136f6dfe0678499012e853ee9abcab1"
   }
  }
 },
 "nbformat": 4,
 "nbformat_minor": 2
}
