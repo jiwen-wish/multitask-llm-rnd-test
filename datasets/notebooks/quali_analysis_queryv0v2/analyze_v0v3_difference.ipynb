{
 "cells": [
  {
   "cell_type": "code",
   "execution_count": 2,
   "metadata": {},
   "outputs": [],
   "source": [
    "import pandas as pd"
   ]
  },
  {
   "cell_type": "code",
   "execution_count": 3,
   "metadata": {},
   "outputs": [],
   "source": [
    "df_ndcgs = pd.read_csv('control_vs_show-v1_queries_ndcg_difference_tables_with_v0v3.csv')\n",
    "df_toptorsotail = pd.read_csv('top_searched_queries_stats_with_v0v3.csv')"
   ]
  },
  {
   "cell_type": "code",
   "execution_count": 4,
   "metadata": {},
   "outputs": [
    {
     "data": {
      "text/plain": [
       "800"
      ]
     },
     "execution_count": 4,
     "metadata": {},
     "output_type": "execute_result"
    }
   ],
   "source": [
    "len(df_ndcgs)"
   ]
  },
  {
   "cell_type": "code",
   "execution_count": 5,
   "metadata": {},
   "outputs": [],
   "source": [
    "df_ndcgs = df_ndcgs.dropna()"
   ]
  },
  {
   "cell_type": "code",
   "execution_count": 6,
   "metadata": {},
   "outputs": [
    {
     "data": {
      "text/plain": [
       "782"
      ]
     },
     "execution_count": 6,
     "metadata": {},
     "output_type": "execute_result"
    }
   ],
   "source": [
    "len(df_ndcgs)"
   ]
  },
  {
   "cell_type": "code",
   "execution_count": 8,
   "metadata": {},
   "outputs": [
    {
     "data": {
      "text/plain": [
       "3001"
      ]
     },
     "execution_count": 8,
     "metadata": {},
     "output_type": "execute_result"
    }
   ],
   "source": [
    "len(df_toptorsotail)"
   ]
  },
  {
   "cell_type": "code",
   "execution_count": 9,
   "metadata": {},
   "outputs": [],
   "source": [
    "df_toptorsotail = df_toptorsotail.dropna()"
   ]
  },
  {
   "cell_type": "code",
   "execution_count": 10,
   "metadata": {},
   "outputs": [
    {
     "data": {
      "text/plain": [
       "1132"
      ]
     },
     "execution_count": 10,
     "metadata": {},
     "output_type": "execute_result"
    }
   ],
   "source": [
    "len(df_toptorsotail)"
   ]
  },
  {
   "cell_type": "code",
   "execution_count": 11,
   "metadata": {},
   "outputs": [],
   "source": [
    "df_ndcgs['v0_l2s'] = df_ndcgs['v0_category_paths'].apply(lambda x: [' > '.join(i.split(' > ')[:2]) for i in eval(x)] if isinstance(eval(x), list) else eval(x))\n",
    "df_ndcgs['v3_l2s'] = df_ndcgs['v3_category_paths'].apply(lambda x: [' > '.join(i.split(' > ')[:2]) for i in eval(x)] if isinstance(eval(x), list) else eval(x))"
   ]
  },
  {
   "cell_type": "code",
   "execution_count": 12,
   "metadata": {},
   "outputs": [],
   "source": [
    "df_toptorsotail['v0_l2s'] = df_toptorsotail['v0_category_paths'].apply(lambda x: [' > '.join(i.split(' > ')[:2]) for i in eval(x)] if isinstance(eval(x), list) else eval(x))\n",
    "df_toptorsotail['v3_l2s'] = df_toptorsotail['v3_category_paths'].apply(lambda x: [' > '.join(i.split(' > ')[:2]) for i in eval(x)] if isinstance(eval(x), list) else eval(x))"
   ]
  },
  {
   "cell_type": "code",
   "execution_count": 13,
   "metadata": {},
   "outputs": [],
   "source": [
    "recs = [] \n",
    "for i in df_ndcgs.to_dict('records'):\n",
    "    v0_l2s = set(i['v0_l2s'])\n",
    "    v3_l2s = set(i['v3_l2s'])\n",
    "    jc = len(v0_l2s.intersection(v3_l2s)) / len(v0_l2s.union(v3_l2s))\n",
    "    i['v0v3_l2s_jaccard'] = jc\n",
    "    recs.append(i)\n",
    "df_ndcgs = pd.DataFrame(recs)\n",
    "\n",
    "recs = [] \n",
    "for i in df_toptorsotail.to_dict('records'):\n",
    "    v0_l2s = set(i['v0_l2s'])\n",
    "    v3_l2s = set(i['v3_l2s'])\n",
    "    jc = len(v0_l2s.intersection(v3_l2s)) / len(v0_l2s.union(v3_l2s))\n",
    "    i['v0v3_l2s_jaccard'] = jc\n",
    "    recs.append(i)\n",
    "df_toptorsotail = pd.DataFrame(recs)"
   ]
  },
  {
   "attachments": {},
   "cell_type": "markdown",
   "metadata": {},
   "source": [
    "# analyze ndcg"
   ]
  },
  {
   "cell_type": "code",
   "execution_count": 14,
   "metadata": {},
   "outputs": [],
   "source": [
    "df_ndcgs['mean_lift'] = -(df_ndcgs['control - show-v1 NDCG @ 10'] + df_ndcgs['control - show-v1 NDCG @ 30'] + df_ndcgs['control - show-v1 NDCG @ 50'] + \\\n",
    "    df_ndcgs['control - show-v1 NDCG @ 100'] + df_ndcgs['control - show-v1 NDCG @ 300']) / 5"
   ]
  },
  {
   "cell_type": "code",
   "execution_count": 16,
   "metadata": {},
   "outputs": [
    {
     "data": {
      "text/html": [
       "<div>\n",
       "<style scoped>\n",
       "    .dataframe tbody tr th:only-of-type {\n",
       "        vertical-align: middle;\n",
       "    }\n",
       "\n",
       "    .dataframe tbody tr th {\n",
       "        vertical-align: top;\n",
       "    }\n",
       "\n",
       "    .dataframe thead th {\n",
       "        text-align: right;\n",
       "    }\n",
       "</style>\n",
       "<table border=\"1\" class=\"dataframe\">\n",
       "  <thead>\n",
       "    <tr style=\"text-align: right;\">\n",
       "      <th></th>\n",
       "      <th>mean_lift</th>\n",
       "      <th>v0v3_l2s_jaccard</th>\n",
       "    </tr>\n",
       "  </thead>\n",
       "  <tbody>\n",
       "    <tr>\n",
       "      <th>mean_lift</th>\n",
       "      <td>1.000000</td>\n",
       "      <td>0.014627</td>\n",
       "    </tr>\n",
       "    <tr>\n",
       "      <th>v0v3_l2s_jaccard</th>\n",
       "      <td>0.014627</td>\n",
       "      <td>1.000000</td>\n",
       "    </tr>\n",
       "  </tbody>\n",
       "</table>\n",
       "</div>"
      ],
      "text/plain": [
       "                  mean_lift  v0v3_l2s_jaccard\n",
       "mean_lift          1.000000          0.014627\n",
       "v0v3_l2s_jaccard   0.014627          1.000000"
      ]
     },
     "execution_count": 16,
     "metadata": {},
     "output_type": "execute_result"
    }
   ],
   "source": [
    "df_ndcgs[['mean_lift', 'v0v3_l2s_jaccard']].corr()"
   ]
  },
  {
   "cell_type": "code",
   "execution_count": 17,
   "metadata": {},
   "outputs": [],
   "source": [
    "df_ndcgs.sort_values('v0v3_l2s_jaccard').to_csv(\n",
    "    'control_vs_show-v1_queries_ndcg_difference_tables_with_v0v3_with_jaccard.csv', index=False)"
   ]
  },
  {
   "cell_type": "code",
   "execution_count": 19,
   "metadata": {},
   "outputs": [
    {
     "name": "stderr",
     "output_type": "stream",
     "text": [
      "/home/vscode/.local/lib/python3.8/site-packages/pandas/plotting/_matplotlib/core.py:1114: UserWarning: No data for colormapping provided via 'c'. Parameters 'cmap' will be ignored\n",
      "  scatter = ax.scatter(\n"
     ]
    },
    {
     "data": {
      "text/plain": [
       "<AxesSubplot: xlabel='mean_lift', ylabel='v0v3_l2s_jaccard'>"
      ]
     },
     "execution_count": 19,
     "metadata": {},
     "output_type": "execute_result"
    },
    {
     "data": {
      "image/png": "[encoded data removed]",
      "text/plain": [
       "<Figure size 640x480 with 1 Axes>"
      ]
     },
     "metadata": {},
     "output_type": "display_data"
    }
   ],
   "source": [
    "df_ndcgs.plot.scatter('mean_lift', 'v0v3_l2s_jaccard')"
   ]
  },
  {
   "cell_type": "code",
   "execution_count": 20,
   "metadata": {},
   "outputs": [
    {
     "data": {
      "text/plain": [
       "[{'query': 'slime',\n",
       "  'query_type': 'GMV-Pos',\n",
       "  'v0_l2s': ['Toys & Hobbies > Learning & Education',\n",
       "   'Toys & Hobbies',\n",
       "   'Toys & Hobbies > Learning & Education'],\n",
       "  'v3_l2s': ['Toys & Hobbies > Stress Relief Toys',\n",
       "   'Toys & Hobbies > Stress Relief Toys',\n",
       "   'Toys & Hobbies > Arts, Crafts & DIY Toys'],\n",
       "  'v0v3_l2s_jaccard': 0.0,\n",
       "  'mean_lift': 0.038607086},\n",
       " {'query': 'gucci',\n",
       "  'query_type': 'A2C-Pos',\n",
       "  'v0_l2s': [\"Men's Clothing > Men's Sets\",\n",
       "   \"Apparel Accessories > Men's Glasses\",\n",
       "   \"Watches > Men's Watches\",\n",
       "   'Jewelry & Accessories',\n",
       "   \"Apparel Accessories > Men's Belts\"],\n",
       "  'v3_l2s': [\"Luggage & Bags > Women's Bags\",\n",
       "   \"Men's Clothing\",\n",
       "   \"Women's Clothing\",\n",
       "   \"Luggage & Bags > Men's Bags\"],\n",
       "  'v0v3_l2s_jaccard': 0.0,\n",
       "  'mean_lift': 0.02559946},\n",
       " {'query': 'jordans',\n",
       "  'query_type': 'GMV-Neg',\n",
       "  'v0_l2s': [\"Men's Clothing > Men's Sets\",\n",
       "   'Jewelry & Accessories > Fine Jewelry',\n",
       "   \"Men's Clothing\"],\n",
       "  'v3_l2s': ['Sports > Sneakers',\n",
       "   \"Shoes > Men's Shoes\",\n",
       "   'Sports > Sneakers',\n",
       "   \"Shoes > Women's Shoes\",\n",
       "   \"Mother & Kids > Children's Shoes\",\n",
       "   \"Shoes > Men's Shoes\",\n",
       "   'Shoes',\n",
       "   \"Mother & Kids > Children's Shoes\",\n",
       "   'Sports > Sneakers',\n",
       "   \"Shoes > Men's Shoes\"],\n",
       "  'v0v3_l2s_jaccard': 0.0,\n",
       "  'mean_lift': -0.09248264199999999},\n",
       " {'query': 'slime',\n",
       "  'query_type': 'A2C-Pos',\n",
       "  'v0_l2s': ['Toys & Hobbies > Learning & Education',\n",
       "   'Toys & Hobbies',\n",
       "   'Toys & Hobbies > Learning & Education'],\n",
       "  'v3_l2s': ['Toys & Hobbies > Stress Relief Toys',\n",
       "   'Toys & Hobbies > Stress Relief Toys',\n",
       "   'Toys & Hobbies > Arts, Crafts & DIY Toys'],\n",
       "  'v0v3_l2s_jaccard': 0.0,\n",
       "  'mean_lift': 0.089239404},\n",
       " {'query': 'slime',\n",
       "  'query_type': 'A2C-Pos',\n",
       "  'v0_l2s': ['Toys & Hobbies > Learning & Education',\n",
       "   'Toys & Hobbies',\n",
       "   'Toys & Hobbies > Learning & Education'],\n",
       "  'v3_l2s': ['Toys & Hobbies > Stress Relief Toys',\n",
       "   'Toys & Hobbies > Stress Relief Toys',\n",
       "   'Toys & Hobbies > Arts, Crafts & DIY Toys'],\n",
       "  'v0v3_l2s_jaccard': 0.0,\n",
       "  'mean_lift': 0.030492302000000006},\n",
       " {'query': 'slime',\n",
       "  'query_type': 'CTR-Pos',\n",
       "  'v0_l2s': ['Toys & Hobbies > Learning & Education',\n",
       "   'Toys & Hobbies',\n",
       "   'Toys & Hobbies > Learning & Education'],\n",
       "  'v3_l2s': ['Toys & Hobbies > Stress Relief Toys',\n",
       "   'Toys & Hobbies > Stress Relief Toys',\n",
       "   'Toys & Hobbies > Arts, Crafts & DIY Toys'],\n",
       "  'v0v3_l2s_jaccard': 0.0,\n",
       "  'mean_lift': 0.057553884},\n",
       " {'query': 'slime',\n",
       "  'query_type': 'GMV-Pos',\n",
       "  'v0_l2s': ['Toys & Hobbies > Learning & Education',\n",
       "   'Toys & Hobbies',\n",
       "   'Toys & Hobbies > Learning & Education'],\n",
       "  'v3_l2s': ['Toys & Hobbies > Stress Relief Toys',\n",
       "   'Toys & Hobbies > Stress Relief Toys',\n",
       "   'Toys & Hobbies > Arts, Crafts & DIY Toys'],\n",
       "  'v0v3_l2s_jaccard': 0.0,\n",
       "  'mean_lift': 0.008107062000000002},\n",
       " {'query': 'jordans',\n",
       "  'query_type': 'A2C-Neg',\n",
       "  'v0_l2s': [\"Men's Clothing > Men's Sets\",\n",
       "   'Jewelry & Accessories > Fine Jewelry',\n",
       "   \"Men's Clothing\"],\n",
       "  'v3_l2s': ['Sports > Sneakers',\n",
       "   \"Shoes > Men's Shoes\",\n",
       "   'Sports > Sneakers',\n",
       "   \"Shoes > Women's Shoes\",\n",
       "   \"Mother & Kids > Children's Shoes\",\n",
       "   \"Shoes > Men's Shoes\",\n",
       "   'Shoes',\n",
       "   \"Mother & Kids > Children's Shoes\",\n",
       "   'Sports > Sneakers',\n",
       "   \"Shoes > Men's Shoes\"],\n",
       "  'v0v3_l2s_jaccard': 0.0,\n",
       "  'mean_lift': -0.008856946000000001},\n",
       " {'query': 'slime',\n",
       "  'query_type': 'Relevance-Pos',\n",
       "  'v0_l2s': ['Toys & Hobbies > Learning & Education',\n",
       "   'Toys & Hobbies',\n",
       "   'Toys & Hobbies > Learning & Education'],\n",
       "  'v3_l2s': ['Toys & Hobbies > Stress Relief Toys',\n",
       "   'Toys & Hobbies > Stress Relief Toys',\n",
       "   'Toys & Hobbies > Arts, Crafts & DIY Toys'],\n",
       "  'v0v3_l2s_jaccard': 0.0,\n",
       "  'mean_lift': 0.006647236000000001},\n",
       " {'query': 'goth',\n",
       "  'query_type': 'A2C-Neg',\n",
       "  'v0_l2s': ['Jewelry & Accessories',\n",
       "   'Jewelry & Accessories > Necklaces & Pendants',\n",
       "   'Jewelry & Accessories > Earrings',\n",
       "   \"Women's Clothing > Dresses\",\n",
       "   'Jewelry & Accessories > Jewelry Sets & More'],\n",
       "  'v3_l2s': [\"Women's Clothing > Tops\",\n",
       "   \"Women's Clothing\",\n",
       "   'Jewelry & Accessories > Customized Jewelry',\n",
       "   \"Men's Clothing > Tops & Tees\",\n",
       "   'Novelty & Special Use > Costumes & Accessories',\n",
       "   'Toys & Hobbies > Stuffed Animals & Plush Toys',\n",
       "   \"Men's Clothing\"],\n",
       "  'v0v3_l2s_jaccard': 0.0,\n",
       "  'mean_lift': -0.010084088}]"
      ]
     },
     "execution_count": 20,
     "metadata": {},
     "output_type": "execute_result"
    }
   ],
   "source": [
    "df_ndcgs[['query', 'query_type', 'v0_l2s', 'v3_l2s', 'v0v3_l2s_jaccard', 'mean_lift']].sort_values('v0v3_l2s_jaccard').head(10).to_dict('records')"
   ]
  },
  {
   "cell_type": "code",
   "execution_count": 21,
   "metadata": {},
   "outputs": [
    {
     "data": {
      "text/plain": [
       "[{'query': 'acrylic nail kit',\n",
       "  'query_type': 'CTR-Pos',\n",
       "  'v0_l2s': ['Beauty & Health > Nail Art & Tools',\n",
       "   'Beauty & Health > Nail Art & Tools',\n",
       "   'Beauty & Health > Nail Art & Tools'],\n",
       "  'v3_l2s': ['Beauty & Health > Nail Art & Tools',\n",
       "   'Beauty & Health > Nail Art & Tools',\n",
       "   'Beauty & Health > Nail Art & Tools',\n",
       "   'Beauty & Health > Nail Art & Tools',\n",
       "   'Beauty & Health > Nail Art & Tools',\n",
       "   'Beauty & Health > Nail Art & Tools',\n",
       "   'Beauty & Health > Nail Art & Tools',\n",
       "   'Beauty & Health > Nail Art & Tools',\n",
       "   'Beauty & Health > Nail Art & Tools',\n",
       "   'Beauty & Health > Nail Art & Tools'],\n",
       "  'v0v3_l2s_jaccard': 1.0,\n",
       "  'mean_lift': 0.013138044000000001},\n",
       " {'query': 'drone',\n",
       "  'query_type': 'GMV-Pos',\n",
       "  'v0_l2s': ['Toys & Hobbies > Remote Control Toys',\n",
       "   'Consumer Electronics > Camera & Photo',\n",
       "   'Toys & Hobbies > Remote Control Toys'],\n",
       "  'v3_l2s': ['Consumer Electronics > Camera & Photo',\n",
       "   'Consumer Electronics > Camera & Photo',\n",
       "   'Toys & Hobbies > Remote Control Toys',\n",
       "   'Consumer Electronics > Camera & Photo',\n",
       "   'Toys & Hobbies > Remote Control Toys',\n",
       "   'Toys & Hobbies > Remote Control Toys',\n",
       "   'Consumer Electronics > Camera & Photo',\n",
       "   'Consumer Electronics > Camera & Photo'],\n",
       "  'v0v3_l2s_jaccard': 1.0,\n",
       "  'mean_lift': 0.007254477999999999},\n",
       " {'query': 'gel nail polish',\n",
       "  'query_type': 'Relevance-Pos',\n",
       "  'v0_l2s': ['Beauty & Health > Nail Art & Tools',\n",
       "   'Beauty & Health > Nail Art & Tools',\n",
       "   'Beauty & Health > Nail Art & Tools'],\n",
       "  'v3_l2s': ['Beauty & Health > Nail Art & Tools',\n",
       "   'Beauty & Health > Nail Art & Tools',\n",
       "   'Beauty & Health > Nail Art & Tools',\n",
       "   'Beauty & Health > Nail Art & Tools',\n",
       "   'Beauty & Health > Nail Art & Tools',\n",
       "   'Beauty & Health > Nail Art & Tools',\n",
       "   'Beauty & Health > Nail Art & Tools',\n",
       "   'Beauty & Health > Nail Art & Tools',\n",
       "   'Beauty & Health > Nail Art & Tools',\n",
       "   'Beauty & Health > Nail Art & Tools'],\n",
       "  'v0v3_l2s_jaccard': 1.0,\n",
       "  'mean_lift': 0.006895210000000001},\n",
       " {'query': 'gel nail polish',\n",
       "  'query_type': 'CTR-Pos',\n",
       "  'v0_l2s': ['Beauty & Health > Nail Art & Tools',\n",
       "   'Beauty & Health > Nail Art & Tools',\n",
       "   'Beauty & Health > Nail Art & Tools'],\n",
       "  'v3_l2s': ['Beauty & Health > Nail Art & Tools',\n",
       "   'Beauty & Health > Nail Art & Tools',\n",
       "   'Beauty & Health > Nail Art & Tools',\n",
       "   'Beauty & Health > Nail Art & Tools',\n",
       "   'Beauty & Health > Nail Art & Tools',\n",
       "   'Beauty & Health > Nail Art & Tools',\n",
       "   'Beauty & Health > Nail Art & Tools',\n",
       "   'Beauty & Health > Nail Art & Tools',\n",
       "   'Beauty & Health > Nail Art & Tools',\n",
       "   'Beauty & Health > Nail Art & Tools'],\n",
       "  'v0v3_l2s_jaccard': 1.0,\n",
       "  'mean_lift': 0.076483214},\n",
       " {'query': 'gel nail polish',\n",
       "  'query_type': 'A2C-Pos',\n",
       "  'v0_l2s': ['Beauty & Health > Nail Art & Tools',\n",
       "   'Beauty & Health > Nail Art & Tools',\n",
       "   'Beauty & Health > Nail Art & Tools'],\n",
       "  'v3_l2s': ['Beauty & Health > Nail Art & Tools',\n",
       "   'Beauty & Health > Nail Art & Tools',\n",
       "   'Beauty & Health > Nail Art & Tools',\n",
       "   'Beauty & Health > Nail Art & Tools',\n",
       "   'Beauty & Health > Nail Art & Tools',\n",
       "   'Beauty & Health > Nail Art & Tools',\n",
       "   'Beauty & Health > Nail Art & Tools',\n",
       "   'Beauty & Health > Nail Art & Tools',\n",
       "   'Beauty & Health > Nail Art & Tools',\n",
       "   'Beauty & Health > Nail Art & Tools'],\n",
       "  'v0v3_l2s_jaccard': 1.0,\n",
       "  'mean_lift': 0.037534639999999994},\n",
       " {'query': 'drone',\n",
       "  'query_type': 'A2C-Pos',\n",
       "  'v0_l2s': ['Toys & Hobbies > Remote Control Toys',\n",
       "   'Consumer Electronics > Camera & Photo',\n",
       "   'Toys & Hobbies > Remote Control Toys'],\n",
       "  'v3_l2s': ['Consumer Electronics > Camera & Photo',\n",
       "   'Consumer Electronics > Camera & Photo',\n",
       "   'Toys & Hobbies > Remote Control Toys',\n",
       "   'Consumer Electronics > Camera & Photo',\n",
       "   'Toys & Hobbies > Remote Control Toys',\n",
       "   'Toys & Hobbies > Remote Control Toys',\n",
       "   'Consumer Electronics > Camera & Photo',\n",
       "   'Consumer Electronics > Camera & Photo'],\n",
       "  'v0v3_l2s_jaccard': 1.0,\n",
       "  'mean_lift': 0.015855462},\n",
       " {'query': 'drones professional 4k long distances',\n",
       "  'query_type': 'Relevance-Neg',\n",
       "  'v0_l2s': ['Toys & Hobbies > Remote Control Toys',\n",
       "   'Toys & Hobbies > Remote Control Toys',\n",
       "   'Consumer Electronics > Camera & Photo'],\n",
       "  'v3_l2s': ['Consumer Electronics > Camera & Photo',\n",
       "   'Consumer Electronics > Camera & Photo',\n",
       "   'Toys & Hobbies > Remote Control Toys',\n",
       "   'Consumer Electronics > Camera & Photo',\n",
       "   'Toys & Hobbies > Remote Control Toys',\n",
       "   'Toys & Hobbies > Remote Control Toys',\n",
       "   'Consumer Electronics > Camera & Photo',\n",
       "   'Toys & Hobbies > Remote Control Toys',\n",
       "   'Consumer Electronics > Camera & Photo',\n",
       "   'Consumer Electronics > Camera & Photo'],\n",
       "  'v0v3_l2s_jaccard': 1.0,\n",
       "  'mean_lift': -0.009548586000000001},\n",
       " {'query': 'acrylic nail kit',\n",
       "  'query_type': 'A2C-Pos',\n",
       "  'v0_l2s': ['Beauty & Health > Nail Art & Tools',\n",
       "   'Beauty & Health > Nail Art & Tools',\n",
       "   'Beauty & Health > Nail Art & Tools'],\n",
       "  'v3_l2s': ['Beauty & Health > Nail Art & Tools',\n",
       "   'Beauty & Health > Nail Art & Tools',\n",
       "   'Beauty & Health > Nail Art & Tools',\n",
       "   'Beauty & Health > Nail Art & Tools',\n",
       "   'Beauty & Health > Nail Art & Tools',\n",
       "   'Beauty & Health > Nail Art & Tools',\n",
       "   'Beauty & Health > Nail Art & Tools',\n",
       "   'Beauty & Health > Nail Art & Tools',\n",
       "   'Beauty & Health > Nail Art & Tools',\n",
       "   'Beauty & Health > Nail Art & Tools'],\n",
       "  'v0v3_l2s_jaccard': 1.0,\n",
       "  'mean_lift': 0.010106734000000001},\n",
       " {'query': 'drones professional 4k long distances',\n",
       "  'query_type': 'GMV-Neg',\n",
       "  'v0_l2s': ['Toys & Hobbies > Remote Control Toys',\n",
       "   'Toys & Hobbies > Remote Control Toys',\n",
       "   'Consumer Electronics > Camera & Photo'],\n",
       "  'v3_l2s': ['Consumer Electronics > Camera & Photo',\n",
       "   'Consumer Electronics > Camera & Photo',\n",
       "   'Toys & Hobbies > Remote Control Toys',\n",
       "   'Consumer Electronics > Camera & Photo',\n",
       "   'Toys & Hobbies > Remote Control Toys',\n",
       "   'Toys & Hobbies > Remote Control Toys',\n",
       "   'Consumer Electronics > Camera & Photo',\n",
       "   'Toys & Hobbies > Remote Control Toys',\n",
       "   'Consumer Electronics > Camera & Photo',\n",
       "   'Consumer Electronics > Camera & Photo'],\n",
       "  'v0v3_l2s_jaccard': 1.0,\n",
       "  'mean_lift': -0.027598944000000004},\n",
       " {'query': 'gel nail polish',\n",
       "  'query_type': 'GMV-Neg',\n",
       "  'v0_l2s': ['Beauty & Health > Nail Art & Tools',\n",
       "   'Beauty & Health > Nail Art & Tools',\n",
       "   'Beauty & Health > Nail Art & Tools'],\n",
       "  'v3_l2s': ['Beauty & Health > Nail Art & Tools',\n",
       "   'Beauty & Health > Nail Art & Tools',\n",
       "   'Beauty & Health > Nail Art & Tools',\n",
       "   'Beauty & Health > Nail Art & Tools',\n",
       "   'Beauty & Health > Nail Art & Tools',\n",
       "   'Beauty & Health > Nail Art & Tools',\n",
       "   'Beauty & Health > Nail Art & Tools',\n",
       "   'Beauty & Health > Nail Art & Tools',\n",
       "   'Beauty & Health > Nail Art & Tools',\n",
       "   'Beauty & Health > Nail Art & Tools'],\n",
       "  'v0v3_l2s_jaccard': 1.0,\n",
       "  'mean_lift': -0.008524396}]"
      ]
     },
     "execution_count": 21,
     "metadata": {},
     "output_type": "execute_result"
    }
   ],
   "source": [
    "df_ndcgs[['query', 'query_type', 'v0_l2s', 'v3_l2s', 'v0v3_l2s_jaccard', 'mean_lift']].sort_values('v0v3_l2s_jaccard', ascending=False).head(10).to_dict('records')"
   ]
  },
  {
   "cell_type": "code",
   "execution_count": 22,
   "metadata": {},
   "outputs": [
    {
     "data": {
      "text/plain": [
       "[{'query': 'guns for adults',\n",
       "  'query_type': 'A2C-Neg',\n",
       "  'v0_l2s': ['Toys & Hobbies > Outdoor Fun & Sports',\n",
       "   'Sports > Hunting',\n",
       "   'Sports',\n",
       "   'Tools > Hand Tools'],\n",
       "  'v3_l2s': ['Toys & Hobbies > Outdoor Fun & Sports',\n",
       "   'Sports > Hunting',\n",
       "   'Sports > Hunting',\n",
       "   'Sports > Shooting',\n",
       "   'Consumer Electronics > Video Games',\n",
       "   'Toys & Hobbies > Pools & Water Fun',\n",
       "   'Sports > Hunting',\n",
       "   'Tools > Power Tools',\n",
       "   'Sports > Shooting',\n",
       "   'Security & Protection > Self Defense Supplies'],\n",
       "  'v0v3_l2s_jaccard': 0.2222222222222222,\n",
       "  'mean_lift': -0.310927034},\n",
       " {'query': 'guns for adults',\n",
       "  'query_type': 'CTR-Neg',\n",
       "  'v0_l2s': ['Toys & Hobbies > Outdoor Fun & Sports',\n",
       "   'Sports > Hunting',\n",
       "   'Sports',\n",
       "   'Tools > Hand Tools'],\n",
       "  'v3_l2s': ['Toys & Hobbies > Outdoor Fun & Sports',\n",
       "   'Sports > Hunting',\n",
       "   'Sports > Hunting',\n",
       "   'Sports > Shooting',\n",
       "   'Consumer Electronics > Video Games',\n",
       "   'Toys & Hobbies > Pools & Water Fun',\n",
       "   'Sports > Hunting',\n",
       "   'Tools > Power Tools',\n",
       "   'Sports > Shooting',\n",
       "   'Security & Protection > Self Defense Supplies'],\n",
       "  'v0v3_l2s_jaccard': 0.2222222222222222,\n",
       "  'mean_lift': -0.28693662600000003},\n",
       " {'query': 'jewrely',\n",
       "  'query_type': 'GMV-Neg',\n",
       "  'v0_l2s': ['Jewelry & Accessories > Rings',\n",
       "   'Jewelry & Accessories',\n",
       "   'Jewelry & Accessories > Wedding & Engagement Jewelry',\n",
       "   'Jewelry & Accessories > Necklaces & Pendants'],\n",
       "  'v3_l2s': ['Jewelry & Accessories',\n",
       "   'Jewelry & Accessories > Rings',\n",
       "   'Jewelry & Accessories > Fine Jewelry',\n",
       "   'Jewelry & Accessories > Customized Jewelry',\n",
       "   'Jewelry & Accessories > Fine Jewelry',\n",
       "   'Jewelry & Accessories > Customized Jewelry'],\n",
       "  'v0v3_l2s_jaccard': 0.3333333333333333,\n",
       "  'mean_lift': -0.22275845600000005},\n",
       " {'query': 'flesh light',\n",
       "  'query_type': 'CTR-Neg',\n",
       "  'v0_l2s': ['Home Improvement > Lights & Lighting',\n",
       "   'Beauty & Health > Oral Hygiene',\n",
       "   'Home Improvement > Lights & Lighting',\n",
       "   'Home Improvement'],\n",
       "  'v3_l2s': ['Home Improvement > Lights & Lighting',\n",
       "   'Consumer Electronics > Camera & Photo',\n",
       "   'Home Improvement > Lights & Lighting',\n",
       "   'Home Improvement > Lights & Lighting',\n",
       "   'Home Improvement > Lights & Lighting',\n",
       "   'Home Improvement > Lights & Lighting',\n",
       "   'Home Improvement > Lights & Lighting',\n",
       "   'Toys & Hobbies > Novelty & Gag Toys',\n",
       "   'Home Improvement > Lights & Lighting',\n",
       "   'Sports > Hunting'],\n",
       "  'v0v3_l2s_jaccard': 0.16666666666666666,\n",
       "  'mean_lift': -0.18124293},\n",
       " {'query': 'rings for men',\n",
       "  'query_type': 'Relevance-Neg',\n",
       "  'v0_l2s': ['Jewelry & Accessories > Rings',\n",
       "   'Jewelry & Accessories > Wedding & Engagement Jewelry',\n",
       "   'Jewelry & Accessories'],\n",
       "  'v3_l2s': ['Jewelry & Accessories > Rings',\n",
       "   'Jewelry & Accessories > Customized Jewelry',\n",
       "   'Jewelry & Accessories > Wedding & Engagement Jewelry',\n",
       "   'Jewelry & Accessories > Wedding & Engagement Jewelry',\n",
       "   'Beauty & Health > Sexual Wellness',\n",
       "   'Jewelry & Accessories > Fine Jewelry',\n",
       "   'Jewelry & Accessories > Fine Jewelry',\n",
       "   'Jewelry & Accessories > Fine Jewelry',\n",
       "   'Beauty & Health > Sexual Wellness'],\n",
       "  'v0v3_l2s_jaccard': 0.3333333333333333,\n",
       "  'mean_lift': -0.180492302},\n",
       " {'query': 'rings for men',\n",
       "  'query_type': 'CTR-Neg',\n",
       "  'v0_l2s': ['Jewelry & Accessories > Rings',\n",
       "   'Jewelry & Accessories > Wedding & Engagement Jewelry',\n",
       "   'Jewelry & Accessories'],\n",
       "  'v3_l2s': ['Jewelry & Accessories > Rings',\n",
       "   'Jewelry & Accessories > Customized Jewelry',\n",
       "   'Jewelry & Accessories > Wedding & Engagement Jewelry',\n",
       "   'Jewelry & Accessories > Wedding & Engagement Jewelry',\n",
       "   'Beauty & Health > Sexual Wellness',\n",
       "   'Jewelry & Accessories > Fine Jewelry',\n",
       "   'Jewelry & Accessories > Fine Jewelry',\n",
       "   'Jewelry & Accessories > Fine Jewelry',\n",
       "   'Beauty & Health > Sexual Wellness'],\n",
       "  'v0v3_l2s_jaccard': 0.3333333333333333,\n",
       "  'mean_lift': -0.174748822},\n",
       " {'query': 'womens fashion',\n",
       "  'query_type': 'Relevance-Neg',\n",
       "  'v0_l2s': [\"Women's Clothing > Tops\",\n",
       "   \"Women's Clothing\",\n",
       "   \"Women's Clothing > Tops\"],\n",
       "  'v3_l2s': [\"Women's Clothing\",\n",
       "   \"Women's Clothing > Tops\",\n",
       "   \"Women's Clothing > Dresses\",\n",
       "   \"Women's Clothing > Matching Sets\",\n",
       "   \"Women's Clothing > Tops\",\n",
       "   \"Women's Clothing > Denim\",\n",
       "   \"Women's Clothing > Matching Sets\",\n",
       "   \"Men's Clothing\",\n",
       "   \"Women's Clothing > Tops\",\n",
       "   \"Women's Clothing > Denim\"],\n",
       "  'v0v3_l2s_jaccard': 0.3333333333333333,\n",
       "  'mean_lift': -0.16148578200000002},\n",
       " {'query': 'pocket pussy',\n",
       "  'query_type': 'A2C-Neg',\n",
       "  'v0_l2s': ['Beauty & Health > Sexual Wellness',\n",
       "   'Beauty & Health',\n",
       "   'Beauty & Health > Sexual Wellness'],\n",
       "  'v3_l2s': ['Beauty & Health > Sexual Wellness',\n",
       "   'Beauty & Health > Sexual Wellness',\n",
       "   'Beauty & Health > Sexual Wellness',\n",
       "   'Beauty & Health > Sexual Wellness',\n",
       "   'Beauty & Health > Sexual Wellness',\n",
       "   'Beauty & Health > Sexual Wellness',\n",
       "   'Beauty & Health > Sexual Wellness',\n",
       "   'Beauty & Health > Sexual Wellness',\n",
       "   'Beauty & Health > Sexual Wellness'],\n",
       "  'v0v3_l2s_jaccard': 0.5,\n",
       "  'mean_lift': -0.141933328},\n",
       " {'query': 'guns for adults',\n",
       "  'query_type': 'Relevance-Neg',\n",
       "  'v0_l2s': ['Toys & Hobbies > Outdoor Fun & Sports',\n",
       "   'Sports > Hunting',\n",
       "   'Sports',\n",
       "   'Tools > Hand Tools'],\n",
       "  'v3_l2s': ['Toys & Hobbies > Outdoor Fun & Sports',\n",
       "   'Sports > Hunting',\n",
       "   'Sports > Hunting',\n",
       "   'Sports > Shooting',\n",
       "   'Consumer Electronics > Video Games',\n",
       "   'Toys & Hobbies > Pools & Water Fun',\n",
       "   'Sports > Hunting',\n",
       "   'Tools > Power Tools',\n",
       "   'Sports > Shooting',\n",
       "   'Security & Protection > Self Defense Supplies'],\n",
       "  'v0v3_l2s_jaccard': 0.2222222222222222,\n",
       "  'mean_lift': -0.141303462},\n",
       " {'query': 'flesh light',\n",
       "  'query_type': 'CTR-Neg',\n",
       "  'v0_l2s': ['Home Improvement > Lights & Lighting',\n",
       "   'Beauty & Health > Oral Hygiene',\n",
       "   'Home Improvement > Lights & Lighting',\n",
       "   'Home Improvement'],\n",
       "  'v3_l2s': ['Home Improvement > Lights & Lighting',\n",
       "   'Consumer Electronics > Camera & Photo',\n",
       "   'Home Improvement > Lights & Lighting',\n",
       "   'Home Improvement > Lights & Lighting',\n",
       "   'Home Improvement > Lights & Lighting',\n",
       "   'Home Improvement > Lights & Lighting',\n",
       "   'Home Improvement > Lights & Lighting',\n",
       "   'Toys & Hobbies > Novelty & Gag Toys',\n",
       "   'Home Improvement > Lights & Lighting',\n",
       "   'Sports > Hunting'],\n",
       "  'v0v3_l2s_jaccard': 0.16666666666666666,\n",
       "  'mean_lift': -0.13744014}]"
      ]
     },
     "execution_count": 22,
     "metadata": {},
     "output_type": "execute_result"
    }
   ],
   "source": [
    "df_ndcgs[['query', 'query_type', 'v0_l2s', 'v3_l2s', 'v0v3_l2s_jaccard', 'mean_lift']].sort_values('mean_lift').head(10).to_dict('records')"
   ]
  },
  {
   "cell_type": "code",
   "execution_count": 23,
   "metadata": {},
   "outputs": [
    {
     "data": {
      "text/plain": [
       "[{'query': 'yeezy slides',\n",
       "  'query_type': 'Relevance-Pos',\n",
       "  'v0_l2s': [\"Shoes > Men's Shoes\", 'Sports > Sneakers', 'Shoes'],\n",
       "  'v3_l2s': [\"Shoes > Women's Shoes\",\n",
       "   \"Shoes > Men's Shoes\",\n",
       "   \"Mother & Kids > Children's Shoes\",\n",
       "   \"Shoes > Women's Shoes\",\n",
       "   \"Mother & Kids > Children's Shoes\",\n",
       "   \"Shoes > Men's Shoes\",\n",
       "   \"Shoes > Men's Shoes\",\n",
       "   \"Shoes > Women's Shoes\",\n",
       "   'Sports > Sneakers',\n",
       "   'Mother & Kids > Baby Shoes'],\n",
       "  'v0v3_l2s_jaccard': 0.3333333333333333,\n",
       "  'mean_lift': 0.8217077960000001},\n",
       " {'query': 'squishmallows',\n",
       "  'query_type': 'CTR-Pos',\n",
       "  'v0_l2s': ['Toys & Hobbies > Stuffed Animals & Plush Toys',\n",
       "   'Toys & Hobbies > Stuffed Animals & Plush Toys',\n",
       "   'Toys & Hobbies'],\n",
       "  'v3_l2s': ['Toys & Hobbies > Stuffed Animals & Plush Toys',\n",
       "   'Toys & Hobbies > Stuffed Animals & Plush Toys',\n",
       "   'Toys & Hobbies > Stuffed Animals & Plush Toys',\n",
       "   'Toys & Hobbies > Stuffed Animals & Plush Toys',\n",
       "   'Toys & Hobbies > Stuffed Animals & Plush Toys',\n",
       "   'Toys & Hobbies > Stress Relief Toys',\n",
       "   'Toys & Hobbies > Stuffed Animals & Plush Toys',\n",
       "   'Home & Garden > Home Textile',\n",
       "   'Toys & Hobbies > Stuffed Animals & Plush Toys',\n",
       "   'Toys & Hobbies > Stress Relief Toys'],\n",
       "  'v0v3_l2s_jaccard': 0.25,\n",
       "  'mean_lift': 0.27810535999999997},\n",
       " {'query': 'kaws',\n",
       "  'query_type': 'CTR-Pos',\n",
       "  'v0_l2s': ['Home & Garden > Home Textile',\n",
       "   'Home & Garden > Home Decor',\n",
       "   'Toys & Hobbies > Novelty & Gag Toys',\n",
       "   'Toys & Hobbies > Stuffed Animals & Plush Toys'],\n",
       "  'v3_l2s': ['Toys & Hobbies > Action & Toy Figures',\n",
       "   'Toys & Hobbies > Stuffed Animals & Plush Toys',\n",
       "   'Toys & Hobbies > Action & Toy Figures',\n",
       "   'Toys & Hobbies > Hobby & Collectibles',\n",
       "   'Home & Garden > Home Decor',\n",
       "   'Toys & Hobbies > Stuffed Animals & Plush Toys',\n",
       "   'Food',\n",
       "   'Education & Office Supplies > Books & Magazines'],\n",
       "  'v0v3_l2s_jaccard': 0.25,\n",
       "  'mean_lift': 0.265981982},\n",
       " {'query': 'kaws',\n",
       "  'query_type': 'A2C-Pos',\n",
       "  'v0_l2s': ['Home & Garden > Home Textile',\n",
       "   'Home & Garden > Home Decor',\n",
       "   'Toys & Hobbies > Novelty & Gag Toys',\n",
       "   'Toys & Hobbies > Stuffed Animals & Plush Toys'],\n",
       "  'v3_l2s': ['Toys & Hobbies > Action & Toy Figures',\n",
       "   'Toys & Hobbies > Stuffed Animals & Plush Toys',\n",
       "   'Toys & Hobbies > Action & Toy Figures',\n",
       "   'Toys & Hobbies > Hobby & Collectibles',\n",
       "   'Home & Garden > Home Decor',\n",
       "   'Toys & Hobbies > Stuffed Animals & Plush Toys',\n",
       "   'Food',\n",
       "   'Education & Office Supplies > Books & Magazines'],\n",
       "  'v0v3_l2s_jaccard': 0.25,\n",
       "  'mean_lift': 0.26226092199999995},\n",
       " {'query': 'yeezy slides',\n",
       "  'query_type': 'CTR-Pos',\n",
       "  'v0_l2s': [\"Shoes > Men's Shoes\", 'Sports > Sneakers', 'Shoes'],\n",
       "  'v3_l2s': [\"Shoes > Women's Shoes\",\n",
       "   \"Shoes > Men's Shoes\",\n",
       "   \"Mother & Kids > Children's Shoes\",\n",
       "   \"Shoes > Women's Shoes\",\n",
       "   \"Mother & Kids > Children's Shoes\",\n",
       "   \"Shoes > Men's Shoes\",\n",
       "   \"Shoes > Men's Shoes\",\n",
       "   \"Shoes > Women's Shoes\",\n",
       "   'Sports > Sneakers',\n",
       "   'Mother & Kids > Baby Shoes'],\n",
       "  'v0v3_l2s_jaccard': 0.3333333333333333,\n",
       "  'mean_lift': 0.20610580599999997},\n",
       " {'query': 'iphone 11',\n",
       "  'query_type': 'GMV-Pos',\n",
       "  'v0_l2s': ['Cellphones & Telecommunications > Mobile Phone Accessories',\n",
       "   'Cellphones & Telecommunications',\n",
       "   'Cellphones & Telecommunications > iPhones',\n",
       "   'Cellphones & Telecommunications > Phone Bags & Cases'],\n",
       "  'v3_l2s': ['Cellphones & Telecommunications > iPhones',\n",
       "   'Cellphones & Telecommunications > Mobile Phone Accessories',\n",
       "   'Cellphones & Telecommunications > Cellphones',\n",
       "   'Cellphones & Telecommunications > Mobile Phone Accessories',\n",
       "   'Cellphones & Telecommunications > Mobile Phone Parts',\n",
       "   'Cellphones & Telecommunications > Refurbished Phones',\n",
       "   'Cellphones & Telecommunications > Phone Bags & Cases',\n",
       "   'Cellphones & Telecommunications > Phone Bags & Cases',\n",
       "   'Cellphones & Telecommunications > Mobile Phone Accessories',\n",
       "   'Cellphones & Telecommunications > Phone Bags & Cases'],\n",
       "  'v0v3_l2s_jaccard': 0.42857142857142855,\n",
       "  'mean_lift': 0.18787803},\n",
       " {'query': 'squishmallows',\n",
       "  'query_type': 'A2C-Pos',\n",
       "  'v0_l2s': ['Toys & Hobbies > Stuffed Animals & Plush Toys',\n",
       "   'Toys & Hobbies > Stuffed Animals & Plush Toys',\n",
       "   'Toys & Hobbies'],\n",
       "  'v3_l2s': ['Toys & Hobbies > Stuffed Animals & Plush Toys',\n",
       "   'Toys & Hobbies > Stuffed Animals & Plush Toys',\n",
       "   'Toys & Hobbies > Stuffed Animals & Plush Toys',\n",
       "   'Toys & Hobbies > Stuffed Animals & Plush Toys',\n",
       "   'Toys & Hobbies > Stuffed Animals & Plush Toys',\n",
       "   'Toys & Hobbies > Stress Relief Toys',\n",
       "   'Toys & Hobbies > Stuffed Animals & Plush Toys',\n",
       "   'Home & Garden > Home Textile',\n",
       "   'Toys & Hobbies > Stuffed Animals & Plush Toys',\n",
       "   'Toys & Hobbies > Stress Relief Toys'],\n",
       "  'v0v3_l2s_jaccard': 0.25,\n",
       "  'mean_lift': 0.165720416},\n",
       " {'query': 'guns for adults',\n",
       "  'query_type': 'A2C-Pos',\n",
       "  'v0_l2s': ['Toys & Hobbies > Outdoor Fun & Sports',\n",
       "   'Sports > Hunting',\n",
       "   'Sports',\n",
       "   'Tools > Hand Tools'],\n",
       "  'v3_l2s': ['Toys & Hobbies > Outdoor Fun & Sports',\n",
       "   'Sports > Hunting',\n",
       "   'Sports > Hunting',\n",
       "   'Sports > Shooting',\n",
       "   'Consumer Electronics > Video Games',\n",
       "   'Toys & Hobbies > Pools & Water Fun',\n",
       "   'Sports > Hunting',\n",
       "   'Tools > Power Tools',\n",
       "   'Sports > Shooting',\n",
       "   'Security & Protection > Self Defense Supplies'],\n",
       "  'v0v3_l2s_jaccard': 0.2222222222222222,\n",
       "  'mean_lift': 0.16261737999999998},\n",
       " {'query': 'squishmallows',\n",
       "  'query_type': 'GMV-Pos',\n",
       "  'v0_l2s': ['Toys & Hobbies > Stuffed Animals & Plush Toys',\n",
       "   'Toys & Hobbies > Stuffed Animals & Plush Toys',\n",
       "   'Toys & Hobbies'],\n",
       "  'v3_l2s': ['Toys & Hobbies > Stuffed Animals & Plush Toys',\n",
       "   'Toys & Hobbies > Stuffed Animals & Plush Toys',\n",
       "   'Toys & Hobbies > Stuffed Animals & Plush Toys',\n",
       "   'Toys & Hobbies > Stuffed Animals & Plush Toys',\n",
       "   'Toys & Hobbies > Stuffed Animals & Plush Toys',\n",
       "   'Toys & Hobbies > Stress Relief Toys',\n",
       "   'Toys & Hobbies > Stuffed Animals & Plush Toys',\n",
       "   'Home & Garden > Home Textile',\n",
       "   'Toys & Hobbies > Stuffed Animals & Plush Toys',\n",
       "   'Toys & Hobbies > Stress Relief Toys'],\n",
       "  'v0v3_l2s_jaccard': 0.25,\n",
       "  'mean_lift': 0.147164876},\n",
       " {'query': 'yeezy slides',\n",
       "  'query_type': 'A2C-Pos',\n",
       "  'v0_l2s': [\"Shoes > Men's Shoes\", 'Sports > Sneakers', 'Shoes'],\n",
       "  'v3_l2s': [\"Shoes > Women's Shoes\",\n",
       "   \"Shoes > Men's Shoes\",\n",
       "   \"Mother & Kids > Children's Shoes\",\n",
       "   \"Shoes > Women's Shoes\",\n",
       "   \"Mother & Kids > Children's Shoes\",\n",
       "   \"Shoes > Men's Shoes\",\n",
       "   \"Shoes > Men's Shoes\",\n",
       "   \"Shoes > Women's Shoes\",\n",
       "   'Sports > Sneakers',\n",
       "   'Mother & Kids > Baby Shoes'],\n",
       "  'v0v3_l2s_jaccard': 0.3333333333333333,\n",
       "  'mean_lift': 0.14346050400000002}]"
      ]
     },
     "execution_count": 23,
     "metadata": {},
     "output_type": "execute_result"
    }
   ],
   "source": [
    "df_ndcgs[['query', 'query_type', 'v0_l2s', 'v3_l2s', 'v0v3_l2s_jaccard', 'mean_lift']].sort_values('mean_lift', ascending=False).head(10).to_dict('records')"
   ]
  },
  {
   "attachments": {},
   "cell_type": "markdown",
   "metadata": {},
   "source": [
    "# analyze head torso tail"
   ]
  },
  {
   "cell_type": "code",
   "execution_count": 37,
   "metadata": {},
   "outputs": [
    {
     "data": {
      "text/plain": [
       "<AxesSubplot: ylabel='Frequency'>"
      ]
     },
     "execution_count": 37,
     "metadata": {},
     "output_type": "execute_result"
    },
    {
     "data": {
      "image/png": "[encoded data removed]",
      "text/plain": [
       "<Figure size 640x480 with 1 Axes>"
      ]
     },
     "metadata": {},
     "output_type": "display_data"
    }
   ],
   "source": [
    "df_toptorsotail.v0v3_l2s_jaccard.plot.hist()"
   ]
  },
  {
   "cell_type": "code",
   "execution_count": 38,
   "metadata": {},
   "outputs": [],
   "source": [
    "df_toptorsotail.sort_values('v0v3_l2s_jaccard').to_csv(\n",
    "    'top_searched_queries_stats_with_v0v3_with_jaccard.csv', index=False)"
   ]
  },
  {
   "cell_type": "code",
   "execution_count": null,
   "metadata": {},
   "outputs": [],
   "source": []
  }
 ],
 "metadata": {
  "kernelspec": {
   "display_name": "Python 3",
   "language": "python",
   "name": "python3"
  },
  "language_info": {
   "codemirror_mode": {
    "name": "ipython",
    "version": 3
   },
   "file_extension": ".py",
   "mimetype": "text/x-python",
   "name": "python",
   "nbconvert_exporter": "python",
   "pygments_lexer": "ipython3",
   "version": "3.8.13"
  },
  "orig_nbformat": 4,
  "vscode": {
   "interpreter": {
    "hash": "949777d72b0d2535278d3dc13498b2535136f6dfe0678499012e853ee9abcab1"
   }
  }
 },
 "nbformat": 4,
 "nbformat_minor": 2
}
