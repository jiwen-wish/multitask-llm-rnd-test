{
 "cells": [
  {
   "cell_type": "code",
   "execution_count": 1,
   "metadata": {},
   "outputs": [],
   "source": [
    "import pandas as pd"
   ]
  },
  {
   "cell_type": "code",
   "execution_count": 2,
   "metadata": {},
   "outputs": [],
   "source": [
    "df_ndcgs = pd.read_csv('control_vs_show-v1_queries_ndcg_difference_tables_with_v0v2.csv')\n",
    "df_toptorsotail = pd.read_csv('top_searched_queries_stats_with_v0v2.csv')"
   ]
  },
  {
   "cell_type": "code",
   "execution_count": 15,
   "metadata": {},
   "outputs": [
    {
     "data": {
      "text/plain": [
       "800"
      ]
     },
     "execution_count": 15,
     "metadata": {},
     "output_type": "execute_result"
    }
   ],
   "source": [
    "len(df_ndcgs)"
   ]
  },
  {
   "cell_type": "code",
   "execution_count": 16,
   "metadata": {},
   "outputs": [],
   "source": [
    "df_ndcgs = df_ndcgs.dropna()"
   ]
  },
  {
   "cell_type": "code",
   "execution_count": 18,
   "metadata": {},
   "outputs": [
    {
     "data": {
      "text/plain": [
       "798"
      ]
     },
     "execution_count": 18,
     "metadata": {},
     "output_type": "execute_result"
    }
   ],
   "source": [
    "len(df_ndcgs)"
   ]
  },
  {
   "cell_type": "code",
   "execution_count": 20,
   "metadata": {},
   "outputs": [
    {
     "data": {
      "text/plain": [
       "3001"
      ]
     },
     "execution_count": 20,
     "metadata": {},
     "output_type": "execute_result"
    }
   ],
   "source": [
    "len(df_toptorsotail)"
   ]
  },
  {
   "cell_type": "code",
   "execution_count": 21,
   "metadata": {},
   "outputs": [],
   "source": [
    "df_toptorsotail = df_toptorsotail.dropna()"
   ]
  },
  {
   "cell_type": "code",
   "execution_count": 22,
   "metadata": {},
   "outputs": [
    {
     "data": {
      "text/plain": [
       "1186"
      ]
     },
     "execution_count": 22,
     "metadata": {},
     "output_type": "execute_result"
    }
   ],
   "source": [
    "len(df_toptorsotail)"
   ]
  },
  {
   "cell_type": "code",
   "execution_count": 25,
   "metadata": {},
   "outputs": [
    {
     "name": "stderr",
     "output_type": "stream",
     "text": [
      "/tmp/ipykernel_26844/3409624863.py:1: SettingWithCopyWarning: \n",
      "A value is trying to be set on a copy of a slice from a DataFrame.\n",
      "Try using .loc[row_indexer,col_indexer] = value instead\n",
      "\n",
      "See the caveats in the documentation: https://pandas.pydata.org/pandas-docs/stable/user_guide/indexing.html#returning-a-view-versus-a-copy\n",
      "  df_ndcgs['v0_l2s'] = df_ndcgs['v0_category_paths'].apply(lambda x: [' > '.join(i.split(' > ')[:2]) for i in eval(x)] if isinstance(eval(x), list) else eval(x))\n",
      "/tmp/ipykernel_26844/3409624863.py:2: SettingWithCopyWarning: \n",
      "A value is trying to be set on a copy of a slice from a DataFrame.\n",
      "Try using .loc[row_indexer,col_indexer] = value instead\n",
      "\n",
      "See the caveats in the documentation: https://pandas.pydata.org/pandas-docs/stable/user_guide/indexing.html#returning-a-view-versus-a-copy\n",
      "  df_ndcgs['v2_l2s'] = df_ndcgs['v2_category_paths'].apply(lambda x: [' > '.join(i.split(' > ')[:2]) for i in eval(x)] if isinstance(eval(x), list) else eval(x))\n"
     ]
    }
   ],
   "source": [
    "df_ndcgs['v0_l2s'] = df_ndcgs['v0_category_paths'].apply(lambda x: [' > '.join(i.split(' > ')[:2]) for i in eval(x)] if isinstance(eval(x), list) else eval(x))\n",
    "df_ndcgs['v2_l2s'] = df_ndcgs['v2_category_paths'].apply(lambda x: [' > '.join(i.split(' > ')[:2]) for i in eval(x)] if isinstance(eval(x), list) else eval(x))"
   ]
  },
  {
   "cell_type": "code",
   "execution_count": 26,
   "metadata": {},
   "outputs": [],
   "source": [
    "df_toptorsotail['v0_l2s'] = df_toptorsotail['v0_category_paths'].apply(lambda x: [' > '.join(i.split(' > ')[:2]) for i in eval(x)] if isinstance(eval(x), list) else eval(x))\n",
    "df_toptorsotail['v2_l2s'] = df_toptorsotail['v2_category_paths'].apply(lambda x: [' > '.join(i.split(' > ')[:2]) for i in eval(x)] if isinstance(eval(x), list) else eval(x))"
   ]
  },
  {
   "cell_type": "code",
   "execution_count": 28,
   "metadata": {},
   "outputs": [],
   "source": [
    "recs = [] \n",
    "for i in df_ndcgs.to_dict('records'):\n",
    "    v0_l2s = set(i['v0_l2s'])\n",
    "    v2_l2s = set(i['v2_l2s'])\n",
    "    jc = len(v0_l2s.intersection(v2_l2s)) / len(v0_l2s.union(v2_l2s))\n",
    "    i['v0v2_l2s_jaccard'] = jc\n",
    "    recs.append(i)\n",
    "df_ndcgs = pd.DataFrame(recs)\n",
    "\n",
    "recs = [] \n",
    "for i in df_toptorsotail.to_dict('records'):\n",
    "    v0_l2s = set(i['v0_l2s'])\n",
    "    v2_l2s = set(i['v2_l2s'])\n",
    "    jc = len(v0_l2s.intersection(v2_l2s)) / len(v0_l2s.union(v2_l2s))\n",
    "    i['v0v2_l2s_jaccard'] = jc\n",
    "    recs.append(i)\n",
    "df_toptorsotail = pd.DataFrame(recs)"
   ]
  },
  {
   "attachments": {},
   "cell_type": "markdown",
   "metadata": {},
   "source": [
    "# analyze ndcg"
   ]
  },
  {
   "cell_type": "code",
   "execution_count": 33,
   "metadata": {},
   "outputs": [],
   "source": [
    "df_ndcgs['mean_lift'] = -(df_ndcgs['control - show-v1 NDCG @ 10'] + df_ndcgs['control - show-v1 NDCG @ 30'] + df_ndcgs['control - show-v1 NDCG @ 50'] + \\\n",
    "    df_ndcgs['control - show-v1 NDCG @ 100'] + df_ndcgs['control - show-v1 NDCG @ 300']) / 5"
   ]
  },
  {
   "cell_type": "code",
   "execution_count": 38,
   "metadata": {},
   "outputs": [
    {
     "data": {
      "text/html": [
       "<div>\n",
       "<style scoped>\n",
       "    .dataframe tbody tr th:only-of-type {\n",
       "        vertical-align: middle;\n",
       "    }\n",
       "\n",
       "    .dataframe tbody tr th {\n",
       "        vertical-align: top;\n",
       "    }\n",
       "\n",
       "    .dataframe thead th {\n",
       "        text-align: right;\n",
       "    }\n",
       "</style>\n",
       "<table border=\"1\" class=\"dataframe\">\n",
       "  <thead>\n",
       "    <tr style=\"text-align: right;\">\n",
       "      <th></th>\n",
       "      <th>mean_lift</th>\n",
       "      <th>v0v2_l2s_jaccard</th>\n",
       "    </tr>\n",
       "  </thead>\n",
       "  <tbody>\n",
       "    <tr>\n",
       "      <th>mean_lift</th>\n",
       "      <td>1.000000</td>\n",
       "      <td>-0.001157</td>\n",
       "    </tr>\n",
       "    <tr>\n",
       "      <th>v0v2_l2s_jaccard</th>\n",
       "      <td>-0.001157</td>\n",
       "      <td>1.000000</td>\n",
       "    </tr>\n",
       "  </tbody>\n",
       "</table>\n",
       "</div>"
      ],
      "text/plain": [
       "                  mean_lift  v0v2_l2s_jaccard\n",
       "mean_lift          1.000000         -0.001157\n",
       "v0v2_l2s_jaccard  -0.001157          1.000000"
      ]
     },
     "execution_count": 38,
     "metadata": {},
     "output_type": "execute_result"
    }
   ],
   "source": [
    "df_ndcgs[['mean_lift', 'v0v2_l2s_jaccard']].corr()"
   ]
  },
  {
   "cell_type": "code",
   "execution_count": 58,
   "metadata": {},
   "outputs": [],
   "source": [
    "df_ndcgs.sort_values('v0v2_l2s_jaccard').to_csv(\n",
    "    'control_vs_show-v1_queries_ndcg_difference_tables_with_v0v2_with_jaccard.csv', index=False)"
   ]
  },
  {
   "cell_type": "code",
   "execution_count": 36,
   "metadata": {},
   "outputs": [
    {
     "data": {
      "text/plain": [
       "<AxesSubplot: xlabel='mean_lift', ylabel='v0v2_l2s_jaccard'>"
      ]
     },
     "execution_count": 36,
     "metadata": {},
     "output_type": "execute_result"
    },
    {
     "data": {
      "image/png": "[encoded data removed]",
      "text/plain": [
       "<Figure size 640x480 with 1 Axes>"
      ]
     },
     "metadata": {},
     "output_type": "display_data"
    }
   ],
   "source": [
    "df_ndcgs.plot.scatter('mean_lift', 'v0v2_l2s_jaccard')"
   ]
  },
  {
   "cell_type": "code",
   "execution_count": 43,
   "metadata": {},
   "outputs": [
    {
     "data": {
      "text/plain": [
       "[{'query': 'dragon ball z',\n",
       "  'query_type': 'A2C - negative',\n",
       "  'v0_l2s': ['Toys & Hobbies > Action & Toy Figures',\n",
       "   \"Men's Clothing > Tops & Tees\",\n",
       "   \"Men's Clothing > Hoodies & Sweatshirts\"],\n",
       "  'v2_l2s': ['Automobiles & Motorcycles > Motorcycle Accessories & Parts',\n",
       "   'Automobiles & Motorcycles > Motorcycle Accessories & Parts',\n",
       "   'Automobiles & Motorcycles > Motorcycle Accessories & Parts'],\n",
       "  'v0v2_l2s_jaccard': 0.0,\n",
       "  'mean_lift': -0.007708853999999999},\n",
       " {'query': 'baby gear',\n",
       "  'query_type': 'Relevance - Negative',\n",
       "  'v0_l2s': ['Mother & Kids > Safety Equipment',\n",
       "   'Mother & Kids',\n",
       "   'Mother & Kids > Baby Care',\n",
       "   \"Mother & Kids > Girls' Clothing\"],\n",
       "  'v2_l2s': ['Mother & Kids > Activity & Gear',\n",
       "   'Mother & Kids > Activity & Gear',\n",
       "   'Mother & Kids > Activity & Gear'],\n",
       "  'v0v2_l2s_jaccard': 0.0,\n",
       "  'mean_lift': -0.009664879999999999},\n",
       " {'query': 'beauty and cosmetics',\n",
       "  'query_type': 'GMV - negative',\n",
       "  'v0_l2s': ['Beauty & Health',\n",
       "   'Beauty & Health > Beauty Essentials',\n",
       "   'Beauty & Health > Beauty Essentials',\n",
       "   'Beauty & Health > Beauty Essentials'],\n",
       "  'v2_l2s': ['Beauty & Health > Makeup',\n",
       "   'Beauty & Health > Makeup',\n",
       "   'Beauty & Health > Makeup'],\n",
       "  'v0v2_l2s_jaccard': 0.0,\n",
       "  'mean_lift': -0.011234846000000001},\n",
       " {'query': 'free shipping',\n",
       "  'query_type': 'GMV - negative',\n",
       "  'v0_l2s': ['Jewelry & Accessories',\n",
       "   'Jewelry & Accessories > Rings',\n",
       "   'Tools > Hand Tools',\n",
       "   'Jewelry & Accessories > Jewelry Sets & More'],\n",
       "  'v2_l2s': ['Home & Garden > Home Decor',\n",
       "   'Beauty & Health > Hair Care & Styling',\n",
       "   'Beauty & Health > Hair Care & Styling'],\n",
       "  'v0v2_l2s_jaccard': 0.0,\n",
       "  'mean_lift': -0.008499183999999998},\n",
       " {'query': 'free stuff and free shipping',\n",
       "  'query_type': 'Relevance - Negative',\n",
       "  'v0_l2s': [\"Men's Clothing > Hoodies & Sweatshirts\",\n",
       "   'Home & Garden > Household Merchandise',\n",
       "   \"Men's Clothing > Men's Sets\",\n",
       "   'Automobiles & Motorcycles > Exterior Accessories',\n",
       "   \"Men's Clothing\"],\n",
       "  'v2_l2s': ['Jewelry & Accessories',\n",
       "   'Jewelry & Accessories > Customized Jewelry',\n",
       "   'Jewelry & Accessories > Customized Jewelry'],\n",
       "  'v0v2_l2s_jaccard': 0.0,\n",
       "  'mean_lift': -0.014856602000000002},\n",
       " {'query': 'hentai',\n",
       "  'query_type': 'Relevance - Negative',\n",
       "  'v0_l2s': ['Toys & Hobbies > Classic Toys',\n",
       "   \"Men's Clothing > Tops & Tees\",\n",
       "   'Home & Garden > Home Decor',\n",
       "   'Toys & Hobbies'],\n",
       "  'v2_l2s': ['Toys & Hobbies > Action & Toy Figures',\n",
       "   'Toys & Hobbies > Stuffed Animals & Plush Toys',\n",
       "   'Education & Office Supplies > Books & Magazines'],\n",
       "  'v0v2_l2s_jaccard': 0.0,\n",
       "  'mean_lift': -0.014965768},\n",
       " {'query': 'phones',\n",
       "  'query_type': 'GMV - negative',\n",
       "  'v0_l2s': ['Cellphones & Telecommunications > Cellphones',\n",
       "   'Cellphones & Telecommunications',\n",
       "   'Cellphones & Telecommunications > Refurbished Phones'],\n",
       "  'v2_l2s': ['Automobiles & Motorcycles > ATV, RV, Boat & Other Vehicles',\n",
       "   'Automobiles & Motorcycles > Auto Replacement Parts',\n",
       "   'Automobiles & Motorcycles > Auto Replacement Parts'],\n",
       "  'v0v2_l2s_jaccard': 0.0,\n",
       "  'mean_lift': -0.007378933999999999},\n",
       " {'query': 'witchcraft supplies',\n",
       "  'query_type': 'GMV - negative',\n",
       "  'v0_l2s': ['Home & Garden > Home Decor',\n",
       "   'Home & Garden > Home Decor',\n",
       "   'Toys & Hobbies > Classic Toys',\n",
       "   'Home & Garden'],\n",
       "  'v2_l2s': ['Education & Office Supplies > Books & Magazines',\n",
       "   'Education & Office Supplies > Books & Magazines',\n",
       "   'Education & Office Supplies > Books & Magazines'],\n",
       "  'v0v2_l2s_jaccard': 0.0,\n",
       "  'mean_lift': -0.007334640000000001},\n",
       " {'query': 'slime',\n",
       "  'query_type': 'GMV - negative',\n",
       "  'v0_l2s': ['Toys & Hobbies > Learning & Education',\n",
       "   'Toys & Hobbies',\n",
       "   'Toys & Hobbies > Learning & Education'],\n",
       "  'v2_l2s': ['Toys & Hobbies > Stress Relief Toys',\n",
       "   'Toys & Hobbies > Stress Relief Toys',\n",
       "   'Toys & Hobbies > Novelty & Gag Toys'],\n",
       "  'v0v2_l2s_jaccard': 0.0,\n",
       "  'mean_lift': -0.021333341999999998},\n",
       " {'query': 'dragon ball z',\n",
       "  'query_type': 'GMV - negative',\n",
       "  'v0_l2s': ['Toys & Hobbies > Action & Toy Figures',\n",
       "   \"Men's Clothing > Tops & Tees\",\n",
       "   \"Men's Clothing > Hoodies & Sweatshirts\"],\n",
       "  'v2_l2s': ['Automobiles & Motorcycles > Motorcycle Accessories & Parts',\n",
       "   'Automobiles & Motorcycles > Motorcycle Accessories & Parts',\n",
       "   'Automobiles & Motorcycles > Motorcycle Accessories & Parts'],\n",
       "  'v0v2_l2s_jaccard': 0.0,\n",
       "  'mean_lift': -0.006410024}]"
      ]
     },
     "execution_count": 43,
     "metadata": {},
     "output_type": "execute_result"
    }
   ],
   "source": [
    "df_ndcgs[['query', 'query_type', 'v0_l2s', 'v2_l2s', 'v0v2_l2s_jaccard', 'mean_lift']].sort_values('v0v2_l2s_jaccard').head(10).to_dict('records')"
   ]
  },
  {
   "cell_type": "code",
   "execution_count": 44,
   "metadata": {},
   "outputs": [
    {
     "data": {
      "text/plain": [
       "[{'query': 'bulletproof vest',\n",
       "  'query_type': 'CTR - negative',\n",
       "  'v0_l2s': ['Security & Protection > Self Defense Supplies',\n",
       "   'Sports > Sports Clothing',\n",
       "   'Security & Protection'],\n",
       "  'v2_l2s': ['Security & Protection > Self Defense Supplies',\n",
       "   'Sports > Sports Clothing',\n",
       "   'Security & Protection'],\n",
       "  'v0v2_l2s_jaccard': 1.0,\n",
       "  'mean_lift': -0.057132074},\n",
       " {'query': 'bulletproof vest',\n",
       "  'query_type': 'A2C - negative',\n",
       "  'v0_l2s': ['Security & Protection > Self Defense Supplies',\n",
       "   'Sports > Sports Clothing',\n",
       "   'Security & Protection'],\n",
       "  'v2_l2s': ['Security & Protection > Self Defense Supplies',\n",
       "   'Sports > Sports Clothing',\n",
       "   'Security & Protection'],\n",
       "  'v0v2_l2s_jaccard': 1.0,\n",
       "  'mean_lift': -0.09787193400000001},\n",
       " {'query': 'acrylic nail kit',\n",
       "  'query_type': 'A2C - positive',\n",
       "  'v0_l2s': ['Beauty & Health > Nail Art & Tools',\n",
       "   'Beauty & Health > Nail Art & Tools',\n",
       "   'Beauty & Health > Nail Art & Tools'],\n",
       "  'v2_l2s': ['Beauty & Health > Nail Art & Tools',\n",
       "   'Beauty & Health > Nail Art & Tools',\n",
       "   'Beauty & Health > Nail Art & Tools'],\n",
       "  'v0v2_l2s_jaccard': 1.0,\n",
       "  'mean_lift': 0.012954274000000002},\n",
       " {'query': 'bed comforter set',\n",
       "  'query_type': 'CTR - Positive',\n",
       "  'v0_l2s': ['Home & Garden > Home Textile',\n",
       "   'Home & Garden > Home Textile',\n",
       "   'Home & Garden > Home Textile',\n",
       "   'Home & Garden > Home Textile'],\n",
       "  'v2_l2s': ['Home & Garden > Home Textile',\n",
       "   'Home & Garden > Home Textile',\n",
       "   'Home & Garden > Home Textile'],\n",
       "  'v0v2_l2s_jaccard': 1.0,\n",
       "  'mean_lift': 0.029021111999999998},\n",
       " {'query': 'gel nail polish',\n",
       "  'query_type': 'A2C - negative',\n",
       "  'v0_l2s': ['Beauty & Health > Nail Art & Tools',\n",
       "   'Beauty & Health > Nail Art & Tools',\n",
       "   'Beauty & Health > Nail Art & Tools'],\n",
       "  'v2_l2s': ['Beauty & Health > Nail Art & Tools',\n",
       "   'Beauty & Health > Nail Art & Tools',\n",
       "   'Beauty & Health > Nail Art & Tools'],\n",
       "  'v0v2_l2s_jaccard': 1.0,\n",
       "  'mean_lift': -0.015760546000000004},\n",
       " {'query': 'brass knuckle',\n",
       "  'query_type': 'A2C - negative',\n",
       "  'v0_l2s': ['Security & Protection > Self Defense Supplies',\n",
       "   'Security & Protection',\n",
       "   'Sports > Fitness & Body Building'],\n",
       "  'v2_l2s': ['Security & Protection > Self Defense Supplies',\n",
       "   'Sports > Fitness & Body Building',\n",
       "   'Security & Protection'],\n",
       "  'v0v2_l2s_jaccard': 1.0,\n",
       "  'mean_lift': -0.014598539999999998},\n",
       " {'query': 'brass knuckle',\n",
       "  'query_type': 'Relevance - positive',\n",
       "  'v0_l2s': ['Security & Protection > Self Defense Supplies',\n",
       "   'Security & Protection',\n",
       "   'Sports > Fitness & Body Building'],\n",
       "  'v2_l2s': ['Security & Protection > Self Defense Supplies',\n",
       "   'Sports > Fitness & Body Building',\n",
       "   'Security & Protection'],\n",
       "  'v0v2_l2s_jaccard': 1.0,\n",
       "  'mean_lift': 0.011090414},\n",
       " {'query': 'gel nail polish',\n",
       "  'query_type': 'CTR - negative',\n",
       "  'v0_l2s': ['Beauty & Health > Nail Art & Tools',\n",
       "   'Beauty & Health > Nail Art & Tools',\n",
       "   'Beauty & Health > Nail Art & Tools'],\n",
       "  'v2_l2s': ['Beauty & Health > Nail Art & Tools',\n",
       "   'Beauty & Health > Nail Art & Tools',\n",
       "   'Beauty & Health > Nail Art & Tools'],\n",
       "  'v0v2_l2s_jaccard': 1.0,\n",
       "  'mean_lift': -0.019549014},\n",
       " {'query': 'jewelry box',\n",
       "  'query_type': 'CTR - Positive',\n",
       "  'v0_l2s': ['Jewelry & Accessories > Beads & Jewelry Making',\n",
       "   'Home & Garden > Home Storage & Organization',\n",
       "   'Home & Garden > Home Storage & Organization'],\n",
       "  'v2_l2s': ['Jewelry & Accessories > Beads & Jewelry Making',\n",
       "   'Home & Garden > Home Storage & Organization',\n",
       "   'Jewelry & Accessories > Beads & Jewelry Making'],\n",
       "  'v0v2_l2s_jaccard': 1.0,\n",
       "  'mean_lift': 0.012723400000000001},\n",
       " {'query': 'jewelry box',\n",
       "  'query_type': 'GMV - positive',\n",
       "  'v0_l2s': ['Jewelry & Accessories > Beads & Jewelry Making',\n",
       "   'Home & Garden > Home Storage & Organization',\n",
       "   'Home & Garden > Home Storage & Organization'],\n",
       "  'v2_l2s': ['Jewelry & Accessories > Beads & Jewelry Making',\n",
       "   'Home & Garden > Home Storage & Organization',\n",
       "   'Jewelry & Accessories > Beads & Jewelry Making'],\n",
       "  'v0v2_l2s_jaccard': 1.0,\n",
       "  'mean_lift': 0.013598707999999998}]"
      ]
     },
     "execution_count": 44,
     "metadata": {},
     "output_type": "execute_result"
    }
   ],
   "source": [
    "df_ndcgs[['query', 'query_type', 'v0_l2s', 'v2_l2s', 'v0v2_l2s_jaccard', 'mean_lift']].sort_values('v0v2_l2s_jaccard', ascending=False).head(10).to_dict('records')"
   ]
  },
  {
   "cell_type": "code",
   "execution_count": 45,
   "metadata": {},
   "outputs": [
    {
     "data": {
      "text/plain": [
       "[{'query': 'yeezy slides',\n",
       "  'query_type': 'Relevance - Negative',\n",
       "  'v0_l2s': [\"Shoes > Men's Shoes\", 'Sports > Sneakers', 'Shoes'],\n",
       "  'v2_l2s': [\"Shoes > Women's Shoes\",\n",
       "   \"Shoes > Men's Shoes\",\n",
       "   \"Mother & Kids > Children's Shoes\"],\n",
       "  'v0v2_l2s_jaccard': 0.2,\n",
       "  'mean_lift': -0.8178302439999999},\n",
       " {'query': 'yeezy slides',\n",
       "  'query_type': 'CTR - negative',\n",
       "  'v0_l2s': [\"Shoes > Men's Shoes\", 'Sports > Sneakers', 'Shoes'],\n",
       "  'v2_l2s': [\"Shoes > Women's Shoes\",\n",
       "   \"Shoes > Men's Shoes\",\n",
       "   \"Mother & Kids > Children's Shoes\"],\n",
       "  'v0v2_l2s_jaccard': 0.2,\n",
       "  'mean_lift': -0.203724858},\n",
       " {'query': 'guns for adults',\n",
       "  'query_type': 'A2C - negative',\n",
       "  'v0_l2s': ['Toys & Hobbies > Outdoor Fun & Sports',\n",
       "   'Sports > Hunting',\n",
       "   'Sports',\n",
       "   'Tools > Hand Tools'],\n",
       "  'v2_l2s': ['Toys & Hobbies > Outdoor Fun & Sports',\n",
       "   'Sports > Hunting',\n",
       "   'Sports > Hunting'],\n",
       "  'v0v2_l2s_jaccard': 0.5,\n",
       "  'mean_lift': -0.20202509400000004},\n",
       " {'query': 'guns for adults',\n",
       "  'query_type': 'CTR - negative',\n",
       "  'v0_l2s': ['Toys & Hobbies > Outdoor Fun & Sports',\n",
       "   'Sports > Hunting',\n",
       "   'Sports',\n",
       "   'Tools > Hand Tools'],\n",
       "  'v2_l2s': ['Toys & Hobbies > Outdoor Fun & Sports',\n",
       "   'Sports > Hunting',\n",
       "   'Sports > Hunting'],\n",
       "  'v0v2_l2s_jaccard': 0.5,\n",
       "  'mean_lift': -0.17908303600000003},\n",
       " {'query': 'yeezy slides',\n",
       "  'query_type': 'A2C - negative',\n",
       "  'v0_l2s': [\"Shoes > Men's Shoes\", 'Sports > Sneakers', 'Shoes'],\n",
       "  'v2_l2s': [\"Shoes > Women's Shoes\",\n",
       "   \"Shoes > Men's Shoes\",\n",
       "   \"Mother & Kids > Children's Shoes\"],\n",
       "  'v0v2_l2s_jaccard': 0.2,\n",
       "  'mean_lift': -0.140623638},\n",
       " {'query': 'flesh light',\n",
       "  'query_type': 'CTR - negative',\n",
       "  'v0_l2s': ['Home Improvement > Lights & Lighting',\n",
       "   'Beauty & Health > Oral Hygiene',\n",
       "   'Home Improvement > Lights & Lighting',\n",
       "   'Home Improvement'],\n",
       "  'v2_l2s': ['Home Improvement > Lights & Lighting',\n",
       "   'Home Improvement > Lights & Lighting',\n",
       "   'Home Improvement > Lights & Lighting'],\n",
       "  'v0v2_l2s_jaccard': 0.3333333333333333,\n",
       "  'mean_lift': -0.13577484},\n",
       " {'query': 'guns for adults',\n",
       "  'query_type': 'A2C - negative',\n",
       "  'v0_l2s': ['Toys & Hobbies > Outdoor Fun & Sports',\n",
       "   'Sports > Hunting',\n",
       "   'Sports',\n",
       "   'Tools > Hand Tools'],\n",
       "  'v2_l2s': ['Toys & Hobbies > Outdoor Fun & Sports',\n",
       "   'Sports > Hunting',\n",
       "   'Sports > Hunting'],\n",
       "  'v0v2_l2s_jaccard': 0.5,\n",
       "  'mean_lift': -0.12516539},\n",
       " {'query': 'guns for adults',\n",
       "  'query_type': 'CTR - negative',\n",
       "  'v0_l2s': ['Toys & Hobbies > Outdoor Fun & Sports',\n",
       "   'Sports > Hunting',\n",
       "   'Sports',\n",
       "   'Tools > Hand Tools'],\n",
       "  'v2_l2s': ['Toys & Hobbies > Outdoor Fun & Sports',\n",
       "   'Sports > Hunting',\n",
       "   'Sports > Hunting'],\n",
       "  'v0v2_l2s_jaccard': 0.5,\n",
       "  'mean_lift': -0.112866578},\n",
       " {'query': 'bulletproof vest',\n",
       "  'query_type': 'A2C - negative',\n",
       "  'v0_l2s': ['Security & Protection > Self Defense Supplies',\n",
       "   'Sports > Sports Clothing',\n",
       "   'Security & Protection'],\n",
       "  'v2_l2s': ['Security & Protection > Self Defense Supplies',\n",
       "   'Sports > Sports Clothing',\n",
       "   'Security & Protection'],\n",
       "  'v0v2_l2s_jaccard': 1.0,\n",
       "  'mean_lift': -0.09787193400000001},\n",
       " {'query': 'slime',\n",
       "  'query_type': 'A2C - negative',\n",
       "  'v0_l2s': ['Toys & Hobbies > Learning & Education',\n",
       "   'Toys & Hobbies',\n",
       "   'Toys & Hobbies > Learning & Education'],\n",
       "  'v2_l2s': ['Toys & Hobbies > Stress Relief Toys',\n",
       "   'Toys & Hobbies > Stress Relief Toys',\n",
       "   'Toys & Hobbies > Novelty & Gag Toys'],\n",
       "  'v0v2_l2s_jaccard': 0.0,\n",
       "  'mean_lift': -0.079203194}]"
      ]
     },
     "execution_count": 45,
     "metadata": {},
     "output_type": "execute_result"
    }
   ],
   "source": [
    "df_ndcgs[['query', 'query_type', 'v0_l2s', 'v2_l2s', 'v0v2_l2s_jaccard', 'mean_lift']].sort_values('mean_lift').head(10).to_dict('records')"
   ]
  },
  {
   "cell_type": "code",
   "execution_count": 47,
   "metadata": {},
   "outputs": [
    {
     "data": {
      "text/plain": [
       "[{'query': 'iphone 11',\n",
       "  'query_type': 'GMV - positive',\n",
       "  'v0_l2s': ['Cellphones & Telecommunications > Mobile Phone Accessories',\n",
       "   'Cellphones & Telecommunications',\n",
       "   'Cellphones & Telecommunications > iPhones',\n",
       "   'Cellphones & Telecommunications > Phone Bags & Cases'],\n",
       "  'v2_l2s': ['Cellphones & Telecommunications > iPhones',\n",
       "   'Cellphones & Telecommunications > Mobile Phone Accessories',\n",
       "   'Cellphones & Telecommunications > Mobile Phone Accessories'],\n",
       "  'v0v2_l2s_jaccard': 0.5,\n",
       "  'mean_lift': 0.182701328},\n",
       " {'query': 'sex doll',\n",
       "  'query_type': 'A2C - positive',\n",
       "  'v0_l2s': ['Beauty & Health > Sexual Wellness',\n",
       "   'Beauty & Health > Sexual Wellness',\n",
       "   'Toys & Hobbies > Action & Toy Figures',\n",
       "   'Beauty & Health > Sexual Wellness'],\n",
       "  'v2_l2s': ['Beauty & Health > Sexual Wellness',\n",
       "   'Beauty & Health > Sexual Wellness',\n",
       "   'Toys & Hobbies > Dolls & Accessories'],\n",
       "  'v0v2_l2s_jaccard': 0.3333333333333333,\n",
       "  'mean_lift': 0.129826786},\n",
       " {'query': 'iphone 12',\n",
       "  'query_type': 'CTR - Positive',\n",
       "  'v0_l2s': ['Cellphones & Telecommunications > Mobile Phone Accessories',\n",
       "   'Cellphones & Telecommunications > Phone Bags & Cases',\n",
       "   'Cellphones & Telecommunications'],\n",
       "  'v2_l2s': ['Cellphones & Telecommunications > iPhones',\n",
       "   'Cellphones & Telecommunications > Mobile Phone Accessories',\n",
       "   'Cellphones & Telecommunications > Mobile Phone Accessories'],\n",
       "  'v0v2_l2s_jaccard': 0.25,\n",
       "  'mean_lift': 0.110480808},\n",
       " {'query': 'iphone 11',\n",
       "  'query_type': 'CTR - Positive',\n",
       "  'v0_l2s': ['Cellphones & Telecommunications > Mobile Phone Accessories',\n",
       "   'Cellphones & Telecommunications',\n",
       "   'Cellphones & Telecommunications > iPhones',\n",
       "   'Cellphones & Telecommunications > Phone Bags & Cases'],\n",
       "  'v2_l2s': ['Cellphones & Telecommunications > iPhones',\n",
       "   'Cellphones & Telecommunications > Mobile Phone Accessories',\n",
       "   'Cellphones & Telecommunications > Mobile Phone Accessories'],\n",
       "  'v0v2_l2s_jaccard': 0.5,\n",
       "  'mean_lift': 0.11024387399999999},\n",
       " {'query': 'pocket pussy',\n",
       "  'query_type': 'CTR - Positive',\n",
       "  'v0_l2s': ['Beauty & Health > Sexual Wellness',\n",
       "   'Beauty & Health',\n",
       "   'Beauty & Health > Sexual Wellness'],\n",
       "  'v2_l2s': ['Beauty & Health > Sexual Wellness',\n",
       "   'Beauty & Health > Sexual Wellness',\n",
       "   'Beauty & Health > Sexual Wellness'],\n",
       "  'v0v2_l2s_jaccard': 0.5,\n",
       "  'mean_lift': 0.1050125},\n",
       " {'query': 'iphone 11',\n",
       "  'query_type': 'CTR - Positive',\n",
       "  'v0_l2s': ['Cellphones & Telecommunications > Mobile Phone Accessories',\n",
       "   'Cellphones & Telecommunications',\n",
       "   'Cellphones & Telecommunications > iPhones',\n",
       "   'Cellphones & Telecommunications > Phone Bags & Cases'],\n",
       "  'v2_l2s': ['Cellphones & Telecommunications > iPhones',\n",
       "   'Cellphones & Telecommunications > Mobile Phone Accessories',\n",
       "   'Cellphones & Telecommunications > Mobile Phone Accessories'],\n",
       "  'v0v2_l2s_jaccard': 0.5,\n",
       "  'mean_lift': 0.103166062},\n",
       " {'query': 'baseball bat',\n",
       "  'query_type': 'CTR - Positive',\n",
       "  'v0_l2s': ['Sports > Team Sports',\n",
       "   'Home Improvement > Lights & Lighting',\n",
       "   'Sports'],\n",
       "  'v2_l2s': ['Sports > Team Sports',\n",
       "   'Sports > Team Sports',\n",
       "   'Toys & Hobbies > Outdoor Fun & Sports'],\n",
       "  'v0v2_l2s_jaccard': 0.25,\n",
       "  'mean_lift': 0.09668147599999999},\n",
       " {'query': 'sex doll',\n",
       "  'query_type': 'CTR - Positive',\n",
       "  'v0_l2s': ['Beauty & Health > Sexual Wellness',\n",
       "   'Beauty & Health > Sexual Wellness',\n",
       "   'Toys & Hobbies > Action & Toy Figures',\n",
       "   'Beauty & Health > Sexual Wellness'],\n",
       "  'v2_l2s': ['Beauty & Health > Sexual Wellness',\n",
       "   'Beauty & Health > Sexual Wellness',\n",
       "   'Toys & Hobbies > Dolls & Accessories'],\n",
       "  'v0v2_l2s_jaccard': 0.3333333333333333,\n",
       "  'mean_lift': 0.0934573},\n",
       " {'query': 'iphone 12',\n",
       "  'query_type': 'CTR - Positive',\n",
       "  'v0_l2s': ['Cellphones & Telecommunications > Mobile Phone Accessories',\n",
       "   'Cellphones & Telecommunications > Phone Bags & Cases',\n",
       "   'Cellphones & Telecommunications'],\n",
       "  'v2_l2s': ['Cellphones & Telecommunications > iPhones',\n",
       "   'Cellphones & Telecommunications > Mobile Phone Accessories',\n",
       "   'Cellphones & Telecommunications > Mobile Phone Accessories'],\n",
       "  'v0v2_l2s_jaccard': 0.25,\n",
       "  'mean_lift': 0.087847706},\n",
       " {'query': 'mobile phones and accessories',\n",
       "  'query_type': 'CTR - Positive',\n",
       "  'v0_l2s': ['Cellphones & Telecommunications > Mobile Phone Accessories',\n",
       "   'Cellphones & Telecommunications > Mobile Phone Accessories',\n",
       "   'Automobiles & Motorcycles > Interior Accessories'],\n",
       "  'v2_l2s': ['Cellphones & Telecommunications > Mobile Phone Accessories',\n",
       "   'Cellphones & Telecommunications > Mobile Phone Accessories',\n",
       "   'Cellphones & Telecommunications > Cellphones'],\n",
       "  'v0v2_l2s_jaccard': 0.3333333333333333,\n",
       "  'mean_lift': 0.085254554}]"
      ]
     },
     "execution_count": 47,
     "metadata": {},
     "output_type": "execute_result"
    }
   ],
   "source": [
    "df_ndcgs[['query', 'query_type', 'v0_l2s', 'v2_l2s', 'v0v2_l2s_jaccard', 'mean_lift']].sort_values('mean_lift', ascending=False).head(10).to_dict('records')"
   ]
  },
  {
   "attachments": {},
   "cell_type": "markdown",
   "metadata": {},
   "source": [
    "# analyze head torso tail"
   ]
  },
  {
   "cell_type": "code",
   "execution_count": 51,
   "metadata": {},
   "outputs": [
    {
     "data": {
      "text/plain": [
       "<AxesSubplot: ylabel='Frequency'>"
      ]
     },
     "execution_count": 51,
     "metadata": {},
     "output_type": "execute_result"
    },
    {
     "data": {
      "image/png": "[encoded data removed]",
      "text/plain": [
       "<Figure size 640x480 with 1 Axes>"
      ]
     },
     "metadata": {},
     "output_type": "display_data"
    }
   ],
   "source": [
    "df_toptorsotail.v0v2_l2s_jaccard.plot.hist()"
   ]
  },
  {
   "cell_type": "code",
   "execution_count": 57,
   "metadata": {},
   "outputs": [],
   "source": [
    "df_toptorsotail.sort_values('v0v2_l2s_jaccard').to_csv(\n",
    "    'top_searched_queries_stats_with_v0v2_with_jaccard.csv', index=False)"
   ]
  },
  {
   "cell_type": "code",
   "execution_count": null,
   "metadata": {},
   "outputs": [],
   "source": []
  }
 ],
 "metadata": {
  "kernelspec": {
   "display_name": "Python 3",
   "language": "python",
   "name": "python3"
  },
  "language_info": {
   "codemirror_mode": {
    "name": "ipython",
    "version": 3
   },
   "file_extension": ".py",
   "mimetype": "text/x-python",
   "name": "python",
   "nbconvert_exporter": "python",
   "pygments_lexer": "ipython3",
   "version": "3.8.13"
  },
  "orig_nbformat": 4,
  "vscode": {
   "interpreter": {
    "hash": "949777d72b0d2535278d3dc13498b2535136f6dfe0678499012e853ee9abcab1"
   }
  }
 },
 "nbformat": 4,
 "nbformat_minor": 2
}
