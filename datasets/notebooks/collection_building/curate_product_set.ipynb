{
 "cells": [
  {
   "cell_type": "code",
   "execution_count": 12,
   "metadata": {},
   "outputs": [],
   "source": [
    "from tahoe import create_external_table, drop_external_table, execute_async\n",
    "from s3 import result_bucket, get_s3_file_keys, get_df_from_parquet\n",
    "import pandas as pd\n",
    "import logging\n",
    "logging.basicConfig(\n",
    "    format='%(asctime)s %(levelname)s: %(message)s',\n",
    "    level=logging.INFO\n",
    ")\n",
    "import numpy as np"
   ]
  },
  {
   "attachments": {},
   "cell_type": "markdown",
   "metadata": {},
   "source": [
    "# download data"
   ]
  },
  {
   "cell_type": "code",
   "execution_count": null,
   "metadata": {},
   "outputs": [],
   "source": [
    "# Credit: Jordan Long\n",
    "query = \"\"\"-- select products ranked by gmv over last 365 days, limiting to 1M products\n",
    "-- remove products that aren't from silver+ merchants\n",
    "-- remove products that have a high refund rate (>10%) over the last year\n",
    "-- remove products with low lifetime average ratings (<3)\n",
    "-- remove products via the microtag inappropriate filter\n",
    "-- add a check to make sure they're active products (currently using filters from wish.master_products)\n",
    "-- cluster by image hash and take the product with the highest gmv from each cluster\n",
    "\n",
    "INSERT INTO test.collection_builder_candidates\n",
    "\n",
    "WITH inappropriate_pids AS (\n",
    "  SELECT pid\n",
    "  FROM supply.microtagging_sensitive_products\n",
    "  WHERE flag_for_removal = 1\n",
    ") -- ~4 million pids?\n",
    "\n",
    ", refund_rates AS (\n",
    "SELECT\n",
    "    product_id,\n",
    "    -- note qty_refunded <= quantity\n",
    "    COALESCE(cast(sum(qty_refunded) as DOUBLE), 0) / COALESCE(sum(quantity), 1) AS refund_rate\n",
    "    FROM wish.fact_trans_detail a\n",
    "    WHERE dt >= cast(date_add('day', -365, cast(current_date as date)) as varchar)\n",
    "    and dt <= cast(current_date as varchar) -- looking over the past year\n",
    "    and a.order_approved_time is not NULL\n",
    "    and (a.is_ltd_product = 'false' or a.is_ltd_product is null)\n",
    "    and (a.refund_reason_category NOT IN (4, 17, 18, 28, 40) or a.refund_reason_category is null) -- TODO: comment what these are\n",
    "    and a.state not in (0,4,10,12) -- TODO: comment what these are\n",
    "    -- below we're looking at 30 days before 2022-12-21 since 30 day window for returns\n",
    "    and DATE_FORMAT(FROM_UNIXTIME(confirmed_delivered_time, 'America/Los_Angeles'), '%Y-%m-%d') <= cast(date_add('day', -30, cast(current_date as date)) as varchar)\n",
    "    group by product_id\n",
    ")\n",
    "\n",
    ", top_products AS (\n",
    "SELECT\n",
    "    a.product_id,\n",
    "    b.name,\n",
    "    b.merchant_id,\n",
    "    COALESCE(b.image_hash, c.image_hash) AS image_hash,\n",
    "    wss.wss_tier,\n",
    "    a.gmv_365d,\n",
    "    refund_rates.refund_rate,\n",
    "    b.average_rating,\n",
    "    b.rating_count,\n",
    "    a.dt\n",
    "FROM analytics.agg_product_daily_stats a -- get gmv365d from here\n",
    "JOIN ( -- use this as an active product filter, putting the filters in a subquery so there's less to join\n",
    "    SELECT product_id, name, merchant_id, image_hash, average_rating, rating_count\n",
    "    FROM wish.master_products\n",
    "    WHERE merchant_id IS NOT NULL\n",
    "    AND is_deleted != 'true'\n",
    "    AND product_removed_by_merchant != 'true'\n",
    "    AND commerce_active = 1\n",
    "    AND state IN ('0','1') -- NEW or ACTIVE\n",
    ") b\n",
    "ON a.product_id = b.product_id\n",
    "LEFT JOIN (SELECT product_id, MAX_BY(hash,time) AS image_hash FROM supply.microtagging_pid_hash_table GROUP BY 1) c\n",
    "ON a.product_id = c.product_id\n",
    "LEFT JOIN supply.merchant_quality_score wss\n",
    "ON wss.merchant_id = b.merchant_id\n",
    "LEFT JOIN refund_rates\n",
    "ON refund_rates.product_id = a.product_id\n",
    "LEFT JOIN inappropriate_pids\n",
    "ON inappropriate_pids.pid = a.product_id\n",
    "WHERE a.gmv_365d > 0 -- filters down to 4M products\n",
    "AND wss.wss_tier IN ('Platinum', 'Gold', 'Silver')\n",
    "AND refund_rates.refund_rate <= 0.1 -- cap at 10% refund rate (somewhat arbitrary)\n",
    "AND average_rating >= 3 -- if there's no ratings the rating defaults to 5\n",
    "AND inappropriate_pids.pid IS NULL -- meaning it's not inappropriate\n",
    ")\n",
    "\n",
    "SELECT r[1] AS product_id\n",
    ", r[2] AS name\n",
    ", r[3] AS merchant_id\n",
    ", a.image_hash\n",
    ", NULL AS img_embedding\n",
    ", r[4] AS wss_tier\n",
    ", CAST(r[5] AS DOUBLE) AS gmv_365d,\n",
    "CAST(r[6] AS DOUBLE) AS refund_rate,\n",
    "r[7] AS average_rating,\n",
    "r[8] AS rating_count,\n",
    "r[9] AS dt\n",
    "FROM (\n",
    "    SELECT\n",
    "    image_hash,\n",
    "    MAX_BY((product_id, name, merchant_id, image_hash, wss_tier, refund_rate, average_rating, rating_count, dt), gmv_365d) r\n",
    "    FROM top_products\n",
    "    GROUP BY image_hash\n",
    ") a\n",
    "LIMIT 1000000\"\"\""
   ]
  },
  {
   "cell_type": "code",
   "execution_count": 14,
   "metadata": {},
   "outputs": [],
   "source": [
    "# Define the export table\n",
    "export_table = {\n",
    "    \"name\": \"collection_export_test_123\",\n",
    "    \"columns\": [\n",
    "        {\"name\": \"product_id\", \"type\": \"STRING\"},\n",
    "        {\"name\": \"name\", \"type\": \"STRING\"},\n",
    "        {\"name\": \"merchant_id\", \"type\": \"STRING\"},\n",
    "        {\"name\": \"image_hash\", \"type\": \"STRING\"},\n",
    "        {\"name\": \"img_embedding\", \"type\": \"STRING\"},\n",
    "        {\"name\": \"wss_tier\", \"type\": \"STRING\"},\n",
    "        {\"name\": \"gmv_365d\", \"type\": \"FLOAT\"},\n",
    "        {\"name\": \"refund_rate\", \"type\": \"FLOAT\"},\n",
    "        {\"name\": \"average_rating\", \"type\": \"FLOAT\"},\n",
    "        {\"name\": \"rating_count\", \"type\": \"FLOAT\"},\n",
    "        {\"name\": \"dt\", \"type\": \"STRING\"}\n",
    "    ]\n",
    "}\n",
    "db = \"sweeper_dev\""
   ]
  },
  {
   "cell_type": "code",
   "execution_count": 3,
   "metadata": {},
   "outputs": [
    {
     "name": "stderr",
     "output_type": "stream",
     "text": [
      "2023-04-11 23:27:13,719 INFO: USE `default`\n",
      "2023-04-11 23:27:14,584 INFO: \n",
      "    CREATE TABLE sweeper_dev.collection_export_test_123 (\n",
      "    product_id STRING,\n",
      "\tname STRING,\n",
      "\tmerchant_id STRING,\n",
      "\timage_hash STRING,\n",
      "\timg_embedding STRING,\n",
      "\twss_tier STRING,\n",
      "\tgmv_365d FLOAT,\n",
      "\trefund_rate FLOAT,\n",
      "\taverage_rating FLOAT,\n",
      "\trating_count FLOAT,\n",
      "\tdt STRING\n",
      "    )\n",
      "    \n",
      "STORED AS PARQUET\n",
      "LOCATION 's3://wish-tahoe-query-results/sweeper_dev/collection_export_test_123'\n",
      "TBLPROPERTIES ('parquet.compression'='SNAPPY')\n",
      "2023-04-11 23:27:15,563 INFO: The query returned no records.\n"
     ]
    }
   ],
   "source": [
    "# Create the export table\n",
    "create_external_table(\n",
    "    table_name=export_table[\"name\"],\n",
    "    table_definition=export_table,\n",
    "    db=db,\n",
    "    bucket=result_bucket\n",
    ")"
   ]
  },
  {
   "cell_type": "code",
   "execution_count": 6,
   "metadata": {},
   "outputs": [
    {
     "name": "stderr",
     "output_type": "stream",
     "text": [
      "2023-04-12 00:25:28,550 INFO: SELECT COUNT(*) FROM sweeper_dev.collection_export_test_123\n"
     ]
    },
    {
     "data": {
      "text/plain": [
       "[(0,)]"
      ]
     },
     "execution_count": 6,
     "metadata": {},
     "output_type": "execute_result"
    }
   ],
   "source": [
    "# Check the number of rows in the external table\n",
    "q = f\"SELECT COUNT(*) FROM {db}.{export_table['name']}\"\n",
    "execute_async(q)"
   ]
  },
  {
   "cell_type": "code",
   "execution_count": 7,
   "metadata": {},
   "outputs": [
    {
     "name": "stderr",
     "output_type": "stream",
     "text": [
      "2023-04-12 00:26:39,783 INFO: SELECT COUNT(*) FROM test.collection_builder_candidates\n"
     ]
    },
    {
     "data": {
      "text/plain": [
       "[(1000000,)]"
      ]
     },
     "execution_count": 7,
     "metadata": {},
     "output_type": "execute_result"
    }
   ],
   "source": [
    "q = f\"SELECT COUNT(*) FROM test.collection_builder_candidates\"\n",
    "execute_async(q)"
   ]
  },
  {
   "cell_type": "code",
   "execution_count": 8,
   "metadata": {},
   "outputs": [
    {
     "name": "stderr",
     "output_type": "stream",
     "text": [
      "2023-04-12 00:26:52,813 INFO: \n",
      "INSERT INTO sweeper_dev.collection_export_test_123\n",
      "SELECT * FROM test.collection_builder_candidates\n",
      "\n"
     ]
    },
    {
     "data": {
      "text/plain": [
       "[(1000000,)]"
      ]
     },
     "execution_count": 8,
     "metadata": {},
     "output_type": "execute_result"
    }
   ],
   "source": [
    "# Export data to the external table\n",
    "q = f\"\"\"\n",
    "INSERT INTO {db}.{export_table['name']}\n",
    "SELECT * FROM test.collection_builder_candidates\n",
    "\"\"\"\n",
    "execute_async(q)"
   ]
  },
  {
   "cell_type": "code",
   "execution_count": 9,
   "metadata": {},
   "outputs": [
    {
     "name": "stderr",
     "output_type": "stream",
     "text": [
      "2023-04-12 00:27:02,283 INFO: SELECT COUNT(*) FROM sweeper_dev.collection_export_test_123\n"
     ]
    },
    {
     "data": {
      "text/plain": [
       "[(1000000,)]"
      ]
     },
     "execution_count": 9,
     "metadata": {},
     "output_type": "execute_result"
    }
   ],
   "source": [
    "# Check again the number of rows in the external table\n",
    "q = f\"SELECT COUNT(*) FROM {db}.{export_table['name']}\"\n",
    "execute_async(q)"
   ]
  },
  {
   "cell_type": "code",
   "execution_count": 12,
   "metadata": {},
   "outputs": [
    {
     "data": {
      "text/plain": [
       "[('sweeper_dev/collection_export_test_123/20230412_002652_01985_afvpw_f99673e8-770d-4db1-aaff-ef28dab30a90',\n",
       "  68),\n",
       " ('sweeper_dev/collection_export_test_123/20230412_002652_01985_afvpw_ff248bbe-19fe-4177-89ee-5a537e8cc2ec',\n",
       "  68)]"
      ]
     },
     "execution_count": 12,
     "metadata": {},
     "output_type": "execute_result"
    }
   ],
   "source": [
    "# Show the data files for the external table\n",
    "file_keys = get_s3_file_keys(s3_bucket=result_bucket, s3_prefix=f\"{db}/{export_table['name']}\")\n",
    "file_keys"
   ]
  },
  {
   "cell_type": "code",
   "execution_count": 13,
   "metadata": {},
   "outputs": [
    {
     "name": "stderr",
     "output_type": "stream",
     "text": [
      "2023-04-12 00:27:51,174 INFO: Importing from sweeper_dev/collection_export_test_123/20230412_002652_01985_afvpw_f99673e8-770d-4db1-aaff-ef28dab30a90...\n",
      "2023-04-12 00:27:56,706 INFO: Imported DF (498296, 11) from sweeper_dev/collection_export_test_123/20230412_002652_01985_afvpw_f99673e8-770d-4db1-aaff-ef28dab30a90.\n",
      "2023-04-12 00:27:56,716 INFO: Importing from sweeper_dev/collection_export_test_123/20230412_002652_01985_afvpw_ff248bbe-19fe-4177-89ee-5a537e8cc2ec...\n",
      "2023-04-12 00:28:01,865 INFO: Imported DF (501704, 11) from sweeper_dev/collection_export_test_123/20230412_002652_01985_afvpw_ff248bbe-19fe-4177-89ee-5a537e8cc2ec.\n"
     ]
    },
    {
     "data": {
      "text/html": [
       "<div>\n",
       "<style scoped>\n",
       "    .dataframe tbody tr th:only-of-type {\n",
       "        vertical-align: middle;\n",
       "    }\n",
       "\n",
       "    .dataframe tbody tr th {\n",
       "        vertical-align: top;\n",
       "    }\n",
       "\n",
       "    .dataframe thead th {\n",
       "        text-align: right;\n",
       "    }\n",
       "</style>\n",
       "<table border=\"1\" class=\"dataframe\">\n",
       "  <thead>\n",
       "    <tr style=\"text-align: right;\">\n",
       "      <th></th>\n",
       "      <th>product_id</th>\n",
       "      <th>name</th>\n",
       "      <th>merchant_id</th>\n",
       "      <th>image_hash</th>\n",
       "      <th>img_embedding</th>\n",
       "      <th>wss_tier</th>\n",
       "      <th>gmv_365d</th>\n",
       "      <th>refund_rate</th>\n",
       "      <th>average_rating</th>\n",
       "      <th>rating_count</th>\n",
       "      <th>dt</th>\n",
       "    </tr>\n",
       "  </thead>\n",
       "  <tbody>\n",
       "    <tr>\n",
       "      <th>0</th>\n",
       "      <td>6087aa1a4c0529be4b5eea2b</td>\n",
       "      <td>Butterfly Girl Resin Sculpture Character Model...</td>\n",
       "      <td>5ac9993f2c49563aee00b471</td>\n",
       "      <td>4563e9eda70ae371df01fac754a9ab81</td>\n",
       "      <td>None</td>\n",
       "      <td>Silver</td>\n",
       "      <td>823.190430</td>\n",
       "      <td>0.090909</td>\n",
       "      <td>5.000000</td>\n",
       "      <td>7.0</td>\n",
       "      <td>2023-04-09</td>\n",
       "    </tr>\n",
       "    <tr>\n",
       "      <th>1</th>\n",
       "      <td>5fb80589dcb5ba391b6334f1</td>\n",
       "      <td>54Pcs/Box KPOP BTS BLACKPINK EXO NCT TXT Stray...</td>\n",
       "      <td>5f8d118fab43aa62703be176</td>\n",
       "      <td>29658f7ed2164fc030d6130d00f82031</td>\n",
       "      <td>None</td>\n",
       "      <td>Gold</td>\n",
       "      <td>159.111664</td>\n",
       "      <td>0.000000</td>\n",
       "      <td>4.777778</td>\n",
       "      <td>9.0</td>\n",
       "      <td>2023-04-09</td>\n",
       "    </tr>\n",
       "    <tr>\n",
       "      <th>2</th>\n",
       "      <td>611b4f6ca8caa50a2ac538b5</td>\n",
       "      <td>10Pcs/bag Glass Bottle Filling Fruits Polymer ...</td>\n",
       "      <td>5de5d5edd30dacbae2e29cdf</td>\n",
       "      <td>645dab48d5e5b306599bf06022fbc94f</td>\n",
       "      <td>None</td>\n",
       "      <td>Gold</td>\n",
       "      <td>6137.541016</td>\n",
       "      <td>0.005583</td>\n",
       "      <td>4.578397</td>\n",
       "      <td>287.0</td>\n",
       "      <td>2023-04-09</td>\n",
       "    </tr>\n",
       "    <tr>\n",
       "      <th>3</th>\n",
       "      <td>5720b4c91e16345d0ad4ff0f</td>\n",
       "      <td>Toy-Yoda - FUNNY - 8.5\" X 2.3\" - High Quality ...</td>\n",
       "      <td>549c0f29b9b7e70cbc5394e8</td>\n",
       "      <td>03e4b5dcdc1cebe29fae6f3ecb28e2c9</td>\n",
       "      <td>None</td>\n",
       "      <td>Silver</td>\n",
       "      <td>15.443636</td>\n",
       "      <td>0.000000</td>\n",
       "      <td>5.000000</td>\n",
       "      <td>0.0</td>\n",
       "      <td>2023-04-09</td>\n",
       "    </tr>\n",
       "    <tr>\n",
       "      <th>4</th>\n",
       "      <td>60920c9d2d595f41eaefe6fb</td>\n",
       "      <td>Promotion of popular fashion Rick and Morty 3D...</td>\n",
       "      <td>5d5537d67ad24225f68499b2</td>\n",
       "      <td>21e3abc761c9a86beeead6ed7ce417bc</td>\n",
       "      <td>None</td>\n",
       "      <td>Silver</td>\n",
       "      <td>342.433716</td>\n",
       "      <td>0.035714</td>\n",
       "      <td>5.000000</td>\n",
       "      <td>2.0</td>\n",
       "      <td>2023-04-09</td>\n",
       "    </tr>\n",
       "  </tbody>\n",
       "</table>\n",
       "</div>"
      ],
      "text/plain": [
       "                 product_id  \\\n",
       "0  6087aa1a4c0529be4b5eea2b   \n",
       "1  5fb80589dcb5ba391b6334f1   \n",
       "2  611b4f6ca8caa50a2ac538b5   \n",
       "3  5720b4c91e16345d0ad4ff0f   \n",
       "4  60920c9d2d595f41eaefe6fb   \n",
       "\n",
       "                                                name  \\\n",
       "0  Butterfly Girl Resin Sculpture Character Model...   \n",
       "1  54Pcs/Box KPOP BTS BLACKPINK EXO NCT TXT Stray...   \n",
       "2  10Pcs/bag Glass Bottle Filling Fruits Polymer ...   \n",
       "3  Toy-Yoda - FUNNY - 8.5\" X 2.3\" - High Quality ...   \n",
       "4  Promotion of popular fashion Rick and Morty 3D...   \n",
       "\n",
       "                merchant_id                        image_hash img_embedding  \\\n",
       "0  5ac9993f2c49563aee00b471  4563e9eda70ae371df01fac754a9ab81          None   \n",
       "1  5f8d118fab43aa62703be176  29658f7ed2164fc030d6130d00f82031          None   \n",
       "2  5de5d5edd30dacbae2e29cdf  645dab48d5e5b306599bf06022fbc94f          None   \n",
       "3  549c0f29b9b7e70cbc5394e8  03e4b5dcdc1cebe29fae6f3ecb28e2c9          None   \n",
       "4  5d5537d67ad24225f68499b2  21e3abc761c9a86beeead6ed7ce417bc          None   \n",
       "\n",
       "  wss_tier     gmv_365d  refund_rate  average_rating  rating_count          dt  \n",
       "0   Silver   823.190430     0.090909        5.000000           7.0  2023-04-09  \n",
       "1     Gold   159.111664     0.000000        4.777778           9.0  2023-04-09  \n",
       "2     Gold  6137.541016     0.005583        4.578397         287.0  2023-04-09  \n",
       "3   Silver    15.443636     0.000000        5.000000           0.0  2023-04-09  \n",
       "4   Silver   342.433716     0.035714        5.000000           2.0  2023-04-09  "
      ]
     },
     "execution_count": 13,
     "metadata": {},
     "output_type": "execute_result"
    }
   ],
   "source": [
    "dfs = []\n",
    "for file_key, file_size in file_keys:\n",
    "    df_chunk = get_df_from_parquet(s3_bucket=result_bucket, s3_key=file_key)\n",
    "    dfs.append(df_chunk)\n",
    "    \n",
    "df_data = pd.concat(dfs)\n",
    "df_data.head()"
   ]
  },
  {
   "cell_type": "code",
   "execution_count": 14,
   "metadata": {},
   "outputs": [
    {
     "data": {
      "text/plain": [
       "1000000"
      ]
     },
     "execution_count": 14,
     "metadata": {},
     "output_type": "execute_result"
    }
   ],
   "source": [
    "len(df_data)"
   ]
  },
  {
   "cell_type": "code",
   "execution_count": 16,
   "metadata": {},
   "outputs": [
    {
     "data": {
      "text/plain": [
       "{None}"
      ]
     },
     "execution_count": 16,
     "metadata": {},
     "output_type": "execute_result"
    }
   ],
   "source": [
    "set(df_data['img_embedding'])"
   ]
  },
  {
   "cell_type": "code",
   "execution_count": 53,
   "metadata": {},
   "outputs": [],
   "source": [
    "df_data.to_parquet(\"collection_products_041123.parquet\", index=False)"
   ]
  },
  {
   "cell_type": "code",
   "execution_count": 16,
   "metadata": {},
   "outputs": [
    {
     "name": "stderr",
     "output_type": "stream",
     "text": [
      "2023-04-12 14:46:17,743 INFO: USE `default`\n",
      "2023-04-12 14:46:18,654 INFO: \n",
      "    DROP TABLE IF EXISTS sweeper_dev.collection_export_test_123\n",
      "    \n",
      "2023-04-12 14:46:19,556 INFO: The query returned no records.\n",
      "2023-04-12 14:46:19,557 INFO: Dropped sweeper_dev.collection_export_test_123\n",
      "2023-04-12 14:46:20,178 INFO: Files in 's3://wish-tahoe-query-results/sweeper_dev.collection_export_test_123 are deleted.\n"
     ]
    }
   ],
   "source": [
    "drop_external_table(\n",
    "    db=db,\n",
    "    table_name=export_table[\"name\"],\n",
    "    delete_files=True,\n",
    "    s3_bucket=result_bucket,\n",
    "    s3_prefix=f\"{db}.{export_table['name']}\", \n",
    ")"
   ]
  },
  {
   "attachments": {},
   "cell_type": "markdown",
   "metadata": {},
   "source": [
    "# download data with image embedding"
   ]
  },
  {
   "cell_type": "code",
   "execution_count": 2,
   "metadata": {},
   "outputs": [],
   "source": [
    "# Define the export table\n",
    "export_table = {\n",
    "    \"name\": \"collection_export_withemb_test_123\",\n",
    "    \"columns\": [\n",
    "        {\"name\": \"product_id\", \"type\": \"STRING\"},\n",
    "        {\"name\": \"name\", \"type\": \"STRING\"},\n",
    "        {\"name\": \"merchant_id\", \"type\": \"STRING\"},\n",
    "        {\"name\": \"image_hash\", \"type\": \"STRING\"},\n",
    "        {\"name\": \"img_embedding\", \"type\": \"STRING\"},\n",
    "        {\"name\": \"wss_tier\", \"type\": \"STRING\"},\n",
    "        {\"name\": \"gmv_365d\", \"type\": \"FLOAT\"},\n",
    "        {\"name\": \"refund_rate\", \"type\": \"FLOAT\"},\n",
    "        {\"name\": \"average_rating\", \"type\": \"FLOAT\"},\n",
    "        {\"name\": \"rating_count\", \"type\": \"FLOAT\"},\n",
    "        {\"name\": \"dt\", \"type\": \"STRING\"}\n",
    "    ]\n",
    "}\n",
    "db = \"sweeper_dev\""
   ]
  },
  {
   "cell_type": "code",
   "execution_count": 3,
   "metadata": {},
   "outputs": [
    {
     "name": "stderr",
     "output_type": "stream",
     "text": [
      "2023-04-12 16:27:29,214 INFO: USE `default`\n",
      "2023-04-12 16:27:30,085 INFO: \n",
      "    CREATE TABLE sweeper_dev.collection_export_withemb_test_123 (\n",
      "    product_id STRING,\n",
      "\tname STRING,\n",
      "\tmerchant_id STRING,\n",
      "\timage_hash STRING,\n",
      "\timg_embedding STRING,\n",
      "\twss_tier STRING,\n",
      "\tgmv_365d FLOAT,\n",
      "\trefund_rate FLOAT,\n",
      "\taverage_rating FLOAT,\n",
      "\trating_count FLOAT,\n",
      "\tdt STRING\n",
      "    )\n",
      "    \n",
      "STORED AS PARQUET\n",
      "LOCATION 's3://wish-tahoe-query-results/sweeper_dev/collection_export_withemb_test_123'\n",
      "TBLPROPERTIES ('parquet.compression'='SNAPPY')\n",
      "2023-04-12 16:27:30,923 INFO: The query returned no records.\n"
     ]
    }
   ],
   "source": [
    "# Create the export table\n",
    "create_external_table(\n",
    "    table_name=export_table[\"name\"],\n",
    "    table_definition=export_table,\n",
    "    db=db,\n",
    "    bucket=result_bucket\n",
    ")"
   ]
  },
  {
   "cell_type": "code",
   "execution_count": 4,
   "metadata": {},
   "outputs": [
    {
     "name": "stderr",
     "output_type": "stream",
     "text": [
      "2023-04-12 16:27:36,454 INFO: \n",
      "INSERT INTO sweeper_dev.collection_export_withemb_test_123\n",
      "SELECT a.product_id, a.name, a.merchant_id, a.image_hash, b.img_embedding, a.wss_tier, a.gmv_365d, a.refund_rate, a.average_rating, a.rating_count, a.dt\n",
      "FROM test.collection_builder_candidates a\n",
      "JOIN supply.microtagging_master_image_embeds_hash b\n",
      "ON a.image_hash = b.image_hash\n",
      "\n"
     ]
    },
    {
     "data": {
      "text/plain": [
       "[(986750,)]"
      ]
     },
     "execution_count": 4,
     "metadata": {},
     "output_type": "execute_result"
    }
   ],
   "source": [
    "# Credit: Jordan Long\n",
    "q = f\"\"\"\n",
    "INSERT INTO {db}.{export_table['name']}\n",
    "SELECT a.product_id, a.name, a.merchant_id, a.image_hash, b.img_embedding, a.wss_tier, a.gmv_365d, a.refund_rate, a.average_rating, a.rating_count, a.dt\n",
    "FROM test.collection_builder_candidates a\n",
    "JOIN supply.microtagging_master_image_embeds_hash b\n",
    "ON a.image_hash = b.image_hash\n",
    "\"\"\"\n",
    "execute_async(q)"
   ]
  },
  {
   "cell_type": "code",
   "execution_count": 5,
   "metadata": {},
   "outputs": [
    {
     "name": "stderr",
     "output_type": "stream",
     "text": [
      "2023-04-12 16:32:13,938 INFO: SELECT COUNT(*) FROM sweeper_dev.collection_export_withemb_test_123\n"
     ]
    },
    {
     "data": {
      "text/plain": [
       "[(986750,)]"
      ]
     },
     "execution_count": 5,
     "metadata": {},
     "output_type": "execute_result"
    }
   ],
   "source": [
    "# Check again the number of rows in the external table\n",
    "q = f\"SELECT COUNT(*) FROM {db}.{export_table['name']}\"\n",
    "execute_async(q)"
   ]
  },
  {
   "cell_type": "code",
   "execution_count": 6,
   "metadata": {},
   "outputs": [],
   "source": [
    "# Show the data files for the external table\n",
    "file_keys = get_s3_file_keys(s3_bucket=result_bucket, s3_prefix=f\"{db}/{export_table['name']}\")"
   ]
  },
  {
   "cell_type": "code",
   "execution_count": 7,
   "metadata": {},
   "outputs": [
    {
     "data": {
      "text/plain": [
       "50"
      ]
     },
     "execution_count": 7,
     "metadata": {},
     "output_type": "execute_result"
    }
   ],
   "source": [
    "len(file_keys)"
   ]
  },
  {
   "cell_type": "code",
   "execution_count": 8,
   "metadata": {},
   "outputs": [],
   "source": [
    "from tqdm import tqdm"
   ]
  },
  {
   "cell_type": "code",
   "execution_count": 9,
   "metadata": {},
   "outputs": [
    {
     "name": "stderr",
     "output_type": "stream",
     "text": [
      "  0%|          | 0/50 [00:00<?, ?it/s]2023-04-12 16:32:31,465 INFO: Importing from sweeper_dev/collection_export_withemb_test_123/20230412_162736_60854_afvpw_00384228-ac5d-456c-bcd6-e0080a3877ce...\n",
      "2023-04-12 16:32:39,875 INFO: Imported DF (32365, 11) from sweeper_dev/collection_export_withemb_test_123/20230412_162736_60854_afvpw_00384228-ac5d-456c-bcd6-e0080a3877ce.\n",
      "  2%|▏         | 1/50 [00:16<13:28, 16.49s/it]2023-04-12 16:32:47,959 INFO: Importing from sweeper_dev/collection_export_withemb_test_123/20230412_162736_60854_afvpw_04492e76-a513-4bb2-b5cd-8fd6fbd5f49d...\n",
      "2023-04-12 16:32:53,499 INFO: Imported DF (21385, 11) from sweeper_dev/collection_export_withemb_test_123/20230412_162736_60854_afvpw_04492e76-a513-4bb2-b5cd-8fd6fbd5f49d.\n",
      "  4%|▍         | 2/50 [00:27<10:31, 13.16s/it]2023-04-12 16:32:58,783 INFO: Importing from sweeper_dev/collection_export_withemb_test_123/20230412_162736_60854_afvpw_0718f77f-f523-4006-8596-a382c2a33b54...\n",
      "2023-04-12 16:33:04,491 INFO: Imported DF (24383, 11) from sweeper_dev/collection_export_withemb_test_123/20230412_162736_60854_afvpw_0718f77f-f523-4006-8596-a382c2a33b54.\n",
      "  6%|▌         | 3/50 [00:39<09:47, 12.50s/it]2023-04-12 16:33:10,497 INFO: Importing from sweeper_dev/collection_export_withemb_test_123/20230412_162736_60854_afvpw_074637f7-646a-48ed-a373-5fe37067c76f...\n",
      "2023-04-12 16:33:16,221 INFO: Imported DF (18533, 11) from sweeper_dev/collection_export_withemb_test_123/20230412_162736_60854_afvpw_074637f7-646a-48ed-a373-5fe37067c76f.\n",
      "  8%|▊         | 4/50 [00:49<08:54, 11.62s/it]2023-04-12 16:33:20,767 INFO: Importing from sweeper_dev/collection_export_withemb_test_123/20230412_162736_60854_afvpw_216b7801-94f1-420e-bdc4-5842b2ffc94d...\n",
      "2023-04-12 16:33:26,614 INFO: Imported DF (19639, 11) from sweeper_dev/collection_export_withemb_test_123/20230412_162736_60854_afvpw_216b7801-94f1-420e-bdc4-5842b2ffc94d.\n",
      " 10%|█         | 5/50 [01:00<08:42, 11.61s/it]2023-04-12 16:33:32,349 INFO: Importing from sweeper_dev/collection_export_withemb_test_123/20230412_162736_60854_afvpw_29ff2ede-7a69-4241-971b-07f4f2920477...\n",
      "2023-04-12 16:33:37,386 INFO: Imported DF (18445, 11) from sweeper_dev/collection_export_withemb_test_123/20230412_162736_60854_afvpw_29ff2ede-7a69-4241-971b-07f4f2920477.\n",
      " 12%|█▏        | 6/50 [01:10<08:03, 10.98s/it]2023-04-12 16:33:42,121 INFO: Importing from sweeper_dev/collection_export_withemb_test_123/20230412_162736_60854_afvpw_2a944874-c860-473d-a15f-10fd8140a7cc...\n",
      "2023-04-12 16:33:47,128 INFO: Imported DF (22328, 11) from sweeper_dev/collection_export_withemb_test_123/20230412_162736_60854_afvpw_2a944874-c860-473d-a15f-10fd8140a7cc.\n",
      " 14%|█▍        | 7/50 [01:21<07:45, 10.83s/it]2023-04-12 16:33:52,632 INFO: Importing from sweeper_dev/collection_export_withemb_test_123/20230412_162736_60854_afvpw_2baea881-4447-4573-b1f1-f26111cafa2d...\n",
      "2023-04-12 16:33:58,027 INFO: Imported DF (18593, 11) from sweeper_dev/collection_export_withemb_test_123/20230412_162736_60854_afvpw_2baea881-4447-4573-b1f1-f26111cafa2d.\n",
      " 16%|█▌        | 8/50 [01:31<07:23, 10.56s/it]2023-04-12 16:34:02,612 INFO: Importing from sweeper_dev/collection_export_withemb_test_123/20230412_162736_60854_afvpw_2c8c9ef9-564d-468e-a3fb-8ea4610b1d65...\n",
      "2023-04-12 16:34:09,021 INFO: Imported DF (22940, 11) from sweeper_dev/collection_export_withemb_test_123/20230412_162736_60854_afvpw_2c8c9ef9-564d-468e-a3fb-8ea4610b1d65.\n",
      " 18%|█▊        | 9/50 [01:43<07:31, 11.02s/it]2023-04-12 16:34:14,658 INFO: Importing from sweeper_dev/collection_export_withemb_test_123/20230412_162736_60854_afvpw_3cc3b04f-b2e4-4560-8318-be9a3ff64b93...\n",
      "2023-04-12 16:34:19,624 INFO: Imported DF (16515, 11) from sweeper_dev/collection_export_withemb_test_123/20230412_162736_60854_afvpw_3cc3b04f-b2e4-4560-8318-be9a3ff64b93.\n",
      " 20%|██        | 10/50 [01:52<06:56, 10.41s/it]2023-04-12 16:34:23,698 INFO: Importing from sweeper_dev/collection_export_withemb_test_123/20230412_162736_60854_afvpw_44de37ad-0758-4b60-9d7d-924a72eb610d...\n",
      "2023-04-12 16:34:25,061 INFO: Imported DF (2412, 11) from sweeper_dev/collection_export_withemb_test_123/20230412_162736_60854_afvpw_44de37ad-0758-4b60-9d7d-924a72eb610d.\n",
      " 22%|██▏       | 11/50 [01:54<05:05,  7.83s/it]2023-04-12 16:34:25,673 INFO: Importing from sweeper_dev/collection_export_withemb_test_123/20230412_162736_60854_afvpw_48ef0a77-0547-4b95-8b5d-70519eb31a68...\n",
      "2023-04-12 16:34:33,134 INFO: Imported DF (31093, 11) from sweeper_dev/collection_export_withemb_test_123/20230412_162736_60854_afvpw_48ef0a77-0547-4b95-8b5d-70519eb31a68.\n",
      " 24%|██▍       | 12/50 [02:09<06:21, 10.05s/it]2023-04-12 16:34:40,806 INFO: Importing from sweeper_dev/collection_export_withemb_test_123/20230412_162736_60854_afvpw_5ae3bcd6-d195-4d4f-a79c-84afc11a8444...\n",
      "2023-04-12 16:34:45,359 INFO: Imported DF (6885, 11) from sweeper_dev/collection_export_withemb_test_123/20230412_162736_60854_afvpw_5ae3bcd6-d195-4d4f-a79c-84afc11a8444.\n",
      " 26%|██▌       | 13/50 [02:15<05:29,  8.90s/it]2023-04-12 16:34:47,072 INFO: Importing from sweeper_dev/collection_export_withemb_test_123/20230412_162736_60854_afvpw_5c245290-826d-4deb-a622-c3184d7739c9...\n",
      "2023-04-12 16:34:52,647 INFO: Imported DF (21792, 11) from sweeper_dev/collection_export_withemb_test_123/20230412_162736_60854_afvpw_5c245290-826d-4deb-a622-c3184d7739c9.\n",
      " 28%|██▊       | 14/50 [02:26<05:42,  9.51s/it]2023-04-12 16:34:57,987 INFO: Importing from sweeper_dev/collection_export_withemb_test_123/20230412_162736_60854_afvpw_6c9852b4-dbc8-4ee7-8b39-29f967b3fb18...\n",
      "2023-04-12 16:34:59,686 INFO: Imported DF (2301, 11) from sweeper_dev/collection_export_withemb_test_123/20230412_162736_60854_afvpw_6c9852b4-dbc8-4ee7-8b39-29f967b3fb18.\n",
      " 30%|███       | 15/50 [02:28<04:16,  7.33s/it]2023-04-12 16:35:00,270 INFO: Importing from sweeper_dev/collection_export_withemb_test_123/20230412_162736_60854_afvpw_706678f6-54a0-4800-aff5-e076c9feaf80...\n",
      "2023-04-12 16:35:05,272 INFO: Imported DF (18529, 11) from sweeper_dev/collection_export_withemb_test_123/20230412_162736_60854_afvpw_706678f6-54a0-4800-aff5-e076c9feaf80.\n",
      " 32%|███▏      | 16/50 [02:38<04:32,  8.00s/it]2023-04-12 16:35:09,827 INFO: Importing from sweeper_dev/collection_export_withemb_test_123/20230412_162736_60854_afvpw_7c96ed74-1d20-407f-9c45-2be85bb5cc45...\n",
      "2023-04-12 16:35:20,243 INFO: Imported DF (55578, 11) from sweeper_dev/collection_export_withemb_test_123/20230412_162736_60854_afvpw_7c96ed74-1d20-407f-9c45-2be85bb5cc45.\n",
      " 34%|███▍      | 17/50 [03:03<07:16, 13.22s/it]2023-04-12 16:35:35,201 INFO: Importing from sweeper_dev/collection_export_withemb_test_123/20230412_162736_60854_afvpw_8028bfaa-f0e8-42a9-b647-38fbb41c1d41...\n",
      "2023-04-12 16:35:40,320 INFO: Imported DF (16890, 11) from sweeper_dev/collection_export_withemb_test_123/20230412_162736_60854_afvpw_8028bfaa-f0e8-42a9-b647-38fbb41c1d41.\n",
      " 36%|███▌      | 18/50 [03:13<06:25, 12.05s/it]2023-04-12 16:35:44,517 INFO: Importing from sweeper_dev/collection_export_withemb_test_123/20230412_162736_60854_afvpw_80d1bf98-55c7-4f8c-a0f2-f5eda50fba57...\n",
      "2023-04-12 16:35:49,907 INFO: Imported DF (21781, 11) from sweeper_dev/collection_export_withemb_test_123/20230412_162736_60854_afvpw_80d1bf98-55c7-4f8c-a0f2-f5eda50fba57.\n",
      " 38%|███▊      | 19/50 [03:23<06:01, 11.67s/it]2023-04-12 16:35:55,285 INFO: Importing from sweeper_dev/collection_export_withemb_test_123/20230412_162736_60854_afvpw_8c0e99b8-30f3-4565-a1ae-f8e8f0387336...\n",
      "2023-04-12 16:36:00,788 INFO: Imported DF (22210, 11) from sweeper_dev/collection_export_withemb_test_123/20230412_162736_60854_afvpw_8c0e99b8-30f3-4565-a1ae-f8e8f0387336.\n",
      " 40%|████      | 20/50 [03:34<05:43, 11.46s/it]2023-04-12 16:36:06,274 INFO: Importing from sweeper_dev/collection_export_withemb_test_123/20230412_162736_60854_afvpw_8e6dfed8-ec60-4aad-bd87-428df6fa9dbe...\n",
      "2023-04-12 16:36:11,617 INFO: Imported DF (19390, 11) from sweeper_dev/collection_export_withemb_test_123/20230412_162736_60854_afvpw_8e6dfed8-ec60-4aad-bd87-428df6fa9dbe.\n",
      " 42%|████▏     | 21/50 [03:44<05:20, 11.06s/it]2023-04-12 16:36:16,393 INFO: Importing from sweeper_dev/collection_export_withemb_test_123/20230412_162736_60854_afvpw_8ffcc667-97ce-4212-a92a-3d1cef123cab...\n",
      "2023-04-12 16:36:21,084 INFO: Imported DF (18836, 11) from sweeper_dev/collection_export_withemb_test_123/20230412_162736_60854_afvpw_8ffcc667-97ce-4212-a92a-3d1cef123cab.\n",
      " 44%|████▍     | 22/50 [03:54<04:55, 10.55s/it]2023-04-12 16:36:25,767 INFO: Importing from sweeper_dev/collection_export_withemb_test_123/20230412_162736_60854_afvpw_90598f18-0e38-4fb1-9bec-baf6603847bf...\n",
      "2023-04-12 16:36:31,049 INFO: Imported DF (20337, 11) from sweeper_dev/collection_export_withemb_test_123/20230412_162736_60854_afvpw_90598f18-0e38-4fb1-9bec-baf6603847bf.\n",
      " 46%|████▌     | 23/50 [04:04<04:42, 10.48s/it]2023-04-12 16:36:36,065 INFO: Importing from sweeper_dev/collection_export_withemb_test_123/20230412_162736_60854_afvpw_9103003e-a15c-4b68-95cb-3d9ee043fe7c...\n",
      "2023-04-12 16:36:43,105 INFO: Imported DF (32715, 11) from sweeper_dev/collection_export_withemb_test_123/20230412_162736_60854_afvpw_9103003e-a15c-4b68-95cb-3d9ee043fe7c.\n",
      " 48%|████▊     | 24/50 [04:19<05:08, 11.87s/it]2023-04-12 16:36:51,200 INFO: Importing from sweeper_dev/collection_export_withemb_test_123/20230412_162736_60854_afvpw_91270e7a-5e00-4694-b3b0-02901189c19c...\n",
      "2023-04-12 16:36:56,572 INFO: Imported DF (19150, 11) from sweeper_dev/collection_export_withemb_test_123/20230412_162736_60854_afvpw_91270e7a-5e00-4694-b3b0-02901189c19c.\n",
      " 50%|█████     | 25/50 [04:29<04:43, 11.34s/it]2023-04-12 16:37:01,291 INFO: Importing from sweeper_dev/collection_export_withemb_test_123/20230412_162736_60854_afvpw_9292ee1b-7d57-4b89-a0eb-b6716de57736...\n",
      "2023-04-12 16:37:06,083 INFO: Imported DF (17086, 11) from sweeper_dev/collection_export_withemb_test_123/20230412_162736_60854_afvpw_9292ee1b-7d57-4b89-a0eb-b6716de57736.\n",
      " 52%|█████▏    | 26/50 [04:38<04:15, 10.66s/it]2023-04-12 16:37:10,381 INFO: Importing from sweeper_dev/collection_export_withemb_test_123/20230412_162736_60854_afvpw_9640d01c-1c75-48ea-bcd9-83aee79fe794...\n",
      "2023-04-12 16:37:16,199 INFO: Imported DF (17289, 11) from sweeper_dev/collection_export_withemb_test_123/20230412_162736_60854_afvpw_9640d01c-1c75-48ea-bcd9-83aee79fe794.\n",
      " 54%|█████▍    | 27/50 [04:48<04:01, 10.48s/it]2023-04-12 16:37:20,439 INFO: Importing from sweeper_dev/collection_export_withemb_test_123/20230412_162736_60854_afvpw_9c693f07-da6f-48e6-916e-63accf95e296...\n",
      "2023-04-12 16:37:25,915 INFO: Imported DF (18768, 11) from sweeper_dev/collection_export_withemb_test_123/20230412_162736_60854_afvpw_9c693f07-da6f-48e6-916e-63accf95e296.\n",
      " 56%|█████▌    | 28/50 [04:59<03:47, 10.36s/it]2023-04-12 16:37:30,523 INFO: Importing from sweeper_dev/collection_export_withemb_test_123/20230412_162736_60854_afvpw_9ca3c25e-17ce-4322-8870-7000205f2bde...\n",
      "2023-04-12 16:37:35,567 INFO: Imported DF (18719, 11) from sweeper_dev/collection_export_withemb_test_123/20230412_162736_60854_afvpw_9ca3c25e-17ce-4322-8870-7000205f2bde.\n",
      " 58%|█████▊    | 29/50 [05:08<03:34, 10.24s/it]2023-04-12 16:37:40,465 INFO: Importing from sweeper_dev/collection_export_withemb_test_123/20230412_162736_60854_afvpw_9cb1521d-a219-4fca-8eb4-e7cc11fcd6be...\n",
      "2023-04-12 16:37:46,108 INFO: Imported DF (16563, 11) from sweeper_dev/collection_export_withemb_test_123/20230412_162736_60854_afvpw_9cb1521d-a219-4fca-8eb4-e7cc11fcd6be.\n",
      " 60%|██████    | 30/50 [05:18<03:21, 10.09s/it]2023-04-12 16:37:50,199 INFO: Importing from sweeper_dev/collection_export_withemb_test_123/20230412_162736_60854_afvpw_a01bfb67-98e5-47ae-a204-e21e83f26d09...\n",
      "2023-04-12 16:37:55,290 INFO: Imported DF (19926, 11) from sweeper_dev/collection_export_withemb_test_123/20230412_162736_60854_afvpw_a01bfb67-98e5-47ae-a204-e21e83f26d09.\n",
      " 62%|██████▏   | 31/50 [05:28<03:11, 10.07s/it]2023-04-12 16:38:00,217 INFO: Importing from sweeper_dev/collection_export_withemb_test_123/20230412_162736_60854_afvpw_a2c3fbeb-61dc-48e2-ae12-283d5d2b48e1...\n",
      "2023-04-12 16:38:05,582 INFO: Imported DF (8003, 11) from sweeper_dev/collection_export_withemb_test_123/20230412_162736_60854_afvpw_a2c3fbeb-61dc-48e2-ae12-283d5d2b48e1.\n",
      " 64%|██████▍   | 32/50 [05:36<02:46,  9.24s/it]2023-04-12 16:38:07,536 INFO: Importing from sweeper_dev/collection_export_withemb_test_123/20230412_162736_60854_afvpw_a5127b30-290a-4a7b-8789-0055dbd152fc...\n",
      "2023-04-12 16:38:08,463 INFO: Imported DF (391, 11) from sweeper_dev/collection_export_withemb_test_123/20230412_162736_60854_afvpw_a5127b30-290a-4a7b-8789-0055dbd152fc.\n",
      " 66%|██████▌   | 33/50 [05:37<01:55,  6.78s/it]2023-04-12 16:38:08,572 INFO: Importing from sweeper_dev/collection_export_withemb_test_123/20230412_162736_60854_afvpw_b4166ea1-8094-4d9f-bae7-dc67a014b33e...\n",
      "2023-04-12 16:38:09,735 INFO: Imported DF (463, 11) from sweeper_dev/collection_export_withemb_test_123/20230412_162736_60854_afvpw_b4166ea1-8094-4d9f-bae7-dc67a014b33e.\n",
      " 68%|██████▊   | 34/50 [05:38<01:22,  5.13s/it]2023-04-12 16:38:09,858 INFO: Importing from sweeper_dev/collection_export_withemb_test_123/20230412_162736_60854_afvpw_b4e30ce4-a827-42a9-a87b-91a0665f3a02...\n",
      "2023-04-12 16:38:15,405 INFO: Imported DF (18075, 11) from sweeper_dev/collection_export_withemb_test_123/20230412_162736_60854_afvpw_b4e30ce4-a827-42a9-a87b-91a0665f3a02.\n",
      " 70%|███████   | 35/50 [05:48<01:38,  6.60s/it]2023-04-12 16:38:19,867 INFO: Importing from sweeper_dev/collection_export_withemb_test_123/20230412_162736_60854_afvpw_bceef0c8-4149-4814-ac80-014f5440221c...\n",
      "2023-04-12 16:38:25,799 INFO: Imported DF (20438, 11) from sweeper_dev/collection_export_withemb_test_123/20230412_162736_60854_afvpw_bceef0c8-4149-4814-ac80-014f5440221c.\n",
      " 72%|███████▏  | 36/50 [05:59<01:50,  7.92s/it]2023-04-12 16:38:30,864 INFO: Importing from sweeper_dev/collection_export_withemb_test_123/20230412_162736_60854_afvpw_bd750ceb-2a5e-4a24-9e85-366d1ad19812...\n",
      "2023-04-12 16:38:36,499 INFO: Imported DF (22880, 11) from sweeper_dev/collection_export_withemb_test_123/20230412_162736_60854_afvpw_bd750ceb-2a5e-4a24-9e85-366d1ad19812.\n",
      " 74%|███████▍  | 37/50 [06:10<01:56,  8.93s/it]2023-04-12 16:38:42,146 INFO: Importing from sweeper_dev/collection_export_withemb_test_123/20230412_162736_60854_afvpw_befca016-323d-453d-9df0-3155b81ef655...\n",
      "2023-04-12 16:38:47,989 INFO: Imported DF (19333, 11) from sweeper_dev/collection_export_withemb_test_123/20230412_162736_60854_afvpw_befca016-323d-453d-9df0-3155b81ef655.\n",
      " 76%|███████▌  | 38/50 [06:21<01:53,  9.44s/it]2023-04-12 16:38:52,780 INFO: Importing from sweeper_dev/collection_export_withemb_test_123/20230412_162736_60854_afvpw_c1a4003e-c7a5-4f15-b25b-280df9eca74f...\n",
      "2023-04-12 16:38:57,212 INFO: Imported DF (13718, 11) from sweeper_dev/collection_export_withemb_test_123/20230412_162736_60854_afvpw_c1a4003e-c7a5-4f15-b25b-280df9eca74f.\n",
      " 78%|███████▊  | 39/50 [06:29<01:38,  8.95s/it]2023-04-12 16:39:00,590 INFO: Importing from sweeper_dev/collection_export_withemb_test_123/20230412_162736_60854_afvpw_c28bf98a-e08c-4785-a416-029405dbf66d...\n",
      "2023-04-12 16:39:11,775 INFO: Imported DF (58503, 11) from sweeper_dev/collection_export_withemb_test_123/20230412_162736_60854_afvpw_c28bf98a-e08c-4785-a416-029405dbf66d.\n",
      " 80%|████████  | 40/50 [06:54<02:19, 13.96s/it]2023-04-12 16:39:26,239 INFO: Importing from sweeper_dev/collection_export_withemb_test_123/20230412_162736_60854_afvpw_c32c4da3-a033-4eef-9999-143a38d79c4c...\n",
      "2023-04-12 16:39:31,041 INFO: Imported DF (16491, 11) from sweeper_dev/collection_export_withemb_test_123/20230412_162736_60854_afvpw_c32c4da3-a033-4eef-9999-143a38d79c4c.\n",
      " 82%|████████▏ | 41/50 [07:03<01:52, 12.48s/it]2023-04-12 16:39:35,257 INFO: Importing from sweeper_dev/collection_export_withemb_test_123/20230412_162736_60854_afvpw_c7e90ce8-d9f6-411d-8b6a-783d4bc6c9a7...\n",
      "2023-04-12 16:39:40,936 INFO: Imported DF (15894, 11) from sweeper_dev/collection_export_withemb_test_123/20230412_162736_60854_afvpw_c7e90ce8-d9f6-411d-8b6a-783d4bc6c9a7.\n",
      " 84%|████████▍ | 42/50 [07:13<01:32, 11.60s/it]2023-04-12 16:39:44,821 INFO: Importing from sweeper_dev/collection_export_withemb_test_123/20230412_162736_60854_afvpw_c8097603-12ca-4368-a0c0-2ec70536ad04...\n",
      "2023-04-12 16:39:49,777 INFO: Imported DF (20016, 11) from sweeper_dev/collection_export_withemb_test_123/20230412_162736_60854_afvpw_c8097603-12ca-4368-a0c0-2ec70536ad04.\n",
      " 86%|████████▌ | 43/50 [07:23<01:17, 11.08s/it]2023-04-12 16:39:54,672 INFO: Importing from sweeper_dev/collection_export_withemb_test_123/20230412_162736_60854_afvpw_ca5072cf-fa2b-4ebb-861c-684ff98a314c...\n",
      "2023-04-12 16:39:59,195 INFO: Imported DF (18851, 11) from sweeper_dev/collection_export_withemb_test_123/20230412_162736_60854_afvpw_ca5072cf-fa2b-4ebb-861c-684ff98a314c.\n",
      " 88%|████████▊ | 44/50 [07:32<01:02, 10.50s/it]2023-04-12 16:40:03,819 INFO: Importing from sweeper_dev/collection_export_withemb_test_123/20230412_162736_60854_afvpw_cd8da64f-07cd-4eec-8ef2-7d1a2c6fd55d...\n",
      "2023-04-12 16:40:10,922 INFO: Imported DF (31439, 11) from sweeper_dev/collection_export_withemb_test_123/20230412_162736_60854_afvpw_cd8da64f-07cd-4eec-8ef2-7d1a2c6fd55d.\n",
      " 90%|█████████ | 45/50 [07:47<00:59, 11.81s/it]2023-04-12 16:40:18,683 INFO: Importing from sweeper_dev/collection_export_withemb_test_123/20230412_162736_60854_afvpw_db097c72-4ca2-42b8-9a80-5f071096d75d...\n",
      "2023-04-12 16:40:24,071 INFO: Imported DF (22441, 11) from sweeper_dev/collection_export_withemb_test_123/20230412_162736_60854_afvpw_db097c72-4ca2-42b8-9a80-5f071096d75d.\n",
      " 92%|█████████▏| 46/50 [07:58<00:46, 11.54s/it]2023-04-12 16:40:29,585 INFO: Importing from sweeper_dev/collection_export_withemb_test_123/20230412_162736_60854_afvpw_e08b9b7c-715b-4f46-94a7-ca8ed480edc5...\n",
      "2023-04-12 16:40:34,657 INFO: Imported DF (16483, 11) from sweeper_dev/collection_export_withemb_test_123/20230412_162736_60854_afvpw_e08b9b7c-715b-4f46-94a7-ca8ed480edc5.\n",
      " 94%|█████████▍| 47/50 [08:07<00:32, 10.82s/it]2023-04-12 16:40:38,728 INFO: Importing from sweeper_dev/collection_export_withemb_test_123/20230412_162736_60854_afvpw_e16d75ba-b048-4f6f-912e-fe63af81a39c...\n",
      "2023-04-12 16:40:43,690 INFO: Imported DF (14221, 11) from sweeper_dev/collection_export_withemb_test_123/20230412_162736_60854_afvpw_e16d75ba-b048-4f6f-912e-fe63af81a39c.\n",
      " 96%|█████████▌| 48/50 [08:15<00:20, 10.11s/it]2023-04-12 16:40:47,187 INFO: Importing from sweeper_dev/collection_export_withemb_test_123/20230412_162736_60854_afvpw_f7fae503-1735-4391-a57b-1b464782ad5f...\n",
      "2023-04-12 16:40:52,527 INFO: Imported DF (20396, 11) from sweeper_dev/collection_export_withemb_test_123/20230412_162736_60854_afvpw_f7fae503-1735-4391-a57b-1b464782ad5f.\n",
      " 98%|█████████▊| 49/50 [08:26<00:10, 10.18s/it]2023-04-12 16:40:57,517 INFO: Importing from sweeper_dev/collection_export_withemb_test_123/20230412_162736_60854_afvpw_fa92fd39-8433-4743-b4db-626f62fd42e9...\n",
      "2023-04-12 16:41:02,812 INFO: Imported DF (15338, 11) from sweeper_dev/collection_export_withemb_test_123/20230412_162736_60854_afvpw_fa92fd39-8433-4743-b4db-626f62fd42e9.\n",
      "100%|██████████| 50/50 [08:35<00:00, 10.30s/it]\n"
     ]
    }
   ],
   "source": [
    "metadatas = []\n",
    "img_embs = []\n",
    "for file_key, file_size in tqdm(file_keys):\n",
    "    df_chunk = get_df_from_parquet(s3_bucket=result_bucket, s3_key=file_key)\n",
    "    img_embs.append(np.array(df_chunk\n",
    "        .img_embedding\n",
    "        .apply(lambda x: np.fromstring(x[1:-1], sep=','))\n",
    "        .tolist())\n",
    "    )\n",
    "    del df_chunk['img_embedding']\n",
    "    metadatas.append(df_chunk.to_dict('records'))"
   ]
  },
  {
   "cell_type": "code",
   "execution_count": 11,
   "metadata": {},
   "outputs": [
    {
     "name": "stdout",
     "output_type": "stream",
     "text": [
      "Current memory usage: 10.07 GB\n"
     ]
    }
   ],
   "source": [
    "import psutil\n",
    "\n",
    "# function to convert bytes to a more human-readable format\n",
    "def convert_bytes(num):\n",
    "    for x in ['bytes', 'KB', 'MB', 'GB', 'TB']:\n",
    "        if num < 1024.0:\n",
    "            return f\"{num:.2f} {x}\"\n",
    "        num /= 1024.0\n",
    "\n",
    "# get the current process's memory usage\n",
    "process = psutil.Process()\n",
    "memory_info = process.memory_info().rss\n",
    "\n",
    "# print the memory usage in a human-readable format\n",
    "print(f\"Current memory usage: {convert_bytes(memory_info)}\")"
   ]
  },
  {
   "cell_type": "code",
   "execution_count": 12,
   "metadata": {},
   "outputs": [],
   "source": [
    "flat_metadatas = [j for i in metadatas for j in i]"
   ]
  },
  {
   "cell_type": "code",
   "execution_count": 13,
   "metadata": {},
   "outputs": [
    {
     "data": {
      "text/plain": [
       "([{'product_id': '5be10705c7a35019fc85eed0',\n",
       "   'name': '36pcs/set Foam Letters Numbers Floating Bath Tub Toddler Children Learning Toys',\n",
       "   'merchant_id': '57285b300cdedf592d80ac69',\n",
       "   'image_hash': 'b1198308cd95a25bb5dd71e8249e8445',\n",
       "   'wss_tier': 'Silver',\n",
       "   'gmv_365d': 61.27290344238281,\n",
       "   'refund_rate': 0.0,\n",
       "   'average_rating': 4.75,\n",
       "   'rating_count': 4.0,\n",
       "   'dt': '2023-04-09'},\n",
       "  {'product_id': '5e1ed37f1f937c0eed84f224',\n",
       "   'name': '13CM*16.9CM Car Sticker Fairy Butterfly Removable Decal Art Decor Vinyl Black/Silver C24-0187',\n",
       "   'merchant_id': '5773bd2129a2af1ae0d9ef6c',\n",
       "   'image_hash': '04bfc69888d92e68dcc43ab34deada46',\n",
       "   'wss_tier': 'Gold',\n",
       "   'gmv_365d': 305.23193359375,\n",
       "   'refund_rate': 0.016949152573943138,\n",
       "   'average_rating': 4.2727274894714355,\n",
       "   'rating_count': 22.0,\n",
       "   'dt': '2023-04-09'},\n",
       "  {'product_id': '625520a445dcebce7dfb81cf',\n",
       "   'name': 'Compression Tool,Compression Tool Kit F-Type For RG58 RG59 RG6 Connectors Cable Stripper Coaxial Crimping Set',\n",
       "   'merchant_id': '5f814cb733e5b69dce261f20',\n",
       "   'image_hash': '2606d7000ef00ffe3565ae1f3caa024c',\n",
       "   'wss_tier': 'Silver',\n",
       "   'gmv_365d': 71.32566833496094,\n",
       "   'refund_rate': 0.0,\n",
       "   'average_rating': 3.0,\n",
       "   'rating_count': 2.0,\n",
       "   'dt': '2023-04-09'},\n",
       "  {'product_id': '56b2c674c30d0c112052c673',\n",
       "   'name': '2018 Girls Baby Kids Floral Swimsuit 3PCS Tankini Sets Children Swimwear Bathing Suits',\n",
       "   'merchant_id': '566e89ea81581745d205ee10',\n",
       "   'image_hash': '9b00506ffbe5d7cc4a259c029293a3a2',\n",
       "   'wss_tier': 'Gold',\n",
       "   'gmv_365d': 61.58256149291992,\n",
       "   'refund_rate': 0.0,\n",
       "   'average_rating': 4.290322780609131,\n",
       "   'rating_count': 31.0,\n",
       "   'dt': '2023-04-09'},\n",
       "  {'product_id': '60922813b04777e8633ff820',\n",
       "   'name': 'Bohemian Style Dangle Drop Earrings Bride Wedding Engagement Amethyst Opal Earrings for Women',\n",
       "   'merchant_id': '59b517c94b913a7fcd6dfbd9',\n",
       "   'image_hash': '30102968c18e7e5480bd87b6426cdbd7',\n",
       "   'wss_tier': 'Silver',\n",
       "   'gmv_365d': 1063.2265625,\n",
       "   'refund_rate': 0.01785714365541935,\n",
       "   'average_rating': 4.629310131072998,\n",
       "   'rating_count': 116.0,\n",
       "   'dt': '2023-04-09'},\n",
       "  {'product_id': '5ee6eff0fb8a64b899d1f282',\n",
       "   'name': 'Soft Reusable Washable Dog Diaper Physiological Pants for Female Small Big Dog',\n",
       "   'merchant_id': '5d47c73872b0c91fb9ff97f2',\n",
       "   'image_hash': 'fdbc44cbb184851e2911712ba37508c3',\n",
       "   'wss_tier': 'Silver',\n",
       "   'gmv_365d': 70.62413024902344,\n",
       "   'refund_rate': 0.0,\n",
       "   'average_rating': 5.0,\n",
       "   'rating_count': 0.0,\n",
       "   'dt': '2023-04-09'},\n",
       "  {'product_id': '55f6eca0ae8c9327f443de40',\n",
       "   'name': 'New CZ Jewelry  925 Sterling Silver Cubic Zircon Pendant  Necklace Wedding Gift Wholesale',\n",
       "   'merchant_id': '55dfd9d90eeb2a48a573042e',\n",
       "   'image_hash': '009a67a8fd3f58b47027175dd6018cfd',\n",
       "   'wss_tier': 'Gold',\n",
       "   'gmv_365d': 19.155773162841797,\n",
       "   'refund_rate': 0.0,\n",
       "   'average_rating': 5.0,\n",
       "   'rating_count': 5.0,\n",
       "   'dt': '2023-04-09'},\n",
       "  {'product_id': '60c034ae5e98d4b72a385ae4',\n",
       "   'name': 'CNMG120404 CNMG120408 arbide insert External turning tool metal lathe tool CNMG 120404 CNMG 120408',\n",
       "   'merchant_id': '596f1b9cabea91640c0ebacb',\n",
       "   'image_hash': '1280da96751a91dd7e706df766bfa40e',\n",
       "   'wss_tier': 'Gold',\n",
       "   'gmv_365d': 300.75909423828125,\n",
       "   'refund_rate': 0.0,\n",
       "   'average_rating': 5.0,\n",
       "   'rating_count': 2.0,\n",
       "   'dt': '2023-04-09'},\n",
       "  {'product_id': '5e8e8860b147f807024dc706',\n",
       "   'name': 'Sweet Baby Girls Kids Flower Splice Lace Dress Party Skirt Toddler Clothes Baby Girl Dress',\n",
       "   'merchant_id': '5d3ff85b838897466b14419f',\n",
       "   'image_hash': 'adc531a6b86613aba3dd429b831bc6c6',\n",
       "   'wss_tier': 'Silver',\n",
       "   'gmv_365d': 100.2389144897461,\n",
       "   'refund_rate': 0.0,\n",
       "   'average_rating': 4.125,\n",
       "   'rating_count': 8.0,\n",
       "   'dt': '2023-04-09'},\n",
       "  {'product_id': '5fd82f3dbcaa9a93cd69f2ba',\n",
       "   'name': 'Gay Man Pride F 44mm 1.75inch pins broach DIY Buttons Snap-in Craft 3 Inch Round',\n",
       "   'merchant_id': '5e6753745a3e1f68078fa804',\n",
       "   'image_hash': 'ffb554fa9c4897e22952fb92a3c20141',\n",
       "   'wss_tier': 'Gold',\n",
       "   'gmv_365d': 6.33949613571167,\n",
       "   'refund_rate': 0.0,\n",
       "   'average_rating': 5.0,\n",
       "   'rating_count': 0.0,\n",
       "   'dt': '2023-04-09'}],\n",
       " 986750)"
      ]
     },
     "execution_count": 13,
     "metadata": {},
     "output_type": "execute_result"
    }
   ],
   "source": [
    "flat_metadatas[:10], len(flat_metadatas)"
   ]
  },
  {
   "cell_type": "code",
   "execution_count": 14,
   "metadata": {},
   "outputs": [
    {
     "data": {
      "text/plain": [
       "True"
      ]
     },
     "execution_count": 14,
     "metadata": {},
     "output_type": "execute_result"
    }
   ],
   "source": [
    "len(set(pd.DataFrame(flat_metadatas)['product_id'])) == len(flat_metadatas)"
   ]
  },
  {
   "cell_type": "code",
   "execution_count": 15,
   "metadata": {},
   "outputs": [],
   "source": [
    "all_img_embs = np.vstack(img_embs)"
   ]
  },
  {
   "cell_type": "code",
   "execution_count": 16,
   "metadata": {},
   "outputs": [
    {
     "data": {
      "text/plain": [
       "5049"
      ]
     },
     "execution_count": 16,
     "metadata": {},
     "output_type": "execute_result"
    }
   ],
   "source": [
    "del img_embs\n",
    "img_embs = None \n",
    "import gc \n",
    "gc.collect()"
   ]
  },
  {
   "cell_type": "code",
   "execution_count": 17,
   "metadata": {},
   "outputs": [
    {
     "data": {
      "text/plain": [
       "(986750, 768)"
      ]
     },
     "execution_count": 17,
     "metadata": {},
     "output_type": "execute_result"
    }
   ],
   "source": [
    "all_img_embs.shape"
   ]
  },
  {
   "cell_type": "code",
   "execution_count": 1,
   "metadata": {},
   "outputs": [],
   "source": [
    "from docarray import DocumentArray, Document"
   ]
  },
  {
   "cell_type": "code",
   "execution_count": 19,
   "metadata": {},
   "outputs": [],
   "source": [
    "docs = DocumentArray.empty(len(all_img_embs))\n",
    "docs = DocumentArray(\n",
    "    [\n",
    "        Document(id=flat_metadatas[i]['product_id'], tags=flat_metadatas[i])\n",
    "        for i in range(len(flat_metadatas))\n",
    "    ]\n",
    ")\n",
    "\n",
    "docs.embeddings = all_img_embs"
   ]
  },
  {
   "cell_type": "code",
   "execution_count": 51,
   "metadata": {},
   "outputs": [],
   "source": [
    "docs.save('collection_products_withclip_peterhull_041223.bin')"
   ]
  },
  {
   "cell_type": "code",
   "execution_count": 2,
   "metadata": {},
   "outputs": [],
   "source": [
    "docs = DocumentArray.load('collection_products_withclip_peterhull_041223.bin')"
   ]
  },
  {
   "cell_type": "code",
   "execution_count": 5,
   "metadata": {},
   "outputs": [],
   "source": [
    "docs[:10000].save('collection_products_withclip_peterhull_top10000_041223.bin')"
   ]
  },
  {
   "cell_type": "code",
   "execution_count": 21,
   "metadata": {},
   "outputs": [
    {
     "name": "stderr",
     "output_type": "stream",
     "text": [
      "2023-04-12 17:02:09,561 INFO: USE `default`\n",
      "2023-04-12 17:02:10,416 INFO: \n",
      "    DROP TABLE IF EXISTS sweeper_dev.collection_export_withemb_test_123\n",
      "    \n",
      "2023-04-12 17:02:12,878 INFO: INFO  : Compiling command(queryId=hive_20230412170210_833c0458-6e2b-4ecb-8cf7-f579552aea15): \n",
      "2023-04-12 17:02:12,879 INFO:     DROP TABLE IF EXISTS sweeper_dev.collection_export_withemb_test_123\n",
      "2023-04-12 17:02:12,880 INFO:     \n",
      "2023-04-12 17:02:12,881 INFO: INFO  : Concurrency mode is disabled, not creating a lock manager\n",
      "2023-04-12 17:02:12,882 INFO: INFO  : Semantic Analysis Completed (retrial = false)\n",
      "2023-04-12 17:02:12,882 INFO: INFO  : Returning Hive schema: Schema(fieldSchemas:null, properties:null)\n",
      "2023-04-12 17:02:12,883 INFO: INFO  : EXPLAIN output for queryid hive_20230412170210_833c0458-6e2b-4ecb-8cf7-f579552aea15 : STAGE DEPENDENCIES:\n",
      "2023-04-12 17:02:12,884 INFO:   Stage-0 is a root stage [DDL]\n",
      "2023-04-12 17:02:12,885 INFO: \n",
      "2023-04-12 17:02:12,886 INFO: STAGE PLANS:\n",
      "2023-04-12 17:02:12,886 INFO:   Stage: Stage-0\n",
      "2023-04-12 17:02:12,887 INFO:       Drop Table Operator:\n",
      "2023-04-12 17:02:12,888 INFO:         Drop Table\n",
      "2023-04-12 17:02:12,889 INFO:           table: sweeper_dev.collection_export_withemb_test_123\n",
      "2023-04-12 17:02:12,890 INFO: \n",
      "2023-04-12 17:02:12,891 INFO: \n",
      "2023-04-12 17:02:12,892 INFO: INFO  : Completed compiling command(queryId=hive_20230412170210_833c0458-6e2b-4ecb-8cf7-f579552aea15); Time taken: 0.045 seconds\n",
      "2023-04-12 17:02:12,893 INFO: INFO  : Concurrency mode is disabled, not creating a lock manager\n",
      "2023-04-12 17:02:12,893 INFO: INFO  : Executing command(queryId=hive_20230412170210_833c0458-6e2b-4ecb-8cf7-f579552aea15): \n",
      "2023-04-12 17:02:12,894 INFO:     DROP TABLE IF EXISTS sweeper_dev.collection_export_withemb_test_123\n",
      "2023-04-12 17:02:12,895 INFO:     \n",
      "2023-04-12 17:02:12,895 INFO: INFO  : Starting task [Stage-0:DDL] in serial mode\n",
      "2023-04-12 17:02:13,278 INFO: The query returned no records.\n",
      "2023-04-12 17:02:13,279 INFO: Dropped sweeper_dev.collection_export_withemb_test_123\n",
      "2023-04-12 17:02:13,752 INFO: Files in 's3://wish-tahoe-query-results/sweeper_dev.collection_export_withemb_test_123 are deleted.\n"
     ]
    }
   ],
   "source": [
    "drop_external_table(\n",
    "    db=db,\n",
    "    table_name=export_table[\"name\"],\n",
    "    delete_files=True,\n",
    "    s3_bucket=result_bucket,\n",
    "    s3_prefix=f\"{db}.{export_table['name']}\", \n",
    ")"
   ]
  },
  {
   "cell_type": "code",
   "execution_count": 22,
   "metadata": {},
   "outputs": [
    {
     "data": {
      "text/html": [
       "<pre style=\"white-space:pre;overflow-x:auto;line-height:normal;font-family:Menlo,'DejaVu Sans Mono',consolas,'Courier New',monospace\">╭────────────────── Documents Summary ───────────────────╮\n",
       "│                                                        │\n",
       "│   Type                   DocumentArrayInMemory         │\n",
       "│   Length                 <span style=\"color: #008080; text-decoration-color: #008080; font-weight: bold\">986750</span>                        │\n",
       "│   Homogenous Documents   <span style=\"color: #00ff00; text-decoration-color: #00ff00; font-style: italic\">True</span>                          │\n",
       "│   Common Attributes      <span style=\"font-weight: bold\">(</span><span style=\"color: #008000; text-decoration-color: #008000\">'id'</span>, <span style=\"color: #008000; text-decoration-color: #008000\">'tags'</span>, <span style=\"color: #008000; text-decoration-color: #008000\">'embedding'</span><span style=\"font-weight: bold\">)</span>   │\n",
       "│   Multimodal dataclass   <span style=\"color: #ff0000; text-decoration-color: #ff0000; font-style: italic\">False</span>                         │\n",
       "│                                                        │\n",
       "╰────────────────────────────────────────────────────────╯\n",
       "╭────────────────────── Attributes Summary ───────────────────────╮\n",
       "│                                                                 │\n",
       "│  <span style=\"font-weight: bold\"> Attribute </span> <span style=\"font-weight: bold\"> Data type    </span> <span style=\"font-weight: bold\"> #Unique values </span> <span style=\"font-weight: bold\"> Has empty value </span>  │\n",
       "│  ─────────────────────────────────────────────────────────────  │\n",
       "│   embedding   <span style=\"font-weight: bold\">(</span><span style=\"color: #008000; text-decoration-color: #008000\">'ndarray'</span>,<span style=\"font-weight: bold\">)</span>   <span style=\"color: #008080; text-decoration-color: #008080; font-weight: bold\">986750</span>           <span style=\"color: #ff0000; text-decoration-color: #ff0000; font-style: italic\">False</span>             │\n",
       "│   id          <span style=\"font-weight: bold\">(</span><span style=\"color: #008000; text-decoration-color: #008000\">'str'</span>,<span style=\"font-weight: bold\">)</span>       <span style=\"color: #008080; text-decoration-color: #008080; font-weight: bold\">986750</span>           <span style=\"color: #ff0000; text-decoration-color: #ff0000; font-style: italic\">False</span>             │\n",
       "│   tags        <span style=\"font-weight: bold\">(</span><span style=\"color: #008000; text-decoration-color: #008000\">'dict'</span>,<span style=\"font-weight: bold\">)</span>      <span style=\"color: #008080; text-decoration-color: #008080; font-weight: bold\">986750</span>           <span style=\"color: #ff0000; text-decoration-color: #ff0000; font-style: italic\">False</span>             │\n",
       "│                                                                 │\n",
       "╰─────────────────────────────────────────────────────────────────╯\n",
       "</pre>\n"
      ],
      "text/plain": [
       "╭────────────────── Documents Summary ───────────────────╮\n",
       "│                                                        │\n",
       "│   Type                   DocumentArrayInMemory         │\n",
       "│   Length                 \u001b[1;36m986750\u001b[0m                        │\n",
       "│   Homogenous Documents   \u001b[3;92mTrue\u001b[0m                          │\n",
       "│   Common Attributes      \u001b[1m(\u001b[0m\u001b[32m'id'\u001b[0m, \u001b[32m'tags'\u001b[0m, \u001b[32m'embedding'\u001b[0m\u001b[1m)\u001b[0m   │\n",
       "│   Multimodal dataclass   \u001b[3;91mFalse\u001b[0m                         │\n",
       "│                                                        │\n",
       "╰────────────────────────────────────────────────────────╯\n",
       "╭────────────────────── Attributes Summary ───────────────────────╮\n",
       "│                                                                 │\n",
       "│  \u001b[1m \u001b[0m\u001b[1mAttribute\u001b[0m\u001b[1m \u001b[0m \u001b[1m \u001b[0m\u001b[1mData type   \u001b[0m\u001b[1m \u001b[0m \u001b[1m \u001b[0m\u001b[1m#Unique values\u001b[0m\u001b[1m \u001b[0m \u001b[1m \u001b[0m\u001b[1mHas empty value\u001b[0m\u001b[1m \u001b[0m  │\n",
       "│  ─────────────────────────────────────────────────────────────  │\n",
       "│   embedding   \u001b[1m(\u001b[0m\u001b[32m'ndarray'\u001b[0m,\u001b[1m)\u001b[0m   \u001b[1;36m986750\u001b[0m           \u001b[3;91mFalse\u001b[0m             │\n",
       "│   id          \u001b[1m(\u001b[0m\u001b[32m'str'\u001b[0m,\u001b[1m)\u001b[0m       \u001b[1;36m986750\u001b[0m           \u001b[3;91mFalse\u001b[0m             │\n",
       "│   tags        \u001b[1m(\u001b[0m\u001b[32m'dict'\u001b[0m,\u001b[1m)\u001b[0m      \u001b[1;36m986750\u001b[0m           \u001b[3;91mFalse\u001b[0m             │\n",
       "│                                                                 │\n",
       "╰─────────────────────────────────────────────────────────────────╯\n"
      ]
     },
     "metadata": {},
     "output_type": "display_data"
    }
   ],
   "source": [
    "docs"
   ]
  },
  {
   "cell_type": "code",
   "execution_count": 10,
   "metadata": {},
   "outputs": [
    {
     "data": {
      "text/plain": [
       "(986750, 768)"
      ]
     },
     "execution_count": 10,
     "metadata": {},
     "output_type": "execute_result"
    }
   ],
   "source": [
    "docs.embeddings.shape"
   ]
  },
  {
   "cell_type": "code",
   "execution_count": 25,
   "metadata": {},
   "outputs": [
    {
     "data": {
      "text/plain": [
       "[{'product_id': '5bbc837ea538ef6bb82bc191',\n",
       "  'name': '18 Note Engraved Wooden Legend of Zelda Theme Music Box,Antique Carved Hand Crank Musical Box Gift,Blue',\n",
       "  'merchant_id': '546c4f839719cd05f2974735',\n",
       "  'image_hash': '0689018b37e5288938e5436e71528401',\n",
       "  'wss_tier': 'Gold',\n",
       "  'gmv_365d': 1385.9342041015625,\n",
       "  'refund_rate': 0.07608695328235626,\n",
       "  'average_rating': 4.655172348022461,\n",
       "  'rating_count': 29.0,\n",
       "  'dt': '2023-04-09'}]"
      ]
     },
     "execution_count": 25,
     "metadata": {},
     "output_type": "execute_result"
    }
   ],
   "source": [
    "df_chunk.tail(1).to_dict('records')"
   ]
  },
  {
   "cell_type": "code",
   "execution_count": 27,
   "metadata": {},
   "outputs": [
    {
     "data": {
      "text/plain": [
       "array([ 0.9277181 , -0.88829875,  0.08980982,  0.11253998,  0.46524113,\n",
       "        0.57791126, -0.17822023,  0.1061473 , -0.1309175 , -0.84999853])"
      ]
     },
     "execution_count": 27,
     "metadata": {},
     "output_type": "execute_result"
    }
   ],
   "source": [
    "all_img_embs[-1][:10]"
   ]
  },
  {
   "cell_type": "code",
   "execution_count": 37,
   "metadata": {},
   "outputs": [
    {
     "data": {
      "text/plain": [
       "314.6261344394277"
      ]
     },
     "execution_count": 37,
     "metadata": {},
     "output_type": "execute_result"
    }
   ],
   "source": [
    "(all_img_embs[-1]**2).sum()"
   ]
  },
  {
   "cell_type": "code",
   "execution_count": 42,
   "metadata": {},
   "outputs": [
    {
     "name": "stderr",
     "output_type": "stream",
     "text": [
      "100%|███████████████████████████████████████| 338M/338M [00:07<00:00, 46.8MiB/s]\n"
     ]
    }
   ],
   "source": [
    "import requests\n",
    "import torch\n",
    "import clip\n",
    "from PIL import Image\n",
    "phash = '0689018b37e5288938e5436e71528401'\n",
    "url = f\"https://sweeper-production-productimage.s3.amazonaws.com/{phash}.jpg\"\n",
    "device = \"cuda\" if torch.cuda.is_available() else \"cpu\"\n",
    "model, preprocess = clip.load(\"ViT-B/32\", device=device)\n",
    "image = preprocess(Image.open(requests.get(url, stream=True).raw)).unsqueeze(0).to(device)\n",
    "\n",
    "\n",
    "with torch.no_grad():\n",
    "   image_features = model.encode_image(image)\n",
    "pooled_output_clip = image_features.detach().cpu().numpy()"
   ]
  },
  {
   "cell_type": "code",
   "execution_count": 50,
   "metadata": {},
   "outputs": [
    {
     "data": {
      "text/plain": [
       "'https://sweeper-production-productimage.s3.amazonaws.com/0689018b37e5288938e5436e71528401.jpg'"
      ]
     },
     "execution_count": 50,
     "metadata": {},
     "output_type": "execute_result"
    }
   ],
   "source": [
    "url"
   ]
  },
  {
   "cell_type": "code",
   "execution_count": 44,
   "metadata": {},
   "outputs": [
    {
     "data": {
      "text/plain": [
       "array([[-0.16014807, -0.1707036 ,  0.20969087,  0.01197619,  0.40974215,\n",
       "        -0.2057969 , -0.2599944 ,  0.23702598, -0.3465825 ,  0.15175675]],\n",
       "      dtype=float32)"
      ]
     },
     "execution_count": 44,
     "metadata": {},
     "output_type": "execute_result"
    }
   ],
   "source": [
    "pooled_output_clip[:,:10]"
   ]
  },
  {
   "cell_type": "code",
   "execution_count": 45,
   "metadata": {},
   "outputs": [],
   "source": [
    "import requests\n",
    "def get_clip_emb(phashs):\n",
    "    assert len(phashs) <= 64\n",
    "    urls = [f\"https://sweeper-production-productimage.s3.amazonaws.com/{phash}.jpg\" for phash in phashs]\n",
    "    input_json = {\n",
    "        \"inputs\":[\n",
    "            {\t\n",
    "                \"name\": \"image_url\",\n",
    "                \"shape\": [len(urls),1],\n",
    "                \"datatype\": \"BYTES\",\n",
    "                \"data\": urls\n",
    "            }\n",
    "        ]\n",
    "    }\n",
    "    res = requests.post('http://coeus-gpu-multitask-ml-dev.service.consul:8081/v2/models/clip_image_ensemble/versions/1/infer', json=input_json).json()\n",
    "    res_arr = {res['outputs'][ind]['name']: \\\n",
    "        np.array(res['outputs'][ind]['data']).reshape(res['outputs'][ind]['shape']) for ind in range(len(res['outputs']))}\n",
    "    return res_arr"
   ]
  },
  {
   "cell_type": "code",
   "execution_count": 46,
   "metadata": {},
   "outputs": [],
   "source": [
    "res = get_clip_emb(['0689018b37e5288938e5436e71528401'] * 2)"
   ]
  },
  {
   "cell_type": "code",
   "execution_count": 49,
   "metadata": {},
   "outputs": [
    {
     "data": {
      "text/plain": [
       "array([-0.16015625, -0.17077637,  0.21044922,  0.01138306,  0.41088867,\n",
       "       -0.2076416 , -0.25952148,  0.23266602, -0.34619141,  0.15161133])"
      ]
     },
     "execution_count": 49,
     "metadata": {},
     "output_type": "execute_result"
    }
   ],
   "source": [
    "res['pooler_output'][0][:10]"
   ]
  },
  {
   "attachments": {},
   "cell_type": "markdown",
   "metadata": {},
   "source": [
    "# explore image embeddings inference"
   ]
  },
  {
   "attachments": {},
   "cell_type": "markdown",
   "metadata": {},
   "source": [
    "## vanilla http"
   ]
  },
  {
   "cell_type": "code",
   "execution_count": 28,
   "metadata": {},
   "outputs": [],
   "source": [
    "import requests\n",
    "def get_clip_emb(phashs):\n",
    "    assert len(phashs) <= 64\n",
    "    urls = [f\"https://sweeper-production-productimage.s3.amazonaws.com/{phash}.jpg\" for phash in phashs]\n",
    "    input_json = {\n",
    "        \"inputs\":[\n",
    "            {\t\n",
    "                \"name\": \"image_url\",\n",
    "                \"shape\": [len(urls),1],\n",
    "                \"datatype\": \"BYTES\",\n",
    "                \"data\": urls\n",
    "            }\n",
    "        ]\n",
    "    }\n",
    "    res = requests.post('http://coeus-gpu-multitask-ml-dev.service.consul:8081/v2/models/clip_image_ensemble/versions/1/infer', json=input_json).json()\n",
    "    res_arr = {res['outputs'][ind]['name']: \\\n",
    "        np.array(res['outputs'][ind]['data']).reshape(res['outputs'][ind]['shape']) for ind in range(len(res['outputs']))}\n",
    "    return res_arr"
   ]
  },
  {
   "cell_type": "code",
   "execution_count": 31,
   "metadata": {},
   "outputs": [],
   "source": [
    "res = get_clip_emb(['0689018b37e5288938e5436e71528401'] * 2)"
   ]
  },
  {
   "cell_type": "code",
   "execution_count": 32,
   "metadata": {},
   "outputs": [
    {
     "data": {
      "text/plain": [
       "{'image_download_success': array([[ True],\n",
       "        [ True]]),\n",
       " 'pooler_output': array([[-0.16015625, -0.17077637,  0.21044922, ...,  0.43334961,\n",
       "          0.20874023,  0.20043945],\n",
       "        [-0.16015625, -0.17077637,  0.21044922, ...,  0.43334961,\n",
       "          0.20874023,  0.20043945]])}"
      ]
     },
     "execution_count": 32,
     "metadata": {},
     "output_type": "execute_result"
    }
   ],
   "source": [
    "res"
   ]
  },
  {
   "cell_type": "code",
   "execution_count": 36,
   "metadata": {},
   "outputs": [
    {
     "data": {
      "text/plain": [
       "101.6134683902485"
      ]
     },
     "execution_count": 36,
     "metadata": {},
     "output_type": "execute_result"
    }
   ],
   "source": [
    "(res['pooler_output'][1]**2).sum()"
   ]
  },
  {
   "cell_type": "code",
   "execution_count": 154,
   "metadata": {},
   "outputs": [
    {
     "name": "stdout",
     "output_type": "stream",
     "text": [
      "1.55 s ± 43.4 ms per loop (mean ± std. dev. of 7 runs, 1 loop each)\n"
     ]
    }
   ],
   "source": [
    "%%timeit\n",
    "res = get_clip_emb(['4563e9eda70ae371df01fac754a9ab81'] * 64)"
   ]
  },
  {
   "cell_type": "code",
   "execution_count": 155,
   "metadata": {},
   "outputs": [
    {
     "data": {
      "text/plain": [
       "6.727430555555555"
      ]
     },
     "execution_count": 155,
     "metadata": {},
     "output_type": "execute_result"
    }
   ],
   "source": [
    "1e6 / 64 * 1.55 / 60 / 60 # hours"
   ]
  },
  {
   "attachments": {},
   "cell_type": "markdown",
   "metadata": {},
   "source": [
    "## triton http client"
   ]
  },
  {
   "cell_type": "code",
   "execution_count": 156,
   "metadata": {},
   "outputs": [],
   "source": [
    "# !pip install tritonclient[all]"
   ]
  },
  {
   "cell_type": "code",
   "execution_count": 260,
   "metadata": {},
   "outputs": [],
   "source": [
    "import tritonclient.http as httpclient"
   ]
  },
  {
   "cell_type": "code",
   "execution_count": 261,
   "metadata": {},
   "outputs": [],
   "source": [
    "triton_client = httpclient.InferenceServerClient(\n",
    "    url=\"coeus-gpu-multitask-ml-dev.service.consul:8081\", \n",
    ")"
   ]
  },
  {
   "cell_type": "code",
   "execution_count": 2,
   "metadata": {},
   "outputs": [],
   "source": [
    "model_name = \"clip_image_ensemble\""
   ]
  },
  {
   "cell_type": "code",
   "execution_count": 263,
   "metadata": {},
   "outputs": [],
   "source": [
    "def test_infer(model_name,\n",
    "               input0_data,\n",
    "               request_compression_algorithm=None,\n",
    "               response_compression_algorithm=None):\n",
    "    inputs = []\n",
    "    outputs = []\n",
    "    inputs.append(httpclient.InferInput('image_url', input0_data.shape, \"BYTES\"))\n",
    "\n",
    "    # Initialize the data\n",
    "    inputs[0].set_data_from_numpy(input0_data, binary_data=False)\n",
    "\n",
    "    outputs.append(httpclient.InferRequestedOutput('image_download_success', binary_data=True))\n",
    "    outputs.append(httpclient.InferRequestedOutput('pooler_output', binary_data=True))\n",
    "\n",
    "    results = triton_client.infer(\n",
    "        model_name,\n",
    "        inputs,\n",
    "        outputs=outputs,\n",
    "        request_compression_algorithm=request_compression_algorithm,\n",
    "        response_compression_algorithm=response_compression_algorithm)\n",
    "\n",
    "    return results"
   ]
  },
  {
   "cell_type": "code",
   "execution_count": 264,
   "metadata": {},
   "outputs": [],
   "source": [
    "res2 = test_infer(model_name, \n",
    "    np.array(['https://sweeper-production-productimage.s3.amazonaws.com/4563e9eda70ae371df01fac754a9ab81.jpg'.encode('utf-8')] * 2, \n",
    "             dtype=np.object_).reshape(-1,1))"
   ]
  },
  {
   "cell_type": "code",
   "execution_count": 265,
   "metadata": {},
   "outputs": [
    {
     "data": {
      "text/plain": [
       "array([[-0.26953125,  0.39135742, -0.2565918 , ...,  0.2290039 ,\n",
       "        -0.14978027,  0.07348633],\n",
       "       [-0.26953125,  0.39135742, -0.2565918 , ...,  0.2290039 ,\n",
       "        -0.14978027,  0.07348633]], dtype=float32)"
      ]
     },
     "execution_count": 265,
     "metadata": {},
     "output_type": "execute_result"
    }
   ],
   "source": [
    "res2.as_numpy('pooler_output')"
   ]
  },
  {
   "cell_type": "code",
   "execution_count": 266,
   "metadata": {},
   "outputs": [
    {
     "data": {
      "text/plain": [
       "array([[ True],\n",
       "       [ True]])"
      ]
     },
     "execution_count": 266,
     "metadata": {},
     "output_type": "execute_result"
    }
   ],
   "source": [
    "res2.as_numpy('image_download_success')"
   ]
  },
  {
   "cell_type": "code",
   "execution_count": 164,
   "metadata": {},
   "outputs": [
    {
     "name": "stdout",
     "output_type": "stream",
     "text": [
      "1.39 s ± 57 ms per loop (mean ± std. dev. of 7 runs, 1 loop each)\n"
     ]
    }
   ],
   "source": [
    "%%timeit\n",
    "res2 = test_infer(model_name, \n",
    "    np.array(['https://sweeper-production-productimage.s3.amazonaws.com/4563e9eda70ae371df01fac754a9ab81.jpg'.encode('utf-8')] * 64, dtype=np.object_).reshape(-1,1))\n",
    "_,_ = res2.as_numpy('pooler_output'), res2.as_numpy('image_download_success')"
   ]
  },
  {
   "cell_type": "code",
   "execution_count": 165,
   "metadata": {},
   "outputs": [
    {
     "data": {
      "text/plain": [
       "6.032986111111112"
      ]
     },
     "execution_count": 165,
     "metadata": {},
     "output_type": "execute_result"
    }
   ],
   "source": [
    "1e6 / 64 * 1.39 / 60 / 60 # hours"
   ]
  },
  {
   "attachments": {},
   "cell_type": "markdown",
   "metadata": {},
   "source": [
    "## triton grpc client"
   ]
  },
  {
   "cell_type": "code",
   "execution_count": 2,
   "metadata": {},
   "outputs": [],
   "source": [
    "import tritonclient.grpc as grpcclient"
   ]
  },
  {
   "cell_type": "code",
   "execution_count": 3,
   "metadata": {},
   "outputs": [],
   "source": [
    "triton_client = grpcclient.InferenceServerClient(\n",
    "    url=\"coeus-gpu-multitask-ml-dev.service.consul:8082\", \n",
    ")"
   ]
  },
  {
   "cell_type": "code",
   "execution_count": 7,
   "metadata": {},
   "outputs": [],
   "source": [
    "def test_infer(model_name,\n",
    "               input0_data):\n",
    "    inputs = []\n",
    "    outputs = []\n",
    "    inputs.append(grpcclient.InferInput('image_url', input0_data.shape, \"BYTES\"))\n",
    "\n",
    "    # Initialize the data\n",
    "    inputs[0].set_data_from_numpy(input0_data)\n",
    "\n",
    "    outputs.append(grpcclient.InferRequestedOutput('image_download_success'))\n",
    "    outputs.append(grpcclient.InferRequestedOutput('pooler_output'))\n",
    "\n",
    "    results = triton_client.infer(\n",
    "        model_name,\n",
    "        inputs,\n",
    "        outputs=outputs\n",
    "    )\n",
    "\n",
    "    return results"
   ]
  },
  {
   "cell_type": "code",
   "execution_count": 8,
   "metadata": {},
   "outputs": [],
   "source": [
    "res2 = test_infer(model_name, \n",
    "    np.array(['https://sweeper-production-productimage.s3.amazonaws.com/4563e9eda70ae371df01fac754a9ab81.jpg'.encode('utf-8')] * 2, \n",
    "             dtype=np.object_).reshape(-1,1))"
   ]
  },
  {
   "cell_type": "code",
   "execution_count": 9,
   "metadata": {},
   "outputs": [
    {
     "data": {
      "text/plain": [
       "array([[-0.26953125,  0.39135742, -0.2565918 , ...,  0.2290039 ,\n",
       "        -0.14978027,  0.07348633],\n",
       "       [-0.26953125,  0.39135742, -0.2565918 , ...,  0.2290039 ,\n",
       "        -0.14978027,  0.07348633]], dtype=float32)"
      ]
     },
     "execution_count": 9,
     "metadata": {},
     "output_type": "execute_result"
    }
   ],
   "source": [
    "res2.as_numpy('pooler_output')"
   ]
  },
  {
   "cell_type": "code",
   "execution_count": 10,
   "metadata": {},
   "outputs": [
    {
     "data": {
      "text/plain": [
       "array([[ True],\n",
       "       [ True]])"
      ]
     },
     "execution_count": 10,
     "metadata": {},
     "output_type": "execute_result"
    }
   ],
   "source": [
    "res2.as_numpy('image_download_success')"
   ]
  },
  {
   "cell_type": "code",
   "execution_count": null,
   "metadata": {},
   "outputs": [
    {
     "name": "stdout",
     "output_type": "stream",
     "text": [
      "1.43 s ± 39 ms per loop (mean ± std. dev. of 7 runs, 1 loop each)\n"
     ]
    }
   ],
   "source": [
    "%%timeit\n",
    "res2 = test_infer(model_name, \n",
    "    np.array(['https://sweeper-production-productimage.s3.amazonaws.com/4563e9eda70ae371df01fac754a9ab81.jpg'.encode('utf-8')] * 64, dtype=np.object_).reshape(-1,1))\n",
    "_,_ = res2.as_numpy('pooler_output'), res2.as_numpy('image_download_success')"
   ]
  },
  {
   "cell_type": "code",
   "execution_count": null,
   "metadata": {},
   "outputs": [
    {
     "data": {
      "text/plain": [
       "6.206597222222222"
      ]
     },
     "execution_count": 173,
     "metadata": {},
     "output_type": "execute_result"
    }
   ],
   "source": [
    "1e6 / 64 * 1.43 / 60 / 60 # hours"
   ]
  },
  {
   "attachments": {},
   "cell_type": "markdown",
   "metadata": {},
   "source": [
    "## vailla async"
   ]
  },
  {
   "cell_type": "code",
   "execution_count": 174,
   "metadata": {},
   "outputs": [],
   "source": [
    "import asyncio\n",
    "import aiohttp"
   ]
  },
  {
   "cell_type": "code",
   "execution_count": 176,
   "metadata": {},
   "outputs": [],
   "source": [
    "async def call_oai(session, data):\n",
    "    async with session.post(\n",
    "        'http://coeus-gpu-multitask-ml-dev.service.consul:8081/v2/models/clip_image_ensemble/versions/1/infer',\n",
    "        json=data\n",
    "    ) as response:\n",
    "        res = await response.json()\n",
    "    return res\n",
    "\n",
    "async def call_oais(datas):\n",
    "    async with aiohttp.ClientSession() as session:\n",
    "        tasks = []\n",
    "        for data in datas:\n",
    "            task = asyncio.ensure_future(call_oai(session, data))\n",
    "            tasks.append(task)\n",
    "        reses = await asyncio.gather(*tasks)\n",
    "        return reses\n",
    "\n",
    "urls = [f\"https://sweeper-production-productimage.s3.amazonaws.com/{phash}.jpg\" for phash in ['4563e9eda70ae371df01fac754a9ab81'] * 64]\n",
    "input_json = {\n",
    "    \"inputs\":[\n",
    "        {\t\n",
    "            \"name\": \"image_url\",\n",
    "            \"shape\": [len(urls),1],\n",
    "            \"datatype\": \"BYTES\",\n",
    "            \"data\": urls\n",
    "        }\n",
    "    ]\n",
    "}\n"
   ]
  },
  {
   "cell_type": "code",
   "execution_count": 186,
   "metadata": {},
   "outputs": [],
   "source": [
    "res = await call_oais([input_json] * 10)"
   ]
  },
  {
   "cell_type": "code",
   "execution_count": 189,
   "metadata": {},
   "outputs": [
    {
     "data": {
      "text/plain": [
       "2.0399305555555554"
      ]
     },
     "execution_count": 189,
     "metadata": {},
     "output_type": "execute_result"
    }
   ],
   "source": [
    "1e6 / 64 / 10 * 4.7 / 60 / 60 # 2 hours"
   ]
  },
  {
   "cell_type": "code",
   "execution_count": 188,
   "metadata": {},
   "outputs": [],
   "source": [
    "res = await call_oais([input_json] * 20)"
   ]
  },
  {
   "cell_type": "code",
   "execution_count": 190,
   "metadata": {},
   "outputs": [
    {
     "data": {
      "text/plain": [
       "1.605902777777778"
      ]
     },
     "execution_count": 190,
     "metadata": {},
     "output_type": "execute_result"
    }
   ],
   "source": [
    "1e6 / 64 / 20 * 7.4 / 60 / 60 # 1.6 hour"
   ]
  },
  {
   "attachments": {},
   "cell_type": "markdown",
   "metadata": {},
   "source": [
    "## triton http client async"
   ]
  },
  {
   "cell_type": "code",
   "execution_count": 243,
   "metadata": {},
   "outputs": [],
   "source": [
    "import tritonclient.http as httpclient"
   ]
  },
  {
   "cell_type": "code",
   "execution_count": 244,
   "metadata": {},
   "outputs": [],
   "source": [
    "triton_client = httpclient.InferenceServerClient(\n",
    "    url=\"coeus-gpu-multitask-ml-dev.service.consul:8081\", \n",
    "    concurrency=20\n",
    ")"
   ]
  },
  {
   "cell_type": "code",
   "execution_count": 245,
   "metadata": {},
   "outputs": [],
   "source": [
    "model_name = \"clip_image_ensemble\""
   ]
  },
  {
   "cell_type": "code",
   "execution_count": 246,
   "metadata": {},
   "outputs": [],
   "source": [
    "def test_infer(model_name,\n",
    "               input0_data):\n",
    "    inputs = []\n",
    "    outputs = []\n",
    "    inputs.append(httpclient.InferInput('image_url', input0_data.shape, \"BYTES\"))\n",
    "\n",
    "    # Initialize the data\n",
    "    inputs[0].set_data_from_numpy(input0_data, binary_data=False)\n",
    "\n",
    "    outputs.append(httpclient.InferRequestedOutput('image_download_success', binary_data=True))\n",
    "    outputs.append(httpclient.InferRequestedOutput('pooler_output', binary_data=True))\n",
    "    async_requests = []\n",
    "    for i in range(20):\n",
    "        # Asynchronous inference call.\n",
    "        async_requests.append(\n",
    "            triton_client.async_infer(model_name=model_name,\n",
    "                                      inputs=inputs,\n",
    "                                      outputs=outputs))\n",
    "    \n",
    "    for async_request in async_requests:\n",
    "        # Get the result from the initiated asynchronous inference request.\n",
    "        # Note the call will block till the server responds.\n",
    "        result = async_request.get_result()\n",
    "\n",
    "        # Validate the results by comparing with precomputed values.\n",
    "        # result.as_numpy('pooler_output'), result.as_numpy('image_download_success')\n",
    "        # print(result.as_numpy('pooler_output').shape, result.as_numpy('image_download_success').shape)\n"
   ]
  },
  {
   "cell_type": "code",
   "execution_count": null,
   "metadata": {},
   "outputs": [],
   "source": [
    "res2 = test_infer(model_name, \n",
    "    np.array(['https://sweeper-production-productimage.s3.amazonaws.com/4563e9eda70ae371df01fac754a9ab81.jpg'.encode('utf-8')] * 2, \n",
    "             dtype=np.object_).reshape(-1,1))"
   ]
  },
  {
   "cell_type": "code",
   "execution_count": 214,
   "metadata": {},
   "outputs": [],
   "source": [
    "test_infer(model_name, \n",
    "    np.array(['https://sweeper-production-productimage.s3.amazonaws.com/4563e9eda70ae371df01fac754a9ab81.jpg'.encode('utf-8')] * 64, \n",
    "             dtype=np.object_).reshape(-1,1))"
   ]
  },
  {
   "cell_type": "code",
   "execution_count": 215,
   "metadata": {},
   "outputs": [
    {
     "data": {
      "text/plain": [
       "1.5625"
      ]
     },
     "execution_count": 215,
     "metadata": {},
     "output_type": "execute_result"
    }
   ],
   "source": [
    "1e6 / 64 / 20 * 7.2 / 60 / 60 # 1.5 hour"
   ]
  },
  {
   "attachments": {},
   "cell_type": "markdown",
   "metadata": {},
   "source": [
    "## triton grpc client async (the design of this is not good)"
   ]
  },
  {
   "cell_type": "code",
   "execution_count": 3,
   "metadata": {},
   "outputs": [],
   "source": [
    "import tritonclient.grpc as grpcclient"
   ]
  },
  {
   "cell_type": "code",
   "execution_count": 4,
   "metadata": {},
   "outputs": [],
   "source": [
    "triton_client = grpcclient.InferenceServerClient(\n",
    "    url=\"coeus-gpu-multitask-ml-dev.service.consul:8082\", \n",
    ")"
   ]
  },
  {
   "cell_type": "code",
   "execution_count": 5,
   "metadata": {},
   "outputs": [],
   "source": [
    "from functools import partial"
   ]
  },
  {
   "cell_type": "code",
   "execution_count": 7,
   "metadata": {},
   "outputs": [],
   "source": [
    "def test_infer(model_name,\n",
    "               input0_data):\n",
    "    inputs = []\n",
    "    outputs = []\n",
    "    inputs.append(grpcclient.InferInput('image_url', input0_data.shape, \"BYTES\"))\n",
    "\n",
    "    # Initialize the data\n",
    "    inputs[0].set_data_from_numpy(input0_data)\n",
    "\n",
    "    user_data = []\n",
    "    \n",
    "    def callback(user_data, result, error):\n",
    "        if error:\n",
    "            user_data.append(error)\n",
    "        else:\n",
    "            user_data.append(result)\n",
    "\n",
    "    # list to hold the results of inference.\n",
    "    \n",
    "\n",
    "    outputs.append(grpcclient.InferRequestedOutput('image_download_success'))\n",
    "    outputs.append(grpcclient.InferRequestedOutput('pooler_output'))\n",
    "    for _ in range(10):\n",
    "        results = triton_client.async_infer(\n",
    "            model_name,\n",
    "            inputs,\n",
    "            callback=partial(callback, user_data),\n",
    "            outputs=outputs\n",
    "        )\n",
    "\n",
    "    while (len(user_data) < 10):\n",
    "        pass\n",
    "    return user_data"
   ]
  },
  {
   "cell_type": "code",
   "execution_count": 8,
   "metadata": {},
   "outputs": [],
   "source": [
    "res2 = test_infer(model_name, \n",
    "    np.array(['https://sweeper-production-productimage.s3.amazonaws.com/4563e9eda70ae371df01fac754a9ab81.jpg'.encode('utf-8')] * 2, \n",
    "             dtype=np.object_).reshape(-1,1))"
   ]
  },
  {
   "cell_type": "code",
   "execution_count": 10,
   "metadata": {},
   "outputs": [],
   "source": [
    "res2 = test_infer(model_name, \n",
    "    np.array(['https://sweeper-production-productimage.s3.amazonaws.com/4563e9eda70ae371df01fac754a9ab81.jpg'.encode('utf-8')] * 64, dtype=np.object_).reshape(-1,1))"
   ]
  },
  {
   "cell_type": "code",
   "execution_count": 11,
   "metadata": {},
   "outputs": [
    {
     "data": {
      "text/plain": [
       "1.5625"
      ]
     },
     "execution_count": 11,
     "metadata": {},
     "output_type": "execute_result"
    }
   ],
   "source": [
    "1e6 / 64 / 20 * 7.2 / 60 / 60 # 1.5 hour"
   ]
  },
  {
   "attachments": {},
   "cell_type": "markdown",
   "metadata": {},
   "source": [
    "# run inference"
   ]
  },
  {
   "cell_type": "code",
   "execution_count": 22,
   "metadata": {},
   "outputs": [],
   "source": [
    "df = pd.read_parquet('collection_products_041123.parquet')"
   ]
  },
  {
   "cell_type": "code",
   "execution_count": 23,
   "metadata": {},
   "outputs": [
    {
     "data": {
      "text/html": [
       "<div>\n",
       "<style scoped>\n",
       "    .dataframe tbody tr th:only-of-type {\n",
       "        vertical-align: middle;\n",
       "    }\n",
       "\n",
       "    .dataframe tbody tr th {\n",
       "        vertical-align: top;\n",
       "    }\n",
       "\n",
       "    .dataframe thead th {\n",
       "        text-align: right;\n",
       "    }\n",
       "</style>\n",
       "<table border=\"1\" class=\"dataframe\">\n",
       "  <thead>\n",
       "    <tr style=\"text-align: right;\">\n",
       "      <th></th>\n",
       "      <th>product_id</th>\n",
       "      <th>name</th>\n",
       "      <th>merchant_id</th>\n",
       "      <th>image_hash</th>\n",
       "      <th>img_embedding</th>\n",
       "      <th>wss_tier</th>\n",
       "      <th>gmv_365d</th>\n",
       "      <th>refund_rate</th>\n",
       "      <th>average_rating</th>\n",
       "      <th>rating_count</th>\n",
       "      <th>dt</th>\n",
       "    </tr>\n",
       "  </thead>\n",
       "  <tbody>\n",
       "    <tr>\n",
       "      <th>0</th>\n",
       "      <td>6087aa1a4c0529be4b5eea2b</td>\n",
       "      <td>Butterfly Girl Resin Sculpture Character Model...</td>\n",
       "      <td>5ac9993f2c49563aee00b471</td>\n",
       "      <td>4563e9eda70ae371df01fac754a9ab81</td>\n",
       "      <td>None</td>\n",
       "      <td>Silver</td>\n",
       "      <td>823.190430</td>\n",
       "      <td>0.090909</td>\n",
       "      <td>5.000000</td>\n",
       "      <td>7.0</td>\n",
       "      <td>2023-04-09</td>\n",
       "    </tr>\n",
       "    <tr>\n",
       "      <th>1</th>\n",
       "      <td>5fb80589dcb5ba391b6334f1</td>\n",
       "      <td>54Pcs/Box KPOP BTS BLACKPINK EXO NCT TXT Stray...</td>\n",
       "      <td>5f8d118fab43aa62703be176</td>\n",
       "      <td>29658f7ed2164fc030d6130d00f82031</td>\n",
       "      <td>None</td>\n",
       "      <td>Gold</td>\n",
       "      <td>159.111664</td>\n",
       "      <td>0.000000</td>\n",
       "      <td>4.777778</td>\n",
       "      <td>9.0</td>\n",
       "      <td>2023-04-09</td>\n",
       "    </tr>\n",
       "  </tbody>\n",
       "</table>\n",
       "</div>"
      ],
      "text/plain": [
       "                 product_id  \\\n",
       "0  6087aa1a4c0529be4b5eea2b   \n",
       "1  5fb80589dcb5ba391b6334f1   \n",
       "\n",
       "                                                name  \\\n",
       "0  Butterfly Girl Resin Sculpture Character Model...   \n",
       "1  54Pcs/Box KPOP BTS BLACKPINK EXO NCT TXT Stray...   \n",
       "\n",
       "                merchant_id                        image_hash img_embedding  \\\n",
       "0  5ac9993f2c49563aee00b471  4563e9eda70ae371df01fac754a9ab81          None   \n",
       "1  5f8d118fab43aa62703be176  29658f7ed2164fc030d6130d00f82031          None   \n",
       "\n",
       "  wss_tier    gmv_365d  refund_rate  average_rating  rating_count          dt  \n",
       "0   Silver  823.190430     0.090909        5.000000           7.0  2023-04-09  \n",
       "1     Gold  159.111664     0.000000        4.777778           9.0  2023-04-09  "
      ]
     },
     "execution_count": 23,
     "metadata": {},
     "output_type": "execute_result"
    }
   ],
   "source": [
    "df.head(2)"
   ]
  },
  {
   "cell_type": "code",
   "execution_count": 24,
   "metadata": {},
   "outputs": [],
   "source": [
    "import asyncio\n",
    "import aiohttp"
   ]
  },
  {
   "cell_type": "code",
   "execution_count": 25,
   "metadata": {},
   "outputs": [],
   "source": [
    "async def call_oai(session, data):\n",
    "    async with session.post(\n",
    "        'http://coeus-gpu-multitask-ml-stage.service.consul:8081/v2/models/clip_image_ensemble/versions/1/infer',\n",
    "        json=data\n",
    "    ) as response:\n",
    "        res = await response.json()\n",
    "    return res\n",
    "\n",
    "async def call_oais(datas):\n",
    "    async with aiohttp.ClientSession() as session:\n",
    "        tasks = []\n",
    "        for data in datas:\n",
    "            task = asyncio.ensure_future(call_oai(session, data))\n",
    "            tasks.append(task)\n",
    "        reses = await asyncio.gather(*tasks)\n",
    "        return reses\n",
    "\n",
    "urls = [f\"https://sweeper-production-productimage.s3.amazonaws.com/{phash}.jpg\" for phash in ['4563e9eda70ae371df01fac754a9ab81'] * 64]\n",
    "input_json = {\n",
    "    \"inputs\":[\n",
    "        {\t\n",
    "            \"name\": \"image_url\",\n",
    "            \"shape\": [len(urls),1],\n",
    "            \"datatype\": \"BYTES\",\n",
    "            \"data\": urls\n",
    "        }\n",
    "    ]\n",
    "}\n",
    "res = await call_oais([input_json] * 10)"
   ]
  },
  {
   "cell_type": "code",
   "execution_count": 42,
   "metadata": {},
   "outputs": [],
   "source": [
    "phash = '4563e9eda70ae371df01fac754a9ab81'\n",
    "res = await call_oais([\n",
    "    {\n",
    "        \"inputs\":[\n",
    "        {\t\n",
    "            \"name\": \"image_url\",\n",
    "            \"shape\": [1,1],\n",
    "            \"datatype\": \"BYTES\",\n",
    "            \"data\": [f\"https://sweeper-production-productimage.s3.amazonaws.com/{phash}.jpg\"]\n",
    "        }\n",
    "    ]\n",
    "    }\n",
    "] * 640)"
   ]
  },
  {
   "cell_type": "code",
   "execution_count": 57,
   "metadata": {},
   "outputs": [],
   "source": [
    "list_df = np.array_split(df, int(1e6/639/40))"
   ]
  },
  {
   "cell_type": "code",
   "execution_count": 58,
   "metadata": {},
   "outputs": [
    {
     "data": {
      "text/plain": [
       "(39, 25642, 25641)"
      ]
     },
     "execution_count": 58,
     "metadata": {},
     "output_type": "execute_result"
    }
   ],
   "source": [
    "len(list_df), len(list_df[0]), len(list_df[-1])"
   ]
  },
  {
   "cell_type": "code",
   "execution_count": 59,
   "metadata": {},
   "outputs": [],
   "source": [
    "from tqdm import tqdm"
   ]
  },
  {
   "cell_type": "code",
   "execution_count": 60,
   "metadata": {},
   "outputs": [
    {
     "name": "stderr",
     "output_type": "stream",
     "text": [
      "100%|██████████| 39/39 [2:19:31<00:00, 214.65s/it]  \n"
     ]
    }
   ],
   "source": [
    "all_success = []\n",
    "all_pids = []\n",
    "all_embs = []\n",
    "for df_i in tqdm(list_df):\n",
    "    reses = await call_oais([\n",
    "        {\n",
    "            \"inputs\":[\n",
    "                {\t\n",
    "                    \"name\": \"image_url\",\n",
    "                    \"shape\": [1,1],\n",
    "                    \"datatype\": \"BYTES\",\n",
    "                    \"data\": [f\"https://sweeper-production-productimage.s3.amazonaws.com/{phash}.jpg\"]\n",
    "                }\n",
    "            ]\n",
    "        } for phash in df_i.image_hash.tolist()\n",
    "    ])\n",
    "    res_arr = [\n",
    "        {res['outputs'][ind]['name']: \\\n",
    "            np.array(res['outputs'][ind]['data']).reshape(res['outputs'][ind]['shape']) for ind in range(len(res['outputs']))} for res in reses\n",
    "    ]\n",
    "    concat_arr_success = np.vstack([i['image_download_success'] for i in res_arr])\n",
    "    concat_arr_embs = np.vstack([i['pooler_output'] for i in res_arr])\n",
    "    all_success.append(concat_arr_success)\n",
    "    all_embs.append(concat_arr_embs)\n",
    "    all_pids.append(df_i.product_id.tolist())"
   ]
  },
  {
   "cell_type": "code",
   "execution_count": 61,
   "metadata": {},
   "outputs": [],
   "source": [
    "all_success_arr = np.vstack(all_success)\n",
    "all_embs_arr = np.vstack(all_embs)"
   ]
  },
  {
   "cell_type": "code",
   "execution_count": 74,
   "metadata": {},
   "outputs": [],
   "source": [
    "all_pids_arr = np.array([j for i in all_pids for j in i])"
   ]
  },
  {
   "cell_type": "code",
   "execution_count": 72,
   "metadata": {},
   "outputs": [
    {
     "data": {
      "text/plain": [
       "True"
      ]
     },
     "execution_count": 72,
     "metadata": {},
     "output_type": "execute_result"
    }
   ],
   "source": [
    "len(all_pids_arr) == len(all_embs_arr) == len(all_success_arr)"
   ]
  },
  {
   "cell_type": "code",
   "execution_count": 67,
   "metadata": {},
   "outputs": [],
   "source": [
    "all_success_arr_flat = all_success_arr.reshape(-1)"
   ]
  },
  {
   "cell_type": "code",
   "execution_count": 68,
   "metadata": {},
   "outputs": [
    {
     "data": {
      "text/plain": [
       "(1000000, 512)"
      ]
     },
     "execution_count": 68,
     "metadata": {},
     "output_type": "execute_result"
    }
   ],
   "source": [
    "all_embs_arr.shape"
   ]
  },
  {
   "cell_type": "code",
   "execution_count": 69,
   "metadata": {},
   "outputs": [
    {
     "data": {
      "text/plain": [
       "999983"
      ]
     },
     "execution_count": 69,
     "metadata": {},
     "output_type": "execute_result"
    }
   ],
   "source": [
    "all_success_arr.sum()"
   ]
  },
  {
   "cell_type": "code",
   "execution_count": 75,
   "metadata": {},
   "outputs": [
    {
     "data": {
      "text/plain": [
       "True"
      ]
     },
     "execution_count": 75,
     "metadata": {},
     "output_type": "execute_result"
    }
   ],
   "source": [
    "(all_pids_arr == np.array(df['product_id'].tolist())).all()"
   ]
  },
  {
   "cell_type": "code",
   "execution_count": 78,
   "metadata": {},
   "outputs": [
    {
     "data": {
      "text/plain": [
       "array([ True,  True,  True, ...,  True,  True,  True])"
      ]
     },
     "execution_count": 78,
     "metadata": {},
     "output_type": "execute_result"
    }
   ],
   "source": [
    "all_success_arr_flat"
   ]
  },
  {
   "cell_type": "code",
   "execution_count": 79,
   "metadata": {},
   "outputs": [],
   "source": [
    "df_success = df[all_success_arr_flat]"
   ]
  },
  {
   "cell_type": "code",
   "execution_count": 81,
   "metadata": {},
   "outputs": [],
   "source": [
    "all_embs_arr_success = all_embs_arr[all_success_arr_flat]"
   ]
  },
  {
   "cell_type": "code",
   "execution_count": 83,
   "metadata": {},
   "outputs": [],
   "source": [
    "np.save('collection_products_withclip_multitask_041223.npy', \n",
    "        all_embs_arr_success)"
   ]
  },
  {
   "cell_type": "code",
   "execution_count": 84,
   "metadata": {},
   "outputs": [],
   "source": [
    "df_success.to_parquet('collection_products_withclip_multitask_041223.parquet', index=False)"
   ]
  },
  {
   "attachments": {},
   "cell_type": "markdown",
   "metadata": {},
   "source": [
    "# upload collection"
   ]
  },
  {
   "cell_type": "code",
   "execution_count": 86,
   "metadata": {},
   "outputs": [],
   "source": [
    "import s3fs\n",
    "s3_file = s3fs.S3FileSystem()"
   ]
  },
  {
   "cell_type": "code",
   "execution_count": 56,
   "metadata": {},
   "outputs": [
    {
     "data": {
      "text/plain": [
       "[]"
      ]
     },
     "execution_count": 56,
     "metadata": {},
     "output_type": "execute_result"
    }
   ],
   "source": [
    "s3_file.ls('structured-data-dev/vector-db-multitask-ml/product-collection')"
   ]
  },
  {
   "cell_type": "code",
   "execution_count": 62,
   "metadata": {},
   "outputs": [
    {
     "data": {
      "text/plain": [
       "[None]"
      ]
     },
     "execution_count": 62,
     "metadata": {},
     "output_type": "execute_result"
    }
   ],
   "source": [
    "s3_file.put('collection_products_withclip_peterhull_041223.bin', \n",
    "            'structured-data-dev/vector-db-multitask-ml/product-collection/collection_products_withclip_peterhull_041223.bin')"
   ]
  },
  {
   "cell_type": "code",
   "execution_count": 63,
   "metadata": {},
   "outputs": [
    {
     "data": {
      "text/plain": [
       "['structured-data-dev/vector-db-multitask-ml/product-collection/collection_products_withclip_peterhull_041223.bin']"
      ]
     },
     "execution_count": 63,
     "metadata": {},
     "output_type": "execute_result"
    }
   ],
   "source": [
    "s3_file.ls('structured-data-dev/vector-db-multitask-ml/product-collection')"
   ]
  },
  {
   "cell_type": "code",
   "execution_count": 8,
   "metadata": {},
   "outputs": [
    {
     "data": {
      "text/plain": [
       "[None]"
      ]
     },
     "execution_count": 8,
     "metadata": {},
     "output_type": "execute_result"
    }
   ],
   "source": [
    "s3_file.put('collection_products_withclip_peterhull_top10000_041223.bin', \n",
    "    'structured-data-dev/vector-db-multitask-ml/product-collection/collection_products_withclip_peterhull_top10000_041223.bin')"
   ]
  },
  {
   "cell_type": "code",
   "execution_count": 9,
   "metadata": {},
   "outputs": [
    {
     "data": {
      "text/plain": [
       "['structured-data-dev/vector-db-multitask-ml/product-collection/collection_products_withclip_peterhull_041223.bin',\n",
       " 'structured-data-dev/vector-db-multitask-ml/product-collection/collection_products_withclip_peterhull_top10000_041223.bin']"
      ]
     },
     "execution_count": 9,
     "metadata": {},
     "output_type": "execute_result"
    }
   ],
   "source": [
    "s3_file.ls('structured-data-dev/vector-db-multitask-ml/product-collection')"
   ]
  },
  {
   "cell_type": "code",
   "execution_count": 87,
   "metadata": {},
   "outputs": [
    {
     "name": "stderr",
     "output_type": "stream",
     "text": [
      "2023-04-13 01:59:16,242 INFO: Found credentials in environment variables.\n"
     ]
    },
    {
     "data": {
      "text/plain": [
       "[None]"
      ]
     },
     "execution_count": 87,
     "metadata": {},
     "output_type": "execute_result"
    }
   ],
   "source": [
    "s3_file.put('collection_products_withclip_multitask_041223.parquet', \n",
    "    'structured-data-dev/vector-db-multitask-ml/product-collection/collection_products_withclip_multitask_041223.parquet')\n",
    "s3_file.put('collection_products_withclip_multitask_041223.npy', \n",
    "    'structured-data-dev/vector-db-multitask-ml/product-collection/collection_products_withclip_multitask_041223.npy')"
   ]
  },
  {
   "cell_type": "code",
   "execution_count": 88,
   "metadata": {},
   "outputs": [
    {
     "data": {
      "text/plain": [
       "['structured-data-dev/vector-db-multitask-ml/product-collection/collection_products_withclip_multitask_041223.npy',\n",
       " 'structured-data-dev/vector-db-multitask-ml/product-collection/collection_products_withclip_multitask_041223.parquet',\n",
       " 'structured-data-dev/vector-db-multitask-ml/product-collection/collection_products_withclip_peterhull_041223.bin',\n",
       " 'structured-data-dev/vector-db-multitask-ml/product-collection/collection_products_withclip_peterhull_top10000_041223.bin']"
      ]
     },
     "execution_count": 88,
     "metadata": {},
     "output_type": "execute_result"
    }
   ],
   "source": [
    "s3_file.ls('structured-data-dev/vector-db-multitask-ml/product-collection')"
   ]
  },
  {
   "cell_type": "code",
   "execution_count": null,
   "metadata": {},
   "outputs": [],
   "source": []
  }
 ],
 "metadata": {
  "kernelspec": {
   "display_name": "Python 3",
   "language": "python",
   "name": "python3"
  },
  "language_info": {
   "codemirror_mode": {
    "name": "ipython",
    "version": 3
   },
   "file_extension": ".py",
   "mimetype": "text/x-python",
   "name": "python",
   "nbconvert_exporter": "python",
   "pygments_lexer": "ipython3",
   "version": "3.8.13"
  },
  "orig_nbformat": 4
 },
 "nbformat": 4,
 "nbformat_minor": 2
}
