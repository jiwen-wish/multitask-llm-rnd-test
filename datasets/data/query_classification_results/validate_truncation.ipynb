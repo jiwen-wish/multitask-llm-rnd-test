{
 "cells": [
  {
   "cell_type": "code",
   "execution_count": 1,
   "metadata": {},
   "outputs": [],
   "source": [
    "import pandas as pd\n",
    "from collections import defaultdict\n",
    "from tqdm import tqdm"
   ]
  },
  {
   "cell_type": "code",
   "execution_count": 2,
   "metadata": {},
   "outputs": [],
   "source": [
    "df = pd.read_csv('sdt_limited_test.tsv', sep='\\t', names=['query', 'cat_wt_tcat_twt'], header=None)"
   ]
  },
  {
   "cell_type": "code",
   "execution_count": 3,
   "metadata": {},
   "outputs": [
    {
     "data": {
      "text/plain": [
       "4986542"
      ]
     },
     "execution_count": 3,
     "metadata": {},
     "output_type": "execute_result"
    }
   ],
   "source": [
    "len(df)"
   ]
  },
  {
   "cell_type": "code",
   "execution_count": 4,
   "metadata": {},
   "outputs": [
    {
     "data": {
      "text/plain": [
       "[{'query': 'big gift boxes for presents',\n",
       "  'cat_wt_tcat_twt': \"[['2499', '2520', '2501'], [0.034763362258672, 0.692795872688293, 0.209890782833099], ['2479'], [0.692795872688293]]\"},\n",
       " {'query': 'women s plus size coats',\n",
       "  'cat_wt_tcat_twt': \"[['6079', '6047', '6044'], [0.017222201451659, 0.9199814200401301, 0.033585455268621], ['6028', '6026'], [0.017222201451659, 0.9199814200401301]]\"},\n",
       " {'query': 'foundation maybelline',\n",
       "  'cat_wt_tcat_twt': \"[['998', '1009'], [0.056512609124183, 0.8071712851524351], ['998'], [0.8071712851524351]]\"},\n",
       " {'query': 'hasbul',\n",
       "  'cat_wt_tcat_twt': \"[['5901', '5904', '5913'], [0.057797316461801, 0.083189412951469, 0.34847527742385803], ['5901'], [0.34847527742385803]]\"},\n",
       " {'query': 'h d kristal',\n",
       "  'cat_wt_tcat_twt': \"[['2685', '4083', '4089'], [0.49266675114631603, 0.065896727144718, 0.21316447854042], ['2649', '4081'], [0.49266675114631603, 0.21316447854042]]\"}]"
      ]
     },
     "execution_count": 4,
     "metadata": {},
     "output_type": "execute_result"
    }
   ],
   "source": [
    "df.head().to_dict('records')"
   ]
  },
  {
   "cell_type": "code",
   "execution_count": 5,
   "metadata": {},
   "outputs": [],
   "source": [
    "df_tax = pd.read_json('../taxonomy/wish_newtax_02222023.json', lines=True)"
   ]
  },
  {
   "cell_type": "code",
   "execution_count": 6,
   "metadata": {},
   "outputs": [],
   "source": [
    "id2tax = {}\n",
    "tax2id = {}\n",
    "for i in df_tax.to_dict('records'):\n",
    "    if len(i['category_path']) > 0:\n",
    "        id2tax[str(i['id'])] = i['category_path']\n",
    "        tax2id[i['category_path']] = str(i['id'])"
   ]
  },
  {
   "cell_type": "code",
   "execution_count": 7,
   "metadata": {},
   "outputs": [],
   "source": [
    "TRUNCATE_DEPTH = 2"
   ]
  },
  {
   "cell_type": "code",
   "execution_count": 8,
   "metadata": {},
   "outputs": [],
   "source": [
    "def validate_truncation(x):\n",
    "    cats, wts, tcats, twts = x\n",
    "    tcat_dicts_given = {i: j for i, j in zip(tcats, twts)}\n",
    "    tcats_dict = defaultdict(int)\n",
    "    for i, j in zip(cats, wts):\n",
    "        tcat = ' > '.join(id2tax[i].split(' > ')[:TRUNCATE_DEPTH])\n",
    "        tcats_dict[tax2id[tcat]] = max(tcats_dict[tax2id[tcat]], j)\n",
    "    return set(tcats_dict.items()) == set(tcat_dicts_given.items()), (tcats_dict, tcat_dicts_given)"
   ]
  },
  {
   "cell_type": "code",
   "execution_count": 9,
   "metadata": {},
   "outputs": [
    {
     "data": {
      "text/plain": [
       "(True,\n",
       " (defaultdict(int, {'6028': 0.017222201451659, '6026': 0.9199814200401301}),\n",
       "  {'6028': 0.017222201451659, '6026': 0.9199814200401301}))"
      ]
     },
     "execution_count": 9,
     "metadata": {},
     "output_type": "execute_result"
    }
   ],
   "source": [
    "validate_truncation(eval(\"[[u'6079', u'6047', u'6044'], [0.017222201451659, 0.9199814200401301, 0.033585455268621], [u'6028', u'6026'], [0.017222201451659, 0.9199814200401301]]\"))"
   ]
  },
  {
   "cell_type": "code",
   "execution_count": 10,
   "metadata": {},
   "outputs": [
    {
     "data": {
      "text/plain": [
       "(True, (defaultdict(int, {}), {}))"
      ]
     },
     "execution_count": 10,
     "metadata": {},
     "output_type": "execute_result"
    }
   ],
   "source": [
    "validate_truncation(eval('[[], [], [], []]'))"
   ]
  },
  {
   "cell_type": "code",
   "execution_count": 11,
   "metadata": {},
   "outputs": [
    {
     "name": "stderr",
     "output_type": "stream",
     "text": [
      "100%|██████████| 4986542/4986542 [03:47<00:00, 21888.78it/s]\n"
     ]
    }
   ],
   "source": [
    "errors = []\n",
    "for i in tqdm(df.to_dict('records')):\n",
    "    is_correct, res = validate_truncation(eval(i['cat_wt_tcat_twt']))\n",
    "    if not is_correct:\n",
    "        errors.append((i, res))"
   ]
  },
  {
   "cell_type": "code",
   "execution_count": 12,
   "metadata": {},
   "outputs": [
    {
     "data": {
      "text/plain": [
       "0.0"
      ]
     },
     "execution_count": 12,
     "metadata": {},
     "output_type": "execute_result"
    }
   ],
   "source": [
    "len(errors) / len(df)"
   ]
  },
  {
   "cell_type": "code",
   "execution_count": 14,
   "metadata": {},
   "outputs": [
    {
     "data": {
      "text/plain": [
       "[{'query': 'wand licht schlafzimmer',\n",
       "  'cat_wt_tcat_twt': \"[['3915'], [0.22929243743419603], ['3897'], [0.22929243743419603]]\"},\n",
       " {'query': 'tooth fairy gifts for girls',\n",
       "  'cat_wt_tcat_twt': \"[['5850', '1089', '5904'], [0.11144375056028301, 0.06003725528717001, 0.071317106485366], ['1085', '5901', '5848'], [0.06003725528717001, 0.071317106485366, 0.11144375056028301]]\"},\n",
       " {'query': 'onn party speaker',\n",
       "  'cat_wt_tcat_twt': \"[['1755', '1754', '1761'], [0.469256103038787, 0.34622895717620805, 0.146192356944084], ['1754'], [0.469256103038787]]\"},\n",
       " {'query': 'camas bebes',\n",
       "  'cat_wt_tcat_twt': \"[['4273', '4236', '4233'], [0.48028725385665805, 0.06607480347156501, 0.11679942160844801], ['4272', '4231'], [0.48028725385665805, 0.11679942160844801]]\"},\n",
       " {'query': 'leggings de drainage',\n",
       "  'cat_wt_tcat_twt': \"[['5959', '6084'], [0.28475460410118103, 0.21063022315502103], ['6028', '6142'], [0.21063022315502103, 0.28475460410118103]]\"}]"
      ]
     },
     "execution_count": 14,
     "metadata": {},
     "output_type": "execute_result"
    }
   ],
   "source": [
    "df.sample(5).to_dict('records')"
   ]
  },
  {
   "cell_type": "code",
   "execution_count": null,
   "metadata": {},
   "outputs": [],
   "source": []
  }
 ],
 "metadata": {
  "kernelspec": {
   "display_name": "Python 3",
   "language": "python",
   "name": "python3"
  },
  "language_info": {
   "codemirror_mode": {
    "name": "ipython",
    "version": 3
   },
   "file_extension": ".py",
   "mimetype": "text/x-python",
   "name": "python",
   "nbconvert_exporter": "python",
   "pygments_lexer": "ipython3",
   "version": "3.8.13"
  },
  "orig_nbformat": 4,
  "vscode": {
   "interpreter": {
    "hash": "949777d72b0d2535278d3dc13498b2535136f6dfe0678499012e853ee9abcab1"
   }
  }
 },
 "nbformat": 4,
 "nbformat_minor": 2
}
