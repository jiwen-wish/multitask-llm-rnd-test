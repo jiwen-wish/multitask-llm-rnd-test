{
 "cells": [
  {
   "cell_type": "code",
   "execution_count": 1,
   "metadata": {},
   "outputs": [],
   "source": [
    "import pandas as pd\n",
    "from collections import defaultdict\n",
    "import dvc.api\n",
    "from tqdm import tqdm\n",
    "import numpy as np"
   ]
  },
  {
   "cell_type": "code",
   "execution_count": 2,
   "metadata": {},
   "outputs": [],
   "source": [
    "df_original = pd.read_csv(dvc.api.get_url('modelling/notebooks/query_attr_extract_appen_label/appen_query_attribution_batch1.csv', \n",
    "    repo='git@github.com:ContextLogic/multitask-llm-rnd.git'))"
   ]
  },
  {
   "cell_type": "code",
   "execution_count": 3,
   "metadata": {},
   "outputs": [],
   "source": [
    "# df = pd.read_excel('appen/output_batch/Query Attribution_02.03.23.xlsx')\n",
    "df = pd.read_excel('appen/output_batch_correct/Query Attribution_02.03.23.xlsx')"
   ]
  },
  {
   "cell_type": "code",
   "execution_count": 4,
   "metadata": {},
   "outputs": [
    {
     "data": {
      "text/html": [
       "<div>\n",
       "<style scoped>\n",
       "    .dataframe tbody tr th:only-of-type {\n",
       "        vertical-align: middle;\n",
       "    }\n",
       "\n",
       "    .dataframe tbody tr th {\n",
       "        vertical-align: top;\n",
       "    }\n",
       "\n",
       "    .dataframe thead th {\n",
       "        text-align: right;\n",
       "    }\n",
       "</style>\n",
       "<table border=\"1\" class=\"dataframe\">\n",
       "  <thead>\n",
       "    <tr style=\"text-align: right;\">\n",
       "      <th></th>\n",
       "      <th>query</th>\n",
       "      <th>sample_method</th>\n",
       "      <th>label_ordering</th>\n",
       "      <th>top_query_classification_taxonomy</th>\n",
       "    </tr>\n",
       "  </thead>\n",
       "  <tbody>\n",
       "    <tr>\n",
       "      <th>0</th>\n",
       "      <td>dog cat eater</td>\n",
       "      <td>uniform</td>\n",
       "      <td>0</td>\n",
       "      <td>Home &amp; Garden &gt; Pet Products &gt; Cat Supplies &gt; ...</td>\n",
       "    </tr>\n",
       "    <tr>\n",
       "      <th>1</th>\n",
       "      <td>fish holder tool</td>\n",
       "      <td>head</td>\n",
       "      <td>18</td>\n",
       "      <td>Sports &gt; Fishing &gt; Fishing Tools</td>\n",
       "    </tr>\n",
       "  </tbody>\n",
       "</table>\n",
       "</div>"
      ],
      "text/plain": [
       "              query sample_method  label_ordering  \\\n",
       "0     dog cat eater       uniform               0   \n",
       "1  fish holder tool          head              18   \n",
       "\n",
       "                   top_query_classification_taxonomy  \n",
       "0  Home & Garden > Pet Products > Cat Supplies > ...  \n",
       "1                   Sports > Fishing > Fishing Tools  "
      ]
     },
     "execution_count": 4,
     "metadata": {},
     "output_type": "execute_result"
    }
   ],
   "source": [
    "df_original.head(2)"
   ]
  },
  {
   "cell_type": "code",
   "execution_count": 5,
   "metadata": {},
   "outputs": [
    {
     "data": {
      "text/plain": [
       "0.0"
      ]
     },
     "execution_count": 5,
     "metadata": {},
     "output_type": "execute_result"
    }
   ],
   "source": [
    "df_original['label_ordering'].isna().mean()"
   ]
  },
  {
   "cell_type": "code",
   "execution_count": 6,
   "metadata": {},
   "outputs": [],
   "source": [
    "df = df.merge(df_original[['label_ordering', 'query', 'top_query_classification_taxonomy']].rename(columns={\n",
    "    'query': 'query_original',\n",
    "    'label_ordering': 'Label Ordering'\n",
    "}), on='Label Ordering', how='inner')"
   ]
  },
  {
   "cell_type": "code",
   "execution_count": 7,
   "metadata": {},
   "outputs": [
    {
     "data": {
      "text/plain": [
       "0.0646146459864236"
      ]
     },
     "execution_count": 7,
     "metadata": {},
     "output_type": "execute_result"
    }
   ],
   "source": [
    "(df['query_original'] != df['Query']).mean()"
   ]
  },
  {
   "cell_type": "code",
   "execution_count": 8,
   "metadata": {},
   "outputs": [
    {
     "data": {
      "text/plain": [
       "[{'Label Ordering': 1307978,\n",
       "  'Query': 'lanÃ§ador de teia do homem-aranha que atira',\n",
       "  'query_original': 'lançador de teia do homem-aranha que atira',\n",
       "  'Rater Answer': nan,\n",
       "  'Query Category': 'Home & Garden > Kitchen,Dining & Bar > Measuring Tools & Scales > Kitchen Scales'},\n",
       " {'Label Ordering': 715118,\n",
       "  'Query': 'é\\x9d´ ãƒ¡ãƒ³ã‚º ãƒŠã‚¤ã‚\\xad',\n",
       "  'query_original': '靴 メンズ ナイキ',\n",
       "  'Rater Answer': nan,\n",
       "  'Query Category': \"Shoes > Men's Shoes > Men's Casual Shoes\"}]"
      ]
     },
     "execution_count": 8,
     "metadata": {},
     "output_type": "execute_result"
    }
   ],
   "source": [
    "df[df['query_original'] != df['Query']][['Label Ordering', 'Query', 'query_original', 'Rater Answer', 'Query Category']].sample(2).to_dict('records')"
   ]
  },
  {
   "cell_type": "code",
   "execution_count": 13,
   "metadata": {},
   "outputs": [
    {
     "data": {
      "text/plain": [
       "0.0"
      ]
     },
     "execution_count": 13,
     "metadata": {},
     "output_type": "execute_result"
    }
   ],
   "source": [
    "(df['Query Category'] != df['top_query_classification_taxonomy']).mean()"
   ]
  },
  {
   "cell_type": "code",
   "execution_count": 41,
   "metadata": {},
   "outputs": [
    {
     "name": "stderr",
     "output_type": "stream",
     "text": [
      "100%|██████████| 74983/74983 [00:00<00:00, 453863.44it/s]\n"
     ]
    },
    {
     "data": {
      "text/plain": [
       "(0.7627995679020578, 0.2372004320979422, 0.1449128469119667)"
      ]
     },
     "execution_count": 41,
     "metadata": {},
     "output_type": "execute_result"
    }
   ],
   "source": [
    "errors = []\n",
    "correct = []\n",
    "empty = []\n",
    "for i in tqdm(df[['Query', 'query_original', 'Rater Answer', 'Query Category']].to_dict('records')):\n",
    "    res = [] if ((not isinstance(i['Rater Answer'], str)) and (np.isnan(i['Rater Answer']))) else i['Rater Answer'].split('\\n')\n",
    "    if len(res) == 0:\n",
    "        empty.append(i)\n",
    "    is_correct = True\n",
    "    for j in res:\n",
    "        if not j.startswith(i['Query Category']):\n",
    "            errors.append(i)\n",
    "            is_correct = False\n",
    "            break\n",
    "    if is_correct:\n",
    "        correct.append(i)\n",
    "len(correct) / len(df), len(errors) / len(df), len(empty) / len(df)"
   ]
  },
  {
   "cell_type": "code",
   "execution_count": 42,
   "metadata": {},
   "outputs": [
    {
     "data": {
      "text/plain": [
       "[{'Query': 'fish holder tool',\n",
       "  'query_original': 'fish holder tool',\n",
       "  'Rater Answer': 'Sports > Fishing > Fishing Tools > fish holder',\n",
       "  'Query Category': 'Sports > Fishing > Fishing Tools'},\n",
       " {'Query': 'medayas de oro',\n",
       "  'query_original': 'medayas de oro',\n",
       "  'Rater Answer': 'Jewelry & Accessories > Fine Jewelry > Necklaces > Materials > Gold\\nJewelry & Accessories > Fine Jewelry > Necklaces > Occasion & Lifestyle > Honor award',\n",
       "  'Query Category': 'Jewelry & Accessories > Fine Jewelry > Necklaces'},\n",
       " {'Query': 'case para huawei y9 prime 2019',\n",
       "  'query_original': 'case para huawei y9 prime 2019',\n",
       "  'Rater Answer': 'Cellphones & Telecommunications > Mobile Phone Accessories > Phone Case & Covers > Brand > huawei y9 prime 2019',\n",
       "  'Query Category': 'Cellphones & Telecommunications > Mobile Phone Accessories > Phone Case & Covers'},\n",
       " {'Query': 'lace dots meter',\n",
       "  'query_original': 'lace dots meter',\n",
       "  'Rater Answer': 'Home & Garden > Arts, Crafts & Sewing > Apparel Sewing & Fabric > Lace > Item Types > Dot Meter',\n",
       "  'Query Category': 'Home & Garden > Arts, Crafts & Sewing > Apparel Sewing & Fabric > Lace'},\n",
       " {'Query': 'canne Ã\\xa0 pÃªche carnassier',\n",
       "  'query_original': 'canne à pêche carnassier',\n",
       "  'Rater Answer': 'Sports > Fishing > Fishing Rods > Fishing Reel or Rod Type > Predator',\n",
       "  'Query Category': 'Sports > Fishing > Fishing Rods'}]"
      ]
     },
     "execution_count": 42,
     "metadata": {},
     "output_type": "execute_result"
    }
   ],
   "source": [
    "correct[:5]"
   ]
  },
  {
   "cell_type": "code",
   "execution_count": 43,
   "metadata": {},
   "outputs": [
    {
     "data": {
      "text/plain": [
       "[{'Query': 'molde gesso 3d silicone',\n",
       "  'query_original': 'molde gesso 3d silicone',\n",
       "  'Rater Answer': 'Home & Garden > Arts, Crafts & Sewing > Pottery & Ceramics > Clay Molds > Materials > Silicone\\nHome & Garden > Arts, Crafts & Sewing > Pottery & Ceramics > Clay Molds > Pattern > 3D',\n",
       "  'Query Category': 'Home & Garden > Arts, Crafts & Sewing > Button & Badge Making > Maker Molds'},\n",
       " {'Query': 'gucci pouch mens',\n",
       "  'query_original': 'gucci pouch mens',\n",
       "  'Rater Answer': \"Luggage & Bags > Women's Bags > Waist Packs > Department > Men > gucci\",\n",
       "  'Query Category': \"Luggage & Bags > Men's Bags > Waist Packs\"},\n",
       " {'Query': 'housse de couette 90x190',\n",
       "  'query_original': 'housse de couette 90x190',\n",
       "  'Rater Answer': 'Home & Garden > Home Textile > Duvet Cover Sets > Size > 90x190',\n",
       "  'Query Category': 'Home & Garden > Home Textile > Bedding > Duvet Covers'},\n",
       " {'Query': 'caixa porta joias',\n",
       "  'query_original': 'caixa porta joias',\n",
       "  'Rater Answer': 'Home & Garden > Home Storage & Organization > Storage Drawers > Jewelry box',\n",
       "  'Query Category': 'Home & Garden > Home Storage & Organization > Storage Boxes & Bins'},\n",
       " {'Query': 'oneplus 7 pro charger',\n",
       "  'query_original': 'oneplus 7 pro charger',\n",
       "  'Rater Answer': 'Cellphones & Telecommunications > Mobile Phone Accessories > GaN Chargers > Brand- oneplus',\n",
       "  'Query Category': 'Cellphones & Telecommunications > Mobile Phone Accessories > Mobile Phone Chargers'}]"
      ]
     },
     "execution_count": 43,
     "metadata": {},
     "output_type": "execute_result"
    }
   ],
   "source": [
    "# query errors\n",
    "errors[:5]"
   ]
  }
 ],
 "metadata": {
  "kernelspec": {
   "display_name": "Python 3",
   "language": "python",
   "name": "python3"
  },
  "language_info": {
   "codemirror_mode": {
    "name": "ipython",
    "version": 3
   },
   "file_extension": ".py",
   "mimetype": "text/x-python",
   "name": "python",
   "nbconvert_exporter": "python",
   "pygments_lexer": "ipython3",
   "version": "3.8.13"
  },
  "orig_nbformat": 4,
  "vscode": {
   "interpreter": {
    "hash": "949777d72b0d2535278d3dc13498b2535136f6dfe0678499012e853ee9abcab1"
   }
  }
 },
 "nbformat": 4,
 "nbformat_minor": 2
}
