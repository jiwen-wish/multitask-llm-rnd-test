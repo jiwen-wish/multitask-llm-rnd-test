{
 "cells": [
  {
   "cell_type": "code",
   "execution_count": 4,
   "metadata": {},
   "outputs": [],
   "source": [
    "import pandas as pd\n",
    "from collections import defaultdict\n",
    "import dvc.api\n",
    "from tqdm import tqdm"
   ]
  },
  {
   "cell_type": "code",
   "execution_count": 5,
   "metadata": {},
   "outputs": [],
   "source": [
    "df_original = pd.read_csv(dvc.api.get_url('modelling/notebooks/query_attr_extract_appen_label/appen_query_attribution_batch1.csv', \n",
    "    repo='git@github.com:ContextLogic/multitask-llm-rnd.git'))"
   ]
  },
  {
   "cell_type": "code",
   "execution_count": 6,
   "metadata": {},
   "outputs": [],
   "source": [
    "df = pd.read_excel('appen/output_batch/Query Attribution_02.03.23.xlsx')"
   ]
  },
  {
   "cell_type": "code",
   "execution_count": 7,
   "metadata": {},
   "outputs": [
    {
     "data": {
      "text/html": [
       "<div>\n",
       "<style scoped>\n",
       "    .dataframe tbody tr th:only-of-type {\n",
       "        vertical-align: middle;\n",
       "    }\n",
       "\n",
       "    .dataframe tbody tr th {\n",
       "        vertical-align: top;\n",
       "    }\n",
       "\n",
       "    .dataframe thead th {\n",
       "        text-align: right;\n",
       "    }\n",
       "</style>\n",
       "<table border=\"1\" class=\"dataframe\">\n",
       "  <thead>\n",
       "    <tr style=\"text-align: right;\">\n",
       "      <th></th>\n",
       "      <th>Label Ordering</th>\n",
       "      <th>Sample Method</th>\n",
       "      <th>Query</th>\n",
       "      <th>Translated Query</th>\n",
       "      <th>L2 Category</th>\n",
       "      <th>Query Category</th>\n",
       "      <th>Rater Answer</th>\n",
       "    </tr>\n",
       "  </thead>\n",
       "  <tbody>\n",
       "    <tr>\n",
       "      <th>0</th>\n",
       "      <td>18</td>\n",
       "      <td>head</td>\n",
       "      <td>fish holder tool</td>\n",
       "      <td>fish holder tool</td>\n",
       "      <td>Sports &gt; Fishing</td>\n",
       "      <td>Sports &gt; Fishing &gt; Fishing Tools</td>\n",
       "      <td>['Fishing &gt; Fishing Tools &gt; fish holder']</td>\n",
       "    </tr>\n",
       "    <tr>\n",
       "      <th>1</th>\n",
       "      <td>225</td>\n",
       "      <td>head</td>\n",
       "      <td>molde gesso 3d silicone</td>\n",
       "      <td>3D silicone chalking mold</td>\n",
       "      <td>Home &amp; Garden &gt; Arts, Crafts &amp; Sewing</td>\n",
       "      <td>Home &amp; Garden &gt; Arts, Crafts &amp; Sewing &gt; Button...</td>\n",
       "      <td>['Arts, Crafts &amp; Sewing &gt; Pottery &amp; Ceramics &gt;...</td>\n",
       "    </tr>\n",
       "  </tbody>\n",
       "</table>\n",
       "</div>"
      ],
      "text/plain": [
       "   Label Ordering Sample Method                    Query  \\\n",
       "0              18          head         fish holder tool   \n",
       "1             225          head  molde gesso 3d silicone   \n",
       "\n",
       "            Translated Query                            L2 Category  \\\n",
       "0           fish holder tool                       Sports > Fishing   \n",
       "1  3D silicone chalking mold  Home & Garden > Arts, Crafts & Sewing   \n",
       "\n",
       "                                      Query Category  \\\n",
       "0                   Sports > Fishing > Fishing Tools   \n",
       "1  Home & Garden > Arts, Crafts & Sewing > Button...   \n",
       "\n",
       "                                        Rater Answer  \n",
       "0          ['Fishing > Fishing Tools > fish holder']  \n",
       "1  ['Arts, Crafts & Sewing > Pottery & Ceramics >...  "
      ]
     },
     "execution_count": 7,
     "metadata": {},
     "output_type": "execute_result"
    }
   ],
   "source": [
    "df.head(2)"
   ]
  },
  {
   "cell_type": "code",
   "execution_count": 8,
   "metadata": {},
   "outputs": [
    {
     "data": {
      "text/html": [
       "<div>\n",
       "<style scoped>\n",
       "    .dataframe tbody tr th:only-of-type {\n",
       "        vertical-align: middle;\n",
       "    }\n",
       "\n",
       "    .dataframe tbody tr th {\n",
       "        vertical-align: top;\n",
       "    }\n",
       "\n",
       "    .dataframe thead th {\n",
       "        text-align: right;\n",
       "    }\n",
       "</style>\n",
       "<table border=\"1\" class=\"dataframe\">\n",
       "  <thead>\n",
       "    <tr style=\"text-align: right;\">\n",
       "      <th></th>\n",
       "      <th>query</th>\n",
       "      <th>sample_method</th>\n",
       "      <th>label_ordering</th>\n",
       "      <th>top_query_classification_taxonomy</th>\n",
       "    </tr>\n",
       "  </thead>\n",
       "  <tbody>\n",
       "    <tr>\n",
       "      <th>0</th>\n",
       "      <td>dog cat eater</td>\n",
       "      <td>uniform</td>\n",
       "      <td>0</td>\n",
       "      <td>Home &amp; Garden &gt; Pet Products &gt; Cat Supplies &gt; ...</td>\n",
       "    </tr>\n",
       "    <tr>\n",
       "      <th>1</th>\n",
       "      <td>fish holder tool</td>\n",
       "      <td>head</td>\n",
       "      <td>18</td>\n",
       "      <td>Sports &gt; Fishing &gt; Fishing Tools</td>\n",
       "    </tr>\n",
       "  </tbody>\n",
       "</table>\n",
       "</div>"
      ],
      "text/plain": [
       "              query sample_method  label_ordering  \\\n",
       "0     dog cat eater       uniform               0   \n",
       "1  fish holder tool          head              18   \n",
       "\n",
       "                   top_query_classification_taxonomy  \n",
       "0  Home & Garden > Pet Products > Cat Supplies > ...  \n",
       "1                   Sports > Fishing > Fishing Tools  "
      ]
     },
     "execution_count": 8,
     "metadata": {},
     "output_type": "execute_result"
    }
   ],
   "source": [
    "df_original.head(2)"
   ]
  },
  {
   "cell_type": "code",
   "execution_count": 9,
   "metadata": {},
   "outputs": [],
   "source": [
    "df = df.merge(df_original[['label_ordering', 'query', 'top_query_classification_taxonomy']].rename(columns={\n",
    "    'query': 'query_original',\n",
    "    'label_ordering': 'Label Ordering'\n",
    "}), on='Label Ordering', how='inner')"
   ]
  },
  {
   "cell_type": "code",
   "execution_count": 10,
   "metadata": {},
   "outputs": [
    {
     "data": {
      "text/plain": [
       "0.0646146459864236"
      ]
     },
     "execution_count": 10,
     "metadata": {},
     "output_type": "execute_result"
    }
   ],
   "source": [
    "(df['query_original'] != df['Query']).mean()"
   ]
  },
  {
   "cell_type": "code",
   "execution_count": 17,
   "metadata": {},
   "outputs": [
    {
     "data": {
      "text/plain": [
       "[{'Label Ordering': 1457176,\n",
       "  'Query': 'Ã¨â€šÂ©Ã£Â\\x81â€œÃ£â€šÅ\\xa0 Ã£Æ’Â\\x8dÃ£Æ’Æ’Ã£â€šÂ¯Ã£Æ’Â¬Ã£â€šÂ¹ Ã£â€šÂ¹Ã£Æ’Â\\x9dÃ£Æ’Â¼Ã£Æ’â€ž',\n",
       "  'query_original': '肩こり ネックレス スポーツ'},\n",
       " {'Label Ordering': 347362,\n",
       "  'Query': 'limpador bucal aquÃƒÂ¡tico',\n",
       "  'query_original': 'limpador bucal aquático'}]"
      ]
     },
     "execution_count": 17,
     "metadata": {},
     "output_type": "execute_result"
    }
   ],
   "source": [
    "df[df['query_original'] != df['Query']][['Label Ordering', 'Query', 'query_original']].sample(2).to_dict('records')"
   ]
  },
  {
   "cell_type": "code",
   "execution_count": 12,
   "metadata": {},
   "outputs": [
    {
     "data": {
      "text/plain": [
       "0.0"
      ]
     },
     "execution_count": 12,
     "metadata": {},
     "output_type": "execute_result"
    }
   ],
   "source": [
    "(df['Query Category'] != df['top_query_classification_taxonomy']).mean()"
   ]
  },
  {
   "cell_type": "code",
   "execution_count": 15,
   "metadata": {},
   "outputs": [
    {
     "name": "stderr",
     "output_type": "stream",
     "text": [
      "100%|██████████| 74983/74983 [00:00<00:00, 76621.66it/s]\n"
     ]
    },
    {
     "data": {
      "text/plain": [
       "1.0"
      ]
     },
     "execution_count": 15,
     "metadata": {},
     "output_type": "execute_result"
    }
   ],
   "source": [
    "error_c = 0\n",
    "errors = []\n",
    "for i in tqdm(df[['Query', 'Rater Answer', 'Query Category']].to_dict('records')):\n",
    "    for j in eval(i['Rater Answer']):\n",
    "        if not j.startswith(i['Query Category']):\n",
    "            error_c += 1\n",
    "            errors.append(i)\n",
    "            break\n",
    "error_c / len(df)"
   ]
  },
  {
   "cell_type": "code",
   "execution_count": 16,
   "metadata": {},
   "outputs": [
    {
     "data": {
      "text/plain": [
       "[{'Query': 'fish holder tool',\n",
       "  'Rater Answer': \"['Fishing > Fishing Tools > fish holder']\",\n",
       "  'Query Category': 'Sports > Fishing > Fishing Tools'},\n",
       " {'Query': 'molde gesso 3d silicone',\n",
       "  'Rater Answer': \"['Arts, Crafts & Sewing > Pottery & Ceramics > Clay Molds > Materials > Silicone', 'Arts, Crafts & Sewing > Pottery & Ceramics > Clay Molds > Pattern > 3D']\",\n",
       "  'Query Category': 'Home & Garden > Arts, Crafts & Sewing > Button & Badge Making > Maker Molds'}]"
      ]
     },
     "execution_count": 16,
     "metadata": {},
     "output_type": "execute_result"
    }
   ],
   "source": [
    "# query errors\n",
    "errors[:2]"
   ]
  },
  {
   "cell_type": "code",
   "execution_count": 6,
   "metadata": {},
   "outputs": [],
   "source": [
    "df_meta = pd.read_csv('../attribute_extraction_metadata_template/attribute_definition_top25L2_filtered_augmented_01162023.csv')"
   ]
  },
  {
   "cell_type": "code",
   "execution_count": 24,
   "metadata": {},
   "outputs": [],
   "source": [
    "# path -> attribute_field -> {\"category_attributevalue\": set(), \"augment\": False, \"usage\": \"\"}\n",
    "meta_dict = defaultdict(lambda: defaultdict(lambda: {\"category_attributevalue\": set()})) \n",
    "for i in df_meta.to_dict('records'):\n",
    "    meta_dict[i['category']][i['attribute_field']][\"category_attributevalue\"].update(eval(i[\"category_attributevalue\"]))\n",
    "    meta_dict[i['category']][i['attribute_field']]['augment'] = i[\"augment\"]\n",
    "    meta_dict[i['category']][i['attribute_field']]['usage'] = i[\"usage\"]"
   ]
  },
  {
   "cell_type": "code",
   "execution_count": null,
   "metadata": {},
   "outputs": [],
   "source": [
    "meta_dict['Home & Garden > Arts, Crafts & Sewing > Button & Badge Making > Maker Molds']['Materials']"
   ]
  },
  {
   "cell_type": "code",
   "execution_count": null,
   "metadata": {},
   "outputs": [],
   "source": []
  },
  {
   "cell_type": "code",
   "execution_count": null,
   "metadata": {},
   "outputs": [],
   "source": []
  }
 ],
 "metadata": {
  "kernelspec": {
   "display_name": "Python 3",
   "language": "python",
   "name": "python3"
  },
  "language_info": {
   "codemirror_mode": {
    "name": "ipython",
    "version": 3
   },
   "file_extension": ".py",
   "mimetype": "text/x-python",
   "name": "python",
   "nbconvert_exporter": "python",
   "pygments_lexer": "ipython3",
   "version": "3.8.13"
  },
  "orig_nbformat": 4,
  "vscode": {
   "interpreter": {
    "hash": "949777d72b0d2535278d3dc13498b2535136f6dfe0678499012e853ee9abcab1"
   }
  }
 },
 "nbformat": 4,
 "nbformat_minor": 2
}
