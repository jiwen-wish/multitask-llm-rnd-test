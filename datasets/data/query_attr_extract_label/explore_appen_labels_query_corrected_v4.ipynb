{
 "cells": [
  {
   "cell_type": "code",
   "execution_count": 1,
   "metadata": {},
   "outputs": [],
   "source": [
    "import pandas as pd\n",
    "from collections import defaultdict\n",
    "import dvc.api\n",
    "from tqdm import tqdm\n",
    "import numpy as np\n",
    "from functools import reduce"
   ]
  },
  {
   "attachments": {},
   "cell_type": "markdown",
   "metadata": {},
   "source": [
    "# get original data"
   ]
  },
  {
   "cell_type": "code",
   "execution_count": 2,
   "metadata": {},
   "outputs": [],
   "source": [
    "df_original = pd.concat([ \n",
    "    pd.read_csv(dvc.api.get_url('modelling/notebooks/query_attr_extract_appen_label/appen_query_attribution_batch1.csv', \n",
    "        repo='git@github.com:ContextLogic/multitask-llm-rnd.git')), \n",
    "    pd.read_csv(dvc.api.get_url('modelling/notebooks/query_attr_extract_appen_label/appen_query_attribution_batch2.csv', \n",
    "        repo='git@github.com:ContextLogic/multitask-llm-rnd.git')),\n",
    "    pd.read_csv(dvc.api.get_url('modelling/notebooks/query_attr_extract_appen_label/appen_query_attribution_batch3_top74419.csv',\n",
    "        repo='git@github.com:ContextLogic/multitask-llm-rnd.git'))\n",
    "])"
   ]
  },
  {
   "cell_type": "code",
   "execution_count": 3,
   "metadata": {},
   "outputs": [
    {
     "data": {
      "text/plain": [
       "324419"
      ]
     },
     "execution_count": 3,
     "metadata": {},
     "output_type": "execute_result"
    }
   ],
   "source": [
    "len(df_original)"
   ]
  },
  {
   "cell_type": "code",
   "execution_count": 4,
   "metadata": {},
   "outputs": [
    {
     "data": {
      "text/plain": [
       "324419"
      ]
     },
     "execution_count": 4,
     "metadata": {},
     "output_type": "execute_result"
    }
   ],
   "source": [
    "len(set(df_original['label_ordering']))"
   ]
  },
  {
   "cell_type": "code",
   "execution_count": 39,
   "metadata": {},
   "outputs": [
    {
     "data": {
      "text/html": [
       "<div>\n",
       "<style scoped>\n",
       "    .dataframe tbody tr th:only-of-type {\n",
       "        vertical-align: middle;\n",
       "    }\n",
       "\n",
       "    .dataframe tbody tr th {\n",
       "        vertical-align: top;\n",
       "    }\n",
       "\n",
       "    .dataframe thead th {\n",
       "        text-align: right;\n",
       "    }\n",
       "</style>\n",
       "<table border=\"1\" class=\"dataframe\">\n",
       "  <thead>\n",
       "    <tr style=\"text-align: right;\">\n",
       "      <th></th>\n",
       "      <th>query</th>\n",
       "      <th>sample_method</th>\n",
       "      <th>label_ordering</th>\n",
       "      <th>top_query_classification_taxonomy</th>\n",
       "    </tr>\n",
       "  </thead>\n",
       "  <tbody>\n",
       "    <tr>\n",
       "      <th>0</th>\n",
       "      <td>dog cat eater</td>\n",
       "      <td>uniform</td>\n",
       "      <td>0</td>\n",
       "      <td>Home &amp; Garden &gt; Pet Products &gt; Cat Supplies &gt; ...</td>\n",
       "    </tr>\n",
       "    <tr>\n",
       "      <th>1</th>\n",
       "      <td>fish holder tool</td>\n",
       "      <td>head</td>\n",
       "      <td>18</td>\n",
       "      <td>Sports &gt; Fishing &gt; Fishing Tools</td>\n",
       "    </tr>\n",
       "  </tbody>\n",
       "</table>\n",
       "</div>"
      ],
      "text/plain": [
       "              query sample_method  label_ordering  \\\n",
       "0     dog cat eater       uniform               0   \n",
       "1  fish holder tool          head              18   \n",
       "\n",
       "                   top_query_classification_taxonomy  \n",
       "0  Home & Garden > Pet Products > Cat Supplies > ...  \n",
       "1                   Sports > Fishing > Fishing Tools  "
      ]
     },
     "execution_count": 39,
     "metadata": {},
     "output_type": "execute_result"
    }
   ],
   "source": [
    "df_original.head(2)"
   ]
  },
  {
   "attachments": {},
   "cell_type": "markdown",
   "metadata": {},
   "source": [
    "# get attributes"
   ]
  },
  {
   "cell_type": "code",
   "execution_count": 5,
   "metadata": {},
   "outputs": [],
   "source": [
    "df_attributes = pd.read_csv('../attribute_extraction_metadata_template/attribute_definition_top25L2_filtered_augmented_redacted_addedsinglemulti_01182023.csv')\n",
    "\n",
    "df_attributes_group = df_attributes.groupby('attribute_field').agg({\n",
    "    'category_attributevalue': lambda x: reduce(lambda x, y: x+y, [eval(i) for i in x])\n",
    "}).reset_index()"
   ]
  },
  {
   "cell_type": "code",
   "execution_count": 6,
   "metadata": {},
   "outputs": [
    {
     "data": {
      "text/plain": [
       "(230, 516378)"
      ]
     },
     "execution_count": 6,
     "metadata": {},
     "output_type": "execute_result"
    }
   ],
   "source": [
    "len(df_attributes_group), df_attributes_group.category_attributevalue.apply(len).sum()"
   ]
  },
  {
   "cell_type": "code",
   "execution_count": 7,
   "metadata": {},
   "outputs": [],
   "source": [
    "attributes = set(df_attributes_group['attribute_field'])"
   ]
  },
  {
   "cell_type": "code",
   "execution_count": 8,
   "metadata": {},
   "outputs": [],
   "source": [
    "category_paths = set(df_attributes['category'])"
   ]
  },
  {
   "cell_type": "code",
   "execution_count": 9,
   "metadata": {},
   "outputs": [],
   "source": [
    "more_paths = []\n",
    "for i in category_paths:\n",
    "    tmp = []\n",
    "    for j in i.split(' > '):\n",
    "        tmp.append(j)\n",
    "        more_paths.append(' > '.join(tmp))\n",
    "category_paths.update(more_paths)"
   ]
  },
  {
   "attachments": {},
   "cell_type": "markdown",
   "metadata": {},
   "source": [
    "# existing valid data"
   ]
  },
  {
   "cell_type": "code",
   "execution_count": 32,
   "metadata": {},
   "outputs": [
    {
     "name": "stderr",
     "output_type": "stream",
     "text": [
      "/tmp/ipykernel_15307/3044835731.py:1: DtypeWarning: Columns (9) have mixed types. Specify dtype option on import or set low_memory=False.\n",
      "  df1 = pd.read_csv('appen/output_batch_correct_v3/query_attribution_till_030923_valid_units.csv')\n"
     ]
    }
   ],
   "source": [
    "df1 = pd.read_csv('appen/output_batch_correct_v3/query_attribution_till_030923_valid_units.csv')"
   ]
  },
  {
   "cell_type": "code",
   "execution_count": 33,
   "metadata": {},
   "outputs": [],
   "source": [
    "del df1['Unnamed: 0']"
   ]
  },
  {
   "cell_type": "code",
   "execution_count": 34,
   "metadata": {},
   "outputs": [
    {
     "name": "stderr",
     "output_type": "stream",
     "text": [
      "/tmp/ipykernel_15307/2579001723.py:1: DtypeWarning: Columns (6) have mixed types. Specify dtype option on import or set low_memory=False.\n",
      "  df2 = pd.read_csv('appen/output_batch_correct_v4/Rework_processed_96,900 units.csv')\n"
     ]
    }
   ],
   "source": [
    "df2 = pd.read_csv('appen/output_batch_correct_v4/Rework_processed_96,900 units.csv')\n",
    "df3 = pd.read_csv('appen/output_batch_correct_v4/New Volume_processed_64,136 units.csv')\n",
    "df4 = pd.read_csv('appen/output_batch_correct_v4/Query Attribution_03.17.23_10k.csv')\n",
    "df5 = pd.read_csv('appen/output_batch_correct_v4/Query Attribution_03.24.23_3k.csv')"
   ]
  },
  {
   "cell_type": "code",
   "execution_count": 35,
   "metadata": {},
   "outputs": [],
   "source": [
    "df = pd.concat([df1, df2, df3, df4, df5])"
   ]
  },
  {
   "cell_type": "code",
   "execution_count": 36,
   "metadata": {},
   "outputs": [
    {
     "data": {
      "text/plain": [
       "324009"
      ]
     },
     "execution_count": 36,
     "metadata": {},
     "output_type": "execute_result"
    }
   ],
   "source": [
    "len(df)"
   ]
  },
  {
   "cell_type": "code",
   "execution_count": 37,
   "metadata": {},
   "outputs": [
    {
     "data": {
      "text/plain": [
       "324009"
      ]
     },
     "execution_count": 37,
     "metadata": {},
     "output_type": "execute_result"
    }
   ],
   "source": [
    "len(set(df['label_ordering']))"
   ]
  },
  {
   "cell_type": "code",
   "execution_count": 56,
   "metadata": {},
   "outputs": [],
   "source": [
    "df_merge = df.merge(df_original.rename(columns={'query': 'query_original2', 'sample_method': 'sample_method_original', \n",
    "                             'top_query_classification_taxonomy': 'top_query_classification_taxonomy_original'}), on='label_ordering')"
   ]
  },
  {
   "cell_type": "code",
   "execution_count": 57,
   "metadata": {},
   "outputs": [],
   "source": [
    "df_merge.loc[df_merge.query_original.isna(), 'query_original'] = df_merge.loc[df_merge.query_original.isna(), 'query_original2']"
   ]
  },
  {
   "cell_type": "code",
   "execution_count": 58,
   "metadata": {},
   "outputs": [
    {
     "data": {
      "text/plain": [
       "True"
      ]
     },
     "execution_count": 58,
     "metadata": {},
     "output_type": "execute_result"
    }
   ],
   "source": [
    "(df_merge['sample_method'] == df_merge['sample_method_original']).all()"
   ]
  },
  {
   "cell_type": "code",
   "execution_count": 59,
   "metadata": {},
   "outputs": [
    {
     "data": {
      "text/html": [
       "<div>\n",
       "<style scoped>\n",
       "    .dataframe tbody tr th:only-of-type {\n",
       "        vertical-align: middle;\n",
       "    }\n",
       "\n",
       "    .dataframe tbody tr th {\n",
       "        vertical-align: top;\n",
       "    }\n",
       "\n",
       "    .dataframe thead th {\n",
       "        text-align: right;\n",
       "    }\n",
       "</style>\n",
       "<table border=\"1\" class=\"dataframe\">\n",
       "  <thead>\n",
       "    <tr style=\"text-align: right;\">\n",
       "      <th></th>\n",
       "      <th>label_ordering</th>\n",
       "      <th>sample_method</th>\n",
       "      <th>l2_category</th>\n",
       "      <th>query_category</th>\n",
       "      <th>rater_output</th>\n",
       "      <th>query</th>\n",
       "      <th>translated_query</th>\n",
       "      <th>no_attributes</th>\n",
       "      <th>unlisted_value</th>\n",
       "      <th>query_original</th>\n",
       "      <th>query_original2</th>\n",
       "      <th>sample_method_original</th>\n",
       "      <th>top_query_classification_taxonomy_original</th>\n",
       "    </tr>\n",
       "  </thead>\n",
       "  <tbody>\n",
       "    <tr>\n",
       "      <th>308738</th>\n",
       "      <td>6435025</td>\n",
       "      <td>uniform</td>\n",
       "      <td>Home &amp; Garden &gt; Home Textile</td>\n",
       "      <td>Home &amp; Garden &gt; Home Textile &gt; Bedding &gt; Blankets</td>\n",
       "      <td>NaN</td>\n",
       "      <td>makita 18 v skins</td>\n",
       "      <td>NaN</td>\n",
       "      <td>True</td>\n",
       "      <td>NaN</td>\n",
       "      <td>makita 18 v skins￼</td>\n",
       "      <td>makita 18 v skins￼</td>\n",
       "      <td>uniform</td>\n",
       "      <td>Home &amp; Garden &gt; Home Textile &gt; Bedding &gt; Blankets</td>\n",
       "    </tr>\n",
       "    <tr>\n",
       "      <th>168379</th>\n",
       "      <td>928985</td>\n",
       "      <td>head</td>\n",
       "      <td>Home &amp; Garden &gt; Arts, Crafts &amp; Sewing</td>\n",
       "      <td>Home &amp; Garden &gt; Arts, Crafts &amp; Sewing &gt; Needle...</td>\n",
       "      <td>NaN</td>\n",
       "      <td>diamond artdallas cowboys</td>\n",
       "      <td>NaN</td>\n",
       "      <td>True</td>\n",
       "      <td>NaN</td>\n",
       "      <td>diamond artdallas cowboys￼</td>\n",
       "      <td>diamond artdallas cowboys￼</td>\n",
       "      <td>head</td>\n",
       "      <td>Home &amp; Garden &gt; Arts, Crafts &amp; Sewing &gt; Needle...</td>\n",
       "    </tr>\n",
       "  </tbody>\n",
       "</table>\n",
       "</div>"
      ],
      "text/plain": [
       "        label_ordering sample_method                            l2_category  \\\n",
       "308738         6435025       uniform          Home & Garden > Home Textile    \n",
       "168379          928985          head  Home & Garden > Arts, Crafts & Sewing   \n",
       "\n",
       "                                           query_category rater_output  \\\n",
       "308738  Home & Garden > Home Textile > Bedding > Blankets          NaN   \n",
       "168379  Home & Garden > Arts, Crafts & Sewing > Needle...          NaN   \n",
       "\n",
       "                            query  translated_query no_attributes  \\\n",
       "308738          makita 18 v skins               NaN          True   \n",
       "168379  diamond artdallas cowboys               NaN          True   \n",
       "\n",
       "       unlisted_value              query_original             query_original2  \\\n",
       "308738            NaN          makita 18 v skins￼          makita 18 v skins￼   \n",
       "168379            NaN  diamond artdallas cowboys￼  diamond artdallas cowboys￼   \n",
       "\n",
       "       sample_method_original  \\\n",
       "308738                uniform   \n",
       "168379                   head   \n",
       "\n",
       "               top_query_classification_taxonomy_original  \n",
       "308738  Home & Garden > Home Textile > Bedding > Blankets  \n",
       "168379  Home & Garden > Arts, Crafts & Sewing > Needle...  "
      ]
     },
     "execution_count": 59,
     "metadata": {},
     "output_type": "execute_result"
    }
   ],
   "source": [
    "df_merge[df_merge['query'].str.strip() != df_merge['query_original'].str.strip()].sample(2)"
   ]
  },
  {
   "cell_type": "code",
   "execution_count": 60,
   "metadata": {},
   "outputs": [
    {
     "data": {
      "text/plain": [
       "True"
      ]
     },
     "execution_count": 60,
     "metadata": {},
     "output_type": "execute_result"
    }
   ],
   "source": [
    "(df_merge['query_category'] == df_merge['top_query_classification_taxonomy_original']).all()"
   ]
  },
  {
   "cell_type": "code",
   "execution_count": 61,
   "metadata": {},
   "outputs": [],
   "source": [
    "for i in ['query_original', 'query_original2', 'sample_method_original', 'top_query_classification_taxonomy_original']:\n",
    "    del df_merge[i]"
   ]
  },
  {
   "cell_type": "code",
   "execution_count": 63,
   "metadata": {},
   "outputs": [],
   "source": [
    "leftover_ids = set(df_original['label_ordering']) - set(df_merge['label_ordering'])"
   ]
  },
  {
   "cell_type": "code",
   "execution_count": 65,
   "metadata": {},
   "outputs": [],
   "source": [
    "df_leftover = df_original[df_original.label_ordering.apply(lambda x: x in leftover_ids)]"
   ]
  },
  {
   "cell_type": "code",
   "execution_count": 86,
   "metadata": {},
   "outputs": [
    {
     "data": {
      "text/plain": [
       "410"
      ]
     },
     "execution_count": 86,
     "metadata": {},
     "output_type": "execute_result"
    }
   ],
   "source": [
    "len(df_leftover)"
   ]
  },
  {
   "cell_type": "code",
   "execution_count": 69,
   "metadata": {},
   "outputs": [],
   "source": [
    "df_leftover.to_csv('appen/output_batch_correct_v5/query_attribution_missed_032423.csv', index=False)"
   ]
  },
  {
   "cell_type": "code",
   "execution_count": 71,
   "metadata": {},
   "outputs": [
    {
     "data": {
      "text/html": [
       "<div>\n",
       "<style scoped>\n",
       "    .dataframe tbody tr th:only-of-type {\n",
       "        vertical-align: middle;\n",
       "    }\n",
       "\n",
       "    .dataframe tbody tr th {\n",
       "        vertical-align: top;\n",
       "    }\n",
       "\n",
       "    .dataframe thead th {\n",
       "        text-align: right;\n",
       "    }\n",
       "</style>\n",
       "<table border=\"1\" class=\"dataframe\">\n",
       "  <thead>\n",
       "    <tr style=\"text-align: right;\">\n",
       "      <th></th>\n",
       "      <th>label_ordering</th>\n",
       "      <th>sample_method</th>\n",
       "      <th>l2_category</th>\n",
       "      <th>query_category</th>\n",
       "      <th>rater_output</th>\n",
       "      <th>query</th>\n",
       "      <th>translated_query</th>\n",
       "      <th>no_attributes</th>\n",
       "      <th>unlisted_value</th>\n",
       "    </tr>\n",
       "  </thead>\n",
       "  <tbody>\n",
       "    <tr>\n",
       "      <th>0</th>\n",
       "      <td>225</td>\n",
       "      <td>head</td>\n",
       "      <td>Home &amp; Garden &gt; Arts, Crafts &amp; Sewing</td>\n",
       "      <td>Home &amp; Garden &gt; Arts, Crafts &amp; Sewing &gt; Button...</td>\n",
       "      <td>Home &amp; Garden &gt; Arts, Crafts &amp; Sewing &gt; Potter...</td>\n",
       "      <td>molde gesso 3d silicone</td>\n",
       "      <td>NaN</td>\n",
       "      <td>NaN</td>\n",
       "      <td>NaN</td>\n",
       "    </tr>\n",
       "    <tr>\n",
       "      <th>1</th>\n",
       "      <td>288</td>\n",
       "      <td>head</td>\n",
       "      <td>Jewelry &amp; Accessories &gt; Fine Jewelry</td>\n",
       "      <td>Jewelry &amp; Accessories &gt; Fine Jewelry &gt; Necklaces</td>\n",
       "      <td>Jewelry &amp; Accessories &gt; Fine Jewelry &gt; Necklac...</td>\n",
       "      <td>medayas de oro</td>\n",
       "      <td>NaN</td>\n",
       "      <td>NaN</td>\n",
       "      <td>NaN</td>\n",
       "    </tr>\n",
       "    <tr>\n",
       "      <th>2</th>\n",
       "      <td>293</td>\n",
       "      <td>head</td>\n",
       "      <td>Cellphones &amp; Telecommunications &gt; Mobile Phone...</td>\n",
       "      <td>Cellphones &amp; Telecommunications &gt; Mobile Phone...</td>\n",
       "      <td>Cellphones &amp; Telecommunications &gt; Mobile Phone...</td>\n",
       "      <td>case para huawei y9 prime 2019</td>\n",
       "      <td>NaN</td>\n",
       "      <td>NaN</td>\n",
       "      <td>NaN</td>\n",
       "    </tr>\n",
       "    <tr>\n",
       "      <th>3</th>\n",
       "      <td>314</td>\n",
       "      <td>uniform</td>\n",
       "      <td>Home &amp; Garden &gt; Arts, Crafts &amp; Sewing</td>\n",
       "      <td>Home &amp; Garden &gt; Arts, Crafts &amp; Sewing &gt; Appare...</td>\n",
       "      <td>Home &amp; Garden &gt; Arts, Crafts &amp; Sewing &gt; Appare...</td>\n",
       "      <td>lace dots meter</td>\n",
       "      <td>NaN</td>\n",
       "      <td>NaN</td>\n",
       "      <td>NaN</td>\n",
       "    </tr>\n",
       "    <tr>\n",
       "      <th>4</th>\n",
       "      <td>694</td>\n",
       "      <td>head</td>\n",
       "      <td>Sports &gt; Fishing</td>\n",
       "      <td>Sports &gt; Fishing &gt; Fishing Rods</td>\n",
       "      <td>Sports &gt; Fishing &gt; Fishing Rods &gt; Fishing Reel...</td>\n",
       "      <td>canne à pêche carnassier</td>\n",
       "      <td>NaN</td>\n",
       "      <td>NaN</td>\n",
       "      <td>NaN</td>\n",
       "    </tr>\n",
       "    <tr>\n",
       "      <th>...</th>\n",
       "      <td>...</td>\n",
       "      <td>...</td>\n",
       "      <td>...</td>\n",
       "      <td>...</td>\n",
       "      <td>...</td>\n",
       "      <td>...</td>\n",
       "      <td>...</td>\n",
       "      <td>...</td>\n",
       "      <td>...</td>\n",
       "    </tr>\n",
       "    <tr>\n",
       "      <th>324004</th>\n",
       "      <td>4981652</td>\n",
       "      <td>head</td>\n",
       "      <td>Home &amp; Garden &gt; Garden Supplies</td>\n",
       "      <td>Home &amp; Garden &gt; Garden Supplies &gt; Shade &gt; Gazebos</td>\n",
       "      <td>Home &amp; Garden &gt; Garden Supplies &gt; Shade &gt; Gaze...</td>\n",
       "      <td>door canopy uk</td>\n",
       "      <td>NaN</td>\n",
       "      <td>NaN</td>\n",
       "      <td>NaN</td>\n",
       "    </tr>\n",
       "    <tr>\n",
       "      <th>324005</th>\n",
       "      <td>4984008</td>\n",
       "      <td>head</td>\n",
       "      <td>Home &amp; Garden &gt; Household Merchandise</td>\n",
       "      <td>Home &amp; Garden &gt; Household Merchandise &gt; Lighte...</td>\n",
       "      <td>Home &amp; Garden &gt; Household Merchandise &gt; Lighte...</td>\n",
       "      <td>glass pipes mini</td>\n",
       "      <td>NaN</td>\n",
       "      <td>NaN</td>\n",
       "      <td>NaN</td>\n",
       "    </tr>\n",
       "    <tr>\n",
       "      <th>324006</th>\n",
       "      <td>4986308</td>\n",
       "      <td>head</td>\n",
       "      <td>Home &amp; Garden &gt; Home Storage &amp; Organization</td>\n",
       "      <td>Home &amp; Garden &gt; Home Storage &amp; Organization &gt; ...</td>\n",
       "      <td>NaN</td>\n",
       "      <td>french fry basket</td>\n",
       "      <td>NaN</td>\n",
       "      <td>True</td>\n",
       "      <td>NaN</td>\n",
       "    </tr>\n",
       "    <tr>\n",
       "      <th>324007</th>\n",
       "      <td>4986723</td>\n",
       "      <td>head</td>\n",
       "      <td>Home &amp; Garden &gt; Arts, Crafts &amp; Sewing</td>\n",
       "      <td>Home &amp; Garden &gt; Arts, Crafts &amp; Sewing &gt; Needle...</td>\n",
       "      <td>Home &amp; Garden &gt; Arts, Crafts &amp; Sewing &gt; Needle...</td>\n",
       "      <td>bear diamond painting</td>\n",
       "      <td>NaN</td>\n",
       "      <td>NaN</td>\n",
       "      <td>NaN</td>\n",
       "    </tr>\n",
       "    <tr>\n",
       "      <th>324008</th>\n",
       "      <td>4987635</td>\n",
       "      <td>head</td>\n",
       "      <td>Home &amp; Garden &gt; Festive &amp; Party Supplies</td>\n",
       "      <td>Home &amp; Garden &gt; Festive &amp; Party Supplies &gt; Chr...</td>\n",
       "      <td>NaN</td>\n",
       "      <td>christmas tree holder</td>\n",
       "      <td>NaN</td>\n",
       "      <td>True</td>\n",
       "      <td>NaN</td>\n",
       "    </tr>\n",
       "  </tbody>\n",
       "</table>\n",
       "<p>324009 rows × 9 columns</p>\n",
       "</div>"
      ],
      "text/plain": [
       "        label_ordering sample_method  \\\n",
       "0                  225          head   \n",
       "1                  288          head   \n",
       "2                  293          head   \n",
       "3                  314       uniform   \n",
       "4                  694          head   \n",
       "...                ...           ...   \n",
       "324004         4981652          head   \n",
       "324005         4984008          head   \n",
       "324006         4986308          head   \n",
       "324007         4986723          head   \n",
       "324008         4987635          head   \n",
       "\n",
       "                                              l2_category  \\\n",
       "0                   Home & Garden > Arts, Crafts & Sewing   \n",
       "1                    Jewelry & Accessories > Fine Jewelry   \n",
       "2       Cellphones & Telecommunications > Mobile Phone...   \n",
       "3                   Home & Garden > Arts, Crafts & Sewing   \n",
       "4                                        Sports > Fishing   \n",
       "...                                                   ...   \n",
       "324004                    Home & Garden > Garden Supplies   \n",
       "324005              Home & Garden > Household Merchandise   \n",
       "324006        Home & Garden > Home Storage & Organization   \n",
       "324007              Home & Garden > Arts, Crafts & Sewing   \n",
       "324008           Home & Garden > Festive & Party Supplies   \n",
       "\n",
       "                                           query_category  \\\n",
       "0       Home & Garden > Arts, Crafts & Sewing > Button...   \n",
       "1        Jewelry & Accessories > Fine Jewelry > Necklaces   \n",
       "2       Cellphones & Telecommunications > Mobile Phone...   \n",
       "3       Home & Garden > Arts, Crafts & Sewing > Appare...   \n",
       "4                         Sports > Fishing > Fishing Rods   \n",
       "...                                                   ...   \n",
       "324004  Home & Garden > Garden Supplies > Shade > Gazebos   \n",
       "324005  Home & Garden > Household Merchandise > Lighte...   \n",
       "324006  Home & Garden > Home Storage & Organization > ...   \n",
       "324007  Home & Garden > Arts, Crafts & Sewing > Needle...   \n",
       "324008  Home & Garden > Festive & Party Supplies > Chr...   \n",
       "\n",
       "                                             rater_output  \\\n",
       "0       Home & Garden > Arts, Crafts & Sewing > Potter...   \n",
       "1       Jewelry & Accessories > Fine Jewelry > Necklac...   \n",
       "2       Cellphones & Telecommunications > Mobile Phone...   \n",
       "3       Home & Garden > Arts, Crafts & Sewing > Appare...   \n",
       "4       Sports > Fishing > Fishing Rods > Fishing Reel...   \n",
       "...                                                   ...   \n",
       "324004  Home & Garden > Garden Supplies > Shade > Gaze...   \n",
       "324005  Home & Garden > Household Merchandise > Lighte...   \n",
       "324006                                                NaN   \n",
       "324007  Home & Garden > Arts, Crafts & Sewing > Needle...   \n",
       "324008                                                NaN   \n",
       "\n",
       "                                 query  translated_query no_attributes  \\\n",
       "0              molde gesso 3d silicone               NaN           NaN   \n",
       "1                       medayas de oro               NaN           NaN   \n",
       "2       case para huawei y9 prime 2019               NaN           NaN   \n",
       "3                      lace dots meter               NaN           NaN   \n",
       "4             canne à pêche carnassier               NaN           NaN   \n",
       "...                                ...               ...           ...   \n",
       "324004                  door canopy uk               NaN           NaN   \n",
       "324005                glass pipes mini               NaN           NaN   \n",
       "324006               french fry basket               NaN          True   \n",
       "324007           bear diamond painting               NaN           NaN   \n",
       "324008           christmas tree holder               NaN          True   \n",
       "\n",
       "       unlisted_value  \n",
       "0                 NaN  \n",
       "1                 NaN  \n",
       "2                 NaN  \n",
       "3                 NaN  \n",
       "4                 NaN  \n",
       "...               ...  \n",
       "324004            NaN  \n",
       "324005            NaN  \n",
       "324006            NaN  \n",
       "324007            NaN  \n",
       "324008            NaN  \n",
       "\n",
       "[324009 rows x 9 columns]"
      ]
     },
     "execution_count": 71,
     "metadata": {},
     "output_type": "execute_result"
    }
   ],
   "source": [
    "df_merge"
   ]
  },
  {
   "cell_type": "code",
   "execution_count": 72,
   "metadata": {},
   "outputs": [
    {
     "data": {
      "text/plain": [
       "(324009, 324009, 0, 129964, 324009)"
      ]
     },
     "execution_count": 72,
     "metadata": {},
     "output_type": "execute_result"
    }
   ],
   "source": [
    "correct = []\n",
    "errors = []\n",
    "empty = []\n",
    "for i in df_merge.to_dict('records'):\n",
    "    res = [] if ((not isinstance(i['rater_output'], str)) and (np.isnan(i['rater_output']))) else i['rater_output'].split('\\n')\n",
    "    if len(res) == 0:\n",
    "        empty.append(i)\n",
    "    is_correct = True\n",
    "    for j in res:\n",
    "        if len(j.split(' > ')) < 2:\n",
    "            i['explanation'] = f\"{j} has no attribute name\"\n",
    "            errors.append(i)\n",
    "            is_correct = False\n",
    "            break\n",
    "        if j.split(' > ')[-2] not in attributes:\n",
    "            i['explanation'] = f\"{j} has invalid attribute name, because {j.split(' > ')[-2]} is not a valid attribute name\"\n",
    "            errors.append(i)\n",
    "            is_correct = False\n",
    "            break\n",
    "    if is_correct:\n",
    "        correct.append(i)\n",
    "len(df), len(correct), len(errors), len(empty), len(correct) + len(errors)"
   ]
  },
  {
   "cell_type": "code",
   "execution_count": 73,
   "metadata": {},
   "outputs": [
    {
     "data": {
      "text/plain": [
       "0.40111231478137954"
      ]
     },
     "execution_count": 73,
     "metadata": {},
     "output_type": "execute_result"
    }
   ],
   "source": [
    "len(empty) / len(df_merge)"
   ]
  },
  {
   "cell_type": "code",
   "execution_count": 84,
   "metadata": {},
   "outputs": [
    {
     "data": {
      "text/plain": [
       "324009"
      ]
     },
     "execution_count": 84,
     "metadata": {},
     "output_type": "execute_result"
    }
   ],
   "source": [
    "len(df_merge)"
   ]
  },
  {
   "cell_type": "code",
   "execution_count": 85,
   "metadata": {},
   "outputs": [],
   "source": [
    "df_merge.to_csv('appen/output_batch_correct_v5/query_attribution_till_032423_valid_units.csv', index=False)"
   ]
  },
  {
   "cell_type": "code",
   "execution_count": null,
   "metadata": {},
   "outputs": [],
   "source": []
  }
 ],
 "metadata": {
  "kernelspec": {
   "display_name": "Python 3",
   "language": "python",
   "name": "python3"
  },
  "language_info": {
   "codemirror_mode": {
    "name": "ipython",
    "version": 3
   },
   "file_extension": ".py",
   "mimetype": "text/x-python",
   "name": "python",
   "nbconvert_exporter": "python",
   "pygments_lexer": "ipython3",
   "version": "3.8.13"
  },
  "orig_nbformat": 4,
  "vscode": {
   "interpreter": {
    "hash": "949777d72b0d2535278d3dc13498b2535136f6dfe0678499012e853ee9abcab1"
   }
  }
 },
 "nbformat": 4,
 "nbformat_minor": 2
}
