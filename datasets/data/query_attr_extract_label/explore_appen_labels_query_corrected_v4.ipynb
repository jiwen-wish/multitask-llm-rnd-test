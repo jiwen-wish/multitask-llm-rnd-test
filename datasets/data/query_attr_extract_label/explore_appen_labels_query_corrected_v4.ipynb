{
 "cells": [
  {
   "cell_type": "code",
   "execution_count": 43,
   "metadata": {},
   "outputs": [],
   "source": [
    "import pandas as pd\n",
    "from collections import defaultdict\n",
    "import dvc.api\n",
    "from tqdm import tqdm\n",
    "import numpy as np\n",
    "from functools import reduce"
   ]
  },
  {
   "attachments": {},
   "cell_type": "markdown",
   "metadata": {},
   "source": [
    "# get original data"
   ]
  },
  {
   "cell_type": "code",
   "execution_count": 9,
   "metadata": {},
   "outputs": [],
   "source": [
    "df_original = pd.concat([ \n",
    "    pd.read_csv(dvc.api.get_url('modelling/notebooks/query_attr_extract_appen_label/appen_query_attribution_batch1.csv', \n",
    "        repo='git@github.com:ContextLogic/multitask-llm-rnd.git')), \n",
    "    pd.read_csv(dvc.api.get_url('modelling/notebooks/query_attr_extract_appen_label/appen_query_attribution_batch2.csv', \n",
    "        repo='git@github.com:ContextLogic/multitask-llm-rnd.git')),\n",
    "    pd.read_csv(dvc.api.get_url('modelling/notebooks/query_attr_extract_appen_label/appen_query_attribution_batch3_top74419.csv',\n",
    "        repo='git@github.com:ContextLogic/multitask-llm-rnd.git'))\n",
    "])"
   ]
  },
  {
   "cell_type": "code",
   "execution_count": 3,
   "metadata": {},
   "outputs": [
    {
     "data": {
      "text/plain": [
       "324419"
      ]
     },
     "execution_count": 3,
     "metadata": {},
     "output_type": "execute_result"
    }
   ],
   "source": [
    "len(df_original)"
   ]
  },
  {
   "cell_type": "code",
   "execution_count": 4,
   "metadata": {},
   "outputs": [
    {
     "data": {
      "text/plain": [
       "324419"
      ]
     },
     "execution_count": 4,
     "metadata": {},
     "output_type": "execute_result"
    }
   ],
   "source": [
    "len(set(df_original['label_ordering']))"
   ]
  },
  {
   "cell_type": "code",
   "execution_count": 39,
   "metadata": {},
   "outputs": [
    {
     "data": {
      "text/html": [
       "<div>\n",
       "<style scoped>\n",
       "    .dataframe tbody tr th:only-of-type {\n",
       "        vertical-align: middle;\n",
       "    }\n",
       "\n",
       "    .dataframe tbody tr th {\n",
       "        vertical-align: top;\n",
       "    }\n",
       "\n",
       "    .dataframe thead th {\n",
       "        text-align: right;\n",
       "    }\n",
       "</style>\n",
       "<table border=\"1\" class=\"dataframe\">\n",
       "  <thead>\n",
       "    <tr style=\"text-align: right;\">\n",
       "      <th></th>\n",
       "      <th>query</th>\n",
       "      <th>sample_method</th>\n",
       "      <th>label_ordering</th>\n",
       "      <th>top_query_classification_taxonomy</th>\n",
       "    </tr>\n",
       "  </thead>\n",
       "  <tbody>\n",
       "    <tr>\n",
       "      <th>0</th>\n",
       "      <td>dog cat eater</td>\n",
       "      <td>uniform</td>\n",
       "      <td>0</td>\n",
       "      <td>Home &amp; Garden &gt; Pet Products &gt; Cat Supplies &gt; ...</td>\n",
       "    </tr>\n",
       "    <tr>\n",
       "      <th>1</th>\n",
       "      <td>fish holder tool</td>\n",
       "      <td>head</td>\n",
       "      <td>18</td>\n",
       "      <td>Sports &gt; Fishing &gt; Fishing Tools</td>\n",
       "    </tr>\n",
       "  </tbody>\n",
       "</table>\n",
       "</div>"
      ],
      "text/plain": [
       "              query sample_method  label_ordering  \\\n",
       "0     dog cat eater       uniform               0   \n",
       "1  fish holder tool          head              18   \n",
       "\n",
       "                   top_query_classification_taxonomy  \n",
       "0  Home & Garden > Pet Products > Cat Supplies > ...  \n",
       "1                   Sports > Fishing > Fishing Tools  "
      ]
     },
     "execution_count": 39,
     "metadata": {},
     "output_type": "execute_result"
    }
   ],
   "source": [
    "df_original.head(2)"
   ]
  },
  {
   "attachments": {},
   "cell_type": "markdown",
   "metadata": {},
   "source": [
    "# get attributes"
   ]
  },
  {
   "cell_type": "code",
   "execution_count": 10,
   "metadata": {},
   "outputs": [],
   "source": [
    "df_attributes = pd.read_csv('../attribute_extraction_metadata_template/attribute_definition_top25L2_filtered_augmented_redacted_addedsinglemulti_01182023.csv')\n",
    "\n",
    "df_attributes_group = df_attributes.groupby('attribute_field').agg({\n",
    "    'category_attributevalue': lambda x: reduce(lambda x, y: x+y, [eval(i) for i in x])\n",
    "}).reset_index()"
   ]
  },
  {
   "cell_type": "code",
   "execution_count": 11,
   "metadata": {},
   "outputs": [
    {
     "data": {
      "text/plain": [
       "(230, 516378)"
      ]
     },
     "execution_count": 11,
     "metadata": {},
     "output_type": "execute_result"
    }
   ],
   "source": [
    "len(df_attributes_group), df_attributes_group.category_attributevalue.apply(len).sum()"
   ]
  },
  {
   "cell_type": "code",
   "execution_count": 12,
   "metadata": {},
   "outputs": [],
   "source": [
    "attributes = set(df_attributes_group['attribute_field'])"
   ]
  },
  {
   "cell_type": "code",
   "execution_count": 13,
   "metadata": {},
   "outputs": [],
   "source": [
    "category_paths = set(df_attributes['category'])"
   ]
  },
  {
   "cell_type": "code",
   "execution_count": 14,
   "metadata": {},
   "outputs": [],
   "source": [
    "more_paths = []\n",
    "for i in category_paths:\n",
    "    tmp = []\n",
    "    for j in i.split(' > '):\n",
    "        tmp.append(j)\n",
    "        more_paths.append(' > '.join(tmp))\n",
    "category_paths.update(more_paths)"
   ]
  },
  {
   "attachments": {},
   "cell_type": "markdown",
   "metadata": {},
   "source": [
    "# existing valid data"
   ]
  },
  {
   "cell_type": "code",
   "execution_count": 32,
   "metadata": {},
   "outputs": [
    {
     "name": "stderr",
     "output_type": "stream",
     "text": [
      "/tmp/ipykernel_15307/3044835731.py:1: DtypeWarning: Columns (9) have mixed types. Specify dtype option on import or set low_memory=False.\n",
      "  df1 = pd.read_csv('appen/output_batch_correct_v3/query_attribution_till_030923_valid_units.csv')\n"
     ]
    }
   ],
   "source": [
    "df1 = pd.read_csv('appen/output_batch_correct_v3/query_attribution_till_030923_valid_units.csv')"
   ]
  },
  {
   "cell_type": "code",
   "execution_count": 33,
   "metadata": {},
   "outputs": [],
   "source": [
    "del df1['Unnamed: 0']"
   ]
  },
  {
   "cell_type": "code",
   "execution_count": 34,
   "metadata": {},
   "outputs": [
    {
     "name": "stderr",
     "output_type": "stream",
     "text": [
      "/tmp/ipykernel_15307/2579001723.py:1: DtypeWarning: Columns (6) have mixed types. Specify dtype option on import or set low_memory=False.\n",
      "  df2 = pd.read_csv('appen/output_batch_correct_v4/Rework_processed_96,900 units.csv')\n"
     ]
    }
   ],
   "source": [
    "df2 = pd.read_csv('appen/output_batch_correct_v4/Rework_processed_96,900 units.csv')\n",
    "df3 = pd.read_csv('appen/output_batch_correct_v4/New Volume_processed_64,136 units.csv')\n",
    "df4 = pd.read_csv('appen/output_batch_correct_v4/Query Attribution_03.17.23_10k.csv')\n",
    "df5 = pd.read_csv('appen/output_batch_correct_v4/Query Attribution_03.24.23_3k.csv')"
   ]
  },
  {
   "cell_type": "code",
   "execution_count": 35,
   "metadata": {},
   "outputs": [],
   "source": [
    "df = pd.concat([df1, df2, df3, df4, df5])"
   ]
  },
  {
   "cell_type": "code",
   "execution_count": 36,
   "metadata": {},
   "outputs": [
    {
     "data": {
      "text/plain": [
       "324009"
      ]
     },
     "execution_count": 36,
     "metadata": {},
     "output_type": "execute_result"
    }
   ],
   "source": [
    "len(df)"
   ]
  },
  {
   "cell_type": "code",
   "execution_count": 37,
   "metadata": {},
   "outputs": [
    {
     "data": {
      "text/plain": [
       "324009"
      ]
     },
     "execution_count": 37,
     "metadata": {},
     "output_type": "execute_result"
    }
   ],
   "source": [
    "len(set(df['label_ordering']))"
   ]
  },
  {
   "cell_type": "code",
   "execution_count": 56,
   "metadata": {},
   "outputs": [],
   "source": [
    "df_merge = df.merge(df_original.rename(columns={'query': 'query_original2', 'sample_method': 'sample_method_original', \n",
    "                             'top_query_classification_taxonomy': 'top_query_classification_taxonomy_original'}), on='label_ordering')"
   ]
  },
  {
   "cell_type": "code",
   "execution_count": 57,
   "metadata": {},
   "outputs": [],
   "source": [
    "df_merge.loc[df_merge.query_original.isna(), 'query_original'] = df_merge.loc[df_merge.query_original.isna(), 'query_original2']"
   ]
  },
  {
   "cell_type": "code",
   "execution_count": 58,
   "metadata": {},
   "outputs": [
    {
     "data": {
      "text/plain": [
       "True"
      ]
     },
     "execution_count": 58,
     "metadata": {},
     "output_type": "execute_result"
    }
   ],
   "source": [
    "(df_merge['sample_method'] == df_merge['sample_method_original']).all()"
   ]
  },
  {
   "cell_type": "code",
   "execution_count": 59,
   "metadata": {},
   "outputs": [
    {
     "data": {
      "text/html": [
       "<div>\n",
       "<style scoped>\n",
       "    .dataframe tbody tr th:only-of-type {\n",
       "        vertical-align: middle;\n",
       "    }\n",
       "\n",
       "    .dataframe tbody tr th {\n",
       "        vertical-align: top;\n",
       "    }\n",
       "\n",
       "    .dataframe thead th {\n",
       "        text-align: right;\n",
       "    }\n",
       "</style>\n",
       "<table border=\"1\" class=\"dataframe\">\n",
       "  <thead>\n",
       "    <tr style=\"text-align: right;\">\n",
       "      <th></th>\n",
       "      <th>label_ordering</th>\n",
       "      <th>sample_method</th>\n",
       "      <th>l2_category</th>\n",
       "      <th>query_category</th>\n",
       "      <th>rater_output</th>\n",
       "      <th>query</th>\n",
       "      <th>translated_query</th>\n",
       "      <th>no_attributes</th>\n",
       "      <th>unlisted_value</th>\n",
       "      <th>query_original</th>\n",
       "      <th>query_original2</th>\n",
       "      <th>sample_method_original</th>\n",
       "      <th>top_query_classification_taxonomy_original</th>\n",
       "    </tr>\n",
       "  </thead>\n",
       "  <tbody>\n",
       "    <tr>\n",
       "      <th>308738</th>\n",
       "      <td>6435025</td>\n",
       "      <td>uniform</td>\n",
       "      <td>Home &amp; Garden &gt; Home Textile</td>\n",
       "      <td>Home &amp; Garden &gt; Home Textile &gt; Bedding &gt; Blankets</td>\n",
       "      <td>NaN</td>\n",
       "      <td>makita 18 v skins</td>\n",
       "      <td>NaN</td>\n",
       "      <td>True</td>\n",
       "      <td>NaN</td>\n",
       "      <td>makita 18 v skins￼</td>\n",
       "      <td>makita 18 v skins￼</td>\n",
       "      <td>uniform</td>\n",
       "      <td>Home &amp; Garden &gt; Home Textile &gt; Bedding &gt; Blankets</td>\n",
       "    </tr>\n",
       "    <tr>\n",
       "      <th>168379</th>\n",
       "      <td>928985</td>\n",
       "      <td>head</td>\n",
       "      <td>Home &amp; Garden &gt; Arts, Crafts &amp; Sewing</td>\n",
       "      <td>Home &amp; Garden &gt; Arts, Crafts &amp; Sewing &gt; Needle...</td>\n",
       "      <td>NaN</td>\n",
       "      <td>diamond artdallas cowboys</td>\n",
       "      <td>NaN</td>\n",
       "      <td>True</td>\n",
       "      <td>NaN</td>\n",
       "      <td>diamond artdallas cowboys￼</td>\n",
       "      <td>diamond artdallas cowboys￼</td>\n",
       "      <td>head</td>\n",
       "      <td>Home &amp; Garden &gt; Arts, Crafts &amp; Sewing &gt; Needle...</td>\n",
       "    </tr>\n",
       "  </tbody>\n",
       "</table>\n",
       "</div>"
      ],
      "text/plain": [
       "        label_ordering sample_method                            l2_category  \\\n",
       "308738         6435025       uniform          Home & Garden > Home Textile    \n",
       "168379          928985          head  Home & Garden > Arts, Crafts & Sewing   \n",
       "\n",
       "                                           query_category rater_output  \\\n",
       "308738  Home & Garden > Home Textile > Bedding > Blankets          NaN   \n",
       "168379  Home & Garden > Arts, Crafts & Sewing > Needle...          NaN   \n",
       "\n",
       "                            query  translated_query no_attributes  \\\n",
       "308738          makita 18 v skins               NaN          True   \n",
       "168379  diamond artdallas cowboys               NaN          True   \n",
       "\n",
       "       unlisted_value              query_original             query_original2  \\\n",
       "308738            NaN          makita 18 v skins￼          makita 18 v skins￼   \n",
       "168379            NaN  diamond artdallas cowboys￼  diamond artdallas cowboys￼   \n",
       "\n",
       "       sample_method_original  \\\n",
       "308738                uniform   \n",
       "168379                   head   \n",
       "\n",
       "               top_query_classification_taxonomy_original  \n",
       "308738  Home & Garden > Home Textile > Bedding > Blankets  \n",
       "168379  Home & Garden > Arts, Crafts & Sewing > Needle...  "
      ]
     },
     "execution_count": 59,
     "metadata": {},
     "output_type": "execute_result"
    }
   ],
   "source": [
    "df_merge[df_merge['query'].str.strip() != df_merge['query_original'].str.strip()].sample(2)"
   ]
  },
  {
   "cell_type": "code",
   "execution_count": 60,
   "metadata": {},
   "outputs": [
    {
     "data": {
      "text/plain": [
       "True"
      ]
     },
     "execution_count": 60,
     "metadata": {},
     "output_type": "execute_result"
    }
   ],
   "source": [
    "(df_merge['query_category'] == df_merge['top_query_classification_taxonomy_original']).all()"
   ]
  },
  {
   "cell_type": "code",
   "execution_count": 61,
   "metadata": {},
   "outputs": [],
   "source": [
    "for i in ['query_original', 'query_original2', 'sample_method_original', 'top_query_classification_taxonomy_original']:\n",
    "    del df_merge[i]"
   ]
  },
  {
   "cell_type": "code",
   "execution_count": 63,
   "metadata": {},
   "outputs": [],
   "source": [
    "leftover_ids = set(df_original['label_ordering']) - set(df_merge['label_ordering'])"
   ]
  },
  {
   "cell_type": "code",
   "execution_count": 65,
   "metadata": {},
   "outputs": [],
   "source": [
    "df_leftover = df_original[df_original.label_ordering.apply(lambda x: x in leftover_ids)]"
   ]
  },
  {
   "cell_type": "code",
   "execution_count": 86,
   "metadata": {},
   "outputs": [
    {
     "data": {
      "text/plain": [
       "410"
      ]
     },
     "execution_count": 86,
     "metadata": {},
     "output_type": "execute_result"
    }
   ],
   "source": [
    "len(df_leftover)"
   ]
  },
  {
   "cell_type": "code",
   "execution_count": 69,
   "metadata": {},
   "outputs": [],
   "source": [
    "df_leftover.to_csv('appen/output_batch_correct_v5/query_attribution_missed_032423.csv', index=False)"
   ]
  },
  {
   "cell_type": "code",
   "execution_count": 72,
   "metadata": {},
   "outputs": [
    {
     "data": {
      "text/plain": [
       "(324009, 324009, 0, 129964, 324009)"
      ]
     },
     "execution_count": 72,
     "metadata": {},
     "output_type": "execute_result"
    }
   ],
   "source": [
    "correct = []\n",
    "errors = []\n",
    "empty = []\n",
    "for i in df_merge.to_dict('records'):\n",
    "    res = [] if ((not isinstance(i['rater_output'], str)) and (np.isnan(i['rater_output']))) else i['rater_output'].split('\\n')\n",
    "    if len(res) == 0:\n",
    "        empty.append(i)\n",
    "    is_correct = True\n",
    "    for j in res:\n",
    "        if len(j.split(' > ')) < 2:\n",
    "            i['explanation'] = f\"{j} has no attribute name\"\n",
    "            errors.append(i)\n",
    "            is_correct = False\n",
    "            break\n",
    "        if j.split(' > ')[-2] not in attributes:\n",
    "            i['explanation'] = f\"{j} has invalid attribute name, because {j.split(' > ')[-2]} is not a valid attribute name\"\n",
    "            errors.append(i)\n",
    "            is_correct = False\n",
    "            break\n",
    "    if is_correct:\n",
    "        correct.append(i)\n",
    "len(df), len(correct), len(errors), len(empty), len(correct) + len(errors)"
   ]
  },
  {
   "cell_type": "code",
   "execution_count": 73,
   "metadata": {},
   "outputs": [
    {
     "data": {
      "text/plain": [
       "0.40111231478137954"
      ]
     },
     "execution_count": 73,
     "metadata": {},
     "output_type": "execute_result"
    }
   ],
   "source": [
    "len(empty) / len(df_merge)"
   ]
  },
  {
   "cell_type": "code",
   "execution_count": 84,
   "metadata": {},
   "outputs": [
    {
     "data": {
      "text/plain": [
       "324009"
      ]
     },
     "execution_count": 84,
     "metadata": {},
     "output_type": "execute_result"
    }
   ],
   "source": [
    "len(df_merge)"
   ]
  },
  {
   "cell_type": "code",
   "execution_count": 85,
   "metadata": {},
   "outputs": [],
   "source": [
    "df_merge.to_csv('appen/output_batch_correct_v5/query_attribution_till_032423_valid_units.csv', index=False)"
   ]
  },
  {
   "attachments": {},
   "cell_type": "markdown",
   "metadata": {},
   "source": [
    "# fix missing"
   ]
  },
  {
   "cell_type": "code",
   "execution_count": 2,
   "metadata": {},
   "outputs": [],
   "source": [
    "df_missed = pd.read_csv('appen/output_batch_correct_v5/query_attribution_missed_032423.csv')\n",
    "df = pd.read_csv('appen/output_batch_correct_v5/Appen_69units.csv')"
   ]
  },
  {
   "cell_type": "code",
   "execution_count": 7,
   "metadata": {},
   "outputs": [
    {
     "data": {
      "text/plain": [
       "410"
      ]
     },
     "execution_count": 7,
     "metadata": {},
     "output_type": "execute_result"
    }
   ],
   "source": [
    "len(df_missed)"
   ]
  },
  {
   "cell_type": "code",
   "execution_count": 6,
   "metadata": {},
   "outputs": [
    {
     "data": {
      "text/plain": [
       "set()"
      ]
     },
     "execution_count": 6,
     "metadata": {},
     "output_type": "execute_result"
    }
   ],
   "source": [
    "set(df.label_ordering) - set(df_missed.label_ordering)"
   ]
  },
  {
   "cell_type": "code",
   "execution_count": 15,
   "metadata": {},
   "outputs": [],
   "source": [
    "df_merge = df.merge(df_original.rename(columns={'query': 'query_original', 'sample_method': 'sample_method_original', \n",
    "    'top_query_classification_taxonomy': 'top_query_classification_taxonomy_original'}), on='label_ordering', how='left')"
   ]
  },
  {
   "cell_type": "code",
   "execution_count": 20,
   "metadata": {},
   "outputs": [
    {
     "data": {
      "text/html": [
       "<div>\n",
       "<style scoped>\n",
       "    .dataframe tbody tr th:only-of-type {\n",
       "        vertical-align: middle;\n",
       "    }\n",
       "\n",
       "    .dataframe tbody tr th {\n",
       "        vertical-align: top;\n",
       "    }\n",
       "\n",
       "    .dataframe thead th {\n",
       "        text-align: right;\n",
       "    }\n",
       "</style>\n",
       "<table border=\"1\" class=\"dataframe\">\n",
       "  <thead>\n",
       "    <tr style=\"text-align: right;\">\n",
       "      <th></th>\n",
       "      <th>query</th>\n",
       "      <th>sample_method</th>\n",
       "      <th>label_ordering</th>\n",
       "      <th>top_query_classification_taxonomy</th>\n",
       "      <th>no_attributes</th>\n",
       "      <th>unlisted_value</th>\n",
       "      <th>rater_output</th>\n",
       "      <th>query_original</th>\n",
       "      <th>sample_method_original</th>\n",
       "      <th>top_query_classification_taxonomy_original</th>\n",
       "    </tr>\n",
       "  </thead>\n",
       "  <tbody>\n",
       "    <tr>\n",
       "      <th>48</th>\n",
       "      <td>visÃ£o noturna pard nv007s</td>\n",
       "      <td>uniform</td>\n",
       "      <td>3133903</td>\n",
       "      <td>Sports &gt; Hunting &gt; Hunting Optics &gt; Night Visions</td>\n",
       "      <td>NaN</td>\n",
       "      <td>NaN</td>\n",
       "      <td>Sports &gt; Hunting &gt; Hunting Optics &gt; Night Visions</td>\n",
       "      <td>visão noturna pard nv007s</td>\n",
       "      <td>uniform</td>\n",
       "      <td>Sports &gt; Hunting &gt; Hunting Optics &gt; Night Visions</td>\n",
       "    </tr>\n",
       "  </tbody>\n",
       "</table>\n",
       "</div>"
      ],
      "text/plain": [
       "                         query sample_method  label_ordering  \\\n",
       "48  visÃ£o noturna pard nv007s       uniform         3133903   \n",
       "\n",
       "                    top_query_classification_taxonomy  no_attributes  \\\n",
       "48  Sports > Hunting > Hunting Optics > Night Visions            NaN   \n",
       "\n",
       "    unlisted_value                                       rater_output  \\\n",
       "48             NaN  Sports > Hunting > Hunting Optics > Night Visions   \n",
       "\n",
       "               query_original sample_method_original  \\\n",
       "48  visão noturna pard nv007s                uniform   \n",
       "\n",
       "           top_query_classification_taxonomy_original  \n",
       "48  Sports > Hunting > Hunting Optics > Night Visions  "
      ]
     },
     "execution_count": 20,
     "metadata": {},
     "output_type": "execute_result"
    }
   ],
   "source": [
    "df_merge[df_merge['query'] != df_merge['query_original']]"
   ]
  },
  {
   "cell_type": "code",
   "execution_count": 21,
   "metadata": {},
   "outputs": [],
   "source": [
    "df_merge['query'] = df_merge['query_original']"
   ]
  },
  {
   "cell_type": "code",
   "execution_count": 22,
   "metadata": {},
   "outputs": [
    {
     "data": {
      "text/html": [
       "<div>\n",
       "<style scoped>\n",
       "    .dataframe tbody tr th:only-of-type {\n",
       "        vertical-align: middle;\n",
       "    }\n",
       "\n",
       "    .dataframe tbody tr th {\n",
       "        vertical-align: top;\n",
       "    }\n",
       "\n",
       "    .dataframe thead th {\n",
       "        text-align: right;\n",
       "    }\n",
       "</style>\n",
       "<table border=\"1\" class=\"dataframe\">\n",
       "  <thead>\n",
       "    <tr style=\"text-align: right;\">\n",
       "      <th></th>\n",
       "      <th>query</th>\n",
       "      <th>sample_method</th>\n",
       "      <th>label_ordering</th>\n",
       "      <th>top_query_classification_taxonomy</th>\n",
       "      <th>no_attributes</th>\n",
       "      <th>unlisted_value</th>\n",
       "      <th>rater_output</th>\n",
       "      <th>query_original</th>\n",
       "      <th>sample_method_original</th>\n",
       "      <th>top_query_classification_taxonomy_original</th>\n",
       "    </tr>\n",
       "  </thead>\n",
       "  <tbody>\n",
       "  </tbody>\n",
       "</table>\n",
       "</div>"
      ],
      "text/plain": [
       "Empty DataFrame\n",
       "Columns: [query, sample_method, label_ordering, top_query_classification_taxonomy, no_attributes, unlisted_value, rater_output, query_original, sample_method_original, top_query_classification_taxonomy_original]\n",
       "Index: []"
      ]
     },
     "execution_count": 22,
     "metadata": {},
     "output_type": "execute_result"
    }
   ],
   "source": [
    "df_merge[df_merge['query'] != df_merge['query_original']]"
   ]
  },
  {
   "cell_type": "code",
   "execution_count": 18,
   "metadata": {},
   "outputs": [
    {
     "data": {
      "text/plain": [
       "False"
      ]
     },
     "execution_count": 18,
     "metadata": {},
     "output_type": "execute_result"
    }
   ],
   "source": [
    "df_merge['query_original'].isna().any()"
   ]
  },
  {
   "cell_type": "code",
   "execution_count": 23,
   "metadata": {},
   "outputs": [
    {
     "data": {
      "text/plain": [
       "(69, 0, 69, 0, 69)"
      ]
     },
     "execution_count": 23,
     "metadata": {},
     "output_type": "execute_result"
    }
   ],
   "source": [
    "correct = []\n",
    "errors = []\n",
    "empty = []\n",
    "for i in df_merge.to_dict('records'):\n",
    "    res = [] if ((not isinstance(i['rater_output'], str)) and (np.isnan(i['rater_output']))) else i['rater_output'].split('\\n')\n",
    "    if len(res) == 0:\n",
    "        empty.append(i)\n",
    "    is_correct = True\n",
    "    for j in res:\n",
    "        if len(j.split(' > ')) < 2:\n",
    "            i['explanation'] = f\"{j} has no attribute name\"\n",
    "            errors.append(i)\n",
    "            is_correct = False\n",
    "            break\n",
    "        if j.split(' > ')[-2] not in attributes:\n",
    "            i['explanation'] = f\"{j} has invalid attribute name, because {j.split(' > ')[-2]} is not a valid attribute name\"\n",
    "            errors.append(i)\n",
    "            is_correct = False\n",
    "            break\n",
    "    if is_correct:\n",
    "        correct.append(i)\n",
    "len(df), len(correct), len(errors), len(empty), len(correct) + len(errors)"
   ]
  },
  {
   "cell_type": "code",
   "execution_count": 27,
   "metadata": {},
   "outputs": [],
   "source": [
    "pd.DataFrame(errors).to_csv('appen/output_batch_correct_v5/Appen_69units_invalid.csv', index=False)"
   ]
  },
  {
   "attachments": {},
   "cell_type": "markdown",
   "metadata": {},
   "source": [
    "# rework missing"
   ]
  },
  {
   "cell_type": "code",
   "execution_count": 44,
   "metadata": {},
   "outputs": [],
   "source": [
    "df_missed = pd.read_csv('appen/output_batch_correct_v5/query_attribution_missed_032423.csv')\n",
    "df = pd.read_csv('appen/output_batch_correct_v5/Query Att_69units_rework.csv')"
   ]
  },
  {
   "cell_type": "code",
   "execution_count": 45,
   "metadata": {},
   "outputs": [],
   "source": [
    "df_merge = df.merge(df_original.rename(columns={'query': 'query_original', 'sample_method': 'sample_method_original', \n",
    "    'top_query_classification_taxonomy': 'top_query_classification_taxonomy_original'}), on='label_ordering', how='left')"
   ]
  },
  {
   "cell_type": "code",
   "execution_count": 46,
   "metadata": {},
   "outputs": [
    {
     "data": {
      "text/html": [
       "<div>\n",
       "<style scoped>\n",
       "    .dataframe tbody tr th:only-of-type {\n",
       "        vertical-align: middle;\n",
       "    }\n",
       "\n",
       "    .dataframe tbody tr th {\n",
       "        vertical-align: top;\n",
       "    }\n",
       "\n",
       "    .dataframe thead th {\n",
       "        text-align: right;\n",
       "    }\n",
       "</style>\n",
       "<table border=\"1\" class=\"dataframe\">\n",
       "  <thead>\n",
       "    <tr style=\"text-align: right;\">\n",
       "      <th></th>\n",
       "      <th>label_ordering</th>\n",
       "      <th>sample_method</th>\n",
       "      <th>query</th>\n",
       "      <th>l2_category</th>\n",
       "      <th>query_category</th>\n",
       "      <th>no_attributes</th>\n",
       "      <th>unlisted_value</th>\n",
       "      <th>rater_output</th>\n",
       "      <th>query_original</th>\n",
       "      <th>sample_method_original</th>\n",
       "      <th>top_query_classification_taxonomy_original</th>\n",
       "    </tr>\n",
       "  </thead>\n",
       "  <tbody>\n",
       "  </tbody>\n",
       "</table>\n",
       "</div>"
      ],
      "text/plain": [
       "Empty DataFrame\n",
       "Columns: [label_ordering, sample_method, query, l2_category, query_category, no_attributes, unlisted_value, rater_output, query_original, sample_method_original, top_query_classification_taxonomy_original]\n",
       "Index: []"
      ]
     },
     "execution_count": 46,
     "metadata": {},
     "output_type": "execute_result"
    }
   ],
   "source": [
    "df_merge[df_merge['query'] != df_merge['query_original']]"
   ]
  },
  {
   "cell_type": "code",
   "execution_count": 47,
   "metadata": {},
   "outputs": [
    {
     "data": {
      "text/plain": [
       "False"
      ]
     },
     "execution_count": 47,
     "metadata": {},
     "output_type": "execute_result"
    }
   ],
   "source": [
    "df_merge['query_original'].isna().any()"
   ]
  },
  {
   "cell_type": "code",
   "execution_count": 48,
   "metadata": {},
   "outputs": [
    {
     "data": {
      "text/plain": [
       "(69, 69)"
      ]
     },
     "execution_count": 48,
     "metadata": {},
     "output_type": "execute_result"
    }
   ],
   "source": [
    "len(set(df['query'])), len(df)"
   ]
  },
  {
   "cell_type": "code",
   "execution_count": 49,
   "metadata": {},
   "outputs": [
    {
     "data": {
      "text/plain": [
       "(69, 69, 0, 24, 69)"
      ]
     },
     "execution_count": 49,
     "metadata": {},
     "output_type": "execute_result"
    }
   ],
   "source": [
    "correct = []\n",
    "errors = []\n",
    "empty = []\n",
    "for i in df_merge.to_dict('records'):\n",
    "    res = [] if ((not isinstance(i['rater_output'], str)) and (np.isnan(i['rater_output']))) else i['rater_output'].split('\\n')\n",
    "    if len(res) == 0:\n",
    "        empty.append(i)\n",
    "    is_correct = True\n",
    "    for j in res:\n",
    "        if len(j.split(' > ')) < 2:\n",
    "            i['explanation'] = f\"{j} has no attribute name\"\n",
    "            errors.append(i)\n",
    "            is_correct = False\n",
    "            break\n",
    "        if j.split(' > ')[-2] not in attributes:\n",
    "            i['explanation'] = f\"{j} has invalid attribute name, because {j.split(' > ')[-2]} is not a valid attribute name\"\n",
    "            errors.append(i)\n",
    "            is_correct = False\n",
    "            break\n",
    "    if is_correct:\n",
    "        correct.append(i)\n",
    "len(df), len(correct), len(errors), len(empty), len(correct) + len(errors)"
   ]
  },
  {
   "cell_type": "code",
   "execution_count": 50,
   "metadata": {},
   "outputs": [],
   "source": [
    "pd.DataFrame(correct).to_csv('appen/output_batch_correct_v5/Appen_69units_rework_valid.csv', index=False)"
   ]
  },
  {
   "cell_type": "code",
   "execution_count": null,
   "metadata": {},
   "outputs": [],
   "source": []
  }
 ],
 "metadata": {
  "kernelspec": {
   "display_name": "Python 3",
   "language": "python",
   "name": "python3"
  },
  "language_info": {
   "codemirror_mode": {
    "name": "ipython",
    "version": 3
   },
   "file_extension": ".py",
   "mimetype": "text/x-python",
   "name": "python",
   "nbconvert_exporter": "python",
   "pygments_lexer": "ipython3",
   "version": "3.8.13"
  },
  "orig_nbformat": 4,
  "vscode": {
   "interpreter": {
    "hash": "949777d72b0d2535278d3dc13498b2535136f6dfe0678499012e853ee9abcab1"
   }
  }
 },
 "nbformat": 4,
 "nbformat_minor": 2
}
