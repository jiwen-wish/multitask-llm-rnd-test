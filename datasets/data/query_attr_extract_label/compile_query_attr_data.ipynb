{
 "cells": [
  {
   "cell_type": "code",
   "execution_count": 1,
   "metadata": {},
   "outputs": [],
   "source": [
    "import pandas as pd\n",
    "import numpy as np\n",
    "from functools import reduce\n",
    "from collections import Counter"
   ]
  },
  {
   "cell_type": "code",
   "execution_count": 2,
   "metadata": {},
   "outputs": [],
   "source": [
    "df1 = pd.read_csv('appen/output_batch_correct_v2/feedback/query_attribution_02.03.23_valid_units_02.21.23.csv')"
   ]
  },
  {
   "cell_type": "code",
   "execution_count": 3,
   "metadata": {},
   "outputs": [],
   "source": [
    "df2 = pd.read_csv('appen/output_batch_correct_v2/feedback/query_attribution_03.03.23_valid_units_02.28.23.csv')"
   ]
  },
  {
   "cell_type": "code",
   "execution_count": 4,
   "metadata": {},
   "outputs": [],
   "source": [
    "df2 = df2.rename(columns={\n",
    "    'label_ordering': 'Label_Ordering',\n",
    "    'sample_method': 'Sample_Method',\n",
    "    'query': 'Query',\n",
    "    'query_category': 'Query_Category',\n",
    "    'rater_output_processed': 'Rater_Answer'\n",
    "})\n",
    "df2['L2_Category'] = df2['Query_Category'].apply(lambda x: ' > '.join(x.split(' > ')[:2]))\n",
    "df = pd.concat([df1, df2[df1.columns]])"
   ]
  },
  {
   "cell_type": "code",
   "execution_count": 5,
   "metadata": {},
   "outputs": [],
   "source": [
    "assert len(df) == len(set(df['Label_Ordering']))"
   ]
  },
  {
   "cell_type": "code",
   "execution_count": 6,
   "metadata": {},
   "outputs": [],
   "source": [
    "df_attributes = pd.read_csv('../attribute_extraction_metadata_template/attribute_definition_top25L2_filtered_augmented_redacted_addedsinglemulti_01182023.csv')"
   ]
  },
  {
   "cell_type": "code",
   "execution_count": 7,
   "metadata": {},
   "outputs": [],
   "source": [
    "df_attributes_orig = pd.read_csv('../attribute_extraction_metadata_template/Initial Attribute Definition for First Release - UPDATED SHEET .csv')"
   ]
  },
  {
   "cell_type": "code",
   "execution_count": 8,
   "metadata": {},
   "outputs": [],
   "source": [
    "cats = set(df_attributes['category'])"
   ]
  },
  {
   "cell_type": "code",
   "execution_count": 9,
   "metadata": {},
   "outputs": [],
   "source": [
    "df_attributes_orig_sub = df_attributes_orig[\n",
    "    (df_attributes_orig.category.apply(lambda x: x in cats)) & (df_attributes_orig['entry mode'].apply(lambda x: x != 'free_text'))\n",
    "]"
   ]
  },
  {
   "cell_type": "code",
   "execution_count": 10,
   "metadata": {},
   "outputs": [],
   "source": [
    "df_attributes_orig_sub_group = df_attributes_orig_sub[['attribute_field', 'category_attributevalue']].groupby('attribute_field').agg({\n",
    "    'category_attributevalue': lambda x: sorted(set(reduce(lambda x, y: x+y, [[str(j) for j in eval(i)] for i in x])))\n",
    "}).reset_index()"
   ]
  },
  {
   "cell_type": "code",
   "execution_count": 11,
   "metadata": {},
   "outputs": [
    {
     "data": {
      "text/html": [
       "<div>\n",
       "<style scoped>\n",
       "    .dataframe tbody tr th:only-of-type {\n",
       "        vertical-align: middle;\n",
       "    }\n",
       "\n",
       "    .dataframe tbody tr th {\n",
       "        vertical-align: top;\n",
       "    }\n",
       "\n",
       "    .dataframe thead th {\n",
       "        text-align: right;\n",
       "    }\n",
       "</style>\n",
       "<table border=\"1\" class=\"dataframe\">\n",
       "  <thead>\n",
       "    <tr style=\"text-align: right;\">\n",
       "      <th></th>\n",
       "      <th>attribute_field</th>\n",
       "      <th>category_attributevalue</th>\n",
       "    </tr>\n",
       "  </thead>\n",
       "  <tbody>\n",
       "    <tr>\n",
       "      <th>0</th>\n",
       "      <td>Adjustable Fit</td>\n",
       "      <td>[Chest Adjustment, Hip Adjustment, Shoulder Ad...</td>\n",
       "    </tr>\n",
       "    <tr>\n",
       "      <th>1</th>\n",
       "      <td>Adjustable Length</td>\n",
       "      <td>[No, Yes]</td>\n",
       "    </tr>\n",
       "    <tr>\n",
       "      <th>2</th>\n",
       "      <td>Age Range Description</td>\n",
       "      <td>[Adult, All Ages, Infant, Kids, Teen, Toddler]</td>\n",
       "    </tr>\n",
       "    <tr>\n",
       "      <th>3</th>\n",
       "      <td>Alarm Type</td>\n",
       "      <td>[Beep Alarm, Bell Alarm, Gradual Alarm, Loud A...</td>\n",
       "    </tr>\n",
       "    <tr>\n",
       "      <th>4</th>\n",
       "      <td>Alert Type</td>\n",
       "      <td>[Audio Only, Audio and Motion, Motion Only]</td>\n",
       "    </tr>\n",
       "    <tr>\n",
       "      <th>...</th>\n",
       "      <td>...</td>\n",
       "      <td>...</td>\n",
       "    </tr>\n",
       "    <tr>\n",
       "      <th>188</th>\n",
       "      <td>Wall Light Type</td>\n",
       "      <td>[Candelabra, Reading, Swing Arm, Wall Lamp, Wa...</td>\n",
       "    </tr>\n",
       "    <tr>\n",
       "      <th>189</th>\n",
       "      <td>Watch Movement Type</td>\n",
       "      <td>[Analog Quartz, Automatic, Automatic Self Wind...</td>\n",
       "    </tr>\n",
       "    <tr>\n",
       "      <th>190</th>\n",
       "      <td>Water Resistance Level</td>\n",
       "      <td>[Not Water-Resistant, Water-Resistant, Waterpr...</td>\n",
       "    </tr>\n",
       "    <tr>\n",
       "      <th>191</th>\n",
       "      <td>Weave Type</td>\n",
       "      <td>[Basket, Braided, Dobby, Double Cloth, Flat Wo...</td>\n",
       "    </tr>\n",
       "    <tr>\n",
       "      <th>192</th>\n",
       "      <td>Wireless Communication Types</td>\n",
       "      <td>[5 GHz Radio Frequency, 5.8 GHz Radio Frequenc...</td>\n",
       "    </tr>\n",
       "  </tbody>\n",
       "</table>\n",
       "<p>193 rows × 2 columns</p>\n",
       "</div>"
      ],
      "text/plain": [
       "                  attribute_field  \\\n",
       "0                  Adjustable Fit   \n",
       "1               Adjustable Length   \n",
       "2           Age Range Description   \n",
       "3                      Alarm Type   \n",
       "4                      Alert Type   \n",
       "..                            ...   \n",
       "188               Wall Light Type   \n",
       "189           Watch Movement Type   \n",
       "190        Water Resistance Level   \n",
       "191                    Weave Type   \n",
       "192  Wireless Communication Types   \n",
       "\n",
       "                               category_attributevalue  \n",
       "0    [Chest Adjustment, Hip Adjustment, Shoulder Ad...  \n",
       "1                                            [No, Yes]  \n",
       "2       [Adult, All Ages, Infant, Kids, Teen, Toddler]  \n",
       "3    [Beep Alarm, Bell Alarm, Gradual Alarm, Loud A...  \n",
       "4          [Audio Only, Audio and Motion, Motion Only]  \n",
       "..                                                 ...  \n",
       "188  [Candelabra, Reading, Swing Arm, Wall Lamp, Wa...  \n",
       "189  [Analog Quartz, Automatic, Automatic Self Wind...  \n",
       "190  [Not Water-Resistant, Water-Resistant, Waterpr...  \n",
       "191  [Basket, Braided, Dobby, Double Cloth, Flat Wo...  \n",
       "192  [5 GHz Radio Frequency, 5.8 GHz Radio Frequenc...  \n",
       "\n",
       "[193 rows x 2 columns]"
      ]
     },
     "execution_count": 11,
     "metadata": {},
     "output_type": "execute_result"
    }
   ],
   "source": [
    "df_attributes_orig_sub_group"
   ]
  },
  {
   "cell_type": "code",
   "execution_count": 12,
   "metadata": {},
   "outputs": [],
   "source": [
    "df_attributes_group = df_attributes.groupby('attribute_field').agg({\n",
    "    'category_attributevalue': lambda x: sorted(set(reduce(lambda x, y: x+y, [[str(j) for j in eval(i)] for i in x])))\n",
    "}).reset_index()"
   ]
  },
  {
   "cell_type": "code",
   "execution_count": 13,
   "metadata": {},
   "outputs": [
    {
     "data": {
      "text/html": [
       "<div>\n",
       "<style scoped>\n",
       "    .dataframe tbody tr th:only-of-type {\n",
       "        vertical-align: middle;\n",
       "    }\n",
       "\n",
       "    .dataframe tbody tr th {\n",
       "        vertical-align: top;\n",
       "    }\n",
       "\n",
       "    .dataframe thead th {\n",
       "        text-align: right;\n",
       "    }\n",
       "</style>\n",
       "<table border=\"1\" class=\"dataframe\">\n",
       "  <thead>\n",
       "    <tr style=\"text-align: right;\">\n",
       "      <th></th>\n",
       "      <th>attribute_field</th>\n",
       "      <th>category_attributevalue</th>\n",
       "    </tr>\n",
       "  </thead>\n",
       "  <tbody>\n",
       "    <tr>\n",
       "      <th>0</th>\n",
       "      <td>Absorption</td>\n",
       "      <td>[High, Low, Medium, No Absorption, None]</td>\n",
       "    </tr>\n",
       "    <tr>\n",
       "      <th>1</th>\n",
       "      <td>Additional Accessories</td>\n",
       "      <td>[Coaster, Lid, None, Saucer, Spoon, Straw]</td>\n",
       "    </tr>\n",
       "    <tr>\n",
       "      <th>2</th>\n",
       "      <td>Adjustable Fit</td>\n",
       "      <td>[Chest Adjustment, Hip Adjustment, Shoulder Ad...</td>\n",
       "    </tr>\n",
       "    <tr>\n",
       "      <th>3</th>\n",
       "      <td>Adjustable Length</td>\n",
       "      <td>[No, Yes]</td>\n",
       "    </tr>\n",
       "    <tr>\n",
       "      <th>4</th>\n",
       "      <td>Age Range Description</td>\n",
       "      <td>[Adult, All Ages, Infant, Kids, Teen, Toddler]</td>\n",
       "    </tr>\n",
       "    <tr>\n",
       "      <th>...</th>\n",
       "      <td>...</td>\n",
       "      <td>...</td>\n",
       "    </tr>\n",
       "    <tr>\n",
       "      <th>225</th>\n",
       "      <td>Wall Light Type</td>\n",
       "      <td>[Candelabra, Reading, Swing Arm, Wall Lamp, Wa...</td>\n",
       "    </tr>\n",
       "    <tr>\n",
       "      <th>226</th>\n",
       "      <td>Watch Movement Type</td>\n",
       "      <td>[Analog Quartz, Automatic, Automatic Self Wind...</td>\n",
       "    </tr>\n",
       "    <tr>\n",
       "      <th>227</th>\n",
       "      <td>Water Resistance Level</td>\n",
       "      <td>[Not Water-Resistant, Water-Resistant, Waterpr...</td>\n",
       "    </tr>\n",
       "    <tr>\n",
       "      <th>228</th>\n",
       "      <td>Weave Type</td>\n",
       "      <td>[Basket, Braided, Dobby, Double Cloth, Flat Wo...</td>\n",
       "    </tr>\n",
       "    <tr>\n",
       "      <th>229</th>\n",
       "      <td>Wireless Communication Types</td>\n",
       "      <td>[5 GHz Radio Frequency, 5.8 GHz Radio Frequenc...</td>\n",
       "    </tr>\n",
       "  </tbody>\n",
       "</table>\n",
       "<p>230 rows × 2 columns</p>\n",
       "</div>"
      ],
      "text/plain": [
       "                  attribute_field  \\\n",
       "0                      Absorption   \n",
       "1          Additional Accessories   \n",
       "2                  Adjustable Fit   \n",
       "3               Adjustable Length   \n",
       "4           Age Range Description   \n",
       "..                            ...   \n",
       "225               Wall Light Type   \n",
       "226           Watch Movement Type   \n",
       "227        Water Resistance Level   \n",
       "228                    Weave Type   \n",
       "229  Wireless Communication Types   \n",
       "\n",
       "                               category_attributevalue  \n",
       "0             [High, Low, Medium, No Absorption, None]  \n",
       "1           [Coaster, Lid, None, Saucer, Spoon, Straw]  \n",
       "2    [Chest Adjustment, Hip Adjustment, Shoulder Ad...  \n",
       "3                                            [No, Yes]  \n",
       "4       [Adult, All Ages, Infant, Kids, Teen, Toddler]  \n",
       "..                                                 ...  \n",
       "225  [Candelabra, Reading, Swing Arm, Wall Lamp, Wa...  \n",
       "226  [Analog Quartz, Automatic, Automatic Self Wind...  \n",
       "227  [Not Water-Resistant, Water-Resistant, Waterpr...  \n",
       "228  [Basket, Braided, Dobby, Double Cloth, Flat Wo...  \n",
       "229  [5 GHz Radio Frequency, 5.8 GHz Radio Frequenc...  \n",
       "\n",
       "[230 rows x 2 columns]"
      ]
     },
     "execution_count": 13,
     "metadata": {},
     "output_type": "execute_result"
    }
   ],
   "source": [
    "df_attributes_group"
   ]
  },
  {
   "cell_type": "code",
   "execution_count": 14,
   "metadata": {},
   "outputs": [],
   "source": [
    "attr_vals_normalized = {}\n",
    "for i in df_attributes_group.to_dict('records'):\n",
    "    attr_vals_normalized[i['attribute_field']] = set(i['category_attributevalue'])\n",
    "\n",
    "attr_vals_orig_normalized = {}\n",
    "for i in df_attributes_orig_sub_group.to_dict('records'):\n",
    "    attr_vals_orig_normalized[i['attribute_field']] = set(i['category_attributevalue'])"
   ]
  },
  {
   "cell_type": "code",
   "execution_count": 15,
   "metadata": {},
   "outputs": [],
   "source": [
    "all_kvpairs = set()\n",
    "all_orig_kvpairs = set()\n",
    "\n",
    "for k in attr_vals_normalized:\n",
    "    for v in attr_vals_normalized[k]:\n",
    "        all_kvpairs.add((k, v))\n",
    "\n",
    "for k in attr_vals_orig_normalized:\n",
    "    for v in attr_vals_orig_normalized[k]:\n",
    "        all_orig_kvpairs.add((k, v))"
   ]
  },
  {
   "cell_type": "code",
   "execution_count": 16,
   "metadata": {},
   "outputs": [
    {
     "data": {
      "text/plain": [
       "(230, 193)"
      ]
     },
     "execution_count": 16,
     "metadata": {},
     "output_type": "execute_result"
    }
   ],
   "source": [
    "len(attr_vals_normalized), len(attr_vals_orig_normalized)"
   ]
  },
  {
   "cell_type": "code",
   "execution_count": 17,
   "metadata": {},
   "outputs": [
    {
     "data": {
      "text/plain": [
       "(13592, 6875)"
      ]
     },
     "execution_count": 17,
     "metadata": {},
     "output_type": "execute_result"
    }
   ],
   "source": [
    "len(all_kvpairs), len(all_orig_kvpairs)"
   ]
  },
  {
   "cell_type": "code",
   "execution_count": 18,
   "metadata": {},
   "outputs": [],
   "source": [
    "recs = []\n",
    "for i in df.to_dict('records'):\n",
    "    res_normalized = []\n",
    "    res_custom = []\n",
    "    res = [] if ((not isinstance(i['Rater_Answer'], str)) and (np.isnan(i['Rater_Answer']))) else i['Rater_Answer'].split('\\n')\n",
    "    for j in res:\n",
    "        k, v = j.split(' > ')[-2:]\n",
    "        assert k in attr_vals_normalized\n",
    "        if k in attr_vals_orig_normalized and v in attr_vals_orig_normalized[k]:\n",
    "            res_normalized.append((k, v))\n",
    "        else:\n",
    "            res_custom.append((k, v))\n",
    "    i['attr_name_value_pairs_normalized'] = sorted(set(res_normalized))\n",
    "    i['attr_name_value_pairs_custom'] = sorted(set(res_custom))\n",
    "    recs.append(i)\n",
    "df = pd.DataFrame(recs)"
   ]
  },
  {
   "cell_type": "code",
   "execution_count": 19,
   "metadata": {},
   "outputs": [
    {
     "data": {
      "text/plain": [
       "(0.44825438929908695, 0.14141185414021495)"
      ]
     },
     "execution_count": 19,
     "metadata": {},
     "output_type": "execute_result"
    }
   ],
   "source": [
    "df['attr_name_value_pairs_normalized'].apply(len).mean(), df['attr_name_value_pairs_custom'].apply(len).mean()"
   ]
  },
  {
   "cell_type": "code",
   "execution_count": 20,
   "metadata": {},
   "outputs": [
    {
     "data": {
      "text/plain": [
       "<AxesSubplot: ylabel='Frequency'>"
      ]
     },
     "execution_count": 20,
     "metadata": {},
     "output_type": "execute_result"
    },
    {
     "data": {
      "image/png": "[encoded data removed]",
      "text/plain": [
       "<Figure size 640x480 with 1 Axes>"
      ]
     },
     "metadata": {},
     "output_type": "display_data"
    }
   ],
   "source": [
    "df['attr_name_value_pairs_normalized'].apply(len).plot.hist()"
   ]
  },
  {
   "cell_type": "code",
   "execution_count": 21,
   "metadata": {},
   "outputs": [
    {
     "data": {
      "text/plain": [
       "<AxesSubplot: ylabel='Frequency'>"
      ]
     },
     "execution_count": 21,
     "metadata": {},
     "output_type": "execute_result"
    },
    {
     "data": {
      "image/png": "[encoded data removed]",
      "text/plain": [
       "<Figure size 640x480 with 1 Axes>"
      ]
     },
     "metadata": {},
     "output_type": "display_data"
    }
   ],
   "source": [
    "df['attr_name_value_pairs_custom'].apply(len).plot.hist()"
   ]
  },
  {
   "cell_type": "code",
   "execution_count": 22,
   "metadata": {},
   "outputs": [],
   "source": [
    "normalized_attributes = reduce(lambda x,y: x+y, df['attr_name_value_pairs_normalized'].apply(lambda x: [i[0] for i in x]))\n",
    "custom_attributes = reduce(lambda x,y: x+y, df['attr_name_value_pairs_custom'].apply(lambda x: [i[0] for i in x]))"
   ]
  },
  {
   "cell_type": "code",
   "execution_count": 23,
   "metadata": {},
   "outputs": [],
   "source": [
    "normalized_kvpairs = reduce(lambda x,y: x+y, df['attr_name_value_pairs_normalized'])\n",
    "custom_kvpairs = reduce(lambda x,y: x+y, df['attr_name_value_pairs_custom'])"
   ]
  },
  {
   "cell_type": "code",
   "execution_count": 24,
   "metadata": {},
   "outputs": [
    {
     "data": {
      "text/plain": [
       "(154, 100)"
      ]
     },
     "execution_count": 24,
     "metadata": {},
     "output_type": "execute_result"
    }
   ],
   "source": [
    "len(set(normalized_attributes)), len(set(custom_attributes))"
   ]
  },
  {
   "cell_type": "code",
   "execution_count": 25,
   "metadata": {},
   "outputs": [
    {
     "data": {
      "text/plain": [
       "(2455, 4769)"
      ]
     },
     "execution_count": 25,
     "metadata": {},
     "output_type": "execute_result"
    }
   ],
   "source": [
    "len(set(normalized_kvpairs)), len(set(custom_kvpairs))"
   ]
  },
  {
   "cell_type": "code",
   "execution_count": 26,
   "metadata": {},
   "outputs": [
    {
     "data": {
      "text/plain": [
       "[('Department', 12322),\n",
       " ('Materials', 8080),\n",
       " ('Primary Color', 4887),\n",
       " ('Theme', 4617),\n",
       " ('Brand', 3825)]"
      ]
     },
     "execution_count": 26,
     "metadata": {},
     "output_type": "execute_result"
    }
   ],
   "source": [
    "Counter(normalized_attributes).most_common(5)"
   ]
  },
  {
   "cell_type": "code",
   "execution_count": 27,
   "metadata": {},
   "outputs": [
    {
     "data": {
      "text/plain": [
       "[('Item Types', 4312),\n",
       " ('Brand', 4218),\n",
       " ('Brand Name', 4198),\n",
       " ('Use', 1149),\n",
       " ('Theme', 738)]"
      ]
     },
     "execution_count": 27,
     "metadata": {},
     "output_type": "execute_result"
    }
   ],
   "source": [
    "Counter(custom_attributes).most_common(5)"
   ]
  },
  {
   "cell_type": "code",
   "execution_count": 28,
   "metadata": {},
   "outputs": [
    {
     "data": {
      "text/plain": [
       "[(('Department', 'Women'), 6062),\n",
       " (('Department', 'Men'), 3396),\n",
       " (('Brand', 'Samsung'), 2879),\n",
       " (('Department', 'Dogs'), 1338),\n",
       " (('Primary Color', 'Black'), 955)]"
      ]
     },
     "execution_count": 28,
     "metadata": {},
     "output_type": "execute_result"
    }
   ],
   "source": [
    "Counter(normalized_kvpairs).most_common(5)"
   ]
  },
  {
   "cell_type": "code",
   "execution_count": 29,
   "metadata": {},
   "outputs": [
    {
     "data": {
      "text/plain": [
       "[(('Brand Name', 'Nike'), 906),\n",
       " (('Brand', 'Apple'), 861),\n",
       " (('Brand', 'apple'), 436),\n",
       " (('Brand', 'iphone'), 357),\n",
       " (('Brand', 'huawei'), 290)]"
      ]
     },
     "execution_count": 29,
     "metadata": {},
     "output_type": "execute_result"
    }
   ],
   "source": [
    "Counter(custom_kvpairs).most_common(5)"
   ]
  },
  {
   "cell_type": "code",
   "execution_count": 30,
   "metadata": {},
   "outputs": [
    {
     "data": {
      "text/plain": [
       "0.7979274611398963"
      ]
     },
     "execution_count": 30,
     "metadata": {},
     "output_type": "execute_result"
    }
   ],
   "source": [
    "len(set(normalized_attributes)) / len(attr_vals_orig_normalized) # normalized original no free-text"
   ]
  },
  {
   "cell_type": "code",
   "execution_count": 31,
   "metadata": {},
   "outputs": [
    {
     "data": {
      "text/plain": [
       "0.7869565217391304"
      ]
     },
     "execution_count": 31,
     "metadata": {},
     "output_type": "execute_result"
    }
   ],
   "source": [
    "len(set(custom_attributes).union(set(normalized_attributes))) / len(attr_vals_normalized) # add in augmented free-text attributes"
   ]
  },
  {
   "cell_type": "code",
   "execution_count": 32,
   "metadata": {},
   "outputs": [
    {
     "data": {
      "text/plain": [
       "0.35709090909090907"
      ]
     },
     "execution_count": 32,
     "metadata": {},
     "output_type": "execute_result"
    }
   ],
   "source": [
    "len(set(normalized_kvpairs).intersection(all_orig_kvpairs)) / len(all_orig_kvpairs) # normalized original no free-text"
   ]
  },
  {
   "cell_type": "code",
   "execution_count": 33,
   "metadata": {},
   "outputs": [
    {
     "data": {
      "text/plain": [
       "0.26206592113007654"
      ]
     },
     "execution_count": 33,
     "metadata": {},
     "output_type": "execute_result"
    }
   ],
   "source": [
    "len((set(normalized_kvpairs).union(custom_kvpairs)).intersection(all_kvpairs)) / len(all_kvpairs) # add in augmented free-text attributes"
   ]
  },
  {
   "cell_type": "code",
   "execution_count": 34,
   "metadata": {},
   "outputs": [
    {
     "data": {
      "text/plain": [
       "(False, False, False, False)"
      ]
     },
     "execution_count": 34,
     "metadata": {},
     "output_type": "execute_result"
    }
   ],
   "source": [
    "any(['|' in i[0] for i in all_kvpairs]), any(['|' in i[1] for i in all_kvpairs]), any(['\\n' in i[0] for i in all_kvpairs]), any(['\\n' in i[1] for i in all_kvpairs])"
   ]
  },
  {
   "cell_type": "code",
   "execution_count": 35,
   "metadata": {},
   "outputs": [],
   "source": [
    "df['attr_name_value_pairs_normalized_text'] = df['attr_name_value_pairs_normalized'].apply(lambda x: '\\n'.join([i[0] + '|' + i[1] for i in x]))"
   ]
  },
  {
   "cell_type": "code",
   "execution_count": 36,
   "metadata": {},
   "outputs": [],
   "source": [
    "df_out = df[['Label_Ordering', 'Sample_Method', 'Query', 'Query_Category', 'Rater_Answer', 'attr_name_value_pairs_normalized', \n",
    "    'attr_name_value_pairs_custom', 'attr_name_value_pairs_normalized_text']].rename(columns={\n",
    "        'Label_Ordering': 'label_ordering',\n",
    "        'Sample_Method': 'sample_method',\n",
    "        'Query': 'query',\n",
    "        'Query_Category': 'category',\n",
    "        'Rater_Answer': 'Rater_Answer',\n",
    "    })"
   ]
  },
  {
   "cell_type": "code",
   "execution_count": null,
   "metadata": {},
   "outputs": [],
   "source": [
    "df_out"
   ]
  },
  {
   "cell_type": "code",
   "execution_count": 41,
   "metadata": {},
   "outputs": [
    {
     "data": {
      "text/plain": [
       "<AxesSubplot: ylabel='Frequency'>"
      ]
     },
     "execution_count": 41,
     "metadata": {},
     "output_type": "execute_result"
    },
    {
     "data": {
      "image/png": "[encoded data removed]",
      "text/plain": [
       "<Figure size 640x480 with 1 Axes>"
      ]
     },
     "metadata": {},
     "output_type": "display_data"
    }
   ],
   "source": [
    "df_out.attr_name_value_pairs_normalized.apply(len).plot.hist()"
   ]
  },
  {
   "cell_type": "code",
   "execution_count": 38,
   "metadata": {},
   "outputs": [
    {
     "data": {
      "text/plain": [
       "(123653, 123653)"
      ]
     },
     "execution_count": 38,
     "metadata": {},
     "output_type": "execute_result"
    }
   ],
   "source": [
    "len(set(df_out['query'])), len(df_out)"
   ]
  },
  {
   "cell_type": "code",
   "execution_count": 42,
   "metadata": {},
   "outputs": [],
   "source": [
    "from sklearn.model_selection import train_test_split"
   ]
  },
  {
   "cell_type": "code",
   "execution_count": 43,
   "metadata": {},
   "outputs": [],
   "source": [
    "train, _ = train_test_split(df_out, test_size=.4, random_state=42)\n",
    "val, test = train_test_split(_, test_size=0.5, random_state=42)"
   ]
  },
  {
   "cell_type": "code",
   "execution_count": 44,
   "metadata": {},
   "outputs": [
    {
     "data": {
      "text/plain": [
       "(74191, 24731, 24731)"
      ]
     },
     "execution_count": 44,
     "metadata": {},
     "output_type": "execute_result"
    }
   ],
   "source": [
    "len(train), len(val), len(test)"
   ]
  },
  {
   "cell_type": "code",
   "execution_count": 42,
   "metadata": {},
   "outputs": [],
   "source": [
    "# train.to_json('processed2/appen_020323_delivered_022123_validated_query_attr_train.json', lines=True, orient='records')\n",
    "# val.to_json('processed2/appen_020323_delivered_022123_validated_query_attr_val.json', lines=True, orient='records')\n",
    "# test.to_json('processed2/appen_020323_delivered_022123_validated_query_attr_test.json', lines=True, orient='records')"
   ]
  },
  {
   "cell_type": "code",
   "execution_count": 45,
   "metadata": {},
   "outputs": [],
   "source": [
    "train.to_json('processed2/appen_020323_030323_delivered_030623_validated_query_attr_train.json', lines=True, orient='records')\n",
    "val.to_json('processed2/appen_020323_030323_delivered_030623_validated_query_attr_val.json', lines=True, orient='records')\n",
    "test.to_json('processed2/appen_020323_030323_delivered_030623_validated_query_attr_test.json', lines=True, orient='records')"
   ]
  },
  {
   "cell_type": "code",
   "execution_count": null,
   "metadata": {},
   "outputs": [],
   "source": []
  }
 ],
 "metadata": {
  "kernelspec": {
   "display_name": "Python 3",
   "language": "python",
   "name": "python3"
  },
  "language_info": {
   "codemirror_mode": {
    "name": "ipython",
    "version": 3
   },
   "file_extension": ".py",
   "mimetype": "text/x-python",
   "name": "python",
   "nbconvert_exporter": "python",
   "pygments_lexer": "ipython3",
   "version": "3.8.13"
  },
  "orig_nbformat": 4,
  "vscode": {
   "interpreter": {
    "hash": "949777d72b0d2535278d3dc13498b2535136f6dfe0678499012e853ee9abcab1"
   }
  }
 },
 "nbformat": 4,
 "nbformat_minor": 2
}
