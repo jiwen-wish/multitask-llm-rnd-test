{
 "cells": [
  {
   "cell_type": "code",
   "execution_count": 1,
   "metadata": {},
   "outputs": [],
   "source": [
    "import pandas as pd\n",
    "from collections import defaultdict\n",
    "import dvc.api\n",
    "from tqdm import tqdm\n",
    "import numpy as np\n",
    "from functools import reduce"
   ]
  },
  {
   "attachments": {},
   "cell_type": "markdown",
   "metadata": {},
   "source": [
    "# get original data"
   ]
  },
  {
   "cell_type": "code",
   "execution_count": 2,
   "metadata": {},
   "outputs": [],
   "source": [
    "df_original = pd.concat([ \n",
    "    pd.read_csv(dvc.api.get_url('modelling/notebooks/query_attr_extract_appen_label/appen_query_attribution_batch1.csv', \n",
    "        repo='git@github.com:ContextLogic/multitask-llm-rnd.git')), \n",
    "    pd.read_csv(dvc.api.get_url('modelling/notebooks/query_attr_extract_appen_label/appen_query_attribution_batch2.csv', \n",
    "        repo='git@github.com:ContextLogic/multitask-llm-rnd.git'))\n",
    "])"
   ]
  },
  {
   "attachments": {},
   "cell_type": "markdown",
   "metadata": {},
   "source": [
    "# get attributes"
   ]
  },
  {
   "cell_type": "code",
   "execution_count": 3,
   "metadata": {},
   "outputs": [],
   "source": [
    "df_attributes = pd.read_csv('../attribute_extraction_metadata_template/attribute_definition_top25L2_filtered_augmented_redacted_addedsinglemulti_01182023.csv')\n",
    "\n",
    "df_attributes_group = df_attributes.groupby('attribute_field').agg({\n",
    "    'category_attributevalue': lambda x: reduce(lambda x, y: x+y, [eval(i) for i in x])\n",
    "}).reset_index()"
   ]
  },
  {
   "cell_type": "code",
   "execution_count": 4,
   "metadata": {},
   "outputs": [
    {
     "data": {
      "text/plain": [
       "(230, 516378)"
      ]
     },
     "execution_count": 4,
     "metadata": {},
     "output_type": "execute_result"
    }
   ],
   "source": [
    "len(df_attributes_group), df_attributes_group.category_attributevalue.apply(len).sum()"
   ]
  },
  {
   "cell_type": "code",
   "execution_count": 5,
   "metadata": {},
   "outputs": [],
   "source": [
    "attributes = set(df_attributes_group['attribute_field'])"
   ]
  },
  {
   "cell_type": "code",
   "execution_count": 6,
   "metadata": {},
   "outputs": [],
   "source": [
    "category_paths = set(df_attributes['category'])"
   ]
  },
  {
   "cell_type": "code",
   "execution_count": 7,
   "metadata": {},
   "outputs": [],
   "source": [
    "more_paths = []\n",
    "for i in category_paths:\n",
    "    tmp = []\n",
    "    for j in i.split(' > '):\n",
    "        tmp.append(j)\n",
    "        more_paths.append(' > '.join(tmp))\n",
    "category_paths.update(more_paths)"
   ]
  },
  {
   "attachments": {},
   "cell_type": "markdown",
   "metadata": {},
   "source": [
    "# existing appen data"
   ]
  },
  {
   "cell_type": "code",
   "execution_count": 8,
   "metadata": {},
   "outputs": [
    {
     "name": "stderr",
     "output_type": "stream",
     "text": [
      "/tmp/ipykernel_8509/164241792.py:5: DtypeWarning: Columns (6) have mixed types. Specify dtype option on import or set low_memory=False.\n",
      "  df5 = pd.read_csv('appen/output_batch_correct_v2/query_attribution_03.10.23_new_125k.csv')\n"
     ]
    }
   ],
   "source": [
    "df1 = pd.read_csv('appen/output_batch_correct_v2/query_attribution_02.03.23.csv')\n",
    "df2 = pd.read_csv('appen/output_batch_correct_v2/query_attribution_03.03.23_rework.csv')\n",
    "df3 = pd.read_csv('appen/output_batch_correct_v2/query_attribution_03.03.23_pending.csv')\n",
    "df4 = pd.read_csv('appen/output_batch_correct_v2/query_attribution_03.10.23_rework.csv')\n",
    "df5 = pd.read_csv('appen/output_batch_correct_v2/query_attribution_03.10.23_new_125k.csv')"
   ]
  },
  {
   "cell_type": "code",
   "execution_count": 16,
   "metadata": {},
   "outputs": [],
   "source": [
    "df1 = df1.rename(columns={'L2_Category': 'l2_category', 'Label_Ordering': 'label_ordering', 'Query': 'query', 'Query_Category': 'query_category', \n",
    "    'Rater_Answer': 'rater_output', 'Sample_Method': 'sample_method'\n",
    "})"
   ]
  },
  {
   "cell_type": "code",
   "execution_count": 15,
   "metadata": {},
   "outputs": [
    {
     "data": {
      "text/plain": [
       "({'L2_Category',\n",
       "  'Label_Ordering',\n",
       "  'Query',\n",
       "  'Query_Category',\n",
       "  'Rater_Answer',\n",
       "  'Sample_Method'},\n",
       " {'l2_category',\n",
       "  'label_ordering',\n",
       "  'no_attributes',\n",
       "  'query',\n",
       "  'query_category',\n",
       "  'rater_output',\n",
       "  'sample_method',\n",
       "  'translated_query',\n",
       "  'unlisted_value'},\n",
       " {'l2_category',\n",
       "  'label_ordering',\n",
       "  'no_attributes',\n",
       "  'query',\n",
       "  'query_category',\n",
       "  'rater_output',\n",
       "  'sample_method',\n",
       "  'unlisted_value'},\n",
       " {'l2_category',\n",
       "  'label_ordering',\n",
       "  'no_attributes',\n",
       "  'query',\n",
       "  'query_category',\n",
       "  'rater_output',\n",
       "  'sample_method',\n",
       "  'unlisted_value'},\n",
       " {'l2_category',\n",
       "  'label_ordering',\n",
       "  'no_attributes',\n",
       "  'query',\n",
       "  'query_category',\n",
       "  'rater_output',\n",
       "  'sample_method',\n",
       "  'unlisted_value'})"
      ]
     },
     "execution_count": 15,
     "metadata": {},
     "output_type": "execute_result"
    }
   ],
   "source": [
    "set(df1), set(df2), set(df3), set(df4), set(df5)"
   ]
  },
  {
   "cell_type": "code",
   "execution_count": 19,
   "metadata": {},
   "outputs": [],
   "source": [
    "df = pd.concat([df1, df2, df3, df4, df5])"
   ]
  },
  {
   "cell_type": "code",
   "execution_count": 21,
   "metadata": {},
   "outputs": [],
   "source": [
    "df_uniq = df.drop_duplicates('label_ordering', keep='last')"
   ]
  },
  {
   "cell_type": "code",
   "execution_count": 22,
   "metadata": {},
   "outputs": [
    {
     "data": {
      "text/plain": [
       "(281563, 249723)"
      ]
     },
     "execution_count": 22,
     "metadata": {},
     "output_type": "execute_result"
    }
   ],
   "source": [
    "len(df), len(df_uniq)"
   ]
  },
  {
   "cell_type": "code",
   "execution_count": 26,
   "metadata": {},
   "outputs": [],
   "source": [
    "df_uniq_merge = df_uniq.merge(df_original[['label_ordering', 'query']].rename(columns={'query': 'query_original'}), on='label_ordering', how='inner')"
   ]
  },
  {
   "cell_type": "code",
   "execution_count": 27,
   "metadata": {},
   "outputs": [
    {
     "data": {
      "text/plain": [
       "249723"
      ]
     },
     "execution_count": 27,
     "metadata": {},
     "output_type": "execute_result"
    }
   ],
   "source": [
    "len(df_uniq_merge)"
   ]
  },
  {
   "cell_type": "code",
   "execution_count": 31,
   "metadata": {},
   "outputs": [],
   "source": [
    "df_uniq_merge.loc[df_uniq_merge['query'] != df_uniq_merge['query_original'], 'query'] = \\\n",
    "    df_uniq_merge.loc[df_uniq_merge['query'] != df_uniq_merge['query_original'], 'query_original']"
   ]
  },
  {
   "cell_type": "code",
   "execution_count": 33,
   "metadata": {},
   "outputs": [
    {
     "data": {
      "text/plain": [
       "(281563, 149423, 100300, 39951, 249723)"
      ]
     },
     "execution_count": 33,
     "metadata": {},
     "output_type": "execute_result"
    }
   ],
   "source": [
    "correct = []\n",
    "errors = []\n",
    "empty = []\n",
    "for i in df_uniq_merge.to_dict('records'):\n",
    "    res = [] if ((not isinstance(i['rater_output'], str)) and (np.isnan(i['rater_output']))) else i['rater_output'].split('\\n')\n",
    "    if len(res) == 0:\n",
    "        empty.append(i)\n",
    "    is_correct = True\n",
    "    for j in res:\n",
    "        if len(j.split(' > ')) < 2:\n",
    "            i['explanation'] = f\"{j} has no attribute name\"\n",
    "            errors.append(i)\n",
    "            is_correct = False\n",
    "            break\n",
    "        if j.split(' > ')[-2] not in attributes:\n",
    "            i['explanation'] = f\"{j} has invalid attribute name, because {j.split(' > ')[-2]} is not a valid attribute name\"\n",
    "            errors.append(i)\n",
    "            is_correct = False\n",
    "            break\n",
    "    if is_correct:\n",
    "        correct.append(i)\n",
    "len(df), len(correct), len(errors), len(empty), len(correct) + len(errors)"
   ]
  },
  {
   "cell_type": "code",
   "execution_count": 34,
   "metadata": {},
   "outputs": [
    {
     "data": {
      "text/plain": [
       "0.2673684774097696"
      ]
     },
     "execution_count": 34,
     "metadata": {},
     "output_type": "execute_result"
    }
   ],
   "source": [
    "len(empty) / len(correct)"
   ]
  },
  {
   "cell_type": "code",
   "execution_count": 35,
   "metadata": {},
   "outputs": [],
   "source": [
    "df_correct = pd.DataFrame(correct)\n",
    "df_error = pd.DataFrame(errors)"
   ]
  },
  {
   "cell_type": "code",
   "execution_count": 38,
   "metadata": {},
   "outputs": [
    {
     "data": {
      "text/plain": [
       "(149423, 100300)"
      ]
     },
     "execution_count": 38,
     "metadata": {},
     "output_type": "execute_result"
    }
   ],
   "source": [
    "len(df_correct), len(df_error)"
   ]
  },
  {
   "cell_type": "code",
   "execution_count": 37,
   "metadata": {},
   "outputs": [],
   "source": [
    "df_correct.to_csv('appen/output_batch_correct_v3/query_attribution_till_030923_valid_units.csv')\n",
    "df_error.to_csv('appen/output_batch_correct_v3/query_attribution_till_030923_invalid_units.csv')"
   ]
  },
  {
   "cell_type": "code",
   "execution_count": null,
   "metadata": {},
   "outputs": [],
   "source": []
  }
 ],
 "metadata": {
  "kernelspec": {
   "display_name": "Python 3",
   "language": "python",
   "name": "python3"
  },
  "language_info": {
   "codemirror_mode": {
    "name": "ipython",
    "version": 3
   },
   "file_extension": ".py",
   "mimetype": "text/x-python",
   "name": "python",
   "nbconvert_exporter": "python",
   "pygments_lexer": "ipython3",
   "version": "3.8.13"
  },
  "orig_nbformat": 4,
  "vscode": {
   "interpreter": {
    "hash": "949777d72b0d2535278d3dc13498b2535136f6dfe0678499012e853ee9abcab1"
   }
  }
 },
 "nbformat": 4,
 "nbformat_minor": 2
}
