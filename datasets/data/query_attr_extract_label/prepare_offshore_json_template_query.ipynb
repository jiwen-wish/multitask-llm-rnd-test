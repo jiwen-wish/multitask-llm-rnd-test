{
 "cells": [
  {
   "cell_type": "code",
   "execution_count": 1,
   "metadata": {},
   "outputs": [],
   "source": [
    "import pandas as pd"
   ]
  },
  {
   "cell_type": "code",
   "execution_count": 2,
   "metadata": {},
   "outputs": [],
   "source": [
    "df_metadata = pd.read_csv('../attribute_extraction_metadata_template/Initial Attribute Definition for First Release - UPDATED SHEET .csv')"
   ]
  },
  {
   "cell_type": "code",
   "execution_count": 3,
   "metadata": {},
   "outputs": [],
   "source": [
    "df_metadata = df_metadata[['category', 'attribute_field', 'category_attributevalue', 'description', 'max_multi_select', 'usage', 'entry mode']]"
   ]
  },
  {
   "cell_type": "code",
   "execution_count": 4,
   "metadata": {},
   "outputs": [],
   "source": [
    "metadata_category = set(df_metadata.category)"
   ]
  },
  {
   "cell_type": "code",
   "execution_count": 5,
   "metadata": {},
   "outputs": [],
   "source": [
    "category2config = {}\n",
    "for i in metadata_category:\n",
    "    df_tmp = df_metadata[df_metadata.category == i]\n",
    "    category2config[i] = sorted(df_tmp.to_dict('records'), key=lambda x: x['attribute_field'])"
   ]
  },
  {
   "cell_type": "code",
   "execution_count": 9,
   "metadata": {},
   "outputs": [],
   "source": [
    "df_samples = pd.read_csv('allstratified_sample_4806_query.csv').rename(columns={'top_query_classification_taxonomy': 'category_path'})"
   ]
  },
  {
   "cell_type": "code",
   "execution_count": 13,
   "metadata": {},
   "outputs": [],
   "source": [
    "df_samples = df_samples[df_samples.category_path.apply(lambda x: any([i.startswith(x) for i in metadata_category]))]\n",
    "df_samples = df_samples.sample(10, random_state=42)"
   ]
  },
  {
   "cell_type": "code",
   "execution_count": 16,
   "metadata": {},
   "outputs": [
    {
     "data": {
      "text/html": [
       "<div>\n",
       "<style scoped>\n",
       "    .dataframe tbody tr th:only-of-type {\n",
       "        vertical-align: middle;\n",
       "    }\n",
       "\n",
       "    .dataframe tbody tr th {\n",
       "        vertical-align: top;\n",
       "    }\n",
       "\n",
       "    .dataframe thead th {\n",
       "        text-align: right;\n",
       "    }\n",
       "</style>\n",
       "<table border=\"1\" class=\"dataframe\">\n",
       "  <thead>\n",
       "    <tr style=\"text-align: right;\">\n",
       "      <th></th>\n",
       "      <th>label_ordering</th>\n",
       "      <th>query</th>\n",
       "      <th>sample_method</th>\n",
       "      <th>category_path</th>\n",
       "    </tr>\n",
       "  </thead>\n",
       "  <tbody>\n",
       "    <tr>\n",
       "      <th>2231</th>\n",
       "      <td>44317</td>\n",
       "      <td>memory card ps2</td>\n",
       "      <td>head</td>\n",
       "      <td>Consumer Electronics &gt; Video Games &gt; Memory Cards</td>\n",
       "    </tr>\n",
       "    <tr>\n",
       "      <th>3246</th>\n",
       "      <td>66149</td>\n",
       "      <td>cat tower for indoor cats</td>\n",
       "      <td>head</td>\n",
       "      <td>Home &amp; Garden &gt; Pet Products &gt; Cat Supplies &gt; ...</td>\n",
       "    </tr>\n",
       "    <tr>\n",
       "      <th>2947</th>\n",
       "      <td>60076</td>\n",
       "      <td>aprons with pockets</td>\n",
       "      <td>uniform</td>\n",
       "      <td>Home &amp; Garden &gt; Household Cleaning &gt; Household...</td>\n",
       "    </tr>\n",
       "    <tr>\n",
       "      <th>1721</th>\n",
       "      <td>33327</td>\n",
       "      <td>abafador eletronico para tiro</td>\n",
       "      <td>head</td>\n",
       "      <td>Apparel Accessories &gt; Girls' Accessories &gt; Gir...</td>\n",
       "    </tr>\n",
       "    <tr>\n",
       "      <th>793</th>\n",
       "      <td>15276</td>\n",
       "      <td>winter hats for men</td>\n",
       "      <td>head</td>\n",
       "      <td>Apparel Accessories &gt; Men's Hats &gt; Men's Bombe...</td>\n",
       "    </tr>\n",
       "    <tr>\n",
       "      <th>3092</th>\n",
       "      <td>62891</td>\n",
       "      <td>camping toilets portable</td>\n",
       "      <td>head</td>\n",
       "      <td>Home Improvement &gt; Bathroom Fixtures &gt; Toilets...</td>\n",
       "    </tr>\n",
       "    <tr>\n",
       "      <th>4415</th>\n",
       "      <td>91164</td>\n",
       "      <td>foto box studio</td>\n",
       "      <td>uniform</td>\n",
       "      <td>Consumer Electronics &gt; Camera &amp; Photo &gt; Photo ...</td>\n",
       "    </tr>\n",
       "    <tr>\n",
       "      <th>3272</th>\n",
       "      <td>66607</td>\n",
       "      <td>shoe rack organizer</td>\n",
       "      <td>head</td>\n",
       "      <td>Home &amp; Garden &gt; Home Storage &amp; Organization &gt; ...</td>\n",
       "    </tr>\n",
       "    <tr>\n",
       "      <th>826</th>\n",
       "      <td>15766</td>\n",
       "      <td>costume bagno uomo</td>\n",
       "      <td>head</td>\n",
       "      <td>Sports &gt; Swimming &gt; Men's Swimwear &gt; Men's Bod...</td>\n",
       "    </tr>\n",
       "    <tr>\n",
       "      <th>1617</th>\n",
       "      <td>31260</td>\n",
       "      <td>machine a popcorn</td>\n",
       "      <td>uniform</td>\n",
       "      <td>Home Improvement &gt; Home Appliances &gt; Kitchen A...</td>\n",
       "    </tr>\n",
       "  </tbody>\n",
       "</table>\n",
       "</div>"
      ],
      "text/plain": [
       "      label_ordering                          query sample_method  \\\n",
       "2231           44317                memory card ps2          head   \n",
       "3246           66149      cat tower for indoor cats          head   \n",
       "2947           60076            aprons with pockets       uniform   \n",
       "1721           33327  abafador eletronico para tiro          head   \n",
       "793            15276            winter hats for men          head   \n",
       "3092           62891       camping toilets portable          head   \n",
       "4415           91164                foto box studio       uniform   \n",
       "3272           66607            shoe rack organizer          head   \n",
       "826            15766             costume bagno uomo          head   \n",
       "1617           31260              machine a popcorn       uniform   \n",
       "\n",
       "                                          category_path  \n",
       "2231  Consumer Electronics > Video Games > Memory Cards  \n",
       "3246  Home & Garden > Pet Products > Cat Supplies > ...  \n",
       "2947  Home & Garden > Household Cleaning > Household...  \n",
       "1721  Apparel Accessories > Girls' Accessories > Gir...  \n",
       "793   Apparel Accessories > Men's Hats > Men's Bombe...  \n",
       "3092  Home Improvement > Bathroom Fixtures > Toilets...  \n",
       "4415  Consumer Electronics > Camera & Photo > Photo ...  \n",
       "3272  Home & Garden > Home Storage & Organization > ...  \n",
       "826   Sports > Swimming > Men's Swimwear > Men's Bod...  \n",
       "1617  Home Improvement > Home Appliances > Kitchen A...  "
      ]
     },
     "execution_count": 16,
     "metadata": {},
     "output_type": "execute_result"
    }
   ],
   "source": [
    "df_samples"
   ]
  },
  {
   "cell_type": "code",
   "execution_count": 18,
   "metadata": {},
   "outputs": [],
   "source": [
    "from functools import reduce"
   ]
  },
  {
   "cell_type": "code",
   "execution_count": 20,
   "metadata": {},
   "outputs": [
    {
     "data": {
      "text/plain": [
       "[2]"
      ]
     },
     "execution_count": 20,
     "metadata": {},
     "output_type": "execute_result"
    }
   ],
   "source": [
    "reduce(lambda x,y: x + y, *[[], [2]])"
   ]
  },
  {
   "cell_type": "code",
   "execution_count": 23,
   "metadata": {},
   "outputs": [],
   "source": [
    "from copy import deepcopy"
   ]
  },
  {
   "cell_type": "code",
   "execution_count": 24,
   "metadata": {},
   "outputs": [],
   "source": [
    "res = []\n",
    "for i in df_samples[['query', 'sample_method', 'category_path']].to_dict('records'):\n",
    "    i['text'] = f\"Query: {i['query']}\"\n",
    "    attr_config = []\n",
    "    for j in metadata_category:\n",
    "        if j.startswith(i['category_path']):\n",
    "            attr_config += deepcopy(category2config[j])\n",
    "    i['attribute_config'] = attr_config\n",
    "    res.append(i)"
   ]
  },
  {
   "cell_type": "code",
   "execution_count": 27,
   "metadata": {},
   "outputs": [],
   "source": [
    "pd.DataFrame(res).to_json('example_offshore_input_query_attr_extract.json', lines=True, orient='records')"
   ]
  },
  {
   "cell_type": "code",
   "execution_count": null,
   "metadata": {},
   "outputs": [],
   "source": []
  }
 ],
 "metadata": {
  "kernelspec": {
   "display_name": "Python 3",
   "language": "python",
   "name": "python3"
  },
  "language_info": {
   "codemirror_mode": {
    "name": "ipython",
    "version": 3
   },
   "file_extension": ".py",
   "mimetype": "text/x-python",
   "name": "python",
   "nbconvert_exporter": "python",
   "pygments_lexer": "ipython3",
   "version": "3.8.13"
  },
  "orig_nbformat": 4,
  "vscode": {
   "interpreter": {
    "hash": "949777d72b0d2535278d3dc13498b2535136f6dfe0678499012e853ee9abcab1"
   }
  }
 },
 "nbformat": 4,
 "nbformat_minor": 2
}
