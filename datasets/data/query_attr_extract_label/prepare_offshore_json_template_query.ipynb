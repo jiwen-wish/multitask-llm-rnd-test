{
 "cells": [
  {
   "cell_type": "code",
   "execution_count": 21,
   "metadata": {},
   "outputs": [],
   "source": [
    "import pandas as pd\n",
    "import dvc.api"
   ]
  },
  {
   "cell_type": "code",
   "execution_count": 8,
   "metadata": {},
   "outputs": [],
   "source": [
    "from copy import deepcopy\n",
    "from functools import reduce\n",
    "import hashlib\n",
    "from collections import OrderedDict\n",
    "import json\n",
    "def sortOD(od):\n",
    "    res = OrderedDict()\n",
    "    for k, v in sorted(od.items()):\n",
    "        if isinstance(v, dict):\n",
    "            res[k] = sortOD(v)\n",
    "        else:\n",
    "            res[k] = deepcopy(v)\n",
    "    return res"
   ]
  },
  {
   "cell_type": "code",
   "execution_count": 34,
   "metadata": {},
   "outputs": [],
   "source": [
    "df_metadata = pd.read_csv('../attribute_extraction_metadata_template/Initial Attribute Definition for First Release - UPDATED SHEET .csv')"
   ]
  },
  {
   "cell_type": "code",
   "execution_count": 35,
   "metadata": {},
   "outputs": [],
   "source": [
    "df_metadata = df_metadata[['category', 'category_id', 'attribute_field', 'category_attributevalue', 'description', 'max_multi_select', 'usage', 'entry mode']]"
   ]
  },
  {
   "cell_type": "code",
   "execution_count": 36,
   "metadata": {},
   "outputs": [],
   "source": [
    "metadata_category = set(df_metadata.category)\n",
    "metadata_category_ids = set(df_metadata.category_id)"
   ]
  },
  {
   "cell_type": "code",
   "execution_count": 37,
   "metadata": {},
   "outputs": [],
   "source": [
    "category2config = {}\n",
    "for i in metadata_category:\n",
    "    df_tmp = df_metadata[df_metadata.category == i]\n",
    "    category2config[i] = sorted(df_tmp.to_dict('records'), key=lambda x: x['attribute_field'])\n",
    "categoryid2config = {}\n",
    "for i in metadata_category_ids:\n",
    "    df_tmp = df_metadata[df_metadata.category_id == i]\n",
    "    categoryid2config[i] = sorted(df_tmp.to_dict('records'), key=lambda x: x['attribute_field'])"
   ]
  },
  {
   "cell_type": "code",
   "execution_count": 38,
   "metadata": {},
   "outputs": [],
   "source": [
    "df_tax = pd.read_json(dvc.api.get_url(\n",
    "    'datasets/data/taxonomy/wish_newtax.json',\n",
    "    repo='git@github.com:ContextLogic/multitask-llm-rnd.git'\n",
    "), lines=True)"
   ]
  },
  {
   "cell_type": "code",
   "execution_count": 39,
   "metadata": {},
   "outputs": [],
   "source": [
    "tax2id = {}\n",
    "for i in df_tax.to_dict('records'):\n",
    "    if len(i['category_path']) > 0:\n",
    "        tax2id[i['category_path']] = int(i['id'])"
   ]
  },
  {
   "attachments": {},
   "cell_type": "markdown",
   "metadata": {},
   "source": [
    "# sample file"
   ]
  },
  {
   "cell_type": "code",
   "execution_count": 6,
   "metadata": {},
   "outputs": [],
   "source": [
    "df_samples = pd.read_csv('allstratified_sample_4806_query.csv').rename(columns={'top_query_classification_taxonomy': 'category_path'})"
   ]
  },
  {
   "cell_type": "code",
   "execution_count": 7,
   "metadata": {},
   "outputs": [],
   "source": [
    "df_samples = df_samples[df_samples.category_path.apply(lambda x: any([i.startswith(x) for i in metadata_category]))]\n",
    "df_samples = df_samples.sample(10, random_state=42)"
   ]
  },
  {
   "cell_type": "code",
   "execution_count": 8,
   "metadata": {},
   "outputs": [
    {
     "data": {
      "text/html": [
       "<div>\n",
       "<style scoped>\n",
       "    .dataframe tbody tr th:only-of-type {\n",
       "        vertical-align: middle;\n",
       "    }\n",
       "\n",
       "    .dataframe tbody tr th {\n",
       "        vertical-align: top;\n",
       "    }\n",
       "\n",
       "    .dataframe thead th {\n",
       "        text-align: right;\n",
       "    }\n",
       "</style>\n",
       "<table border=\"1\" class=\"dataframe\">\n",
       "  <thead>\n",
       "    <tr style=\"text-align: right;\">\n",
       "      <th></th>\n",
       "      <th>label_ordering</th>\n",
       "      <th>query</th>\n",
       "      <th>sample_method</th>\n",
       "      <th>category_path</th>\n",
       "    </tr>\n",
       "  </thead>\n",
       "  <tbody>\n",
       "    <tr>\n",
       "      <th>652</th>\n",
       "      <td>13434</td>\n",
       "      <td>tachos de basura</td>\n",
       "      <td>uniform</td>\n",
       "      <td>Home &amp; Garden &gt; Household Cleaning &gt; Household...</td>\n",
       "    </tr>\n",
       "    <tr>\n",
       "      <th>2253</th>\n",
       "      <td>44644</td>\n",
       "      <td>robe hiver femme</td>\n",
       "      <td>head</td>\n",
       "      <td>Women's Clothing &gt; Sweaters &gt; Dresses</td>\n",
       "    </tr>\n",
       "    <tr>\n",
       "      <th>3839</th>\n",
       "      <td>79080</td>\n",
       "      <td>teck deck fingerboards</td>\n",
       "      <td>head</td>\n",
       "      <td>Toys &amp; Hobbies</td>\n",
       "    </tr>\n",
       "    <tr>\n",
       "      <th>4119</th>\n",
       "      <td>84546</td>\n",
       "      <td>etagere salle de bain</td>\n",
       "      <td>head</td>\n",
       "      <td>Home Improvement &gt; Bathroom Fixtures &gt; Bathroo...</td>\n",
       "    </tr>\n",
       "    <tr>\n",
       "      <th>946</th>\n",
       "      <td>17674</td>\n",
       "      <td>cornici foto a muro</td>\n",
       "      <td>head</td>\n",
       "      <td>Home &amp; Garden &gt; Home Decor &gt; Frames</td>\n",
       "    </tr>\n",
       "    <tr>\n",
       "      <th>2621</th>\n",
       "      <td>52701</td>\n",
       "      <td>dinossauros de brinquedo</td>\n",
       "      <td>head</td>\n",
       "      <td>Toys &amp; Hobbies &gt; Action &amp; Toy Figures &gt; Animal...</td>\n",
       "    </tr>\n",
       "    <tr>\n",
       "      <th>577</th>\n",
       "      <td>12139</td>\n",
       "      <td>pañuelos de algodon</td>\n",
       "      <td>uniform</td>\n",
       "      <td>Apparel Accessories &gt; Men's Ties &amp; Handkerchiefs</td>\n",
       "    </tr>\n",
       "    <tr>\n",
       "      <th>4180</th>\n",
       "      <td>85989</td>\n",
       "      <td>one piece mug</td>\n",
       "      <td>uniform</td>\n",
       "      <td>Home &amp; Garden &gt; Kitchen,Dining &amp; Bar &gt; Drinkwa...</td>\n",
       "    </tr>\n",
       "    <tr>\n",
       "      <th>650</th>\n",
       "      <td>13404</td>\n",
       "      <td>tenis para mujeres</td>\n",
       "      <td>head</td>\n",
       "      <td>Sports &gt; Racquet Sports &gt; Tennis &gt; Tennis Shorts</td>\n",
       "    </tr>\n",
       "    <tr>\n",
       "      <th>4358</th>\n",
       "      <td>89949</td>\n",
       "      <td>school bags for kids</td>\n",
       "      <td>head</td>\n",
       "      <td>Luggage &amp; Bags &gt; Kids &amp; Baby's Bags &gt; School Bags</td>\n",
       "    </tr>\n",
       "  </tbody>\n",
       "</table>\n",
       "</div>"
      ],
      "text/plain": [
       "      label_ordering                     query sample_method  \\\n",
       "652            13434          tachos de basura       uniform   \n",
       "2253           44644          robe hiver femme          head   \n",
       "3839           79080    teck deck fingerboards          head   \n",
       "4119           84546     etagere salle de bain          head   \n",
       "946            17674       cornici foto a muro          head   \n",
       "2621           52701  dinossauros de brinquedo          head   \n",
       "577            12139       pañuelos de algodon       uniform   \n",
       "4180           85989             one piece mug       uniform   \n",
       "650            13404        tenis para mujeres          head   \n",
       "4358           89949      school bags for kids          head   \n",
       "\n",
       "                                          category_path  \n",
       "652   Home & Garden > Household Cleaning > Household...  \n",
       "2253              Women's Clothing > Sweaters > Dresses  \n",
       "3839                                     Toys & Hobbies  \n",
       "4119  Home Improvement > Bathroom Fixtures > Bathroo...  \n",
       "946                 Home & Garden > Home Decor > Frames  \n",
       "2621  Toys & Hobbies > Action & Toy Figures > Animal...  \n",
       "577    Apparel Accessories > Men's Ties & Handkerchiefs  \n",
       "4180  Home & Garden > Kitchen,Dining & Bar > Drinkwa...  \n",
       "650    Sports > Racquet Sports > Tennis > Tennis Shorts  \n",
       "4358  Luggage & Bags > Kids & Baby's Bags > School Bags  "
      ]
     },
     "execution_count": 8,
     "metadata": {},
     "output_type": "execute_result"
    }
   ],
   "source": [
    "df_samples"
   ]
  },
  {
   "cell_type": "code",
   "execution_count": 19,
   "metadata": {},
   "outputs": [],
   "source": [
    "res = []\n",
    "for i in df_samples[['query', 'sample_method', 'category_path']].to_dict('records'):\n",
    "    i['text'] = f\"Query: {i['query']}\"\n",
    "    attr_config = []\n",
    "    for j in metadata_category:\n",
    "        if j.startswith(i['category_path']):\n",
    "            attr_config += deepcopy(category2config[j])\n",
    "    i['attribute_config'] = attr_config\n",
    "    task_json = json.dumps(sortOD(i)).encode('utf-8')\n",
    "    task_id = hashlib.md5(task_json).hexdigest()\n",
    "    i['task_id'] = f\"query_attribution_md_{task_id}\"\n",
    "    i['preloading_result'] = None\n",
    "    res.append(i)"
   ]
  },
  {
   "cell_type": "code",
   "execution_count": 27,
   "metadata": {},
   "outputs": [],
   "source": [
    "pd.DataFrame(res).to_json('example_offshore_input_query_attr_extract_v2.json', lines=True, orient='records')"
   ]
  },
  {
   "attachments": {},
   "cell_type": "markdown",
   "metadata": {},
   "source": [
    "# demo file"
   ]
  },
  {
   "cell_type": "code",
   "execution_count": 40,
   "metadata": {},
   "outputs": [],
   "source": [
    "df_samples = pd.read_csv(dvc.api.get_url(\n",
    "    'modelling/notebooks/query_attr_extract_appen_label/appen_query_attribution_batch1.csv',\n",
    "    repo='git@github.com:ContextLogic/multitask-llm-rnd.git'\n",
    ")).rename(columns={'top_query_classification_taxonomy': 'category_path'})"
   ]
  },
  {
   "cell_type": "code",
   "execution_count": 41,
   "metadata": {},
   "outputs": [
    {
     "data": {
      "text/html": [
       "<div>\n",
       "<style scoped>\n",
       "    .dataframe tbody tr th:only-of-type {\n",
       "        vertical-align: middle;\n",
       "    }\n",
       "\n",
       "    .dataframe tbody tr th {\n",
       "        vertical-align: top;\n",
       "    }\n",
       "\n",
       "    .dataframe thead th {\n",
       "        text-align: right;\n",
       "    }\n",
       "</style>\n",
       "<table border=\"1\" class=\"dataframe\">\n",
       "  <thead>\n",
       "    <tr style=\"text-align: right;\">\n",
       "      <th></th>\n",
       "      <th>query</th>\n",
       "      <th>sample_method</th>\n",
       "      <th>label_ordering</th>\n",
       "      <th>category_path</th>\n",
       "    </tr>\n",
       "  </thead>\n",
       "  <tbody>\n",
       "  </tbody>\n",
       "</table>\n",
       "</div>"
      ],
      "text/plain": [
       "Empty DataFrame\n",
       "Columns: [query, sample_method, label_ordering, category_path]\n",
       "Index: []"
      ]
     },
     "execution_count": 41,
     "metadata": {},
     "output_type": "execute_result"
    }
   ],
   "source": [
    "df_samples[df_samples.category_path.apply(lambda x: x not in tax2id)]"
   ]
  },
  {
   "cell_type": "code",
   "execution_count": 42,
   "metadata": {},
   "outputs": [
    {
     "data": {
      "text/plain": [
       "[]"
      ]
     },
     "execution_count": 42,
     "metadata": {},
     "output_type": "execute_result"
    }
   ],
   "source": [
    "[i for i in metadata_category if i not in tax2id]"
   ]
  },
  {
   "cell_type": "code",
   "execution_count": 28,
   "metadata": {},
   "outputs": [],
   "source": [
    "df_samples = df_samples[df_samples.category_path.apply(lambda x: any([i.startswith(x) for i in metadata_category]))]\n",
    "df_samples = df_samples.sample(10, random_state=42)"
   ]
  },
  {
   "cell_type": "code",
   "execution_count": 43,
   "metadata": {},
   "outputs": [
    {
     "data": {
      "text/html": [
       "<div>\n",
       "<style scoped>\n",
       "    .dataframe tbody tr th:only-of-type {\n",
       "        vertical-align: middle;\n",
       "    }\n",
       "\n",
       "    .dataframe tbody tr th {\n",
       "        vertical-align: top;\n",
       "    }\n",
       "\n",
       "    .dataframe thead th {\n",
       "        text-align: right;\n",
       "    }\n",
       "</style>\n",
       "<table border=\"1\" class=\"dataframe\">\n",
       "  <thead>\n",
       "    <tr style=\"text-align: right;\">\n",
       "      <th></th>\n",
       "      <th>query</th>\n",
       "      <th>sample_method</th>\n",
       "      <th>label_ordering</th>\n",
       "      <th>category_path</th>\n",
       "    </tr>\n",
       "  </thead>\n",
       "  <tbody>\n",
       "    <tr>\n",
       "      <th>0</th>\n",
       "      <td>dog cat eater</td>\n",
       "      <td>uniform</td>\n",
       "      <td>0</td>\n",
       "      <td>Home &amp; Garden &gt; Pet Products &gt; Cat Supplies &gt; ...</td>\n",
       "    </tr>\n",
       "    <tr>\n",
       "      <th>1</th>\n",
       "      <td>fish holder tool</td>\n",
       "      <td>head</td>\n",
       "      <td>18</td>\n",
       "      <td>Sports &gt; Fishing &gt; Fishing Tools</td>\n",
       "    </tr>\n",
       "    <tr>\n",
       "      <th>2</th>\n",
       "      <td>caja para regalos</td>\n",
       "      <td>head</td>\n",
       "      <td>21</td>\n",
       "      <td>Home &amp; Garden &gt; Festive &amp; Party Supplies &gt; Wed...</td>\n",
       "    </tr>\n",
       "    <tr>\n",
       "      <th>3</th>\n",
       "      <td>inflow outflow pipe aquarium</td>\n",
       "      <td>head</td>\n",
       "      <td>22</td>\n",
       "      <td>Home &amp; Garden &gt; Household Merchandise &gt; Lighte...</td>\n",
       "    </tr>\n",
       "    <tr>\n",
       "      <th>4</th>\n",
       "      <td>four pizza gaz</td>\n",
       "      <td>head</td>\n",
       "      <td>44</td>\n",
       "      <td>Home &amp; Garden &gt; Kitchen,Dining &amp; Bar &gt; Bakewar...</td>\n",
       "    </tr>\n",
       "    <tr>\n",
       "      <th>...</th>\n",
       "      <td>...</td>\n",
       "      <td>...</td>\n",
       "      <td>...</td>\n",
       "      <td>...</td>\n",
       "    </tr>\n",
       "    <tr>\n",
       "      <th>124995</th>\n",
       "      <td>phone case samsung a41</td>\n",
       "      <td>head</td>\n",
       "      <td>2487721</td>\n",
       "      <td>Cellphones &amp; Telecommunications &gt; Mobile Phone...</td>\n",
       "    </tr>\n",
       "    <tr>\n",
       "      <th>124996</th>\n",
       "      <td>mini maquinas de coser</td>\n",
       "      <td>head</td>\n",
       "      <td>2487731</td>\n",
       "      <td>Home &amp; Garden &gt; Arts, Crafts &amp; Sewing &gt; Appare...</td>\n",
       "    </tr>\n",
       "    <tr>\n",
       "      <th>124997</th>\n",
       "      <td>jewels for face</td>\n",
       "      <td>head</td>\n",
       "      <td>2487773</td>\n",
       "      <td>Jewelry &amp; Accessories &gt; Fine Jewelry &gt; Loose D...</td>\n",
       "    </tr>\n",
       "    <tr>\n",
       "      <th>124998</th>\n",
       "      <td>album fotos 10x15</td>\n",
       "      <td>head</td>\n",
       "      <td>2487776</td>\n",
       "      <td>Home &amp; Garden &gt; Home Decor &gt; Photo Albums</td>\n",
       "    </tr>\n",
       "    <tr>\n",
       "      <th>124999</th>\n",
       "      <td>porta hielo seco</td>\n",
       "      <td>uniform</td>\n",
       "      <td>2487786</td>\n",
       "      <td>Home &amp; Garden &gt; Kitchen,Dining &amp; Bar &gt; Barware...</td>\n",
       "    </tr>\n",
       "  </tbody>\n",
       "</table>\n",
       "<p>125000 rows × 4 columns</p>\n",
       "</div>"
      ],
      "text/plain": [
       "                               query sample_method  label_ordering  \\\n",
       "0                      dog cat eater       uniform               0   \n",
       "1                   fish holder tool          head              18   \n",
       "2                  caja para regalos          head              21   \n",
       "3       inflow outflow pipe aquarium          head              22   \n",
       "4                     four pizza gaz          head              44   \n",
       "...                              ...           ...             ...   \n",
       "124995        phone case samsung a41          head         2487721   \n",
       "124996        mini maquinas de coser          head         2487731   \n",
       "124997               jewels for face          head         2487773   \n",
       "124998             album fotos 10x15          head         2487776   \n",
       "124999              porta hielo seco       uniform         2487786   \n",
       "\n",
       "                                            category_path  \n",
       "0       Home & Garden > Pet Products > Cat Supplies > ...  \n",
       "1                        Sports > Fishing > Fishing Tools  \n",
       "2       Home & Garden > Festive & Party Supplies > Wed...  \n",
       "3       Home & Garden > Household Merchandise > Lighte...  \n",
       "4       Home & Garden > Kitchen,Dining & Bar > Bakewar...  \n",
       "...                                                   ...  \n",
       "124995  Cellphones & Telecommunications > Mobile Phone...  \n",
       "124996  Home & Garden > Arts, Crafts & Sewing > Appare...  \n",
       "124997  Jewelry & Accessories > Fine Jewelry > Loose D...  \n",
       "124998          Home & Garden > Home Decor > Photo Albums  \n",
       "124999  Home & Garden > Kitchen,Dining & Bar > Barware...  \n",
       "\n",
       "[125000 rows x 4 columns]"
      ]
     },
     "execution_count": 43,
     "metadata": {},
     "output_type": "execute_result"
    }
   ],
   "source": [
    "df_samples"
   ]
  },
  {
   "cell_type": "code",
   "execution_count": 30,
   "metadata": {},
   "outputs": [],
   "source": [
    "res = []\n",
    "for i in df_samples[['query', 'sample_method', 'category_path']].to_dict('records'):\n",
    "    i['text'] = f\"Query: {i['query']}\"\n",
    "    attr_config = []\n",
    "    for j in metadata_category:\n",
    "        if j.startswith(i['category_path']):\n",
    "            attr_config += deepcopy(category2config[j])\n",
    "    i['attribute_config'] = attr_config\n",
    "    task_json = json.dumps(sortOD(i)).encode('utf-8')\n",
    "    task_id = hashlib.md5(task_json).hexdigest()\n",
    "    i['task_id'] = f\"query_attribution_md_{task_id}\"\n",
    "    i['preloading_result'] = None\n",
    "    res.append(i)"
   ]
  },
  {
   "cell_type": "code",
   "execution_count": 33,
   "metadata": {},
   "outputs": [],
   "source": [
    "pd.DataFrame(res).to_json('offshore_md/demo_query_attr_extract_md_02272023.json', lines=True, orient='records')"
   ]
  },
  {
   "cell_type": "code",
   "execution_count": null,
   "metadata": {},
   "outputs": [],
   "source": []
  }
 ],
 "metadata": {
  "kernelspec": {
   "display_name": "Python 3",
   "language": "python",
   "name": "python3"
  },
  "language_info": {
   "codemirror_mode": {
    "name": "ipython",
    "version": 3
   },
   "file_extension": ".py",
   "mimetype": "text/x-python",
   "name": "python",
   "nbconvert_exporter": "python",
   "pygments_lexer": "ipython3",
   "version": "3.8.13"
  },
  "orig_nbformat": 4,
  "vscode": {
   "interpreter": {
    "hash": "949777d72b0d2535278d3dc13498b2535136f6dfe0678499012e853ee9abcab1"
   }
  }
 },
 "nbformat": 4,
 "nbformat_minor": 2
}
