{
 "cells": [
  {
   "cell_type": "code",
   "execution_count": 66,
   "metadata": {},
   "outputs": [],
   "source": [
    "import pandas as pd\n",
    "from tqdm import tqdm\n",
    "import random"
   ]
  },
  {
   "cell_type": "code",
   "execution_count": 67,
   "metadata": {},
   "outputs": [],
   "source": [
    "head_amount = 8000000\n",
    "tail_amount = 2000000"
   ]
  },
  {
   "cell_type": "code",
   "execution_count": 68,
   "metadata": {},
   "outputs": [],
   "source": [
    "from heapq import heappush, heappop"
   ]
  },
  {
   "cell_type": "code",
   "execution_count": 69,
   "metadata": {},
   "outputs": [],
   "source": [
    "head_heap = []\n",
    "tail_reservoir = []\n",
    "tail_reservoir_counter = 0"
   ]
  },
  {
   "cell_type": "code",
   "execution_count": 70,
   "metadata": {},
   "outputs": [],
   "source": [
    "class Record(object):\n",
    "    def __init__(self, cnt, rec):\n",
    "        self.cnt = cnt \n",
    "        self.rec = rec\n",
    "\n",
    "    # override \"less than\"\n",
    "    def __lt__(self, other):\n",
    "        return self.cnt < other.cnt\n",
    "    \n",
    "    def __le__(self, other):\n",
    "        return self.cnt <= other.cnt"
   ]
  },
  {
   "cell_type": "code",
   "execution_count": 71,
   "metadata": {},
   "outputs": [],
   "source": [
    "def build_head_heap(item):\n",
    "    heappush(head_heap, item)\n",
    "    if len(head_heap) > head_amount:\n",
    "        heappop(head_heap)"
   ]
  },
  {
   "cell_type": "code",
   "execution_count": 72,
   "metadata": {},
   "outputs": [],
   "source": [
    "def build_tail_reservoir(item):\n",
    "    global tail_reservoir_counter\n",
    "    if tail_reservoir_counter < tail_amount:\n",
    "        tail_reservoir.append(item)\n",
    "    else:\n",
    "        m = random.randint(0, tail_reservoir_counter)\n",
    "        if m < tail_amount:\n",
    "            tail_reservoir[m] = item\n",
    "    tail_reservoir_counter += 1"
   ]
  },
  {
   "cell_type": "code",
   "execution_count": 73,
   "metadata": {},
   "outputs": [
    {
     "name": "stderr",
     "output_type": "stream",
     "text": [
      "38652it [4:23:09,  2.45it/s]\n"
     ]
    }
   ],
   "source": [
    "for df in tqdm(pd.read_json('wish_queries_with_timestamp_3wordsormore.json', lines=True, chunksize=10000)):\n",
    "    for i in df.to_dict('records'):\n",
    "        build_head_heap(Record(int(i['cnt']), i))\n",
    "        build_tail_reservoir(i)"
   ]
  },
  {
   "cell_type": "code",
   "execution_count": 75,
   "metadata": {},
   "outputs": [
    {
     "data": {
      "text/plain": [
       "(2000000, 8000000)"
      ]
     },
     "execution_count": 75,
     "metadata": {},
     "output_type": "execute_result"
    }
   ],
   "source": [
    "len(tail_reservoir), len(head_heap)"
   ]
  },
  {
   "cell_type": "code",
   "execution_count": 76,
   "metadata": {},
   "outputs": [],
   "source": [
    "df_tail = pd.DataFrame(tail_reservoir)\n",
    "df_head = pd.DataFrame([i.rec for i in head_heap])"
   ]
  },
  {
   "cell_type": "code",
   "execution_count": 78,
   "metadata": {},
   "outputs": [],
   "source": [
    "head_queries = set(df_head['query'])"
   ]
  },
  {
   "cell_type": "code",
   "execution_count": 79,
   "metadata": {},
   "outputs": [],
   "source": [
    "df_tail_nooverlap = df_tail[df_tail['query'].apply(lambda x: x not in head_queries)]"
   ]
  },
  {
   "cell_type": "code",
   "execution_count": 80,
   "metadata": {},
   "outputs": [
    {
     "data": {
      "text/plain": [
       "1958440"
      ]
     },
     "execution_count": 80,
     "metadata": {},
     "output_type": "execute_result"
    }
   ],
   "source": [
    "len(df_tail_nooverlap)"
   ]
  },
  {
   "cell_type": "code",
   "execution_count": 81,
   "metadata": {},
   "outputs": [
    {
     "name": "stderr",
     "output_type": "stream",
     "text": [
      "/tmp/ipykernel_11253/3207592796.py:1: SettingWithCopyWarning: \n",
      "A value is trying to be set on a copy of a slice from a DataFrame.\n",
      "Try using .loc[row_indexer,col_indexer] = value instead\n",
      "\n",
      "See the caveats in the documentation: https://pandas.pydata.org/pandas-docs/stable/user_guide/indexing.html#returning-a-view-versus-a-copy\n",
      "  df_tail_nooverlap['sample_method'] = 'uniform'\n"
     ]
    }
   ],
   "source": [
    "df_tail_nooverlap['sample_method'] = 'uniform'\n",
    "df_head['sample_method'] = 'head'\n",
    "df_head_tail = pd.concat([df_head, df_tail_nooverlap])"
   ]
  },
  {
   "cell_type": "code",
   "execution_count": 86,
   "metadata": {},
   "outputs": [
    {
     "data": {
      "text/plain": [
       "(75.69147587114027, 0.49721621273490296)"
      ]
     },
     "execution_count": 86,
     "metadata": {},
     "output_type": "execute_result"
    }
   ],
   "source": [
    "df_head.gmv.mean(), df_tail_nooverlap.gmv.mean()"
   ]
  },
  {
   "cell_type": "code",
   "execution_count": 90,
   "metadata": {},
   "outputs": [],
   "source": [
    "df_head_tail = df_head_tail.sample(frac=1.0, random_state=42)"
   ]
  },
  {
   "cell_type": "code",
   "execution_count": 91,
   "metadata": {},
   "outputs": [],
   "source": [
    "assert len(set(df_head_tail['query'])) == len(df_head_tail)"
   ]
  },
  {
   "cell_type": "code",
   "execution_count": 93,
   "metadata": {},
   "outputs": [],
   "source": [
    "df_head_tail['label_ordering'] = list(range(len(df_head_tail)))"
   ]
  },
  {
   "cell_type": "code",
   "execution_count": 94,
   "metadata": {},
   "outputs": [
    {
     "data": {
      "text/html": [
       "<div>\n",
       "<style scoped>\n",
       "    .dataframe tbody tr th:only-of-type {\n",
       "        vertical-align: middle;\n",
       "    }\n",
       "\n",
       "    .dataframe tbody tr th {\n",
       "        vertical-align: top;\n",
       "    }\n",
       "\n",
       "    .dataframe thead th {\n",
       "        text-align: right;\n",
       "    }\n",
       "</style>\n",
       "<table border=\"1\" class=\"dataframe\">\n",
       "  <thead>\n",
       "    <tr style=\"text-align: right;\">\n",
       "      <th></th>\n",
       "      <th>query</th>\n",
       "      <th>min_timestamp</th>\n",
       "      <th>max_timestamp</th>\n",
       "      <th>min_dt</th>\n",
       "      <th>max_dt</th>\n",
       "      <th>cnt</th>\n",
       "      <th>gmv</th>\n",
       "      <th>sample_method</th>\n",
       "      <th>label_ordering</th>\n",
       "    </tr>\n",
       "  </thead>\n",
       "  <tbody>\n",
       "    <tr>\n",
       "      <th>1759013</th>\n",
       "      <td>dog cat eater</td>\n",
       "      <td>1585400611</td>\n",
       "      <td>1586565651</td>\n",
       "      <td>2020-03-29</td>\n",
       "      <td>2020-04-11</td>\n",
       "      <td>20</td>\n",
       "      <td>0.000000</td>\n",
       "      <td>uniform</td>\n",
       "      <td>0</td>\n",
       "    </tr>\n",
       "    <tr>\n",
       "      <th>1021172</th>\n",
       "      <td>cargador co.putasora en vehicilo</td>\n",
       "      <td>1585532079</td>\n",
       "      <td>1585532128</td>\n",
       "      <td>2020-03-30</td>\n",
       "      <td>2020-03-30</td>\n",
       "      <td>5</td>\n",
       "      <td>0.000000</td>\n",
       "      <td>uniform</td>\n",
       "      <td>1</td>\n",
       "    </tr>\n",
       "    <tr>\n",
       "      <th>3584011</th>\n",
       "      <td>pendant gold chain</td>\n",
       "      <td>1579040066</td>\n",
       "      <td>1658453818</td>\n",
       "      <td>2020-01-15</td>\n",
       "      <td>2022-07-22</td>\n",
       "      <td>86</td>\n",
       "      <td>0.000000</td>\n",
       "      <td>head</td>\n",
       "      <td>2</td>\n",
       "    </tr>\n",
       "    <tr>\n",
       "      <th>841328</th>\n",
       "      <td>eartg colored shoes</td>\n",
       "      <td>1642706820</td>\n",
       "      <td>1642706960</td>\n",
       "      <td>2022-01-21</td>\n",
       "      <td>2022-01-21</td>\n",
       "      <td>8</td>\n",
       "      <td>0.000000</td>\n",
       "      <td>uniform</td>\n",
       "      <td>3</td>\n",
       "    </tr>\n",
       "    <tr>\n",
       "      <th>5362805</th>\n",
       "      <td>turquoise and gold necklace</td>\n",
       "      <td>1579522328</td>\n",
       "      <td>1667614443</td>\n",
       "      <td>2020-01-21</td>\n",
       "      <td>2022-11-05</td>\n",
       "      <td>290</td>\n",
       "      <td>9.790000</td>\n",
       "      <td>head</td>\n",
       "      <td>4</td>\n",
       "    </tr>\n",
       "    <tr>\n",
       "      <th>...</th>\n",
       "      <td>...</td>\n",
       "      <td>...</td>\n",
       "      <td>...</td>\n",
       "      <td>...</td>\n",
       "      <td>...</td>\n",
       "      <td>...</td>\n",
       "      <td>...</td>\n",
       "      <td>...</td>\n",
       "      <td>...</td>\n",
       "    </tr>\n",
       "    <tr>\n",
       "      <th>1557094</th>\n",
       "      <td>gopro gimbal karma</td>\n",
       "      <td>1587897227</td>\n",
       "      <td>1590849556</td>\n",
       "      <td>2020-04-27</td>\n",
       "      <td>2020-05-31</td>\n",
       "      <td>4</td>\n",
       "      <td>0.000000</td>\n",
       "      <td>uniform</td>\n",
       "      <td>9958435</td>\n",
       "    </tr>\n",
       "    <tr>\n",
       "      <th>2234489</th>\n",
       "      <td>ruger lcp 380 magazine</td>\n",
       "      <td>1579020577</td>\n",
       "      <td>1669640608</td>\n",
       "      <td>2020-01-15</td>\n",
       "      <td>2022-11-29</td>\n",
       "      <td>200</td>\n",
       "      <td>0.000000</td>\n",
       "      <td>head</td>\n",
       "      <td>9958436</td>\n",
       "    </tr>\n",
       "    <tr>\n",
       "      <th>4304572</th>\n",
       "      <td>thuốc kich dục nữ bán ở đâu</td>\n",
       "      <td>1588407671</td>\n",
       "      <td>1669605086</td>\n",
       "      <td>2020-05-03</td>\n",
       "      <td>2022-11-28</td>\n",
       "      <td>218</td>\n",
       "      <td>0.000000</td>\n",
       "      <td>head</td>\n",
       "      <td>9958437</td>\n",
       "    </tr>\n",
       "    <tr>\n",
       "      <th>6550634</th>\n",
       "      <td>tactical bag pack</td>\n",
       "      <td>1578802068</td>\n",
       "      <td>1662227324</td>\n",
       "      <td>2020-01-12</td>\n",
       "      <td>2022-09-04</td>\n",
       "      <td>222</td>\n",
       "      <td>16.965158</td>\n",
       "      <td>head</td>\n",
       "      <td>9958438</td>\n",
       "    </tr>\n",
       "    <tr>\n",
       "      <th>6423388</th>\n",
       "      <td>roupas de bebe recem nacido feminino</td>\n",
       "      <td>1578012878</td>\n",
       "      <td>1646841573</td>\n",
       "      <td>2020-01-03</td>\n",
       "      <td>2022-03-10</td>\n",
       "      <td>125</td>\n",
       "      <td>0.000000</td>\n",
       "      <td>head</td>\n",
       "      <td>9958439</td>\n",
       "    </tr>\n",
       "  </tbody>\n",
       "</table>\n",
       "<p>9958440 rows × 9 columns</p>\n",
       "</div>"
      ],
      "text/plain": [
       "                                        query  min_timestamp  max_timestamp  \\\n",
       "1759013                         dog cat eater     1585400611     1586565651   \n",
       "1021172      cargador co.putasora en vehicilo     1585532079     1585532128   \n",
       "3584011                    pendant gold chain     1579040066     1658453818   \n",
       "841328                    eartg colored shoes     1642706820     1642706960   \n",
       "5362805           turquoise and gold necklace     1579522328     1667614443   \n",
       "...                                       ...            ...            ...   \n",
       "1557094                    gopro gimbal karma     1587897227     1590849556   \n",
       "2234489                ruger lcp 380 magazine     1579020577     1669640608   \n",
       "4304572           thuốc kich dục nữ bán ở đâu     1588407671     1669605086   \n",
       "6550634                     tactical bag pack     1578802068     1662227324   \n",
       "6423388  roupas de bebe recem nacido feminino     1578012878     1646841573   \n",
       "\n",
       "             min_dt      max_dt  cnt        gmv sample_method  label_ordering  \n",
       "1759013  2020-03-29  2020-04-11   20   0.000000       uniform               0  \n",
       "1021172  2020-03-30  2020-03-30    5   0.000000       uniform               1  \n",
       "3584011  2020-01-15  2022-07-22   86   0.000000          head               2  \n",
       "841328   2022-01-21  2022-01-21    8   0.000000       uniform               3  \n",
       "5362805  2020-01-21  2022-11-05  290   9.790000          head               4  \n",
       "...             ...         ...  ...        ...           ...             ...  \n",
       "1557094  2020-04-27  2020-05-31    4   0.000000       uniform         9958435  \n",
       "2234489  2020-01-15  2022-11-29  200   0.000000          head         9958436  \n",
       "4304572  2020-05-03  2022-11-28  218   0.000000          head         9958437  \n",
       "6550634  2020-01-12  2022-09-04  222  16.965158          head         9958438  \n",
       "6423388  2020-01-03  2022-03-10  125   0.000000          head         9958439  \n",
       "\n",
       "[9958440 rows x 9 columns]"
      ]
     },
     "execution_count": 94,
     "metadata": {},
     "output_type": "execute_result"
    }
   ],
   "source": [
    "df_head_tail.to_json('wish_queries_with_timestamp_3yr_3wordsormore_sample_10M_headtail.json', line=True, orient='records')"
   ]
  },
  {
   "cell_type": "code",
   "execution_count": null,
   "metadata": {},
   "outputs": [],
   "source": []
  }
 ],
 "metadata": {
  "kernelspec": {
   "display_name": "Python 3",
   "language": "python",
   "name": "python3"
  },
  "language_info": {
   "codemirror_mode": {
    "name": "ipython",
    "version": 3
   },
   "file_extension": ".py",
   "mimetype": "text/x-python",
   "name": "python",
   "nbconvert_exporter": "python",
   "pygments_lexer": "ipython3",
   "version": "3.8.13"
  },
  "orig_nbformat": 4,
  "vscode": {
   "interpreter": {
    "hash": "949777d72b0d2535278d3dc13498b2535136f6dfe0678499012e853ee9abcab1"
   }
  }
 },
 "nbformat": 4,
 "nbformat_minor": 2
}
