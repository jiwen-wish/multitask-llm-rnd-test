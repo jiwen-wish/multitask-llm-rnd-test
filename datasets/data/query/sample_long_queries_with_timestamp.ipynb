{
 "cells": [
  {
   "cell_type": "code",
   "execution_count": 66,
   "metadata": {},
   "outputs": [],
   "source": [
    "import pandas as pd\n",
    "from tqdm import tqdm\n",
    "import random"
   ]
  },
  {
   "cell_type": "code",
   "execution_count": 67,
   "metadata": {},
   "outputs": [],
   "source": [
    "head_amount = 8000000\n",
    "tail_amount = 2000000"
   ]
  },
  {
   "cell_type": "code",
   "execution_count": 68,
   "metadata": {},
   "outputs": [],
   "source": [
    "from heapq import heappush, heappop"
   ]
  },
  {
   "cell_type": "code",
   "execution_count": 69,
   "metadata": {},
   "outputs": [],
   "source": [
    "head_heap = []\n",
    "tail_reservoir = []\n",
    "tail_reservoir_counter = 0"
   ]
  },
  {
   "cell_type": "code",
   "execution_count": 70,
   "metadata": {},
   "outputs": [],
   "source": [
    "class Record(object):\n",
    "    def __init__(self, cnt, rec):\n",
    "        self.cnt = cnt \n",
    "        self.rec = rec\n",
    "\n",
    "    # override \"less than\"\n",
    "    def __lt__(self, other):\n",
    "        return self.cnt < other.cnt\n",
    "    \n",
    "    def __le__(self, other):\n",
    "        return self.cnt <= other.cnt"
   ]
  },
  {
   "cell_type": "code",
   "execution_count": 71,
   "metadata": {},
   "outputs": [],
   "source": [
    "def build_head_heap(item):\n",
    "    heappush(head_heap, item)\n",
    "    if len(head_heap) > head_amount:\n",
    "        heappop(head_heap)"
   ]
  },
  {
   "cell_type": "code",
   "execution_count": 72,
   "metadata": {},
   "outputs": [],
   "source": [
    "def build_tail_reservoir(item):\n",
    "    global tail_reservoir_counter\n",
    "    if tail_reservoir_counter < tail_amount:\n",
    "        tail_reservoir.append(item)\n",
    "    else:\n",
    "        m = random.randint(0, tail_reservoir_counter)\n",
    "        if m < tail_amount:\n",
    "            tail_reservoir[m] = item\n",
    "    tail_reservoir_counter += 1"
   ]
  },
  {
   "cell_type": "code",
   "execution_count": 73,
   "metadata": {},
   "outputs": [
    {
     "name": "stderr",
     "output_type": "stream",
     "text": [
      "38652it [4:23:09,  2.45it/s]\n"
     ]
    }
   ],
   "source": [
    "for df in tqdm(pd.read_json('wish_queries_with_timestamp_3wordsormore.json', lines=True, chunksize=10000)):\n",
    "    for i in df.to_dict('records'):\n",
    "        build_head_heap(Record(int(i['cnt']), i))\n",
    "        build_tail_reservoir(i)"
   ]
  },
  {
   "cell_type": "code",
   "execution_count": 75,
   "metadata": {},
   "outputs": [
    {
     "data": {
      "text/plain": [
       "(2000000, 8000000)"
      ]
     },
     "execution_count": 75,
     "metadata": {},
     "output_type": "execute_result"
    }
   ],
   "source": [
    "len(tail_reservoir), len(head_heap)"
   ]
  },
  {
   "cell_type": "code",
   "execution_count": 76,
   "metadata": {},
   "outputs": [],
   "source": [
    "df_tail = pd.DataFrame(tail_reservoir)\n",
    "df_head = pd.DataFrame([i.rec for i in head_heap])"
   ]
  },
  {
   "cell_type": "code",
   "execution_count": 78,
   "metadata": {},
   "outputs": [],
   "source": [
    "head_queries = set(df_head['query'])"
   ]
  },
  {
   "cell_type": "code",
   "execution_count": 79,
   "metadata": {},
   "outputs": [],
   "source": [
    "df_tail_nooverlap = df_tail[df_tail['query'].apply(lambda x: x not in head_queries)]"
   ]
  },
  {
   "cell_type": "code",
   "execution_count": 80,
   "metadata": {},
   "outputs": [
    {
     "data": {
      "text/plain": [
       "1958440"
      ]
     },
     "execution_count": 80,
     "metadata": {},
     "output_type": "execute_result"
    }
   ],
   "source": [
    "len(df_tail_nooverlap)"
   ]
  },
  {
   "cell_type": "code",
   "execution_count": 81,
   "metadata": {},
   "outputs": [
    {
     "name": "stderr",
     "output_type": "stream",
     "text": [
      "/tmp/ipykernel_11253/3207592796.py:1: SettingWithCopyWarning: \n",
      "A value is trying to be set on a copy of a slice from a DataFrame.\n",
      "Try using .loc[row_indexer,col_indexer] = value instead\n",
      "\n",
      "See the caveats in the documentation: https://pandas.pydata.org/pandas-docs/stable/user_guide/indexing.html#returning-a-view-versus-a-copy\n",
      "  df_tail_nooverlap['sample_method'] = 'uniform'\n"
     ]
    }
   ],
   "source": [
    "df_tail_nooverlap['sample_method'] = 'uniform'\n",
    "df_head['sample_method'] = 'head'\n",
    "df_head_tail = pd.concat([df_head, df_tail_nooverlap])"
   ]
  },
  {
   "cell_type": "code",
   "execution_count": 86,
   "metadata": {},
   "outputs": [
    {
     "data": {
      "text/plain": [
       "(75.69147587114027, 0.49721621273490296)"
      ]
     },
     "execution_count": 86,
     "metadata": {},
     "output_type": "execute_result"
    }
   ],
   "source": [
    "df_head.gmv.mean(), df_tail_nooverlap.gmv.mean()"
   ]
  },
  {
   "cell_type": "code",
   "execution_count": 90,
   "metadata": {},
   "outputs": [],
   "source": [
    "df_head_tail = df_head_tail.sample(frac=1.0, random_state=42)"
   ]
  },
  {
   "cell_type": "code",
   "execution_count": 91,
   "metadata": {},
   "outputs": [],
   "source": [
    "assert len(set(df_head_tail['query'])) == len(df_head_tail)"
   ]
  },
  {
   "cell_type": "code",
   "execution_count": 93,
   "metadata": {},
   "outputs": [],
   "source": [
    "df_head_tail['label_ordering'] = list(range(len(df_head_tail)))"
   ]
  },
  {
   "cell_type": "code",
   "execution_count": 96,
   "metadata": {},
   "outputs": [],
   "source": [
    "df_head_tail.to_json('wish_queries_with_timestamp_3yr_3wordsormore_sample_10M_headtail.json', lines=True, orient='records')"
   ]
  },
  {
   "cell_type": "code",
   "execution_count": null,
   "metadata": {},
   "outputs": [],
   "source": []
  }
 ],
 "metadata": {
  "kernelspec": {
   "display_name": "Python 3",
   "language": "python",
   "name": "python3"
  },
  "language_info": {
   "codemirror_mode": {
    "name": "ipython",
    "version": 3
   },
   "file_extension": ".py",
   "mimetype": "text/x-python",
   "name": "python",
   "nbconvert_exporter": "python",
   "pygments_lexer": "ipython3",
   "version": "3.8.13"
  },
  "orig_nbformat": 4,
  "vscode": {
   "interpreter": {
    "hash": "949777d72b0d2535278d3dc13498b2535136f6dfe0678499012e853ee9abcab1"
   }
  }
 },
 "nbformat": 4,
 "nbformat_minor": 2
}
