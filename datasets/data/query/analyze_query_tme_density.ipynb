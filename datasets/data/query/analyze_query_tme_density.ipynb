{
 "cells": [
  {
   "cell_type": "code",
   "execution_count": 1,
   "metadata": {},
   "outputs": [],
   "source": [
    "import pandas as pd"
   ]
  },
  {
   "cell_type": "code",
   "execution_count": 2,
   "metadata": {},
   "outputs": [
    {
     "name": "stderr",
     "output_type": "stream",
     "text": [
      "/home/vscode/.local/lib/python3.8/site-packages/tqdm/auto.py:22: TqdmWarning: IProgress not found. Please update jupyter and ipywidgets. See https://ipywidgets.readthedocs.io/en/stable/user_install.html\n",
      "  from .autonotebook import tqdm as notebook_tqdm\n"
     ]
    }
   ],
   "source": [
    "from tqdm.auto import tqdm\n",
    "tqdm.pandas()"
   ]
  },
  {
   "cell_type": "code",
   "execution_count": 3,
   "metadata": {},
   "outputs": [],
   "source": [
    "df = pd.read_json('wish_queries_with_timestamp.json', lines=True)"
   ]
  },
  {
   "cell_type": "code",
   "execution_count": 4,
   "metadata": {},
   "outputs": [],
   "source": [
    "df['min_timestamp_datetime'] = pd.to_datetime(df['min_timestamp'], unit='s')"
   ]
  },
  {
   "cell_type": "code",
   "execution_count": 5,
   "metadata": {},
   "outputs": [],
   "source": [
    "df.set_index('min_timestamp_datetime', inplace=True)"
   ]
  },
  {
   "cell_type": "code",
   "execution_count": 6,
   "metadata": {},
   "outputs": [],
   "source": [
    "df = df.sort_index()"
   ]
  },
  {
   "cell_type": "code",
   "execution_count": 7,
   "metadata": {},
   "outputs": [
    {
     "data": {
      "text/html": [
       "<div>\n",
       "<style scoped>\n",
       "    .dataframe tbody tr th:only-of-type {\n",
       "        vertical-align: middle;\n",
       "    }\n",
       "\n",
       "    .dataframe tbody tr th {\n",
       "        vertical-align: top;\n",
       "    }\n",
       "\n",
       "    .dataframe thead th {\n",
       "        text-align: right;\n",
       "    }\n",
       "</style>\n",
       "<table border=\"1\" class=\"dataframe\">\n",
       "  <thead>\n",
       "    <tr style=\"text-align: right;\">\n",
       "      <th></th>\n",
       "      <th>query</th>\n",
       "      <th>min_timestamp</th>\n",
       "      <th>max_timestamp</th>\n",
       "      <th>min_dt</th>\n",
       "      <th>max_dt</th>\n",
       "      <th>cnt</th>\n",
       "      <th>gmv</th>\n",
       "    </tr>\n",
       "    <tr>\n",
       "      <th>min_timestamp_datetime</th>\n",
       "      <th></th>\n",
       "      <th></th>\n",
       "      <th></th>\n",
       "      <th></th>\n",
       "      <th></th>\n",
       "      <th></th>\n",
       "      <th></th>\n",
       "    </tr>\n",
       "  </thead>\n",
       "  <tbody>\n",
       "    <tr>\n",
       "      <th>2019-12-31 08:00:00</th>\n",
       "      <td>posters elefantes</td>\n",
       "      <td>1577779200</td>\n",
       "      <td>1655259026</td>\n",
       "      <td>2020-01-01</td>\n",
       "      <td>2022-06-15</td>\n",
       "      <td>145</td>\n",
       "      <td>0.000000e+00</td>\n",
       "    </tr>\n",
       "    <tr>\n",
       "      <th>2019-12-31 08:00:00</th>\n",
       "      <td>ben 10 toys</td>\n",
       "      <td>1577779200</td>\n",
       "      <td>1669795184</td>\n",
       "      <td>2020-01-01</td>\n",
       "      <td>2022-11-30</td>\n",
       "      <td>26952</td>\n",
       "      <td>2.796466e+03</td>\n",
       "    </tr>\n",
       "    <tr>\n",
       "      <th>2019-12-31 08:00:00</th>\n",
       "      <td>cover iphone 11 pro max</td>\n",
       "      <td>1577779200</td>\n",
       "      <td>1669794442</td>\n",
       "      <td>2020-01-01</td>\n",
       "      <td>2022-11-30</td>\n",
       "      <td>222735</td>\n",
       "      <td>1.558650e+04</td>\n",
       "    </tr>\n",
       "    <tr>\n",
       "      <th>2019-12-31 08:00:00</th>\n",
       "      <td>king and queen</td>\n",
       "      <td>1577779200</td>\n",
       "      <td>1669794566</td>\n",
       "      <td>2020-01-01</td>\n",
       "      <td>2022-11-30</td>\n",
       "      <td>717750</td>\n",
       "      <td>1.311209e+05</td>\n",
       "    </tr>\n",
       "    <tr>\n",
       "      <th>2019-12-31 08:00:00</th>\n",
       "      <td>electric bike</td>\n",
       "      <td>1577779200</td>\n",
       "      <td>1669795158</td>\n",
       "      <td>2020-01-01</td>\n",
       "      <td>2022-11-30</td>\n",
       "      <td>4111706</td>\n",
       "      <td>1.056199e+06</td>\n",
       "    </tr>\n",
       "    <tr>\n",
       "      <th>...</th>\n",
       "      <td>...</td>\n",
       "      <td>...</td>\n",
       "      <td>...</td>\n",
       "      <td>...</td>\n",
       "      <td>...</td>\n",
       "      <td>...</td>\n",
       "      <td>...</td>\n",
       "    </tr>\n",
       "    <tr>\n",
       "      <th>2022-11-30 07:59:56</th>\n",
       "      <td>moxa cone needld</td>\n",
       "      <td>1669795196</td>\n",
       "      <td>1669795196</td>\n",
       "      <td>2022-11-30</td>\n",
       "      <td>2022-11-30</td>\n",
       "      <td>1</td>\n",
       "      <td>0.000000e+00</td>\n",
       "    </tr>\n",
       "    <tr>\n",
       "      <th>2022-11-30 07:59:57</th>\n",
       "      <td>scheerapparaat heren mesjes philips 1000</td>\n",
       "      <td>1669795197</td>\n",
       "      <td>1669795198</td>\n",
       "      <td>2022-11-30</td>\n",
       "      <td>2022-11-30</td>\n",
       "      <td>2</td>\n",
       "      <td>0.000000e+00</td>\n",
       "    </tr>\n",
       "    <tr>\n",
       "      <th>2022-11-30 07:59:58</th>\n",
       "      <td>golden diamond krone handyhülle</td>\n",
       "      <td>1669795198</td>\n",
       "      <td>1669795198</td>\n",
       "      <td>2022-11-30</td>\n",
       "      <td>2022-11-30</td>\n",
       "      <td>1</td>\n",
       "      <td>0.000000e+00</td>\n",
       "    </tr>\n",
       "    <tr>\n",
       "      <th>2022-11-30 07:59:59</th>\n",
       "      <td>belt buckle with bezel</td>\n",
       "      <td>1669795199</td>\n",
       "      <td>1669795199</td>\n",
       "      <td>2022-11-30</td>\n",
       "      <td>2022-11-30</td>\n",
       "      <td>2</td>\n",
       "      <td>0.000000e+00</td>\n",
       "    </tr>\n",
       "    <tr>\n",
       "      <th>2022-11-30 07:59:59</th>\n",
       "      <td>repose tetiere canapé</td>\n",
       "      <td>1669795199</td>\n",
       "      <td>1669795199</td>\n",
       "      <td>2022-11-30</td>\n",
       "      <td>2022-11-30</td>\n",
       "      <td>1</td>\n",
       "      <td>0.000000e+00</td>\n",
       "    </tr>\n",
       "  </tbody>\n",
       "</table>\n",
       "<p>529100000 rows × 7 columns</p>\n",
       "</div>"
      ],
      "text/plain": [
       "                                                           query  \\\n",
       "min_timestamp_datetime                                             \n",
       "2019-12-31 08:00:00                            posters elefantes   \n",
       "2019-12-31 08:00:00                                  ben 10 toys   \n",
       "2019-12-31 08:00:00                      cover iphone 11 pro max   \n",
       "2019-12-31 08:00:00                               king and queen   \n",
       "2019-12-31 08:00:00                                electric bike   \n",
       "...                                                          ...   \n",
       "2022-11-30 07:59:56                             moxa cone needld   \n",
       "2022-11-30 07:59:57     scheerapparaat heren mesjes philips 1000   \n",
       "2022-11-30 07:59:58              golden diamond krone handyhülle   \n",
       "2022-11-30 07:59:59                       belt buckle with bezel   \n",
       "2022-11-30 07:59:59                        repose tetiere canapé   \n",
       "\n",
       "                        min_timestamp  max_timestamp      min_dt      max_dt  \\\n",
       "min_timestamp_datetime                                                         \n",
       "2019-12-31 08:00:00        1577779200     1655259026  2020-01-01  2022-06-15   \n",
       "2019-12-31 08:00:00        1577779200     1669795184  2020-01-01  2022-11-30   \n",
       "2019-12-31 08:00:00        1577779200     1669794442  2020-01-01  2022-11-30   \n",
       "2019-12-31 08:00:00        1577779200     1669794566  2020-01-01  2022-11-30   \n",
       "2019-12-31 08:00:00        1577779200     1669795158  2020-01-01  2022-11-30   \n",
       "...                               ...            ...         ...         ...   \n",
       "2022-11-30 07:59:56        1669795196     1669795196  2022-11-30  2022-11-30   \n",
       "2022-11-30 07:59:57        1669795197     1669795198  2022-11-30  2022-11-30   \n",
       "2022-11-30 07:59:58        1669795198     1669795198  2022-11-30  2022-11-30   \n",
       "2022-11-30 07:59:59        1669795199     1669795199  2022-11-30  2022-11-30   \n",
       "2022-11-30 07:59:59        1669795199     1669795199  2022-11-30  2022-11-30   \n",
       "\n",
       "                            cnt           gmv  \n",
       "min_timestamp_datetime                         \n",
       "2019-12-31 08:00:00         145  0.000000e+00  \n",
       "2019-12-31 08:00:00       26952  2.796466e+03  \n",
       "2019-12-31 08:00:00      222735  1.558650e+04  \n",
       "2019-12-31 08:00:00      717750  1.311209e+05  \n",
       "2019-12-31 08:00:00     4111706  1.056199e+06  \n",
       "...                         ...           ...  \n",
       "2022-11-30 07:59:56           1  0.000000e+00  \n",
       "2022-11-30 07:59:57           2  0.000000e+00  \n",
       "2022-11-30 07:59:58           1  0.000000e+00  \n",
       "2022-11-30 07:59:59           2  0.000000e+00  \n",
       "2022-11-30 07:59:59           1  0.000000e+00  \n",
       "\n",
       "[529100000 rows x 7 columns]"
      ]
     },
     "execution_count": 7,
     "metadata": {},
     "output_type": "execute_result"
    }
   ],
   "source": [
    "df"
   ]
  },
  {
   "cell_type": "code",
   "execution_count": 8,
   "metadata": {},
   "outputs": [],
   "source": [
    "from dateutil.relativedelta import relativedelta\n",
    "import numpy as np"
   ]
  },
  {
   "cell_type": "code",
   "execution_count": 9,
   "metadata": {},
   "outputs": [],
   "source": [
    "df_roll_s_count = df.rolling(window='1S')['query'].count()"
   ]
  },
  {
   "cell_type": "code",
   "execution_count": 10,
   "metadata": {},
   "outputs": [
    {
     "data": {
      "text/plain": [
       "<AxesSubplot: xlabel='min_timestamp_datetime'>"
      ]
     },
     "execution_count": 10,
     "metadata": {},
     "output_type": "execute_result"
    },
    {
     "data": {
      "image/png": "[encoded data removed]",
      "text/plain": [
       "<Figure size 640x480 with 1 Axes>"
      ]
     },
     "metadata": {},
     "output_type": "display_data"
    }
   ],
   "source": [
    "df_roll_s_count.apply(lambda x: np.log(x)).plot()"
   ]
  },
  {
   "cell_type": "code",
   "execution_count": 11,
   "metadata": {},
   "outputs": [
    {
     "data": {
      "text/plain": [
       "(7.1596399716499715, 5.0)"
      ]
     },
     "execution_count": 11,
     "metadata": {},
     "output_type": "execute_result"
    }
   ],
   "source": [
    "df_roll_s_count.mean(), df_roll_s_count.median()"
   ]
  },
  {
   "cell_type": "code",
   "execution_count": 12,
   "metadata": {},
   "outputs": [],
   "source": [
    "df_roll_s_count_gmvnonzero = df[df.gmv > 0].rolling(window='1S')['query'].count()\n",
    "df_roll_s_count_cntgt100 = df[df.cnt > 100].rolling(window='1S')['query'].count()"
   ]
  },
  {
   "cell_type": "code",
   "execution_count": 13,
   "metadata": {},
   "outputs": [
    {
     "data": {
      "text/plain": [
       "<AxesSubplot: xlabel='min_timestamp_datetime'>"
      ]
     },
     "execution_count": 13,
     "metadata": {},
     "output_type": "execute_result"
    },
    {
     "data": {
      "image/png": "[encoded data removed]",
      "text/plain": [
       "<Figure size 640x480 with 1 Axes>"
      ]
     },
     "metadata": {},
     "output_type": "display_data"
    }
   ],
   "source": [
    "df_roll_s_count_gmvnonzero.apply(lambda x: np.log(x)).plot()"
   ]
  },
  {
   "cell_type": "code",
   "execution_count": 14,
   "metadata": {},
   "outputs": [
    {
     "data": {
      "text/plain": [
       "<AxesSubplot: xlabel='min_timestamp_datetime'>"
      ]
     },
     "execution_count": 14,
     "metadata": {},
     "output_type": "execute_result"
    },
    {
     "data": {
      "image/png": "[encoded data removed]",
      "text/plain": [
       "<Figure size 640x480 with 1 Axes>"
      ]
     },
     "metadata": {},
     "output_type": "display_data"
    }
   ],
   "source": [
    "df_roll_s_count_cntgt100.apply(lambda x: np.log(x)).plot()"
   ]
  },
  {
   "cell_type": "code",
   "execution_count": 15,
   "metadata": {},
   "outputs": [
    {
     "data": {
      "text/plain": [
       "(2.059954738078277, 1.0)"
      ]
     },
     "execution_count": 15,
     "metadata": {},
     "output_type": "execute_result"
    }
   ],
   "source": [
    "df_roll_s_count_gmvnonzero.mean(), df_roll_s_count_gmvnonzero.median()"
   ]
  },
  {
   "cell_type": "code",
   "execution_count": 16,
   "metadata": {},
   "outputs": [
    {
     "data": {
      "text/plain": [
       "(3.53423154239845, 2.0)"
      ]
     },
     "execution_count": 16,
     "metadata": {},
     "output_type": "execute_result"
    }
   ],
   "source": [
    "df_roll_s_count_cntgt100.mean(), df_roll_s_count_cntgt100.median()"
   ]
  },
  {
   "cell_type": "code",
   "execution_count": 17,
   "metadata": {},
   "outputs": [
    {
     "data": {
      "text/plain": [
       "(160629.20841706742, 2942.026576350228)"
      ]
     },
     "execution_count": 17,
     "metadata": {},
     "output_type": "execute_result"
    }
   ],
   "source": [
    "np.exp(6) / (1/0.14) * .316 * 9000, np.exp(2) / (1/0.14) * .316 * 9000"
   ]
  },
  {
   "cell_type": "code",
   "execution_count": 18,
   "metadata": {},
   "outputs": [
    {
     "data": {
      "text/plain": [
       "7.142857142857142"
      ]
     },
     "execution_count": 18,
     "metadata": {},
     "output_type": "execute_result"
    }
   ],
   "source": [
    "1 / .14"
   ]
  },
  {
   "cell_type": "code",
   "execution_count": 19,
   "metadata": {},
   "outputs": [
    {
     "data": {
      "text/plain": [
       "600390043.5127572"
      ]
     },
     "execution_count": 19,
     "metadata": {},
     "output_type": "execute_result"
    }
   ],
   "source": [
    "df.gmv.sum() / 3"
   ]
  },
  {
   "cell_type": "code",
   "execution_count": 20,
   "metadata": {},
   "outputs": [
    {
     "data": {
      "text/plain": [
       "0.00026754107912479156"
      ]
     },
     "execution_count": 20,
     "metadata": {},
     "output_type": "execute_result"
    }
   ],
   "source": [
    "160629 / 600390043"
   ]
  },
  {
   "cell_type": "code",
   "execution_count": 22,
   "metadata": {},
   "outputs": [
    {
     "data": {
      "text/plain": [
       "7165963371.0"
      ]
     },
     "execution_count": 22,
     "metadata": {},
     "output_type": "execute_result"
    }
   ],
   "source": [
    "df.cnt.sum() / 3"
   ]
  },
  {
   "cell_type": "code",
   "execution_count": 23,
   "metadata": {},
   "outputs": [
    {
     "data": {
      "text/plain": [
       "40.631052944622944"
      ]
     },
     "execution_count": 23,
     "metadata": {},
     "output_type": "execute_result"
    }
   ],
   "source": [
    "df.cnt.sum() / len(df)"
   ]
  },
  {
   "cell_type": "code",
   "execution_count": 25,
   "metadata": {},
   "outputs": [
    {
     "data": {
      "text/plain": [
       "<AxesSubplot: ylabel='Frequency'>"
      ]
     },
     "execution_count": 25,
     "metadata": {},
     "output_type": "execute_result"
    },
    {
     "data": {
      "image/png": "[encoded data removed]",
      "text/plain": [
       "<Figure size 640x480 with 1 Axes>"
      ]
     },
     "metadata": {},
     "output_type": "display_data"
    }
   ],
   "source": [
    "df.cnt.apply(np.log).plot.hist()"
   ]
  },
  {
   "cell_type": "code",
   "execution_count": 27,
   "metadata": {},
   "outputs": [
    {
     "data": {
      "text/plain": [
       "<AxesSubplot: ylabel='Frequency'>"
      ]
     },
     "execution_count": 27,
     "metadata": {},
     "output_type": "execute_result"
    },
    {
     "data": {
      "image/png": "[encoded data removed]",
      "text/plain": [
       "<Figure size 640x480 with 1 Axes>"
      ]
     },
     "metadata": {},
     "output_type": "display_data"
    }
   ],
   "source": [
    "df.gmv.apply(lambda x: np.log(x + 1)).plot.hist()"
   ]
  },
  {
   "cell_type": "code",
   "execution_count": 33,
   "metadata": {},
   "outputs": [],
   "source": [
    "df_roll_s_count_max = df_roll_s_count.groupby('min_timestamp_datetime').max()"
   ]
  },
  {
   "cell_type": "code",
   "execution_count": 34,
   "metadata": {},
   "outputs": [
    {
     "data": {
      "text/plain": [
       "(278.0, 1.0, 7.629152423227022, 5.0)"
      ]
     },
     "execution_count": 34,
     "metadata": {},
     "output_type": "execute_result"
    }
   ],
   "source": [
    "df_roll_s_count_max.max(), df_roll_s_count_max.min(), df_roll_s_count_max.mean(), df_roll_s_count_max.median()"
   ]
  },
  {
   "cell_type": "code",
   "execution_count": 36,
   "metadata": {},
   "outputs": [
    {
     "data": {
      "text/plain": [
       "<AxesSubplot: xlabel='min_timestamp_datetime'>"
      ]
     },
     "execution_count": 36,
     "metadata": {},
     "output_type": "execute_result"
    },
    {
     "data": {
      "image/png": "[encoded data removed]",
      "text/plain": [
       "<Figure size 640x480 with 1 Axes>"
      ]
     },
     "metadata": {},
     "output_type": "display_data"
    }
   ],
   "source": [
    "df_roll_s_count_max.plot.line()"
   ]
  },
  {
   "cell_type": "code",
   "execution_count": 38,
   "metadata": {},
   "outputs": [
    {
     "data": {
      "text/plain": [
       "0.9657667794367795"
      ]
     },
     "execution_count": 38,
     "metadata": {},
     "output_type": "execute_result"
    }
   ],
   "source": [
    "(df.gmv == 0).mean()"
   ]
  },
  {
   "cell_type": "code",
   "execution_count": 39,
   "metadata": {},
   "outputs": [
    {
     "data": {
      "text/plain": [
       "0.9824899187299188"
      ]
     },
     "execution_count": 39,
     "metadata": {},
     "output_type": "execute_result"
    }
   ],
   "source": [
    "(df.cnt <= 100).mean()"
   ]
  },
  {
   "cell_type": "code",
   "execution_count": 40,
   "metadata": {},
   "outputs": [
    {
     "data": {
      "text/plain": [
       "0.9572420846720847"
      ]
     },
     "execution_count": 40,
     "metadata": {},
     "output_type": "execute_result"
    }
   ],
   "source": [
    "((df.cnt <= 100) & (df.gmv == 0)).mean()"
   ]
  },
  {
   "cell_type": "code",
   "execution_count": 42,
   "metadata": {},
   "outputs": [
    {
     "data": {
      "text/html": [
       "<div>\n",
       "<style scoped>\n",
       "    .dataframe tbody tr th:only-of-type {\n",
       "        vertical-align: middle;\n",
       "    }\n",
       "\n",
       "    .dataframe tbody tr th {\n",
       "        vertical-align: top;\n",
       "    }\n",
       "\n",
       "    .dataframe thead th {\n",
       "        text-align: right;\n",
       "    }\n",
       "</style>\n",
       "<table border=\"1\" class=\"dataframe\">\n",
       "  <thead>\n",
       "    <tr style=\"text-align: right;\">\n",
       "      <th></th>\n",
       "      <th>query</th>\n",
       "      <th>min_timestamp</th>\n",
       "      <th>max_timestamp</th>\n",
       "      <th>min_dt</th>\n",
       "      <th>max_dt</th>\n",
       "      <th>cnt</th>\n",
       "      <th>gmv</th>\n",
       "    </tr>\n",
       "    <tr>\n",
       "      <th>min_timestamp_datetime</th>\n",
       "      <th></th>\n",
       "      <th></th>\n",
       "      <th></th>\n",
       "      <th></th>\n",
       "      <th></th>\n",
       "      <th></th>\n",
       "      <th></th>\n",
       "    </tr>\n",
       "  </thead>\n",
       "  <tbody>\n",
       "    <tr>\n",
       "      <th>2020-04-27 07:03:20</th>\n",
       "      <td>5c7757f13a8f622f8886eead</td>\n",
       "      <td>1587971000</td>\n",
       "      <td>1645165949</td>\n",
       "      <td>2020-04-28</td>\n",
       "      <td>2022-02-18</td>\n",
       "      <td>1108629</td>\n",
       "      <td>0.0</td>\n",
       "    </tr>\n",
       "    <tr>\n",
       "      <th>2021-04-30 03:09:30</th>\n",
       "      <td>5d5163cae5ff890d638497d3</td>\n",
       "      <td>1619752170</td>\n",
       "      <td>1623472593</td>\n",
       "      <td>2021-04-30</td>\n",
       "      <td>2021-06-12</td>\n",
       "      <td>850413</td>\n",
       "      <td>0.0</td>\n",
       "    </tr>\n",
       "    <tr>\n",
       "      <th>2021-04-03 01:50:31</th>\n",
       "      <td>5fe064a01d4e4b488941bcdb</td>\n",
       "      <td>1617414631</td>\n",
       "      <td>1635149473</td>\n",
       "      <td>2021-04-03</td>\n",
       "      <td>2021-10-26</td>\n",
       "      <td>651195</td>\n",
       "      <td>0.0</td>\n",
       "    </tr>\n",
       "    <tr>\n",
       "      <th>2020-07-02 22:16:35</th>\n",
       "      <td>5eec31a996dd3b147cb89d4c</td>\n",
       "      <td>1593728195</td>\n",
       "      <td>1623389393</td>\n",
       "      <td>2020-07-03</td>\n",
       "      <td>2021-06-11</td>\n",
       "      <td>639971</td>\n",
       "      <td>0.0</td>\n",
       "    </tr>\n",
       "    <tr>\n",
       "      <th>2020-06-12 12:24:26</th>\n",
       "      <td>5dd6937fa27412a9251f1188</td>\n",
       "      <td>1591964666</td>\n",
       "      <td>1623439751</td>\n",
       "      <td>2020-06-13</td>\n",
       "      <td>2021-06-12</td>\n",
       "      <td>551774</td>\n",
       "      <td>0.0</td>\n",
       "    </tr>\n",
       "    <tr>\n",
       "      <th>...</th>\n",
       "      <td>...</td>\n",
       "      <td>...</td>\n",
       "      <td>...</td>\n",
       "      <td>...</td>\n",
       "      <td>...</td>\n",
       "      <td>...</td>\n",
       "      <td>...</td>\n",
       "    </tr>\n",
       "    <tr>\n",
       "      <th>2022-01-26 15:30:51</th>\n",
       "      <td>baytrry pressure washer</td>\n",
       "      <td>1643211051</td>\n",
       "      <td>1643211051</td>\n",
       "      <td>2022-01-27</td>\n",
       "      <td>2022-01-27</td>\n",
       "      <td>1</td>\n",
       "      <td>0.0</td>\n",
       "    </tr>\n",
       "    <tr>\n",
       "      <th>2020-02-03 21:20:57</th>\n",
       "      <td>print pavao</td>\n",
       "      <td>1580764857</td>\n",
       "      <td>1580764857</td>\n",
       "      <td>2020-02-04</td>\n",
       "      <td>2020-02-04</td>\n",
       "      <td>1</td>\n",
       "      <td>0.0</td>\n",
       "    </tr>\n",
       "    <tr>\n",
       "      <th>2021-04-18 08:05:45</th>\n",
       "      <td>mens pants fansgi</td>\n",
       "      <td>1618733145</td>\n",
       "      <td>1618733145</td>\n",
       "      <td>2021-04-19</td>\n",
       "      <td>2021-04-19</td>\n",
       "      <td>1</td>\n",
       "      <td>0.0</td>\n",
       "    </tr>\n",
       "    <tr>\n",
       "      <th>2021-04-18 08:05:46</th>\n",
       "      <td>macchine giocattolo sopra</td>\n",
       "      <td>1618733146</td>\n",
       "      <td>1618733146</td>\n",
       "      <td>2021-04-19</td>\n",
       "      <td>2021-04-19</td>\n",
       "      <td>1</td>\n",
       "      <td>0.0</td>\n",
       "    </tr>\n",
       "    <tr>\n",
       "      <th>2022-11-30 07:59:59</th>\n",
       "      <td>repose tetiere canapé</td>\n",
       "      <td>1669795199</td>\n",
       "      <td>1669795199</td>\n",
       "      <td>2022-11-30</td>\n",
       "      <td>2022-11-30</td>\n",
       "      <td>1</td>\n",
       "      <td>0.0</td>\n",
       "    </tr>\n",
       "  </tbody>\n",
       "</table>\n",
       "<p>510987203 rows × 7 columns</p>\n",
       "</div>"
      ],
      "text/plain": [
       "                                            query  min_timestamp  \\\n",
       "min_timestamp_datetime                                             \n",
       "2020-04-27 07:03:20      5c7757f13a8f622f8886eead     1587971000   \n",
       "2021-04-30 03:09:30      5d5163cae5ff890d638497d3     1619752170   \n",
       "2021-04-03 01:50:31      5fe064a01d4e4b488941bcdb     1617414631   \n",
       "2020-07-02 22:16:35      5eec31a996dd3b147cb89d4c     1593728195   \n",
       "2020-06-12 12:24:26      5dd6937fa27412a9251f1188     1591964666   \n",
       "...                                           ...            ...   \n",
       "2022-01-26 15:30:51       baytrry pressure washer     1643211051   \n",
       "2020-02-03 21:20:57                   print pavao     1580764857   \n",
       "2021-04-18 08:05:45             mens pants fansgi     1618733145   \n",
       "2021-04-18 08:05:46     macchine giocattolo sopra     1618733146   \n",
       "2022-11-30 07:59:59         repose tetiere canapé     1669795199   \n",
       "\n",
       "                        max_timestamp      min_dt      max_dt      cnt  gmv  \n",
       "min_timestamp_datetime                                                       \n",
       "2020-04-27 07:03:20        1645165949  2020-04-28  2022-02-18  1108629  0.0  \n",
       "2021-04-30 03:09:30        1623472593  2021-04-30  2021-06-12   850413  0.0  \n",
       "2021-04-03 01:50:31        1635149473  2021-04-03  2021-10-26   651195  0.0  \n",
       "2020-07-02 22:16:35        1623389393  2020-07-03  2021-06-11   639971  0.0  \n",
       "2020-06-12 12:24:26        1623439751  2020-06-13  2021-06-12   551774  0.0  \n",
       "...                               ...         ...         ...      ...  ...  \n",
       "2022-01-26 15:30:51        1643211051  2022-01-27  2022-01-27        1  0.0  \n",
       "2020-02-03 21:20:57        1580764857  2020-02-04  2020-02-04        1  0.0  \n",
       "2021-04-18 08:05:45        1618733145  2021-04-19  2021-04-19        1  0.0  \n",
       "2021-04-18 08:05:46        1618733146  2021-04-19  2021-04-19        1  0.0  \n",
       "2022-11-30 07:59:59        1669795199  2022-11-30  2022-11-30        1  0.0  \n",
       "\n",
       "[510987203 rows x 7 columns]"
      ]
     },
     "execution_count": 42,
     "metadata": {},
     "output_type": "execute_result"
    }
   ],
   "source": [
    "df[df.gmv == 0].sort_values('cnt', ascending=False)"
   ]
  },
  {
   "cell_type": "code",
   "execution_count": null,
   "metadata": {},
   "outputs": [],
   "source": []
  }
 ],
 "metadata": {
  "kernelspec": {
   "display_name": "Python 3",
   "language": "python",
   "name": "python3"
  },
  "language_info": {
   "codemirror_mode": {
    "name": "ipython",
    "version": 3
   },
   "file_extension": ".py",
   "mimetype": "text/x-python",
   "name": "python",
   "nbconvert_exporter": "python",
   "pygments_lexer": "ipython3",
   "version": "3.8.16"
  },
  "orig_nbformat": 4,
  "vscode": {
   "interpreter": {
    "hash": "949777d72b0d2535278d3dc13498b2535136f6dfe0678499012e853ee9abcab1"
   }
  }
 },
 "nbformat": 4,
 "nbformat_minor": 2
}
