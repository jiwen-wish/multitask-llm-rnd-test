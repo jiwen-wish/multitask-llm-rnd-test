{
 "cells": [
  {
   "cell_type": "code",
   "execution_count": 1,
   "metadata": {},
   "outputs": [],
   "source": [
    "import pandas as pd"
   ]
  },
  {
   "cell_type": "code",
   "execution_count": 2,
   "metadata": {},
   "outputs": [],
   "source": [
    "for df in pd.read_json('wish_queries_with_timestamp.json', lines=True, chunksize=10_000_000):\n",
    "    break"
   ]
  },
  {
   "cell_type": "code",
   "execution_count": 7,
   "metadata": {},
   "outputs": [],
   "source": [
    "df['min_timestamp_datetime'] = pd.to_datetime(df['min_timestamp'], unit='s')"
   ]
  },
  {
   "cell_type": "code",
   "execution_count": 8,
   "metadata": {},
   "outputs": [],
   "source": [
    "df.set_index('min_timestamp_datetime', inplace=True)"
   ]
  },
  {
   "cell_type": "code",
   "execution_count": 9,
   "metadata": {},
   "outputs": [],
   "source": [
    "df = df.sort_index()"
   ]
  },
  {
   "cell_type": "code",
   "execution_count": 10,
   "metadata": {},
   "outputs": [
    {
     "data": {
      "text/html": [
       "<div>\n",
       "<style scoped>\n",
       "    .dataframe tbody tr th:only-of-type {\n",
       "        vertical-align: middle;\n",
       "    }\n",
       "\n",
       "    .dataframe tbody tr th {\n",
       "        vertical-align: top;\n",
       "    }\n",
       "\n",
       "    .dataframe thead th {\n",
       "        text-align: right;\n",
       "    }\n",
       "</style>\n",
       "<table border=\"1\" class=\"dataframe\">\n",
       "  <thead>\n",
       "    <tr style=\"text-align: right;\">\n",
       "      <th></th>\n",
       "      <th>query</th>\n",
       "      <th>min_timestamp</th>\n",
       "      <th>max_timestamp</th>\n",
       "      <th>min_dt</th>\n",
       "      <th>max_dt</th>\n",
       "      <th>cnt</th>\n",
       "      <th>gmv</th>\n",
       "    </tr>\n",
       "    <tr>\n",
       "      <th>min_timestamp_datetime</th>\n",
       "      <th></th>\n",
       "      <th></th>\n",
       "      <th></th>\n",
       "      <th></th>\n",
       "      <th></th>\n",
       "      <th></th>\n",
       "      <th></th>\n",
       "    </tr>\n",
       "  </thead>\n",
       "  <tbody>\n",
       "    <tr>\n",
       "      <th>2019-12-31 08:00:00</th>\n",
       "      <td>shirts for women</td>\n",
       "      <td>1577779200</td>\n",
       "      <td>1669792114</td>\n",
       "      <td>2020-01-01</td>\n",
       "      <td>2022-11-30</td>\n",
       "      <td>3185186</td>\n",
       "      <td>234512.593750</td>\n",
       "    </tr>\n",
       "    <tr>\n",
       "      <th>2019-12-31 08:00:00</th>\n",
       "      <td>android phone</td>\n",
       "      <td>1577779200</td>\n",
       "      <td>1669794328</td>\n",
       "      <td>2020-01-01</td>\n",
       "      <td>2022-11-30</td>\n",
       "      <td>884806</td>\n",
       "      <td>243767.390625</td>\n",
       "    </tr>\n",
       "    <tr>\n",
       "      <th>2019-12-31 08:00:00</th>\n",
       "      <td>명품가방</td>\n",
       "      <td>1577779200</td>\n",
       "      <td>1669686827</td>\n",
       "      <td>2020-01-01</td>\n",
       "      <td>2022-11-29</td>\n",
       "      <td>45553</td>\n",
       "      <td>5851.184570</td>\n",
       "    </tr>\n",
       "    <tr>\n",
       "      <th>2019-12-31 08:00:00</th>\n",
       "      <td>dad gifts</td>\n",
       "      <td>1577779200</td>\n",
       "      <td>1669794822</td>\n",
       "      <td>2020-01-01</td>\n",
       "      <td>2022-11-30</td>\n",
       "      <td>232695</td>\n",
       "      <td>17935.265625</td>\n",
       "    </tr>\n",
       "    <tr>\n",
       "      <th>2019-12-31 08:00:00</th>\n",
       "      <td>brazilian human hair</td>\n",
       "      <td>1577779200</td>\n",
       "      <td>1669794328</td>\n",
       "      <td>2020-01-01</td>\n",
       "      <td>2022-11-30</td>\n",
       "      <td>208801</td>\n",
       "      <td>22065.035156</td>\n",
       "    </tr>\n",
       "    <tr>\n",
       "      <th>...</th>\n",
       "      <td>...</td>\n",
       "      <td>...</td>\n",
       "      <td>...</td>\n",
       "      <td>...</td>\n",
       "      <td>...</td>\n",
       "      <td>...</td>\n",
       "      <td>...</td>\n",
       "    </tr>\n",
       "    <tr>\n",
       "      <th>2022-11-30 07:59:52</th>\n",
       "      <td>teddybear case nintendo switch</td>\n",
       "      <td>1669795192</td>\n",
       "      <td>1669795192</td>\n",
       "      <td>2022-11-30</td>\n",
       "      <td>2022-11-30</td>\n",
       "      <td>1</td>\n",
       "      <td>0.000000</td>\n",
       "    </tr>\n",
       "    <tr>\n",
       "      <th>2022-11-30 07:59:53</th>\n",
       "      <td>tablets 8 inch win 10</td>\n",
       "      <td>1669795193</td>\n",
       "      <td>1669795193</td>\n",
       "      <td>2022-11-30</td>\n",
       "      <td>2022-11-30</td>\n",
       "      <td>2</td>\n",
       "      <td>0.000000</td>\n",
       "    </tr>\n",
       "    <tr>\n",
       "      <th>2022-11-30 07:59:54</th>\n",
       "      <td>14v battery chargers</td>\n",
       "      <td>1669795194</td>\n",
       "      <td>1669795195</td>\n",
       "      <td>2022-11-30</td>\n",
       "      <td>2022-11-30</td>\n",
       "      <td>2</td>\n",
       "      <td>0.000000</td>\n",
       "    </tr>\n",
       "    <tr>\n",
       "      <th>2022-11-30 07:59:56</th>\n",
       "      <td>moxa cone needld</td>\n",
       "      <td>1669795196</td>\n",
       "      <td>1669795196</td>\n",
       "      <td>2022-11-30</td>\n",
       "      <td>2022-11-30</td>\n",
       "      <td>1</td>\n",
       "      <td>0.000000</td>\n",
       "    </tr>\n",
       "    <tr>\n",
       "      <th>2022-11-30 07:59:59</th>\n",
       "      <td>belt buckle with bezel</td>\n",
       "      <td>1669795199</td>\n",
       "      <td>1669795199</td>\n",
       "      <td>2022-11-30</td>\n",
       "      <td>2022-11-30</td>\n",
       "      <td>2</td>\n",
       "      <td>0.000000</td>\n",
       "    </tr>\n",
       "  </tbody>\n",
       "</table>\n",
       "<p>10000000 rows × 7 columns</p>\n",
       "</div>"
      ],
      "text/plain": [
       "                                                 query  min_timestamp  \\\n",
       "min_timestamp_datetime                                                  \n",
       "2019-12-31 08:00:00                   shirts for women     1577779200   \n",
       "2019-12-31 08:00:00                      android phone     1577779200   \n",
       "2019-12-31 08:00:00                               명품가방     1577779200   \n",
       "2019-12-31 08:00:00                          dad gifts     1577779200   \n",
       "2019-12-31 08:00:00               brazilian human hair     1577779200   \n",
       "...                                                ...            ...   \n",
       "2022-11-30 07:59:52     teddybear case nintendo switch     1669795192   \n",
       "2022-11-30 07:59:53              tablets 8 inch win 10     1669795193   \n",
       "2022-11-30 07:59:54               14v battery chargers     1669795194   \n",
       "2022-11-30 07:59:56                   moxa cone needld     1669795196   \n",
       "2022-11-30 07:59:59             belt buckle with bezel     1669795199   \n",
       "\n",
       "                        max_timestamp      min_dt      max_dt      cnt  \\\n",
       "min_timestamp_datetime                                                   \n",
       "2019-12-31 08:00:00        1669792114  2020-01-01  2022-11-30  3185186   \n",
       "2019-12-31 08:00:00        1669794328  2020-01-01  2022-11-30   884806   \n",
       "2019-12-31 08:00:00        1669686827  2020-01-01  2022-11-29    45553   \n",
       "2019-12-31 08:00:00        1669794822  2020-01-01  2022-11-30   232695   \n",
       "2019-12-31 08:00:00        1669794328  2020-01-01  2022-11-30   208801   \n",
       "...                               ...         ...         ...      ...   \n",
       "2022-11-30 07:59:52        1669795192  2022-11-30  2022-11-30        1   \n",
       "2022-11-30 07:59:53        1669795193  2022-11-30  2022-11-30        2   \n",
       "2022-11-30 07:59:54        1669795195  2022-11-30  2022-11-30        2   \n",
       "2022-11-30 07:59:56        1669795196  2022-11-30  2022-11-30        1   \n",
       "2022-11-30 07:59:59        1669795199  2022-11-30  2022-11-30        2   \n",
       "\n",
       "                                  gmv  \n",
       "min_timestamp_datetime                 \n",
       "2019-12-31 08:00:00     234512.593750  \n",
       "2019-12-31 08:00:00     243767.390625  \n",
       "2019-12-31 08:00:00       5851.184570  \n",
       "2019-12-31 08:00:00      17935.265625  \n",
       "2019-12-31 08:00:00      22065.035156  \n",
       "...                               ...  \n",
       "2022-11-30 07:59:52          0.000000  \n",
       "2022-11-30 07:59:53          0.000000  \n",
       "2022-11-30 07:59:54          0.000000  \n",
       "2022-11-30 07:59:56          0.000000  \n",
       "2022-11-30 07:59:59          0.000000  \n",
       "\n",
       "[10000000 rows x 7 columns]"
      ]
     },
     "execution_count": 10,
     "metadata": {},
     "output_type": "execute_result"
    }
   ],
   "source": [
    "df"
   ]
  },
  {
   "cell_type": "code",
   "execution_count": 11,
   "metadata": {},
   "outputs": [],
   "source": [
    "from dateutil.relativedelta import relativedelta\n",
    "import numpy as np"
   ]
  },
  {
   "cell_type": "code",
   "execution_count": 12,
   "metadata": {},
   "outputs": [],
   "source": [
    "df_roll_s_count = df.rolling(window='1S')['query'].count()"
   ]
  },
  {
   "cell_type": "code",
   "execution_count": 13,
   "metadata": {},
   "outputs": [
    {
     "data": {
      "text/plain": [
       "<AxesSubplot: xlabel='min_timestamp_datetime'>"
      ]
     },
     "execution_count": 13,
     "metadata": {},
     "output_type": "execute_result"
    },
    {
     "data": {
      "image/png": "[encoded data removed]",
      "text/plain": [
       "<Figure size 640x480 with 1 Axes>"
      ]
     },
     "metadata": {},
     "output_type": "display_data"
    }
   ],
   "source": [
    "df_roll_s_count.apply(lambda x: np.log(x)).plot()"
   ]
  },
  {
   "cell_type": "code",
   "execution_count": 15,
   "metadata": {},
   "outputs": [
    {
     "data": {
      "text/plain": [
       "148.4131591025766"
      ]
     },
     "execution_count": 15,
     "metadata": {},
     "output_type": "execute_result"
    }
   ],
   "source": [
    "np.exp(5)"
   ]
  },
  {
   "cell_type": "code",
   "execution_count": 17,
   "metadata": {},
   "outputs": [
    {
     "data": {
      "text/plain": [
       "286781.376"
      ]
     },
     "execution_count": 17,
     "metadata": {},
     "output_type": "execute_result"
    }
   ],
   "source": [
    "(5 * 148 / (1 / 0.14)) * 0.316 * 8760"
   ]
  },
  {
   "cell_type": "code",
   "execution_count": null,
   "metadata": {},
   "outputs": [],
   "source": []
  }
 ],
 "metadata": {
  "kernelspec": {
   "display_name": "Python 3",
   "language": "python",
   "name": "python3"
  },
  "language_info": {
   "codemirror_mode": {
    "name": "ipython",
    "version": 3
   },
   "file_extension": ".py",
   "mimetype": "text/x-python",
   "name": "python",
   "nbconvert_exporter": "python",
   "pygments_lexer": "ipython3",
   "version": "3.8.13"
  },
  "orig_nbformat": 4,
  "vscode": {
   "interpreter": {
    "hash": "949777d72b0d2535278d3dc13498b2535136f6dfe0678499012e853ee9abcab1"
   }
  }
 },
 "nbformat": 4,
 "nbformat_minor": 2
}
