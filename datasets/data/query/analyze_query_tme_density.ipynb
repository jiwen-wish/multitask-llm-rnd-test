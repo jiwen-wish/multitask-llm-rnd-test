{
 "cells": [
  {
   "cell_type": "code",
   "execution_count": 1,
   "metadata": {},
   "outputs": [],
   "source": [
    "import pandas as pd"
   ]
  },
  {
   "cell_type": "code",
   "execution_count": null,
   "metadata": {},
   "outputs": [],
   "source": [
    "from tqdm.auto import tqdm\n",
    "tqdm.pandas()"
   ]
  },
  {
   "cell_type": "code",
   "execution_count": 2,
   "metadata": {},
   "outputs": [],
   "source": [
    "df = pd.read_json('wish_queries_with_timestamp.json', lines=True)"
   ]
  },
  {
   "cell_type": "code",
   "execution_count": 3,
   "metadata": {},
   "outputs": [],
   "source": [
    "df['min_timestamp_datetime'] = pd.to_datetime(df['min_timestamp'], unit='s')"
   ]
  },
  {
   "cell_type": "code",
   "execution_count": 4,
   "metadata": {},
   "outputs": [],
   "source": [
    "df.set_index('min_timestamp_datetime', inplace=True)"
   ]
  },
  {
   "cell_type": "code",
   "execution_count": 5,
   "metadata": {},
   "outputs": [],
   "source": [
    "df = df.sort_index()"
   ]
  },
  {
   "cell_type": "code",
   "execution_count": 6,
   "metadata": {},
   "outputs": [
    {
     "data": {
      "text/html": [
       "<div>\n",
       "<style scoped>\n",
       "    .dataframe tbody tr th:only-of-type {\n",
       "        vertical-align: middle;\n",
       "    }\n",
       "\n",
       "    .dataframe tbody tr th {\n",
       "        vertical-align: top;\n",
       "    }\n",
       "\n",
       "    .dataframe thead th {\n",
       "        text-align: right;\n",
       "    }\n",
       "</style>\n",
       "<table border=\"1\" class=\"dataframe\">\n",
       "  <thead>\n",
       "    <tr style=\"text-align: right;\">\n",
       "      <th></th>\n",
       "      <th>query</th>\n",
       "      <th>min_timestamp</th>\n",
       "      <th>max_timestamp</th>\n",
       "      <th>min_dt</th>\n",
       "      <th>max_dt</th>\n",
       "      <th>cnt</th>\n",
       "      <th>gmv</th>\n",
       "    </tr>\n",
       "    <tr>\n",
       "      <th>min_timestamp_datetime</th>\n",
       "      <th></th>\n",
       "      <th></th>\n",
       "      <th></th>\n",
       "      <th></th>\n",
       "      <th></th>\n",
       "      <th></th>\n",
       "      <th></th>\n",
       "    </tr>\n",
       "  </thead>\n",
       "  <tbody>\n",
       "    <tr>\n",
       "      <th>2019-12-31 08:00:00</th>\n",
       "      <td>posters elefantes</td>\n",
       "      <td>1577779200</td>\n",
       "      <td>1655259026</td>\n",
       "      <td>2020-01-01</td>\n",
       "      <td>2022-06-15</td>\n",
       "      <td>145</td>\n",
       "      <td>0.000000e+00</td>\n",
       "    </tr>\n",
       "    <tr>\n",
       "      <th>2019-12-31 08:00:00</th>\n",
       "      <td>ben 10 toys</td>\n",
       "      <td>1577779200</td>\n",
       "      <td>1669795184</td>\n",
       "      <td>2020-01-01</td>\n",
       "      <td>2022-11-30</td>\n",
       "      <td>26952</td>\n",
       "      <td>2.796466e+03</td>\n",
       "    </tr>\n",
       "    <tr>\n",
       "      <th>2019-12-31 08:00:00</th>\n",
       "      <td>cover iphone 11 pro max</td>\n",
       "      <td>1577779200</td>\n",
       "      <td>1669794442</td>\n",
       "      <td>2020-01-01</td>\n",
       "      <td>2022-11-30</td>\n",
       "      <td>222735</td>\n",
       "      <td>1.558650e+04</td>\n",
       "    </tr>\n",
       "    <tr>\n",
       "      <th>2019-12-31 08:00:00</th>\n",
       "      <td>king and queen</td>\n",
       "      <td>1577779200</td>\n",
       "      <td>1669794566</td>\n",
       "      <td>2020-01-01</td>\n",
       "      <td>2022-11-30</td>\n",
       "      <td>717750</td>\n",
       "      <td>1.311209e+05</td>\n",
       "    </tr>\n",
       "    <tr>\n",
       "      <th>2019-12-31 08:00:00</th>\n",
       "      <td>electric bike</td>\n",
       "      <td>1577779200</td>\n",
       "      <td>1669795158</td>\n",
       "      <td>2020-01-01</td>\n",
       "      <td>2022-11-30</td>\n",
       "      <td>4111706</td>\n",
       "      <td>1.056199e+06</td>\n",
       "    </tr>\n",
       "    <tr>\n",
       "      <th>...</th>\n",
       "      <td>...</td>\n",
       "      <td>...</td>\n",
       "      <td>...</td>\n",
       "      <td>...</td>\n",
       "      <td>...</td>\n",
       "      <td>...</td>\n",
       "      <td>...</td>\n",
       "    </tr>\n",
       "    <tr>\n",
       "      <th>2022-11-30 07:59:56</th>\n",
       "      <td>moxa cone needld</td>\n",
       "      <td>1669795196</td>\n",
       "      <td>1669795196</td>\n",
       "      <td>2022-11-30</td>\n",
       "      <td>2022-11-30</td>\n",
       "      <td>1</td>\n",
       "      <td>0.000000e+00</td>\n",
       "    </tr>\n",
       "    <tr>\n",
       "      <th>2022-11-30 07:59:57</th>\n",
       "      <td>scheerapparaat heren mesjes philips 1000</td>\n",
       "      <td>1669795197</td>\n",
       "      <td>1669795198</td>\n",
       "      <td>2022-11-30</td>\n",
       "      <td>2022-11-30</td>\n",
       "      <td>2</td>\n",
       "      <td>0.000000e+00</td>\n",
       "    </tr>\n",
       "    <tr>\n",
       "      <th>2022-11-30 07:59:58</th>\n",
       "      <td>golden diamond krone handyhülle</td>\n",
       "      <td>1669795198</td>\n",
       "      <td>1669795198</td>\n",
       "      <td>2022-11-30</td>\n",
       "      <td>2022-11-30</td>\n",
       "      <td>1</td>\n",
       "      <td>0.000000e+00</td>\n",
       "    </tr>\n",
       "    <tr>\n",
       "      <th>2022-11-30 07:59:59</th>\n",
       "      <td>belt buckle with bezel</td>\n",
       "      <td>1669795199</td>\n",
       "      <td>1669795199</td>\n",
       "      <td>2022-11-30</td>\n",
       "      <td>2022-11-30</td>\n",
       "      <td>2</td>\n",
       "      <td>0.000000e+00</td>\n",
       "    </tr>\n",
       "    <tr>\n",
       "      <th>2022-11-30 07:59:59</th>\n",
       "      <td>repose tetiere canapé</td>\n",
       "      <td>1669795199</td>\n",
       "      <td>1669795199</td>\n",
       "      <td>2022-11-30</td>\n",
       "      <td>2022-11-30</td>\n",
       "      <td>1</td>\n",
       "      <td>0.000000e+00</td>\n",
       "    </tr>\n",
       "  </tbody>\n",
       "</table>\n",
       "<p>529100000 rows × 7 columns</p>\n",
       "</div>"
      ],
      "text/plain": [
       "                                                           query  \\\n",
       "min_timestamp_datetime                                             \n",
       "2019-12-31 08:00:00                            posters elefantes   \n",
       "2019-12-31 08:00:00                                  ben 10 toys   \n",
       "2019-12-31 08:00:00                      cover iphone 11 pro max   \n",
       "2019-12-31 08:00:00                               king and queen   \n",
       "2019-12-31 08:00:00                                electric bike   \n",
       "...                                                          ...   \n",
       "2022-11-30 07:59:56                             moxa cone needld   \n",
       "2022-11-30 07:59:57     scheerapparaat heren mesjes philips 1000   \n",
       "2022-11-30 07:59:58              golden diamond krone handyhülle   \n",
       "2022-11-30 07:59:59                       belt buckle with bezel   \n",
       "2022-11-30 07:59:59                        repose tetiere canapé   \n",
       "\n",
       "                        min_timestamp  max_timestamp      min_dt      max_dt  \\\n",
       "min_timestamp_datetime                                                         \n",
       "2019-12-31 08:00:00        1577779200     1655259026  2020-01-01  2022-06-15   \n",
       "2019-12-31 08:00:00        1577779200     1669795184  2020-01-01  2022-11-30   \n",
       "2019-12-31 08:00:00        1577779200     1669794442  2020-01-01  2022-11-30   \n",
       "2019-12-31 08:00:00        1577779200     1669794566  2020-01-01  2022-11-30   \n",
       "2019-12-31 08:00:00        1577779200     1669795158  2020-01-01  2022-11-30   \n",
       "...                               ...            ...         ...         ...   \n",
       "2022-11-30 07:59:56        1669795196     1669795196  2022-11-30  2022-11-30   \n",
       "2022-11-30 07:59:57        1669795197     1669795198  2022-11-30  2022-11-30   \n",
       "2022-11-30 07:59:58        1669795198     1669795198  2022-11-30  2022-11-30   \n",
       "2022-11-30 07:59:59        1669795199     1669795199  2022-11-30  2022-11-30   \n",
       "2022-11-30 07:59:59        1669795199     1669795199  2022-11-30  2022-11-30   \n",
       "\n",
       "                            cnt           gmv  \n",
       "min_timestamp_datetime                         \n",
       "2019-12-31 08:00:00         145  0.000000e+00  \n",
       "2019-12-31 08:00:00       26952  2.796466e+03  \n",
       "2019-12-31 08:00:00      222735  1.558650e+04  \n",
       "2019-12-31 08:00:00      717750  1.311209e+05  \n",
       "2019-12-31 08:00:00     4111706  1.056199e+06  \n",
       "...                         ...           ...  \n",
       "2022-11-30 07:59:56           1  0.000000e+00  \n",
       "2022-11-30 07:59:57           2  0.000000e+00  \n",
       "2022-11-30 07:59:58           1  0.000000e+00  \n",
       "2022-11-30 07:59:59           2  0.000000e+00  \n",
       "2022-11-30 07:59:59           1  0.000000e+00  \n",
       "\n",
       "[529100000 rows x 7 columns]"
      ]
     },
     "execution_count": 6,
     "metadata": {},
     "output_type": "execute_result"
    }
   ],
   "source": [
    "df"
   ]
  },
  {
   "cell_type": "code",
   "execution_count": 7,
   "metadata": {},
   "outputs": [],
   "source": [
    "from dateutil.relativedelta import relativedelta\n",
    "import numpy as np"
   ]
  },
  {
   "cell_type": "code",
   "execution_count": 8,
   "metadata": {},
   "outputs": [],
   "source": [
    "df_roll_s_count = df.rolling(window='1S')['query'].count()"
   ]
  },
  {
   "cell_type": "code",
   "execution_count": 9,
   "metadata": {},
   "outputs": [
    {
     "name": "stderr",
     "output_type": "stream",
     "text": [
      "Matplotlib is building the font cache; this may take a moment.\n"
     ]
    },
    {
     "data": {
      "text/plain": [
       "<AxesSubplot: xlabel='min_timestamp_datetime'>"
      ]
     },
     "execution_count": 9,
     "metadata": {},
     "output_type": "execute_result"
    },
    {
     "data": {
      "image/png": "[encoded data removed]",
      "text/plain": [
       "<Figure size 640x480 with 1 Axes>"
      ]
     },
     "metadata": {},
     "output_type": "display_data"
    }
   ],
   "source": [
    "df_roll_s_count.apply(lambda x: np.log(x)).plot()"
   ]
  },
  {
   "cell_type": "code",
   "execution_count": 15,
   "metadata": {},
   "outputs": [
    {
     "data": {
      "text/plain": [
       "(403.4287934927351, 20.085536923187668)"
      ]
     },
     "execution_count": 15,
     "metadata": {},
     "output_type": "execute_result"
    }
   ],
   "source": [
    "np.exp(6), np.exp(3)"
   ]
  },
  {
   "cell_type": "code",
   "execution_count": 14,
   "metadata": {},
   "outputs": [
    {
     "data": {
      "text/plain": [
       "160458.48"
      ]
     },
     "execution_count": 14,
     "metadata": {},
     "output_type": "execute_result"
    }
   ],
   "source": [
    "403 / (1/0.14) * .316 * 9000"
   ]
  },
  {
   "cell_type": "code",
   "execution_count": 16,
   "metadata": {},
   "outputs": [
    {
     "data": {
      "text/plain": [
       "7963.200000000002"
      ]
     },
     "execution_count": 16,
     "metadata": {},
     "output_type": "execute_result"
    }
   ],
   "source": [
    "20 / (1/0.14) * .316 * 9000"
   ]
  },
  {
   "cell_type": "code",
   "execution_count": 18,
   "metadata": {},
   "outputs": [
    {
     "data": {
      "text/plain": [
       "7.1596399716499715"
      ]
     },
     "execution_count": 18,
     "metadata": {},
     "output_type": "execute_result"
    }
   ],
   "source": [
    "df_roll_s_count.mean(), df_roll_s_count.median()"
   ]
  },
  {
   "cell_type": "code",
   "execution_count": 19,
   "metadata": {},
   "outputs": [
    {
     "data": {
      "text/plain": [
       "7.142857142857142"
      ]
     },
     "execution_count": 19,
     "metadata": {},
     "output_type": "execute_result"
    }
   ],
   "source": [
    "1 / .14"
   ]
  },
  {
   "cell_type": "code",
   "execution_count": 20,
   "metadata": {},
   "outputs": [],
   "source": [
    "df_roll_s_count_gmvnonzero = df[df.gmv > 0].rolling(window='1S')['query'].count()\n",
    "df_roll_s_count_cntgt100 = df[df.cnt > 100].rolling(window='1S')['query'].count()"
   ]
  },
  {
   "cell_type": "code",
   "execution_count": null,
   "metadata": {},
   "outputs": [],
   "source": []
  }
 ],
 "metadata": {
  "kernelspec": {
   "display_name": "Python 3",
   "language": "python",
   "name": "python3"
  },
  "language_info": {
   "codemirror_mode": {
    "name": "ipython",
    "version": 3
   },
   "file_extension": ".py",
   "mimetype": "text/x-python",
   "name": "python",
   "nbconvert_exporter": "python",
   "pygments_lexer": "ipython3",
   "version": "3.8.16"
  },
  "orig_nbformat": 4,
  "vscode": {
   "interpreter": {
    "hash": "949777d72b0d2535278d3dc13498b2535136f6dfe0678499012e853ee9abcab1"
   }
  }
 },
 "nbformat": 4,
 "nbformat_minor": 2
}
