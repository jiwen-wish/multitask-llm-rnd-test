{
 "cells": [
  {
   "cell_type": "code",
   "execution_count": 1,
   "metadata": {},
   "outputs": [],
   "source": [
    "import pandas as pd"
   ]
  },
  {
   "cell_type": "code",
   "execution_count": 2,
   "metadata": {},
   "outputs": [],
   "source": [
    "df = pd.read_json('wish_queries_with_timestamp_3yr_all_sample_12M_headtail.json', lines=True)"
   ]
  },
  {
   "cell_type": "code",
   "execution_count": 5,
   "metadata": {},
   "outputs": [],
   "source": [
    "df_tail = df[df.sample_method == 'uniform']"
   ]
  },
  {
   "cell_type": "code",
   "execution_count": 6,
   "metadata": {},
   "outputs": [
    {
     "data": {
      "text/html": [
       "<div>\n",
       "<style scoped>\n",
       "    .dataframe tbody tr th:only-of-type {\n",
       "        vertical-align: middle;\n",
       "    }\n",
       "\n",
       "    .dataframe tbody tr th {\n",
       "        vertical-align: top;\n",
       "    }\n",
       "\n",
       "    .dataframe thead th {\n",
       "        text-align: right;\n",
       "    }\n",
       "</style>\n",
       "<table border=\"1\" class=\"dataframe\">\n",
       "  <thead>\n",
       "    <tr style=\"text-align: right;\">\n",
       "      <th></th>\n",
       "      <th>query</th>\n",
       "      <th>min_timestamp</th>\n",
       "      <th>max_timestamp</th>\n",
       "      <th>min_dt</th>\n",
       "      <th>max_dt</th>\n",
       "      <th>cnt</th>\n",
       "      <th>gmv</th>\n",
       "      <th>sample_method</th>\n",
       "      <th>label_ordering</th>\n",
       "    </tr>\n",
       "  </thead>\n",
       "  <tbody>\n",
       "    <tr>\n",
       "      <th>2</th>\n",
       "      <td>mens summer tee</td>\n",
       "      <td>1588359626</td>\n",
       "      <td>1641584512</td>\n",
       "      <td>2020-05-02</td>\n",
       "      <td>2022-01-08</td>\n",
       "      <td>25</td>\n",
       "      <td>0.000000</td>\n",
       "      <td>uniform</td>\n",
       "      <td>2</td>\n",
       "    </tr>\n",
       "    <tr>\n",
       "      <th>4</th>\n",
       "      <td>strass emblemen</td>\n",
       "      <td>1581023561</td>\n",
       "      <td>1581023561</td>\n",
       "      <td>2020-02-07</td>\n",
       "      <td>2020-02-07</td>\n",
       "      <td>1</td>\n",
       "      <td>0.000000</td>\n",
       "      <td>uniform</td>\n",
       "      <td>4</td>\n",
       "    </tr>\n",
       "    <tr>\n",
       "      <th>6</th>\n",
       "      <td>ponytail holder tube</td>\n",
       "      <td>1582646789</td>\n",
       "      <td>1582647215</td>\n",
       "      <td>2020-02-26</td>\n",
       "      <td>2020-02-26</td>\n",
       "      <td>20</td>\n",
       "      <td>0.000000</td>\n",
       "      <td>uniform</td>\n",
       "      <td>6</td>\n",
       "    </tr>\n",
       "    <tr>\n",
       "      <th>7</th>\n",
       "      <td>cavi hi res a banana</td>\n",
       "      <td>1646941530</td>\n",
       "      <td>1646941657</td>\n",
       "      <td>2022-03-11</td>\n",
       "      <td>2022-03-11</td>\n",
       "      <td>8</td>\n",
       "      <td>137.012543</td>\n",
       "      <td>uniform</td>\n",
       "      <td>7</td>\n",
       "    </tr>\n",
       "    <tr>\n",
       "      <th>9</th>\n",
       "      <td>bügel patches kpop</td>\n",
       "      <td>1578157068</td>\n",
       "      <td>1578157068</td>\n",
       "      <td>2020-01-05</td>\n",
       "      <td>2020-01-05</td>\n",
       "      <td>1</td>\n",
       "      <td>0.000000</td>\n",
       "      <td>uniform</td>\n",
       "      <td>9</td>\n",
       "    </tr>\n",
       "    <tr>\n",
       "      <th>...</th>\n",
       "      <td>...</td>\n",
       "      <td>...</td>\n",
       "      <td>...</td>\n",
       "      <td>...</td>\n",
       "      <td>...</td>\n",
       "      <td>...</td>\n",
       "      <td>...</td>\n",
       "      <td>...</td>\n",
       "      <td>...</td>\n",
       "    </tr>\n",
       "    <tr>\n",
       "      <th>11939635</th>\n",
       "      <td>red kitchen apple</td>\n",
       "      <td>1582500672</td>\n",
       "      <td>1582500672</td>\n",
       "      <td>2020-02-24</td>\n",
       "      <td>2020-02-24</td>\n",
       "      <td>1</td>\n",
       "      <td>0.000000</td>\n",
       "      <td>uniform</td>\n",
       "      <td>11939635</td>\n",
       "    </tr>\n",
       "    <tr>\n",
       "      <th>11939637</th>\n",
       "      <td>men cross over bag</td>\n",
       "      <td>1578561061</td>\n",
       "      <td>1667413632</td>\n",
       "      <td>2020-01-10</td>\n",
       "      <td>2022-11-03</td>\n",
       "      <td>69</td>\n",
       "      <td>0.000000</td>\n",
       "      <td>uniform</td>\n",
       "      <td>11939637</td>\n",
       "    </tr>\n",
       "    <tr>\n",
       "      <th>11939639</th>\n",
       "      <td>casesack</td>\n",
       "      <td>1580874463</td>\n",
       "      <td>1657639561</td>\n",
       "      <td>2020-02-05</td>\n",
       "      <td>2022-07-13</td>\n",
       "      <td>23</td>\n",
       "      <td>0.000000</td>\n",
       "      <td>uniform</td>\n",
       "      <td>11939639</td>\n",
       "    </tr>\n",
       "    <tr>\n",
       "      <th>11939640</th>\n",
       "      <td>magnesio potr</td>\n",
       "      <td>1625623490</td>\n",
       "      <td>1625623490</td>\n",
       "      <td>2021-07-07</td>\n",
       "      <td>2021-07-07</td>\n",
       "      <td>1</td>\n",
       "      <td>0.000000</td>\n",
       "      <td>uniform</td>\n",
       "      <td>11939640</td>\n",
       "    </tr>\n",
       "    <tr>\n",
       "      <th>11939643</th>\n",
       "      <td>robe danse tangongo</td>\n",
       "      <td>1625602413</td>\n",
       "      <td>1625602413</td>\n",
       "      <td>2021-07-07</td>\n",
       "      <td>2021-07-07</td>\n",
       "      <td>1</td>\n",
       "      <td>0.000000</td>\n",
       "      <td>uniform</td>\n",
       "      <td>11939643</td>\n",
       "    </tr>\n",
       "  </tbody>\n",
       "</table>\n",
       "<p>3939646 rows × 9 columns</p>\n",
       "</div>"
      ],
      "text/plain": [
       "                         query  min_timestamp  max_timestamp      min_dt  \\\n",
       "2              mens summer tee     1588359626     1641584512  2020-05-02   \n",
       "4              strass emblemen     1581023561     1581023561  2020-02-07   \n",
       "6         ponytail holder tube     1582646789     1582647215  2020-02-26   \n",
       "7         cavi hi res a banana     1646941530     1646941657  2022-03-11   \n",
       "9           bügel patches kpop     1578157068     1578157068  2020-01-05   \n",
       "...                        ...            ...            ...         ...   \n",
       "11939635     red kitchen apple     1582500672     1582500672  2020-02-24   \n",
       "11939637    men cross over bag     1578561061     1667413632  2020-01-10   \n",
       "11939639              casesack     1580874463     1657639561  2020-02-05   \n",
       "11939640         magnesio potr     1625623490     1625623490  2021-07-07   \n",
       "11939643   robe danse tangongo     1625602413     1625602413  2021-07-07   \n",
       "\n",
       "              max_dt  cnt         gmv sample_method  label_ordering  \n",
       "2         2022-01-08   25    0.000000       uniform               2  \n",
       "4         2020-02-07    1    0.000000       uniform               4  \n",
       "6         2020-02-26   20    0.000000       uniform               6  \n",
       "7         2022-03-11    8  137.012543       uniform               7  \n",
       "9         2020-01-05    1    0.000000       uniform               9  \n",
       "...              ...  ...         ...           ...             ...  \n",
       "11939635  2020-02-24    1    0.000000       uniform        11939635  \n",
       "11939637  2022-11-03   69    0.000000       uniform        11939637  \n",
       "11939639  2022-07-13   23    0.000000       uniform        11939639  \n",
       "11939640  2021-07-07    1    0.000000       uniform        11939640  \n",
       "11939643  2021-07-07    1    0.000000       uniform        11939643  \n",
       "\n",
       "[3939646 rows x 9 columns]"
      ]
     },
     "execution_count": 6,
     "metadata": {},
     "output_type": "execute_result"
    }
   ],
   "source": [
    "df_tail"
   ]
  },
  {
   "cell_type": "code",
   "execution_count": 7,
   "metadata": {},
   "outputs": [],
   "source": [
    "df_v3 = pd.read_json('/workspaces/multitask-llm-rnd/datasets/notebooks/quali_analysis_queryv0v2/query_classify_v3_20230315.json', lines=True)"
   ]
  },
  {
   "cell_type": "code",
   "execution_count": 9,
   "metadata": {},
   "outputs": [],
   "source": [
    "df_merge = df_v3.merge(df_tail[['query']], on = 'query')"
   ]
  },
  {
   "cell_type": "code",
   "execution_count": 10,
   "metadata": {},
   "outputs": [
    {
     "data": {
      "text/plain": [
       "15865"
      ]
     },
     "execution_count": 10,
     "metadata": {},
     "output_type": "execute_result"
    }
   ],
   "source": [
    "len(df_merge)"
   ]
  },
  {
   "cell_type": "code",
   "execution_count": 12,
   "metadata": {},
   "outputs": [],
   "source": [
    "df_merge_sample = df_merge.sample(1000, random_state=42)"
   ]
  },
  {
   "cell_type": "code",
   "execution_count": 15,
   "metadata": {},
   "outputs": [],
   "source": [
    "df_merge_sample.to_json('wish_queries_with_timestamp_3yr_all_sample_12M_headtail_uniformtail_overlap_with_v3_sample1000.json', lines=True, orient='records')"
   ]
  },
  {
   "cell_type": "code",
   "execution_count": null,
   "metadata": {},
   "outputs": [],
   "source": []
  }
 ],
 "metadata": {
  "kernelspec": {
   "display_name": "Python 3",
   "language": "python",
   "name": "python3"
  },
  "language_info": {
   "codemirror_mode": {
    "name": "ipython",
    "version": 3
   },
   "file_extension": ".py",
   "mimetype": "text/x-python",
   "name": "python",
   "nbconvert_exporter": "python",
   "pygments_lexer": "ipython3",
   "version": "3.8.13"
  },
  "orig_nbformat": 4,
  "vscode": {
   "interpreter": {
    "hash": "949777d72b0d2535278d3dc13498b2535136f6dfe0678499012e853ee9abcab1"
   }
  }
 },
 "nbformat": 4,
 "nbformat_minor": 2
}
