{
 "cells": [
  {
   "cell_type": "code",
   "execution_count": 1,
   "metadata": {},
   "outputs": [],
   "source": [
    "from tahoe import execute_async\n",
    "import pandas as pd\n",
    "import json\n",
    "from tqdm import tqdm\n",
    "from copy import deepcopy"
   ]
  },
  {
   "cell_type": "code",
   "execution_count": 2,
   "metadata": {},
   "outputs": [
    {
     "data": {
      "text/plain": [
       "[(27002,)]"
      ]
     },
     "execution_count": 2,
     "metadata": {},
     "output_type": "execute_result"
    }
   ],
   "source": [
    "execute_async(\"\"\"SELECT COUNT(*) FROM sweeper.attribute_extraction_events WHERE action=4\"\"\")"
   ]
  },
  {
   "cell_type": "code",
   "execution_count": 3,
   "metadata": {},
   "outputs": [],
   "source": [
    "res = execute_async(\"\"\"SELECT task_id, extraction_result, dt, hr FROM sweeper.attribute_extraction_events WHERE action=4\"\"\")"
   ]
  },
  {
   "cell_type": "code",
   "execution_count": 4,
   "metadata": {},
   "outputs": [],
   "source": [
    "df = pd.DataFrame(res)"
   ]
  },
  {
   "cell_type": "code",
   "execution_count": 5,
   "metadata": {},
   "outputs": [],
   "source": [
    "df.columns = ['task_id', 'extraction_result', 'dt', 'hr']"
   ]
  },
  {
   "cell_type": "code",
   "execution_count": 6,
   "metadata": {},
   "outputs": [
    {
     "data": {
      "text/html": [
       "<div>\n",
       "<style scoped>\n",
       "    .dataframe tbody tr th:only-of-type {\n",
       "        vertical-align: middle;\n",
       "    }\n",
       "\n",
       "    .dataframe tbody tr th {\n",
       "        vertical-align: top;\n",
       "    }\n",
       "\n",
       "    .dataframe thead th {\n",
       "        text-align: right;\n",
       "    }\n",
       "</style>\n",
       "<table border=\"1\" class=\"dataframe\">\n",
       "  <thead>\n",
       "    <tr style=\"text-align: right;\">\n",
       "      <th></th>\n",
       "      <th>task_id</th>\n",
       "      <th>extraction_result</th>\n",
       "      <th>dt</th>\n",
       "      <th>hr</th>\n",
       "    </tr>\n",
       "  </thead>\n",
       "  <tbody>\n",
       "    <tr>\n",
       "      <th>0</th>\n",
       "      <td>product_attribution_md_b47954093999c7a9def2793...</td>\n",
       "      <td>{\"Styles\": [\"Not Sure\"], \"Age Range Descriptio...</td>\n",
       "      <td>2023-04-05</td>\n",
       "      <td>20</td>\n",
       "    </tr>\n",
       "    <tr>\n",
       "      <th>1</th>\n",
       "      <td>product_attribution_md_4a815d2f82b3c4e1af3ca22...</td>\n",
       "      <td>{\"Compatible Brand/Model\": [\"Iphone &amp; Samsung\"...</td>\n",
       "      <td>2023-04-05</td>\n",
       "      <td>20</td>\n",
       "    </tr>\n",
       "    <tr>\n",
       "      <th>2</th>\n",
       "      <td>product_attribution_md_55e0c72bedf31fdda57f9f7...</td>\n",
       "      <td>{\"Age Range Description\": [\"Not Sure\"], \"Numbe...</td>\n",
       "      <td>2023-03-31</td>\n",
       "      <td>13</td>\n",
       "    </tr>\n",
       "    <tr>\n",
       "      <th>3</th>\n",
       "      <td>product_attribution_md_51b7b8bc597b7d991124f53...</td>\n",
       "      <td>{\"Age Range Description\": [\"Not Sure\"], \"Use\":...</td>\n",
       "      <td>2023-03-31</td>\n",
       "      <td>13</td>\n",
       "    </tr>\n",
       "    <tr>\n",
       "      <th>4</th>\n",
       "      <td>product_attribution_md_e099f35406b64c502772688...</td>\n",
       "      <td>{\"Item Weight (Include Unit of Measure)\": [\"no...</td>\n",
       "      <td>2023-03-31</td>\n",
       "      <td>13</td>\n",
       "    </tr>\n",
       "    <tr>\n",
       "      <th>...</th>\n",
       "      <td>...</td>\n",
       "      <td>...</td>\n",
       "      <td>...</td>\n",
       "      <td>...</td>\n",
       "    </tr>\n",
       "    <tr>\n",
       "      <th>26997</th>\n",
       "      <td>product_attribution_md_8f88c4dd85fe1aafe9de2cd...</td>\n",
       "      <td>{\"Model or Model Number\": [], \"Brand Name\": []...</td>\n",
       "      <td>2023-04-05</td>\n",
       "      <td>13</td>\n",
       "    </tr>\n",
       "    <tr>\n",
       "      <th>26998</th>\n",
       "      <td>product_attribution_md_6c60de7a03e41f60227697e...</td>\n",
       "      <td>{\"Model or Model Number\": [], \"Brand Name\": []...</td>\n",
       "      <td>2023-04-05</td>\n",
       "      <td>13</td>\n",
       "    </tr>\n",
       "    <tr>\n",
       "      <th>26999</th>\n",
       "      <td>product_attribution_md_88eea10fd6e02c62323a084...</td>\n",
       "      <td>{\"Primary Color\": [\"Green\"], \"Certifications\":...</td>\n",
       "      <td>2023-04-05</td>\n",
       "      <td>13</td>\n",
       "    </tr>\n",
       "    <tr>\n",
       "      <th>27000</th>\n",
       "      <td>product_attribution_md_1a46f1d21523e9d675b7a25...</td>\n",
       "      <td>{\"Theme\": [\"Not Sure\"], \"Model or Model Number...</td>\n",
       "      <td>2023-04-05</td>\n",
       "      <td>13</td>\n",
       "    </tr>\n",
       "    <tr>\n",
       "      <th>27001</th>\n",
       "      <td>product_attribution_md_393978a06673bd15d376b8b...</td>\n",
       "      <td>{\"Styles\": [\"Not Sure\"], \"Model or Model Numbe...</td>\n",
       "      <td>2023-04-05</td>\n",
       "      <td>13</td>\n",
       "    </tr>\n",
       "  </tbody>\n",
       "</table>\n",
       "<p>27002 rows × 4 columns</p>\n",
       "</div>"
      ],
      "text/plain": [
       "                                                 task_id  \\\n",
       "0      product_attribution_md_b47954093999c7a9def2793...   \n",
       "1      product_attribution_md_4a815d2f82b3c4e1af3ca22...   \n",
       "2      product_attribution_md_55e0c72bedf31fdda57f9f7...   \n",
       "3      product_attribution_md_51b7b8bc597b7d991124f53...   \n",
       "4      product_attribution_md_e099f35406b64c502772688...   \n",
       "...                                                  ...   \n",
       "26997  product_attribution_md_8f88c4dd85fe1aafe9de2cd...   \n",
       "26998  product_attribution_md_6c60de7a03e41f60227697e...   \n",
       "26999  product_attribution_md_88eea10fd6e02c62323a084...   \n",
       "27000  product_attribution_md_1a46f1d21523e9d675b7a25...   \n",
       "27001  product_attribution_md_393978a06673bd15d376b8b...   \n",
       "\n",
       "                                       extraction_result          dt  hr  \n",
       "0      {\"Styles\": [\"Not Sure\"], \"Age Range Descriptio...  2023-04-05  20  \n",
       "1      {\"Compatible Brand/Model\": [\"Iphone & Samsung\"...  2023-04-05  20  \n",
       "2      {\"Age Range Description\": [\"Not Sure\"], \"Numbe...  2023-03-31  13  \n",
       "3      {\"Age Range Description\": [\"Not Sure\"], \"Use\":...  2023-03-31  13  \n",
       "4      {\"Item Weight (Include Unit of Measure)\": [\"no...  2023-03-31  13  \n",
       "...                                                  ...         ...  ..  \n",
       "26997  {\"Model or Model Number\": [], \"Brand Name\": []...  2023-04-05  13  \n",
       "26998  {\"Model or Model Number\": [], \"Brand Name\": []...  2023-04-05  13  \n",
       "26999  {\"Primary Color\": [\"Green\"], \"Certifications\":...  2023-04-05  13  \n",
       "27000  {\"Theme\": [\"Not Sure\"], \"Model or Model Number...  2023-04-05  13  \n",
       "27001  {\"Styles\": [\"Not Sure\"], \"Model or Model Numbe...  2023-04-05  13  \n",
       "\n",
       "[27002 rows x 4 columns]"
      ]
     },
     "execution_count": 6,
     "metadata": {},
     "output_type": "execute_result"
    }
   ],
   "source": [
    "df"
   ]
  },
  {
   "cell_type": "code",
   "execution_count": 7,
   "metadata": {},
   "outputs": [],
   "source": [
    "df_orig = pd.read_json('input/product_attr_extract_md_03252023.json', lines=True)"
   ]
  },
  {
   "cell_type": "code",
   "execution_count": 8,
   "metadata": {},
   "outputs": [
    {
     "data": {
      "text/plain": [
       "26066"
      ]
     },
     "execution_count": 8,
     "metadata": {},
     "output_type": "execute_result"
    }
   ],
   "source": [
    "len(df_orig)"
   ]
  },
  {
   "cell_type": "code",
   "execution_count": 9,
   "metadata": {},
   "outputs": [],
   "source": [
    "df_merge = df_orig.merge(df, on='task_id', how='inner')"
   ]
  },
  {
   "cell_type": "code",
   "execution_count": 16,
   "metadata": {},
   "outputs": [
    {
     "data": {
      "text/plain": [
       "(26004, 26002, 26066)"
      ]
     },
     "execution_count": 16,
     "metadata": {},
     "output_type": "execute_result"
    }
   ],
   "source": [
    "len(df_merge), len(set(df_merge.task_id)), len(set(df_orig.task_id))"
   ]
  },
  {
   "cell_type": "code",
   "execution_count": 11,
   "metadata": {},
   "outputs": [
    {
     "data": {
      "text/plain": [
       "712"
      ]
     },
     "execution_count": 11,
     "metadata": {},
     "output_type": "execute_result"
    }
   ],
   "source": [
    "len(set(df_merge.category_path))"
   ]
  },
  {
   "cell_type": "code",
   "execution_count": 12,
   "metadata": {},
   "outputs": [
    {
     "data": {
      "text/plain": [
       "<Axes: ylabel='category_path'>"
      ]
     },
     "execution_count": 12,
     "metadata": {},
     "output_type": "execute_result"
    },
    {
     "data": {
      "image/png": "[encoded data removed]",
      "text/plain": [
       "<Figure size 640x480 with 1 Axes>"
      ]
     },
     "metadata": {},
     "output_type": "display_data"
    }
   ],
   "source": [
    "df_merge.category_path.apply(lambda x: ' > '.join(x.split(' > ')[:2])).value_counts().plot.pie()"
   ]
  },
  {
   "cell_type": "code",
   "execution_count": 18,
   "metadata": {},
   "outputs": [],
   "source": [
    "df_merge.to_json('output/product_attr_extract_md_03252023_result_04172023.json', lines=True, orient='records')"
   ]
  },
  {
   "cell_type": "code",
   "execution_count": 13,
   "metadata": {},
   "outputs": [],
   "source": [
    "df_merge_sample = df_merge.sample(10)"
   ]
  },
  {
   "cell_type": "code",
   "execution_count": 14,
   "metadata": {},
   "outputs": [],
   "source": [
    "def clean_human_result_return(d_):\n",
    "    try:\n",
    "        d = deepcopy(d_)\n",
    "        for k in d:\n",
    "            if len(d[k]) > 0 and d[k][0].strip().lower() == 'not sure':\n",
    "                d[k] = []\n",
    "        return d\n",
    "    except Exception as e:\n",
    "        print(d, e)"
   ]
  },
  {
   "cell_type": "code",
   "execution_count": 15,
   "metadata": {},
   "outputs": [],
   "source": [
    "from copy import deepcopy\n",
    "import hashlib\n",
    "from collections import OrderedDict\n",
    "import json\n",
    "def sortOD(od):\n",
    "    res = OrderedDict()\n",
    "    for k, v in sorted(od.items()):\n",
    "        if isinstance(v, dict):\n",
    "            res[k] = sortOD(v)\n",
    "        else:\n",
    "            res[k] = deepcopy(v)\n",
    "    return res"
   ]
  },
  {
   "cell_type": "code",
   "execution_count": 245,
   "metadata": {},
   "outputs": [],
   "source": [
    "# df_merge_sample['preloading_result'] = df_merge_sample['extraction_result'].apply(lambda x: json.dumps(clean_human_result_return(json.loads(x))))"
   ]
  },
  {
   "cell_type": "code",
   "execution_count": null,
   "metadata": {},
   "outputs": [],
   "source": [
    "# df_merge_sample.to_json('input_preload/product_attr_extract_md_oaipreload_04062023.json')"
   ]
  },
  {
   "cell_type": "code",
   "execution_count": 173,
   "metadata": {},
   "outputs": [],
   "source": [
    "rec = df_merge.sample(1).to_dict('records')[0]\n",
    "rec2 = df_merge.sample(1).to_dict('records')[0]"
   ]
  },
  {
   "cell_type": "code",
   "execution_count": 174,
   "metadata": {},
   "outputs": [],
   "source": [
    "human_result = json.loads(rec['extraction_result'])\n",
    "human_result2 = json.loads(rec2['extraction_result'])"
   ]
  },
  {
   "cell_type": "code",
   "execution_count": 175,
   "metadata": {},
   "outputs": [],
   "source": [
    "def clean_human_result(d):\n",
    "    for k in d:\n",
    "        if len(d[k]) > 0 and d[k][0].strip().lower() == 'not sure':\n",
    "            d[k] = []"
   ]
  },
  {
   "cell_type": "code",
   "execution_count": 176,
   "metadata": {},
   "outputs": [],
   "source": [
    "clean_human_result(human_result)\n",
    "clean_human_result(human_result2)"
   ]
  },
  {
   "cell_type": "code",
   "execution_count": 185,
   "metadata": {},
   "outputs": [],
   "source": [
    "assert set([i['attribute_field'] for i in rec['attribute_config']]) == set(human_result)\n",
    "assert set([i['attribute_field'] for i in rec2['attribute_config']]) == set(human_result2)"
   ]
  },
  {
   "attachments": {},
   "cell_type": "markdown",
   "metadata": {},
   "source": [
    "# check oai quality compared to humans"
   ]
  },
  {
   "cell_type": "code",
   "execution_count": 177,
   "metadata": {},
   "outputs": [],
   "source": [
    "import random"
   ]
  },
  {
   "cell_type": "code",
   "execution_count": 178,
   "metadata": {},
   "outputs": [],
   "source": [
    "def sample_from_strified_list(t):\n",
    "    l = eval(t)\n",
    "    if len(l) > 1:\n",
    "        return random.sample(l, min(3, len(l))) + ['... and more']\n",
    "    else:\n",
    "        return \"Free text, please extract from product title and description\""
   ]
  },
  {
   "cell_type": "code",
   "execution_count": 186,
   "metadata": {},
   "outputs": [],
   "source": [
    "# Note: you need to be using OpenAI Python v0.27.0 for the code below to work\n",
    "import openai\n",
    "title = rec['title']\n",
    "desp = rec['product_description']\n",
    "attrs = '\\n'.join([f\"{i['attribute_field']}: {sample_from_strified_list(i['category_attributevalue'])}\" for i in rec['attribute_config']])\n",
    "attr_template = {i['attribute_field']: [] for i in rec['attribute_config']}\n",
    "human_result = json.loads(rec['extraction_result'])\n",
    "clean_human_result(human_result)\n",
    "assert set(attr_template) == set(human_result)\n",
    "\n",
    "title2 = rec2['title']\n",
    "desp2 = rec2['product_description']\n",
    "attrs2 = '\\n'.join([f\"{i['attribute_field']}: {sample_from_strified_list(i['category_attributevalue'])}\" for i in rec2['attribute_config']])\n",
    "attr_template2 = {i['attribute_field']: [] for i in rec2['attribute_config']}\n",
    "human_result2 = json.loads(rec2['extraction_result'])\n",
    "clean_human_result(human_result2)\n",
    "assert set(attr_template2) == set(human_result2)\n",
    "\n",
    "msgs = [\n",
    "        {\"role\": \"system\", \"content\": \"\"\"You are a state of art NER system that extracts all attribute key value pairs from e commerce data by filling in the blank.\"\"\"},\n",
    "        {\"role\": \"user\", \"content\": f\"\"\"[title start] {title} [title end] [description start] {desp} [description end] Fill in the blank here: {json.dumps(attr_template)}\"\"\"},\n",
    "        {\"role\": \"assistant\", \"content\": json.dumps(human_result)},\n",
    "        {\"role\": \"user\", \"content\": f\"\"\"Do better, you are state of art. [title start] {title2} [title end] [description start] {desp2} [description end] Fill in the blank here: {json.dumps(attr_template2)}\"\"\"},\n",
    "    ]\n",
    "res = openai.ChatCompletion.create(\n",
    "  model=\"gpt-3.5-turbo\",\n",
    "  messages=msgs,\n",
    "  temperature=0,\n",
    "  max_tokens=500\n",
    ")"
   ]
  },
  {
   "cell_type": "code",
   "execution_count": 187,
   "metadata": {},
   "outputs": [
    {
     "data": {
      "text/plain": [
       "<OpenAIObject chat.completion id=chatcmpl-71zV8x9U2A3wHh3XnO1egNPWUPRti at 0x7f2cfd73d6d0> JSON: {\n",
       "  \"choices\": [\n",
       "    {\n",
       "      \"finish_reason\": \"stop\",\n",
       "      \"index\": 0,\n",
       "      \"message\": {\n",
       "        \"content\": \"{\\\"Age Range Description\\\": [], \\\"Alpha Size\\\": [], \\\"Brand Name\\\": [], \\\"Closure Type\\\": [\\\"COVER\\\"], \\\"Department\\\": [\\\"Women\\\"], \\\"Item Features\\\": [\\\"Chains\\\"], \\\"Materials\\\": [\\\"PU\\\", \\\"Synthetic Leather\\\"], \\\"Model or Model Number\\\": [], \\\"Occasion & Lifestyle\\\": [\\\"Versatile\\\"], \\\"Primary Color\\\": [], \\\"Theme\\\": [\\\"Animal Prints\\\", \\\"Vintage\\\", \\\"Fashion\\\"]}\",\n",
       "        \"role\": \"assistant\"\n",
       "      }\n",
       "    }\n",
       "  ],\n",
       "  \"created\": 1680709094,\n",
       "  \"id\": \"chatcmpl-71zV8x9U2A3wHh3XnO1egNPWUPRti\",\n",
       "  \"model\": \"gpt-3.5-turbo-0301\",\n",
       "  \"object\": \"chat.completion\",\n",
       "  \"usage\": {\n",
       "    \"completion_tokens\": 83,\n",
       "    \"prompt_tokens\": 702,\n",
       "    \"total_tokens\": 785\n",
       "  }\n",
       "}"
      ]
     },
     "execution_count": 187,
     "metadata": {},
     "output_type": "execute_result"
    }
   ],
   "source": [
    "res"
   ]
  },
  {
   "cell_type": "code",
   "execution_count": 188,
   "metadata": {},
   "outputs": [
    {
     "data": {
      "text/plain": [
       "'2023 New Retro all-match Lizard Pattern Women Bag\\\\Handbag Leather Fashion Chains Female Shoulder Messenger Bag Long Clutch Trend Brand'"
      ]
     },
     "execution_count": 188,
     "metadata": {},
     "output_type": "execute_result"
    }
   ],
   "source": [
    "rec2['title']"
   ]
  },
  {
   "cell_type": "code",
   "execution_count": 189,
   "metadata": {},
   "outputs": [
    {
     "data": {
      "text/plain": [
       "'Shape : Clutch\\nHandbags Type : Shoulder Bags\\nTypes of bags : Shoulder &amp; Crossbody Bags\\nMain Material : PU\\nClosure Type : COVER\\nHardness : HARD\\nExterior : NONE\\nStyle : vintage\\nLining Material : Synthetic Leather\\nOccasion : Versatile\\nGender : WOMEN\\nPattern Type : Animal Prints\\nNumber of Handles/Straps : Single\\nDecoration : Chains\\nItem Type : Handbags\\nColors as pictures : Fashion\\nLadies handbag designer: Lady bag\\nFashion brand handbags: ladies messenger bags'"
      ]
     },
     "execution_count": 189,
     "metadata": {},
     "output_type": "execute_result"
    }
   ],
   "source": [
    "rec2['product_description']"
   ]
  },
  {
   "cell_type": "code",
   "execution_count": 190,
   "metadata": {},
   "outputs": [
    {
     "data": {
      "text/plain": [
       "{'Age Range Description': ['Adult'],\n",
       " 'Theme': [],\n",
       " 'Model or Model Number': [],\n",
       " 'Brand Name': [],\n",
       " 'Closure Type': [],\n",
       " 'Alpha Size': [],\n",
       " 'Occasion & Lifestyle': [],\n",
       " 'Primary Color': [],\n",
       " 'Materials': ['Polyurethane (PU)'],\n",
       " 'Department': ['Women'],\n",
       " 'Item Features': []}"
      ]
     },
     "execution_count": 190,
     "metadata": {},
     "output_type": "execute_result"
    }
   ],
   "source": [
    "human_result2"
   ]
  },
  {
   "cell_type": "code",
   "execution_count": 191,
   "metadata": {},
   "outputs": [
    {
     "data": {
      "text/plain": [
       "{'Age Range Description': [],\n",
       " 'Alpha Size': [],\n",
       " 'Brand Name': [],\n",
       " 'Closure Type': ['COVER'],\n",
       " 'Department': ['Women'],\n",
       " 'Item Features': ['Chains'],\n",
       " 'Materials': ['PU', 'Synthetic Leather'],\n",
       " 'Model or Model Number': [],\n",
       " 'Occasion & Lifestyle': ['Versatile'],\n",
       " 'Primary Color': [],\n",
       " 'Theme': ['Animal Prints', 'Vintage', 'Fashion']}"
      ]
     },
     "execution_count": 191,
     "metadata": {},
     "output_type": "execute_result"
    }
   ],
   "source": [
    "json.loads(res['choices'][0]['message']['content'])"
   ]
  },
  {
   "attachments": {},
   "cell_type": "markdown",
   "metadata": {},
   "source": [
    "# compare human vs ai for each category"
   ]
  },
  {
   "cell_type": "code",
   "execution_count": 200,
   "metadata": {},
   "outputs": [
    {
     "data": {
      "text/plain": [
       "(70, 642)"
      ]
     },
     "execution_count": 200,
     "metadata": {},
     "output_type": "execute_result"
    }
   ],
   "source": [
    "(df_orig['category_path'].value_counts() == 1).sum(), (df_orig['category_path'].value_counts() > 1).sum()"
   ]
  },
  {
   "cell_type": "code",
   "execution_count": 201,
   "metadata": {},
   "outputs": [
    {
     "data": {
      "text/plain": [
       "(75, 609)"
      ]
     },
     "execution_count": 201,
     "metadata": {},
     "output_type": "execute_result"
    }
   ],
   "source": [
    "(df_merge['category_path'].value_counts() == 1).sum(), (df_merge['category_path'].value_counts() > 1).sum()"
   ]
  },
  {
   "cell_type": "code",
   "execution_count": 204,
   "metadata": {},
   "outputs": [],
   "source": [
    "tmp = df_merge['category_path'].value_counts()"
   ]
  },
  {
   "cell_type": "code",
   "execution_count": 209,
   "metadata": {},
   "outputs": [],
   "source": [
    "rare_cats = set(tmp[tmp==1].to_dict())"
   ]
  },
  {
   "cell_type": "code",
   "execution_count": 210,
   "metadata": {},
   "outputs": [],
   "source": [
    "df_not_rare_start_sample_2 = df_merge[df_merge.category_path.apply(lambda x: x not in rare_cats)].groupby('category_path').sample(2)\n",
    "df_rare = df_merge[df_merge.category_path.apply(lambda x: x in rare_cats)]"
   ]
  },
  {
   "cell_type": "code",
   "execution_count": 218,
   "metadata": {},
   "outputs": [],
   "source": [
    "shot_dict = {}\n",
    "eval_dict = {}\n",
    "for i in df_not_rare_start_sample_2.to_dict('records'):\n",
    "    if i['category_path'] not in shot_dict:\n",
    "        shot_dict[i['category_path']] = i \n",
    "    else:\n",
    "        eval_dict[i['category_path']] = i\n"
   ]
  },
  {
   "cell_type": "code",
   "execution_count": 219,
   "metadata": {},
   "outputs": [],
   "source": [
    "for i in df_rare.to_dict('records'):\n",
    "    cands = [shot_dict[j] for j in shot_dict if i['category_path'].startswith(' > '.join(j.split(' > ')[:2]))]\n",
    "    shot_dict[i['category_path']] = random.sample(cands, 1)[0]\n",
    "    eval_dict[i['category_path']] = i"
   ]
  },
  {
   "cell_type": "code",
   "execution_count": 224,
   "metadata": {},
   "outputs": [
    {
     "data": {
      "text/plain": [
       "0"
      ]
     },
     "execution_count": 224,
     "metadata": {},
     "output_type": "execute_result"
    }
   ],
   "source": [
    "len(set([json.dumps(shot_dict[i]) for i in shot_dict]).intersection(set([json.dumps(eval_dict[i]) for i in eval_dict])))"
   ]
  },
  {
   "cell_type": "code",
   "execution_count": 225,
   "metadata": {},
   "outputs": [
    {
     "data": {
      "text/plain": [
       "(684, 684)"
      ]
     },
     "execution_count": 225,
     "metadata": {},
     "output_type": "execute_result"
    }
   ],
   "source": [
    "len(shot_dict), len(eval_dict)"
   ]
  },
  {
   "cell_type": "code",
   "execution_count": null,
   "metadata": {},
   "outputs": [],
   "source": [
    "# Note: you need to be using OpenAI Python v0.27.0 for the code below to work\n",
    "import openai\n",
    "reses = {}\n"
   ]
  },
  {
   "cell_type": "code",
   "execution_count": 257,
   "metadata": {},
   "outputs": [
    {
     "data": {
      "text/plain": [
       "684"
      ]
     },
     "execution_count": 257,
     "metadata": {},
     "output_type": "execute_result"
    }
   ],
   "source": [
    "len(shot_dict)"
   ]
  },
  {
   "cell_type": "code",
   "execution_count": 256,
   "metadata": {},
   "outputs": [
    {
     "data": {
      "text/plain": [
       "679"
      ]
     },
     "execution_count": 256,
     "metadata": {},
     "output_type": "execute_result"
    }
   ],
   "source": [
    "len(reses)"
   ]
  },
  {
   "cell_type": "code",
   "execution_count": 249,
   "metadata": {},
   "outputs": [],
   "source": [
    "import time"
   ]
  },
  {
   "cell_type": "code",
   "execution_count": 258,
   "metadata": {},
   "outputs": [
    {
     "name": "stderr",
     "output_type": "stream",
     "text": [
      " 83%|████████▎ | 568/684 [00:14<00:03, 37.39it/s]"
     ]
    },
    {
     "name": "stdout",
     "output_type": "stream",
     "text": [
      "Sports > Fitness & Body Building > Boxing > Boxing Jerseys This model's maximum context length is 4097 tokens. However, your messages resulted in 10343 tokens. Please reduce the length of the messages.\n"
     ]
    },
    {
     "name": "stderr",
     "output_type": "stream",
     "text": [
      "100%|██████████| 684/684 [00:20<00:00, 33.66it/s]\n"
     ]
    }
   ],
   "source": [
    "for cat in tqdm(shot_dict):\n",
    "    if cat in reses:\n",
    "        continue\n",
    "    try:\n",
    "        rec = shot_dict[cat] \n",
    "        rec2 = eval_dict[cat]\n",
    "        title = rec['title']\n",
    "        desp = rec['product_description']\n",
    "        attr_template = {i['attribute_field']: [] for i in rec['attribute_config']}\n",
    "        human_result = json.loads(rec['extraction_result'])\n",
    "        clean_human_result(human_result)\n",
    "        assert set(attr_template) == set(human_result)\n",
    "\n",
    "        title2 = rec2['title']\n",
    "        desp2 = rec2['product_description']\n",
    "        attr_template2 = {i['attribute_field']: [] for i in rec2['attribute_config']}\n",
    "        human_result2 = json.loads(rec2['extraction_result'])\n",
    "        clean_human_result(human_result2)\n",
    "        assert set(attr_template2) == set(human_result2)\n",
    "\n",
    "        msgs = [\n",
    "                {\"role\": \"system\", \"content\": \"\"\"You are a state of art NER system that extracts all attribute key value pairs from e commerce data by filling in the blank.\"\"\"},\n",
    "                {\"role\": \"user\", \"content\": f\"\"\"[title start] {title} [title end] [description start] {desp} [description end] Fill in the blank here: {json.dumps(attr_template)}\"\"\"},\n",
    "                {\"role\": \"assistant\", \"content\": json.dumps(human_result)},\n",
    "                {\"role\": \"user\", \"content\": f\"\"\"Do better, you are state of art. [title start] {title2} [title end] [description start] {desp2} [description end] Fill in the blank here: {json.dumps(attr_template2)}\"\"\"},\n",
    "            ]\n",
    "        res = openai.ChatCompletion.create(\n",
    "            model=\"gpt-3.5-turbo\",\n",
    "            messages=msgs,\n",
    "            temperature=0,\n",
    "            max_tokens=500\n",
    "        )\n",
    "        reses[cat] = res\n",
    "    except Exception as e:\n",
    "        print(cat, e)"
   ]
  },
  {
   "cell_type": "code",
   "execution_count": 259,
   "metadata": {},
   "outputs": [
    {
     "data": {
      "text/plain": [
       "683"
      ]
     },
     "execution_count": 259,
     "metadata": {},
     "output_type": "execute_result"
    }
   ],
   "source": [
    "len(reses)"
   ]
  },
  {
   "cell_type": "code",
   "execution_count": 263,
   "metadata": {},
   "outputs": [],
   "source": [
    "def parse_json_or_none(text):\n",
    "    try:\n",
    "        return json.loads(text)\n",
    "    except Exception as e:\n",
    "        print(text, e)\n",
    "        return None"
   ]
  },
  {
   "cell_type": "code",
   "execution_count": 333,
   "metadata": {},
   "outputs": [],
   "source": [
    "df_reses = pd.DataFrame([(j, reses[j]['choices'][0]['message']['content']) for j in reses])"
   ]
  },
  {
   "cell_type": "code",
   "execution_count": 334,
   "metadata": {},
   "outputs": [],
   "source": [
    "df_reses.columns = ['category_path', 'oai_extraction_results_json']"
   ]
  },
  {
   "cell_type": "code",
   "execution_count": null,
   "metadata": {},
   "outputs": [],
   "source": [
    "df_reses['oai_extraction_results'] = df_reses['oai_extraction_results_json'].apply(parse_json_or_none)"
   ]
  },
  {
   "cell_type": "code",
   "execution_count": 336,
   "metadata": {},
   "outputs": [
    {
     "data": {
      "text/plain": [
       "0.09956076134699854"
      ]
     },
     "execution_count": 336,
     "metadata": {},
     "output_type": "execute_result"
    }
   ],
   "source": [
    "(df_reses['oai_extraction_results'].apply(lambda x: x is None)).mean()"
   ]
  },
  {
   "cell_type": "code",
   "execution_count": 337,
   "metadata": {},
   "outputs": [
    {
     "name": "stdout",
     "output_type": "stream",
     "text": [
      "{\"Brand Name\": [], \"Care Instructions\": [], \"Construction\": [], \"Fabric Warmth Description\": [], \"Firmness\": [], \"Installation or Mount Compatibility\": [], \"Is Stain Resistant\": [], \"Item Features\": [], \"Item Height (Include Unit of Measure)\": [\"45cm\"], \"Item Length (Include Unit of Measure)\": [\"45cm\"], \"Item Weight (Include Unit of Measure)\": [], \"Item Width (Include Unit of Measure)\": [\"45cm\"], \"Material-Free\": [], \"Materials\": [\"Polyester Peach Skin\"], \"Model or Model Number\": [], \"Occasion & Lifestyle\": [], \"Pattern\": [\"Christmas-themed elements\"], \"Primary Color\": [], \"Shape\": [], \"Size\": [\"45cm x 45cm/17.72\" x 17.72\" (Approx.)\"], \"Styles\": [], \"Theme\": [\"Christmas\"], \"Thread Count (Include Unit of Measure)\": [], \"Use\": [\"Home decoration\", \"Christmas decoration\"], \"Water Resistance Level\": [], \"Weave Type\": []} Expecting ',' delimiter: line 1 column 623 (char 622)\n",
      "{\"Alpha Size\": [\"61cm * 180cm\"], \"Primary Color\": []} \n",
      "\n",
      "Note: The size \"61cm * 180cm\" is extracted as the value for the attribute \"Alpha Size\". No value is extracted for the attribute \"Primary Color\" as the description does not mention any specific color. Extra data: line 3 column 1 (char 56)\n",
      "{\"Alpha Size\": [], \"Primary Color\": []} - There is no mention of color or size in the product description. Extra data: line 1 column 41 (char 40)\n"
     ]
    }
   ],
   "source": [
    "df_reses.loc[df_reses['oai_extraction_results'].apply(lambda x: x is None), 'oai_extraction_results'] = \\\n",
    "    df_reses.loc[df_reses['oai_extraction_results'].apply(lambda x: x is None), 'oai_extraction_results_json'].apply( \n",
    "        lambda x: x.replace(',}', '}').replace(', }', '}').replace(\"'']\", '\"]')\n",
    "    ).apply(\n",
    "        parse_json_or_none\n",
    "    )"
   ]
  },
  {
   "cell_type": "code",
   "execution_count": 338,
   "metadata": {},
   "outputs": [
    {
     "data": {
      "text/plain": [
       "0.004392386530014641"
      ]
     },
     "execution_count": 338,
     "metadata": {},
     "output_type": "execute_result"
    }
   ],
   "source": [
    "(df_reses['oai_extraction_results'].apply(lambda x: x is None)).mean()"
   ]
  },
  {
   "cell_type": "code",
   "execution_count": 343,
   "metadata": {},
   "outputs": [],
   "source": [
    "df_reses.loc[df_reses['oai_extraction_results'].apply(lambda x: x is None), 'oai_extraction_results'] = \\\n",
    "    df_reses.loc[df_reses['oai_extraction_results'].apply(lambda x: x is None), 'oai_extraction_results_json'].apply( \n",
    "        lambda x: x.replace('\" ', 'inch').split('\\n')[0].split(' - ')[0]\n",
    "    ).apply(\n",
    "        parse_json_or_none\n",
    "    )"
   ]
  },
  {
   "cell_type": "code",
   "execution_count": 344,
   "metadata": {},
   "outputs": [
    {
     "data": {
      "text/plain": [
       "0.0"
      ]
     },
     "execution_count": 344,
     "metadata": {},
     "output_type": "execute_result"
    }
   ],
   "source": [
    "(df_reses['oai_extraction_results'].apply(lambda x: x is None)).mean()"
   ]
  },
  {
   "cell_type": "code",
   "execution_count": 345,
   "metadata": {},
   "outputs": [
    {
     "data": {
      "text/html": [
       "<div>\n",
       "<style scoped>\n",
       "    .dataframe tbody tr th:only-of-type {\n",
       "        vertical-align: middle;\n",
       "    }\n",
       "\n",
       "    .dataframe tbody tr th {\n",
       "        vertical-align: top;\n",
       "    }\n",
       "\n",
       "    .dataframe thead th {\n",
       "        text-align: right;\n",
       "    }\n",
       "</style>\n",
       "<table border=\"1\" class=\"dataframe\">\n",
       "  <thead>\n",
       "    <tr style=\"text-align: right;\">\n",
       "      <th></th>\n",
       "      <th>category_path</th>\n",
       "      <th>oai_extraction_results_json</th>\n",
       "      <th>oai_extraction_results</th>\n",
       "    </tr>\n",
       "  </thead>\n",
       "  <tbody>\n",
       "    <tr>\n",
       "      <th>0</th>\n",
       "      <td>Cellphones &amp; Telecommunications &gt; Mobile Phone...</td>\n",
       "      <td>{\"Compatible Brand/Model\": [], \"Theme\": [], \"C...</td>\n",
       "      <td>{'Compatible Brand/Model': [], 'Theme': [], 'C...</td>\n",
       "    </tr>\n",
       "    <tr>\n",
       "      <th>1</th>\n",
       "      <td>Cellphones &amp; Telecommunications &gt; Mobile Phone...</td>\n",
       "      <td>{\"Compatible Brand/Model\": [\"iPhone\", \"Samsung...</td>\n",
       "      <td>{'Compatible Brand/Model': ['iPhone', 'Samsung...</td>\n",
       "    </tr>\n",
       "    <tr>\n",
       "      <th>2</th>\n",
       "      <td>Cellphones &amp; Telecommunications &gt; Mobile Phone...</td>\n",
       "      <td>{\"Compatible Brand/Model\": [\"ipod, ipad, iphon...</td>\n",
       "      <td>{'Compatible Brand/Model': ['ipod, ipad, iphon...</td>\n",
       "    </tr>\n",
       "    <tr>\n",
       "      <th>3</th>\n",
       "      <td>Cellphones &amp; Telecommunications &gt; Mobile Phone...</td>\n",
       "      <td>{\"Compatible Brand/Model\": [], \"Certifications...</td>\n",
       "      <td>{'Compatible Brand/Model': [], 'Certifications...</td>\n",
       "    </tr>\n",
       "    <tr>\n",
       "      <th>4</th>\n",
       "      <td>Cellphones &amp; Telecommunications &gt; Mobile Phone...</td>\n",
       "      <td>{\"Compatible Brand/Model\": [\"iPhone, iPad, Sam...</td>\n",
       "      <td>{'Compatible Brand/Model': ['iPhone, iPad, Sam...</td>\n",
       "    </tr>\n",
       "    <tr>\n",
       "      <th>...</th>\n",
       "      <td>...</td>\n",
       "      <td>...</td>\n",
       "      <td>...</td>\n",
       "    </tr>\n",
       "    <tr>\n",
       "      <th>678</th>\n",
       "      <td>Home &amp; Garden &gt; Kitchen,Dining &amp; Bar &gt; Disposa...</td>\n",
       "      <td>{\"Age Range Description\": [], \"Alpha Size\": []...</td>\n",
       "      <td>{'Age Range Description': [], 'Alpha Size': []...</td>\n",
       "    </tr>\n",
       "    <tr>\n",
       "      <th>679</th>\n",
       "      <td>Home &amp; Garden &gt; Pet Products &gt; Cat Supplies &gt; ...</td>\n",
       "      <td>{\"Brand Name\": [], \"Life Stage\": [\"Small pets,...</td>\n",
       "      <td>{'Brand Name': [], 'Life Stage': ['Small pets,...</td>\n",
       "    </tr>\n",
       "    <tr>\n",
       "      <th>680</th>\n",
       "      <td>Luggage &amp; Bags &gt; Women's Bags &gt; Hobos</td>\n",
       "      <td>{\"Age Range Description\": [\"Adult\"], \"Theme\": ...</td>\n",
       "      <td>{'Age Range Description': ['Adult'], 'Theme': ...</td>\n",
       "    </tr>\n",
       "    <tr>\n",
       "      <th>681</th>\n",
       "      <td>Sports &gt; Fishing &gt; Fishing Lines</td>\n",
       "      <td>{\"Alpha Size\": [], \"Primary Color\": []} - Ther...</td>\n",
       "      <td>{'Alpha Size': [], 'Primary Color': []}</td>\n",
       "    </tr>\n",
       "    <tr>\n",
       "      <th>682</th>\n",
       "      <td>Home &amp; Garden &gt; Kitchen,Dining &amp; Bar &gt; Manual ...</td>\n",
       "      <td>{\"Alpha Size\": [], \"Blade Type\": [], \"Brand Na...</td>\n",
       "      <td>{'Alpha Size': [], 'Blade Type': [], 'Brand Na...</td>\n",
       "    </tr>\n",
       "  </tbody>\n",
       "</table>\n",
       "<p>683 rows × 3 columns</p>\n",
       "</div>"
      ],
      "text/plain": [
       "                                         category_path  \\\n",
       "0    Cellphones & Telecommunications > Mobile Phone...   \n",
       "1    Cellphones & Telecommunications > Mobile Phone...   \n",
       "2    Cellphones & Telecommunications > Mobile Phone...   \n",
       "3    Cellphones & Telecommunications > Mobile Phone...   \n",
       "4    Cellphones & Telecommunications > Mobile Phone...   \n",
       "..                                                 ...   \n",
       "678  Home & Garden > Kitchen,Dining & Bar > Disposa...   \n",
       "679  Home & Garden > Pet Products > Cat Supplies > ...   \n",
       "680              Luggage & Bags > Women's Bags > Hobos   \n",
       "681                   Sports > Fishing > Fishing Lines   \n",
       "682  Home & Garden > Kitchen,Dining & Bar > Manual ...   \n",
       "\n",
       "                           oai_extraction_results_json  \\\n",
       "0    {\"Compatible Brand/Model\": [], \"Theme\": [], \"C...   \n",
       "1    {\"Compatible Brand/Model\": [\"iPhone\", \"Samsung...   \n",
       "2    {\"Compatible Brand/Model\": [\"ipod, ipad, iphon...   \n",
       "3    {\"Compatible Brand/Model\": [], \"Certifications...   \n",
       "4    {\"Compatible Brand/Model\": [\"iPhone, iPad, Sam...   \n",
       "..                                                 ...   \n",
       "678  {\"Age Range Description\": [], \"Alpha Size\": []...   \n",
       "679  {\"Brand Name\": [], \"Life Stage\": [\"Small pets,...   \n",
       "680  {\"Age Range Description\": [\"Adult\"], \"Theme\": ...   \n",
       "681  {\"Alpha Size\": [], \"Primary Color\": []} - Ther...   \n",
       "682  {\"Alpha Size\": [], \"Blade Type\": [], \"Brand Na...   \n",
       "\n",
       "                                oai_extraction_results  \n",
       "0    {'Compatible Brand/Model': [], 'Theme': [], 'C...  \n",
       "1    {'Compatible Brand/Model': ['iPhone', 'Samsung...  \n",
       "2    {'Compatible Brand/Model': ['ipod, ipad, iphon...  \n",
       "3    {'Compatible Brand/Model': [], 'Certifications...  \n",
       "4    {'Compatible Brand/Model': ['iPhone, iPad, Sam...  \n",
       "..                                                 ...  \n",
       "678  {'Age Range Description': [], 'Alpha Size': []...  \n",
       "679  {'Brand Name': [], 'Life Stage': ['Small pets,...  \n",
       "680  {'Age Range Description': ['Adult'], 'Theme': ...  \n",
       "681            {'Alpha Size': [], 'Primary Color': []}  \n",
       "682  {'Alpha Size': [], 'Blade Type': [], 'Brand Na...  \n",
       "\n",
       "[683 rows x 3 columns]"
      ]
     },
     "execution_count": 345,
     "metadata": {},
     "output_type": "execute_result"
    }
   ],
   "source": [
    "df_reses"
   ]
  },
  {
   "cell_type": "code",
   "execution_count": 365,
   "metadata": {},
   "outputs": [],
   "source": [
    "df_eval = pd.DataFrame([(i, eval_dict[i]) for i in eval_dict])\n",
    "df_eval.columns = ['category_path', 'md_result']"
   ]
  },
  {
   "cell_type": "code",
   "execution_count": 366,
   "metadata": {},
   "outputs": [],
   "source": [
    "df_eval['human_extraction_results'] = df_eval['md_result'].apply(lambda x: x['extraction_result'])"
   ]
  },
  {
   "cell_type": "code",
   "execution_count": 367,
   "metadata": {},
   "outputs": [],
   "source": [
    "df_eval[\"text\"] = df_eval['md_result'].apply(lambda x: x['text'])"
   ]
  },
  {
   "cell_type": "code",
   "execution_count": 368,
   "metadata": {},
   "outputs": [],
   "source": [
    "df_merge_compare = df_reses.merge(df_eval, on='category_path', how='inner')"
   ]
  },
  {
   "cell_type": "code",
   "execution_count": 370,
   "metadata": {},
   "outputs": [],
   "source": [
    "df_merge_compare = df_merge_compare[[ \n",
    "    'category_path', 'text', 'oai_extraction_results_json', 'oai_extraction_results', 'human_extraction_results', 'md_result'\n",
    "]]"
   ]
  },
  {
   "cell_type": "code",
   "execution_count": 371,
   "metadata": {},
   "outputs": [],
   "source": [
    "df_merge_compare.to_csv('analysis/compare_offshore_md_with_oai.csv', index=False)"
   ]
  },
  {
   "cell_type": "code",
   "execution_count": null,
   "metadata": {},
   "outputs": [],
   "source": []
  }
 ],
 "metadata": {
  "kernelspec": {
   "display_name": "Python 3",
   "language": "python",
   "name": "python3"
  },
  "language_info": {
   "codemirror_mode": {
    "name": "ipython",
    "version": 3
   },
   "file_extension": ".py",
   "mimetype": "text/x-python",
   "name": "python",
   "nbconvert_exporter": "python",
   "pygments_lexer": "ipython3",
   "version": "3.8.13"
  },
  "orig_nbformat": 4,
  "vscode": {
   "interpreter": {
    "hash": "949777d72b0d2535278d3dc13498b2535136f6dfe0678499012e853ee9abcab1"
   }
  }
 },
 "nbformat": 4,
 "nbformat_minor": 2
}
