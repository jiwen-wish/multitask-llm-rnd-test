{
 "cells": [
  {
   "cell_type": "code",
   "execution_count": 36,
   "metadata": {},
   "outputs": [],
   "source": [
    "import pandas as pd\n",
    "import dvc.api\n",
    "from tqdm import tqdm"
   ]
  },
  {
   "cell_type": "code",
   "execution_count": 2,
   "metadata": {},
   "outputs": [],
   "source": [
    "from copy import deepcopy\n",
    "import hashlib\n",
    "from collections import OrderedDict\n",
    "import json\n",
    "def sortOD(od):\n",
    "    res = OrderedDict()\n",
    "    for k, v in sorted(od.items()):\n",
    "        if isinstance(v, dict):\n",
    "            res[k] = sortOD(v)\n",
    "        else:\n",
    "            res[k] = deepcopy(v)\n",
    "    return res"
   ]
  },
  {
   "cell_type": "code",
   "execution_count": 3,
   "metadata": {},
   "outputs": [],
   "source": [
    "df_metadata = pd.read_csv('../../../attribute_extraction_metadata_template/Initial Attribute Definition for First Release - UPDATED SHEET .csv')"
   ]
  },
  {
   "cell_type": "code",
   "execution_count": 4,
   "metadata": {},
   "outputs": [],
   "source": [
    "df_metadata = df_metadata[['category', 'category_id', 'attribute_field', 'category_attributevalue', 'description', 'max_multi_select', 'usage', 'entry mode']]"
   ]
  },
  {
   "cell_type": "code",
   "execution_count": 5,
   "metadata": {},
   "outputs": [],
   "source": [
    "metadata_category = set(df_metadata.category)\n",
    "metadata_category_ids = set(df_metadata.category_id)"
   ]
  },
  {
   "cell_type": "code",
   "execution_count": 6,
   "metadata": {},
   "outputs": [],
   "source": [
    "category2config = {}\n",
    "for i in metadata_category:\n",
    "    df_tmp = df_metadata[df_metadata.category == i]\n",
    "    category2config[i] = sorted(df_tmp.to_dict('records'), key=lambda x: x['attribute_field'])\n",
    "categoryid2config = {}\n",
    "for i in metadata_category_ids:\n",
    "    df_tmp = df_metadata[df_metadata.category_id == i]\n",
    "    categoryid2config[i] = sorted(df_tmp.to_dict('records'), key=lambda x: x['attribute_field'])"
   ]
  },
  {
   "cell_type": "code",
   "execution_count": 48,
   "metadata": {},
   "outputs": [
    {
     "name": "stderr",
     "output_type": "stream",
     "text": [
      "100%|██████████| 2658/2658 [00:12<00:00, 210.89it/s]\n",
      "100%|██████████| 2658/2658 [00:05<00:00, 455.67it/s]\n"
     ]
    }
   ],
   "source": [
    "# extract all attributes\n",
    "category2config_multiselect = {}\n",
    "for i in tqdm(metadata_category):\n",
    "    df_tmp = df_metadata[df_metadata.category == i].copy()\n",
    "    df_tmp['entry mode'] = df_tmp['entry mode'].replace({'single_selection_only': 'multi_selection_only'})\n",
    "    df_tmp.loc[(df_tmp['entry mode'] == 'multi_selection_only'), \"max_multi_select\"] = 100.0\n",
    "    category2config_multiselect[i] = sorted(df_tmp.to_dict('records'), key=lambda x: x['attribute_field'])\n",
    "categoryid2config_multiselect = {}\n",
    "for i in tqdm(metadata_category_ids):\n",
    "    df_tmp = df_metadata[df_metadata.category_id == i].copy()\n",
    "    df_tmp['entry mode'] = df_tmp['entry mode'].replace({'single_selection_only': 'multi_selection_only'})\n",
    "    df_tmp.loc[(df_tmp['entry mode'] == 'multi_selection_only'), \"max_multi_select\"] = 100.0\n",
    "    categoryid2config_multiselect[i] = sorted(df_tmp.to_dict('records'), key=lambda x: x['attribute_field'])"
   ]
  },
  {
   "cell_type": "code",
   "execution_count": 7,
   "metadata": {},
   "outputs": [],
   "source": [
    "df_tax = pd.read_json(dvc.api.get_url(\n",
    "    'datasets/data/taxonomy/wish_newtax.json',\n",
    "    repo='git@github.com:ContextLogic/multitask-llm-rnd.git'\n",
    "), lines=True)"
   ]
  },
  {
   "cell_type": "code",
   "execution_count": 8,
   "metadata": {},
   "outputs": [],
   "source": [
    "tax2id = {}\n",
    "for i in df_tax.to_dict('records'):\n",
    "    if len(i['category_path']) > 0:\n",
    "        tax2id[i['category_path']] = int(i['id'])"
   ]
  },
  {
   "attachments": {},
   "cell_type": "markdown",
   "metadata": {},
   "source": [
    "# sample file"
   ]
  },
  {
   "cell_type": "code",
   "execution_count": 56,
   "metadata": {},
   "outputs": [],
   "source": [
    "df_samples = pd.read_csv('sdt887_product_attribution_data_one_listing_per_leaf_node__20230111.csv')"
   ]
  },
  {
   "cell_type": "code",
   "execution_count": 57,
   "metadata": {},
   "outputs": [
    {
     "data": {
      "text/html": [
       "<div>\n",
       "<style scoped>\n",
       "    .dataframe tbody tr th:only-of-type {\n",
       "        vertical-align: middle;\n",
       "    }\n",
       "\n",
       "    .dataframe tbody tr th {\n",
       "        vertical-align: top;\n",
       "    }\n",
       "\n",
       "    .dataframe thead th {\n",
       "        text-align: right;\n",
       "    }\n",
       "</style>\n",
       "<table border=\"1\" class=\"dataframe\">\n",
       "  <thead>\n",
       "    <tr style=\"text-align: right;\">\n",
       "      <th></th>\n",
       "      <th>product_id</th>\n",
       "      <th>category_id</th>\n",
       "      <th>category_name</th>\n",
       "      <th>category_path</th>\n",
       "      <th>L1</th>\n",
       "      <th>L2</th>\n",
       "      <th>num_extra_photos</th>\n",
       "      <th>title</th>\n",
       "      <th>product_description</th>\n",
       "      <th>main_image_url</th>\n",
       "    </tr>\n",
       "  </thead>\n",
       "  <tbody>\n",
       "    <tr>\n",
       "      <th>0</th>\n",
       "      <td>60f1d9657dd37ab3cbb26868</td>\n",
       "      <td>5504</td>\n",
       "      <td>Axes</td>\n",
       "      <td>Tools &gt; Hand Tools &gt; Axes</td>\n",
       "      <td>Tools</td>\n",
       "      <td>Tools &gt; Hand Tools</td>\n",
       "      <td>9</td>\n",
       "      <td>Axe holder, axe stand, Leviathan axe, God of W...</td>\n",
       "      <td>Axe holder, axe stand, Leviathan axe, God of W...</td>\n",
       "      <td>https://canary.contestimg.wish.com/api/webimag...</td>\n",
       "    </tr>\n",
       "    <tr>\n",
       "      <th>1</th>\n",
       "      <td>6184dc13dfb278fe92818499</td>\n",
       "      <td>2939</td>\n",
       "      <td>Pastry Brushes</td>\n",
       "      <td>Home &amp; Garden &gt; Kitchen, Dining &amp; Bar &gt; Bakewa...</td>\n",
       "      <td>Home &amp; Garden</td>\n",
       "      <td>Home &amp; Garden &gt; Kitchen, Dining &amp; Bar</td>\n",
       "      <td>8</td>\n",
       "      <td>New silicone baking pastry tool oil brush high...</td>\n",
       "      <td>Welcome to my shop, I wish you a happy shoppin...</td>\n",
       "      <td>https://canary.contestimg.wish.com/api/webimag...</td>\n",
       "    </tr>\n",
       "  </tbody>\n",
       "</table>\n",
       "</div>"
      ],
      "text/plain": [
       "                 product_id  category_id   category_name  \\\n",
       "0  60f1d9657dd37ab3cbb26868         5504            Axes   \n",
       "1  6184dc13dfb278fe92818499         2939  Pastry Brushes   \n",
       "\n",
       "                                       category_path             L1  \\\n",
       "0                          Tools > Hand Tools > Axes          Tools   \n",
       "1  Home & Garden > Kitchen, Dining & Bar > Bakewa...  Home & Garden   \n",
       "\n",
       "                                      L2  num_extra_photos  \\\n",
       "0                     Tools > Hand Tools                 9   \n",
       "1  Home & Garden > Kitchen, Dining & Bar                 8   \n",
       "\n",
       "                                               title  \\\n",
       "0  Axe holder, axe stand, Leviathan axe, God of W...   \n",
       "1  New silicone baking pastry tool oil brush high...   \n",
       "\n",
       "                                 product_description  \\\n",
       "0  Axe holder, axe stand, Leviathan axe, God of W...   \n",
       "1  Welcome to my shop, I wish you a happy shoppin...   \n",
       "\n",
       "                                      main_image_url  \n",
       "0  https://canary.contestimg.wish.com/api/webimag...  \n",
       "1  https://canary.contestimg.wish.com/api/webimag...  "
      ]
     },
     "execution_count": 57,
     "metadata": {},
     "output_type": "execute_result"
    }
   ],
   "source": [
    "df_samples.head(2)"
   ]
  },
  {
   "cell_type": "code",
   "execution_count": 7,
   "metadata": {},
   "outputs": [],
   "source": [
    "df_samples = df_samples[df_samples.category_path.apply(lambda x: x in metadata_category)]\n",
    "df_samples = df_samples.sample(10, random_state=42)"
   ]
  },
  {
   "cell_type": "code",
   "execution_count": 10,
   "metadata": {},
   "outputs": [],
   "source": [
    "res = []\n",
    "for i in df_samples[['product_id', 'category_id', 'category_path', 'title', 'product_description', 'main_image_url']].to_dict('records'):\n",
    "    i['text'] = \\\n",
    "f\"\"\"Title: {i['title']}\n",
    "Description: {i['product_description']}\"\"\"\n",
    "    i['attribute_config'] = category2config[i['category_path']]\n",
    "    task_json = json.dumps(sortOD(i)).encode('utf-8')\n",
    "    task_id = hashlib.md5(task_json).hexdigest()\n",
    "    i['task_id'] = f\"product_attribution_md_{task_id}\"\n",
    "    i['preloading_result'] = None\n",
    "    res.append(i)"
   ]
  },
  {
   "cell_type": "code",
   "execution_count": 11,
   "metadata": {},
   "outputs": [],
   "source": [
    "pd.DataFrame(res).to_json('example_offshore_input_listing_attr_extract_v2.json', lines=True, orient='records')"
   ]
  },
  {
   "attachments": {},
   "cell_type": "markdown",
   "metadata": {},
   "source": [
    "# demo file"
   ]
  },
  {
   "cell_type": "code",
   "execution_count": 58,
   "metadata": {},
   "outputs": [],
   "source": [
    "df_samples_orig_text = pd.read_json(dvc.api.get_url(\n",
    "    'datasets/data/wish_attr_extract_label/appen/input_batch/appen_product_attribution_batch1_text.json',\n",
    "    repo='git@github.com:ContextLogic/multitask-llm-rnd.git'\n",
    "), lines=True)\n",
    "df_samples_orig_textimg = pd.read_json(dvc.api.get_url(\n",
    "    'datasets/data/wish_attr_extract_label/appen/input_batch/appen_product_attribution_batch2_text_image.json',\n",
    "    repo='git@github.com:ContextLogic/multitask-llm-rnd.git'\n",
    "), lines=True)"
   ]
  },
  {
   "cell_type": "code",
   "execution_count": 59,
   "metadata": {},
   "outputs": [],
   "source": [
    "pid2cid = {}\n",
    "for i in df_samples_orig_text[['product_id', 'category_id']].to_dict('records'):\n",
    "    pid2cid[i['product_id']] = int(i['category_id'])\n",
    "for i in df_samples_orig_textimg[['product_id', 'category_id']].to_dict('records'):\n",
    "    pid2cid[i['product_id']] = int(i['category_id'])"
   ]
  },
  {
   "cell_type": "code",
   "execution_count": 60,
   "metadata": {},
   "outputs": [],
   "source": [
    "df_samples = pd.read_csv(dvc.api.get_url(\n",
    "    'datasets/data/wish_attr_extract_label/appen/input_batch_processed/appen_product_attribution_batch1.csv',\n",
    "    repo='git@github.com:ContextLogic/multitask-llm-rnd.git'\n",
    "))"
   ]
  },
  {
   "cell_type": "code",
   "execution_count": 61,
   "metadata": {},
   "outputs": [],
   "source": [
    "df_samples = df_samples[df_samples.product_id.apply(lambda x: x in pid2cid)]"
   ]
  },
  {
   "cell_type": "code",
   "execution_count": 62,
   "metadata": {},
   "outputs": [],
   "source": [
    "df_samples['category_id'] = df_samples['product_id'].apply(lambda x: pid2cid[x])"
   ]
  },
  {
   "cell_type": "code",
   "execution_count": 64,
   "metadata": {},
   "outputs": [],
   "source": [
    "df_samples = df_samples[df_samples.category_id.apply(lambda x: x in categoryid2config)]\n",
    "df_samples = df_samples.sample(10, random_state=42)"
   ]
  },
  {
   "cell_type": "code",
   "execution_count": 66,
   "metadata": {},
   "outputs": [],
   "source": [
    "res = []\n",
    "for i in df_samples[['product_id', 'category_id', 'category_path', 'title', 'product_description', 'main_image_url']].to_dict('records'):\n",
    "    i['text'] = \\\n",
    "f\"\"\"Title: {i['title']}\n",
    "Description: {i['product_description']}\"\"\"\n",
    "    i['attribute_config'] = categoryid2config[i['category_id']]\n",
    "    task_json = json.dumps(sortOD(i)).encode('utf-8')\n",
    "    task_id = hashlib.md5(task_json).hexdigest()\n",
    "    i['task_id'] = f\"product_attribution_md_{task_id}\"\n",
    "    i['preloading_result'] = None\n",
    "    res.append(i)"
   ]
  },
  {
   "cell_type": "code",
   "execution_count": 68,
   "metadata": {},
   "outputs": [],
   "source": [
    "pd.DataFrame(res).to_json('offshore_md/demo_product_attr_extract_md_02272023.json', lines=True, orient='records')"
   ]
  },
  {
   "attachments": {},
   "cell_type": "markdown",
   "metadata": {},
   "source": [
    "# 1st production batch"
   ]
  },
  {
   "cell_type": "code",
   "execution_count": 13,
   "metadata": {},
   "outputs": [],
   "source": [
    "df = pd.concat([ \n",
    "    pd.read_json(dvc.api.get_url(\n",
    "        'datasets/data/wish_attr_extract_label/processed/appen_020323_030323_delivered_030623_validated_product_attr_textandimg_test.json', \n",
    "        repo='git@github.com:ContextLogic/multitask-llm-rnd.git'\n",
    "    ), lines=True), \n",
    "    pd.read_json(dvc.api.get_url(\n",
    "        'datasets/data/wish_attr_extract_label/processed/appen_020323_030323_delivered_030623_validated_product_attr_textonly_test.json', \n",
    "        repo='git@github.com:ContextLogic/multitask-llm-rnd.git'\n",
    "    ), lines=True)\n",
    "])"
   ]
  },
  {
   "cell_type": "code",
   "execution_count": 15,
   "metadata": {},
   "outputs": [],
   "source": [
    "df_sample = df.sample(1000, random_state=42)"
   ]
  },
  {
   "cell_type": "code",
   "execution_count": 21,
   "metadata": {},
   "outputs": [],
   "source": [
    "df_sample['category_id'] = df_sample['category'].apply(lambda x: tax2id[x])"
   ]
  },
  {
   "cell_type": "code",
   "execution_count": 23,
   "metadata": {},
   "outputs": [
    {
     "data": {
      "text/plain": [
       "1000"
      ]
     },
     "execution_count": 23,
     "metadata": {},
     "output_type": "execute_result"
    }
   ],
   "source": [
    "len(df_sample)"
   ]
  },
  {
   "cell_type": "code",
   "execution_count": 25,
   "metadata": {},
   "outputs": [
    {
     "data": {
      "text/plain": [
       "1000"
      ]
     },
     "execution_count": 25,
     "metadata": {},
     "output_type": "execute_result"
    }
   ],
   "source": [
    "df_sample = df_sample[df_sample.category_id.apply(lambda x: x in categoryid2config)]\n",
    "len(df_sample)"
   ]
  },
  {
   "cell_type": "code",
   "execution_count": 34,
   "metadata": {},
   "outputs": [],
   "source": [
    "df_sample = df_sample.rename(columns={\n",
    "    'pid': 'product_id', \n",
    "    'description': 'product_description', \n",
    "    'category': 'category_path',\n",
    "    'main_img_url': 'main_image_url'\n",
    "})"
   ]
  },
  {
   "cell_type": "code",
   "execution_count": 35,
   "metadata": {},
   "outputs": [],
   "source": [
    "res = []\n",
    "for i in df_sample[['product_id', 'category_id', 'category_path', 'title', 'product_description', 'main_image_url']].to_dict('records'):\n",
    "    i['text'] = \\\n",
    "f\"\"\"Title: {i['title']}\n",
    "Description: {i['product_description']}\"\"\"\n",
    "    i['attribute_config'] = categoryid2config[i['category_id']]\n",
    "    task_json = json.dumps(sortOD(i)).encode('utf-8')\n",
    "    task_id = hashlib.md5(task_json).hexdigest()\n",
    "    i['task_id'] = f\"product_attribution_md_{task_id}\"\n",
    "    i['preloading_result'] = None\n",
    "    res.append(i)"
   ]
  },
  {
   "cell_type": "code",
   "execution_count": 38,
   "metadata": {},
   "outputs": [],
   "source": [
    "pd.DataFrame(res).to_json('input/product_attr_extract_md_03072023.json', lines=True, orient='records')"
   ]
  },
  {
   "attachments": {},
   "cell_type": "markdown",
   "metadata": {},
   "source": [
    "# 2nd production batch"
   ]
  },
  {
   "cell_type": "code",
   "execution_count": 9,
   "metadata": {},
   "outputs": [],
   "source": [
    "df = pd.concat([ \n",
    "    pd.read_csv(dvc.api.get_url(\n",
    "        'datasets/data/wish_attr_extract_label/appen/output_batch_correct_v5/product_attribution_till_032423_invalid_units_fixed.csv', \n",
    "        repo='git@github.com:ContextLogic/multitask-llm-rnd.git'\n",
    "    )), \n",
    "    pd.read_csv(dvc.api.get_url(\n",
    "        'datasets/data/wish_attr_extract_label/appen/output_batch_correct_v5/product_attribution_till_032423_valid_units.csv', \n",
    "        repo='git@github.com:ContextLogic/multitask-llm-rnd.git'\n",
    "    ))\n",
    "])"
   ]
  },
  {
   "cell_type": "code",
   "execution_count": 11,
   "metadata": {},
   "outputs": [],
   "source": [
    "df.loc[~df.final_output_corrected.isna(), 'final_output'] = df.loc[~df.final_output_corrected.isna(), 'final_output_corrected']\n",
    "del df['final_output_corrected']\n",
    "del df['explanation']"
   ]
  },
  {
   "cell_type": "code",
   "execution_count": 15,
   "metadata": {},
   "outputs": [
    {
     "data": {
      "text/plain": [
       "51543"
      ]
     },
     "execution_count": 15,
     "metadata": {},
     "output_type": "execute_result"
    }
   ],
   "source": [
    "len(df)"
   ]
  },
  {
   "cell_type": "code",
   "execution_count": 13,
   "metadata": {},
   "outputs": [
    {
     "data": {
      "text/plain": [
       "<Axes: ylabel='sample_method'>"
      ]
     },
     "execution_count": 13,
     "metadata": {},
     "output_type": "execute_result"
    },
    {
     "data": {
      "image/png": "[encoded data removed]",
      "text/plain": [
       "<Figure size 640x480 with 1 Axes>"
      ]
     },
     "metadata": {},
     "output_type": "display_data"
    }
   ],
   "source": [
    "df.sample_method.value_counts().plot.pie()"
   ]
  },
  {
   "cell_type": "code",
   "execution_count": 54,
   "metadata": {},
   "outputs": [],
   "source": [
    "df_onlytext = df[df.sample_method == 'only_text']"
   ]
  },
  {
   "cell_type": "code",
   "execution_count": 55,
   "metadata": {},
   "outputs": [
    {
     "data": {
      "text/plain": [
       "26066"
      ]
     },
     "execution_count": 55,
     "metadata": {},
     "output_type": "execute_result"
    }
   ],
   "source": [
    "len(df_onlytext)"
   ]
  },
  {
   "cell_type": "code",
   "execution_count": 56,
   "metadata": {},
   "outputs": [
    {
     "data": {
      "text/plain": [
       "24"
      ]
     },
     "execution_count": 56,
     "metadata": {},
     "output_type": "execute_result"
    }
   ],
   "source": [
    "len(set(df_onlytext.l2_category))"
   ]
  },
  {
   "cell_type": "code",
   "execution_count": 57,
   "metadata": {},
   "outputs": [
    {
     "data": {
      "text/plain": [
       "<Axes: ylabel='l2_category'>"
      ]
     },
     "execution_count": 57,
     "metadata": {},
     "output_type": "execute_result"
    },
    {
     "data": {
      "image/png": "[encoded data removed]",
      "text/plain": [
       "<Figure size 640x480 with 1 Axes>"
      ]
     },
     "metadata": {},
     "output_type": "display_data"
    }
   ],
   "source": [
    "df_onlytext.l2_category.value_counts().plot.pie()"
   ]
  },
  {
   "cell_type": "code",
   "execution_count": 58,
   "metadata": {},
   "outputs": [
    {
     "data": {
      "text/plain": [
       "Jewelry & Accessories > Rings                                                       1402\n",
       "Luggage & Bags > Men's Bags > Backpacks                                              616\n",
       "Cellphones & Telecommunications > Phone Bags & Cases > Phone Pouches                 549\n",
       "Jewelry & Accessories > Necklaces & Pendants > Pendants                              434\n",
       "Consumer Electronics > Earphones & Headphones > Bluetooth Earphones & Headphones     401\n",
       "                                                                                    ... \n",
       "Home & Garden > Kitchen,Dining & Bar > Bakeware > Cookie Cutters                       1\n",
       "Home & Garden > Pet Products > Reptile & Amphibian Supplies > Terrariums               1\n",
       "Home & Garden > Garden Supplies > Garden Buildings > Playhouses                        1\n",
       "Home & Garden > Garden Supplies > Pest Control > Bug Zappers                           1\n",
       "Home & Garden > Home Textile > Bedding > Mattress Toppers                              1\n",
       "Name: product_category, Length: 712, dtype: int64"
      ]
     },
     "execution_count": 58,
     "metadata": {},
     "output_type": "execute_result"
    }
   ],
   "source": [
    "df_onlytext.product_category.value_counts()"
   ]
  },
  {
   "cell_type": "code",
   "execution_count": 59,
   "metadata": {},
   "outputs": [
    {
     "data": {
      "text/plain": [
       "[{'label_ordering': 50533,\n",
       "  'sample_method': 'only_text',\n",
       "  'product_id': '5ff9d971ede21c7ea9c4af85',\n",
       "  'title': 'Memory Foam Solutions UBSMSF915ZCP2 Topper Cover and Two Classic Contour Pillows and Full / Double Size 1.5 Inch Thick 3 Pound Density Visco Elastic Memory Foam Mattress Bed Topper Made in the USA',\n",
       "  'product_description': \"<p>Our mission is to make you more comfortable so you can sleep better night after night and awake refreshed each and every day&#46; We are constantly developing new technologies in our laboratories, utilizing proprietary designs and groundbreaking materials that will increase your level of comfort and improve the therapeutic support you need to maintain restful sleep for many wonderful blissful years of sleeping&#46; If you want the most restful sleep you can get to and want to reinvigorate your life, discover what solutions the technologically advanced leader in comfort bedding has in store for you&#46; Memory Foam Solutions mattresses, toppers and pillows will thoroughly improve and enhance your quality of life&#46; </p><b>Features</b>. Two classic contour pillows with a reversible lobe to fit your personalized sleep style &#45; no cover with pillow. Made in the USA<b>Specifications</b>. <b>Material&#58;</b> Memory Foam. <b>Bed Topper Thickness&#58;</b> 1&#46;5''. <b>Bed Topper Size&#58;</b> Full &#38; Double. <b>Density&#58;</b> 3 lbs. <b>Weight&#58;</b> 19 lbs-We do not ship to PO BOXES, please enter a street address. We only ship to the contiguous 48 States.\",\n",
       "  'main_image_url': nan,\n",
       "  'product_category': 'Home & Garden > Home Textile > Bedding > Mattress Toppers',\n",
       "  'l2_category': 'Home & Garden > Home Textile',\n",
       "  'rater1_output': 'Home & Garden > Home Textile > Bedding > Mattress Toppers > Materials > Foam',\n",
       "  'rater2_output': 'Home & Garden > Home Textile > Bedding > Mattress Toppers > Materials > Memory Foam',\n",
       "  'rater3_output': 'Home & Garden > Home Textile > Bedding > Mattress Toppers > Materials > Foam',\n",
       "  'rater1_no_attributes': nan,\n",
       "  'rater1_unlisted_value': nan,\n",
       "  'rater2_no_attributes': nan,\n",
       "  'rater2_unlisted_value': nan,\n",
       "  'rater3_no_attributes': nan,\n",
       "  'rater3_unlisted_value': nan,\n",
       "  'title_original': 'Memory Foam Solutions UBSMSF915ZCP2 Topper Cover and Two Classic Contour Pillows and Full / Double Size 1.5 Inch Thick 3 Pound Density Visco Elastic Memory Foam Mattress Bed Topper Made in the USA',\n",
       "  'final_output': 'Home & Garden > Home Textile > Bedding > Mattress Toppers > Materials > Foam\\nHome & Garden > Home Textile > Bedding > Mattress Toppers > Materials > Memory Foam\\nHome & Garden > Home Textile > Bedding > Mattress Toppers > Materials > Foam'}]"
      ]
     },
     "execution_count": 59,
     "metadata": {},
     "output_type": "execute_result"
    }
   ],
   "source": [
    "df_onlytext[df_onlytext.product_category == 'Home & Garden > Home Textile > Bedding > Mattress Toppers'].to_dict('records')"
   ]
  },
  {
   "cell_type": "code",
   "execution_count": 60,
   "metadata": {},
   "outputs": [
    {
     "name": "stderr",
     "output_type": "stream",
     "text": [
      "/tmp/ipykernel_1097/859694556.py:1: SettingWithCopyWarning: \n",
      "A value is trying to be set on a copy of a slice from a DataFrame.\n",
      "Try using .loc[row_indexer,col_indexer] = value instead\n",
      "\n",
      "See the caveats in the documentation: https://pandas.pydata.org/pandas-docs/stable/user_guide/indexing.html#returning-a-view-versus-a-copy\n",
      "  df_onlytext['category'] = df_onlytext['product_category']\n",
      "/tmp/ipykernel_1097/859694556.py:2: SettingWithCopyWarning: \n",
      "A value is trying to be set on a copy of a slice from a DataFrame.\n",
      "Try using .loc[row_indexer,col_indexer] = value instead\n",
      "\n",
      "See the caveats in the documentation: https://pandas.pydata.org/pandas-docs/stable/user_guide/indexing.html#returning-a-view-versus-a-copy\n",
      "  df_onlytext['category_id'] = df_onlytext['category'].apply(lambda x: tax2id[x])\n"
     ]
    }
   ],
   "source": [
    "df_onlytext['category'] = df_onlytext['product_category']\n",
    "df_onlytext['category_id'] = df_onlytext['category'].apply(lambda x: tax2id[x])"
   ]
  },
  {
   "cell_type": "code",
   "execution_count": 61,
   "metadata": {},
   "outputs": [],
   "source": [
    "df_onlytext = df_onlytext[df_onlytext.category_id.apply(lambda x: x in categoryid2config_multiselect)]\n"
   ]
  },
  {
   "cell_type": "code",
   "execution_count": 62,
   "metadata": {},
   "outputs": [
    {
     "data": {
      "text/plain": [
       "26066"
      ]
     },
     "execution_count": 62,
     "metadata": {},
     "output_type": "execute_result"
    }
   ],
   "source": [
    "len(df_onlytext)"
   ]
  },
  {
   "cell_type": "code",
   "execution_count": 64,
   "metadata": {},
   "outputs": [
    {
     "data": {
      "text/html": [
       "<div>\n",
       "<style scoped>\n",
       "    .dataframe tbody tr th:only-of-type {\n",
       "        vertical-align: middle;\n",
       "    }\n",
       "\n",
       "    .dataframe tbody tr th {\n",
       "        vertical-align: top;\n",
       "    }\n",
       "\n",
       "    .dataframe thead th {\n",
       "        text-align: right;\n",
       "    }\n",
       "</style>\n",
       "<table border=\"1\" class=\"dataframe\">\n",
       "  <thead>\n",
       "    <tr style=\"text-align: right;\">\n",
       "      <th></th>\n",
       "      <th>label_ordering</th>\n",
       "      <th>sample_method</th>\n",
       "      <th>product_id</th>\n",
       "      <th>title</th>\n",
       "      <th>product_description</th>\n",
       "      <th>main_image_url</th>\n",
       "      <th>product_category</th>\n",
       "      <th>l2_category</th>\n",
       "      <th>rater1_output</th>\n",
       "      <th>rater2_output</th>\n",
       "      <th>...</th>\n",
       "      <th>rater1_no_attributes</th>\n",
       "      <th>rater1_unlisted_value</th>\n",
       "      <th>rater2_no_attributes</th>\n",
       "      <th>rater2_unlisted_value</th>\n",
       "      <th>rater3_no_attributes</th>\n",
       "      <th>rater3_unlisted_value</th>\n",
       "      <th>title_original</th>\n",
       "      <th>final_output</th>\n",
       "      <th>category</th>\n",
       "      <th>category_id</th>\n",
       "    </tr>\n",
       "  </thead>\n",
       "  <tbody>\n",
       "    <tr>\n",
       "      <th>1</th>\n",
       "      <td>145</td>\n",
       "      <td>only_text</td>\n",
       "      <td>60d3bdaf6dbb5f0054f20a81</td>\n",
       "      <td>Esource Parts - Braided Micro USB Cable for An...</td>\n",
       "      <td>A special type of adhesive keeps your Samsung ...</td>\n",
       "      <td>NaN</td>\n",
       "      <td>Cellphones &amp; Telecommunications &gt; Mobile Phone...</td>\n",
       "      <td>Cellphones &amp; Telecommunications &gt; Mobile Phone...</td>\n",
       "      <td>Cellphones &amp; Telecommunications &gt; Mobile Phone...</td>\n",
       "      <td>Cellphones &amp; Telecommunications &gt; Mobile Phone...</td>\n",
       "      <td>...</td>\n",
       "      <td>NaN</td>\n",
       "      <td>NaN</td>\n",
       "      <td>NaN</td>\n",
       "      <td>NaN</td>\n",
       "      <td>NaN</td>\n",
       "      <td>NaN</td>\n",
       "      <td>Esource Parts - Braided Micro USB Cable for An...</td>\n",
       "      <td>Cellphones &amp; Telecommunications &gt; Mobile Phone...</td>\n",
       "      <td>Cellphones &amp; Telecommunications &gt; Mobile Phone...</td>\n",
       "      <td>1271</td>\n",
       "    </tr>\n",
       "  </tbody>\n",
       "</table>\n",
       "<p>1 rows × 21 columns</p>\n",
       "</div>"
      ],
      "text/plain": [
       "   label_ordering sample_method                product_id  \\\n",
       "1             145     only_text  60d3bdaf6dbb5f0054f20a81   \n",
       "\n",
       "                                               title  \\\n",
       "1  Esource Parts - Braided Micro USB Cable for An...   \n",
       "\n",
       "                                 product_description main_image_url  \\\n",
       "1  A special type of adhesive keeps your Samsung ...            NaN   \n",
       "\n",
       "                                    product_category  \\\n",
       "1  Cellphones & Telecommunications > Mobile Phone...   \n",
       "\n",
       "                                         l2_category  \\\n",
       "1  Cellphones & Telecommunications > Mobile Phone...   \n",
       "\n",
       "                                       rater1_output  \\\n",
       "1  Cellphones & Telecommunications > Mobile Phone...   \n",
       "\n",
       "                                       rater2_output  ...  \\\n",
       "1  Cellphones & Telecommunications > Mobile Phone...  ...   \n",
       "\n",
       "  rater1_no_attributes rater1_unlisted_value rater2_no_attributes  \\\n",
       "1                  NaN                   NaN                  NaN   \n",
       "\n",
       "  rater2_unlisted_value rater3_no_attributes rater3_unlisted_value  \\\n",
       "1                   NaN                  NaN                   NaN   \n",
       "\n",
       "                                      title_original  \\\n",
       "1  Esource Parts - Braided Micro USB Cable for An...   \n",
       "\n",
       "                                        final_output  \\\n",
       "1  Cellphones & Telecommunications > Mobile Phone...   \n",
       "\n",
       "                                            category category_id  \n",
       "1  Cellphones & Telecommunications > Mobile Phone...        1271  \n",
       "\n",
       "[1 rows x 21 columns]"
      ]
     },
     "execution_count": 64,
     "metadata": {},
     "output_type": "execute_result"
    }
   ],
   "source": [
    "df_onlytext.head(1)"
   ]
  },
  {
   "cell_type": "code",
   "execution_count": 65,
   "metadata": {},
   "outputs": [],
   "source": [
    "df_onlytext = df_onlytext.rename(columns={\n",
    "    'category': 'category_path'\n",
    "})"
   ]
  },
  {
   "cell_type": "code",
   "execution_count": 67,
   "metadata": {},
   "outputs": [],
   "source": [
    "res = []\n",
    "for i in df_onlytext[['product_id', 'category_id', 'category_path', 'title', 'product_description', 'main_image_url']].to_dict('records'):\n",
    "    i['text'] = \\\n",
    "f\"\"\"Title: {i['title']}\n",
    "Description: {i['product_description']}\"\"\"\n",
    "    i['attribute_config'] = categoryid2config_multiselect[i['category_id']]\n",
    "    task_json = json.dumps(sortOD(i)).encode('utf-8')\n",
    "    task_id = hashlib.md5(task_json).hexdigest()\n",
    "    i['task_id'] = f\"product_attribution_md_{task_id}\"\n",
    "    i['preloading_result'] = None\n",
    "    res.append(i)"
   ]
  },
  {
   "cell_type": "code",
   "execution_count": 68,
   "metadata": {},
   "outputs": [],
   "source": [
    "pd.DataFrame(res).to_json('input/product_attr_extract_md_03252023.json', lines=True, orient='records')"
   ]
  },
  {
   "cell_type": "code",
   "execution_count": 70,
   "metadata": {},
   "outputs": [
    {
     "data": {
      "text/plain": [
       "26066"
      ]
     },
     "execution_count": 70,
     "metadata": {},
     "output_type": "execute_result"
    }
   ],
   "source": [
    "len(res)"
   ]
  },
  {
   "cell_type": "code",
   "execution_count": 71,
   "metadata": {},
   "outputs": [
    {
     "data": {
      "text/plain": [
       "26066"
      ]
     },
     "execution_count": 71,
     "metadata": {},
     "output_type": "execute_result"
    }
   ],
   "source": [
    "len(set([i['task_id'] for i in res]))"
   ]
  },
  {
   "cell_type": "code",
   "execution_count": 72,
   "metadata": {},
   "outputs": [],
   "source": [
    "older_task_ids = set(pd.read_json('input/product_attr_extract_md_03072023.json', lines=True).task_id)"
   ]
  },
  {
   "cell_type": "code",
   "execution_count": 73,
   "metadata": {},
   "outputs": [
    {
     "data": {
      "text/plain": [
       "1000"
      ]
     },
     "execution_count": 73,
     "metadata": {},
     "output_type": "execute_result"
    }
   ],
   "source": [
    "len(older_task_ids)"
   ]
  },
  {
   "cell_type": "code",
   "execution_count": 74,
   "metadata": {},
   "outputs": [
    {
     "data": {
      "text/plain": [
       "0"
      ]
     },
     "execution_count": 74,
     "metadata": {},
     "output_type": "execute_result"
    }
   ],
   "source": [
    "len(older_task_ids.intersection(set([i['task_id'] for i in res])))"
   ]
  },
  {
   "cell_type": "code",
   "execution_count": null,
   "metadata": {},
   "outputs": [],
   "source": []
  }
 ],
 "metadata": {
  "kernelspec": {
   "display_name": "Python 3",
   "language": "python",
   "name": "python3"
  },
  "language_info": {
   "codemirror_mode": {
    "name": "ipython",
    "version": 3
   },
   "file_extension": ".py",
   "mimetype": "text/x-python",
   "name": "python",
   "nbconvert_exporter": "python",
   "pygments_lexer": "ipython3",
   "version": "3.8.13"
  },
  "orig_nbformat": 4,
  "vscode": {
   "interpreter": {
    "hash": "949777d72b0d2535278d3dc13498b2535136f6dfe0678499012e853ee9abcab1"
   }
  }
 },
 "nbformat": 4,
 "nbformat_minor": 2
}
