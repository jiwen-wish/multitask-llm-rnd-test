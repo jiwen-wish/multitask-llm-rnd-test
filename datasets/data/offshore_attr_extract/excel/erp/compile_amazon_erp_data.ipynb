{
 "cells": [
  {
   "cell_type": "code",
   "execution_count": 2,
   "metadata": {},
   "outputs": [],
   "source": [
    "import pandas as pd"
   ]
  },
  {
   "cell_type": "code",
   "execution_count": 3,
   "metadata": {},
   "outputs": [],
   "source": [
    "dfs = []\n",
    "for i in range(5):\n",
    "    dfs.append(pd.read_excel(f'input/amazon_annotation_part{i}.xlsx'))"
   ]
  },
  {
   "cell_type": "code",
   "execution_count": 4,
   "metadata": {},
   "outputs": [],
   "source": [
    "df_input = pd.concat(dfs)"
   ]
  },
  {
   "cell_type": "code",
   "execution_count": 5,
   "metadata": {},
   "outputs": [
    {
     "data": {
      "text/html": [
       "<div>\n",
       "<style scoped>\n",
       "    .dataframe tbody tr th:only-of-type {\n",
       "        vertical-align: middle;\n",
       "    }\n",
       "\n",
       "    .dataframe tbody tr th {\n",
       "        vertical-align: top;\n",
       "    }\n",
       "\n",
       "    .dataframe thead th {\n",
       "        text-align: right;\n",
       "    }\n",
       "</style>\n",
       "<table border=\"1\" class=\"dataframe\">\n",
       "  <thead>\n",
       "    <tr style=\"text-align: right;\">\n",
       "      <th></th>\n",
       "      <th>erp_attr_name</th>\n",
       "      <th>erp_attr_value</th>\n",
       "      <th>wish_attr_name</th>\n",
       "      <th>wish_attr_value</th>\n",
       "    </tr>\n",
       "  </thead>\n",
       "  <tbody>\n",
       "    <tr>\n",
       "      <th>0</th>\n",
       "      <td>Additional Features</td>\n",
       "      <td>Breakaway</td>\n",
       "      <td>NaN</td>\n",
       "      <td>NaN</td>\n",
       "    </tr>\n",
       "    <tr>\n",
       "      <th>1</th>\n",
       "      <td>Additional Features</td>\n",
       "      <td>Extendable</td>\n",
       "      <td>NaN</td>\n",
       "      <td>NaN</td>\n",
       "    </tr>\n",
       "  </tbody>\n",
       "</table>\n",
       "</div>"
      ],
      "text/plain": [
       "         erp_attr_name erp_attr_value  wish_attr_name  wish_attr_value\n",
       "0  Additional Features      Breakaway             NaN              NaN\n",
       "1  Additional Features     Extendable             NaN              NaN"
      ]
     },
     "execution_count": 5,
     "metadata": {},
     "output_type": "execute_result"
    }
   ],
   "source": [
    "df_input.head(2)"
   ]
  },
  {
   "cell_type": "code",
   "execution_count": 6,
   "metadata": {},
   "outputs": [
    {
     "data": {
      "text/plain": [
       "49505"
      ]
     },
     "execution_count": 6,
     "metadata": {},
     "output_type": "execute_result"
    }
   ],
   "source": [
    "len(df_input)"
   ]
  },
  {
   "cell_type": "code",
   "execution_count": 7,
   "metadata": {},
   "outputs": [],
   "source": [
    "df_input['uniq_str'] = df_input['erp_attr_name'] + df_input['erp_attr_value']"
   ]
  },
  {
   "cell_type": "code",
   "execution_count": 8,
   "metadata": {},
   "outputs": [
    {
     "data": {
      "text/plain": [
       "49505"
      ]
     },
     "execution_count": 8,
     "metadata": {},
     "output_type": "execute_result"
    }
   ],
   "source": [
    "len(set(df_input['uniq_str']))"
   ]
  },
  {
   "cell_type": "code",
   "execution_count": 9,
   "metadata": {},
   "outputs": [],
   "source": [
    "dfs = [] \n",
    "for i in [ \n",
    "    \"output/7th March'23 ERP FC.xlsx\", \n",
    "    \"output/27th Feb'23 - 1st Mar'23 ERP Batch 2.xlsx\", \n",
    "    \"output/ERP Part 0 (22 Feb'23 - 26 Feb'23).xlsx\", \n",
    "]:\n",
    "    dfs += list(pd.read_excel(i, sheet_name=None).items())"
   ]
  },
  {
   "cell_type": "code",
   "execution_count": 10,
   "metadata": {},
   "outputs": [],
   "source": [
    "df_output = pd.concat([\n",
    "    dfs[0][1], dfs[1][1], dfs[2][1], dfs[3][1], dfs[5][1]\n",
    "])"
   ]
  },
  {
   "cell_type": "code",
   "execution_count": 11,
   "metadata": {},
   "outputs": [
    {
     "data": {
      "text/plain": [
       "71711"
      ]
     },
     "execution_count": 11,
     "metadata": {},
     "output_type": "execute_result"
    }
   ],
   "source": [
    "len(df_output)"
   ]
  },
  {
   "cell_type": "code",
   "execution_count": 12,
   "metadata": {},
   "outputs": [],
   "source": [
    "df_output = df_output[ \n",
    "    (df_output['erp_attr_name'].apply(lambda x: isinstance(x, str))) & \\\n",
    "    (df_output['erp_attr_value'].apply(lambda x: isinstance(x, str)))\n",
    "]"
   ]
  },
  {
   "cell_type": "code",
   "execution_count": 13,
   "metadata": {},
   "outputs": [
    {
     "data": {
      "text/plain": [
       "71657"
      ]
     },
     "execution_count": 13,
     "metadata": {},
     "output_type": "execute_result"
    }
   ],
   "source": [
    "len(df_output)"
   ]
  },
  {
   "cell_type": "code",
   "execution_count": 14,
   "metadata": {},
   "outputs": [],
   "source": [
    "df_output['uniq_str'] = df_output['erp_attr_name'] + df_output['erp_attr_value']\n",
    "df_output = df_output.drop_duplicates('uniq_str', keep='first')"
   ]
  },
  {
   "cell_type": "code",
   "execution_count": 15,
   "metadata": {},
   "outputs": [
    {
     "data": {
      "text/plain": [
       "49597"
      ]
     },
     "execution_count": 15,
     "metadata": {},
     "output_type": "execute_result"
    }
   ],
   "source": [
    "len(df_output)"
   ]
  },
  {
   "cell_type": "code",
   "execution_count": 16,
   "metadata": {},
   "outputs": [],
   "source": [
    "df_merge = df_input[['uniq_str']].merge(df_output, on='uniq_str', how='inner')"
   ]
  },
  {
   "cell_type": "code",
   "execution_count": 17,
   "metadata": {},
   "outputs": [
    {
     "data": {
      "text/plain": [
       "49501"
      ]
     },
     "execution_count": 17,
     "metadata": {},
     "output_type": "execute_result"
    }
   ],
   "source": [
    "len(df_merge)"
   ]
  },
  {
   "cell_type": "code",
   "execution_count": 18,
   "metadata": {},
   "outputs": [
    {
     "data": {
      "text/plain": [
       "{'Additional Chemical Name1, Streptozotocin (streptozocin)',\n",
       " 'Additional Chemical Name1,p-Chloro-o-toluidine, strong acid salts ofp-Chloro-o-toluidine strong acid salts of',\n",
       " 'Additional Chemical Name10p-Chloroaniline',\n",
       " 'Additional Chemical Name10p-Chloroaniline hydrochloride',\n",
       " 'Additional Chemical Name11Phenacemide',\n",
       " 'Additional Chemical Name11Phenacetin',\n",
       " 'Additional Chemical Name12Pipobroman',\n",
       " 'Additional Chemical Name12Pirimicarb',\n",
       " 'Additional Chemical Name13Procarbazine',\n",
       " 'Additional Chemical Name13Procarbazine hydrochloride',\n",
       " 'Additional Chemical Name14Quizalofop-ethyl',\n",
       " 'Additional Chemical Name14Radionuclides',\n",
       " 'Additional Chemical Name15Simazine',\n",
       " 'Additional Chemical Name15Sodium cyanide',\n",
       " 'Additional Chemical Name16Sulindac',\n",
       " 'Additional Chemical Name16Talc containing asbestiform fibers',\n",
       " 'Additional Chemical Name17Tetrafluoroethylene',\n",
       " 'Additional Chemical Name17Tetranitromethane',\n",
       " 'Additional Chemical Name18Toxaphene (Polychlorinated camphenes)',\n",
       " 'Additional Chemical Name18Toxins derived from Fusarium moniliforme (Fusarium verticillioides)',\n",
       " 'Additional Chemical Name19Tris(1,3-dichloro-2-propyl) phosphate (TDCPP)',\n",
       " 'Additional Chemical Name19Tris(1-aziridinyl)phosphine sulfide (Thiotepa)',\n",
       " 'Additional Chemical Name1Additional Chemical Name1',\n",
       " 'Additional Chemical Name1Phenylhydrazine, Phenylhydrazine',\n",
       " 'Additional Chemical Name1p-Chloroaniline hydrochloride,p-Chloroaniline hydrochloride',\n",
       " 'Additional Chemical Name20Vinyl cyclohexene dioxide (4-Vinyl-1-cyclohexene diepoxide)',\n",
       " 'Additional Chemical Name20Vinyl fluoride',\n",
       " 'Additional Chemical Name21Di-n-butyl phthalate (DBP)',\n",
       " 'Additional Chemical Name21Diisononyl phthalate (DINP)',\n",
       " 'Additional Chemical Name221,2-Dichloropropane',\n",
       " 'Additional Chemical Name221,2-Diethylhydrazine',\n",
       " 'Additional Chemical Name231-Hydroxyanthraquinone',\n",
       " 'Additional Chemical Name231-Naphthylamine',\n",
       " 'Additional Chemical Name242,6-Dimethyl-N-nitrosomorpholine (DMNM)',\n",
       " 'Additional Chemical Name242,6-Dinitrotoluene',\n",
       " \"Additional Chemical Name253,3'-Dichloro-4,4'-diamino-diphenyl ether\",\n",
       " \"Additional Chemical Name253,3'-Dichlorobenzidine\",\n",
       " \"Additional Chemical Name264,4'-Methylene bis(2-methylaniline)\",\n",
       " \"Additional Chemical Name264,4'-Methylene bis(N,N-dimethyl)benzenamine\",\n",
       " 'Additional Chemical Name275-Nitroacenaphthene',\n",
       " 'Additional Chemical Name276-Nitrochrysene',\n",
       " 'Additional Chemical Name28Alachlor',\n",
       " 'Additional Chemical Name28Alcoholic beverages, when associated with alcohol abuse',\n",
       " 'Additional Chemical Name29Analgesic mixtures containing Phenacetin',\n",
       " 'Additional Chemical Name29Androstenedione',\n",
       " 'Additional Chemical Name30Auranofin',\n",
       " 'Additional Chemical Name30Avermectin B1 (Abamectin)',\n",
       " 'Additional Chemical Name31Benzodiazepines',\n",
       " 'Additional Chemical Name31Benzofuran',\n",
       " 'Additional Chemical Name32Bis(chloromethyl)ether',\n",
       " 'Additional Chemical Name32Bischloroethyl nitrosourea (BCNU) (Carmustine)',\n",
       " 'Additional Chemical Name33C.I. Direct Blue 15',\n",
       " 'Additional Chemical Name33C.I. Direct Blue 218',\n",
       " 'Additional Chemical Name34Carboplatin',\n",
       " 'Additional Chemical Name34Catechol',\n",
       " 'Additional Chemical Name35Chloroform',\n",
       " 'Additional Chemical Name35Chloromethyl methyl ether (technical grade)',\n",
       " 'Additional Chemical Name36Clomiphene citrate',\n",
       " 'Additional Chemical Name36Clorazepate dipotassium',\n",
       " 'Additional Chemical Name37Cycasin',\n",
       " 'Additional Chemical Name37Cycloate',\n",
       " 'Additional Chemical Name38DDD (Dichlorodiphenyl-dichloroethane)',\n",
       " 'Additional Chemical Name38Daunorubicin hydrochloride',\n",
       " 'Additional Chemical Name39Dibenzo[a,h]pyrene',\n",
       " 'Additional Chemical Name39Dibenzo[a,i]pyrene',\n",
       " 'Additional Chemical Name40Diglycidyl resorcinol ether (DGRE)',\n",
       " 'Additional Chemical Name40Dihydroergotamine mesylate',\n",
       " 'Additional Chemical Name41Disodium cyanodithioimidocarbonate',\n",
       " 'Additional Chemical Name41Disperse Blue 1',\n",
       " 'Additional Chemical Name5Nickel refinery dust from the pyrometallurgical process',\n",
       " 'Additional Chemical Name5Nickel subsulfide',\n",
       " 'Additional Chemical Name6Nitromethane',\n",
       " 'Additional Chemical Name6Nitrous oxide',\n",
       " 'Additional Chemical Name7N-Nitrosomethyl-n-octylamine',\n",
       " 'Additional Chemical Name7N-Nitrosomethyl-n-pentylamine',\n",
       " 'Additional Chemical Name8Norethynodrel',\n",
       " 'Additional Chemical Name8Norgestrel',\n",
       " 'Additional Chemical Name9Oryzalin',\n",
       " 'Additional Chemical Name9o-Toluidine',\n",
       " 'Analog RBG InputHD-16',\n",
       " 'Analog RBG InputHD-17',\n",
       " 'Analog Video FormatHD-18',\n",
       " 'Aspect RatioHD-19',\n",
       " 'CompatibilityT Mount',\n",
       " 'Compatible Mountingsc',\n",
       " 'Connector Type Used on Cableconte',\n",
       " 'Cooling Methodfan',\n",
       " 'Fretboard Material Typefiberglass',\n",
       " 'Hardware ConnectivityMini  Type B',\n",
       " 'Iteam namePad',\n",
       " 'Item Typekids Backpack',\n",
       " 'Light Source Length Unit Of MeasureLow Pressure Mercury Discharge',\n",
       " 'Main Power Connector Type 24 pin',\n",
       " 'Size MapOne size',\n",
       " 'Specific Uses For ProductBrake Light',\n",
       " 'abs plasticImperial Gallons'}"
      ]
     },
     "execution_count": 18,
     "metadata": {},
     "output_type": "execute_result"
    }
   ],
   "source": [
    "set(df_output['uniq_str']) - set(df_merge['uniq_str'])"
   ]
  },
  {
   "cell_type": "code",
   "execution_count": 19,
   "metadata": {},
   "outputs": [
    {
     "data": {
      "text/html": [
       "<div>\n",
       "<style scoped>\n",
       "    .dataframe tbody tr th:only-of-type {\n",
       "        vertical-align: middle;\n",
       "    }\n",
       "\n",
       "    .dataframe tbody tr th {\n",
       "        vertical-align: top;\n",
       "    }\n",
       "\n",
       "    .dataframe thead th {\n",
       "        text-align: right;\n",
       "    }\n",
       "</style>\n",
       "<table border=\"1\" class=\"dataframe\">\n",
       "  <thead>\n",
       "    <tr style=\"text-align: right;\">\n",
       "      <th></th>\n",
       "      <th>uniq_str</th>\n",
       "      <th>Date</th>\n",
       "      <th>Sr No</th>\n",
       "      <th>erp_attr_name</th>\n",
       "      <th>erp_attr_value</th>\n",
       "      <th>wish_attr_name</th>\n",
       "      <th>wish_attr_value</th>\n",
       "      <th>Cust_Value</th>\n",
       "      <th>Comments</th>\n",
       "      <th>custom_value</th>\n",
       "      <th>comments</th>\n",
       "    </tr>\n",
       "  </thead>\n",
       "  <tbody>\n",
       "    <tr>\n",
       "      <th>8396</th>\n",
       "      <td>SubjectLiterature &amp; Fiction - Contemporary</td>\n",
       "      <td>NaT</td>\n",
       "      <td>NaN</td>\n",
       "      <td>Subject</td>\n",
       "      <td>Literature &amp; Fiction - Contemporary</td>\n",
       "      <td>NaN</td>\n",
       "      <td>NaN</td>\n",
       "      <td>NaN</td>\n",
       "      <td>NaN</td>\n",
       "      <td>Literature &amp; Fiction - Contemporary</td>\n",
       "      <td>Don't have Atribute value &amp; Attribute name</td>\n",
       "    </tr>\n",
       "    <tr>\n",
       "      <th>9067</th>\n",
       "      <td>Aspect Ratio1:29:01</td>\n",
       "      <td>NaT</td>\n",
       "      <td>NaN</td>\n",
       "      <td>Aspect Ratio</td>\n",
       "      <td>1:29:01</td>\n",
       "      <td>NaN</td>\n",
       "      <td>NaN</td>\n",
       "      <td>NaN</td>\n",
       "      <td>NaN</td>\n",
       "      <td>1:29:01</td>\n",
       "      <td>Don't have Atribute value &amp; Attribute name</td>\n",
       "    </tr>\n",
       "  </tbody>\n",
       "</table>\n",
       "</div>"
      ],
      "text/plain": [
       "                                        uniq_str Date  Sr No erp_attr_name  \\\n",
       "8396  SubjectLiterature & Fiction - Contemporary  NaT    NaN       Subject   \n",
       "9067                         Aspect Ratio1:29:01  NaT    NaN  Aspect Ratio   \n",
       "\n",
       "                           erp_attr_value wish_attr_name wish_attr_value  \\\n",
       "8396  Literature & Fiction - Contemporary            NaN             NaN   \n",
       "9067                              1:29:01            NaN             NaN   \n",
       "\n",
       "     Cust_Value Comments                         custom_value  \\\n",
       "8396        NaN      NaN  Literature & Fiction - Contemporary   \n",
       "9067        NaN      NaN                              1:29:01   \n",
       "\n",
       "                                        comments  \n",
       "8396  Don't have Atribute value & Attribute name  \n",
       "9067  Don't have Atribute value & Attribute name  "
      ]
     },
     "execution_count": 19,
     "metadata": {},
     "output_type": "execute_result"
    }
   ],
   "source": [
    "df_merge[~df_merge['custom_value'].isna()]"
   ]
  },
  {
   "cell_type": "code",
   "execution_count": 20,
   "metadata": {},
   "outputs": [],
   "source": [
    "df_merge = df_merge[['erp_attr_name', 'erp_attr_value', 'wish_attr_name', 'wish_attr_value', 'Cust_Value']].rename(\n",
    "    columns={\n",
    "        'Cust_Value': 'custom_attr_value'\n",
    "    }\n",
    ")"
   ]
  },
  {
   "cell_type": "code",
   "execution_count": 21,
   "metadata": {},
   "outputs": [
    {
     "data": {
      "text/plain": [
       "49501"
      ]
     },
     "execution_count": 21,
     "metadata": {},
     "output_type": "execute_result"
    }
   ],
   "source": [
    "len(df_merge)"
   ]
  },
  {
   "cell_type": "code",
   "execution_count": 22,
   "metadata": {},
   "outputs": [
    {
     "data": {
      "text/plain": [
       "365"
      ]
     },
     "execution_count": 22,
     "metadata": {},
     "output_type": "execute_result"
    }
   ],
   "source": [
    "len(set(df_merge[['erp_attr_name', 'erp_attr_value', 'wish_attr_name', 'wish_attr_value']].dropna().erp_attr_name))"
   ]
  },
  {
   "cell_type": "code",
   "execution_count": 23,
   "metadata": {},
   "outputs": [
    {
     "data": {
      "text/plain": [
       "5316"
      ]
     },
     "execution_count": 23,
     "metadata": {},
     "output_type": "execute_result"
    }
   ],
   "source": [
    "len(set(df_merge[['erp_attr_name', 'erp_attr_value', 'wish_attr_name', 'wish_attr_value']].dropna().erp_attr_value))"
   ]
  },
  {
   "cell_type": "code",
   "execution_count": 24,
   "metadata": {},
   "outputs": [
    {
     "data": {
      "text/plain": [
       "151"
      ]
     },
     "execution_count": 24,
     "metadata": {},
     "output_type": "execute_result"
    }
   ],
   "source": [
    "len(set(df_merge[['erp_attr_name', 'erp_attr_value', 'wish_attr_name', 'wish_attr_value']].dropna().wish_attr_name))"
   ]
  },
  {
   "cell_type": "code",
   "execution_count": 25,
   "metadata": {},
   "outputs": [
    {
     "data": {
      "text/plain": [
       "3503"
      ]
     },
     "execution_count": 25,
     "metadata": {},
     "output_type": "execute_result"
    }
   ],
   "source": [
    "len(set(df_merge[['erp_attr_name', 'erp_attr_value', 'wish_attr_name', 'wish_attr_value']].dropna().wish_attr_value))"
   ]
  },
  {
   "cell_type": "code",
   "execution_count": 26,
   "metadata": {},
   "outputs": [
    {
     "data": {
      "text/html": [
       "<div>\n",
       "<style scoped>\n",
       "    .dataframe tbody tr th:only-of-type {\n",
       "        vertical-align: middle;\n",
       "    }\n",
       "\n",
       "    .dataframe tbody tr th {\n",
       "        vertical-align: top;\n",
       "    }\n",
       "\n",
       "    .dataframe thead th {\n",
       "        text-align: right;\n",
       "    }\n",
       "</style>\n",
       "<table border=\"1\" class=\"dataframe\">\n",
       "  <thead>\n",
       "    <tr style=\"text-align: right;\">\n",
       "      <th></th>\n",
       "      <th>erp_attr_name</th>\n",
       "      <th>erp_attr_value</th>\n",
       "      <th>wish_attr_name</th>\n",
       "      <th>wish_attr_value</th>\n",
       "      <th>custom_attr_value</th>\n",
       "    </tr>\n",
       "  </thead>\n",
       "  <tbody>\n",
       "    <tr>\n",
       "      <th>0</th>\n",
       "      <td>Additional Features</td>\n",
       "      <td>Breakaway</td>\n",
       "      <td>NaN</td>\n",
       "      <td>NaN</td>\n",
       "      <td>NaN</td>\n",
       "    </tr>\n",
       "    <tr>\n",
       "      <th>1</th>\n",
       "      <td>Additional Features</td>\n",
       "      <td>Extendable</td>\n",
       "      <td>NaN</td>\n",
       "      <td>NaN</td>\n",
       "      <td>NaN</td>\n",
       "    </tr>\n",
       "    <tr>\n",
       "      <th>2</th>\n",
       "      <td>Additional Features</td>\n",
       "      <td>Memory</td>\n",
       "      <td>NaN</td>\n",
       "      <td>NaN</td>\n",
       "      <td>NaN</td>\n",
       "    </tr>\n",
       "    <tr>\n",
       "      <th>3</th>\n",
       "      <td>Additional Features</td>\n",
       "      <td>Power Folding</td>\n",
       "      <td>NaN</td>\n",
       "      <td>NaN</td>\n",
       "      <td>NaN</td>\n",
       "    </tr>\n",
       "    <tr>\n",
       "      <th>4</th>\n",
       "      <td>Additional Features</td>\n",
       "      <td>Puddle Lamp</td>\n",
       "      <td>NaN</td>\n",
       "      <td>NaN</td>\n",
       "      <td>NaN</td>\n",
       "    </tr>\n",
       "    <tr>\n",
       "      <th>...</th>\n",
       "      <td>...</td>\n",
       "      <td>...</td>\n",
       "      <td>...</td>\n",
       "      <td>...</td>\n",
       "      <td>...</td>\n",
       "    </tr>\n",
       "    <tr>\n",
       "      <th>49496</th>\n",
       "      <td>Headphone Fit</td>\n",
       "      <td>In-The-Ear</td>\n",
       "      <td>NaN</td>\n",
       "      <td>NaN</td>\n",
       "      <td>In-The-Ear</td>\n",
       "    </tr>\n",
       "    <tr>\n",
       "      <th>49497</th>\n",
       "      <td>Headphone Fit</td>\n",
       "      <td>Over-The-Ear</td>\n",
       "      <td>Compatible Brand/Model</td>\n",
       "      <td>NaN</td>\n",
       "      <td>Over-The-Ear</td>\n",
       "    </tr>\n",
       "    <tr>\n",
       "      <th>49498</th>\n",
       "      <td>Item Dimensions Unit Of Measure</td>\n",
       "      <td>Meters</td>\n",
       "      <td>NaN</td>\n",
       "      <td>NaN</td>\n",
       "      <td>Meters</td>\n",
       "    </tr>\n",
       "    <tr>\n",
       "      <th>49499</th>\n",
       "      <td>Item Display Diameter Unit Of Measure</td>\n",
       "      <td>Meters</td>\n",
       "      <td>NaN</td>\n",
       "      <td>NaN</td>\n",
       "      <td>Meters</td>\n",
       "    </tr>\n",
       "    <tr>\n",
       "      <th>49500</th>\n",
       "      <td>Package Dimensions Unit Of Measure</td>\n",
       "      <td>Meters</td>\n",
       "      <td>NaN</td>\n",
       "      <td>NaN</td>\n",
       "      <td>Meters</td>\n",
       "    </tr>\n",
       "  </tbody>\n",
       "</table>\n",
       "<p>49501 rows × 5 columns</p>\n",
       "</div>"
      ],
      "text/plain": [
       "                               erp_attr_name erp_attr_value  \\\n",
       "0                        Additional Features      Breakaway   \n",
       "1                        Additional Features     Extendable   \n",
       "2                        Additional Features         Memory   \n",
       "3                        Additional Features  Power Folding   \n",
       "4                        Additional Features    Puddle Lamp   \n",
       "...                                      ...            ...   \n",
       "49496                          Headphone Fit     In-The-Ear   \n",
       "49497                          Headphone Fit   Over-The-Ear   \n",
       "49498        Item Dimensions Unit Of Measure         Meters   \n",
       "49499  Item Display Diameter Unit Of Measure         Meters   \n",
       "49500     Package Dimensions Unit Of Measure         Meters   \n",
       "\n",
       "               wish_attr_name wish_attr_value custom_attr_value  \n",
       "0                         NaN             NaN               NaN  \n",
       "1                         NaN             NaN               NaN  \n",
       "2                         NaN             NaN               NaN  \n",
       "3                         NaN             NaN               NaN  \n",
       "4                         NaN             NaN               NaN  \n",
       "...                       ...             ...               ...  \n",
       "49496                     NaN             NaN        In-The-Ear  \n",
       "49497  Compatible Brand/Model             NaN      Over-The-Ear  \n",
       "49498                     NaN             NaN            Meters  \n",
       "49499                     NaN             NaN            Meters  \n",
       "49500                     NaN             NaN            Meters  \n",
       "\n",
       "[49501 rows x 5 columns]"
      ]
     },
     "execution_count": 26,
     "metadata": {},
     "output_type": "execute_result"
    }
   ],
   "source": [
    "df_merge"
   ]
  },
  {
   "cell_type": "code",
   "execution_count": 27,
   "metadata": {},
   "outputs": [],
   "source": [
    "df_attributes = pd.read_csv('../../../attribute_extraction_metadata_template/attribute_definition_top25L2_filtered_augmented_redacted_addedsinglemulti_01182023.csv')"
   ]
  },
  {
   "cell_type": "code",
   "execution_count": 28,
   "metadata": {},
   "outputs": [],
   "source": [
    "df_attributes_orig = pd.read_csv('../../../attribute_extraction_metadata_template/Initial Attribute Definition for First Release - UPDATED SHEET .csv')"
   ]
  },
  {
   "cell_type": "code",
   "execution_count": 29,
   "metadata": {},
   "outputs": [],
   "source": [
    "cats = set(df_attributes['category'])"
   ]
  },
  {
   "cell_type": "code",
   "execution_count": 30,
   "metadata": {},
   "outputs": [],
   "source": [
    "df_attributes_orig_sub = df_attributes_orig[\n",
    "    (df_attributes_orig.category.apply(lambda x: x in cats)) & (df_attributes_orig['entry mode'].apply(lambda x: x != 'free_text'))\n",
    "]"
   ]
  },
  {
   "cell_type": "code",
   "execution_count": 31,
   "metadata": {},
   "outputs": [],
   "source": [
    "from functools import reduce"
   ]
  },
  {
   "cell_type": "code",
   "execution_count": 32,
   "metadata": {},
   "outputs": [],
   "source": [
    "df_attributes_orig_sub_group = df_attributes_orig_sub[['attribute_field', 'category_attributevalue']].groupby('attribute_field').agg({\n",
    "    'category_attributevalue': lambda x: sorted(set(reduce(lambda x, y: x+y, [[str(j) for j in eval(i)] for i in x])))\n",
    "}).reset_index()"
   ]
  },
  {
   "cell_type": "code",
   "execution_count": 33,
   "metadata": {},
   "outputs": [],
   "source": [
    "df_attributes_group = df_attributes.groupby('attribute_field').agg({\n",
    "    'category_attributevalue': lambda x: sorted(set(reduce(lambda x, y: x+y, [[str(j) for j in eval(i)] for i in x])))\n",
    "}).reset_index()"
   ]
  },
  {
   "cell_type": "code",
   "execution_count": 34,
   "metadata": {},
   "outputs": [],
   "source": [
    "attr_vals_normalized = {}\n",
    "for i in df_attributes_group.to_dict('records'):\n",
    "    attr_vals_normalized[i['attribute_field']] = set(i['category_attributevalue'])\n",
    "\n",
    "attr_vals_orig_normalized = {}\n",
    "for i in df_attributes_orig_sub_group.to_dict('records'):\n",
    "    attr_vals_orig_normalized[i['attribute_field']] = set(i['category_attributevalue'])\n",
    "\n",
    "all_kvpairs = set()\n",
    "all_orig_kvpairs = set()\n",
    "\n",
    "for k in attr_vals_normalized:\n",
    "    for v in attr_vals_normalized[k]:\n",
    "        all_kvpairs.add((k, v))\n",
    "\n",
    "for k in attr_vals_orig_normalized:\n",
    "    for v in attr_vals_orig_normalized[k]:\n",
    "        all_orig_kvpairs.add((k, v))"
   ]
  },
  {
   "cell_type": "code",
   "execution_count": 35,
   "metadata": {},
   "outputs": [
    {
     "data": {
      "text/plain": [
       "(230, 193)"
      ]
     },
     "execution_count": 35,
     "metadata": {},
     "output_type": "execute_result"
    }
   ],
   "source": [
    "len(attr_vals_normalized), len(attr_vals_orig_normalized)"
   ]
  },
  {
   "cell_type": "code",
   "execution_count": 36,
   "metadata": {},
   "outputs": [
    {
     "data": {
      "text/plain": [
       "(13592, 6875)"
      ]
     },
     "execution_count": 36,
     "metadata": {},
     "output_type": "execute_result"
    }
   ],
   "source": [
    "len(all_kvpairs), len(all_orig_kvpairs)"
   ]
  },
  {
   "cell_type": "code",
   "execution_count": 37,
   "metadata": {},
   "outputs": [
    {
     "data": {
      "text/html": [
       "<div>\n",
       "<style scoped>\n",
       "    .dataframe tbody tr th:only-of-type {\n",
       "        vertical-align: middle;\n",
       "    }\n",
       "\n",
       "    .dataframe tbody tr th {\n",
       "        vertical-align: top;\n",
       "    }\n",
       "\n",
       "    .dataframe thead th {\n",
       "        text-align: right;\n",
       "    }\n",
       "</style>\n",
       "<table border=\"1\" class=\"dataframe\">\n",
       "  <thead>\n",
       "    <tr style=\"text-align: right;\">\n",
       "      <th></th>\n",
       "      <th>erp_attr_name</th>\n",
       "      <th>erp_attr_value</th>\n",
       "      <th>wish_attr_name</th>\n",
       "      <th>wish_attr_value</th>\n",
       "      <th>custom_attr_value</th>\n",
       "    </tr>\n",
       "  </thead>\n",
       "  <tbody>\n",
       "    <tr>\n",
       "      <th>0</th>\n",
       "      <td>Additional Features</td>\n",
       "      <td>Breakaway</td>\n",
       "      <td>NaN</td>\n",
       "      <td>NaN</td>\n",
       "      <td>NaN</td>\n",
       "    </tr>\n",
       "    <tr>\n",
       "      <th>1</th>\n",
       "      <td>Additional Features</td>\n",
       "      <td>Extendable</td>\n",
       "      <td>NaN</td>\n",
       "      <td>NaN</td>\n",
       "      <td>NaN</td>\n",
       "    </tr>\n",
       "    <tr>\n",
       "      <th>2</th>\n",
       "      <td>Additional Features</td>\n",
       "      <td>Memory</td>\n",
       "      <td>NaN</td>\n",
       "      <td>NaN</td>\n",
       "      <td>NaN</td>\n",
       "    </tr>\n",
       "    <tr>\n",
       "      <th>3</th>\n",
       "      <td>Additional Features</td>\n",
       "      <td>Power Folding</td>\n",
       "      <td>NaN</td>\n",
       "      <td>NaN</td>\n",
       "      <td>NaN</td>\n",
       "    </tr>\n",
       "    <tr>\n",
       "      <th>4</th>\n",
       "      <td>Additional Features</td>\n",
       "      <td>Puddle Lamp</td>\n",
       "      <td>NaN</td>\n",
       "      <td>NaN</td>\n",
       "      <td>NaN</td>\n",
       "    </tr>\n",
       "    <tr>\n",
       "      <th>...</th>\n",
       "      <td>...</td>\n",
       "      <td>...</td>\n",
       "      <td>...</td>\n",
       "      <td>...</td>\n",
       "      <td>...</td>\n",
       "    </tr>\n",
       "    <tr>\n",
       "      <th>49496</th>\n",
       "      <td>Headphone Fit</td>\n",
       "      <td>In-The-Ear</td>\n",
       "      <td>NaN</td>\n",
       "      <td>NaN</td>\n",
       "      <td>In-The-Ear</td>\n",
       "    </tr>\n",
       "    <tr>\n",
       "      <th>49497</th>\n",
       "      <td>Headphone Fit</td>\n",
       "      <td>Over-The-Ear</td>\n",
       "      <td>Compatible Brand/Model</td>\n",
       "      <td>NaN</td>\n",
       "      <td>Over-The-Ear</td>\n",
       "    </tr>\n",
       "    <tr>\n",
       "      <th>49498</th>\n",
       "      <td>Item Dimensions Unit Of Measure</td>\n",
       "      <td>Meters</td>\n",
       "      <td>NaN</td>\n",
       "      <td>NaN</td>\n",
       "      <td>Meters</td>\n",
       "    </tr>\n",
       "    <tr>\n",
       "      <th>49499</th>\n",
       "      <td>Item Display Diameter Unit Of Measure</td>\n",
       "      <td>Meters</td>\n",
       "      <td>NaN</td>\n",
       "      <td>NaN</td>\n",
       "      <td>Meters</td>\n",
       "    </tr>\n",
       "    <tr>\n",
       "      <th>49500</th>\n",
       "      <td>Package Dimensions Unit Of Measure</td>\n",
       "      <td>Meters</td>\n",
       "      <td>NaN</td>\n",
       "      <td>NaN</td>\n",
       "      <td>Meters</td>\n",
       "    </tr>\n",
       "  </tbody>\n",
       "</table>\n",
       "<p>49501 rows × 5 columns</p>\n",
       "</div>"
      ],
      "text/plain": [
       "                               erp_attr_name erp_attr_value  \\\n",
       "0                        Additional Features      Breakaway   \n",
       "1                        Additional Features     Extendable   \n",
       "2                        Additional Features         Memory   \n",
       "3                        Additional Features  Power Folding   \n",
       "4                        Additional Features    Puddle Lamp   \n",
       "...                                      ...            ...   \n",
       "49496                          Headphone Fit     In-The-Ear   \n",
       "49497                          Headphone Fit   Over-The-Ear   \n",
       "49498        Item Dimensions Unit Of Measure         Meters   \n",
       "49499  Item Display Diameter Unit Of Measure         Meters   \n",
       "49500     Package Dimensions Unit Of Measure         Meters   \n",
       "\n",
       "               wish_attr_name wish_attr_value custom_attr_value  \n",
       "0                         NaN             NaN               NaN  \n",
       "1                         NaN             NaN               NaN  \n",
       "2                         NaN             NaN               NaN  \n",
       "3                         NaN             NaN               NaN  \n",
       "4                         NaN             NaN               NaN  \n",
       "...                       ...             ...               ...  \n",
       "49496                     NaN             NaN        In-The-Ear  \n",
       "49497  Compatible Brand/Model             NaN      Over-The-Ear  \n",
       "49498                     NaN             NaN            Meters  \n",
       "49499                     NaN             NaN            Meters  \n",
       "49500                     NaN             NaN            Meters  \n",
       "\n",
       "[49501 rows x 5 columns]"
      ]
     },
     "execution_count": 37,
     "metadata": {},
     "output_type": "execute_result"
    }
   ],
   "source": [
    "df_merge"
   ]
  },
  {
   "cell_type": "code",
   "execution_count": null,
   "metadata": {},
   "outputs": [],
   "source": [
    "import numpy as np"
   ]
  },
  {
   "cell_type": "code",
   "execution_count": 44,
   "metadata": {},
   "outputs": [
    {
     "data": {
      "text/plain": [
       "False"
      ]
     },
     "execution_count": 44,
     "metadata": {},
     "output_type": "execute_result"
    }
   ],
   "source": [
    "isinstance(i['wish_attr_name'], str)"
   ]
  },
  {
   "cell_type": "code",
   "execution_count": 47,
   "metadata": {},
   "outputs": [],
   "source": [
    "recs = []\n",
    "for i in df_merge.to_dict('records'):\n",
    "    if isinstance(i['wish_attr_name'], str):\n",
    "        if isinstance(i['wish_attr_value'], str):\n",
    "            k, v = i['wish_attr_name'].strip(), i['wish_attr_value'].strip()\n",
    "            if k in attr_vals_orig_normalized and v in attr_vals_orig_normalized[k]:\n",
    "                i['attr_name_value_pairs_normalized'] = [(k, v)]\n",
    "                i['attr_name_value_pairs_custom'] = []\n",
    "            else:\n",
    "                i['attr_name_value_pairs_normalized'] = []\n",
    "                i['attr_name_value_pairs_custom'] = [(k, v)]\n",
    "        elif isinstance(i['custom_attr_value'], str):\n",
    "            k, v = i['wish_attr_name'].strip(), i['custom_attr_value'].strip()\n",
    "            if k in attr_vals_orig_normalized and v in attr_vals_orig_normalized[k]:\n",
    "                i['attr_name_value_pairs_normalized'] = [(k, v)]\n",
    "                i['attr_name_value_pairs_custom'] = []\n",
    "            else:\n",
    "                i['attr_name_value_pairs_normalized'] = []\n",
    "                i['attr_name_value_pairs_custom'] = [(k, v)]\n",
    "        else:\n",
    "            i['attr_name_value_pairs_normalized'] = []\n",
    "            i['attr_name_value_pairs_custom'] = []\n",
    "    else:\n",
    "        i['attr_name_value_pairs_normalized'] = []\n",
    "        i['attr_name_value_pairs_custom'] = []\n",
    "    recs.append(i)\n",
    "\n",
    "df_merge = pd.DataFrame(recs)"
   ]
  },
  {
   "cell_type": "code",
   "execution_count": 49,
   "metadata": {},
   "outputs": [],
   "source": [
    "df = df_merge"
   ]
  },
  {
   "cell_type": "code",
   "execution_count": 50,
   "metadata": {},
   "outputs": [
    {
     "data": {
      "text/plain": [
       "(0.14611826023716692, 0.14086584109411932)"
      ]
     },
     "execution_count": 50,
     "metadata": {},
     "output_type": "execute_result"
    }
   ],
   "source": [
    "df['attr_name_value_pairs_normalized'].apply(len).mean(), df['attr_name_value_pairs_custom'].apply(len).mean()"
   ]
  },
  {
   "cell_type": "code",
   "execution_count": 51,
   "metadata": {},
   "outputs": [
    {
     "data": {
      "text/plain": [
       "<Axes: ylabel='Frequency'>"
      ]
     },
     "execution_count": 51,
     "metadata": {},
     "output_type": "execute_result"
    },
    {
     "data": {
      "image/png": "[encoded data removed]",
      "text/plain": [
       "<Figure size 640x480 with 1 Axes>"
      ]
     },
     "metadata": {},
     "output_type": "display_data"
    }
   ],
   "source": [
    "df['attr_name_value_pairs_normalized'].apply(len).plot.hist()"
   ]
  },
  {
   "cell_type": "code",
   "execution_count": 52,
   "metadata": {},
   "outputs": [
    {
     "data": {
      "text/plain": [
       "<Axes: ylabel='Frequency'>"
      ]
     },
     "execution_count": 52,
     "metadata": {},
     "output_type": "execute_result"
    },
    {
     "data": {
      "image/png": "[encoded data removed]",
      "text/plain": [
       "<Figure size 640x480 with 1 Axes>"
      ]
     },
     "metadata": {},
     "output_type": "display_data"
    }
   ],
   "source": [
    "df['attr_name_value_pairs_custom'].apply(len).plot.hist()"
   ]
  },
  {
   "cell_type": "code",
   "execution_count": 53,
   "metadata": {},
   "outputs": [],
   "source": [
    "normalized_attributes = reduce(lambda x,y: x+y, df['attr_name_value_pairs_normalized'].apply(lambda x: [i[0] for i in x]))\n",
    "custom_attributes = reduce(lambda x,y: x+y, df['attr_name_value_pairs_custom'].apply(lambda x: [i[0] for i in x]))"
   ]
  },
  {
   "cell_type": "code",
   "execution_count": 54,
   "metadata": {},
   "outputs": [],
   "source": [
    "normalized_kvpairs = reduce(lambda x,y: x+y, df['attr_name_value_pairs_normalized'])\n",
    "custom_kvpairs = reduce(lambda x,y: x+y, df['attr_name_value_pairs_custom'])"
   ]
  },
  {
   "cell_type": "code",
   "execution_count": 55,
   "metadata": {},
   "outputs": [
    {
     "data": {
      "text/plain": [
       "(128, 139)"
      ]
     },
     "execution_count": 55,
     "metadata": {},
     "output_type": "execute_result"
    }
   ],
   "source": [
    "len(set(normalized_attributes)), len(set(custom_attributes))"
   ]
  },
  {
   "cell_type": "code",
   "execution_count": 56,
   "metadata": {},
   "outputs": [
    {
     "data": {
      "text/plain": [
       "(3524, 5614)"
      ]
     },
     "execution_count": 56,
     "metadata": {},
     "output_type": "execute_result"
    }
   ],
   "source": [
    "len(set(normalized_kvpairs)), len(set(custom_kvpairs))"
   ]
  },
  {
   "cell_type": "code",
   "execution_count": 58,
   "metadata": {},
   "outputs": [],
   "source": [
    "from collections import Counter"
   ]
  },
  {
   "cell_type": "code",
   "execution_count": 59,
   "metadata": {},
   "outputs": [
    {
     "data": {
      "text/plain": [
       "[('Materials', 2107),\n",
       " ('Main Stone', 437),\n",
       " ('Size', 377),\n",
       " ('Item Features', 371),\n",
       " ('Styles', 300)]"
      ]
     },
     "execution_count": 59,
     "metadata": {},
     "output_type": "execute_result"
    }
   ],
   "source": [
    "Counter(normalized_attributes).most_common(5)"
   ]
  },
  {
   "cell_type": "code",
   "execution_count": 60,
   "metadata": {},
   "outputs": [
    {
     "data": {
      "text/plain": [
       "[('Materials', 1744),\n",
       " ('Compatible Brand/Model', 567),\n",
       " ('Item Type', 467),\n",
       " ('Binding', 299),\n",
       " ('Size', 269)]"
      ]
     },
     "execution_count": 60,
     "metadata": {},
     "output_type": "execute_result"
    }
   ],
   "source": [
    "Counter(custom_attributes).most_common(5)"
   ]
  },
  {
   "cell_type": "code",
   "execution_count": 61,
   "metadata": {},
   "outputs": [
    {
     "data": {
      "text/plain": [
       "[(('Materials', 'Nylon'), 36),\n",
       " (('Materials', 'Wood'), 36),\n",
       " (('Materials', 'Leather'), 33),\n",
       " (('Materials', 'Stainless Steel'), 33),\n",
       " (('Materials', 'Plastic'), 32)]"
      ]
     },
     "execution_count": 61,
     "metadata": {},
     "output_type": "execute_result"
    }
   ],
   "source": [
    "Counter(normalized_kvpairs).most_common(5)"
   ]
  },
  {
   "cell_type": "code",
   "execution_count": 62,
   "metadata": {},
   "outputs": [
    {
     "data": {
      "text/plain": [
       "[(('Compatible Brand/Model', 'Motorola'), 126),\n",
       " (('Compatible Brand/Model', 'Samsung'), 74),\n",
       " (('Compatible Brand/Model', 'Nokia'), 67),\n",
       " (('Compatible Brand/Model', 'LG'), 22),\n",
       " (('Compatible Brand/Model', 'Sony Ericsson'), 17)]"
      ]
     },
     "execution_count": 62,
     "metadata": {},
     "output_type": "execute_result"
    }
   ],
   "source": [
    "Counter(custom_kvpairs).most_common(5)"
   ]
  },
  {
   "cell_type": "code",
   "execution_count": 63,
   "metadata": {},
   "outputs": [
    {
     "data": {
      "text/plain": [
       "0.6632124352331606"
      ]
     },
     "execution_count": 63,
     "metadata": {},
     "output_type": "execute_result"
    }
   ],
   "source": [
    "len(set(normalized_attributes)) / len(attr_vals_orig_normalized) # normalized original no free-text"
   ]
  },
  {
   "cell_type": "code",
   "execution_count": 64,
   "metadata": {},
   "outputs": [
    {
     "data": {
      "text/plain": [
       "0.7478260869565218"
      ]
     },
     "execution_count": 64,
     "metadata": {},
     "output_type": "execute_result"
    }
   ],
   "source": [
    "len(set(custom_attributes).union(set(normalized_attributes))) / len(attr_vals_normalized) # add in augmented free-text attributes"
   ]
  },
  {
   "cell_type": "code",
   "execution_count": 65,
   "metadata": {},
   "outputs": [
    {
     "data": {
      "text/plain": [
       "0.5125818181818181"
      ]
     },
     "execution_count": 65,
     "metadata": {},
     "output_type": "execute_result"
    }
   ],
   "source": [
    "len(set(normalized_kvpairs).intersection(all_orig_kvpairs)) / len(all_orig_kvpairs) # normalized original no free-text"
   ]
  },
  {
   "cell_type": "code",
   "execution_count": 66,
   "metadata": {},
   "outputs": [
    {
     "data": {
      "text/plain": [
       "0.2696439081812831"
      ]
     },
     "execution_count": 66,
     "metadata": {},
     "output_type": "execute_result"
    }
   ],
   "source": [
    "len((set(normalized_kvpairs).union(custom_kvpairs)).intersection(all_kvpairs)) / len(all_kvpairs) # add in augmented free-text attributes"
   ]
  },
  {
   "cell_type": "code",
   "execution_count": 67,
   "metadata": {},
   "outputs": [
    {
     "data": {
      "text/plain": [
       "(False, False, False, False)"
      ]
     },
     "execution_count": 67,
     "metadata": {},
     "output_type": "execute_result"
    }
   ],
   "source": [
    "any(['|' in i[0] for i in all_kvpairs]), any(['|' in i[1] for i in all_kvpairs]), any(['\\n' in i[0] for i in all_kvpairs]), any(['\\n' in i[1] for i in all_kvpairs])"
   ]
  },
  {
   "cell_type": "code",
   "execution_count": 68,
   "metadata": {},
   "outputs": [],
   "source": [
    "df['attr_name_value_pairs_normalized_text'] = df['attr_name_value_pairs_normalized'].apply(lambda x: '\\n'.join([i[0] + '|' + i[1] for i in x]))"
   ]
  },
  {
   "cell_type": "code",
   "execution_count": 71,
   "metadata": {},
   "outputs": [],
   "source": [
    "df_out = df"
   ]
  },
  {
   "cell_type": "code",
   "execution_count": 72,
   "metadata": {},
   "outputs": [],
   "source": [
    "df_out.loc[df_out.attr_name_value_pairs_normalized_text.apply(lambda x: len(x) == 0), \"attr_name_value_pairs_normalized_text_addunk\"] = 'unknown'\n",
    "df_out.loc[df_out.attr_name_value_pairs_normalized_text.apply(lambda x: len(x) != 0), \"attr_name_value_pairs_normalized_text_addunk\"] = \\\n",
    "    df_out.loc[df_out.attr_name_value_pairs_normalized_text.apply(lambda x: len(x) != 0), \"attr_name_value_pairs_normalized_text\"]"
   ]
  },
  {
   "cell_type": "code",
   "execution_count": 74,
   "metadata": {},
   "outputs": [
    {
     "data": {
      "text/plain": [
       "<Axes: ylabel='attr_name_value_pairs_normalized_text_addunk'>"
      ]
     },
     "execution_count": 74,
     "metadata": {},
     "output_type": "execute_result"
    },
    {
     "data": {
      "image/png": "[encoded data removed]",
      "text/plain": [
       "<Figure size 640x480 with 1 Axes>"
      ]
     },
     "metadata": {},
     "output_type": "display_data"
    }
   ],
   "source": [
    "df_out.attr_name_value_pairs_normalized_text_addunk.value_counts().plot.pie()"
   ]
  },
  {
   "cell_type": "code",
   "execution_count": 75,
   "metadata": {},
   "outputs": [],
   "source": [
    "from sklearn.model_selection import train_test_split"
   ]
  },
  {
   "cell_type": "code",
   "execution_count": 81,
   "metadata": {},
   "outputs": [],
   "source": [
    "df_out['query'] = df_out['erp_attr_name'] + ': ' + df_out['erp_attr_value']"
   ]
  },
  {
   "cell_type": "code",
   "execution_count": 82,
   "metadata": {},
   "outputs": [],
   "source": [
    "train, _ = train_test_split(df_out, test_size=.2, random_state=42)\n",
    "val, test = train_test_split(_, test_size=0.5, random_state=42)"
   ]
  },
  {
   "cell_type": "code",
   "execution_count": 83,
   "metadata": {},
   "outputs": [
    {
     "data": {
      "text/plain": [
       "(39600, 4950, 4951)"
      ]
     },
     "execution_count": 83,
     "metadata": {},
     "output_type": "execute_result"
    }
   ],
   "source": [
    "len(train), len(val), len(test)"
   ]
  },
  {
   "cell_type": "code",
   "execution_count": 84,
   "metadata": {},
   "outputs": [
    {
     "data": {
      "text/html": [
       "<div>\n",
       "<style scoped>\n",
       "    .dataframe tbody tr th:only-of-type {\n",
       "        vertical-align: middle;\n",
       "    }\n",
       "\n",
       "    .dataframe tbody tr th {\n",
       "        vertical-align: top;\n",
       "    }\n",
       "\n",
       "    .dataframe thead th {\n",
       "        text-align: right;\n",
       "    }\n",
       "</style>\n",
       "<table border=\"1\" class=\"dataframe\">\n",
       "  <thead>\n",
       "    <tr style=\"text-align: right;\">\n",
       "      <th></th>\n",
       "      <th>erp_attr_name</th>\n",
       "      <th>erp_attr_value</th>\n",
       "      <th>wish_attr_name</th>\n",
       "      <th>wish_attr_value</th>\n",
       "      <th>custom_attr_value</th>\n",
       "      <th>attr_name_value_pairs_normalized</th>\n",
       "      <th>attr_name_value_pairs_custom</th>\n",
       "      <th>attr_name_value_pairs_normalized_text</th>\n",
       "      <th>attr_name_value_pairs_normalized_text_addunk</th>\n",
       "      <th>query</th>\n",
       "    </tr>\n",
       "  </thead>\n",
       "  <tbody>\n",
       "    <tr>\n",
       "      <th>41082</th>\n",
       "      <td>Material Type</td>\n",
       "      <td>minteral wool</td>\n",
       "      <td>Materials</td>\n",
       "      <td>Wool</td>\n",
       "      <td>NaN</td>\n",
       "      <td>[(Materials, Wool)]</td>\n",
       "      <td>[]</td>\n",
       "      <td>Materials|Wool</td>\n",
       "      <td>Materials|Wool</td>\n",
       "      <td>Material Type: minteral wool</td>\n",
       "    </tr>\n",
       "    <tr>\n",
       "      <th>11838</th>\n",
       "      <td>Sport Type</td>\n",
       "      <td>Camping and Hiking</td>\n",
       "      <td>Sport or Activity Type</td>\n",
       "      <td>Camping and Hiking</td>\n",
       "      <td>NaN</td>\n",
       "      <td>[(Sport or Activity Type, Camping and Hiking)]</td>\n",
       "      <td>[]</td>\n",
       "      <td>Sport or Activity Type|Camping and Hiking</td>\n",
       "      <td>Sport or Activity Type|Camping and Hiking</td>\n",
       "      <td>Sport Type: Camping and Hiking</td>\n",
       "    </tr>\n",
       "    <tr>\n",
       "      <th>4289</th>\n",
       "      <td>Additional Chemical Name4</td>\n",
       "      <td>Lovastatin</td>\n",
       "      <td>NaN</td>\n",
       "      <td>NaN</td>\n",
       "      <td>Additional Chemical Name4 , Lovastatin</td>\n",
       "      <td>[]</td>\n",
       "      <td>[]</td>\n",
       "      <td></td>\n",
       "      <td>unknown</td>\n",
       "      <td>Additional Chemical Name4: Lovastatin</td>\n",
       "    </tr>\n",
       "    <tr>\n",
       "      <th>37676</th>\n",
       "      <td>Thread Size</td>\n",
       "      <td>M8-1</td>\n",
       "      <td>NaN</td>\n",
       "      <td>NaN</td>\n",
       "      <td>NaN</td>\n",
       "      <td>[]</td>\n",
       "      <td>[]</td>\n",
       "      <td></td>\n",
       "      <td>unknown</td>\n",
       "      <td>Thread Size: M8-1</td>\n",
       "    </tr>\n",
       "    <tr>\n",
       "      <th>6663</th>\n",
       "      <td>Liquid Volume Unit</td>\n",
       "      <td>liter</td>\n",
       "      <td>NaN</td>\n",
       "      <td>NaN</td>\n",
       "      <td>Liquid Volume Unit</td>\n",
       "      <td>[]</td>\n",
       "      <td>[]</td>\n",
       "      <td></td>\n",
       "      <td>unknown</td>\n",
       "      <td>Liquid Volume Unit: liter</td>\n",
       "    </tr>\n",
       "    <tr>\n",
       "      <th>...</th>\n",
       "      <td>...</td>\n",
       "      <td>...</td>\n",
       "      <td>...</td>\n",
       "      <td>...</td>\n",
       "      <td>...</td>\n",
       "      <td>...</td>\n",
       "      <td>...</td>\n",
       "      <td>...</td>\n",
       "      <td>...</td>\n",
       "      <td>...</td>\n",
       "    </tr>\n",
       "    <tr>\n",
       "      <th>11284</th>\n",
       "      <td>Country/Region as Labeled</td>\n",
       "      <td>Oman</td>\n",
       "      <td>NaN</td>\n",
       "      <td>NaN</td>\n",
       "      <td>NaN</td>\n",
       "      <td>[]</td>\n",
       "      <td>[]</td>\n",
       "      <td></td>\n",
       "      <td>unknown</td>\n",
       "      <td>Country/Region as Labeled: Oman</td>\n",
       "    </tr>\n",
       "    <tr>\n",
       "      <th>44732</th>\n",
       "      <td>Material Type</td>\n",
       "      <td>Polyurethane foam</td>\n",
       "      <td>Materials</td>\n",
       "      <td>Polyurethane (PU)</td>\n",
       "      <td>NaN</td>\n",
       "      <td>[(Materials, Polyurethane (PU))]</td>\n",
       "      <td>[]</td>\n",
       "      <td>Materials|Polyurethane (PU)</td>\n",
       "      <td>Materials|Polyurethane (PU)</td>\n",
       "      <td>Material Type: Polyurethane foam</td>\n",
       "    </tr>\n",
       "    <tr>\n",
       "      <th>38158</th>\n",
       "      <td>Metal Type</td>\n",
       "      <td>Cobalt</td>\n",
       "      <td>NaN</td>\n",
       "      <td>NaN</td>\n",
       "      <td>NaN</td>\n",
       "      <td>[]</td>\n",
       "      <td>[]</td>\n",
       "      <td></td>\n",
       "      <td>unknown</td>\n",
       "      <td>Metal Type: Cobalt</td>\n",
       "    </tr>\n",
       "    <tr>\n",
       "      <th>860</th>\n",
       "      <td>Gap Size Unit</td>\n",
       "      <td>IN</td>\n",
       "      <td>NaN</td>\n",
       "      <td>NaN</td>\n",
       "      <td>NaN</td>\n",
       "      <td>[]</td>\n",
       "      <td>[]</td>\n",
       "      <td></td>\n",
       "      <td>unknown</td>\n",
       "      <td>Gap Size Unit: IN</td>\n",
       "    </tr>\n",
       "    <tr>\n",
       "      <th>15795</th>\n",
       "      <td>Platform</td>\n",
       "      <td>Windows 2003 Server</td>\n",
       "      <td>NaN</td>\n",
       "      <td>NaN</td>\n",
       "      <td>NaN</td>\n",
       "      <td>[]</td>\n",
       "      <td>[]</td>\n",
       "      <td></td>\n",
       "      <td>unknown</td>\n",
       "      <td>Platform: Windows 2003 Server</td>\n",
       "    </tr>\n",
       "  </tbody>\n",
       "</table>\n",
       "<p>39600 rows × 10 columns</p>\n",
       "</div>"
      ],
      "text/plain": [
       "                   erp_attr_name       erp_attr_value          wish_attr_name  \\\n",
       "41082              Material Type        minteral wool               Materials   \n",
       "11838                 Sport Type   Camping and Hiking  Sport or Activity Type   \n",
       "4289   Additional Chemical Name4           Lovastatin                     NaN   \n",
       "37676                Thread Size                 M8-1                     NaN   \n",
       "6663          Liquid Volume Unit                liter                     NaN   \n",
       "...                          ...                  ...                     ...   \n",
       "11284  Country/Region as Labeled                 Oman                     NaN   \n",
       "44732              Material Type    Polyurethane foam               Materials   \n",
       "38158                 Metal Type               Cobalt                     NaN   \n",
       "860                Gap Size Unit                   IN                     NaN   \n",
       "15795                   Platform  Windows 2003 Server                     NaN   \n",
       "\n",
       "          wish_attr_value                       custom_attr_value  \\\n",
       "41082                Wool                                     NaN   \n",
       "11838  Camping and Hiking                                     NaN   \n",
       "4289                  NaN  Additional Chemical Name4 , Lovastatin   \n",
       "37676                 NaN                                     NaN   \n",
       "6663                  NaN                      Liquid Volume Unit   \n",
       "...                   ...                                     ...   \n",
       "11284                 NaN                                     NaN   \n",
       "44732   Polyurethane (PU)                                     NaN   \n",
       "38158                 NaN                                     NaN   \n",
       "860                   NaN                                     NaN   \n",
       "15795                 NaN                                     NaN   \n",
       "\n",
       "                     attr_name_value_pairs_normalized  \\\n",
       "41082                             [(Materials, Wool)]   \n",
       "11838  [(Sport or Activity Type, Camping and Hiking)]   \n",
       "4289                                               []   \n",
       "37676                                              []   \n",
       "6663                                               []   \n",
       "...                                               ...   \n",
       "11284                                              []   \n",
       "44732                [(Materials, Polyurethane (PU))]   \n",
       "38158                                              []   \n",
       "860                                                []   \n",
       "15795                                              []   \n",
       "\n",
       "      attr_name_value_pairs_custom      attr_name_value_pairs_normalized_text  \\\n",
       "41082                           []                             Materials|Wool   \n",
       "11838                           []  Sport or Activity Type|Camping and Hiking   \n",
       "4289                            []                                              \n",
       "37676                           []                                              \n",
       "6663                            []                                              \n",
       "...                            ...                                        ...   \n",
       "11284                           []                                              \n",
       "44732                           []                Materials|Polyurethane (PU)   \n",
       "38158                           []                                              \n",
       "860                             []                                              \n",
       "15795                           []                                              \n",
       "\n",
       "      attr_name_value_pairs_normalized_text_addunk  \\\n",
       "41082                               Materials|Wool   \n",
       "11838    Sport or Activity Type|Camping and Hiking   \n",
       "4289                                       unknown   \n",
       "37676                                      unknown   \n",
       "6663                                       unknown   \n",
       "...                                            ...   \n",
       "11284                                      unknown   \n",
       "44732                  Materials|Polyurethane (PU)   \n",
       "38158                                      unknown   \n",
       "860                                        unknown   \n",
       "15795                                      unknown   \n",
       "\n",
       "                                       query  \n",
       "41082           Material Type: minteral wool  \n",
       "11838         Sport Type: Camping and Hiking  \n",
       "4289   Additional Chemical Name4: Lovastatin  \n",
       "37676                      Thread Size: M8-1  \n",
       "6663               Liquid Volume Unit: liter  \n",
       "...                                      ...  \n",
       "11284        Country/Region as Labeled: Oman  \n",
       "44732       Material Type: Polyurethane foam  \n",
       "38158                     Metal Type: Cobalt  \n",
       "860                        Gap Size Unit: IN  \n",
       "15795          Platform: Windows 2003 Server  \n",
       "\n",
       "[39600 rows x 10 columns]"
      ]
     },
     "execution_count": 84,
     "metadata": {},
     "output_type": "execute_result"
    }
   ],
   "source": [
    "train"
   ]
  },
  {
   "cell_type": "code",
   "execution_count": 85,
   "metadata": {},
   "outputs": [],
   "source": [
    "train.to_json('processed/offshore_amazon_erp_attr_train.json', lines=True, orient='records')\n",
    "val.to_json('processed/offshore_amazon_erp_attr_val.json', lines=True, orient='records')\n",
    "test.to_json('processed/offshore_amazon_erp_attr_test.json', lines=True, orient='records')"
   ]
  },
  {
   "cell_type": "code",
   "execution_count": null,
   "metadata": {},
   "outputs": [],
   "source": []
  }
 ],
 "metadata": {
  "kernelspec": {
   "display_name": "Python 3",
   "language": "python",
   "name": "python3"
  },
  "language_info": {
   "codemirror_mode": {
    "name": "ipython",
    "version": 3
   },
   "file_extension": ".py",
   "mimetype": "text/x-python",
   "name": "python",
   "nbconvert_exporter": "python",
   "pygments_lexer": "ipython3",
   "version": "3.8.13"
  },
  "orig_nbformat": 4,
  "vscode": {
   "interpreter": {
    "hash": "949777d72b0d2535278d3dc13498b2535136f6dfe0678499012e853ee9abcab1"
   }
  }
 },
 "nbformat": 4,
 "nbformat_minor": 2
}
