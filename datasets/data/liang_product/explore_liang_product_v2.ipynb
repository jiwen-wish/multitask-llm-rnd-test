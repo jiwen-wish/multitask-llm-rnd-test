{
 "cells": [
  {
   "cell_type": "code",
   "execution_count": 1,
   "metadata": {},
   "outputs": [],
   "source": [
    "import dvc.api\n",
    "import pandas as pd"
   ]
  },
  {
   "cell_type": "code",
   "execution_count": 2,
   "metadata": {},
   "outputs": [],
   "source": [
    "df_train_v2_offshore = pd.read_json(dvc.api.get_url(\n",
    "    'data/listing_classification_retrain_v2/offshore_data_train.json', \n",
    "    repo='git@github.com:ContextLogic/listing_classification_data.git'\n",
    "), lines=True)\n",
    "\n",
    "df_val_v2_offshore = pd.read_json(dvc.api.get_url(\n",
    "    'data/listing_classification_retrain_v2/offshore_data_val.json', \n",
    "    repo='git@github.com:ContextLogic/listing_classification_data.git'\n",
    "), lines=True)\n",
    "\n",
    "df_test_v2_offshore = pd.read_json(dvc.api.get_url(\n",
    "    'data/listing_classification_retrain_v2/offshore_data_test.json', \n",
    "    repo='git@github.com:ContextLogic/listing_classification_data.git'\n",
    "), lines=True)"
   ]
  },
  {
   "cell_type": "code",
   "execution_count": 10,
   "metadata": {},
   "outputs": [],
   "source": [
    "df_train_v2_offshore['data_type'] = 'train_v2_offshore'\n",
    "df_val_v2_offshore['data_type'] = 'val_v2_offshore'\n",
    "df_test_v2_offshore['data_type'] = 'test_v2_offshore'"
   ]
  },
  {
   "cell_type": "code",
   "execution_count": 3,
   "metadata": {},
   "outputs": [],
   "source": [
    "df_train_v1_appen = pd.read_json(dvc.api.get_url(\n",
    "    'data/listing_classification_retrain_v1/appen_delivery.json', \n",
    "    repo='git@github.com:ContextLogic/listing_classification_data.git'\n",
    "), lines=True)\n",
    "\n",
    "df_train_v1_offshore = pd.read_json(dvc.api.get_url(\n",
    "    'data/listing_classification_retrain_v1/offshore_data_train.json', \n",
    "    repo='git@github.com:ContextLogic/listing_classification_data.git'\n",
    "), lines=True)\n",
    "\n",
    "df_val_v1_offshore = pd.read_json(dvc.api.get_url(\n",
    "    'data/listing_classification_retrain_v1/offshore_data_val.json', \n",
    "    repo='git@github.com:ContextLogic/listing_classification_data.git'\n",
    "), lines=True)\n",
    "\n",
    "df_test_v1_offshore = pd.read_json(dvc.api.get_url(\n",
    "    'data/listing_classification_retrain_v1/offshore_data_test.json', \n",
    "    repo='git@github.com:ContextLogic/listing_classification_data.git'\n",
    "), lines=True)"
   ]
  },
  {
   "cell_type": "code",
   "execution_count": 11,
   "metadata": {},
   "outputs": [],
   "source": [
    "df_train_v1_offshore['data_type'] = 'train_v1_offshore'\n",
    "df_val_v1_offshore['data_type'] = 'val_v1_offshore'\n",
    "df_test_v1_offshore['data_type'] = 'test_v1_offshore'\n",
    "df_train_v1_appen['data_type'] = 'train_v1_appen'"
   ]
  },
  {
   "cell_type": "code",
   "execution_count": 4,
   "metadata": {},
   "outputs": [],
   "source": [
    "df_train_ali =  pd.read_json(dvc.api.get_url(\n",
    "    'data/aliexpress_preprocessed/aliexpress_train.json', \n",
    "    repo='git@github.com:ContextLogic/listing_classification_data.git'\n",
    "), lines=True)\n",
    "df_val_ali =  pd.read_json(dvc.api.get_url(\n",
    "    'data/aliexpress_preprocessed/aliexpress_val.json', \n",
    "    repo='git@github.com:ContextLogic/listing_classification_data.git'\n",
    "), lines=True)"
   ]
  },
  {
   "cell_type": "code",
   "execution_count": 12,
   "metadata": {},
   "outputs": [],
   "source": [
    "df_train_ali['data_type'] = 'train_v0_ali'\n",
    "df_val_ali['data_type'] = 'val_v0_ali'"
   ]
  },
  {
   "cell_type": "code",
   "execution_count": 17,
   "metadata": {},
   "outputs": [],
   "source": [
    "df_all = pd.concat([ \n",
    "    df_test_v2_offshore[['title', 'description', 'category_path', 'id', 'pid', 'data_type']].rename(columns={'id': 'category_id'}), \n",
    "    df_val_v2_offshore[['title', 'description', 'category_path', 'id', 'pid', 'data_type']].rename(columns={'id': 'category_id'}), \n",
    "    df_train_v2_offshore[['title', 'description', 'category_path', 'id', 'pid', 'data_type']].rename(columns={'id': 'category_id'}), \n",
    "    df_test_v1_offshore[['title', 'description', 'category_path', 'id', 'pid', 'data_type']].rename(columns={'id': 'category_id'}), \n",
    "    df_val_v1_offshore[['title', 'description', 'category_path', 'id', 'pid', 'data_type']].rename(columns={'id': 'category_id'}), \n",
    "    df_train_v1_offshore[['title', 'description', 'category_path', 'id', 'pid', 'data_type']].rename(columns={'id': 'category_id'}), \n",
    "    df_train_v1_appen[['title', 'description', 'category_path', 'id', 'pid', 'data_type']].rename(columns={'id': 'category_id'}), \n",
    "    df_val_ali[['title', 'description', 'category_path', 'category_id', 'data_type']],\n",
    "    df_train_ali[['title', 'description', 'category_path', 'category_id', 'data_type']], \n",
    "])"
   ]
  },
  {
   "cell_type": "code",
   "execution_count": 18,
   "metadata": {},
   "outputs": [
    {
     "data": {
      "text/html": [
       "<div>\n",
       "<style scoped>\n",
       "    .dataframe tbody tr th:only-of-type {\n",
       "        vertical-align: middle;\n",
       "    }\n",
       "\n",
       "    .dataframe tbody tr th {\n",
       "        vertical-align: top;\n",
       "    }\n",
       "\n",
       "    .dataframe thead th {\n",
       "        text-align: right;\n",
       "    }\n",
       "</style>\n",
       "<table border=\"1\" class=\"dataframe\">\n",
       "  <thead>\n",
       "    <tr style=\"text-align: right;\">\n",
       "      <th></th>\n",
       "      <th>title</th>\n",
       "      <th>description</th>\n",
       "      <th>category_path</th>\n",
       "      <th>category_id</th>\n",
       "      <th>pid</th>\n",
       "      <th>data_type</th>\n",
       "    </tr>\n",
       "  </thead>\n",
       "  <tbody>\n",
       "    <tr>\n",
       "      <th>0</th>\n",
       "      <td>26 Style Unisex Men Women 2019 Ugly Christmas ...</td>\n",
       "      <td>Suitable season: Spring,Autumn,winter Fabric n...</td>\n",
       "      <td>Women's Clothing &gt; Sweaters &gt; Sweaters</td>\n",
       "      <td>6037</td>\n",
       "      <td>5d8f06f627ffc134fe3d39da</td>\n",
       "      <td>test_v2_offshore</td>\n",
       "    </tr>\n",
       "    <tr>\n",
       "      <th>1</th>\n",
       "      <td>Gold Silver Western Texas Longhorn Buffalo Ste...</td>\n",
       "      <td>Condition:100% New Pattern Type:Animal Departm...</td>\n",
       "      <td>Apparel Accessories &gt; Men's Ties &amp; Handkerchiefs</td>\n",
       "      <td>71</td>\n",
       "      <td>58b458051f07f25129092ae9</td>\n",
       "      <td>test_v2_offshore</td>\n",
       "    </tr>\n",
       "    <tr>\n",
       "      <th>2</th>\n",
       "      <td>New Quality 1PC 12000uF 63V Amplifier/Audio/Po...</td>\n",
       "      <td>Features:  100% Brand new and high quality.   ...</td>\n",
       "      <td>Electronic Components &amp; Supplies &gt; Passive Com...</td>\n",
       "      <td>2122</td>\n",
       "      <td>5d11be0228f36e1d1d3d65be</td>\n",
       "      <td>test_v2_offshore</td>\n",
       "    </tr>\n",
       "    <tr>\n",
       "      <th>3</th>\n",
       "      <td>2019 New Women Shoes Round Toe Flat Bottom Mot...</td>\n",
       "      <td>Welcome to our store!  :)  Women Shoes Size: U...</td>\n",
       "      <td>Shoes &gt; Women's Shoes &gt; Women's Pumps</td>\n",
       "      <td>4784</td>\n",
       "      <td>5d87170bd54a8c3c7401b476</td>\n",
       "      <td>test_v2_offshore</td>\n",
       "    </tr>\n",
       "    <tr>\n",
       "      <th>4</th>\n",
       "      <td>Whiskey Bottle Beer Mug Super Shape Mylar Foil...</td>\n",
       "      <td>You will receive 2 pcs balloons.The pakage inc...</td>\n",
       "      <td>Home &amp; Garden &gt; Festive &amp; Party Supplies &gt; Eve...</td>\n",
       "      <td>2502</td>\n",
       "      <td>62230f6c1aec6fad16133bb2</td>\n",
       "      <td>test_v2_offshore</td>\n",
       "    </tr>\n",
       "    <tr>\n",
       "      <th>...</th>\n",
       "      <td>...</td>\n",
       "      <td>...</td>\n",
       "      <td>...</td>\n",
       "      <td>...</td>\n",
       "      <td>...</td>\n",
       "      <td>...</td>\n",
       "    </tr>\n",
       "    <tr>\n",
       "      <th>18956100</th>\n",
       "      <td>10pcs LED strip 7+7led LM41-00001P BN96-39055A...</td>\n",
       "      <td>82616 Large lens series DRT 3.0 82617 LG Small...</td>\n",
       "      <td>Consumer Electronics &gt; Camera &amp; Photo &gt; Camera...</td>\n",
       "      <td>1590</td>\n",
       "      <td>NaN</td>\n",
       "      <td>train_v0_ali</td>\n",
       "    </tr>\n",
       "    <tr>\n",
       "      <th>18956101</th>\n",
       "      <td>Nieuwe Creatieve Timer Plastic Machine 60 Minu...</td>\n",
       "      <td>الوصف:ميزة: علامة تجارية جديدة وعالية الجودة ل...</td>\n",
       "      <td>Home &amp; Garden &gt; Kitchen,Dining &amp; Bar &gt; Kitchen...</td>\n",
       "      <td>3184</td>\n",
       "      <td>NaN</td>\n",
       "      <td>train_v0_ali</td>\n",
       "    </tr>\n",
       "    <tr>\n",
       "      <th>18956102</th>\n",
       "      <td>Лидер продаж 2021, мужской комбинезон для свар...</td>\n",
       "      <td></td>\n",
       "      <td>Men's Clothing &gt; Pants &gt; Overalls</td>\n",
       "      <td>4189</td>\n",
       "      <td>NaN</td>\n",
       "      <td>train_v0_ali</td>\n",
       "    </tr>\n",
       "    <tr>\n",
       "      <th>18956103</th>\n",
       "      <td>100pcs EM4100 TK4100 Read Only 125khz ID Keyfo...</td>\n",
       "      <td>RFID EM4100 TK4100 칩 by 5YOA 상품 설명 기술: 재질 : AB...</td>\n",
       "      <td>Security &amp; Protection &gt; Access Control &gt; Acces...</td>\n",
       "      <td>4649</td>\n",
       "      <td>NaN</td>\n",
       "      <td>train_v0_ali</td>\n",
       "    </tr>\n",
       "    <tr>\n",
       "      <th>18956104</th>\n",
       "      <td>100PCS disposable thickened plastic non-slip s...</td>\n",
       "      <td>Name: Brand new plastic shoe cover Size: 15*37...</td>\n",
       "      <td>Shoes &gt; Shoe Accessories &gt; Shoes Covers</td>\n",
       "      <td>4766</td>\n",
       "      <td>NaN</td>\n",
       "      <td>train_v0_ali</td>\n",
       "    </tr>\n",
       "  </tbody>\n",
       "</table>\n",
       "<p>19904230 rows × 6 columns</p>\n",
       "</div>"
      ],
      "text/plain": [
       "                                                      title  \\\n",
       "0         26 Style Unisex Men Women 2019 Ugly Christmas ...   \n",
       "1         Gold Silver Western Texas Longhorn Buffalo Ste...   \n",
       "2         New Quality 1PC 12000uF 63V Amplifier/Audio/Po...   \n",
       "3         2019 New Women Shoes Round Toe Flat Bottom Mot...   \n",
       "4         Whiskey Bottle Beer Mug Super Shape Mylar Foil...   \n",
       "...                                                     ...   \n",
       "18956100  10pcs LED strip 7+7led LM41-00001P BN96-39055A...   \n",
       "18956101  Nieuwe Creatieve Timer Plastic Machine 60 Minu...   \n",
       "18956102  Лидер продаж 2021, мужской комбинезон для свар...   \n",
       "18956103  100pcs EM4100 TK4100 Read Only 125khz ID Keyfo...   \n",
       "18956104  100PCS disposable thickened plastic non-slip s...   \n",
       "\n",
       "                                                description  \\\n",
       "0         Suitable season: Spring,Autumn,winter Fabric n...   \n",
       "1         Condition:100% New Pattern Type:Animal Departm...   \n",
       "2         Features:  100% Brand new and high quality.   ...   \n",
       "3         Welcome to our store!  :)  Women Shoes Size: U...   \n",
       "4         You will receive 2 pcs balloons.The pakage inc...   \n",
       "...                                                     ...   \n",
       "18956100  82616 Large lens series DRT 3.0 82617 LG Small...   \n",
       "18956101  الوصف:ميزة: علامة تجارية جديدة وعالية الجودة ل...   \n",
       "18956102                                                      \n",
       "18956103  RFID EM4100 TK4100 칩 by 5YOA 상품 설명 기술: 재질 : AB...   \n",
       "18956104  Name: Brand new plastic shoe cover Size: 15*37...   \n",
       "\n",
       "                                              category_path  category_id  \\\n",
       "0                    Women's Clothing > Sweaters > Sweaters         6037   \n",
       "1          Apparel Accessories > Men's Ties & Handkerchiefs           71   \n",
       "2         Electronic Components & Supplies > Passive Com...         2122   \n",
       "3                     Shoes > Women's Shoes > Women's Pumps         4784   \n",
       "4         Home & Garden > Festive & Party Supplies > Eve...         2502   \n",
       "...                                                     ...          ...   \n",
       "18956100  Consumer Electronics > Camera & Photo > Camera...         1590   \n",
       "18956101  Home & Garden > Kitchen,Dining & Bar > Kitchen...         3184   \n",
       "18956102                  Men's Clothing > Pants > Overalls         4189   \n",
       "18956103  Security & Protection > Access Control > Acces...         4649   \n",
       "18956104            Shoes > Shoe Accessories > Shoes Covers         4766   \n",
       "\n",
       "                               pid         data_type  \n",
       "0         5d8f06f627ffc134fe3d39da  test_v2_offshore  \n",
       "1         58b458051f07f25129092ae9  test_v2_offshore  \n",
       "2         5d11be0228f36e1d1d3d65be  test_v2_offshore  \n",
       "3         5d87170bd54a8c3c7401b476  test_v2_offshore  \n",
       "4         62230f6c1aec6fad16133bb2  test_v2_offshore  \n",
       "...                            ...               ...  \n",
       "18956100                       NaN      train_v0_ali  \n",
       "18956101                       NaN      train_v0_ali  \n",
       "18956102                       NaN      train_v0_ali  \n",
       "18956103                       NaN      train_v0_ali  \n",
       "18956104                       NaN      train_v0_ali  \n",
       "\n",
       "[19904230 rows x 6 columns]"
      ]
     },
     "execution_count": 18,
     "metadata": {},
     "output_type": "execute_result"
    }
   ],
   "source": [
    "df_all"
   ]
  },
  {
   "cell_type": "code",
   "execution_count": 19,
   "metadata": {},
   "outputs": [],
   "source": [
    "df_all_dedup = df_all.drop_duplicates('title', keep='first')"
   ]
  },
  {
   "cell_type": "code",
   "execution_count": 22,
   "metadata": {},
   "outputs": [
    {
     "data": {
      "text/plain": [
       "<AxesSubplot: ylabel='data_type'>"
      ]
     },
     "execution_count": 22,
     "metadata": {},
     "output_type": "execute_result"
    },
    {
     "data": {
      "image/png": "[encoded data removed]",
      "text/plain": [
       "<Figure size 640x480 with 1 Axes>"
      ]
     },
     "metadata": {},
     "output_type": "display_data"
    }
   ],
   "source": [
    "df_all_dedup[df_all_dedup.data_type != 'train_v0_ali'].data_type.value_counts().plot.pie()"
   ]
  },
  {
   "cell_type": "code",
   "execution_count": 24,
   "metadata": {},
   "outputs": [],
   "source": [
    "df_all_dedup[df_all_dedup.data_type.apply(lambda x: 'train' in x)].to_json('liang_product_classification_mixall_train.json', lines=True, orient='records')\n",
    "df_all_dedup[df_all_dedup.data_type.apply(lambda x: 'val' in x)].to_json('liang_product_classification_mixall_val.json', lines=True, orient='records')\n",
    "df_all_dedup[df_all_dedup.data_type.apply(lambda x: 'test' in x)].to_json('liang_product_classification_mixall_test.json', lines=True, orient='records')"
   ]
  },
  {
   "cell_type": "code",
   "execution_count": 25,
   "metadata": {},
   "outputs": [],
   "source": [
    "df_all_dedup[df_all_dedup.data_type.apply(lambda x: 'train_v2' in x)].to_json('liang_product_classification_offshorev2only_train.json', lines=True, orient='records')\n",
    "df_all_dedup[df_all_dedup.data_type.apply(lambda x: 'val_v2' in x)].to_json('liang_product_classification_offshorev2only_val.json', lines=True, orient='records')\n",
    "df_all_dedup[df_all_dedup.data_type.apply(lambda x: 'test_v2' in x)].to_json('liang_product_classification_offshorev2only_test.json', lines=True, orient='records')"
   ]
  },
  {
   "cell_type": "code",
   "execution_count": null,
   "metadata": {},
   "outputs": [],
   "source": []
  }
 ],
 "metadata": {
  "kernelspec": {
   "display_name": "Python 3",
   "language": "python",
   "name": "python3"
  },
  "language_info": {
   "codemirror_mode": {
    "name": "ipython",
    "version": 3
   },
   "file_extension": ".py",
   "mimetype": "text/x-python",
   "name": "python",
   "nbconvert_exporter": "python",
   "pygments_lexer": "ipython3",
   "version": "3.8.16"
  },
  "orig_nbformat": 4,
  "vscode": {
   "interpreter": {
    "hash": "949777d72b0d2535278d3dc13498b2535136f6dfe0678499012e853ee9abcab1"
   }
  }
 },
 "nbformat": 4,
 "nbformat_minor": 2
}
