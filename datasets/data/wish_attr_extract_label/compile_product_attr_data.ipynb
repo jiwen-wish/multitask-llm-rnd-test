{
 "cells": [
  {
   "cell_type": "code",
   "execution_count": 1,
   "metadata": {},
   "outputs": [],
   "source": [
    "import pandas as pd\n",
    "import numpy as np\n",
    "from functools import reduce\n",
    "from collections import Counter"
   ]
  },
  {
   "cell_type": "code",
   "execution_count": 2,
   "metadata": {},
   "outputs": [],
   "source": [
    "df = pd.read_csv('appen/output_batch_correct_v2/feedback/product_attribution_020323_030323_valid_units_aggregated_030623.csv')"
   ]
  },
  {
   "cell_type": "code",
   "execution_count": 3,
   "metadata": {},
   "outputs": [],
   "source": [
    "df_attributes = pd.read_csv('../attribute_extraction_metadata_template/attribute_definition_top25L2_filtered_augmented_redacted_addedsinglemulti_01182023.csv')"
   ]
  },
  {
   "cell_type": "code",
   "execution_count": 4,
   "metadata": {},
   "outputs": [],
   "source": [
    "df_attributes_orig = pd.read_csv('../attribute_extraction_metadata_template/Initial Attribute Definition for First Release - UPDATED SHEET .csv')"
   ]
  },
  {
   "cell_type": "code",
   "execution_count": 5,
   "metadata": {},
   "outputs": [],
   "source": [
    "cats = set(df_attributes['category'])"
   ]
  },
  {
   "cell_type": "code",
   "execution_count": 6,
   "metadata": {},
   "outputs": [],
   "source": [
    "df_attributes_orig_sub = df_attributes_orig[\n",
    "    (df_attributes_orig.category.apply(lambda x: x in cats)) & (df_attributes_orig['entry mode'].apply(lambda x: x != 'free_text'))\n",
    "]"
   ]
  },
  {
   "cell_type": "code",
   "execution_count": 7,
   "metadata": {},
   "outputs": [],
   "source": [
    "df_attributes_orig_sub_group = df_attributes_orig_sub[['attribute_field', 'category_attributevalue']].groupby('attribute_field').agg({\n",
    "    'category_attributevalue': lambda x: sorted(set(reduce(lambda x, y: x+y, [[str(j) for j in eval(i)] for i in x])))\n",
    "}).reset_index()"
   ]
  },
  {
   "cell_type": "code",
   "execution_count": 8,
   "metadata": {},
   "outputs": [
    {
     "data": {
      "text/html": [
       "<div>\n",
       "<style scoped>\n",
       "    .dataframe tbody tr th:only-of-type {\n",
       "        vertical-align: middle;\n",
       "    }\n",
       "\n",
       "    .dataframe tbody tr th {\n",
       "        vertical-align: top;\n",
       "    }\n",
       "\n",
       "    .dataframe thead th {\n",
       "        text-align: right;\n",
       "    }\n",
       "</style>\n",
       "<table border=\"1\" class=\"dataframe\">\n",
       "  <thead>\n",
       "    <tr style=\"text-align: right;\">\n",
       "      <th></th>\n",
       "      <th>attribute_field</th>\n",
       "      <th>category_attributevalue</th>\n",
       "    </tr>\n",
       "  </thead>\n",
       "  <tbody>\n",
       "    <tr>\n",
       "      <th>0</th>\n",
       "      <td>Adjustable Fit</td>\n",
       "      <td>[Chest Adjustment, Hip Adjustment, Shoulder Ad...</td>\n",
       "    </tr>\n",
       "    <tr>\n",
       "      <th>1</th>\n",
       "      <td>Adjustable Length</td>\n",
       "      <td>[No, Yes]</td>\n",
       "    </tr>\n",
       "    <tr>\n",
       "      <th>2</th>\n",
       "      <td>Age Range Description</td>\n",
       "      <td>[Adult, All Ages, Infant, Kids, Teen, Toddler]</td>\n",
       "    </tr>\n",
       "    <tr>\n",
       "      <th>3</th>\n",
       "      <td>Alarm Type</td>\n",
       "      <td>[Beep Alarm, Bell Alarm, Gradual Alarm, Loud A...</td>\n",
       "    </tr>\n",
       "    <tr>\n",
       "      <th>4</th>\n",
       "      <td>Alert Type</td>\n",
       "      <td>[Audio Only, Audio and Motion, Motion Only]</td>\n",
       "    </tr>\n",
       "    <tr>\n",
       "      <th>...</th>\n",
       "      <td>...</td>\n",
       "      <td>...</td>\n",
       "    </tr>\n",
       "    <tr>\n",
       "      <th>188</th>\n",
       "      <td>Wall Light Type</td>\n",
       "      <td>[Candelabra, Reading, Swing Arm, Wall Lamp, Wa...</td>\n",
       "    </tr>\n",
       "    <tr>\n",
       "      <th>189</th>\n",
       "      <td>Watch Movement Type</td>\n",
       "      <td>[Analog Quartz, Automatic, Automatic Self Wind...</td>\n",
       "    </tr>\n",
       "    <tr>\n",
       "      <th>190</th>\n",
       "      <td>Water Resistance Level</td>\n",
       "      <td>[Not Water-Resistant, Water-Resistant, Waterpr...</td>\n",
       "    </tr>\n",
       "    <tr>\n",
       "      <th>191</th>\n",
       "      <td>Weave Type</td>\n",
       "      <td>[Basket, Braided, Dobby, Double Cloth, Flat Wo...</td>\n",
       "    </tr>\n",
       "    <tr>\n",
       "      <th>192</th>\n",
       "      <td>Wireless Communication Types</td>\n",
       "      <td>[5 GHz Radio Frequency, 5.8 GHz Radio Frequenc...</td>\n",
       "    </tr>\n",
       "  </tbody>\n",
       "</table>\n",
       "<p>193 rows × 2 columns</p>\n",
       "</div>"
      ],
      "text/plain": [
       "                  attribute_field  \\\n",
       "0                  Adjustable Fit   \n",
       "1               Adjustable Length   \n",
       "2           Age Range Description   \n",
       "3                      Alarm Type   \n",
       "4                      Alert Type   \n",
       "..                            ...   \n",
       "188               Wall Light Type   \n",
       "189           Watch Movement Type   \n",
       "190        Water Resistance Level   \n",
       "191                    Weave Type   \n",
       "192  Wireless Communication Types   \n",
       "\n",
       "                               category_attributevalue  \n",
       "0    [Chest Adjustment, Hip Adjustment, Shoulder Ad...  \n",
       "1                                            [No, Yes]  \n",
       "2       [Adult, All Ages, Infant, Kids, Teen, Toddler]  \n",
       "3    [Beep Alarm, Bell Alarm, Gradual Alarm, Loud A...  \n",
       "4          [Audio Only, Audio and Motion, Motion Only]  \n",
       "..                                                 ...  \n",
       "188  [Candelabra, Reading, Swing Arm, Wall Lamp, Wa...  \n",
       "189  [Analog Quartz, Automatic, Automatic Self Wind...  \n",
       "190  [Not Water-Resistant, Water-Resistant, Waterpr...  \n",
       "191  [Basket, Braided, Dobby, Double Cloth, Flat Wo...  \n",
       "192  [5 GHz Radio Frequency, 5.8 GHz Radio Frequenc...  \n",
       "\n",
       "[193 rows x 2 columns]"
      ]
     },
     "execution_count": 8,
     "metadata": {},
     "output_type": "execute_result"
    }
   ],
   "source": [
    "df_attributes_orig_sub_group"
   ]
  },
  {
   "cell_type": "code",
   "execution_count": 9,
   "metadata": {},
   "outputs": [],
   "source": [
    "df_attributes_group = df_attributes.groupby('attribute_field').agg({\n",
    "    'category_attributevalue': lambda x: sorted(set(reduce(lambda x, y: x+y, [[str(j) for j in eval(i)] for i in x])))\n",
    "}).reset_index()"
   ]
  },
  {
   "cell_type": "code",
   "execution_count": 10,
   "metadata": {},
   "outputs": [
    {
     "data": {
      "text/html": [
       "<div>\n",
       "<style scoped>\n",
       "    .dataframe tbody tr th:only-of-type {\n",
       "        vertical-align: middle;\n",
       "    }\n",
       "\n",
       "    .dataframe tbody tr th {\n",
       "        vertical-align: top;\n",
       "    }\n",
       "\n",
       "    .dataframe thead th {\n",
       "        text-align: right;\n",
       "    }\n",
       "</style>\n",
       "<table border=\"1\" class=\"dataframe\">\n",
       "  <thead>\n",
       "    <tr style=\"text-align: right;\">\n",
       "      <th></th>\n",
       "      <th>attribute_field</th>\n",
       "      <th>category_attributevalue</th>\n",
       "    </tr>\n",
       "  </thead>\n",
       "  <tbody>\n",
       "    <tr>\n",
       "      <th>0</th>\n",
       "      <td>Absorption</td>\n",
       "      <td>[High, Low, Medium, No Absorption, None]</td>\n",
       "    </tr>\n",
       "    <tr>\n",
       "      <th>1</th>\n",
       "      <td>Additional Accessories</td>\n",
       "      <td>[Coaster, Lid, None, Saucer, Spoon, Straw]</td>\n",
       "    </tr>\n",
       "    <tr>\n",
       "      <th>2</th>\n",
       "      <td>Adjustable Fit</td>\n",
       "      <td>[Chest Adjustment, Hip Adjustment, Shoulder Ad...</td>\n",
       "    </tr>\n",
       "    <tr>\n",
       "      <th>3</th>\n",
       "      <td>Adjustable Length</td>\n",
       "      <td>[No, Yes]</td>\n",
       "    </tr>\n",
       "    <tr>\n",
       "      <th>4</th>\n",
       "      <td>Age Range Description</td>\n",
       "      <td>[Adult, All Ages, Infant, Kids, Teen, Toddler]</td>\n",
       "    </tr>\n",
       "    <tr>\n",
       "      <th>...</th>\n",
       "      <td>...</td>\n",
       "      <td>...</td>\n",
       "    </tr>\n",
       "    <tr>\n",
       "      <th>225</th>\n",
       "      <td>Wall Light Type</td>\n",
       "      <td>[Candelabra, Reading, Swing Arm, Wall Lamp, Wa...</td>\n",
       "    </tr>\n",
       "    <tr>\n",
       "      <th>226</th>\n",
       "      <td>Watch Movement Type</td>\n",
       "      <td>[Analog Quartz, Automatic, Automatic Self Wind...</td>\n",
       "    </tr>\n",
       "    <tr>\n",
       "      <th>227</th>\n",
       "      <td>Water Resistance Level</td>\n",
       "      <td>[Not Water-Resistant, Water-Resistant, Waterpr...</td>\n",
       "    </tr>\n",
       "    <tr>\n",
       "      <th>228</th>\n",
       "      <td>Weave Type</td>\n",
       "      <td>[Basket, Braided, Dobby, Double Cloth, Flat Wo...</td>\n",
       "    </tr>\n",
       "    <tr>\n",
       "      <th>229</th>\n",
       "      <td>Wireless Communication Types</td>\n",
       "      <td>[5 GHz Radio Frequency, 5.8 GHz Radio Frequenc...</td>\n",
       "    </tr>\n",
       "  </tbody>\n",
       "</table>\n",
       "<p>230 rows × 2 columns</p>\n",
       "</div>"
      ],
      "text/plain": [
       "                  attribute_field  \\\n",
       "0                      Absorption   \n",
       "1          Additional Accessories   \n",
       "2                  Adjustable Fit   \n",
       "3               Adjustable Length   \n",
       "4           Age Range Description   \n",
       "..                            ...   \n",
       "225               Wall Light Type   \n",
       "226           Watch Movement Type   \n",
       "227        Water Resistance Level   \n",
       "228                    Weave Type   \n",
       "229  Wireless Communication Types   \n",
       "\n",
       "                               category_attributevalue  \n",
       "0             [High, Low, Medium, No Absorption, None]  \n",
       "1           [Coaster, Lid, None, Saucer, Spoon, Straw]  \n",
       "2    [Chest Adjustment, Hip Adjustment, Shoulder Ad...  \n",
       "3                                            [No, Yes]  \n",
       "4       [Adult, All Ages, Infant, Kids, Teen, Toddler]  \n",
       "..                                                 ...  \n",
       "225  [Candelabra, Reading, Swing Arm, Wall Lamp, Wa...  \n",
       "226  [Analog Quartz, Automatic, Automatic Self Wind...  \n",
       "227  [Not Water-Resistant, Water-Resistant, Waterpr...  \n",
       "228  [Basket, Braided, Dobby, Double Cloth, Flat Wo...  \n",
       "229  [5 GHz Radio Frequency, 5.8 GHz Radio Frequenc...  \n",
       "\n",
       "[230 rows x 2 columns]"
      ]
     },
     "execution_count": 10,
     "metadata": {},
     "output_type": "execute_result"
    }
   ],
   "source": [
    "df_attributes_group"
   ]
  },
  {
   "cell_type": "code",
   "execution_count": 11,
   "metadata": {},
   "outputs": [],
   "source": [
    "attr_vals_normalized = {}\n",
    "for i in df_attributes_group.to_dict('records'):\n",
    "    attr_vals_normalized[i['attribute_field']] = set(i['category_attributevalue'])\n",
    "\n",
    "attr_vals_orig_normalized = {}\n",
    "for i in df_attributes_orig_sub_group.to_dict('records'):\n",
    "    attr_vals_orig_normalized[i['attribute_field']] = set(i['category_attributevalue'])"
   ]
  },
  {
   "cell_type": "code",
   "execution_count": 12,
   "metadata": {},
   "outputs": [],
   "source": [
    "all_kvpairs = set()\n",
    "all_orig_kvpairs = set()\n",
    "\n",
    "for k in attr_vals_normalized:\n",
    "    for v in attr_vals_normalized[k]:\n",
    "        all_kvpairs.add((k, v))\n",
    "\n",
    "for k in attr_vals_orig_normalized:\n",
    "    for v in attr_vals_orig_normalized[k]:\n",
    "        all_orig_kvpairs.add((k, v))"
   ]
  },
  {
   "cell_type": "code",
   "execution_count": 13,
   "metadata": {},
   "outputs": [
    {
     "data": {
      "text/plain": [
       "(230, 193)"
      ]
     },
     "execution_count": 13,
     "metadata": {},
     "output_type": "execute_result"
    }
   ],
   "source": [
    "len(attr_vals_normalized), len(attr_vals_orig_normalized)"
   ]
  },
  {
   "cell_type": "code",
   "execution_count": 14,
   "metadata": {},
   "outputs": [
    {
     "data": {
      "text/plain": [
       "(13592, 6875)"
      ]
     },
     "execution_count": 14,
     "metadata": {},
     "output_type": "execute_result"
    }
   ],
   "source": [
    "len(all_kvpairs), len(all_orig_kvpairs)"
   ]
  },
  {
   "cell_type": "code",
   "execution_count": 19,
   "metadata": {},
   "outputs": [],
   "source": [
    "recs = []\n",
    "for i in df.to_dict('records'):\n",
    "    res_normalized = []\n",
    "    res_custom = []\n",
    "    res = [] if ((not isinstance(i['rater_output_processed'], str)) and (np.isnan(i['rater_output_processed']))) else i['rater_output_processed'].split('\\n')\n",
    "    for j in res:\n",
    "        k, v = j.split(' > ')[-2:]\n",
    "        assert k in attr_vals_normalized\n",
    "        if k in attr_vals_orig_normalized and v in attr_vals_orig_normalized[k]:\n",
    "            res_normalized.append((k, v))\n",
    "        else:\n",
    "            res_custom.append((k, v))\n",
    "    i['attr_name_value_pairs_normalized'] = sorted(set(res_normalized))\n",
    "    i['attr_name_value_pairs_custom'] = sorted(set(res_custom))\n",
    "    recs.append(i)\n",
    "df = pd.DataFrame(recs)"
   ]
  },
  {
   "cell_type": "code",
   "execution_count": 20,
   "metadata": {},
   "outputs": [
    {
     "data": {
      "text/plain": [
       "(4.618071389260162, 0.9330136016982468)"
      ]
     },
     "execution_count": 20,
     "metadata": {},
     "output_type": "execute_result"
    }
   ],
   "source": [
    "df['attr_name_value_pairs_normalized'].apply(len).mean(), df['attr_name_value_pairs_custom'].apply(len).mean()"
   ]
  },
  {
   "cell_type": "code",
   "execution_count": 21,
   "metadata": {},
   "outputs": [
    {
     "data": {
      "text/plain": [
       "<AxesSubplot: ylabel='Frequency'>"
      ]
     },
     "execution_count": 21,
     "metadata": {},
     "output_type": "execute_result"
    },
    {
     "data": {
      "image/png": "[encoded data removed]",
      "text/plain": [
       "<Figure size 640x480 with 1 Axes>"
      ]
     },
     "metadata": {},
     "output_type": "display_data"
    }
   ],
   "source": [
    "df['attr_name_value_pairs_normalized'].apply(len).plot.hist()"
   ]
  },
  {
   "cell_type": "code",
   "execution_count": 22,
   "metadata": {},
   "outputs": [
    {
     "data": {
      "text/plain": [
       "<AxesSubplot: ylabel='Frequency'>"
      ]
     },
     "execution_count": 22,
     "metadata": {},
     "output_type": "execute_result"
    },
    {
     "data": {
      "image/png": "[encoded data removed]",
      "text/plain": [
       "<Figure size 640x480 with 1 Axes>"
      ]
     },
     "metadata": {},
     "output_type": "display_data"
    }
   ],
   "source": [
    "df['attr_name_value_pairs_custom'].apply(len).plot.hist()"
   ]
  },
  {
   "cell_type": "code",
   "execution_count": 23,
   "metadata": {},
   "outputs": [],
   "source": [
    "normalized_attributes = reduce(lambda x,y: x+y, df['attr_name_value_pairs_normalized'].apply(lambda x: [i[0] for i in x]))\n",
    "custom_attributes = reduce(lambda x,y: x+y, df['attr_name_value_pairs_custom'].apply(lambda x: [i[0] for i in x]))"
   ]
  },
  {
   "cell_type": "code",
   "execution_count": 24,
   "metadata": {},
   "outputs": [],
   "source": [
    "normalized_kvpairs = reduce(lambda x,y: x+y, df['attr_name_value_pairs_normalized'])\n",
    "custom_kvpairs = reduce(lambda x,y: x+y, df['attr_name_value_pairs_custom'])"
   ]
  },
  {
   "cell_type": "code",
   "execution_count": 25,
   "metadata": {},
   "outputs": [
    {
     "data": {
      "text/plain": [
       "(158, 106)"
      ]
     },
     "execution_count": 25,
     "metadata": {},
     "output_type": "execute_result"
    }
   ],
   "source": [
    "len(set(normalized_attributes)), len(set(custom_attributes))"
   ]
  },
  {
   "cell_type": "code",
   "execution_count": 26,
   "metadata": {},
   "outputs": [
    {
     "data": {
      "text/plain": [
       "(2655, 31228)"
      ]
     },
     "execution_count": 26,
     "metadata": {},
     "output_type": "execute_result"
    }
   ],
   "source": [
    "len(set(normalized_kvpairs)), len(set(custom_kvpairs))"
   ]
  },
  {
   "cell_type": "code",
   "execution_count": 27,
   "metadata": {},
   "outputs": [
    {
     "data": {
      "text/plain": [
       "[('Primary Color', 56936),\n",
       " ('Materials', 46904),\n",
       " ('Size', 34841),\n",
       " ('Department', 19908),\n",
       " ('Occasion & Lifestyle', 13188)]"
      ]
     },
     "execution_count": 27,
     "metadata": {},
     "output_type": "execute_result"
    }
   ],
   "source": [
    "Counter(normalized_attributes).most_common(5)"
   ]
  },
  {
   "cell_type": "code",
   "execution_count": 28,
   "metadata": {},
   "outputs": [
    {
     "data": {
      "text/plain": [
       "[('Alpha Size', 23253),\n",
       " ('Size', 8474),\n",
       " ('Materials', 2395),\n",
       " ('Item Types', 2076),\n",
       " ('Primary Color', 1647)]"
      ]
     },
     "execution_count": 28,
     "metadata": {},
     "output_type": "execute_result"
    }
   ],
   "source": [
    "Counter(custom_attributes).most_common(5)"
   ]
  },
  {
   "cell_type": "code",
   "execution_count": 29,
   "metadata": {},
   "outputs": [
    {
     "data": {
      "text/plain": [
       "[(('Primary Color', 'Black'), 10619),\n",
       " (('Department', 'Women'), 9475),\n",
       " (('Primary Color', 'White'), 6715),\n",
       " (('Department', 'Men'), 5649),\n",
       " (('Materials', 'Polyester'), 5426)]"
      ]
     },
     "execution_count": 29,
     "metadata": {},
     "output_type": "execute_result"
    }
   ],
   "source": [
    "Counter(normalized_kvpairs).most_common(5)"
   ]
  },
  {
   "cell_type": "code",
   "execution_count": 30,
   "metadata": {},
   "outputs": [
    {
     "data": {
      "text/plain": [
       "[(('Number of Items', '1'), 572),\n",
       " (('Use', 'Indoor'), 215),\n",
       " (('Use', 'For Pillow Cases'), 199),\n",
       " (('Brand', 'Apple'), 174),\n",
       " (('Use', 'Smoking'), 157)]"
      ]
     },
     "execution_count": 30,
     "metadata": {},
     "output_type": "execute_result"
    }
   ],
   "source": [
    "Counter(custom_kvpairs).most_common(5)"
   ]
  },
  {
   "cell_type": "code",
   "execution_count": 31,
   "metadata": {},
   "outputs": [
    {
     "data": {
      "text/plain": [
       "0.8186528497409327"
      ]
     },
     "execution_count": 31,
     "metadata": {},
     "output_type": "execute_result"
    }
   ],
   "source": [
    "len(set(normalized_attributes)) / len(attr_vals_orig_normalized) # normalized original no free-text"
   ]
  },
  {
   "cell_type": "code",
   "execution_count": 32,
   "metadata": {},
   "outputs": [
    {
     "data": {
      "text/plain": [
       "0.8"
      ]
     },
     "execution_count": 32,
     "metadata": {},
     "output_type": "execute_result"
    }
   ],
   "source": [
    "len(set(custom_attributes).union(set(normalized_attributes))) / len(attr_vals_normalized) # add in augmented free-text attributes"
   ]
  },
  {
   "cell_type": "code",
   "execution_count": 33,
   "metadata": {},
   "outputs": [
    {
     "data": {
      "text/plain": [
       "0.3861818181818182"
      ]
     },
     "execution_count": 33,
     "metadata": {},
     "output_type": "execute_result"
    }
   ],
   "source": [
    "len(set(normalized_kvpairs).intersection(all_orig_kvpairs)) / len(all_orig_kvpairs) # normalized original no free-text"
   ]
  },
  {
   "cell_type": "code",
   "execution_count": 34,
   "metadata": {},
   "outputs": [
    {
     "data": {
      "text/plain": [
       "0.24955856386109476"
      ]
     },
     "execution_count": 34,
     "metadata": {},
     "output_type": "execute_result"
    }
   ],
   "source": [
    "len((set(normalized_kvpairs).union(custom_kvpairs)).intersection(all_kvpairs)) / len(all_kvpairs) # add in augmented free-text attributes"
   ]
  },
  {
   "cell_type": "code",
   "execution_count": 35,
   "metadata": {},
   "outputs": [
    {
     "data": {
      "text/plain": [
       "(False, False, False, False)"
      ]
     },
     "execution_count": 35,
     "metadata": {},
     "output_type": "execute_result"
    }
   ],
   "source": [
    "any(['|' in i[0] for i in all_kvpairs]), any(['|' in i[1] for i in all_kvpairs]), any(['\\n' in i[0] for i in all_kvpairs]), any(['\\n' in i[1] for i in all_kvpairs])"
   ]
  },
  {
   "cell_type": "code",
   "execution_count": 36,
   "metadata": {},
   "outputs": [],
   "source": [
    "df['attr_name_value_pairs_normalized_text'] = df['attr_name_value_pairs_normalized'].apply(lambda x: '\\n'.join([i[0] + '|' + i[1] for i in x]))"
   ]
  },
  {
   "cell_type": "code",
   "execution_count": 37,
   "metadata": {},
   "outputs": [
    {
     "data": {
      "text/html": [
       "<div>\n",
       "<style scoped>\n",
       "    .dataframe tbody tr th:only-of-type {\n",
       "        vertical-align: middle;\n",
       "    }\n",
       "\n",
       "    .dataframe tbody tr th {\n",
       "        vertical-align: top;\n",
       "    }\n",
       "\n",
       "    .dataframe thead th {\n",
       "        text-align: right;\n",
       "    }\n",
       "</style>\n",
       "<table border=\"1\" class=\"dataframe\">\n",
       "  <thead>\n",
       "    <tr style=\"text-align: right;\">\n",
       "      <th></th>\n",
       "      <th>Label_Ordering</th>\n",
       "      <th>Sample_Method</th>\n",
       "      <th>Product_Id</th>\n",
       "      <th>Title</th>\n",
       "      <th>Product_Description</th>\n",
       "      <th>Main_Image_Url</th>\n",
       "      <th>Product_Category</th>\n",
       "      <th>L2_Category</th>\n",
       "      <th>Rater1_Answer</th>\n",
       "      <th>Rater2_Answer</th>\n",
       "      <th>Final Answer</th>\n",
       "      <th>final_output</th>\n",
       "      <th>rater_output_processed</th>\n",
       "      <th>attr_name_value_pairs_normalized</th>\n",
       "      <th>attr_name_value_pairs_custom</th>\n",
       "      <th>attr_name_value_pairs_normalized_text</th>\n",
       "    </tr>\n",
       "  </thead>\n",
       "  <tbody>\n",
       "    <tr>\n",
       "      <th>0</th>\n",
       "      <td>0</td>\n",
       "      <td>only_text</td>\n",
       "      <td>611bbb365b0bd8698b670d9d</td>\n",
       "      <td>Rattan Basket Pet Dome and Animal Bed, with Me...</td>\n",
       "      <td>Features\\n- Rattan wicker brings a classic sty...</td>\n",
       "      <td>NaN</td>\n",
       "      <td>Home &amp; Garden &gt; Pet Products &gt; Cat Supplies &gt; ...</td>\n",
       "      <td>Home &amp; Garden &gt; Pet Products</td>\n",
       "      <td>NaN</td>\n",
       "      <td>Home &amp; Garden &gt; Pet Products &gt; Cat Supplies &gt; ...</td>\n",
       "      <td>Home &amp; Garden &gt; Pet Products &gt; Cat Supplies &gt; ...</td>\n",
       "      <td>\\nHome &amp; Garden &gt; Pet Products &gt; Cat Supplies ...</td>\n",
       "      <td>Home &amp; Garden &gt; Pet Products &gt; Cat Supplies &gt; ...</td>\n",
       "      <td>[(Materials, Cotton), (Materials, Metal), (Mat...</td>\n",
       "      <td>[(Materials, Water Hyacinth)]</td>\n",
       "      <td>Materials|Cotton\\nMaterials|Metal\\nMaterials|P...</td>\n",
       "    </tr>\n",
       "    <tr>\n",
       "      <th>1</th>\n",
       "      <td>1</td>\n",
       "      <td>only_text</td>\n",
       "      <td>61a9c0160dcaf9e1da138df1</td>\n",
       "      <td>10Pcs 7Pcs 2Pcs 1Pcs Tempered Glass For Iphone...</td>\n",
       "      <td>welcome to my store!\\r\\n\\r\\nFeatures:\\r\\nCompa...</td>\n",
       "      <td>NaN</td>\n",
       "      <td>Cellphones &amp; Telecommunications &gt; Mobile Phone...</td>\n",
       "      <td>Cellphones &amp; Telecommunications &gt; Mobile Phone...</td>\n",
       "      <td>Cellphones &amp; Telecommunications &gt; Mobile Phone...</td>\n",
       "      <td>Cellphones &amp; Telecommunications &gt; Mobile Phone...</td>\n",
       "      <td>Cellphones &amp; Telecommunications &gt; Mobile Phone...</td>\n",
       "      <td>Cellphones &amp; Telecommunications &gt; Mobile Phone...</td>\n",
       "      <td>Cellphones &amp; Telecommunications &gt; Mobile Phone...</td>\n",
       "      <td>[(Hardness (Moh's Scale), 9h), (Item Condition...</td>\n",
       "      <td>[]</td>\n",
       "      <td>Hardness (Moh's Scale)|9h\\nItem Condition|New\\...</td>\n",
       "    </tr>\n",
       "  </tbody>\n",
       "</table>\n",
       "</div>"
      ],
      "text/plain": [
       "   Label_Ordering Sample_Method                Product_Id  \\\n",
       "0               0     only_text  611bbb365b0bd8698b670d9d   \n",
       "1               1     only_text  61a9c0160dcaf9e1da138df1   \n",
       "\n",
       "                                               Title  \\\n",
       "0  Rattan Basket Pet Dome and Animal Bed, with Me...   \n",
       "1  10Pcs 7Pcs 2Pcs 1Pcs Tempered Glass For Iphone...   \n",
       "\n",
       "                                 Product_Description Main_Image_Url  \\\n",
       "0  Features\\n- Rattan wicker brings a classic sty...            NaN   \n",
       "1  welcome to my store!\\r\\n\\r\\nFeatures:\\r\\nCompa...            NaN   \n",
       "\n",
       "                                    Product_Category  \\\n",
       "0  Home & Garden > Pet Products > Cat Supplies > ...   \n",
       "1  Cellphones & Telecommunications > Mobile Phone...   \n",
       "\n",
       "                                         L2_Category  \\\n",
       "0                       Home & Garden > Pet Products   \n",
       "1  Cellphones & Telecommunications > Mobile Phone...   \n",
       "\n",
       "                                       Rater1_Answer  \\\n",
       "0                                                NaN   \n",
       "1  Cellphones & Telecommunications > Mobile Phone...   \n",
       "\n",
       "                                       Rater2_Answer  \\\n",
       "0  Home & Garden > Pet Products > Cat Supplies > ...   \n",
       "1  Cellphones & Telecommunications > Mobile Phone...   \n",
       "\n",
       "                                        Final Answer  \\\n",
       "0  Home & Garden > Pet Products > Cat Supplies > ...   \n",
       "1  Cellphones & Telecommunications > Mobile Phone...   \n",
       "\n",
       "                                        final_output  \\\n",
       "0  \\nHome & Garden > Pet Products > Cat Supplies ...   \n",
       "1  Cellphones & Telecommunications > Mobile Phone...   \n",
       "\n",
       "                              rater_output_processed  \\\n",
       "0  Home & Garden > Pet Products > Cat Supplies > ...   \n",
       "1  Cellphones & Telecommunications > Mobile Phone...   \n",
       "\n",
       "                    attr_name_value_pairs_normalized  \\\n",
       "0  [(Materials, Cotton), (Materials, Metal), (Mat...   \n",
       "1  [(Hardness (Moh's Scale), 9h), (Item Condition...   \n",
       "\n",
       "    attr_name_value_pairs_custom  \\\n",
       "0  [(Materials, Water Hyacinth)]   \n",
       "1                             []   \n",
       "\n",
       "               attr_name_value_pairs_normalized_text  \n",
       "0  Materials|Cotton\\nMaterials|Metal\\nMaterials|P...  \n",
       "1  Hardness (Moh's Scale)|9h\\nItem Condition|New\\...  "
      ]
     },
     "execution_count": 37,
     "metadata": {},
     "output_type": "execute_result"
    }
   ],
   "source": [
    "df.head(2)"
   ]
  },
  {
   "cell_type": "code",
   "execution_count": 40,
   "metadata": {},
   "outputs": [],
   "source": [
    "df_out = df[['Label_Ordering', 'Sample_Method', 'Product_Id', 'Product_Category', 'Title', 'Product_Description', \n",
    "             'Main_Image_Url', 'rater_output_processed', 'attr_name_value_pairs_normalized', \n",
    "             'attr_name_value_pairs_custom', 'attr_name_value_pairs_normalized_text']].rename(columns={\n",
    "        'Label_Ordering': 'label_ordering',\n",
    "        'Sample_Method': 'sample_method',\n",
    "        'Product_Id': 'pid',\n",
    "        'Product_Category': 'category',\n",
    "        'Title': 'title',\n",
    "        'Product_Description': 'description',\n",
    "        'Main_Image_Url': 'main_img_url',\n",
    "    })"
   ]
  },
  {
   "cell_type": "code",
   "execution_count": 41,
   "metadata": {},
   "outputs": [
    {
     "data": {
      "text/html": [
       "<div>\n",
       "<style scoped>\n",
       "    .dataframe tbody tr th:only-of-type {\n",
       "        vertical-align: middle;\n",
       "    }\n",
       "\n",
       "    .dataframe tbody tr th {\n",
       "        vertical-align: top;\n",
       "    }\n",
       "\n",
       "    .dataframe thead th {\n",
       "        text-align: right;\n",
       "    }\n",
       "</style>\n",
       "<table border=\"1\" class=\"dataframe\">\n",
       "  <thead>\n",
       "    <tr style=\"text-align: right;\">\n",
       "      <th></th>\n",
       "      <th>label_ordering</th>\n",
       "      <th>sample_method</th>\n",
       "      <th>pid</th>\n",
       "      <th>category</th>\n",
       "      <th>title</th>\n",
       "      <th>description</th>\n",
       "      <th>main_img_url</th>\n",
       "      <th>rater_output_processed</th>\n",
       "      <th>attr_name_value_pairs_normalized</th>\n",
       "      <th>attr_name_value_pairs_custom</th>\n",
       "      <th>attr_name_value_pairs_normalized_text</th>\n",
       "    </tr>\n",
       "  </thead>\n",
       "  <tbody>\n",
       "    <tr>\n",
       "      <th>0</th>\n",
       "      <td>0</td>\n",
       "      <td>only_text</td>\n",
       "      <td>611bbb365b0bd8698b670d9d</td>\n",
       "      <td>Home &amp; Garden &gt; Pet Products &gt; Cat Supplies &gt; ...</td>\n",
       "      <td>Rattan Basket Pet Dome and Animal Bed, with Me...</td>\n",
       "      <td>Features\\n- Rattan wicker brings a classic sty...</td>\n",
       "      <td>NaN</td>\n",
       "      <td>Home &amp; Garden &gt; Pet Products &gt; Cat Supplies &gt; ...</td>\n",
       "      <td>[(Materials, Cotton), (Materials, Metal), (Mat...</td>\n",
       "      <td>[(Materials, Water Hyacinth)]</td>\n",
       "      <td>Materials|Cotton\\nMaterials|Metal\\nMaterials|P...</td>\n",
       "    </tr>\n",
       "    <tr>\n",
       "      <th>1</th>\n",
       "      <td>1</td>\n",
       "      <td>only_text</td>\n",
       "      <td>61a9c0160dcaf9e1da138df1</td>\n",
       "      <td>Cellphones &amp; Telecommunications &gt; Mobile Phone...</td>\n",
       "      <td>10Pcs 7Pcs 2Pcs 1Pcs Tempered Glass For Iphone...</td>\n",
       "      <td>welcome to my store!\\r\\n\\r\\nFeatures:\\r\\nCompa...</td>\n",
       "      <td>NaN</td>\n",
       "      <td>Cellphones &amp; Telecommunications &gt; Mobile Phone...</td>\n",
       "      <td>[(Hardness (Moh's Scale), 9h), (Item Condition...</td>\n",
       "      <td>[]</td>\n",
       "      <td>Hardness (Moh's Scale)|9h\\nItem Condition|New\\...</td>\n",
       "    </tr>\n",
       "    <tr>\n",
       "      <th>2</th>\n",
       "      <td>2</td>\n",
       "      <td>only_text</td>\n",
       "      <td>619e5cbac10add65da6fe6cb</td>\n",
       "      <td>Home &amp; Garden &gt; Arts, Crafts &amp; Sewing &gt; Needle...</td>\n",
       "      <td>Frog and Book DIY 5D Diamond Painting Full Dri...</td>\n",
       "      <td>Package Include:\\n1 X Diamond Cloth (diamonds ...</td>\n",
       "      <td>NaN</td>\n",
       "      <td>Home &amp; Garden &gt; Arts, Crafts &amp; Sewing &gt; Needle...</td>\n",
       "      <td>[(Materials, Canvas), (Surface Recommendation,...</td>\n",
       "      <td>[(Use, DIY Crafts)]</td>\n",
       "      <td>Materials|Canvas\\nSurface Recommendation|Ceiling</td>\n",
       "    </tr>\n",
       "    <tr>\n",
       "      <th>3</th>\n",
       "      <td>3</td>\n",
       "      <td>only_text</td>\n",
       "      <td>60ed02663dd63e676ce0b4fa</td>\n",
       "      <td>Shoes &gt; Women's Shoes &gt; Women's Sandals</td>\n",
       "      <td>Rhinestone Sandals Women's Diamond Thick Heel ...</td>\n",
       "      <td>Welcome to buy our products, wish you a happy ...</td>\n",
       "      <td>NaN</td>\n",
       "      <td>Shoes &gt; Men's Shoes &gt; Men's Sandals &gt; Departme...</td>\n",
       "      <td>[(Department, Women)]</td>\n",
       "      <td>[]</td>\n",
       "      <td>Department|Women</td>\n",
       "    </tr>\n",
       "    <tr>\n",
       "      <th>4</th>\n",
       "      <td>4</td>\n",
       "      <td>text_and_img</td>\n",
       "      <td>6182639876b66f2c68b39992</td>\n",
       "      <td>Home Improvement &gt; Lights &amp; Lighting &gt; LED Lig...</td>\n",
       "      <td>20M/65.6FT Bluetooth LED Strip Lights, RGB Col...</td>\n",
       "      <td>Description:\\r\\n1.5050wifi light strip, take y...</td>\n",
       "      <td>https://canary.contestimg.wish.com/api/webimag...</td>\n",
       "      <td>Home Improvement &gt; Lights &amp; Lighting &gt; LED Lig...</td>\n",
       "      <td>[(Connectivity, Homeplug), (Item Features, Col...</td>\n",
       "      <td>[(Alpha Size, 17  17  6), (Alpha Size, &gt; 17 17...</td>\n",
       "      <td>Connectivity|Homeplug\\nItem Features|Color Cha...</td>\n",
       "    </tr>\n",
       "    <tr>\n",
       "      <th>...</th>\n",
       "      <td>...</td>\n",
       "      <td>...</td>\n",
       "      <td>...</td>\n",
       "      <td>...</td>\n",
       "      <td>...</td>\n",
       "      <td>...</td>\n",
       "      <td>...</td>\n",
       "      <td>...</td>\n",
       "      <td>...</td>\n",
       "      <td>...</td>\n",
       "      <td>...</td>\n",
       "    </tr>\n",
       "    <tr>\n",
       "      <th>50871</th>\n",
       "      <td>51291</td>\n",
       "      <td>text_and_img</td>\n",
       "      <td>60b522c6da9c474d279622a8</td>\n",
       "      <td>Home &amp; Garden &gt; Garden Supplies &gt; Seed Dissemi...</td>\n",
       "      <td>Garden Tech 5040415 1.25 lbs Sulfur Dust</td>\n",
       "      <td>&lt;p&gt;We provide a wide range of products to sati...</td>\n",
       "      <td>https://canary.contestimg.wish.com/api/webimag...</td>\n",
       "      <td>Home &amp; Garden &gt; Garden Supplies &gt; Seed Dissemi...</td>\n",
       "      <td>[(Pest Type, Insect Control), (Primary Color, ...</td>\n",
       "      <td>[]</td>\n",
       "      <td>Pest Type|Insect Control\\nPrimary Color|Red</td>\n",
       "    </tr>\n",
       "    <tr>\n",
       "      <th>50872</th>\n",
       "      <td>51292</td>\n",
       "      <td>only_text</td>\n",
       "      <td>5ff80b2824f716c3010150d4</td>\n",
       "      <td>Jewelry &amp; Accessories &gt; Rings</td>\n",
       "      <td>Adorable Rabbit Mouse Ring 925 Sterling Silver...</td>\n",
       "      <td>(a).Item: open ring \\n(b). Packing: 1pc\\n(C). ...</td>\n",
       "      <td>NaN</td>\n",
       "      <td>Jewelry &amp; Accessories &gt; Rings &gt; Occasion &amp; Lif...</td>\n",
       "      <td>[(Main Stone, Zircon), (Materials, Silver), (M...</td>\n",
       "      <td>[]</td>\n",
       "      <td>Main Stone|Zircon\\nMaterials|Silver\\nMaterials...</td>\n",
       "    </tr>\n",
       "    <tr>\n",
       "      <th>50873</th>\n",
       "      <td>51293</td>\n",
       "      <td>text_and_img</td>\n",
       "      <td>60ab86e8ab4212dc38a328a6</td>\n",
       "      <td>Home &amp; Garden &gt; Arts, Crafts &amp; Sewing &gt; Appare...</td>\n",
       "      <td>To-m Hollan-d Umbr 44mm 1.75inch Brooch Backpa...</td>\n",
       "      <td>pins broach 44mm 1.75inch Snap-in Craft 3 Inch...</td>\n",
       "      <td>https://canary.contestimg.wish.com/api/webimag...</td>\n",
       "      <td>Home &amp; Garden &gt; Arts, Crafts &amp; Sewing &gt; Appare...</td>\n",
       "      <td>[(Primary Color, White)]</td>\n",
       "      <td>[]</td>\n",
       "      <td>Primary Color|White</td>\n",
       "    </tr>\n",
       "    <tr>\n",
       "      <th>50874</th>\n",
       "      <td>51294</td>\n",
       "      <td>only_text</td>\n",
       "      <td>5ff5a7c2eafa610b9ca30e3a</td>\n",
       "      <td>Jewelry &amp; Accessories &gt; Rings</td>\n",
       "      <td>14k Gold Simulated Ruby White CZ Cross Filigre...</td>\n",
       "      <td>14k Gold Simulated Ruby White CZ Cross Filigre...</td>\n",
       "      <td>NaN</td>\n",
       "      <td>Jewelry &amp; Accessories &gt; Rings &gt; Main Stone &gt; R...</td>\n",
       "      <td>[(Department, Women), (Main Stone, Ruby), (Mat...</td>\n",
       "      <td>[]</td>\n",
       "      <td>Department|Women\\nMain Stone|Ruby\\nMaterials|G...</td>\n",
       "    </tr>\n",
       "    <tr>\n",
       "      <th>50875</th>\n",
       "      <td>51295</td>\n",
       "      <td>only_text</td>\n",
       "      <td>6198777e3a6df28f10836b43</td>\n",
       "      <td>Sports &gt; Fishing &gt; Fishing Apparel &gt; Fishing Caps</td>\n",
       "      <td>Respect The Beard Bucket Hat for Men Printing ...</td>\n",
       "      <td>Material --- 100% Cotton High Quality Cotton F...</td>\n",
       "      <td>NaN</td>\n",
       "      <td>Sports &gt; Fishing &gt; Fishing Apparel &gt; Fishing C...</td>\n",
       "      <td>[(Materials, Cotton)]</td>\n",
       "      <td>[]</td>\n",
       "      <td>Materials|Cotton</td>\n",
       "    </tr>\n",
       "  </tbody>\n",
       "</table>\n",
       "<p>50876 rows × 11 columns</p>\n",
       "</div>"
      ],
      "text/plain": [
       "       label_ordering sample_method                       pid  \\\n",
       "0                   0     only_text  611bbb365b0bd8698b670d9d   \n",
       "1                   1     only_text  61a9c0160dcaf9e1da138df1   \n",
       "2                   2     only_text  619e5cbac10add65da6fe6cb   \n",
       "3                   3     only_text  60ed02663dd63e676ce0b4fa   \n",
       "4                   4  text_and_img  6182639876b66f2c68b39992   \n",
       "...               ...           ...                       ...   \n",
       "50871           51291  text_and_img  60b522c6da9c474d279622a8   \n",
       "50872           51292     only_text  5ff80b2824f716c3010150d4   \n",
       "50873           51293  text_and_img  60ab86e8ab4212dc38a328a6   \n",
       "50874           51294     only_text  5ff5a7c2eafa610b9ca30e3a   \n",
       "50875           51295     only_text  6198777e3a6df28f10836b43   \n",
       "\n",
       "                                                category  \\\n",
       "0      Home & Garden > Pet Products > Cat Supplies > ...   \n",
       "1      Cellphones & Telecommunications > Mobile Phone...   \n",
       "2      Home & Garden > Arts, Crafts & Sewing > Needle...   \n",
       "3                Shoes > Women's Shoes > Women's Sandals   \n",
       "4      Home Improvement > Lights & Lighting > LED Lig...   \n",
       "...                                                  ...   \n",
       "50871  Home & Garden > Garden Supplies > Seed Dissemi...   \n",
       "50872                      Jewelry & Accessories > Rings   \n",
       "50873  Home & Garden > Arts, Crafts & Sewing > Appare...   \n",
       "50874                      Jewelry & Accessories > Rings   \n",
       "50875  Sports > Fishing > Fishing Apparel > Fishing Caps   \n",
       "\n",
       "                                                   title  \\\n",
       "0      Rattan Basket Pet Dome and Animal Bed, with Me...   \n",
       "1      10Pcs 7Pcs 2Pcs 1Pcs Tempered Glass For Iphone...   \n",
       "2      Frog and Book DIY 5D Diamond Painting Full Dri...   \n",
       "3      Rhinestone Sandals Women's Diamond Thick Heel ...   \n",
       "4      20M/65.6FT Bluetooth LED Strip Lights, RGB Col...   \n",
       "...                                                  ...   \n",
       "50871           Garden Tech 5040415 1.25 lbs Sulfur Dust   \n",
       "50872  Adorable Rabbit Mouse Ring 925 Sterling Silver...   \n",
       "50873  To-m Hollan-d Umbr 44mm 1.75inch Brooch Backpa...   \n",
       "50874  14k Gold Simulated Ruby White CZ Cross Filigre...   \n",
       "50875  Respect The Beard Bucket Hat for Men Printing ...   \n",
       "\n",
       "                                             description  \\\n",
       "0      Features\\n- Rattan wicker brings a classic sty...   \n",
       "1      welcome to my store!\\r\\n\\r\\nFeatures:\\r\\nCompa...   \n",
       "2      Package Include:\\n1 X Diamond Cloth (diamonds ...   \n",
       "3      Welcome to buy our products, wish you a happy ...   \n",
       "4      Description:\\r\\n1.5050wifi light strip, take y...   \n",
       "...                                                  ...   \n",
       "50871  <p>We provide a wide range of products to sati...   \n",
       "50872  (a).Item: open ring \\n(b). Packing: 1pc\\n(C). ...   \n",
       "50873  pins broach 44mm 1.75inch Snap-in Craft 3 Inch...   \n",
       "50874  14k Gold Simulated Ruby White CZ Cross Filigre...   \n",
       "50875  Material --- 100% Cotton High Quality Cotton F...   \n",
       "\n",
       "                                            main_img_url  \\\n",
       "0                                                    NaN   \n",
       "1                                                    NaN   \n",
       "2                                                    NaN   \n",
       "3                                                    NaN   \n",
       "4      https://canary.contestimg.wish.com/api/webimag...   \n",
       "...                                                  ...   \n",
       "50871  https://canary.contestimg.wish.com/api/webimag...   \n",
       "50872                                                NaN   \n",
       "50873  https://canary.contestimg.wish.com/api/webimag...   \n",
       "50874                                                NaN   \n",
       "50875                                                NaN   \n",
       "\n",
       "                                  rater_output_processed  \\\n",
       "0      Home & Garden > Pet Products > Cat Supplies > ...   \n",
       "1      Cellphones & Telecommunications > Mobile Phone...   \n",
       "2      Home & Garden > Arts, Crafts & Sewing > Needle...   \n",
       "3      Shoes > Men's Shoes > Men's Sandals > Departme...   \n",
       "4      Home Improvement > Lights & Lighting > LED Lig...   \n",
       "...                                                  ...   \n",
       "50871  Home & Garden > Garden Supplies > Seed Dissemi...   \n",
       "50872  Jewelry & Accessories > Rings > Occasion & Lif...   \n",
       "50873  Home & Garden > Arts, Crafts & Sewing > Appare...   \n",
       "50874  Jewelry & Accessories > Rings > Main Stone > R...   \n",
       "50875  Sports > Fishing > Fishing Apparel > Fishing C...   \n",
       "\n",
       "                        attr_name_value_pairs_normalized  \\\n",
       "0      [(Materials, Cotton), (Materials, Metal), (Mat...   \n",
       "1      [(Hardness (Moh's Scale), 9h), (Item Condition...   \n",
       "2      [(Materials, Canvas), (Surface Recommendation,...   \n",
       "3                                  [(Department, Women)]   \n",
       "4      [(Connectivity, Homeplug), (Item Features, Col...   \n",
       "...                                                  ...   \n",
       "50871  [(Pest Type, Insect Control), (Primary Color, ...   \n",
       "50872  [(Main Stone, Zircon), (Materials, Silver), (M...   \n",
       "50873                           [(Primary Color, White)]   \n",
       "50874  [(Department, Women), (Main Stone, Ruby), (Mat...   \n",
       "50875                              [(Materials, Cotton)]   \n",
       "\n",
       "                            attr_name_value_pairs_custom  \\\n",
       "0                          [(Materials, Water Hyacinth)]   \n",
       "1                                                     []   \n",
       "2                                    [(Use, DIY Crafts)]   \n",
       "3                                                     []   \n",
       "4      [(Alpha Size, 17  17  6), (Alpha Size, > 17 17...   \n",
       "...                                                  ...   \n",
       "50871                                                 []   \n",
       "50872                                                 []   \n",
       "50873                                                 []   \n",
       "50874                                                 []   \n",
       "50875                                                 []   \n",
       "\n",
       "                   attr_name_value_pairs_normalized_text  \n",
       "0      Materials|Cotton\\nMaterials|Metal\\nMaterials|P...  \n",
       "1      Hardness (Moh's Scale)|9h\\nItem Condition|New\\...  \n",
       "2       Materials|Canvas\\nSurface Recommendation|Ceiling  \n",
       "3                                       Department|Women  \n",
       "4      Connectivity|Homeplug\\nItem Features|Color Cha...  \n",
       "...                                                  ...  \n",
       "50871        Pest Type|Insect Control\\nPrimary Color|Red  \n",
       "50872  Main Stone|Zircon\\nMaterials|Silver\\nMaterials...  \n",
       "50873                                Primary Color|White  \n",
       "50874  Department|Women\\nMain Stone|Ruby\\nMaterials|G...  \n",
       "50875                                   Materials|Cotton  \n",
       "\n",
       "[50876 rows x 11 columns]"
      ]
     },
     "execution_count": 41,
     "metadata": {},
     "output_type": "execute_result"
    }
   ],
   "source": [
    "df_out"
   ]
  },
  {
   "cell_type": "code",
   "execution_count": 42,
   "metadata": {},
   "outputs": [
    {
     "data": {
      "text/plain": [
       "(50876, 50876)"
      ]
     },
     "execution_count": 42,
     "metadata": {},
     "output_type": "execute_result"
    }
   ],
   "source": [
    "len(set(df_out['pid'])), len(df_out)"
   ]
  },
  {
   "cell_type": "code",
   "execution_count": 43,
   "metadata": {},
   "outputs": [
    {
     "data": {
      "text/plain": [
       "(50873, 50876)"
      ]
     },
     "execution_count": 43,
     "metadata": {},
     "output_type": "execute_result"
    }
   ],
   "source": [
    "len(set(df_out['title'] + df_out['description'])), len(df_out)"
   ]
  },
  {
   "cell_type": "code",
   "execution_count": 44,
   "metadata": {},
   "outputs": [],
   "source": [
    "df_out_text = df_out[df_out.sample_method == 'only_text']\n",
    "df_out_hybrid = df_out[df_out.sample_method == 'text_and_img']"
   ]
  },
  {
   "cell_type": "code",
   "execution_count": 45,
   "metadata": {},
   "outputs": [
    {
     "data": {
      "text/plain": [
       "(32374, 18502)"
      ]
     },
     "execution_count": 45,
     "metadata": {},
     "output_type": "execute_result"
    }
   ],
   "source": [
    "len(df_out_text), len(df_out_hybrid)"
   ]
  },
  {
   "cell_type": "code",
   "execution_count": 46,
   "metadata": {},
   "outputs": [],
   "source": [
    "from sklearn.model_selection import train_test_split"
   ]
  },
  {
   "cell_type": "code",
   "execution_count": 47,
   "metadata": {},
   "outputs": [],
   "source": [
    "train_text, _ = train_test_split(df_out_text, test_size=.4, random_state=42)\n",
    "val_text, test_text = train_test_split(_, test_size=0.5, random_state=42)\n",
    "\n",
    "train_hybrid, _ = train_test_split(df_out_hybrid, test_size=.4, random_state=42)\n",
    "val_hybrid, test_hybrid = train_test_split(_, test_size=0.5, random_state=42)"
   ]
  },
  {
   "cell_type": "code",
   "execution_count": 48,
   "metadata": {},
   "outputs": [
    {
     "data": {
      "text/plain": [
       "(19424, 6475, 6475)"
      ]
     },
     "execution_count": 48,
     "metadata": {},
     "output_type": "execute_result"
    }
   ],
   "source": [
    "len(train_text), len(val_text), len(test_text)"
   ]
  },
  {
   "cell_type": "code",
   "execution_count": 49,
   "metadata": {},
   "outputs": [
    {
     "data": {
      "text/plain": [
       "(11101, 3700, 3701)"
      ]
     },
     "execution_count": 49,
     "metadata": {},
     "output_type": "execute_result"
    }
   ],
   "source": [
    "len(train_hybrid), len(val_hybrid), len(test_hybrid)"
   ]
  },
  {
   "cell_type": "code",
   "execution_count": 50,
   "metadata": {},
   "outputs": [
    {
     "name": "stdout",
     "output_type": "stream",
     "text": [
      "appen_020323_delivered_022123_validated_product_attr_textandimg_test.json\n",
      "appen_020323_delivered_022123_validated_product_attr_textandimg_test.json.dvc\n",
      "appen_020323_delivered_022123_validated_product_attr_textandimg_train.json\n",
      "appen_020323_delivered_022123_validated_product_attr_textandimg_train.json.dvc\n",
      "appen_020323_delivered_022123_validated_product_attr_textandimg_val.json\n",
      "appen_020323_delivered_022123_validated_product_attr_textandimg_val.json.dvc\n",
      "appen_020323_delivered_022123_validated_product_attr_textonly_test.json\n",
      "appen_020323_delivered_022123_validated_product_attr_textonly_test.json.dvc\n",
      "appen_020323_delivered_022123_validated_product_attr_textonly_train.json\n",
      "appen_020323_delivered_022123_validated_product_attr_textonly_train.json.dvc\n",
      "appen_020323_delivered_022123_validated_product_attr_textonly_val.json\n",
      "appen_020323_delivered_022123_validated_product_attr_textonly_val.json.dvc\n"
     ]
    }
   ],
   "source": [
    "!ls processed"
   ]
  },
  {
   "cell_type": "code",
   "execution_count": 51,
   "metadata": {},
   "outputs": [],
   "source": [
    "train_text.to_json('processed/appen_020323_030323_delivered_030623_validated_product_attr_textonly_train.json', lines=True, orient='records')\n",
    "val_text.to_json('processed/appen_020323_030323_delivered_030623_validated_product_attr_textonly_val.json', lines=True, orient='records')\n",
    "test_text.to_json('processed/appen_020323_030323_delivered_030623_validated_product_attr_textonly_test.json', lines=True, orient='records')"
   ]
  },
  {
   "cell_type": "code",
   "execution_count": 52,
   "metadata": {},
   "outputs": [],
   "source": [
    "train_hybrid.to_json('processed/appen_020323_030323_delivered_030623_validated_product_attr_textandimg_train.json', lines=True, orient='records')\n",
    "val_hybrid.to_json('processed/appen_020323_030323_delivered_030623_validated_product_attr_textandimg_val.json', lines=True, orient='records')\n",
    "test_hybrid.to_json('processed/appen_020323_030323_delivered_030623_validated_product_attr_textandimg_test.json', lines=True, orient='records')"
   ]
  },
  {
   "cell_type": "code",
   "execution_count": null,
   "metadata": {},
   "outputs": [],
   "source": []
  }
 ],
 "metadata": {
  "kernelspec": {
   "display_name": "Python 3",
   "language": "python",
   "name": "python3"
  },
  "language_info": {
   "codemirror_mode": {
    "name": "ipython",
    "version": 3
   },
   "file_extension": ".py",
   "mimetype": "text/x-python",
   "name": "python",
   "nbconvert_exporter": "python",
   "pygments_lexer": "ipython3",
   "version": "3.8.13"
  },
  "orig_nbformat": 4,
  "vscode": {
   "interpreter": {
    "hash": "949777d72b0d2535278d3dc13498b2535136f6dfe0678499012e853ee9abcab1"
   }
  }
 },
 "nbformat": 4,
 "nbformat_minor": 2
}
