{
 "cells": [
  {
   "cell_type": "code",
   "execution_count": 7,
   "metadata": {},
   "outputs": [],
   "source": [
    "import pandas as pd\n",
    "import dvc.api"
   ]
  },
  {
   "cell_type": "code",
   "execution_count": 2,
   "metadata": {},
   "outputs": [],
   "source": [
    "from copy import deepcopy\n",
    "import hashlib\n",
    "from collections import OrderedDict\n",
    "import json\n",
    "def sortOD(od):\n",
    "    res = OrderedDict()\n",
    "    for k, v in sorted(od.items()):\n",
    "        if isinstance(v, dict):\n",
    "            res[k] = sortOD(v)\n",
    "        else:\n",
    "            res[k] = deepcopy(v)\n",
    "    return res"
   ]
  },
  {
   "cell_type": "code",
   "execution_count": 51,
   "metadata": {},
   "outputs": [],
   "source": [
    "df_metadata = pd.read_csv('../attribute_extraction_metadata_template/Initial Attribute Definition for First Release - UPDATED SHEET .csv')"
   ]
  },
  {
   "cell_type": "code",
   "execution_count": 53,
   "metadata": {},
   "outputs": [],
   "source": [
    "df_metadata = df_metadata[['category', 'category_id', 'attribute_field', 'category_attributevalue', 'description', 'max_multi_select', 'usage', 'entry mode']]"
   ]
  },
  {
   "cell_type": "code",
   "execution_count": 54,
   "metadata": {},
   "outputs": [],
   "source": [
    "metadata_category = set(df_metadata.category)\n",
    "metadata_category_ids = set(df_metadata.category_id)"
   ]
  },
  {
   "cell_type": "code",
   "execution_count": 55,
   "metadata": {},
   "outputs": [],
   "source": [
    "category2config = {}\n",
    "for i in metadata_category:\n",
    "    df_tmp = df_metadata[df_metadata.category == i]\n",
    "    category2config[i] = sorted(df_tmp.to_dict('records'), key=lambda x: x['attribute_field'])\n",
    "categoryid2config = {}\n",
    "for i in metadata_category_ids:\n",
    "    df_tmp = df_metadata[df_metadata.category_id == i]\n",
    "    categoryid2config[i] = sorted(df_tmp.to_dict('records'), key=lambda x: x['attribute_field'])"
   ]
  },
  {
   "cell_type": "code",
   "execution_count": 15,
   "metadata": {},
   "outputs": [],
   "source": [
    "df_tax = pd.read_json(dvc.api.get_url(\n",
    "    'datasets/data/taxonomy/wish_newtax.json',\n",
    "    repo='git@github.com:ContextLogic/multitask-llm-rnd.git'\n",
    "), lines=True)"
   ]
  },
  {
   "cell_type": "code",
   "execution_count": 19,
   "metadata": {},
   "outputs": [],
   "source": [
    "tax2id = {}\n",
    "for i in df_tax.to_dict('records'):\n",
    "    if len(i['category_path']) > 0:\n",
    "        tax2id[i['category_path']] = int(i['id'])"
   ]
  },
  {
   "attachments": {},
   "cell_type": "markdown",
   "metadata": {},
   "source": [
    "# sample file"
   ]
  },
  {
   "cell_type": "code",
   "execution_count": 56,
   "metadata": {},
   "outputs": [],
   "source": [
    "df_samples = pd.read_csv('sdt887_product_attribution_data_one_listing_per_leaf_node__20230111.csv')"
   ]
  },
  {
   "cell_type": "code",
   "execution_count": 57,
   "metadata": {},
   "outputs": [
    {
     "data": {
      "text/html": [
       "<div>\n",
       "<style scoped>\n",
       "    .dataframe tbody tr th:only-of-type {\n",
       "        vertical-align: middle;\n",
       "    }\n",
       "\n",
       "    .dataframe tbody tr th {\n",
       "        vertical-align: top;\n",
       "    }\n",
       "\n",
       "    .dataframe thead th {\n",
       "        text-align: right;\n",
       "    }\n",
       "</style>\n",
       "<table border=\"1\" class=\"dataframe\">\n",
       "  <thead>\n",
       "    <tr style=\"text-align: right;\">\n",
       "      <th></th>\n",
       "      <th>product_id</th>\n",
       "      <th>category_id</th>\n",
       "      <th>category_name</th>\n",
       "      <th>category_path</th>\n",
       "      <th>L1</th>\n",
       "      <th>L2</th>\n",
       "      <th>num_extra_photos</th>\n",
       "      <th>title</th>\n",
       "      <th>product_description</th>\n",
       "      <th>main_image_url</th>\n",
       "    </tr>\n",
       "  </thead>\n",
       "  <tbody>\n",
       "    <tr>\n",
       "      <th>0</th>\n",
       "      <td>60f1d9657dd37ab3cbb26868</td>\n",
       "      <td>5504</td>\n",
       "      <td>Axes</td>\n",
       "      <td>Tools &gt; Hand Tools &gt; Axes</td>\n",
       "      <td>Tools</td>\n",
       "      <td>Tools &gt; Hand Tools</td>\n",
       "      <td>9</td>\n",
       "      <td>Axe holder, axe stand, Leviathan axe, God of W...</td>\n",
       "      <td>Axe holder, axe stand, Leviathan axe, God of W...</td>\n",
       "      <td>https://canary.contestimg.wish.com/api/webimag...</td>\n",
       "    </tr>\n",
       "    <tr>\n",
       "      <th>1</th>\n",
       "      <td>6184dc13dfb278fe92818499</td>\n",
       "      <td>2939</td>\n",
       "      <td>Pastry Brushes</td>\n",
       "      <td>Home &amp; Garden &gt; Kitchen, Dining &amp; Bar &gt; Bakewa...</td>\n",
       "      <td>Home &amp; Garden</td>\n",
       "      <td>Home &amp; Garden &gt; Kitchen, Dining &amp; Bar</td>\n",
       "      <td>8</td>\n",
       "      <td>New silicone baking pastry tool oil brush high...</td>\n",
       "      <td>Welcome to my shop, I wish you a happy shoppin...</td>\n",
       "      <td>https://canary.contestimg.wish.com/api/webimag...</td>\n",
       "    </tr>\n",
       "  </tbody>\n",
       "</table>\n",
       "</div>"
      ],
      "text/plain": [
       "                 product_id  category_id   category_name  \\\n",
       "0  60f1d9657dd37ab3cbb26868         5504            Axes   \n",
       "1  6184dc13dfb278fe92818499         2939  Pastry Brushes   \n",
       "\n",
       "                                       category_path             L1  \\\n",
       "0                          Tools > Hand Tools > Axes          Tools   \n",
       "1  Home & Garden > Kitchen, Dining & Bar > Bakewa...  Home & Garden   \n",
       "\n",
       "                                      L2  num_extra_photos  \\\n",
       "0                     Tools > Hand Tools                 9   \n",
       "1  Home & Garden > Kitchen, Dining & Bar                 8   \n",
       "\n",
       "                                               title  \\\n",
       "0  Axe holder, axe stand, Leviathan axe, God of W...   \n",
       "1  New silicone baking pastry tool oil brush high...   \n",
       "\n",
       "                                 product_description  \\\n",
       "0  Axe holder, axe stand, Leviathan axe, God of W...   \n",
       "1  Welcome to my shop, I wish you a happy shoppin...   \n",
       "\n",
       "                                      main_image_url  \n",
       "0  https://canary.contestimg.wish.com/api/webimag...  \n",
       "1  https://canary.contestimg.wish.com/api/webimag...  "
      ]
     },
     "execution_count": 57,
     "metadata": {},
     "output_type": "execute_result"
    }
   ],
   "source": [
    "df_samples.head(2)"
   ]
  },
  {
   "cell_type": "code",
   "execution_count": 7,
   "metadata": {},
   "outputs": [],
   "source": [
    "df_samples = df_samples[df_samples.category_path.apply(lambda x: x in metadata_category)]\n",
    "df_samples = df_samples.sample(10, random_state=42)"
   ]
  },
  {
   "cell_type": "code",
   "execution_count": 10,
   "metadata": {},
   "outputs": [],
   "source": [
    "res = []\n",
    "for i in df_samples[['product_id', 'category_id', 'category_path', 'title', 'product_description', 'main_image_url']].to_dict('records'):\n",
    "    i['text'] = \\\n",
    "f\"\"\"Title: {i['title']}\n",
    "Description: {i['product_description']}\"\"\"\n",
    "    i['attribute_config'] = category2config[i['category_path']]\n",
    "    task_json = json.dumps(sortOD(i)).encode('utf-8')\n",
    "    task_id = hashlib.md5(task_json).hexdigest()\n",
    "    i['task_id'] = f\"product_attribution_md_{task_id}\"\n",
    "    i['preloading_result'] = None\n",
    "    res.append(i)"
   ]
  },
  {
   "cell_type": "code",
   "execution_count": 11,
   "metadata": {},
   "outputs": [],
   "source": [
    "pd.DataFrame(res).to_json('example_offshore_input_listing_attr_extract_v2.json', lines=True, orient='records')"
   ]
  },
  {
   "attachments": {},
   "cell_type": "markdown",
   "metadata": {},
   "source": [
    "# demo file"
   ]
  },
  {
   "cell_type": "code",
   "execution_count": 58,
   "metadata": {},
   "outputs": [],
   "source": [
    "df_samples_orig_text = pd.read_json(dvc.api.get_url(\n",
    "    'datasets/data/wish_attr_extract_label/appen/input_batch/appen_product_attribution_batch1_text.json',\n",
    "    repo='git@github.com:ContextLogic/multitask-llm-rnd.git'\n",
    "), lines=True)\n",
    "df_samples_orig_textimg = pd.read_json(dvc.api.get_url(\n",
    "    'datasets/data/wish_attr_extract_label/appen/input_batch/appen_product_attribution_batch2_text_image.json',\n",
    "    repo='git@github.com:ContextLogic/multitask-llm-rnd.git'\n",
    "), lines=True)"
   ]
  },
  {
   "cell_type": "code",
   "execution_count": 59,
   "metadata": {},
   "outputs": [],
   "source": [
    "pid2cid = {}\n",
    "for i in df_samples_orig_text[['product_id', 'category_id']].to_dict('records'):\n",
    "    pid2cid[i['product_id']] = int(i['category_id'])\n",
    "for i in df_samples_orig_textimg[['product_id', 'category_id']].to_dict('records'):\n",
    "    pid2cid[i['product_id']] = int(i['category_id'])"
   ]
  },
  {
   "cell_type": "code",
   "execution_count": 60,
   "metadata": {},
   "outputs": [],
   "source": [
    "df_samples = pd.read_csv(dvc.api.get_url(\n",
    "    'datasets/data/wish_attr_extract_label/appen/input_batch_processed/appen_product_attribution_batch1.csv',\n",
    "    repo='git@github.com:ContextLogic/multitask-llm-rnd.git'\n",
    "))"
   ]
  },
  {
   "cell_type": "code",
   "execution_count": 61,
   "metadata": {},
   "outputs": [],
   "source": [
    "df_samples = df_samples[df_samples.product_id.apply(lambda x: x in pid2cid)]"
   ]
  },
  {
   "cell_type": "code",
   "execution_count": 62,
   "metadata": {},
   "outputs": [],
   "source": [
    "df_samples['category_id'] = df_samples['product_id'].apply(lambda x: pid2cid[x])"
   ]
  },
  {
   "cell_type": "code",
   "execution_count": 64,
   "metadata": {},
   "outputs": [],
   "source": [
    "df_samples = df_samples[df_samples.category_id.apply(lambda x: x in categoryid2config)]\n",
    "df_samples = df_samples.sample(10, random_state=42)"
   ]
  },
  {
   "cell_type": "code",
   "execution_count": 66,
   "metadata": {},
   "outputs": [],
   "source": [
    "res = []\n",
    "for i in df_samples[['product_id', 'category_id', 'category_path', 'title', 'product_description', 'main_image_url']].to_dict('records'):\n",
    "    i['text'] = \\\n",
    "f\"\"\"Title: {i['title']}\n",
    "Description: {i['product_description']}\"\"\"\n",
    "    i['attribute_config'] = categoryid2config[i['category_id']]\n",
    "    task_json = json.dumps(sortOD(i)).encode('utf-8')\n",
    "    task_id = hashlib.md5(task_json).hexdigest()\n",
    "    i['task_id'] = f\"product_attribution_md_{task_id}\"\n",
    "    i['preloading_result'] = None\n",
    "    res.append(i)"
   ]
  },
  {
   "cell_type": "code",
   "execution_count": 68,
   "metadata": {},
   "outputs": [],
   "source": [
    "pd.DataFrame(res).to_json('offshore_md/demo_product_attr_extract_md_02272023.json', lines=True, orient='records')"
   ]
  },
  {
   "cell_type": "code",
   "execution_count": null,
   "metadata": {},
   "outputs": [],
   "source": []
  }
 ],
 "metadata": {
  "kernelspec": {
   "display_name": "Python 3",
   "language": "python",
   "name": "python3"
  },
  "language_info": {
   "codemirror_mode": {
    "name": "ipython",
    "version": 3
   },
   "file_extension": ".py",
   "mimetype": "text/x-python",
   "name": "python",
   "nbconvert_exporter": "python",
   "pygments_lexer": "ipython3",
   "version": "3.8.13"
  },
  "orig_nbformat": 4,
  "vscode": {
   "interpreter": {
    "hash": "949777d72b0d2535278d3dc13498b2535136f6dfe0678499012e853ee9abcab1"
   }
  }
 },
 "nbformat": 4,
 "nbformat_minor": 2
}
