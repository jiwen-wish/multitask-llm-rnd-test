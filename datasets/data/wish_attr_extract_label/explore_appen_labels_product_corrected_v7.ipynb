{
 "cells": [
  {
   "cell_type": "code",
   "execution_count": 6,
   "metadata": {},
   "outputs": [],
   "source": [
    "import pandas as pd\n",
    "from collections import defaultdict\n",
    "import dvc.api\n",
    "from tqdm import tqdm\n",
    "import numpy as np\n",
    "from functools import reduce"
   ]
  },
  {
   "attachments": {},
   "cell_type": "markdown",
   "metadata": {},
   "source": [
    "# get original data"
   ]
  },
  {
   "cell_type": "code",
   "execution_count": 7,
   "metadata": {},
   "outputs": [],
   "source": [
    "df_original = pd.concat([ \n",
    "    pd.read_csv(dvc.api.get_url('datasets/data/wish_attr_extract_label/appen/input_batch_processed/appen_product_attribution_batch1.csv', \n",
    "        repo='git@github.com:ContextLogic/multitask-llm-rnd.git')), \n",
    "    pd.read_csv(dvc.api.get_url('datasets/data/wish_attr_extract_label/appen/input_batch_processed/appen_product_attribution_batch2_highimpression.csv',\n",
    "        repo='git@github.com:ContextLogic/multitask-llm-rnd.git')), \n",
    "    pd.read_csv(dvc.api.get_url('datasets/data/wish_attr_extract_label/appen/input_batch_processed/appen_product_attribution_batch2.csv', \n",
    "        repo='git@github.com:ContextLogic/multitask-llm-rnd.git')),\n",
    "    pd.read_csv(dvc.api.get_url('datasets/data/wish_attr_extract_label/appen/input_batch_processed/appen_product_attribution_batch3.csv', \n",
    "        repo='git@github.com:ContextLogic/multitask-llm-rnd.git')),\n",
    "    pd.read_csv(dvc.api.get_url('datasets/data/wish_attr_extract_label/appen/input_batch_processed/appen_product_attribution_batch4.csv', \n",
    "        repo='git@github.com:ContextLogic/multitask-llm-rnd.git'))\n",
    "])"
   ]
  },
  {
   "cell_type": "code",
   "execution_count": 8,
   "metadata": {},
   "outputs": [
    {
     "data": {
      "text/plain": [
       "241287"
      ]
     },
     "execution_count": 8,
     "metadata": {},
     "output_type": "execute_result"
    }
   ],
   "source": [
    "len(df_original)"
   ]
  },
  {
   "cell_type": "code",
   "execution_count": 9,
   "metadata": {},
   "outputs": [],
   "source": [
    "df_original = df_original.dropna(subset=['label_ordering'])"
   ]
  },
  {
   "cell_type": "code",
   "execution_count": 10,
   "metadata": {},
   "outputs": [
    {
     "data": {
      "text/plain": [
       "241282"
      ]
     },
     "execution_count": 10,
     "metadata": {},
     "output_type": "execute_result"
    }
   ],
   "source": [
    "len(df_original)"
   ]
  },
  {
   "cell_type": "code",
   "execution_count": 11,
   "metadata": {},
   "outputs": [],
   "source": [
    "df_original['label_ordering'] = df_original['label_ordering'].astype(int)"
   ]
  },
  {
   "attachments": {},
   "cell_type": "markdown",
   "metadata": {},
   "source": [
    "# get attributes"
   ]
  },
  {
   "cell_type": "code",
   "execution_count": 12,
   "metadata": {},
   "outputs": [],
   "source": [
    "df_attributes = pd.read_csv('../attribute_extraction_metadata_template/attribute_definition_top25L2_filtered_augmented_redacted_addedsinglemulti_01182023.csv')\n",
    "\n",
    "df_attributes_group = df_attributes.groupby('attribute_field').agg({\n",
    "    'category_attributevalue': lambda x: reduce(lambda x, y: x+y, [eval(i) for i in x])\n",
    "}).reset_index()"
   ]
  },
  {
   "cell_type": "code",
   "execution_count": 13,
   "metadata": {},
   "outputs": [
    {
     "data": {
      "text/plain": [
       "(230, 516378)"
      ]
     },
     "execution_count": 13,
     "metadata": {},
     "output_type": "execute_result"
    }
   ],
   "source": [
    "len(df_attributes_group), df_attributes_group.category_attributevalue.apply(len).sum()"
   ]
  },
  {
   "cell_type": "code",
   "execution_count": 14,
   "metadata": {},
   "outputs": [],
   "source": [
    "attributes = set(df_attributes_group['attribute_field'])"
   ]
  },
  {
   "cell_type": "code",
   "execution_count": 15,
   "metadata": {},
   "outputs": [],
   "source": [
    "category_paths = set(df_attributes['category'])"
   ]
  },
  {
   "cell_type": "code",
   "execution_count": 16,
   "metadata": {},
   "outputs": [],
   "source": [
    "more_paths = []\n",
    "for i in category_paths:\n",
    "    tmp = []\n",
    "    for j in i.split(' > '):\n",
    "        tmp.append(j)\n",
    "        more_paths.append(' > '.join(tmp))\n",
    "category_paths.update(more_paths)"
   ]
  },
  {
   "attachments": {},
   "cell_type": "markdown",
   "metadata": {},
   "source": [
    "# existing appen data"
   ]
  },
  {
   "cell_type": "code",
   "execution_count": 17,
   "metadata": {},
   "outputs": [],
   "source": [
    "df0 = pd.read_csv('appen/output_batch_correct_v8/Product Att_03.31.23_2746units.csv')\n",
    "df1 = pd.read_csv('appen/output_batch_correct_v5/product_attribution_till_032423_valid_units.csv')\n",
    "df2 = pd.read_csv('appen/output_batch_correct_v6/product_attribution_just_032723_valid_units.csv')\n",
    "df3 = pd.read_csv('appen/output_batch_correct_v8/Product Att_03.2723_empty_missed_rework_6773_valid.csv')\n",
    "df4 = pd.read_csv('appen/output_batch_correct_v8/Product Att_03.31.23_72units.csv')\n",
    "df5 = pd.concat([\n",
    "    pd.read_csv('appen/output_batch_correct_v8/Product Att_03.30.23_Batch3A_valid.csv'),\n",
    "    pd.read_csv('appen/output_batch_correct_v8/Product Att_03.30.23_Batch3B_valid.csv'),\n",
    "    pd.read_csv('appen/output_batch_correct_v8/Product Att_03.31.23_Batch4A.csv'),\n",
    "    pd.read_csv('appen/output_batch_correct_v8/Product Att_03.31.23_Batch4B.csv'),\n",
    "])\n",
    "df6 = pd.read_csv('appen/output_batch_correct_v7/product_attribution_missed_032423_just_032723_invalid_units_fixed.csv')\n",
    "df7 = pd.read_csv('appen/output_batch_correct_v6/product_attribution_just_032723_invalid_units_fixed.csv')\n",
    "df8 = pd.read_csv('appen/output_batch_correct_v5/product_attribution_till_032423_invalid_units_fixed.csv')"
   ]
  },
  {
   "cell_type": "code",
   "execution_count": 18,
   "metadata": {},
   "outputs": [],
   "source": [
    "df0['file_name'] = 'Product Att_03.31.23_2746units.csv'\n",
    "df1['file_name'] = 'product_attribution_till_032423_valid_units.csv'\n",
    "df2['file_name'] = 'product_attribution_just_032723_valid_units.csv'\n",
    "df3['file_name'] = 'Product Att_03.2723_empty_missed_rework_6773_valid.csv'\n",
    "df4['file_name'] = 'Product Att_03.31.23_72units.csv'\n",
    "df5['file_name'] = 'Product Att_03.30.23_Batch3A_valid.csv|Product Att_03.30.23_Batch3B_valid.csv|Product Att_03.31.23_Batch4A.csv|Product Att_03.31.23_Batch4B.csv'\n",
    "df6['file_name'] = 'product_attribution_missed_032423_just_032723_invalid_units_fixed.csv'\n",
    "df7['file_name'] = 'product_attribution_just_032723_invalid_units_fixed.csv'\n",
    "df8['file_name'] = 'product_attribution_till_032423_invalid_units_fixed.csv'"
   ]
  },
  {
   "cell_type": "code",
   "execution_count": 19,
   "metadata": {},
   "outputs": [
    {
     "data": {
      "text/plain": [
       "(2746, 48254, 43525, 6773, 72, 127349, 7789, 912, 3289)"
      ]
     },
     "execution_count": 19,
     "metadata": {},
     "output_type": "execute_result"
    }
   ],
   "source": [
    "len(df0), len(df1), len(df2), len(df3), len(df4), len(df5), len(df6), len(df7), len(df8)"
   ]
  },
  {
   "cell_type": "code",
   "execution_count": 20,
   "metadata": {},
   "outputs": [],
   "source": [
    "df = pd.concat([df0, df1, df2, df3, df4, df5, df6, df7, df8])"
   ]
  },
  {
   "cell_type": "code",
   "execution_count": 23,
   "metadata": {},
   "outputs": [
    {
     "data": {
      "text/plain": [
       "(240709, 240673, 240673)"
      ]
     },
     "execution_count": 23,
     "metadata": {},
     "output_type": "execute_result"
    }
   ],
   "source": [
    "len(df), len(set(df['label_ordering'])), len(set(df['label_ordering']))"
   ]
  },
  {
   "cell_type": "code",
   "execution_count": 24,
   "metadata": {},
   "outputs": [
    {
     "data": {
      "text/plain": [
       "set()"
      ]
     },
     "execution_count": 24,
     "metadata": {},
     "output_type": "execute_result"
    }
   ],
   "source": [
    "set(df['label_ordering']) - set(df_original['label_ordering'])"
   ]
  },
  {
   "cell_type": "code",
   "execution_count": 25,
   "metadata": {},
   "outputs": [
    {
     "data": {
      "text/plain": [
       "609"
      ]
     },
     "execution_count": 25,
     "metadata": {},
     "output_type": "execute_result"
    }
   ],
   "source": [
    "len(set(df_original['label_ordering']) - set(df['label_ordering']))"
   ]
  },
  {
   "cell_type": "code",
   "execution_count": 26,
   "metadata": {},
   "outputs": [],
   "source": [
    "df_uniq = df.drop_duplicates('label_ordering', keep='first')"
   ]
  },
  {
   "cell_type": "code",
   "execution_count": 27,
   "metadata": {},
   "outputs": [
    {
     "data": {
      "text/plain": [
       "(240709, 240673)"
      ]
     },
     "execution_count": 27,
     "metadata": {},
     "output_type": "execute_result"
    }
   ],
   "source": [
    "len(df), len(df_uniq)"
   ]
  },
  {
   "cell_type": "code",
   "execution_count": 28,
   "metadata": {},
   "outputs": [
    {
     "data": {
      "text/plain": [
       "{'category_path',\n",
       " 'explanation',\n",
       " 'file_name',\n",
       " 'final_output',\n",
       " 'final_output_corrected',\n",
       " 'l2_category',\n",
       " 'label_ordering',\n",
       " 'main_image_url',\n",
       " 'product_category',\n",
       " 'product_description',\n",
       " 'product_description_original',\n",
       " 'product_id',\n",
       " 'rater1_no_attributes',\n",
       " 'rater1_output',\n",
       " 'rater1_unlisted_value',\n",
       " 'rater2_no_attributes',\n",
       " 'rater2_output',\n",
       " 'rater2_unlisted_value',\n",
       " 'rater3_no_attributes',\n",
       " 'rater3_output',\n",
       " 'rater3_unlisted_value',\n",
       " 'sample_method',\n",
       " 'title',\n",
       " 'title_original'}"
      ]
     },
     "execution_count": 28,
     "metadata": {},
     "output_type": "execute_result"
    }
   ],
   "source": [
    "set(df_uniq)"
   ]
  },
  {
   "cell_type": "code",
   "execution_count": 29,
   "metadata": {},
   "outputs": [],
   "source": [
    "df_uniq_merge = df_uniq.merge(df_original[['label_ordering', 'title', 'product_description', 'main_image_url',\n",
    "                                           ]].rename(\n",
    "    columns={'title': 'title_original2', 'product_description': 'product_description_original2',\n",
    "             'main_image_url': 'main_image_url_original2',}), on='label_ordering', how='left')"
   ]
  },
  {
   "cell_type": "code",
   "execution_count": 30,
   "metadata": {},
   "outputs": [
    {
     "data": {
      "text/plain": [
       "240673"
      ]
     },
     "execution_count": 30,
     "metadata": {},
     "output_type": "execute_result"
    }
   ],
   "source": [
    "len(df_uniq_merge)"
   ]
  },
  {
   "cell_type": "code",
   "execution_count": 31,
   "metadata": {},
   "outputs": [
    {
     "data": {
      "text/html": [
       "<div>\n",
       "<style scoped>\n",
       "    .dataframe tbody tr th:only-of-type {\n",
       "        vertical-align: middle;\n",
       "    }\n",
       "\n",
       "    .dataframe tbody tr th {\n",
       "        vertical-align: top;\n",
       "    }\n",
       "\n",
       "    .dataframe thead th {\n",
       "        text-align: right;\n",
       "    }\n",
       "</style>\n",
       "<table border=\"1\" class=\"dataframe\">\n",
       "  <thead>\n",
       "    <tr style=\"text-align: right;\">\n",
       "      <th></th>\n",
       "      <th>label_ordering</th>\n",
       "      <th>sample_method</th>\n",
       "      <th>product_id</th>\n",
       "      <th>title</th>\n",
       "      <th>product_description</th>\n",
       "      <th>main_image_url</th>\n",
       "      <th>product_category</th>\n",
       "      <th>l2_category</th>\n",
       "      <th>rater1_no_attributes</th>\n",
       "      <th>rater1_unlisted_value</th>\n",
       "      <th>...</th>\n",
       "      <th>file_name</th>\n",
       "      <th>title_original</th>\n",
       "      <th>final_output</th>\n",
       "      <th>product_description_original</th>\n",
       "      <th>category_path</th>\n",
       "      <th>explanation</th>\n",
       "      <th>final_output_corrected</th>\n",
       "      <th>title_original2</th>\n",
       "      <th>product_description_original2</th>\n",
       "      <th>main_image_url_original2</th>\n",
       "    </tr>\n",
       "  </thead>\n",
       "  <tbody>\n",
       "    <tr>\n",
       "      <th>44357</th>\n",
       "      <td>162392</td>\n",
       "      <td>text_and_img</td>\n",
       "      <td>5cdd05b52e33a70fe773d613</td>\n",
       "      <td>Lixada Breathable  Fishing Life Vest  209lb Bu...</td>\n",
       "      <td>This fishing Life jacket looks more like an ou...</td>\n",
       "      <td>https://canary.contestimg.wish.com/api/webimag...</td>\n",
       "      <td>Sports &gt; Fishing &gt; Fishing Apparel &gt; Fishing V...</td>\n",
       "      <td>Sports &gt; Fishing</td>\n",
       "      <td>NaN</td>\n",
       "      <td>NaN</td>\n",
       "      <td>...</td>\n",
       "      <td>product_attribution_till_032423_valid_units.csv</td>\n",
       "      <td>​Lixada Breathable  Fishing Life Vest  209lb B...</td>\n",
       "      <td>Sports &gt; Fishing &gt; Fishing Apparel &gt; Fishing V...</td>\n",
       "      <td>NaN</td>\n",
       "      <td>NaN</td>\n",
       "      <td>NaN</td>\n",
       "      <td>NaN</td>\n",
       "      <td>​Lixada Breathable  Fishing Life Vest  209lb B...</td>\n",
       "      <td>This fishing Life jacket looks more like an ou...</td>\n",
       "      <td>https://canary.contestimg.wish.com/api/webimag...</td>\n",
       "    </tr>\n",
       "    <tr>\n",
       "      <th>110774</th>\n",
       "      <td>118572</td>\n",
       "      <td>only_text</td>\n",
       "      <td>60653b38ddc105a55285a859</td>\n",
       "      <td>American Europe Women's Fashion Jewelry Antiqu...</td>\n",
       "      <td>Stone: Moonstone\\nColor: silver\\nSize (US): 5 ...</td>\n",
       "      <td>NaN</td>\n",
       "      <td>Jewelry &amp; Accessories &gt; Rings</td>\n",
       "      <td>Jewelry &amp; Accessories &gt; Rings</td>\n",
       "      <td>NaN</td>\n",
       "      <td>NaN</td>\n",
       "      <td>...</td>\n",
       "      <td>Product Att_03.30.23_Batch3A_valid.csv|Product...</td>\n",
       "      <td>NaN</td>\n",
       "      <td>NaN</td>\n",
       "      <td>NaN</td>\n",
       "      <td>NaN</td>\n",
       "      <td>NaN</td>\n",
       "      <td>NaN</td>\n",
       "      <td>​​American Europe Women's Fashion Jewelry Anti...</td>\n",
       "      <td>Stone: Moonstone\\nColor: silver\\nSize (US): 5 ...</td>\n",
       "      <td>NaN</td>\n",
       "    </tr>\n",
       "    <tr>\n",
       "      <th>111146</th>\n",
       "      <td>119230</td>\n",
       "      <td>text_and_img</td>\n",
       "      <td>610105dfe1fcdddd74dffd8d</td>\n",
       "      <td>Apple AirPods with Wireless Charging Case MRXJ...</td>\n",
       "      <td>Feature:\\nLatest and best AirPod\\n\\nLighting c...</td>\n",
       "      <td>https://canary.contestimg.wish.com/api/webimag...</td>\n",
       "      <td>Consumer Electronics &gt; Earphones &amp; Headphones ...</td>\n",
       "      <td>Consumer Electronics &gt; Earphones &amp; Headphones</td>\n",
       "      <td>True</td>\n",
       "      <td>NaN</td>\n",
       "      <td>...</td>\n",
       "      <td>Product Att_03.30.23_Batch3A_valid.csv|Product...</td>\n",
       "      <td>NaN</td>\n",
       "      <td>NaN</td>\n",
       "      <td>NaN</td>\n",
       "      <td>NaN</td>\n",
       "      <td>NaN</td>\n",
       "      <td>NaN</td>\n",
       "      <td>Apple AirPods with Wireless Charging Case ‎MRX...</td>\n",
       "      <td>Feature:\\nLatest and best AirPod\\n\\nLighting c...</td>\n",
       "      <td>https://canary.contestimg.wish.com/api/webimag...</td>\n",
       "    </tr>\n",
       "    <tr>\n",
       "      <th>111559</th>\n",
       "      <td>119970</td>\n",
       "      <td>text_and_img</td>\n",
       "      <td>60ea51ce0d9cc11e19e1be19</td>\n",
       "      <td>Blue Wolf Dream Catcher Chest Pack Unisex Slin...</td>\n",
       "      <td>1.HIGH QUALITY: This Stylish Sling Bag Is Made...</td>\n",
       "      <td>https://canary.contestimg.wish.com/api/webimag...</td>\n",
       "      <td>Luggage &amp; Bags &gt; Men's Bags &gt; Backpacks</td>\n",
       "      <td>Luggage &amp; Bags &gt; Men's Bags</td>\n",
       "      <td>True</td>\n",
       "      <td>NaN</td>\n",
       "      <td>...</td>\n",
       "      <td>Product Att_03.30.23_Batch3A_valid.csv|Product...</td>\n",
       "      <td>NaN</td>\n",
       "      <td>NaN</td>\n",
       "      <td>NaN</td>\n",
       "      <td>NaN</td>\n",
       "      <td>NaN</td>\n",
       "      <td>NaN</td>\n",
       "      <td>Blue Wolf Dream Catcher Chest Pack Unisex Slin...</td>\n",
       "      <td>1.HIGH QUALITY: This Stylish Sling Bag Is Made...</td>\n",
       "      <td>https://canary.contestimg.wish.com/api/webimag...</td>\n",
       "    </tr>\n",
       "    <tr>\n",
       "      <th>113512</th>\n",
       "      <td>123837</td>\n",
       "      <td>only_text</td>\n",
       "      <td>60fe204548a7aecbeb1c2231</td>\n",
       "      <td>7x Leather Craft Half-Round Strap Belt End Pun...</td>\n",
       "      <td>Condition: New: A brand-new, unused, unopened ...</td>\n",
       "      <td>NaN</td>\n",
       "      <td>Home &amp; Garden &gt; Arts, Crafts &amp; Sewing &gt; Leathe...</td>\n",
       "      <td>Home &amp; Garden &gt; Arts, Crafts &amp; Sewing</td>\n",
       "      <td>True</td>\n",
       "      <td>NaN</td>\n",
       "      <td>...</td>\n",
       "      <td>Product Att_03.30.23_Batch3A_valid.csv|Product...</td>\n",
       "      <td>NaN</td>\n",
       "      <td>NaN</td>\n",
       "      <td>NaN</td>\n",
       "      <td>NaN</td>\n",
       "      <td>NaN</td>\n",
       "      <td>NaN</td>\n",
       "      <td>​ 7x Leather Craft Half-Round Strap Belt End P...</td>\n",
       "      <td>Condition: New: A brand-new, unused, unopened ...</td>\n",
       "      <td>NaN</td>\n",
       "    </tr>\n",
       "    <tr>\n",
       "      <th>117489</th>\n",
       "      <td>130728</td>\n",
       "      <td>only_text</td>\n",
       "      <td>60e94199fa08d2604699c7a3</td>\n",
       "      <td>Hexagram Chest Pack Unisex Sling Backpack Casu...</td>\n",
       "      <td>1.HIGH QUALITY: This Stylish Sling Bag Is Made...</td>\n",
       "      <td>NaN</td>\n",
       "      <td>Luggage &amp; Bags &gt; Men's Bags &gt; Backpacks</td>\n",
       "      <td>Luggage &amp; Bags &gt; Men's Bags</td>\n",
       "      <td>NaN</td>\n",
       "      <td>NaN</td>\n",
       "      <td>...</td>\n",
       "      <td>Product Att_03.30.23_Batch3A_valid.csv|Product...</td>\n",
       "      <td>NaN</td>\n",
       "      <td>NaN</td>\n",
       "      <td>NaN</td>\n",
       "      <td>NaN</td>\n",
       "      <td>NaN</td>\n",
       "      <td>NaN</td>\n",
       "      <td>Hexagram Chest Pack Unisex Sling Backpack Casu...</td>\n",
       "      <td>1.HIGH QUALITY: This Stylish Sling Bag Is Made...</td>\n",
       "      <td>NaN</td>\n",
       "    </tr>\n",
       "    <tr>\n",
       "      <th>120288</th>\n",
       "      <td>135885</td>\n",
       "      <td>only_text</td>\n",
       "      <td>60fbe4f2bcc4b88c38565afd</td>\n",
       "      <td>Fear Nothing' Hip Hop Men's Fashion 925 Sterli...</td>\n",
       "      <td>Hello there! Welcome to my store, if you like ...</td>\n",
       "      <td>NaN</td>\n",
       "      <td>Jewelry &amp; Accessories &gt; Rings</td>\n",
       "      <td>Jewelry &amp; Accessories &gt; Rings</td>\n",
       "      <td>NaN</td>\n",
       "      <td>NaN</td>\n",
       "      <td>...</td>\n",
       "      <td>Product Att_03.30.23_Batch3A_valid.csv|Product...</td>\n",
       "      <td>NaN</td>\n",
       "      <td>NaN</td>\n",
       "      <td>NaN</td>\n",
       "      <td>NaN</td>\n",
       "      <td>NaN</td>\n",
       "      <td>NaN</td>\n",
       "      <td>'Fear Nothing' Hip Hop Men's Fashion 925 Sterl...</td>\n",
       "      <td>Hello there! Welcome to my store, if you like ...</td>\n",
       "      <td>NaN</td>\n",
       "    </tr>\n",
       "    <tr>\n",
       "      <th>123396</th>\n",
       "      <td>141286</td>\n",
       "      <td>text_and_img</td>\n",
       "      <td>607042d6a68cb218c3bcae06</td>\n",
       "      <td>Freedom or Death' Mens Punk Gothic Skull Ring</td>\n",
       "      <td>Welcome to Our Store!\\nOur Products are 100% B...</td>\n",
       "      <td>https://canary.contestimg.wish.com/api/webimag...</td>\n",
       "      <td>Jewelry &amp; Accessories &gt; Rings</td>\n",
       "      <td>Jewelry &amp; Accessories &gt; Rings</td>\n",
       "      <td>True</td>\n",
       "      <td>NaN</td>\n",
       "      <td>...</td>\n",
       "      <td>Product Att_03.30.23_Batch3A_valid.csv|Product...</td>\n",
       "      <td>NaN</td>\n",
       "      <td>NaN</td>\n",
       "      <td>NaN</td>\n",
       "      <td>NaN</td>\n",
       "      <td>NaN</td>\n",
       "      <td>NaN</td>\n",
       "      <td>'Freedom or Death' Mens Punk Gothic Skull Ring</td>\n",
       "      <td>Welcome to Our Store!\\nOur Products are 100% B...</td>\n",
       "      <td>https://canary.contestimg.wish.com/api/webimag...</td>\n",
       "    </tr>\n",
       "    <tr>\n",
       "      <th>124388</th>\n",
       "      <td>143016</td>\n",
       "      <td>text_and_img</td>\n",
       "      <td>611a75c952e8fa7c477130bf</td>\n",
       "      <td>Roses Are Red Doritos Are Savory The Us zfd Ph...</td>\n",
       "      <td>Phone Case for iPhone-5 5S SE-6 6S 7 8 Plus-X ...</td>\n",
       "      <td>https://canary.contestimg.wish.com/api/webimag...</td>\n",
       "      <td>Cellphones &amp; Telecommunications &gt; Phone Bags &amp;...</td>\n",
       "      <td>Cellphones &amp; Telecommunications &gt; Phone Bags &amp;...</td>\n",
       "      <td>True</td>\n",
       "      <td>NaN</td>\n",
       "      <td>...</td>\n",
       "      <td>Product Att_03.30.23_Batch3A_valid.csv|Product...</td>\n",
       "      <td>NaN</td>\n",
       "      <td>NaN</td>\n",
       "      <td>NaN</td>\n",
       "      <td>NaN</td>\n",
       "      <td>NaN</td>\n",
       "      <td>NaN</td>\n",
       "      <td>Roses Are Red Doritos Are Savory The Us zfd Ph...</td>\n",
       "      <td>Phone Case for iPhone-5 5S SE-6 6S 7 8 Plus-X ...</td>\n",
       "      <td>https://canary.contestimg.wish.com/api/webimag...</td>\n",
       "    </tr>\n",
       "    <tr>\n",
       "      <th>126035</th>\n",
       "      <td>145650</td>\n",
       "      <td>only_text</td>\n",
       "      <td>6118adac154b7afd9fc2709a</td>\n",
       "      <td>Thin Red Line Union Jack Uk Flag ysf Phone Cas...</td>\n",
       "      <td>Phone Case for iPhone-5 5S SE-6 6S 7 8 Plus-X ...</td>\n",
       "      <td>NaN</td>\n",
       "      <td>Cellphones &amp; Telecommunications &gt; Phone Bags &amp;...</td>\n",
       "      <td>Cellphones &amp; Telecommunications &gt; Phone Bags &amp;...</td>\n",
       "      <td>NaN</td>\n",
       "      <td>NaN</td>\n",
       "      <td>...</td>\n",
       "      <td>Product Att_03.30.23_Batch3A_valid.csv|Product...</td>\n",
       "      <td>NaN</td>\n",
       "      <td>NaN</td>\n",
       "      <td>NaN</td>\n",
       "      <td>NaN</td>\n",
       "      <td>NaN</td>\n",
       "      <td>NaN</td>\n",
       "      <td>Thin Red Line Union Jack Uk Flag ysf Phone Cas...</td>\n",
       "      <td>Phone Case for iPhone-5 5S SE-6 6S 7 8 Plus-X ...</td>\n",
       "      <td>NaN</td>\n",
       "    </tr>\n",
       "    <tr>\n",
       "      <th>128394</th>\n",
       "      <td>149334</td>\n",
       "      <td>only_text</td>\n",
       "      <td>60bb2ea6cba4c340e437b1d9</td>\n",
       "      <td>JUST SO SO' Breathable UNISEX Running Shoes | ...</td>\n",
       "      <td>***Rubber sole\\n↘ \"Just So So\" symbol cool and...</td>\n",
       "      <td>NaN</td>\n",
       "      <td>Sports &gt; Sneakers &gt; Running Shoes</td>\n",
       "      <td>Sports &gt; Sneakers</td>\n",
       "      <td>NaN</td>\n",
       "      <td>NaN</td>\n",
       "      <td>...</td>\n",
       "      <td>Product Att_03.30.23_Batch3A_valid.csv|Product...</td>\n",
       "      <td>NaN</td>\n",
       "      <td>NaN</td>\n",
       "      <td>NaN</td>\n",
       "      <td>NaN</td>\n",
       "      <td>NaN</td>\n",
       "      <td>NaN</td>\n",
       "      <td>'JUST SO SO' Breathable UNISEX Running Shoes |...</td>\n",
       "      <td>***Rubber sole\\n↘ \"Just So So\" symbol cool and...</td>\n",
       "      <td>NaN</td>\n",
       "    </tr>\n",
       "    <tr>\n",
       "      <th>132243</th>\n",
       "      <td>105302</td>\n",
       "      <td>only_text</td>\n",
       "      <td>60ea51c7f5cdd952b5f963cd</td>\n",
       "      <td>Cock Chest Pack Unisex Sling Backpack Casual T...</td>\n",
       "      <td>1.HIGH QUALITY: This Stylish Sling Bag Is Made...</td>\n",
       "      <td>NaN</td>\n",
       "      <td>Luggage &amp; Bags &gt; Men's Bags &gt; Waist Packs</td>\n",
       "      <td>Luggage &amp; Bags &gt; Men's Bags</td>\n",
       "      <td>True</td>\n",
       "      <td>NaN</td>\n",
       "      <td>...</td>\n",
       "      <td>Product Att_03.30.23_Batch3A_valid.csv|Product...</td>\n",
       "      <td>NaN</td>\n",
       "      <td>NaN</td>\n",
       "      <td>NaN</td>\n",
       "      <td>NaN</td>\n",
       "      <td>NaN</td>\n",
       "      <td>NaN</td>\n",
       "      <td>Cock Chest Pack Unisex Sling Backpack Casual T...</td>\n",
       "      <td>1.HIGH QUALITY: This Stylish Sling Bag Is Made...</td>\n",
       "      <td>NaN</td>\n",
       "    </tr>\n",
       "    <tr>\n",
       "      <th>174080</th>\n",
       "      <td>200798</td>\n",
       "      <td>text_and_img</td>\n",
       "      <td>6155e2bf9fc94560c75db541</td>\n",
       "      <td>#NAME?</td>\n",
       "      <td>100% Brand New And High Quality\\nMetal:Elephan...</td>\n",
       "      <td>https://canary.contestimg.wish.com/api/webimag...</td>\n",
       "      <td>Jewelry &amp; Accessories &gt; Rings</td>\n",
       "      <td>Jewelry &amp; Accessories &gt; Rings</td>\n",
       "      <td>NaN</td>\n",
       "      <td>NaN</td>\n",
       "      <td>...</td>\n",
       "      <td>Product Att_03.30.23_Batch3A_valid.csv|Product...</td>\n",
       "      <td>NaN</td>\n",
       "      <td>NaN</td>\n",
       "      <td>NaN</td>\n",
       "      <td>NaN</td>\n",
       "      <td>NaN</td>\n",
       "      <td>NaN</td>\n",
       "      <td>-Bold Filigree Thumb Wide Band, Statement Ring...</td>\n",
       "      <td>100% Brand New And High Quality\\nMetal:Elephan...</td>\n",
       "      <td>https://canary.contestimg.wish.com/api/webimag...</td>\n",
       "    </tr>\n",
       "    <tr>\n",
       "      <th>197258</th>\n",
       "      <td>224084</td>\n",
       "      <td>text_and_img</td>\n",
       "      <td>619cbbfb7eead9fb3c223527</td>\n",
       "      <td>#NAME?</td>\n",
       "      <td>Title\\nPortable Air Inflatable Travel Pillow C...</td>\n",
       "      <td>https://canary.contestimg.wish.com/api/webimag...</td>\n",
       "      <td>Sports &gt; Camping &amp; Hiking &gt; Camping Mats</td>\n",
       "      <td>Sports &gt; Camping &amp; Hiking</td>\n",
       "      <td>True</td>\n",
       "      <td>NaN</td>\n",
       "      <td>...</td>\n",
       "      <td>Product Att_03.30.23_Batch3A_valid.csv|Product...</td>\n",
       "      <td>NaN</td>\n",
       "      <td>NaN</td>\n",
       "      <td>NaN</td>\n",
       "      <td>NaN</td>\n",
       "      <td>NaN</td>\n",
       "      <td>NaN</td>\n",
       "      <td>- Inflating Pillows Ultralight Travel/Camping ...</td>\n",
       "      <td>Title\\nPortable Air Inflatable Travel Pillow C...</td>\n",
       "      <td>https://canary.contestimg.wish.com/api/webimag...</td>\n",
       "    </tr>\n",
       "    <tr>\n",
       "      <th>199614</th>\n",
       "      <td>226445</td>\n",
       "      <td>text_and_img</td>\n",
       "      <td>60cc8c80b5970a361bbf75f8</td>\n",
       "      <td>#NAME?</td>\n",
       "      <td>HIGH QUALITY SLIPER SOCKS -- women winter sock...</td>\n",
       "      <td>https://canary.contestimg.wish.com/api/webimag...</td>\n",
       "      <td>Sports &gt; Camping &amp; Hiking &gt; Hiking Clothing &gt; ...</td>\n",
       "      <td>Sports &gt; Camping &amp; Hiking</td>\n",
       "      <td>True</td>\n",
       "      <td>NaN</td>\n",
       "      <td>...</td>\n",
       "      <td>Product Att_03.30.23_Batch3A_valid.csv|Product...</td>\n",
       "      <td>NaN</td>\n",
       "      <td>NaN</td>\n",
       "      <td>NaN</td>\n",
       "      <td>NaN</td>\n",
       "      <td>NaN</td>\n",
       "      <td>NaN</td>\n",
       "      <td>- Christmas socks</td>\n",
       "      <td>HIGH QUALITY SLIPER SOCKS -- women winter sock...</td>\n",
       "      <td>https://canary.contestimg.wish.com/api/webimag...</td>\n",
       "    </tr>\n",
       "  </tbody>\n",
       "</table>\n",
       "<p>15 rows × 27 columns</p>\n",
       "</div>"
      ],
      "text/plain": [
       "        label_ordering sample_method                product_id  \\\n",
       "44357           162392  text_and_img  5cdd05b52e33a70fe773d613   \n",
       "110774          118572     only_text  60653b38ddc105a55285a859   \n",
       "111146          119230  text_and_img  610105dfe1fcdddd74dffd8d   \n",
       "111559          119970  text_and_img  60ea51ce0d9cc11e19e1be19   \n",
       "113512          123837     only_text  60fe204548a7aecbeb1c2231   \n",
       "117489          130728     only_text  60e94199fa08d2604699c7a3   \n",
       "120288          135885     only_text  60fbe4f2bcc4b88c38565afd   \n",
       "123396          141286  text_and_img  607042d6a68cb218c3bcae06   \n",
       "124388          143016  text_and_img  611a75c952e8fa7c477130bf   \n",
       "126035          145650     only_text  6118adac154b7afd9fc2709a   \n",
       "128394          149334     only_text  60bb2ea6cba4c340e437b1d9   \n",
       "132243          105302     only_text  60ea51c7f5cdd952b5f963cd   \n",
       "174080          200798  text_and_img  6155e2bf9fc94560c75db541   \n",
       "197258          224084  text_and_img  619cbbfb7eead9fb3c223527   \n",
       "199614          226445  text_and_img  60cc8c80b5970a361bbf75f8   \n",
       "\n",
       "                                                    title  \\\n",
       "44357   Lixada Breathable  Fishing Life Vest  209lb Bu...   \n",
       "110774  American Europe Women's Fashion Jewelry Antiqu...   \n",
       "111146  Apple AirPods with Wireless Charging Case MRXJ...   \n",
       "111559  Blue Wolf Dream Catcher Chest Pack Unisex Slin...   \n",
       "113512  7x Leather Craft Half-Round Strap Belt End Pun...   \n",
       "117489  Hexagram Chest Pack Unisex Sling Backpack Casu...   \n",
       "120288  Fear Nothing' Hip Hop Men's Fashion 925 Sterli...   \n",
       "123396      Freedom or Death' Mens Punk Gothic Skull Ring   \n",
       "124388  Roses Are Red Doritos Are Savory The Us zfd Ph...   \n",
       "126035  Thin Red Line Union Jack Uk Flag ysf Phone Cas...   \n",
       "128394  JUST SO SO' Breathable UNISEX Running Shoes | ...   \n",
       "132243  Cock Chest Pack Unisex Sling Backpack Casual T...   \n",
       "174080                                             #NAME?   \n",
       "197258                                             #NAME?   \n",
       "199614                                             #NAME?   \n",
       "\n",
       "                                      product_description  \\\n",
       "44357   This fishing Life jacket looks more like an ou...   \n",
       "110774  Stone: Moonstone\\nColor: silver\\nSize (US): 5 ...   \n",
       "111146  Feature:\\nLatest and best AirPod\\n\\nLighting c...   \n",
       "111559  1.HIGH QUALITY: This Stylish Sling Bag Is Made...   \n",
       "113512  Condition: New: A brand-new, unused, unopened ...   \n",
       "117489  1.HIGH QUALITY: This Stylish Sling Bag Is Made...   \n",
       "120288  Hello there! Welcome to my store, if you like ...   \n",
       "123396  Welcome to Our Store!\\nOur Products are 100% B...   \n",
       "124388  Phone Case for iPhone-5 5S SE-6 6S 7 8 Plus-X ...   \n",
       "126035  Phone Case for iPhone-5 5S SE-6 6S 7 8 Plus-X ...   \n",
       "128394  ***Rubber sole\\n↘ \"Just So So\" symbol cool and...   \n",
       "132243  1.HIGH QUALITY: This Stylish Sling Bag Is Made...   \n",
       "174080  100% Brand New And High Quality\\nMetal:Elephan...   \n",
       "197258  Title\\nPortable Air Inflatable Travel Pillow C...   \n",
       "199614  HIGH QUALITY SLIPER SOCKS -- women winter sock...   \n",
       "\n",
       "                                           main_image_url  \\\n",
       "44357   https://canary.contestimg.wish.com/api/webimag...   \n",
       "110774                                                NaN   \n",
       "111146  https://canary.contestimg.wish.com/api/webimag...   \n",
       "111559  https://canary.contestimg.wish.com/api/webimag...   \n",
       "113512                                                NaN   \n",
       "117489                                                NaN   \n",
       "120288                                                NaN   \n",
       "123396  https://canary.contestimg.wish.com/api/webimag...   \n",
       "124388  https://canary.contestimg.wish.com/api/webimag...   \n",
       "126035                                                NaN   \n",
       "128394                                                NaN   \n",
       "132243                                                NaN   \n",
       "174080  https://canary.contestimg.wish.com/api/webimag...   \n",
       "197258  https://canary.contestimg.wish.com/api/webimag...   \n",
       "199614  https://canary.contestimg.wish.com/api/webimag...   \n",
       "\n",
       "                                         product_category  \\\n",
       "44357   Sports > Fishing > Fishing Apparel > Fishing V...   \n",
       "110774                      Jewelry & Accessories > Rings   \n",
       "111146  Consumer Electronics > Earphones & Headphones ...   \n",
       "111559            Luggage & Bags > Men's Bags > Backpacks   \n",
       "113512  Home & Garden > Arts, Crafts & Sewing > Leathe...   \n",
       "117489            Luggage & Bags > Men's Bags > Backpacks   \n",
       "120288                      Jewelry & Accessories > Rings   \n",
       "123396                      Jewelry & Accessories > Rings   \n",
       "124388  Cellphones & Telecommunications > Phone Bags &...   \n",
       "126035  Cellphones & Telecommunications > Phone Bags &...   \n",
       "128394                  Sports > Sneakers > Running Shoes   \n",
       "132243          Luggage & Bags > Men's Bags > Waist Packs   \n",
       "174080                      Jewelry & Accessories > Rings   \n",
       "197258           Sports > Camping & Hiking > Camping Mats   \n",
       "199614  Sports > Camping & Hiking > Hiking Clothing > ...   \n",
       "\n",
       "                                              l2_category  \\\n",
       "44357                                   Sports > Fishing    \n",
       "110774                      Jewelry & Accessories > Rings   \n",
       "111146     Consumer Electronics > Earphones & Headphones    \n",
       "111559                       Luggage & Bags > Men's Bags    \n",
       "113512             Home & Garden > Arts, Crafts & Sewing    \n",
       "117489                       Luggage & Bags > Men's Bags    \n",
       "120288                      Jewelry & Accessories > Rings   \n",
       "123396                      Jewelry & Accessories > Rings   \n",
       "124388  Cellphones & Telecommunications > Phone Bags &...   \n",
       "126035  Cellphones & Telecommunications > Phone Bags &...   \n",
       "128394                                 Sports > Sneakers    \n",
       "132243                       Luggage & Bags > Men's Bags    \n",
       "174080                      Jewelry & Accessories > Rings   \n",
       "197258                         Sports > Camping & Hiking    \n",
       "199614                         Sports > Camping & Hiking    \n",
       "\n",
       "       rater1_no_attributes rater1_unlisted_value  ...  \\\n",
       "44357                   NaN                   NaN  ...   \n",
       "110774                  NaN                   NaN  ...   \n",
       "111146                 True                   NaN  ...   \n",
       "111559                 True                   NaN  ...   \n",
       "113512                 True                   NaN  ...   \n",
       "117489                  NaN                   NaN  ...   \n",
       "120288                  NaN                   NaN  ...   \n",
       "123396                 True                   NaN  ...   \n",
       "124388                 True                   NaN  ...   \n",
       "126035                  NaN                   NaN  ...   \n",
       "128394                  NaN                   NaN  ...   \n",
       "132243                 True                   NaN  ...   \n",
       "174080                  NaN                   NaN  ...   \n",
       "197258                 True                   NaN  ...   \n",
       "199614                 True                   NaN  ...   \n",
       "\n",
       "                                                file_name  \\\n",
       "44357     product_attribution_till_032423_valid_units.csv   \n",
       "110774  Product Att_03.30.23_Batch3A_valid.csv|Product...   \n",
       "111146  Product Att_03.30.23_Batch3A_valid.csv|Product...   \n",
       "111559  Product Att_03.30.23_Batch3A_valid.csv|Product...   \n",
       "113512  Product Att_03.30.23_Batch3A_valid.csv|Product...   \n",
       "117489  Product Att_03.30.23_Batch3A_valid.csv|Product...   \n",
       "120288  Product Att_03.30.23_Batch3A_valid.csv|Product...   \n",
       "123396  Product Att_03.30.23_Batch3A_valid.csv|Product...   \n",
       "124388  Product Att_03.30.23_Batch3A_valid.csv|Product...   \n",
       "126035  Product Att_03.30.23_Batch3A_valid.csv|Product...   \n",
       "128394  Product Att_03.30.23_Batch3A_valid.csv|Product...   \n",
       "132243  Product Att_03.30.23_Batch3A_valid.csv|Product...   \n",
       "174080  Product Att_03.30.23_Batch3A_valid.csv|Product...   \n",
       "197258  Product Att_03.30.23_Batch3A_valid.csv|Product...   \n",
       "199614  Product Att_03.30.23_Batch3A_valid.csv|Product...   \n",
       "\n",
       "                                           title_original  \\\n",
       "44357   ​Lixada Breathable  Fishing Life Vest  209lb B...   \n",
       "110774                                                NaN   \n",
       "111146                                                NaN   \n",
       "111559                                                NaN   \n",
       "113512                                                NaN   \n",
       "117489                                                NaN   \n",
       "120288                                                NaN   \n",
       "123396                                                NaN   \n",
       "124388                                                NaN   \n",
       "126035                                                NaN   \n",
       "128394                                                NaN   \n",
       "132243                                                NaN   \n",
       "174080                                                NaN   \n",
       "197258                                                NaN   \n",
       "199614                                                NaN   \n",
       "\n",
       "                                             final_output  \\\n",
       "44357   Sports > Fishing > Fishing Apparel > Fishing V...   \n",
       "110774                                                NaN   \n",
       "111146                                                NaN   \n",
       "111559                                                NaN   \n",
       "113512                                                NaN   \n",
       "117489                                                NaN   \n",
       "120288                                                NaN   \n",
       "123396                                                NaN   \n",
       "124388                                                NaN   \n",
       "126035                                                NaN   \n",
       "128394                                                NaN   \n",
       "132243                                                NaN   \n",
       "174080                                                NaN   \n",
       "197258                                                NaN   \n",
       "199614                                                NaN   \n",
       "\n",
       "       product_description_original category_path explanation  \\\n",
       "44357                           NaN           NaN         NaN   \n",
       "110774                          NaN           NaN         NaN   \n",
       "111146                          NaN           NaN         NaN   \n",
       "111559                          NaN           NaN         NaN   \n",
       "113512                          NaN           NaN         NaN   \n",
       "117489                          NaN           NaN         NaN   \n",
       "120288                          NaN           NaN         NaN   \n",
       "123396                          NaN           NaN         NaN   \n",
       "124388                          NaN           NaN         NaN   \n",
       "126035                          NaN           NaN         NaN   \n",
       "128394                          NaN           NaN         NaN   \n",
       "132243                          NaN           NaN         NaN   \n",
       "174080                          NaN           NaN         NaN   \n",
       "197258                          NaN           NaN         NaN   \n",
       "199614                          NaN           NaN         NaN   \n",
       "\n",
       "       final_output_corrected  \\\n",
       "44357                     NaN   \n",
       "110774                    NaN   \n",
       "111146                    NaN   \n",
       "111559                    NaN   \n",
       "113512                    NaN   \n",
       "117489                    NaN   \n",
       "120288                    NaN   \n",
       "123396                    NaN   \n",
       "124388                    NaN   \n",
       "126035                    NaN   \n",
       "128394                    NaN   \n",
       "132243                    NaN   \n",
       "174080                    NaN   \n",
       "197258                    NaN   \n",
       "199614                    NaN   \n",
       "\n",
       "                                          title_original2  \\\n",
       "44357   ​Lixada Breathable  Fishing Life Vest  209lb B...   \n",
       "110774  ​​American Europe Women's Fashion Jewelry Anti...   \n",
       "111146  Apple AirPods with Wireless Charging Case ‎MRX...   \n",
       "111559  Blue Wolf Dream Catcher Chest Pack Unisex Slin...   \n",
       "113512  ​ 7x Leather Craft Half-Round Strap Belt End P...   \n",
       "117489  Hexagram Chest Pack Unisex Sling Backpack Casu...   \n",
       "120288  'Fear Nothing' Hip Hop Men's Fashion 925 Sterl...   \n",
       "123396     'Freedom or Death' Mens Punk Gothic Skull Ring   \n",
       "124388  Roses Are Red Doritos Are Savory The Us zfd Ph...   \n",
       "126035  Thin Red Line Union Jack Uk Flag ysf Phone Cas...   \n",
       "128394  'JUST SO SO' Breathable UNISEX Running Shoes |...   \n",
       "132243  Cock Chest Pack Unisex Sling Backpack Casual T...   \n",
       "174080  -Bold Filigree Thumb Wide Band, Statement Ring...   \n",
       "197258  - Inflating Pillows Ultralight Travel/Camping ...   \n",
       "199614                                  - Christmas socks   \n",
       "\n",
       "                            product_description_original2  \\\n",
       "44357   This fishing Life jacket looks more like an ou...   \n",
       "110774  Stone: Moonstone\\nColor: silver\\nSize (US): 5 ...   \n",
       "111146  Feature:\\nLatest and best AirPod\\n\\nLighting c...   \n",
       "111559  1.HIGH QUALITY: This Stylish Sling Bag Is Made...   \n",
       "113512  Condition: New: A brand-new, unused, unopened ...   \n",
       "117489  1.HIGH QUALITY: This Stylish Sling Bag Is Made...   \n",
       "120288  Hello there! Welcome to my store, if you like ...   \n",
       "123396  Welcome to Our Store!\\nOur Products are 100% B...   \n",
       "124388  Phone Case for iPhone-5 5S SE-6 6S 7 8 Plus-X ...   \n",
       "126035  Phone Case for iPhone-5 5S SE-6 6S 7 8 Plus-X ...   \n",
       "128394  ***Rubber sole\\n↘ \"Just So So\" symbol cool and...   \n",
       "132243  1.HIGH QUALITY: This Stylish Sling Bag Is Made...   \n",
       "174080  100% Brand New And High Quality\\nMetal:Elephan...   \n",
       "197258  Title\\nPortable Air Inflatable Travel Pillow C...   \n",
       "199614  HIGH QUALITY SLIPER SOCKS -- women winter sock...   \n",
       "\n",
       "                                 main_image_url_original2  \n",
       "44357   https://canary.contestimg.wish.com/api/webimag...  \n",
       "110774                                                NaN  \n",
       "111146  https://canary.contestimg.wish.com/api/webimag...  \n",
       "111559  https://canary.contestimg.wish.com/api/webimag...  \n",
       "113512                                                NaN  \n",
       "117489                                                NaN  \n",
       "120288                                                NaN  \n",
       "123396  https://canary.contestimg.wish.com/api/webimag...  \n",
       "124388  https://canary.contestimg.wish.com/api/webimag...  \n",
       "126035                                                NaN  \n",
       "128394                                                NaN  \n",
       "132243                                                NaN  \n",
       "174080  https://canary.contestimg.wish.com/api/webimag...  \n",
       "197258  https://canary.contestimg.wish.com/api/webimag...  \n",
       "199614  https://canary.contestimg.wish.com/api/webimag...  \n",
       "\n",
       "[15 rows x 27 columns]"
      ]
     },
     "execution_count": 31,
     "metadata": {},
     "output_type": "execute_result"
    }
   ],
   "source": [
    "df_uniq_merge[df_uniq_merge.title.apply(lambda x: str(x).strip()) != df_uniq_merge.title_original2.apply(lambda x: str(x).strip())]"
   ]
  },
  {
   "cell_type": "code",
   "execution_count": 32,
   "metadata": {},
   "outputs": [
    {
     "data": {
      "text/html": [
       "<div>\n",
       "<style scoped>\n",
       "    .dataframe tbody tr th:only-of-type {\n",
       "        vertical-align: middle;\n",
       "    }\n",
       "\n",
       "    .dataframe tbody tr th {\n",
       "        vertical-align: top;\n",
       "    }\n",
       "\n",
       "    .dataframe thead th {\n",
       "        text-align: right;\n",
       "    }\n",
       "</style>\n",
       "<table border=\"1\" class=\"dataframe\">\n",
       "  <thead>\n",
       "    <tr style=\"text-align: right;\">\n",
       "      <th></th>\n",
       "      <th>label_ordering</th>\n",
       "      <th>sample_method</th>\n",
       "      <th>product_id</th>\n",
       "      <th>title</th>\n",
       "      <th>product_description</th>\n",
       "      <th>main_image_url</th>\n",
       "      <th>product_category</th>\n",
       "      <th>l2_category</th>\n",
       "      <th>rater1_no_attributes</th>\n",
       "      <th>rater1_unlisted_value</th>\n",
       "      <th>...</th>\n",
       "      <th>file_name</th>\n",
       "      <th>title_original</th>\n",
       "      <th>final_output</th>\n",
       "      <th>product_description_original</th>\n",
       "      <th>category_path</th>\n",
       "      <th>explanation</th>\n",
       "      <th>final_output_corrected</th>\n",
       "      <th>title_original2</th>\n",
       "      <th>product_description_original2</th>\n",
       "      <th>main_image_url_original2</th>\n",
       "    </tr>\n",
       "  </thead>\n",
       "  <tbody>\n",
       "    <tr>\n",
       "      <th>18485</th>\n",
       "      <td>21825</td>\n",
       "      <td>text_and_img</td>\n",
       "      <td>60a3c6ebdf61554e88b12b99</td>\n",
       "      <td>Hot 1pcs Fishing Lures 6.5cm/12g Topwater Popp...</td>\n",
       "      <td>3D eyes make it perfect tool for fishing lover...</td>\n",
       "      <td>https://canary.contestimg.wish.com/api/webimag...</td>\n",
       "      <td>Sports &gt; Fishing &gt; Fishing Lures</td>\n",
       "      <td>Sports &gt; Fishing</td>\n",
       "      <td>NaN</td>\n",
       "      <td>NaN</td>\n",
       "      <td>...</td>\n",
       "      <td>product_attribution_till_032423_valid_units.csv</td>\n",
       "      <td>Hot 1pcs Fishing Lures 6.5cm/12g Topwater Popp...</td>\n",
       "      <td>Sports &gt; Fishing &gt; Fishing Lures &gt; Primary Col...</td>\n",
       "      <td>NaN</td>\n",
       "      <td>NaN</td>\n",
       "      <td>NaN</td>\n",
       "      <td>NaN</td>\n",
       "      <td>Hot 1pcs Fishing Lures 6.5cm/12g Topwater Popp...</td>\n",
       "      <td>​3D eyes make it perfect tool for fishing love...</td>\n",
       "      <td>https://canary.contestimg.wish.com/api/webimag...</td>\n",
       "    </tr>\n",
       "    <tr>\n",
       "      <th>20468</th>\n",
       "      <td>24788</td>\n",
       "      <td>text_and_img</td>\n",
       "      <td>6166bc02a4a357b4c4838251</td>\n",
       "      <td>A Little Pumpkin Is On The Way Baby Shower: Cu...</td>\n",
       "      <td>A Little Pumpkin Is On The Way Baby Shower: Cu...</td>\n",
       "      <td>https://canary.contestimg.wish.com/api/webimag...</td>\n",
       "      <td>Home &amp; Garden &gt; Festive &amp; Party Supplies &gt; Eve...</td>\n",
       "      <td>Home &amp; Garden &gt; Festive &amp; Party Supplies</td>\n",
       "      <td>NaN</td>\n",
       "      <td>NaN</td>\n",
       "      <td>...</td>\n",
       "      <td>product_attribution_till_032423_valid_units.csv</td>\n",
       "      <td>A Little Pumpkin Is On The Way Baby Shower: Cu...</td>\n",
       "      <td>Home &amp; Garden &gt; Festive &amp; Party Supplies &gt; Eve...</td>\n",
       "      <td>NaN</td>\n",
       "      <td>NaN</td>\n",
       "      <td>NaN</td>\n",
       "      <td>NaN</td>\n",
       "      <td>A Little Pumpkin Is On The Way Baby Shower: Cu...</td>\n",
       "      <td>\\nA Little Pumpkin Is On The Way Baby Shower: ...</td>\n",
       "      <td>https://canary.contestimg.wish.com/api/webimag...</td>\n",
       "    </tr>\n",
       "    <tr>\n",
       "      <th>20862</th>\n",
       "      <td>25370</td>\n",
       "      <td>only_text</td>\n",
       "      <td>6103789f2746540088c592d5</td>\n",
       "      <td>Dream Color LED Corner Floor Lamp,Bluetooth AP...</td>\n",
       "      <td>【Immersive Ambient Lighting】Dream Color color-...</td>\n",
       "      <td>NaN</td>\n",
       "      <td>Home Improvement &gt; Lights &amp; Lighting &gt; Lamps &amp;...</td>\n",
       "      <td>Home Improvement &gt; Lights &amp; Lighting</td>\n",
       "      <td>NaN</td>\n",
       "      <td>NaN</td>\n",
       "      <td>...</td>\n",
       "      <td>product_attribution_till_032423_valid_units.csv</td>\n",
       "      <td>Dream Color LED Corner Floor Lamp,Bluetooth AP...</td>\n",
       "      <td>Home Improvement &gt; Lights &amp; Lighting &gt; Lamps &amp;...</td>\n",
       "      <td>NaN</td>\n",
       "      <td>NaN</td>\n",
       "      <td>NaN</td>\n",
       "      <td>NaN</td>\n",
       "      <td>Dream Color LED Corner Floor Lamp,Bluetooth AP...</td>\n",
       "      <td>【Immersive Ambient Lighting】Dream Color color-...</td>\n",
       "      <td>NaN</td>\n",
       "    </tr>\n",
       "    <tr>\n",
       "      <th>20888</th>\n",
       "      <td>25412</td>\n",
       "      <td>text_and_img</td>\n",
       "      <td>61ac17c6bd3328999ac83f50</td>\n",
       "      <td>Alantyer Austrian Crystal Teardrop Women Neckl...</td>\n",
       "      <td>Brand: Alantyer \\n MPN: alantyer \\n \\nAlantyer...</td>\n",
       "      <td>https://canary.contestimg.wish.com/api/webimag...</td>\n",
       "      <td>Jewelry &amp; Accessories &gt; Fine Jewelry &gt; Necklaces</td>\n",
       "      <td>Jewelry &amp; Accessories &gt; Fine Jewelry</td>\n",
       "      <td>True</td>\n",
       "      <td>NaN</td>\n",
       "      <td>...</td>\n",
       "      <td>product_attribution_till_032423_valid_units.csv</td>\n",
       "      <td>Alantyer Austrian Crystal Teardrop Women Neckl...</td>\n",
       "      <td>\\nJewelry &amp; Accessories &gt; Fine Jewelry &gt; Neckl...</td>\n",
       "      <td>NaN</td>\n",
       "      <td>NaN</td>\n",
       "      <td>NaN</td>\n",
       "      <td>NaN</td>\n",
       "      <td>Alantyer Austrian Crystal Teardrop Women Neckl...</td>\n",
       "      <td>Brand: Alantyer \\n MPN: alantyer \\n \\nAlantyer...</td>\n",
       "      <td>https://canary.contestimg.wish.com/api/webimag...</td>\n",
       "    </tr>\n",
       "    <tr>\n",
       "      <th>22049</th>\n",
       "      <td>27152</td>\n",
       "      <td>only_text</td>\n",
       "      <td>612fe0b0372f994504721c5d</td>\n",
       "      <td>American Flag String Lights,6.5ft×3.3ft Waterp...</td>\n",
       "      <td>American Flag String Lights,6.5ft×3.3ft Waterp...</td>\n",
       "      <td>NaN</td>\n",
       "      <td>Home &amp; Garden &gt; Garden Supplies &gt; Yard &amp; Garde...</td>\n",
       "      <td>Home &amp; Garden &gt; Garden Supplies</td>\n",
       "      <td>NaN</td>\n",
       "      <td>NaN</td>\n",
       "      <td>...</td>\n",
       "      <td>product_attribution_till_032423_valid_units.csv</td>\n",
       "      <td>American Flag String Lights,6.5ft×3.3ft Waterp...</td>\n",
       "      <td>Home &amp; Garden &gt; Garden Supplies &gt; Yard &amp; Garde...</td>\n",
       "      <td>NaN</td>\n",
       "      <td>NaN</td>\n",
       "      <td>NaN</td>\n",
       "      <td>NaN</td>\n",
       "      <td>American Flag String Lights,6.5ft×3.3ft Waterp...</td>\n",
       "      <td>\\nAmerican Flag String Lights,6.5ft×3.3ft Wat...</td>\n",
       "      <td>NaN</td>\n",
       "    </tr>\n",
       "    <tr>\n",
       "      <th>...</th>\n",
       "      <td>...</td>\n",
       "      <td>...</td>\n",
       "      <td>...</td>\n",
       "      <td>...</td>\n",
       "      <td>...</td>\n",
       "      <td>...</td>\n",
       "      <td>...</td>\n",
       "      <td>...</td>\n",
       "      <td>...</td>\n",
       "      <td>...</td>\n",
       "      <td>...</td>\n",
       "      <td>...</td>\n",
       "      <td>...</td>\n",
       "      <td>...</td>\n",
       "      <td>...</td>\n",
       "      <td>...</td>\n",
       "      <td>...</td>\n",
       "      <td>...</td>\n",
       "      <td>...</td>\n",
       "      <td>...</td>\n",
       "      <td>...</td>\n",
       "    </tr>\n",
       "    <tr>\n",
       "      <th>224044</th>\n",
       "      <td>250982</td>\n",
       "      <td>text_and_img</td>\n",
       "      <td>600bdb6a71ed47f3a9cecefa</td>\n",
       "      <td>Michael Jordan Last Shot For iPhone Case 12 11...</td>\n",
       "      <td>#NAME?</td>\n",
       "      <td>https://canary.contestimg.wish.com/api/webimag...</td>\n",
       "      <td>Cellphones &amp; Telecommunications &gt; Phone Bags &amp;...</td>\n",
       "      <td>Cellphones &amp; Telecommunications &gt; Phone Bags &amp;...</td>\n",
       "      <td>True</td>\n",
       "      <td>NaN</td>\n",
       "      <td>...</td>\n",
       "      <td>Product Att_03.30.23_Batch3A_valid.csv|Product...</td>\n",
       "      <td>NaN</td>\n",
       "      <td>NaN</td>\n",
       "      <td>NaN</td>\n",
       "      <td>NaN</td>\n",
       "      <td>NaN</td>\n",
       "      <td>NaN</td>\n",
       "      <td>Michael Jordan Last Shot For iPhone Case 12 11...</td>\n",
       "      <td>- Material: Made from high-quality plate and r...</td>\n",
       "      <td>https://canary.contestimg.wish.com/api/webimag...</td>\n",
       "    </tr>\n",
       "    <tr>\n",
       "      <th>231805</th>\n",
       "      <td>31397</td>\n",
       "      <td>text_and_img</td>\n",
       "      <td>61a35051109014bc639e96b6</td>\n",
       "      <td>3D Flower Silicone Mold Sugar Paste DIY Fondan...</td>\n",
       "      <td>#NAME?</td>\n",
       "      <td>https://canary.contestimg.wish.com/api/webimag...</td>\n",
       "      <td>NaN</td>\n",
       "      <td>NaN</td>\n",
       "      <td>TRUE</td>\n",
       "      <td>0</td>\n",
       "      <td>...</td>\n",
       "      <td>product_attribution_missed_032423_just_032723_...</td>\n",
       "      <td>3D Flower Silicone Mold Sugar Paste DIY Fondan...</td>\n",
       "      <td>0\\n0\\n0</td>\n",
       "      <td>- Brand Name: None\\n- Origin: CN(Origin)\\n- Mo...</td>\n",
       "      <td>Home &amp; Garden &gt; Kitchen,Dining &amp; Bar &gt; Bakewar...</td>\n",
       "      <td>0 has no attribute name</td>\n",
       "      <td>NaN</td>\n",
       "      <td>3D Flower Silicone Mold Sugar Paste DIY Fondan...</td>\n",
       "      <td>- Brand Name: None\\n- Origin: CN(Origin)\\n- Mo...</td>\n",
       "      <td>https://canary.contestimg.wish.com/api/webimag...</td>\n",
       "    </tr>\n",
       "    <tr>\n",
       "      <th>238556</th>\n",
       "      <td>12731</td>\n",
       "      <td>only_text</td>\n",
       "      <td>617acc66258133f181049a30</td>\n",
       "      <td>ZUCKEO 10W Low Voltage Landscape Lights LED La...</td>\n",
       "      <td>body {\\n  font-family: \"Source Sans Pro\", sans...</td>\n",
       "      <td>NaN</td>\n",
       "      <td>Home Improvement &gt; Lights &amp; Lighting &gt; Outdoor...</td>\n",
       "      <td>Home Improvement &gt; Lights &amp; Lighting</td>\n",
       "      <td>True</td>\n",
       "      <td>NaN</td>\n",
       "      <td>...</td>\n",
       "      <td>product_attribution_till_032423_invalid_units_...</td>\n",
       "      <td>ZUCKEO 10W Low Voltage Landscape Lights LED La...</td>\n",
       "      <td>\\nHome Improvement &gt; Lights &amp; Lighting &gt; Outdo...</td>\n",
       "      <td>NaN</td>\n",
       "      <td>NaN</td>\n",
       "      <td>Home Improvement &gt; Lights &amp; Lighting &gt; Outdoor...</td>\n",
       "      <td>Home Improvement &gt; Lights &amp; Lighting &gt; Outdoor...</td>\n",
       "      <td>ZUCKEO 10W Low Voltage Landscape Lights LED La...</td>\n",
       "      <td>body {\\n  font-family: \"Source Sans Pro\", sans...</td>\n",
       "      <td>NaN</td>\n",
       "    </tr>\n",
       "    <tr>\n",
       "      <th>240231</th>\n",
       "      <td>175412</td>\n",
       "      <td>text_and_img</td>\n",
       "      <td>62cfc691a029a596a5a292dd</td>\n",
       "      <td>Modern RGB Corner Floor Lamp LED Color Changin...</td>\n",
       "      <td>Features:\\n【Dimmable Floor Lights】RGB Corner F...</td>\n",
       "      <td>https://canary.contestimg.wish.com/api/webimag...</td>\n",
       "      <td>Home Improvement &gt; Lights &amp; Lighting &gt; Lamps &amp;...</td>\n",
       "      <td>Home Improvement &gt; Lights &amp; Lighting</td>\n",
       "      <td>NaN</td>\n",
       "      <td>NaN</td>\n",
       "      <td>...</td>\n",
       "      <td>product_attribution_till_032423_invalid_units_...</td>\n",
       "      <td>Modern RGB Corner Floor Lamp LED Color Changin...</td>\n",
       "      <td>Home Improvement &gt; Lights &amp; Lighting &gt; Lamps &amp;...</td>\n",
       "      <td>NaN</td>\n",
       "      <td>NaN</td>\n",
       "      <td>Home Improvement &gt; Lights &amp; Lighting &gt; Lamps &amp;...</td>\n",
       "      <td>Home Improvement &gt; Lights &amp; Lighting &gt; Lamps &amp;...</td>\n",
       "      <td>Modern RGB Corner Floor Lamp LED Color Changin...</td>\n",
       "      <td>\\nFeatures:\\n【Dimmable Floor Lights】RGB Corner...</td>\n",
       "      <td>https://canary.contestimg.wish.com/api/webimag...</td>\n",
       "    </tr>\n",
       "    <tr>\n",
       "      <th>240540</th>\n",
       "      <td>42251</td>\n",
       "      <td>text_and_img</td>\n",
       "      <td>618078fd270424b4aa7b9daf</td>\n",
       "      <td>Wack O Wax Halloween Candy (5 Pack) Vampire Te...</td>\n",
       "      <td>body {\\n  font-family: \"Source Sans Pro\", sans...</td>\n",
       "      <td>https://canary.contestimg.wish.com/api/webimag...</td>\n",
       "      <td>Home &amp; Garden &gt; Festive &amp; Party Supplies &gt; Eve...</td>\n",
       "      <td>Home &amp; Garden &gt; Festive &amp; Party Supplies</td>\n",
       "      <td>NaN</td>\n",
       "      <td>True</td>\n",
       "      <td>...</td>\n",
       "      <td>product_attribution_till_032423_invalid_units_...</td>\n",
       "      <td>Wack O Wax Halloween Candy (5 Pack) Vampire Te...</td>\n",
       "      <td>Home &amp; Garden &gt; Festive &amp; Party Supplies &gt; Eve...</td>\n",
       "      <td>NaN</td>\n",
       "      <td>NaN</td>\n",
       "      <td>Home &amp; Garden &gt; Festive &amp; Party Supplies &gt; Eve...</td>\n",
       "      <td>Home &amp; Garden &gt; Festive &amp; Party Supplies &gt; Eve...</td>\n",
       "      <td>Wack O Wax Halloween Candy (5 Pack) Vampire Te...</td>\n",
       "      <td>body {\\n  font-family: \"Source Sans Pro\", sans...</td>\n",
       "      <td>https://canary.contestimg.wish.com/api/webimag...</td>\n",
       "    </tr>\n",
       "  </tbody>\n",
       "</table>\n",
       "<p>9117 rows × 27 columns</p>\n",
       "</div>"
      ],
      "text/plain": [
       "        label_ordering sample_method                product_id  \\\n",
       "18485            21825  text_and_img  60a3c6ebdf61554e88b12b99   \n",
       "20468            24788  text_and_img  6166bc02a4a357b4c4838251   \n",
       "20862            25370     only_text  6103789f2746540088c592d5   \n",
       "20888            25412  text_and_img  61ac17c6bd3328999ac83f50   \n",
       "22049            27152     only_text  612fe0b0372f994504721c5d   \n",
       "...                ...           ...                       ...   \n",
       "224044          250982  text_and_img  600bdb6a71ed47f3a9cecefa   \n",
       "231805           31397  text_and_img  61a35051109014bc639e96b6   \n",
       "238556           12731     only_text  617acc66258133f181049a30   \n",
       "240231          175412  text_and_img  62cfc691a029a596a5a292dd   \n",
       "240540           42251  text_and_img  618078fd270424b4aa7b9daf   \n",
       "\n",
       "                                                    title  \\\n",
       "18485   Hot 1pcs Fishing Lures 6.5cm/12g Topwater Popp...   \n",
       "20468   A Little Pumpkin Is On The Way Baby Shower: Cu...   \n",
       "20862   Dream Color LED Corner Floor Lamp,Bluetooth AP...   \n",
       "20888   Alantyer Austrian Crystal Teardrop Women Neckl...   \n",
       "22049   American Flag String Lights,6.5ft×3.3ft Waterp...   \n",
       "...                                                   ...   \n",
       "224044  Michael Jordan Last Shot For iPhone Case 12 11...   \n",
       "231805  3D Flower Silicone Mold Sugar Paste DIY Fondan...   \n",
       "238556  ZUCKEO 10W Low Voltage Landscape Lights LED La...   \n",
       "240231  Modern RGB Corner Floor Lamp LED Color Changin...   \n",
       "240540  Wack O Wax Halloween Candy (5 Pack) Vampire Te...   \n",
       "\n",
       "                                      product_description  \\\n",
       "18485   3D eyes make it perfect tool for fishing lover...   \n",
       "20468   A Little Pumpkin Is On The Way Baby Shower: Cu...   \n",
       "20862   【Immersive Ambient Lighting】Dream Color color-...   \n",
       "20888   Brand: Alantyer \\n MPN: alantyer \\n \\nAlantyer...   \n",
       "22049   American Flag String Lights,6.5ft×3.3ft Waterp...   \n",
       "...                                                   ...   \n",
       "224044                                             #NAME?   \n",
       "231805                                             #NAME?   \n",
       "238556  body {\\n  font-family: \"Source Sans Pro\", sans...   \n",
       "240231  Features:\\n【Dimmable Floor Lights】RGB Corner F...   \n",
       "240540  body {\\n  font-family: \"Source Sans Pro\", sans...   \n",
       "\n",
       "                                           main_image_url  \\\n",
       "18485   https://canary.contestimg.wish.com/api/webimag...   \n",
       "20468   https://canary.contestimg.wish.com/api/webimag...   \n",
       "20862                                                 NaN   \n",
       "20888   https://canary.contestimg.wish.com/api/webimag...   \n",
       "22049                                                 NaN   \n",
       "...                                                   ...   \n",
       "224044  https://canary.contestimg.wish.com/api/webimag...   \n",
       "231805  https://canary.contestimg.wish.com/api/webimag...   \n",
       "238556                                                NaN   \n",
       "240231  https://canary.contestimg.wish.com/api/webimag...   \n",
       "240540  https://canary.contestimg.wish.com/api/webimag...   \n",
       "\n",
       "                                         product_category  \\\n",
       "18485                    Sports > Fishing > Fishing Lures   \n",
       "20468   Home & Garden > Festive & Party Supplies > Eve...   \n",
       "20862   Home Improvement > Lights & Lighting > Lamps &...   \n",
       "20888    Jewelry & Accessories > Fine Jewelry > Necklaces   \n",
       "22049   Home & Garden > Garden Supplies > Yard & Garde...   \n",
       "...                                                   ...   \n",
       "224044  Cellphones & Telecommunications > Phone Bags &...   \n",
       "231805                                                NaN   \n",
       "238556  Home Improvement > Lights & Lighting > Outdoor...   \n",
       "240231  Home Improvement > Lights & Lighting > Lamps &...   \n",
       "240540  Home & Garden > Festive & Party Supplies > Eve...   \n",
       "\n",
       "                                              l2_category  \\\n",
       "18485                                    Sports > Fishing   \n",
       "20468            Home & Garden > Festive & Party Supplies   \n",
       "20862                Home Improvement > Lights & Lighting   \n",
       "20888                Jewelry & Accessories > Fine Jewelry   \n",
       "22049                     Home & Garden > Garden Supplies   \n",
       "...                                                   ...   \n",
       "224044  Cellphones & Telecommunications > Phone Bags &...   \n",
       "231805                                                NaN   \n",
       "238556               Home Improvement > Lights & Lighting   \n",
       "240231              Home Improvement > Lights & Lighting    \n",
       "240540           Home & Garden > Festive & Party Supplies   \n",
       "\n",
       "       rater1_no_attributes rater1_unlisted_value  ...  \\\n",
       "18485                   NaN                   NaN  ...   \n",
       "20468                   NaN                   NaN  ...   \n",
       "20862                   NaN                   NaN  ...   \n",
       "20888                  True                   NaN  ...   \n",
       "22049                   NaN                   NaN  ...   \n",
       "...                     ...                   ...  ...   \n",
       "224044                 True                   NaN  ...   \n",
       "231805                 TRUE                     0  ...   \n",
       "238556                 True                   NaN  ...   \n",
       "240231                  NaN                   NaN  ...   \n",
       "240540                  NaN                  True  ...   \n",
       "\n",
       "                                                file_name  \\\n",
       "18485     product_attribution_till_032423_valid_units.csv   \n",
       "20468     product_attribution_till_032423_valid_units.csv   \n",
       "20862     product_attribution_till_032423_valid_units.csv   \n",
       "20888     product_attribution_till_032423_valid_units.csv   \n",
       "22049     product_attribution_till_032423_valid_units.csv   \n",
       "...                                                   ...   \n",
       "224044  Product Att_03.30.23_Batch3A_valid.csv|Product...   \n",
       "231805  product_attribution_missed_032423_just_032723_...   \n",
       "238556  product_attribution_till_032423_invalid_units_...   \n",
       "240231  product_attribution_till_032423_invalid_units_...   \n",
       "240540  product_attribution_till_032423_invalid_units_...   \n",
       "\n",
       "                                           title_original  \\\n",
       "18485   Hot 1pcs Fishing Lures 6.5cm/12g Topwater Popp...   \n",
       "20468   A Little Pumpkin Is On The Way Baby Shower: Cu...   \n",
       "20862   Dream Color LED Corner Floor Lamp,Bluetooth AP...   \n",
       "20888   Alantyer Austrian Crystal Teardrop Women Neckl...   \n",
       "22049   American Flag String Lights,6.5ft×3.3ft Waterp...   \n",
       "...                                                   ...   \n",
       "224044                                                NaN   \n",
       "231805  3D Flower Silicone Mold Sugar Paste DIY Fondan...   \n",
       "238556  ZUCKEO 10W Low Voltage Landscape Lights LED La...   \n",
       "240231  Modern RGB Corner Floor Lamp LED Color Changin...   \n",
       "240540  Wack O Wax Halloween Candy (5 Pack) Vampire Te...   \n",
       "\n",
       "                                             final_output  \\\n",
       "18485   Sports > Fishing > Fishing Lures > Primary Col...   \n",
       "20468   Home & Garden > Festive & Party Supplies > Eve...   \n",
       "20862   Home Improvement > Lights & Lighting > Lamps &...   \n",
       "20888   \\nJewelry & Accessories > Fine Jewelry > Neckl...   \n",
       "22049   Home & Garden > Garden Supplies > Yard & Garde...   \n",
       "...                                                   ...   \n",
       "224044                                                NaN   \n",
       "231805                                            0\\n0\\n0   \n",
       "238556  \\nHome Improvement > Lights & Lighting > Outdo...   \n",
       "240231  Home Improvement > Lights & Lighting > Lamps &...   \n",
       "240540  Home & Garden > Festive & Party Supplies > Eve...   \n",
       "\n",
       "                             product_description_original  \\\n",
       "18485                                                 NaN   \n",
       "20468                                                 NaN   \n",
       "20862                                                 NaN   \n",
       "20888                                                 NaN   \n",
       "22049                                                 NaN   \n",
       "...                                                   ...   \n",
       "224044                                                NaN   \n",
       "231805  - Brand Name: None\\n- Origin: CN(Origin)\\n- Mo...   \n",
       "238556                                                NaN   \n",
       "240231                                                NaN   \n",
       "240540                                                NaN   \n",
       "\n",
       "                                            category_path  \\\n",
       "18485                                                 NaN   \n",
       "20468                                                 NaN   \n",
       "20862                                                 NaN   \n",
       "20888                                                 NaN   \n",
       "22049                                                 NaN   \n",
       "...                                                   ...   \n",
       "224044                                                NaN   \n",
       "231805  Home & Garden > Kitchen,Dining & Bar > Bakewar...   \n",
       "238556                                                NaN   \n",
       "240231                                                NaN   \n",
       "240540                                                NaN   \n",
       "\n",
       "                                              explanation  \\\n",
       "18485                                                 NaN   \n",
       "20468                                                 NaN   \n",
       "20862                                                 NaN   \n",
       "20888                                                 NaN   \n",
       "22049                                                 NaN   \n",
       "...                                                   ...   \n",
       "224044                                                NaN   \n",
       "231805                            0 has no attribute name   \n",
       "238556  Home Improvement > Lights & Lighting > Outdoor...   \n",
       "240231  Home Improvement > Lights & Lighting > Lamps &...   \n",
       "240540  Home & Garden > Festive & Party Supplies > Eve...   \n",
       "\n",
       "                                   final_output_corrected  \\\n",
       "18485                                                 NaN   \n",
       "20468                                                 NaN   \n",
       "20862                                                 NaN   \n",
       "20888                                                 NaN   \n",
       "22049                                                 NaN   \n",
       "...                                                   ...   \n",
       "224044                                                NaN   \n",
       "231805                                                NaN   \n",
       "238556  Home Improvement > Lights & Lighting > Outdoor...   \n",
       "240231  Home Improvement > Lights & Lighting > Lamps &...   \n",
       "240540  Home & Garden > Festive & Party Supplies > Eve...   \n",
       "\n",
       "                                          title_original2  \\\n",
       "18485   Hot 1pcs Fishing Lures 6.5cm/12g Topwater Popp...   \n",
       "20468   A Little Pumpkin Is On The Way Baby Shower: Cu...   \n",
       "20862   Dream Color LED Corner Floor Lamp,Bluetooth AP...   \n",
       "20888   Alantyer Austrian Crystal Teardrop Women Neckl...   \n",
       "22049   American Flag String Lights,6.5ft×3.3ft Waterp...   \n",
       "...                                                   ...   \n",
       "224044  Michael Jordan Last Shot For iPhone Case 12 11...   \n",
       "231805  3D Flower Silicone Mold Sugar Paste DIY Fondan...   \n",
       "238556  ZUCKEO 10W Low Voltage Landscape Lights LED La...   \n",
       "240231  Modern RGB Corner Floor Lamp LED Color Changin...   \n",
       "240540  Wack O Wax Halloween Candy (5 Pack) Vampire Te...   \n",
       "\n",
       "                            product_description_original2  \\\n",
       "18485   ​3D eyes make it perfect tool for fishing love...   \n",
       "20468   \\nA Little Pumpkin Is On The Way Baby Shower: ...   \n",
       "20862   【Immersive Ambient Lighting】Dream Color color-...   \n",
       "20888   Brand: Alantyer \\n MPN: alantyer \\n \\nAlantyer...   \n",
       "22049    \\nAmerican Flag String Lights,6.5ft×3.3ft Wat...   \n",
       "...                                                   ...   \n",
       "224044  - Material: Made from high-quality plate and r...   \n",
       "231805  - Brand Name: None\\n- Origin: CN(Origin)\\n- Mo...   \n",
       "238556  body {\\n  font-family: \"Source Sans Pro\", sans...   \n",
       "240231  \\nFeatures:\\n【Dimmable Floor Lights】RGB Corner...   \n",
       "240540  body {\\n  font-family: \"Source Sans Pro\", sans...   \n",
       "\n",
       "                                 main_image_url_original2  \n",
       "18485   https://canary.contestimg.wish.com/api/webimag...  \n",
       "20468   https://canary.contestimg.wish.com/api/webimag...  \n",
       "20862                                                 NaN  \n",
       "20888   https://canary.contestimg.wish.com/api/webimag...  \n",
       "22049                                                 NaN  \n",
       "...                                                   ...  \n",
       "224044  https://canary.contestimg.wish.com/api/webimag...  \n",
       "231805  https://canary.contestimg.wish.com/api/webimag...  \n",
       "238556                                                NaN  \n",
       "240231  https://canary.contestimg.wish.com/api/webimag...  \n",
       "240540  https://canary.contestimg.wish.com/api/webimag...  \n",
       "\n",
       "[9117 rows x 27 columns]"
      ]
     },
     "execution_count": 32,
     "metadata": {},
     "output_type": "execute_result"
    }
   ],
   "source": [
    "df_uniq_merge[df_uniq_merge.product_description.apply(lambda x: str(x).strip()) != \\\n",
    "              df_uniq_merge.product_description_original2.apply(lambda x: str(x).strip())]"
   ]
  },
  {
   "cell_type": "code",
   "execution_count": 33,
   "metadata": {},
   "outputs": [
    {
     "data": {
      "text/html": [
       "<div>\n",
       "<style scoped>\n",
       "    .dataframe tbody tr th:only-of-type {\n",
       "        vertical-align: middle;\n",
       "    }\n",
       "\n",
       "    .dataframe tbody tr th {\n",
       "        vertical-align: top;\n",
       "    }\n",
       "\n",
       "    .dataframe thead th {\n",
       "        text-align: right;\n",
       "    }\n",
       "</style>\n",
       "<table border=\"1\" class=\"dataframe\">\n",
       "  <thead>\n",
       "    <tr style=\"text-align: right;\">\n",
       "      <th></th>\n",
       "      <th>label_ordering</th>\n",
       "      <th>sample_method</th>\n",
       "      <th>product_id</th>\n",
       "      <th>title</th>\n",
       "      <th>product_description</th>\n",
       "      <th>main_image_url</th>\n",
       "      <th>product_category</th>\n",
       "      <th>l2_category</th>\n",
       "      <th>rater1_no_attributes</th>\n",
       "      <th>rater1_unlisted_value</th>\n",
       "      <th>...</th>\n",
       "      <th>file_name</th>\n",
       "      <th>title_original</th>\n",
       "      <th>final_output</th>\n",
       "      <th>product_description_original</th>\n",
       "      <th>category_path</th>\n",
       "      <th>explanation</th>\n",
       "      <th>final_output_corrected</th>\n",
       "      <th>title_original2</th>\n",
       "      <th>product_description_original2</th>\n",
       "      <th>main_image_url_original2</th>\n",
       "    </tr>\n",
       "  </thead>\n",
       "  <tbody>\n",
       "  </tbody>\n",
       "</table>\n",
       "<p>0 rows × 27 columns</p>\n",
       "</div>"
      ],
      "text/plain": [
       "Empty DataFrame\n",
       "Columns: [label_ordering, sample_method, product_id, title, product_description, main_image_url, product_category, l2_category, rater1_no_attributes, rater1_unlisted_value, rater1_output, rater2_no_attributes, rater2_unlisted_value, rater2_output, rater3_no_attributes, rater3_unlisted_value, rater3_output, file_name, title_original, final_output, product_description_original, category_path, explanation, final_output_corrected, title_original2, product_description_original2, main_image_url_original2]\n",
       "Index: []\n",
       "\n",
       "[0 rows x 27 columns]"
      ]
     },
     "execution_count": 33,
     "metadata": {},
     "output_type": "execute_result"
    }
   ],
   "source": [
    "df_uniq_merge[df_uniq_merge.main_image_url.apply(lambda x: str(x).strip()) != \\\n",
    "              df_uniq_merge.main_image_url_original2.apply(lambda x: str(x).strip())]"
   ]
  },
  {
   "cell_type": "code",
   "execution_count": 34,
   "metadata": {},
   "outputs": [
    {
     "data": {
      "text/html": [
       "<div>\n",
       "<style scoped>\n",
       "    .dataframe tbody tr th:only-of-type {\n",
       "        vertical-align: middle;\n",
       "    }\n",
       "\n",
       "    .dataframe tbody tr th {\n",
       "        vertical-align: top;\n",
       "    }\n",
       "\n",
       "    .dataframe thead th {\n",
       "        text-align: right;\n",
       "    }\n",
       "</style>\n",
       "<table border=\"1\" class=\"dataframe\">\n",
       "  <thead>\n",
       "    <tr style=\"text-align: right;\">\n",
       "      <th></th>\n",
       "      <th>label_ordering</th>\n",
       "      <th>sample_method</th>\n",
       "      <th>product_id</th>\n",
       "      <th>title</th>\n",
       "      <th>product_description</th>\n",
       "      <th>main_image_url</th>\n",
       "      <th>product_category</th>\n",
       "      <th>l2_category</th>\n",
       "      <th>rater1_no_attributes</th>\n",
       "      <th>rater1_unlisted_value</th>\n",
       "      <th>...</th>\n",
       "      <th>file_name</th>\n",
       "      <th>title_original</th>\n",
       "      <th>final_output</th>\n",
       "      <th>product_description_original</th>\n",
       "      <th>category_path</th>\n",
       "      <th>explanation</th>\n",
       "      <th>final_output_corrected</th>\n",
       "      <th>title_original2</th>\n",
       "      <th>product_description_original2</th>\n",
       "      <th>main_image_url_original2</th>\n",
       "    </tr>\n",
       "  </thead>\n",
       "  <tbody>\n",
       "  </tbody>\n",
       "</table>\n",
       "<p>0 rows × 27 columns</p>\n",
       "</div>"
      ],
      "text/plain": [
       "Empty DataFrame\n",
       "Columns: [label_ordering, sample_method, product_id, title, product_description, main_image_url, product_category, l2_category, rater1_no_attributes, rater1_unlisted_value, rater1_output, rater2_no_attributes, rater2_unlisted_value, rater2_output, rater3_no_attributes, rater3_unlisted_value, rater3_output, file_name, title_original, final_output, product_description_original, category_path, explanation, final_output_corrected, title_original2, product_description_original2, main_image_url_original2]\n",
       "Index: []\n",
       "\n",
       "[0 rows x 27 columns]"
      ]
     },
     "execution_count": 34,
     "metadata": {},
     "output_type": "execute_result"
    }
   ],
   "source": [
    "df_uniq_merge[df_uniq_merge.main_image_url.apply(lambda x: str(x).strip()) != \\\n",
    "              df_uniq_merge.main_image_url_original2.apply(lambda x: str(x).strip())]"
   ]
  },
  {
   "cell_type": "code",
   "execution_count": 35,
   "metadata": {},
   "outputs": [],
   "source": [
    "df_uniq_merge['title'] = df_uniq_merge['title_original2']\n",
    "df_uniq_merge['product_description'] = df_uniq_merge['product_description_original2']"
   ]
  },
  {
   "cell_type": "code",
   "execution_count": 36,
   "metadata": {},
   "outputs": [
    {
     "data": {
      "text/html": [
       "<div>\n",
       "<style scoped>\n",
       "    .dataframe tbody tr th:only-of-type {\n",
       "        vertical-align: middle;\n",
       "    }\n",
       "\n",
       "    .dataframe tbody tr th {\n",
       "        vertical-align: top;\n",
       "    }\n",
       "\n",
       "    .dataframe thead th {\n",
       "        text-align: right;\n",
       "    }\n",
       "</style>\n",
       "<table border=\"1\" class=\"dataframe\">\n",
       "  <thead>\n",
       "    <tr style=\"text-align: right;\">\n",
       "      <th></th>\n",
       "      <th>label_ordering</th>\n",
       "      <th>sample_method</th>\n",
       "      <th>product_id</th>\n",
       "      <th>title</th>\n",
       "      <th>product_description</th>\n",
       "      <th>main_image_url</th>\n",
       "      <th>product_category</th>\n",
       "      <th>l2_category</th>\n",
       "      <th>rater1_no_attributes</th>\n",
       "      <th>rater1_unlisted_value</th>\n",
       "      <th>...</th>\n",
       "      <th>file_name</th>\n",
       "      <th>title_original</th>\n",
       "      <th>final_output</th>\n",
       "      <th>product_description_original</th>\n",
       "      <th>category_path</th>\n",
       "      <th>explanation</th>\n",
       "      <th>final_output_corrected</th>\n",
       "      <th>title_original2</th>\n",
       "      <th>product_description_original2</th>\n",
       "      <th>main_image_url_original2</th>\n",
       "    </tr>\n",
       "  </thead>\n",
       "  <tbody>\n",
       "  </tbody>\n",
       "</table>\n",
       "<p>0 rows × 27 columns</p>\n",
       "</div>"
      ],
      "text/plain": [
       "Empty DataFrame\n",
       "Columns: [label_ordering, sample_method, product_id, title, product_description, main_image_url, product_category, l2_category, rater1_no_attributes, rater1_unlisted_value, rater1_output, rater2_no_attributes, rater2_unlisted_value, rater2_output, rater3_no_attributes, rater3_unlisted_value, rater3_output, file_name, title_original, final_output, product_description_original, category_path, explanation, final_output_corrected, title_original2, product_description_original2, main_image_url_original2]\n",
       "Index: []\n",
       "\n",
       "[0 rows x 27 columns]"
      ]
     },
     "execution_count": 36,
     "metadata": {},
     "output_type": "execute_result"
    }
   ],
   "source": [
    "df_uniq_merge[df_uniq_merge.title.isna()]"
   ]
  },
  {
   "cell_type": "code",
   "execution_count": 37,
   "metadata": {},
   "outputs": [
    {
     "data": {
      "text/html": [
       "<div>\n",
       "<style scoped>\n",
       "    .dataframe tbody tr th:only-of-type {\n",
       "        vertical-align: middle;\n",
       "    }\n",
       "\n",
       "    .dataframe tbody tr th {\n",
       "        vertical-align: top;\n",
       "    }\n",
       "\n",
       "    .dataframe thead th {\n",
       "        text-align: right;\n",
       "    }\n",
       "</style>\n",
       "<table border=\"1\" class=\"dataframe\">\n",
       "  <thead>\n",
       "    <tr style=\"text-align: right;\">\n",
       "      <th></th>\n",
       "      <th>label_ordering</th>\n",
       "      <th>sample_method</th>\n",
       "      <th>product_id</th>\n",
       "      <th>title</th>\n",
       "      <th>product_description</th>\n",
       "      <th>main_image_url</th>\n",
       "      <th>product_category</th>\n",
       "      <th>l2_category</th>\n",
       "      <th>rater1_no_attributes</th>\n",
       "      <th>rater1_unlisted_value</th>\n",
       "      <th>...</th>\n",
       "      <th>file_name</th>\n",
       "      <th>title_original</th>\n",
       "      <th>final_output</th>\n",
       "      <th>product_description_original</th>\n",
       "      <th>category_path</th>\n",
       "      <th>explanation</th>\n",
       "      <th>final_output_corrected</th>\n",
       "      <th>title_original2</th>\n",
       "      <th>product_description_original2</th>\n",
       "      <th>main_image_url_original2</th>\n",
       "    </tr>\n",
       "  </thead>\n",
       "  <tbody>\n",
       "    <tr>\n",
       "      <th>232727</th>\n",
       "      <td>35818</td>\n",
       "      <td>text_and_img</td>\n",
       "      <td>6120aa90d631eeaff38fd328</td>\n",
       "      <td>3 Style New Concept Training Hidden Happiness Cup</td>\n",
       "      <td>NaN</td>\n",
       "      <td>https://canary.contestimg.wish.com/api/webimag...</td>\n",
       "      <td>NaN</td>\n",
       "      <td>NaN</td>\n",
       "      <td>TRUE</td>\n",
       "      <td>0</td>\n",
       "      <td>...</td>\n",
       "      <td>product_attribution_missed_032423_just_032723_...</td>\n",
       "      <td>3 Style New Concept Training Hidden Happiness Cup</td>\n",
       "      <td>0\\n0\\n0</td>\n",
       "      <td>NaN</td>\n",
       "      <td>Home &amp; Garden &gt; Kitchen,Dining &amp; Bar &gt; Teaware...</td>\n",
       "      <td>0 has no attribute name</td>\n",
       "      <td>NaN</td>\n",
       "      <td>3 Style New Concept Training Hidden Happiness Cup</td>\n",
       "      <td>NaN</td>\n",
       "      <td>https://canary.contestimg.wish.com/api/webimag...</td>\n",
       "    </tr>\n",
       "  </tbody>\n",
       "</table>\n",
       "<p>1 rows × 27 columns</p>\n",
       "</div>"
      ],
      "text/plain": [
       "        label_ordering sample_method                product_id  \\\n",
       "232727           35818  text_and_img  6120aa90d631eeaff38fd328   \n",
       "\n",
       "                                                    title product_description  \\\n",
       "232727  3 Style New Concept Training Hidden Happiness Cup                 NaN   \n",
       "\n",
       "                                           main_image_url product_category  \\\n",
       "232727  https://canary.contestimg.wish.com/api/webimag...              NaN   \n",
       "\n",
       "       l2_category rater1_no_attributes rater1_unlisted_value  ...  \\\n",
       "232727         NaN                 TRUE                     0  ...   \n",
       "\n",
       "                                                file_name  \\\n",
       "232727  product_attribution_missed_032423_just_032723_...   \n",
       "\n",
       "                                           title_original final_output  \\\n",
       "232727  3 Style New Concept Training Hidden Happiness Cup      0\\n0\\n0   \n",
       "\n",
       "       product_description_original  \\\n",
       "232727                          NaN   \n",
       "\n",
       "                                            category_path  \\\n",
       "232727  Home & Garden > Kitchen,Dining & Bar > Teaware...   \n",
       "\n",
       "                    explanation final_output_corrected  \\\n",
       "232727  0 has no attribute name                    NaN   \n",
       "\n",
       "                                          title_original2  \\\n",
       "232727  3 Style New Concept Training Hidden Happiness Cup   \n",
       "\n",
       "       product_description_original2  \\\n",
       "232727                           NaN   \n",
       "\n",
       "                                 main_image_url_original2  \n",
       "232727  https://canary.contestimg.wish.com/api/webimag...  \n",
       "\n",
       "[1 rows x 27 columns]"
      ]
     },
     "execution_count": 37,
     "metadata": {},
     "output_type": "execute_result"
    }
   ],
   "source": [
    "df_uniq_merge[df_uniq_merge.product_description.isna()]"
   ]
  },
  {
   "cell_type": "code",
   "execution_count": 38,
   "metadata": {},
   "outputs": [],
   "source": [
    "df_uniq_merge.loc[df_uniq_merge.product_description.isna(), 'product_description'] = ''"
   ]
  },
  {
   "cell_type": "code",
   "execution_count": 39,
   "metadata": {},
   "outputs": [
    {
     "data": {
      "text/plain": [
       "{'category_path',\n",
       " 'explanation',\n",
       " 'file_name',\n",
       " 'final_output',\n",
       " 'final_output_corrected',\n",
       " 'l2_category',\n",
       " 'label_ordering',\n",
       " 'main_image_url',\n",
       " 'main_image_url_original2',\n",
       " 'product_category',\n",
       " 'product_description',\n",
       " 'product_description_original',\n",
       " 'product_description_original2',\n",
       " 'product_id',\n",
       " 'rater1_no_attributes',\n",
       " 'rater1_output',\n",
       " 'rater1_unlisted_value',\n",
       " 'rater2_no_attributes',\n",
       " 'rater2_output',\n",
       " 'rater2_unlisted_value',\n",
       " 'rater3_no_attributes',\n",
       " 'rater3_output',\n",
       " 'rater3_unlisted_value',\n",
       " 'sample_method',\n",
       " 'title',\n",
       " 'title_original',\n",
       " 'title_original2'}"
      ]
     },
     "execution_count": 39,
     "metadata": {},
     "output_type": "execute_result"
    }
   ],
   "source": [
    "set(df_uniq_merge)"
   ]
  },
  {
   "cell_type": "code",
   "execution_count": 40,
   "metadata": {},
   "outputs": [],
   "source": [
    "df_uniq_merge['final_output'] = df_uniq_merge['rater1_output'].fillna('') + '\\n' + df_uniq_merge['rater2_output'].fillna('') + '\\n' + \\\n",
    "    df_uniq_merge['rater3_output'].fillna('')"
   ]
  },
  {
   "cell_type": "code",
   "execution_count": 41,
   "metadata": {},
   "outputs": [],
   "source": [
    "df_uniq_merge.loc[~df_uniq_merge.final_output_corrected.isna(), 'final_output'] = \\\n",
    "    df_uniq_merge.loc[~df_uniq_merge.final_output_corrected.isna(), 'final_output_corrected']"
   ]
  },
  {
   "cell_type": "code",
   "execution_count": 42,
   "metadata": {},
   "outputs": [
    {
     "data": {
      "text/plain": [
       "(240673, 240673)"
      ]
     },
     "execution_count": 42,
     "metadata": {},
     "output_type": "execute_result"
    }
   ],
   "source": [
    "len(df_uniq_merge), len(set(df_uniq_merge.label_ordering))"
   ]
  },
  {
   "cell_type": "code",
   "execution_count": 43,
   "metadata": {},
   "outputs": [
    {
     "data": {
      "text/plain": [
       "(240673, 236079, 4594, 4594, 0, 236079, 240673)"
      ]
     },
     "execution_count": 43,
     "metadata": {},
     "output_type": "execute_result"
    }
   ],
   "source": [
    "correct = []\n",
    "errors = []\n",
    "errors_fixed = []\n",
    "nonempty = []\n",
    "empty = []\n",
    "for i in df_uniq_merge.to_dict('records'):\n",
    "    res = [] if ((not isinstance(i['final_output'], str)) and (np.isnan(i['final_output']))) else i['final_output'].split('\\n')\n",
    "    res = sorted(set(res))\n",
    "    res = [i for i in res if len(i) > 0]\n",
    "    if len(res) == 0:\n",
    "        empty.append(i)\n",
    "    is_correct = True\n",
    "    for j in res:\n",
    "        if len(j.split(' > ')) < 2:\n",
    "            i['explanation'] = f\"{j} has no attribute name\"\n",
    "            errors.append(i)\n",
    "            is_correct = False\n",
    "            break\n",
    "        if j.split(' > ')[-2] not in attributes:\n",
    "            i['explanation'] = f\"{j} has invalid attribute name, because {j.split(' > ')[-2]} is not a valid attribute name\"\n",
    "            errors.append(i)\n",
    "            is_correct = False\n",
    "            break\n",
    "    if is_correct:\n",
    "        correct.append(i)\n",
    "        if len(res) > 0:\n",
    "            nonempty.append(i)\n",
    "for i in errors:\n",
    "    res = [] if ((not isinstance(i['final_output'], str)) and (np.isnan(i['final_output']))) else i['final_output'].split('\\n')\n",
    "    res = sorted(set(res))\n",
    "    res = [i for i in res if len(i) > 0]\n",
    "    corrected_res = []\n",
    "    for j in res:\n",
    "        if len(j.split(' > ')) >= 2 and j.split(' > ')[-2] in attributes:\n",
    "            corrected_res.append(j)\n",
    "    i['final_output_corrected'] = '\\n'.join(corrected_res)\n",
    "    errors_fixed.append(i)\n",
    "\n",
    "len(df_uniq_merge), len(correct), len(errors), len(errors_fixed), len(empty), len(nonempty), len(correct) + len(errors)"
   ]
  },
  {
   "cell_type": "code",
   "execution_count": 44,
   "metadata": {},
   "outputs": [],
   "source": [
    "df_error_fixed = pd.DataFrame(errors_fixed)"
   ]
  },
  {
   "cell_type": "code",
   "execution_count": 45,
   "metadata": {},
   "outputs": [
    {
     "data": {
      "text/plain": [
       "0.7688289072703526"
      ]
     },
     "execution_count": 45,
     "metadata": {},
     "output_type": "execute_result"
    }
   ],
   "source": [
    "df_error_fixed['final_output_corrected'].apply(lambda x: len(x) == 0).mean()"
   ]
  },
  {
   "cell_type": "code",
   "execution_count": 46,
   "metadata": {},
   "outputs": [],
   "source": [
    "df_error_fixed_nonempty = df_error_fixed[df_error_fixed['final_output_corrected'].apply(lambda x: len(x) > 0)]\n",
    "df_error_fixed_empty = df_error_fixed[df_error_fixed['final_output_corrected'].apply(lambda x: len(x) == 0)]"
   ]
  },
  {
   "cell_type": "code",
   "execution_count": 47,
   "metadata": {},
   "outputs": [
    {
     "data": {
      "text/plain": [
       "3532"
      ]
     },
     "execution_count": 47,
     "metadata": {},
     "output_type": "execute_result"
    }
   ],
   "source": [
    "len(df_error_fixed_empty)"
   ]
  },
  {
   "cell_type": "code",
   "execution_count": 48,
   "metadata": {},
   "outputs": [],
   "source": [
    "df_correct = pd.DataFrame(correct)"
   ]
  },
  {
   "cell_type": "code",
   "execution_count": 49,
   "metadata": {},
   "outputs": [
    {
     "data": {
      "text/plain": [
       "0.0"
      ]
     },
     "execution_count": 49,
     "metadata": {},
     "output_type": "execute_result"
    }
   ],
   "source": [
    "df_correct['final_output'].apply(lambda x: len(x) == 0).mean()"
   ]
  },
  {
   "cell_type": "code",
   "execution_count": 50,
   "metadata": {},
   "outputs": [
    {
     "name": "stderr",
     "output_type": "stream",
     "text": [
      "/tmp/ipykernel_7745/1192569628.py:1: SettingWithCopyWarning: \n",
      "A value is trying to be set on a copy of a slice from a DataFrame.\n",
      "Try using .loc[row_indexer,col_indexer] = value instead\n",
      "\n",
      "See the caveats in the documentation: https://pandas.pydata.org/pandas-docs/stable/user_guide/indexing.html#returning-a-view-versus-a-copy\n",
      "  df_error_fixed_nonempty['final_output'] = df_error_fixed_nonempty['final_output_corrected']\n"
     ]
    }
   ],
   "source": [
    "df_error_fixed_nonempty['final_output'] = df_error_fixed_nonempty['final_output_corrected']"
   ]
  },
  {
   "cell_type": "code",
   "execution_count": 51,
   "metadata": {},
   "outputs": [],
   "source": [
    "df_correct = pd.concat([df_correct, df_error_fixed_nonempty])"
   ]
  },
  {
   "cell_type": "code",
   "execution_count": 52,
   "metadata": {},
   "outputs": [
    {
     "data": {
      "text/plain": [
       "0.9828375096360276"
      ]
     },
     "execution_count": 52,
     "metadata": {},
     "output_type": "execute_result"
    }
   ],
   "source": [
    "len(df_correct) / len(df_original)"
   ]
  },
  {
   "cell_type": "code",
   "execution_count": 53,
   "metadata": {},
   "outputs": [
    {
     "data": {
      "text/plain": [
       "(237141, 237141)"
      ]
     },
     "execution_count": 53,
     "metadata": {},
     "output_type": "execute_result"
    }
   ],
   "source": [
    "len(df_correct), len(set(df_correct.label_ordering))"
   ]
  },
  {
   "cell_type": "code",
   "execution_count": 54,
   "metadata": {},
   "outputs": [
    {
     "data": {
      "text/plain": [
       "True"
      ]
     },
     "execution_count": 54,
     "metadata": {},
     "output_type": "execute_result"
    }
   ],
   "source": [
    "df_error_fixed_empty['rater3_no_attributes'].all()"
   ]
  },
  {
   "cell_type": "code",
   "execution_count": 59,
   "metadata": {},
   "outputs": [],
   "source": [
    "df_error_fixed_empty = df_error_fixed_empty[['label_ordering', 'sample_method', 'product_id', 'title', 'product_description', 'main_image_url', \n",
    "                      'product_category', 'l2_category', 'rater1_no_attributes',\n",
    "                        'rater1_output',\n",
    "                        'rater1_unlisted_value',\n",
    "                        'rater2_no_attributes',\n",
    "                        'rater2_output',\n",
    "                        'rater2_unlisted_value',\n",
    "                        'rater3_no_attributes',\n",
    "                        'rater3_output',\n",
    "                        'rater3_unlisted_value', 'file_name', ]]"
   ]
  },
  {
   "cell_type": "code",
   "execution_count": 60,
   "metadata": {},
   "outputs": [
    {
     "name": "stderr",
     "output_type": "stream",
     "text": [
      "/tmp/ipykernel_7745/1670200266.py:1: SettingWithCopyWarning: \n",
      "A value is trying to be set on a copy of a slice from a DataFrame.\n",
      "Try using .loc[row_indexer,col_indexer] = value instead\n",
      "\n",
      "See the caveats in the documentation: https://pandas.pydata.org/pandas-docs/stable/user_guide/indexing.html#returning-a-view-versus-a-copy\n",
      "  df_error_fixed_empty['explanation'] = \"Unreasonably empty attribute name value pairs or invalid attribute name value pairs\"\n"
     ]
    }
   ],
   "source": [
    "df_error_fixed_empty['explanation'] = \"Unreasonably empty attribute name value pairs or invalid attribute name value pairs\""
   ]
  },
  {
   "cell_type": "code",
   "execution_count": 62,
   "metadata": {},
   "outputs": [
    {
     "data": {
      "text/plain": [
       "3532"
      ]
     },
     "execution_count": 62,
     "metadata": {},
     "output_type": "execute_result"
    }
   ],
   "source": [
    "len(df_error_fixed_empty)"
   ]
  },
  {
   "cell_type": "code",
   "execution_count": 64,
   "metadata": {},
   "outputs": [],
   "source": [
    "df_error_fixed_empty = df_error_fixed_empty.merge(df_original[['label_ordering', 'category_path']], on='label_ordering')"
   ]
  },
  {
   "cell_type": "code",
   "execution_count": 65,
   "metadata": {},
   "outputs": [
    {
     "data": {
      "text/plain": [
       "{'product_attribution_just_032723_invalid_units_fixed.csv',\n",
       " 'product_attribution_missed_032423_just_032723_invalid_units_fixed.csv',\n",
       " 'product_attribution_till_032423_invalid_units_fixed.csv'}"
      ]
     },
     "execution_count": 65,
     "metadata": {},
     "output_type": "execute_result"
    }
   ],
   "source": [
    "set(df_error_fixed_empty.file_name)"
   ]
  },
  {
   "cell_type": "code",
   "execution_count": 66,
   "metadata": {},
   "outputs": [
    {
     "data": {
      "text/html": [
       "<div>\n",
       "<style scoped>\n",
       "    .dataframe tbody tr th:only-of-type {\n",
       "        vertical-align: middle;\n",
       "    }\n",
       "\n",
       "    .dataframe tbody tr th {\n",
       "        vertical-align: top;\n",
       "    }\n",
       "\n",
       "    .dataframe thead th {\n",
       "        text-align: right;\n",
       "    }\n",
       "</style>\n",
       "<table border=\"1\" class=\"dataframe\">\n",
       "  <thead>\n",
       "    <tr style=\"text-align: right;\">\n",
       "      <th></th>\n",
       "      <th>label_ordering</th>\n",
       "      <th>sample_method</th>\n",
       "      <th>product_id</th>\n",
       "      <th>title</th>\n",
       "      <th>product_description</th>\n",
       "      <th>main_image_url</th>\n",
       "      <th>product_category</th>\n",
       "      <th>l2_category</th>\n",
       "      <th>rater1_no_attributes</th>\n",
       "      <th>rater1_output</th>\n",
       "      <th>rater1_unlisted_value</th>\n",
       "      <th>rater2_no_attributes</th>\n",
       "      <th>rater2_output</th>\n",
       "      <th>rater2_unlisted_value</th>\n",
       "      <th>rater3_no_attributes</th>\n",
       "      <th>rater3_output</th>\n",
       "      <th>rater3_unlisted_value</th>\n",
       "      <th>file_name</th>\n",
       "      <th>explanation</th>\n",
       "      <th>category_path</th>\n",
       "    </tr>\n",
       "  </thead>\n",
       "  <tbody>\n",
       "    <tr>\n",
       "      <th>754</th>\n",
       "      <td>28525</td>\n",
       "      <td>only_text</td>\n",
       "      <td>61489a44a7749217b825d2ab</td>\n",
       "      <td>LJ09 Water Shoes Dino Pattern Quick-Dry Aqua S...</td>\n",
       "      <td>Knitted upper (polyester) + non-slip thermopla...</td>\n",
       "      <td>NaN</td>\n",
       "      <td>NaN</td>\n",
       "      <td>NaN</td>\n",
       "      <td>TRUE</td>\n",
       "      <td>0</td>\n",
       "      <td>0</td>\n",
       "      <td>TRUE</td>\n",
       "      <td>0</td>\n",
       "      <td>0</td>\n",
       "      <td>TRUE</td>\n",
       "      <td>0</td>\n",
       "      <td>0</td>\n",
       "      <td>product_attribution_missed_032423_just_032723_...</td>\n",
       "      <td>Unreasonably empty attribute name value pairs ...</td>\n",
       "      <td>Sports &gt; Camping &amp; Hiking &gt; Upstream Shoes</td>\n",
       "    </tr>\n",
       "    <tr>\n",
       "      <th>2304</th>\n",
       "      <td>41223</td>\n",
       "      <td>only_text</td>\n",
       "      <td>60fa4d18c2af2ec4e75074c3</td>\n",
       "      <td>Lung Cleanse for Smokers - Clear Your Airways ...</td>\n",
       "      <td>WHOLE BODY DETOX -- We offer a 30 day money ba...</td>\n",
       "      <td>NaN</td>\n",
       "      <td>NaN</td>\n",
       "      <td>NaN</td>\n",
       "      <td>TRUE</td>\n",
       "      <td>0</td>\n",
       "      <td>0</td>\n",
       "      <td>TRUE</td>\n",
       "      <td>0</td>\n",
       "      <td>0</td>\n",
       "      <td>TRUE</td>\n",
       "      <td>0</td>\n",
       "      <td>0</td>\n",
       "      <td>product_attribution_missed_032423_just_032723_...</td>\n",
       "      <td>Unreasonably empty attribute name value pairs ...</td>\n",
       "      <td>Home &amp; Garden &gt; Kitchen,Dining &amp; Bar &gt; Teaware...</td>\n",
       "    </tr>\n",
       "  </tbody>\n",
       "</table>\n",
       "</div>"
      ],
      "text/plain": [
       "      label_ordering sample_method                product_id  \\\n",
       "754            28525     only_text  61489a44a7749217b825d2ab   \n",
       "2304           41223     only_text  60fa4d18c2af2ec4e75074c3   \n",
       "\n",
       "                                                  title  \\\n",
       "754   LJ09 Water Shoes Dino Pattern Quick-Dry Aqua S...   \n",
       "2304  Lung Cleanse for Smokers - Clear Your Airways ...   \n",
       "\n",
       "                                    product_description main_image_url  \\\n",
       "754   Knitted upper (polyester) + non-slip thermopla...            NaN   \n",
       "2304  WHOLE BODY DETOX -- We offer a 30 day money ba...            NaN   \n",
       "\n",
       "     product_category l2_category rater1_no_attributes rater1_output  \\\n",
       "754               NaN         NaN                 TRUE             0   \n",
       "2304              NaN         NaN                 TRUE             0   \n",
       "\n",
       "     rater1_unlisted_value rater2_no_attributes rater2_output  \\\n",
       "754                      0                 TRUE             0   \n",
       "2304                     0                 TRUE             0   \n",
       "\n",
       "     rater2_unlisted_value rater3_no_attributes rater3_output  \\\n",
       "754                      0                 TRUE             0   \n",
       "2304                     0                 TRUE             0   \n",
       "\n",
       "     rater3_unlisted_value                                          file_name  \\\n",
       "754                      0  product_attribution_missed_032423_just_032723_...   \n",
       "2304                     0  product_attribution_missed_032423_just_032723_...   \n",
       "\n",
       "                                            explanation  \\\n",
       "754   Unreasonably empty attribute name value pairs ...   \n",
       "2304  Unreasonably empty attribute name value pairs ...   \n",
       "\n",
       "                                          category_path  \n",
       "754          Sports > Camping & Hiking > Upstream Shoes  \n",
       "2304  Home & Garden > Kitchen,Dining & Bar > Teaware...  "
      ]
     },
     "execution_count": 66,
     "metadata": {},
     "output_type": "execute_result"
    }
   ],
   "source": [
    "df_error_fixed_empty.sample(2)"
   ]
  },
  {
   "cell_type": "code",
   "execution_count": 67,
   "metadata": {},
   "outputs": [
    {
     "data": {
      "text/plain": [
       "3532"
      ]
     },
     "execution_count": 67,
     "metadata": {},
     "output_type": "execute_result"
    }
   ],
   "source": [
    "len(df_error_fixed_empty)"
   ]
  },
  {
   "cell_type": "code",
   "execution_count": 68,
   "metadata": {},
   "outputs": [],
   "source": [
    "df_error_fixed_empty.to_csv('appen/output_batch_correct_v9/product_attribution_till_040323_empty_invalid_units.csv', index=False)"
   ]
  },
  {
   "cell_type": "code",
   "execution_count": 305,
   "metadata": {},
   "outputs": [
    {
     "data": {
      "text/plain": [
       "{'category_path',\n",
       " 'explanation',\n",
       " 'file_name',\n",
       " 'final_output',\n",
       " 'final_output_corrected',\n",
       " 'l2_category',\n",
       " 'label_ordering',\n",
       " 'main_image_url',\n",
       " 'main_image_url_original2',\n",
       " 'product_category',\n",
       " 'product_description',\n",
       " 'product_description_original',\n",
       " 'product_description_original2',\n",
       " 'product_id',\n",
       " 'rater1_no_attributes',\n",
       " 'rater1_output',\n",
       " 'rater1_unlisted_value',\n",
       " 'rater2_no_attributes',\n",
       " 'rater2_output',\n",
       " 'rater2_unlisted_value',\n",
       " 'rater3_no_attributes',\n",
       " 'rater3_output',\n",
       " 'rater3_unlisted_value',\n",
       " 'sample_method',\n",
       " 'title',\n",
       " 'title_original',\n",
       " 'title_original2'}"
      ]
     },
     "execution_count": 305,
     "metadata": {},
     "output_type": "execute_result"
    }
   ],
   "source": [
    "set(df_correct)"
   ]
  },
  {
   "cell_type": "code",
   "execution_count": 306,
   "metadata": {},
   "outputs": [],
   "source": [
    "df_correct = df_correct[['label_ordering', 'sample_method', 'product_id', 'title', 'product_description', 'main_image_url', 'final_output']]"
   ]
  },
  {
   "cell_type": "code",
   "execution_count": 307,
   "metadata": {},
   "outputs": [
    {
     "data": {
      "text/plain": [
       "237141"
      ]
     },
     "execution_count": 307,
     "metadata": {},
     "output_type": "execute_result"
    }
   ],
   "source": [
    "len(df_correct)"
   ]
  },
  {
   "cell_type": "code",
   "execution_count": 308,
   "metadata": {},
   "outputs": [],
   "source": [
    "df_correct = df_correct.merge(df_original[['label_ordering', 'category_path']])"
   ]
  },
  {
   "cell_type": "code",
   "execution_count": 309,
   "metadata": {},
   "outputs": [
    {
     "data": {
      "text/plain": [
       "237141"
      ]
     },
     "execution_count": 309,
     "metadata": {},
     "output_type": "execute_result"
    }
   ],
   "source": [
    "len(df_correct)"
   ]
  },
  {
   "cell_type": "code",
   "execution_count": 310,
   "metadata": {},
   "outputs": [
    {
     "data": {
      "text/plain": [
       "[{'label_ordering': 81456,\n",
       "  'sample_method': 'only_text',\n",
       "  'product_id': '61855f902b8b86f1e2e11580',\n",
       "  'title': 'Shar Pei On The Great Wall Travel Laptop Backpack,Business Anti Theft Slim Durable with USB Charging Port, College School Computer Bag Bookbag Casual Hiking Daypack for Women Men',\n",
       "  'product_description': 'High quality Polyester Fabric Material & Practical luggage Strap design & Comfortable Widen Padded Shoulder Strap & Built-in Key Ring design, fits for daily use at school, college, business and travel, suitable for women, men and students.\\nExternal dimensions: 17x 12 x 6.5 inch. Multiple divider pockets, easy for holding 15.6 Inches laptop, water bottle, readers and a bunch of other items, iPad, journal, pens and pencils, iPhone.\\nUSB interface with built-in cable design, great convenience for charging your electronic devices via connecting your own power bank. And the headphone interface frees your hands when enjoying audios, music, etc.\\nMulti-panel Airflow system provide relief when carrying heavy loads. Many padding on the back, shoulder straps and grab handle makes it comfortable to carry, barely feel the weight.100% Brand New and made of High Density and Water Repellent Polyester Fabric, not easy get wet and ensure long lasting usage\\nMade of Water Resistant and Durable Polyester Fabric with metal zippers. Ensure a secure & long-lasting usage everyday & weekend.Serve you well as professional office work bag,slim USB charging bagpack,college high school big student backpack for boys,girls,teens,adults',\n",
       "  'main_image_url': nan,\n",
       "  'final_output': \"Luggage & Bags > Men's Bags > Backpacks > Department > Women\\nLuggage & Bags > Men's Bags > Backpacks > Department > Men\\nLuggage & Bags > Men's Bags > Backpacks > Fits Device Size > 17x 12 x 6.5 inch\\n\\nLuggage & Bags > Men's Bags > Backpacks > Closure Type > Zipper\\nLuggage & Bags > Men's Bags > Backpacks > Department > Men\\nLuggage & Bags > Men's Bags > Backpacks > Item Features > Adjustable\\nLuggage & Bags > Men's Bags > Backpacks > Materials > Polyester\\nLuggage & Bags > Men's Bags > Backpacks > Materials > Fabric\",\n",
       "  'category_path': \"Luggage & Bags > Men's Bags > Backpacks\"},\n",
       " {'label_ordering': 238222,\n",
       "  'sample_method': 'text_and_img',\n",
       "  'product_id': '61303cd0bdfce435cc7b71ce',\n",
       "  'title': '  Practical Travel Bags Wear Resistant  Nylon Groceries Picnic Travel Bags   ',\n",
       "  'product_description': 'Specifications: \\nDesign of the shoulder strap, our product can be carried conveniently while is has large-capacity to store more belongings while your items can be classfied directly without messing.\\nOur product is designed with a shoulder strap, so it is easy to carry. It uses a large-capacity design, so it can store more items and is practical.\\nIt is convenient to use because the shoulder strap design. And it is practical due to the large-capacity design.\\nUndoubtedly, our product has strong practicality because of the multiple storage bags so that it can store more items. And the design of a shoulder strap is convenient carrying.\\nThe reason why our product can be used for storing more items is that it has large capacity and multiple storage bags while it is easy to carry.\\n\\nItem Name: Mesh Beach Bag\\nMaterial : Mesh Fabric\\n64cm x 41cm/25.2\" x 16.14\" (Approx.)\\nNotes: \\nDue to the light and screen setting difference, the item\\'s color may be slightly different from the pictures.\\r\\nPlease allow slight dimension difference due to different manual measurement.\\n\\nPackage Includes: \\n1 x  Mesh Beach Bag',\n",
       "  'main_image_url': 'https://canary.contestimg.wish.com/api/webimage/61303cd0bdfce435cc7b71ce-0-large.jpg',\n",
       "  'final_output': '\\n\\nSports > Camping & Hiking > Camp Cooking Supplies > Picnic Bags > Primary Color > Black\\nSports > Camping & Hiking > Camp Cooking Supplies > Picnic Bags > Primary Color > White\\nSports > Camping & Hiking > Camp Cooking Supplies > Picnic Bags > Primary Color > Clear',\n",
       "  'category_path': 'Sports > Camping & Hiking > Camp Cooking Supplies > Picnic Bags'}]"
      ]
     },
     "execution_count": 310,
     "metadata": {},
     "output_type": "execute_result"
    }
   ],
   "source": [
    "df_correct.sample(2).to_dict('records')"
   ]
  },
  {
   "cell_type": "code",
   "execution_count": 311,
   "metadata": {},
   "outputs": [],
   "source": [
    "df_correct.to_csv('appen/output_batch_correct_v9/product_attribution_till_040323_valid_units.csv', index=False)"
   ]
  },
  {
   "attachments": {},
   "cell_type": "markdown",
   "metadata": {},
   "source": [
    "# accounting for missing units"
   ]
  },
  {
   "cell_type": "code",
   "execution_count": 3,
   "metadata": {},
   "outputs": [],
   "source": [
    "df_accounting = pd.read_csv('appen/output_batch_correct_v8/APPEN_WISH - Product Attribution.csv')"
   ]
  },
  {
   "cell_type": "code",
   "execution_count": 313,
   "metadata": {},
   "outputs": [
    {
     "data": {
      "text/plain": [
       "True"
      ]
     },
     "execution_count": 313,
     "metadata": {},
     "output_type": "execute_result"
    }
   ],
   "source": [
    "set(df_accounting['label_ordering']) == set(df_original['label_ordering'])"
   ]
  },
  {
   "cell_type": "code",
   "execution_count": 314,
   "metadata": {},
   "outputs": [],
   "source": [
    "df_delivered = pd.concat([df_correct, df_error_fixed_empty])[['label_ordering']]"
   ]
  },
  {
   "cell_type": "code",
   "execution_count": 315,
   "metadata": {},
   "outputs": [],
   "source": [
    "df_delivered['received'] = True"
   ]
  },
  {
   "cell_type": "code",
   "execution_count": 316,
   "metadata": {},
   "outputs": [],
   "source": [
    "df_original_merge = df_original.merge(df_delivered, on='label_ordering', how='left')"
   ]
  },
  {
   "cell_type": "code",
   "execution_count": 317,
   "metadata": {},
   "outputs": [],
   "source": [
    "df_original_merge.loc[df_original_merge.received.isna(), 'received'] = False"
   ]
  },
  {
   "cell_type": "code",
   "execution_count": 318,
   "metadata": {},
   "outputs": [],
   "source": [
    "df_missed = df_original_merge[df_original_merge.received == False]"
   ]
  },
  {
   "cell_type": "code",
   "execution_count": 319,
   "metadata": {},
   "outputs": [],
   "source": [
    "df_accounting.merge(df_missed, on='label_ordering').to_csv('appen/output_batch_correct_v9/product_attribution_till_040323_missed_units.csv', \n",
    "                                                        index=False)"
   ]
  },
  {
   "cell_type": "code",
   "execution_count": 320,
   "metadata": {},
   "outputs": [
    {
     "data": {
      "text/plain": [
       "609"
      ]
     },
     "execution_count": 320,
     "metadata": {},
     "output_type": "execute_result"
    }
   ],
   "source": [
    "len(pd.read_csv('appen/output_batch_correct_v9/product_attribution_till_040323_missed_units.csv'))"
   ]
  },
  {
   "cell_type": "code",
   "execution_count": null,
   "metadata": {},
   "outputs": [],
   "source": []
  }
 ],
 "metadata": {
  "kernelspec": {
   "display_name": "Python 3",
   "language": "python",
   "name": "python3"
  },
  "language_info": {
   "codemirror_mode": {
    "name": "ipython",
    "version": 3
   },
   "file_extension": ".py",
   "mimetype": "text/x-python",
   "name": "python",
   "nbconvert_exporter": "python",
   "pygments_lexer": "ipython3",
   "version": "3.8.13"
  },
  "orig_nbformat": 4,
  "vscode": {
   "interpreter": {
    "hash": "949777d72b0d2535278d3dc13498b2535136f6dfe0678499012e853ee9abcab1"
   }
  }
 },
 "nbformat": 4,
 "nbformat_minor": 2
}
