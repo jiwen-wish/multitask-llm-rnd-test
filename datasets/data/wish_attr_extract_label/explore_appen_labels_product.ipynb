{
 "cells": [
  {
   "cell_type": "code",
   "execution_count": 22,
   "metadata": {},
   "outputs": [],
   "source": [
    "import pandas as pd\n",
    "from collections import defaultdict\n",
    "import dvc.api\n",
    "from tqdm import tqdm"
   ]
  },
  {
   "cell_type": "code",
   "execution_count": 23,
   "metadata": {},
   "outputs": [],
   "source": [
    "df_original = pd.read_csv(dvc.api.get_url('datasets/data/wish_attr_extract_label/appen/input_batch_processed/appen_product_attribution_batch1.csv', \n",
    "    repo='git@github.com:ContextLogic/multitask-llm-rnd.git'))"
   ]
  },
  {
   "cell_type": "code",
   "execution_count": 24,
   "metadata": {},
   "outputs": [],
   "source": [
    "df = pd.read_csv('appen/output_batch/Product Attribution_02.03.23.csv')"
   ]
  },
  {
   "cell_type": "code",
   "execution_count": 25,
   "metadata": {},
   "outputs": [
    {
     "data": {
      "text/html": [
       "<div>\n",
       "<style scoped>\n",
       "    .dataframe tbody tr th:only-of-type {\n",
       "        vertical-align: middle;\n",
       "    }\n",
       "\n",
       "    .dataframe tbody tr th {\n",
       "        vertical-align: top;\n",
       "    }\n",
       "\n",
       "    .dataframe thead th {\n",
       "        text-align: right;\n",
       "    }\n",
       "</style>\n",
       "<table border=\"1\" class=\"dataframe\">\n",
       "  <thead>\n",
       "    <tr style=\"text-align: right;\">\n",
       "      <th></th>\n",
       "      <th>Label Ordering</th>\n",
       "      <th>Sample Method</th>\n",
       "      <th>Product ID</th>\n",
       "      <th>Title</th>\n",
       "      <th>Product Description</th>\n",
       "      <th>Image URL</th>\n",
       "      <th>Product Category</th>\n",
       "      <th>L2 Category</th>\n",
       "      <th>Rater 1 Answer</th>\n",
       "      <th>Rater 2 Answer</th>\n",
       "      <th>Final Answer</th>\n",
       "    </tr>\n",
       "  </thead>\n",
       "  <tbody>\n",
       "    <tr>\n",
       "      <th>0</th>\n",
       "      <td>0</td>\n",
       "      <td>only_text</td>\n",
       "      <td>611bbb365b0bd8698b670d9d</td>\n",
       "      <td>Rattan Basket Pet Dome and Animal Bed, with Me...</td>\n",
       "      <td>Features\\n- Rattan wicker brings a classic sty...</td>\n",
       "      <td>NaN</td>\n",
       "      <td>Home &amp; Garden &gt; Pet Products &gt; Cat Supplies &gt; ...</td>\n",
       "      <td>Home &amp; Garden &gt; Pet Products</td>\n",
       "      <td>['']</td>\n",
       "      <td>['Home &amp; Garden &gt; Pet Products &gt; Cat Supplies ...</td>\n",
       "      <td>['Home &amp; Garden &gt; Pet Products &gt; Cat Supplies ...</td>\n",
       "    </tr>\n",
       "    <tr>\n",
       "      <th>1</th>\n",
       "      <td>1</td>\n",
       "      <td>only_text</td>\n",
       "      <td>61a9c0160dcaf9e1da138df1</td>\n",
       "      <td>10Pcs 7Pcs 2Pcs 1Pcs Tempered Glass For Iphone...</td>\n",
       "      <td>welcome to my store!\\n\\nFeatures:\\nCompatible ...</td>\n",
       "      <td>NaN</td>\n",
       "      <td>Cellphones &amp; Telecommunications &gt; Mobile Phone...</td>\n",
       "      <td>Cellphones &amp; Telecommunications &gt; Mobile Phone...</td>\n",
       "      <td>['Cellphones &amp; Telecommunications &gt; Mobile Pho...</td>\n",
       "      <td>['Cellphones &amp; Telecommunications &gt; Mobile Pho...</td>\n",
       "      <td>['Cellphones &amp; Telecommunications &gt; Mobile Pho...</td>\n",
       "    </tr>\n",
       "  </tbody>\n",
       "</table>\n",
       "</div>"
      ],
      "text/plain": [
       "   Label Ordering Sample Method                Product ID  \\\n",
       "0               0     only_text  611bbb365b0bd8698b670d9d   \n",
       "1               1     only_text  61a9c0160dcaf9e1da138df1   \n",
       "\n",
       "                                               Title  \\\n",
       "0  Rattan Basket Pet Dome and Animal Bed, with Me...   \n",
       "1  10Pcs 7Pcs 2Pcs 1Pcs Tempered Glass For Iphone...   \n",
       "\n",
       "                                 Product Description Image URL  \\\n",
       "0  Features\\n- Rattan wicker brings a classic sty...       NaN   \n",
       "1  welcome to my store!\\n\\nFeatures:\\nCompatible ...       NaN   \n",
       "\n",
       "                                    Product Category  \\\n",
       "0  Home & Garden > Pet Products > Cat Supplies > ...   \n",
       "1  Cellphones & Telecommunications > Mobile Phone...   \n",
       "\n",
       "                                         L2 Category  \\\n",
       "0                       Home & Garden > Pet Products   \n",
       "1  Cellphones & Telecommunications > Mobile Phone...   \n",
       "\n",
       "                                      Rater 1 Answer  \\\n",
       "0                                               ['']   \n",
       "1  ['Cellphones & Telecommunications > Mobile Pho...   \n",
       "\n",
       "                                      Rater 2 Answer  \\\n",
       "0  ['Home & Garden > Pet Products > Cat Supplies ...   \n",
       "1  ['Cellphones & Telecommunications > Mobile Pho...   \n",
       "\n",
       "                                        Final Answer  \n",
       "0  ['Home & Garden > Pet Products > Cat Supplies ...  \n",
       "1  ['Cellphones & Telecommunications > Mobile Pho...  "
      ]
     },
     "execution_count": 25,
     "metadata": {},
     "output_type": "execute_result"
    }
   ],
   "source": [
    "df.head(2)"
   ]
  },
  {
   "cell_type": "code",
   "execution_count": 26,
   "metadata": {},
   "outputs": [
    {
     "data": {
      "text/html": [
       "<div>\n",
       "<style scoped>\n",
       "    .dataframe tbody tr th:only-of-type {\n",
       "        vertical-align: middle;\n",
       "    }\n",
       "\n",
       "    .dataframe tbody tr th {\n",
       "        vertical-align: top;\n",
       "    }\n",
       "\n",
       "    .dataframe thead th {\n",
       "        text-align: right;\n",
       "    }\n",
       "</style>\n",
       "<table border=\"1\" class=\"dataframe\">\n",
       "  <thead>\n",
       "    <tr style=\"text-align: right;\">\n",
       "      <th></th>\n",
       "      <th>category_path</th>\n",
       "      <th>product_id</th>\n",
       "      <th>title</th>\n",
       "      <th>product_description</th>\n",
       "      <th>main_image_url</th>\n",
       "      <th>sample_method</th>\n",
       "      <th>label_ordering</th>\n",
       "    </tr>\n",
       "  </thead>\n",
       "  <tbody>\n",
       "    <tr>\n",
       "      <th>0</th>\n",
       "      <td>Home &amp; Garden &gt; Pet Products &gt; Cat Supplies &gt; ...</td>\n",
       "      <td>611bbb365b0bd8698b670d9d</td>\n",
       "      <td>Rattan Basket Pet Dome and Animal Bed, with Me...</td>\n",
       "      <td>Features\\n- Rattan wicker brings a classic sty...</td>\n",
       "      <td>NaN</td>\n",
       "      <td>only_text</td>\n",
       "      <td>0.0</td>\n",
       "    </tr>\n",
       "    <tr>\n",
       "      <th>1</th>\n",
       "      <td>Cellphones &amp; Telecommunications &gt; Mobile Phone...</td>\n",
       "      <td>61a9c0160dcaf9e1da138df1</td>\n",
       "      <td>10Pcs 7Pcs 2Pcs 1Pcs Tempered Glass For Iphone...</td>\n",
       "      <td>welcome to my store!\\r\\n\\r\\nFeatures:\\r\\nCompa...</td>\n",
       "      <td>NaN</td>\n",
       "      <td>only_text</td>\n",
       "      <td>1.0</td>\n",
       "    </tr>\n",
       "  </tbody>\n",
       "</table>\n",
       "</div>"
      ],
      "text/plain": [
       "                                       category_path  \\\n",
       "0  Home & Garden > Pet Products > Cat Supplies > ...   \n",
       "1  Cellphones & Telecommunications > Mobile Phone...   \n",
       "\n",
       "                 product_id  \\\n",
       "0  611bbb365b0bd8698b670d9d   \n",
       "1  61a9c0160dcaf9e1da138df1   \n",
       "\n",
       "                                               title  \\\n",
       "0  Rattan Basket Pet Dome and Animal Bed, with Me...   \n",
       "1  10Pcs 7Pcs 2Pcs 1Pcs Tempered Glass For Iphone...   \n",
       "\n",
       "                                 product_description main_image_url  \\\n",
       "0  Features\\n- Rattan wicker brings a classic sty...            NaN   \n",
       "1  welcome to my store!\\r\\n\\r\\nFeatures:\\r\\nCompa...            NaN   \n",
       "\n",
       "  sample_method  label_ordering  \n",
       "0     only_text             0.0  \n",
       "1     only_text             1.0  "
      ]
     },
     "execution_count": 26,
     "metadata": {},
     "output_type": "execute_result"
    }
   ],
   "source": [
    "df_original.head(2)"
   ]
  },
  {
   "cell_type": "code",
   "execution_count": 27,
   "metadata": {},
   "outputs": [
    {
     "data": {
      "text/plain": [
       "9.746588693957115e-05"
      ]
     },
     "execution_count": 27,
     "metadata": {},
     "output_type": "execute_result"
    }
   ],
   "source": [
    "df_original['label_ordering'].isna().mean()"
   ]
  },
  {
   "cell_type": "code",
   "execution_count": 28,
   "metadata": {},
   "outputs": [],
   "source": [
    "df_original = df_original[~df_original['label_ordering'].isna()]"
   ]
  },
  {
   "cell_type": "code",
   "execution_count": 29,
   "metadata": {},
   "outputs": [],
   "source": [
    "df_original['label_ordering'] = df_original['label_ordering'].astype(int)"
   ]
  },
  {
   "cell_type": "code",
   "execution_count": 30,
   "metadata": {},
   "outputs": [
    {
     "data": {
      "text/plain": [
       "20544"
      ]
     },
     "execution_count": 30,
     "metadata": {},
     "output_type": "execute_result"
    }
   ],
   "source": [
    "len(df)"
   ]
  },
  {
   "cell_type": "code",
   "execution_count": 31,
   "metadata": {},
   "outputs": [],
   "source": [
    "df = df.merge(df_original[['label_ordering', 'title', 'product_description', 'main_image_url', 'category_path', 'product_id', 'sample_method']].rename(columns={\n",
    "    'label_ordering': 'Label Ordering',\n",
    "    'title': 'title_original', \n",
    "    'product_description': 'product_description_original', \n",
    "    'main_image_url': 'main_image_url_original', \n",
    "    'category_path': 'category_path_original', \n",
    "    'product_id': 'product_id_original', \n",
    "    'sample_method': 'sample_method_original'\n",
    "}), on='Label Ordering', how='inner')"
   ]
  },
  {
   "cell_type": "code",
   "execution_count": 32,
   "metadata": {},
   "outputs": [
    {
     "data": {
      "text/plain": [
       "0.07296534267912773"
      ]
     },
     "execution_count": 32,
     "metadata": {},
     "output_type": "execute_result"
    }
   ],
   "source": [
    "(df['Title'] != df['title_original']).mean()"
   ]
  },
  {
   "cell_type": "code",
   "execution_count": 33,
   "metadata": {},
   "outputs": [
    {
     "data": {
      "text/plain": [
       "[{'Title': \"Natural Green Chalcedony Pendant Fashion Jewelry Men and Women's 925 Inlaid Agate Necklace Jewelry Wholesale\",\n",
       "  'title_original': \"Natural Green Chalcedony Pendant Fashion Jewelry Men and Women's 925 Inlaid Agate Necklace Jewelry Wholesale  \"},\n",
       " {'Title': '100g Mineral Stone Attractive Irregular  Practical Purple Natural Stone Faux Amethyst Room Decoration',\n",
       "  'title_original': ' 100g Mineral Stone Attractive Irregular  Practical Purple Natural Stone Faux Amethyst Room Decoration    '}]"
      ]
     },
     "execution_count": 33,
     "metadata": {},
     "output_type": "execute_result"
    }
   ],
   "source": [
    "df[df['Title'] != df['title_original']].sample(2)[['Title', 'title_original']].to_dict('records')"
   ]
  },
  {
   "cell_type": "code",
   "execution_count": 34,
   "metadata": {},
   "outputs": [
    {
     "data": {
      "text/plain": [
       "0.0"
      ]
     },
     "execution_count": 34,
     "metadata": {},
     "output_type": "execute_result"
    }
   ],
   "source": [
    "(df['Product Category'] != df['category_path_original']).mean()"
   ]
  },
  {
   "cell_type": "code",
   "execution_count": 37,
   "metadata": {},
   "outputs": [
    {
     "name": "stderr",
     "output_type": "stream",
     "text": [
      "100%|██████████| 20544/20544 [00:00<00:00, 52972.25it/s]\n"
     ]
    },
    {
     "data": {
      "text/plain": [
       "0.2707359813084112"
      ]
     },
     "execution_count": 37,
     "metadata": {},
     "output_type": "execute_result"
    }
   ],
   "source": [
    "errors = []\n",
    "error_c = 0\n",
    "for i in tqdm(df[['Label Ordering', 'Final Answer', 'Product Category']].to_dict('records')):\n",
    "    for j in eval(i['Final Answer']):\n",
    "        if not j.startswith(i['Product Category']):\n",
    "            error_c += 1\n",
    "            errors.append(i)\n",
    "            break\n",
    "error_c / len(df)"
   ]
  },
  {
   "cell_type": "code",
   "execution_count": 38,
   "metadata": {},
   "outputs": [
    {
     "data": {
      "text/plain": [
       "[{'Label Ordering': 2,\n",
       "  'Final Answer': \"['Home & Garden > Arts, Crafts & Sewing > Apparel Sewing & Fabric > Adhesive Fastener Tape > Materials > Canvas']\",\n",
       "  'Product Category': 'Home & Garden > Arts, Crafts & Sewing > Needle Arts & Crafts > Diamond Painting Cross-Stitch'},\n",
       " {'Label Ordering': 3,\n",
       "  'Final Answer': '[\\'Shoes > Men\\\\\\'s Shoes > Men\\\\\\'s Sandals > Department > Women\"\\']',\n",
       "  'Product Category': \"Shoes > Women's Shoes > Women's Sandals\"}]"
      ]
     },
     "execution_count": 38,
     "metadata": {},
     "output_type": "execute_result"
    }
   ],
   "source": [
    "# product\n",
    "errors[:2]"
   ]
  },
  {
   "cell_type": "code",
   "execution_count": 39,
   "metadata": {},
   "outputs": [
    {
     "data": {
      "text/plain": [
       "[{'Label Ordering': 11558,\n",
       "  'Title': \"ProPlus Chandelles en aluminium pour remorques et caravanes Jusqu\\\\'√É∆í&nbsp; 3600 kg\",\n",
       "  'title_original': \"ProPlus Chandelles en aluminium pour remorques et caravanes Jusqu\\\\'Ã&nbsp; 3600 kg\"},\n",
       " {'Label Ordering': 16425,\n",
       "  'Title': '1 Set  Sand Shovels Non-slip Toilet Cleaning    Cat Supplies',\n",
       "  'title_original': ' 1 Set  Sand Shovels Non-slip Toilet Cleaning    Cat Supplies  '}]"
      ]
     },
     "execution_count": 39,
     "metadata": {},
     "output_type": "execute_result"
    }
   ],
   "source": [
    "df[df['title_original'] != df['Title']][['Label Ordering', 'Title', 'title_original']].sample(2).to_dict('records')"
   ]
  },
  {
   "cell_type": "code",
   "execution_count": null,
   "metadata": {},
   "outputs": [],
   "source": []
  }
 ],
 "metadata": {
  "kernelspec": {
   "display_name": "Python 3",
   "language": "python",
   "name": "python3"
  },
  "language_info": {
   "codemirror_mode": {
    "name": "ipython",
    "version": 3
   },
   "file_extension": ".py",
   "mimetype": "text/x-python",
   "name": "python",
   "nbconvert_exporter": "python",
   "pygments_lexer": "ipython3",
   "version": "3.8.13"
  },
  "orig_nbformat": 4,
  "vscode": {
   "interpreter": {
    "hash": "949777d72b0d2535278d3dc13498b2535136f6dfe0678499012e853ee9abcab1"
   }
  }
 },
 "nbformat": 4,
 "nbformat_minor": 2
}
