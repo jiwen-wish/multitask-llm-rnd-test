{
 "cells": [
  {
   "cell_type": "code",
   "execution_count": 1,
   "metadata": {},
   "outputs": [],
   "source": [
    "import pandas as pd\n",
    "from collections import defaultdict\n",
    "import dvc.api\n",
    "from tqdm import tqdm\n",
    "import numpy as np\n",
    "from functools import reduce"
   ]
  },
  {
   "attachments": {},
   "cell_type": "markdown",
   "metadata": {},
   "source": [
    "# get original data"
   ]
  },
  {
   "cell_type": "code",
   "execution_count": 29,
   "metadata": {},
   "outputs": [],
   "source": [
    "df_original = pd.concat([ \n",
    "    pd.read_csv(dvc.api.get_url('datasets/data/wish_attr_extract_label/appen/input_batch_processed/appen_product_attribution_batch1.csv', \n",
    "        repo='git@github.com:ContextLogic/multitask-llm-rnd.git')), \n",
    "    pd.read_csv(dvc.api.get_url('datasets/data/wish_attr_extract_label/appen/input_batch_processed/appen_product_attribution_batch2_highimpression.csv',\n",
    "        repo='git@github.com:ContextLogic/multitask-llm-rnd.git')), \n",
    "    # pd.read_csv(dvc.api.get_url('datasets/data/wish_attr_extract_label/appen/input_batch_processed/appen_product_attribution_batch2.csv', \n",
    "        # repo='git@github.com:ContextLogic/multitask-llm-rnd.git'))\n",
    "])"
   ]
  },
  {
   "cell_type": "code",
   "execution_count": 31,
   "metadata": {},
   "outputs": [
    {
     "data": {
      "text/plain": [
       "62142"
      ]
     },
     "execution_count": 31,
     "metadata": {},
     "output_type": "execute_result"
    }
   ],
   "source": [
    "len(df_original)"
   ]
  },
  {
   "cell_type": "code",
   "execution_count": 32,
   "metadata": {},
   "outputs": [],
   "source": [
    "df_original = df_original.dropna(subset=['label_ordering'])"
   ]
  },
  {
   "cell_type": "code",
   "execution_count": 33,
   "metadata": {},
   "outputs": [
    {
     "data": {
      "text/plain": [
       "62137"
      ]
     },
     "execution_count": 33,
     "metadata": {},
     "output_type": "execute_result"
    }
   ],
   "source": [
    "len(df_original)"
   ]
  },
  {
   "cell_type": "code",
   "execution_count": 34,
   "metadata": {},
   "outputs": [],
   "source": [
    "df_original['label_ordering'] = df_original['label_ordering'].astype(int)"
   ]
  },
  {
   "attachments": {},
   "cell_type": "markdown",
   "metadata": {},
   "source": [
    "# get attributes"
   ]
  },
  {
   "cell_type": "code",
   "execution_count": 8,
   "metadata": {},
   "outputs": [],
   "source": [
    "df_attributes = pd.read_csv('../attribute_extraction_metadata_template/attribute_definition_top25L2_filtered_augmented_redacted_addedsinglemulti_01182023.csv')\n",
    "\n",
    "df_attributes_group = df_attributes.groupby('attribute_field').agg({\n",
    "    'category_attributevalue': lambda x: reduce(lambda x, y: x+y, [eval(i) for i in x])\n",
    "}).reset_index()"
   ]
  },
  {
   "cell_type": "code",
   "execution_count": 9,
   "metadata": {},
   "outputs": [
    {
     "data": {
      "text/plain": [
       "(230, 516378)"
      ]
     },
     "execution_count": 9,
     "metadata": {},
     "output_type": "execute_result"
    }
   ],
   "source": [
    "len(df_attributes_group), df_attributes_group.category_attributevalue.apply(len).sum()"
   ]
  },
  {
   "cell_type": "code",
   "execution_count": 10,
   "metadata": {},
   "outputs": [],
   "source": [
    "attributes = set(df_attributes_group['attribute_field'])"
   ]
  },
  {
   "cell_type": "code",
   "execution_count": 11,
   "metadata": {},
   "outputs": [],
   "source": [
    "category_paths = set(df_attributes['category'])"
   ]
  },
  {
   "cell_type": "code",
   "execution_count": 12,
   "metadata": {},
   "outputs": [],
   "source": [
    "more_paths = []\n",
    "for i in category_paths:\n",
    "    tmp = []\n",
    "    for j in i.split(' > '):\n",
    "        tmp.append(j)\n",
    "        more_paths.append(' > '.join(tmp))\n",
    "category_paths.update(more_paths)"
   ]
  },
  {
   "attachments": {},
   "cell_type": "markdown",
   "metadata": {},
   "source": [
    "# existing appen data"
   ]
  },
  {
   "cell_type": "code",
   "execution_count": 35,
   "metadata": {},
   "outputs": [],
   "source": [
    "df1 = pd.read_csv('appen/output_batch_correct_v3/product_attribution_till_030923_valid_units.csv')\n",
    "df2 = pd.read_csv('appen/output_batch_correct_v4/f2072154_f2075355_post_03.13.23_cleaned_invalid.csv')\n",
    "df3 = pd.read_csv('appen/output_batch_correct_v4/f2072154_f2075355_post_03.13.23_cleaned_valid-empty units.csv')\n",
    "df4 = pd.read_csv('appen/output_batch_correct_v4/Product Attribution_03.10.23_Batch2_highimpression.csv')\n",
    "df5 = pd.read_csv('appen/output_batch_correct_v4/product_attribution_03.03.23_invalid_units_03.02.23_Rework.csv')"
   ]
  },
  {
   "cell_type": "code",
   "execution_count": 36,
   "metadata": {},
   "outputs": [
    {
     "data": {
      "text/plain": [
       "(38076, 866, 19678, 10808, 419)"
      ]
     },
     "execution_count": 36,
     "metadata": {},
     "output_type": "execute_result"
    }
   ],
   "source": [
    "len(df1), len(df2), len(df3), len(df4), len(df5)"
   ]
  },
  {
   "cell_type": "code",
   "execution_count": 37,
   "metadata": {},
   "outputs": [],
   "source": [
    "df = pd.concat([df1, df2, df3, df4, df5])"
   ]
  },
  {
   "cell_type": "code",
   "execution_count": 38,
   "metadata": {},
   "outputs": [],
   "source": [
    "df_uniq = df.drop_duplicates('label_ordering', keep='first')"
   ]
  },
  {
   "cell_type": "code",
   "execution_count": 39,
   "metadata": {},
   "outputs": [
    {
     "data": {
      "text/plain": [
       "(69847, 54314)"
      ]
     },
     "execution_count": 39,
     "metadata": {},
     "output_type": "execute_result"
    }
   ],
   "source": [
    "len(df), len(df_uniq)"
   ]
  },
  {
   "cell_type": "code",
   "execution_count": 50,
   "metadata": {},
   "outputs": [],
   "source": [
    "df_uniq_merge = df_uniq.merge(df_original[['label_ordering', 'title']].rename(columns={'title': 'title_original2'}), on='label_ordering', how='left')"
   ]
  },
  {
   "cell_type": "code",
   "execution_count": 51,
   "metadata": {},
   "outputs": [
    {
     "data": {
      "text/plain": [
       "54314"
      ]
     },
     "execution_count": 51,
     "metadata": {},
     "output_type": "execute_result"
    }
   ],
   "source": [
    "len(df_uniq_merge)"
   ]
  },
  {
   "cell_type": "code",
   "execution_count": 54,
   "metadata": {},
   "outputs": [
    {
     "data": {
      "text/html": [
       "<div>\n",
       "<style scoped>\n",
       "    .dataframe tbody tr th:only-of-type {\n",
       "        vertical-align: middle;\n",
       "    }\n",
       "\n",
       "    .dataframe tbody tr th {\n",
       "        vertical-align: top;\n",
       "    }\n",
       "\n",
       "    .dataframe thead th {\n",
       "        text-align: right;\n",
       "    }\n",
       "</style>\n",
       "<table border=\"1\" class=\"dataframe\">\n",
       "  <thead>\n",
       "    <tr style=\"text-align: right;\">\n",
       "      <th></th>\n",
       "      <th>label_ordering</th>\n",
       "      <th>sample_method</th>\n",
       "      <th>product_id</th>\n",
       "      <th>title</th>\n",
       "      <th>product_description</th>\n",
       "      <th>main_image_url</th>\n",
       "      <th>product_category</th>\n",
       "      <th>l2_category</th>\n",
       "      <th>rater1_output</th>\n",
       "      <th>rater2_output</th>\n",
       "      <th>rater3_output</th>\n",
       "      <th>rater1_no_attributes</th>\n",
       "      <th>rater1_unlisted_value</th>\n",
       "      <th>rater2_no_attributes</th>\n",
       "      <th>rater2_unlisted_value</th>\n",
       "      <th>rater3_no_attributes</th>\n",
       "      <th>rater3_unlisted_value</th>\n",
       "      <th>title_original</th>\n",
       "      <th>final_output</th>\n",
       "      <th>title_original2</th>\n",
       "    </tr>\n",
       "  </thead>\n",
       "  <tbody>\n",
       "  </tbody>\n",
       "</table>\n",
       "</div>"
      ],
      "text/plain": [
       "Empty DataFrame\n",
       "Columns: [label_ordering, sample_method, product_id, title, product_description, main_image_url, product_category, l2_category, rater1_output, rater2_output, rater3_output, rater1_no_attributes, rater1_unlisted_value, rater2_no_attributes, rater2_unlisted_value, rater3_no_attributes, rater3_unlisted_value, title_original, final_output, title_original2]\n",
       "Index: []"
      ]
     },
     "execution_count": 54,
     "metadata": {},
     "output_type": "execute_result"
    }
   ],
   "source": [
    "df_uniq_merge[df_uniq_merge.title_original2.isna()]"
   ]
  },
  {
   "cell_type": "code",
   "execution_count": 55,
   "metadata": {},
   "outputs": [
    {
     "data": {
      "text/html": [
       "<div>\n",
       "<style scoped>\n",
       "    .dataframe tbody tr th:only-of-type {\n",
       "        vertical-align: middle;\n",
       "    }\n",
       "\n",
       "    .dataframe tbody tr th {\n",
       "        vertical-align: top;\n",
       "    }\n",
       "\n",
       "    .dataframe thead th {\n",
       "        text-align: right;\n",
       "    }\n",
       "</style>\n",
       "<table border=\"1\" class=\"dataframe\">\n",
       "  <thead>\n",
       "    <tr style=\"text-align: right;\">\n",
       "      <th></th>\n",
       "      <th>label_ordering</th>\n",
       "      <th>sample_method</th>\n",
       "      <th>product_id</th>\n",
       "      <th>title</th>\n",
       "      <th>product_description</th>\n",
       "      <th>main_image_url</th>\n",
       "      <th>product_category</th>\n",
       "      <th>l2_category</th>\n",
       "      <th>rater1_output</th>\n",
       "      <th>rater2_output</th>\n",
       "      <th>rater3_output</th>\n",
       "      <th>rater1_no_attributes</th>\n",
       "      <th>rater1_unlisted_value</th>\n",
       "      <th>rater2_no_attributes</th>\n",
       "      <th>rater2_unlisted_value</th>\n",
       "      <th>rater3_no_attributes</th>\n",
       "      <th>rater3_unlisted_value</th>\n",
       "      <th>title_original</th>\n",
       "      <th>final_output</th>\n",
       "      <th>title_original2</th>\n",
       "    </tr>\n",
       "  </thead>\n",
       "  <tbody>\n",
       "    <tr>\n",
       "      <th>46846</th>\n",
       "      <td>162392</td>\n",
       "      <td>text_and_img</td>\n",
       "      <td>5cdd05b52e33a70fe773d613</td>\n",
       "      <td>Lixada Breathable  Fishing Life Vest  209lb Bu...</td>\n",
       "      <td>This fishing Life jacket looks more like an ou...</td>\n",
       "      <td>https://canary.contestimg.wish.com/api/webimag...</td>\n",
       "      <td>Sports &gt; Fishing &gt; Fishing Apparel &gt; Fishing V...</td>\n",
       "      <td>Sports &gt; Fishing</td>\n",
       "      <td>Sports &gt; Fishing &gt; Fishing Apparel &gt; Fishing V...</td>\n",
       "      <td>Sports &gt; Fishing &gt; Fishing Apparel &gt; Fishing V...</td>\n",
       "      <td>Sports &gt; Fishing &gt; Fishing Apparel &gt; Fishing V...</td>\n",
       "      <td>NaN</td>\n",
       "      <td>NaN</td>\n",
       "      <td>NaN</td>\n",
       "      <td>True</td>\n",
       "      <td>NaN</td>\n",
       "      <td>NaN</td>\n",
       "      <td>NaN</td>\n",
       "      <td>NaN</td>\n",
       "      <td>​Lixada Breathable  Fishing Life Vest  209lb B...</td>\n",
       "    </tr>\n",
       "  </tbody>\n",
       "</table>\n",
       "</div>"
      ],
      "text/plain": [
       "       label_ordering sample_method                product_id  \\\n",
       "46846          162392  text_and_img  5cdd05b52e33a70fe773d613   \n",
       "\n",
       "                                                   title  \\\n",
       "46846  Lixada Breathable  Fishing Life Vest  209lb Bu...   \n",
       "\n",
       "                                     product_description  \\\n",
       "46846  This fishing Life jacket looks more like an ou...   \n",
       "\n",
       "                                          main_image_url  \\\n",
       "46846  https://canary.contestimg.wish.com/api/webimag...   \n",
       "\n",
       "                                        product_category        l2_category  \\\n",
       "46846  Sports > Fishing > Fishing Apparel > Fishing V...  Sports > Fishing    \n",
       "\n",
       "                                           rater1_output  \\\n",
       "46846  Sports > Fishing > Fishing Apparel > Fishing V...   \n",
       "\n",
       "                                           rater2_output  \\\n",
       "46846  Sports > Fishing > Fishing Apparel > Fishing V...   \n",
       "\n",
       "                                           rater3_output rater1_no_attributes  \\\n",
       "46846  Sports > Fishing > Fishing Apparel > Fishing V...                  NaN   \n",
       "\n",
       "      rater1_unlisted_value rater2_no_attributes rater2_unlisted_value  \\\n",
       "46846                   NaN                  NaN                  True   \n",
       "\n",
       "      rater3_no_attributes rater3_unlisted_value title_original final_output  \\\n",
       "46846                  NaN                   NaN            NaN          NaN   \n",
       "\n",
       "                                         title_original2  \n",
       "46846  ​Lixada Breathable  Fishing Life Vest  209lb B...  "
      ]
     },
     "execution_count": 55,
     "metadata": {},
     "output_type": "execute_result"
    }
   ],
   "source": [
    "df_uniq_merge[df_uniq_merge['title'].apply(lambda x: x.strip()) != df_uniq_merge['title_original2'].apply(lambda x: x.strip())]"
   ]
  },
  {
   "cell_type": "code",
   "execution_count": 57,
   "metadata": {},
   "outputs": [],
   "source": [
    "df_uniq_merge.loc[df_uniq_merge.title_original.isna(), 'title_original'] = df_uniq_merge.loc[df_uniq_merge.title_original.isna(), 'title_original2']\n",
    "del df_uniq_merge['title_original2']"
   ]
  },
  {
   "cell_type": "code",
   "execution_count": 61,
   "metadata": {},
   "outputs": [],
   "source": [
    "df_uniq_merge['final_output'] = df_uniq_merge['rater1_output'].fillna('') + '\\n' + df_uniq_merge['rater2_output'].fillna('') + '\\n' + \\\n",
    "    df_uniq_merge['rater3_output'].fillna('')"
   ]
  },
  {
   "cell_type": "code",
   "execution_count": 62,
   "metadata": {},
   "outputs": [
    {
     "data": {
      "text/plain": [
       "(69847, 51025, 3289, 2771, 48254, 54314)"
      ]
     },
     "execution_count": 62,
     "metadata": {},
     "output_type": "execute_result"
    }
   ],
   "source": [
    "correct = []\n",
    "errors = []\n",
    "errors_fixed = []\n",
    "nonempty = []\n",
    "empty = []\n",
    "for i in df_uniq_merge.to_dict('records'):\n",
    "    res = [] if ((not isinstance(i['final_output'], str)) and (np.isnan(i['final_output']))) else i['final_output'].split('\\n')\n",
    "    res = sorted(set(res))\n",
    "    res = [i for i in res if len(i) > 0]\n",
    "    if len(res) == 0:\n",
    "        empty.append(i)\n",
    "    is_correct = True\n",
    "    for j in res:\n",
    "        if len(j.split(' > ')) < 2:\n",
    "            i['explanation'] = f\"{j} has no attribute name\"\n",
    "            errors.append(i)\n",
    "            is_correct = False\n",
    "            break\n",
    "        if j.split(' > ')[-2] not in attributes:\n",
    "            i['explanation'] = f\"{j} has invalid attribute name, because {j.split(' > ')[-2]} is not a valid attribute name\"\n",
    "            errors.append(i)\n",
    "            is_correct = False\n",
    "            break\n",
    "    if is_correct:\n",
    "        correct.append(i)\n",
    "        if len(res) > 0:\n",
    "            nonempty.append(i)\n",
    "len(df), len(correct), len(errors), len(empty), len(nonempty), len(correct) + len(errors)"
   ]
  },
  {
   "cell_type": "code",
   "execution_count": 63,
   "metadata": {},
   "outputs": [
    {
     "data": {
      "text/plain": [
       "(0.05430671239588437, 0.9456932876041156, 0.047088636591406934)"
      ]
     },
     "execution_count": 63,
     "metadata": {},
     "output_type": "execute_result"
    }
   ],
   "source": [
    "len(empty) / len(correct), len(nonempty) / len(correct), len(errors) / len(df)"
   ]
  },
  {
   "cell_type": "code",
   "execution_count": 64,
   "metadata": {},
   "outputs": [],
   "source": [
    "df_correct = pd.DataFrame(correct)\n",
    "df_error = pd.DataFrame(errors)"
   ]
  },
  {
   "cell_type": "code",
   "execution_count": 65,
   "metadata": {},
   "outputs": [],
   "source": [
    "df_nonempty = pd.DataFrame(nonempty)\n",
    "df_empty = pd.DataFrame(empty)"
   ]
  },
  {
   "cell_type": "code",
   "execution_count": 66,
   "metadata": {},
   "outputs": [],
   "source": [
    "assert len(df_correct) == len(df_empty) + len(df_nonempty)"
   ]
  },
  {
   "cell_type": "code",
   "execution_count": 68,
   "metadata": {},
   "outputs": [
    {
     "data": {
      "text/plain": [
       "True"
      ]
     },
     "execution_count": 68,
     "metadata": {},
     "output_type": "execute_result"
    }
   ],
   "source": [
    "df_empty.rater3_no_attributes.all()"
   ]
  },
  {
   "cell_type": "code",
   "execution_count": 70,
   "metadata": {},
   "outputs": [
    {
     "data": {
      "text/plain": [
       "(2771, 48254, 3289)"
      ]
     },
     "execution_count": 70,
     "metadata": {},
     "output_type": "execute_result"
    }
   ],
   "source": [
    "len(df_empty), len(df_nonempty), len(df_error)"
   ]
  },
  {
   "cell_type": "code",
   "execution_count": 72,
   "metadata": {},
   "outputs": [],
   "source": [
    "df_nonempty.to_csv('appen/output_batch_correct_v5/product_attribution_till_032423_valid_units.csv', index=False)\n",
    "df_empty.to_csv('appen/output_batch_correct_v5/product_attribution_till_032423_empty_units.csv', index=False)\n",
    "df_error.to_csv('appen/output_batch_correct_v5/product_attribution_till_032423_invalid_units.csv', index=False)"
   ]
  },
  {
   "cell_type": "code",
   "execution_count": 73,
   "metadata": {},
   "outputs": [
    {
     "data": {
      "text/html": [
       "<div>\n",
       "<style scoped>\n",
       "    .dataframe tbody tr th:only-of-type {\n",
       "        vertical-align: middle;\n",
       "    }\n",
       "\n",
       "    .dataframe tbody tr th {\n",
       "        vertical-align: top;\n",
       "    }\n",
       "\n",
       "    .dataframe thead th {\n",
       "        text-align: right;\n",
       "    }\n",
       "</style>\n",
       "<table border=\"1\" class=\"dataframe\">\n",
       "  <thead>\n",
       "    <tr style=\"text-align: right;\">\n",
       "      <th></th>\n",
       "      <th>label_ordering</th>\n",
       "      <th>sample_method</th>\n",
       "      <th>product_id</th>\n",
       "      <th>title</th>\n",
       "      <th>product_description</th>\n",
       "      <th>main_image_url</th>\n",
       "      <th>product_category</th>\n",
       "      <th>l2_category</th>\n",
       "      <th>rater1_output</th>\n",
       "      <th>rater2_output</th>\n",
       "      <th>rater3_output</th>\n",
       "      <th>rater1_no_attributes</th>\n",
       "      <th>rater1_unlisted_value</th>\n",
       "      <th>rater2_no_attributes</th>\n",
       "      <th>rater2_unlisted_value</th>\n",
       "      <th>rater3_no_attributes</th>\n",
       "      <th>rater3_unlisted_value</th>\n",
       "      <th>title_original</th>\n",
       "      <th>final_output</th>\n",
       "    </tr>\n",
       "  </thead>\n",
       "  <tbody>\n",
       "    <tr>\n",
       "      <th>0</th>\n",
       "      <td>7</td>\n",
       "      <td>only_text</td>\n",
       "      <td>610ca538c193826a71e173cc</td>\n",
       "      <td>Kitchen Stainless Steel Multi-purpose Portable...</td>\n",
       "      <td>Description: \\nMaterial:Stainless steel\\nColor...</td>\n",
       "      <td>NaN</td>\n",
       "      <td>Home &amp; Garden &gt; Kitchen,Dining &amp; Bar &gt; Flatwar...</td>\n",
       "      <td>Home &amp; Garden &gt; Kitchen,Dining &amp; Bar</td>\n",
       "      <td>NaN</td>\n",
       "      <td>NaN</td>\n",
       "      <td>NaN</td>\n",
       "      <td>True</td>\n",
       "      <td>NaN</td>\n",
       "      <td>True</td>\n",
       "      <td>NaN</td>\n",
       "      <td>True</td>\n",
       "      <td>NaN</td>\n",
       "      <td>Kitchen Stainless Steel Multi-purpose Portable...</td>\n",
       "      <td>\\n\\n</td>\n",
       "    </tr>\n",
       "  </tbody>\n",
       "</table>\n",
       "</div>"
      ],
      "text/plain": [
       "   label_ordering sample_method                product_id  \\\n",
       "0               7     only_text  610ca538c193826a71e173cc   \n",
       "\n",
       "                                               title  \\\n",
       "0  Kitchen Stainless Steel Multi-purpose Portable...   \n",
       "\n",
       "                                 product_description main_image_url  \\\n",
       "0  Description: \\nMaterial:Stainless steel\\nColor...            NaN   \n",
       "\n",
       "                                    product_category  \\\n",
       "0  Home & Garden > Kitchen,Dining & Bar > Flatwar...   \n",
       "\n",
       "                            l2_category  rater1_output  rater2_output  \\\n",
       "0  Home & Garden > Kitchen,Dining & Bar            NaN            NaN   \n",
       "\n",
       "   rater3_output  rater1_no_attributes  rater1_unlisted_value  \\\n",
       "0            NaN                  True                    NaN   \n",
       "\n",
       "   rater2_no_attributes  rater2_unlisted_value  rater3_no_attributes  \\\n",
       "0                  True                    NaN                  True   \n",
       "\n",
       "   rater3_unlisted_value                                     title_original  \\\n",
       "0                    NaN  Kitchen Stainless Steel Multi-purpose Portable...   \n",
       "\n",
       "  final_output  \n",
       "0         \\n\\n  "
      ]
     },
     "execution_count": 73,
     "metadata": {},
     "output_type": "execute_result"
    }
   ],
   "source": [
    "df_empty.head(1)"
   ]
  },
  {
   "cell_type": "code",
   "execution_count": 74,
   "metadata": {},
   "outputs": [
    {
     "data": {
      "text/html": [
       "<div>\n",
       "<style scoped>\n",
       "    .dataframe tbody tr th:only-of-type {\n",
       "        vertical-align: middle;\n",
       "    }\n",
       "\n",
       "    .dataframe tbody tr th {\n",
       "        vertical-align: top;\n",
       "    }\n",
       "\n",
       "    .dataframe thead th {\n",
       "        text-align: right;\n",
       "    }\n",
       "</style>\n",
       "<table border=\"1\" class=\"dataframe\">\n",
       "  <thead>\n",
       "    <tr style=\"text-align: right;\">\n",
       "      <th></th>\n",
       "      <th>label_ordering</th>\n",
       "      <th>sample_method</th>\n",
       "      <th>product_id</th>\n",
       "      <th>title</th>\n",
       "      <th>product_description</th>\n",
       "      <th>main_image_url</th>\n",
       "      <th>product_category</th>\n",
       "      <th>l2_category</th>\n",
       "      <th>rater1_output</th>\n",
       "      <th>rater2_output</th>\n",
       "      <th>rater3_output</th>\n",
       "      <th>rater1_no_attributes</th>\n",
       "      <th>rater1_unlisted_value</th>\n",
       "      <th>rater2_no_attributes</th>\n",
       "      <th>rater2_unlisted_value</th>\n",
       "      <th>rater3_no_attributes</th>\n",
       "      <th>rater3_unlisted_value</th>\n",
       "      <th>title_original</th>\n",
       "      <th>final_output</th>\n",
       "    </tr>\n",
       "  </thead>\n",
       "  <tbody>\n",
       "    <tr>\n",
       "      <th>0</th>\n",
       "      <td>0</td>\n",
       "      <td>only_text</td>\n",
       "      <td>611bbb365b0bd8698b670d9d</td>\n",
       "      <td>Rattan Basket Pet Dome and Animal Bed, with Me...</td>\n",
       "      <td>Features\\n- Rattan wicker brings a classic sty...</td>\n",
       "      <td>NaN</td>\n",
       "      <td>Home &amp; Garden &gt; Pet Products &gt; Cat Supplies &gt; ...</td>\n",
       "      <td>Home &amp; Garden &gt; Pet Products</td>\n",
       "      <td>NaN</td>\n",
       "      <td>Home &amp; Garden &gt; Pet Products &gt; Cat Supplies &gt; ...</td>\n",
       "      <td>Home &amp; Garden &gt; Pet Products &gt; Cat Supplies &gt; ...</td>\n",
       "      <td>NaN</td>\n",
       "      <td>NaN</td>\n",
       "      <td>NaN</td>\n",
       "      <td>NaN</td>\n",
       "      <td>NaN</td>\n",
       "      <td>NaN</td>\n",
       "      <td>Rattan Basket Pet Dome and Animal Bed, with Me...</td>\n",
       "      <td>\\nHome &amp; Garden &gt; Pet Products &gt; Cat Supplies ...</td>\n",
       "    </tr>\n",
       "  </tbody>\n",
       "</table>\n",
       "</div>"
      ],
      "text/plain": [
       "   label_ordering sample_method                product_id  \\\n",
       "0               0     only_text  611bbb365b0bd8698b670d9d   \n",
       "\n",
       "                                               title  \\\n",
       "0  Rattan Basket Pet Dome and Animal Bed, with Me...   \n",
       "\n",
       "                                 product_description main_image_url  \\\n",
       "0  Features\\n- Rattan wicker brings a classic sty...            NaN   \n",
       "\n",
       "                                    product_category  \\\n",
       "0  Home & Garden > Pet Products > Cat Supplies > ...   \n",
       "\n",
       "                    l2_category rater1_output  \\\n",
       "0  Home & Garden > Pet Products           NaN   \n",
       "\n",
       "                                       rater2_output  \\\n",
       "0  Home & Garden > Pet Products > Cat Supplies > ...   \n",
       "\n",
       "                                       rater3_output rater1_no_attributes  \\\n",
       "0  Home & Garden > Pet Products > Cat Supplies > ...                  NaN   \n",
       "\n",
       "  rater1_unlisted_value rater2_no_attributes rater2_unlisted_value  \\\n",
       "0                   NaN                  NaN                   NaN   \n",
       "\n",
       "  rater3_no_attributes rater3_unlisted_value  \\\n",
       "0                  NaN                   NaN   \n",
       "\n",
       "                                      title_original  \\\n",
       "0  Rattan Basket Pet Dome and Animal Bed, with Me...   \n",
       "\n",
       "                                        final_output  \n",
       "0  \\nHome & Garden > Pet Products > Cat Supplies ...  "
      ]
     },
     "execution_count": 74,
     "metadata": {},
     "output_type": "execute_result"
    }
   ],
   "source": [
    "df_nonempty.head(1)"
   ]
  },
  {
   "cell_type": "code",
   "execution_count": 75,
   "metadata": {},
   "outputs": [
    {
     "data": {
      "text/html": [
       "<div>\n",
       "<style scoped>\n",
       "    .dataframe tbody tr th:only-of-type {\n",
       "        vertical-align: middle;\n",
       "    }\n",
       "\n",
       "    .dataframe tbody tr th {\n",
       "        vertical-align: top;\n",
       "    }\n",
       "\n",
       "    .dataframe thead th {\n",
       "        text-align: right;\n",
       "    }\n",
       "</style>\n",
       "<table border=\"1\" class=\"dataframe\">\n",
       "  <thead>\n",
       "    <tr style=\"text-align: right;\">\n",
       "      <th></th>\n",
       "      <th>label_ordering</th>\n",
       "      <th>sample_method</th>\n",
       "      <th>product_id</th>\n",
       "      <th>title</th>\n",
       "      <th>product_description</th>\n",
       "      <th>main_image_url</th>\n",
       "      <th>product_category</th>\n",
       "      <th>l2_category</th>\n",
       "      <th>rater1_output</th>\n",
       "      <th>rater2_output</th>\n",
       "      <th>rater3_output</th>\n",
       "      <th>rater1_no_attributes</th>\n",
       "      <th>rater1_unlisted_value</th>\n",
       "      <th>rater2_no_attributes</th>\n",
       "      <th>rater2_unlisted_value</th>\n",
       "      <th>rater3_no_attributes</th>\n",
       "      <th>rater3_unlisted_value</th>\n",
       "      <th>title_original</th>\n",
       "      <th>final_output</th>\n",
       "      <th>explanation</th>\n",
       "    </tr>\n",
       "  </thead>\n",
       "  <tbody>\n",
       "    <tr>\n",
       "      <th>0</th>\n",
       "      <td>19</td>\n",
       "      <td>text_and_img</td>\n",
       "      <td>615c3319a6d67def92936931</td>\n",
       "      <td>Retro New Fashion Thick Chain Women Mini Flap ...</td>\n",
       "      <td>&amp;quot;Features\\n\\nColor: as shown\\nSize: The u...</td>\n",
       "      <td>https://canary.contestimg.wish.com/api/webimag...</td>\n",
       "      <td>Luggage &amp; Bags &gt; Women's Bags &gt; Crossbody Bags</td>\n",
       "      <td>Luggage &amp; Bags &gt; Women's Bags</td>\n",
       "      <td>Luggage &amp; Bags &gt; Women's Bags &gt; Crossbody Bags...</td>\n",
       "      <td>Luggage &amp; Bags &gt; Women's Bags\\nLuggage &amp; Bags ...</td>\n",
       "      <td>Luggage &amp; Bags &gt; Women's Bags &gt; Crossbody Bags...</td>\n",
       "      <td>NaN</td>\n",
       "      <td>NaN</td>\n",
       "      <td>NaN</td>\n",
       "      <td>True</td>\n",
       "      <td>NaN</td>\n",
       "      <td>NaN</td>\n",
       "      <td>Retro New Fashion Thick Chain Women Mini Flap ...</td>\n",
       "      <td>Luggage &amp; Bags &gt; Women's Bags &gt; Crossbody Bags...</td>\n",
       "      <td>Luggage &amp; Bags &gt; Women's Bags has invalid attr...</td>\n",
       "    </tr>\n",
       "  </tbody>\n",
       "</table>\n",
       "</div>"
      ],
      "text/plain": [
       "   label_ordering sample_method                product_id  \\\n",
       "0              19  text_and_img  615c3319a6d67def92936931   \n",
       "\n",
       "                                               title  \\\n",
       "0  Retro New Fashion Thick Chain Women Mini Flap ...   \n",
       "\n",
       "                                 product_description  \\\n",
       "0  &quot;Features\\n\\nColor: as shown\\nSize: The u...   \n",
       "\n",
       "                                      main_image_url  \\\n",
       "0  https://canary.contestimg.wish.com/api/webimag...   \n",
       "\n",
       "                                 product_category  \\\n",
       "0  Luggage & Bags > Women's Bags > Crossbody Bags   \n",
       "\n",
       "                     l2_category  \\\n",
       "0  Luggage & Bags > Women's Bags   \n",
       "\n",
       "                                       rater1_output  \\\n",
       "0  Luggage & Bags > Women's Bags > Crossbody Bags...   \n",
       "\n",
       "                                       rater2_output  \\\n",
       "0  Luggage & Bags > Women's Bags\\nLuggage & Bags ...   \n",
       "\n",
       "                                       rater3_output rater1_no_attributes  \\\n",
       "0  Luggage & Bags > Women's Bags > Crossbody Bags...                  NaN   \n",
       "\n",
       "  rater1_unlisted_value rater2_no_attributes rater2_unlisted_value  \\\n",
       "0                   NaN                  NaN                  True   \n",
       "\n",
       "  rater3_no_attributes rater3_unlisted_value  \\\n",
       "0                  NaN                   NaN   \n",
       "\n",
       "                                      title_original  \\\n",
       "0  Retro New Fashion Thick Chain Women Mini Flap ...   \n",
       "\n",
       "                                        final_output  \\\n",
       "0  Luggage & Bags > Women's Bags > Crossbody Bags...   \n",
       "\n",
       "                                         explanation  \n",
       "0  Luggage & Bags > Women's Bags has invalid attr...  "
      ]
     },
     "execution_count": 75,
     "metadata": {},
     "output_type": "execute_result"
    }
   ],
   "source": [
    "df_error.head(1)"
   ]
  },
  {
   "cell_type": "code",
   "execution_count": 78,
   "metadata": {},
   "outputs": [],
   "source": [
    "leftover = set(df_original.label_ordering) - set(df_uniq_merge.label_ordering)\n",
    "df_leftover = df_original[df_original.label_ordering.apply(lambda x: x in leftover)]"
   ]
  },
  {
   "cell_type": "code",
   "execution_count": 81,
   "metadata": {},
   "outputs": [
    {
     "data": {
      "text/plain": [
       "7823"
      ]
     },
     "execution_count": 81,
     "metadata": {},
     "output_type": "execute_result"
    }
   ],
   "source": [
    "len(df_leftover)"
   ]
  },
  {
   "cell_type": "code",
   "execution_count": 80,
   "metadata": {},
   "outputs": [],
   "source": [
    "df_leftover.to_csv('appen/output_batch_correct_v5/product_attribution_missed_032423.csv', index=False)"
   ]
  },
  {
   "cell_type": "code",
   "execution_count": null,
   "metadata": {},
   "outputs": [],
   "source": []
  }
 ],
 "metadata": {
  "kernelspec": {
   "display_name": "Python 3",
   "language": "python",
   "name": "python3"
  },
  "language_info": {
   "codemirror_mode": {
    "name": "ipython",
    "version": 3
   },
   "file_extension": ".py",
   "mimetype": "text/x-python",
   "name": "python",
   "nbconvert_exporter": "python",
   "pygments_lexer": "ipython3",
   "version": "3.8.13"
  },
  "orig_nbformat": 4,
  "vscode": {
   "interpreter": {
    "hash": "949777d72b0d2535278d3dc13498b2535136f6dfe0678499012e853ee9abcab1"
   }
  }
 },
 "nbformat": 4,
 "nbformat_minor": 2
}
