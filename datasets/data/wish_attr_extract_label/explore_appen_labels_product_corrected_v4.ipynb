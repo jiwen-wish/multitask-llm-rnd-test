{
 "cells": [
  {
   "cell_type": "code",
   "execution_count": 1,
   "metadata": {},
   "outputs": [],
   "source": [
    "import pandas as pd\n",
    "from collections import defaultdict\n",
    "import dvc.api\n",
    "from tqdm import tqdm\n",
    "import numpy as np\n",
    "from functools import reduce"
   ]
  },
  {
   "attachments": {},
   "cell_type": "markdown",
   "metadata": {},
   "source": [
    "# get original data"
   ]
  },
  {
   "cell_type": "code",
   "execution_count": 22,
   "metadata": {},
   "outputs": [],
   "source": [
    "df_original = pd.concat([ \n",
    "    pd.read_csv(dvc.api.get_url('datasets/data/wish_attr_extract_label/appen/input_batch_processed/appen_product_attribution_batch1.csv', \n",
    "        repo='git@github.com:ContextLogic/multitask-llm-rnd.git')), \n",
    "    pd.read_csv(dvc.api.get_url('datasets/data/wish_attr_extract_label/appen/input_batch_processed/appen_product_attribution_batch2_highimpression.csv',\n",
    "        repo='git@github.com:ContextLogic/multitask-llm-rnd.git')), \n",
    "    pd.read_csv(dvc.api.get_url('datasets/data/wish_attr_extract_label/appen/input_batch_processed/appen_product_attribution_batch2.csv', \n",
    "        repo='git@github.com:ContextLogic/multitask-llm-rnd.git'))\n",
    "])"
   ]
  },
  {
   "cell_type": "code",
   "execution_count": 23,
   "metadata": {},
   "outputs": [
    {
     "data": {
      "text/plain": [
       "113438"
      ]
     },
     "execution_count": 23,
     "metadata": {},
     "output_type": "execute_result"
    }
   ],
   "source": [
    "len(df_original)"
   ]
  },
  {
   "cell_type": "code",
   "execution_count": 24,
   "metadata": {},
   "outputs": [],
   "source": [
    "df_original = df_original.dropna(subset=['label_ordering'])"
   ]
  },
  {
   "cell_type": "code",
   "execution_count": 25,
   "metadata": {},
   "outputs": [
    {
     "data": {
      "text/plain": [
       "113433"
      ]
     },
     "execution_count": 25,
     "metadata": {},
     "output_type": "execute_result"
    }
   ],
   "source": [
    "len(df_original)"
   ]
  },
  {
   "cell_type": "code",
   "execution_count": 27,
   "metadata": {},
   "outputs": [],
   "source": [
    "df_original['label_ordering'] = df_original['label_ordering'].astype(int)"
   ]
  },
  {
   "attachments": {},
   "cell_type": "markdown",
   "metadata": {},
   "source": [
    "# get attributes"
   ]
  },
  {
   "cell_type": "code",
   "execution_count": 4,
   "metadata": {},
   "outputs": [],
   "source": [
    "df_attributes = pd.read_csv('../attribute_extraction_metadata_template/attribute_definition_top25L2_filtered_augmented_redacted_addedsinglemulti_01182023.csv')\n",
    "\n",
    "df_attributes_group = df_attributes.groupby('attribute_field').agg({\n",
    "    'category_attributevalue': lambda x: reduce(lambda x, y: x+y, [eval(i) for i in x])\n",
    "}).reset_index()"
   ]
  },
  {
   "cell_type": "code",
   "execution_count": 5,
   "metadata": {},
   "outputs": [
    {
     "data": {
      "text/plain": [
       "(230, 516378)"
      ]
     },
     "execution_count": 5,
     "metadata": {},
     "output_type": "execute_result"
    }
   ],
   "source": [
    "len(df_attributes_group), df_attributes_group.category_attributevalue.apply(len).sum()"
   ]
  },
  {
   "cell_type": "code",
   "execution_count": 6,
   "metadata": {},
   "outputs": [],
   "source": [
    "attributes = set(df_attributes_group['attribute_field'])"
   ]
  },
  {
   "cell_type": "code",
   "execution_count": 7,
   "metadata": {},
   "outputs": [],
   "source": [
    "category_paths = set(df_attributes['category'])"
   ]
  },
  {
   "cell_type": "code",
   "execution_count": 8,
   "metadata": {},
   "outputs": [],
   "source": [
    "more_paths = []\n",
    "for i in category_paths:\n",
    "    tmp = []\n",
    "    for j in i.split(' > '):\n",
    "        tmp.append(j)\n",
    "        more_paths.append(' > '.join(tmp))\n",
    "category_paths.update(more_paths)"
   ]
  },
  {
   "attachments": {},
   "cell_type": "markdown",
   "metadata": {},
   "source": [
    "# existing appen data"
   ]
  },
  {
   "cell_type": "code",
   "execution_count": 46,
   "metadata": {},
   "outputs": [],
   "source": [
    "df1 = pd.read_csv('appen/output_batch_correct_v2/product_attribution_02.03.23.csv')\n",
    "df2 = pd.read_csv('appen/output_batch_correct_v2/product_attribution_03.03.23_pending.csv')\n",
    "df3 = pd.read_csv('appen/output_batch_correct_v2/product_attribution_03.03.23_rework.csv')"
   ]
  },
  {
   "cell_type": "code",
   "execution_count": 47,
   "metadata": {},
   "outputs": [],
   "source": [
    "df1 = df1.rename(columns={'Final Answer': 'rater3_output', 'L2_Category': 'l2_category', 'Label_Ordering': 'label_ordering', 'Main_Image_Url': 'main_image_url', \n",
    "    'Product_Category': 'product_category', 'Product_Description': 'product_description', 'Product_Id': 'product_id', 'Rater1_Answer': 'rater1_output', \n",
    "    'Rater2_Answer': 'rater2_output', 'Sample_Method': 'sample_method', 'Title': 'title'\n",
    "})"
   ]
  },
  {
   "cell_type": "code",
   "execution_count": 48,
   "metadata": {},
   "outputs": [
    {
     "data": {
      "text/plain": [
       "({'l2_category',\n",
       "  'label_ordering',\n",
       "  'main_image_url',\n",
       "  'product_category',\n",
       "  'product_description',\n",
       "  'product_id',\n",
       "  'rater1_output',\n",
       "  'rater2_output',\n",
       "  'rater3_output',\n",
       "  'sample_method',\n",
       "  'title'},\n",
       " {'l2_category',\n",
       "  'label_ordering',\n",
       "  'main_image_url',\n",
       "  'product_category',\n",
       "  'product_description',\n",
       "  'product_id',\n",
       "  'rater1_no_attributes',\n",
       "  'rater1_output',\n",
       "  'rater1_unlisted_value',\n",
       "  'rater2_no_attributes',\n",
       "  'rater2_output',\n",
       "  'rater2_unlisted_value',\n",
       "  'rater3_no_attributes',\n",
       "  'rater3_output',\n",
       "  'rater3_unlisted_value',\n",
       "  'sample_method',\n",
       "  'title'},\n",
       " {'l2_category',\n",
       "  'label_ordering',\n",
       "  'main_image_url',\n",
       "  'product_category',\n",
       "  'product_description',\n",
       "  'product_id',\n",
       "  'rater1_no_attributes',\n",
       "  'rater1_output',\n",
       "  'rater1_unlisted_value',\n",
       "  'rater2_no_attributes',\n",
       "  'rater2_output',\n",
       "  'rater2_unlisted_value',\n",
       "  'rater3_no_attributes',\n",
       "  'rater3_output',\n",
       "  'rater3_unlisted_value',\n",
       "  'sample_method',\n",
       "  'title'})"
      ]
     },
     "execution_count": 48,
     "metadata": {},
     "output_type": "execute_result"
    }
   ],
   "source": [
    "set(df1), set(df2), set(df3)"
   ]
  },
  {
   "cell_type": "code",
   "execution_count": 49,
   "metadata": {},
   "outputs": [],
   "source": [
    "df = pd.concat([df1, df2, df3])"
   ]
  },
  {
   "cell_type": "code",
   "execution_count": 50,
   "metadata": {},
   "outputs": [],
   "source": [
    "df_uniq = df.drop_duplicates('label_ordering', keep='last')"
   ]
  },
  {
   "cell_type": "code",
   "execution_count": 51,
   "metadata": {},
   "outputs": [
    {
     "data": {
      "text/plain": [
       "(52160, 51295)"
      ]
     },
     "execution_count": 51,
     "metadata": {},
     "output_type": "execute_result"
    }
   ],
   "source": [
    "len(df), len(df_uniq)"
   ]
  },
  {
   "cell_type": "code",
   "execution_count": 52,
   "metadata": {},
   "outputs": [],
   "source": [
    "df_uniq_merge = df_uniq.merge(df_original[['label_ordering', 'title']].rename(columns={'title': 'title_original'}), on='label_ordering', how='left')"
   ]
  },
  {
   "cell_type": "code",
   "execution_count": 53,
   "metadata": {},
   "outputs": [
    {
     "data": {
      "text/plain": [
       "51295"
      ]
     },
     "execution_count": 53,
     "metadata": {},
     "output_type": "execute_result"
    }
   ],
   "source": [
    "len(df_uniq_merge)"
   ]
  },
  {
   "cell_type": "code",
   "execution_count": 54,
   "metadata": {},
   "outputs": [
    {
     "data": {
      "text/html": [
       "<div>\n",
       "<style scoped>\n",
       "    .dataframe tbody tr th:only-of-type {\n",
       "        vertical-align: middle;\n",
       "    }\n",
       "\n",
       "    .dataframe tbody tr th {\n",
       "        vertical-align: top;\n",
       "    }\n",
       "\n",
       "    .dataframe thead th {\n",
       "        text-align: right;\n",
       "    }\n",
       "</style>\n",
       "<table border=\"1\" class=\"dataframe\">\n",
       "  <thead>\n",
       "    <tr style=\"text-align: right;\">\n",
       "      <th></th>\n",
       "      <th>label_ordering</th>\n",
       "      <th>sample_method</th>\n",
       "      <th>product_id</th>\n",
       "      <th>title</th>\n",
       "      <th>product_description</th>\n",
       "      <th>main_image_url</th>\n",
       "      <th>product_category</th>\n",
       "      <th>l2_category</th>\n",
       "      <th>rater1_output</th>\n",
       "      <th>rater2_output</th>\n",
       "      <th>rater3_output</th>\n",
       "      <th>rater1_no_attributes</th>\n",
       "      <th>rater1_unlisted_value</th>\n",
       "      <th>rater2_no_attributes</th>\n",
       "      <th>rater2_unlisted_value</th>\n",
       "      <th>rater3_no_attributes</th>\n",
       "      <th>rater3_unlisted_value</th>\n",
       "      <th>title_original</th>\n",
       "    </tr>\n",
       "  </thead>\n",
       "  <tbody>\n",
       "  </tbody>\n",
       "</table>\n",
       "</div>"
      ],
      "text/plain": [
       "Empty DataFrame\n",
       "Columns: [label_ordering, sample_method, product_id, title, product_description, main_image_url, product_category, l2_category, rater1_output, rater2_output, rater3_output, rater1_no_attributes, rater1_unlisted_value, rater2_no_attributes, rater2_unlisted_value, rater3_no_attributes, rater3_unlisted_value, title_original]\n",
       "Index: []"
      ]
     },
     "execution_count": 54,
     "metadata": {},
     "output_type": "execute_result"
    }
   ],
   "source": [
    "df_uniq_merge[df_uniq_merge.title_original.isna()]"
   ]
  },
  {
   "cell_type": "code",
   "execution_count": 55,
   "metadata": {},
   "outputs": [
    {
     "data": {
      "text/html": [
       "<div>\n",
       "<style scoped>\n",
       "    .dataframe tbody tr th:only-of-type {\n",
       "        vertical-align: middle;\n",
       "    }\n",
       "\n",
       "    .dataframe tbody tr th {\n",
       "        vertical-align: top;\n",
       "    }\n",
       "\n",
       "    .dataframe thead th {\n",
       "        text-align: right;\n",
       "    }\n",
       "</style>\n",
       "<table border=\"1\" class=\"dataframe\">\n",
       "  <thead>\n",
       "    <tr style=\"text-align: right;\">\n",
       "      <th></th>\n",
       "      <th>label_ordering</th>\n",
       "      <th>sample_method</th>\n",
       "      <th>product_id</th>\n",
       "      <th>title</th>\n",
       "      <th>product_description</th>\n",
       "      <th>main_image_url</th>\n",
       "      <th>product_category</th>\n",
       "      <th>l2_category</th>\n",
       "      <th>rater1_output</th>\n",
       "      <th>rater2_output</th>\n",
       "      <th>rater3_output</th>\n",
       "      <th>rater1_no_attributes</th>\n",
       "      <th>rater1_unlisted_value</th>\n",
       "      <th>rater2_no_attributes</th>\n",
       "      <th>rater2_unlisted_value</th>\n",
       "      <th>rater3_no_attributes</th>\n",
       "      <th>rater3_unlisted_value</th>\n",
       "      <th>title_original</th>\n",
       "    </tr>\n",
       "  </thead>\n",
       "  <tbody>\n",
       "  </tbody>\n",
       "</table>\n",
       "</div>"
      ],
      "text/plain": [
       "Empty DataFrame\n",
       "Columns: [label_ordering, sample_method, product_id, title, product_description, main_image_url, product_category, l2_category, rater1_output, rater2_output, rater3_output, rater1_no_attributes, rater1_unlisted_value, rater2_no_attributes, rater2_unlisted_value, rater3_no_attributes, rater3_unlisted_value, title_original]\n",
       "Index: []"
      ]
     },
     "execution_count": 55,
     "metadata": {},
     "output_type": "execute_result"
    }
   ],
   "source": [
    "df_uniq_merge[df_uniq_merge['title'].apply(lambda x: x.strip()) != df_uniq_merge['title_original'].apply(lambda x: x.strip())]"
   ]
  },
  {
   "cell_type": "code",
   "execution_count": 56,
   "metadata": {},
   "outputs": [],
   "source": [
    "df_uniq_merge['final_output'] = df_uniq_merge['rater1_output'].fillna('') + '\\n' + df_uniq_merge['rater2_output'].fillna('') + '\\n' + \\\n",
    "    df_uniq_merge['rater3_output'].fillna('')"
   ]
  },
  {
   "cell_type": "code",
   "execution_count": 83,
   "metadata": {},
   "outputs": [
    {
     "data": {
      "text/plain": [
       "(52160, 43774, 7521, 5698, 38076, 51295)"
      ]
     },
     "execution_count": 83,
     "metadata": {},
     "output_type": "execute_result"
    }
   ],
   "source": [
    "correct = []\n",
    "errors = []\n",
    "nonempty = []\n",
    "empty = []\n",
    "for i in df_uniq_merge.to_dict('records'):\n",
    "    res = [] if ((not isinstance(i['final_output'], str)) and (np.isnan(i['final_output']))) else i['final_output'].split('\\n')\n",
    "    res = sorted(set(res))\n",
    "    res = [i for i in res if len(i) > 0]\n",
    "    if len(res) == 0:\n",
    "        empty.append(i)\n",
    "    is_correct = True\n",
    "    for j in res:\n",
    "        if len(j.split(' > ')) < 2:\n",
    "            i['explanation'] = f\"{j} has no attribute name\"\n",
    "            errors.append(i)\n",
    "            is_correct = False\n",
    "            break\n",
    "        if j.split(' > ')[-2] not in attributes:\n",
    "            i['explanation'] = f\"{j} has invalid attribute name, because {j.split(' > ')[-2]} is not a valid attribute name\"\n",
    "            errors.append(i)\n",
    "            is_correct = False\n",
    "            break\n",
    "    if is_correct:\n",
    "        correct.append(i)\n",
    "        if len(res) > 0:\n",
    "            nonempty.append(i)\n",
    "len(df), len(correct), len(errors), len(empty), len(nonempty), len(correct) + len(errors)"
   ]
  },
  {
   "cell_type": "code",
   "execution_count": 85,
   "metadata": {},
   "outputs": [
    {
     "data": {
      "text/plain": [
       "(0.13016859322885732, 0.8698314067711427, 0.1441909509202454)"
      ]
     },
     "execution_count": 85,
     "metadata": {},
     "output_type": "execute_result"
    }
   ],
   "source": [
    "len(empty) / len(correct), len(nonempty) / len(correct), len(errors) / len(df)"
   ]
  },
  {
   "cell_type": "code",
   "execution_count": 86,
   "metadata": {},
   "outputs": [],
   "source": [
    "df_correct = pd.DataFrame(correct)\n",
    "df_error = pd.DataFrame(errors)"
   ]
  },
  {
   "cell_type": "code",
   "execution_count": 87,
   "metadata": {},
   "outputs": [],
   "source": [
    "df_nonempty = pd.DataFrame(nonempty)\n",
    "df_empty = pd.DataFrame(empty)"
   ]
  },
  {
   "cell_type": "code",
   "execution_count": 88,
   "metadata": {},
   "outputs": [],
   "source": [
    "assert len(df_correct) == len(df_empty) + len(df_nonempty)"
   ]
  },
  {
   "cell_type": "code",
   "execution_count": 92,
   "metadata": {},
   "outputs": [],
   "source": [
    "del df_empty['final_output']"
   ]
  },
  {
   "cell_type": "code",
   "execution_count": 95,
   "metadata": {},
   "outputs": [],
   "source": [
    "del df_error['final_output']"
   ]
  },
  {
   "cell_type": "code",
   "execution_count": 96,
   "metadata": {},
   "outputs": [
    {
     "data": {
      "text/plain": [
       "(5698, 38076, 7521)"
      ]
     },
     "execution_count": 96,
     "metadata": {},
     "output_type": "execute_result"
    }
   ],
   "source": [
    "len(df_empty), len(df_nonempty), len(df_error)"
   ]
  },
  {
   "cell_type": "code",
   "execution_count": 100,
   "metadata": {},
   "outputs": [],
   "source": [
    "df_empty['explanation'] = 'Obvious attribute name value pairs are being missed. Such recall problem during annotation would corrupt models trained on it. Thus leading to invalid model.'"
   ]
  },
  {
   "cell_type": "code",
   "execution_count": 102,
   "metadata": {},
   "outputs": [],
   "source": [
    "df_nonempty.to_csv('appen/output_batch_correct_v3/product_attribution_till_030923_valid_units.csv', index=False)\n",
    "df_empty.to_csv('appen/output_batch_correct_v3/product_attribution_till_030923_empty_units.csv', index=False)\n",
    "df_error.to_csv('appen/output_batch_correct_v3/product_attribution_till_030923_invalid_units.csv', index=False)"
   ]
  },
  {
   "cell_type": "code",
   "execution_count": 103,
   "metadata": {},
   "outputs": [
    {
     "data": {
      "text/html": [
       "<div>\n",
       "<style scoped>\n",
       "    .dataframe tbody tr th:only-of-type {\n",
       "        vertical-align: middle;\n",
       "    }\n",
       "\n",
       "    .dataframe tbody tr th {\n",
       "        vertical-align: top;\n",
       "    }\n",
       "\n",
       "    .dataframe thead th {\n",
       "        text-align: right;\n",
       "    }\n",
       "</style>\n",
       "<table border=\"1\" class=\"dataframe\">\n",
       "  <thead>\n",
       "    <tr style=\"text-align: right;\">\n",
       "      <th></th>\n",
       "      <th>label_ordering</th>\n",
       "      <th>sample_method</th>\n",
       "      <th>product_id</th>\n",
       "      <th>title</th>\n",
       "      <th>product_description</th>\n",
       "      <th>main_image_url</th>\n",
       "      <th>product_category</th>\n",
       "      <th>l2_category</th>\n",
       "      <th>rater1_output</th>\n",
       "      <th>rater2_output</th>\n",
       "      <th>rater3_output</th>\n",
       "      <th>rater1_no_attributes</th>\n",
       "      <th>rater1_unlisted_value</th>\n",
       "      <th>rater2_no_attributes</th>\n",
       "      <th>rater2_unlisted_value</th>\n",
       "      <th>rater3_no_attributes</th>\n",
       "      <th>rater3_unlisted_value</th>\n",
       "      <th>title_original</th>\n",
       "      <th>explanation</th>\n",
       "    </tr>\n",
       "  </thead>\n",
       "  <tbody>\n",
       "    <tr>\n",
       "      <th>0</th>\n",
       "      <td>7</td>\n",
       "      <td>only_text</td>\n",
       "      <td>610ca538c193826a71e173cc</td>\n",
       "      <td>Kitchen Stainless Steel Multi-purpose Portable...</td>\n",
       "      <td>Description: \\nMaterial:Stainless steel\\nColor...</td>\n",
       "      <td>NaN</td>\n",
       "      <td>Home &amp; Garden &gt; Kitchen,Dining &amp; Bar &gt; Flatwar...</td>\n",
       "      <td>Home &amp; Garden &gt; Kitchen,Dining &amp; Bar</td>\n",
       "      <td>NaN</td>\n",
       "      <td>NaN</td>\n",
       "      <td>NaN</td>\n",
       "      <td>NaN</td>\n",
       "      <td>NaN</td>\n",
       "      <td>NaN</td>\n",
       "      <td>NaN</td>\n",
       "      <td>NaN</td>\n",
       "      <td>NaN</td>\n",
       "      <td>Kitchen Stainless Steel Multi-purpose Portable...</td>\n",
       "      <td>Obvious attribute name value pairs are being m...</td>\n",
       "    </tr>\n",
       "  </tbody>\n",
       "</table>\n",
       "</div>"
      ],
      "text/plain": [
       "   label_ordering sample_method                product_id  \\\n",
       "0               7     only_text  610ca538c193826a71e173cc   \n",
       "\n",
       "                                               title  \\\n",
       "0  Kitchen Stainless Steel Multi-purpose Portable...   \n",
       "\n",
       "                                 product_description main_image_url  \\\n",
       "0  Description: \\nMaterial:Stainless steel\\nColor...            NaN   \n",
       "\n",
       "                                    product_category  \\\n",
       "0  Home & Garden > Kitchen,Dining & Bar > Flatwar...   \n",
       "\n",
       "                            l2_category  rater1_output  rater2_output  \\\n",
       "0  Home & Garden > Kitchen,Dining & Bar            NaN            NaN   \n",
       "\n",
       "   rater3_output rater1_no_attributes rater1_unlisted_value  \\\n",
       "0            NaN                  NaN                   NaN   \n",
       "\n",
       "  rater2_no_attributes rater2_unlisted_value rater3_no_attributes  \\\n",
       "0                  NaN                   NaN                  NaN   \n",
       "\n",
       "   rater3_unlisted_value                                     title_original  \\\n",
       "0                    NaN  Kitchen Stainless Steel Multi-purpose Portable...   \n",
       "\n",
       "                                         explanation  \n",
       "0  Obvious attribute name value pairs are being m...  "
      ]
     },
     "execution_count": 103,
     "metadata": {},
     "output_type": "execute_result"
    }
   ],
   "source": [
    "df_empty.head(1)"
   ]
  },
  {
   "cell_type": "code",
   "execution_count": 104,
   "metadata": {},
   "outputs": [
    {
     "data": {
      "text/html": [
       "<div>\n",
       "<style scoped>\n",
       "    .dataframe tbody tr th:only-of-type {\n",
       "        vertical-align: middle;\n",
       "    }\n",
       "\n",
       "    .dataframe tbody tr th {\n",
       "        vertical-align: top;\n",
       "    }\n",
       "\n",
       "    .dataframe thead th {\n",
       "        text-align: right;\n",
       "    }\n",
       "</style>\n",
       "<table border=\"1\" class=\"dataframe\">\n",
       "  <thead>\n",
       "    <tr style=\"text-align: right;\">\n",
       "      <th></th>\n",
       "      <th>label_ordering</th>\n",
       "      <th>sample_method</th>\n",
       "      <th>product_id</th>\n",
       "      <th>title</th>\n",
       "      <th>product_description</th>\n",
       "      <th>main_image_url</th>\n",
       "      <th>product_category</th>\n",
       "      <th>l2_category</th>\n",
       "      <th>rater1_output</th>\n",
       "      <th>rater2_output</th>\n",
       "      <th>rater3_output</th>\n",
       "      <th>rater1_no_attributes</th>\n",
       "      <th>rater1_unlisted_value</th>\n",
       "      <th>rater2_no_attributes</th>\n",
       "      <th>rater2_unlisted_value</th>\n",
       "      <th>rater3_no_attributes</th>\n",
       "      <th>rater3_unlisted_value</th>\n",
       "      <th>title_original</th>\n",
       "      <th>final_output</th>\n",
       "    </tr>\n",
       "  </thead>\n",
       "  <tbody>\n",
       "    <tr>\n",
       "      <th>0</th>\n",
       "      <td>0</td>\n",
       "      <td>only_text</td>\n",
       "      <td>611bbb365b0bd8698b670d9d</td>\n",
       "      <td>Rattan Basket Pet Dome and Animal Bed, with Me...</td>\n",
       "      <td>Features\\n- Rattan wicker brings a classic sty...</td>\n",
       "      <td>NaN</td>\n",
       "      <td>Home &amp; Garden &gt; Pet Products &gt; Cat Supplies &gt; ...</td>\n",
       "      <td>Home &amp; Garden &gt; Pet Products</td>\n",
       "      <td>NaN</td>\n",
       "      <td>Home &amp; Garden &gt; Pet Products &gt; Cat Supplies &gt; ...</td>\n",
       "      <td>Home &amp; Garden &gt; Pet Products &gt; Cat Supplies &gt; ...</td>\n",
       "      <td>NaN</td>\n",
       "      <td>NaN</td>\n",
       "      <td>NaN</td>\n",
       "      <td>NaN</td>\n",
       "      <td>NaN</td>\n",
       "      <td>NaN</td>\n",
       "      <td>Rattan Basket Pet Dome and Animal Bed, with Me...</td>\n",
       "      <td>\\nHome &amp; Garden &gt; Pet Products &gt; Cat Supplies ...</td>\n",
       "    </tr>\n",
       "  </tbody>\n",
       "</table>\n",
       "</div>"
      ],
      "text/plain": [
       "   label_ordering sample_method                product_id  \\\n",
       "0               0     only_text  611bbb365b0bd8698b670d9d   \n",
       "\n",
       "                                               title  \\\n",
       "0  Rattan Basket Pet Dome and Animal Bed, with Me...   \n",
       "\n",
       "                                 product_description main_image_url  \\\n",
       "0  Features\\n- Rattan wicker brings a classic sty...            NaN   \n",
       "\n",
       "                                    product_category  \\\n",
       "0  Home & Garden > Pet Products > Cat Supplies > ...   \n",
       "\n",
       "                    l2_category rater1_output  \\\n",
       "0  Home & Garden > Pet Products           NaN   \n",
       "\n",
       "                                       rater2_output  \\\n",
       "0  Home & Garden > Pet Products > Cat Supplies > ...   \n",
       "\n",
       "                                       rater3_output rater1_no_attributes  \\\n",
       "0  Home & Garden > Pet Products > Cat Supplies > ...                  NaN   \n",
       "\n",
       "  rater1_unlisted_value rater2_no_attributes rater2_unlisted_value  \\\n",
       "0                   NaN                  NaN                   NaN   \n",
       "\n",
       "  rater3_no_attributes rater3_unlisted_value  \\\n",
       "0                  NaN                   NaN   \n",
       "\n",
       "                                      title_original  \\\n",
       "0  Rattan Basket Pet Dome and Animal Bed, with Me...   \n",
       "\n",
       "                                        final_output  \n",
       "0  \\nHome & Garden > Pet Products > Cat Supplies ...  "
      ]
     },
     "execution_count": 104,
     "metadata": {},
     "output_type": "execute_result"
    }
   ],
   "source": [
    "df_nonempty.head(1)"
   ]
  },
  {
   "cell_type": "code",
   "execution_count": 105,
   "metadata": {},
   "outputs": [
    {
     "data": {
      "text/html": [
       "<div>\n",
       "<style scoped>\n",
       "    .dataframe tbody tr th:only-of-type {\n",
       "        vertical-align: middle;\n",
       "    }\n",
       "\n",
       "    .dataframe tbody tr th {\n",
       "        vertical-align: top;\n",
       "    }\n",
       "\n",
       "    .dataframe thead th {\n",
       "        text-align: right;\n",
       "    }\n",
       "</style>\n",
       "<table border=\"1\" class=\"dataframe\">\n",
       "  <thead>\n",
       "    <tr style=\"text-align: right;\">\n",
       "      <th></th>\n",
       "      <th>label_ordering</th>\n",
       "      <th>sample_method</th>\n",
       "      <th>product_id</th>\n",
       "      <th>title</th>\n",
       "      <th>product_description</th>\n",
       "      <th>main_image_url</th>\n",
       "      <th>product_category</th>\n",
       "      <th>l2_category</th>\n",
       "      <th>rater1_output</th>\n",
       "      <th>rater2_output</th>\n",
       "      <th>rater3_output</th>\n",
       "      <th>rater1_no_attributes</th>\n",
       "      <th>rater1_unlisted_value</th>\n",
       "      <th>rater2_no_attributes</th>\n",
       "      <th>rater2_unlisted_value</th>\n",
       "      <th>rater3_no_attributes</th>\n",
       "      <th>rater3_unlisted_value</th>\n",
       "      <th>title_original</th>\n",
       "      <th>explanation</th>\n",
       "    </tr>\n",
       "  </thead>\n",
       "  <tbody>\n",
       "    <tr>\n",
       "      <th>0</th>\n",
       "      <td>26</td>\n",
       "      <td>only_text</td>\n",
       "      <td>6008655ca011de66ae27e889</td>\n",
       "      <td>New Fashion Hannah Rose Dinner Cloth Napkin 20...</td>\n",
       "      <td>Materials:100% Polyester,Colorful and Comforta...</td>\n",
       "      <td>NaN</td>\n",
       "      <td>Home &amp; Garden &gt; Home Textile &gt; Table &amp; Sofa Li...</td>\n",
       "      <td>Home &amp; Garden &gt; Home Textile</td>\n",
       "      <td>Home &amp; Garden &gt; Home Textile &gt; Table &amp; Sofa Li...</td>\n",
       "      <td>Home &amp; Garden &gt; Home Textile &gt; Table &amp; Sofa Li...</td>\n",
       "      <td>Home &amp; Garden &gt; Home Textile &gt; Table &amp; Sofa Li...</td>\n",
       "      <td>NaN</td>\n",
       "      <td>NaN</td>\n",
       "      <td>NaN</td>\n",
       "      <td>NaN</td>\n",
       "      <td>NaN</td>\n",
       "      <td>NaN</td>\n",
       "      <td>New Fashion Hannah Rose Dinner Cloth Napkin 20...</td>\n",
       "      <td>Home &amp; Garden &gt; Home Textile &gt; Table &amp; Sofa Li...</td>\n",
       "    </tr>\n",
       "  </tbody>\n",
       "</table>\n",
       "</div>"
      ],
      "text/plain": [
       "   label_ordering sample_method                product_id  \\\n",
       "0              26     only_text  6008655ca011de66ae27e889   \n",
       "\n",
       "                                               title  \\\n",
       "0  New Fashion Hannah Rose Dinner Cloth Napkin 20...   \n",
       "\n",
       "                                 product_description main_image_url  \\\n",
       "0  Materials:100% Polyester,Colorful and Comforta...            NaN   \n",
       "\n",
       "                                    product_category  \\\n",
       "0  Home & Garden > Home Textile > Table & Sofa Li...   \n",
       "\n",
       "                    l2_category  \\\n",
       "0  Home & Garden > Home Textile   \n",
       "\n",
       "                                       rater1_output  \\\n",
       "0  Home & Garden > Home Textile > Table & Sofa Li...   \n",
       "\n",
       "                                       rater2_output  \\\n",
       "0  Home & Garden > Home Textile > Table & Sofa Li...   \n",
       "\n",
       "                                       rater3_output rater1_no_attributes  \\\n",
       "0  Home & Garden > Home Textile > Table & Sofa Li...                  NaN   \n",
       "\n",
       "  rater1_unlisted_value rater2_no_attributes rater2_unlisted_value  \\\n",
       "0                   NaN                  NaN                   NaN   \n",
       "\n",
       "  rater3_no_attributes rater3_unlisted_value  \\\n",
       "0                  NaN                   NaN   \n",
       "\n",
       "                                      title_original  \\\n",
       "0  New Fashion Hannah Rose Dinner Cloth Napkin 20...   \n",
       "\n",
       "                                         explanation  \n",
       "0  Home & Garden > Home Textile > Table & Sofa Li...  "
      ]
     },
     "execution_count": 105,
     "metadata": {},
     "output_type": "execute_result"
    }
   ],
   "source": [
    "df_error.head(1)"
   ]
  },
  {
   "cell_type": "code",
   "execution_count": null,
   "metadata": {},
   "outputs": [],
   "source": []
  }
 ],
 "metadata": {
  "kernelspec": {
   "display_name": "Python 3",
   "language": "python",
   "name": "python3"
  },
  "language_info": {
   "codemirror_mode": {
    "name": "ipython",
    "version": 3
   },
   "file_extension": ".py",
   "mimetype": "text/x-python",
   "name": "python",
   "nbconvert_exporter": "python",
   "pygments_lexer": "ipython3",
   "version": "3.8.13 (default, Aug 23 2022, 09:35:56) \n[GCC 10.2.1 20210110]"
  },
  "orig_nbformat": 4,
  "vscode": {
   "interpreter": {
    "hash": "949777d72b0d2535278d3dc13498b2535136f6dfe0678499012e853ee9abcab1"
   }
  }
 },
 "nbformat": 4,
 "nbformat_minor": 2
}
