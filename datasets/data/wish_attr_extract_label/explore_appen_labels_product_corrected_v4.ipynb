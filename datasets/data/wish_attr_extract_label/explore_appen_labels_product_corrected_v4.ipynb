{
 "cells": [
  {
   "cell_type": "code",
   "execution_count": 2,
   "metadata": {},
   "outputs": [],
   "source": [
    "import pandas as pd\n",
    "from collections import defaultdict\n",
    "import dvc.api\n",
    "from tqdm import tqdm\n",
    "import numpy as np\n",
    "from functools import reduce"
   ]
  },
  {
   "attachments": {},
   "cell_type": "markdown",
   "metadata": {},
   "source": [
    "# get original data"
   ]
  },
  {
   "cell_type": "code",
   "execution_count": 3,
   "metadata": {},
   "outputs": [],
   "source": [
    "df_original = pd.concat([ \n",
    "    pd.read_csv(dvc.api.get_url('datasets/data/wish_attr_extract_label/appen/input_batch_processed/appen_product_attribution_batch1.csv', \n",
    "        repo='git@github.com:ContextLogic/multitask-llm-rnd.git')), \n",
    "    pd.read_csv(dvc.api.get_url('datasets/data/wish_attr_extract_label/appen/input_batch_processed/appen_product_attribution_batch2_highimpression.csv',\n",
    "        repo='git@github.com:ContextLogic/multitask-llm-rnd.git')), \n",
    "    # pd.read_csv(dvc.api.get_url('datasets/data/wish_attr_extract_label/appen/input_batch_processed/appen_product_attribution_batch2.csv', \n",
    "        # repo='git@github.com:ContextLogic/multitask-llm-rnd.git'))\n",
    "])"
   ]
  },
  {
   "cell_type": "code",
   "execution_count": 4,
   "metadata": {},
   "outputs": [
    {
     "data": {
      "text/plain": [
       "62142"
      ]
     },
     "execution_count": 4,
     "metadata": {},
     "output_type": "execute_result"
    }
   ],
   "source": [
    "len(df_original)"
   ]
  },
  {
   "cell_type": "code",
   "execution_count": 5,
   "metadata": {},
   "outputs": [],
   "source": [
    "df_original = df_original.dropna(subset=['label_ordering'])"
   ]
  },
  {
   "cell_type": "code",
   "execution_count": 6,
   "metadata": {},
   "outputs": [
    {
     "data": {
      "text/plain": [
       "62137"
      ]
     },
     "execution_count": 6,
     "metadata": {},
     "output_type": "execute_result"
    }
   ],
   "source": [
    "len(df_original)"
   ]
  },
  {
   "cell_type": "code",
   "execution_count": 7,
   "metadata": {},
   "outputs": [],
   "source": [
    "df_original['label_ordering'] = df_original['label_ordering'].astype(int)"
   ]
  },
  {
   "attachments": {},
   "cell_type": "markdown",
   "metadata": {},
   "source": [
    "# get attributes"
   ]
  },
  {
   "cell_type": "code",
   "execution_count": 8,
   "metadata": {},
   "outputs": [],
   "source": [
    "df_attributes = pd.read_csv('../attribute_extraction_metadata_template/attribute_definition_top25L2_filtered_augmented_redacted_addedsinglemulti_01182023.csv')\n",
    "\n",
    "df_attributes_group = df_attributes.groupby('attribute_field').agg({\n",
    "    'category_attributevalue': lambda x: reduce(lambda x, y: x+y, [eval(i) for i in x])\n",
    "}).reset_index()"
   ]
  },
  {
   "cell_type": "code",
   "execution_count": 9,
   "metadata": {},
   "outputs": [
    {
     "data": {
      "text/plain": [
       "(230, 516378)"
      ]
     },
     "execution_count": 9,
     "metadata": {},
     "output_type": "execute_result"
    }
   ],
   "source": [
    "len(df_attributes_group), df_attributes_group.category_attributevalue.apply(len).sum()"
   ]
  },
  {
   "cell_type": "code",
   "execution_count": 10,
   "metadata": {},
   "outputs": [],
   "source": [
    "attributes = set(df_attributes_group['attribute_field'])"
   ]
  },
  {
   "cell_type": "code",
   "execution_count": 11,
   "metadata": {},
   "outputs": [],
   "source": [
    "category_paths = set(df_attributes['category'])"
   ]
  },
  {
   "cell_type": "code",
   "execution_count": 12,
   "metadata": {},
   "outputs": [],
   "source": [
    "more_paths = []\n",
    "for i in category_paths:\n",
    "    tmp = []\n",
    "    for j in i.split(' > '):\n",
    "        tmp.append(j)\n",
    "        more_paths.append(' > '.join(tmp))\n",
    "category_paths.update(more_paths)"
   ]
  },
  {
   "attachments": {},
   "cell_type": "markdown",
   "metadata": {},
   "source": [
    "# existing appen data"
   ]
  },
  {
   "cell_type": "code",
   "execution_count": 13,
   "metadata": {},
   "outputs": [],
   "source": [
    "df1 = pd.read_csv('appen/output_batch_correct_v3/product_attribution_till_030923_valid_units.csv')\n",
    "df2 = pd.read_csv('appen/output_batch_correct_v4/f2072154_f2075355_post_03.13.23_cleaned_invalid.csv')\n",
    "df3 = pd.read_csv('appen/output_batch_correct_v4/f2072154_f2075355_post_03.13.23_cleaned_valid-empty units.csv')\n",
    "df4 = pd.read_csv('appen/output_batch_correct_v4/Product Attribution_03.10.23_Batch2_highimpression.csv')\n",
    "df5 = pd.read_csv('appen/output_batch_correct_v4/product_attribution_03.03.23_invalid_units_03.02.23_Rework.csv')"
   ]
  },
  {
   "cell_type": "code",
   "execution_count": 14,
   "metadata": {},
   "outputs": [
    {
     "data": {
      "text/plain": [
       "(38076, 866, 19678, 10808, 419)"
      ]
     },
     "execution_count": 14,
     "metadata": {},
     "output_type": "execute_result"
    }
   ],
   "source": [
    "len(df1), len(df2), len(df3), len(df4), len(df5)"
   ]
  },
  {
   "cell_type": "code",
   "execution_count": 15,
   "metadata": {},
   "outputs": [],
   "source": [
    "df = pd.concat([df1, df2, df3, df4, df5])"
   ]
  },
  {
   "cell_type": "code",
   "execution_count": 16,
   "metadata": {},
   "outputs": [],
   "source": [
    "df_uniq = df.drop_duplicates('label_ordering', keep='first')"
   ]
  },
  {
   "cell_type": "code",
   "execution_count": 17,
   "metadata": {},
   "outputs": [
    {
     "data": {
      "text/plain": [
       "(69847, 54314)"
      ]
     },
     "execution_count": 17,
     "metadata": {},
     "output_type": "execute_result"
    }
   ],
   "source": [
    "len(df), len(df_uniq)"
   ]
  },
  {
   "cell_type": "code",
   "execution_count": 18,
   "metadata": {},
   "outputs": [],
   "source": [
    "df_uniq_merge = df_uniq.merge(df_original[['label_ordering', 'title']].rename(columns={'title': 'title_original2'}), on='label_ordering', how='left')"
   ]
  },
  {
   "cell_type": "code",
   "execution_count": 19,
   "metadata": {},
   "outputs": [
    {
     "data": {
      "text/plain": [
       "54314"
      ]
     },
     "execution_count": 19,
     "metadata": {},
     "output_type": "execute_result"
    }
   ],
   "source": [
    "len(df_uniq_merge)"
   ]
  },
  {
   "cell_type": "code",
   "execution_count": 20,
   "metadata": {},
   "outputs": [
    {
     "data": {
      "text/html": [
       "<div>\n",
       "<style scoped>\n",
       "    .dataframe tbody tr th:only-of-type {\n",
       "        vertical-align: middle;\n",
       "    }\n",
       "\n",
       "    .dataframe tbody tr th {\n",
       "        vertical-align: top;\n",
       "    }\n",
       "\n",
       "    .dataframe thead th {\n",
       "        text-align: right;\n",
       "    }\n",
       "</style>\n",
       "<table border=\"1\" class=\"dataframe\">\n",
       "  <thead>\n",
       "    <tr style=\"text-align: right;\">\n",
       "      <th></th>\n",
       "      <th>label_ordering</th>\n",
       "      <th>sample_method</th>\n",
       "      <th>product_id</th>\n",
       "      <th>title</th>\n",
       "      <th>product_description</th>\n",
       "      <th>main_image_url</th>\n",
       "      <th>product_category</th>\n",
       "      <th>l2_category</th>\n",
       "      <th>rater1_output</th>\n",
       "      <th>rater2_output</th>\n",
       "      <th>rater3_output</th>\n",
       "      <th>rater1_no_attributes</th>\n",
       "      <th>rater1_unlisted_value</th>\n",
       "      <th>rater2_no_attributes</th>\n",
       "      <th>rater2_unlisted_value</th>\n",
       "      <th>rater3_no_attributes</th>\n",
       "      <th>rater3_unlisted_value</th>\n",
       "      <th>title_original</th>\n",
       "      <th>final_output</th>\n",
       "      <th>title_original2</th>\n",
       "    </tr>\n",
       "  </thead>\n",
       "  <tbody>\n",
       "  </tbody>\n",
       "</table>\n",
       "</div>"
      ],
      "text/plain": [
       "Empty DataFrame\n",
       "Columns: [label_ordering, sample_method, product_id, title, product_description, main_image_url, product_category, l2_category, rater1_output, rater2_output, rater3_output, rater1_no_attributes, rater1_unlisted_value, rater2_no_attributes, rater2_unlisted_value, rater3_no_attributes, rater3_unlisted_value, title_original, final_output, title_original2]\n",
       "Index: []"
      ]
     },
     "execution_count": 20,
     "metadata": {},
     "output_type": "execute_result"
    }
   ],
   "source": [
    "df_uniq_merge[df_uniq_merge.title_original2.isna()]"
   ]
  },
  {
   "cell_type": "code",
   "execution_count": 21,
   "metadata": {},
   "outputs": [
    {
     "data": {
      "text/html": [
       "<div>\n",
       "<style scoped>\n",
       "    .dataframe tbody tr th:only-of-type {\n",
       "        vertical-align: middle;\n",
       "    }\n",
       "\n",
       "    .dataframe tbody tr th {\n",
       "        vertical-align: top;\n",
       "    }\n",
       "\n",
       "    .dataframe thead th {\n",
       "        text-align: right;\n",
       "    }\n",
       "</style>\n",
       "<table border=\"1\" class=\"dataframe\">\n",
       "  <thead>\n",
       "    <tr style=\"text-align: right;\">\n",
       "      <th></th>\n",
       "      <th>label_ordering</th>\n",
       "      <th>sample_method</th>\n",
       "      <th>product_id</th>\n",
       "      <th>title</th>\n",
       "      <th>product_description</th>\n",
       "      <th>main_image_url</th>\n",
       "      <th>product_category</th>\n",
       "      <th>l2_category</th>\n",
       "      <th>rater1_output</th>\n",
       "      <th>rater2_output</th>\n",
       "      <th>rater3_output</th>\n",
       "      <th>rater1_no_attributes</th>\n",
       "      <th>rater1_unlisted_value</th>\n",
       "      <th>rater2_no_attributes</th>\n",
       "      <th>rater2_unlisted_value</th>\n",
       "      <th>rater3_no_attributes</th>\n",
       "      <th>rater3_unlisted_value</th>\n",
       "      <th>title_original</th>\n",
       "      <th>final_output</th>\n",
       "      <th>title_original2</th>\n",
       "    </tr>\n",
       "  </thead>\n",
       "  <tbody>\n",
       "    <tr>\n",
       "      <th>46846</th>\n",
       "      <td>162392</td>\n",
       "      <td>text_and_img</td>\n",
       "      <td>5cdd05b52e33a70fe773d613</td>\n",
       "      <td>Lixada Breathable  Fishing Life Vest  209lb Bu...</td>\n",
       "      <td>This fishing Life jacket looks more like an ou...</td>\n",
       "      <td>https://canary.contestimg.wish.com/api/webimag...</td>\n",
       "      <td>Sports &gt; Fishing &gt; Fishing Apparel &gt; Fishing V...</td>\n",
       "      <td>Sports &gt; Fishing</td>\n",
       "      <td>Sports &gt; Fishing &gt; Fishing Apparel &gt; Fishing V...</td>\n",
       "      <td>Sports &gt; Fishing &gt; Fishing Apparel &gt; Fishing V...</td>\n",
       "      <td>Sports &gt; Fishing &gt; Fishing Apparel &gt; Fishing V...</td>\n",
       "      <td>NaN</td>\n",
       "      <td>NaN</td>\n",
       "      <td>NaN</td>\n",
       "      <td>True</td>\n",
       "      <td>NaN</td>\n",
       "      <td>NaN</td>\n",
       "      <td>NaN</td>\n",
       "      <td>NaN</td>\n",
       "      <td>​Lixada Breathable  Fishing Life Vest  209lb B...</td>\n",
       "    </tr>\n",
       "  </tbody>\n",
       "</table>\n",
       "</div>"
      ],
      "text/plain": [
       "       label_ordering sample_method                product_id  \\\n",
       "46846          162392  text_and_img  5cdd05b52e33a70fe773d613   \n",
       "\n",
       "                                                   title  \\\n",
       "46846  Lixada Breathable  Fishing Life Vest  209lb Bu...   \n",
       "\n",
       "                                     product_description  \\\n",
       "46846  This fishing Life jacket looks more like an ou...   \n",
       "\n",
       "                                          main_image_url  \\\n",
       "46846  https://canary.contestimg.wish.com/api/webimag...   \n",
       "\n",
       "                                        product_category        l2_category  \\\n",
       "46846  Sports > Fishing > Fishing Apparel > Fishing V...  Sports > Fishing    \n",
       "\n",
       "                                           rater1_output  \\\n",
       "46846  Sports > Fishing > Fishing Apparel > Fishing V...   \n",
       "\n",
       "                                           rater2_output  \\\n",
       "46846  Sports > Fishing > Fishing Apparel > Fishing V...   \n",
       "\n",
       "                                           rater3_output rater1_no_attributes  \\\n",
       "46846  Sports > Fishing > Fishing Apparel > Fishing V...                  NaN   \n",
       "\n",
       "      rater1_unlisted_value rater2_no_attributes rater2_unlisted_value  \\\n",
       "46846                   NaN                  NaN                  True   \n",
       "\n",
       "      rater3_no_attributes rater3_unlisted_value title_original final_output  \\\n",
       "46846                  NaN                   NaN            NaN          NaN   \n",
       "\n",
       "                                         title_original2  \n",
       "46846  ​Lixada Breathable  Fishing Life Vest  209lb B...  "
      ]
     },
     "execution_count": 21,
     "metadata": {},
     "output_type": "execute_result"
    }
   ],
   "source": [
    "df_uniq_merge[df_uniq_merge['title'].apply(lambda x: x.strip()) != df_uniq_merge['title_original2'].apply(lambda x: x.strip())]"
   ]
  },
  {
   "cell_type": "code",
   "execution_count": 22,
   "metadata": {},
   "outputs": [],
   "source": [
    "df_uniq_merge.loc[df_uniq_merge.title_original.isna(), 'title_original'] = df_uniq_merge.loc[df_uniq_merge.title_original.isna(), 'title_original2']\n",
    "del df_uniq_merge['title_original2']"
   ]
  },
  {
   "cell_type": "code",
   "execution_count": 23,
   "metadata": {},
   "outputs": [],
   "source": [
    "df_uniq_merge['final_output'] = df_uniq_merge['rater1_output'].fillna('') + '\\n' + df_uniq_merge['rater2_output'].fillna('') + '\\n' + \\\n",
    "    df_uniq_merge['rater3_output'].fillna('')"
   ]
  },
  {
   "cell_type": "code",
   "execution_count": 25,
   "metadata": {},
   "outputs": [
    {
     "data": {
      "text/plain": [
       "(69847, 51025, 3289, 3289, 2771, 48254, 54314)"
      ]
     },
     "execution_count": 25,
     "metadata": {},
     "output_type": "execute_result"
    }
   ],
   "source": [
    "correct = []\n",
    "errors = []\n",
    "errors_fixed = []\n",
    "nonempty = []\n",
    "empty = []\n",
    "for i in df_uniq_merge.to_dict('records'):\n",
    "    res = [] if ((not isinstance(i['final_output'], str)) and (np.isnan(i['final_output']))) else i['final_output'].split('\\n')\n",
    "    res = sorted(set(res))\n",
    "    res = [i for i in res if len(i) > 0]\n",
    "    if len(res) == 0:\n",
    "        empty.append(i)\n",
    "    is_correct = True\n",
    "    for j in res:\n",
    "        if len(j.split(' > ')) < 2:\n",
    "            i['explanation'] = f\"{j} has no attribute name\"\n",
    "            errors.append(i)\n",
    "            is_correct = False\n",
    "            break\n",
    "        if j.split(' > ')[-2] not in attributes:\n",
    "            i['explanation'] = f\"{j} has invalid attribute name, because {j.split(' > ')[-2]} is not a valid attribute name\"\n",
    "            errors.append(i)\n",
    "            is_correct = False\n",
    "            break\n",
    "    if is_correct:\n",
    "        correct.append(i)\n",
    "        if len(res) > 0:\n",
    "            nonempty.append(i)\n",
    "for i in errors:\n",
    "    res = [] if ((not isinstance(i['final_output'], str)) and (np.isnan(i['final_output']))) else i['final_output'].split('\\n')\n",
    "    res = sorted(set(res))\n",
    "    res = [i for i in res if len(i) > 0]\n",
    "    corrected_res = []\n",
    "    for j in res:\n",
    "        if j.split(' > ')[-2] in attributes:\n",
    "            corrected_res.append(j)\n",
    "    i['final_output_corrected'] = '\\n'.join(corrected_res)\n",
    "    errors_fixed.append(i)\n",
    "\n",
    "len(df), len(correct), len(errors), len(errors_fixed), len(empty), len(nonempty), len(correct) + len(errors)"
   ]
  },
  {
   "cell_type": "code",
   "execution_count": 63,
   "metadata": {},
   "outputs": [
    {
     "data": {
      "text/plain": [
       "(0.05430671239588437, 0.9456932876041156, 0.047088636591406934)"
      ]
     },
     "execution_count": 63,
     "metadata": {},
     "output_type": "execute_result"
    }
   ],
   "source": [
    "len(empty) / len(correct), len(nonempty) / len(correct), len(errors) / len(df)"
   ]
  },
  {
   "cell_type": "code",
   "execution_count": 26,
   "metadata": {},
   "outputs": [],
   "source": [
    "df_correct = pd.DataFrame(correct)\n",
    "df_error = pd.DataFrame(errors)\n",
    "df_error_fixed = pd.DataFrame(errors_fixed)"
   ]
  },
  {
   "cell_type": "code",
   "execution_count": 27,
   "metadata": {},
   "outputs": [],
   "source": [
    "df_nonempty = pd.DataFrame(nonempty)\n",
    "df_empty = pd.DataFrame(empty)"
   ]
  },
  {
   "cell_type": "code",
   "execution_count": 28,
   "metadata": {},
   "outputs": [],
   "source": [
    "assert len(df_correct) == len(df_empty) + len(df_nonempty)"
   ]
  },
  {
   "cell_type": "code",
   "execution_count": 29,
   "metadata": {},
   "outputs": [
    {
     "data": {
      "text/plain": [
       "True"
      ]
     },
     "execution_count": 29,
     "metadata": {},
     "output_type": "execute_result"
    }
   ],
   "source": [
    "df_empty.rater3_no_attributes.all()"
   ]
  },
  {
   "cell_type": "code",
   "execution_count": 30,
   "metadata": {},
   "outputs": [
    {
     "data": {
      "text/plain": [
       "(2771, 48254, 3289)"
      ]
     },
     "execution_count": 30,
     "metadata": {},
     "output_type": "execute_result"
    }
   ],
   "source": [
    "len(df_empty), len(df_nonempty), len(df_error)"
   ]
  },
  {
   "cell_type": "code",
   "execution_count": 1,
   "metadata": {},
   "outputs": [
    {
     "data": {
      "text/plain": [
       "0.05101815369886217"
      ]
     },
     "execution_count": 1,
     "metadata": {},
     "output_type": "execute_result"
    }
   ],
   "source": [
    "2771 / 54314"
   ]
  },
  {
   "cell_type": "code",
   "execution_count": 72,
   "metadata": {},
   "outputs": [],
   "source": [
    "df_nonempty.to_csv('appen/output_batch_correct_v5/product_attribution_till_032423_valid_units.csv', index=False)\n",
    "df_empty.to_csv('appen/output_batch_correct_v5/product_attribution_till_032423_empty_units.csv', index=False)\n",
    "df_error.to_csv('appen/output_batch_correct_v5/product_attribution_till_032423_invalid_units.csv', index=False)"
   ]
  },
  {
   "cell_type": "code",
   "execution_count": 31,
   "metadata": {},
   "outputs": [],
   "source": [
    "df_error_fixed.to_csv('appen/output_batch_correct_v5/product_attribution_till_032423_invalid_units_fixed.csv', index=False)"
   ]
  },
  {
   "cell_type": "code",
   "execution_count": 86,
   "metadata": {},
   "outputs": [
    {
     "data": {
      "text/plain": [
       "{'label_ordering': {2398: 20173},\n",
       " 'sample_method': {2398: 'only_text'},\n",
       " 'product_id': {2398: '60d8185730aeaa187b11d195'},\n",
       " 'title': {2398: 'Charles A. Lindbergh /N(1902-1974). American Aviator. Front Page Of The New York Times, 2 March 1932, Featuring An Article About The Kidnapping Of The Lindbergh Baby. Poster Print by Granger Collection - Item # VARGRC0051801'},\n",
       " 'product_description': {2398: 'Charles A. Lindbergh /N(1902-1974). American Aviator. Front Page Of The New York Times, 2 March 1932, Featuring An Article About The Kidnapping Of The Lindbergh Baby. Poster Print by Granger Collection - Item # VARGRC0051801 would make the perfect addition to your home or office or gift recipient.  This Poster Print is ready for hanging or framing and ships in an oversized tube for maximum protection.'},\n",
       " 'main_image_url': {2398: nan},\n",
       " 'product_category': {2398: 'Home & Garden > Home Decor > Painting & Calligraphy'},\n",
       " 'l2_category': {2398: 'Home & Garden > Home Decor'},\n",
       " 'rater1_output': {2398: nan},\n",
       " 'rater2_output': {2398: nan},\n",
       " 'rater3_output': {2398: nan},\n",
       " 'rater1_no_attributes': {2398: True},\n",
       " 'rater1_unlisted_value': {2398: nan},\n",
       " 'rater2_no_attributes': {2398: True},\n",
       " 'rater2_unlisted_value': {2398: nan},\n",
       " 'rater3_no_attributes': {2398: True},\n",
       " 'rater3_unlisted_value': {2398: nan},\n",
       " 'title_original': {2398: 'Charles A. Lindbergh /N(1902-1974). American Aviator. Front Page Of The New York Times, 2 March 1932, Featuring An Article About The Kidnapping Of The Lindbergh Baby. Poster Print by Granger Collection - Item # VARGRC0051801'},\n",
       " 'final_output': {2398: '\\n\\n'}}"
      ]
     },
     "execution_count": 86,
     "metadata": {},
     "output_type": "execute_result"
    }
   ],
   "source": [
    "df_empty.sample(1).to_dict()"
   ]
  },
  {
   "cell_type": "code",
   "execution_count": 83,
   "metadata": {},
   "outputs": [
    {
     "data": {
      "text/plain": [
       "{'label_ordering': {2963: 3912},\n",
       " 'sample_method': {2963: 'text_and_img'},\n",
       " 'product_id': {2963: '6122372339ba3364a8d1ec9b'},\n",
       " 'title': {2963: \"Fashion Men's 925 Silver Classic Cubic Zircon Wide Ring Fashion Jewelry Gifts (Size: US Size 4-11)\"},\n",
       " 'product_description': {2963: \"100% new and high quality\\nStyle: Classic Cubic Zircon Wide Ring\\nMaterial: 925 Silver, AAA Zircon\\nColor: Silver\\nSize: US Size 4-11\\n\\nPackage included:\\n1 x Men's Ring\"},\n",
       " 'main_image_url': {2963: 'https://canary.contestimg.wish.com/api/webimage/6122372339ba3364a8d1ec9b-0-large.jpg'},\n",
       " 'product_category': {2963: 'Jewelry & Accessories > Rings'},\n",
       " 'l2_category': {2963: 'Jewelry & Accessories > Rings'},\n",
       " 'rater1_output': {2963: 'Jewelry & Accessories > Rings > Materials > Silver\\nJewelry & Accessories > Rings > Primary Color > Silver\\nJewelry & Accessories > Rings > Size > 4\\nJewelry & Accessories > Rings > Size > 5\\nJewelry & Accessories > Rings > Size > 6\\nJewelry & Accessories > Rings > Size > 7\\nJewelry & Accessories > Rings > Size > 8\\nJewelry & Accessories > Rings > Size > 9\\nJewelry & Accessories > Rings > Size > 10\\nJewelry & Accessories > Rings > Size > 11'},\n",
       " 'rater2_output': {2963: 'Jewelry & Accessories > Rings > Department > Men\\nJewelry & Accessories > Rings > Primary Color > Silver\\nJewelry & Accessories > Rings > Side Stone > Zircon\\nJewelry & Accessories > Rings > Size > 2\\nJewelry & Accessories > Rings > Size > 3\\nJewelry & Accessories > Rings > Size > 4\\nJewelry & Accessories > Rings > Size > 5\\nJewelry & Accessories > Rings > Size > 6\\nJewelry & Accessories > Rings > Size > 7\\nJewelry & Accessories > Rings > Size > 8\\nJewelry & Accessories > Rings > Size > 9\\nJewelry & Accessories > Rings > Size > 10\\nJewelry & Accessories > Rings > Size > 11'},\n",
       " 'rater3_output': {2963: 'Jewelry & Accessories > Rings > Department > Men\\nJewelry & Accessories > Rings > Primary Color > Silver\\nJewelry & Accessories > Rings > Materials > Zirconium\\nJewelry & Accessories > Rings > Size > 4\\nJewelry & Accessories > Rings > Size > 5\\nJewelry & Accessories > Rings > Size > 6\\nJewelry & Accessories > Rings > Size > 7\\nJewelry & Accessories > Rings > Size > 8\\nJewelry & Accessories > Rings > Size > 9\\nJewelry & Accessories > Rings > Size > > 2 3 10 11 12'},\n",
       " 'rater1_no_attributes': {2963: nan},\n",
       " 'rater1_unlisted_value': {2963: nan},\n",
       " 'rater2_no_attributes': {2963: nan},\n",
       " 'rater2_unlisted_value': {2963: nan},\n",
       " 'rater3_no_attributes': {2963: nan},\n",
       " 'rater3_unlisted_value': {2963: nan},\n",
       " 'title_original': {2963: \"Fashion Men's 925 Silver Classic Cubic Zircon Wide Ring Fashion Jewelry Gifts (Size: US Size 4-11)\"},\n",
       " 'final_output': {2963: 'Jewelry & Accessories > Rings > Materials > Silver\\nJewelry & Accessories > Rings > Primary Color > Silver\\nJewelry & Accessories > Rings > Size > 4\\nJewelry & Accessories > Rings > Size > 5\\nJewelry & Accessories > Rings > Size > 6\\nJewelry & Accessories > Rings > Size > 7\\nJewelry & Accessories > Rings > Size > 8\\nJewelry & Accessories > Rings > Size > 9\\nJewelry & Accessories > Rings > Size > 10\\nJewelry & Accessories > Rings > Size > 11\\nJewelry & Accessories > Rings > Department > Men\\nJewelry & Accessories > Rings > Primary Color > Silver\\nJewelry & Accessories > Rings > Side Stone > Zircon\\nJewelry & Accessories > Rings > Size > 2\\nJewelry & Accessories > Rings > Size > 3\\nJewelry & Accessories > Rings > Size > 4\\nJewelry & Accessories > Rings > Size > 5\\nJewelry & Accessories > Rings > Size > 6\\nJewelry & Accessories > Rings > Size > 7\\nJewelry & Accessories > Rings > Size > 8\\nJewelry & Accessories > Rings > Size > 9\\nJewelry & Accessories > Rings > Size > 10\\nJewelry & Accessories > Rings > Size > 11\\nJewelry & Accessories > Rings > Department > Men\\nJewelry & Accessories > Rings > Primary Color > Silver\\nJewelry & Accessories > Rings > Materials > Zirconium\\nJewelry & Accessories > Rings > Size > 4\\nJewelry & Accessories > Rings > Size > 5\\nJewelry & Accessories > Rings > Size > 6\\nJewelry & Accessories > Rings > Size > 7\\nJewelry & Accessories > Rings > Size > 8\\nJewelry & Accessories > Rings > Size > 9\\nJewelry & Accessories > Rings > Size > > 2 3 10 11 12'}}"
      ]
     },
     "execution_count": 83,
     "metadata": {},
     "output_type": "execute_result"
    }
   ],
   "source": [
    "df_nonempty.sample(1).to_dict()"
   ]
  },
  {
   "cell_type": "code",
   "execution_count": 87,
   "metadata": {},
   "outputs": [
    {
     "data": {
      "text/plain": [
       "{'label_ordering': {356: 2761},\n",
       " 'sample_method': {356: 'only_text'},\n",
       " 'product_id': {356: '60b5ecd0b0d7864a7ee1fd97'},\n",
       " 'title': {356: '2021 New 8D HiFi Bluetooth 5.0 CVC8.0 Noise Reduction Stereo Wireless TWS Bluetooth Headset LED Display Headset Waterproof Dual Headphones with Power Bank Charging Case'},\n",
       " 'product_description': {356: 'Feature describe:\\n1.LED digital power display. Add a new power display screen, charging cabin, headphone electricity at a glance, real-time perception of electricity.\\n2.Automatic pairing.Long by two headphones main buttons at the same time, until the headphones red and blue lights flashing at the same time and then loosen the button, Quickly click on the left\\nEarphone twice, Two ear opportunity to connect automatically. When one of the Headphones stops blinking, the pairing is complete.\\n3.Humanized operation design, according to ergonomics, adopts semi-in-ear design, three-point support is more suitable for the auricle, making the ear more comfortable.\\n4.Compact and lightweight. The exquisite and compact charging compartment can be put into the pocket, where to go, no longer afraid of the headset.\\n5. Powerful compatibility, intelligent compatibility with a variety of APP, whether it is ISO or Android system.\\nProduct Specification:\\nBluetooth version: Bluetooth 5.0\\nOperating frequency: 2.4 GHz to 2.4835 GHz\\nPhonetic hints: English and Chinese support\\nCompatible with battery indicators in the iPad or the iPhone\\nFavorite Music\\nEffective Distance: > 10m\\nSpeaker: 8mm, PU (AS-XR)\\nEffective frequency band: 50 Hz to 20 Hz\\nSensitivity: 108 + 2 dB\\nResistance: 16 +5%\\n1 battery pack capacity: 50 mAH\\ncharging case capacity: 2000mAH\\nMiniature USB Load Time: Headphone Full Load: 1 Basic Load Hour: 1.5 Hours\\nWaiting time: 120 hours\\nContinuous dialogue: 4-5 hours\\nContinuous music time: 4-5 hours (up to 70%)\\nFunctions: power display, voice control, call function, support music, multi-point connection\\nChannel: Stereo\\nHow to use: earbud\\nColor: black,\\n\\nPackage Included 1:\\n2X Bluetooth earphone\\n4X ear cuffs\\n1X User Manual\\n1X usb cable\\n1X charging box\\n\\nPackage Included 1:\\n1x Bluetooth earphone\\n1X charging cable'},\n",
       " 'main_image_url': {356: nan},\n",
       " 'product_category': {356: 'Consumer Electronics > Earphones & Headphones > Bluetooth Earphones & Headphones'},\n",
       " 'l2_category': {356: 'Consumer Electronics > Earphones & Headphones'},\n",
       " 'rater1_output': {356: 'Consumer Electronics > Earphones & Headphones > Phone Earphones & Headphones'},\n",
       " 'rater2_output': {356: 'Consumer Electronics > Earphones & Headphones > Bluetooth Earphones & Headphones > Compatible Devices > Cellphones\\nConsumer Electronics > Earphones & Headphones > Bluetooth Earphones & Headphones > Included Components > Package Included 1  2X Bluetooth earphone 4X ear cuffs 1X User Manual 1X usb cable 1X charging box Package Included 1 1x Bluetooth earphone 1X charging cable'},\n",
       " 'rater3_output': {356: 'Consumer Electronics > Earphones & Headphones > Bluetooth Earphones & Headphones > Compatible Devices > Cellphones\\nConsumer Electronics > Earphones & Headphones > Bluetooth Earphones & Headphones > Water Resistance Level > Waterproof\\nConsumer Electronics > Earphones & Headphones > Bluetooth Earphones & Headphones > Included Components > Package Included 1 2X Bluetooth earphone 4X ear cuffs 1X User Manual 1X usb cable 1X charging box Package Included 1 1x Bluetooth earphone 1X charging cable'},\n",
       " 'rater1_no_attributes': {356: nan},\n",
       " 'rater1_unlisted_value': {356: nan},\n",
       " 'rater2_no_attributes': {356: nan},\n",
       " 'rater2_unlisted_value': {356: True},\n",
       " 'rater3_no_attributes': {356: nan},\n",
       " 'rater3_unlisted_value': {356: True},\n",
       " 'title_original': {356: '2021 New 8D HiFi Bluetooth 5.0 CVC8.0 Noise Reduction Stereo Wireless TWS Bluetooth Headset LED Display Headset Waterproof Dual Headphones with Power Bank Charging Case'},\n",
       " 'final_output': {356: 'Consumer Electronics > Earphones & Headphones > Phone Earphones & Headphones\\nConsumer Electronics > Earphones & Headphones > Bluetooth Earphones & Headphones > Compatible Devices > Cellphones\\nConsumer Electronics > Earphones & Headphones > Bluetooth Earphones & Headphones > Included Components > Package Included 1  2X Bluetooth earphone 4X ear cuffs 1X User Manual 1X usb cable 1X charging box Package Included 1 1x Bluetooth earphone 1X charging cable\\nConsumer Electronics > Earphones & Headphones > Bluetooth Earphones & Headphones > Compatible Devices > Cellphones\\nConsumer Electronics > Earphones & Headphones > Bluetooth Earphones & Headphones > Water Resistance Level > Waterproof\\nConsumer Electronics > Earphones & Headphones > Bluetooth Earphones & Headphones > Included Components > Package Included 1 2X Bluetooth earphone 4X ear cuffs 1X User Manual 1X usb cable 1X charging box Package Included 1 1x Bluetooth earphone 1X charging cable'},\n",
       " 'explanation': {356: 'Consumer Electronics > Earphones & Headphones > Phone Earphones & Headphones has invalid attribute name, because Earphones & Headphones is not a valid attribute name'}}"
      ]
     },
     "execution_count": 87,
     "metadata": {},
     "output_type": "execute_result"
    }
   ],
   "source": [
    "df_error.sample(1).to_dict()"
   ]
  },
  {
   "cell_type": "code",
   "execution_count": 32,
   "metadata": {},
   "outputs": [
    {
     "data": {
      "text/plain": [
       "{'label_ordering': {1820: 16134},\n",
       " 'sample_method': {1820: 'only_text'},\n",
       " 'product_id': {1820: '61510cfd895dbcc89ad70773'},\n",
       " 'title': {1820: '12pcs/set Christmas Tree Wooden Pendant Snowflake Angel Heart Shape Hanging Ornaments for Party Decorations Xmas Gifts'},\n",
       " 'product_description': {1820: \"Quantity:12pcs/set\\nMaterial:wooden\\nSize:as the picture show\\nNotice:\\n1.Due to the light and screen difference, the item's color may be slightly different from the pictures.\\n2.Please allow slight differences due to manual measurement.\"},\n",
       " 'main_image_url': {1820: nan},\n",
       " 'product_category': {1820: 'Home & Garden > Festive & Party Supplies > Christmas > Pendant & Drop Ornaments'},\n",
       " 'l2_category': {1820: 'Home & Garden > Festive & Party Supplies'},\n",
       " 'rater1_output': {1820: 'Home & Garden > Festive & Party Supplies > Christmas > Ball Ornaments'},\n",
       " 'rater2_output': {1820: 'Home & Garden > Festive & Party Supplies > Christmas > Pendant & Drop Ornaments > Alpha Size > One Size\\nHome & Garden > Festive & Party Supplies > Christmas > Pendant & Drop Ornaments > Primary Color > Green\\nHome & Garden > Festive & Party Supplies > Christmas > Pendant & Drop Ornaments > Primary Color > Red'},\n",
       " 'rater3_output': {1820: 'Home & Garden > Festive & Party Supplies > Christmas > Pendant & Drop Ornaments > Materials > Wood'},\n",
       " 'rater1_no_attributes': {1820: nan},\n",
       " 'rater1_unlisted_value': {1820: nan},\n",
       " 'rater2_no_attributes': {1820: nan},\n",
       " 'rater2_unlisted_value': {1820: nan},\n",
       " 'rater3_no_attributes': {1820: nan},\n",
       " 'rater3_unlisted_value': {1820: nan},\n",
       " 'title_original': {1820: '12pcs/set Christmas Tree Wooden Pendant Snowflake Angel Heart Shape Hanging Ornaments for Party Decorations Xmas Gifts'},\n",
       " 'final_output': {1820: 'Home & Garden > Festive & Party Supplies > Christmas > Ball Ornaments\\nHome & Garden > Festive & Party Supplies > Christmas > Pendant & Drop Ornaments > Alpha Size > One Size\\nHome & Garden > Festive & Party Supplies > Christmas > Pendant & Drop Ornaments > Primary Color > Green\\nHome & Garden > Festive & Party Supplies > Christmas > Pendant & Drop Ornaments > Primary Color > Red\\nHome & Garden > Festive & Party Supplies > Christmas > Pendant & Drop Ornaments > Materials > Wood'},\n",
       " 'explanation': {1820: 'Home & Garden > Festive & Party Supplies > Christmas > Ball Ornaments has invalid attribute name, because Christmas is not a valid attribute name'},\n",
       " 'final_output_corrected': {1820: 'Home & Garden > Festive & Party Supplies > Christmas > Pendant & Drop Ornaments > Alpha Size > One Size\\nHome & Garden > Festive & Party Supplies > Christmas > Pendant & Drop Ornaments > Materials > Wood\\nHome & Garden > Festive & Party Supplies > Christmas > Pendant & Drop Ornaments > Primary Color > Green\\nHome & Garden > Festive & Party Supplies > Christmas > Pendant & Drop Ornaments > Primary Color > Red'}}"
      ]
     },
     "execution_count": 32,
     "metadata": {},
     "output_type": "execute_result"
    }
   ],
   "source": [
    "df_error_fixed.sample(1).to_dict()"
   ]
  },
  {
   "cell_type": "code",
   "execution_count": 78,
   "metadata": {},
   "outputs": [],
   "source": [
    "leftover = set(df_original.label_ordering) - set(df_uniq_merge.label_ordering)\n",
    "df_leftover = df_original[df_original.label_ordering.apply(lambda x: x in leftover)]"
   ]
  },
  {
   "cell_type": "code",
   "execution_count": 81,
   "metadata": {},
   "outputs": [
    {
     "data": {
      "text/plain": [
       "7823"
      ]
     },
     "execution_count": 81,
     "metadata": {},
     "output_type": "execute_result"
    }
   ],
   "source": [
    "len(df_leftover)"
   ]
  },
  {
   "cell_type": "code",
   "execution_count": 80,
   "metadata": {},
   "outputs": [],
   "source": [
    "df_leftover.to_csv('appen/output_batch_correct_v5/product_attribution_missed_032423.csv', index=False)"
   ]
  },
  {
   "cell_type": "code",
   "execution_count": null,
   "metadata": {},
   "outputs": [],
   "source": []
  }
 ],
 "metadata": {
  "kernelspec": {
   "display_name": "Python 3",
   "language": "python",
   "name": "python3"
  },
  "language_info": {
   "codemirror_mode": {
    "name": "ipython",
    "version": 3
   },
   "file_extension": ".py",
   "mimetype": "text/x-python",
   "name": "python",
   "nbconvert_exporter": "python",
   "pygments_lexer": "ipython3",
   "version": "3.8.13"
  },
  "orig_nbformat": 4,
  "vscode": {
   "interpreter": {
    "hash": "949777d72b0d2535278d3dc13498b2535136f6dfe0678499012e853ee9abcab1"
   }
  }
 },
 "nbformat": 4,
 "nbformat_minor": 2
}
