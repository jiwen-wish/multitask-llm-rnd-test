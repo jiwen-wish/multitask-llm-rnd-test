{
 "cells": [
  {
   "cell_type": "code",
   "execution_count": 97,
   "metadata": {},
   "outputs": [],
   "source": [
    "import pandas as pd\n",
    "from collections import defaultdict\n",
    "import dvc.api\n",
    "from tqdm import tqdm\n",
    "import numpy as np\n",
    "from functools import reduce"
   ]
  },
  {
   "attachments": {},
   "cell_type": "markdown",
   "metadata": {},
   "source": [
    "# get original data"
   ]
  },
  {
   "cell_type": "code",
   "execution_count": 98,
   "metadata": {},
   "outputs": [],
   "source": [
    "df_missed = pd.concat([\n",
    "    pd.read_csv('appen/output_batch_correct_v5/product_attribution_missed_032423.csv'), \n",
    "    pd.read_csv('appen/output_batch_correct_v6/product_attribution_missed_just_032723.csv')\n",
    "])"
   ]
  },
  {
   "cell_type": "code",
   "execution_count": 99,
   "metadata": {},
   "outputs": [],
   "source": [
    "df_original = pd.concat([ \n",
    "    pd.read_csv(dvc.api.get_url('datasets/data/wish_attr_extract_label/appen/input_batch_processed/appen_product_attribution_batch1.csv', \n",
    "        repo='git@github.com:ContextLogic/multitask-llm-rnd.git')), \n",
    "    pd.read_csv(dvc.api.get_url('datasets/data/wish_attr_extract_label/appen/input_batch_processed/appen_product_attribution_batch2_highimpression.csv',\n",
    "        repo='git@github.com:ContextLogic/multitask-llm-rnd.git')), \n",
    "    pd.read_csv(dvc.api.get_url('datasets/data/wish_attr_extract_label/appen/input_batch_processed/appen_product_attribution_batch2.csv', \n",
    "        repo='git@github.com:ContextLogic/multitask-llm-rnd.git'))\n",
    "])"
   ]
  },
  {
   "cell_type": "code",
   "execution_count": 100,
   "metadata": {},
   "outputs": [
    {
     "data": {
      "text/plain": [
       "7861"
      ]
     },
     "execution_count": 100,
     "metadata": {},
     "output_type": "execute_result"
    }
   ],
   "source": [
    "len(df_missed)"
   ]
  },
  {
   "cell_type": "code",
   "execution_count": 101,
   "metadata": {},
   "outputs": [
    {
     "data": {
      "text/plain": [
       "113438"
      ]
     },
     "execution_count": 101,
     "metadata": {},
     "output_type": "execute_result"
    }
   ],
   "source": [
    "len(df_original)"
   ]
  },
  {
   "cell_type": "code",
   "execution_count": 102,
   "metadata": {},
   "outputs": [],
   "source": [
    "df_missed = df_missed.dropna(subset=['label_ordering'])"
   ]
  },
  {
   "cell_type": "code",
   "execution_count": 103,
   "metadata": {},
   "outputs": [],
   "source": [
    "df_original = df_original.dropna(subset=['label_ordering'])"
   ]
  },
  {
   "cell_type": "code",
   "execution_count": 104,
   "metadata": {},
   "outputs": [
    {
     "data": {
      "text/plain": [
       "7861"
      ]
     },
     "execution_count": 104,
     "metadata": {},
     "output_type": "execute_result"
    }
   ],
   "source": [
    "len(df_missed)"
   ]
  },
  {
   "cell_type": "code",
   "execution_count": 105,
   "metadata": {},
   "outputs": [
    {
     "data": {
      "text/plain": [
       "113433"
      ]
     },
     "execution_count": 105,
     "metadata": {},
     "output_type": "execute_result"
    }
   ],
   "source": [
    "len(df_original)"
   ]
  },
  {
   "cell_type": "code",
   "execution_count": 106,
   "metadata": {},
   "outputs": [],
   "source": [
    "df_original['label_ordering'] = df_original['label_ordering'].astype(int)\n",
    "df_missed['label_ordering'] = df_missed['label_ordering'].astype(int)"
   ]
  },
  {
   "cell_type": "code",
   "execution_count": 107,
   "metadata": {},
   "outputs": [
    {
     "data": {
      "text/plain": [
       "set()"
      ]
     },
     "execution_count": 107,
     "metadata": {},
     "output_type": "execute_result"
    }
   ],
   "source": [
    "set(df_missed['label_ordering']) - set(df_original['label_ordering'])"
   ]
  },
  {
   "attachments": {},
   "cell_type": "markdown",
   "metadata": {},
   "source": [
    "# get attributes"
   ]
  },
  {
   "cell_type": "code",
   "execution_count": 108,
   "metadata": {},
   "outputs": [],
   "source": [
    "df_attributes = pd.read_csv('../attribute_extraction_metadata_template/attribute_definition_top25L2_filtered_augmented_redacted_addedsinglemulti_01182023.csv')\n",
    "\n",
    "df_attributes_group = df_attributes.groupby('attribute_field').agg({\n",
    "    'category_attributevalue': lambda x: reduce(lambda x, y: x+y, [eval(i) for i in x])\n",
    "}).reset_index()"
   ]
  },
  {
   "cell_type": "code",
   "execution_count": 109,
   "metadata": {},
   "outputs": [
    {
     "data": {
      "text/plain": [
       "(230, 516378)"
      ]
     },
     "execution_count": 109,
     "metadata": {},
     "output_type": "execute_result"
    }
   ],
   "source": [
    "len(df_attributes_group), df_attributes_group.category_attributevalue.apply(len).sum()"
   ]
  },
  {
   "cell_type": "code",
   "execution_count": 110,
   "metadata": {},
   "outputs": [],
   "source": [
    "attributes = set(df_attributes_group['attribute_field'])"
   ]
  },
  {
   "cell_type": "code",
   "execution_count": 111,
   "metadata": {},
   "outputs": [],
   "source": [
    "category_paths = set(df_attributes['category'])"
   ]
  },
  {
   "cell_type": "code",
   "execution_count": 112,
   "metadata": {},
   "outputs": [],
   "source": [
    "more_paths = []\n",
    "for i in category_paths:\n",
    "    tmp = []\n",
    "    for j in i.split(' > '):\n",
    "        tmp.append(j)\n",
    "        more_paths.append(' > '.join(tmp))\n",
    "category_paths.update(more_paths)"
   ]
  },
  {
   "attachments": {},
   "cell_type": "markdown",
   "metadata": {},
   "source": [
    "# existing appen data"
   ]
  },
  {
   "cell_type": "code",
   "execution_count": 13,
   "metadata": {},
   "outputs": [],
   "source": [
    "# df1 = pd.read_csv('appen/output_batch_correct_v3/product_attribution_till_030923_valid_units.csv')\n",
    "# df2 = pd.read_csv('appen/output_batch_correct_v4/f2072154_f2075355_post_03.13.23_cleaned_invalid.csv')\n",
    "# df3 = pd.read_csv('appen/output_batch_correct_v4/f2072154_f2075355_post_03.13.23_cleaned_valid-empty units.csv')\n",
    "# df4 = pd.read_csv('appen/output_batch_correct_v4/Product Attribution_03.10.23_Batch2_highimpression.csv')\n",
    "# df5 = pd.read_csv('appen/output_batch_correct_v4/product_attribution_03.03.23_invalid_units_03.02.23_Rework.csv')"
   ]
  },
  {
   "cell_type": "code",
   "execution_count": 14,
   "metadata": {},
   "outputs": [
    {
     "data": {
      "text/plain": [
       "(38076, 866, 19678, 10808, 419)"
      ]
     },
     "execution_count": 14,
     "metadata": {},
     "output_type": "execute_result"
    }
   ],
   "source": [
    "# len(df1), len(df2), len(df3), len(df4), len(df5)"
   ]
  },
  {
   "cell_type": "code",
   "execution_count": 15,
   "metadata": {},
   "outputs": [],
   "source": [
    "# df = pd.concat([df1, df2, df3, df4, df5])"
   ]
  },
  {
   "cell_type": "code",
   "execution_count": 113,
   "metadata": {},
   "outputs": [],
   "source": [
    "df = pd.read_csv('appen/output_batch_correct_v7/7k_Appen.csv')"
   ]
  },
  {
   "cell_type": "code",
   "execution_count": 114,
   "metadata": {},
   "outputs": [],
   "source": [
    "df_uniq = df.drop_duplicates('label_ordering', keep='first')"
   ]
  },
  {
   "cell_type": "code",
   "execution_count": 115,
   "metadata": {},
   "outputs": [
    {
     "data": {
      "text/plain": [
       "(7789, 7789)"
      ]
     },
     "execution_count": 115,
     "metadata": {},
     "output_type": "execute_result"
    }
   ],
   "source": [
    "len(df), len(df_uniq)"
   ]
  },
  {
   "cell_type": "code",
   "execution_count": 116,
   "metadata": {},
   "outputs": [],
   "source": [
    "df_uniq_merge = df_uniq.merge(df_original[['label_ordering', 'title', 'product_description']].rename(\n",
    "    columns={'title': 'title_original', 'product_description': 'product_description_original'}), on='label_ordering', how='left')"
   ]
  },
  {
   "cell_type": "code",
   "execution_count": 117,
   "metadata": {},
   "outputs": [
    {
     "data": {
      "text/plain": [
       "7789"
      ]
     },
     "execution_count": 117,
     "metadata": {},
     "output_type": "execute_result"
    }
   ],
   "source": [
    "len(df_uniq_merge)"
   ]
  },
  {
   "cell_type": "code",
   "execution_count": 118,
   "metadata": {},
   "outputs": [
    {
     "data": {
      "text/html": [
       "<div>\n",
       "<style scoped>\n",
       "    .dataframe tbody tr th:only-of-type {\n",
       "        vertical-align: middle;\n",
       "    }\n",
       "\n",
       "    .dataframe tbody tr th {\n",
       "        vertical-align: top;\n",
       "    }\n",
       "\n",
       "    .dataframe thead th {\n",
       "        text-align: right;\n",
       "    }\n",
       "</style>\n",
       "<table border=\"1\" class=\"dataframe\">\n",
       "  <thead>\n",
       "    <tr style=\"text-align: right;\">\n",
       "      <th></th>\n",
       "      <th>category_path</th>\n",
       "      <th>product_id</th>\n",
       "      <th>title</th>\n",
       "      <th>product_description</th>\n",
       "      <th>main_image_url</th>\n",
       "      <th>sample_method</th>\n",
       "      <th>label_ordering</th>\n",
       "      <th>rater1_no_attributes</th>\n",
       "      <th>rater1_unlisted_value</th>\n",
       "      <th>rater1_output</th>\n",
       "      <th>rater2_no_attributes</th>\n",
       "      <th>rater2_unlisted_value</th>\n",
       "      <th>rater2_output</th>\n",
       "      <th>rater3_no_attributes</th>\n",
       "      <th>rater3_unlisted_value</th>\n",
       "      <th>rater3_output</th>\n",
       "      <th>title_original</th>\n",
       "      <th>product_description_original</th>\n",
       "    </tr>\n",
       "  </thead>\n",
       "  <tbody>\n",
       "  </tbody>\n",
       "</table>\n",
       "</div>"
      ],
      "text/plain": [
       "Empty DataFrame\n",
       "Columns: [category_path, product_id, title, product_description, main_image_url, sample_method, label_ordering, rater1_no_attributes, rater1_unlisted_value, rater1_output, rater2_no_attributes, rater2_unlisted_value, rater2_output, rater3_no_attributes, rater3_unlisted_value, rater3_output, title_original, product_description_original]\n",
       "Index: []"
      ]
     },
     "execution_count": 118,
     "metadata": {},
     "output_type": "execute_result"
    }
   ],
   "source": [
    "df_uniq_merge[df_uniq_merge.title != df_uniq_merge.title_original]"
   ]
  },
  {
   "cell_type": "code",
   "execution_count": 119,
   "metadata": {},
   "outputs": [
    {
     "data": {
      "text/html": [
       "<div>\n",
       "<style scoped>\n",
       "    .dataframe tbody tr th:only-of-type {\n",
       "        vertical-align: middle;\n",
       "    }\n",
       "\n",
       "    .dataframe tbody tr th {\n",
       "        vertical-align: top;\n",
       "    }\n",
       "\n",
       "    .dataframe thead th {\n",
       "        text-align: right;\n",
       "    }\n",
       "</style>\n",
       "<table border=\"1\" class=\"dataframe\">\n",
       "  <thead>\n",
       "    <tr style=\"text-align: right;\">\n",
       "      <th></th>\n",
       "      <th>category_path</th>\n",
       "      <th>product_id</th>\n",
       "      <th>title</th>\n",
       "      <th>product_description</th>\n",
       "      <th>main_image_url</th>\n",
       "      <th>sample_method</th>\n",
       "      <th>label_ordering</th>\n",
       "      <th>rater1_no_attributes</th>\n",
       "      <th>rater1_unlisted_value</th>\n",
       "      <th>rater1_output</th>\n",
       "      <th>rater2_no_attributes</th>\n",
       "      <th>rater2_unlisted_value</th>\n",
       "      <th>rater2_output</th>\n",
       "      <th>rater3_no_attributes</th>\n",
       "      <th>rater3_unlisted_value</th>\n",
       "      <th>rater3_output</th>\n",
       "      <th>title_original</th>\n",
       "      <th>product_description_original</th>\n",
       "    </tr>\n",
       "  </thead>\n",
       "  <tbody>\n",
       "  </tbody>\n",
       "</table>\n",
       "</div>"
      ],
      "text/plain": [
       "Empty DataFrame\n",
       "Columns: [category_path, product_id, title, product_description, main_image_url, sample_method, label_ordering, rater1_no_attributes, rater1_unlisted_value, rater1_output, rater2_no_attributes, rater2_unlisted_value, rater2_output, rater3_no_attributes, rater3_unlisted_value, rater3_output, title_original, product_description_original]\n",
       "Index: []"
      ]
     },
     "execution_count": 119,
     "metadata": {},
     "output_type": "execute_result"
    }
   ],
   "source": [
    "df_uniq_merge[df_uniq_merge.title_original.isna()]"
   ]
  },
  {
   "cell_type": "code",
   "execution_count": 120,
   "metadata": {},
   "outputs": [
    {
     "data": {
      "text/html": [
       "<div>\n",
       "<style scoped>\n",
       "    .dataframe tbody tr th:only-of-type {\n",
       "        vertical-align: middle;\n",
       "    }\n",
       "\n",
       "    .dataframe tbody tr th {\n",
       "        vertical-align: top;\n",
       "    }\n",
       "\n",
       "    .dataframe thead th {\n",
       "        text-align: right;\n",
       "    }\n",
       "</style>\n",
       "<table border=\"1\" class=\"dataframe\">\n",
       "  <thead>\n",
       "    <tr style=\"text-align: right;\">\n",
       "      <th></th>\n",
       "      <th>category_path</th>\n",
       "      <th>product_id</th>\n",
       "      <th>title</th>\n",
       "      <th>product_description</th>\n",
       "      <th>main_image_url</th>\n",
       "      <th>sample_method</th>\n",
       "      <th>label_ordering</th>\n",
       "      <th>rater1_no_attributes</th>\n",
       "      <th>rater1_unlisted_value</th>\n",
       "      <th>rater1_output</th>\n",
       "      <th>rater2_no_attributes</th>\n",
       "      <th>rater2_unlisted_value</th>\n",
       "      <th>rater2_output</th>\n",
       "      <th>rater3_no_attributes</th>\n",
       "      <th>rater3_unlisted_value</th>\n",
       "      <th>rater3_output</th>\n",
       "      <th>title_original</th>\n",
       "      <th>product_description_original</th>\n",
       "    </tr>\n",
       "  </thead>\n",
       "  <tbody>\n",
       "    <tr>\n",
       "      <th>4044</th>\n",
       "      <td>Home &amp; Garden &gt; Kitchen,Dining &amp; Bar &gt; Teaware...</td>\n",
       "      <td>6120aa90d631eeaff38fd328</td>\n",
       "      <td>3 Style New Concept Training Hidden Happiness Cup</td>\n",
       "      <td>NaN</td>\n",
       "      <td>https://canary.contestimg.wish.com/api/webimag...</td>\n",
       "      <td>text_and_img</td>\n",
       "      <td>35818</td>\n",
       "      <td>TRUE</td>\n",
       "      <td>0</td>\n",
       "      <td>0</td>\n",
       "      <td>TRUE</td>\n",
       "      <td>0</td>\n",
       "      <td>0</td>\n",
       "      <td>TRUE</td>\n",
       "      <td>0</td>\n",
       "      <td>0</td>\n",
       "      <td>3 Style New Concept Training Hidden Happiness Cup</td>\n",
       "      <td>NaN</td>\n",
       "    </tr>\n",
       "  </tbody>\n",
       "</table>\n",
       "</div>"
      ],
      "text/plain": [
       "                                          category_path  \\\n",
       "4044  Home & Garden > Kitchen,Dining & Bar > Teaware...   \n",
       "\n",
       "                    product_id  \\\n",
       "4044  6120aa90d631eeaff38fd328   \n",
       "\n",
       "                                                  title product_description  \\\n",
       "4044  3 Style New Concept Training Hidden Happiness Cup                 NaN   \n",
       "\n",
       "                                         main_image_url sample_method  \\\n",
       "4044  https://canary.contestimg.wish.com/api/webimag...  text_and_img   \n",
       "\n",
       "      label_ordering rater1_no_attributes rater1_unlisted_value rater1_output  \\\n",
       "4044           35818                 TRUE                     0             0   \n",
       "\n",
       "     rater2_no_attributes rater2_unlisted_value rater2_output  \\\n",
       "4044                 TRUE                     0             0   \n",
       "\n",
       "     rater3_no_attributes rater3_unlisted_value rater3_output  \\\n",
       "4044                 TRUE                     0             0   \n",
       "\n",
       "                                         title_original  \\\n",
       "4044  3 Style New Concept Training Hidden Happiness Cup   \n",
       "\n",
       "     product_description_original  \n",
       "4044                          NaN  "
      ]
     },
     "execution_count": 120,
     "metadata": {},
     "output_type": "execute_result"
    }
   ],
   "source": [
    "df_uniq_merge[df_uniq_merge.product_description_original.isna()]"
   ]
  },
  {
   "cell_type": "code",
   "execution_count": 121,
   "metadata": {},
   "outputs": [],
   "source": [
    "df_uniq_merge['final_output'] = df_uniq_merge['rater1_output'].fillna('') + '\\n' + df_uniq_merge['rater2_output'].fillna('') + '\\n' + \\\n",
    "    df_uniq_merge['rater3_output'].fillna('')"
   ]
  },
  {
   "cell_type": "code",
   "execution_count": 122,
   "metadata": {},
   "outputs": [
    {
     "data": {
      "text/plain": [
       "(7789, 0, 7789, 7789, 0, 0, 7789)"
      ]
     },
     "execution_count": 122,
     "metadata": {},
     "output_type": "execute_result"
    }
   ],
   "source": [
    "correct = []\n",
    "errors = []\n",
    "errors_fixed = []\n",
    "nonempty = []\n",
    "empty = []\n",
    "for i in df_uniq_merge.to_dict('records'):\n",
    "    res = [] if ((not isinstance(i['final_output'], str)) and (np.isnan(i['final_output']))) else i['final_output'].split('\\n')\n",
    "    res = sorted(set(res))\n",
    "    res = [i for i in res if len(i) > 0]\n",
    "    if len(res) == 0:\n",
    "        empty.append(i)\n",
    "    is_correct = True\n",
    "    for j in res:\n",
    "        if len(j.split(' > ')) < 2:\n",
    "            i['explanation'] = f\"{j} has no attribute name\"\n",
    "            errors.append(i)\n",
    "            is_correct = False\n",
    "            break\n",
    "        if j.split(' > ')[-2] not in attributes:\n",
    "            i['explanation'] = f\"{j} has invalid attribute name, because {j.split(' > ')[-2]} is not a valid attribute name\"\n",
    "            errors.append(i)\n",
    "            is_correct = False\n",
    "            break\n",
    "    if is_correct:\n",
    "        correct.append(i)\n",
    "        if len(res) > 0:\n",
    "            nonempty.append(i)\n",
    "for i in errors:\n",
    "    res = [] if ((not isinstance(i['final_output'], str)) and (np.isnan(i['final_output']))) else i['final_output'].split('\\n')\n",
    "    res = sorted(set(res))\n",
    "    res = [i for i in res if len(i) > 0]\n",
    "    corrected_res = []\n",
    "    for j in res:\n",
    "        if len(j.split(' > ')) >= 2 and j.split(' > ')[-2] in attributes:\n",
    "            corrected_res.append(j)\n",
    "    i['final_output_corrected'] = '\\n'.join(corrected_res)\n",
    "    errors_fixed.append(i)\n",
    "\n",
    "len(df), len(correct), len(errors), len(errors_fixed), len(empty), len(nonempty), len(correct) + len(errors)"
   ]
  },
  {
   "cell_type": "code",
   "execution_count": 123,
   "metadata": {},
   "outputs": [],
   "source": [
    "df_error_fixed = pd.DataFrame(errors_fixed)"
   ]
  },
  {
   "cell_type": "code",
   "execution_count": 124,
   "metadata": {},
   "outputs": [
    {
     "data": {
      "text/plain": [
       "[{'title': 'Apple AirPods AirPods Wireless Earphone Bluetooth Mic MMEF2J/A',\n",
       "  'final_output_corrected': 'Consumer Electronics > Earphones & Headphones > Earphones > Compatible Devices > Cellphones\\nConsumer Electronics > Earphones & Headphones > Earphones > Item Condition > New\\nConsumer Electronics > Earphones & Headphones > Earphones > Noise Control > None\\nConsumer Electronics > Earphones & Headphones > Earphones > Primary Color > White\\nConsumer Electronics > Earphones & Headphones > Earphones > Wireless Communication Types > Bluetooth'},\n",
       " {'title': 'Skull and Roses Hippie Spare Tire Cover fit to exact tire size Jeep Camper RV Motor home Trailer/Option for backup camera in menu',\n",
       "  'final_output_corrected': 'Home & Garden > Home Textile > Table & Sofa Linens > Chair Covers > Materials > Polyester\\nHome & Garden > Home Textile > Table & Sofa Linens > Chair Covers > Size > 14 inch 23inch 27inch\\nHome & Garden > Home Textile > Table & Sofa Linens > Chair Covers > Size > 16 inch 30inch 31inch\\nHome & Garden > Home Textile > Table & Sofa Linens > Chair Covers > Water Resistance Level > Waterproof'}]"
      ]
     },
     "execution_count": 124,
     "metadata": {},
     "output_type": "execute_result"
    }
   ],
   "source": [
    "df_error_fixed[['title', 'final_output_corrected']].sample(2).to_dict('records')"
   ]
  },
  {
   "cell_type": "code",
   "execution_count": 125,
   "metadata": {},
   "outputs": [
    {
     "data": {
      "text/plain": [
       "72"
      ]
     },
     "execution_count": 125,
     "metadata": {},
     "output_type": "execute_result"
    }
   ],
   "source": [
    "len(set(df_missed['label_ordering']) - set(df_error_fixed['label_ordering']))"
   ]
  },
  {
   "cell_type": "code",
   "execution_count": 126,
   "metadata": {},
   "outputs": [],
   "source": [
    "df_error_fixed.to_csv('appen/output_batch_correct_v7/product_attribution_missed_032423_just_032723_invalid_units_fixed.csv', index=False)"
   ]
  },
  {
   "cell_type": "code",
   "execution_count": 127,
   "metadata": {},
   "outputs": [],
   "source": [
    "leftover = set(df_missed['label_ordering']) - set(df_error_fixed['label_ordering'])\n",
    "df_leftover = df_original[df_original.label_ordering.apply(lambda x: x in leftover)]"
   ]
  },
  {
   "cell_type": "code",
   "execution_count": 128,
   "metadata": {},
   "outputs": [
    {
     "data": {
      "text/plain": [
       "72"
      ]
     },
     "execution_count": 128,
     "metadata": {},
     "output_type": "execute_result"
    }
   ],
   "source": [
    "len(df_leftover)"
   ]
  },
  {
   "cell_type": "code",
   "execution_count": 129,
   "metadata": {},
   "outputs": [],
   "source": [
    "df_leftover.to_csv('appen/output_batch_correct_v7/product_attribution_missed_033023.csv', index=False)"
   ]
  },
  {
   "cell_type": "code",
   "execution_count": null,
   "metadata": {},
   "outputs": [],
   "source": []
  }
 ],
 "metadata": {
  "kernelspec": {
   "display_name": "Python 3",
   "language": "python",
   "name": "python3"
  },
  "language_info": {
   "codemirror_mode": {
    "name": "ipython",
    "version": 3
   },
   "file_extension": ".py",
   "mimetype": "text/x-python",
   "name": "python",
   "nbconvert_exporter": "python",
   "pygments_lexer": "ipython3",
   "version": "3.8.13"
  },
  "orig_nbformat": 4,
  "vscode": {
   "interpreter": {
    "hash": "949777d72b0d2535278d3dc13498b2535136f6dfe0678499012e853ee9abcab1"
   }
  }
 },
 "nbformat": 4,
 "nbformat_minor": 2
}
