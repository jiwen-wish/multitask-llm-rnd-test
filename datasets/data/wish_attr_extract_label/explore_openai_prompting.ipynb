{
 "cells": [
  {
   "cell_type": "code",
   "execution_count": 97,
   "metadata": {},
   "outputs": [],
   "source": [
    "import json\n",
    "import pandas as pd"
   ]
  },
  {
   "cell_type": "code",
   "execution_count": 98,
   "metadata": {},
   "outputs": [],
   "source": [
    "attribute_ontology = pd.read_csv('[ontology] wish_top25L2_attributes - 20221219.csv')\n",
    "example_products = pd.read_csv('[data] appen_data_tester_size_250_stratified_by_l2_20221229.csv')"
   ]
  },
  {
   "attachments": {},
   "cell_type": "markdown",
   "metadata": {},
   "source": [
    "# play"
   ]
  },
  {
   "cell_type": "code",
   "execution_count": 26,
   "metadata": {},
   "outputs": [],
   "source": [
    "from langchain.llms import OpenAI\n",
    "llm = OpenAI(model_name='text-davinci-003', temperature=0)"
   ]
  },
  {
   "cell_type": "code",
   "execution_count": 27,
   "metadata": {},
   "outputs": [],
   "source": [
    "from langchain.chains import LLMChain"
   ]
  },
  {
   "cell_type": "code",
   "execution_count": 72,
   "metadata": {},
   "outputs": [],
   "source": [
    "from langchain.prompts import PromptTemplate\n",
    "\n",
    "template = \"\"\"Sentence: \\\"\\\"\\\"query: {query}\\\"\\\"\\\"\n",
    "Instruction: given the above user query on an E-commerce site, which intends to search products that belong to {taxonomy}, please extract entities and their types from the input sentence, all entity types are in options\n",
    "\n",
    "Options: {attribute_types}\n",
    "\n",
    "Entities (only for options specified above, formatted as json that can be parsed, ordered in the same way):\n",
    "\"\"\"\n",
    "\n",
    "prompt_query = PromptTemplate(\n",
    "    input_variables=[\"query\", \"taxonomy\", \"attribute_types\"],\n",
    "    template=template,\n",
    ")\n",
    "\n",
    "template = \"\"\"Sentence: \\\"\\\"\\\"product title: {product_title}\n",
    "product description: {product_description}\n",
    "\\\"\\\"\\\"\n",
    "Instruction: given the above product information which belongs to {taxonomy}, please extract entities and their types from the input sentence, all entity types are in options\n",
    "\n",
    "Options: {attribute_types}\n",
    "\n",
    "Entities (only for options specified above, formatted as json that can be parsed, ordered in the same way):\n",
    "\"\"\"\n",
    "\n",
    "prompt_product = PromptTemplate(\n",
    "    input_variables=[\"product_title\", \"product_description\", \"taxonomy\", \"attribute_types\"],\n",
    "    template=template,\n",
    ")\n",
    "\n",
    "template = \"\"\"{previous_text}\n",
    "\n",
    "Now normalize above extracted enties, given the following specification that contains a list of of recommended normalized values for each entity type. If possible, please choose from them, but in rare cases where you have to, you can create new normalized value following similar style and semantics:\n",
    "\n",
    "Specification:\n",
    "\n",
    "{specification_json}\n",
    "\n",
    "Normalized Entities:\n",
    "\"\"\"\n",
    "\n",
    "prompt_normalize = PromptTemplate(\n",
    "    input_variables=[\"previous_text\", \"specification_json\"],\n",
    "    template=template,\n",
    ")"
   ]
  },
  {
   "cell_type": "code",
   "execution_count": 53,
   "metadata": {},
   "outputs": [
    {
     "name": "stdout",
     "output_type": "stream",
     "text": [
      "Sentence: \"\"\"query: sun zero madison room darkening grommet curtain panel, 54 quot;x84 quot;, marine\"\"\"\n",
      "Instruction: given the above user query on an E-commerce site, which intends to search products that belong to Home & Garden > Home Textile > Window Treatments > Curtains, please extract entities and their types from the input sentence, all entity types are in options\n",
      "\n",
      "Options: Care Instructions, Material Type, Season of the Product, Color, Pattern, Size, Style Name, Base Type, Finish Types, Item Firmness Description, Top Style, closure_type, Fabric Warmth Description, Door Orientation, Light Source Type, Target Audience, Back Material Type, Construction Type, Weave Type\n",
      "\n",
      "Entities (only for options specified above, formatted as json that can be parsed, ordered in the same way):\n",
      "\n"
     ]
    }
   ],
   "source": [
    "print(prompt_query.format(\n",
    "    query=\"sun zero madison room darkening grommet curtain panel, 54 quot;x84 quot;, marine\", \n",
    "    taxonomy=\"Home & Garden > Home Textile > Window Treatments > Curtains\",\n",
    "    attribute_types=\"Care Instructions, Material Type, Season of the Product, Color, Pattern, Size, Style Name, Base Type, Finish Types, Item Firmness Description, Top Style, closure_type, Fabric Warmth Description, Door Orientation, Light Source Type, Target Audience, Back Material Type, Construction Type, Weave Type\"\n",
    "))"
   ]
  },
  {
   "cell_type": "code",
   "execution_count": 54,
   "metadata": {},
   "outputs": [
    {
     "name": "stdout",
     "output_type": "stream",
     "text": [
      "Sentence: \"\"\"product title: Liqui Moly LIQ-20552 Marine Diesel Additive&#44; 1 ltr,\n",
      "product description: <p>Acombination of additives that clean and maintain diesel fuel systems&#46; Prevents corrosion and increases lubrication thus reducing fuel pump and injector wear&#46; Increases Cetane value for improved engine performance, easier starting and lower emissions&#46; Regular use keeps the fuel system in perfect working order&#46; </p><b>Features</b>. Boosts the cetane number. Keeps the fuel system clean. Optimizes engine performance. Keeps injection nozzles clean. Low fuel consumption. High wear resistance. Prevents the build&#45;up of deposits. Increases the lubricating effect. Prevents seizing and the injector needles from gumming up<b>Specifications</b>. <b>Capacity&#58;</b> 1 ltr. <b>Country of Origin&#58;</b> Germany-We do not ship to PO BOXES, please enter a street address. We only ship to the contiguous 48 States.\n",
      "\"\"\"\n",
      "Instruction: given the above product information which belongs to Automobiles & Motorcycles > Auto Replacement Parts > Lubrication System > Oil Additive, please extract entities and their types from the input sentence, all entity types are in options\n",
      "\n",
      "Options: Additional Features, Light Source Type, Style Name, Shape, Finish Types, Specific Uses For Product, Mount Type, Control Method, Water Resistance Level, Colour Map, Power Source, Included Components, Material Type, Pattern, Handle Lever Placement, System of Measurement, Condition, Hand Orientation\n",
      "\n",
      "Entities (only for options specified above, formatted as json that can be parsed, ordered in the same way):\n",
      "\n"
     ]
    }
   ],
   "source": [
    "print(prompt_product.format(\n",
    "    product_title=\"Liqui Moly LIQ-20552 Marine Diesel Additive&#44; 1 ltr,\", \n",
    "    product_description=\"<p>Acombination of additives that clean and maintain diesel fuel systems&#46; Prevents corrosion and increases lubrication thus reducing fuel pump and injector wear&#46; Increases Cetane value for improved engine performance, easier starting and lower emissions&#46; Regular use keeps the fuel system in perfect working order&#46; </p><b>Features</b>. Boosts the cetane number. Keeps the fuel system clean. Optimizes engine performance. Keeps injection nozzles clean. Low fuel consumption. High wear resistance. Prevents the build&#45;up of deposits. Increases the lubricating effect. Prevents seizing and the injector needles from gumming up<b>Specifications</b>. <b>Capacity&#58;</b> 1 ltr. <b>Country of Origin&#58;</b> Germany-We do not ship to PO BOXES, please enter a street address. We only ship to the contiguous 48 States.\",\n",
    "    taxonomy=\"Automobiles & Motorcycles > Auto Replacement Parts > Lubrication System > Oil Additive\",\n",
    "    attribute_types=\"Additional Features, Light Source Type, Style Name, Shape, Finish Types, Specific Uses For Product, Mount Type, Control Method, Water Resistance Level, Colour Map, Power Source, Included Components, Material Type, Pattern, Handle Lever Placement, System of Measurement, Condition, Hand Orientation\"\n",
    "))"
   ]
  },
  {
   "cell_type": "code",
   "execution_count": 55,
   "metadata": {},
   "outputs": [
    {
     "name": "stdout",
     "output_type": "stream",
     "text": [
      " 2\n",
      "\n",
      "2 + 2 = 4\n"
     ]
    }
   ],
   "source": [
    "text = \"1 + 1 =\"\n",
    "print(llm(text))"
   ]
  },
  {
   "cell_type": "code",
   "execution_count": 85,
   "metadata": {},
   "outputs": [],
   "source": [
    "prompt_query_text = prompt_query.format(\n",
    "    query=\"sun zero madison room darkening grommet curtain panel, 54 quot;x84 quot;, marine\", \n",
    "    taxonomy=\"Home & Garden > Home Textile > Window Treatments > Curtains\",\n",
    "    attribute_types=\"Care Instructions, Material Type, Season of the Product, Color, Pattern, Size, Style Name, Base Type, Finish Types, Item Firmness Description, Top Style, closure_type, Fabric Warmth Description, Door Orientation, Light Source Type, Target Audience, Back Material Type, Construction Type, Weave Type\"\n",
    ")\n",
    "query_attr_extract_json = llm(prompt_query_text)"
   ]
  },
  {
   "cell_type": "code",
   "execution_count": 87,
   "metadata": {},
   "outputs": [
    {
     "data": {
      "text/plain": [
       "{'Size': '54 quot;x84 quot;',\n",
       " 'Color': 'Marine',\n",
       " 'Style Name': 'Madison Room Darkening Grommet Curtain Panel'}"
      ]
     },
     "execution_count": 87,
     "metadata": {},
     "output_type": "execute_result"
    }
   ],
   "source": [
    "json.loads(query_attr_extract_json)"
   ]
  },
  {
   "cell_type": "code",
   "execution_count": 95,
   "metadata": {},
   "outputs": [],
   "source": [
    "prompt_product_text = prompt_product.format(\n",
    "    product_title=\"Liqui Moly LIQ-20552 Marine Diesel Additive&#44; 1 ltr,\", \n",
    "    product_description=\"<p>Acombination of additives that clean and maintain diesel fuel systems&#46; Prevents corrosion and increases lubrication thus reducing fuel pump and injector wear&#46; Increases Cetane value for improved engine performance, easier starting and lower emissions&#46; Regular use keeps the fuel system in perfect working order&#46; </p><b>Features</b>. Boosts the cetane number. Keeps the fuel system clean. Optimizes engine performance. Keeps injection nozzles clean. Low fuel consumption. High wear resistance. Prevents the build&#45;up of deposits. Increases the lubricating effect. Prevents seizing and the injector needles from gumming up<b>Specifications</b>. <b>Capacity&#58;</b> 1 ltr. <b>Country of Origin&#58;</b> Germany-We do not ship to PO BOXES, please enter a street address. We only ship to the contiguous 48 States.\",\n",
    "    taxonomy=\"Automobiles & Motorcycles > Auto Replacement Parts > Lubrication System > Oil Additive\",\n",
    "    attribute_types=\"Additional Features, Light Source Type, Style Name, Shape, Finish Types, Specific Uses For Product, Mount Type, Control Method, Water Resistance Level, Colour Map, Power Source, Included Components, Material Type, Pattern, Handle Lever Placement, System of Measurement, Condition, Hand Orientation\"\n",
    ")\n",
    "product_attr_extract_json = llm(prompt_product_text)"
   ]
  },
  {
   "cell_type": "code",
   "execution_count": 96,
   "metadata": {},
   "outputs": [
    {
     "data": {
      "text/plain": [
       "{'Additional Features': ['Boosts the cetane number',\n",
       "  'Keeps the fuel system clean',\n",
       "  'Optimizes engine performance',\n",
       "  'Keeps injection nozzles clean',\n",
       "  'Low fuel consumption',\n",
       "  'High wear resistance',\n",
       "  'Prevents the build-up of deposits',\n",
       "  'Increases the lubricating effect',\n",
       "  'Prevents seizing and the injector needles from gumming up'],\n",
       " 'Capacity': '1 ltr',\n",
       " 'Country of Origin': 'Germany'}"
      ]
     },
     "execution_count": 96,
     "metadata": {},
     "output_type": "execute_result"
    }
   ],
   "source": [
    "json.loads(product_attr_extract_json)"
   ]
  },
  {
   "attachments": {},
   "cell_type": "markdown",
   "metadata": {},
   "source": [
    "# end2end example for product in two step inference"
   ]
  },
  {
   "cell_type": "code",
   "execution_count": 103,
   "metadata": {},
   "outputs": [],
   "source": [
    "product_dict = example_products.sample(1, random_state=42).to_dict('records')[0]"
   ]
  },
  {
   "cell_type": "code",
   "execution_count": 104,
   "metadata": {},
   "outputs": [
    {
     "data": {
      "text/plain": [
       "{'product_id': '60894a9a475a16cedcf440c0',\n",
       " 'title': 'Vintage Vivid 925 Sterling Silver Python Snake Pendant Necklace Nice Gift new',\n",
       " 'description': '100% Brand New and High Quality\\n\\nMaterial: 925 Silver\\n\\nColor: Silver\\n\\nSize: 4.2 * 2.6cm (1cm=0.39inch)\\n\\nPackage Included: 1pcs Snake Pendant',\n",
       " 'category_id': 4112,\n",
       " 'category_path': 'Jewelry & Accessories > Necklaces & Pendants > Pendants',\n",
       " 'L2_path': 'Jewelry & Accessories > Necklaces & Pendants',\n",
       " 'temp_img_url': 'https://contestimg.wish.com/api/webimage/60894a9a475a16cedcf440c0-large.jpg'}"
      ]
     },
     "execution_count": 104,
     "metadata": {},
     "output_type": "execute_result"
    }
   ],
   "source": [
    "product_dict"
   ]
  },
  {
   "cell_type": "code",
   "execution_count": 135,
   "metadata": {},
   "outputs": [],
   "source": [
    "attribute_ontology_l2 = attribute_ontology[attribute_ontology['wish_L2'] == product_dict['L2_path']]"
   ]
  },
  {
   "cell_type": "code",
   "execution_count": 113,
   "metadata": {},
   "outputs": [],
   "source": [
    "assert len(attribute_ontology_l2) > 0"
   ]
  },
  {
   "cell_type": "code",
   "execution_count": 117,
   "metadata": {},
   "outputs": [],
   "source": [
    "product_title = product_dict[\"title\"] \n",
    "product_description = product_dict[\"description\"] \n",
    "taxonomy = product_dict[\"category_path\"]\n",
    "attribute_types_list = attribute_ontology_l2['attribute_name'].tolist()\n",
    "attribute_types = \", \".join(attribute_types_list)"
   ]
  },
  {
   "cell_type": "code",
   "execution_count": 115,
   "metadata": {},
   "outputs": [],
   "source": [
    "prompt_product_text = prompt_product.format(\n",
    "    product_title=product_title, \n",
    "    product_description=product_description,\n",
    "    taxonomy=taxonomy,\n",
    "    attribute_types=attribute_types\n",
    ")\n",
    "product_attr_extract_json = llm(prompt_product_text)"
   ]
  },
  {
   "cell_type": "code",
   "execution_count": 119,
   "metadata": {},
   "outputs": [],
   "source": [
    "product_attr_extract_dict = json.loads(product_attr_extract_json)"
   ]
  },
  {
   "cell_type": "code",
   "execution_count": 127,
   "metadata": {},
   "outputs": [],
   "source": [
    "product_attr_extract_dict_clean = {i:product_attr_extract_dict[i] for i in product_attr_extract_dict if i in attribute_types_list and product_attr_extract_dict[i] is not None}"
   ]
  },
  {
   "cell_type": "code",
   "execution_count": 150,
   "metadata": {},
   "outputs": [],
   "source": [
    "product_attr_extract_json_clean = json.dumps(product_attr_extract_dict_clean, indent=2)"
   ]
  },
  {
   "cell_type": "code",
   "execution_count": 136,
   "metadata": {},
   "outputs": [],
   "source": [
    "specification = {} \n",
    "for i in attribute_ontology_l2.to_dict('records'):\n",
    "    if i['attribute_name'] in product_attr_extract_dict_clean:\n",
    "        specification[i['attribute_name']] = i['example_attribute_value']"
   ]
  },
  {
   "cell_type": "code",
   "execution_count": 140,
   "metadata": {},
   "outputs": [],
   "source": [
    "specification_json = json.dumps(specification, indent=2)"
   ]
  },
  {
   "cell_type": "code",
   "execution_count": 155,
   "metadata": {},
   "outputs": [],
   "source": [
    "prompt_normalize_text = prompt_normalize.format(\n",
    "    previous_text=prompt_product_text + '\\n' + product_attr_extract_json_clean,\n",
    "    specification_json=specification_json\n",
    ")\n",
    "product_normalize_json = llm(prompt_normalize_text)"
   ]
  },
  {
   "cell_type": "code",
   "execution_count": 158,
   "metadata": {},
   "outputs": [
    {
     "data": {
      "text/plain": [
       "{'Condition': 'New',\n",
       " 'Department': 'Jewelry & Accessories > Necklaces & Pendants > Pendants',\n",
       " 'Material Type': '925 Silver',\n",
       " 'Metal Type': 'Sterling Silver',\n",
       " 'Size Map': '4.2 * 2.6cm (1cm=0.39inch)',\n",
       " 'Stone Color': 'Silver',\n",
       " 'Stone Shape': 'Python Snake'}"
      ]
     },
     "execution_count": 158,
     "metadata": {},
     "output_type": "execute_result"
    }
   ],
   "source": [
    "product_attr_extract_dict_clean"
   ]
  },
  {
   "cell_type": "code",
   "execution_count": 157,
   "metadata": {},
   "outputs": [
    {
     "data": {
      "text/plain": [
       "{'Condition': 'New',\n",
       " 'Department': 'Jewelry & Accessories > Necklaces & Pendants > Pendants',\n",
       " 'Material Type': '925 Silver',\n",
       " 'Metal Type': 'Sterling Silver',\n",
       " 'Size Map': 'Small',\n",
       " 'Stone Color': 'Silver',\n",
       " 'Stone Shape': 'Python Snake'}"
      ]
     },
     "execution_count": 157,
     "metadata": {},
     "output_type": "execute_result"
    }
   ],
   "source": [
    "json.loads(product_normalize_json)"
   ]
  },
  {
   "attachments": {},
   "cell_type": "markdown",
   "metadata": {},
   "source": [
    "## put it all together"
   ]
  },
  {
   "cell_type": "code",
   "execution_count": 178,
   "metadata": {},
   "outputs": [],
   "source": [
    "def zero_shot_attribute_extraction(product_dict):\n",
    "    # prepare inputs\n",
    "    attribute_ontology_l2 = attribute_ontology[attribute_ontology['wish_L2'] == product_dict['L2_path']]\n",
    "    assert len(attribute_ontology_l2) > 0\n",
    "    product_title = product_dict[\"title\"] \n",
    "    product_description = product_dict[\"description\"] \n",
    "    taxonomy = product_dict[\"category_path\"]\n",
    "    attribute_types_list = attribute_ontology_l2['attribute_name'].tolist()\n",
    "    attribute_types = \", \".join(attribute_types_list)\n",
    "    \n",
    "    # first call: get unnormalized entities\n",
    "    prompt_product_text = prompt_product.format(\n",
    "        product_title=product_title, \n",
    "        product_description=product_description,\n",
    "        taxonomy=taxonomy,\n",
    "        attribute_types=attribute_types\n",
    "    )\n",
    "    product_attr_extract_json = llm(prompt_product_text)\n",
    "    product_attr_extract_dict = json.loads(product_attr_extract_json)\n",
    "    product_attr_extract_dict_clean = {i:product_attr_extract_dict[i] for i in product_attr_extract_dict if i in attribute_types_list and product_attr_extract_dict[i] is not None}\n",
    "    product_attr_extract_json_clean = json.dumps(product_attr_extract_dict_clean, indent=2)\n",
    "\n",
    "    # second call: normalize them\n",
    "    specification = {} \n",
    "    for i in attribute_ontology_l2.to_dict('records'):\n",
    "        if i['attribute_name'] in product_attr_extract_dict_clean:\n",
    "            specification[i['attribute_name']] = i['example_attribute_value']\n",
    "    specification_json = json.dumps(specification, indent=2)\n",
    "    prompt_normalize_text = prompt_normalize.format(\n",
    "        previous_text=prompt_product_text + '\\n' + product_attr_extract_json_clean,\n",
    "        specification_json=specification_json\n",
    "    )\n",
    "    product_normalize_json = llm(prompt_normalize_text)\n",
    "    product_attr_extract_dict_clean_normalized = json.loads(product_normalize_json)\n",
    "    return product_attr_extract_dict_clean, product_attr_extract_dict_clean_normalized, specification"
   ]
  },
  {
   "cell_type": "code",
   "execution_count": 179,
   "metadata": {},
   "outputs": [],
   "source": [
    "product_dict = example_products.sample(1).to_dict('records')[0]"
   ]
  },
  {
   "cell_type": "code",
   "execution_count": 180,
   "metadata": {},
   "outputs": [
    {
     "data": {
      "text/plain": [
       "{'product_id': '58ea1d6f28c2733bf9e9d8a7',\n",
       " 'title': 'Silver Pentagram Belt Buckle Gift ',\n",
       " 'description': 'name :belt buckle \\nsize :10.0*5.5cm\\nweight ：75.4g\\nmaterial:alloy zinc',\n",
       " 'category_id': 2334,\n",
       " 'category_path': 'Home & Garden > Arts, Crafts & Sewing > Apparel Sewing & Fabric > Buckles & Hooks',\n",
       " 'L2_path': 'Home & Garden > Arts, Crafts & Sewing',\n",
       " 'temp_img_url': 'https://contestimg.wish.com/api/webimage/58ea1d6f28c2733bf9e9d8a7-large.jpg'}"
      ]
     },
     "execution_count": 180,
     "metadata": {},
     "output_type": "execute_result"
    }
   ],
   "source": [
    "product_dict"
   ]
  },
  {
   "cell_type": "code",
   "execution_count": 181,
   "metadata": {},
   "outputs": [
    {
     "data": {
      "text/plain": [
       "({'Material Type': 'alloy zinc'},\n",
       " {'Material Type': 'Silver'},\n",
       " {'Material Type': \"['Acrylic', 'Alpaca', 'Angora', 'Bamboo', 'Batik', 'Batiste', 'Brass', 'Broadcloth', 'Bronze', 'Burlap', 'Calico', 'Camel', 'Canvas & Duck', 'Cashmere', 'Chenille', 'Combination', 'Copper', 'Corduroy', 'Cotton', 'Denim & Chambray', 'Eyelet', 'Faux Fur', 'Felt', 'Flannel', 'Flax', 'Fleece', 'Gold', 'Hemp', 'Hog', 'Jacquard', 'Knits', 'Lace', 'Leather', 'Linen', 'Minky', 'Mohair', 'Muslin', 'Natural', 'Nickel', 'Nylon', 'Oilcloth & Chalk Cloth', 'Organza & Chiffon', 'Pewter', 'Plastic', 'Polyester', 'Rayon', 'Sable', 'Satin', 'Seersucker', 'Shantung', 'Silk', 'Silver', 'Soy', 'Specialty', 'Stainless steel', 'Stretch & Spandex', 'Suede', 'Synthetic', 'Taffeta', 'Terrycloth', 'Tissue Lame', 'Toile', 'Tulle', 'Velour, Velvet & Velveteen', 'Vinyl', 'Wool', 'Polyresin', 'Polycast', 'Stone', 'Wax', 'Paraffin', 'Other', 'Paper', 'Acrylic Coated Cotton', 'Velour']\"})"
      ]
     },
     "execution_count": 181,
     "metadata": {},
     "output_type": "execute_result"
    }
   ],
   "source": [
    "zero_shot_attribute_extraction(product_dict)"
   ]
  },
  {
   "cell_type": "code",
   "execution_count": null,
   "metadata": {},
   "outputs": [],
   "source": []
  }
 ],
 "metadata": {
  "kernelspec": {
   "display_name": "Python 3",
   "language": "python",
   "name": "python3"
  },
  "language_info": {
   "codemirror_mode": {
    "name": "ipython",
    "version": 3
   },
   "file_extension": ".py",
   "mimetype": "text/x-python",
   "name": "python",
   "nbconvert_exporter": "python",
   "pygments_lexer": "ipython3",
   "version": "3.8.13"
  },
  "orig_nbformat": 4,
  "vscode": {
   "interpreter": {
    "hash": "949777d72b0d2535278d3dc13498b2535136f6dfe0678499012e853ee9abcab1"
   }
  }
 },
 "nbformat": 4,
 "nbformat_minor": 2
}
