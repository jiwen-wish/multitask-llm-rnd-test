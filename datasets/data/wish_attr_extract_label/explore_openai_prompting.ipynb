{
 "cells": [
  {
   "cell_type": "code",
   "execution_count": 46,
   "metadata": {},
   "outputs": [],
   "source": [
    "import json\n",
    "import pandas as pd"
   ]
  },
  {
   "cell_type": "code",
   "execution_count": 47,
   "metadata": {},
   "outputs": [],
   "source": [
    "attribute_ontology = pd.read_csv('[ontology] wish_top25L2_attributes - 20221219.csv')\n",
    "example_products = pd.read_csv('[data] appen_data_tester_size_250_stratified_by_l2_20221229.csv')"
   ]
  },
  {
   "cell_type": "code",
   "execution_count": 48,
   "metadata": {},
   "outputs": [],
   "source": [
    "l2set = set(attribute_ontology['wish_L2'])"
   ]
  },
  {
   "cell_type": "code",
   "execution_count": 49,
   "metadata": {},
   "outputs": [],
   "source": [
    "df_tax = pd.read_json('../taxonomy/wish_newtax.json', lines=True)"
   ]
  },
  {
   "cell_type": "code",
   "execution_count": 50,
   "metadata": {},
   "outputs": [],
   "source": [
    "taxid2path = {}\n",
    "for i in df_tax.to_dict('records'):\n",
    "    if len(i['category_path']) > 0:\n",
    "        taxid2path[i['id']] = i['category_path']"
   ]
  },
  {
   "cell_type": "code",
   "execution_count": 51,
   "metadata": {},
   "outputs": [],
   "source": [
    "taxpathidset = set(df_tax[df_tax['category_path'].apply(lambda x: any(x.startswith(i) for i in l2set))]['id'])"
   ]
  },
  {
   "cell_type": "code",
   "execution_count": 52,
   "metadata": {},
   "outputs": [],
   "source": [
    "l2filter = \"regexp_like(categories, '{}')\".format('|'.join([f'^{num},|,{num},|,{num}$' for num in taxpathidset]))"
   ]
  },
  {
   "cell_type": "code",
   "execution_count": 53,
   "metadata": {},
   "outputs": [],
   "source": [
    "from tahoe import execute_async\n",
    "q = f\"\"\"\n",
    "SELECT query, categories FROM structured_data.query_top3_predictions\n",
    "WHERE model_version = 1 AND taxonomy_version = 121 AND regexp_count(query, ' ') >= 2\n",
    "AND {l2filter}\n",
    "LIMIT 100\n",
    "\"\"\""
   ]
  },
  {
   "cell_type": "code",
   "execution_count": 54,
   "metadata": {},
   "outputs": [],
   "source": [
    "res = execute_async(q)\n",
    "example_queries = pd.DataFrame(res, columns=['query', 'categories'])"
   ]
  },
  {
   "cell_type": "code",
   "execution_count": 55,
   "metadata": {},
   "outputs": [],
   "source": [
    "from langchain.llms import OpenAI\n",
    "llm = OpenAI(model_name='text-davinci-003', temperature=0)"
   ]
  },
  {
   "cell_type": "code",
   "execution_count": 56,
   "metadata": {},
   "outputs": [],
   "source": [
    "from langchain.chains import LLMChain"
   ]
  },
  {
   "cell_type": "code",
   "execution_count": 57,
   "metadata": {},
   "outputs": [],
   "source": [
    "from langchain.prompts import PromptTemplate\n",
    "\n",
    "template = \"\"\"Sentence: \\\"\\\"\\\"query: {query}\\\"\\\"\\\"\n",
    "Instruction: given the above user query on an E-commerce site, which intends to search products that belong to {taxonomy}, please extract entities and their types from the input sentence, all entity types are in options\n",
    "\n",
    "Options: {attribute_types}\n",
    "\n",
    "Entities (only for options specified above, formatted as json that can be parsed, ordered in the same way):\n",
    "\"\"\"\n",
    "\n",
    "prompt_query = PromptTemplate(\n",
    "    input_variables=[\"query\", \"taxonomy\", \"attribute_types\"],\n",
    "    template=template,\n",
    ")\n",
    "\n",
    "template = \"\"\"Sentence: \\\"\\\"\\\"product title: {product_title}\n",
    "product description: {product_description}\n",
    "\\\"\\\"\\\"\n",
    "Instruction: given the above product information which belongs to {taxonomy}, please extract entities and their types from the input sentence, all entity types are in options\n",
    "\n",
    "Options: {attribute_types}\n",
    "\n",
    "Entities (only for options specified above, formatted as json that can be parsed, ordered in the same way):\n",
    "\"\"\"\n",
    "\n",
    "prompt_product = PromptTemplate(\n",
    "    input_variables=[\"product_title\", \"product_description\", \"taxonomy\", \"attribute_types\"],\n",
    "    template=template,\n",
    ")\n",
    "\n",
    "template = \"\"\"{previous_text}\n",
    "\n",
    "Now normalize above extracted enties, given the following specification that contains a list of of recommended normalized values for each entity type. If possible, please choose from them, but in rare cases where you have to, you can create new normalized value following similar style and semantics:\n",
    "\n",
    "Specification:\n",
    "\n",
    "{specification_json}\n",
    "\n",
    "Normalized Entities:\n",
    "\"\"\"\n",
    "\n",
    "prompt_normalize = PromptTemplate(\n",
    "    input_variables=[\"previous_text\", \"specification_json\"],\n",
    "    template=template,\n",
    ")"
   ]
  },
  {
   "attachments": {},
   "cell_type": "markdown",
   "metadata": {},
   "source": [
    "# play"
   ]
  },
  {
   "cell_type": "code",
   "execution_count": 58,
   "metadata": {},
   "outputs": [
    {
     "name": "stdout",
     "output_type": "stream",
     "text": [
      "Sentence: \"\"\"query: sun zero madison room darkening grommet curtain panel, 54 quot;x84 quot;, marine\"\"\"\n",
      "Instruction: given the above user query on an E-commerce site, which intends to search products that belong to Home & Garden > Home Textile > Window Treatments > Curtains, please extract entities and their types from the input sentence, all entity types are in options\n",
      "\n",
      "Options: Care Instructions, Material Type, Season of the Product, Color, Pattern, Size, Style Name, Base Type, Finish Types, Item Firmness Description, Top Style, closure_type, Fabric Warmth Description, Door Orientation, Light Source Type, Target Audience, Back Material Type, Construction Type, Weave Type\n",
      "\n",
      "Entities (only for options specified above, formatted as json that can be parsed, ordered in the same way):\n",
      "\n"
     ]
    }
   ],
   "source": [
    "print(prompt_query.format(\n",
    "    query=\"sun zero madison room darkening grommet curtain panel, 54 quot;x84 quot;, marine\", \n",
    "    taxonomy=\"Home & Garden > Home Textile > Window Treatments > Curtains\",\n",
    "    attribute_types=\"Care Instructions, Material Type, Season of the Product, Color, Pattern, Size, Style Name, Base Type, Finish Types, Item Firmness Description, Top Style, closure_type, Fabric Warmth Description, Door Orientation, Light Source Type, Target Audience, Back Material Type, Construction Type, Weave Type\"\n",
    "))"
   ]
  },
  {
   "cell_type": "code",
   "execution_count": 59,
   "metadata": {},
   "outputs": [
    {
     "name": "stdout",
     "output_type": "stream",
     "text": [
      "Sentence: \"\"\"product title: Liqui Moly LIQ-20552 Marine Diesel Additive&#44; 1 ltr,\n",
      "product description: <p>Acombination of additives that clean and maintain diesel fuel systems&#46; Prevents corrosion and increases lubrication thus reducing fuel pump and injector wear&#46; Increases Cetane value for improved engine performance, easier starting and lower emissions&#46; Regular use keeps the fuel system in perfect working order&#46; </p><b>Features</b>. Boosts the cetane number. Keeps the fuel system clean. Optimizes engine performance. Keeps injection nozzles clean. Low fuel consumption. High wear resistance. Prevents the build&#45;up of deposits. Increases the lubricating effect. Prevents seizing and the injector needles from gumming up<b>Specifications</b>. <b>Capacity&#58;</b> 1 ltr. <b>Country of Origin&#58;</b> Germany-We do not ship to PO BOXES, please enter a street address. We only ship to the contiguous 48 States.\n",
      "\"\"\"\n",
      "Instruction: given the above product information which belongs to Automobiles & Motorcycles > Auto Replacement Parts > Lubrication System > Oil Additive, please extract entities and their types from the input sentence, all entity types are in options\n",
      "\n",
      "Options: Additional Features, Light Source Type, Style Name, Shape, Finish Types, Specific Uses For Product, Mount Type, Control Method, Water Resistance Level, Colour Map, Power Source, Included Components, Material Type, Pattern, Handle Lever Placement, System of Measurement, Condition, Hand Orientation\n",
      "\n",
      "Entities (only for options specified above, formatted as json that can be parsed, ordered in the same way):\n",
      "\n"
     ]
    }
   ],
   "source": [
    "print(prompt_product.format(\n",
    "    product_title=\"Liqui Moly LIQ-20552 Marine Diesel Additive&#44; 1 ltr,\", \n",
    "    product_description=\"<p>Acombination of additives that clean and maintain diesel fuel systems&#46; Prevents corrosion and increases lubrication thus reducing fuel pump and injector wear&#46; Increases Cetane value for improved engine performance, easier starting and lower emissions&#46; Regular use keeps the fuel system in perfect working order&#46; </p><b>Features</b>. Boosts the cetane number. Keeps the fuel system clean. Optimizes engine performance. Keeps injection nozzles clean. Low fuel consumption. High wear resistance. Prevents the build&#45;up of deposits. Increases the lubricating effect. Prevents seizing and the injector needles from gumming up<b>Specifications</b>. <b>Capacity&#58;</b> 1 ltr. <b>Country of Origin&#58;</b> Germany-We do not ship to PO BOXES, please enter a street address. We only ship to the contiguous 48 States.\",\n",
    "    taxonomy=\"Automobiles & Motorcycles > Auto Replacement Parts > Lubrication System > Oil Additive\",\n",
    "    attribute_types=\"Additional Features, Light Source Type, Style Name, Shape, Finish Types, Specific Uses For Product, Mount Type, Control Method, Water Resistance Level, Colour Map, Power Source, Included Components, Material Type, Pattern, Handle Lever Placement, System of Measurement, Condition, Hand Orientation\"\n",
    "))"
   ]
  },
  {
   "cell_type": "code",
   "execution_count": 60,
   "metadata": {},
   "outputs": [
    {
     "name": "stdout",
     "output_type": "stream",
     "text": [
      " 2\n",
      "\n",
      "2 + 2 = 4\n"
     ]
    }
   ],
   "source": [
    "text = \"1 + 1 =\"\n",
    "print(llm(text))"
   ]
  },
  {
   "cell_type": "code",
   "execution_count": 61,
   "metadata": {},
   "outputs": [],
   "source": [
    "prompt_query_text = prompt_query.format(\n",
    "    query=\"sun zero madison room darkening grommet curtain panel, 54 quot;x84 quot;, marine\", \n",
    "    taxonomy=\"Home & Garden > Home Textile > Window Treatments > Curtains\",\n",
    "    attribute_types=\"Care Instructions, Material Type, Season of the Product, Color, Pattern, Size, Style Name, Base Type, Finish Types, Item Firmness Description, Top Style, closure_type, Fabric Warmth Description, Door Orientation, Light Source Type, Target Audience, Back Material Type, Construction Type, Weave Type\"\n",
    ")\n",
    "query_attr_extract_json = llm(prompt_query_text)"
   ]
  },
  {
   "cell_type": "code",
   "execution_count": 62,
   "metadata": {},
   "outputs": [
    {
     "data": {
      "text/plain": [
       "{'Size': '54 quot;x84 quot;',\n",
       " 'Color': 'Marine',\n",
       " 'Style Name': 'Madison Room Darkening Grommet Curtain Panel'}"
      ]
     },
     "execution_count": 62,
     "metadata": {},
     "output_type": "execute_result"
    }
   ],
   "source": [
    "json.loads(query_attr_extract_json)"
   ]
  },
  {
   "cell_type": "code",
   "execution_count": 63,
   "metadata": {},
   "outputs": [],
   "source": [
    "prompt_product_text = prompt_product.format(\n",
    "    product_title=\"Liqui Moly LIQ-20552 Marine Diesel Additive&#44; 1 ltr,\", \n",
    "    product_description=\"<p>Acombination of additives that clean and maintain diesel fuel systems&#46; Prevents corrosion and increases lubrication thus reducing fuel pump and injector wear&#46; Increases Cetane value for improved engine performance, easier starting and lower emissions&#46; Regular use keeps the fuel system in perfect working order&#46; </p><b>Features</b>. Boosts the cetane number. Keeps the fuel system clean. Optimizes engine performance. Keeps injection nozzles clean. Low fuel consumption. High wear resistance. Prevents the build&#45;up of deposits. Increases the lubricating effect. Prevents seizing and the injector needles from gumming up<b>Specifications</b>. <b>Capacity&#58;</b> 1 ltr. <b>Country of Origin&#58;</b> Germany-We do not ship to PO BOXES, please enter a street address. We only ship to the contiguous 48 States.\",\n",
    "    taxonomy=\"Automobiles & Motorcycles > Auto Replacement Parts > Lubrication System > Oil Additive\",\n",
    "    attribute_types=\"Additional Features, Light Source Type, Style Name, Shape, Finish Types, Specific Uses For Product, Mount Type, Control Method, Water Resistance Level, Colour Map, Power Source, Included Components, Material Type, Pattern, Handle Lever Placement, System of Measurement, Condition, Hand Orientation\"\n",
    ")\n",
    "product_attr_extract_json = llm(prompt_product_text)"
   ]
  },
  {
   "cell_type": "code",
   "execution_count": 64,
   "metadata": {},
   "outputs": [
    {
     "data": {
      "text/plain": [
       "{'Additional Features': ['Boosts the cetane number',\n",
       "  'Keeps the fuel system clean',\n",
       "  'Optimizes engine performance',\n",
       "  'Keeps injection nozzles clean',\n",
       "  'Low fuel consumption',\n",
       "  'High wear resistance',\n",
       "  'Prevents the build-up of deposits',\n",
       "  'Increases the lubricating effect',\n",
       "  'Prevents seizing and the injector needles from gumming up'],\n",
       " 'Capacity': '1 ltr',\n",
       " 'Country of Origin': 'Germany'}"
      ]
     },
     "execution_count": 64,
     "metadata": {},
     "output_type": "execute_result"
    }
   ],
   "source": [
    "json.loads(product_attr_extract_json)"
   ]
  },
  {
   "attachments": {},
   "cell_type": "markdown",
   "metadata": {},
   "source": [
    "# end2end example for product in two step inference"
   ]
  },
  {
   "cell_type": "code",
   "execution_count": 65,
   "metadata": {},
   "outputs": [],
   "source": [
    "product_dict = example_products.sample(1, random_state=42).to_dict('records')[0]"
   ]
  },
  {
   "cell_type": "code",
   "execution_count": 66,
   "metadata": {},
   "outputs": [
    {
     "data": {
      "text/plain": [
       "{'product_id': '60894a9a475a16cedcf440c0',\n",
       " 'title': 'Vintage Vivid 925 Sterling Silver Python Snake Pendant Necklace Nice Gift new',\n",
       " 'description': '100% Brand New and High Quality\\n\\nMaterial: 925 Silver\\n\\nColor: Silver\\n\\nSize: 4.2 * 2.6cm (1cm=0.39inch)\\n\\nPackage Included: 1pcs Snake Pendant',\n",
       " 'category_id': 4112,\n",
       " 'category_path': 'Jewelry & Accessories > Necklaces & Pendants > Pendants',\n",
       " 'L2_path': 'Jewelry & Accessories > Necklaces & Pendants',\n",
       " 'temp_img_url': 'https://contestimg.wish.com/api/webimage/60894a9a475a16cedcf440c0-large.jpg'}"
      ]
     },
     "execution_count": 66,
     "metadata": {},
     "output_type": "execute_result"
    }
   ],
   "source": [
    "product_dict"
   ]
  },
  {
   "cell_type": "code",
   "execution_count": 67,
   "metadata": {},
   "outputs": [],
   "source": [
    "attribute_ontology_l2 = attribute_ontology[attribute_ontology['wish_L2'] == product_dict['L2_path']]"
   ]
  },
  {
   "cell_type": "code",
   "execution_count": 68,
   "metadata": {},
   "outputs": [],
   "source": [
    "assert len(attribute_ontology_l2) > 0"
   ]
  },
  {
   "cell_type": "code",
   "execution_count": 69,
   "metadata": {},
   "outputs": [],
   "source": [
    "product_title = product_dict[\"title\"] \n",
    "product_description = product_dict[\"description\"] \n",
    "taxonomy = product_dict[\"category_path\"]\n",
    "attribute_types_list = attribute_ontology_l2['attribute_name'].tolist()\n",
    "attribute_types = \", \".join(attribute_types_list)"
   ]
  },
  {
   "cell_type": "code",
   "execution_count": 70,
   "metadata": {},
   "outputs": [],
   "source": [
    "prompt_product_text = prompt_product.format(\n",
    "    product_title=product_title, \n",
    "    product_description=product_description,\n",
    "    taxonomy=taxonomy,\n",
    "    attribute_types=attribute_types\n",
    ")\n",
    "product_attr_extract_json = llm(prompt_product_text)"
   ]
  },
  {
   "cell_type": "code",
   "execution_count": 71,
   "metadata": {},
   "outputs": [],
   "source": [
    "product_attr_extract_dict = json.loads(product_attr_extract_json)"
   ]
  },
  {
   "cell_type": "code",
   "execution_count": 72,
   "metadata": {},
   "outputs": [],
   "source": [
    "product_attr_extract_dict_clean = {i:product_attr_extract_dict[i] for i in product_attr_extract_dict if i in attribute_types_list and product_attr_extract_dict[i] is not None}"
   ]
  },
  {
   "cell_type": "code",
   "execution_count": 73,
   "metadata": {},
   "outputs": [],
   "source": [
    "product_attr_extract_json_clean = json.dumps(product_attr_extract_dict_clean, indent=2)"
   ]
  },
  {
   "cell_type": "code",
   "execution_count": 74,
   "metadata": {},
   "outputs": [],
   "source": [
    "specification = {} \n",
    "for i in attribute_ontology_l2.to_dict('records'):\n",
    "    if i['attribute_name'] in product_attr_extract_dict_clean:\n",
    "        specification[i['attribute_name']] = i['example_attribute_value']"
   ]
  },
  {
   "cell_type": "code",
   "execution_count": 75,
   "metadata": {},
   "outputs": [],
   "source": [
    "specification_json = json.dumps(specification, indent=2)"
   ]
  },
  {
   "cell_type": "code",
   "execution_count": 76,
   "metadata": {},
   "outputs": [],
   "source": [
    "prompt_normalize_text = prompt_normalize.format(\n",
    "    previous_text=prompt_product_text + '\\n' + product_attr_extract_json_clean,\n",
    "    specification_json=specification_json\n",
    ")\n",
    "product_normalize_json = llm(prompt_normalize_text)"
   ]
  },
  {
   "cell_type": "code",
   "execution_count": 77,
   "metadata": {},
   "outputs": [
    {
     "data": {
      "text/plain": [
       "{'Condition': 'New',\n",
       " 'Department': 'Jewelry & Accessories > Necklaces & Pendants > Pendants',\n",
       " 'Material Type': '925 Silver',\n",
       " 'Metal Type': 'Sterling Silver',\n",
       " 'Size Map': '4.2 * 2.6cm (1cm=0.39inch)',\n",
       " 'Stone Color': 'Silver',\n",
       " 'Stone Shape': 'Python Snake'}"
      ]
     },
     "execution_count": 77,
     "metadata": {},
     "output_type": "execute_result"
    }
   ],
   "source": [
    "product_attr_extract_dict_clean"
   ]
  },
  {
   "cell_type": "code",
   "execution_count": 78,
   "metadata": {},
   "outputs": [
    {
     "data": {
      "text/plain": [
       "{'Condition': 'New',\n",
       " 'Department': 'Jewelry & Accessories > Necklaces & Pendants > Pendants',\n",
       " 'Material Type': '925 Silver',\n",
       " 'Metal Type': 'Sterling Silver',\n",
       " 'Size Map': 'Small',\n",
       " 'Stone Color': 'Silver',\n",
       " 'Stone Shape': 'Python Snake'}"
      ]
     },
     "execution_count": 78,
     "metadata": {},
     "output_type": "execute_result"
    }
   ],
   "source": [
    "json.loads(product_normalize_json)"
   ]
  },
  {
   "attachments": {},
   "cell_type": "markdown",
   "metadata": {},
   "source": [
    "## put it all together"
   ]
  },
  {
   "cell_type": "code",
   "execution_count": 100,
   "metadata": {},
   "outputs": [],
   "source": [
    "def zero_shot_attribute_extraction_product_helper(product_title, product_description, taxonomy, l2):\n",
    "    # prepare inputs\n",
    "    attribute_ontology_l2 = attribute_ontology[attribute_ontology['wish_L2'] == l2]\n",
    "    assert len(attribute_ontology_l2) > 0\n",
    "    attribute_types_list = attribute_ontology_l2['attribute_name'].tolist()\n",
    "    attribute_types = \", \".join(attribute_types_list)\n",
    "    \n",
    "\n",
    "    prompt_product_text = prompt_product.format(\n",
    "        product_title=product_title, \n",
    "        product_description=product_description,\n",
    "        taxonomy=taxonomy,\n",
    "        attribute_types=attribute_types\n",
    "    )\n",
    "\n",
    "    all_text = product_title + \"\\n\" + product_description\n",
    "\n",
    "    product_attr_extract_json = llm(prompt_product_text)\n",
    "    product_attr_extract_dict = json.loads(product_attr_extract_json)\n",
    "    product_attr_extract_dict_clean = {}\n",
    "    for i in product_attr_extract_dict:\n",
    "        if i in attribute_types_list and product_attr_extract_dict[i] is not None:\n",
    "            if isinstance(product_attr_extract_dict[i], str) and len(product_attr_extract_dict[i]) > 0 and \\\n",
    "                    product_attr_extract_dict[i].lower() in all_text.lower():\n",
    "                product_attr_extract_dict_clean[i] = product_attr_extract_dict[i]\n",
    "            elif isinstance(product_attr_extract_dict[i], list):\n",
    "                if len(product_attr_extract_dict[i]) > 0:\n",
    "                    tmp = []\n",
    "                    for j in product_attr_extract_dict[i]:\n",
    "                        if j is not None:\n",
    "                            if len(j) > 0 and j.lower() in all_text.lower():\n",
    "                                tmp.append(j)\n",
    "                    if len(tmp) > 0:\n",
    "                        product_attr_extract_dict_clean[i] = tmp\n",
    "    product_attr_extract_json_clean = json.dumps(product_attr_extract_dict_clean, indent=2)\n",
    "\n",
    "    # second call: normalize them\n",
    "    specification = {} \n",
    "    for i in attribute_ontology_l2.to_dict('records'):\n",
    "        if i['attribute_name'] in product_attr_extract_dict_clean:\n",
    "            specification[i['attribute_name']] = i['example_attribute_value']\n",
    "    specification_json = json.dumps(specification, indent=2)\n",
    "    prompt_normalize_text = prompt_normalize.format(\n",
    "        previous_text=prompt_product_text + '\\n' + product_attr_extract_json_clean,\n",
    "        specification_json=specification_json\n",
    "    )\n",
    "    product_normalize_json = llm(prompt_normalize_text)\n",
    "    product_attr_extract_dict_clean_normalized_clean = {}\n",
    "    product_attr_extract_dict_clean_normalized = json.loads(product_normalize_json)\n",
    "    for k in product_attr_extract_dict_clean_normalized:\n",
    "        v = product_attr_extract_dict_clean_normalized[k]\n",
    "        existing_normalized_vals = attribute_ontology.loc[\n",
    "            (attribute_ontology['wish_L2'] == l2) & (attribute_ontology['attribute_name'] == k), \n",
    "            'example_attribute_value'\n",
    "        ].apply(lambda x: eval(x)).tolist()[0]\n",
    "        if isinstance(v, str) and \\\n",
    "                len(v) > 0:\n",
    "            if v.lower() in [i.lower() for i in existing_normalized_vals]:\n",
    "                product_attr_extract_dict_clean_normalized_clean[k] = v\n",
    "            else:\n",
    "                # update ontology with newly discovered normalized values\n",
    "                attribute_ontology.loc[\n",
    "                    (attribute_ontology['wish_L2'] == l2) & (attribute_ontology['attribute_name'] == k), \n",
    "                    'example_attribute_value'\n",
    "                ] = str(existing_normalized_vals + [v])\n",
    "        elif isinstance(product_attr_extract_dict_clean_normalized[k], list) and \\\n",
    "                len(product_attr_extract_dict_clean_normalized[k]) > 0:\n",
    "            tmp = []\n",
    "            for vi in v:\n",
    "                existing_normalized_vals = attribute_ontology.loc[\n",
    "                    (attribute_ontology['wish_L2'] == l2) & (attribute_ontology['attribute_name'] == k), \n",
    "                    'example_attribute_value'\n",
    "                ].apply(lambda x: eval(x)).tolist()[0]\n",
    "                if vi is not None and len(vi) > 0:\n",
    "                    if vi.lower() in [i.lower() for i in existing_normalized_vals]:\n",
    "                        tmp.append(vi)\n",
    "                    else:\n",
    "                        # update ontology with newly discovered normalized values\n",
    "                        attribute_ontology.loc[\n",
    "                            (attribute_ontology['wish_L2'] == l2) & (attribute_ontology['attribute_name'] == k), \n",
    "                            'example_attribute_value'\n",
    "                        ] = str(existing_normalized_vals + [vi])\n",
    "\n",
    "    return product_attr_extract_dict_clean, product_attr_extract_dict_clean_normalized"
   ]
  },
  {
   "cell_type": "code",
   "execution_count": 101,
   "metadata": {},
   "outputs": [],
   "source": [
    "def zero_shot_attribute_extraction_product(product_dict):\n",
    "    return zero_shot_attribute_extraction_product_helper(\n",
    "        product_title=product_dict[\"title\"] ,\n",
    "        product_description=product_dict[\"description\"], \n",
    "        taxonomy=product_dict[\"category_path\"], \n",
    "        l2=product_dict['L2_path']\n",
    "    )"
   ]
  },
  {
   "cell_type": "code",
   "execution_count": 94,
   "metadata": {},
   "outputs": [],
   "source": [
    "product_dict = example_products.sample(1).to_dict('records')[0]"
   ]
  },
  {
   "cell_type": "code",
   "execution_count": 95,
   "metadata": {},
   "outputs": [
    {
     "data": {
      "text/plain": [
       "{'product_id': '5e67a273b6736d87bf89cd8b',\n",
       " 'title': 'Fashion Bohemian Maxi Necklace Women Double Layer Beads Chain Resin Gem Vintage Statement Choker Necklace & Pendant Jewellery',\n",
       " 'description': 'Item Type: Necklaces\\nFine or Fashion: Fashion\\nStyle: Vintage\\nMaterial: Acrylic\\nGender: Women\\nMetals Type: Zinc Alloy\\nPendant Size: picture\\nNecklace Type: Chokers Necklaces\\nShape\\\\pattern: Geometric\\nChain Type: Link Chain',\n",
       " 'category_id': 4110,\n",
       " 'category_path': 'Jewelry & Accessories > Necklaces & Pendants > Choker Necklaces',\n",
       " 'L2_path': 'Jewelry & Accessories > Necklaces & Pendants',\n",
       " 'temp_img_url': 'https://contestimg.wish.com/api/webimage/5e67a273b6736d87bf89cd8b-large.jpg'}"
      ]
     },
     "execution_count": 95,
     "metadata": {},
     "output_type": "execute_result"
    }
   ],
   "source": [
    "product_dict"
   ]
  },
  {
   "cell_type": "code",
   "execution_count": 102,
   "metadata": {},
   "outputs": [
    {
     "data": {
      "text/plain": [
       "({'Chain Type': 'Link Chain',\n",
       "  'Material Type': 'Acrylic',\n",
       "  'Metal Type': 'Zinc Alloy'},\n",
       " {'Chain Type': 'Link Chain',\n",
       "  'Material Type': 'Acrylic',\n",
       "  'Metal Type': 'Zinc Alloy'})"
      ]
     },
     "execution_count": 102,
     "metadata": {},
     "output_type": "execute_result"
    }
   ],
   "source": [
    "zero_shot_attribute_extraction_product(product_dict)"
   ]
  },
  {
   "attachments": {},
   "cell_type": "markdown",
   "metadata": {},
   "source": [
    "# end2end example for query in two step inference"
   ]
  },
  {
   "cell_type": "code",
   "execution_count": 40,
   "metadata": {},
   "outputs": [],
   "source": [
    "query_dict = example_queries.sample(1).to_dict('records')[0]"
   ]
  },
  {
   "cell_type": "code",
   "execution_count": 41,
   "metadata": {},
   "outputs": [],
   "source": [
    "query_dict['category_paths'] = [taxid2path[int(i)] for i in query_dict['categories'].split(',')]"
   ]
  },
  {
   "cell_type": "code",
   "execution_count": 42,
   "metadata": {},
   "outputs": [],
   "source": [
    "def zero_shot_attribute_extraction_product_helper(query, taxonomy, l2):\n",
    "    # prepare inputs\n",
    "    attribute_ontology_l2 = attribute_ontology[attribute_ontology['wish_L2'] == l2]\n",
    "    assert len(attribute_ontology_l2) > 0\n",
    "    attribute_types_list = attribute_ontology_l2['attribute_name'].tolist()\n",
    "    attribute_types = \", \".join(attribute_types_list)\n",
    "    \n",
    "\n",
    "    prompt_query_text = prompt_query.format(\n",
    "        query=query, \n",
    "        taxonomy=taxonomy, \n",
    "        attribute_types=attribute_types\n",
    "    )\n",
    "    query_attr_extract_json = llm(prompt_query_text)\n",
    "    query_attr_extract_dict = json.loads(query_attr_extract_json)\n",
    "    query_attr_extract_dict_clean = {}\n",
    "    for i in query_attr_extract_dict:\n",
    "        if i in attribute_types_list and query_attr_extract_dict[i] is not None:\n",
    "            if isinstance(query_attr_extract_dict[i], str) and len(query_attr_extract_dict[i]) > 0 and \\\n",
    "                    query_attr_extract_dict[i].lower() in query.lower():\n",
    "                query_attr_extract_dict_clean[i] = query_attr_extract_dict[i]\n",
    "            elif isinstance(query_attr_extract_dict[i], list):\n",
    "                if len(query_attr_extract_dict[i]) > 0:\n",
    "                    tmp = []\n",
    "                    for j in query_attr_extract_dict[i]:\n",
    "                        if j is not None:\n",
    "                            if len(j) > 0 and j.lower() in query.lower():\n",
    "                                tmp.append(j)\n",
    "                    if len(tmp) > 0:\n",
    "                        query_attr_extract_dict_clean[i] = tmp\n",
    "    query_attr_extract_json_clean = json.dumps(query_attr_extract_dict_clean, indent=2)\n",
    "\n",
    "    # second call: normalize them\n",
    "    specification = {} \n",
    "    for i in attribute_ontology_l2.to_dict('records'):\n",
    "        if i['attribute_name'] in query_attr_extract_dict_clean:\n",
    "            specification[i['attribute_name']] = i['example_attribute_value']\n",
    "    specification_json = json.dumps(specification, indent=2)\n",
    "    prompt_normalize_text = prompt_normalize.format(\n",
    "        previous_text=prompt_query_text + '\\n' + query_attr_extract_json_clean,\n",
    "        specification_json=specification_json\n",
    "    )\n",
    "    query_normalize_json = llm(prompt_normalize_text)\n",
    "    query_attr_extract_dict_clean_normalized_clean = {}\n",
    "    query_attr_extract_dict_clean_normalized = json.loads(query_normalize_json)\n",
    "    for k in query_attr_extract_dict_clean_normalized:\n",
    "        v = query_attr_extract_dict_clean_normalized[k]\n",
    "        existing_normalized_vals = attribute_ontology.loc[\n",
    "            (attribute_ontology['wish_L2'] == l2) & (attribute_ontology['attribute_name'] == k), \n",
    "            'example_attribute_value'\n",
    "        ].apply(lambda x: eval(x)).tolist()[0]\n",
    "        if isinstance(v, str) and \\\n",
    "                len(v) > 0:\n",
    "            if v.lower() in [i.lower() for i in existing_normalized_vals]:\n",
    "                query_attr_extract_dict_clean_normalized_clean[k] = v\n",
    "            else:\n",
    "                # update ontology with newly discovered normalized values\n",
    "                attribute_ontology.loc[\n",
    "                    (attribute_ontology['wish_L2'] == l2) & (attribute_ontology['attribute_name'] == k), \n",
    "                    'example_attribute_value'\n",
    "                ] = str(existing_normalized_vals + [v])\n",
    "        elif isinstance(query_attr_extract_dict_clean_normalized[k], list) and \\\n",
    "                len(query_attr_extract_dict_clean_normalized[k]) > 0:\n",
    "            tmp = []\n",
    "            for vi in v:\n",
    "                existing_normalized_vals = attribute_ontology.loc[\n",
    "                    (attribute_ontology['wish_L2'] == l2) & (attribute_ontology['attribute_name'] == k), \n",
    "                    'example_attribute_value'\n",
    "                ].apply(lambda x: eval(x)).tolist()[0]\n",
    "                if vi is not None and len(vi) > 0:\n",
    "                    if vi.lower() in [i.lower() for i in existing_normalized_vals]:\n",
    "                        tmp.append(vi)\n",
    "                    else:\n",
    "                        # update ontology with newly discovered normalized values\n",
    "                        attribute_ontology.loc[\n",
    "                            (attribute_ontology['wish_L2'] == l2) & (attribute_ontology['attribute_name'] == k), \n",
    "                            'example_attribute_value'\n",
    "                        ] = str(existing_normalized_vals + [vi])\n",
    "    return query_attr_extract_dict_clean, query_attr_extract_dict_clean_normalized, specification\n",
    "\n",
    "def zero_shot_attribute_extraction_query(query_dict):\n",
    "    results = []\n",
    "    assert len(query_dict['categories']) > 0\n",
    "    paths = []\n",
    "    l2s = []\n",
    "    for i in query_dict['categories'].split(','):\n",
    "        paths.append(taxid2path[int(i)])\n",
    "        l2s.append(\" > \".join(taxid2path[int(i)].split(\" > \")[:2]))\n",
    "    for p, l2 in zip(paths, l2s):\n",
    "        if l2 in l2set:\n",
    "            tmp = zero_shot_attribute_extraction_query_helper(\n",
    "                query=query_dict['query'],\n",
    "                taxonomy=p,\n",
    "                l2=l2\n",
    "            )\n",
    "            if len(tmp[0]) > 0 and len(tmp[1]) > 0:\n",
    "                results.append(tmp)\n",
    "            else:\n",
    "                results.append(None)\n",
    "        else:\n",
    "            results.append(None)\n",
    "    return results"
   ]
  },
  {
   "cell_type": "code",
   "execution_count": 43,
   "metadata": {},
   "outputs": [],
   "source": [
    "res = zero_shot_attribute_extraction_query(query_dict)"
   ]
  },
  {
   "cell_type": "code",
   "execution_count": 44,
   "metadata": {},
   "outputs": [
    {
     "data": {
      "text/plain": [
       "{'query': 'manilla de signo zodiacal',\n",
       " 'categories': '4111,2708,659',\n",
       " 'category_paths': ['Jewelry & Accessories > Necklaces & Pendants > Pendant Necklaces',\n",
       "  'Home & Garden > Home Decor > Plaques & Signs',\n",
       "  'Automobiles & Motorcycles > Exterior Accessories > Car Stickers']}"
      ]
     },
     "execution_count": 44,
     "metadata": {},
     "output_type": "execute_result"
    }
   ],
   "source": [
    "query_dict"
   ]
  },
  {
   "cell_type": "code",
   "execution_count": 45,
   "metadata": {},
   "outputs": [
    {
     "data": {
      "text/plain": [
       "[({'Material Type': 'manilla', 'Setting Type': 'signo zodiacal'},\n",
       "  {'Material Type': 'metal', 'Setting Type': 'Prong-Setting'},\n",
       "  {'Material Type': \"['agarwood', 'alumide', 'bamboo', 'bodhi', 'ceramic', 'coral', 'crystal', 'enamel', 'epoxy', 'gemstone', 'glass', 'Gold Phoebe', 'horn', 'leather', 'metal', 'mineral-powder', 'mother-of-pearl', 'natural-fiber', 'paper', 'pearl', 'plaster', 'plastic', 'polyamide', 'resin', 'rhinestone', 'rosewood', 'rubber', 'sandalwood', 'shell', 'silicone', 'stone', 'synthetic-fiber', 'synthetic-resin', 'wood']\",\n",
       "   'Setting Type': \"['2-Prong-setting', '3-Prong-Setting', '4-Prong-Setting', '6-Prong-Setting', '8-Prong-Setting', 'Band-Setting', 'Bar-Setting', 'Bead-Set', 'Bezel-Setting', 'Bypass-Setting', 'Channel-Setting', 'Classic-Solitaire Setting', 'Cluster-Setting', 'Cocktail-Setting', 'Cup-Setting', 'Designer-Setting', 'Dome-Setting', 'Eternity-Band-Setting', 'Fishtail-Setting', 'Flat-Top-Setting', 'Floating-Setting', 'Flush-Setting', 'Freedom-Setting', 'French-Setting', 'Full-Eternity-Setting', 'Guard-Setting', 'Gypsy-Setting', 'Half-Bezel-Setting', 'Half-Eternity-Setting', 'Halo-Setting', 'Illusion-Setting', 'Invisible-Setting', 'Micro-Pave-Setting', 'Milgrain-Accents-Setting', 'Other-Setting-Type', 'Pavé-Setting', 'Prong-Setting', 'Rub-Set-Setting', 'Semi-Mount-Setting', 'Shared-Prong-Setting', 'Side-Stone-Setting', 'Solitaire-Setting', 'Split-Shank-Setting', 'Stackable-Setting', 'Tension-Mount-Setting', 'Three-Stone-Setting', 'Trellis-Setting', 'Tricolor-Rolling-Setting', 'Two-Tone-Freedom-Setting', 'V-Prong-Setting', 'Waterfall-Setting', 'Wrap-Setting']\"}),\n",
       " ({'Material Type': 'manilla'},\n",
       "  {'Material Type': 'Manilla'},\n",
       "  {'Material Type': \"['Cherry', 'Aluminum', 'Rattan', 'Elm', 'Metal', 'Cedar', 'Stone', 'Natural Fibers', 'Pewter', 'Stainless Steel', 'Beech', 'Copper', 'Bronze', 'Clay', 'Vinyl', 'Suede', 'Latex', 'Gel', 'Silver', 'Microfiber', 'Pine', 'Willow', 'Polyurethane', 'Oak', 'Fabric', 'Jute', 'Birch', 'Brass', 'Glass', 'Leather', 'Plastic', 'Cotton', 'Bamboo-Derived Rayon', 'Recycled Material', 'Silk', 'Polypropylene', 'Chrome', 'Mahogany', 'Teak', 'Maple', 'Rosewood', 'Wood', 'Hardwood', 'Steel', 'Wicker', 'Foam', 'Walnut', 'Cast Iron', 'Tin', 'Ceramic', 'Nickel', 'Wool']\"}),\n",
       " None]"
      ]
     },
     "execution_count": 45,
     "metadata": {},
     "output_type": "execute_result"
    }
   ],
   "source": [
    "res"
   ]
  },
  {
   "cell_type": "code",
   "execution_count": null,
   "metadata": {},
   "outputs": [],
   "source": []
  }
 ],
 "metadata": {
  "kernelspec": {
   "display_name": "Python 3",
   "language": "python",
   "name": "python3"
  },
  "language_info": {
   "codemirror_mode": {
    "name": "ipython",
    "version": 3
   },
   "file_extension": ".py",
   "mimetype": "text/x-python",
   "name": "python",
   "nbconvert_exporter": "python",
   "pygments_lexer": "ipython3",
   "version": "3.8.13"
  },
  "orig_nbformat": 4,
  "vscode": {
   "interpreter": {
    "hash": "949777d72b0d2535278d3dc13498b2535136f6dfe0678499012e853ee9abcab1"
   }
  }
 },
 "nbformat": 4,
 "nbformat_minor": 2
}
