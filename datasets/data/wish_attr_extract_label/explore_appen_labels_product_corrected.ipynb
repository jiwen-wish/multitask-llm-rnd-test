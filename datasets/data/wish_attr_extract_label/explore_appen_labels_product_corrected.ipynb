{
 "cells": [
  {
   "cell_type": "code",
   "execution_count": 47,
   "metadata": {},
   "outputs": [],
   "source": [
    "import pandas as pd\n",
    "from collections import defaultdict\n",
    "import dvc.api\n",
    "from tqdm import tqdm"
   ]
  },
  {
   "cell_type": "code",
   "execution_count": 2,
   "metadata": {},
   "outputs": [],
   "source": [
    "df_original = pd.read_csv(dvc.api.get_url('datasets/data/wish_attr_extract_label/appen/input_batch_processed/appen_product_attribution_batch1.csv', \n",
    "    repo='git@github.com:ContextLogic/multitask-llm-rnd.git'))"
   ]
  },
  {
   "cell_type": "code",
   "execution_count": 5,
   "metadata": {},
   "outputs": [],
   "source": [
    "df = pd.read_excel('appen/output_batch_correct/Product Attribution_02.03.23.xlsx')"
   ]
  },
  {
   "cell_type": "code",
   "execution_count": 25,
   "metadata": {},
   "outputs": [
    {
     "data": {
      "text/plain": [
       "20544"
      ]
     },
     "execution_count": 25,
     "metadata": {},
     "output_type": "execute_result"
    }
   ],
   "source": [
    "len(df)"
   ]
  },
  {
   "cell_type": "code",
   "execution_count": 23,
   "metadata": {},
   "outputs": [],
   "source": [
    "df_merge = df_original[['title', 'category_path', 'product_id', 'label_ordering']].rename(columns={'product_id': 'Product_ID', 'title': 'title_original', \n",
    "        'category_path': 'category_path_original', 'label_ordering': 'label_ordering_original'}).merge(df[[\n",
    "    'Product_ID', 'Title', 'Product_Category', 'Label_Ordering'\n",
    "]])"
   ]
  },
  {
   "cell_type": "code",
   "execution_count": 45,
   "metadata": {},
   "outputs": [
    {
     "data": {
      "text/plain": [
       "[{'title_original': 'Силиконовый чехол Zorrov для Tecno Pop 4 Arbuzik',\n",
       "  'category_path_original': 'Home & Garden > Household Merchandise > Dust Covers > Remote Control Covers',\n",
       "  'Product_ID': '6111f734b6fd9d0cc03c7fa6',\n",
       "  'label_ordering_original': 20561.0,\n",
       "  'Title': 'To My Granddaughter Heart Pendant Necklace Granddaughter Necklace Gift for Granddaughter ',\n",
       "  'Product_Category': 'Home & Garden > Household Merchandise > Dust Covers > Remote Control Covers',\n",
       "  'Label_Ordering': 20561}]"
      ]
     },
     "execution_count": 45,
     "metadata": {},
     "output_type": "execute_result"
    }
   ],
   "source": [
    "df_merge[df_merge.title_original.apply(lambda x: 'Tecno Pop 4 Arbuzik' in x)].to_dict('records')"
   ]
  },
  {
   "cell_type": "code",
   "execution_count": 43,
   "metadata": {},
   "outputs": [
    {
     "data": {
      "text/plain": [
       "{'title_original': \"Fashion Pointed Toe Large Size Man Plaid Print Leather Shoes Business Party Male Flats Shoes Men's British Style Wedding Dress Shoes\",\n",
       " 'category_path_original': \"Shoes > Men's Shoes > Formal Shoes\",\n",
       " 'Product_ID': '608b843c65d1fb8befcec453',\n",
       " 'label_ordering_original': 20554.0,\n",
       " 'Title': 'â€“Â°â€“âˆ\\x8fâ€“Âªâ€“âˆ\\x8fâ€“âˆ«â€“Ã¦â€“Î©â€“Ã¦â€“â‰¤â€”Ã£â€“Ï€ â€”Ã¡â€“Âµâ€”Ã–â€“Ã¦â€“Âª Zorrov â€“Â¥â€“Âªâ€”Ã¨ Tecno Pop 4 Arbuzik',\n",
       " 'Product_Category': \"Shoes > Men's Shoes > Formal Shoes\",\n",
       " 'Label_Ordering': 20554}"
      ]
     },
     "execution_count": 43,
     "metadata": {},
     "output_type": "execute_result"
    }
   ],
   "source": [
    "df_merge.loc[20537].to_dict()"
   ]
  },
  {
   "cell_type": "code",
   "execution_count": 27,
   "metadata": {},
   "outputs": [
    {
     "data": {
      "text/plain": [
       "True"
      ]
     },
     "execution_count": 27,
     "metadata": {},
     "output_type": "execute_result"
    }
   ],
   "source": [
    "(df_merge['label_ordering_original'].astype(int) == df_merge['Label_Ordering'].astype(int)).all()"
   ]
  },
  {
   "cell_type": "code",
   "execution_count": 32,
   "metadata": {},
   "outputs": [
    {
     "data": {
      "text/plain": [
       "0.9631486710154805"
      ]
     },
     "execution_count": 32,
     "metadata": {},
     "output_type": "execute_result"
    }
   ],
   "source": [
    "(df_merge['title_original'].str.strip() != df_merge['Title'].str.strip()).mean()"
   ]
  },
  {
   "cell_type": "code",
   "execution_count": 35,
   "metadata": {},
   "outputs": [
    {
     "data": {
      "text/plain": [
       "[{'title_original': 'Fashion Men Sneaker Shoes Women Mesh Breathable Lightweight Wearable Casual Men Shoes Luxury Brand Zapatos Hombre @#zxw047',\n",
       "  'category_path_original': \"Shoes > Men's Shoes > Men's Casual Shoes\",\n",
       "  'Product_ID': '6034102de4004907ff8d85b3',\n",
       "  'label_ordering_original': 3223.0,\n",
       "  'Title': 'Metal Tin Sign beware of the fox  Decor Bar Pub Home Vintage Retro',\n",
       "  'Product_Category': \"Shoes > Men's Shoes > Men's Casual Shoes\",\n",
       "  'Label_Ordering': 3223},\n",
       " {'title_original': '  Monkey Statue Ornamental Adorable  Delicate Exquisite Tree Hanging Climbing Monkey Decor    ',\n",
       "  'category_path_original': 'Home & Garden > Garden Supplies > Yard & Garden Decor > Garden Statues & Sculptures',\n",
       "  'Product_ID': '612a695a3bf40f3496dabd4c',\n",
       "  'label_ordering_original': 15666.0,\n",
       "  'Title': \"Unisoy Vegan Jerky Hot 'n Spicy, 3 Pack\",\n",
       "  'Product_Category': 'Home & Garden > Garden Supplies > Yard & Garden Decor > Garden Statues & Sculptures',\n",
       "  'Label_Ordering': 15666}]"
      ]
     },
     "execution_count": 35,
     "metadata": {},
     "output_type": "execute_result"
    }
   ],
   "source": [
    "df_merge[df_merge['title_original'].str.strip() != df_merge['Title'].str.strip()].sample(2).to_dict('records')"
   ]
  },
  {
   "cell_type": "code",
   "execution_count": null,
   "metadata": {},
   "outputs": [],
   "source": []
  }
 ],
 "metadata": {
  "kernelspec": {
   "display_name": "Python 3",
   "language": "python",
   "name": "python3"
  },
  "language_info": {
   "codemirror_mode": {
    "name": "ipython",
    "version": 3
   },
   "file_extension": ".py",
   "mimetype": "text/x-python",
   "name": "python",
   "nbconvert_exporter": "python",
   "pygments_lexer": "ipython3",
   "version": "3.8.13"
  },
  "orig_nbformat": 4,
  "vscode": {
   "interpreter": {
    "hash": "949777d72b0d2535278d3dc13498b2535136f6dfe0678499012e853ee9abcab1"
   }
  }
 },
 "nbformat": 4,
 "nbformat_minor": 2
}
