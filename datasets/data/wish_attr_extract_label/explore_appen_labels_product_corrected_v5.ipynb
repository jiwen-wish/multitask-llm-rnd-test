{
 "cells": [
  {
   "cell_type": "code",
   "execution_count": 1,
   "metadata": {},
   "outputs": [],
   "source": [
    "import pandas as pd\n",
    "from collections import defaultdict\n",
    "import dvc.api\n",
    "from tqdm import tqdm\n",
    "import numpy as np\n",
    "from functools import reduce"
   ]
  },
  {
   "attachments": {},
   "cell_type": "markdown",
   "metadata": {},
   "source": [
    "# get original data"
   ]
  },
  {
   "cell_type": "code",
   "execution_count": 2,
   "metadata": {},
   "outputs": [],
   "source": [
    "df_original = pd.concat([ \n",
    "    # pd.read_csv(dvc.api.get_url('datasets/data/wish_attr_extract_label/appen/input_batch_processed/appen_product_attribution_batch1.csv', \n",
    "    #     repo='git@github.com:ContextLogic/multitask-llm-rnd.git')), \n",
    "    # pd.read_csv(dvc.api.get_url('datasets/data/wish_attr_extract_label/appen/input_batch_processed/appen_product_attribution_batch2_highimpression.csv',\n",
    "    #     repo='git@github.com:ContextLogic/multitask-llm-rnd.git')), \n",
    "    pd.read_csv(dvc.api.get_url('datasets/data/wish_attr_extract_label/appen/input_batch_processed/appen_product_attribution_batch2.csv', \n",
    "        repo='git@github.com:ContextLogic/multitask-llm-rnd.git'))\n",
    "])"
   ]
  },
  {
   "cell_type": "code",
   "execution_count": 3,
   "metadata": {},
   "outputs": [
    {
     "data": {
      "text/plain": [
       "51296"
      ]
     },
     "execution_count": 3,
     "metadata": {},
     "output_type": "execute_result"
    }
   ],
   "source": [
    "len(df_original)"
   ]
  },
  {
   "cell_type": "code",
   "execution_count": 4,
   "metadata": {},
   "outputs": [],
   "source": [
    "df_original = df_original.dropna(subset=['label_ordering'])"
   ]
  },
  {
   "cell_type": "code",
   "execution_count": 5,
   "metadata": {},
   "outputs": [
    {
     "data": {
      "text/plain": [
       "51296"
      ]
     },
     "execution_count": 5,
     "metadata": {},
     "output_type": "execute_result"
    }
   ],
   "source": [
    "len(df_original)"
   ]
  },
  {
   "cell_type": "code",
   "execution_count": 6,
   "metadata": {},
   "outputs": [],
   "source": [
    "df_original['label_ordering'] = df_original['label_ordering'].astype(int)"
   ]
  },
  {
   "attachments": {},
   "cell_type": "markdown",
   "metadata": {},
   "source": [
    "# get attributes"
   ]
  },
  {
   "cell_type": "code",
   "execution_count": 7,
   "metadata": {},
   "outputs": [],
   "source": [
    "df_attributes = pd.read_csv('../attribute_extraction_metadata_template/attribute_definition_top25L2_filtered_augmented_redacted_addedsinglemulti_01182023.csv')\n",
    "\n",
    "df_attributes_group = df_attributes.groupby('attribute_field').agg({\n",
    "    'category_attributevalue': lambda x: reduce(lambda x, y: x+y, [eval(i) for i in x])\n",
    "}).reset_index()"
   ]
  },
  {
   "cell_type": "code",
   "execution_count": 8,
   "metadata": {},
   "outputs": [
    {
     "data": {
      "text/plain": [
       "(230, 516378)"
      ]
     },
     "execution_count": 8,
     "metadata": {},
     "output_type": "execute_result"
    }
   ],
   "source": [
    "len(df_attributes_group), df_attributes_group.category_attributevalue.apply(len).sum()"
   ]
  },
  {
   "cell_type": "code",
   "execution_count": 9,
   "metadata": {},
   "outputs": [],
   "source": [
    "attributes = set(df_attributes_group['attribute_field'])"
   ]
  },
  {
   "cell_type": "code",
   "execution_count": 10,
   "metadata": {},
   "outputs": [],
   "source": [
    "category_paths = set(df_attributes['category'])"
   ]
  },
  {
   "cell_type": "code",
   "execution_count": 11,
   "metadata": {},
   "outputs": [],
   "source": [
    "more_paths = []\n",
    "for i in category_paths:\n",
    "    tmp = []\n",
    "    for j in i.split(' > '):\n",
    "        tmp.append(j)\n",
    "        more_paths.append(' > '.join(tmp))\n",
    "category_paths.update(more_paths)"
   ]
  },
  {
   "attachments": {},
   "cell_type": "markdown",
   "metadata": {},
   "source": [
    "# existing appen data"
   ]
  },
  {
   "cell_type": "code",
   "execution_count": 13,
   "metadata": {},
   "outputs": [],
   "source": [
    "# df1 = pd.read_csv('appen/output_batch_correct_v3/product_attribution_till_030923_valid_units.csv')\n",
    "# df2 = pd.read_csv('appen/output_batch_correct_v4/f2072154_f2075355_post_03.13.23_cleaned_invalid.csv')\n",
    "# df3 = pd.read_csv('appen/output_batch_correct_v4/f2072154_f2075355_post_03.13.23_cleaned_valid-empty units.csv')\n",
    "# df4 = pd.read_csv('appen/output_batch_correct_v4/Product Attribution_03.10.23_Batch2_highimpression.csv')\n",
    "# df5 = pd.read_csv('appen/output_batch_correct_v4/product_attribution_03.03.23_invalid_units_03.02.23_Rework.csv')"
   ]
  },
  {
   "cell_type": "code",
   "execution_count": 14,
   "metadata": {},
   "outputs": [
    {
     "data": {
      "text/plain": [
       "(38076, 866, 19678, 10808, 419)"
      ]
     },
     "execution_count": 14,
     "metadata": {},
     "output_type": "execute_result"
    }
   ],
   "source": [
    "# len(df1), len(df2), len(df3), len(df4), len(df5)"
   ]
  },
  {
   "cell_type": "code",
   "execution_count": 15,
   "metadata": {},
   "outputs": [],
   "source": [
    "# df = pd.concat([df1, df2, df3, df4, df5])"
   ]
  },
  {
   "cell_type": "code",
   "execution_count": 12,
   "metadata": {},
   "outputs": [],
   "source": [
    "df = pd.read_csv('appen/output_batch_correct_v6/Product Att_03.17.23_Batch2.csv')"
   ]
  },
  {
   "cell_type": "code",
   "execution_count": 13,
   "metadata": {},
   "outputs": [],
   "source": [
    "df_uniq = df.drop_duplicates('label_ordering', keep='first')"
   ]
  },
  {
   "cell_type": "code",
   "execution_count": 14,
   "metadata": {},
   "outputs": [
    {
     "data": {
      "text/plain": [
       "(51258, 51258)"
      ]
     },
     "execution_count": 14,
     "metadata": {},
     "output_type": "execute_result"
    }
   ],
   "source": [
    "len(df), len(df_uniq)"
   ]
  },
  {
   "cell_type": "code",
   "execution_count": 20,
   "metadata": {},
   "outputs": [],
   "source": [
    "df_uniq_merge = df_uniq.merge(df_original[['label_ordering', 'title', 'product_description']].rename(\n",
    "    columns={'title': 'title_original', 'product_description': 'product_description_original'}), on='label_ordering', how='left')"
   ]
  },
  {
   "cell_type": "code",
   "execution_count": 21,
   "metadata": {},
   "outputs": [
    {
     "data": {
      "text/plain": [
       "51258"
      ]
     },
     "execution_count": 21,
     "metadata": {},
     "output_type": "execute_result"
    }
   ],
   "source": [
    "len(df_uniq_merge)"
   ]
  },
  {
   "cell_type": "code",
   "execution_count": 22,
   "metadata": {},
   "outputs": [
    {
     "data": {
      "text/html": [
       "<div>\n",
       "<style scoped>\n",
       "    .dataframe tbody tr th:only-of-type {\n",
       "        vertical-align: middle;\n",
       "    }\n",
       "\n",
       "    .dataframe tbody tr th {\n",
       "        vertical-align: top;\n",
       "    }\n",
       "\n",
       "    .dataframe thead th {\n",
       "        text-align: right;\n",
       "    }\n",
       "</style>\n",
       "<table border=\"1\" class=\"dataframe\">\n",
       "  <thead>\n",
       "    <tr style=\"text-align: right;\">\n",
       "      <th></th>\n",
       "      <th>label_ordering</th>\n",
       "      <th>sample_method</th>\n",
       "      <th>product_id</th>\n",
       "      <th>title</th>\n",
       "      <th>product_description</th>\n",
       "      <th>main_image_url</th>\n",
       "      <th>product_category</th>\n",
       "      <th>l2_category</th>\n",
       "      <th>rater1_no_attributes</th>\n",
       "      <th>rater1_unlisted_value</th>\n",
       "      <th>rater1_output</th>\n",
       "      <th>rater2_no_attributes</th>\n",
       "      <th>rater2_unlisted_value</th>\n",
       "      <th>rater2_output</th>\n",
       "      <th>rater3_no_attributes</th>\n",
       "      <th>rater3_unlisted_value</th>\n",
       "      <th>rater3_output</th>\n",
       "      <th>title_original</th>\n",
       "      <th>product_description_original</th>\n",
       "    </tr>\n",
       "  </thead>\n",
       "  <tbody>\n",
       "  </tbody>\n",
       "</table>\n",
       "</div>"
      ],
      "text/plain": [
       "Empty DataFrame\n",
       "Columns: [label_ordering, sample_method, product_id, title, product_description, main_image_url, product_category, l2_category, rater1_no_attributes, rater1_unlisted_value, rater1_output, rater2_no_attributes, rater2_unlisted_value, rater2_output, rater3_no_attributes, rater3_unlisted_value, rater3_output, title_original, product_description_original]\n",
       "Index: []"
      ]
     },
     "execution_count": 22,
     "metadata": {},
     "output_type": "execute_result"
    }
   ],
   "source": [
    "df_uniq_merge[df_uniq_merge.title_original.isna()]"
   ]
  },
  {
   "cell_type": "code",
   "execution_count": 23,
   "metadata": {},
   "outputs": [
    {
     "data": {
      "text/html": [
       "<div>\n",
       "<style scoped>\n",
       "    .dataframe tbody tr th:only-of-type {\n",
       "        vertical-align: middle;\n",
       "    }\n",
       "\n",
       "    .dataframe tbody tr th {\n",
       "        vertical-align: top;\n",
       "    }\n",
       "\n",
       "    .dataframe thead th {\n",
       "        text-align: right;\n",
       "    }\n",
       "</style>\n",
       "<table border=\"1\" class=\"dataframe\">\n",
       "  <thead>\n",
       "    <tr style=\"text-align: right;\">\n",
       "      <th></th>\n",
       "      <th>label_ordering</th>\n",
       "      <th>sample_method</th>\n",
       "      <th>product_id</th>\n",
       "      <th>title</th>\n",
       "      <th>product_description</th>\n",
       "      <th>main_image_url</th>\n",
       "      <th>product_category</th>\n",
       "      <th>l2_category</th>\n",
       "      <th>rater1_no_attributes</th>\n",
       "      <th>rater1_unlisted_value</th>\n",
       "      <th>rater1_output</th>\n",
       "      <th>rater2_no_attributes</th>\n",
       "      <th>rater2_unlisted_value</th>\n",
       "      <th>rater2_output</th>\n",
       "      <th>rater3_no_attributes</th>\n",
       "      <th>rater3_unlisted_value</th>\n",
       "      <th>rater3_output</th>\n",
       "      <th>title_original</th>\n",
       "      <th>product_description_original</th>\n",
       "    </tr>\n",
       "  </thead>\n",
       "  <tbody>\n",
       "  </tbody>\n",
       "</table>\n",
       "</div>"
      ],
      "text/plain": [
       "Empty DataFrame\n",
       "Columns: [label_ordering, sample_method, product_id, title, product_description, main_image_url, product_category, l2_category, rater1_no_attributes, rater1_unlisted_value, rater1_output, rater2_no_attributes, rater2_unlisted_value, rater2_output, rater3_no_attributes, rater3_unlisted_value, rater3_output, title_original, product_description_original]\n",
       "Index: []"
      ]
     },
     "execution_count": 23,
     "metadata": {},
     "output_type": "execute_result"
    }
   ],
   "source": [
    "df_uniq_merge[df_uniq_merge.product_description_original.isna()]"
   ]
  },
  {
   "cell_type": "code",
   "execution_count": 27,
   "metadata": {},
   "outputs": [],
   "source": [
    "df_uniq_merge['title'] = df_uniq_merge['title_original']\n",
    "df_uniq_merge['product_description'] = df_uniq_merge['product_description_original']"
   ]
  },
  {
   "cell_type": "code",
   "execution_count": 31,
   "metadata": {},
   "outputs": [],
   "source": [
    "df_uniq_merge['final_output'] = df_uniq_merge['rater1_output'].fillna('') + '\\n' + df_uniq_merge['rater2_output'].fillna('') + '\\n' + \\\n",
    "    df_uniq_merge['rater3_output'].fillna('')"
   ]
  },
  {
   "cell_type": "code",
   "execution_count": 32,
   "metadata": {},
   "outputs": [
    {
     "data": {
      "text/plain": [
       "(51258, 50346, 912, 912, 6821, 43525, 51258)"
      ]
     },
     "execution_count": 32,
     "metadata": {},
     "output_type": "execute_result"
    }
   ],
   "source": [
    "correct = []\n",
    "errors = []\n",
    "errors_fixed = []\n",
    "nonempty = []\n",
    "empty = []\n",
    "for i in df_uniq_merge.to_dict('records'):\n",
    "    res = [] if ((not isinstance(i['final_output'], str)) and (np.isnan(i['final_output']))) else i['final_output'].split('\\n')\n",
    "    res = sorted(set(res))\n",
    "    res = [i for i in res if len(i) > 0]\n",
    "    if len(res) == 0:\n",
    "        empty.append(i)\n",
    "    is_correct = True\n",
    "    for j in res:\n",
    "        if len(j.split(' > ')) < 2:\n",
    "            i['explanation'] = f\"{j} has no attribute name\"\n",
    "            errors.append(i)\n",
    "            is_correct = False\n",
    "            break\n",
    "        if j.split(' > ')[-2] not in attributes:\n",
    "            i['explanation'] = f\"{j} has invalid attribute name, because {j.split(' > ')[-2]} is not a valid attribute name\"\n",
    "            errors.append(i)\n",
    "            is_correct = False\n",
    "            break\n",
    "    if is_correct:\n",
    "        correct.append(i)\n",
    "        if len(res) > 0:\n",
    "            nonempty.append(i)\n",
    "for i in errors:\n",
    "    res = [] if ((not isinstance(i['final_output'], str)) and (np.isnan(i['final_output']))) else i['final_output'].split('\\n')\n",
    "    res = sorted(set(res))\n",
    "    res = [i for i in res if len(i) > 0]\n",
    "    corrected_res = []\n",
    "    for j in res:\n",
    "        if j.split(' > ')[-2] in attributes:\n",
    "            corrected_res.append(j)\n",
    "    i['final_output_corrected'] = '\\n'.join(corrected_res)\n",
    "    errors_fixed.append(i)\n",
    "\n",
    "len(df), len(correct), len(errors), len(errors_fixed), len(empty), len(nonempty), len(correct) + len(errors)"
   ]
  },
  {
   "cell_type": "code",
   "execution_count": 33,
   "metadata": {},
   "outputs": [
    {
     "data": {
      "text/plain": [
       "(0.13548246136733802, 0.864517538632662, 0.017792344609621914)"
      ]
     },
     "execution_count": 33,
     "metadata": {},
     "output_type": "execute_result"
    }
   ],
   "source": [
    "len(empty) / len(correct), len(nonempty) / len(correct), len(errors) / len(df)"
   ]
  },
  {
   "cell_type": "code",
   "execution_count": 34,
   "metadata": {},
   "outputs": [],
   "source": [
    "df_correct = pd.DataFrame(correct)\n",
    "df_error = pd.DataFrame(errors)\n",
    "df_error_fixed = pd.DataFrame(errors_fixed)"
   ]
  },
  {
   "cell_type": "code",
   "execution_count": 35,
   "metadata": {},
   "outputs": [],
   "source": [
    "df_nonempty = pd.DataFrame(nonempty)\n",
    "df_empty = pd.DataFrame(empty)"
   ]
  },
  {
   "cell_type": "code",
   "execution_count": 36,
   "metadata": {},
   "outputs": [],
   "source": [
    "assert len(df_correct) == len(df_empty) + len(df_nonempty)"
   ]
  },
  {
   "cell_type": "code",
   "execution_count": 37,
   "metadata": {},
   "outputs": [
    {
     "data": {
      "text/plain": [
       "True"
      ]
     },
     "execution_count": 37,
     "metadata": {},
     "output_type": "execute_result"
    }
   ],
   "source": [
    "df_empty.rater3_no_attributes.all()"
   ]
  },
  {
   "cell_type": "code",
   "execution_count": 38,
   "metadata": {},
   "outputs": [
    {
     "data": {
      "text/plain": [
       "(6821, 43525, 912)"
      ]
     },
     "execution_count": 38,
     "metadata": {},
     "output_type": "execute_result"
    }
   ],
   "source": [
    "len(df_empty), len(df_nonempty), len(df_error)"
   ]
  },
  {
   "cell_type": "code",
   "execution_count": 39,
   "metadata": {},
   "outputs": [],
   "source": [
    "df_nonempty.to_csv('appen/output_batch_correct_v6/product_attribution_just_032723_valid_units.csv', index=False)\n",
    "df_empty.to_csv('appen/output_batch_correct_v6/product_attribution_just_032723_empty_units.csv', index=False)\n",
    "df_error.to_csv('appen/output_batch_correct_v6/product_attribution_just_032723_invalid_units.csv', index=False)"
   ]
  },
  {
   "cell_type": "code",
   "execution_count": 40,
   "metadata": {},
   "outputs": [],
   "source": [
    "df_error_fixed.to_csv('appen/output_batch_correct_v6/product_attribution_just_032723_invalid_units_fixed.csv', index=False)"
   ]
  },
  {
   "cell_type": "code",
   "execution_count": 41,
   "metadata": {},
   "outputs": [
    {
     "data": {
      "text/plain": [
       "{'label_ordering': {1575: 65506},\n",
       " 'sample_method': {1575: 'only_text'},\n",
       " 'product_id': {1575: '6178cd87cd516376b43d159f'},\n",
       " 'title': {1575: \"10 PCS/Set Professional Japanese Red Handle Chef's Knife Meat Cutter Laser Damascus Pattern Chef's Knife Boning Bread Knife Set kitchen knives kitchen tools\"},\n",
       " 'product_description': {1575: \"10 PCS/Set Professional Japanese Red Handle Chef's Knife Meat Cutter Laser Damascus Pattern Chef's Knife Boning Bread Knife Set kitchen knives kitchen tools\\n\\nFeature：\\n\\n[Name]: Kitchen Knife\\n[Blade]: 7Cr17\\n[Features]: sharp and durable; environmental health; lightweight effort\\nFeatures and Scope:\\nThe hardened state, hard, but higher than 8Cr17,11Cr17 toughness. Used as cutting tools, measuring tools, bearings.\\n\\nWith it, your kitchen is more complete!\\n\\n8 inch Chef knife\\n8 inch Bread knife\\n8 inch Utility knife\\n7.5 inch Kiritsuke knife\\n7 inch Cleaver knife\\n7 inch Santoku knife\\n6 inch Boning knife\\n5 inch Santoku knife\\n5 inch Utility knife\\n3.5 inch Paring knife\\n \\n Tips: The blade is 7CR17 stainless steel, the surface of the laser Damascus pattern, very beautiful, good workmanship, razor sharp, keep your kitchen away from the blunt knife, and enjoy your kitchen life!\\n\\nPacking list:\\nKnife*10 Pcs\"},\n",
       " 'main_image_url': {1575: nan},\n",
       " 'product_category': {1575: 'Home & Garden > Kitchen,Dining & Bar > Kitchen Knives & Accessories > Knife Sets'},\n",
       " 'l2_category': {1575: 'Home & Garden > Kitchen,Dining & Bar '},\n",
       " 'rater1_no_attributes': {1575: True},\n",
       " 'rater1_unlisted_value': {1575: nan},\n",
       " 'rater1_output': {1575: nan},\n",
       " 'rater2_no_attributes': {1575: True},\n",
       " 'rater2_unlisted_value': {1575: nan},\n",
       " 'rater2_output': {1575: nan},\n",
       " 'rater3_no_attributes': {1575: True},\n",
       " 'rater3_unlisted_value': {1575: nan},\n",
       " 'rater3_output': {1575: nan},\n",
       " 'title_original': {1575: \"10 PCS/Set Professional Japanese Red Handle Chef's Knife Meat Cutter Laser Damascus Pattern Chef's Knife Boning Bread Knife Set kitchen knives kitchen tools\"},\n",
       " 'product_description_original': {1575: \"10 PCS/Set Professional Japanese Red Handle Chef's Knife Meat Cutter Laser Damascus Pattern Chef's Knife Boning Bread Knife Set kitchen knives kitchen tools\\n\\nFeature：\\n\\n[Name]: Kitchen Knife\\n[Blade]: 7Cr17\\n[Features]: sharp and durable; environmental health; lightweight effort\\nFeatures and Scope:\\nThe hardened state, hard, but higher than 8Cr17,11Cr17 toughness. Used as cutting tools, measuring tools, bearings.\\n\\nWith it, your kitchen is more complete!\\n\\n8 inch Chef knife\\n8 inch Bread knife\\n8 inch Utility knife\\n7.5 inch Kiritsuke knife\\n7 inch Cleaver knife\\n7 inch Santoku knife\\n6 inch Boning knife\\n5 inch Santoku knife\\n5 inch Utility knife\\n3.5 inch Paring knife\\n \\n Tips: The blade is 7CR17 stainless steel, the surface of the laser Damascus pattern, very beautiful, good workmanship, razor sharp, keep your kitchen away from the blunt knife, and enjoy your kitchen life!\\n\\nPacking list:\\nKnife*10 Pcs\"},\n",
       " 'final_output': {1575: '\\n\\n'}}"
      ]
     },
     "execution_count": 41,
     "metadata": {},
     "output_type": "execute_result"
    }
   ],
   "source": [
    "df_empty.sample(1).to_dict()"
   ]
  },
  {
   "cell_type": "code",
   "execution_count": 42,
   "metadata": {},
   "outputs": [
    {
     "data": {
      "text/plain": [
       "{'label_ordering': {9975: 62940},\n",
       " 'sample_method': {9975: 'text_and_img'},\n",
       " 'product_id': {9975: '60d3e75fcd06b916da2666fa'},\n",
       " 'title': {9975: '2021Upgraded 1/2/3PCS Non-Woven Folding Storage Box Quilt Storage Bag Wardrobe Clothing Storage Box Dustproof Three Grid Visible Organizer Bag Home Foldable Storage Organization'},\n",
       " 'product_description': {9975: '【Features】:\\n\\n- Convenient storage bags for storing and protecting clothing and household items.\\n\\n- For seasonal clothing, blankets, linen, festive decorations, toys, photos, baby clothing, saris and more.\\n\\n- Ideal for families, college dorms, closets, bedrooms, basement, loft, under-bed storage and more.\\n\\n- Carry lifting lift bags for stacking or transporting from one place to another - Easily move to shelves, closets, etc. - Quickly pack/unpack in seasons, travel, move or as needed\\n\\n- Fold or fold under the bed or drawer when not in use.\\n\\n- Zip closure protects against dust, insects, water spots and odors.\\n\\n- Made of polypropylene non-woven fabric including 3 transparent side windows, zipper closure, 2 handles.\\n\\n\\n【Specification】:\\n\\n-  Material: Non-woven Fabric\\n\\n-  Shape: Handbag type\\n\\n-  Size: 49 × 36 × 21cm\\n\\n-  Color: Blue / Grey\\n\\n-  Function: storage, finishing, dustproof, etc.\\n\\n-  Scope of application: family, dormitory, wardrobe, bedroom, loft, etc.\\n\\n-  Suitable for: seasonal clothing, blankets, toys, quilts, photos, baby clothing, etc.\\n\\n\\n【Package List】:\\n\\n1/2/3Pcs * Storage Box\\n\\n\\n【Note】:\\n\\n1. Please allow 1-3cm (0.4-1.18) difference due to manual measurement and slight color variation for different display setting.\\n\\n2. Due to the difference between different monitors, the picture may not reflect the actual color of the item.'},\n",
       " 'main_image_url': {9975: 'https://canary.contestimg.wish.com/api/webimage/60d3e75fcd06b916da2666fa-0-large.jpg'},\n",
       " 'product_category': {9975: 'Home & Garden > Home Storage & Organization > Clothing & Wardrobe Storage > Foldable Storage Bags'},\n",
       " 'l2_category': {9975: 'Home & Garden > Home Storage & Organization '},\n",
       " 'rater1_no_attributes': {9975: nan},\n",
       " 'rater1_unlisted_value': {9975: nan},\n",
       " 'rater1_output': {9975: 'Home & Garden > Home Storage & Organization > Clothing & Wardrobe Storage > Foldable Storage Bags > Closure Type > Zip\\nHome & Garden > Home Storage & Organization > Clothing & Wardrobe Storage > Foldable Storage Bags > Primary Color > Blue\\nHome & Garden > Home Storage & Organization > Clothing & Wardrobe Storage > Foldable Storage Bags > Primary Color > Gray'},\n",
       " 'rater2_no_attributes': {9975: nan},\n",
       " 'rater2_unlisted_value': {9975: nan},\n",
       " 'rater2_output': {9975: 'Home & Garden > Home Storage & Organization > Clothing & Wardrobe Storage > Foldable Storage Bags > Closure Type > Zip\\nHome & Garden > Home Storage & Organization > Clothing & Wardrobe Storage > Foldable Storage Bags > Number of Items > 3\\nHome & Garden > Home Storage & Organization > Clothing & Wardrobe Storage > Foldable Storage Bags > Primary Color > Blue\\nHome & Garden > Home Storage & Organization > Clothing & Wardrobe Storage > Foldable Storage Bags > Primary Color > Gray'},\n",
       " 'rater3_no_attributes': {9975: nan},\n",
       " 'rater3_unlisted_value': {9975: nan},\n",
       " 'rater3_output': {9975: 'Home & Garden > Home Storage & Organization > Clothing & Wardrobe Storage > Foldable Storage Bags > Primary Color > Blue\\nHome & Garden > Home Storage & Organization > Clothing & Wardrobe Storage > Foldable Storage Bags > Primary Color > Gray\\nHome & Garden > Home Storage & Organization > Clothing & Wardrobe Storage > Foldable Storage Bags > Closure Type > Zip\\nHome & Garden > Home Storage & Organization > Clothing & Wardrobe Storage > Foldable Storage Bags > Number of Items > 3'},\n",
       " 'title_original': {9975: '2021Upgraded 1/2/3PCS Non-Woven Folding Storage Box Quilt Storage Bag Wardrobe Clothing Storage Box Dustproof Three Grid Visible Organizer Bag Home Foldable Storage Organization'},\n",
       " 'product_description_original': {9975: '【Features】:\\n\\n- Convenient storage bags for storing and protecting clothing and household items.\\n\\n- For seasonal clothing, blankets, linen, festive decorations, toys, photos, baby clothing, saris and more.\\n\\n- Ideal for families, college dorms, closets, bedrooms, basement, loft, under-bed storage and more.\\n\\n- Carry lifting lift bags for stacking or transporting from one place to another - Easily move to shelves, closets, etc. - Quickly pack/unpack in seasons, travel, move or as needed\\n\\n- Fold or fold under the bed or drawer when not in use.\\n\\n- Zip closure protects against dust, insects, water spots and odors.\\n\\n- Made of polypropylene non-woven fabric including 3 transparent side windows, zipper closure, 2 handles.\\n\\n\\n【Specification】:\\n\\n-  Material: Non-woven Fabric\\n\\n-  Shape: Handbag type\\n\\n-  Size: 49 × 36 × 21cm\\n\\n-  Color: Blue / Grey\\n\\n-  Function: storage, finishing, dustproof, etc.\\n\\n-  Scope of application: family, dormitory, wardrobe, bedroom, loft, etc.\\n\\n-  Suitable for: seasonal clothing, blankets, toys, quilts, photos, baby clothing, etc.\\n\\n\\n【Package List】:\\n\\n1/2/3Pcs * Storage Box\\n\\n\\n【Note】:\\n\\n1. Please allow 1-3cm (0.4-1.18) difference due to manual measurement and slight color variation for different display setting.\\n\\n2. Due to the difference between different monitors, the picture may not reflect the actual color of the item.'},\n",
       " 'final_output': {9975: 'Home & Garden > Home Storage & Organization > Clothing & Wardrobe Storage > Foldable Storage Bags > Closure Type > Zip\\nHome & Garden > Home Storage & Organization > Clothing & Wardrobe Storage > Foldable Storage Bags > Primary Color > Blue\\nHome & Garden > Home Storage & Organization > Clothing & Wardrobe Storage > Foldable Storage Bags > Primary Color > Gray\\nHome & Garden > Home Storage & Organization > Clothing & Wardrobe Storage > Foldable Storage Bags > Closure Type > Zip\\nHome & Garden > Home Storage & Organization > Clothing & Wardrobe Storage > Foldable Storage Bags > Number of Items > 3\\nHome & Garden > Home Storage & Organization > Clothing & Wardrobe Storage > Foldable Storage Bags > Primary Color > Blue\\nHome & Garden > Home Storage & Organization > Clothing & Wardrobe Storage > Foldable Storage Bags > Primary Color > Gray\\nHome & Garden > Home Storage & Organization > Clothing & Wardrobe Storage > Foldable Storage Bags > Primary Color > Blue\\nHome & Garden > Home Storage & Organization > Clothing & Wardrobe Storage > Foldable Storage Bags > Primary Color > Gray\\nHome & Garden > Home Storage & Organization > Clothing & Wardrobe Storage > Foldable Storage Bags > Closure Type > Zip\\nHome & Garden > Home Storage & Organization > Clothing & Wardrobe Storage > Foldable Storage Bags > Number of Items > 3'}}"
      ]
     },
     "execution_count": 42,
     "metadata": {},
     "output_type": "execute_result"
    }
   ],
   "source": [
    "df_nonempty.sample(1).to_dict()"
   ]
  },
  {
   "cell_type": "code",
   "execution_count": 43,
   "metadata": {},
   "outputs": [
    {
     "data": {
      "text/plain": [
       "{'label_ordering': {785: 92320},\n",
       " 'sample_method': {785: 'only_text'},\n",
       " 'product_id': {785: '61755ffd643c78b313c045aa'},\n",
       " 'title': {785: '  Heating Fan Practical Anti-scald ABS  Lightweight    '},\n",
       " 'product_description': {785: 'Specifications: \\nSince it has a small size and light weight, this product is easy to carry and change place, which can use at night during sleep with its design of silent operation.\\nIt is easy to carry and change place with its small size and light weight, which can use at night during sleep since it is silent operated.\\nAs it has a design of silent operation, this product can use at night during sleep, which is easy to carry and change place with its small size and light weight.\\nDesigned with its silent operation, this product can use at night during sleep, which is easy to carry and change place with its small size and light weight.\\nThis product is can be used at night during sleep with its design of silent operation, featuring its light weight and small size, which is easy to carry and change place.\\n\\nItem Name: Space Heaters\\nMaterial : ABS\\n14cm x 14cm x 10cm/5.51\" x 5.51\" x 3.94\" (Approx.)\\nNotes: \\nDue to the light and screen setting difference, the item\\'s color may be slightly different from the pictures.\\r\\nPlease allow slight dimension difference due to different manual measurement.\\n\\nPackage Includes: \\n1 x Space Heaters\\n\\r\\n1 x User Manual\\r\\n\\r\\nFast shipping,you will love it.'},\n",
       " 'main_image_url': {785: nan},\n",
       " 'product_category': {785: 'Home & Garden > Household Merchandise > Warming Products > Stove Hand Warmers'},\n",
       " 'l2_category': {785: 'Home & Garden > Household Merchandise '},\n",
       " 'rater1_no_attributes': {785: nan},\n",
       " 'rater1_unlisted_value': {785: nan},\n",
       " 'rater1_output': {785: 'Home & Garden > Household Merchandise > Warming Products > Stove Hand Warmers > Alpha Size > S'},\n",
       " 'rater2_no_attributes': {785: nan},\n",
       " 'rater2_unlisted_value': {785: nan},\n",
       " 'rater2_output': {785: 'Home & Garden > Household Merchandise > Warming Products > Stove Hand Warmers'},\n",
       " 'rater3_no_attributes': {785: True},\n",
       " 'rater3_unlisted_value': {785: nan},\n",
       " 'rater3_output': {785: nan},\n",
       " 'title_original': {785: '  Heating Fan Practical Anti-scald ABS  Lightweight    '},\n",
       " 'product_description_original': {785: 'Specifications: \\nSince it has a small size and light weight, this product is easy to carry and change place, which can use at night during sleep with its design of silent operation.\\nIt is easy to carry and change place with its small size and light weight, which can use at night during sleep since it is silent operated.\\nAs it has a design of silent operation, this product can use at night during sleep, which is easy to carry and change place with its small size and light weight.\\nDesigned with its silent operation, this product can use at night during sleep, which is easy to carry and change place with its small size and light weight.\\nThis product is can be used at night during sleep with its design of silent operation, featuring its light weight and small size, which is easy to carry and change place.\\n\\nItem Name: Space Heaters\\nMaterial : ABS\\n14cm x 14cm x 10cm/5.51\" x 5.51\" x 3.94\" (Approx.)\\nNotes: \\nDue to the light and screen setting difference, the item\\'s color may be slightly different from the pictures.\\r\\nPlease allow slight dimension difference due to different manual measurement.\\n\\nPackage Includes: \\n1 x Space Heaters\\n\\r\\n1 x User Manual\\r\\n\\r\\nFast shipping,you will love it.'},\n",
       " 'final_output': {785: 'Home & Garden > Household Merchandise > Warming Products > Stove Hand Warmers > Alpha Size > S\\nHome & Garden > Household Merchandise > Warming Products > Stove Hand Warmers\\n'},\n",
       " 'explanation': {785: 'Home & Garden > Household Merchandise > Warming Products > Stove Hand Warmers has invalid attribute name, because Warming Products is not a valid attribute name'},\n",
       " 'final_output_corrected': {785: 'Home & Garden > Household Merchandise > Warming Products > Stove Hand Warmers > Alpha Size > S'}}"
      ]
     },
     "execution_count": 43,
     "metadata": {},
     "output_type": "execute_result"
    }
   ],
   "source": [
    "df_error.sample(1).to_dict()"
   ]
  },
  {
   "cell_type": "code",
   "execution_count": 44,
   "metadata": {},
   "outputs": [
    {
     "data": {
      "text/plain": [
       "{'label_ordering': {581: 70080},\n",
       " 'sample_method': {581: 'only_text'},\n",
       " 'product_id': {581: '605a0eff1f19f92a2690240b'},\n",
       " 'title': {581: \"Fashion Light-weight Men Leisure Shoes Suede Loafers Men's Driving Style Loafers Size 39-46\"},\n",
       " 'product_description': {581: \"Welcome to our store, wish you have a nice shopping!\\n100% brand new high quality\\n\\nBecause the size of the product is different, so the cost is also different,\\nsmall size is cheaper than big size, please understand! thank you!We mark the\\nprice of the smallest size in the picture!\\nTip: If you like to wear loose shoes, please choose one size larger than usual.\\n\\nBecause US shoe size and China shoe size is not completely equal, so the following shoe size is only for reference:(Best selection method: check foot length)\\n\\nUS 6 = EU 38 =foot length 23.5 - 24 cm\\nUS 6.5 = EU 39 =foot length 24 - 24.5 cm\\nUS 7 = EU 40 =foot length 24.5 - 25 cm\\nUS 8 = EU 41 =foot length 25 - 25.5 cm\\nUS 8.5 = EU 42 =foot length 25.5 - 26 cm\\nUS 9.5 = EU 43 =foot length 26 - 26.5 cm\\nUS 10 = EU 44 =foot length 26.5 - 27 cm\\nUS 11 = EU 45 =foot length 27 - 27.5 cm\\nUS 12 = EU 46 =foot length 27.5 - 28 cm\\nUS 13 = EU 47 =foot length 28 - 28.5 cm\\n\\n(All measurement in cm and please note 1cm=0.39inch)\\n\\nFor Example,If your foot length is 25.3cm,You should choose US size8.\\nKindly Reminder:The shoes size is based on European size and the real foot length.\\nIf you are not sure your foot length,please measure your foot length according to follow methods.\\n\\nTips: Measurements are the maximum size,please allow appr 0.5-1cm tolerance. Compare the chart size with your feet length carefully before ordering.\\n1.Please choose your size according to your foot lengt\\n2.If you do not measure feet long, another method is to measure the shoes you're wearing insoles length,based on the insole length of the table ,then select shoe size\\n\\nDue to computer monitor, may exist some color error, please do not mind!\\nI wish you a happy shopping experience on Wish!Have a nice day!!!\"},\n",
       " 'main_image_url': {581: nan},\n",
       " 'product_category': {581: \"Shoes > Men's Shoes > Loafers\"},\n",
       " 'l2_category': {581: \"Shoes > Men's Shoes \"},\n",
       " 'rater1_no_attributes': {581: nan},\n",
       " 'rater1_unlisted_value': {581: nan},\n",
       " 'rater1_output': {581: \"Shoes > Men's Shoes > Loafers\"},\n",
       " 'rater2_no_attributes': {581: nan},\n",
       " 'rater2_unlisted_value': {581: nan},\n",
       " 'rater2_output': {581: \"Shoes > Men's Shoes > Loafers > Department > Men\\nShoes > Men's Shoes > Loafers > Size > 38\\nShoes > Men's Shoes > Loafers > Size > 39\\nShoes > Men's Shoes > Loafers > Size > 40\\nShoes > Men's Shoes > Loafers > Size > 41\\nShoes > Men's Shoes > Loafers > Size > 42\\nShoes > Men's Shoes > Loafers > Size > 43\\nShoes > Men's Shoes > Loafers > Size > 44\\nShoes > Men's Shoes > Loafers > Size > 45\\nShoes > Men's Shoes > Loafers > Size > 46\\nShoes > Men's Shoes > Loafers > Size > 47\"},\n",
       " 'rater3_no_attributes': {581: True},\n",
       " 'rater3_unlisted_value': {581: nan},\n",
       " 'rater3_output': {581: nan},\n",
       " 'title_original': {581: \"Fashion Light-weight Men Leisure Shoes Suede Loafers Men's Driving Style Loafers Size 39-46\"},\n",
       " 'product_description_original': {581: \"Welcome to our store, wish you have a nice shopping!\\n100% brand new high quality\\n\\nBecause the size of the product is different, so the cost is also different,\\nsmall size is cheaper than big size, please understand! thank you!We mark the\\nprice of the smallest size in the picture!\\nTip: If you like to wear loose shoes, please choose one size larger than usual.\\n\\nBecause US shoe size and China shoe size is not completely equal, so the following shoe size is only for reference:(Best selection method: check foot length)\\n\\nUS 6 = EU 38 =foot length 23.5 - 24 cm\\nUS 6.5 = EU 39 =foot length 24 - 24.5 cm\\nUS 7 = EU 40 =foot length 24.5 - 25 cm\\nUS 8 = EU 41 =foot length 25 - 25.5 cm\\nUS 8.5 = EU 42 =foot length 25.5 - 26 cm\\nUS 9.5 = EU 43 =foot length 26 - 26.5 cm\\nUS 10 = EU 44 =foot length 26.5 - 27 cm\\nUS 11 = EU 45 =foot length 27 - 27.5 cm\\nUS 12 = EU 46 =foot length 27.5 - 28 cm\\nUS 13 = EU 47 =foot length 28 - 28.5 cm\\n\\n(All measurement in cm and please note 1cm=0.39inch)\\n\\nFor Example,If your foot length is 25.3cm,You should choose US size8.\\nKindly Reminder:The shoes size is based on European size and the real foot length.\\nIf you are not sure your foot length,please measure your foot length according to follow methods.\\n\\nTips: Measurements are the maximum size,please allow appr 0.5-1cm tolerance. Compare the chart size with your feet length carefully before ordering.\\n1.Please choose your size according to your foot lengt\\n2.If you do not measure feet long, another method is to measure the shoes you're wearing insoles length,based on the insole length of the table ,then select shoe size\\n\\nDue to computer monitor, may exist some color error, please do not mind!\\nI wish you a happy shopping experience on Wish!Have a nice day!!!\"},\n",
       " 'final_output': {581: \"Shoes > Men's Shoes > Loafers\\nShoes > Men's Shoes > Loafers > Department > Men\\nShoes > Men's Shoes > Loafers > Size > 38\\nShoes > Men's Shoes > Loafers > Size > 39\\nShoes > Men's Shoes > Loafers > Size > 40\\nShoes > Men's Shoes > Loafers > Size > 41\\nShoes > Men's Shoes > Loafers > Size > 42\\nShoes > Men's Shoes > Loafers > Size > 43\\nShoes > Men's Shoes > Loafers > Size > 44\\nShoes > Men's Shoes > Loafers > Size > 45\\nShoes > Men's Shoes > Loafers > Size > 46\\nShoes > Men's Shoes > Loafers > Size > 47\\n\"},\n",
       " 'explanation': {581: \"Shoes > Men's Shoes > Loafers has invalid attribute name, because Men's Shoes is not a valid attribute name\"},\n",
       " 'final_output_corrected': {581: \"Shoes > Men's Shoes > Loafers > Department > Men\\nShoes > Men's Shoes > Loafers > Size > 38\\nShoes > Men's Shoes > Loafers > Size > 39\\nShoes > Men's Shoes > Loafers > Size > 40\\nShoes > Men's Shoes > Loafers > Size > 41\\nShoes > Men's Shoes > Loafers > Size > 42\\nShoes > Men's Shoes > Loafers > Size > 43\\nShoes > Men's Shoes > Loafers > Size > 44\\nShoes > Men's Shoes > Loafers > Size > 45\\nShoes > Men's Shoes > Loafers > Size > 46\\nShoes > Men's Shoes > Loafers > Size > 47\"}}"
      ]
     },
     "execution_count": 44,
     "metadata": {},
     "output_type": "execute_result"
    }
   ],
   "source": [
    "df_error_fixed.sample(1).to_dict()"
   ]
  },
  {
   "cell_type": "code",
   "execution_count": 45,
   "metadata": {},
   "outputs": [],
   "source": [
    "leftover = set(df_original.label_ordering) - set(df_uniq_merge.label_ordering)\n",
    "df_leftover = df_original[df_original.label_ordering.apply(lambda x: x in leftover)]"
   ]
  },
  {
   "cell_type": "code",
   "execution_count": 46,
   "metadata": {},
   "outputs": [
    {
     "data": {
      "text/plain": [
       "38"
      ]
     },
     "execution_count": 46,
     "metadata": {},
     "output_type": "execute_result"
    }
   ],
   "source": [
    "len(df_leftover)"
   ]
  },
  {
   "cell_type": "code",
   "execution_count": 47,
   "metadata": {},
   "outputs": [],
   "source": [
    "df_leftover.to_csv('appen/output_batch_correct_v6/product_attribution_missed_just_032723.csv', index=False)"
   ]
  },
  {
   "cell_type": "code",
   "execution_count": null,
   "metadata": {},
   "outputs": [],
   "source": []
  }
 ],
 "metadata": {
  "kernelspec": {
   "display_name": "Python 3",
   "language": "python",
   "name": "python3"
  },
  "language_info": {
   "codemirror_mode": {
    "name": "ipython",
    "version": 3
   },
   "file_extension": ".py",
   "mimetype": "text/x-python",
   "name": "python",
   "nbconvert_exporter": "python",
   "pygments_lexer": "ipython3",
   "version": "3.8.13"
  },
  "orig_nbformat": 4,
  "vscode": {
   "interpreter": {
    "hash": "949777d72b0d2535278d3dc13498b2535136f6dfe0678499012e853ee9abcab1"
   }
  }
 },
 "nbformat": 4,
 "nbformat_minor": 2
}
