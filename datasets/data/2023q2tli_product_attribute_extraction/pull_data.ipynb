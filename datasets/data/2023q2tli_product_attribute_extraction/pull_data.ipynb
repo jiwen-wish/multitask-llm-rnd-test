{
 "cells": [
  {
   "cell_type": "code",
   "execution_count": 1,
   "metadata": {},
   "outputs": [],
   "source": [
    "from tahoe import create_external_table, drop_external_table, execute_async\n",
    "from s3 import result_bucket, get_s3_file_keys, get_df_from_parquet\n",
    "import pandas as pd\n",
    "import logging\n",
    "import dvc.api\n",
    "logging.basicConfig(\n",
    "    format='%(asctime)s %(levelname)s: %(message)s',\n",
    "    level=logging.INFO\n",
    ")"
   ]
  },
  {
   "attachments": {},
   "cell_type": "markdown",
   "metadata": {},
   "source": [
    "# Download"
   ]
  },
  {
   "cell_type": "code",
   "execution_count": 12,
   "metadata": {},
   "outputs": [],
   "source": [
    "from l2s import commited_l2s, at_risk_l2s, very_at_risk_l2s"
   ]
  },
  {
   "cell_type": "code",
   "execution_count": 13,
   "metadata": {},
   "outputs": [],
   "source": [
    "select_l2_set = set(commited_l2s).union(set(at_risk_l2s))"
   ]
  },
  {
   "cell_type": "code",
   "execution_count": 26,
   "metadata": {},
   "outputs": [],
   "source": [
    "df_tax = pd.read_json(\"/workspaces/multitask-llm-rnd/datasets/data/taxonomy/wish_newtax.json\", lines=True)"
   ]
  },
  {
   "cell_type": "code",
   "execution_count": 27,
   "metadata": {},
   "outputs": [],
   "source": [
    "df_tax_latest = pd.read_json(\"/workspaces/multitask-llm-rnd/datasets/data/taxonomy/wish_newtax_02222023.json\", lines=True)"
   ]
  },
  {
   "cell_type": "code",
   "execution_count": 28,
   "metadata": {},
   "outputs": [],
   "source": [
    "df_tax_select_l2s = df_tax[df_tax.category_path.apply(lambda x: x.count(' > ') == 1 and any([\n",
    "    x.startswith(i) for i in select_l2_set]))]"
   ]
  },
  {
   "cell_type": "code",
   "execution_count": 29,
   "metadata": {},
   "outputs": [
    {
     "data": {
      "text/plain": [
       "(41, 41)"
      ]
     },
     "execution_count": 29,
     "metadata": {},
     "output_type": "execute_result"
    }
   ],
   "source": [
    "len(df_tax_select_l2s), len(select_l2_set)"
   ]
  },
  {
   "cell_type": "code",
   "execution_count": 30,
   "metadata": {},
   "outputs": [
    {
     "data": {
      "text/plain": [
       "True"
      ]
     },
     "execution_count": 30,
     "metadata": {},
     "output_type": "execute_result"
    }
   ],
   "source": [
    "set(df_tax_select_l2s['category_path']) == select_l2_set"
   ]
  },
  {
   "cell_type": "code",
   "execution_count": 31,
   "metadata": {},
   "outputs": [],
   "source": [
    "select_l2_ids_set = set([str(i) for i in df_tax_select_l2s['id'].tolist()])"
   ]
  },
  {
   "cell_type": "code",
   "execution_count": 32,
   "metadata": {},
   "outputs": [],
   "source": [
    "sam_select_l2_ids_set = [1255,\n",
    "1308,\n",
    "2330,\n",
    "2479,\n",
    "2537,\n",
    "2649,\n",
    "2770,\n",
    "2924,\n",
    "3237,\n",
    "3897,\n",
    "4081,\n",
    "4108,\n",
    "4115,\n",
    "4767,\n",
    "5000,\n",
    "4286,\n",
    "1638,\n",
    "5041,\n",
    "5140,\n",
    "4884,\n",
    "2718,\n",
    "2879,\n",
    "4152,\n",
    "4145,\n",
    "4741,\n",
    "1245,\n",
    "1313,\n",
    "1316,\n",
    "1466,\n",
    "1408,\n",
    "1494,\n",
    "1379,\n",
    "1337,\n",
    "1381,\n",
    "1349,\n",
    "1380,\n",
    "1744,\n",
    "1769,\n",
    "1645,\n",
    "4714,\n",
    "3543]"
   ]
  },
  {
   "cell_type": "code",
   "execution_count": 33,
   "metadata": {},
   "outputs": [
    {
     "data": {
      "text/plain": [
       "(41, 41)"
      ]
     },
     "execution_count": 33,
     "metadata": {},
     "output_type": "execute_result"
    }
   ],
   "source": [
    "len(set([str(i) for i in sam_select_l2_ids_set])), len(select_l2_ids_set)"
   ]
  },
  {
   "cell_type": "code",
   "execution_count": 34,
   "metadata": {},
   "outputs": [
    {
     "data": {
      "text/plain": [
       "{'4286'}"
      ]
     },
     "execution_count": 34,
     "metadata": {},
     "output_type": "execute_result"
    }
   ],
   "source": [
    "set([str(i) for i in sam_select_l2_ids_set]) - select_l2_ids_set"
   ]
  },
  {
   "cell_type": "code",
   "execution_count": 35,
   "metadata": {},
   "outputs": [
    {
     "data": {
      "text/plain": [
       "{'5229'}"
      ]
     },
     "execution_count": 35,
     "metadata": {},
     "output_type": "execute_result"
    }
   ],
   "source": [
    "select_l2_ids_set - set([str(i) for i in sam_select_l2_ids_set])"
   ]
  },
  {
   "cell_type": "code",
   "execution_count": 36,
   "metadata": {},
   "outputs": [
    {
     "data": {
      "text/html": [
       "<div>\n",
       "<style scoped>\n",
       "    .dataframe tbody tr th:only-of-type {\n",
       "        vertical-align: middle;\n",
       "    }\n",
       "\n",
       "    .dataframe tbody tr th {\n",
       "        vertical-align: top;\n",
       "    }\n",
       "\n",
       "    .dataframe thead th {\n",
       "        text-align: right;\n",
       "    }\n",
       "</style>\n",
       "<table border=\"1\" class=\"dataframe\">\n",
       "  <thead>\n",
       "    <tr style=\"text-align: right;\">\n",
       "      <th></th>\n",
       "      <th>category_tree_version</th>\n",
       "      <th>id</th>\n",
       "      <th>category_path</th>\n",
       "      <th>is_leaf</th>\n",
       "    </tr>\n",
       "  </thead>\n",
       "  <tbody>\n",
       "    <tr>\n",
       "      <th>32</th>\n",
       "      <td>v1.2.1</td>\n",
       "      <td>5229</td>\n",
       "      <td>Sports &gt; Sneakers</td>\n",
       "      <td>False</td>\n",
       "    </tr>\n",
       "    <tr>\n",
       "      <th>3962</th>\n",
       "      <td>v1.2.1</td>\n",
       "      <td>4286</td>\n",
       "      <td>Mother &amp; Kids &gt; Baby Shoes &gt; Sneakers</td>\n",
       "      <td>True</td>\n",
       "    </tr>\n",
       "  </tbody>\n",
       "</table>\n",
       "</div>"
      ],
      "text/plain": [
       "     category_tree_version    id                          category_path  \\\n",
       "32                  v1.2.1  5229                      Sports > Sneakers   \n",
       "3962                v1.2.1  4286  Mother & Kids > Baby Shoes > Sneakers   \n",
       "\n",
       "      is_leaf  \n",
       "32      False  \n",
       "3962     True  "
      ]
     },
     "execution_count": 36,
     "metadata": {},
     "output_type": "execute_result"
    }
   ],
   "source": [
    "df_tax[df_tax['id'].apply(lambda x: x in [4286, 5229])]"
   ]
  },
  {
   "cell_type": "code",
   "execution_count": 37,
   "metadata": {},
   "outputs": [
    {
     "data": {
      "text/html": [
       "<div>\n",
       "<style scoped>\n",
       "    .dataframe tbody tr th:only-of-type {\n",
       "        vertical-align: middle;\n",
       "    }\n",
       "\n",
       "    .dataframe tbody tr th {\n",
       "        vertical-align: top;\n",
       "    }\n",
       "\n",
       "    .dataframe thead th {\n",
       "        text-align: right;\n",
       "    }\n",
       "</style>\n",
       "<table border=\"1\" class=\"dataframe\">\n",
       "  <thead>\n",
       "    <tr style=\"text-align: right;\">\n",
       "      <th></th>\n",
       "      <th>category_tree_version</th>\n",
       "      <th>id</th>\n",
       "      <th>category_path</th>\n",
       "      <th>is_leaf</th>\n",
       "    </tr>\n",
       "  </thead>\n",
       "  <tbody>\n",
       "    <tr>\n",
       "      <th>287</th>\n",
       "      <td>v2.0.1</td>\n",
       "      <td>5229</td>\n",
       "      <td>Sports &gt; Sneakers</td>\n",
       "      <td>False</td>\n",
       "    </tr>\n",
       "    <tr>\n",
       "      <th>1928</th>\n",
       "      <td>v2.0.1</td>\n",
       "      <td>4286</td>\n",
       "      <td>Mother &amp; Kids &gt; Baby Shoes &gt; Sneakers</td>\n",
       "      <td>True</td>\n",
       "    </tr>\n",
       "  </tbody>\n",
       "</table>\n",
       "</div>"
      ],
      "text/plain": [
       "     category_tree_version    id                          category_path  \\\n",
       "287                 v2.0.1  5229                      Sports > Sneakers   \n",
       "1928                v2.0.1  4286  Mother & Kids > Baby Shoes > Sneakers   \n",
       "\n",
       "      is_leaf  \n",
       "287     False  \n",
       "1928     True  "
      ]
     },
     "execution_count": 37,
     "metadata": {},
     "output_type": "execute_result"
    }
   ],
   "source": [
    "df_tax_latest[df_tax_latest['id'].apply(lambda x: x in [4286, 5229])]"
   ]
  },
  {
   "cell_type": "code",
   "execution_count": 38,
   "metadata": {},
   "outputs": [],
   "source": [
    "# Define the export table\n",
    "export_table = {\n",
    "    \"name\": \"collection_export_tmp0_041723\",\n",
    "    \"columns\": [\n",
    "        {\"name\": \"pid\", \"type\": \"STRING\"},\n",
    "        {\"name\": \"category_id\", \"type\": \"INTEGER\"},\n",
    "        {\"name\": \"category_path\", \"type\": \"STRING\"},\n",
    "        {\"name\": \"title\", \"type\": \"STRING\"},\n",
    "        {\"name\": \"description\", \"type\": \"STRING\"}\n",
    "    ]\n",
    "}\n",
    "db = \"sweeper_dev\""
   ]
  },
  {
   "cell_type": "code",
   "execution_count": 20,
   "metadata": {},
   "outputs": [
    {
     "name": "stderr",
     "output_type": "stream",
     "text": [
      "2023-04-17 23:35:04,609 INFO: USE `default`\n",
      "2023-04-17 23:35:05,621 INFO: \n",
      "    CREATE TABLE sweeper_dev.collection_export_tmp0_041723 (\n",
      "    pid STRING,\n",
      "\tcategory_id INTEGER,\n",
      "\tcategory_path STRING,\n",
      "\ttitle STRING,\n",
      "\tdescription STRING\n",
      "    )\n",
      "    \n",
      "STORED AS PARQUET\n",
      "LOCATION 's3://wish-tahoe-query-results/sweeper_dev/collection_export_tmp0_041723'\n",
      "TBLPROPERTIES ('parquet.compression'='SNAPPY')\n",
      "2023-04-17 23:35:06,545 INFO: The query returned no records.\n"
     ]
    }
   ],
   "source": [
    "# Create the export table\n",
    "create_external_table(\n",
    "    table_name=export_table[\"name\"],\n",
    "    table_definition=export_table,\n",
    "    db=db,\n",
    "    bucket=result_bucket\n",
    ")"
   ]
  },
  {
   "cell_type": "code",
   "execution_count": 39,
   "metadata": {},
   "outputs": [
    {
     "name": "stderr",
     "output_type": "stream",
     "text": [
      "2023-04-17 23:37:59,937 INFO: SELECT COUNT(*) FROM sweeper_dev.collection_export_tmp0_041723\n"
     ]
    },
    {
     "data": {
      "text/plain": [
       "[(0,)]"
      ]
     },
     "execution_count": 39,
     "metadata": {},
     "output_type": "execute_result"
    }
   ],
   "source": [
    "# Check the number of rows in the external table\n",
    "q = f\"SELECT COUNT(*) FROM {db}.{export_table['name']}\"\n",
    "execute_async(q)"
   ]
  },
  {
   "cell_type": "code",
   "execution_count": 40,
   "metadata": {},
   "outputs": [],
   "source": [
    "ids_q = ','.join([\"'\" + str(i) + \"'\" for i in select_l2_ids_set])"
   ]
  },
  {
   "cell_type": "code",
   "execution_count": 41,
   "metadata": {},
   "outputs": [
    {
     "name": "stderr",
     "output_type": "stream",
     "text": [
      "2023-04-17 23:38:44,945 INFO: \n",
      "INSERT INTO sweeper_dev.collection_export_tmp0_041723\n",
      "\n",
      "WITH inappropriate_pids AS (\n",
      "  SELECT pid\n",
      "  FROM supply.microtagging_sensitive_products\n",
      "  WHERE flag_for_removal = 1\n",
      ") \n",
      "\n",
      ", top_products AS (\n",
      "  SELECT\n",
      "      a.product_id\n",
      "  FROM analytics.agg_product_daily_stats a\n",
      "  JOIN ( \n",
      "      SELECT product_id\n",
      "      FROM wish.master_products\n",
      "      WHERE merchant_id IS NOT NULL\n",
      "      AND is_deleted != 'true'\n",
      "      AND product_removed_by_merchant != 'true'\n",
      "      AND commerce_active = 1\n",
      "      AND state IN ('0','1') -- NEW or ACTIVE\n",
      "  ) b\n",
      "  ON a.product_id = b.product_id\n",
      "  LEFT JOIN inappropriate_pids\n",
      "  ON inappropriate_pids.pid = a.product_id\n",
      "  WHERE a.gmv_365d > 0\n",
      "  AND inappropriate_pids.pid IS NULL\n",
      ")\n",
      "\n",
      ", top_products_limiting_L2 AS (\n",
      "  SELECT \n",
      "    top_products.product_id\n",
      "    , category.category_id\n",
      "    , category.category_path \n",
      "  FROM top_products\n",
      "  JOIN \n",
      "    (\n",
      "      SELECT product_id, category_id \n",
      "      FROM structured_data.wish_product_predicted_category\n",
      "    ) product \n",
      "  ON top_products.product_id = product.product_id\n",
      "  JOIN (\n",
      "    SELECT \n",
      "      id AS category_id\n",
      "      -- , name AS category_name\n",
      "      , category_path\n",
      "      -- , trim(regexp_extract(category_path, '^[^>]*>[^>]*')) AS L2 \n",
      "      -- , trim(regexp_extract(category_path, '^[^>]*')) AS L1 \n",
      "      -- , split_part(category_path, ' > ', 2) as l2_name\n",
      "    FROM structured_data.wish_product_categories\n",
      "    WHERE split_part(category_id_path, ',', 2) in (\n",
      "      '5000','1638','1645','2537','1466','2649','2879','1308','1379','3543','5041','4145','4741','4152','4081','1349','1337','2924','3237','2770','1245','4714','4884','1380','3897','4115','1408','1381','1494','1744','1255','2479','5229','2330','1769','4108','2718','4767','5140','1313','1316'\n",
      "    )\n",
      "  ) category \n",
      "  ON product.category_id = category.category_id\n",
      ")\n",
      "\n",
      "SELECT \n",
      "  top_products_limiting_L2.product_id\n",
      "  , top_products_limiting_L2.category_id\n",
      "  , top_products_limiting_L2.category_path\n",
      "  , text.name AS title \n",
      "  , text.product_description\n",
      "  -- , variations.color \n",
      "  -- , variations.size \n",
      "FROM\n",
      "(\n",
      "  SELECT _id AS product_id, name, product_description \n",
      "  FROM wish.dim_all_products\n",
      ") text \n",
      "JOIN \n",
      "  top_products_limiting_L2\n",
      "ON text.product_id = top_products_limiting_L2.product_id\n"
     ]
    },
    {
     "data": {
      "text/plain": [
       "[(1007384,)]"
      ]
     },
     "execution_count": 41,
     "metadata": {},
     "output_type": "execute_result"
    }
   ],
   "source": [
    "q = f\"\"\"\n",
    "INSERT INTO {db}.{export_table['name']}\n",
    "\n",
    "WITH inappropriate_pids AS (\n",
    "  SELECT pid\n",
    "  FROM supply.microtagging_sensitive_products\n",
    "  WHERE flag_for_removal = 1\n",
    ") \n",
    "\n",
    ", top_products AS (\n",
    "  SELECT\n",
    "      a.product_id\n",
    "  FROM analytics.agg_product_daily_stats a\n",
    "  JOIN ( \n",
    "      SELECT product_id\n",
    "      FROM wish.master_products\n",
    "      WHERE merchant_id IS NOT NULL\n",
    "      AND is_deleted != 'true'\n",
    "      AND product_removed_by_merchant != 'true'\n",
    "      AND commerce_active = 1\n",
    "      AND state IN ('0','1') -- NEW or ACTIVE\n",
    "  ) b\n",
    "  ON a.product_id = b.product_id\n",
    "  LEFT JOIN inappropriate_pids\n",
    "  ON inappropriate_pids.pid = a.product_id\n",
    "  WHERE a.gmv_365d > 0\n",
    "  AND inappropriate_pids.pid IS NULL\n",
    ")\n",
    "\n",
    ", top_products_limiting_L2 AS (\n",
    "  SELECT \n",
    "    top_products.product_id\n",
    "    , category.category_id\n",
    "    , category.category_path \n",
    "  FROM top_products\n",
    "  JOIN \n",
    "    (\n",
    "      SELECT product_id, category_id \n",
    "      FROM structured_data.wish_product_predicted_category\n",
    "    ) product \n",
    "  ON top_products.product_id = product.product_id\n",
    "  JOIN (\n",
    "    SELECT \n",
    "      id AS category_id\n",
    "      -- , name AS category_name\n",
    "      , category_path\n",
    "      -- , trim(regexp_extract(category_path, '^[^>]*>[^>]*')) AS L2 \n",
    "      -- , trim(regexp_extract(category_path, '^[^>]*')) AS L1 \n",
    "      -- , split_part(category_path, ' > ', 2) as l2_name\n",
    "    FROM structured_data.wish_product_categories\n",
    "    WHERE split_part(category_id_path, ',', 2) in (\n",
    "      {ids_q}\n",
    "    )\n",
    "  ) category \n",
    "  ON product.category_id = category.category_id\n",
    ")\n",
    "\n",
    "SELECT \n",
    "  top_products_limiting_L2.product_id\n",
    "  , top_products_limiting_L2.category_id\n",
    "  , top_products_limiting_L2.category_path\n",
    "  , text.name AS title \n",
    "  , text.product_description\n",
    "  -- , variations.color \n",
    "  -- , variations.size \n",
    "FROM\n",
    "(\n",
    "  SELECT _id AS product_id, name, product_description \n",
    "  FROM wish.dim_all_products\n",
    ") text \n",
    "JOIN \n",
    "  top_products_limiting_L2\n",
    "ON text.product_id = top_products_limiting_L2.product_id\"\"\"\n",
    "execute_async(q)"
   ]
  },
  {
   "cell_type": "code",
   "execution_count": 42,
   "metadata": {},
   "outputs": [
    {
     "name": "stderr",
     "output_type": "stream",
     "text": [
      "2023-04-17 23:53:19,812 INFO: SELECT COUNT(*) FROM sweeper_dev.collection_export_tmp0_041723\n"
     ]
    },
    {
     "data": {
      "text/plain": [
       "[(1007384,)]"
      ]
     },
     "execution_count": 42,
     "metadata": {},
     "output_type": "execute_result"
    }
   ],
   "source": [
    "# Check the number of rows in the external table\n",
    "q = f\"SELECT COUNT(*) FROM {db}.{export_table['name']}\"\n",
    "execute_async(q)"
   ]
  },
  {
   "cell_type": "code",
   "execution_count": 43,
   "metadata": {},
   "outputs": [],
   "source": [
    "# Define the export table\n",
    "export_table2 = {\n",
    "    \"name\": \"collection_export_tmp2_041723\",\n",
    "    \"columns\": [\n",
    "        {\"name\": \"product_id\", \"type\": \"STRING\"},\n",
    "        {\"name\": \"color\", \"type\": \"STRING\"},\n",
    "        {\"name\": \"size\", \"type\": \"STRING\"}\n",
    "    ]\n",
    "}"
   ]
  },
  {
   "cell_type": "code",
   "execution_count": 44,
   "metadata": {},
   "outputs": [
    {
     "name": "stderr",
     "output_type": "stream",
     "text": [
      "2023-04-17 23:55:20,931 INFO: USE `default`\n",
      "2023-04-17 23:55:21,860 INFO: \n",
      "    CREATE TABLE sweeper_dev.collection_export_tmp2_041723 (\n",
      "    product_id STRING,\n",
      "\tcolor STRING,\n",
      "\tsize STRING\n",
      "    )\n",
      "    \n",
      "STORED AS PARQUET\n",
      "LOCATION 's3://wish-tahoe-query-results/sweeper_dev/collection_export_tmp2_041723'\n",
      "TBLPROPERTIES ('parquet.compression'='SNAPPY')\n",
      "2023-04-17 23:55:22,778 INFO: The query returned no records.\n"
     ]
    }
   ],
   "source": [
    "# Create the export table\n",
    "create_external_table(\n",
    "    table_name=export_table2[\"name\"],\n",
    "    table_definition=export_table2,\n",
    "    db=db,\n",
    "    bucket=result_bucket\n",
    ")"
   ]
  },
  {
   "cell_type": "code",
   "execution_count": 45,
   "metadata": {},
   "outputs": [
    {
     "name": "stderr",
     "output_type": "stream",
     "text": [
      "2023-04-17 23:56:20,442 INFO: SELECT COUNT(*) FROM sweeper_dev.collection_export_tmp2_041723\n"
     ]
    },
    {
     "data": {
      "text/plain": [
       "[(0,)]"
      ]
     },
     "execution_count": 45,
     "metadata": {},
     "output_type": "execute_result"
    }
   ],
   "source": [
    "# Check the number of rows in the external table\n",
    "q = f\"SELECT COUNT(*) FROM {db}.{export_table2['name']}\"\n",
    "execute_async(q)"
   ]
  },
  {
   "cell_type": "code",
   "execution_count": 46,
   "metadata": {},
   "outputs": [
    {
     "name": "stderr",
     "output_type": "stream",
     "text": [
      "2023-04-17 23:57:20,449 INFO: \n",
      "INSERT INTO sweeper_dev.collection_export_tmp2_041723\n",
      "SELECT\n",
      "     a.product_id,\n",
      "     a.color AS color,\n",
      "     a.size AS size\n",
      "FROM wish.master_product_variations a\n",
      "   INNER JOIN\n",
      "sweeper_dev.collection_export_tmp0_041723 b ON\n",
      "a.product_id = b.pid\n",
      "\n"
     ]
    },
    {
     "data": {
      "text/plain": [
       "[(21067388,)]"
      ]
     },
     "execution_count": 46,
     "metadata": {},
     "output_type": "execute_result"
    }
   ],
   "source": [
    "q = f\"\"\"\n",
    "INSERT INTO {db}.{export_table2['name']}\n",
    "SELECT\n",
    "     a.product_id,\n",
    "     a.color AS color,\n",
    "     a.size AS size\n",
    "FROM wish.master_product_variations a\n",
    "   INNER JOIN\n",
    "{db}.{export_table['name']} b ON\n",
    "a.product_id = b.pid\n",
    "\"\"\"\n",
    "execute_async(q)"
   ]
  },
  {
   "cell_type": "code",
   "execution_count": 47,
   "metadata": {},
   "outputs": [
    {
     "name": "stderr",
     "output_type": "stream",
     "text": [
      "2023-04-18 00:02:20,411 INFO: SELECT COUNT(*) FROM sweeper_dev.collection_export_tmp2_041723\n"
     ]
    },
    {
     "data": {
      "text/plain": [
       "[(21067388,)]"
      ]
     },
     "execution_count": 47,
     "metadata": {},
     "output_type": "execute_result"
    }
   ],
   "source": [
    "# Check the number of rows in the external table\n",
    "q = f\"SELECT COUNT(*) FROM {db}.{export_table2['name']}\"\n",
    "execute_async(q)"
   ]
  },
  {
   "cell_type": "code",
   "execution_count": 48,
   "metadata": {},
   "outputs": [],
   "source": [
    "# Define the export table\n",
    "export_table3 = {\n",
    "    \"name\": \"collection_export_tmp3_041723\",\n",
    "    \"columns\": [\n",
    "        {\"name\": \"product_id\", \"type\": \"STRING\"},\n",
    "        {\"name\": \"color\", \"type\": \"ARRAY<STRING>\"},\n",
    "        {\"name\": \"size\", \"type\": \"ARRAY<STRING>\"}\n",
    "    ]\n",
    "}"
   ]
  },
  {
   "cell_type": "code",
   "execution_count": 49,
   "metadata": {},
   "outputs": [
    {
     "name": "stderr",
     "output_type": "stream",
     "text": [
      "2023-04-18 00:04:21,017 INFO: USE `default`\n",
      "2023-04-18 00:04:21,915 INFO: \n",
      "    CREATE TABLE sweeper_dev.collection_export_tmp3_041723 (\n",
      "    product_id STRING,\n",
      "\tcolor ARRAY<STRING>,\n",
      "\tsize ARRAY<STRING>\n",
      "    )\n",
      "    \n",
      "STORED AS PARQUET\n",
      "LOCATION 's3://wish-tahoe-query-results/sweeper_dev/collection_export_tmp3_041723'\n",
      "TBLPROPERTIES ('parquet.compression'='SNAPPY')\n",
      "2023-04-18 00:04:22,775 INFO: The query returned no records.\n"
     ]
    }
   ],
   "source": [
    "# Create the export table\n",
    "create_external_table(\n",
    "    table_name=export_table3[\"name\"],\n",
    "    table_definition=export_table3,\n",
    "    db=db,\n",
    "    bucket=result_bucket\n",
    ")"
   ]
  },
  {
   "cell_type": "code",
   "execution_count": 50,
   "metadata": {},
   "outputs": [
    {
     "name": "stderr",
     "output_type": "stream",
     "text": [
      "2023-04-18 00:05:20,411 INFO: \n",
      "INSERT INTO sweeper_dev.collection_export_tmp3_041723\n",
      "SELECT\n",
      "     product_id,\n",
      "     array_agg(DISTINCT color) AS color,\n",
      "     array_agg(DISTINCT size) AS size\n",
      "FROM sweeper_dev.collection_export_tmp2_041723\n",
      "GROUP BY product_id\n",
      "\n"
     ]
    },
    {
     "data": {
      "text/plain": [
       "[(1007339,)]"
      ]
     },
     "execution_count": 50,
     "metadata": {},
     "output_type": "execute_result"
    }
   ],
   "source": [
    "q = f\"\"\"\n",
    "INSERT INTO {db}.{export_table3['name']}\n",
    "SELECT\n",
    "     product_id,\n",
    "     array_agg(DISTINCT color) AS color,\n",
    "     array_agg(DISTINCT size) AS size\n",
    "FROM {db}.{export_table2['name']}\n",
    "GROUP BY product_id\n",
    "\"\"\"\n",
    "execute_async(q)"
   ]
  },
  {
   "cell_type": "code",
   "execution_count": 51,
   "metadata": {},
   "outputs": [],
   "source": [
    "# Define the export table\n",
    "export_table4 = {\n",
    "    \"name\": \"collection_export_tmp4_041723\",\n",
    "    \"columns\": [\n",
    "        {\"name\": \"product_id\", \"type\": \"STRING\"},\n",
    "        {\"name\": \"category_id\", \"type\": \"INTEGER\"},\n",
    "        {\"name\": \"category_path\", \"type\": \"STRING\"},\n",
    "        {\"name\": \"title\", \"type\": \"STRING\"},\n",
    "        {\"name\": \"description\", \"type\": \"STRING\"},\n",
    "        {\"name\": \"color\", \"type\": \"ARRAY<STRING>\"},\n",
    "        {\"name\": \"size\", \"type\": \"ARRAY<STRING>\"}\n",
    "    ]\n",
    "}"
   ]
  },
  {
   "cell_type": "code",
   "execution_count": 52,
   "metadata": {},
   "outputs": [
    {
     "name": "stderr",
     "output_type": "stream",
     "text": [
      "2023-04-18 00:08:20,884 INFO: USE `default`\n",
      "2023-04-18 00:08:21,782 INFO: \n",
      "    CREATE TABLE sweeper_dev.collection_export_tmp4_041723 (\n",
      "    product_id STRING,\n",
      "\tcategory_id INTEGER,\n",
      "\tcategory_path STRING,\n",
      "\ttitle STRING,\n",
      "\tdescription STRING,\n",
      "\tcolor ARRAY<STRING>,\n",
      "\tsize ARRAY<STRING>\n",
      "    )\n",
      "    \n",
      "STORED AS PARQUET\n",
      "LOCATION 's3://wish-tahoe-query-results/sweeper_dev/collection_export_tmp4_041723'\n",
      "TBLPROPERTIES ('parquet.compression'='SNAPPY')\n",
      "2023-04-18 00:08:22,707 INFO: The query returned no records.\n"
     ]
    }
   ],
   "source": [
    "# Create the export table\n",
    "create_external_table(\n",
    "    table_name=export_table4[\"name\"],\n",
    "    table_definition=export_table4,\n",
    "    db=db,\n",
    "    bucket=result_bucket\n",
    ")"
   ]
  },
  {
   "cell_type": "code",
   "execution_count": 53,
   "metadata": {},
   "outputs": [
    {
     "name": "stderr",
     "output_type": "stream",
     "text": [
      "2023-04-18 00:09:20,398 INFO: \n",
      "INSERT INTO sweeper_dev.collection_export_tmp4_041723\n",
      "SELECT\n",
      "     a.pid AS product_id,\n",
      "     a.category_id AS category_id, \n",
      "     a.category_path AS category_path, \n",
      "     a.title AS title, \n",
      "     a.description AS description, \n",
      "     b.color AS color,\n",
      "     b.size AS size\n",
      "FROM sweeper_dev.collection_export_tmp0_041723 a\n",
      "LEFT JOIN\n",
      "sweeper_dev.collection_export_tmp3_041723 b\n",
      "ON a.pid = b.product_id\n",
      "\n"
     ]
    },
    {
     "data": {
      "text/plain": [
       "[(1007384,)]"
      ]
     },
     "execution_count": 53,
     "metadata": {},
     "output_type": "execute_result"
    }
   ],
   "source": [
    "q = f\"\"\"\n",
    "INSERT INTO {db}.{export_table4['name']}\n",
    "SELECT\n",
    "     a.pid AS product_id,\n",
    "     a.category_id AS category_id, \n",
    "     a.category_path AS category_path, \n",
    "     a.title AS title, \n",
    "     a.description AS description, \n",
    "     b.color AS color,\n",
    "     b.size AS size\n",
    "FROM {db}.{export_table['name']} a\n",
    "LEFT JOIN\n",
    "{db}.{export_table3['name']} b\n",
    "ON a.pid = b.product_id\n",
    "\"\"\"\n",
    "execute_async(q)"
   ]
  },
  {
   "cell_type": "code",
   "execution_count": 54,
   "metadata": {},
   "outputs": [
    {
     "name": "stderr",
     "output_type": "stream",
     "text": [
      "2023-04-18 00:10:20,013 INFO: SELECT COUNT(*) FROM sweeper_dev.collection_export_tmp0_041723\n"
     ]
    },
    {
     "data": {
      "text/plain": [
       "[(1007384,)]"
      ]
     },
     "execution_count": 54,
     "metadata": {},
     "output_type": "execute_result"
    }
   ],
   "source": [
    "q = f\"SELECT COUNT(*) FROM {db}.{export_table['name']}\"\n",
    "execute_async(q)"
   ]
  },
  {
   "cell_type": "code",
   "execution_count": 55,
   "metadata": {},
   "outputs": [
    {
     "name": "stderr",
     "output_type": "stream",
     "text": [
      "2023-04-18 00:11:20,418 INFO: SELECT COUNT(*) FROM sweeper_dev.collection_export_tmp4_041723\n"
     ]
    },
    {
     "data": {
      "text/plain": [
       "[(1007384,)]"
      ]
     },
     "execution_count": 55,
     "metadata": {},
     "output_type": "execute_result"
    }
   ],
   "source": [
    "q = f\"SELECT COUNT(*) FROM {db}.{export_table4['name']}\"\n",
    "execute_async(q)"
   ]
  },
  {
   "cell_type": "code",
   "execution_count": 56,
   "metadata": {},
   "outputs": [
    {
     "data": {
      "text/plain": [
       "[('sweeper_dev/collection_export_tmp4_041723/20230418_000920_00263_7r28x_216b3624-8a81-4da3-b911-30bb4b43af4f',\n",
       "  83),\n",
       " ('sweeper_dev/collection_export_tmp4_041723/20230418_000920_00263_7r28x_331d483f-98ae-4a85-adc1-89e426a0a76f',\n",
       "  7),\n",
       " ('sweeper_dev/collection_export_tmp4_041723/20230418_000920_00263_7r28x_79d0c10c-6d3d-4ad4-9d5f-57bee4830abe',\n",
       "  215),\n",
       " ('sweeper_dev/collection_export_tmp4_041723/20230418_000920_00263_7r28x_90a22af5-54be-4c87-aeb2-24572133fabc',\n",
       "  220),\n",
       " ('sweeper_dev/collection_export_tmp4_041723/20230418_000920_00263_7r28x_a8e61b13-a310-4e45-adde-22eaa186a406',\n",
       "  7),\n",
       " ('sweeper_dev/collection_export_tmp4_041723/20230418_000920_00263_7r28x_cf32beb2-1c85-4a50-ae3a-d63096496a34',\n",
       "  82)]"
      ]
     },
     "execution_count": 56,
     "metadata": {},
     "output_type": "execute_result"
    }
   ],
   "source": [
    "# Show the data files for the external table\n",
    "file_keys = get_s3_file_keys(s3_bucket=result_bucket, s3_prefix=f\"{db}/{export_table4['name']}\")\n",
    "file_keys"
   ]
  },
  {
   "cell_type": "code",
   "execution_count": 57,
   "metadata": {},
   "outputs": [
    {
     "name": "stderr",
     "output_type": "stream",
     "text": [
      "2023-04-18 00:13:20,428 INFO: Importing from sweeper_dev/collection_export_tmp4_041723/20230418_000920_00263_7r28x_216b3624-8a81-4da3-b911-30bb4b43af4f...\n",
      "2023-04-18 00:13:26,067 INFO: Imported DF (137132, 7) from sweeper_dev/collection_export_tmp4_041723/20230418_000920_00263_7r28x_216b3624-8a81-4da3-b911-30bb4b43af4f.\n",
      "2023-04-18 00:13:26,077 INFO: Importing from sweeper_dev/collection_export_tmp4_041723/20230418_000920_00263_7r28x_331d483f-98ae-4a85-adc1-89e426a0a76f...\n",
      "2023-04-18 00:13:27,106 INFO: Imported DF (11693, 7) from sweeper_dev/collection_export_tmp4_041723/20230418_000920_00263_7r28x_331d483f-98ae-4a85-adc1-89e426a0a76f.\n",
      "2023-04-18 00:13:27,115 INFO: Importing from sweeper_dev/collection_export_tmp4_041723/20230418_000920_00263_7r28x_79d0c10c-6d3d-4ad4-9d5f-57bee4830abe...\n",
      "2023-04-18 00:13:33,795 INFO: Imported DF (351460, 7) from sweeper_dev/collection_export_tmp4_041723/20230418_000920_00263_7r28x_79d0c10c-6d3d-4ad4-9d5f-57bee4830abe.\n",
      "2023-04-18 00:13:33,805 INFO: Importing from sweeper_dev/collection_export_tmp4_041723/20230418_000920_00263_7r28x_90a22af5-54be-4c87-aeb2-24572133fabc...\n",
      "2023-04-18 00:13:41,574 INFO: Imported DF (360336, 7) from sweeper_dev/collection_export_tmp4_041723/20230418_000920_00263_7r28x_90a22af5-54be-4c87-aeb2-24572133fabc.\n",
      "2023-04-18 00:13:41,584 INFO: Importing from sweeper_dev/collection_export_tmp4_041723/20230418_000920_00263_7r28x_a8e61b13-a310-4e45-adde-22eaa186a406...\n",
      "2023-04-18 00:13:43,065 INFO: Imported DF (12224, 7) from sweeper_dev/collection_export_tmp4_041723/20230418_000920_00263_7r28x_a8e61b13-a310-4e45-adde-22eaa186a406.\n",
      "2023-04-18 00:13:43,074 INFO: Importing from sweeper_dev/collection_export_tmp4_041723/20230418_000920_00263_7r28x_cf32beb2-1c85-4a50-ae3a-d63096496a34...\n",
      "2023-04-18 00:13:48,140 INFO: Imported DF (134539, 7) from sweeper_dev/collection_export_tmp4_041723/20230418_000920_00263_7r28x_cf32beb2-1c85-4a50-ae3a-d63096496a34.\n"
     ]
    },
    {
     "data": {
      "text/html": [
       "<div>\n",
       "<style scoped>\n",
       "    .dataframe tbody tr th:only-of-type {\n",
       "        vertical-align: middle;\n",
       "    }\n",
       "\n",
       "    .dataframe tbody tr th {\n",
       "        vertical-align: top;\n",
       "    }\n",
       "\n",
       "    .dataframe thead th {\n",
       "        text-align: right;\n",
       "    }\n",
       "</style>\n",
       "<table border=\"1\" class=\"dataframe\">\n",
       "  <thead>\n",
       "    <tr style=\"text-align: right;\">\n",
       "      <th></th>\n",
       "      <th>product_id</th>\n",
       "      <th>category_id</th>\n",
       "      <th>category_path</th>\n",
       "      <th>title</th>\n",
       "      <th>description</th>\n",
       "      <th>color</th>\n",
       "      <th>size</th>\n",
       "    </tr>\n",
       "  </thead>\n",
       "  <tbody>\n",
       "    <tr>\n",
       "      <th>0</th>\n",
       "      <td>6190b08034553b253d3e6d59</td>\n",
       "      <td>5013</td>\n",
       "      <td>Sports &gt; Fishing &gt; Fishing Accessories &gt; Fishi...</td>\n",
       "      <td>High Quality Folding Portable Quick-drying Alu...</td>\n",
       "      <td>Features:\\n\\nHigh Strength Stainless Steel Rin...</td>\n",
       "      <td>[None]</td>\n",
       "      <td>[30cm x 150cm, 5cm x 110cm, 33cm x 200cm]</td>\n",
       "    </tr>\n",
       "    <tr>\n",
       "      <th>1</th>\n",
       "      <td>58403e20e1734713a67ed50c</td>\n",
       "      <td>2344</td>\n",
       "      <td>Home &amp; Garden &gt; Arts, Crafts &amp; Sewing &gt; Appare...</td>\n",
       "      <td>300Pcs charm Crystal,4mm Interval of Bicone lo...</td>\n",
       "      <td>Material : crystal     Quantity：300pcs\\nsize：4...</td>\n",
       "      <td>[black]</td>\n",
       "      <td>[4mm by 4mm]</td>\n",
       "    </tr>\n",
       "    <tr>\n",
       "      <th>2</th>\n",
       "      <td>5823e3abb59cd735d481ef52</td>\n",
       "      <td>5008</td>\n",
       "      <td>Sports &gt; Fishing &gt; Fish Finders</td>\n",
       "      <td>New Underwater Fishing Deep Drop Fish Trap Gat...</td>\n",
       "      <td>Color: White\\nPowered by: 5 # battery (NOT inc...</td>\n",
       "      <td>[None]</td>\n",
       "      <td>[None]</td>\n",
       "    </tr>\n",
       "    <tr>\n",
       "      <th>3</th>\n",
       "      <td>625d300373936eefee03fabb</td>\n",
       "      <td>2664</td>\n",
       "      <td>Home &amp; Garden &gt; Home Decor &gt; Christian Decor &gt;...</td>\n",
       "      <td>\" Good Days Start with Coffee Jesus\"Wooden Han...</td>\n",
       "      <td>【Desciption】\\n【Material】:wood\\n【Size】:Length*w...</td>\n",
       "      <td>[None]</td>\n",
       "      <td>[8 pcs, 6 pcs, 7 pcs, wholesale 10pcs, 9 pcs, ...</td>\n",
       "    </tr>\n",
       "    <tr>\n",
       "      <th>4</th>\n",
       "      <td>620b485ee63a017d03dfa2b6</td>\n",
       "      <td>2725</td>\n",
       "      <td>Home &amp; Garden &gt; Home Storage &amp; Organization &gt; ...</td>\n",
       "      <td>Punch-free Bathroom Shelf Shelves Shampoo Show...</td>\n",
       "      <td>Specification:\\n\\nMaterial: Space aluminum\\nIn...</td>\n",
       "      <td>[None]</td>\n",
       "      <td>[Golden Standard, Golden With pole]</td>\n",
       "    </tr>\n",
       "  </tbody>\n",
       "</table>\n",
       "</div>"
      ],
      "text/plain": [
       "                 product_id  category_id  \\\n",
       "0  6190b08034553b253d3e6d59         5013   \n",
       "1  58403e20e1734713a67ed50c         2344   \n",
       "2  5823e3abb59cd735d481ef52         5008   \n",
       "3  625d300373936eefee03fabb         2664   \n",
       "4  620b485ee63a017d03dfa2b6         2725   \n",
       "\n",
       "                                       category_path  \\\n",
       "0  Sports > Fishing > Fishing Accessories > Fishi...   \n",
       "1  Home & Garden > Arts, Crafts & Sewing > Appare...   \n",
       "2                    Sports > Fishing > Fish Finders   \n",
       "3  Home & Garden > Home Decor > Christian Decor >...   \n",
       "4  Home & Garden > Home Storage & Organization > ...   \n",
       "\n",
       "                                               title  \\\n",
       "0  High Quality Folding Portable Quick-drying Alu...   \n",
       "1  300Pcs charm Crystal,4mm Interval of Bicone lo...   \n",
       "2  New Underwater Fishing Deep Drop Fish Trap Gat...   \n",
       "3  \" Good Days Start with Coffee Jesus\"Wooden Han...   \n",
       "4  Punch-free Bathroom Shelf Shelves Shampoo Show...   \n",
       "\n",
       "                                         description    color  \\\n",
       "0  Features:\\n\\nHigh Strength Stainless Steel Rin...   [None]   \n",
       "1  Material : crystal     Quantity：300pcs\\nsize：4...  [black]   \n",
       "2  Color: White\\nPowered by: 5 # battery (NOT inc...   [None]   \n",
       "3  【Desciption】\\n【Material】:wood\\n【Size】:Length*w...   [None]   \n",
       "4  Specification:\\n\\nMaterial: Space aluminum\\nIn...   [None]   \n",
       "\n",
       "                                                size  \n",
       "0          [30cm x 150cm, 5cm x 110cm, 33cm x 200cm]  \n",
       "1                                       [4mm by 4mm]  \n",
       "2                                             [None]  \n",
       "3  [8 pcs, 6 pcs, 7 pcs, wholesale 10pcs, 9 pcs, ...  \n",
       "4                [Golden Standard, Golden With pole]  "
      ]
     },
     "execution_count": 57,
     "metadata": {},
     "output_type": "execute_result"
    }
   ],
   "source": [
    "dfs = []\n",
    "for file_key, file_size in file_keys:\n",
    "    df_chunk = get_df_from_parquet(s3_bucket=result_bucket, s3_key=file_key)\n",
    "    dfs.append(df_chunk)\n",
    "    \n",
    "df_data = pd.concat(dfs)\n",
    "df_data.head()"
   ]
  },
  {
   "cell_type": "code",
   "execution_count": 58,
   "metadata": {},
   "outputs": [],
   "source": [
    "df_data.to_json('product_attribute_extraction_2023q2tli_041723.json', lines=True, orient='records')"
   ]
  },
  {
   "cell_type": "code",
   "execution_count": 59,
   "metadata": {},
   "outputs": [
    {
     "data": {
      "text/plain": [
       "1007384"
      ]
     },
     "execution_count": 59,
     "metadata": {},
     "output_type": "execute_result"
    }
   ],
   "source": [
    "len(df_data)"
   ]
  },
  {
   "cell_type": "code",
   "execution_count": 60,
   "metadata": {},
   "outputs": [
    {
     "data": {
      "text/plain": [
       "[{'product_id': '614d9af32e2485c2381e7b50',\n",
       "  'category_id': 2680,\n",
       "  'category_path': 'Home & Garden > Home Decor > Flags, Banners & Accessories',\n",
       "  'title': 'West Highland Terrier White On White House Not A Home -362 Flag 3x5 Ft',\n",
       "  'description': '[Material description] made of 100% polyester fiber (polyester)\\n[Product performance] Durable, not easy to fade, easy to disassemble, add a stylish atmosphere to the courtyard\\n[Applicable scenarios] Decorative flags, mainly used in courtyards, gardens, flower pots, etc. Suitable for any terrace or balcony, and make charming decorations for any backyard or lawn.\\n[Accessories structure] Easy to install, flagpoles are not included.\\n[Size]150*90CM\\n[Washing instructions] Hand wash and machine wash are acceptable, do not bleach.',\n",
       "  'color': array([None], dtype=object),\n",
       "  'size': array(['3x5 ft'], dtype=object)},\n",
       " {'product_id': '59127b4b4ee97415bd6cde38',\n",
       "  'category_id': 3270,\n",
       "  'category_path': 'Home & Garden > Pet Products > Dog Carriers',\n",
       "  'title': 'Red 4 Wheels Pet Stroller Cat Dog Cage Stroller Travel Folding Carrier 04T by BestPet',\n",
       "  'description': 'Denier nylon is tough and water-resistant\\nFolded Size: 32\"(L) x 17\"(W) x 11\"(H)\\nOpen Size: 34\"(L) x 17.5\"(W) x 39\"(H)\\nCargo Measurement: 21\"(L) x 14\"(W) x 19\"(H)\\nWeight Capacity: 30LB\\nATTENTION: Please make sure you do not leave any pet unattanded while using this product. Make sure to monitor all pets while the play pen is in use.',\n",
       "  'color': array(['red'], dtype=object),\n",
       "  'size': array([None], dtype=object)},\n",
       " {'product_id': '6100f18964d4936cbe17b848',\n",
       "  'category_id': 2927,\n",
       "  'category_path': 'Home & Garden > Kitchen, Dining & Bar > Bakeware > Baking & Pastry Spatulas',\n",
       "  'title': '6PCS/Lot Dough Cake Cutter Slicer Spatula for Cake Cream Scraper Pasty Cutters Scraper Irregular Teeth Edge DIY Smoother',\n",
       "  'description': 'Color: white/green/orange/blue/red/purple\\nSize: as shown\\nFeatures:  \\n1.Flexible material helps get every last drop of dough or batter.  \\n\\n2.Conforms to curve or shape of a mixing bowl.  \\n\\n3.Can also be used on flat surface.  \\n\\n4.Durable polypropylene bowl scraper.  Use to cut or divide dough; also use to scrape excess flour and dough from work surface.  \\nPackage Include:\\n1set Plastic Dough Icing Fondant Scrapers',\n",
       "  'color': array(['purple', 'red', 'blue', 'orange', 'green', 'White'], dtype=object),\n",
       "  'size': array([None], dtype=object)}]"
      ]
     },
     "execution_count": 60,
     "metadata": {},
     "output_type": "execute_result"
    }
   ],
   "source": [
    "df_data.sample(3).to_dict('records')"
   ]
  },
  {
   "cell_type": "code",
   "execution_count": 61,
   "metadata": {},
   "outputs": [
    {
     "name": "stderr",
     "output_type": "stream",
     "text": [
      "2023-04-18 00:17:20,835 INFO: USE `default`\n",
      "2023-04-18 00:17:21,813 INFO: \n",
      "    DROP TABLE IF EXISTS sweeper_dev.collection_export_tmp0_041723\n",
      "    \n",
      "2023-04-18 00:17:22,990 INFO: The query returned no records.\n",
      "2023-04-18 00:17:22,992 INFO: Dropped sweeper_dev.collection_export_tmp0_041723\n",
      "2023-04-18 00:17:23,542 INFO: Files in 's3://wish-tahoe-query-results/sweeper_dev/collection_export_tmp0_041723 are deleted.\n",
      "2023-04-18 00:17:23,966 INFO: USE `default`\n",
      "2023-04-18 00:17:24,906 INFO: \n",
      "    DROP TABLE IF EXISTS sweeper_dev.collection_export_tmp2_041723\n",
      "    \n",
      "2023-04-18 00:17:25,852 INFO: The query returned no records.\n",
      "2023-04-18 00:17:25,853 INFO: Dropped sweeper_dev.collection_export_tmp2_041723\n",
      "2023-04-18 00:17:26,301 INFO: Files in 's3://wish-tahoe-query-results/sweeper_dev/collection_export_tmp2_041723 are deleted.\n",
      "2023-04-18 00:17:26,730 INFO: USE `default`\n",
      "2023-04-18 00:17:27,668 INFO: \n",
      "    DROP TABLE IF EXISTS sweeper_dev.collection_export_tmp3_041723\n",
      "    \n",
      "2023-04-18 00:17:28,588 INFO: The query returned no records.\n",
      "2023-04-18 00:17:28,590 INFO: Dropped sweeper_dev.collection_export_tmp3_041723\n",
      "2023-04-18 00:17:29,041 INFO: Files in 's3://wish-tahoe-query-results/sweeper_dev/collection_export_tmp3_041723 are deleted.\n",
      "2023-04-18 00:17:29,498 INFO: USE `default`\n",
      "2023-04-18 00:17:30,398 INFO: \n",
      "    DROP TABLE IF EXISTS sweeper_dev.collection_export_tmp4_041723\n",
      "    \n",
      "2023-04-18 00:17:31,402 INFO: The query returned no records.\n",
      "2023-04-18 00:17:31,404 INFO: Dropped sweeper_dev.collection_export_tmp4_041723\n",
      "2023-04-18 00:17:31,801 INFO: Files in 's3://wish-tahoe-query-results/sweeper_dev/collection_export_tmp4_041723 are deleted.\n"
     ]
    }
   ],
   "source": [
    "for t in [ \n",
    "    export_table, export_table2, export_table3, export_table4\n",
    "]:\n",
    "    drop_external_table(\n",
    "        db=db,\n",
    "        table_name=t[\"name\"],\n",
    "        delete_files=True,\n",
    "        s3_bucket=result_bucket,\n",
    "        s3_prefix=f\"{db}/{t['name']}\", \n",
    "    )"
   ]
  },
  {
   "attachments": {},
   "cell_type": "markdown",
   "metadata": {},
   "source": [
    "# check pulled data"
   ]
  },
  {
   "cell_type": "code",
   "execution_count": 14,
   "metadata": {},
   "outputs": [],
   "source": [
    "df_data_load = pd.read_json('product_attribute_extraction_2023q2tli_041723.json', lines=True)"
   ]
  },
  {
   "cell_type": "code",
   "execution_count": 15,
   "metadata": {},
   "outputs": [
    {
     "data": {
      "text/plain": [
       "[{'product_id': '60ecfe4aac249c34fd4957a0',\n",
       "  'category_id': 4928,\n",
       "  'category_path': 'Sports > Camping & Hiking > Tents & Shelters > Tent Accessories',\n",
       "  'title': '10Pcs Windproof Outdoor Awning Tent Fixed Hook Buckle Shelf Floor Spring Nails Fixed Hook Buckle Camping Accessories',\n",
       "  'description': \"Features \\n\\nColor: As picture\\nSize: Height approximately 7.5cm width approximately 3.3cm error approximately 1cm\\nMaterial: Aluminum alloy\\n \\nPackage Content:\\n10 PCS \\n    \\nKindly Tip:     \\n 1. Conversion:  1 inch= 2.54cm                                                                                                            \\nSize Approximately :  These size is about Asian Size,general get one size smaller than US/EU size,Please reference to the size chart in the picture. Item Measure by hand, it could be 1-3cm different. hope you can understanding, will be sincerely appreciated.\\n\\n2 .Please be reminded that due lighting effects, monitor's brightness/ contrast settings etc, there could be some slight differences in the color tone of the website's photo and the actual item.\",\n",
       "  'color': ['golden', 'Silver'],\n",
       "  'size': [None]},\n",
       " {'product_id': '5d68d3bb2aba563433575b01',\n",
       "  'category_id': 2352,\n",
       "  'category_path': 'Home & Garden > Arts, Crafts & Sewing > Apparel Sewing & Fabric > Interlinings & Linings',\n",
       "  'title': 'Single Face Adhesive Cotton Lining Cotton Batting Filler Patchwork Quilting Craft DIY Projects Interlinings (50*50cm/19.7*19.7inch 1pcs)',\n",
       "  'description': 'Material: Acrylic cotton,Thin, Suitable for patchwork\\nSize: 1 piece=50*50cm/19.7*19.7inch\\nThinckness:1.5mm; 2.5mm \\nColor: As the picture shown. \\nUsage: Interlinings for patchwork,Toys,Craft,Bag,Wallet,Purse,Baby clothes,Baby dedding and many other sewing crafts DIY projects.\\nPlease Kindly Note: \\n1)The cutting is by hand, not by machine,so ±1CM is allowed.',\n",
       "  'color': [None],\n",
       "  'size': ['2.5 mm', '1.5 mm']},\n",
       " {'product_id': '616d18928d2faf2f9ee6d1a8',\n",
       "  'category_id': 2492,\n",
       "  'category_path': 'Home & Garden > Festive & Party Supplies > Christmas > Christmas Hats',\n",
       "  'title': '40/130/150Cm Long Christmas Hat Plush Santa Claus Cap New Year Christmas Party Decoration Kids Adult Christmas Hat',\n",
       "  'description': 'Specifications:\\r\\nType: Christmas Hat\\r\\nColor: Red\\r\\nSize: adult 130*30cm, 45x32 cm, 38x28 cm, 150*30cm\\r\\nMaterial: Plush\\r\\nPackage: 1PC',\n",
       "  'color': [None],\n",
       "  'size': ['Short-for Kids-',\n",
       "   'Long-A-',\n",
       "   'Short-for Adults',\n",
       "   'Short-for Kids',\n",
       "   'Long-B-',\n",
       "   'Long-A',\n",
       "   'Long-B',\n",
       "   'Short-for Adults-']}]"
      ]
     },
     "execution_count": 15,
     "metadata": {},
     "output_type": "execute_result"
    }
   ],
   "source": [
    "df_data_load.sample(3).to_dict('records')"
   ]
  },
  {
   "cell_type": "code",
   "execution_count": 16,
   "metadata": {},
   "outputs": [
    {
     "data": {
      "text/plain": [
       "1007384"
      ]
     },
     "execution_count": 16,
     "metadata": {},
     "output_type": "execute_result"
    }
   ],
   "source": [
    "len(df_data_load)"
   ]
  },
  {
   "cell_type": "code",
   "execution_count": 17,
   "metadata": {},
   "outputs": [],
   "source": [
    "data_l2s = set(df_data_load.category_path.apply(lambda x: ' > '.join(x.split(' > ')[:2])))"
   ]
  },
  {
   "cell_type": "code",
   "execution_count": 18,
   "metadata": {},
   "outputs": [
    {
     "data": {
      "text/plain": [
       "{'Computer & Office > Mini PC',\n",
       " 'Home & Garden > Kitchen,Dining & Bar',\n",
       " 'Jewelry & Accessories > Necklaces & Pendants',\n",
       " 'Jewelry & Accessories > Rings'}"
      ]
     },
     "execution_count": 18,
     "metadata": {},
     "output_type": "execute_result"
    }
   ],
   "source": [
    "select_l2_set - data_l2s"
   ]
  },
  {
   "cell_type": "code",
   "execution_count": 19,
   "metadata": {},
   "outputs": [
    {
     "data": {
      "text/plain": [
       "{'Computer & Office > Mini PCs', 'Home & Garden > Kitchen, Dining & Bar'}"
      ]
     },
     "execution_count": 19,
     "metadata": {},
     "output_type": "execute_result"
    }
   ],
   "source": [
    "data_l2s - select_l2_set"
   ]
  },
  {
   "cell_type": "code",
   "execution_count": 20,
   "metadata": {},
   "outputs": [
    {
     "data": {
      "text/plain": [
       "{'Jewelry & Accessories > Fine Jewelry'}"
      ]
     },
     "execution_count": 20,
     "metadata": {},
     "output_type": "execute_result"
    }
   ],
   "source": [
    "set(df_data_load[df_data_load.category_path.apply(lambda x: x.startswith('Jewelry & Accessories'))].category_path.apply(\n",
    "    lambda x: ' > '.join(x.split(' > ')[:2])\n",
    "))"
   ]
  },
  {
   "cell_type": "code",
   "execution_count": 21,
   "metadata": {},
   "outputs": [],
   "source": [
    "df_metadata = pd.read_csv(\"/workspaces/multitask-llm-rnd/datasets/data/attribute_extraction_metadata_template/Initial Attribute Definition for First Release - UPDATED SHEET .csv\")\n",
    "df_metadata = df_metadata[['category', 'category_id', 'attribute_field', 'category_attributevalue', 'description', 'max_multi_select', 'usage', 'entry mode']]\n",
    "metadata_category = set(df_metadata.category)\n",
    "metadata_category_ids = set(df_metadata.category_id)\n",
    "category2config = {}\n",
    "for i in metadata_category:\n",
    "    df_tmp = df_metadata[df_metadata.category == i]\n",
    "    category2config[i] = sorted(df_tmp.to_dict('records'), key=lambda x: x['attribute_field'])\n",
    "categoryid2config = {}\n",
    "for i in metadata_category_ids:\n",
    "    df_tmp = df_metadata[df_metadata.category_id == i]\n",
    "    categoryid2config[i] = sorted(df_tmp.to_dict('records'), key=lambda x: x['attribute_field'])\n"
   ]
  },
  {
   "cell_type": "code",
   "execution_count": 22,
   "metadata": {},
   "outputs": [
    {
     "data": {
      "text/plain": [
       "1338"
      ]
     },
     "execution_count": 22,
     "metadata": {},
     "output_type": "execute_result"
    }
   ],
   "source": [
    "len(set(df_data_load.category_id))"
   ]
  },
  {
   "cell_type": "code",
   "execution_count": 23,
   "metadata": {},
   "outputs": [
    {
     "data": {
      "text/plain": [
       "2658"
      ]
     },
     "execution_count": 23,
     "metadata": {},
     "output_type": "execute_result"
    }
   ],
   "source": [
    "len(set(categoryid2config))"
   ]
  },
  {
   "cell_type": "code",
   "execution_count": 24,
   "metadata": {},
   "outputs": [
    {
     "data": {
      "text/plain": [
       "1233"
      ]
     },
     "execution_count": 24,
     "metadata": {},
     "output_type": "execute_result"
    }
   ],
   "source": [
    "len(set(df_data_load.category_id).intersection(set(categoryid2config)))"
   ]
  },
  {
   "cell_type": "code",
   "execution_count": 25,
   "metadata": {},
   "outputs": [
    {
     "data": {
      "text/plain": [
       "105"
      ]
     },
     "execution_count": 25,
     "metadata": {},
     "output_type": "execute_result"
    }
   ],
   "source": [
    "len(set(df_data_load.category_id) - (set(categoryid2config)))"
   ]
  },
  {
   "cell_type": "code",
   "execution_count": 26,
   "metadata": {},
   "outputs": [],
   "source": [
    "idswithattr = set(df_data_load.category_id).intersection(set(categoryid2config))"
   ]
  },
  {
   "cell_type": "code",
   "execution_count": 27,
   "metadata": {},
   "outputs": [],
   "source": [
    "idswithoutattr = set(df_data_load.category_id) - (set(categoryid2config))"
   ]
  },
  {
   "cell_type": "code",
   "execution_count": 28,
   "metadata": {},
   "outputs": [
    {
     "data": {
      "text/plain": [
       "969437"
      ]
     },
     "execution_count": 28,
     "metadata": {},
     "output_type": "execute_result"
    }
   ],
   "source": [
    "len(df_data_load[df_data_load.category_id.apply(lambda x: x in idswithattr)])"
   ]
  },
  {
   "cell_type": "code",
   "execution_count": 29,
   "metadata": {},
   "outputs": [
    {
     "data": {
      "text/plain": [
       "37947"
      ]
     },
     "execution_count": 29,
     "metadata": {},
     "output_type": "execute_result"
    }
   ],
   "source": [
    "len(df_data_load[df_data_load.category_id.apply(lambda x: x in idswithoutattr)])"
   ]
  },
  {
   "cell_type": "code",
   "execution_count": 30,
   "metadata": {},
   "outputs": [],
   "source": [
    "df_data_load_valid = df_data_load[df_data_load.category_id.apply(lambda x: x in idswithattr)]"
   ]
  },
  {
   "cell_type": "code",
   "execution_count": 31,
   "metadata": {},
   "outputs": [
    {
     "data": {
      "text/plain": [
       "969437"
      ]
     },
     "execution_count": 31,
     "metadata": {},
     "output_type": "execute_result"
    }
   ],
   "source": [
    "len(df_data_load_valid)"
   ]
  },
  {
   "cell_type": "code",
   "execution_count": 33,
   "metadata": {},
   "outputs": [],
   "source": [
    "df_data_load_valid_sample = df_data_load_valid.groupby('category_id').sample(10, replace=True).drop_duplicates('product_id').reset_index()"
   ]
  },
  {
   "cell_type": "code",
   "execution_count": 34,
   "metadata": {},
   "outputs": [
    {
     "data": {
      "text/plain": [
       "11328"
      ]
     },
     "execution_count": 34,
     "metadata": {},
     "output_type": "execute_result"
    }
   ],
   "source": [
    "len(df_data_load_valid_sample)"
   ]
  },
  {
   "attachments": {},
   "cell_type": "markdown",
   "metadata": {},
   "source": [
    "# prompt"
   ]
  },
  {
   "cell_type": "code",
   "execution_count": 5,
   "metadata": {},
   "outputs": [],
   "source": [
    "import asyncio\n",
    "import aiohttp\n",
    "import logging\n",
    "import os \n",
    "from copy import deepcopy\n",
    "import random\n",
    "import json\n",
    "\n",
    "OPENAI_KEY = os.environ['WISH_OPENAI_KEY_DEV']\n",
    "headers = {\n",
    "    \"Content-Type\": \"application/json\",\n",
    "    \"Authorization\": f\"Bearer {OPENAI_KEY}\"\n",
    "}\n",
    "\n",
    "async def call_oai(session, data):\n",
    "    try:\n",
    "        async with session.post(\n",
    "            'https://api.openai.com/v1/chat/completions',\n",
    "            headers=headers,\n",
    "            json=data\n",
    "        ) as response:\n",
    "            res = await response.json()\n",
    "        return res\n",
    "    except Exception as e:\n",
    "        logging.error(f\"{data} failed due to {e}\")\n",
    "        return None\n",
    "\n",
    "async def call_oais(datas):\n",
    "    async with aiohttp.ClientSession() as session:\n",
    "        tasks = []\n",
    "        for data in datas:\n",
    "            task = asyncio.ensure_future(call_oai(session, data))\n",
    "            tasks.append(task)\n",
    "        reses = await asyncio.gather(*tasks)\n",
    "        return reses"
   ]
  },
  {
   "cell_type": "code",
   "execution_count": 35,
   "metadata": {},
   "outputs": [],
   "source": [
    "df_md_anno = pd.read_json('/workspaces/multitask-llm-rnd/datasets/data/offshore_attr_extract/merchant_dashboard/pdp/output/product_attr_extract_md_03252023_result_04172023.json', \n",
    "    lines=True).drop_duplicates('product_id')"
   ]
  },
  {
   "cell_type": "code",
   "execution_count": 36,
   "metadata": {},
   "outputs": [],
   "source": [
    "def clean_human_result_return(d_):\n",
    "    try:\n",
    "        d = deepcopy(d_)\n",
    "        for k in d:\n",
    "            if len(d[k]) > 0 and d[k][0].strip().lower() == 'not sure':\n",
    "                d[k] = []\n",
    "        return d\n",
    "    except Exception as e:\n",
    "        print(d, e)\n",
    "        return None\n",
    "\n",
    "df_md_anno['extraction_result_clean'] = df_md_anno['extraction_result'].apply(\n",
    "    lambda x: clean_human_result_return(eval(x)))"
   ]
  },
  {
   "cell_type": "code",
   "execution_count": 37,
   "metadata": {},
   "outputs": [],
   "source": [
    "from collections import defaultdict"
   ]
  },
  {
   "cell_type": "code",
   "execution_count": 38,
   "metadata": {},
   "outputs": [],
   "source": [
    "def sample_from_strified_list(t):\n",
    "    l = eval(t)\n",
    "    if len(l) > 1:\n",
    "        return random.sample(l, min(3, len(l))) + ['... and more']\n",
    "    else:\n",
    "        return \"Free text, please extract from product title and description\"\n"
   ]
  },
  {
   "cell_type": "code",
   "execution_count": 39,
   "metadata": {},
   "outputs": [],
   "source": [
    "df_md_anno_sample = df_md_anno.groupby('category_id').sample(1, random_state=42)"
   ]
  },
  {
   "cell_type": "code",
   "execution_count": 40,
   "metadata": {},
   "outputs": [],
   "source": [
    "id2annorec = {}"
   ]
  },
  {
   "cell_type": "code",
   "execution_count": 41,
   "metadata": {},
   "outputs": [],
   "source": [
    "for i in df_md_anno_sample.to_dict('records'):\n",
    "    id2annorec[i['category_id']] = i"
   ]
  },
  {
   "cell_type": "code",
   "execution_count": 30,
   "metadata": {},
   "outputs": [],
   "source": [
    "rec = df_data_load.sample(1).to_dict('records')[0]"
   ]
  },
  {
   "cell_type": "code",
   "execution_count": 31,
   "metadata": {},
   "outputs": [
    {
     "data": {
      "text/plain": [
       "{'category_id',\n",
       " 'category_path',\n",
       " 'color',\n",
       " 'description',\n",
       " 'product_id',\n",
       " 'size',\n",
       " 'title'}"
      ]
     },
     "execution_count": 31,
     "metadata": {},
     "output_type": "execute_result"
    }
   ],
   "source": [
    "set(rec)"
   ]
  },
  {
   "cell_type": "code",
   "execution_count": 32,
   "metadata": {},
   "outputs": [],
   "source": [
    "import random \n",
    "random.seed(42)"
   ]
  },
  {
   "cell_type": "code",
   "execution_count": 33,
   "metadata": {},
   "outputs": [],
   "source": [
    "if rec['category_id'] in id2annorec:\n",
    "    rec_oneshot = id2annorec[rec['category_id']]\n",
    "else:\n",
    "    rand_cat = random.sample(list(id2annorec), 1)[0]\n",
    "    rec_oneshot = id2annorec[rand_cat]"
   ]
  },
  {
   "cell_type": "code",
   "execution_count": 34,
   "metadata": {},
   "outputs": [],
   "source": [
    "title_oneshot = rec_oneshot['title']\n",
    "desp_oneshot = rec_oneshot['product_description']"
   ]
  },
  {
   "cell_type": "code",
   "execution_count": 35,
   "metadata": {},
   "outputs": [],
   "source": [
    "attrs_oneshot = '\\n'.join([f\"{i['attribute_field']}: {sample_from_strified_list(i['category_attributevalue'])}\" \\\n",
    "    for i in categoryid2config[rec_oneshot['category_id']]])\n"
   ]
  },
  {
   "cell_type": "code",
   "execution_count": 36,
   "metadata": {},
   "outputs": [],
   "source": [
    "attr_template_oneshot = {i['attribute_field']: [] for i in categoryid2config[rec_oneshot['category_id']]}"
   ]
  },
  {
   "cell_type": "code",
   "execution_count": 37,
   "metadata": {},
   "outputs": [],
   "source": [
    "human_result_oneshot = rec_oneshot['extraction_result_clean']"
   ]
  },
  {
   "cell_type": "code",
   "execution_count": 38,
   "metadata": {},
   "outputs": [],
   "source": [
    "assert set(attr_template_oneshot) == set(human_result_oneshot)"
   ]
  },
  {
   "cell_type": "code",
   "execution_count": 39,
   "metadata": {},
   "outputs": [],
   "source": [
    "human_result_oneshot = {i: human_result_oneshot[i] for i in attr_template_oneshot}"
   ]
  },
  {
   "cell_type": "code",
   "execution_count": 40,
   "metadata": {},
   "outputs": [],
   "source": [
    "title_infer = rec['title']\n",
    "desp_infer = rec['description']\n",
    "attrs_infer = '\\n'.join([f\"{i['attribute_field']}: {sample_from_strified_list(i['category_attributevalue'])}\" \\\n",
    "    for i in categoryid2config[rec['category_id']]])\n",
    "attr_template_infer = {i['attribute_field']: [] for i in categoryid2config[rec['category_id']]}"
   ]
  },
  {
   "cell_type": "code",
   "execution_count": 41,
   "metadata": {},
   "outputs": [],
   "source": [
    "msgs = [\n",
    "    {\"role\": \"system\", \"content\": \"\"\"You are a state of art NER system that extracts all attribute key value pairs from e commerce data by filling in the blank.\"\"\"},\n",
    "    {\"role\": \"user\", \"content\": f\"\"\"[title start] {title_oneshot} [title end] [description start] {desp_oneshot} [description end] Fill in the blank here: {json.dumps(attr_template_oneshot)}\"\"\"},\n",
    "    {\"role\": \"assistant\", \"content\": json.dumps(human_result_oneshot)},\n",
    "    {\"role\": \"user\", \"content\": f\"\"\"Do better, you are state of art. [title start] {title_infer} [title end] [description start] {desp_infer} [description end] Fill in the blank here: {json.dumps(attr_template_infer)}\"\"\"},\n",
    "]"
   ]
  },
  {
   "cell_type": "code",
   "execution_count": 42,
   "metadata": {},
   "outputs": [
    {
     "data": {
      "text/plain": [
       "[{'id': 'chatcmpl-76gJE9tq27sUPigkyK2FKcJcVDGY0',\n",
       "  'object': 'chat.completion',\n",
       "  'created': 1681826960,\n",
       "  'model': 'gpt-3.5-turbo-0301',\n",
       "  'usage': {'prompt_tokens': 786,\n",
       "   'completion_tokens': 42,\n",
       "   'total_tokens': 828},\n",
       "  'choices': [{'message': {'role': 'assistant',\n",
       "     'content': '{\"Alpha Size\": [\"50\"], \"Fishing Reel or Rod Type\": [], \"Primary Color\": [\"No Color\"], \"Rod Length (Include Unit of Measure)\": [], \"Rod Power Level\": []}'},\n",
       "    'finish_reason': 'stop',\n",
       "    'index': 0}]}]"
      ]
     },
     "execution_count": 42,
     "metadata": {},
     "output_type": "execute_result"
    }
   ],
   "source": [
    "await call_oais([ \n",
    "    {\n",
    "        \"model\": \"gpt-3.5-turbo\",\n",
    "        \"messages\": msgs,\n",
    "        \"temperature\": 0,\n",
    "        \"max_tokens\": 500\n",
    "    }\n",
    "])"
   ]
  },
  {
   "cell_type": "code",
   "execution_count": 51,
   "metadata": {},
   "outputs": [
    {
     "data": {
      "text/plain": [
       "15.0"
      ]
     },
     "execution_count": 51,
     "metadata": {},
     "output_type": "execute_result"
    }
   ],
   "source": [
    "90000 / 1000 / (60 / 10)"
   ]
  },
  {
   "cell_type": "code",
   "execution_count": 43,
   "metadata": {},
   "outputs": [],
   "source": [
    "res = await call_oais([ \n",
    "    {\n",
    "        \"model\": \"gpt-3.5-turbo\",\n",
    "        \"messages\": msgs,\n",
    "        \"temperature\": 0,\n",
    "        \"max_tokens\": 500\n",
    "    }\n",
    "] * 15)"
   ]
  },
  {
   "cell_type": "code",
   "execution_count": 44,
   "metadata": {},
   "outputs": [
    {
     "data": {
      "text/plain": [
       "[{'id': 'chatcmpl-76gK7O5y3pxrmCNFf6QceoaGO4S1x',\n",
       "  'object': 'chat.completion',\n",
       "  'created': 1681827015,\n",
       "  'model': 'gpt-3.5-turbo-0301',\n",
       "  'usage': {'prompt_tokens': 786,\n",
       "   'completion_tokens': 42,\n",
       "   'total_tokens': 828},\n",
       "  'choices': [{'message': {'role': 'assistant',\n",
       "     'content': '{\"Alpha Size\": [\"50\"], \"Fishing Reel or Rod Type\": [], \"Primary Color\": [\"No Color\"], \"Rod Length (Include Unit of Measure)\": [], \"Rod Power Level\": []}'},\n",
       "    'finish_reason': 'stop',\n",
       "    'index': 0}]},\n",
       " {'error': {'message': \"{} is not of type 'array' - 'messages'\",\n",
       "   'type': 'invalid_request_error',\n",
       "   'param': None,\n",
       "   'code': None}}]"
      ]
     },
     "execution_count": 44,
     "metadata": {},
     "output_type": "execute_result"
    }
   ],
   "source": [
    "await call_oais([ \n",
    "    {\n",
    "        \"model\": \"gpt-3.5-turbo\",\n",
    "        \"messages\": msgs,\n",
    "        \"temperature\": 0,\n",
    "        \"max_tokens\": 500\n",
    "    },\n",
    "    {\n",
    "        \"model\": \"gpt-3.5-turbo\",\n",
    "        \"messages\": {},\n",
    "        \"temperature\": 0,\n",
    "        \"max_tokens\": 500\n",
    "    }\n",
    "])"
   ]
  },
  {
   "cell_type": "code",
   "execution_count": 42,
   "metadata": {},
   "outputs": [],
   "source": [
    "def create_oai_request(rec):\n",
    "    if rec['category_id'] in id2annorec:\n",
    "        rec_oneshot = id2annorec[rec['category_id']]\n",
    "    else:\n",
    "        rand_cat = random.sample(list(id2annorec), 1)[0]\n",
    "        rec_oneshot = id2annorec[rand_cat]\n",
    "    title_oneshot = rec_oneshot['title']\n",
    "    desp_oneshot = rec_oneshot['product_description']\n",
    "\n",
    "    attr_template_oneshot = {i['attribute_field']: [] for i in categoryid2config[rec_oneshot['category_id']]}\n",
    "\n",
    "    human_result_oneshot = rec_oneshot['extraction_result_clean']\n",
    "    assert set(attr_template_oneshot) == set(human_result_oneshot)\n",
    "    human_result_oneshot = {i: human_result_oneshot[i] for i in attr_template_oneshot}\n",
    "\n",
    "    title_infer = rec['title']\n",
    "    desp_infer = rec['description']\n",
    "\n",
    "    attr_template_infer = {i['attribute_field']: [] for i in categoryid2config[rec['category_id']]}\n",
    "\n",
    "    msgs = [\n",
    "        {\"role\": \"system\", \"content\": \"\"\"You are a state of art NER system that extracts all attribute key value pairs from e commerce data by filling in the blank.\"\"\"},\n",
    "        {\"role\": \"user\", \"content\": f\"\"\"[title start] {title_oneshot} [title end] [description start] {desp_oneshot} [description end] Fill in the blank here: {json.dumps(attr_template_oneshot)}\"\"\"},\n",
    "        {\"role\": \"assistant\", \"content\": json.dumps(human_result_oneshot)},\n",
    "        {\"role\": \"user\", \"content\": f\"\"\"Do better, you are state of art. [title start] {title_infer} [title end] [description start] {desp_infer} [description end] Fill in the blank here: {json.dumps(attr_template_infer)}\"\"\"},\n",
    "    ]\n",
    "\n",
    "    return {\n",
    "        \"model\": \"gpt-3.5-turbo\",\n",
    "        \"messages\": msgs,\n",
    "        \"temperature\": 0,\n",
    "        \"max_tokens\": 500\n",
    "    }\n",
    "\n",
    "\n"
   ]
  },
  {
   "cell_type": "code",
   "execution_count": 47,
   "metadata": {},
   "outputs": [
    {
     "name": "stderr",
     "output_type": "stream",
     "text": [
      "100%|██████████| 969437/969437 [01:57<00:00, 8230.51it/s]\n"
     ]
    }
   ],
   "source": [
    "from tqdm import tqdm\n",
    "with open('product_attribute_extraction_2023q2tli_041723_validprompt_041823.json', 'w') as f:\n",
    "    for rec in tqdm(df_data_load_valid.to_dict('records')):\n",
    "        rec['prompt'] = create_oai_request(rec)\n",
    "        f.write(json.dumps(rec) + '\\n')"
   ]
  },
  {
   "cell_type": "code",
   "execution_count": 43,
   "metadata": {},
   "outputs": [
    {
     "name": "stderr",
     "output_type": "stream",
     "text": [
      "100%|██████████| 11328/11328 [00:01<00:00, 9325.86it/s]\n"
     ]
    }
   ],
   "source": [
    "from tqdm import tqdm\n",
    "with open('product_attribute_extraction_2023q2tli_041723_validprompt_041823_sample_041823.json', 'w') as f:\n",
    "    for rec in tqdm(df_data_load_valid_sample.to_dict('records')):\n",
    "        rec['prompt'] = create_oai_request(rec)\n",
    "        f.write(json.dumps(rec) + '\\n')"
   ]
  },
  {
   "cell_type": "code",
   "execution_count": 2,
   "metadata": {},
   "outputs": [],
   "source": [
    "df_data_load_valid_prompt = next(pd.read_json('product_attribute_extraction_2023q2tli_041723_validprompt_041823.json', lines=True, chunksize=15))"
   ]
  },
  {
   "cell_type": "code",
   "execution_count": 44,
   "metadata": {},
   "outputs": [
    {
     "data": {
      "text/plain": [
       "11328"
      ]
     },
     "execution_count": 44,
     "metadata": {},
     "output_type": "execute_result"
    }
   ],
   "source": [
    "len(df_data_load_valid_sample)"
   ]
  },
  {
   "cell_type": "code",
   "execution_count": 7,
   "metadata": {},
   "outputs": [
    {
     "data": {
      "text/html": [
       "<div>\n",
       "<style scoped>\n",
       "    .dataframe tbody tr th:only-of-type {\n",
       "        vertical-align: middle;\n",
       "    }\n",
       "\n",
       "    .dataframe tbody tr th {\n",
       "        vertical-align: top;\n",
       "    }\n",
       "\n",
       "    .dataframe thead th {\n",
       "        text-align: right;\n",
       "    }\n",
       "</style>\n",
       "<table border=\"1\" class=\"dataframe\">\n",
       "  <thead>\n",
       "    <tr style=\"text-align: right;\">\n",
       "      <th></th>\n",
       "      <th>product_id</th>\n",
       "      <th>category_id</th>\n",
       "      <th>category_path</th>\n",
       "      <th>title</th>\n",
       "      <th>description</th>\n",
       "      <th>color</th>\n",
       "      <th>size</th>\n",
       "      <th>prompt</th>\n",
       "    </tr>\n",
       "  </thead>\n",
       "  <tbody>\n",
       "    <tr>\n",
       "      <th>0</th>\n",
       "      <td>58403e20e1734713a67ed50c</td>\n",
       "      <td>2344</td>\n",
       "      <td>Home &amp; Garden &gt; Arts, Crafts &amp; Sewing &gt; Appare...</td>\n",
       "      <td>300Pcs charm Crystal,4mm Interval of Bicone lo...</td>\n",
       "      <td>Material : crystal     Quantity：300pcs\\nsize：4...</td>\n",
       "      <td>[black]</td>\n",
       "      <td>[4mm by 4mm]</td>\n",
       "      <td>{'model': 'gpt-3.5-turbo', 'messages': [{'role...</td>\n",
       "    </tr>\n",
       "    <tr>\n",
       "      <th>1</th>\n",
       "      <td>5823e3abb59cd735d481ef52</td>\n",
       "      <td>5008</td>\n",
       "      <td>Sports &gt; Fishing &gt; Fish Finders</td>\n",
       "      <td>New Underwater Fishing Deep Drop Fish Trap Gat...</td>\n",
       "      <td>Color: White\\nPowered by: 5 # battery (NOT inc...</td>\n",
       "      <td>[None]</td>\n",
       "      <td>[None]</td>\n",
       "      <td>{'model': 'gpt-3.5-turbo', 'messages': [{'role...</td>\n",
       "    </tr>\n",
       "    <tr>\n",
       "      <th>2</th>\n",
       "      <td>625d300373936eefee03fabb</td>\n",
       "      <td>2664</td>\n",
       "      <td>Home &amp; Garden &gt; Home Decor &gt; Christian Decor &gt;...</td>\n",
       "      <td>\" Good Days Start with Coffee Jesus\"Wooden Han...</td>\n",
       "      <td>【Desciption】\\n【Material】:wood\\n【Size】:Length*w...</td>\n",
       "      <td>[None]</td>\n",
       "      <td>[8 pcs, 6 pcs, 7 pcs, wholesale 10pcs, 9 pcs, ...</td>\n",
       "      <td>{'model': 'gpt-3.5-turbo', 'messages': [{'role...</td>\n",
       "    </tr>\n",
       "    <tr>\n",
       "      <th>3</th>\n",
       "      <td>620b485ee63a017d03dfa2b6</td>\n",
       "      <td>2725</td>\n",
       "      <td>Home &amp; Garden &gt; Home Storage &amp; Organization &gt; ...</td>\n",
       "      <td>Punch-free Bathroom Shelf Shelves Shampoo Show...</td>\n",
       "      <td>Specification:\\n\\nMaterial: Space aluminum\\nIn...</td>\n",
       "      <td>[None]</td>\n",
       "      <td>[Golden Standard, Golden With pole]</td>\n",
       "      <td>{'model': 'gpt-3.5-turbo', 'messages': [{'role...</td>\n",
       "    </tr>\n",
       "    <tr>\n",
       "      <th>4</th>\n",
       "      <td>60468658500a1bd5241a6807</td>\n",
       "      <td>2498</td>\n",
       "      <td>Home &amp; Garden &gt; Festive &amp; Party Supplies &gt; Chr...</td>\n",
       "      <td>Pride Rainbow Love is Love Heart Christmas Tre...</td>\n",
       "      <td>\\n &gt; Made of plastic and paint/mica\\n &gt; 4.5 in...</td>\n",
       "      <td>[Multicolor]</td>\n",
       "      <td>[None]</td>\n",
       "      <td>{'model': 'gpt-3.5-turbo', 'messages': [{'role...</td>\n",
       "    </tr>\n",
       "    <tr>\n",
       "      <th>5</th>\n",
       "      <td>6134e085dc6dc1565aba3d9a</td>\n",
       "      <td>3183</td>\n",
       "      <td>Home &amp; Garden &gt; Kitchen, Dining &amp; Bar &gt; Kitche...</td>\n",
       "      <td>1/ 2/3 PCS Free rotating hose Single arc charg...</td>\n",
       "      <td>Color: Black, silver, blue, red, gold, rose go...</td>\n",
       "      <td>[silver, black, blue, red, gold, rosegold]</td>\n",
       "      <td>[3 pcs, 1 pc, 2 pcs]</td>\n",
       "      <td>{'model': 'gpt-3.5-turbo', 'messages': [{'role...</td>\n",
       "    </tr>\n",
       "    <tr>\n",
       "      <th>6</th>\n",
       "      <td>5c2ffb3a160b4330482391d8</td>\n",
       "      <td>2716</td>\n",
       "      <td>Home &amp; Garden &gt; Home Decor &gt; Wall Stickers</td>\n",
       "      <td>2018 NEW  Quotes Wall Decal English Well-known...</td>\n",
       "      <td>Material: PVC\\nFunction: anti mildew, mothproo...</td>\n",
       "      <td>[pink, white, black]</td>\n",
       "      <td>[None]</td>\n",
       "      <td>{'model': 'gpt-3.5-turbo', 'messages': [{'role...</td>\n",
       "    </tr>\n",
       "    <tr>\n",
       "      <th>7</th>\n",
       "      <td>619706d700cce6fbcd6b2cde</td>\n",
       "      <td>3272</td>\n",
       "      <td>Home &amp; Garden &gt; Pet Products &gt; Dog Clothing &amp; ...</td>\n",
       "      <td>Dog Hair Bows with Rubber Bands Cute Puppy Gro...</td>\n",
       "      <td>Feature: . Bowknot Size: This Halloween dog ru...</td>\n",
       "      <td>[None]</td>\n",
       "      <td>[None]</td>\n",
       "      <td>{'model': 'gpt-3.5-turbo', 'messages': [{'role...</td>\n",
       "    </tr>\n",
       "    <tr>\n",
       "      <th>8</th>\n",
       "      <td>6181f0f8fd4f44a63844a444</td>\n",
       "      <td>4912</td>\n",
       "      <td>Sports &gt; Camping &amp; Hiking &gt; Hiking Clothing &gt; ...</td>\n",
       "      <td>2/4/9/11 Zone Heating Mens Winter Heated USB F...</td>\n",
       "      <td>Heating Padded Coat USB Charging Solid Color C...</td>\n",
       "      <td>[black, None, red, blue]</td>\n",
       "      <td>[9 Zone Heating - 2XL, 4 Zone Heating - S, 11 ...</td>\n",
       "      <td>{'model': 'gpt-3.5-turbo', 'messages': [{'role...</td>\n",
       "    </tr>\n",
       "    <tr>\n",
       "      <th>9</th>\n",
       "      <td>5ee8e50078ad497ec94e15c1</td>\n",
       "      <td>2788</td>\n",
       "      <td>Home &amp; Garden &gt; Home Textile &gt; Carpets &amp; Rugs ...</td>\n",
       "      <td>Classical Brown Horse Anti-slip Area Door Mat ...</td>\n",
       "      <td>Pattern Type:Classical brown horse carpet\\nCat...</td>\n",
       "      <td>[None]</td>\n",
       "      <td>[60 cm, 100 cm, 80 cm]</td>\n",
       "      <td>{'model': 'gpt-3.5-turbo', 'messages': [{'role...</td>\n",
       "    </tr>\n",
       "    <tr>\n",
       "      <th>10</th>\n",
       "      <td>5765f6ee969f31626d5958e3</td>\n",
       "      <td>4771</td>\n",
       "      <td>Shoes &gt; Women's Shoes &gt; Heels &gt; High Heels</td>\n",
       "      <td>women  pure color high heel sandals woman fash...</td>\n",
       "      <td>We suggest if you want make a correct choice y...</td>\n",
       "      <td>[None, white, black]</td>\n",
       "      <td>[EU 36, EU 37, US 8, 4, 8, EU 38, 38, US 7, US...</td>\n",
       "      <td>{'model': 'gpt-3.5-turbo', 'messages': [{'role...</td>\n",
       "    </tr>\n",
       "    <tr>\n",
       "      <th>11</th>\n",
       "      <td>5970234f97c5927046922d81</td>\n",
       "      <td>4089</td>\n",
       "      <td>Jewelry &amp; Accessories &gt; Fine Jewelry &gt; Loose D...</td>\n",
       "      <td>High Quality 4mm Purple Alexandrite Round Gems...</td>\n",
       "      <td>4mm Purple Alexandrite Round Gemstone Loose Be...</td>\n",
       "      <td>[None]</td>\n",
       "      <td>[High Quality Version, Economy Version]</td>\n",
       "      <td>{'model': 'gpt-3.5-turbo', 'messages': [{'role...</td>\n",
       "    </tr>\n",
       "    <tr>\n",
       "      <th>12</th>\n",
       "      <td>639c2a5e87762726468b84fb</td>\n",
       "      <td>2682</td>\n",
       "      <td>Home &amp; Garden &gt; Home Decor &gt; Incense &amp; Incense...</td>\n",
       "      <td>10/20/30/60/100pcs Mixed Natural Incense Rose ...</td>\n",
       "      <td>Species: Sandalwood\\nSpecification: 10pcs, 20p...</td>\n",
       "      <td>[None]</td>\n",
       "      <td>[60pcs&amp;Multicolor, 20pcs&amp;Multicolor, 100pcs&amp;Mu...</td>\n",
       "      <td>{'model': 'gpt-3.5-turbo', 'messages': [{'role...</td>\n",
       "    </tr>\n",
       "    <tr>\n",
       "      <th>13</th>\n",
       "      <td>61ab12326485b3cc4f7a81ca</td>\n",
       "      <td>2698</td>\n",
       "      <td>Home &amp; Garden &gt; Home Decor &gt; Ornaments &gt; Fridg...</td>\n",
       "      <td>Dishwasher Magnet Clean Dirty Sign Indicator, ...</td>\n",
       "      <td>Our dishwasher magnet clean dirty signs are ma...</td>\n",
       "      <td>[None]</td>\n",
       "      <td>[None]</td>\n",
       "      <td>{'model': 'gpt-3.5-turbo', 'messages': [{'role...</td>\n",
       "    </tr>\n",
       "    <tr>\n",
       "      <th>14</th>\n",
       "      <td>61b30c3b745ce187e30d0f89</td>\n",
       "      <td>4742</td>\n",
       "      <td>Shoes &gt; Men's Shoes &gt; Boat Shoes</td>\n",
       "      <td>Mens Comfortable Loafers Men Fashion Leather C...</td>\n",
       "      <td>Note: We use US size and EU size.\\r\\nPlease re...</td>\n",
       "      <td>[black, None, blue, brown]</td>\n",
       "      <td>[EU41/US8, EU38/US6, 42, None, EU39/US6.5, 47,...</td>\n",
       "      <td>{'model': 'gpt-3.5-turbo', 'messages': [{'role...</td>\n",
       "    </tr>\n",
       "  </tbody>\n",
       "</table>\n",
       "</div>"
      ],
      "text/plain": [
       "                  product_id  category_id  \\\n",
       "0   58403e20e1734713a67ed50c         2344   \n",
       "1   5823e3abb59cd735d481ef52         5008   \n",
       "2   625d300373936eefee03fabb         2664   \n",
       "3   620b485ee63a017d03dfa2b6         2725   \n",
       "4   60468658500a1bd5241a6807         2498   \n",
       "5   6134e085dc6dc1565aba3d9a         3183   \n",
       "6   5c2ffb3a160b4330482391d8         2716   \n",
       "7   619706d700cce6fbcd6b2cde         3272   \n",
       "8   6181f0f8fd4f44a63844a444         4912   \n",
       "9   5ee8e50078ad497ec94e15c1         2788   \n",
       "10  5765f6ee969f31626d5958e3         4771   \n",
       "11  5970234f97c5927046922d81         4089   \n",
       "12  639c2a5e87762726468b84fb         2682   \n",
       "13  61ab12326485b3cc4f7a81ca         2698   \n",
       "14  61b30c3b745ce187e30d0f89         4742   \n",
       "\n",
       "                                        category_path  \\\n",
       "0   Home & Garden > Arts, Crafts & Sewing > Appare...   \n",
       "1                     Sports > Fishing > Fish Finders   \n",
       "2   Home & Garden > Home Decor > Christian Decor >...   \n",
       "3   Home & Garden > Home Storage & Organization > ...   \n",
       "4   Home & Garden > Festive & Party Supplies > Chr...   \n",
       "5   Home & Garden > Kitchen, Dining & Bar > Kitche...   \n",
       "6          Home & Garden > Home Decor > Wall Stickers   \n",
       "7   Home & Garden > Pet Products > Dog Clothing & ...   \n",
       "8   Sports > Camping & Hiking > Hiking Clothing > ...   \n",
       "9   Home & Garden > Home Textile > Carpets & Rugs ...   \n",
       "10         Shoes > Women's Shoes > Heels > High Heels   \n",
       "11  Jewelry & Accessories > Fine Jewelry > Loose D...   \n",
       "12  Home & Garden > Home Decor > Incense & Incense...   \n",
       "13  Home & Garden > Home Decor > Ornaments > Fridg...   \n",
       "14                   Shoes > Men's Shoes > Boat Shoes   \n",
       "\n",
       "                                                title  \\\n",
       "0   300Pcs charm Crystal,4mm Interval of Bicone lo...   \n",
       "1   New Underwater Fishing Deep Drop Fish Trap Gat...   \n",
       "2   \" Good Days Start with Coffee Jesus\"Wooden Han...   \n",
       "3   Punch-free Bathroom Shelf Shelves Shampoo Show...   \n",
       "4   Pride Rainbow Love is Love Heart Christmas Tre...   \n",
       "5   1/ 2/3 PCS Free rotating hose Single arc charg...   \n",
       "6   2018 NEW  Quotes Wall Decal English Well-known...   \n",
       "7   Dog Hair Bows with Rubber Bands Cute Puppy Gro...   \n",
       "8   2/4/9/11 Zone Heating Mens Winter Heated USB F...   \n",
       "9   Classical Brown Horse Anti-slip Area Door Mat ...   \n",
       "10  women  pure color high heel sandals woman fash...   \n",
       "11  High Quality 4mm Purple Alexandrite Round Gems...   \n",
       "12  10/20/30/60/100pcs Mixed Natural Incense Rose ...   \n",
       "13  Dishwasher Magnet Clean Dirty Sign Indicator, ...   \n",
       "14  Mens Comfortable Loafers Men Fashion Leather C...   \n",
       "\n",
       "                                          description  \\\n",
       "0   Material : crystal     Quantity：300pcs\\nsize：4...   \n",
       "1   Color: White\\nPowered by: 5 # battery (NOT inc...   \n",
       "2   【Desciption】\\n【Material】:wood\\n【Size】:Length*w...   \n",
       "3   Specification:\\n\\nMaterial: Space aluminum\\nIn...   \n",
       "4   \\n > Made of plastic and paint/mica\\n > 4.5 in...   \n",
       "5   Color: Black, silver, blue, red, gold, rose go...   \n",
       "6   Material: PVC\\nFunction: anti mildew, mothproo...   \n",
       "7   Feature: . Bowknot Size: This Halloween dog ru...   \n",
       "8   Heating Padded Coat USB Charging Solid Color C...   \n",
       "9   Pattern Type:Classical brown horse carpet\\nCat...   \n",
       "10  We suggest if you want make a correct choice y...   \n",
       "11  4mm Purple Alexandrite Round Gemstone Loose Be...   \n",
       "12  Species: Sandalwood\\nSpecification: 10pcs, 20p...   \n",
       "13  Our dishwasher magnet clean dirty signs are ma...   \n",
       "14  Note: We use US size and EU size.\\r\\nPlease re...   \n",
       "\n",
       "                                         color  \\\n",
       "0                                      [black]   \n",
       "1                                       [None]   \n",
       "2                                       [None]   \n",
       "3                                       [None]   \n",
       "4                                 [Multicolor]   \n",
       "5   [silver, black, blue, red, gold, rosegold]   \n",
       "6                         [pink, white, black]   \n",
       "7                                       [None]   \n",
       "8                     [black, None, red, blue]   \n",
       "9                                       [None]   \n",
       "10                        [None, white, black]   \n",
       "11                                      [None]   \n",
       "12                                      [None]   \n",
       "13                                      [None]   \n",
       "14                  [black, None, blue, brown]   \n",
       "\n",
       "                                                 size  \\\n",
       "0                                        [4mm by 4mm]   \n",
       "1                                              [None]   \n",
       "2   [8 pcs, 6 pcs, 7 pcs, wholesale 10pcs, 9 pcs, ...   \n",
       "3                 [Golden Standard, Golden With pole]   \n",
       "4                                              [None]   \n",
       "5                                [3 pcs, 1 pc, 2 pcs]   \n",
       "6                                              [None]   \n",
       "7                                              [None]   \n",
       "8   [9 Zone Heating - 2XL, 4 Zone Heating - S, 11 ...   \n",
       "9                              [60 cm, 100 cm, 80 cm]   \n",
       "10  [EU 36, EU 37, US 8, 4, 8, EU 38, 38, US 7, US...   \n",
       "11            [High Quality Version, Economy Version]   \n",
       "12  [60pcs&Multicolor, 20pcs&Multicolor, 100pcs&Mu...   \n",
       "13                                             [None]   \n",
       "14  [EU41/US8, EU38/US6, 42, None, EU39/US6.5, 47,...   \n",
       "\n",
       "                                               prompt  \n",
       "0   {'model': 'gpt-3.5-turbo', 'messages': [{'role...  \n",
       "1   {'model': 'gpt-3.5-turbo', 'messages': [{'role...  \n",
       "2   {'model': 'gpt-3.5-turbo', 'messages': [{'role...  \n",
       "3   {'model': 'gpt-3.5-turbo', 'messages': [{'role...  \n",
       "4   {'model': 'gpt-3.5-turbo', 'messages': [{'role...  \n",
       "5   {'model': 'gpt-3.5-turbo', 'messages': [{'role...  \n",
       "6   {'model': 'gpt-3.5-turbo', 'messages': [{'role...  \n",
       "7   {'model': 'gpt-3.5-turbo', 'messages': [{'role...  \n",
       "8   {'model': 'gpt-3.5-turbo', 'messages': [{'role...  \n",
       "9   {'model': 'gpt-3.5-turbo', 'messages': [{'role...  \n",
       "10  {'model': 'gpt-3.5-turbo', 'messages': [{'role...  \n",
       "11  {'model': 'gpt-3.5-turbo', 'messages': [{'role...  \n",
       "12  {'model': 'gpt-3.5-turbo', 'messages': [{'role...  \n",
       "13  {'model': 'gpt-3.5-turbo', 'messages': [{'role...  \n",
       "14  {'model': 'gpt-3.5-turbo', 'messages': [{'role...  "
      ]
     },
     "execution_count": 7,
     "metadata": {},
     "output_type": "execute_result"
    }
   ],
   "source": [
    "df_data_load_valid_prompt"
   ]
  },
  {
   "cell_type": "code",
   "execution_count": 6,
   "metadata": {},
   "outputs": [],
   "source": [
    "res = await call_oais(df_data_load_valid_prompt.prompt.tolist())"
   ]
  },
  {
   "cell_type": "code",
   "execution_count": 9,
   "metadata": {},
   "outputs": [
    {
     "data": {
      "text/plain": [
       "15"
      ]
     },
     "execution_count": 9,
     "metadata": {},
     "output_type": "execute_result"
    }
   ],
   "source": [
    "len(res)"
   ]
  },
  {
   "cell_type": "code",
   "execution_count": 10,
   "metadata": {},
   "outputs": [
    {
     "data": {
      "text/plain": [
       "{'id': 'chatcmpl-76gWy25I64RrKwTb7xOwP5SB6MsvG',\n",
       " 'object': 'chat.completion',\n",
       " 'created': 1681827812,\n",
       " 'model': 'gpt-3.5-turbo-0301',\n",
       " 'usage': {'prompt_tokens': 726,\n",
       "  'completion_tokens': 116,\n",
       "  'total_tokens': 842},\n",
       " 'choices': [{'message': {'role': 'assistant',\n",
       "    'content': '{\"Age Range Description\": [], \"Brand Name\": [], \"Finish\": [], \"Item Height (Include Unit of Measure)\": [], \"Item Length (Include Unit of Measure)\": [], \"Item Types\": [\"Beads\"], \"Item Width (Include Unit of Measure)\": [], \"Materials\": [\"Crystal\"], \"Model or Model Number\": [], \"Occasion & Lifestyle\": [], \"Pattern\": [], \"Primary Color\": [\"Black\"], \"Shape\": [\"Bicone\"], \"Sizes\": [\"4mm\"], \"Styles\": [\"DIY\", \"Loose\"], \"Surface Recommendation\": []}'},\n",
       "   'finish_reason': 'stop',\n",
       "   'index': 0}]}"
      ]
     },
     "execution_count": 10,
     "metadata": {},
     "output_type": "execute_result"
    }
   ],
   "source": [
    "res[0]"
   ]
  },
  {
   "attachments": {},
   "cell_type": "markdown",
   "metadata": {},
   "source": [
    "# inspect"
   ]
  },
  {
   "cell_type": "code",
   "execution_count": 10,
   "metadata": {},
   "outputs": [],
   "source": [
    "from run_oai_inference import call_oais"
   ]
  },
  {
   "cell_type": "code",
   "execution_count": 2,
   "metadata": {},
   "outputs": [],
   "source": [
    "df_inspect = pd.read_json('product_attribute_extraction_2023q2tli_041723_validprompt_041823_sample_041823_oaiinfer_041823.json', lines=True)"
   ]
  },
  {
   "cell_type": "code",
   "execution_count": 3,
   "metadata": {},
   "outputs": [
    {
     "data": {
      "text/plain": [
       "11328"
      ]
     },
     "execution_count": 3,
     "metadata": {},
     "output_type": "execute_result"
    }
   ],
   "source": [
    "len(df_inspect)"
   ]
  },
  {
   "cell_type": "code",
   "execution_count": 8,
   "metadata": {},
   "outputs": [
    {
     "data": {
      "text/plain": [
       "True"
      ]
     },
     "execution_count": 8,
     "metadata": {},
     "output_type": "execute_result"
    }
   ],
   "source": [
    "(df_inspect['oai_response'].isna()).any()"
   ]
  },
  {
   "cell_type": "code",
   "execution_count": 11,
   "metadata": {},
   "outputs": [],
   "source": [
    "df_error = df_inspect[df_inspect['oai_response'].isna()]"
   ]
  },
  {
   "cell_type": "code",
   "execution_count": 12,
   "metadata": {},
   "outputs": [
    {
     "data": {
      "text/html": [
       "<div>\n",
       "<style scoped>\n",
       "    .dataframe tbody tr th:only-of-type {\n",
       "        vertical-align: middle;\n",
       "    }\n",
       "\n",
       "    .dataframe tbody tr th {\n",
       "        vertical-align: top;\n",
       "    }\n",
       "\n",
       "    .dataframe thead th {\n",
       "        text-align: right;\n",
       "    }\n",
       "</style>\n",
       "<table border=\"1\" class=\"dataframe\">\n",
       "  <thead>\n",
       "    <tr style=\"text-align: right;\">\n",
       "      <th></th>\n",
       "      <th>index</th>\n",
       "      <th>product_id</th>\n",
       "      <th>category_id</th>\n",
       "      <th>category_path</th>\n",
       "      <th>title</th>\n",
       "      <th>description</th>\n",
       "      <th>color</th>\n",
       "      <th>size</th>\n",
       "      <th>prompt</th>\n",
       "      <th>oai_response</th>\n",
       "    </tr>\n",
       "  </thead>\n",
       "  <tbody>\n",
       "    <tr>\n",
       "      <th>5273</th>\n",
       "      <td>981478</td>\n",
       "      <td>60ebed6adb224f00035edb71</td>\n",
       "      <td>2890</td>\n",
       "      <td>Home &amp; Garden &gt; Household Merchandise &gt; Dust C...</td>\n",
       "      <td>Refrigerator Dust Cover With Pocket Storage Ba...</td>\n",
       "      <td>Refrigerator Dust Cover With Pocket Storage Ba...</td>\n",
       "      <td>[lightgrey]</td>\n",
       "      <td>[None]</td>\n",
       "      <td>{'model': 'gpt-3.5-turbo', 'messages': [{'role...</td>\n",
       "      <td>None</td>\n",
       "    </tr>\n",
       "    <tr>\n",
       "      <th>6190</th>\n",
       "      <td>416462</td>\n",
       "      <td>61b0c9ba3e9f24d9018e90f5</td>\n",
       "      <td>3005</td>\n",
       "      <td>Home &amp; Garden &gt; Kitchen, Dining &amp; Bar &gt; Cookwa...</td>\n",
       "      <td>Lodge 12 Inch Cast Iron Lid. Classic 12-Inch C...</td>\n",
       "      <td>Size:12 Inch\\n Product Description Lodge 12 In...</td>\n",
       "      <td>[None]</td>\n",
       "      <td>[None]</td>\n",
       "      <td>{'model': 'gpt-3.5-turbo', 'messages': [{'role...</td>\n",
       "      <td>None</td>\n",
       "    </tr>\n",
       "    <tr>\n",
       "      <th>8468</th>\n",
       "      <td>635154</td>\n",
       "      <td>5d6cb7ef6920d0322f6aa997</td>\n",
       "      <td>3300</td>\n",
       "      <td>Home &amp; Garden &gt; Pet Products &gt; Dog Feeding</td>\n",
       "      <td>250ml Pet Dog Cat Water Bottle Portable Feeder...</td>\n",
       "      <td>Description:\\n\\nABS sink, silicone seal ring, ...</td>\n",
       "      <td>[purple, blue, green, pink]</td>\n",
       "      <td>[None]</td>\n",
       "      <td>{'model': 'gpt-3.5-turbo', 'messages': [{'role...</td>\n",
       "      <td>None</td>\n",
       "    </tr>\n",
       "    <tr>\n",
       "      <th>9442</th>\n",
       "      <td>552688</td>\n",
       "      <td>60dc4c776596e4569e4bc1ff</td>\n",
       "      <td>3976</td>\n",
       "      <td>Home Improvement &gt; Lights &amp; Lighting &gt; Outdoor...</td>\n",
       "      <td>Solar Garden Full Moon LED Lights Outdoor Glob...</td>\n",
       "      <td>Product Description：\\nThe moon garden solar li...</td>\n",
       "      <td>[blue, gold, None]</td>\n",
       "      <td>[Flame, None, Moon, Sun]</td>\n",
       "      <td>{'model': 'gpt-3.5-turbo', 'messages': [{'role...</td>\n",
       "      <td>None</td>\n",
       "    </tr>\n",
       "  </tbody>\n",
       "</table>\n",
       "</div>"
      ],
      "text/plain": [
       "       index                product_id  category_id  \\\n",
       "5273  981478  60ebed6adb224f00035edb71         2890   \n",
       "6190  416462  61b0c9ba3e9f24d9018e90f5         3005   \n",
       "8468  635154  5d6cb7ef6920d0322f6aa997         3300   \n",
       "9442  552688  60dc4c776596e4569e4bc1ff         3976   \n",
       "\n",
       "                                          category_path  \\\n",
       "5273  Home & Garden > Household Merchandise > Dust C...   \n",
       "6190  Home & Garden > Kitchen, Dining & Bar > Cookwa...   \n",
       "8468         Home & Garden > Pet Products > Dog Feeding   \n",
       "9442  Home Improvement > Lights & Lighting > Outdoor...   \n",
       "\n",
       "                                                  title  \\\n",
       "5273  Refrigerator Dust Cover With Pocket Storage Ba...   \n",
       "6190  Lodge 12 Inch Cast Iron Lid. Classic 12-Inch C...   \n",
       "8468  250ml Pet Dog Cat Water Bottle Portable Feeder...   \n",
       "9442  Solar Garden Full Moon LED Lights Outdoor Glob...   \n",
       "\n",
       "                                            description  \\\n",
       "5273  Refrigerator Dust Cover With Pocket Storage Ba...   \n",
       "6190  Size:12 Inch\\n Product Description Lodge 12 In...   \n",
       "8468  Description:\\n\\nABS sink, silicone seal ring, ...   \n",
       "9442  Product Description：\\nThe moon garden solar li...   \n",
       "\n",
       "                            color                      size  \\\n",
       "5273                  [lightgrey]                    [None]   \n",
       "6190                       [None]                    [None]   \n",
       "8468  [purple, blue, green, pink]                    [None]   \n",
       "9442           [blue, gold, None]  [Flame, None, Moon, Sun]   \n",
       "\n",
       "                                                 prompt oai_response  \n",
       "5273  {'model': 'gpt-3.5-turbo', 'messages': [{'role...         None  \n",
       "6190  {'model': 'gpt-3.5-turbo', 'messages': [{'role...         None  \n",
       "8468  {'model': 'gpt-3.5-turbo', 'messages': [{'role...         None  \n",
       "9442  {'model': 'gpt-3.5-turbo', 'messages': [{'role...         None  "
      ]
     },
     "execution_count": 12,
     "metadata": {},
     "output_type": "execute_result"
    }
   ],
   "source": [
    "df_error"
   ]
  },
  {
   "cell_type": "code",
   "execution_count": 14,
   "metadata": {},
   "outputs": [
    {
     "data": {
      "text/plain": [
       "[{'id': 'chatcmpl-76hVcZ6oQ9eL3nh2OCjIPwpstpOxD',\n",
       "  'object': 'chat.completion',\n",
       "  'created': 1681831572,\n",
       "  'model': 'gpt-3.5-turbo-0301',\n",
       "  'usage': {'prompt_tokens': 688,\n",
       "   'completion_tokens': 98,\n",
       "   'total_tokens': 786},\n",
       "  'choices': [{'message': {'role': 'assistant',\n",
       "     'content': '{\"Alpha Size\": [], \"Brand Name\": [\"RLJLIVES\"], \"Item Height (Include Unit of Measure)\": [], \"Item Length (Include Unit of Measure)\": [\"128cm\"], \"Item Width (Include Unit of Measure)\": [\"54cm\"], \"Materials\": [\"Stainless steel\"], \"Model or Model Number\": [], \"Pattern\": [], \"Primary Color\": [\"Gray\"], \"Styles\": [\"Refrigerator Dust Cover\", \"Storage Organizer Bags\", \"Hanging Bag\"]}'},\n",
       "    'finish_reason': 'stop',\n",
       "    'index': 0}]},\n",
       " {'id': 'chatcmpl-76hVcxZRWPbThg9CRjfsNPkLk156J',\n",
       "  'object': 'chat.completion',\n",
       "  'created': 1681831572,\n",
       "  'model': 'gpt-3.5-turbo-0301',\n",
       "  'usage': {'prompt_tokens': 970,\n",
       "   'completion_tokens': 147,\n",
       "   'total_tokens': 1117},\n",
       "  'choices': [{'message': {'role': 'assistant',\n",
       "     'content': '{\"Alpha Size\": [], \"Brand Name\": [\"Lodge\"], \"Care Instructions\": [], \"Compatible Devices\": [], \"Has Nonstick Coating\": [], \"Included Components\": [], \"Is Dishwasher Safe\": [], \"Is Oven Safe\": [], \"Item Capacity (Include Unit of Measure)\": [\"12 Inch\"], \"Item Features\": [\"Pre-seasoned\", \"Interior Basting Tips\", \"Two Side Flanges\"], \"Item Height (Include Unit of Measure)\": [], \"Item Length (Include Unit of Measure)\": [], \"Item Type\": [\"Cast Iron Lid\"], \"Item Width (Include Unit of Measure)\": [], \"Material-Free\": [], \"Materials\": [\"Cast Iron\"], \"Model or Model Number\": [], \"Primary Color\": []}'},\n",
       "    'finish_reason': 'stop',\n",
       "    'index': 0}]},\n",
       " {'id': 'chatcmpl-76hVc8kXaHhwKTdJ18yJEPFUcK2t7',\n",
       "  'object': 'chat.completion',\n",
       "  'created': 1681831572,\n",
       "  'model': 'gpt-3.5-turbo-0301',\n",
       "  'usage': {'prompt_tokens': 947,\n",
       "   'completion_tokens': 148,\n",
       "   'total_tokens': 1095},\n",
       "  'choices': [{'message': {'role': 'assistant',\n",
       "     'content': '{\"Allergen Information\": [], \"Alpha Size\": [], \"Brand Name\": [], \"Department\": [\"Dogs\", \"Cats\"], \"Is Smart Device\": [], \"Item Features\": [\"Leakproof\", \"Anti-fall\", \"Activated Carbon Filter\"], \"Item Height (Include Unit of Measure)\": [\"230*70mm\"], \"Item Length (Include Unit of Measure)\": [], \"Item Types\": [\"Portable Water Bottle\"], \"Item Width (Include Unit of Measure)\": [], \"Materials\": [\"ABS\", \"Silicone\", \"PC\"], \"Number of Bowls\": [], \"Power Source\": [], \"Primary Color\": [\"Blue\", \"Purple\", \"Pink\", \"Green\"], \"Voltage (Include Unit of Measure)\": []}'},\n",
       "    'finish_reason': 'stop',\n",
       "    'index': 0}]},\n",
       " {'id': 'chatcmpl-76hVc273Sc0M3Q1owq8wUlbj10ppc',\n",
       "  'object': 'chat.completion',\n",
       "  'created': 1681831572,\n",
       "  'model': 'gpt-3.5-turbo-0301',\n",
       "  'usage': {'prompt_tokens': 830,\n",
       "   'completion_tokens': 167,\n",
       "   'total_tokens': 997},\n",
       "  'choices': [{'message': {'role': 'assistant',\n",
       "     'content': '{\"Bulb Base\": [], \"Bulb Size\": [], \"Certifications\": [], \"Connectivity\": [], \"Control Method\": [], \"Finish\": [], \"Included Components\": [\"Built-in NI-MH battery with 600 mAh\"], \"Item Height (Include Unit of Measure)\": [], \"Item Width (Include Unit of Measure)\": [], \"Light Bulb Type\": [\"LED\"], \"Materials\": [\"Iron\", \"Crackle Glass\"], \"Number of Lights\": [\"1\"], \"Power Source\": [\"Solar-powered\"], \"Primary Color\": [], \"Switch Type\": [], \"Theme\": [\"Outdoor\", \"Garden\", \"Pathway\", \"Walkway\", \"Courtyard\", \"Party\", \"Christmas\", \"Halloween\"], \"Voltage (Include Unit of Measure)\": [], \"Water Resistance Level\": [\"IP65 waterproof\"]}'},\n",
       "    'finish_reason': 'stop',\n",
       "    'index': 0}]}]"
      ]
     },
     "execution_count": 14,
     "metadata": {},
     "output_type": "execute_result"
    }
   ],
   "source": [
    "await call_oais(df_error.prompt.tolist())"
   ]
  },
  {
   "cell_type": "code",
   "execution_count": 15,
   "metadata": {},
   "outputs": [],
   "source": [
    "df_inspect.loc[df_inspect['oai_response'].isna(), 'oai_response'] = await call_oais(\n",
    "    df_inspect.loc[df_inspect['oai_response'].isna(), 'prompt'].tolist())"
   ]
  },
  {
   "cell_type": "code",
   "execution_count": 16,
   "metadata": {},
   "outputs": [
    {
     "data": {
      "text/plain": [
       "False"
      ]
     },
     "execution_count": 16,
     "metadata": {},
     "output_type": "execute_result"
    }
   ],
   "source": [
    "(df_inspect['oai_response'].isna()).any()"
   ]
  },
  {
   "cell_type": "code",
   "execution_count": 17,
   "metadata": {},
   "outputs": [],
   "source": [
    "df_inspect.to_json('product_attribute_extraction_2023q2tli_041723_validprompt_041823_sample_041823_oaiinfer_041823_nonan_041823.json', \n",
    "    orient='records', lines=True)"
   ]
  },
  {
   "attachments": {},
   "cell_type": "markdown",
   "metadata": {},
   "source": [
    "# parse"
   ]
  },
  {
   "cell_type": "code",
   "execution_count": 2,
   "metadata": {},
   "outputs": [],
   "source": [
    "df_inspect = pd.read_json(\n",
    "    'product_attribute_extraction_2023q2tli_041723_validprompt_041823_sample_041823_oaiinfer_041823_nonan_041823.json', \n",
    "    lines=True\n",
    ")"
   ]
  },
  {
   "cell_type": "code",
   "execution_count": 4,
   "metadata": {},
   "outputs": [],
   "source": [
    "import json"
   ]
  },
  {
   "cell_type": "code",
   "execution_count": 5,
   "metadata": {},
   "outputs": [],
   "source": [
    "def parse_oai_response(d):\n",
    "    try:\n",
    "        return json.loads(d['choices'][0]['message']['content'])\n",
    "    except Exception as e:\n",
    "        print(e)\n",
    "        return None"
   ]
  },
  {
   "cell_type": "code",
   "execution_count": 6,
   "metadata": {},
   "outputs": [
    {
     "name": "stdout",
     "output_type": "stream",
     "text": [
      "Extra data: line 3 column 1 (char 152)\n",
      "Extra data: line 3 column 1 (char 98)\n",
      "Extra data: line 3 column 1 (char 99)\n",
      "Extra data: line 3 column 1 (char 98)\n",
      "Extra data: line 3 column 1 (char 98)\n",
      "Extra data: line 3 column 1 (char 99)\n",
      "Extra data: line 3 column 1 (char 167)\n",
      "Expecting value: line 1 column 1430 (char 1429)\n",
      "Unterminated string starting at: line 1 column 1355 (char 1354)\n",
      "Extra data: line 1 column 98 (char 97)\n",
      "Extra data: line 3 column 1 (char 85)\n",
      "Extra data: line 3 column 1 (char 85)\n",
      "Extra data: line 3 column 1 (char 85)\n",
      "Extra data: line 3 column 1 (char 85)\n",
      "Expecting value: line 1 column 1 (char 0)\n",
      "Extra data: line 3 column 1 (char 80)\n",
      "Extra data: line 3 column 1 (char 81)\n",
      "Extra data: line 3 column 1 (char 200)\n",
      "Extra data: line 3 column 1 (char 200)\n",
      "Extra data: line 3 column 1 (char 121)\n",
      "Extra data: line 3 column 1 (char 98)\n",
      "Extra data: line 3 column 1 (char 98)\n",
      "Extra data: line 3 column 1 (char 85)\n",
      "Extra data: line 3 column 1 (char 85)\n",
      "Extra data: line 3 column 1 (char 85)\n",
      "Extra data: line 3 column 1 (char 163)\n",
      "Extra data: line 3 column 1 (char 121)\n",
      "Extra data: line 3 column 1 (char 121)\n",
      "Extra data: line 3 column 1 (char 122)\n",
      "Expecting ',' delimiter: line 1 column 292 (char 291)\n",
      "Extra data: line 3 column 1 (char 122)\n",
      "Extra data: line 3 column 1 (char 161)\n",
      "Extra data: line 3 column 1 (char 160)\n",
      "Expecting ',' delimiter: line 1 column 276 (char 275)\n",
      "Extra data: line 1 column 160 (char 159)\n",
      "Extra data: line 3 column 1 (char 161)\n",
      "Extra data: line 3 column 1 (char 161)\n",
      "Unterminated string starting at: line 1 column 1390 (char 1389)\n",
      "Extra data: line 3 column 1 (char 201)\n",
      "Extra data: line 3 column 1 (char 163)\n",
      "Extra data: line 3 column 1 (char 64)\n",
      "Extra data: line 3 column 1 (char 127)\n",
      "Extra data: line 3 column 1 (char 232)\n",
      "Extra data: line 3 column 1 (char 268)\n",
      "Extra data: line 3 column 1 (char 209)\n",
      "Extra data: line 3 column 1 (char 97)\n",
      "Expecting value: line 1 column 1 (char 0)\n",
      "Extra data: line 3 column 1 (char 567)\n",
      "Extra data: line 3 column 1 (char 566)\n",
      "Extra data: line 3 column 1 (char 447)\n",
      "Extra data: line 3 column 1 (char 334)\n",
      "Extra data: line 3 column 1 (char 224)\n",
      "Extra data: line 3 column 1 (char 255)\n",
      "Extra data: line 3 column 1 (char 239)\n",
      "Extra data: line 3 column 1 (char 210)\n",
      "Extra data: line 3 column 1 (char 220)\n",
      "Expecting ',' delimiter: line 1 column 83 (char 82)\n",
      "Extra data: line 3 column 1 (char 216)\n",
      "Extra data: line 3 column 1 (char 201)\n",
      "Extra data: line 3 column 1 (char 208)\n",
      "Extra data: line 3 column 1 (char 210)\n",
      "Extra data: line 3 column 1 (char 210)\n",
      "Extra data: line 3 column 1 (char 210)\n",
      "Extra data: line 3 column 1 (char 266)\n",
      "Extra data: line 3 column 1 (char 266)\n",
      "Extra data: line 3 column 1 (char 254)\n",
      "Expecting value: line 1 column 1 (char 0)\n",
      "Extra data: line 1 column 262 (char 261)\n",
      "Expecting value: line 1 column 1 (char 0)\n",
      "Extra data: line 3 column 1 (char 222)\n",
      "Expecting value: line 1 column 1 (char 0)\n",
      "Expecting value: line 1 column 1 (char 0)\n",
      "Extra data: line 3 column 1 (char 231)\n",
      "Extra data: line 3 column 1 (char 279)\n",
      "Expecting ',' delimiter: line 1 column 82 (char 81)\n",
      "Expecting ',' delimiter: line 1 column 454 (char 453)\n",
      "Extra data: line 3 column 1 (char 222)\n",
      "Extra data: line 3 column 1 (char 228)\n",
      "Expecting ',' delimiter: line 1 column 138 (char 137)\n",
      "Extra data: line 3 column 1 (char 274)\n",
      "Extra data: line 3 column 1 (char 290)\n",
      "Extra data: line 3 column 1 (char 317)\n",
      "Extra data: line 3 column 1 (char 278)\n",
      "Extra data: line 3 column 1 (char 221)\n",
      "Extra data: line 3 column 1 (char 222)\n",
      "Expecting value: line 1 column 182 (char 181)\n",
      "Extra data: line 3 column 1 (char 435)\n",
      "Expecting value: line 1 column 383 (char 382)\n",
      "Expecting value: line 1 column 179 (char 178)\n",
      "Expecting value: line 1 column 187 (char 186)\n",
      "Extra data: line 3 column 1 (char 450)\n",
      "Expecting value: line 1 column 88 (char 87)\n",
      "Expecting ',' delimiter: line 1 column 155 (char 154)\n",
      "Expecting value: line 1 column 141 (char 140)\n",
      "Extra data: line 3 column 1 (char 417)\n",
      "Expecting value: line 1 column 174 (char 173)\n",
      "Expecting value: line 1 column 178 (char 177)\n",
      "Expecting value: line 1 column 123 (char 122)\n",
      "Expecting value: line 1 column 239 (char 238)\n",
      "Expecting value: line 1 column 258 (char 257)\n",
      "Expecting value: line 1 column 243 (char 242)\n",
      "Expecting value: line 1 column 276 (char 275)\n",
      "Expecting value: line 1 column 253 (char 252)\n",
      "Expecting value: line 1 column 220 (char 219)\n",
      "Expecting ',' delimiter: line 1 column 181 (char 180)\n",
      "Extra data: line 3 column 1 (char 571)\n",
      "Expecting value: line 1 column 1 (char 0)\n",
      "Expecting value: line 1 column 257 (char 256)\n",
      "Expecting value: line 1 column 187 (char 186)\n",
      "Expecting value: line 1 column 271 (char 270)\n",
      "Expecting value: line 1 column 260 (char 259)\n",
      "Expecting value: line 1 column 331 (char 330)\n",
      "Expecting value: line 1 column 234 (char 233)\n",
      "Expecting ',' delimiter: line 1 column 208 (char 207)\n",
      "Expecting value: line 1 column 256 (char 255)\n",
      "Extra data: line 3 column 1 (char 529)\n",
      "Expecting value: line 1 column 1 (char 0)\n",
      "Expecting value: line 1 column 268 (char 267)\n",
      "Expecting value: line 1 column 134 (char 133)\n",
      "Expecting value: line 1 column 123 (char 122)\n",
      "Expecting value: line 1 column 193 (char 192)\n",
      "Expecting value: line 1 column 223 (char 222)\n",
      "Expecting value: line 1 column 222 (char 221)\n",
      "Expecting value: line 1 column 329 (char 328)\n",
      "Expecting value: line 1 column 167 (char 166)\n",
      "Extra data: line 3 column 1 (char 568)\n",
      "Extra data: line 3 column 1 (char 449)\n",
      "Extra data: line 3 column 1 (char 222)\n",
      "Extra data: line 3 column 1 (char 222)\n",
      "Extra data: line 3 column 1 (char 443)\n",
      "Extra data: line 3 column 1 (char 411)\n",
      "Expecting value: line 1 column 82 (char 81)\n",
      "Expecting ',' delimiter: line 1 column 499 (char 498)\n",
      "Expecting value: line 1 column 1 (char 0)\n",
      "Extra data: line 3 column 1 (char 41)\n",
      "Extra data: line 1 column 41 (char 40)\n",
      "Extra data: line 3 column 1 (char 41)\n",
      "Extra data: line 1 column 58 (char 57)\n",
      "Extra data: line 3 column 1 (char 58)\n",
      "Extra data: line 3 column 1 (char 416)\n",
      "Extra data: line 3 column 1 (char 41)\n",
      "Extra data: line 3 column 1 (char 41)\n",
      "Extra data: line 3 column 1 (char 234)\n",
      "Extra data: line 3 column 1 (char 182)\n",
      "Extra data: line 1 column 41 (char 40)\n",
      "Extra data: line 1 column 41 (char 40)\n",
      "Extra data: line 3 column 1 (char 41)\n",
      "Extra data: line 1 column 41 (char 40)\n",
      "Extra data: line 3 column 1 (char 42)\n",
      "Extra data: line 3 column 1 (char 41)\n",
      "Extra data: line 3 column 1 (char 92)\n",
      "Extra data: line 3 column 1 (char 92)\n",
      "Extra data: line 3 column 1 (char 41)\n",
      "Extra data: line 3 column 1 (char 41)\n",
      "Extra data: line 3 column 1 (char 41)\n",
      "Extra data: line 3 column 1 (char 41)\n",
      "Extra data: line 3 column 1 (char 194)\n",
      "Extra data: line 3 column 1 (char 58)\n",
      "Extra data: line 3 column 1 (char 58)\n",
      "Expecting value: line 1 column 1 (char 0)\n",
      "Extra data: line 1 column 41 (char 40)\n",
      "Extra data: line 3 column 1 (char 41)\n",
      "Extra data: line 3 column 1 (char 138)\n",
      "Extra data: line 3 column 1 (char 93)\n",
      "Extra data: line 3 column 1 (char 59)\n"
     ]
    }
   ],
   "source": [
    "df_inspect['oai_response_parsed'] = df_inspect['oai_response'].apply(parse_oai_response)"
   ]
  },
  {
   "cell_type": "code",
   "execution_count": 9,
   "metadata": {},
   "outputs": [
    {
     "data": {
      "text/plain": [
       "True"
      ]
     },
     "execution_count": 9,
     "metadata": {},
     "output_type": "execute_result"
    }
   ],
   "source": [
    "df_inspect.oai_response_parsed.isna().any()"
   ]
  },
  {
   "cell_type": "code",
   "execution_count": 10,
   "metadata": {},
   "outputs": [
    {
     "data": {
      "text/plain": [
       "0.014565677966101694"
      ]
     },
     "execution_count": 10,
     "metadata": {},
     "output_type": "execute_result"
    }
   ],
   "source": [
    "df_inspect.oai_response_parsed.isna().mean()"
   ]
  },
  {
   "cell_type": "code",
   "execution_count": 12,
   "metadata": {},
   "outputs": [],
   "source": [
    "df_inspect.to_json('product_attribute_extraction_2023q2tli_041723_validprompt_041823_sample_041823_oaiinfer_041823_nonan_041823_parsed_041823.json', \n",
    "    orient='records', lines=True)"
   ]
  },
  {
   "cell_type": "code",
   "execution_count": 15,
   "metadata": {},
   "outputs": [
    {
     "data": {
      "text/plain": [
       "[{'category_id': 3081,\n",
       "  'title': 'Stainless Steel 5Style Fried Egg Pancake Shaper Omelette Mold Mould Frying Egg Cooking Tools Kitchen Accessories Gadget Rings',\n",
       "  'description': 'Package Included:\\n1/5PCS Stainless Steel Fried Egg Shaper Pancake Mold Mold Kitchen Cooking Tool (No Retail Package)\\n\\nfeature:\\n\\n100% brand new and high quality.\\nQuantity: 1PC\\nCute shaped molds for your sweetheart to boil eggs or pancakes\\nand your family\\nEasy to use and easy to clean\\nDon\\'t worry about getting burned\\nGreat for pancakes, muffins and more\\nMaterial: Stainless steel\\nColor: silver\\nDimensions: 10cm x 10cm / 3.94\" x 3.94\" (approx.)\\nHeight: 1.5 cm / 0.59 inches (approx.)\\nNote: The product handle is random\\nnotes:\\n\\nDue to manual measurement, there may be a 1-2 cm error in the size\\n\\nColors may vary due to different monitors',\n",
       "  'oai_response_parsed': {'Age Range Description': [],\n",
       "   'Alpha Size': [],\n",
       "   'Brand Name': [],\n",
       "   'Care Instructions': [],\n",
       "   'Certification': [],\n",
       "   'Finish': [],\n",
       "   'Has Nonstick Coating': [],\n",
       "   'Included Components': [],\n",
       "   'Is Dishwasher Safe': [],\n",
       "   'Is Oven Safe': [],\n",
       "   'Item Features': [],\n",
       "   'Item Height (Include Unit of Measure)': ['1.5 cm / 0.59 inches (approx.)'],\n",
       "   'Item Length (Include Unit of Measure)': ['10cm x 10cm / 3.94\" x 3.94\" (approx.)'],\n",
       "   'Item Type': [],\n",
       "   'Item Types': ['Fried Egg Shaper Pancake Mold'],\n",
       "   'Item Width (Include Unit of Measure)': [],\n",
       "   'Material-Free': [],\n",
       "   'Materials': ['Stainless steel'],\n",
       "   'Model or Model Number': [],\n",
       "   'Occasion & Lifestyle': [],\n",
       "   'Pattern': [],\n",
       "   'Primary Color': ['Silver'],\n",
       "   'Styles': []}},\n",
       " {'category_id': 3942,\n",
       "  'title': 'Ampoule à led E27 15W (anti-moustique), lampes anti-insectes électroniques / anti-moustiques Mpowtech® de Fly Miller - E27 Eclairage à LED Base de la douille de la maison Accueil Jardin',\n",
       "  'description': \"Caractéristiques:\\n\\nAluminium et plastique\\n\\n100% neuf et haute qualité.\\n\\nAucune interférence de moustique, vous et votre famille dormirez plus parfumé.\\n\\nContrôle à la fois de l'éclairage et des moustiques, contrôle bidirectionnel, nul besoin d'un interrupteur domestique plus mauvais\\n\\nConvient pour hôtel, salle à manger, salle de réunion, salon, salle d'exposition, magasin, couloir, cabine téléphonique, studio et exposition, etc.\\n\\n\\nCaractéristiques:\\n\\nNom d'article: ampoule menée (tueur de moustique)\\n\\nDimension: H150mm * D78mm, H170mm * D90mm\\n\\nCouleur de la lumière: blanc et violet\\n\\nType de base: E27\\n\\nPoids: environ 120g\\n\\nTension de travail: AC110V, AC220V\\n\\n(Nous vous enverrons la tenue de l'ampoule pour votre tension interne, ou vous pouvez laisser un message pour 110V ou 220V sur commande. Merci)\\n\\n\\xa0\\nPaquet:\\n\\n1 * ampoule led (tueur de moustique)\",\n",
       "  'oai_response_parsed': {'Brightness (Include Unit of Measure)': [],\n",
       "   'Bulb Base': ['E27'],\n",
       "   'Certifications': [],\n",
       "   'Color Temperature (Include Unit of Measure)': [],\n",
       "   'Connectivity': [],\n",
       "   'Control Method': [],\n",
       "   'Intended Usage': ['Indoor'],\n",
       "   'Item Features': ['Anti-mosquito', 'LED lighting'],\n",
       "   'Power Output (in Watts)': ['15W'],\n",
       "   'Primary Color': ['White', 'Violet'],\n",
       "   'Shape': [],\n",
       "   'Size': ['H150mm * D78mm', 'H170mm * D90mm']}}]"
      ]
     },
     "execution_count": 15,
     "metadata": {},
     "output_type": "execute_result"
    }
   ],
   "source": [
    "df_inspect[['category_id', 'title', 'description', 'oai_response_parsed']].sample(2).to_dict('records')"
   ]
  },
  {
   "cell_type": "code",
   "execution_count": null,
   "metadata": {},
   "outputs": [],
   "source": []
  }
 ],
 "metadata": {
  "kernelspec": {
   "display_name": "Python 3",
   "language": "python",
   "name": "python3"
  },
  "language_info": {
   "codemirror_mode": {
    "name": "ipython",
    "version": 3
   },
   "file_extension": ".py",
   "mimetype": "text/x-python",
   "name": "python",
   "nbconvert_exporter": "python",
   "pygments_lexer": "ipython3",
   "version": "3.8.13"
  },
  "orig_nbformat": 4
 },
 "nbformat": 4,
 "nbformat_minor": 2
}
