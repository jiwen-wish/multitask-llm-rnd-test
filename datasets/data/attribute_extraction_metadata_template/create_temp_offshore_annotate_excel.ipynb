{
 "cells": [
  {
   "cell_type": "code",
   "execution_count": 33,
   "metadata": {},
   "outputs": [],
   "source": [
    "import pandas as pd\n",
    "import json\n",
    "import hashlib\n",
    "from tqdm import tqdm"
   ]
  },
  {
   "cell_type": "code",
   "execution_count": 19,
   "metadata": {},
   "outputs": [],
   "source": [
    "from collections import OrderedDict\n",
    "from copy import deepcopy \n",
    "\n",
    "def sortOD(od):\n",
    "    res = OrderedDict()\n",
    "    for k, v in sorted(od.items()):\n",
    "        if isinstance(v, dict):\n",
    "            res[k] = sortOD(v)\n",
    "        else:\n",
    "            res[k] = deepcopy(v)\n",
    "    return res"
   ]
  },
  {
   "cell_type": "code",
   "execution_count": 5,
   "metadata": {},
   "outputs": [],
   "source": [
    "l2s = []\n",
    "with open('2023_q1_top_25_l2s.txt', 'r') as f:\n",
    "    for l in f:\n",
    "        if len(l.replace('\\n', '').strip()) > 0:\n",
    "            l2s.append(l.replace('\\n', '').strip())"
   ]
  },
  {
   "cell_type": "code",
   "execution_count": 6,
   "metadata": {},
   "outputs": [],
   "source": [
    "df_meta = pd.read_csv(\"Initial Attribute Definition for First Release - UPDATED SHEET .csv\")"
   ]
  },
  {
   "cell_type": "code",
   "execution_count": 7,
   "metadata": {},
   "outputs": [],
   "source": [
    "df_meta_25l2s = df_meta[df_meta.category.apply(lambda x: any([x.startswith(i) for i in l2s]))]"
   ]
  },
  {
   "cell_type": "code",
   "execution_count": 8,
   "metadata": {},
   "outputs": [
    {
     "data": {
      "text/plain": [
       "25"
      ]
     },
     "execution_count": 8,
     "metadata": {},
     "output_type": "execute_result"
    }
   ],
   "source": [
    "len(set(df_meta_25l2s.category.apply(lambda x: ' > '.join(x.split(' > ')[:2]))))"
   ]
  },
  {
   "cell_type": "code",
   "execution_count": 9,
   "metadata": {},
   "outputs": [
    {
     "name": "stderr",
     "output_type": "stream",
     "text": [
      "/tmp/ipykernel_13989/1116168472.py:1: SettingWithCopyWarning: \n",
      "A value is trying to be set on a copy of a slice from a DataFrame.\n",
      "Try using .loc[row_indexer,col_indexer] = value instead\n",
      "\n",
      "See the caveats in the documentation: https://pandas.pydata.org/pandas-docs/stable/user_guide/indexing.html#returning-a-view-versus-a-copy\n",
      "  df_meta_25l2s['L2'] = df_meta_25l2s.category.apply(lambda x: ' > '.join(x.split(' > ')[:2]))\n"
     ]
    }
   ],
   "source": [
    "df_meta_25l2s['L2'] = df_meta_25l2s.category.apply(lambda x: ' > '.join(x.split(' > ')[:2]))"
   ]
  },
  {
   "cell_type": "code",
   "execution_count": 10,
   "metadata": {},
   "outputs": [
    {
     "data": {
      "text/html": [
       "<div>\n",
       "<style scoped>\n",
       "    .dataframe tbody tr th:only-of-type {\n",
       "        vertical-align: middle;\n",
       "    }\n",
       "\n",
       "    .dataframe tbody tr th {\n",
       "        vertical-align: top;\n",
       "    }\n",
       "\n",
       "    .dataframe thead th {\n",
       "        text-align: right;\n",
       "    }\n",
       "</style>\n",
       "<table border=\"1\" class=\"dataframe\">\n",
       "  <thead>\n",
       "    <tr style=\"text-align: right;\">\n",
       "      <th></th>\n",
       "      <th>attribute_field</th>\n",
       "    </tr>\n",
       "    <tr>\n",
       "      <th>L2</th>\n",
       "      <th></th>\n",
       "    </tr>\n",
       "  </thead>\n",
       "  <tbody>\n",
       "    <tr>\n",
       "      <th>Cellphones &amp; Telecommunications &gt; Mobile Phone Accessories</th>\n",
       "      <td>38</td>\n",
       "    </tr>\n",
       "    <tr>\n",
       "      <th>Cellphones &amp; Telecommunications &gt; Phone Bags &amp; Cases</th>\n",
       "      <td>14</td>\n",
       "    </tr>\n",
       "    <tr>\n",
       "      <th>Consumer Electronics &gt; Earphones &amp; Headphones</th>\n",
       "      <td>25</td>\n",
       "    </tr>\n",
       "    <tr>\n",
       "      <th>Home &amp; Garden &gt; Arts, Crafts &amp; Sewing</th>\n",
       "      <td>43</td>\n",
       "    </tr>\n",
       "    <tr>\n",
       "      <th>Home &amp; Garden &gt; Festive &amp; Party Supplies</th>\n",
       "      <td>52</td>\n",
       "    </tr>\n",
       "    <tr>\n",
       "      <th>Home &amp; Garden &gt; Garden Supplies</th>\n",
       "      <td>41</td>\n",
       "    </tr>\n",
       "    <tr>\n",
       "      <th>Home &amp; Garden &gt; Home Decor</th>\n",
       "      <td>69</td>\n",
       "    </tr>\n",
       "    <tr>\n",
       "      <th>Home &amp; Garden &gt; Home Storage &amp; Organization</th>\n",
       "      <td>35</td>\n",
       "    </tr>\n",
       "    <tr>\n",
       "      <th>Home &amp; Garden &gt; Home Textile</th>\n",
       "      <td>51</td>\n",
       "    </tr>\n",
       "    <tr>\n",
       "      <th>Home &amp; Garden &gt; Household Merchandise</th>\n",
       "      <td>33</td>\n",
       "    </tr>\n",
       "    <tr>\n",
       "      <th>Home &amp; Garden &gt; Kitchen,Dining &amp; Bar</th>\n",
       "      <td>74</td>\n",
       "    </tr>\n",
       "    <tr>\n",
       "      <th>Home &amp; Garden &gt; Pet Products</th>\n",
       "      <td>72</td>\n",
       "    </tr>\n",
       "    <tr>\n",
       "      <th>Home Improvement &gt; Lights &amp; Lighting</th>\n",
       "      <td>54</td>\n",
       "    </tr>\n",
       "    <tr>\n",
       "      <th>Jewelry &amp; Accessories &gt; Fine Jewelry</th>\n",
       "      <td>23</td>\n",
       "    </tr>\n",
       "    <tr>\n",
       "      <th>Jewelry &amp; Accessories &gt; Necklaces &amp; Pendants</th>\n",
       "      <td>18</td>\n",
       "    </tr>\n",
       "    <tr>\n",
       "      <th>Jewelry &amp; Accessories &gt; Rings</th>\n",
       "      <td>19</td>\n",
       "    </tr>\n",
       "    <tr>\n",
       "      <th>Luggage &amp; Bags &gt; Men's Bags</th>\n",
       "      <td>17</td>\n",
       "    </tr>\n",
       "    <tr>\n",
       "      <th>Luggage &amp; Bags &gt; Women's Bags</th>\n",
       "      <td>17</td>\n",
       "    </tr>\n",
       "    <tr>\n",
       "      <th>Shoes &gt; Men's Shoes</th>\n",
       "      <td>17</td>\n",
       "    </tr>\n",
       "    <tr>\n",
       "      <th>Shoes &gt; Women's Shoes</th>\n",
       "      <td>19</td>\n",
       "    </tr>\n",
       "    <tr>\n",
       "      <th>Sports &gt; Camping &amp; Hiking</th>\n",
       "      <td>56</td>\n",
       "    </tr>\n",
       "    <tr>\n",
       "      <th>Sports &gt; Fishing</th>\n",
       "      <td>42</td>\n",
       "    </tr>\n",
       "    <tr>\n",
       "      <th>Sports &gt; Fitness &amp; Body Building</th>\n",
       "      <td>38</td>\n",
       "    </tr>\n",
       "    <tr>\n",
       "      <th>Sports &gt; Hunting</th>\n",
       "      <td>21</td>\n",
       "    </tr>\n",
       "    <tr>\n",
       "      <th>Sports &gt; Sneakers</th>\n",
       "      <td>25</td>\n",
       "    </tr>\n",
       "  </tbody>\n",
       "</table>\n",
       "</div>"
      ],
      "text/plain": [
       "                                                    attribute_field\n",
       "L2                                                                 \n",
       "Cellphones & Telecommunications > Mobile Phone ...               38\n",
       "Cellphones & Telecommunications > Phone Bags & ...               14\n",
       "Consumer Electronics > Earphones & Headphones                    25\n",
       "Home & Garden > Arts, Crafts & Sewing                            43\n",
       "Home & Garden > Festive & Party Supplies                         52\n",
       "Home & Garden > Garden Supplies                                  41\n",
       "Home & Garden > Home Decor                                       69\n",
       "Home & Garden > Home Storage & Organization                      35\n",
       "Home & Garden > Home Textile                                     51\n",
       "Home & Garden > Household Merchandise                            33\n",
       "Home & Garden > Kitchen,Dining & Bar                             74\n",
       "Home & Garden > Pet Products                                     72\n",
       "Home Improvement > Lights & Lighting                             54\n",
       "Jewelry & Accessories > Fine Jewelry                             23\n",
       "Jewelry & Accessories > Necklaces & Pendants                     18\n",
       "Jewelry & Accessories > Rings                                    19\n",
       "Luggage & Bags > Men's Bags                                      17\n",
       "Luggage & Bags > Women's Bags                                    17\n",
       "Shoes > Men's Shoes                                              17\n",
       "Shoes > Women's Shoes                                            19\n",
       "Sports > Camping & Hiking                                        56\n",
       "Sports > Fishing                                                 42\n",
       "Sports > Fitness & Body Building                                 38\n",
       "Sports > Hunting                                                 21\n",
       "Sports > Sneakers                                                25"
      ]
     },
     "execution_count": 10,
     "metadata": {},
     "output_type": "execute_result"
    }
   ],
   "source": [
    "df_meta_25l2s.groupby('L2').agg({\n",
    "    'attribute_field': lambda x: len(set([i for i in x]))\n",
    "})"
   ]
  },
  {
   "cell_type": "code",
   "execution_count": 11,
   "metadata": {},
   "outputs": [],
   "source": [
    "df_meta_25l2s_nofreetext = df_meta_25l2s[df_meta_25l2s['entry mode'] != 'free_text']"
   ]
  },
  {
   "cell_type": "code",
   "execution_count": 12,
   "metadata": {},
   "outputs": [
    {
     "data": {
      "text/html": [
       "<div>\n",
       "<style scoped>\n",
       "    .dataframe tbody tr th:only-of-type {\n",
       "        vertical-align: middle;\n",
       "    }\n",
       "\n",
       "    .dataframe tbody tr th {\n",
       "        vertical-align: top;\n",
       "    }\n",
       "\n",
       "    .dataframe thead th {\n",
       "        text-align: right;\n",
       "    }\n",
       "</style>\n",
       "<table border=\"1\" class=\"dataframe\">\n",
       "  <thead>\n",
       "    <tr style=\"text-align: right;\">\n",
       "      <th></th>\n",
       "      <th>attribute_field</th>\n",
       "    </tr>\n",
       "    <tr>\n",
       "      <th>L2</th>\n",
       "      <th></th>\n",
       "    </tr>\n",
       "  </thead>\n",
       "  <tbody>\n",
       "    <tr>\n",
       "      <th>Cellphones &amp; Telecommunications &gt; Mobile Phone Accessories</th>\n",
       "      <td>32</td>\n",
       "    </tr>\n",
       "    <tr>\n",
       "      <th>Cellphones &amp; Telecommunications &gt; Phone Bags &amp; Cases</th>\n",
       "      <td>13</td>\n",
       "    </tr>\n",
       "    <tr>\n",
       "      <th>Consumer Electronics &gt; Earphones &amp; Headphones</th>\n",
       "      <td>24</td>\n",
       "    </tr>\n",
       "    <tr>\n",
       "      <th>Home &amp; Garden &gt; Arts, Crafts &amp; Sewing</th>\n",
       "      <td>24</td>\n",
       "    </tr>\n",
       "    <tr>\n",
       "      <th>Home &amp; Garden &gt; Festive &amp; Party Supplies</th>\n",
       "      <td>40</td>\n",
       "    </tr>\n",
       "    <tr>\n",
       "      <th>Home &amp; Garden &gt; Garden Supplies</th>\n",
       "      <td>25</td>\n",
       "    </tr>\n",
       "    <tr>\n",
       "      <th>Home &amp; Garden &gt; Home Decor</th>\n",
       "      <td>52</td>\n",
       "    </tr>\n",
       "    <tr>\n",
       "      <th>Home &amp; Garden &gt; Home Storage &amp; Organization</th>\n",
       "      <td>15</td>\n",
       "    </tr>\n",
       "    <tr>\n",
       "      <th>Home &amp; Garden &gt; Home Textile</th>\n",
       "      <td>37</td>\n",
       "    </tr>\n",
       "    <tr>\n",
       "      <th>Home &amp; Garden &gt; Household Merchandise</th>\n",
       "      <td>21</td>\n",
       "    </tr>\n",
       "    <tr>\n",
       "      <th>Home &amp; Garden &gt; Kitchen,Dining &amp; Bar</th>\n",
       "      <td>46</td>\n",
       "    </tr>\n",
       "    <tr>\n",
       "      <th>Home &amp; Garden &gt; Pet Products</th>\n",
       "      <td>42</td>\n",
       "    </tr>\n",
       "    <tr>\n",
       "      <th>Home Improvement &gt; Lights &amp; Lighting</th>\n",
       "      <td>37</td>\n",
       "    </tr>\n",
       "    <tr>\n",
       "      <th>Jewelry &amp; Accessories &gt; Fine Jewelry</th>\n",
       "      <td>13</td>\n",
       "    </tr>\n",
       "    <tr>\n",
       "      <th>Jewelry &amp; Accessories &gt; Necklaces &amp; Pendants</th>\n",
       "      <td>13</td>\n",
       "    </tr>\n",
       "    <tr>\n",
       "      <th>Jewelry &amp; Accessories &gt; Rings</th>\n",
       "      <td>13</td>\n",
       "    </tr>\n",
       "    <tr>\n",
       "      <th>Luggage &amp; Bags &gt; Men's Bags</th>\n",
       "      <td>10</td>\n",
       "    </tr>\n",
       "    <tr>\n",
       "      <th>Luggage &amp; Bags &gt; Women's Bags</th>\n",
       "      <td>10</td>\n",
       "    </tr>\n",
       "    <tr>\n",
       "      <th>Shoes &gt; Men's Shoes</th>\n",
       "      <td>15</td>\n",
       "    </tr>\n",
       "    <tr>\n",
       "      <th>Shoes &gt; Women's Shoes</th>\n",
       "      <td>15</td>\n",
       "    </tr>\n",
       "    <tr>\n",
       "      <th>Sports &gt; Camping &amp; Hiking</th>\n",
       "      <td>43</td>\n",
       "    </tr>\n",
       "    <tr>\n",
       "      <th>Sports &gt; Fishing</th>\n",
       "      <td>32</td>\n",
       "    </tr>\n",
       "    <tr>\n",
       "      <th>Sports &gt; Fitness &amp; Body Building</th>\n",
       "      <td>34</td>\n",
       "    </tr>\n",
       "    <tr>\n",
       "      <th>Sports &gt; Hunting</th>\n",
       "      <td>17</td>\n",
       "    </tr>\n",
       "    <tr>\n",
       "      <th>Sports &gt; Sneakers</th>\n",
       "      <td>20</td>\n",
       "    </tr>\n",
       "  </tbody>\n",
       "</table>\n",
       "</div>"
      ],
      "text/plain": [
       "                                                    attribute_field\n",
       "L2                                                                 \n",
       "Cellphones & Telecommunications > Mobile Phone ...               32\n",
       "Cellphones & Telecommunications > Phone Bags & ...               13\n",
       "Consumer Electronics > Earphones & Headphones                    24\n",
       "Home & Garden > Arts, Crafts & Sewing                            24\n",
       "Home & Garden > Festive & Party Supplies                         40\n",
       "Home & Garden > Garden Supplies                                  25\n",
       "Home & Garden > Home Decor                                       52\n",
       "Home & Garden > Home Storage & Organization                      15\n",
       "Home & Garden > Home Textile                                     37\n",
       "Home & Garden > Household Merchandise                            21\n",
       "Home & Garden > Kitchen,Dining & Bar                             46\n",
       "Home & Garden > Pet Products                                     42\n",
       "Home Improvement > Lights & Lighting                             37\n",
       "Jewelry & Accessories > Fine Jewelry                             13\n",
       "Jewelry & Accessories > Necklaces & Pendants                     13\n",
       "Jewelry & Accessories > Rings                                    13\n",
       "Luggage & Bags > Men's Bags                                      10\n",
       "Luggage & Bags > Women's Bags                                    10\n",
       "Shoes > Men's Shoes                                              15\n",
       "Shoes > Women's Shoes                                            15\n",
       "Sports > Camping & Hiking                                        43\n",
       "Sports > Fishing                                                 32\n",
       "Sports > Fitness & Body Building                                 34\n",
       "Sports > Hunting                                                 17\n",
       "Sports > Sneakers                                                20"
      ]
     },
     "execution_count": 12,
     "metadata": {},
     "output_type": "execute_result"
    }
   ],
   "source": [
    "df_meta_25l2s_nofreetext.groupby('L2').agg({\n",
    "    'attribute_field': lambda x: len(set([i for i in x]))\n",
    "})"
   ]
  },
  {
   "cell_type": "code",
   "execution_count": 13,
   "metadata": {},
   "outputs": [],
   "source": [
    "df_query = pd.read_csv('../query_attr_extract_label/allstratified_sample_4806_query.csv')\n",
    "df_product = pd.read_csv('../wish_attr_extract_label/sdt887_product_attribution_data_one_listing_per_leaf_node__20230111.csv')"
   ]
  },
  {
   "attachments": {},
   "cell_type": "markdown",
   "metadata": {},
   "source": [
    "# product"
   ]
  },
  {
   "cell_type": "code",
   "execution_count": 70,
   "metadata": {},
   "outputs": [],
   "source": [
    "meta_dict = {}\n",
    "for i in set(df_meta.category):\n",
    "    meta_dict[i] = df_meta[(df_meta.category == i) & (df_meta['entry mode'] != 'free_text')].sort_values(\n",
    "        \"attribute_field\"\n",
    "    ).to_dict('records')"
   ]
  },
  {
   "cell_type": "code",
   "execution_count": 117,
   "metadata": {},
   "outputs": [
    {
     "name": "stderr",
     "output_type": "stream",
     "text": [
      "100%|██████████| 5033/5033 [00:00<00:00, 7408.45it/s]\n"
     ]
    }
   ],
   "source": [
    "recs = []\n",
    "for i in tqdm(df_product.to_dict('records')):\n",
    "    if i['category_path'] in meta_dict:\n",
    "        for j in meta_dict[i['category_path']]:\n",
    "            rec = sortOD({\n",
    "                \"category_path\": i['category_path'],\n",
    "                \"product_id\": i['product_id'],\n",
    "                \"title\": i['title'],\n",
    "                \"product_description\": i['product_description'],\n",
    "                \"main_image_url\": i['main_image_url'],\n",
    "                \"attribute_field\": j['attribute_field'],\n",
    "                \"attribute_value\": j['category_attributevalue'],\n",
    "                \"entry_mode\": j['entry mode'],\n",
    "                \"max_multi_select\": str(j['max_multi_select']),\n",
    "                \"attribute_description\": j['description']\n",
    "            })\n",
    "            task_json = json.dumps(rec).encode('utf-8')\n",
    "            task_hash = hashlib.md5(task_json).hexdigest()\n",
    "            task_id = f\"product_attribution_{task_hash}\"\n",
    "            rec['task_id'] = task_id\n",
    "            recs.append(rec)"
   ]
  },
  {
   "cell_type": "code",
   "execution_count": 118,
   "metadata": {},
   "outputs": [],
   "source": [
    "tmp_df = pd.DataFrame(recs)"
   ]
  },
  {
   "cell_type": "code",
   "execution_count": 119,
   "metadata": {},
   "outputs": [],
   "source": [
    "assert len(tmp_df) == len(set(tmp_df.task_id))"
   ]
  },
  {
   "cell_type": "code",
   "execution_count": 120,
   "metadata": {},
   "outputs": [
    {
     "data": {
      "text/plain": [
       "(5033, 1898)"
      ]
     },
     "execution_count": 120,
     "metadata": {},
     "output_type": "execute_result"
    }
   ],
   "source": [
    "len(df_product), len(set(tmp_df['product_id']))"
   ]
  },
  {
   "cell_type": "code",
   "execution_count": 121,
   "metadata": {},
   "outputs": [
    {
     "data": {
      "text/plain": [
       "single_selection_only    9961\n",
       "multi_selection_only     5476\n",
       "Name: entry_mode, dtype: int64"
      ]
     },
     "execution_count": 121,
     "metadata": {},
     "output_type": "execute_result"
    }
   ],
   "source": [
    "tmp_df['entry_mode'].value_counts()"
   ]
  },
  {
   "cell_type": "code",
   "execution_count": 146,
   "metadata": {},
   "outputs": [],
   "source": [
    "import xlsxwriter\n",
    "from xlsxwriter.utility import xl_rowcol_to_cell\n"
   ]
  },
  {
   "cell_type": "code",
   "execution_count": 148,
   "metadata": {},
   "outputs": [
    {
     "name": "stderr",
     "output_type": "stream",
     "text": [
      "100%|██████████| 15437/15437 [00:01<00:00, 9146.85it/s]\n"
     ]
    }
   ],
   "source": [
    "\n",
    "attr_val_set_to_cell_range = {}\n",
    "\n",
    "workbook = xlsxwriter.Workbook('../wish_attr_extract_label/offshore_excel/sdt887_product_attribution_data_one_listing_per_leaf_node__20230111_25l2subset_offshoreexcel_20230119.xlsx')\n",
    "worksheet = workbook.add_worksheet('attribute_val')\n",
    "worksheet2 = workbook.add_worksheet('attribute_definition')\n",
    "\n",
    "r = 0\n",
    "for i in set(tmp_df['attribute_value']):\n",
    "    c = 0\n",
    "    start_cell = xl_rowcol_to_cell(r, c, row_abs=True, col_abs=True)\n",
    "    end_cell = xl_rowcol_to_cell(r, c, row_abs=True, col_abs=True)\n",
    "    for j in eval(i):\n",
    "        worksheet2.write(r, c, j)\n",
    "        end_cell = xl_rowcol_to_cell(r, c, row_abs=True, col_abs=True)\n",
    "        c += 1\n",
    "    attr_val_set_to_cell_range[i] = (start_cell, end_cell)\n",
    "    r += 1\n",
    "\n",
    "worksheet2.write(3, 4, \"hello1\")\n",
    "worksheet2.write(3, 5, \"hello2\")\n",
    "worksheet2.write(3, 6, \"hello3\")\n",
    "\n",
    "cols = ['task_id', 'title', 'product_description', 'main_image_url', \n",
    "    'max_multi_select', 'entry_mode', 'attribute_field', 'attribute_value']\n",
    "\n",
    "r = 0\n",
    "for c in range(len(cols)):\n",
    "    worksheet.write(r, c, cols[c])\n",
    "\n",
    "r += 1\n",
    "for i in tqdm(recs):\n",
    "    for c in range(len(cols)):\n",
    "        if cols[c] != 'attribute_value':\n",
    "            worksheet.write(r, c, i[cols[c]])\n",
    "        else:\n",
    "            start_cell, end_cell = attr_val_set_to_cell_range[i[cols[c]]]\n",
    "            worksheet.data_validation(r, c, r, c, {\n",
    "                'validate': 'list',\n",
    "                'source': f'=attribute_definition!{start_cell}:{end_cell}',\n",
    "                'input_message': i['attribute_description']\n",
    "            })\n",
    "    r += 1\n",
    "workbook.close()"
   ]
  },
  {
   "cell_type": "code",
   "execution_count": null,
   "metadata": {},
   "outputs": [],
   "source": []
  }
 ],
 "metadata": {
  "kernelspec": {
   "display_name": "Python 3",
   "language": "python",
   "name": "python3"
  },
  "language_info": {
   "codemirror_mode": {
    "name": "ipython",
    "version": 3
   },
   "file_extension": ".py",
   "mimetype": "text/x-python",
   "name": "python",
   "nbconvert_exporter": "python",
   "pygments_lexer": "ipython3",
   "version": "3.8.13"
  },
  "orig_nbformat": 4,
  "vscode": {
   "interpreter": {
    "hash": "949777d72b0d2535278d3dc13498b2535136f6dfe0678499012e853ee9abcab1"
   }
  }
 },
 "nbformat": 4,
 "nbformat_minor": 2
}
