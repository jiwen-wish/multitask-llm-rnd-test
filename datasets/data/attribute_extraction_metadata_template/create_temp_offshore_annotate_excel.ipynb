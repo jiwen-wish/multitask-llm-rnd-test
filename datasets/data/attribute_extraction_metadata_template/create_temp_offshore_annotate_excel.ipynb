{
 "cells": [
  {
   "cell_type": "code",
   "execution_count": 204,
   "metadata": {},
   "outputs": [],
   "source": [
    "import pandas as pd\n",
    "import json\n",
    "import hashlib\n",
    "from tqdm import tqdm\n",
    "import xlsxwriter\n",
    "from xlsxwriter.utility import xl_rowcol_to_cell\n"
   ]
  },
  {
   "cell_type": "code",
   "execution_count": 205,
   "metadata": {},
   "outputs": [],
   "source": [
    "from collections import OrderedDict\n",
    "from copy import deepcopy \n",
    "\n",
    "def sortOD(od):\n",
    "    res = OrderedDict()\n",
    "    for k, v in sorted(od.items()):\n",
    "        if isinstance(v, dict):\n",
    "            res[k] = sortOD(v)\n",
    "        else:\n",
    "            res[k] = deepcopy(v)\n",
    "    return res"
   ]
  },
  {
   "cell_type": "code",
   "execution_count": 206,
   "metadata": {},
   "outputs": [],
   "source": [
    "l2s = []\n",
    "with open('2023_q1_top_25_l2s.txt', 'r') as f:\n",
    "    for l in f:\n",
    "        if len(l.replace('\\n', '').strip()) > 0:\n",
    "            l2s.append(l.replace('\\n', '').strip())"
   ]
  },
  {
   "cell_type": "code",
   "execution_count": 207,
   "metadata": {},
   "outputs": [],
   "source": [
    "df_meta = pd.read_csv(\"Initial Attribute Definition for First Release - UPDATED SHEET .csv\")"
   ]
  },
  {
   "cell_type": "code",
   "execution_count": 208,
   "metadata": {},
   "outputs": [],
   "source": [
    "df_meta_25l2s = df_meta[df_meta.category.apply(lambda x: any([x.startswith(i) for i in l2s]))]"
   ]
  },
  {
   "cell_type": "code",
   "execution_count": 209,
   "metadata": {},
   "outputs": [
    {
     "data": {
      "text/plain": [
       "25"
      ]
     },
     "execution_count": 209,
     "metadata": {},
     "output_type": "execute_result"
    }
   ],
   "source": [
    "len(set(df_meta_25l2s.category.apply(lambda x: ' > '.join(x.split(' > ')[:2]))))"
   ]
  },
  {
   "cell_type": "code",
   "execution_count": 210,
   "metadata": {},
   "outputs": [
    {
     "name": "stderr",
     "output_type": "stream",
     "text": [
      "/tmp/ipykernel_13989/1116168472.py:1: SettingWithCopyWarning: \n",
      "A value is trying to be set on a copy of a slice from a DataFrame.\n",
      "Try using .loc[row_indexer,col_indexer] = value instead\n",
      "\n",
      "See the caveats in the documentation: https://pandas.pydata.org/pandas-docs/stable/user_guide/indexing.html#returning-a-view-versus-a-copy\n",
      "  df_meta_25l2s['L2'] = df_meta_25l2s.category.apply(lambda x: ' > '.join(x.split(' > ')[:2]))\n"
     ]
    }
   ],
   "source": [
    "df_meta_25l2s['L2'] = df_meta_25l2s.category.apply(lambda x: ' > '.join(x.split(' > ')[:2]))"
   ]
  },
  {
   "cell_type": "code",
   "execution_count": 211,
   "metadata": {},
   "outputs": [
    {
     "data": {
      "text/html": [
       "<div>\n",
       "<style scoped>\n",
       "    .dataframe tbody tr th:only-of-type {\n",
       "        vertical-align: middle;\n",
       "    }\n",
       "\n",
       "    .dataframe tbody tr th {\n",
       "        vertical-align: top;\n",
       "    }\n",
       "\n",
       "    .dataframe thead th {\n",
       "        text-align: right;\n",
       "    }\n",
       "</style>\n",
       "<table border=\"1\" class=\"dataframe\">\n",
       "  <thead>\n",
       "    <tr style=\"text-align: right;\">\n",
       "      <th></th>\n",
       "      <th>attribute_field</th>\n",
       "    </tr>\n",
       "    <tr>\n",
       "      <th>L2</th>\n",
       "      <th></th>\n",
       "    </tr>\n",
       "  </thead>\n",
       "  <tbody>\n",
       "    <tr>\n",
       "      <th>Cellphones &amp; Telecommunications &gt; Mobile Phone Accessories</th>\n",
       "      <td>38</td>\n",
       "    </tr>\n",
       "    <tr>\n",
       "      <th>Cellphones &amp; Telecommunications &gt; Phone Bags &amp; Cases</th>\n",
       "      <td>14</td>\n",
       "    </tr>\n",
       "    <tr>\n",
       "      <th>Consumer Electronics &gt; Earphones &amp; Headphones</th>\n",
       "      <td>25</td>\n",
       "    </tr>\n",
       "    <tr>\n",
       "      <th>Home &amp; Garden &gt; Arts, Crafts &amp; Sewing</th>\n",
       "      <td>43</td>\n",
       "    </tr>\n",
       "    <tr>\n",
       "      <th>Home &amp; Garden &gt; Festive &amp; Party Supplies</th>\n",
       "      <td>52</td>\n",
       "    </tr>\n",
       "    <tr>\n",
       "      <th>Home &amp; Garden &gt; Garden Supplies</th>\n",
       "      <td>41</td>\n",
       "    </tr>\n",
       "    <tr>\n",
       "      <th>Home &amp; Garden &gt; Home Decor</th>\n",
       "      <td>69</td>\n",
       "    </tr>\n",
       "    <tr>\n",
       "      <th>Home &amp; Garden &gt; Home Storage &amp; Organization</th>\n",
       "      <td>35</td>\n",
       "    </tr>\n",
       "    <tr>\n",
       "      <th>Home &amp; Garden &gt; Home Textile</th>\n",
       "      <td>51</td>\n",
       "    </tr>\n",
       "    <tr>\n",
       "      <th>Home &amp; Garden &gt; Household Merchandise</th>\n",
       "      <td>33</td>\n",
       "    </tr>\n",
       "    <tr>\n",
       "      <th>Home &amp; Garden &gt; Kitchen,Dining &amp; Bar</th>\n",
       "      <td>74</td>\n",
       "    </tr>\n",
       "    <tr>\n",
       "      <th>Home &amp; Garden &gt; Pet Products</th>\n",
       "      <td>72</td>\n",
       "    </tr>\n",
       "    <tr>\n",
       "      <th>Home Improvement &gt; Lights &amp; Lighting</th>\n",
       "      <td>54</td>\n",
       "    </tr>\n",
       "    <tr>\n",
       "      <th>Jewelry &amp; Accessories &gt; Fine Jewelry</th>\n",
       "      <td>23</td>\n",
       "    </tr>\n",
       "    <tr>\n",
       "      <th>Jewelry &amp; Accessories &gt; Necklaces &amp; Pendants</th>\n",
       "      <td>18</td>\n",
       "    </tr>\n",
       "    <tr>\n",
       "      <th>Jewelry &amp; Accessories &gt; Rings</th>\n",
       "      <td>19</td>\n",
       "    </tr>\n",
       "    <tr>\n",
       "      <th>Luggage &amp; Bags &gt; Men's Bags</th>\n",
       "      <td>17</td>\n",
       "    </tr>\n",
       "    <tr>\n",
       "      <th>Luggage &amp; Bags &gt; Women's Bags</th>\n",
       "      <td>17</td>\n",
       "    </tr>\n",
       "    <tr>\n",
       "      <th>Shoes &gt; Men's Shoes</th>\n",
       "      <td>17</td>\n",
       "    </tr>\n",
       "    <tr>\n",
       "      <th>Shoes &gt; Women's Shoes</th>\n",
       "      <td>19</td>\n",
       "    </tr>\n",
       "    <tr>\n",
       "      <th>Sports &gt; Camping &amp; Hiking</th>\n",
       "      <td>56</td>\n",
       "    </tr>\n",
       "    <tr>\n",
       "      <th>Sports &gt; Fishing</th>\n",
       "      <td>42</td>\n",
       "    </tr>\n",
       "    <tr>\n",
       "      <th>Sports &gt; Fitness &amp; Body Building</th>\n",
       "      <td>38</td>\n",
       "    </tr>\n",
       "    <tr>\n",
       "      <th>Sports &gt; Hunting</th>\n",
       "      <td>21</td>\n",
       "    </tr>\n",
       "    <tr>\n",
       "      <th>Sports &gt; Sneakers</th>\n",
       "      <td>25</td>\n",
       "    </tr>\n",
       "  </tbody>\n",
       "</table>\n",
       "</div>"
      ],
      "text/plain": [
       "                                                    attribute_field\n",
       "L2                                                                 \n",
       "Cellphones & Telecommunications > Mobile Phone ...               38\n",
       "Cellphones & Telecommunications > Phone Bags & ...               14\n",
       "Consumer Electronics > Earphones & Headphones                    25\n",
       "Home & Garden > Arts, Crafts & Sewing                            43\n",
       "Home & Garden > Festive & Party Supplies                         52\n",
       "Home & Garden > Garden Supplies                                  41\n",
       "Home & Garden > Home Decor                                       69\n",
       "Home & Garden > Home Storage & Organization                      35\n",
       "Home & Garden > Home Textile                                     51\n",
       "Home & Garden > Household Merchandise                            33\n",
       "Home & Garden > Kitchen,Dining & Bar                             74\n",
       "Home & Garden > Pet Products                                     72\n",
       "Home Improvement > Lights & Lighting                             54\n",
       "Jewelry & Accessories > Fine Jewelry                             23\n",
       "Jewelry & Accessories > Necklaces & Pendants                     18\n",
       "Jewelry & Accessories > Rings                                    19\n",
       "Luggage & Bags > Men's Bags                                      17\n",
       "Luggage & Bags > Women's Bags                                    17\n",
       "Shoes > Men's Shoes                                              17\n",
       "Shoes > Women's Shoes                                            19\n",
       "Sports > Camping & Hiking                                        56\n",
       "Sports > Fishing                                                 42\n",
       "Sports > Fitness & Body Building                                 38\n",
       "Sports > Hunting                                                 21\n",
       "Sports > Sneakers                                                25"
      ]
     },
     "execution_count": 211,
     "metadata": {},
     "output_type": "execute_result"
    }
   ],
   "source": [
    "df_meta_25l2s.groupby('L2').agg({\n",
    "    'attribute_field': lambda x: len(set([i for i in x]))\n",
    "})"
   ]
  },
  {
   "cell_type": "code",
   "execution_count": 212,
   "metadata": {},
   "outputs": [],
   "source": [
    "df_meta_25l2s_nofreetext = df_meta_25l2s[df_meta_25l2s['entry mode'] != 'free_text']"
   ]
  },
  {
   "cell_type": "code",
   "execution_count": 213,
   "metadata": {},
   "outputs": [
    {
     "data": {
      "text/html": [
       "<div>\n",
       "<style scoped>\n",
       "    .dataframe tbody tr th:only-of-type {\n",
       "        vertical-align: middle;\n",
       "    }\n",
       "\n",
       "    .dataframe tbody tr th {\n",
       "        vertical-align: top;\n",
       "    }\n",
       "\n",
       "    .dataframe thead th {\n",
       "        text-align: right;\n",
       "    }\n",
       "</style>\n",
       "<table border=\"1\" class=\"dataframe\">\n",
       "  <thead>\n",
       "    <tr style=\"text-align: right;\">\n",
       "      <th></th>\n",
       "      <th>attribute_field</th>\n",
       "    </tr>\n",
       "    <tr>\n",
       "      <th>L2</th>\n",
       "      <th></th>\n",
       "    </tr>\n",
       "  </thead>\n",
       "  <tbody>\n",
       "    <tr>\n",
       "      <th>Cellphones &amp; Telecommunications &gt; Mobile Phone Accessories</th>\n",
       "      <td>32</td>\n",
       "    </tr>\n",
       "    <tr>\n",
       "      <th>Cellphones &amp; Telecommunications &gt; Phone Bags &amp; Cases</th>\n",
       "      <td>13</td>\n",
       "    </tr>\n",
       "    <tr>\n",
       "      <th>Consumer Electronics &gt; Earphones &amp; Headphones</th>\n",
       "      <td>24</td>\n",
       "    </tr>\n",
       "    <tr>\n",
       "      <th>Home &amp; Garden &gt; Arts, Crafts &amp; Sewing</th>\n",
       "      <td>24</td>\n",
       "    </tr>\n",
       "    <tr>\n",
       "      <th>Home &amp; Garden &gt; Festive &amp; Party Supplies</th>\n",
       "      <td>40</td>\n",
       "    </tr>\n",
       "    <tr>\n",
       "      <th>Home &amp; Garden &gt; Garden Supplies</th>\n",
       "      <td>25</td>\n",
       "    </tr>\n",
       "    <tr>\n",
       "      <th>Home &amp; Garden &gt; Home Decor</th>\n",
       "      <td>52</td>\n",
       "    </tr>\n",
       "    <tr>\n",
       "      <th>Home &amp; Garden &gt; Home Storage &amp; Organization</th>\n",
       "      <td>15</td>\n",
       "    </tr>\n",
       "    <tr>\n",
       "      <th>Home &amp; Garden &gt; Home Textile</th>\n",
       "      <td>37</td>\n",
       "    </tr>\n",
       "    <tr>\n",
       "      <th>Home &amp; Garden &gt; Household Merchandise</th>\n",
       "      <td>21</td>\n",
       "    </tr>\n",
       "    <tr>\n",
       "      <th>Home &amp; Garden &gt; Kitchen,Dining &amp; Bar</th>\n",
       "      <td>46</td>\n",
       "    </tr>\n",
       "    <tr>\n",
       "      <th>Home &amp; Garden &gt; Pet Products</th>\n",
       "      <td>42</td>\n",
       "    </tr>\n",
       "    <tr>\n",
       "      <th>Home Improvement &gt; Lights &amp; Lighting</th>\n",
       "      <td>37</td>\n",
       "    </tr>\n",
       "    <tr>\n",
       "      <th>Jewelry &amp; Accessories &gt; Fine Jewelry</th>\n",
       "      <td>13</td>\n",
       "    </tr>\n",
       "    <tr>\n",
       "      <th>Jewelry &amp; Accessories &gt; Necklaces &amp; Pendants</th>\n",
       "      <td>13</td>\n",
       "    </tr>\n",
       "    <tr>\n",
       "      <th>Jewelry &amp; Accessories &gt; Rings</th>\n",
       "      <td>13</td>\n",
       "    </tr>\n",
       "    <tr>\n",
       "      <th>Luggage &amp; Bags &gt; Men's Bags</th>\n",
       "      <td>10</td>\n",
       "    </tr>\n",
       "    <tr>\n",
       "      <th>Luggage &amp; Bags &gt; Women's Bags</th>\n",
       "      <td>10</td>\n",
       "    </tr>\n",
       "    <tr>\n",
       "      <th>Shoes &gt; Men's Shoes</th>\n",
       "      <td>15</td>\n",
       "    </tr>\n",
       "    <tr>\n",
       "      <th>Shoes &gt; Women's Shoes</th>\n",
       "      <td>15</td>\n",
       "    </tr>\n",
       "    <tr>\n",
       "      <th>Sports &gt; Camping &amp; Hiking</th>\n",
       "      <td>43</td>\n",
       "    </tr>\n",
       "    <tr>\n",
       "      <th>Sports &gt; Fishing</th>\n",
       "      <td>32</td>\n",
       "    </tr>\n",
       "    <tr>\n",
       "      <th>Sports &gt; Fitness &amp; Body Building</th>\n",
       "      <td>34</td>\n",
       "    </tr>\n",
       "    <tr>\n",
       "      <th>Sports &gt; Hunting</th>\n",
       "      <td>17</td>\n",
       "    </tr>\n",
       "    <tr>\n",
       "      <th>Sports &gt; Sneakers</th>\n",
       "      <td>20</td>\n",
       "    </tr>\n",
       "  </tbody>\n",
       "</table>\n",
       "</div>"
      ],
      "text/plain": [
       "                                                    attribute_field\n",
       "L2                                                                 \n",
       "Cellphones & Telecommunications > Mobile Phone ...               32\n",
       "Cellphones & Telecommunications > Phone Bags & ...               13\n",
       "Consumer Electronics > Earphones & Headphones                    24\n",
       "Home & Garden > Arts, Crafts & Sewing                            24\n",
       "Home & Garden > Festive & Party Supplies                         40\n",
       "Home & Garden > Garden Supplies                                  25\n",
       "Home & Garden > Home Decor                                       52\n",
       "Home & Garden > Home Storage & Organization                      15\n",
       "Home & Garden > Home Textile                                     37\n",
       "Home & Garden > Household Merchandise                            21\n",
       "Home & Garden > Kitchen,Dining & Bar                             46\n",
       "Home & Garden > Pet Products                                     42\n",
       "Home Improvement > Lights & Lighting                             37\n",
       "Jewelry & Accessories > Fine Jewelry                             13\n",
       "Jewelry & Accessories > Necklaces & Pendants                     13\n",
       "Jewelry & Accessories > Rings                                    13\n",
       "Luggage & Bags > Men's Bags                                      10\n",
       "Luggage & Bags > Women's Bags                                    10\n",
       "Shoes > Men's Shoes                                              15\n",
       "Shoes > Women's Shoes                                            15\n",
       "Sports > Camping & Hiking                                        43\n",
       "Sports > Fishing                                                 32\n",
       "Sports > Fitness & Body Building                                 34\n",
       "Sports > Hunting                                                 17\n",
       "Sports > Sneakers                                                20"
      ]
     },
     "execution_count": 213,
     "metadata": {},
     "output_type": "execute_result"
    }
   ],
   "source": [
    "df_meta_25l2s_nofreetext.groupby('L2').agg({\n",
    "    'attribute_field': lambda x: len(set([i for i in x]))\n",
    "})"
   ]
  },
  {
   "cell_type": "code",
   "execution_count": 214,
   "metadata": {},
   "outputs": [],
   "source": [
    "df_query = pd.read_csv('../query_attr_extract_label/allstratified_sample_4806_query.csv')\n",
    "df_product = pd.read_csv('../wish_attr_extract_label/sdt887_product_attribution_data_one_listing_per_leaf_node__20230111.csv')"
   ]
  },
  {
   "cell_type": "code",
   "execution_count": 215,
   "metadata": {},
   "outputs": [],
   "source": [
    "meta_dict = {}\n",
    "for i in set(df_meta.category):\n",
    "    meta_dict[i] = df_meta[(df_meta.category == i) & (df_meta['entry mode'] != 'free_text')].sort_values(\n",
    "        \"attribute_field\"\n",
    "    ).to_dict('records')"
   ]
  },
  {
   "attachments": {},
   "cell_type": "markdown",
   "metadata": {},
   "source": [
    "# product"
   ]
  },
  {
   "cell_type": "code",
   "execution_count": 216,
   "metadata": {},
   "outputs": [
    {
     "name": "stderr",
     "output_type": "stream",
     "text": [
      "100%|██████████| 5033/5033 [00:00<00:00, 7531.98it/s]\n"
     ]
    }
   ],
   "source": [
    "recs = []\n",
    "for i in tqdm(df_product.to_dict('records')):\n",
    "    if i['category_path'] in meta_dict:\n",
    "        for j in meta_dict[i['category_path']]:\n",
    "            rec = sortOD({\n",
    "                \"category_path\": i['category_path'],\n",
    "                \"product_id\": i['product_id'],\n",
    "                \"title\": i['title'],\n",
    "                \"product_description\": i['product_description'],\n",
    "                \"main_image_url\": i['main_image_url'],\n",
    "                \"attribute_field\": j['attribute_field'],\n",
    "                \"attribute_value\": j['category_attributevalue'],\n",
    "                \"entry_mode\": j['entry mode'],\n",
    "                \"max_multi_select\": str(j['max_multi_select']),\n",
    "                \"attribute_description\": j['description']\n",
    "            })\n",
    "            task_json = json.dumps(rec).encode('utf-8')\n",
    "            task_hash = hashlib.md5(task_json).hexdigest()\n",
    "            task_id = f\"product_attribution_{task_hash}\"\n",
    "            rec['task_id'] = task_id\n",
    "            recs.append(rec)"
   ]
  },
  {
   "cell_type": "code",
   "execution_count": 217,
   "metadata": {},
   "outputs": [],
   "source": [
    "tmp_df = pd.DataFrame(recs)"
   ]
  },
  {
   "cell_type": "code",
   "execution_count": 218,
   "metadata": {},
   "outputs": [],
   "source": [
    "assert len(tmp_df) == len(set(tmp_df.task_id))"
   ]
  },
  {
   "cell_type": "code",
   "execution_count": 219,
   "metadata": {},
   "outputs": [
    {
     "data": {
      "text/plain": [
       "0.37711106695807667"
      ]
     },
     "execution_count": 219,
     "metadata": {},
     "output_type": "execute_result"
    }
   ],
   "source": [
    "len(set(tmp_df['product_id'])) / len(df_product)"
   ]
  },
  {
   "cell_type": "code",
   "execution_count": 220,
   "metadata": {},
   "outputs": [
    {
     "data": {
      "text/plain": [
       "8.133298208640674"
      ]
     },
     "execution_count": 220,
     "metadata": {},
     "output_type": "execute_result"
    }
   ],
   "source": [
    "len(tmp_df) / len(set(tmp_df['product_id']))"
   ]
  },
  {
   "cell_type": "code",
   "execution_count": 221,
   "metadata": {},
   "outputs": [
    {
     "name": "stderr",
     "output_type": "stream",
     "text": [
      "100%|██████████| 15437/15437 [00:01<00:00, 9128.72it/s]\n"
     ]
    }
   ],
   "source": [
    "\n",
    "attr_val_set_to_cell_range = {}\n",
    "\n",
    "workbook = xlsxwriter.Workbook('../wish_attr_extract_label/offshore_excel/sdt887_product_attribution_data_one_listing_per_leaf_node__20230111_25l2subset_offshoreexcel_20230119.xlsx')\n",
    "worksheet = workbook.add_worksheet('attribute_val')\n",
    "worksheet2 = workbook.add_worksheet('attribute_definition')\n",
    "\n",
    "r = 0\n",
    "for i in set(tmp_df['attribute_value']):\n",
    "    c = 0\n",
    "    start_cell = xl_rowcol_to_cell(r, c, row_abs=True, col_abs=True)\n",
    "    end_cell = xl_rowcol_to_cell(r, c, row_abs=True, col_abs=True)\n",
    "    for j in eval(i):\n",
    "        worksheet2.write(r, c, j)\n",
    "        end_cell = xl_rowcol_to_cell(r, c, row_abs=True, col_abs=True)\n",
    "        c += 1\n",
    "    attr_val_set_to_cell_range[i] = (start_cell, end_cell)\n",
    "    r += 1\n",
    "\n",
    "\n",
    "cols = ['task_id', 'title', 'product_description', 'main_image_url', \n",
    "    'max_multi_select', 'entry_mode', 'attribute_field', 'attribute_value']\n",
    "\n",
    "r = 0\n",
    "for c in range(len(cols)):\n",
    "    worksheet.write(r, c, cols[c])\n",
    "\n",
    "r += 1\n",
    "for i in tqdm(tmp_df.to_dict('records')):\n",
    "    for c in range(len(cols)):\n",
    "        if cols[c] != 'attribute_value':\n",
    "            worksheet.write(r, c, i[cols[c]])\n",
    "        else:\n",
    "            start_cell, end_cell = attr_val_set_to_cell_range[i[cols[c]]]\n",
    "            worksheet.data_validation(r, c, r, c, {\n",
    "                'validate': 'list',\n",
    "                'source': f'=attribute_definition!{start_cell}:{end_cell}',\n",
    "                'input_message': i['attribute_description']\n",
    "            })\n",
    "    r += 1\n",
    "workbook.close()"
   ]
  },
  {
   "attachments": {},
   "cell_type": "markdown",
   "metadata": {},
   "source": [
    "# query"
   ]
  },
  {
   "cell_type": "code",
   "execution_count": 222,
   "metadata": {},
   "outputs": [
    {
     "data": {
      "text/html": [
       "<div>\n",
       "<style scoped>\n",
       "    .dataframe tbody tr th:only-of-type {\n",
       "        vertical-align: middle;\n",
       "    }\n",
       "\n",
       "    .dataframe tbody tr th {\n",
       "        vertical-align: top;\n",
       "    }\n",
       "\n",
       "    .dataframe thead th {\n",
       "        text-align: right;\n",
       "    }\n",
       "</style>\n",
       "<table border=\"1\" class=\"dataframe\">\n",
       "  <thead>\n",
       "    <tr style=\"text-align: right;\">\n",
       "      <th></th>\n",
       "      <th>label_ordering</th>\n",
       "      <th>query</th>\n",
       "      <th>sample_method</th>\n",
       "      <th>top_query_classification_taxonomy</th>\n",
       "    </tr>\n",
       "  </thead>\n",
       "  <tbody>\n",
       "    <tr>\n",
       "      <th>0</th>\n",
       "      <td>2308</td>\n",
       "      <td>hyundai elantra accessories</td>\n",
       "      <td>head</td>\n",
       "      <td>Automobiles &amp; Motorcycles &gt; Car Electronics &gt; ...</td>\n",
       "    </tr>\n",
       "    <tr>\n",
       "      <th>1</th>\n",
       "      <td>2310</td>\n",
       "      <td>peine para perros</td>\n",
       "      <td>head</td>\n",
       "      <td>Home &amp; Garden &gt; Pet Products &gt; Dog Grooming &gt; ...</td>\n",
       "    </tr>\n",
       "    <tr>\n",
       "      <th>2</th>\n",
       "      <td>2316</td>\n",
       "      <td>mens boots clearance</td>\n",
       "      <td>head</td>\n",
       "      <td>Shoes &gt; Men's Shoes &gt; Men's Boots &gt; Basic Boots</td>\n",
       "    </tr>\n",
       "    <tr>\n",
       "      <th>3</th>\n",
       "      <td>2318</td>\n",
       "      <td>garbage pail kids</td>\n",
       "      <td>head</td>\n",
       "      <td>Toys &amp; Hobbies &gt; Puzzles &amp; Games &gt; Games &gt; Car...</td>\n",
       "    </tr>\n",
       "    <tr>\n",
       "      <th>4</th>\n",
       "      <td>2320</td>\n",
       "      <td>luces de piscina</td>\n",
       "      <td>uniform</td>\n",
       "      <td>Home Improvement &gt; Lights &amp; Lighting &gt; Outdoor...</td>\n",
       "    </tr>\n",
       "    <tr>\n",
       "      <th>...</th>\n",
       "      <td>...</td>\n",
       "      <td>...</td>\n",
       "      <td>...</td>\n",
       "      <td>...</td>\n",
       "    </tr>\n",
       "    <tr>\n",
       "      <th>4801</th>\n",
       "      <td>99925</td>\n",
       "      <td>spray gun paint</td>\n",
       "      <td>head</td>\n",
       "      <td>Home Improvement &gt; Painting Supplies &amp; Wall Tr...</td>\n",
       "    </tr>\n",
       "    <tr>\n",
       "      <th>4802</th>\n",
       "      <td>99947</td>\n",
       "      <td>kurta set for women</td>\n",
       "      <td>head</td>\n",
       "      <td>Novelty &amp; Special Use &gt; Traditional &amp; Cultural...</td>\n",
       "    </tr>\n",
       "    <tr>\n",
       "      <th>4803</th>\n",
       "      <td>99964</td>\n",
       "      <td>strap on harnesses</td>\n",
       "      <td>head</td>\n",
       "      <td>Mother &amp; Kids &gt; Activity &amp; Gear &gt; Harnesses &amp; ...</td>\n",
       "    </tr>\n",
       "    <tr>\n",
       "      <th>4804</th>\n",
       "      <td>99972</td>\n",
       "      <td>coleira para gato</td>\n",
       "      <td>head</td>\n",
       "      <td>Home &amp; Garden &gt; Pet Products &gt; Cat Supplies &gt; ...</td>\n",
       "    </tr>\n",
       "    <tr>\n",
       "      <th>4805</th>\n",
       "      <td>99992</td>\n",
       "      <td>kites for kids</td>\n",
       "      <td>head</td>\n",
       "      <td>Toys &amp; Hobbies &gt; Outdoor Fun &amp; Sports &gt; Kites ...</td>\n",
       "    </tr>\n",
       "  </tbody>\n",
       "</table>\n",
       "<p>4806 rows × 4 columns</p>\n",
       "</div>"
      ],
      "text/plain": [
       "      label_ordering                        query sample_method  \\\n",
       "0               2308  hyundai elantra accessories          head   \n",
       "1               2310            peine para perros          head   \n",
       "2               2316         mens boots clearance          head   \n",
       "3               2318            garbage pail kids          head   \n",
       "4               2320             luces de piscina       uniform   \n",
       "...              ...                          ...           ...   \n",
       "4801           99925              spray gun paint          head   \n",
       "4802           99947          kurta set for women          head   \n",
       "4803           99964           strap on harnesses          head   \n",
       "4804           99972            coleira para gato          head   \n",
       "4805           99992               kites for kids          head   \n",
       "\n",
       "                      top_query_classification_taxonomy  \n",
       "0     Automobiles & Motorcycles > Car Electronics > ...  \n",
       "1     Home & Garden > Pet Products > Dog Grooming > ...  \n",
       "2       Shoes > Men's Shoes > Men's Boots > Basic Boots  \n",
       "3     Toys & Hobbies > Puzzles & Games > Games > Car...  \n",
       "4     Home Improvement > Lights & Lighting > Outdoor...  \n",
       "...                                                 ...  \n",
       "4801  Home Improvement > Painting Supplies & Wall Tr...  \n",
       "4802  Novelty & Special Use > Traditional & Cultural...  \n",
       "4803  Mother & Kids > Activity & Gear > Harnesses & ...  \n",
       "4804  Home & Garden > Pet Products > Cat Supplies > ...  \n",
       "4805  Toys & Hobbies > Outdoor Fun & Sports > Kites ...  \n",
       "\n",
       "[4806 rows x 4 columns]"
      ]
     },
     "execution_count": 222,
     "metadata": {},
     "output_type": "execute_result"
    }
   ],
   "source": [
    "df_query"
   ]
  },
  {
   "cell_type": "code",
   "execution_count": 223,
   "metadata": {},
   "outputs": [
    {
     "name": "stderr",
     "output_type": "stream",
     "text": [
      "100%|██████████| 4806/4806 [00:17<00:00, 268.06it/s]\n"
     ]
    }
   ],
   "source": [
    "recs = []\n",
    "for i in tqdm(df_query.to_dict('records')):\n",
    "    path_i_tup = tuple(i['top_query_classification_taxonomy'].split(' > '))\n",
    "    for path in meta_dict:\n",
    "        if tuple(path.split(' > '))[:len(path_i_tup)] == path_i_tup:\n",
    "            for j in meta_dict[path]:\n",
    "                rec = sortOD({\n",
    "                    \"category_path\": i['top_query_classification_taxonomy'],\n",
    "                    \"query\": i['query'],\n",
    "                    \"attribute_field\": j['attribute_field'],\n",
    "                    \"attribute_value\": j['category_attributevalue'],\n",
    "                    \"entry_mode\": j['entry mode'],\n",
    "                    \"max_multi_select\": str(j['max_multi_select']),\n",
    "                    \"attribute_description\": j['description']\n",
    "                })\n",
    "                task_json = json.dumps(rec).encode('utf-8')\n",
    "                task_hash = hashlib.md5(task_json).hexdigest()\n",
    "                task_id = f\"product_attribution_{task_hash}\"\n",
    "                rec['task_id'] = task_id\n",
    "                recs.append(rec)"
   ]
  },
  {
   "cell_type": "code",
   "execution_count": 224,
   "metadata": {},
   "outputs": [],
   "source": [
    "tmp_df = pd.DataFrame(recs)"
   ]
  },
  {
   "cell_type": "code",
   "execution_count": 225,
   "metadata": {},
   "outputs": [],
   "source": [
    "tmp_df = tmp_df.drop_duplicates('task_id')"
   ]
  },
  {
   "cell_type": "code",
   "execution_count": 226,
   "metadata": {},
   "outputs": [
    {
     "data": {
      "text/plain": [
       "0.5740740740740741"
      ]
     },
     "execution_count": 226,
     "metadata": {},
     "output_type": "execute_result"
    }
   ],
   "source": [
    "len(set(tmp_df['query'])) / len(df_query)"
   ]
  },
  {
   "cell_type": "code",
   "execution_count": 227,
   "metadata": {},
   "outputs": [
    {
     "data": {
      "text/plain": [
       "11.439289597680318"
      ]
     },
     "execution_count": 227,
     "metadata": {},
     "output_type": "execute_result"
    }
   ],
   "source": [
    "len(tmp_df) / len(set(tmp_df['query']))"
   ]
  },
  {
   "cell_type": "code",
   "execution_count": 228,
   "metadata": {},
   "outputs": [
    {
     "name": "stderr",
     "output_type": "stream",
     "text": [
      "100%|██████████| 31561/31561 [00:02<00:00, 13919.07it/s]\n"
     ]
    }
   ],
   "source": [
    "\n",
    "attr_val_set_to_cell_range = {}\n",
    "\n",
    "workbook = xlsxwriter.Workbook('../query_attr_extract_label/offshore_excel/allstratified_sample_4806_query_25l2subset_offshoreexcel_20230119.xlsx')\n",
    "worksheet = workbook.add_worksheet('attribute_val')\n",
    "worksheet2 = workbook.add_worksheet('attribute_definition')\n",
    "\n",
    "r = 0\n",
    "for i in set(tmp_df['attribute_value']):\n",
    "    c = 0\n",
    "    start_cell = xl_rowcol_to_cell(r, c, row_abs=True, col_abs=True)\n",
    "    end_cell = xl_rowcol_to_cell(r, c, row_abs=True, col_abs=True)\n",
    "    for j in eval(i):\n",
    "        worksheet2.write(r, c, j)\n",
    "        end_cell = xl_rowcol_to_cell(r, c, row_abs=True, col_abs=True)\n",
    "        c += 1\n",
    "    attr_val_set_to_cell_range[i] = (start_cell, end_cell)\n",
    "    r += 1\n",
    "\n",
    "cols = ['task_id', 'query', \n",
    "    'max_multi_select', 'entry_mode', 'attribute_field', 'attribute_value']\n",
    "\n",
    "r = 0\n",
    "for c in range(len(cols)):\n",
    "    worksheet.write(r, c, cols[c])\n",
    "\n",
    "r += 1\n",
    "for i in tqdm(tmp_df.to_dict('records')):\n",
    "    for c in range(len(cols)):\n",
    "        if cols[c] != 'attribute_value':\n",
    "            worksheet.write(r, c, i[cols[c]])\n",
    "        else:\n",
    "            start_cell, end_cell = attr_val_set_to_cell_range[i[cols[c]]]\n",
    "            worksheet.data_validation(r, c, r, c, {\n",
    "                'validate': 'list',\n",
    "                'source': f'=attribute_definition!{start_cell}:{end_cell}',\n",
    "                'input_message': i['attribute_description']\n",
    "            })\n",
    "    r += 1\n",
    "workbook.close()"
   ]
  },
  {
   "cell_type": "code",
   "execution_count": null,
   "metadata": {},
   "outputs": [],
   "source": []
  }
 ],
 "metadata": {
  "kernelspec": {
   "display_name": "Python 3",
   "language": "python",
   "name": "python3"
  },
  "language_info": {
   "codemirror_mode": {
    "name": "ipython",
    "version": 3
   },
   "file_extension": ".py",
   "mimetype": "text/x-python",
   "name": "python",
   "nbconvert_exporter": "python",
   "pygments_lexer": "ipython3",
   "version": "3.8.13"
  },
  "orig_nbformat": 4,
  "vscode": {
   "interpreter": {
    "hash": "949777d72b0d2535278d3dc13498b2535136f6dfe0678499012e853ee9abcab1"
   }
  }
 },
 "nbformat": 4,
 "nbformat_minor": 2
}
