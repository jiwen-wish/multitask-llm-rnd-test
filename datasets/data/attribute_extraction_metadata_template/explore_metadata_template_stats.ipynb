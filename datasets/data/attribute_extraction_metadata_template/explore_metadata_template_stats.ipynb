{
 "cells": [
  {
   "cell_type": "code",
   "execution_count": 1,
   "metadata": {},
   "outputs": [],
   "source": [
    "import pandas as pd"
   ]
  },
  {
   "cell_type": "code",
   "execution_count": 20,
   "metadata": {},
   "outputs": [],
   "source": [
    "df_sub = pd.read_csv('attribute_definition_top25L2_filtered_augmented_01162023.csv')"
   ]
  },
  {
   "cell_type": "code",
   "execution_count": 21,
   "metadata": {},
   "outputs": [
    {
     "data": {
      "text/html": [
       "<div>\n",
       "<style scoped>\n",
       "    .dataframe tbody tr th:only-of-type {\n",
       "        vertical-align: middle;\n",
       "    }\n",
       "\n",
       "    .dataframe tbody tr th {\n",
       "        vertical-align: top;\n",
       "    }\n",
       "\n",
       "    .dataframe thead th {\n",
       "        text-align: right;\n",
       "    }\n",
       "</style>\n",
       "<table border=\"1\" class=\"dataframe\">\n",
       "  <thead>\n",
       "    <tr style=\"text-align: right;\">\n",
       "      <th></th>\n",
       "      <th>category</th>\n",
       "      <th>attribute_field</th>\n",
       "      <th>category_attributevalue</th>\n",
       "      <th>description</th>\n",
       "      <th>augment</th>\n",
       "      <th>usage</th>\n",
       "      <th>L2</th>\n",
       "    </tr>\n",
       "  </thead>\n",
       "  <tbody>\n",
       "    <tr>\n",
       "      <th>0</th>\n",
       "      <td>Cellphones &amp; Telecommunications &gt; Mobile Phone...</td>\n",
       "      <td>Alpha Size</td>\n",
       "      <td>['10XL', '2XL', '2XS', '3XL', '4XL', '5XL', '6...</td>\n",
       "      <td>Specification of item size on an alpha-numeric...</td>\n",
       "      <td>False</td>\n",
       "      <td>required</td>\n",
       "      <td>Cellphones &amp; Telecommunications &gt; Mobile Phone...</td>\n",
       "    </tr>\n",
       "    <tr>\n",
       "      <th>1</th>\n",
       "      <td>Cellphones &amp; Telecommunications &gt; Mobile Phone...</td>\n",
       "      <td>Body Closure</td>\n",
       "      <td>['Adjustable', 'Backstrap', 'Belted', 'Buckle'...</td>\n",
       "      <td>Specification of how item is secured around th...</td>\n",
       "      <td>False</td>\n",
       "      <td>recommended</td>\n",
       "      <td>Cellphones &amp; Telecommunications &gt; Mobile Phone...</td>\n",
       "    </tr>\n",
       "    <tr>\n",
       "      <th>2</th>\n",
       "      <td>Cellphones &amp; Telecommunications &gt; Mobile Phone...</td>\n",
       "      <td>Brand</td>\n",
       "      <td>['Acer', 'Agent 18', 'Amzer', 'Arkon', 'Belkin...</td>\n",
       "      <td>Specifies the brand or developer of the item. ...</td>\n",
       "      <td>False</td>\n",
       "      <td>optional</td>\n",
       "      <td>Cellphones &amp; Telecommunications &gt; Mobile Phone...</td>\n",
       "    </tr>\n",
       "    <tr>\n",
       "      <th>3</th>\n",
       "      <td>Cellphones &amp; Telecommunications &gt; Mobile Phone...</td>\n",
       "      <td>Certifications</td>\n",
       "      <td>['Bluetooth', 'DVI', 'Dark Sky', 'DisplayPort'...</td>\n",
       "      <td>Specifies all relevant certifications met for ...</td>\n",
       "      <td>False</td>\n",
       "      <td>optional</td>\n",
       "      <td>Cellphones &amp; Telecommunications &gt; Mobile Phone...</td>\n",
       "    </tr>\n",
       "    <tr>\n",
       "      <th>4</th>\n",
       "      <td>Cellphones &amp; Telecommunications &gt; Mobile Phone...</td>\n",
       "      <td>Item Condition</td>\n",
       "      <td>['As-Is/For Parts', 'New', 'Refurbished - Acce...</td>\n",
       "      <td>Specifies the condition of the item based on s...</td>\n",
       "      <td>False</td>\n",
       "      <td>required</td>\n",
       "      <td>Cellphones &amp; Telecommunications &gt; Mobile Phone...</td>\n",
       "    </tr>\n",
       "    <tr>\n",
       "      <th>...</th>\n",
       "      <td>...</td>\n",
       "      <td>...</td>\n",
       "      <td>...</td>\n",
       "      <td>...</td>\n",
       "      <td>...</td>\n",
       "      <td>...</td>\n",
       "      <td>...</td>\n",
       "    </tr>\n",
       "    <tr>\n",
       "      <th>12389</th>\n",
       "      <td>Sports &gt; Sneakers &gt; Wrestling Shoes</td>\n",
       "      <td>Size</td>\n",
       "      <td>['0', '0 Months', '0.5', '1', '1.5', '10', '10...</td>\n",
       "      <td>Specifies the item size. Entered values that a...</td>\n",
       "      <td>False</td>\n",
       "      <td>recommended</td>\n",
       "      <td>Sports &gt; Sneakers</td>\n",
       "    </tr>\n",
       "    <tr>\n",
       "      <th>12390</th>\n",
       "      <td>Sports &gt; Sneakers &gt; Wrestling Shoes</td>\n",
       "      <td>Sport or Activity Type</td>\n",
       "      <td>['Airsoft', 'Alpine Skiing', 'Archery', 'Auto ...</td>\n",
       "      <td>Specifies the name of the sport or activity th...</td>\n",
       "      <td>False</td>\n",
       "      <td>recommended</td>\n",
       "      <td>Sports &gt; Sneakers</td>\n",
       "    </tr>\n",
       "    <tr>\n",
       "      <th>12391</th>\n",
       "      <td>Sports &gt; Sneakers &gt; Wrestling Shoes</td>\n",
       "      <td>Strap Type</td>\n",
       "      <td>['Adjustable Strap', 'Ankle Strap', 'Ankle Wra...</td>\n",
       "      <td>Specifies the best desrcibe of the item strap....</td>\n",
       "      <td>False</td>\n",
       "      <td>recommended</td>\n",
       "      <td>Sports &gt; Sneakers</td>\n",
       "    </tr>\n",
       "    <tr>\n",
       "      <th>12392</th>\n",
       "      <td>Sports &gt; Sneakers &gt; Wrestling Shoes</td>\n",
       "      <td>Styles</td>\n",
       "      <td>['Almond Toe', 'Aluminum Toe', 'Bicycle Toe', ...</td>\n",
       "      <td>Specifies the general style of the item. Enter...</td>\n",
       "      <td>False</td>\n",
       "      <td>recommended</td>\n",
       "      <td>Sports &gt; Sneakers</td>\n",
       "    </tr>\n",
       "    <tr>\n",
       "      <th>12393</th>\n",
       "      <td>Sports &gt; Sneakers &gt; Wrestling Shoes</td>\n",
       "      <td>Water Resistance Level</td>\n",
       "      <td>['Not Water-Resistant', 'Water-Resistant', 'Wa...</td>\n",
       "      <td>Specifies if the item is Waterproof, Water-Res...</td>\n",
       "      <td>False</td>\n",
       "      <td>optional</td>\n",
       "      <td>Sports &gt; Sneakers</td>\n",
       "    </tr>\n",
       "  </tbody>\n",
       "</table>\n",
       "<p>12394 rows × 7 columns</p>\n",
       "</div>"
      ],
      "text/plain": [
       "                                                category  \\\n",
       "0      Cellphones & Telecommunications > Mobile Phone...   \n",
       "1      Cellphones & Telecommunications > Mobile Phone...   \n",
       "2      Cellphones & Telecommunications > Mobile Phone...   \n",
       "3      Cellphones & Telecommunications > Mobile Phone...   \n",
       "4      Cellphones & Telecommunications > Mobile Phone...   \n",
       "...                                                  ...   \n",
       "12389                Sports > Sneakers > Wrestling Shoes   \n",
       "12390                Sports > Sneakers > Wrestling Shoes   \n",
       "12391                Sports > Sneakers > Wrestling Shoes   \n",
       "12392                Sports > Sneakers > Wrestling Shoes   \n",
       "12393                Sports > Sneakers > Wrestling Shoes   \n",
       "\n",
       "              attribute_field  \\\n",
       "0                  Alpha Size   \n",
       "1                Body Closure   \n",
       "2                       Brand   \n",
       "3              Certifications   \n",
       "4              Item Condition   \n",
       "...                       ...   \n",
       "12389                    Size   \n",
       "12390  Sport or Activity Type   \n",
       "12391              Strap Type   \n",
       "12392                  Styles   \n",
       "12393  Water Resistance Level   \n",
       "\n",
       "                                 category_attributevalue  \\\n",
       "0      ['10XL', '2XL', '2XS', '3XL', '4XL', '5XL', '6...   \n",
       "1      ['Adjustable', 'Backstrap', 'Belted', 'Buckle'...   \n",
       "2      ['Acer', 'Agent 18', 'Amzer', 'Arkon', 'Belkin...   \n",
       "3      ['Bluetooth', 'DVI', 'Dark Sky', 'DisplayPort'...   \n",
       "4      ['As-Is/For Parts', 'New', 'Refurbished - Acce...   \n",
       "...                                                  ...   \n",
       "12389  ['0', '0 Months', '0.5', '1', '1.5', '10', '10...   \n",
       "12390  ['Airsoft', 'Alpine Skiing', 'Archery', 'Auto ...   \n",
       "12391  ['Adjustable Strap', 'Ankle Strap', 'Ankle Wra...   \n",
       "12392  ['Almond Toe', 'Aluminum Toe', 'Bicycle Toe', ...   \n",
       "12393  ['Not Water-Resistant', 'Water-Resistant', 'Wa...   \n",
       "\n",
       "                                             description  augment  \\\n",
       "0      Specification of item size on an alpha-numeric...    False   \n",
       "1      Specification of how item is secured around th...    False   \n",
       "2      Specifies the brand or developer of the item. ...    False   \n",
       "3      Specifies all relevant certifications met for ...    False   \n",
       "4      Specifies the condition of the item based on s...    False   \n",
       "...                                                  ...      ...   \n",
       "12389  Specifies the item size. Entered values that a...    False   \n",
       "12390  Specifies the name of the sport or activity th...    False   \n",
       "12391  Specifies the best desrcibe of the item strap....    False   \n",
       "12392  Specifies the general style of the item. Enter...    False   \n",
       "12393  Specifies if the item is Waterproof, Water-Res...    False   \n",
       "\n",
       "             usage                                                 L2  \n",
       "0         required  Cellphones & Telecommunications > Mobile Phone...  \n",
       "1      recommended  Cellphones & Telecommunications > Mobile Phone...  \n",
       "2         optional  Cellphones & Telecommunications > Mobile Phone...  \n",
       "3         optional  Cellphones & Telecommunications > Mobile Phone...  \n",
       "4         required  Cellphones & Telecommunications > Mobile Phone...  \n",
       "...            ...                                                ...  \n",
       "12389  recommended                                  Sports > Sneakers  \n",
       "12390  recommended                                  Sports > Sneakers  \n",
       "12391  recommended                                  Sports > Sneakers  \n",
       "12392  recommended                                  Sports > Sneakers  \n",
       "12393     optional                                  Sports > Sneakers  \n",
       "\n",
       "[12394 rows x 7 columns]"
      ]
     },
     "execution_count": 21,
     "metadata": {},
     "output_type": "execute_result"
    }
   ],
   "source": [
    "df_sub"
   ]
  },
  {
   "cell_type": "code",
   "execution_count": 2,
   "metadata": {},
   "outputs": [],
   "source": [
    "df = pd.read_csv('Initial Attribute Definition for First Release - UPDATED SHEET .csv')"
   ]
  },
  {
   "cell_type": "code",
   "execution_count": 7,
   "metadata": {},
   "outputs": [
    {
     "data": {
      "text/plain": [
       "31305"
      ]
     },
     "execution_count": 7,
     "metadata": {},
     "output_type": "execute_result"
    }
   ],
   "source": [
    "len(df)"
   ]
  },
  {
   "cell_type": "code",
   "execution_count": 5,
   "metadata": {},
   "outputs": [
    {
     "data": {
      "text/plain": [
       "653"
      ]
     },
     "execution_count": 5,
     "metadata": {},
     "output_type": "execute_result"
    }
   ],
   "source": [
    "len(set(df['attribute_field']))"
   ]
  },
  {
   "cell_type": "code",
   "execution_count": 16,
   "metadata": {},
   "outputs": [],
   "source": [
    "attr_name_val_tuples = []\n",
    "for k, i in zip(df['attribute_field'].tolist(), df['category_attributevalue'].apply(eval).tolist()):\n",
    "    for j in i:\n",
    "        if isinstance(j, str):\n",
    "            attr_name_val_tuples.append((k, j))"
   ]
  },
  {
   "cell_type": "code",
   "execution_count": 17,
   "metadata": {},
   "outputs": [
    {
     "data": {
      "text/plain": [
       "(1021011, 10966)"
      ]
     },
     "execution_count": 17,
     "metadata": {},
     "output_type": "execute_result"
    }
   ],
   "source": [
    "len(attr_name_val_tuples), len(set(attr_name_val_tuples))"
   ]
  },
  {
   "cell_type": "code",
   "execution_count": 19,
   "metadata": {},
   "outputs": [
    {
     "data": {
      "text/plain": [
       "4.125658389766742"
      ]
     },
     "execution_count": 19,
     "metadata": {},
     "output_type": "execute_result"
    }
   ],
   "source": [
    "len(set(attr_name_val_tuples)) / len(set(df.category))"
   ]
  },
  {
   "cell_type": "code",
   "execution_count": 27,
   "metadata": {},
   "outputs": [],
   "source": [
    "len_cat_all = len(set(df['category']))"
   ]
  },
  {
   "cell_type": "code",
   "execution_count": 32,
   "metadata": {},
   "outputs": [],
   "source": [
    "df_attr_importance = df.groupby('attribute_field').agg({\n",
    "  'category': lambda x: len(set([i for i in x])) / len_cat_all\n",
    "}).reset_index()"
   ]
  },
  {
   "cell_type": "code",
   "execution_count": 33,
   "metadata": {},
   "outputs": [
    {
     "data": {
      "text/html": [
       "<div>\n",
       "<style scoped>\n",
       "    .dataframe tbody tr th:only-of-type {\n",
       "        vertical-align: middle;\n",
       "    }\n",
       "\n",
       "    .dataframe tbody tr th {\n",
       "        vertical-align: top;\n",
       "    }\n",
       "\n",
       "    .dataframe thead th {\n",
       "        text-align: right;\n",
       "    }\n",
       "</style>\n",
       "<table border=\"1\" class=\"dataframe\">\n",
       "  <thead>\n",
       "    <tr style=\"text-align: right;\">\n",
       "      <th></th>\n",
       "      <th>attribute_field</th>\n",
       "      <th>category</th>\n",
       "    </tr>\n",
       "  </thead>\n",
       "  <tbody>\n",
       "    <tr>\n",
       "      <th>0</th>\n",
       "      <td>3D Image Support</td>\n",
       "      <td>0.000376</td>\n",
       "    </tr>\n",
       "    <tr>\n",
       "      <th>1</th>\n",
       "      <td>3D Technology</td>\n",
       "      <td>0.001505</td>\n",
       "    </tr>\n",
       "    <tr>\n",
       "      <th>2</th>\n",
       "      <td>Absorption</td>\n",
       "      <td>0.003010</td>\n",
       "    </tr>\n",
       "    <tr>\n",
       "      <th>3</th>\n",
       "      <td>Adaptive Sync</td>\n",
       "      <td>0.000752</td>\n",
       "    </tr>\n",
       "    <tr>\n",
       "      <th>4</th>\n",
       "      <td>Additional Accessories</td>\n",
       "      <td>0.000752</td>\n",
       "    </tr>\n",
       "    <tr>\n",
       "      <th>...</th>\n",
       "      <td>...</td>\n",
       "      <td>...</td>\n",
       "    </tr>\n",
       "    <tr>\n",
       "      <th>648</th>\n",
       "      <td>Width</td>\n",
       "      <td>0.004891</td>\n",
       "    </tr>\n",
       "    <tr>\n",
       "      <th>649</th>\n",
       "      <td>Wireless Communication Types</td>\n",
       "      <td>0.014673</td>\n",
       "    </tr>\n",
       "    <tr>\n",
       "      <th>650</th>\n",
       "      <td>Wireless Speaker Pairing</td>\n",
       "      <td>0.000376</td>\n",
       "    </tr>\n",
       "    <tr>\n",
       "      <th>651</th>\n",
       "      <td>Write Speed</td>\n",
       "      <td>0.001129</td>\n",
       "    </tr>\n",
       "    <tr>\n",
       "      <th>652</th>\n",
       "      <td>Zoom Type</td>\n",
       "      <td>0.001505</td>\n",
       "    </tr>\n",
       "  </tbody>\n",
       "</table>\n",
       "<p>653 rows × 2 columns</p>\n",
       "</div>"
      ],
      "text/plain": [
       "                  attribute_field  category\n",
       "0                3D Image Support  0.000376\n",
       "1                   3D Technology  0.001505\n",
       "2                      Absorption  0.003010\n",
       "3                   Adaptive Sync  0.000752\n",
       "4          Additional Accessories  0.000752\n",
       "..                            ...       ...\n",
       "648                         Width  0.004891\n",
       "649  Wireless Communication Types  0.014673\n",
       "650      Wireless Speaker Pairing  0.000376\n",
       "651                   Write Speed  0.001129\n",
       "652                     Zoom Type  0.001505\n",
       "\n",
       "[653 rows x 2 columns]"
      ]
     },
     "execution_count": 33,
     "metadata": {},
     "output_type": "execute_result"
    }
   ],
   "source": [
    "df_attr_importance"
   ]
  },
  {
   "cell_type": "code",
   "execution_count": 35,
   "metadata": {},
   "outputs": [],
   "source": [
    "sub_attrs = set(df_sub.attribute_field)"
   ]
  },
  {
   "cell_type": "code",
   "execution_count": 44,
   "metadata": {},
   "outputs": [],
   "source": [
    "covered_attrs = df_attr_importance[df_attr_importance.attribute_field.apply(lambda x: x in sub_attrs)]"
   ]
  },
  {
   "cell_type": "code",
   "execution_count": 37,
   "metadata": {},
   "outputs": [],
   "source": [
    "leftover_attrs = df_attr_importance[df_attr_importance.attribute_field.apply(lambda x: x not in sub_attrs)]"
   ]
  },
  {
   "cell_type": "code",
   "execution_count": 41,
   "metadata": {},
   "outputs": [
    {
     "data": {
      "text/plain": [
       "<AxesSubplot: ylabel='Frequency'>"
      ]
     },
     "execution_count": 41,
     "metadata": {},
     "output_type": "execute_result"
    },
    {
     "data": {
      "image/png": "[encoded data removed]",
      "text/plain": [
       "<Figure size 640x480 with 1 Axes>"
      ]
     },
     "metadata": {},
     "output_type": "display_data"
    }
   ],
   "source": [
    "leftover_attrs['category'].plot.hist()"
   ]
  },
  {
   "cell_type": "code",
   "execution_count": 43,
   "metadata": {},
   "outputs": [
    {
     "data": {
      "text/html": [
       "<div>\n",
       "<style scoped>\n",
       "    .dataframe tbody tr th:only-of-type {\n",
       "        vertical-align: middle;\n",
       "    }\n",
       "\n",
       "    .dataframe tbody tr th {\n",
       "        vertical-align: top;\n",
       "    }\n",
       "\n",
       "    .dataframe thead th {\n",
       "        text-align: right;\n",
       "    }\n",
       "</style>\n",
       "<table border=\"1\" class=\"dataframe\">\n",
       "  <thead>\n",
       "    <tr style=\"text-align: right;\">\n",
       "      <th></th>\n",
       "      <th>attribute_field</th>\n",
       "      <th>category</th>\n",
       "    </tr>\n",
       "  </thead>\n",
       "  <tbody>\n",
       "    <tr>\n",
       "      <th>299</th>\n",
       "      <td>Item Height (Include Unit of Measure)</td>\n",
       "      <td>0.391648</td>\n",
       "    </tr>\n",
       "    <tr>\n",
       "      <th>301</th>\n",
       "      <td>Item Length (Include Unit of Measure)</td>\n",
       "      <td>0.407073</td>\n",
       "    </tr>\n",
       "    <tr>\n",
       "      <th>307</th>\n",
       "      <td>Item Width (Include Unit of Measure)</td>\n",
       "      <td>0.407073</td>\n",
       "    </tr>\n",
       "    <tr>\n",
       "      <th>369</th>\n",
       "      <td>Model or Model Number</td>\n",
       "      <td>0.360798</td>\n",
       "    </tr>\n",
       "  </tbody>\n",
       "</table>\n",
       "</div>"
      ],
      "text/plain": [
       "                           attribute_field  category\n",
       "299  Item Height (Include Unit of Measure)  0.391648\n",
       "301  Item Length (Include Unit of Measure)  0.407073\n",
       "307   Item Width (Include Unit of Measure)  0.407073\n",
       "369                  Model or Model Number  0.360798"
      ]
     },
     "execution_count": 43,
     "metadata": {},
     "output_type": "execute_result"
    }
   ],
   "source": [
    "leftover_attrs[leftover_attrs['category'] > .3]"
   ]
  },
  {
   "cell_type": "code",
   "execution_count": 46,
   "metadata": {},
   "outputs": [
    {
     "data": {
      "text/plain": [
       "<AxesSubplot: ylabel='Frequency'>"
      ]
     },
     "execution_count": 46,
     "metadata": {},
     "output_type": "execute_result"
    },
    {
     "data": {
      "image/png": "[encoded data removed]",
      "text/plain": [
       "<Figure size 640x480 with 1 Axes>"
      ]
     },
     "metadata": {},
     "output_type": "display_data"
    }
   ],
   "source": [
    "covered_attrs['category'].plot.hist()"
   ]
  },
  {
   "cell_type": "code",
   "execution_count": 47,
   "metadata": {},
   "outputs": [
    {
     "data": {
      "text/html": [
       "<div>\n",
       "<style scoped>\n",
       "    .dataframe tbody tr th:only-of-type {\n",
       "        vertical-align: middle;\n",
       "    }\n",
       "\n",
       "    .dataframe tbody tr th {\n",
       "        vertical-align: top;\n",
       "    }\n",
       "\n",
       "    .dataframe thead th {\n",
       "        text-align: right;\n",
       "    }\n",
       "</style>\n",
       "<table border=\"1\" class=\"dataframe\">\n",
       "  <thead>\n",
       "    <tr style=\"text-align: right;\">\n",
       "      <th></th>\n",
       "      <th>attribute_field</th>\n",
       "      <th>category</th>\n",
       "    </tr>\n",
       "  </thead>\n",
       "  <tbody>\n",
       "    <tr>\n",
       "      <th>13</th>\n",
       "      <td>Alpha Size</td>\n",
       "      <td>0.868322</td>\n",
       "    </tr>\n",
       "    <tr>\n",
       "      <th>65</th>\n",
       "      <td>Brand Name</td>\n",
       "      <td>0.526336</td>\n",
       "    </tr>\n",
       "    <tr>\n",
       "      <th>297</th>\n",
       "      <td>Item Features</td>\n",
       "      <td>0.414221</td>\n",
       "    </tr>\n",
       "    <tr>\n",
       "      <th>334</th>\n",
       "      <td>Materials</td>\n",
       "      <td>0.568849</td>\n",
       "    </tr>\n",
       "    <tr>\n",
       "      <th>482</th>\n",
       "      <td>Primary Color</td>\n",
       "      <td>1.000000</td>\n",
       "    </tr>\n",
       "    <tr>\n",
       "      <th>575</th>\n",
       "      <td>Styles</td>\n",
       "      <td>0.313017</td>\n",
       "    </tr>\n",
       "  </tbody>\n",
       "</table>\n",
       "</div>"
      ],
      "text/plain": [
       "    attribute_field  category\n",
       "13       Alpha Size  0.868322\n",
       "65       Brand Name  0.526336\n",
       "297   Item Features  0.414221\n",
       "334       Materials  0.568849\n",
       "482   Primary Color  1.000000\n",
       "575          Styles  0.313017"
      ]
     },
     "execution_count": 47,
     "metadata": {},
     "output_type": "execute_result"
    }
   ],
   "source": [
    "covered_attrs[covered_attrs['category'] > .3]"
   ]
  },
  {
   "cell_type": "code",
   "execution_count": null,
   "metadata": {},
   "outputs": [],
   "source": []
  }
 ],
 "metadata": {
  "kernelspec": {
   "display_name": "Python 3",
   "language": "python",
   "name": "python3"
  },
  "language_info": {
   "codemirror_mode": {
    "name": "ipython",
    "version": 3
   },
   "file_extension": ".py",
   "mimetype": "text/x-python",
   "name": "python",
   "nbconvert_exporter": "python",
   "pygments_lexer": "ipython3",
   "version": "3.8.13"
  },
  "orig_nbformat": 4,
  "vscode": {
   "interpreter": {
    "hash": "949777d72b0d2535278d3dc13498b2535136f6dfe0678499012e853ee9abcab1"
   }
  }
 },
 "nbformat": 4,
 "nbformat_minor": 2
}
