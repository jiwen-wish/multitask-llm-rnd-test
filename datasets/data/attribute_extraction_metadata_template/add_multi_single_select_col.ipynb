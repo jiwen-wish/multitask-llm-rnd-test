{
 "cells": [
  {
   "cell_type": "code",
   "execution_count": 2,
   "metadata": {},
   "outputs": [],
   "source": [
    "import pandas as pd"
   ]
  },
  {
   "cell_type": "code",
   "execution_count": 6,
   "metadata": {},
   "outputs": [],
   "source": [
    "df_orig = pd.read_csv('Initial Attribute Definition for First Release - UPDATED SHEET .csv')"
   ]
  },
  {
   "cell_type": "code",
   "execution_count": 16,
   "metadata": {},
   "outputs": [
    {
     "data": {
      "text/plain": [
       "Index(['category', 'category_id', 'attribute_field', 'attribute_id',\n",
       "       'category_attributevalue', 'attribute_attributevalue', 'description',\n",
       "       'max_multi_select', 'level', 'datatype', 'datatype format',\n",
       "       'enabled_for_variation', 'usage', 'entry mode', 'Unnamed: 14',\n",
       "       'Unnamed: 15', 'Unnamed: 16', 'Unnamed: 17', 'Unnamed: 18',\n",
       "       'Unnamed: 19', 'Unnamed: 20', 'Unnamed: 21', 'Unnamed: 22',\n",
       "       'Unnamed: 23', 'Unnamed: 24', 'Unnamed: 25', 'Unnamed: 26', 'uniq_key'],\n",
       "      dtype='object')"
      ]
     },
     "execution_count": 16,
     "metadata": {},
     "output_type": "execute_result"
    }
   ],
   "source": [
    "df_orig.columns"
   ]
  },
  {
   "cell_type": "code",
   "execution_count": 11,
   "metadata": {},
   "outputs": [
    {
     "data": {
      "text/html": [
       "<div>\n",
       "<style scoped>\n",
       "    .dataframe tbody tr th:only-of-type {\n",
       "        vertical-align: middle;\n",
       "    }\n",
       "\n",
       "    .dataframe tbody tr th {\n",
       "        vertical-align: top;\n",
       "    }\n",
       "\n",
       "    .dataframe thead th {\n",
       "        text-align: right;\n",
       "    }\n",
       "</style>\n",
       "<table border=\"1\" class=\"dataframe\">\n",
       "  <thead>\n",
       "    <tr style=\"text-align: right;\">\n",
       "      <th></th>\n",
       "      <th>category</th>\n",
       "      <th>category_id</th>\n",
       "      <th>attribute_field</th>\n",
       "      <th>attribute_id</th>\n",
       "      <th>category_attributevalue</th>\n",
       "      <th>attribute_attributevalue</th>\n",
       "      <th>description</th>\n",
       "      <th>max_multi_select</th>\n",
       "      <th>level</th>\n",
       "      <th>datatype</th>\n",
       "      <th>datatype format</th>\n",
       "      <th>enabled_for_variation</th>\n",
       "      <th>usage</th>\n",
       "      <th>entry mode</th>\n",
       "    </tr>\n",
       "  </thead>\n",
       "  <tbody>\n",
       "    <tr>\n",
       "      <th>0</th>\n",
       "      <td>Apparel Accessories &gt; Boys' Accessories &gt; Boys...</td>\n",
       "      <td>4</td>\n",
       "      <td>Age Range Description</td>\n",
       "      <td>NaN</td>\n",
       "      <td>['Adult', 'All Ages', 'Infant', 'Kids', 'Teen'...</td>\n",
       "      <td>['Adult', 'All Ages', 'Infant', 'Kids', 'Teen'...</td>\n",
       "      <td>Specifies an appropriate age range description...</td>\n",
       "      <td>NaN</td>\n",
       "      <td>product</td>\n",
       "      <td>string</td>\n",
       "      <td>unspecified</td>\n",
       "      <td>False</td>\n",
       "      <td>required</td>\n",
       "      <td>single_selection_only</td>\n",
       "    </tr>\n",
       "    <tr>\n",
       "      <th>1</th>\n",
       "      <td>Apparel Accessories &gt; Boys' Accessories &gt; Boys...</td>\n",
       "      <td>4</td>\n",
       "      <td>Alpha Size</td>\n",
       "      <td>3346.0</td>\n",
       "      <td>['10XL', '2XL', '2XS', '3XL', '4XL', '5XL', '6...</td>\n",
       "      <td>['10XL', '2XL', '2XS', '3XL', '4XL', '5XL', '6...</td>\n",
       "      <td>Specification of item size on an alpha-numeric...</td>\n",
       "      <td>NaN</td>\n",
       "      <td>variant</td>\n",
       "      <td>string</td>\n",
       "      <td>unspecified</td>\n",
       "      <td>True</td>\n",
       "      <td>required</td>\n",
       "      <td>single_selection_only</td>\n",
       "    </tr>\n",
       "  </tbody>\n",
       "</table>\n",
       "</div>"
      ],
      "text/plain": [
       "                                            category  category_id  \\\n",
       "0  Apparel Accessories > Boys' Accessories > Boys...            4   \n",
       "1  Apparel Accessories > Boys' Accessories > Boys...            4   \n",
       "\n",
       "         attribute_field  attribute_id  \\\n",
       "0  Age Range Description           NaN   \n",
       "1             Alpha Size        3346.0   \n",
       "\n",
       "                             category_attributevalue  \\\n",
       "0  ['Adult', 'All Ages', 'Infant', 'Kids', 'Teen'...   \n",
       "1  ['10XL', '2XL', '2XS', '3XL', '4XL', '5XL', '6...   \n",
       "\n",
       "                            attribute_attributevalue  \\\n",
       "0  ['Adult', 'All Ages', 'Infant', 'Kids', 'Teen'...   \n",
       "1  ['10XL', '2XL', '2XS', '3XL', '4XL', '5XL', '6...   \n",
       "\n",
       "                                         description  max_multi_select  \\\n",
       "0  Specifies an appropriate age range description...               NaN   \n",
       "1  Specification of item size on an alpha-numeric...               NaN   \n",
       "\n",
       "     level datatype datatype format  enabled_for_variation     usage  \\\n",
       "0  product   string     unspecified                  False  required   \n",
       "1  variant   string     unspecified                   True  required   \n",
       "\n",
       "              entry mode  \n",
       "0  single_selection_only  \n",
       "1  single_selection_only  "
      ]
     },
     "execution_count": 11,
     "metadata": {},
     "output_type": "execute_result"
    }
   ],
   "source": [
    "df_orig[df_orig.columns[:14]].head(2)"
   ]
  },
  {
   "cell_type": "code",
   "execution_count": 12,
   "metadata": {},
   "outputs": [],
   "source": [
    "df_orig['uniq_key'] = df_orig['category'] + df_orig['attribute_field']"
   ]
  },
  {
   "cell_type": "code",
   "execution_count": 13,
   "metadata": {},
   "outputs": [],
   "source": [
    "assert len(df_orig) == len(set(df_orig['uniq_key']))"
   ]
  },
  {
   "cell_type": "code",
   "execution_count": 4,
   "metadata": {},
   "outputs": [],
   "source": [
    "df = pd.read_csv('attribute_definition_top25L2_filtered_augmented_01162023.csv')"
   ]
  },
  {
   "cell_type": "code",
   "execution_count": 14,
   "metadata": {},
   "outputs": [],
   "source": [
    "df['uniq_key'] = df['category'] + df['attribute_field']"
   ]
  },
  {
   "cell_type": "code",
   "execution_count": 17,
   "metadata": {},
   "outputs": [
    {
     "data": {
      "text/plain": [
       "12394"
      ]
     },
     "execution_count": 17,
     "metadata": {},
     "output_type": "execute_result"
    }
   ],
   "source": [
    "len(df)"
   ]
  },
  {
   "cell_type": "code",
   "execution_count": 18,
   "metadata": {},
   "outputs": [],
   "source": [
    "df = df.merge(df_orig[['uniq_key', 'entry mode', 'max_multi_select']], on='uniq_key', how='inner')"
   ]
  },
  {
   "cell_type": "code",
   "execution_count": 19,
   "metadata": {},
   "outputs": [
    {
     "data": {
      "text/plain": [
       "12394"
      ]
     },
     "execution_count": 19,
     "metadata": {},
     "output_type": "execute_result"
    }
   ],
   "source": [
    "len(df)"
   ]
  },
  {
   "cell_type": "code",
   "execution_count": 21,
   "metadata": {},
   "outputs": [
    {
     "data": {
      "text/plain": [
       "{'free_text', 'multi_selection_only', 'single_selection_only'}"
      ]
     },
     "execution_count": 21,
     "metadata": {},
     "output_type": "execute_result"
    }
   ],
   "source": [
    "set(df['entry mode'])"
   ]
  },
  {
   "cell_type": "code",
   "execution_count": 23,
   "metadata": {},
   "outputs": [
    {
     "data": {
      "text/html": [
       "<div>\n",
       "<style scoped>\n",
       "    .dataframe tbody tr th:only-of-type {\n",
       "        vertical-align: middle;\n",
       "    }\n",
       "\n",
       "    .dataframe tbody tr th {\n",
       "        vertical-align: top;\n",
       "    }\n",
       "\n",
       "    .dataframe thead th {\n",
       "        text-align: right;\n",
       "    }\n",
       "</style>\n",
       "<table border=\"1\" class=\"dataframe\">\n",
       "  <thead>\n",
       "    <tr style=\"text-align: right;\">\n",
       "      <th></th>\n",
       "      <th>category</th>\n",
       "      <th>attribute_field</th>\n",
       "      <th>category_attributevalue</th>\n",
       "      <th>description</th>\n",
       "      <th>augment</th>\n",
       "      <th>usage</th>\n",
       "      <th>L2</th>\n",
       "      <th>uniq_key</th>\n",
       "      <th>entry mode</th>\n",
       "      <th>max_multi_select</th>\n",
       "    </tr>\n",
       "  </thead>\n",
       "  <tbody>\n",
       "  </tbody>\n",
       "</table>\n",
       "</div>"
      ],
      "text/plain": [
       "Empty DataFrame\n",
       "Columns: [category, attribute_field, category_attributevalue, description, augment, usage, L2, uniq_key, entry mode, max_multi_select]\n",
       "Index: []"
      ]
     },
     "execution_count": 23,
     "metadata": {},
     "output_type": "execute_result"
    }
   ],
   "source": [
    "df[(df['augment'].apply(lambda x: not x)) & (df['entry mode'].apply(lambda x: x == 'free_text'))]"
   ]
  },
  {
   "cell_type": "code",
   "execution_count": 28,
   "metadata": {},
   "outputs": [
    {
     "data": {
      "text/html": [
       "<div>\n",
       "<style scoped>\n",
       "    .dataframe tbody tr th:only-of-type {\n",
       "        vertical-align: middle;\n",
       "    }\n",
       "\n",
       "    .dataframe tbody tr th {\n",
       "        vertical-align: top;\n",
       "    }\n",
       "\n",
       "    .dataframe thead th {\n",
       "        text-align: right;\n",
       "    }\n",
       "</style>\n",
       "<table border=\"1\" class=\"dataframe\">\n",
       "  <thead>\n",
       "    <tr style=\"text-align: right;\">\n",
       "      <th></th>\n",
       "      <th>category</th>\n",
       "      <th>attribute_field</th>\n",
       "      <th>category_attributevalue</th>\n",
       "      <th>description</th>\n",
       "      <th>augment</th>\n",
       "      <th>usage</th>\n",
       "      <th>L2</th>\n",
       "      <th>uniq_key</th>\n",
       "      <th>entry mode</th>\n",
       "      <th>max_multi_select</th>\n",
       "    </tr>\n",
       "  </thead>\n",
       "  <tbody>\n",
       "    <tr>\n",
       "      <th>3901</th>\n",
       "      <td>Home &amp; Garden &gt; Home Textile &gt; Pillows &gt; Trave...</td>\n",
       "      <td>Brand Name</td>\n",
       "      <td>['AirComfy', 'Bucky', 'Cabeau', 'Cocoon', 'Eco...</td>\n",
       "      <td>Specifies the brand or manufacturer of the pro...</td>\n",
       "      <td>True</td>\n",
       "      <td>optional</td>\n",
       "      <td>Home &amp; Garden &gt; Home Textile</td>\n",
       "      <td>Home &amp; Garden &gt; Home Textile &gt; Pillows &gt; Trave...</td>\n",
       "      <td>free_text</td>\n",
       "      <td>NaN</td>\n",
       "    </tr>\n",
       "    <tr>\n",
       "      <th>11035</th>\n",
       "      <td>Shoes &gt; Women's Shoes &gt; Boat Shoes</td>\n",
       "      <td>Brand Name</td>\n",
       "      <td>['Adidas', 'Asics', 'Birkenstock', 'Clarks', '...</td>\n",
       "      <td>Specifies the brand or manufacturer of the pro...</td>\n",
       "      <td>True</td>\n",
       "      <td>optional</td>\n",
       "      <td>Shoes &gt; Women's Shoes</td>\n",
       "      <td>Shoes &gt; Women's Shoes &gt; Boat ShoesBrand Name</td>\n",
       "      <td>free_text</td>\n",
       "      <td>NaN</td>\n",
       "    </tr>\n",
       "    <tr>\n",
       "      <th>1619</th>\n",
       "      <td>Home &amp; Garden &gt; Festive &amp; Party Supplies &gt; Chr...</td>\n",
       "      <td>Number of Items</td>\n",
       "      <td>['1', '2', '3', '4', '5', '6', '7', '8', '9', ...</td>\n",
       "      <td>Specifies the number of items, or quantity, in...</td>\n",
       "      <td>True</td>\n",
       "      <td>optional</td>\n",
       "      <td>Home &amp; Garden &gt; Festive &amp; Party Supplies</td>\n",
       "      <td>Home &amp; Garden &gt; Festive &amp; Party Supplies &gt; Chr...</td>\n",
       "      <td>free_text</td>\n",
       "      <td>NaN</td>\n",
       "    </tr>\n",
       "    <tr>\n",
       "      <th>1301</th>\n",
       "      <td>Home &amp; Garden &gt; Arts, Crafts &amp; Sewing &gt; Scrapb...</td>\n",
       "      <td>Brand Name</td>\n",
       "      <td>['American Crafts', 'Bazzill Basics', 'Crate P...</td>\n",
       "      <td>Specifies the brand or manufacturer of the pro...</td>\n",
       "      <td>True</td>\n",
       "      <td>optional</td>\n",
       "      <td>Home &amp; Garden &gt; Arts, Crafts &amp; Sewing</td>\n",
       "      <td>Home &amp; Garden &gt; Arts, Crafts &amp; Sewing &gt; Scrapb...</td>\n",
       "      <td>free_text</td>\n",
       "      <td>NaN</td>\n",
       "    </tr>\n",
       "    <tr>\n",
       "      <th>2237</th>\n",
       "      <td>Home &amp; Garden &gt; Home Decor &gt; Blinds, Shades &amp; ...</td>\n",
       "      <td>Format Type</td>\n",
       "      <td>['Cordless', 'Corded', 'Motorized', 'Manual']</td>\n",
       "      <td>Specifies the format or support format of the ...</td>\n",
       "      <td>True</td>\n",
       "      <td>optional</td>\n",
       "      <td>Home &amp; Garden &gt; Home Decor</td>\n",
       "      <td>Home &amp; Garden &gt; Home Decor &gt; Blinds, Shades &amp; ...</td>\n",
       "      <td>free_text</td>\n",
       "      <td>NaN</td>\n",
       "    </tr>\n",
       "    <tr>\n",
       "      <th>2888</th>\n",
       "      <td>Home &amp; Garden &gt; Home Decor &gt; Ornaments &gt; Decor...</td>\n",
       "      <td>Number of Items</td>\n",
       "      <td>['1', '2', '3', '4', '5', '6', '7', '8', '9', ...</td>\n",
       "      <td>Specifies the number of items, or quantity, in...</td>\n",
       "      <td>True</td>\n",
       "      <td>optional</td>\n",
       "      <td>Home &amp; Garden &gt; Home Decor</td>\n",
       "      <td>Home &amp; Garden &gt; Home Decor &gt; Ornaments &gt; Decor...</td>\n",
       "      <td>free_text</td>\n",
       "      <td>NaN</td>\n",
       "    </tr>\n",
       "    <tr>\n",
       "      <th>4483</th>\n",
       "      <td>Home &amp; Garden &gt; Kitchen,Dining &amp; Bar &gt; Bakewar...</td>\n",
       "      <td>Brand Name</td>\n",
       "      <td>['Ateco', 'Chicago Metallic', 'Fox Run', 'Koot...</td>\n",
       "      <td>Specifies the brand or manufacturer of the pro...</td>\n",
       "      <td>True</td>\n",
       "      <td>optional</td>\n",
       "      <td>Home &amp; Garden &gt; Kitchen,Dining &amp; Bar</td>\n",
       "      <td>Home &amp; Garden &gt; Kitchen,Dining &amp; Bar &gt; Bakewar...</td>\n",
       "      <td>free_text</td>\n",
       "      <td>NaN</td>\n",
       "    </tr>\n",
       "    <tr>\n",
       "      <th>1182</th>\n",
       "      <td>Home &amp; Garden &gt; Arts, Crafts &amp; Sewing &gt; Paint-...</td>\n",
       "      <td>Brand Name</td>\n",
       "      <td>['Apple Barrel', 'Craft Smart', 'Delta Creativ...</td>\n",
       "      <td>Specifies the brand or manufacturer of the pro...</td>\n",
       "      <td>True</td>\n",
       "      <td>optional</td>\n",
       "      <td>Home &amp; Garden &gt; Arts, Crafts &amp; Sewing</td>\n",
       "      <td>Home &amp; Garden &gt; Arts, Crafts &amp; Sewing &gt; Paint-...</td>\n",
       "      <td>free_text</td>\n",
       "      <td>NaN</td>\n",
       "    </tr>\n",
       "    <tr>\n",
       "      <th>2183</th>\n",
       "      <td>Home &amp; Garden &gt; Garden Supplies &gt; Watering &amp; I...</td>\n",
       "      <td>Brand Name</td>\n",
       "      <td>['Aqua Systems', 'Gardena', 'Haws', 'Kärcher',...</td>\n",
       "      <td>Specifies the brand or manufacturer of the pro...</td>\n",
       "      <td>True</td>\n",
       "      <td>optional</td>\n",
       "      <td>Home &amp; Garden &gt; Garden Supplies</td>\n",
       "      <td>Home &amp; Garden &gt; Garden Supplies &gt; Watering &amp; I...</td>\n",
       "      <td>free_text</td>\n",
       "      <td>NaN</td>\n",
       "    </tr>\n",
       "    <tr>\n",
       "      <th>5196</th>\n",
       "      <td>Home &amp; Garden &gt; Kitchen,Dining &amp; Bar &gt; Cookwar...</td>\n",
       "      <td>Brand Name</td>\n",
       "      <td>['Aroma Housewares', 'Calphalon', 'Cuisinart',...</td>\n",
       "      <td>Specifies the brand or manufacturer of the pro...</td>\n",
       "      <td>True</td>\n",
       "      <td>optional</td>\n",
       "      <td>Home &amp; Garden &gt; Kitchen,Dining &amp; Bar</td>\n",
       "      <td>Home &amp; Garden &gt; Kitchen,Dining &amp; Bar &gt; Cookwar...</td>\n",
       "      <td>free_text</td>\n",
       "      <td>NaN</td>\n",
       "    </tr>\n",
       "  </tbody>\n",
       "</table>\n",
       "</div>"
      ],
      "text/plain": [
       "                                                category  attribute_field  \\\n",
       "3901   Home & Garden > Home Textile > Pillows > Trave...       Brand Name   \n",
       "11035                 Shoes > Women's Shoes > Boat Shoes       Brand Name   \n",
       "1619   Home & Garden > Festive & Party Supplies > Chr...  Number of Items   \n",
       "1301   Home & Garden > Arts, Crafts & Sewing > Scrapb...       Brand Name   \n",
       "2237   Home & Garden > Home Decor > Blinds, Shades & ...      Format Type   \n",
       "2888   Home & Garden > Home Decor > Ornaments > Decor...  Number of Items   \n",
       "4483   Home & Garden > Kitchen,Dining & Bar > Bakewar...       Brand Name   \n",
       "1182   Home & Garden > Arts, Crafts & Sewing > Paint-...       Brand Name   \n",
       "2183   Home & Garden > Garden Supplies > Watering & I...       Brand Name   \n",
       "5196   Home & Garden > Kitchen,Dining & Bar > Cookwar...       Brand Name   \n",
       "\n",
       "                                 category_attributevalue  \\\n",
       "3901   ['AirComfy', 'Bucky', 'Cabeau', 'Cocoon', 'Eco...   \n",
       "11035  ['Adidas', 'Asics', 'Birkenstock', 'Clarks', '...   \n",
       "1619   ['1', '2', '3', '4', '5', '6', '7', '8', '9', ...   \n",
       "1301   ['American Crafts', 'Bazzill Basics', 'Crate P...   \n",
       "2237       ['Cordless', 'Corded', 'Motorized', 'Manual']   \n",
       "2888   ['1', '2', '3', '4', '5', '6', '7', '8', '9', ...   \n",
       "4483   ['Ateco', 'Chicago Metallic', 'Fox Run', 'Koot...   \n",
       "1182   ['Apple Barrel', 'Craft Smart', 'Delta Creativ...   \n",
       "2183   ['Aqua Systems', 'Gardena', 'Haws', 'Kärcher',...   \n",
       "5196   ['Aroma Housewares', 'Calphalon', 'Cuisinart',...   \n",
       "\n",
       "                                             description  augment     usage  \\\n",
       "3901   Specifies the brand or manufacturer of the pro...     True  optional   \n",
       "11035  Specifies the brand or manufacturer of the pro...     True  optional   \n",
       "1619   Specifies the number of items, or quantity, in...     True  optional   \n",
       "1301   Specifies the brand or manufacturer of the pro...     True  optional   \n",
       "2237   Specifies the format or support format of the ...     True  optional   \n",
       "2888   Specifies the number of items, or quantity, in...     True  optional   \n",
       "4483   Specifies the brand or manufacturer of the pro...     True  optional   \n",
       "1182   Specifies the brand or manufacturer of the pro...     True  optional   \n",
       "2183   Specifies the brand or manufacturer of the pro...     True  optional   \n",
       "5196   Specifies the brand or manufacturer of the pro...     True  optional   \n",
       "\n",
       "                                             L2  \\\n",
       "3901               Home & Garden > Home Textile   \n",
       "11035                     Shoes > Women's Shoes   \n",
       "1619   Home & Garden > Festive & Party Supplies   \n",
       "1301      Home & Garden > Arts, Crafts & Sewing   \n",
       "2237                 Home & Garden > Home Decor   \n",
       "2888                 Home & Garden > Home Decor   \n",
       "4483       Home & Garden > Kitchen,Dining & Bar   \n",
       "1182      Home & Garden > Arts, Crafts & Sewing   \n",
       "2183            Home & Garden > Garden Supplies   \n",
       "5196       Home & Garden > Kitchen,Dining & Bar   \n",
       "\n",
       "                                                uniq_key entry mode  \\\n",
       "3901   Home & Garden > Home Textile > Pillows > Trave...  free_text   \n",
       "11035       Shoes > Women's Shoes > Boat ShoesBrand Name  free_text   \n",
       "1619   Home & Garden > Festive & Party Supplies > Chr...  free_text   \n",
       "1301   Home & Garden > Arts, Crafts & Sewing > Scrapb...  free_text   \n",
       "2237   Home & Garden > Home Decor > Blinds, Shades & ...  free_text   \n",
       "2888   Home & Garden > Home Decor > Ornaments > Decor...  free_text   \n",
       "4483   Home & Garden > Kitchen,Dining & Bar > Bakewar...  free_text   \n",
       "1182   Home & Garden > Arts, Crafts & Sewing > Paint-...  free_text   \n",
       "2183   Home & Garden > Garden Supplies > Watering & I...  free_text   \n",
       "5196   Home & Garden > Kitchen,Dining & Bar > Cookwar...  free_text   \n",
       "\n",
       "       max_multi_select  \n",
       "3901                NaN  \n",
       "11035               NaN  \n",
       "1619                NaN  \n",
       "1301                NaN  \n",
       "2237                NaN  \n",
       "2888                NaN  \n",
       "4483                NaN  \n",
       "1182                NaN  \n",
       "2183                NaN  \n",
       "5196                NaN  "
      ]
     },
     "execution_count": 28,
     "metadata": {},
     "output_type": "execute_result"
    }
   ],
   "source": [
    "df[df.augment].sample(10)"
   ]
  },
  {
   "cell_type": "code",
   "execution_count": 31,
   "metadata": {},
   "outputs": [
    {
     "data": {
      "text/plain": [
       "True"
      ]
     },
     "execution_count": 31,
     "metadata": {},
     "output_type": "execute_result"
    }
   ],
   "source": [
    "df.loc[df.augment, \"max_multi_select\"].isna().all()"
   ]
  },
  {
   "cell_type": "code",
   "execution_count": 34,
   "metadata": {},
   "outputs": [],
   "source": [
    "df.loc[df.augment, \"entry mode\"] = 'single_selection_only'"
   ]
  },
  {
   "cell_type": "code",
   "execution_count": 36,
   "metadata": {},
   "outputs": [
    {
     "data": {
      "text/plain": [
       "{'multi_selection_only', 'single_selection_only'}"
      ]
     },
     "execution_count": 36,
     "metadata": {},
     "output_type": "execute_result"
    }
   ],
   "source": [
    "set(df['entry mode'])"
   ]
  },
  {
   "cell_type": "code",
   "execution_count": 38,
   "metadata": {},
   "outputs": [],
   "source": [
    "del df['uniq_key']\n",
    "del df['usage']\n",
    "del df['augment']"
   ]
  },
  {
   "cell_type": "code",
   "execution_count": 40,
   "metadata": {},
   "outputs": [
    {
     "data": {
      "text/plain": [
       "25"
      ]
     },
     "execution_count": 40,
     "metadata": {},
     "output_type": "execute_result"
    }
   ],
   "source": [
    "len(set(df['L2']))"
   ]
  },
  {
   "cell_type": "code",
   "execution_count": 42,
   "metadata": {},
   "outputs": [],
   "source": [
    "df.to_csv('attribute_definition_top25L2_filtered_augmented_redacted_addedsinglemulti_01182023.csv', index=False)"
   ]
  },
  {
   "cell_type": "code",
   "execution_count": null,
   "metadata": {},
   "outputs": [],
   "source": []
  }
 ],
 "metadata": {
  "kernelspec": {
   "display_name": "Python 3",
   "language": "python",
   "name": "python3"
  },
  "language_info": {
   "codemirror_mode": {
    "name": "ipython",
    "version": 3
   },
   "file_extension": ".py",
   "mimetype": "text/x-python",
   "name": "python",
   "nbconvert_exporter": "python",
   "pygments_lexer": "ipython3",
   "version": "3.8.13"
  },
  "orig_nbformat": 4,
  "vscode": {
   "interpreter": {
    "hash": "949777d72b0d2535278d3dc13498b2535136f6dfe0678499012e853ee9abcab1"
   }
  }
 },
 "nbformat": 4,
 "nbformat_minor": 2
}
