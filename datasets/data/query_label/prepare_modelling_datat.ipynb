{
 "cells": [
  {
   "cell_type": "code",
   "execution_count": 6,
   "metadata": {},
   "outputs": [],
   "source": [
    "import pandas as pd\n",
    "import json"
   ]
  },
  {
   "cell_type": "code",
   "execution_count": null,
   "metadata": {},
   "outputs": [],
   "source": [
    "df_tax = 2"
   ]
  },
  {
   "cell_type": "code",
   "execution_count": 2,
   "metadata": {},
   "outputs": [],
   "source": [
    "df_train = pd.concat([ \n",
    "    pd.read_json('./processed/Offshore_Labelled_Query_Classification_Train_01112023.json', \n",
    "        lines=True), \n",
    "    pd.read_json('./processed/Appen_Labelled_Query_Classification_Train_NoOverlapOffshore_01112023.json', \n",
    "        lines=True),\n",
    "])\n",
    "df_val = pd.read_json('./processed/Offshore_Labelled_Query_Classification_Val.json', \n",
    "    lines=True)\n",
    "df_test = pd.read_json('./processed/Offshore_Labelled_Query_Classification_Test.json', \n",
    "    lines=True)"
   ]
  },
  {
   "cell_type": "code",
   "execution_count": 5,
   "metadata": {},
   "outputs": [],
   "source": [
    "assert len(set(df_test['query']).intersection(set(df_val['query']))) == 0\n",
    "assert len(set(df_val['query']).intersection(set(df_train['query']))) == 0\n",
    "assert len(df_train) == len(set(df_train['query']))\n",
    "assert len(df_val) == len(set(df_val['query']))\n",
    "assert len(df_test) == len(set(df_test['query']))"
   ]
  },
  {
   "cell_type": "code",
   "execution_count": 7,
   "metadata": {},
   "outputs": [
    {
     "data": {
      "text/plain": [
       "[{'label_ordering': 2062,\n",
       "  'query': 'greenery garland',\n",
       "  'sample_method': 'head',\n",
       "  'gmv': 1545.5306396484,\n",
       "  'cnt': 1140,\n",
       "  'query_classifications': 'home & garden > festive & party supplies > artificial decorations > wreaths & garlands,nan,nan',\n",
       "  'query_classification_lists': ['home & garden > festive & party supplies > artificial decorations > wreaths & garlands',\n",
       "   'nan',\n",
       "   'nan'],\n",
       "  'query_classification_ids': [2485, -1, -1]}]"
      ]
     },
     "execution_count": 7,
     "metadata": {},
     "output_type": "execute_result"
    }
   ],
   "source": [
    "df_train.head(1).to_dict('records')"
   ]
  },
  {
   "cell_type": "code",
   "execution_count": null,
   "metadata": {},
   "outputs": [],
   "source": [
    "with open('./processed2/Human_Labelled_Query_Classification_Train.json', 'w') as f:\n",
    "    for i in df_train.to_dict('records'):\n",
    "        for ind, j in enumerate(i['query_classification_ids']):\n",
    "            if ind == 0 and j == -1:\n",
    "                f.write(json.dumps({\n",
    "                    'query': i['query'],\n",
    "                    'category': 'unknown'\n",
    "                }) + '\\n')\n",
    "            else:\n",
    "                if j == -1:\n",
    "                    break \n",
    "                else:\n",
    "                    f.write(json.dumps({\n",
    "                        'query': i['query'],\n",
    "                        'category': 'unknown'\n",
    "                    }) + '\\n')"
   ]
  }
 ],
 "metadata": {
  "kernelspec": {
   "display_name": "Python 3",
   "language": "python",
   "name": "python3"
  },
  "language_info": {
   "codemirror_mode": {
    "name": "ipython",
    "version": 3
   },
   "file_extension": ".py",
   "mimetype": "text/x-python",
   "name": "python",
   "nbconvert_exporter": "python",
   "pygments_lexer": "ipython3",
   "version": "3.8.13"
  },
  "orig_nbformat": 4,
  "vscode": {
   "interpreter": {
    "hash": "949777d72b0d2535278d3dc13498b2535136f6dfe0678499012e853ee9abcab1"
   }
  }
 },
 "nbformat": 4,
 "nbformat_minor": 2
}
