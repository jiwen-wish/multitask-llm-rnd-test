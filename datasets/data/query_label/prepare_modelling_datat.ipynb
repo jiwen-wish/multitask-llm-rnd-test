{
 "cells": [
  {
   "cell_type": "code",
   "execution_count": 9,
   "metadata": {},
   "outputs": [],
   "source": [
    "import pandas as pd\n",
    "import json"
   ]
  },
  {
   "cell_type": "code",
   "execution_count": 10,
   "metadata": {},
   "outputs": [],
   "source": [
    "df_tax = pd.read_json('../taxonomy/wish_newtax.json', lines=True)"
   ]
  },
  {
   "cell_type": "code",
   "execution_count": 11,
   "metadata": {},
   "outputs": [],
   "source": [
    "id2path = {}\n",
    "for i in df_tax.to_dict('records'):\n",
    "    if len(i['category_path']) > 0:\n",
    "        id2path[int(i['id'])] = i['category_path']"
   ]
  },
  {
   "cell_type": "code",
   "execution_count": 12,
   "metadata": {},
   "outputs": [],
   "source": [
    "df_train = pd.concat([ \n",
    "    pd.read_json('./processed/Offshore_Labelled_Query_Classification_Train_01112023.json', \n",
    "        lines=True), \n",
    "    pd.read_json('./processed/Appen_Labelled_Query_Classification_Train_NoOverlapOffshore_01112023.json', \n",
    "        lines=True),\n",
    "])\n",
    "df_val = pd.read_json('./processed/Offshore_Labelled_Query_Classification_Val.json', \n",
    "    lines=True)\n",
    "df_test = pd.read_json('./processed/Offshore_Labelled_Query_Classification_Test.json', \n",
    "    lines=True)"
   ]
  },
  {
   "cell_type": "code",
   "execution_count": 13,
   "metadata": {},
   "outputs": [],
   "source": [
    "assert len(set(df_test['query']).intersection(set(df_val['query']))) == 0\n",
    "assert len(set(df_val['query']).intersection(set(df_train['query']))) == 0\n",
    "assert len(df_train) == len(set(df_train['query']))\n",
    "assert len(df_val) == len(set(df_val['query']))\n",
    "assert len(df_test) == len(set(df_test['query']))"
   ]
  },
  {
   "cell_type": "code",
   "execution_count": 15,
   "metadata": {},
   "outputs": [],
   "source": [
    "with open('./processed2/Human_Labelled_Query_Classification_Train.json', 'w') as f:\n",
    "    for i in df_train.to_dict('records'):\n",
    "        for ind, j in enumerate(i['query_classification_ids']):\n",
    "            j = int(j)\n",
    "            if ind == 0 and j == -1:\n",
    "                f.write(json.dumps({\n",
    "                    'query': i['query'],\n",
    "                    'category': 'unknown'\n",
    "                }) + '\\n')\n",
    "            else:\n",
    "                if j == -1:\n",
    "                    break \n",
    "                else:\n",
    "                    f.write(json.dumps({\n",
    "                        'query': i['query'],\n",
    "                        'category': id2path[j].lower().strip()\n",
    "                    }) + '\\n')"
   ]
  },
  {
   "cell_type": "code",
   "execution_count": 16,
   "metadata": {},
   "outputs": [],
   "source": [
    "with open('./processed2/Human_Labelled_Query_Classification_Val.json', 'w') as f:\n",
    "    for i in df_val.to_dict('records'):\n",
    "        for ind, j in enumerate(i['query_classification_ids']):\n",
    "            j = int(j)\n",
    "            if ind == 0 and j == -1:\n",
    "                f.write(json.dumps({\n",
    "                    'query': i['query'],\n",
    "                    'category': 'unknown'\n",
    "                }) + '\\n')\n",
    "            else:\n",
    "                if j == -1:\n",
    "                    break \n",
    "                else:\n",
    "                    f.write(json.dumps({\n",
    "                        'query': i['query'],\n",
    "                        'category': id2path[j].lower().strip()\n",
    "                    }) + '\\n')"
   ]
  },
  {
   "cell_type": "code",
   "execution_count": 17,
   "metadata": {},
   "outputs": [],
   "source": [
    "with open('./processed2/Human_Labelled_Query_Classification_Test.json', 'w') as f:\n",
    "    for i in df_test.to_dict('records'):\n",
    "        for ind, j in enumerate(i['query_classification_ids']):\n",
    "            j = int(j)\n",
    "            if ind == 0 and j == -1:\n",
    "                f.write(json.dumps({\n",
    "                    'query': i['query'],\n",
    "                    'category': 'unknown'\n",
    "                }) + '\\n')\n",
    "            else:\n",
    "                if j == -1:\n",
    "                    break \n",
    "                else:\n",
    "                    f.write(json.dumps({\n",
    "                        'query': i['query'],\n",
    "                        'category': id2path[j].lower().strip()\n",
    "                    }) + '\\n')"
   ]
  },
  {
   "cell_type": "code",
   "execution_count": null,
   "metadata": {},
   "outputs": [],
   "source": []
  }
 ],
 "metadata": {
  "kernelspec": {
   "display_name": "Python 3",
   "language": "python",
   "name": "python3"
  },
  "language_info": {
   "codemirror_mode": {
    "name": "ipython",
    "version": 3
   },
   "file_extension": ".py",
   "mimetype": "text/x-python",
   "name": "python",
   "nbconvert_exporter": "python",
   "pygments_lexer": "ipython3",
   "version": "3.8.13"
  },
  "orig_nbformat": 4,
  "vscode": {
   "interpreter": {
    "hash": "949777d72b0d2535278d3dc13498b2535136f6dfe0678499012e853ee9abcab1"
   }
  }
 },
 "nbformat": 4,
 "nbformat_minor": 2
}
