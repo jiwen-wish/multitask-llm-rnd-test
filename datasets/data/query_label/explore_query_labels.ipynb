{
 "cells": [
  {
   "cell_type": "code",
   "execution_count": 40,
   "metadata": {},
   "outputs": [],
   "source": [
    "import pandas as pd\n",
    "from collections import Counter\n",
    "import re\n",
    "import numpy as np"
   ]
  },
  {
   "cell_type": "code",
   "execution_count": 41,
   "metadata": {},
   "outputs": [],
   "source": [
    "df_appen = pd.read_csv('appen/Query Classification_12.12.22.csv').sort_values('label_ordering')"
   ]
  },
  {
   "cell_type": "code",
   "execution_count": 42,
   "metadata": {},
   "outputs": [],
   "source": [
    "df_appen = df_appen.rename(columns={'product_classification': 'query_classifications'})"
   ]
  },
  {
   "cell_type": "code",
   "execution_count": 43,
   "metadata": {},
   "outputs": [],
   "source": [
    "df_offshore = pd.read_excel('offshore/TieBreaker File - 8 Dec 22.xlsx').sort_values('Sr No')"
   ]
  },
  {
   "cell_type": "code",
   "execution_count": 44,
   "metadata": {},
   "outputs": [],
   "source": [
    "df_offshore = df_offshore[['Sr No', 'query', 'Tiebreaked All SortedByConfidenceHighestFirst taxonomy path Full Paths']].rename(\n",
    "    columns={'Sr No': 'label_ordering', \n",
    "        'Tiebreaked All SortedByConfidenceHighestFirst taxonomy path Full Paths': 'query_classifications'}\n",
    ")"
   ]
  },
  {
   "cell_type": "code",
   "execution_count": 45,
   "metadata": {},
   "outputs": [],
   "source": [
    "df_tax = pd.read_json('../taxonomy/wish_newtax.json', lines=True)"
   ]
  },
  {
   "cell_type": "code",
   "execution_count": 46,
   "metadata": {},
   "outputs": [],
   "source": [
    "df_tax = df_tax[df_tax.category_path.apply(len) > 0]"
   ]
  },
  {
   "cell_type": "code",
   "execution_count": 47,
   "metadata": {},
   "outputs": [],
   "source": [
    "class Trie:\n",
    "    def __init__(self):\n",
    "        self.trie = {}\n",
    "\n",
    "    def add_text(self, text):\n",
    "        node = self.trie\n",
    "        for ind, i in enumerate(text):\n",
    "            if i not in node:\n",
    "                node[i] = {}\n",
    "            node = node[i]\n",
    "            if ind == len(text) - 1:\n",
    "                node['<EOS>'] = 1\n",
    "    \n",
    "    def extract_from_text(self, text):\n",
    "        node = self.trie\n",
    "        res = []\n",
    "        cur_res = ''\n",
    "        for ind, i in enumerate(text):\n",
    "            if i in node:\n",
    "                node = node[i]\n",
    "                cur_res += i\n",
    "            else:\n",
    "                try:\n",
    "                    assert '<EOS>' in node\n",
    "                except:\n",
    "                    print('ERROR: ', text)\n",
    "                    return None\n",
    "                res.append(cur_res)\n",
    "                cur_res = ''\n",
    "                node = self.trie\n",
    "        if len(cur_res) > 0:\n",
    "            res.append(cur_res)\n",
    "        \n",
    "        return res"
   ]
  },
  {
   "cell_type": "code",
   "execution_count": 48,
   "metadata": {},
   "outputs": [],
   "source": [
    "trie = Trie()"
   ]
  },
  {
   "cell_type": "code",
   "execution_count": 49,
   "metadata": {},
   "outputs": [],
   "source": [
    "for i in df_tax.category_path.apply(lambda x: x.strip()).tolist():\n",
    "    trie.add_text(i)\n",
    "for i in df_tax.category_path.apply(lambda x: x.strip().lower()).tolist():\n",
    "    trie.add_text(i)"
   ]
  },
  {
   "cell_type": "code",
   "execution_count": 50,
   "metadata": {},
   "outputs": [],
   "source": [
    "trie.add_text('nan')\n",
    "trie.add_text('No Categories Match')"
   ]
  },
  {
   "cell_type": "code",
   "execution_count": 51,
   "metadata": {},
   "outputs": [],
   "source": [
    "manual_correction = {\n",
    "    \"Beauty & Health > Sexual Wellness > Sex Toys,Beauty & Health > Sexual Wellness > SM Products ,nan\": \\\n",
    "        \"Beauty & Health > Sexual Wellness > Sex Toys,Beauty & Health > Sexual Wellness > SM Products,nan\",\n",
    "    \"Apparel Accessories > Girls' Accessories > Girls' Hair Accessories -,Apparel Accessories > Women's Hair Accessories,sports > fitness & body building > yoga > yoga hair bands\": \\\n",
    "        \"Apparel Accessories > Girls' Accessories > Girls' Hair Accessories,Apparel Accessories > Women's Hair Accessories,sports > fitness & body building > yoga > yoga hair bands\",\n",
    "    \"Women's Clothing > Dresses ,women's clothing > weddings & events > wedding dresses,mother & kids > pregnancy & maternity > dresses\": \\\n",
    "        \"Women's Clothing > Dresses,women's clothing > weddings & events > wedding dresses,mother & kids > pregnancy & maternity > dresses\",\n",
    "    \"Women's Clothing > Dresses, Mother & Kids > Girls' Baby Clothing > Dresses,Mother & Kids > Pregnancy & Maternity > Dresses\": \\\n",
    "        \"Women's Clothing > Dresses,Mother & Kids > Girls' Baby Clothing > Dresses,Mother & Kids > Pregnancy & Maternity > Dresses\", \n",
    "    \"Home & Garden > Arts, Crafts & Sewing > Apparel Sewing & Fabric > Buttons,Retrieving data. Wait a few seconds and try to cut or copy again.,nan\": \\\n",
    "        \"Home & Garden > Arts, Crafts & Sewing > Apparel Sewing & Fabric > Buttons,nan,nan\"\n",
    "}"
   ]
  },
  {
   "cell_type": "code",
   "execution_count": 52,
   "metadata": {},
   "outputs": [],
   "source": [
    "df_offshore['query_classifications'] = df_offshore.query_classifications.apply(lambda x: manual_correction[x] if x in manual_correction else x)"
   ]
  },
  {
   "cell_type": "code",
   "execution_count": 53,
   "metadata": {},
   "outputs": [],
   "source": [
    "df_offshore['query_classification_lists'] = df_offshore.query_classifications.apply(trie.extract_from_text)"
   ]
  },
  {
   "cell_type": "code",
   "execution_count": 54,
   "metadata": {},
   "outputs": [],
   "source": [
    "path2id = {}\n",
    "for i in df_tax.to_dict('records'):\n",
    "    path2id[i['category_path'].lower().strip()] = i['id']\n",
    "    path2id[i['category_path'].strip()] = i['id']"
   ]
  },
  {
   "cell_type": "code",
   "execution_count": 55,
   "metadata": {},
   "outputs": [],
   "source": [
    "id2path = {}\n",
    "for i in df_tax.to_dict('records'):\n",
    "    id2path[i['id']] = i['category_path']"
   ]
  },
  {
   "cell_type": "code",
   "execution_count": 56,
   "metadata": {},
   "outputs": [],
   "source": [
    "path2id['nan'] = -1\n",
    "path2id['No Categories Match'] = -1"
   ]
  },
  {
   "cell_type": "code",
   "execution_count": 57,
   "metadata": {},
   "outputs": [],
   "source": [
    "df_offshore['query_classification_ids'] = df_offshore['query_classification_lists'].apply(lambda x: [path2id[i] for i in x])"
   ]
  },
  {
   "cell_type": "code",
   "execution_count": 58,
   "metadata": {},
   "outputs": [],
   "source": [
    "df_appen['query_classification_lists'] = df_appen['query_classifications'].apply(trie.extract_from_text)\n",
    "df_appen['query_classification_ids'] = df_appen['query_classification_lists'].apply(lambda x: [path2id[i] for i in x])"
   ]
  },
  {
   "cell_type": "code",
   "execution_count": 59,
   "metadata": {},
   "outputs": [],
   "source": [
    "df_join = df_offshore[['query', 'query_classification_ids']].rename(columns={'query_classification_ids': 'offshore_query_classification_ids'}).merge( \n",
    "    df_appen[['query', 'query_classification_ids']].rename(columns={'query_classification_ids': 'appen_query_classification_ids'}), \n",
    "    on='query', how='inner'\n",
    ")"
   ]
  },
  {
   "cell_type": "code",
   "execution_count": 60,
   "metadata": {},
   "outputs": [],
   "source": [
    "def convert_id_to_path(li):\n",
    "    if set(li) == set([-1]):\n",
    "        return []\n",
    "    else:\n",
    "        res = [] \n",
    "        for i in li:\n",
    "            if int(i) in id2path:\n",
    "                res.append(id2path[int(i)])\n",
    "        return res"
   ]
  },
  {
   "cell_type": "code",
   "execution_count": 61,
   "metadata": {},
   "outputs": [],
   "source": [
    "df_join['offshore_query_classification_lists'] = df_join['offshore_query_classification_ids'].apply(convert_id_to_path).apply(tuple)\n",
    "df_join['appen_query_classification_lists'] = df_join['appen_query_classification_ids'].apply(convert_id_to_path).apply(tuple)"
   ]
  },
  {
   "cell_type": "code",
   "execution_count": 62,
   "metadata": {},
   "outputs": [],
   "source": [
    "df_join[['query', 'offshore_query_classification_lists', 'appen_query_classification_lists']].to_excel(\n",
    "    'analysis/appen_label_quality_check_20221212.xlsx'\n",
    ")"
   ]
  },
  {
   "cell_type": "code",
   "execution_count": 63,
   "metadata": {},
   "outputs": [],
   "source": [
    "from sklearn.metrics import accuracy_score, classification_report"
   ]
  },
  {
   "cell_type": "code",
   "execution_count": 64,
   "metadata": {},
   "outputs": [],
   "source": [
    "lab_offshore = np.zeros((len(df_join), max(df_tax['id'])))\n",
    "lab_appen = np.zeros((len(df_join), max(df_tax['id'])))"
   ]
  },
  {
   "cell_type": "code",
   "execution_count": 65,
   "metadata": {},
   "outputs": [
    {
     "data": {
      "text/plain": [
       "0.4125560538116592"
      ]
     },
     "execution_count": 65,
     "metadata": {},
     "output_type": "execute_result"
    }
   ],
   "source": [
    "accuracy_score(\n",
    "    y_true=df_join['offshore_query_classification_lists'].apply(lambda x: '|'.join(x)),\n",
    "    y_pred=df_join['appen_query_classification_lists'].apply(lambda x: '|'.join(x))\n",
    ")"
   ]
  },
  {
   "cell_type": "code",
   "execution_count": 66,
   "metadata": {},
   "outputs": [],
   "source": [
    "for ind, i in enumerate(df_join.to_dict('records')):\n",
    "    for j in i['offshore_query_classification_ids']:\n",
    "        if j != -1:\n",
    "            lab_offshore[ind][j] = 1. \n",
    "    for j in i['appen_query_classification_ids']:\n",
    "        if j != -1:\n",
    "            lab_appen[ind][j] = 1. \n",
    "    "
   ]
  },
  {
   "cell_type": "code",
   "execution_count": 67,
   "metadata": {},
   "outputs": [],
   "source": [
    "df_metrics = pd.DataFrame(classification_report(y_true=lab_offshore, y_pred=lab_appen, zero_division=0, output_dict=True)).T"
   ]
  },
  {
   "cell_type": "code",
   "execution_count": 68,
   "metadata": {},
   "outputs": [
    {
     "data": {
      "text/html": [
       "<div>\n",
       "<style scoped>\n",
       "    .dataframe tbody tr th:only-of-type {\n",
       "        vertical-align: middle;\n",
       "    }\n",
       "\n",
       "    .dataframe tbody tr th {\n",
       "        vertical-align: top;\n",
       "    }\n",
       "\n",
       "    .dataframe thead th {\n",
       "        text-align: right;\n",
       "    }\n",
       "</style>\n",
       "<table border=\"1\" class=\"dataframe\">\n",
       "  <thead>\n",
       "    <tr style=\"text-align: right;\">\n",
       "      <th></th>\n",
       "      <th>precision</th>\n",
       "      <th>recall</th>\n",
       "      <th>f1-score</th>\n",
       "      <th>support</th>\n",
       "    </tr>\n",
       "  </thead>\n",
       "  <tbody>\n",
       "    <tr>\n",
       "      <th>0</th>\n",
       "      <td>0.000000</td>\n",
       "      <td>0.000000</td>\n",
       "      <td>0.000000</td>\n",
       "      <td>0.0</td>\n",
       "    </tr>\n",
       "    <tr>\n",
       "      <th>1</th>\n",
       "      <td>0.000000</td>\n",
       "      <td>0.000000</td>\n",
       "      <td>0.000000</td>\n",
       "      <td>0.0</td>\n",
       "    </tr>\n",
       "    <tr>\n",
       "      <th>2</th>\n",
       "      <td>0.000000</td>\n",
       "      <td>0.000000</td>\n",
       "      <td>0.000000</td>\n",
       "      <td>0.0</td>\n",
       "    </tr>\n",
       "    <tr>\n",
       "      <th>3</th>\n",
       "      <td>0.000000</td>\n",
       "      <td>0.000000</td>\n",
       "      <td>0.000000</td>\n",
       "      <td>0.0</td>\n",
       "    </tr>\n",
       "    <tr>\n",
       "      <th>4</th>\n",
       "      <td>0.000000</td>\n",
       "      <td>0.000000</td>\n",
       "      <td>0.000000</td>\n",
       "      <td>0.0</td>\n",
       "    </tr>\n",
       "    <tr>\n",
       "      <th>...</th>\n",
       "      <td>...</td>\n",
       "      <td>...</td>\n",
       "      <td>...</td>\n",
       "      <td>...</td>\n",
       "    </tr>\n",
       "    <tr>\n",
       "      <th>6144</th>\n",
       "      <td>0.000000</td>\n",
       "      <td>0.000000</td>\n",
       "      <td>0.000000</td>\n",
       "      <td>0.0</td>\n",
       "    </tr>\n",
       "    <tr>\n",
       "      <th>micro avg</th>\n",
       "      <td>0.748879</td>\n",
       "      <td>0.414392</td>\n",
       "      <td>0.533546</td>\n",
       "      <td>403.0</td>\n",
       "    </tr>\n",
       "    <tr>\n",
       "      <th>macro avg</th>\n",
       "      <td>0.022593</td>\n",
       "      <td>0.022023</td>\n",
       "      <td>0.022074</td>\n",
       "      <td>403.0</td>\n",
       "    </tr>\n",
       "    <tr>\n",
       "      <th>weighted avg</th>\n",
       "      <td>0.440447</td>\n",
       "      <td>0.414392</td>\n",
       "      <td>0.420377</td>\n",
       "      <td>403.0</td>\n",
       "    </tr>\n",
       "    <tr>\n",
       "      <th>samples avg</th>\n",
       "      <td>0.748879</td>\n",
       "      <td>0.548580</td>\n",
       "      <td>0.604634</td>\n",
       "      <td>403.0</td>\n",
       "    </tr>\n",
       "  </tbody>\n",
       "</table>\n",
       "<p>6149 rows × 4 columns</p>\n",
       "</div>"
      ],
      "text/plain": [
       "              precision    recall  f1-score  support\n",
       "0              0.000000  0.000000  0.000000      0.0\n",
       "1              0.000000  0.000000  0.000000      0.0\n",
       "2              0.000000  0.000000  0.000000      0.0\n",
       "3              0.000000  0.000000  0.000000      0.0\n",
       "4              0.000000  0.000000  0.000000      0.0\n",
       "...                 ...       ...       ...      ...\n",
       "6144           0.000000  0.000000  0.000000      0.0\n",
       "micro avg      0.748879  0.414392  0.533546    403.0\n",
       "macro avg      0.022593  0.022023  0.022074    403.0\n",
       "weighted avg   0.440447  0.414392  0.420377    403.0\n",
       "samples avg    0.748879  0.548580  0.604634    403.0\n",
       "\n",
       "[6149 rows x 4 columns]"
      ]
     },
     "execution_count": 68,
     "metadata": {},
     "output_type": "execute_result"
    }
   ],
   "source": [
    "df_metrics"
   ]
  },
  {
   "cell_type": "code",
   "execution_count": 69,
   "metadata": {},
   "outputs": [
    {
     "data": {
      "text/plain": [
       "1    112\n",
       "3     73\n",
       "2     36\n",
       "0      2\n",
       "Name: offshore_query_classification_ids, dtype: int64"
      ]
     },
     "execution_count": 69,
     "metadata": {},
     "output_type": "execute_result"
    }
   ],
   "source": [
    "df_join.offshore_query_classification_ids.apply(lambda x: len([i for i in x if i != -1])).value_counts()"
   ]
  },
  {
   "cell_type": "code",
   "execution_count": 70,
   "metadata": {},
   "outputs": [
    {
     "data": {
      "text/plain": [
       "1    223\n",
       "Name: appen_query_classification_ids, dtype: int64"
      ]
     },
     "execution_count": 70,
     "metadata": {},
     "output_type": "execute_result"
    }
   ],
   "source": [
    "df_join.appen_query_classification_ids.apply(lambda x: len([i for i in x if i != -1])).value_counts()"
   ]
  },
  {
   "cell_type": "code",
   "execution_count": null,
   "metadata": {},
   "outputs": [],
   "source": []
  }
 ],
 "metadata": {
  "kernelspec": {
   "display_name": "Python 3.8.13 64-bit",
   "language": "python",
   "name": "python3"
  },
  "language_info": {
   "codemirror_mode": {
    "name": "ipython",
    "version": 3
   },
   "file_extension": ".py",
   "mimetype": "text/x-python",
   "name": "python",
   "nbconvert_exporter": "python",
   "pygments_lexer": "ipython3",
   "version": "3.8.13"
  },
  "orig_nbformat": 4,
  "vscode": {
   "interpreter": {
    "hash": "949777d72b0d2535278d3dc13498b2535136f6dfe0678499012e853ee9abcab1"
   }
  }
 },
 "nbformat": 4,
 "nbformat_minor": 2
}
