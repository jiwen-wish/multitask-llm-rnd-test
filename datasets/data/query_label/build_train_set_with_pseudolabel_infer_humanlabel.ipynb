{
 "cells": [
  {
   "cell_type": "code",
   "execution_count": 21,
   "metadata": {},
   "outputs": [],
   "source": [
    "import pandas as pd\n",
    "import dvc.api"
   ]
  },
  {
   "cell_type": "code",
   "execution_count": 2,
   "metadata": {},
   "outputs": [],
   "source": [
    "df_train = pd.concat([ \n",
    "    pd.read_json('/workspaces/multitask-llm-rnd/datasets/data/query_label/processed3/Mixed_Human_Inferred_Query_Classification_Train_DedupOverlap.json', lines=True), \n",
    "    pd.read_json('/workspaces/multitask-llm-rnd/datasets/data/query_label/processed3/OnlyHuman_Labelled_Query_Classification_Train_DedupOverlap.json', lines=True),\n",
    "    pd.read_json('/workspaces/multitask-llm-rnd/datasets/data/query_label/processed3/OnlyInferred_Query_Classification_Train_DedupOverlap.json', lines=True)\n",
    "])\n"
   ]
  },
  {
   "cell_type": "code",
   "execution_count": 11,
   "metadata": {},
   "outputs": [],
   "source": [
    "df_train_unknown_group = df_train[df_train.category == 'unknown'].drop_duplicates('query').groupby('query').agg({'category': lambda x: [i for i in x]}).reset_index()\n",
    "df_train_group = df_train.groupby('query').agg({'category': lambda x: [i for i in x]}).reset_index()"
   ]
  },
  {
   "cell_type": "code",
   "execution_count": 12,
   "metadata": {},
   "outputs": [],
   "source": [
    "df_train_group_merge = df_train_group.merge(df_train_unknown_group.rename(columns={'category': 'category_unknown'}), on='query', how='left')"
   ]
  },
  {
   "cell_type": "code",
   "execution_count": 18,
   "metadata": {},
   "outputs": [
    {
     "data": {
      "text/plain": [
       "True"
      ]
     },
     "execution_count": 18,
     "metadata": {},
     "output_type": "execute_result"
    }
   ],
   "source": [
    "df_train_group_merge.loc[~df_train_group_merge.category_unknown.isna()].category.apply(lambda x: len(x) == 1 and x[0] == 'unknown').all()"
   ]
  },
  {
   "cell_type": "code",
   "execution_count": 24,
   "metadata": {},
   "outputs": [
    {
     "data": {
      "text/html": [
       "<div>\n",
       "<style scoped>\n",
       "    .dataframe tbody tr th:only-of-type {\n",
       "        vertical-align: middle;\n",
       "    }\n",
       "\n",
       "    .dataframe tbody tr th {\n",
       "        vertical-align: top;\n",
       "    }\n",
       "\n",
       "    .dataframe thead th {\n",
       "        text-align: right;\n",
       "    }\n",
       "</style>\n",
       "<table border=\"1\" class=\"dataframe\">\n",
       "  <thead>\n",
       "    <tr style=\"text-align: right;\">\n",
       "      <th></th>\n",
       "      <th>query</th>\n",
       "      <th>category</th>\n",
       "    </tr>\n",
       "  </thead>\n",
       "  <tbody>\n",
       "    <tr>\n",
       "      <th>0</th>\n",
       "      <td>!!! chaquetas y pantalones camisas y polos de ...</td>\n",
       "      <td>[men's clothing &gt; tops &amp; tees &gt; polo shirts]</td>\n",
       "    </tr>\n",
       "    <tr>\n",
       "      <th>1</th>\n",
       "      <td>!ed light</td>\n",
       "      <td>[home improvement &gt; lights &amp; lighting &gt; under ...</td>\n",
       "    </tr>\n",
       "    <tr>\n",
       "      <th>2</th>\n",
       "      <td>!efiel dresses</td>\n",
       "      <td>[novelty &amp; special use &gt; stage &amp; dance wear &gt; ...</td>\n",
       "    </tr>\n",
       "    <tr>\n",
       "      <th>3</th>\n",
       "      <td>!electronic pulse snap pads</td>\n",
       "      <td>[beauty &amp; health &gt; health care &gt; massage produ...</td>\n",
       "    </tr>\n",
       "    <tr>\n",
       "      <th>4</th>\n",
       "      <td>!entes multifocales</td>\n",
       "      <td>[apparel accessories &gt; men's glasses &gt; men's r...</td>\n",
       "    </tr>\n",
       "    <tr>\n",
       "      <th>...</th>\n",
       "      <td>...</td>\n",
       "      <td>...</td>\n",
       "    </tr>\n",
       "    <tr>\n",
       "      <th>2559396</th>\n",
       "      <td>🥒 rick pipes</td>\n",
       "      <td>[home &amp; garden &gt; household merchandise &gt; light...</td>\n",
       "    </tr>\n",
       "    <tr>\n",
       "      <th>2559397</th>\n",
       "      <td>🥶 winter sale 🥶 warm hat knit visor beanie fle...</td>\n",
       "      <td>[apparel accessories &gt; women's accessories &gt; w...</td>\n",
       "    </tr>\n",
       "    <tr>\n",
       "      <th>2559398</th>\n",
       "      <td>🧊cute ice ball molds to make your summer even ...</td>\n",
       "      <td>[home &amp; garden &gt; kitchen,dining &amp; bar &gt; ice cr...</td>\n",
       "    </tr>\n",
       "    <tr>\n",
       "      <th>2559399</th>\n",
       "      <td>🧹squeeze silicone broom sweeping water and pet...</td>\n",
       "      <td>[home &amp; garden &gt; household cleaning &gt; househol...</td>\n",
       "    </tr>\n",
       "    <tr>\n",
       "      <th>2559400</th>\n",
       "      <td>🧽 sponge filter</td>\n",
       "      <td>[home &amp; garden &gt; pet products &gt; fish &amp; aquatic...</td>\n",
       "    </tr>\n",
       "  </tbody>\n",
       "</table>\n",
       "<p>2559401 rows × 2 columns</p>\n",
       "</div>"
      ],
      "text/plain": [
       "                                                     query  \\\n",
       "0        !!! chaquetas y pantalones camisas y polos de ...   \n",
       "1                                                !ed light   \n",
       "2                                           !efiel dresses   \n",
       "3                              !electronic pulse snap pads   \n",
       "4                                      !entes multifocales   \n",
       "...                                                    ...   \n",
       "2559396                                       🥒 rick pipes   \n",
       "2559397  🥶 winter sale 🥶 warm hat knit visor beanie fle...   \n",
       "2559398  🧊cute ice ball molds to make your summer even ...   \n",
       "2559399  🧹squeeze silicone broom sweeping water and pet...   \n",
       "2559400                                    🧽 sponge filter   \n",
       "\n",
       "                                                  category  \n",
       "0             [men's clothing > tops & tees > polo shirts]  \n",
       "1        [home improvement > lights & lighting > under ...  \n",
       "2        [novelty & special use > stage & dance wear > ...  \n",
       "3        [beauty & health > health care > massage produ...  \n",
       "4        [apparel accessories > men's glasses > men's r...  \n",
       "...                                                    ...  \n",
       "2559396  [home & garden > household merchandise > light...  \n",
       "2559397  [apparel accessories > women's accessories > w...  \n",
       "2559398  [home & garden > kitchen,dining & bar > ice cr...  \n",
       "2559399  [home & garden > household cleaning > househol...  \n",
       "2559400  [home & garden > pet products > fish & aquatic...  \n",
       "\n",
       "[2559401 rows x 2 columns]"
      ]
     },
     "execution_count": 24,
     "metadata": {},
     "output_type": "execute_result"
    }
   ],
   "source": [
    "df_train_group"
   ]
  },
  {
   "cell_type": "code",
   "execution_count": 22,
   "metadata": {},
   "outputs": [],
   "source": [
    "df_train_pseudo = pd.read_json(dvc.api.get_url( \n",
    "    'modelling/notebooks/query_classify_pseudolabel/wish_queries_with_timestamp_3yr_all_sample_12M_headtail_qcv2_pseudolabel_train.json',\n",
    "    repo='git@github.com:ContextLogic/multitask-llm-rnd.git'\n",
    "), lines=True)"
   ]
  },
  {
   "cell_type": "code",
   "execution_count": 25,
   "metadata": {},
   "outputs": [],
   "source": [
    "df_train_pseudo_group = df_train_pseudo.groupby('query').agg({'category': lambda x: [i for i in x]}).reset_index()"
   ]
  },
  {
   "cell_type": "code",
   "execution_count": 29,
   "metadata": {},
   "outputs": [
    {
     "data": {
      "text/plain": [
       "11175669"
      ]
     },
     "execution_count": 29,
     "metadata": {},
     "output_type": "execute_result"
    }
   ],
   "source": [
    "len(df_train_pseudo_group)"
   ]
  },
  {
   "cell_type": "code",
   "execution_count": 27,
   "metadata": {},
   "outputs": [],
   "source": [
    "df_train_all_group = df_train_pseudo_group.merge(df_train_group.rename(columns={'category': 'category_real'}), on='query', how='outer')"
   ]
  },
  {
   "cell_type": "code",
   "execution_count": 37,
   "metadata": {},
   "outputs": [],
   "source": [
    "df_train_all_group.loc[(~df_train_all_group.category.isna()) & (~df_train_all_group.category_real.isna()), 'category_merge'] = \\\n",
    "    (df_train_all_group.loc[(~df_train_all_group.category.isna()) & (~df_train_all_group.category_real.isna()), 'category'] + \\\n",
    "     df_train_all_group.loc[(~df_train_all_group.category.isna()) & (~df_train_all_group.category_real.isna()), 'category_real']).apply(lambda x: list(set(x)))"
   ]
  },
  {
   "cell_type": "code",
   "execution_count": 39,
   "metadata": {},
   "outputs": [],
   "source": [
    "df_train_all_group.loc[(df_train_all_group.category_merge.isna()) & (~df_train_all_group.category_real.isna()), 'category_merge'] = \\\n",
    "    df_train_all_group.loc[(df_train_all_group.category_merge.isna()) & (~df_train_all_group.category_real.isna()), 'category_real']\n",
    "df_train_all_group.loc[(df_train_all_group.category_merge.isna()) & (~df_train_all_group.category.isna()), 'category_merge'] = \\\n",
    "    df_train_all_group.loc[(df_train_all_group.category_merge.isna()) & (~df_train_all_group.category.isna()), 'category']"
   ]
  },
  {
   "cell_type": "code",
   "execution_count": 41,
   "metadata": {},
   "outputs": [
    {
     "data": {
      "text/plain": [
       "False"
      ]
     },
     "execution_count": 41,
     "metadata": {},
     "output_type": "execute_result"
    }
   ],
   "source": [
    "df_train_all_group.category_merge.isna().any()"
   ]
  },
  {
   "cell_type": "code",
   "execution_count": 43,
   "metadata": {},
   "outputs": [],
   "source": [
    "del df_train_all_group['category']\n",
    "del df_train_all_group['category_real']\n",
    "df_train_all_group = df_train_all_group.rename(columns={'category_merge': 'category'})"
   ]
  },
  {
   "cell_type": "code",
   "execution_count": 45,
   "metadata": {},
   "outputs": [
    {
     "data": {
      "text/plain": [
       "<AxesSubplot: ylabel='Frequency'>"
      ]
     },
     "execution_count": 45,
     "metadata": {},
     "output_type": "execute_result"
    },
    {
     "data": {
      "image/png": "[encoded data removed]",
      "text/plain": [
       "<Figure size 640x480 with 1 Axes>"
      ]
     },
     "metadata": {},
     "output_type": "display_data"
    }
   ],
   "source": [
    "df_train_all_group.category.apply(len).plot.hist()"
   ]
  },
  {
   "cell_type": "code",
   "execution_count": 49,
   "metadata": {},
   "outputs": [
    {
     "data": {
      "text/plain": [
       "<AxesSubplot: ylabel='category'>"
      ]
     },
     "execution_count": 49,
     "metadata": {},
     "output_type": "execute_result"
    },
    {
     "data": {
      "image/png": "[encoded data removed]",
      "text/plain": [
       "<Figure size 640x480 with 1 Axes>"
      ]
     },
     "metadata": {},
     "output_type": "display_data"
    }
   ],
   "source": [
    "df_train_all_group.category.apply(lambda x: ' > '.join(x[0].split(' > ')[:1])).value_counts().plot.pie()"
   ]
  },
  {
   "cell_type": "code",
   "execution_count": 50,
   "metadata": {},
   "outputs": [],
   "source": [
    "df_tax = pd.read_json(\n",
    "    dvc.api.get_url(\n",
    "        'datasets/data/taxonomy/wish_newtax.json',\n",
    "        repo='git@github.com:ContextLogic/multitask-llm-rnd.git'\n",
    "    ), lines=True\n",
    ")\n",
    "paths = set(df_tax[df_tax.category_path.apply(len) > 0]['category_path'].apply(lambda x: x.lower().strip()))"
   ]
  },
  {
   "cell_type": "code",
   "execution_count": 52,
   "metadata": {},
   "outputs": [
    {
     "data": {
      "text/html": [
       "<div>\n",
       "<style scoped>\n",
       "    .dataframe tbody tr th:only-of-type {\n",
       "        vertical-align: middle;\n",
       "    }\n",
       "\n",
       "    .dataframe tbody tr th {\n",
       "        vertical-align: top;\n",
       "    }\n",
       "\n",
       "    .dataframe thead th {\n",
       "        text-align: right;\n",
       "    }\n",
       "</style>\n",
       "<table border=\"1\" class=\"dataframe\">\n",
       "  <thead>\n",
       "    <tr style=\"text-align: right;\">\n",
       "      <th></th>\n",
       "      <th>query</th>\n",
       "      <th>category</th>\n",
       "    </tr>\n",
       "  </thead>\n",
       "  <tbody>\n",
       "    <tr>\n",
       "      <th>10981410</th>\n",
       "      <td>Ꭲシャツ</td>\n",
       "      <td>[women's clothing &gt; tops &gt; tees, men's clothin...</td>\n",
       "    </tr>\n",
       "    <tr>\n",
       "      <th>10981555</th>\n",
       "      <td>Სwire tires r 15 4x100</td>\n",
       "      <td>[automobiles &amp; motorcycles &gt; auto replacement ...</td>\n",
       "    </tr>\n",
       "    <tr>\n",
       "      <th>11094740</th>\n",
       "      <td>ヴィトン Ꭲシャツ</td>\n",
       "      <td>[men's clothing &gt; tops &amp; tees &gt; t-shirts, men'...</td>\n",
       "    </tr>\n",
       "    <tr>\n",
       "      <th>11100071</th>\n",
       "      <td>半袖Ꭲシャツ</td>\n",
       "      <td>[women's clothing &gt; tops &gt; tees, men's clothin...</td>\n",
       "    </tr>\n",
       "  </tbody>\n",
       "</table>\n",
       "</div>"
      ],
      "text/plain": [
       "                           query  \\\n",
       "10981410                    Ꭲシャツ   \n",
       "10981555  Სwire tires r 15 4x100   \n",
       "11094740               ヴィトン Ꭲシャツ   \n",
       "11100071                  半袖Ꭲシャツ   \n",
       "\n",
       "                                                   category  \n",
       "10981410  [women's clothing > tops > tees, men's clothin...  \n",
       "10981555  [automobiles & motorcycles > auto replacement ...  \n",
       "11094740  [men's clothing > tops & tees > t-shirts, men'...  \n",
       "11100071  [women's clothing > tops > tees, men's clothin...  "
      ]
     },
     "execution_count": 52,
     "metadata": {},
     "output_type": "execute_result"
    }
   ],
   "source": [
    "df_train_all_group[df_train_all_group['query'] != df_train_all_group['query'].str.lower()]"
   ]
  },
  {
   "cell_type": "code",
   "execution_count": 58,
   "metadata": {},
   "outputs": [],
   "source": [
    "paths.add('unknown')"
   ]
  },
  {
   "cell_type": "code",
   "execution_count": 59,
   "metadata": {},
   "outputs": [
    {
     "data": {
      "text/plain": [
       "False"
      ]
     },
     "execution_count": 59,
     "metadata": {},
     "output_type": "execute_result"
    }
   ],
   "source": [
    "df_train_all_group.category.apply(lambda x: all([i in paths for i in x])).all()"
   ]
  },
  {
   "cell_type": "code",
   "execution_count": 60,
   "metadata": {},
   "outputs": [
    {
     "data": {
      "text/html": [
       "<div>\n",
       "<style scoped>\n",
       "    .dataframe tbody tr th:only-of-type {\n",
       "        vertical-align: middle;\n",
       "    }\n",
       "\n",
       "    .dataframe tbody tr th {\n",
       "        vertical-align: top;\n",
       "    }\n",
       "\n",
       "    .dataframe thead th {\n",
       "        text-align: right;\n",
       "    }\n",
       "</style>\n",
       "<table border=\"1\" class=\"dataframe\">\n",
       "  <thead>\n",
       "    <tr style=\"text-align: right;\">\n",
       "      <th></th>\n",
       "      <th>query</th>\n",
       "      <th>category</th>\n",
       "    </tr>\n",
       "  </thead>\n",
       "  <tbody>\n",
       "    <tr>\n",
       "      <th>10331566</th>\n",
       "      <td>vitamin c tablets</td>\n",
       "      <td>[beauty &amp; health &gt; health care, , beauty &amp; hea...</td>\n",
       "    </tr>\n",
       "    <tr>\n",
       "      <th>12175608</th>\n",
       "      <td>peppermint oil softgels</td>\n",
       "      <td>[]</td>\n",
       "    </tr>\n",
       "  </tbody>\n",
       "</table>\n",
       "</div>"
      ],
      "text/plain": [
       "                            query  \\\n",
       "10331566        vitamin c tablets   \n",
       "12175608  peppermint oil softgels   \n",
       "\n",
       "                                                   category  \n",
       "10331566  [beauty & health > health care, , beauty & hea...  \n",
       "12175608                                                 []  "
      ]
     },
     "execution_count": 60,
     "metadata": {},
     "output_type": "execute_result"
    }
   ],
   "source": [
    "df_train_all_group[df_train_all_group.category.apply(lambda x: not all([i in paths for i in x]))]"
   ]
  },
  {
   "cell_type": "code",
   "execution_count": 63,
   "metadata": {},
   "outputs": [
    {
     "data": {
      "text/html": [
       "<div>\n",
       "<style scoped>\n",
       "    .dataframe tbody tr th:only-of-type {\n",
       "        vertical-align: middle;\n",
       "    }\n",
       "\n",
       "    .dataframe tbody tr th {\n",
       "        vertical-align: top;\n",
       "    }\n",
       "\n",
       "    .dataframe thead th {\n",
       "        text-align: right;\n",
       "    }\n",
       "</style>\n",
       "<table border=\"1\" class=\"dataframe\">\n",
       "  <thead>\n",
       "    <tr style=\"text-align: right;\">\n",
       "      <th></th>\n",
       "      <th>query</th>\n",
       "      <th>category</th>\n",
       "    </tr>\n",
       "  </thead>\n",
       "  <tbody>\n",
       "    <tr>\n",
       "      <th>0</th>\n",
       "      <td>\bdr martin</td>\n",
       "      <td>[shoes &gt; women's shoes &gt; women's boots]</td>\n",
       "    </tr>\n",
       "    <tr>\n",
       "      <th>1</th>\n",
       "      <td>\b犬靴</td>\n",
       "      <td>[home &amp; garden &gt; pet products &gt; dog clothing &amp;...</td>\n",
       "    </tr>\n",
       "    <tr>\n",
       "      <th>2</th>\n",
       "      <td>\u00100jesus headband</td>\n",
       "      <td>[apparel accessories &gt; women's hair accessories]</td>\n",
       "    </tr>\n",
       "    <tr>\n",
       "      <th>3</th>\n",
       "      <td>! 12</td>\n",
       "      <td>[computer &amp; office &gt; computer components &gt; cpus]</td>\n",
       "    </tr>\n",
       "    <tr>\n",
       "      <th>4</th>\n",
       "      <td>! asus rog phone 2</td>\n",
       "      <td>[cellphones &amp; telecommunications &gt; cellphones]</td>\n",
       "    </tr>\n",
       "    <tr>\n",
       "      <th>...</th>\n",
       "      <td>...</td>\n",
       "      <td>...</td>\n",
       "    </tr>\n",
       "    <tr>\n",
       "      <th>12678842</th>\n",
       "      <td>🥒 rick pipes</td>\n",
       "      <td>[home &amp; garden &gt; household merchandise &gt; light...</td>\n",
       "    </tr>\n",
       "    <tr>\n",
       "      <th>12678843</th>\n",
       "      <td>🥶 winter sale 🥶 warm hat knit visor beanie fle...</td>\n",
       "      <td>[apparel accessories &gt; women's accessories &gt; w...</td>\n",
       "    </tr>\n",
       "    <tr>\n",
       "      <th>12678844</th>\n",
       "      <td>🧊cute ice ball molds to make your summer even ...</td>\n",
       "      <td>[home &amp; garden &gt; kitchen,dining &amp; bar &gt; ice cr...</td>\n",
       "    </tr>\n",
       "    <tr>\n",
       "      <th>12678845</th>\n",
       "      <td>🧹squeeze silicone broom sweeping water and pet...</td>\n",
       "      <td>[home &amp; garden &gt; household cleaning &gt; househol...</td>\n",
       "    </tr>\n",
       "    <tr>\n",
       "      <th>12678846</th>\n",
       "      <td>🧽 sponge filter</td>\n",
       "      <td>[home &amp; garden &gt; pet products &gt; fish &amp; aquatic...</td>\n",
       "    </tr>\n",
       "  </tbody>\n",
       "</table>\n",
       "<p>12678846 rows × 2 columns</p>\n",
       "</div>"
      ],
      "text/plain": [
       "                                                      query  \\\n",
       "0                                                \bdr martin   \n",
       "1                                                       \b犬靴   \n",
       "2                                          \u00100jesus headband   \n",
       "3                                                      ! 12   \n",
       "4                                        ! asus rog phone 2   \n",
       "...                                                     ...   \n",
       "12678842                                       🥒 rick pipes   \n",
       "12678843  🥶 winter sale 🥶 warm hat knit visor beanie fle...   \n",
       "12678844  🧊cute ice ball molds to make your summer even ...   \n",
       "12678845  🧹squeeze silicone broom sweeping water and pet...   \n",
       "12678846                                    🧽 sponge filter   \n",
       "\n",
       "                                                   category  \n",
       "0                   [shoes > women's shoes > women's boots]  \n",
       "1         [home & garden > pet products > dog clothing &...  \n",
       "2          [apparel accessories > women's hair accessories]  \n",
       "3          [computer & office > computer components > cpus]  \n",
       "4            [cellphones & telecommunications > cellphones]  \n",
       "...                                                     ...  \n",
       "12678842  [home & garden > household merchandise > light...  \n",
       "12678843  [apparel accessories > women's accessories > w...  \n",
       "12678844  [home & garden > kitchen,dining & bar > ice cr...  \n",
       "12678845  [home & garden > household cleaning > househol...  \n",
       "12678846  [home & garden > pet products > fish & aquatic...  \n",
       "\n",
       "[12678846 rows x 2 columns]"
      ]
     },
     "execution_count": 63,
     "metadata": {},
     "output_type": "execute_result"
    }
   ],
   "source": [
    "df_train_all_group.loc[10331566, 'category'] = ['beauty & health > health care',\n",
    "  'beauty & health > health care > personal health care',\n",
    "  'beauty & health > health care > personal health care > pill cases & splitters']"
   ]
  },
  {
   "cell_type": "code",
   "execution_count": 65,
   "metadata": {},
   "outputs": [],
   "source": [
    "df_train_all_group = df_train_all_group.drop(12175608)"
   ]
  },
  {
   "cell_type": "code",
   "execution_count": 66,
   "metadata": {},
   "outputs": [
    {
     "data": {
      "text/html": [
       "<div>\n",
       "<style scoped>\n",
       "    .dataframe tbody tr th:only-of-type {\n",
       "        vertical-align: middle;\n",
       "    }\n",
       "\n",
       "    .dataframe tbody tr th {\n",
       "        vertical-align: top;\n",
       "    }\n",
       "\n",
       "    .dataframe thead th {\n",
       "        text-align: right;\n",
       "    }\n",
       "</style>\n",
       "<table border=\"1\" class=\"dataframe\">\n",
       "  <thead>\n",
       "    <tr style=\"text-align: right;\">\n",
       "      <th></th>\n",
       "      <th>query</th>\n",
       "      <th>category</th>\n",
       "    </tr>\n",
       "  </thead>\n",
       "  <tbody>\n",
       "  </tbody>\n",
       "</table>\n",
       "</div>"
      ],
      "text/plain": [
       "Empty DataFrame\n",
       "Columns: [query, category]\n",
       "Index: []"
      ]
     },
     "execution_count": 66,
     "metadata": {},
     "output_type": "execute_result"
    }
   ],
   "source": [
    "df_train_all_group[df_train_all_group.category.apply(lambda x: not all([i in paths for i in x]))]"
   ]
  },
  {
   "cell_type": "code",
   "execution_count": 68,
   "metadata": {},
   "outputs": [],
   "source": [
    "def remove_prefix_strings(strings_in):\n",
    "    res = set(strings_in)\n",
    "    strings = sorted(res, key=len)\n",
    "    for i in range(len(strings)):\n",
    "        for j in range(i+1, len(strings)):\n",
    "            if strings[j].startswith(strings[i]):\n",
    "                res.remove(strings[i])\n",
    "                break\n",
    "    return list(res)"
   ]
  },
  {
   "cell_type": "code",
   "execution_count": 69,
   "metadata": {},
   "outputs": [],
   "source": [
    "df_train_all_group['category_dedup'] = df_train_all_group['category'].apply(remove_prefix_strings)"
   ]
  },
  {
   "cell_type": "code",
   "execution_count": 70,
   "metadata": {},
   "outputs": [
    {
     "data": {
      "text/plain": [
       "<AxesSubplot: ylabel='Frequency'>"
      ]
     },
     "execution_count": 70,
     "metadata": {},
     "output_type": "execute_result"
    },
    {
     "data": {
      "image/png": "[encoded data removed]",
      "text/plain": [
       "<Figure size 640x480 with 1 Axes>"
      ]
     },
     "metadata": {},
     "output_type": "display_data"
    }
   ],
   "source": [
    "df_train_all_group.category_dedup.apply(len).plot.hist()"
   ]
  },
  {
   "cell_type": "code",
   "execution_count": 76,
   "metadata": {},
   "outputs": [],
   "source": [
    "df_train_all_group['category'] = df_train_all_group['category_dedup']\n",
    "del df_train_all_group['category_dedup']"
   ]
  },
  {
   "cell_type": "code",
   "execution_count": 78,
   "metadata": {},
   "outputs": [],
   "source": [
    "df_train_all_group['category'] = df_train_all_group['category'].apply(lambda x: '\\n'.join(x))"
   ]
  },
  {
   "cell_type": "code",
   "execution_count": 86,
   "metadata": {},
   "outputs": [],
   "source": [
    "df_val = pd.read_json(dvc.api.get_url( \n",
    "    'datasets/data/query_label/processed2/Human_Labelled_Query_Classification_Val_processed_multilabel_seqclf.json',\n",
    "    repo='git@github.com:ContextLogic/multitask-llm-rnd.git'\n",
    "), lines=True)\n",
    "\n",
    "df_test = pd.read_json(dvc.api.get_url( \n",
    "    'datasets/data/query_label/processed/Offshore_Labelled_Query_Classification_Test_V2.json',\n",
    "    repo='git@github.com:ContextLogic/multitask-llm-rnd.git'\n",
    "), lines=True)"
   ]
  },
  {
   "cell_type": "code",
   "execution_count": 104,
   "metadata": {},
   "outputs": [],
   "source": [
    "df_valtest = pd.concat([df_val[['query']], df_val[['query']]])"
   ]
  },
  {
   "cell_type": "code",
   "execution_count": 108,
   "metadata": {},
   "outputs": [
    {
     "data": {
      "text/plain": [
       "set()"
      ]
     },
     "execution_count": 108,
     "metadata": {},
     "output_type": "execute_result"
    }
   ],
   "source": [
    "set(df_val['query']).intersection(set(df_test['query']))"
   ]
  },
  {
   "cell_type": "code",
   "execution_count": 96,
   "metadata": {},
   "outputs": [],
   "source": [
    "df_human = pd.concat([\n",
    "    pd.read_json('/workspaces/multitask-llm-rnd/datasets/data/query_label/processed3/Mixed_Human_Inferred_Query_Classification_Train_DedupOverlap.json', lines=True), \n",
    "    pd.read_json('/workspaces/multitask-llm-rnd/datasets/data/query_label/processed3/OnlyHuman_Labelled_Query_Classification_Train_DedupOverlap.json', lines=True),\n",
    "])"
   ]
  },
  {
   "cell_type": "code",
   "execution_count": 97,
   "metadata": {},
   "outputs": [
    {
     "data": {
      "text/plain": [
       "set()"
      ]
     },
     "execution_count": 97,
     "metadata": {},
     "output_type": "execute_result"
    }
   ],
   "source": [
    "set(df_test['query']).intersection(set(df_human['query']))"
   ]
  },
  {
   "cell_type": "code",
   "execution_count": 98,
   "metadata": {},
   "outputs": [
    {
     "data": {
      "text/plain": [
       "13100"
      ]
     },
     "execution_count": 98,
     "metadata": {},
     "output_type": "execute_result"
    }
   ],
   "source": [
    "len(set(df_test['query']).intersection(set(df_train_all_group['query'])))"
   ]
  },
  {
   "cell_type": "code",
   "execution_count": 99,
   "metadata": {},
   "outputs": [
    {
     "data": {
      "text/html": [
       "<div>\n",
       "<style scoped>\n",
       "    .dataframe tbody tr th:only-of-type {\n",
       "        vertical-align: middle;\n",
       "    }\n",
       "\n",
       "    .dataframe tbody tr th {\n",
       "        vertical-align: top;\n",
       "    }\n",
       "\n",
       "    .dataframe thead th {\n",
       "        text-align: right;\n",
       "    }\n",
       "</style>\n",
       "<table border=\"1\" class=\"dataframe\">\n",
       "  <thead>\n",
       "    <tr style=\"text-align: right;\">\n",
       "      <th></th>\n",
       "      <th>query</th>\n",
       "      <th>category</th>\n",
       "    </tr>\n",
       "  </thead>\n",
       "  <tbody>\n",
       "    <tr>\n",
       "      <th>0</th>\n",
       "      <td>\bdr martin</td>\n",
       "      <td>shoes &gt; women's shoes &gt; women's boots</td>\n",
       "    </tr>\n",
       "    <tr>\n",
       "      <th>1</th>\n",
       "      <td>\b犬靴</td>\n",
       "      <td>home &amp; garden &gt; pet products &gt; dog clothing &amp; ...</td>\n",
       "    </tr>\n",
       "    <tr>\n",
       "      <th>2</th>\n",
       "      <td>\u00100jesus headband</td>\n",
       "      <td>apparel accessories &gt; women's hair accessories</td>\n",
       "    </tr>\n",
       "    <tr>\n",
       "      <th>3</th>\n",
       "      <td>! 12</td>\n",
       "      <td>computer &amp; office &gt; computer components &gt; cpus</td>\n",
       "    </tr>\n",
       "    <tr>\n",
       "      <th>4</th>\n",
       "      <td>! asus rog phone 2</td>\n",
       "      <td>cellphones &amp; telecommunications &gt; cellphones</td>\n",
       "    </tr>\n",
       "    <tr>\n",
       "      <th>...</th>\n",
       "      <td>...</td>\n",
       "      <td>...</td>\n",
       "    </tr>\n",
       "    <tr>\n",
       "      <th>12678842</th>\n",
       "      <td>🥒 rick pipes</td>\n",
       "      <td>home &amp; garden &gt; household merchandise &gt; lighte...</td>\n",
       "    </tr>\n",
       "    <tr>\n",
       "      <th>12678843</th>\n",
       "      <td>🥶 winter sale 🥶 warm hat knit visor beanie fle...</td>\n",
       "      <td>apparel accessories &gt; women's accessories &gt; wo...</td>\n",
       "    </tr>\n",
       "    <tr>\n",
       "      <th>12678844</th>\n",
       "      <td>🧊cute ice ball molds to make your summer even ...</td>\n",
       "      <td>home &amp; garden &gt; kitchen,dining &amp; bar &gt; ice cre...</td>\n",
       "    </tr>\n",
       "    <tr>\n",
       "      <th>12678845</th>\n",
       "      <td>🧹squeeze silicone broom sweeping water and pet...</td>\n",
       "      <td>home &amp; garden &gt; household cleaning &gt; household...</td>\n",
       "    </tr>\n",
       "    <tr>\n",
       "      <th>12678846</th>\n",
       "      <td>🧽 sponge filter</td>\n",
       "      <td>home &amp; garden &gt; pet products &gt; fish &amp; aquatic ...</td>\n",
       "    </tr>\n",
       "  </tbody>\n",
       "</table>\n",
       "<p>12678846 rows × 2 columns</p>\n",
       "</div>"
      ],
      "text/plain": [
       "                                                      query  \\\n",
       "0                                                \bdr martin   \n",
       "1                                                       \b犬靴   \n",
       "2                                          \u00100jesus headband   \n",
       "3                                                      ! 12   \n",
       "4                                        ! asus rog phone 2   \n",
       "...                                                     ...   \n",
       "12678842                                       🥒 rick pipes   \n",
       "12678843  🥶 winter sale 🥶 warm hat knit visor beanie fle...   \n",
       "12678844  🧊cute ice ball molds to make your summer even ...   \n",
       "12678845  🧹squeeze silicone broom sweeping water and pet...   \n",
       "12678846                                    🧽 sponge filter   \n",
       "\n",
       "                                                   category  \n",
       "0                     shoes > women's shoes > women's boots  \n",
       "1         home & garden > pet products > dog clothing & ...  \n",
       "2            apparel accessories > women's hair accessories  \n",
       "3            computer & office > computer components > cpus  \n",
       "4              cellphones & telecommunications > cellphones  \n",
       "...                                                     ...  \n",
       "12678842  home & garden > household merchandise > lighte...  \n",
       "12678843  apparel accessories > women's accessories > wo...  \n",
       "12678844  home & garden > kitchen,dining & bar > ice cre...  \n",
       "12678845  home & garden > household cleaning > household...  \n",
       "12678846  home & garden > pet products > fish & aquatic ...  \n",
       "\n",
       "[12678846 rows x 2 columns]"
      ]
     },
     "execution_count": 99,
     "metadata": {},
     "output_type": "execute_result"
    }
   ],
   "source": [
    "df_train_all_group.merge()"
   ]
  },
  {
   "cell_type": "code",
   "execution_count": 110,
   "metadata": {},
   "outputs": [],
   "source": [
    "df_valtest['valtest'] = True"
   ]
  },
  {
   "cell_type": "code",
   "execution_count": 111,
   "metadata": {},
   "outputs": [],
   "source": [
    "df_train_all_group = df_train_all_group.merge(df_valtest, on='query', how='left')"
   ]
  },
  {
   "cell_type": "code",
   "execution_count": 113,
   "metadata": {},
   "outputs": [],
   "source": [
    "df_train_all_group_novaltest = df_train_all_group[df_train_all_group.valtest.isna()]"
   ]
  },
  {
   "cell_type": "code",
   "execution_count": 115,
   "metadata": {},
   "outputs": [
    {
     "data": {
      "text/plain": [
       "0.9992407554884981"
      ]
     },
     "execution_count": 115,
     "metadata": {},
     "output_type": "execute_result"
    }
   ],
   "source": [
    "len(df_train_all_group_novaltest) / len(df_train_all_group)"
   ]
  },
  {
   "cell_type": "code",
   "execution_count": 117,
   "metadata": {},
   "outputs": [],
   "source": [
    "del df_train_all_group_novaltest['valtest']"
   ]
  },
  {
   "cell_type": "code",
   "execution_count": 119,
   "metadata": {},
   "outputs": [],
   "source": [
    "df_train_all_group.to_json(\n",
    "    'processed4/Mixed_Human_Inferred_Modelpseudo_Query_Classification_Train_DedupOverlap_processed_multilabel_seqclf.json', lines=True, orient='records')"
   ]
  },
  {
   "cell_type": "code",
   "execution_count": null,
   "metadata": {},
   "outputs": [],
   "source": []
  }
 ],
 "metadata": {
  "kernelspec": {
   "display_name": "Python 3",
   "language": "python",
   "name": "python3"
  },
  "language_info": {
   "codemirror_mode": {
    "name": "ipython",
    "version": 3
   },
   "file_extension": ".py",
   "mimetype": "text/x-python",
   "name": "python",
   "nbconvert_exporter": "python",
   "pygments_lexer": "ipython3",
   "version": "3.8.13"
  },
  "orig_nbformat": 4,
  "vscode": {
   "interpreter": {
    "hash": "949777d72b0d2535278d3dc13498b2535136f6dfe0678499012e853ee9abcab1"
   }
  }
 },
 "nbformat": 4,
 "nbformat_minor": 2
}
