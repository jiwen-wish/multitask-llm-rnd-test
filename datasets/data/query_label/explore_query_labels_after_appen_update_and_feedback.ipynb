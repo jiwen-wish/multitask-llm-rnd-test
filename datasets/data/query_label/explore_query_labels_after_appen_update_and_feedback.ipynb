{
 "cells": [
  {
   "cell_type": "code",
   "execution_count": 53,
   "metadata": {},
   "outputs": [],
   "source": [
    "import pandas as pd\n",
    "from collections import Counter\n",
    "import re\n",
    "import numpy as np"
   ]
  },
  {
   "cell_type": "code",
   "execution_count": 54,
   "metadata": {},
   "outputs": [],
   "source": [
    "df_appen = pd.read_excel('appen/Query Classification_01.06.23.xlsx').sort_values('label_ordering')"
   ]
  },
  {
   "cell_type": "code",
   "execution_count": 55,
   "metadata": {},
   "outputs": [],
   "source": [
    "df_original = pd.read_json(\"../query/top_used_wish_queries_offshore_sample_100000.json\", lines=True)"
   ]
  },
  {
   "cell_type": "code",
   "execution_count": 56,
   "metadata": {},
   "outputs": [],
   "source": [
    "files = [ \n",
    "    'offshore/TieBreaker File - 8 Dec 22.xlsx',\n",
    "    'offshore/TieBreaker File - 9 Dec 22.xlsx',\n",
    "    'offshore/TieBreaker File - 12 Dec 22.xlsx',\n",
    "    'offshore/TieBreaker File - 13 Dec 22.xlsx',\n",
    "    'offshore/TieBreaker File - 14 Dec 22.xlsx',\n",
    "    'offshore/TieBreaker File - 15 Dec 22.xlsx',\n",
    "    'offshore/TieBreaker File - 16 Dec 22.xlsx',\n",
    "    'offshore/TieBreaker File - 19 Dec 22.xlsx',\n",
    "    'offshore/TieBreaker File - 20 Dec 22.xlsx',\n",
    "    'offshore/TieBreaker File - 21 Dec 22.xlsx',\n",
    "    'offshore/TieBreaker File - 22 Dec 22.xlsx',\n",
    "    'offshore/TieBreaker File - 23 Dec 22.xlsx',\n",
    "    'offshore/TieBreaker File - 26 Dec 22.xlsx',\n",
    "    'offshore/TieBreaker File - 27 _ 28 Dec 22.xlsx',\n",
    "    'offshore/TieBreaker File - 29 Dec.xlsx',\n",
    "    'offshore/TieBreaker File - 30 Dec 22 to 1 Jan 23.xlsx',\n",
    "    'offshore/TieBreaker File - 2 Jan 23.xlsx',\n",
    "    'offshore/TieBreaker File - 3 _ 4 Jan 23.xlsx',\n",
    "    'offshore/TieBreaker File - 5 Jan 23.xlsx',\n",
    "    'offshore/TieBreaker File - 6 _ 7 Jan 23.xlsx'\n",
    "]\n",
    "dfs = []\n",
    "for i in files:\n",
    "    tmp = pd.read_excel(i)\n",
    "    tmp['filename'] = i\n",
    "    dfs.append(tmp)\n",
    "\n",
    "df_offshore = pd.concat(dfs)[['index', 'filename', 'Sr No', 'query', 'sample_method', 'gmv', 'cnt', \n",
    "    'Tiebreaked All SortedByConfidenceHighestFirst taxonomy path Full Paths']].rename( \n",
    "        columns={\n",
    "            'Sr No': 'label_ordering', \n",
    "            'Tiebreaked All SortedByConfidenceHighestFirst taxonomy path Full Paths': 'query_classifications'}\n",
    "    )\n",
    "\n",
    "\n",
    "df_offshore['label_ordering'] = df_offshore['label_ordering'].astype(int)\n",
    "df_offshore['index'] = df_offshore['index'].astype(int)\n",
    "df_offshore['query'] = df_offshore['query'].astype(str)\n",
    "df_offshore = df_offshore.merge(df_original[['index', 'query']].rename(columns={'query': 'orig_query'}), on='index', how='inner')\n",
    "df_offshore.loc[df_offshore['query'] != df_offshore['orig_query'], \"query\"] = df_offshore.loc[df_offshore['query'] != df_offshore['orig_query'], \"orig_query\"]\n",
    "assert len(df_offshore) == len(set(df_offshore['query']))\n"
   ]
  },
  {
   "cell_type": "code",
   "execution_count": 57,
   "metadata": {},
   "outputs": [],
   "source": [
    "df_tax = pd.read_json('../taxonomy/wish_newtax.json', lines=True)"
   ]
  },
  {
   "cell_type": "code",
   "execution_count": 58,
   "metadata": {},
   "outputs": [],
   "source": [
    "df_tax = df_tax[df_tax.category_path.apply(len) > 0]"
   ]
  },
  {
   "cell_type": "code",
   "execution_count": 59,
   "metadata": {},
   "outputs": [],
   "source": [
    "df_tax = pd.read_json('../taxonomy/wish_newtax.json', lines=True)\n",
    "df_tax = df_tax[df_tax.category_path.apply(len) > 0]\n",
    "errors = []\n",
    "class Trie:\n",
    "    def __init__(self):\n",
    "        self.trie = {}\n",
    "\n",
    "    def add_text(self, text):\n",
    "        node = self.trie\n",
    "        for ind, i in enumerate(text):\n",
    "            if i not in node:\n",
    "                node[i] = {}\n",
    "            node = node[i]\n",
    "            if ind == len(text) - 1:\n",
    "                node['<EOS>'] = 1\n",
    "    \n",
    "    def extract_from_text(self, text):\n",
    "        node = self.trie\n",
    "        res = []\n",
    "        cur_res = ''\n",
    "        for ind, i in enumerate(text):\n",
    "            if i in node:\n",
    "                node = node[i]\n",
    "                cur_res += i\n",
    "            else:\n",
    "                try:\n",
    "                    assert '<EOS>' in node\n",
    "                except:\n",
    "                    print('ERROR: ', text, res)\n",
    "                    errors.append(text)\n",
    "                    return None\n",
    "                res.append(cur_res)\n",
    "                cur_res = ''\n",
    "                node = self.trie\n",
    "        if len(cur_res) > 0:\n",
    "            res.append(cur_res)\n",
    "        \n",
    "        return res\n",
    "trie = Trie()\n",
    "for i in df_tax.category_path.apply(lambda x: x.strip()).tolist():\n",
    "    trie.add_text(i)\n",
    "for i in df_tax.category_path.apply(lambda x: x.strip().lower()).tolist():\n",
    "    trie.add_text(i)\n",
    "trie.add_text('nan')\n",
    "trie.add_text('No Categories Match')\n",
    "manual_correction = {\n",
    "    \"Beauty & Health > Sexual Wellness > Sex Toys,Beauty & Health > Sexual Wellness > SM Products ,nan\": \\\n",
    "        \"Beauty & Health > Sexual Wellness > Sex Toys,Beauty & Health > Sexual Wellness > SM Products,nan\",\n",
    "    \"Apparel Accessories > Girls' Accessories > Girls' Hair Accessories -,Apparel Accessories > Women's Hair Accessories,sports > fitness & body building > yoga > yoga hair bands\": \\\n",
    "        \"Apparel Accessories > Girls' Accessories > Girls' Hair Accessories,Apparel Accessories > Women's Hair Accessories,sports > fitness & body building > yoga > yoga hair bands\",\n",
    "    \"Women's Clothing > Dresses ,women's clothing > weddings & events > wedding dresses,mother & kids > pregnancy & maternity > dresses\": \\\n",
    "        \"Women's Clothing > Dresses,women's clothing > weddings & events > wedding dresses,mother & kids > pregnancy & maternity > dresses\",\n",
    "    \"Women's Clothing > Dresses, Mother & Kids > Girls' Baby Clothing > Dresses,Mother & Kids > Pregnancy & Maternity > Dresses\": \\\n",
    "        \"Women's Clothing > Dresses,Mother & Kids > Girls' Baby Clothing > Dresses,Mother & Kids > Pregnancy & Maternity > Dresses\", \n",
    "    \"Home & Garden > Arts, Crafts & Sewing > Apparel Sewing & Fabric > Buttons,Retrieving data. Wait a few seconds and try to cut or copy again.,nan\": \\\n",
    "        \"Home & Garden > Arts, Crafts & Sewing > Apparel Sewing & Fabric > Buttons,nan,nan\",\n",
    "    \"Men's Clothing > Tops & Tees > T-Shirts,Watches > Men's Watches > Quartz Watch,Home & Garden > Kitchen,Dining & Bar > Coffeeware > Coffee Cups & Mugs\": \\\n",
    "         \"Men's Clothing > Tops & Tees > T-Shirts,Watches > Men's Watches > Quartz Watches,Home & Garden > Kitchen,Dining & Bar > Coffeeware > Coffee Cups & Mugs\",\n",
    "    \"education & office supplies > writing & correction supplies > stencils,Crafts & Sewing > Scrapbooking & Stamping > Cutting Dies,home & garden > arts, crafts & sewing > apparel sewing & fabric > diy craft supplies\": \\\n",
    "        \"education & office supplies > writing & correction supplies > stencils,Home & Garden > Arts, Crafts & Sewing > Scrapbooking & Stamping > Cutting Dies,home & garden > arts, crafts & sewing > apparel sewing & fabric > diy craft supplies\",\n",
    "    \"Home & Garden > Home Decor > Painting & Calligraphy,Home Improvement > Painting Supplies & Wall Treatments > Wallpapers,Home & Garden > Home Decor > Wall Sticker\": \\\n",
    "        \"Home & Garden > Home Decor > Painting & Calligraphy,Home Improvement > Painting Supplies & Wall Treatments > Wallpapers,Home & Garden > Home Decor > Wall Stickers\",\n",
    "    \"Computer & Office > Office Electronics > Printer,Computer & Office > Office Electronics > All in One Printer,Education & Office Supplies > Paper > Printer Paper\": \\\n",
    "        \"Computer & Office > Office Electronics > Printers,Computer & Office > Office Electronics > All in One Printer,Education & Office Supplies > Paper > Printer Paper\",\n",
    "    \"Home & Garden > Home Textile > Bedding > Pillow Cases, Home & Garden > Home Textile > Bedding > Quilts,Home & Garden > Home Textile > Duvet Cover Sets\": \\\n",
    "        \"Home & Garden > Home Textile > Bedding > Pillow Cases,Home & Garden > Home Textile > Bedding > Quilts,Home & Garden > Home Textile > Duvet Cover Sets\",\n",
    "    \"Accessories > Earrings >\\xa0Hoop Earrings,nan,nan\": \"Jewelry & Accessories > Earrings > Hoop Earrings,nan,nan\", \n",
    "    \"Shoes > Men's Shoes > Men's Boots,Shoes > Women's Shoes > Women's Boots,Children's Shoes > Boys > Boots Mother & Kids > Children's Shoes > Boys > Boots\": \\\n",
    "        \"Shoes > Men's Shoes > Men's Boots,Shoes > Women's Shoes > Women's Boots,Mother & Kids > Children's Shoes > Boys > Boots\",\n",
    "    \"Beauty & Health > Sexual Wellness > SM Products > Bondage Gear,Beauty & Health > Sexual Wellness ,nan\": \\\n",
    "        \"Beauty & Health > Sexual Wellness > SM Products > Bondage Gear,Beauty & Health > Sexual Wellness,nan\",\n",
    "    \"No Category Match\": \"No Categories Match,nan,nan\",\n",
    "    \"car assessories interior,Mother & Kids > Car Seats & Accessories > Head & Body Supports,Mother & Kids > Car Seats & Accessories > Rear Facing Mirrors\": \\\n",
    "        \"Mother & Kids > Car Seats & Accessories > Head & Body Supports,Mother & Kids > Car Seats & Accessories > Rear Facing Mirrors,nan\",\n",
    "    \"No Category Match,nan,nan\": \"No Categories Match,nan,nan\",\n",
    "    \"Education & Office Supplies > Books & Magazines ,nan,nan\": \"Education & Office Supplies > Books & Magazines,nan,nan\",\n",
    "    \"Apparel Accessories > Men's Accessories > Men's Masks,Apparel Accessories > Women's Accessories > Women's Masks  ,nan\": \\\n",
    "        \"Apparel Accessories > Men's Accessories > Men's Masks,Apparel Accessories > Women's Accessories > Women's Masks,nan\",\n",
    "    \"Women's Clothing > Dresses ,Women's Clothing > Sweaters > Dresses,nan\": \\\n",
    "        \"Women's Clothing > Dresses,Women's Clothing > Sweaters > Dresses,nan\",\n",
    "    \"Women's Clothing > Tops > Blouses & Shirts - ,nan,nan\": \"Women's Clothing > Tops > Blouses & Shirts,nan,nan\",\n",
    "    \"Apparel Accessories > Girls' Accessories > Girls' Hair Accessories -,nan,nan\": \\\n",
    "        \"Apparel Accessories > Girls' Accessories > Girls' Hair Accessories,nan,nan\",\n",
    "    \"Women's Clothing > Tops > Blouses & Shirts ,Women's Clothing > Bottoms > Pants,Women's Clothing > Dresses\": \\\n",
    "        \"Women's Clothing > Tops > Blouses & Shirts,Women's Clothing > Bottoms > Pants,Women's Clothing > Dresses\",\n",
    "    \"Women's Clothing > Women's Exotic Apparel > Lingerie sets,nan,nan\": \\\n",
    "        \"Women's Clothing > Women's Exotic Apparel > Lingerie Sets,nan,nan\",\n",
    "    \"Home & Garden > Garden Supplies > Pest Control > Foggers & Sprayers,\\xa0,\": \\\n",
    "        \"Home & Garden > Garden Supplies > Pest Control > Foggers & Sprayers,nan,nan\", \n",
    "    \"Home & Garden > Kitchen,Dining & Bar > Kitchen Knives & Accessories > Blocks & Roll Bags, Home & Garden > Kitchen,Dining & Bar > Kitchen Knives & Accessories,nan\": \\\n",
    "        \"Home & Garden > Kitchen,Dining & Bar > Kitchen Knives & Accessories > Blocks & Roll Bags,Home & Garden > Kitchen,Dining & Bar > Kitchen Knives & Accessories,nan\",\n",
    "    \"Automobiles & motorcycles > Auto replacement parts > exterior parts > chromium styling,Automobiles & Motorcycles > Auto Replacement Parts > Air Conditioning & Heat > Car Air Conditioning,nan\": \\\n",
    "        \"Automobiles & Motorcycles > Auto Replacement Parts > Exterior Parts > Chromium Styling,Automobiles & Motorcycles > Auto Replacement Parts > Air Conditioning & Heat > Car Air Conditioning,nan\",\n",
    "    \"home improvement > bathroom fixtures > bathroom sinks, faucets & accessories,Home Decor > Bathroom >\\xa0Faucets,nan\": \\\n",
    "        \"Home Improvement > Bathroom Fixtures > Bathroom Sinks, Faucets & Accessories > Basin Faucets,nan,nan\",\n",
    "    \"Home Improvement > Bathroom Fixtures > Bathroom Sinks, Faucets & Accessories,Home Decor > Bathroom > Faucets,nan\": \\\n",
    "        \"Home Improvement > Bathroom Fixtures > Bathroom Sinks, Faucets & Accessories > Basin Faucets,nan,nan\",\n",
    "    \"Women's Clothing > Dresses - ,Women's Clothing > Weddings & Events > Cocktail Dresses,Women's Clothing > Weddings & Events > Evening Dresses\": \\\n",
    "        \"Women's Clothing > Dresses,Women's Clothing > Weddings & Events > Cocktail Dresses,Women's Clothing > Weddings & Events > Evening Dresses\",\n",
    "    \"Consumer Electronics > Smart Electronics > Wearable Devices > Smart watches,nan,nan\": \\\n",
    "        \"Consumer Electronics > Smart Electronics > Wearable Devices > Smart Watches,nan,nan\",\n",
    "    \"Apparel Accessories > Men's Accessories > Men's Masks,Apparel Accessories > Women's Accessories > Women's Masks - ,Sports > Sports Accessories > Sports Face Masks > Cycling Face Mask\": \\\n",
    "        \"Apparel Accessories > Men's Accessories > Men's Masks,Apparel Accessories > Women's Accessories > Women's Masks,Sports > Sports Accessories > Sports Face Masks > Cycling Face Mask\", \n",
    "    \"No match category,nan,nan\": \"No Categories Match,nan,nan\", \n",
    "    \"Automotive > Parts & Accessories >\\xa0Car Accessories,nan,nan\": \"Automobiles & Motorcycles > Interior Accessories,Automobiles & Motorcycles > Exterior Accessories,nan\",\n",
    "    \"Sports > Fishing > Fishing Tools,sports > Fishing > Fishing Accessories,nan\": \\\n",
    "        \"Sports > Fishing > Fishing Tools,Sports > Fishing > Fishing Accessories,nan\",\n",
    "    \"Hobbies > Outdoor & Camping Accessories >\\xa0Sports Equipment,nan,nan\": \\\n",
    "        \"Sports,nan,nan\",\n",
    "    \"Toys & hobbies > diecast & toy vehicles,toys & hobbies > play vehicles & models,toys & hobbies > play vehicles & models > railed, motor cars & bicycles\": \\\n",
    "        \"Toys & Hobbies > Diecast & Toy Vehicles,Toys & Hobbies > Play Vehicles & Models,Toys & Hobbies > Play Vehicles & Models > Railed, Motor Cars & Bicycles\",\n",
    "    \"Hobbies > Outdoor & Camping Accessories > Sports Equipment,nan,nan\": \"Sports,nan,nan\", \n",
    "    \"Consumer electronics > power source > batteries,nan,nan\": \"Consumer Electronics > Power Source > Batteries,nan,nan\",\n",
    "    \"Beauty & Health > Oral Hygiene > Teeth Whitening,Beauty & Health > oral hygiene > dental supplies > dental basic instrument,Beauty & Health > oral hygiene > dental supplies\": \\\n",
    "        \"Beauty & Health > Oral Hygiene > Teeth Whitening,Beauty & Health > Oral Hygiene > Dental Supplies > Dental Basic Instrument,Beauty & Health > Oral Hygiene > Dental Supplies\",\n",
    "    \"Home & Garden > pet products > pet health care & hygiene > supplements & vitamins,Beauty & Health > Health Care > Personal Health Care,nan\": \\\n",
    "        \"Home & Garden > Pet Products > Pet Health Care & Hygiene > Supplements & Vitamins,Beauty & Health > Health Care > Personal Health Care,nan\",\n",
    "    \"Jewelry & accessories > necklaces & pendants,Jewelry & Accessories > Customized Jewelry > Customized Necklaces,nan\": \\\n",
    "        \"Jewelry & Accessories > Necklaces & Pendants,Jewelry & Accessories > Customized Jewelry > Customized Necklaces,nan\",\n",
    "    \"Beauty & Health > Skin Care Tools > Jade Roller,Beauty & health > skin care tools > facial care tool,Beauty & Health > Skin Care Tools > Face Lift Devices\": \\\n",
    "        \"Beauty & Health > Skin Care Tools > Jade Roller,Beauty & Health > Skin Care Tools > Facial Care Tool,Beauty & Health > Skin Care Tools > Face Lift Devices\", \n",
    "    \"Women's Clothing > Tops > Tees,Women's Clothing > Tops > Blouses & Shirts ,nan\": \\\n",
    "        \"Women's Clothing > Tops > Tees,Women's Clothing > Tops > Blouses & Shirts,nan\",\n",
    "    \"Beauty & Health > Skin Care > Face > Cleansers,Beauty & Health > Makeup > Makeup Remover,Beauty & Health > Skin Care > Face > Clean\": \\\n",
    "        \"Beauty & Health > Skin Care > Face > Cleansers,Beauty & Health > Makeup > Makeup Remover,nan\",\n",
    "    \"Shoes > women's shoes > women's flats,Shoes > Women's Shoes > Loafers,Shoes > Women's Shoes > Women's Pumps\": \\\n",
    "        \"Shoes > Women's Shoes > Women's Flats,Shoes > Women's Shoes > Loafers,Shoes > Women's Shoes > Women's Pumps\",\n",
    "    \"Apparel Accessories > Women's Hair Accessories,Apparel Accessories > Girls' Accessories > Girls' Hair Accessories -,Mother & Kids > Girls' Baby Clothing > Accessories > Hair Accessories\": \\\n",
    "        \"Apparel Accessories > Women's Hair Accessories,Apparel Accessories > Girls' Accessories > Girls' Hair Accessories,Mother & Kids > Girls' Baby Clothing > Accessories > Hair Accessories\",\n",
    "    \"Beauty & Health > Shaving & Hair Removal > Razor Blade,Beauty & Health > Shaving & Hair Removal > Razor ,nan\": \\\n",
    "        \"Beauty & Health > Shaving & Hair Removal > Razor Blade,Beauty & Health > Shaving & Hair Removal > Razor,nan\",\n",
    "    \"Women's Clothing > Tops > Tees,Women's Clothing > Tops > Blouses & Shirts - ,Women's Clothing > Tops > Tank Tops\": \\\n",
    "        \"Women's Clothing > Tops > Tees,Women's Clothing > Tops > Blouses & Shirts,Women's Clothing > Tops > Tank Tops\",\n",
    "    \"Home & garden > bathroom products > bath mats,Home & Garden > Home Textile > Carpets & Rugs > Mats,nan\": \\\n",
    "        \"Home & Garden > Bathroom Products > Bath Mats,Home & Garden > Home Textile > Carpets & Rugs > Mats,nan\",\n",
    "    \"Tools > garden tools > garden power tools > chainsaws,Tools > Power Tools > Electric Saws,Tools > Power Tools\": \\\n",
    "        \"Tools > Garden Tools > Garden Power Tools > Chainsaws,Tools > Power Tools > Electric Saws,Tools > Power Tools\",\n",
    "    \"Home improvement > home appliances > personal care appliances > electric hair brushes,Beauty & Health > Hair Care & Styling > Styling Tools > Combs,Beauty & Health > Hair Care & Styling > Styling Tools > Styling Accessories\": \\\n",
    "        \"Home Improvement > Home Appliances > Personal Care Appliances > Electric Hair Brushes,Beauty & Health > Hair Care & Styling > Styling Tools > Combs,Beauty & Health > Hair Care & Styling > Styling Tools > Styling Accessories\",\n",
    "    \"Men's Clothing > Men's Exotic Apparel > Teddies & Bodysuits,Men's Clothing > Men's Exotic Apparel > Thongs,nan\": \\\n",
    "        \"Men's Clothing > Men's Exotic Apparel > Teddies & Bodysuits,Men's Clothing > Men's Exotic Apparel > G-Strings & Thongs,nan\",\n",
    "    \"Novelty & Special Use > Costumes & Accessories > Women's Costumes > Sexy Costumes,Women's clothing > women's exotic apparel > lingerie sets,nan\": \\\n",
    "        \"Novelty & Special Use > Costumes & Accessories > Women's Costumes > Sexy Costumes,Women's Clothing > Women's Exotic Apparel > Lingerie Sets,nan\",\n",
    "    \"Consumer Electronics > Camera & Photo > Photo Studio > Follow focus,Men's Clothing > Tops & Tees > T-Shirts,Home & Garden > Home Decor > Painting & Calligraphy\": \\\n",
    "        \"Consumer Electronics > Camera & Photo > Photo Studio > Follow Focus,Men's Clothing > Tops & Tees > T-Shirts,Home & Garden > Home Decor > Painting & Calligraphy\",\n",
    "    \"Mother & Kids > Boys' Baby Clothing > Accessories > Hats & Caps,Mother & Kids > Girls' Baby Clothing > Accessories > Hats & Caps ,nan\": \\\n",
    "        \"Mother & Kids > Boys' Baby Clothing > Accessories > Hats & Caps,Mother & Kids > Girls' Baby Clothing > Accessories > Hats & Caps,nan\",\n",
    "    \"Apparel Accessories > Boys' Accessories > Boys' Hats,Apparel Accessories > Girls' Accessories > Girls' Hats,nan\": \\\n",
    "        \"Apparel Accessories > Boys' Accessories > Boys' Hats,Apparel Accessories > Girls' Accessories > Girls' Hats,nan\",\n",
    "    \"Apparel Accessories > Women's Hats > Women's Cowboy Hats,Apparel Accessories > Girls' Accessories > Girls' Hats,nan\": \\\n",
    "        \"Apparel Accessories > Women's Hats > Women's Cowboy Hats,Apparel Accessories > Girls' Accessories > Girls' Hats,nan\",\n",
    "    \"Sports > Camping & Hiking > Tents & Shelters > Tents,Sports > camping & hiking > tents & shelters > sun shelter,nan\": \\\n",
    "        \"Sports > Camping & Hiking > Tents & Shelters > Tents,Sports > Camping & Hiking > Tents & Shelters > Sun Shelter,nan\",\n",
    "    \"Women's clothing > underwear & sleepwear > women's sleepwear > pajama sets,Novelty & Special Use > Costumes & Accessories > Women's Costumes,Novelty & Special Use > Costumes & Accessories > Men's Costumes\": \\\n",
    "        \"Women's Clothing > Underwear & Sleepwear > Women's Sleepwear > Pajama Sets,Novelty & Special Use > Costumes & Accessories > Women's Costumes,Novelty & Special Use > Costumes & Accessories > Men's Costumes\",\n",
    "    \"Apparel Accessories > Girls' Accessories > Girls' Scarves,Apparel Accessories > Men's Scarves,Apparel Accessories > Women's Scarves -\": \\\n",
    "        \"Apparel Accessories > Girls' Accessories > Girls' Scarves,Apparel Accessories > Men's Scarves,Apparel Accessories > Women's Scarves\",\n",
    "    \"Cellphones & Telecommunications > iphones,nan,nan\": \"Cellphones & Telecommunications > iPhones,nan,nan\", \n",
    "    \"Apparel Accessories > Garment Fabrics & Accessories > Cotton Fabrics - ,nan,nan\": \\\n",
    "        \"Apparel Accessories > Garment Fabrics & Accessories > Cotton Fabrics,nan,nan\", \n",
    "    \"Men's Clothing > Hoodies & Sweatshirts,Women's Clothing > Tops > Tees,Women's Clothing > Dresses -\": \\\n",
    "        \"Men's Clothing > Hoodies & Sweatshirts,Women's Clothing > Tops > Tees,Women's Clothing > Dresses\"\n",
    "}\n",
    "df_offshore['query_classifications'] = df_offshore.query_classifications.apply(lambda x: x.strip().replace('\\n', '').replace('| ',',').replace('|',',')).apply(\n",
    "    lambda x: manual_correction[x] if x in manual_correction else x)"
   ]
  },
  {
   "cell_type": "code",
   "execution_count": 60,
   "metadata": {},
   "outputs": [
    {
     "name": "stdout",
     "output_type": "stream",
     "text": [
      "ERROR:  Apparel Accessories > Girls' Accessories > Girls' Hats,Apparel Accessories > Women's Hats,Apparel Accessories > Girls' Accessories > Girls' Hats, Scarves & Gloves Sets []\n",
      "ERROR:  Apparel Accessories > Boys' Accessories > Boys' Hats,Apparel Accessories > Girls' Accessories > Girls' Hats,nan []\n",
      "ERROR:  Apparel Accessories > Boys' Accessories > Boys' Hats,Apparel Accessories > Girls' Accessories > Girls' Hats,Apparel Accessories > Men's Hats []\n",
      "ERROR:  Apparel Accessories > Boys' Accessories > Boys' Hats,Apparel Accessories > Girls' Accessories > Girls' Hats,nan []\n",
      "ERROR:  Apparel Accessories > Women's Hats > Women's Cowboy Hats,Apparel Accessories > Girls' Accessories > Girls' Hats,nan [\"Apparel Accessories > Women's Hats > Women's Cowboy Hats\"]\n",
      "ERROR:  Apparel Accessories > Boys' Accessories > Boys' Hats,Apparel Accessories > Girls' Accessories > Girls' Hats,Apparel Accessories > Girls' Accessories > Girls' Hats, Scarves & Gloves Sets []\n"
     ]
    }
   ],
   "source": [
    "df_offshore['query_classification_lists'] = df_offshore.query_classifications.apply(trie.extract_from_text)"
   ]
  },
  {
   "cell_type": "code",
   "execution_count": 61,
   "metadata": {},
   "outputs": [
    {
     "data": {
      "text/plain": [
       "[\"Apparel Accessories > Girls' Accessories > Girls' Hats,Apparel Accessories > Women's Hats,Apparel Accessories > Girls' Accessories > Girls' Hats, Scarves & Gloves Sets\",\n",
       " \"Apparel Accessories > Boys' Accessories > Boys' Hats,Apparel Accessories > Girls' Accessories > Girls' Hats,nan\",\n",
       " \"Apparel Accessories > Boys' Accessories > Boys' Hats,Apparel Accessories > Girls' Accessories > Girls' Hats,Apparel Accessories > Men's Hats\",\n",
       " \"Apparel Accessories > Boys' Accessories > Boys' Hats,Apparel Accessories > Girls' Accessories > Girls' Hats,nan\",\n",
       " \"Apparel Accessories > Women's Hats > Women's Cowboy Hats,Apparel Accessories > Girls' Accessories > Girls' Hats,nan\",\n",
       " \"Apparel Accessories > Boys' Accessories > Boys' Hats,Apparel Accessories > Girls' Accessories > Girls' Hats,Apparel Accessories > Girls' Accessories > Girls' Hats, Scarves & Gloves Sets\"]"
      ]
     },
     "execution_count": 61,
     "metadata": {},
     "output_type": "execute_result"
    }
   ],
   "source": [
    "errors"
   ]
  },
  {
   "cell_type": "code",
   "execution_count": 62,
   "metadata": {},
   "outputs": [],
   "source": [
    "recs = []\n",
    "for i in df_offshore.to_dict('records'):\n",
    "    if i['query_classifications'] == \"Apparel Accessories > Girls' Accessories > Girls' Hats,Apparel Accessories > Women's Hats,Apparel Accessories > Girls' Accessories > Girls' Hats, Scarves & Gloves Sets\":\n",
    "        i['query_classification_lists'] = [\n",
    "            \"Apparel Accessories > Girls' Accessories > Girls' Hats\",\n",
    "            \"Apparel Accessories > Women's Hats\",\n",
    "            \"Apparel Accessories > Girls' Accessories > Girls' Hats, Scarves & Gloves Sets\"\n",
    "        ]\n",
    "    if i['query_classifications'] == \"Apparel Accessories > Boys' Accessories > Boys' Hats,Apparel Accessories > Girls' Accessories > Girls' Hats,nan\":\n",
    "        i['query_classification_lists'] = [\n",
    "            \"Apparel Accessories > Boys' Accessories > Boys' Hats\",\n",
    "            \"Apparel Accessories > Girls' Accessories > Girls' Hats\",\n",
    "            \"nan\"\n",
    "        ]\n",
    "    if i['query_classifications'] == \"Apparel Accessories > Boys' Accessories > Boys' Hats,Apparel Accessories > Girls' Accessories > Girls' Hats,Apparel Accessories > Men's Hats\":\n",
    "        i['query_classification_lists'] = [\n",
    "            \"Apparel Accessories > Boys' Accessories > Boys' Hats\",\n",
    "            \"Apparel Accessories > Girls' Accessories > Girls' Hats\",\n",
    "            \"Apparel Accessories > Men's Hats\"\n",
    "        ]\n",
    "\n",
    "    if i['query_classifications'] == \"Apparel Accessories > Women's Hats > Women's Cowboy Hats,Apparel Accessories > Girls' Accessories > Girls' Hats,nan\":\n",
    "        i['query_classification_lists'] = [\n",
    "            \"Apparel Accessories > Women's Hats > Women's Cowboy Hats\",\n",
    "            \"Apparel Accessories > Girls' Accessories > Girls' Hats\",\n",
    "            \"nan\"\n",
    "        ]\n",
    "\n",
    "    if i['query_classifications'] == \"Apparel Accessories > Boys' Accessories > Boys' Hats,Apparel Accessories > Girls' Accessories > Girls' Hats,Apparel Accessories > Girls' Accessories > Girls' Hats, Scarves & Gloves Sets\":\n",
    "        i['query_classification_lists'] = [\n",
    "            \"Apparel Accessories > Boys' Accessories > Boys' Hats\",\n",
    "            \"Apparel Accessories > Girls' Accessories > Girls' Hats\",\n",
    "            \"Apparel Accessories > Girls' Accessories > Girls' Hats, Scarves & Gloves Sets\"\n",
    "        ]\n",
    "\n",
    "    recs.append(i)\n",
    "df_offshore = pd.DataFrame(recs)"
   ]
  },
  {
   "cell_type": "code",
   "execution_count": 63,
   "metadata": {},
   "outputs": [],
   "source": [
    "path2id = {}\n",
    "for i in df_tax.to_dict('records'):\n",
    "    if len(i['category_path']) > 0:\n",
    "        path2id[i['category_path'].lower().strip()] = i['id']\n",
    "        path2id[i['category_path'].strip()] = i['id']"
   ]
  },
  {
   "cell_type": "code",
   "execution_count": 64,
   "metadata": {},
   "outputs": [],
   "source": [
    "id2path = {}\n",
    "for i in df_tax.to_dict('records'):\n",
    "    id2path[i['id']] = i['category_path']"
   ]
  },
  {
   "cell_type": "code",
   "execution_count": 65,
   "metadata": {},
   "outputs": [],
   "source": [
    "path2id['nan'] = -1\n",
    "path2id['No Categories Match'] = -1\n",
    "path2id['no_match'] = -1"
   ]
  },
  {
   "cell_type": "code",
   "execution_count": 66,
   "metadata": {},
   "outputs": [],
   "source": [
    "df_offshore['query_classification_ids'] = df_offshore['query_classification_lists'].apply(lambda x: [path2id[i] for i in x])"
   ]
  },
  {
   "cell_type": "code",
   "execution_count": 67,
   "metadata": {},
   "outputs": [],
   "source": [
    "appen_manual_correction = {\n",
    "    \"Women's Clothing > Weddings & Events > QuinceaÃ±era Dresses\": \"Women's Clothing > Weddings & Events > Quincea\\u00f1era Dresses\",\n",
    "}"
   ]
  },
  {
   "cell_type": "code",
   "execution_count": 68,
   "metadata": {},
   "outputs": [],
   "source": [
    "df_appen['query_classification_lists'] = df_appen['Final Answer'].apply(lambda x: x.split('\\n'))\n",
    "df_appen['query_classification_ids'] = df_appen['query_classification_lists'].apply(lambda x: \\\n",
    "    [path2id[appen_manual_correction[i] if i in appen_manual_correction else i] for i in x])"
   ]
  },
  {
   "cell_type": "code",
   "execution_count": 69,
   "metadata": {},
   "outputs": [],
   "source": [
    "df_join = df_offshore[['query', 'query_classification_ids']].rename(columns={'query_classification_ids': 'offshore_query_classification_ids'}).merge( \n",
    "    df_appen[['query', 'query_classification_ids']].rename(columns={'query_classification_ids': 'appen_query_classification_ids'}), \n",
    "    on='query', how='inner'\n",
    ")"
   ]
  },
  {
   "cell_type": "code",
   "execution_count": 70,
   "metadata": {},
   "outputs": [
    {
     "data": {
      "text/plain": [
       "(42879, 24095, 7528)"
      ]
     },
     "execution_count": 70,
     "metadata": {},
     "output_type": "execute_result"
    }
   ],
   "source": [
    "len(df_appen), len(df_offshore), len(df_join)"
   ]
  },
  {
   "cell_type": "code",
   "execution_count": 71,
   "metadata": {},
   "outputs": [],
   "source": [
    "def convert_id_to_path(li):\n",
    "    if set(li) == set([-1]):\n",
    "        return []\n",
    "    else:\n",
    "        res = [] \n",
    "        for i in li:\n",
    "            if int(i) in id2path:\n",
    "                res.append(id2path[int(i)])\n",
    "        return res"
   ]
  },
  {
   "cell_type": "code",
   "execution_count": 72,
   "metadata": {},
   "outputs": [],
   "source": [
    "df_join['offshore_query_classification_lists'] = df_join['offshore_query_classification_ids'].apply(convert_id_to_path).apply(tuple)\n",
    "df_join['appen_query_classification_lists'] = df_join['appen_query_classification_ids'].apply(convert_id_to_path).apply(tuple)"
   ]
  },
  {
   "cell_type": "code",
   "execution_count": 73,
   "metadata": {},
   "outputs": [],
   "source": [
    "df_join[['query', 'offshore_query_classification_lists', 'appen_query_classification_lists']].to_excel(\n",
    "    'analysis/appen_label_quality_check_20230111.xlsx'\n",
    ")"
   ]
  },
  {
   "cell_type": "code",
   "execution_count": 74,
   "metadata": {},
   "outputs": [
    {
     "data": {
      "text/plain": [
       "7528"
      ]
     },
     "execution_count": 74,
     "metadata": {},
     "output_type": "execute_result"
    }
   ],
   "source": [
    "len(df_join)"
   ]
  },
  {
   "cell_type": "code",
   "execution_count": 75,
   "metadata": {},
   "outputs": [],
   "source": [
    "from sklearn.metrics import accuracy_score, classification_report"
   ]
  },
  {
   "cell_type": "code",
   "execution_count": 76,
   "metadata": {},
   "outputs": [],
   "source": [
    "lab_offshore = np.zeros((len(df_join), max(df_tax['id'])))\n",
    "lab_appen = np.zeros((len(df_join), max(df_tax['id'])))"
   ]
  },
  {
   "cell_type": "code",
   "execution_count": 77,
   "metadata": {},
   "outputs": [
    {
     "data": {
      "text/plain": [
       "0.2895855472901169"
      ]
     },
     "execution_count": 77,
     "metadata": {},
     "output_type": "execute_result"
    }
   ],
   "source": [
    "accuracy_score(\n",
    "    y_true=df_join['offshore_query_classification_lists'].apply(lambda x: '|'.join(x)),\n",
    "    y_pred=df_join['appen_query_classification_lists'].apply(lambda x: '|'.join(x))\n",
    ")"
   ]
  },
  {
   "cell_type": "code",
   "execution_count": 87,
   "metadata": {},
   "outputs": [],
   "source": [
    "for ind, i in enumerate(df_join.to_dict('records')):\n",
    "    for j in i['offshore_query_classification_ids']:\n",
    "        if j != -1:\n",
    "            lab_offshore[ind][j-1] = 1. \n",
    "    for j in i['appen_query_classification_ids']:\n",
    "        if j != -1:\n",
    "            lab_appen[ind][j-1] = 1. \n",
    "    "
   ]
  },
  {
   "cell_type": "code",
   "execution_count": 88,
   "metadata": {},
   "outputs": [],
   "source": [
    "df_metrics = pd.DataFrame(classification_report(y_true=lab_offshore, y_pred=lab_appen, zero_division=0, output_dict=True)).T"
   ]
  },
  {
   "cell_type": "code",
   "execution_count": 89,
   "metadata": {},
   "outputs": [
    {
     "data": {
      "text/html": [
       "<div>\n",
       "<style scoped>\n",
       "    .dataframe tbody tr th:only-of-type {\n",
       "        vertical-align: middle;\n",
       "    }\n",
       "\n",
       "    .dataframe tbody tr th {\n",
       "        vertical-align: top;\n",
       "    }\n",
       "\n",
       "    .dataframe thead th {\n",
       "        text-align: right;\n",
       "    }\n",
       "</style>\n",
       "<table border=\"1\" class=\"dataframe\">\n",
       "  <thead>\n",
       "    <tr style=\"text-align: right;\">\n",
       "      <th></th>\n",
       "      <th>precision</th>\n",
       "      <th>recall</th>\n",
       "      <th>f1-score</th>\n",
       "      <th>support</th>\n",
       "    </tr>\n",
       "  </thead>\n",
       "  <tbody>\n",
       "    <tr>\n",
       "      <th>0</th>\n",
       "      <td>0.000000</td>\n",
       "      <td>0.000000</td>\n",
       "      <td>0.000000</td>\n",
       "      <td>0.0</td>\n",
       "    </tr>\n",
       "    <tr>\n",
       "      <th>1</th>\n",
       "      <td>0.000000</td>\n",
       "      <td>0.000000</td>\n",
       "      <td>0.000000</td>\n",
       "      <td>0.0</td>\n",
       "    </tr>\n",
       "    <tr>\n",
       "      <th>2</th>\n",
       "      <td>0.000000</td>\n",
       "      <td>0.000000</td>\n",
       "      <td>0.000000</td>\n",
       "      <td>1.0</td>\n",
       "    </tr>\n",
       "    <tr>\n",
       "      <th>3</th>\n",
       "      <td>1.000000</td>\n",
       "      <td>0.250000</td>\n",
       "      <td>0.400000</td>\n",
       "      <td>4.0</td>\n",
       "    </tr>\n",
       "    <tr>\n",
       "      <th>4</th>\n",
       "      <td>1.000000</td>\n",
       "      <td>0.200000</td>\n",
       "      <td>0.333333</td>\n",
       "      <td>5.0</td>\n",
       "    </tr>\n",
       "    <tr>\n",
       "      <th>...</th>\n",
       "      <td>...</td>\n",
       "      <td>...</td>\n",
       "      <td>...</td>\n",
       "      <td>...</td>\n",
       "    </tr>\n",
       "    <tr>\n",
       "      <th>6144</th>\n",
       "      <td>0.500000</td>\n",
       "      <td>0.142857</td>\n",
       "      <td>0.222222</td>\n",
       "      <td>7.0</td>\n",
       "    </tr>\n",
       "    <tr>\n",
       "      <th>micro avg</th>\n",
       "      <td>0.461011</td>\n",
       "      <td>0.377878</td>\n",
       "      <td>0.415325</td>\n",
       "      <td>23108.0</td>\n",
       "    </tr>\n",
       "    <tr>\n",
       "      <th>macro avg</th>\n",
       "      <td>0.295765</td>\n",
       "      <td>0.243073</td>\n",
       "      <td>0.243263</td>\n",
       "      <td>23108.0</td>\n",
       "    </tr>\n",
       "    <tr>\n",
       "      <th>weighted avg</th>\n",
       "      <td>0.553945</td>\n",
       "      <td>0.377878</td>\n",
       "      <td>0.411421</td>\n",
       "      <td>23108.0</td>\n",
       "    </tr>\n",
       "    <tr>\n",
       "      <th>samples avg</th>\n",
       "      <td>0.494837</td>\n",
       "      <td>0.456263</td>\n",
       "      <td>0.453601</td>\n",
       "      <td>23108.0</td>\n",
       "    </tr>\n",
       "  </tbody>\n",
       "</table>\n",
       "<p>6149 rows × 4 columns</p>\n",
       "</div>"
      ],
      "text/plain": [
       "              precision    recall  f1-score  support\n",
       "0              0.000000  0.000000  0.000000      0.0\n",
       "1              0.000000  0.000000  0.000000      0.0\n",
       "2              0.000000  0.000000  0.000000      1.0\n",
       "3              1.000000  0.250000  0.400000      4.0\n",
       "4              1.000000  0.200000  0.333333      5.0\n",
       "...                 ...       ...       ...      ...\n",
       "6144           0.500000  0.142857  0.222222      7.0\n",
       "micro avg      0.461011  0.377878  0.415325  23108.0\n",
       "macro avg      0.295765  0.243073  0.243263  23108.0\n",
       "weighted avg   0.553945  0.377878  0.411421  23108.0\n",
       "samples avg    0.494837  0.456263  0.453601  23108.0\n",
       "\n",
       "[6149 rows x 4 columns]"
      ]
     },
     "execution_count": 89,
     "metadata": {},
     "output_type": "execute_result"
    }
   ],
   "source": [
    "df_metrics"
   ]
  },
  {
   "cell_type": "code",
   "execution_count": 90,
   "metadata": {},
   "outputs": [
    {
     "data": {
      "text/plain": [
       "1    3801\n",
       "3    2160\n",
       "2    1312\n",
       "0     255\n",
       "Name: offshore_query_classification_ids, dtype: int64"
      ]
     },
     "execution_count": 90,
     "metadata": {},
     "output_type": "execute_result"
    }
   ],
   "source": [
    "df_join.offshore_query_classification_ids.apply(lambda x: len([i for i in x if i != -1])).value_counts()"
   ]
  },
  {
   "cell_type": "code",
   "execution_count": 91,
   "metadata": {},
   "outputs": [
    {
     "data": {
      "text/plain": [
       "1    4842\n",
       "2    1779\n",
       "3     621\n",
       "0     284\n",
       "4       2\n",
       "Name: appen_query_classification_ids, dtype: int64"
      ]
     },
     "execution_count": 91,
     "metadata": {},
     "output_type": "execute_result"
    }
   ],
   "source": [
    "df_join.appen_query_classification_ids.apply(lambda x: len([i for i in x if i != -1])).value_counts()"
   ]
  },
  {
   "cell_type": "code",
   "execution_count": 93,
   "metadata": {},
   "outputs": [
    {
     "data": {
      "text/plain": [
       "[{'query': 'mens gifts for birthday',\n",
       "  'offshore_query_classification_ids': [5972, 4151, 1549],\n",
       "  'appen_query_classification_ids': [4166, 40, 4741, 5972],\n",
       "  'offshore_query_classification_lists': (\"Watches > Men's Watches\",\n",
       "   \"Luggage & Bags > Men's Bags > Wallets\",\n",
       "   'Consumer Electronics > Camera & Photo > Camera & Photo Accessories > Digital Photo Frames'),\n",
       "  'appen_query_classification_lists': (\"Men's Clothing\",\n",
       "   \"Apparel Accessories > Men's Accessories\",\n",
       "   \"Shoes > Men's Shoes\",\n",
       "   \"Watches > Men's Watches\")},\n",
       " {'query': 'bad bitch',\n",
       "  'offshore_query_classification_ids': [2986, 3949, 1861],\n",
       "  'appen_query_classification_ids': [5787, 6029, 6049, 4111],\n",
       "  'offshore_query_classification_lists': ('Home & Garden > Kitchen,Dining & Bar > Coffeeware > Coffee Cups & Mugs',\n",
       "   'Home Improvement > Lights & Lighting > Light Bulbs > Neon Bulbs & Tubes',\n",
       "   'Education & Office Supplies > Books & Magazines > Life & Lifestyle'),\n",
       "  'appen_query_classification_lists': ('Toys & Hobbies > Hobby & Collectibles',\n",
       "   \"Women's Clothing > Activewear & Loungewear > Hoodies & Sweatshirts\",\n",
       "   \"Women's Clothing > Tops > Blouses & Shirts\",\n",
       "   'Jewelry & Accessories > Necklaces & Pendants > Pendant Necklaces')}]"
      ]
     },
     "execution_count": 93,
     "metadata": {},
     "output_type": "execute_result"
    }
   ],
   "source": [
    "df_join[df_join.appen_query_classification_ids.apply(len) == 4].to_dict('records')"
   ]
  },
  {
   "attachments": {},
   "cell_type": "markdown",
   "metadata": {},
   "source": [
    "# more lenient metrics"
   ]
  },
  {
   "cell_type": "code",
   "execution_count": 95,
   "metadata": {},
   "outputs": [],
   "source": [
    "df_all_metrics = []\n",
    "for constraint in range(1,6):\n",
    "    tmp = df_join.copy()\n",
    "    tmp['offshore_query_classification_lists'] = tmp['offshore_query_classification_lists'].apply(\n",
    "        lambda x: tuple([' > '.join(i.split(' > ')[:constraint]) for i in x]))\n",
    "    tmp['appen_query_classification_lists'] = tmp['appen_query_classification_lists'].apply(\n",
    "        lambda x: tuple([' > '.join(i.split(' > ')[:constraint]) for i in x]))\n",
    "    tmp['offshore_query_classification_ids'] = tmp['offshore_query_classification_lists'].apply(lambda x: [path2id[i] for i in x])\n",
    "    tmp['appen_query_classification_ids'] = tmp['appen_query_classification_lists'].apply(lambda x: [path2id[i] for i in x])\n",
    "    \n",
    "    lab_offshore = np.zeros((len(tmp), max(df_tax['id'])))\n",
    "    lab_appen = np.zeros((len(tmp), max(df_tax['id'])))\n",
    "    for ind, i in enumerate(tmp.to_dict('records')):\n",
    "        for j in i['offshore_query_classification_ids']:\n",
    "            if j != -1:\n",
    "                lab_offshore[ind][j-1] = 1. \n",
    "        for j in i['appen_query_classification_ids']:\n",
    "            if j != -1:\n",
    "                lab_appen[ind][j-1] = 1. \n",
    "    \n",
    "    df_metrics_tmp = pd.DataFrame(classification_report(y_true=lab_offshore, y_pred=lab_appen, zero_division=0, output_dict=True)).T\n",
    "    df_metrics_tmp['depth_constraint'] = constraint\n",
    "    df_all_metrics.append(df_metrics_tmp)\n",
    "df_all_metrics = pd.concat(df_all_metrics)"
   ]
  },
  {
   "cell_type": "code",
   "execution_count": 96,
   "metadata": {},
   "outputs": [
    {
     "data": {
      "text/html": [
       "<div>\n",
       "<style scoped>\n",
       "    .dataframe tbody tr th:only-of-type {\n",
       "        vertical-align: middle;\n",
       "    }\n",
       "\n",
       "    .dataframe tbody tr th {\n",
       "        vertical-align: top;\n",
       "    }\n",
       "\n",
       "    .dataframe thead th {\n",
       "        text-align: right;\n",
       "    }\n",
       "</style>\n",
       "<table border=\"1\" class=\"dataframe\">\n",
       "  <thead>\n",
       "    <tr style=\"text-align: right;\">\n",
       "      <th></th>\n",
       "      <th>precision</th>\n",
       "      <th>recall</th>\n",
       "      <th>f1-score</th>\n",
       "      <th>support</th>\n",
       "      <th>depth_constraint</th>\n",
       "    </tr>\n",
       "  </thead>\n",
       "  <tbody>\n",
       "    <tr>\n",
       "      <th>weighted avg</th>\n",
       "      <td>0.764657</td>\n",
       "      <td>0.724769</td>\n",
       "      <td>0.742036</td>\n",
       "      <td>8858.0</td>\n",
       "      <td>1</td>\n",
       "    </tr>\n",
       "    <tr>\n",
       "      <th>weighted avg</th>\n",
       "      <td>0.657832</td>\n",
       "      <td>0.579904</td>\n",
       "      <td>0.601315</td>\n",
       "      <td>10231.0</td>\n",
       "      <td>2</td>\n",
       "    </tr>\n",
       "    <tr>\n",
       "      <th>weighted avg</th>\n",
       "      <td>0.577894</td>\n",
       "      <td>0.419744</td>\n",
       "      <td>0.452739</td>\n",
       "      <td>12024.0</td>\n",
       "      <td>3</td>\n",
       "    </tr>\n",
       "    <tr>\n",
       "      <th>weighted avg</th>\n",
       "      <td>0.533736</td>\n",
       "      <td>0.354851</td>\n",
       "      <td>0.388772</td>\n",
       "      <td>12873.0</td>\n",
       "      <td>4</td>\n",
       "    </tr>\n",
       "    <tr>\n",
       "      <th>weighted avg</th>\n",
       "      <td>0.532872</td>\n",
       "      <td>0.354228</td>\n",
       "      <td>0.388099</td>\n",
       "      <td>12890.0</td>\n",
       "      <td>5</td>\n",
       "    </tr>\n",
       "  </tbody>\n",
       "</table>\n",
       "</div>"
      ],
      "text/plain": [
       "              precision    recall  f1-score  support  depth_constraint\n",
       "weighted avg   0.764657  0.724769  0.742036   8858.0                 1\n",
       "weighted avg   0.657832  0.579904  0.601315  10231.0                 2\n",
       "weighted avg   0.577894  0.419744  0.452739  12024.0                 3\n",
       "weighted avg   0.533736  0.354851  0.388772  12873.0                 4\n",
       "weighted avg   0.532872  0.354228  0.388099  12890.0                 5"
      ]
     },
     "execution_count": 96,
     "metadata": {},
     "output_type": "execute_result"
    }
   ],
   "source": [
    "df_all_metrics[df_all_metrics.index == 'weighted avg']"
   ]
  },
  {
   "cell_type": "code",
   "execution_count": null,
   "metadata": {},
   "outputs": [],
   "source": []
  }
 ],
 "metadata": {
  "kernelspec": {
   "display_name": "Python 3.8.13 64-bit",
   "language": "python",
   "name": "python3"
  },
  "language_info": {
   "codemirror_mode": {
    "name": "ipython",
    "version": 3
   },
   "file_extension": ".py",
   "mimetype": "text/x-python",
   "name": "python",
   "nbconvert_exporter": "python",
   "pygments_lexer": "ipython3",
   "version": "3.8.13"
  },
  "orig_nbformat": 4,
  "vscode": {
   "interpreter": {
    "hash": "949777d72b0d2535278d3dc13498b2535136f6dfe0678499012e853ee9abcab1"
   }
  }
 },
 "nbformat": 4,
 "nbformat_minor": 2
}
