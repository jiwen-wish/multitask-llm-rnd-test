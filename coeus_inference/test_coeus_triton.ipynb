{
 "cells": [
  {
   "cell_type": "code",
   "execution_count": 2,
   "metadata": {},
   "outputs": [],
   "source": [
    "import requests"
   ]
  },
  {
   "cell_type": "code",
   "execution_count": 3,
   "metadata": {},
   "outputs": [],
   "source": [
    "input_json = {\n",
    "   \"inputs\":[\n",
    "      {\t\n",
    "         \"name\": \"input_ids\",\n",
    "         \"shape\": [1, 4],\n",
    "         \"datatype\": \"INT64\",\n",
    "         \"data\": [[1, 1, 1, 1]]\n",
    "      },\n",
    "      {\t\n",
    "         \"name\": \"attention_mask\",\n",
    "         \"shape\": [1, 4],\n",
    "         \"datatype\": \"INT64\",\n",
    "         \"data\": [[1, 1, 1, 1]]\n",
    "      }\n",
    "   ]\n",
    "}"
   ]
  },
  {
   "cell_type": "code",
   "execution_count": 4,
   "metadata": {},
   "outputs": [],
   "source": [
    "res = requests.post('http://coeus-gpu-multitask-ml-stage.service.consul:8081/v2/models/query_classify_onnx/versions/1/infer', json=input_json).json()"
   ]
  },
  {
   "cell_type": "code",
   "execution_count": 6,
   "metadata": {},
   "outputs": [
    {
     "data": {
      "text/plain": [
       "{'model_name', 'model_version', 'outputs'}"
      ]
     },
     "execution_count": 6,
     "metadata": {},
     "output_type": "execute_result"
    }
   ],
   "source": [
    "set(res)"
   ]
  },
  {
   "cell_type": "code",
   "execution_count": 8,
   "metadata": {},
   "outputs": [],
   "source": [
    "input_json = {\n",
    "   \"inputs\":[\n",
    "      {\t\n",
    "      \"name\": \"text\",\n",
    "      \"shape\": [1,1],\n",
    "      \"datatype\": \"BYTES\",\n",
    "      \"data\": ['Classify query: dildo'] * 1\n",
    "      }\n",
    "   ]\n",
    "}\n",
    "res = requests.post('http://coeus-gpu-multitask-ml-stage.service.consul:8081/v2/models/query_classify_ensemble/versions/1/infer', json=input_json).json()"
   ]
  },
  {
   "cell_type": "code",
   "execution_count": 9,
   "metadata": {},
   "outputs": [
    {
     "data": {
      "text/plain": [
       "{'model_name': 'query_classify_ensemble',\n",
       " 'model_version': '1',\n",
       " 'parameters': {'sequence_id': 0,\n",
       "  'sequence_start': False,\n",
       "  'sequence_end': False},\n",
       " 'outputs': [{'name': 'weights',\n",
       "   'datatype': 'BYTES',\n",
       "   'shape': [1],\n",
       "   'data': ['0.9913872904493995,0.04135434865979104,0.012661229583013583,0.002843906138590201,0.0026740422460652643,0.002666802230467729,0.0021832118795518662,0.00216461542622374,0.00209828174567186,0.0020010951156222653']},\n",
       "  {'name': 'categories',\n",
       "   'datatype': 'BYTES',\n",
       "   'shape': [1],\n",
       "   'data': ['1143,1134,1159,1118,1156,1153,1115,1139,1138,1158']}]}"
      ]
     },
     "execution_count": 9,
     "metadata": {},
     "output_type": "execute_result"
    }
   ],
   "source": [
    "res"
   ]
  },
  {
   "cell_type": "code",
   "execution_count": null,
   "metadata": {},
   "outputs": [],
   "source": []
  }
 ],
 "metadata": {
  "kernelspec": {
   "display_name": "py38",
   "language": "python",
   "name": "python3"
  },
  "language_info": {
   "codemirror_mode": {
    "name": "ipython",
    "version": 3
   },
   "file_extension": ".py",
   "mimetype": "text/x-python",
   "name": "python",
   "nbconvert_exporter": "python",
   "pygments_lexer": "ipython3",
   "version": "3.8.13"
  },
  "orig_nbformat": 4,
  "vscode": {
   "interpreter": {
    "hash": "3ea19d11efa7602c1f12500925a974ed4f31fcf847bd6f694bd5180da2602ded"
   }
  }
 },
 "nbformat": 4,
 "nbformat_minor": 2
}
