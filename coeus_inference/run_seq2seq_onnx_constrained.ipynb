{
 "cells": [
  {
   "cell_type": "code",
   "execution_count": 1,
   "metadata": {},
   "outputs": [
    {
     "name": "stdout",
     "output_type": "stream",
     "text": [
      "Thu Jan 26 21:59:36 2023       \n",
      "+-----------------------------------------------------------------------------+\n",
      "| NVIDIA-SMI 515.65.01    Driver Version: 515.65.01    CUDA Version: 11.7     |\n",
      "|-------------------------------+----------------------+----------------------+\n",
      "| GPU  Name        Persistence-M| Bus-Id        Disp.A | Volatile Uncorr. ECC |\n",
      "| Fan  Temp  Perf  Pwr:Usage/Cap|         Memory-Usage | GPU-Util  Compute M. |\n",
      "|                               |                      |               MIG M. |\n",
      "|===============================+======================+======================|\n",
      "|   0  Tesla T4            On   | 00000000:00:1E.0 Off |                    0 |\n",
      "| N/A   39C    P8    16W /  70W |      2MiB / 15360MiB |      0%      Default |\n",
      "|                               |                      |                  N/A |\n",
      "+-------------------------------+----------------------+----------------------+\n",
      "                                                                               \n",
      "+-----------------------------------------------------------------------------+\n",
      "| Processes:                                                                  |\n",
      "|  GPU   GI   CI        PID   Type   Process name                  GPU Memory |\n",
      "|        ID   ID                                                   Usage      |\n",
      "|=============================================================================|\n",
      "|  No running processes found                                                 |\n",
      "+-----------------------------------------------------------------------------+\n"
     ]
    }
   ],
   "source": [
    "!nvidia-smi"
   ]
  },
  {
   "cell_type": "code",
   "execution_count": 2,
   "metadata": {},
   "outputs": [
    {
     "name": "stdout",
     "output_type": "stream",
     "text": [
      "nvcc: NVIDIA (R) Cuda compiler driver\n",
      "Copyright (c) 2005-2020 NVIDIA Corporation\n",
      "Built on Wed_Jul_22_19:09:09_PDT_2020\n",
      "Cuda compilation tools, release 11.0, V11.0.221\n",
      "Build cuda_11.0_bu.TC445_37.28845127_0\n"
     ]
    }
   ],
   "source": [
    "!nvcc --version"
   ]
  },
  {
   "cell_type": "code",
   "execution_count": 3,
   "metadata": {},
   "outputs": [
    {
     "data": {
      "text/plain": [
       "'1.13.1+cu117'"
      ]
     },
     "execution_count": 3,
     "metadata": {},
     "output_type": "execute_result"
    }
   ],
   "source": [
    "import torch \n",
    "torch.__version__"
   ]
  },
  {
   "cell_type": "code",
   "execution_count": 4,
   "metadata": {},
   "outputs": [
    {
     "data": {
      "text/plain": [
       "'4.22.2'"
      ]
     },
     "execution_count": 4,
     "metadata": {},
     "output_type": "execute_result"
    }
   ],
   "source": [
    "import transformers\n",
    "transformers.__version__"
   ]
  },
  {
   "attachments": {},
   "cell_type": "markdown",
   "metadata": {},
   "source": [
    "# unoptimized onnx"
   ]
  },
  {
   "cell_type": "code",
   "execution_count": 5,
   "metadata": {},
   "outputs": [],
   "source": [
    "from transformers import AutoTokenizer\n",
    "from optimum.onnxruntime import ORTModelForSeq2SeqLM\n"
   ]
  },
  {
   "cell_type": "code",
   "execution_count": 6,
   "metadata": {},
   "outputs": [
    {
     "name": "stderr",
     "output_type": "stream",
     "text": [
      "2023-01-26 21:59:50.265660534 [W:onnxruntime:, session_state.cc:1030 VerifyEachNodeIsAssignedToAnEp] Some nodes were not assigned to the preferred execution providers which may or may not have an negative impact on performance. e.g. ORT explicitly assigns shape related ops to CPU to improve perf.\n",
      "2023-01-26 21:59:50.265692996 [W:onnxruntime:, session_state.cc:1032 VerifyEachNodeIsAssignedToAnEp] Rerunning with verbose output on a non-minimal build will show node assignments.\n",
      "2023-01-26 21:59:54.715583306 [W:onnxruntime:, session_state.cc:1030 VerifyEachNodeIsAssignedToAnEp] Some nodes were not assigned to the preferred execution providers which may or may not have an negative impact on performance. e.g. ORT explicitly assigns shape related ops to CPU to improve perf.\n",
      "2023-01-26 21:59:54.715616662 [W:onnxruntime:, session_state.cc:1032 VerifyEachNodeIsAssignedToAnEp] Rerunning with verbose output on a non-minimal build will show node assignments.\n",
      "2023-01-26 22:00:09.994329990 [W:onnxruntime:, session_state.cc:1030 VerifyEachNodeIsAssignedToAnEp] Some nodes were not assigned to the preferred execution providers which may or may not have an negative impact on performance. e.g. ORT explicitly assigns shape related ops to CPU to improve perf.\n",
      "2023-01-26 22:00:09.994359753 [W:onnxruntime:, session_state.cc:1032 VerifyEachNodeIsAssignedToAnEp] Rerunning with verbose output on a non-minimal build will show node assignments.\n"
     ]
    }
   ],
   "source": [
    "\n",
    "tokenizer = AutoTokenizer.from_pretrained(\"hf_models/query_classify_v2\")\n",
    "model_ort = ORTModelForSeq2SeqLM.from_pretrained(\"hf_models/query_classify_v2\", from_transformers=False, provider='CUDAExecutionProvider')\n"
   ]
  },
  {
   "cell_type": "code",
   "execution_count": 7,
   "metadata": {},
   "outputs": [
    {
     "data": {
      "text/plain": [
       "device(type='cuda', index=0)"
      ]
     },
     "execution_count": 7,
     "metadata": {},
     "output_type": "execute_result"
    }
   ],
   "source": [
    "model_ort.device"
   ]
  },
  {
   "cell_type": "code",
   "execution_count": 8,
   "metadata": {},
   "outputs": [],
   "source": [
    "inputs = tokenizer(\"Generate taxonomy for query: dildo\", return_tensors=\"pt\").to('cuda')"
   ]
  },
  {
   "cell_type": "code",
   "execution_count": 9,
   "metadata": {},
   "outputs": [
    {
     "name": "stderr",
     "output_type": "stream",
     "text": [
      "/opt/conda/envs/py38/lib/python3.8/site-packages/transformers/generation_utils.py:1227: UserWarning: Neither `max_length` nor `max_new_tokens` has been set, `max_length` will default to 20 (`self.config.max_length`). Controlling `max_length` via the config is deprecated and `max_length` will be removed from the config in v5 of Transformers -- we recommend using `max_new_tokens` to control the maximum length of the generation.\n",
      "  warnings.warn(\n"
     ]
    },
    {
     "name": "stdout",
     "output_type": "stream",
     "text": [
      "182 ms ± 2.52 ms per loop (mean ± std. dev. of 7 runs, 1 loop each)\n"
     ]
    }
   ],
   "source": [
    "%%timeit \n",
    "outputs = model_ort.generate(**inputs, num_beams=3, num_return_sequences=3)"
   ]
  },
  {
   "cell_type": "code",
   "execution_count": 10,
   "metadata": {},
   "outputs": [
    {
     "name": "stdout",
     "output_type": "stream",
     "text": [
      "137 ms ± 1.47 ms per loop (mean ± std. dev. of 7 runs, 10 loops each)\n"
     ]
    }
   ],
   "source": [
    "%%timeit\n",
    "outputs = model_ort.generate(**inputs)"
   ]
  },
  {
   "cell_type": "code",
   "execution_count": 13,
   "metadata": {},
   "outputs": [],
   "source": [
    "inputs2 = tokenizer(\"Generate taxonomy for query: women gucci\", return_tensors=\"pt\").to('cuda')\n",
    "inputs3 = tokenizer(\"Generate taxonomy for query: baby milk\", return_tensors=\"pt\").to('cuda')"
   ]
  },
  {
   "attachments": {},
   "cell_type": "markdown",
   "metadata": {},
   "source": [
    "# constrained generation (no big difference in speed compared to unconstrained inference)"
   ]
  },
  {
   "cell_type": "code",
   "execution_count": 11,
   "metadata": {},
   "outputs": [],
   "source": [
    "import sys \n",
    "sys.path.append('../modelling')"
   ]
  },
  {
   "cell_type": "code",
   "execution_count": 12,
   "metadata": {},
   "outputs": [],
   "source": [
    "from main_utils import Trie"
   ]
  },
  {
   "cell_type": "code",
   "execution_count": 14,
   "metadata": {},
   "outputs": [],
   "source": [
    "allowed_gen_sequences = []"
   ]
  },
  {
   "cell_type": "code",
   "execution_count": 15,
   "metadata": {},
   "outputs": [],
   "source": [
    "with open('../modelling/datasets/taxonomy/wish_v1.2.1_newtax_leafpaths.txt', 'r') as f:\n",
    "    for l in f:\n",
    "        l = l.replace('\\n', '').strip()\n",
    "        if len(l) > 0:\n",
    "            allowed_gen_sequences.append(l)"
   ]
  },
  {
   "cell_type": "code",
   "execution_count": 16,
   "metadata": {},
   "outputs": [],
   "source": [
    "trie = Trie([\n",
    "    [tokenizer.pad_token_id] + tokenizer.encode(i) + [tokenizer.eos_token_id] for i in allowed_gen_sequences\n",
    "])"
   ]
  },
  {
   "cell_type": "code",
   "execution_count": 17,
   "metadata": {},
   "outputs": [],
   "source": [
    "def constraint(batch_id, sent):\n",
    "    return trie.get(sent.tolist())"
   ]
  },
  {
   "cell_type": "code",
   "execution_count": 18,
   "metadata": {},
   "outputs": [],
   "source": [
    "batch = inputs\n",
    "batch2 = inputs2\n",
    "batch3 = inputs3"
   ]
  },
  {
   "attachments": {},
   "cell_type": "markdown",
   "metadata": {},
   "source": [
    "## constrained beam search"
   ]
  },
  {
   "cell_type": "code",
   "execution_count": 19,
   "metadata": {},
   "outputs": [
    {
     "name": "stdout",
     "output_type": "stream",
     "text": [
      "['<pad> beauty & health > sexual wellness > sex toys > dildos</s>', '<pad> beauty & health > sexual wellness > sm products > masturbation machine</s>', '<pad> beauty & health > sexual wellness > safer sex > condoms</s>']\n",
      "tensor([9.3622e-01, 1.1616e-03, 8.2010e-04], device='cuda:0')\n",
      "['<pad> beauty & health > sexual wellness > sex toys > dildos</s>', '<pad> beauty & health > sexual wellness > sm products > masturbation machine</s>', '<pad> beauty & health > sexual wellness > safer sex > condoms</s>']\n",
      "tensor([9.3622e-01, 1.1616e-03, 8.2010e-04], device='cuda:0')\n",
      "['<pad> beauty & health > sexual wellness > sex toys > dildos</s>', '<pad> beauty & health > sexual wellness > sm products > masturbation machine</s>', '<pad> beauty & health > sexual wellness > safer sex > condoms</s>']\n",
      "tensor([9.3622e-01, 1.1616e-03, 8.2010e-04], device='cuda:0')\n",
      "['<pad> beauty & health > sexual wellness > sex toys > dildos</s>', '<pad> beauty & health > sexual wellness > sm products > masturbation machine</s>', '<pad> beauty & health > sexual wellness > safer sex > condoms</s>']\n",
      "tensor([9.3622e-01, 1.1616e-03, 8.2010e-04], device='cuda:0')\n",
      "['<pad> beauty & health > sexual wellness > sex toys > dildos</s>', '<pad> beauty & health > sexual wellness > sm products > masturbation machine</s>', '<pad> beauty & health > sexual wellness > safer sex > condoms</s>']\n",
      "tensor([9.3622e-01, 1.1616e-03, 8.2010e-04], device='cuda:0')\n",
      "['<pad> beauty & health > sexual wellness > sex toys > dildos</s>', '<pad> beauty & health > sexual wellness > sm products > masturbation machine</s>', '<pad> beauty & health > sexual wellness > safer sex > condoms</s>']\n",
      "tensor([9.3622e-01, 1.1616e-03, 8.2010e-04], device='cuda:0')\n",
      "['<pad> beauty & health > sexual wellness > sex toys > dildos</s>', '<pad> beauty & health > sexual wellness > sm products > masturbation machine</s>', '<pad> beauty & health > sexual wellness > safer sex > condoms</s>']\n",
      "tensor([9.3622e-01, 1.1616e-03, 8.2010e-04], device='cuda:0')\n",
      "['<pad> beauty & health > sexual wellness > sex toys > dildos</s>', '<pad> beauty & health > sexual wellness > sm products > masturbation machine</s>', '<pad> beauty & health > sexual wellness > safer sex > condoms</s>']\n",
      "tensor([9.3622e-01, 1.1616e-03, 8.2010e-04], device='cuda:0')\n",
      "203 ms ± 3.59 ms per loop (mean ± std. dev. of 7 runs, 1 loop each)\n"
     ]
    }
   ],
   "source": [
    "%%timeit\n",
    "infres = model_ort.generate(\n",
    "    input_ids = batch[\"input_ids\"], \n",
    "    attention_mask = batch[\"attention_mask\"],\n",
    "    num_beams = 3, \n",
    "    num_return_sequences = 3, \n",
    "    do_sample = False, \n",
    "    length_penalty = 0, \n",
    "    max_new_tokens = 50 - 1, # HACK: T5 adds pad token in the beginning\n",
    "    prefix_allowed_tokens_fn=constraint, \n",
    "    output_scores=True, return_dict_in_generate=True\n",
    ")\n",
    "prediction = infres.sequences\n",
    "probs = infres.sequences_scores.exp()\n",
    "print(tokenizer.batch_decode(prediction))\n",
    "print(probs)"
   ]
  },
  {
   "cell_type": "code",
   "execution_count": 20,
   "metadata": {},
   "outputs": [
    {
     "name": "stdout",
     "output_type": "stream",
     "text": [
      "[\"<pad> luggage & bags > women's bags > shoulder bags</s><pad>\", \"<pad> luggage & bags > women's bags > top-handle bags</s>\", \"<pad> women's clothing > tops > tees</s><pad><pad><pad><pad><pad>\"]\n",
      "tensor([0.1285, 0.0830, 0.0501], device='cuda:0')\n",
      "[\"<pad> luggage & bags > women's bags > shoulder bags</s><pad>\", \"<pad> luggage & bags > women's bags > top-handle bags</s>\", \"<pad> women's clothing > tops > tees</s><pad><pad><pad><pad><pad>\"]\n",
      "tensor([0.1285, 0.0830, 0.0501], device='cuda:0')\n",
      "[\"<pad> luggage & bags > women's bags > shoulder bags</s><pad>\", \"<pad> luggage & bags > women's bags > top-handle bags</s>\", \"<pad> women's clothing > tops > tees</s><pad><pad><pad><pad><pad>\"]\n",
      "tensor([0.1285, 0.0830, 0.0501], device='cuda:0')\n",
      "[\"<pad> luggage & bags > women's bags > shoulder bags</s><pad>\", \"<pad> luggage & bags > women's bags > top-handle bags</s>\", \"<pad> women's clothing > tops > tees</s><pad><pad><pad><pad><pad>\"]\n",
      "tensor([0.1285, 0.0830, 0.0501], device='cuda:0')\n",
      "[\"<pad> luggage & bags > women's bags > shoulder bags</s><pad>\", \"<pad> luggage & bags > women's bags > top-handle bags</s>\", \"<pad> women's clothing > tops > tees</s><pad><pad><pad><pad><pad>\"]\n",
      "tensor([0.1285, 0.0830, 0.0501], device='cuda:0')\n",
      "[\"<pad> luggage & bags > women's bags > shoulder bags</s><pad>\", \"<pad> luggage & bags > women's bags > top-handle bags</s>\", \"<pad> women's clothing > tops > tees</s><pad><pad><pad><pad><pad>\"]\n",
      "tensor([0.1285, 0.0830, 0.0501], device='cuda:0')\n",
      "[\"<pad> luggage & bags > women's bags > shoulder bags</s><pad>\", \"<pad> luggage & bags > women's bags > top-handle bags</s>\", \"<pad> women's clothing > tops > tees</s><pad><pad><pad><pad><pad>\"]\n",
      "tensor([0.1285, 0.0830, 0.0501], device='cuda:0')\n",
      "[\"<pad> luggage & bags > women's bags > shoulder bags</s><pad>\", \"<pad> luggage & bags > women's bags > top-handle bags</s>\", \"<pad> women's clothing > tops > tees</s><pad><pad><pad><pad><pad>\"]\n",
      "tensor([0.1285, 0.0830, 0.0501], device='cuda:0')\n",
      "215 ms ± 3.57 ms per loop (mean ± std. dev. of 7 runs, 1 loop each)\n"
     ]
    }
   ],
   "source": [
    "%%timeit\n",
    "infres = model_ort.generate(\n",
    "    input_ids = batch2[\"input_ids\"], \n",
    "    attention_mask = batch2[\"attention_mask\"],\n",
    "    num_beams = 3, \n",
    "    num_return_sequences = 3, \n",
    "    do_sample = False, \n",
    "    length_penalty = 0, \n",
    "    max_new_tokens = 50 - 1, # HACK: T5 adds pad token in the beginning\n",
    "    prefix_allowed_tokens_fn=constraint, \n",
    "    output_scores=True, return_dict_in_generate=True\n",
    ")\n",
    "prediction = infres.sequences\n",
    "probs = infres.sequences_scores.exp()\n",
    "print(tokenizer.batch_decode(prediction))\n",
    "print(probs)"
   ]
  },
  {
   "cell_type": "code",
   "execution_count": 21,
   "metadata": {},
   "outputs": [
    {
     "name": "stdout",
     "output_type": "stream",
     "text": [
      "['<pad> mother & kids > feeding > solid feeding > cups</s><pad><pad>', '<pad> mother & kids > feeding > baby food storage</s><pad><pad><pad><pad><pad>', '<pad> mother & kids > feeding > bottle feeding > formula milk storage</s>']\n",
      "tensor([0.1415, 0.1347, 0.0729], device='cuda:0')\n",
      "['<pad> mother & kids > feeding > solid feeding > cups</s><pad><pad>', '<pad> mother & kids > feeding > baby food storage</s><pad><pad><pad><pad><pad>', '<pad> mother & kids > feeding > bottle feeding > formula milk storage</s>']\n",
      "tensor([0.1415, 0.1347, 0.0729], device='cuda:0')\n",
      "['<pad> mother & kids > feeding > solid feeding > cups</s><pad><pad>', '<pad> mother & kids > feeding > baby food storage</s><pad><pad><pad><pad><pad>', '<pad> mother & kids > feeding > bottle feeding > formula milk storage</s>']\n",
      "tensor([0.1415, 0.1347, 0.0729], device='cuda:0')\n",
      "['<pad> mother & kids > feeding > solid feeding > cups</s><pad><pad>', '<pad> mother & kids > feeding > baby food storage</s><pad><pad><pad><pad><pad>', '<pad> mother & kids > feeding > bottle feeding > formula milk storage</s>']\n",
      "tensor([0.1415, 0.1347, 0.0729], device='cuda:0')\n",
      "['<pad> mother & kids > feeding > solid feeding > cups</s><pad><pad>', '<pad> mother & kids > feeding > baby food storage</s><pad><pad><pad><pad><pad>', '<pad> mother & kids > feeding > bottle feeding > formula milk storage</s>']\n",
      "tensor([0.1415, 0.1347, 0.0729], device='cuda:0')\n",
      "['<pad> mother & kids > feeding > solid feeding > cups</s><pad><pad>', '<pad> mother & kids > feeding > baby food storage</s><pad><pad><pad><pad><pad>', '<pad> mother & kids > feeding > bottle feeding > formula milk storage</s>']\n",
      "tensor([0.1415, 0.1347, 0.0729], device='cuda:0')\n",
      "['<pad> mother & kids > feeding > solid feeding > cups</s><pad><pad>', '<pad> mother & kids > feeding > baby food storage</s><pad><pad><pad><pad><pad>', '<pad> mother & kids > feeding > bottle feeding > formula milk storage</s>']\n",
      "tensor([0.1415, 0.1347, 0.0729], device='cuda:0')\n",
      "['<pad> mother & kids > feeding > solid feeding > cups</s><pad><pad>', '<pad> mother & kids > feeding > baby food storage</s><pad><pad><pad><pad><pad>', '<pad> mother & kids > feeding > bottle feeding > formula milk storage</s>']\n",
      "tensor([0.1415, 0.1347, 0.0729], device='cuda:0')\n",
      "213 ms ± 1.72 ms per loop (mean ± std. dev. of 7 runs, 1 loop each)\n"
     ]
    }
   ],
   "source": [
    "%%timeit\n",
    "infres = model_ort.generate(\n",
    "    input_ids = batch3[\"input_ids\"], \n",
    "    attention_mask = batch3[\"attention_mask\"],\n",
    "    num_beams = 3, \n",
    "    num_return_sequences = 3, \n",
    "    do_sample = False, \n",
    "    length_penalty = 0, \n",
    "    max_new_tokens = 50 - 1, # HACK: T5 adds pad token in the beginning\n",
    "    prefix_allowed_tokens_fn=constraint, \n",
    "    output_scores=True, return_dict_in_generate=True\n",
    ")\n",
    "prediction = infres.sequences\n",
    "probs = infres.sequences_scores.exp()\n",
    "print(tokenizer.batch_decode(prediction))\n",
    "print(probs)"
   ]
  },
  {
   "attachments": {},
   "cell_type": "markdown",
   "metadata": {},
   "source": [
    "## constrained greedy decoding"
   ]
  },
  {
   "cell_type": "code",
   "execution_count": 22,
   "metadata": {},
   "outputs": [
    {
     "name": "stdout",
     "output_type": "stream",
     "text": [
      "['<pad> beauty & health > sexual wellness > sex toys > dildos</s>']\n",
      "['<pad> beauty & health > sexual wellness > sex toys > dildos</s>']\n",
      "['<pad> beauty & health > sexual wellness > sex toys > dildos</s>']\n",
      "['<pad> beauty & health > sexual wellness > sex toys > dildos</s>']\n",
      "['<pad> beauty & health > sexual wellness > sex toys > dildos</s>']\n",
      "['<pad> beauty & health > sexual wellness > sex toys > dildos</s>']\n",
      "['<pad> beauty & health > sexual wellness > sex toys > dildos</s>']\n",
      "['<pad> beauty & health > sexual wellness > sex toys > dildos</s>']\n",
      "['<pad> beauty & health > sexual wellness > sex toys > dildos</s>']\n",
      "['<pad> beauty & health > sexual wellness > sex toys > dildos</s>']\n",
      "['<pad> beauty & health > sexual wellness > sex toys > dildos</s>']\n",
      "['<pad> beauty & health > sexual wellness > sex toys > dildos</s>']\n",
      "['<pad> beauty & health > sexual wellness > sex toys > dildos</s>']\n",
      "['<pad> beauty & health > sexual wellness > sex toys > dildos</s>']\n",
      "['<pad> beauty & health > sexual wellness > sex toys > dildos</s>']\n",
      "['<pad> beauty & health > sexual wellness > sex toys > dildos</s>']\n",
      "['<pad> beauty & health > sexual wellness > sex toys > dildos</s>']\n",
      "['<pad> beauty & health > sexual wellness > sex toys > dildos</s>']\n",
      "['<pad> beauty & health > sexual wellness > sex toys > dildos</s>']\n",
      "['<pad> beauty & health > sexual wellness > sex toys > dildos</s>']\n",
      "['<pad> beauty & health > sexual wellness > sex toys > dildos</s>']\n",
      "['<pad> beauty & health > sexual wellness > sex toys > dildos</s>']\n",
      "['<pad> beauty & health > sexual wellness > sex toys > dildos</s>']\n",
      "['<pad> beauty & health > sexual wellness > sex toys > dildos</s>']\n",
      "['<pad> beauty & health > sexual wellness > sex toys > dildos</s>']\n",
      "['<pad> beauty & health > sexual wellness > sex toys > dildos</s>']\n",
      "['<pad> beauty & health > sexual wellness > sex toys > dildos</s>']\n",
      "['<pad> beauty & health > sexual wellness > sex toys > dildos</s>']\n",
      "['<pad> beauty & health > sexual wellness > sex toys > dildos</s>']\n",
      "['<pad> beauty & health > sexual wellness > sex toys > dildos</s>']\n",
      "['<pad> beauty & health > sexual wellness > sex toys > dildos</s>']\n",
      "['<pad> beauty & health > sexual wellness > sex toys > dildos</s>']\n",
      "['<pad> beauty & health > sexual wellness > sex toys > dildos</s>']\n",
      "['<pad> beauty & health > sexual wellness > sex toys > dildos</s>']\n",
      "['<pad> beauty & health > sexual wellness > sex toys > dildos</s>']\n",
      "['<pad> beauty & health > sexual wellness > sex toys > dildos</s>']\n",
      "['<pad> beauty & health > sexual wellness > sex toys > dildos</s>']\n",
      "['<pad> beauty & health > sexual wellness > sex toys > dildos</s>']\n",
      "['<pad> beauty & health > sexual wellness > sex toys > dildos</s>']\n",
      "['<pad> beauty & health > sexual wellness > sex toys > dildos</s>']\n",
      "['<pad> beauty & health > sexual wellness > sex toys > dildos</s>']\n",
      "['<pad> beauty & health > sexual wellness > sex toys > dildos</s>']\n",
      "['<pad> beauty & health > sexual wellness > sex toys > dildos</s>']\n",
      "['<pad> beauty & health > sexual wellness > sex toys > dildos</s>']\n",
      "['<pad> beauty & health > sexual wellness > sex toys > dildos</s>']\n",
      "['<pad> beauty & health > sexual wellness > sex toys > dildos</s>']\n",
      "['<pad> beauty & health > sexual wellness > sex toys > dildos</s>']\n",
      "['<pad> beauty & health > sexual wellness > sex toys > dildos</s>']\n",
      "['<pad> beauty & health > sexual wellness > sex toys > dildos</s>']\n",
      "['<pad> beauty & health > sexual wellness > sex toys > dildos</s>']\n",
      "['<pad> beauty & health > sexual wellness > sex toys > dildos</s>']\n",
      "['<pad> beauty & health > sexual wellness > sex toys > dildos</s>']\n",
      "['<pad> beauty & health > sexual wellness > sex toys > dildos</s>']\n",
      "['<pad> beauty & health > sexual wellness > sex toys > dildos</s>']\n",
      "['<pad> beauty & health > sexual wellness > sex toys > dildos</s>']\n",
      "['<pad> beauty & health > sexual wellness > sex toys > dildos</s>']\n",
      "['<pad> beauty & health > sexual wellness > sex toys > dildos</s>']\n",
      "['<pad> beauty & health > sexual wellness > sex toys > dildos</s>']\n",
      "['<pad> beauty & health > sexual wellness > sex toys > dildos</s>']\n",
      "['<pad> beauty & health > sexual wellness > sex toys > dildos</s>']\n",
      "['<pad> beauty & health > sexual wellness > sex toys > dildos</s>']\n",
      "['<pad> beauty & health > sexual wellness > sex toys > dildos</s>']\n",
      "['<pad> beauty & health > sexual wellness > sex toys > dildos</s>']\n",
      "['<pad> beauty & health > sexual wellness > sex toys > dildos</s>']\n",
      "['<pad> beauty & health > sexual wellness > sex toys > dildos</s>']\n",
      "['<pad> beauty & health > sexual wellness > sex toys > dildos</s>']\n",
      "['<pad> beauty & health > sexual wellness > sex toys > dildos</s>']\n",
      "['<pad> beauty & health > sexual wellness > sex toys > dildos</s>']\n",
      "['<pad> beauty & health > sexual wellness > sex toys > dildos</s>']\n",
      "['<pad> beauty & health > sexual wellness > sex toys > dildos</s>']\n",
      "['<pad> beauty & health > sexual wellness > sex toys > dildos</s>']\n",
      "['<pad> beauty & health > sexual wellness > sex toys > dildos</s>']\n",
      "['<pad> beauty & health > sexual wellness > sex toys > dildos</s>']\n",
      "['<pad> beauty & health > sexual wellness > sex toys > dildos</s>']\n",
      "['<pad> beauty & health > sexual wellness > sex toys > dildos</s>']\n",
      "['<pad> beauty & health > sexual wellness > sex toys > dildos</s>']\n",
      "['<pad> beauty & health > sexual wellness > sex toys > dildos</s>']\n",
      "['<pad> beauty & health > sexual wellness > sex toys > dildos</s>']\n",
      "['<pad> beauty & health > sexual wellness > sex toys > dildos</s>']\n",
      "['<pad> beauty & health > sexual wellness > sex toys > dildos</s>']\n",
      "['<pad> beauty & health > sexual wellness > sex toys > dildos</s>']\n",
      "148 ms ± 1.74 ms per loop (mean ± std. dev. of 7 runs, 10 loops each)\n"
     ]
    }
   ],
   "source": [
    "%%timeit \n",
    "print(tokenizer.batch_decode(model_ort.generate(\n",
    "    input_ids = batch[\"input_ids\"], \n",
    "    attention_mask = batch[\"attention_mask\"],\n",
    "    do_sample = False, \n",
    "    length_penalty = 0, \n",
    "    max_new_tokens = 50 - 1, # HACK: T5 adds pad token in the beginning\n",
    "    prefix_allowed_tokens_fn=constraint\n",
    ")))"
   ]
  },
  {
   "cell_type": "code",
   "execution_count": 23,
   "metadata": {},
   "outputs": [
    {
     "name": "stdout",
     "output_type": "stream",
     "text": [
      "[\"<pad> luggage & bags > women's bags > shoulder bags</s>\"]\n",
      "[\"<pad> luggage & bags > women's bags > shoulder bags</s>\"]\n",
      "[\"<pad> luggage & bags > women's bags > shoulder bags</s>\"]\n",
      "[\"<pad> luggage & bags > women's bags > shoulder bags</s>\"]\n",
      "[\"<pad> luggage & bags > women's bags > shoulder bags</s>\"]\n",
      "[\"<pad> luggage & bags > women's bags > shoulder bags</s>\"]\n",
      "[\"<pad> luggage & bags > women's bags > shoulder bags</s>\"]\n",
      "[\"<pad> luggage & bags > women's bags > shoulder bags</s>\"]\n",
      "[\"<pad> luggage & bags > women's bags > shoulder bags</s>\"]\n",
      "[\"<pad> luggage & bags > women's bags > shoulder bags</s>\"]\n",
      "[\"<pad> luggage & bags > women's bags > shoulder bags</s>\"]\n",
      "[\"<pad> luggage & bags > women's bags > shoulder bags</s>\"]\n",
      "[\"<pad> luggage & bags > women's bags > shoulder bags</s>\"]\n",
      "[\"<pad> luggage & bags > women's bags > shoulder bags</s>\"]\n",
      "[\"<pad> luggage & bags > women's bags > shoulder bags</s>\"]\n",
      "[\"<pad> luggage & bags > women's bags > shoulder bags</s>\"]\n",
      "[\"<pad> luggage & bags > women's bags > shoulder bags</s>\"]\n",
      "[\"<pad> luggage & bags > women's bags > shoulder bags</s>\"]\n",
      "[\"<pad> luggage & bags > women's bags > shoulder bags</s>\"]\n",
      "[\"<pad> luggage & bags > women's bags > shoulder bags</s>\"]\n",
      "[\"<pad> luggage & bags > women's bags > shoulder bags</s>\"]\n",
      "[\"<pad> luggage & bags > women's bags > shoulder bags</s>\"]\n",
      "[\"<pad> luggage & bags > women's bags > shoulder bags</s>\"]\n",
      "[\"<pad> luggage & bags > women's bags > shoulder bags</s>\"]\n",
      "[\"<pad> luggage & bags > women's bags > shoulder bags</s>\"]\n",
      "[\"<pad> luggage & bags > women's bags > shoulder bags</s>\"]\n",
      "[\"<pad> luggage & bags > women's bags > shoulder bags</s>\"]\n",
      "[\"<pad> luggage & bags > women's bags > shoulder bags</s>\"]\n",
      "[\"<pad> luggage & bags > women's bags > shoulder bags</s>\"]\n",
      "[\"<pad> luggage & bags > women's bags > shoulder bags</s>\"]\n",
      "[\"<pad> luggage & bags > women's bags > shoulder bags</s>\"]\n",
      "[\"<pad> luggage & bags > women's bags > shoulder bags</s>\"]\n",
      "[\"<pad> luggage & bags > women's bags > shoulder bags</s>\"]\n",
      "[\"<pad> luggage & bags > women's bags > shoulder bags</s>\"]\n",
      "[\"<pad> luggage & bags > women's bags > shoulder bags</s>\"]\n",
      "[\"<pad> luggage & bags > women's bags > shoulder bags</s>\"]\n",
      "[\"<pad> luggage & bags > women's bags > shoulder bags</s>\"]\n",
      "[\"<pad> luggage & bags > women's bags > shoulder bags</s>\"]\n",
      "[\"<pad> luggage & bags > women's bags > shoulder bags</s>\"]\n",
      "[\"<pad> luggage & bags > women's bags > shoulder bags</s>\"]\n",
      "[\"<pad> luggage & bags > women's bags > shoulder bags</s>\"]\n",
      "[\"<pad> luggage & bags > women's bags > shoulder bags</s>\"]\n",
      "[\"<pad> luggage & bags > women's bags > shoulder bags</s>\"]\n",
      "[\"<pad> luggage & bags > women's bags > shoulder bags</s>\"]\n",
      "[\"<pad> luggage & bags > women's bags > shoulder bags</s>\"]\n",
      "[\"<pad> luggage & bags > women's bags > shoulder bags</s>\"]\n",
      "[\"<pad> luggage & bags > women's bags > shoulder bags</s>\"]\n",
      "[\"<pad> luggage & bags > women's bags > shoulder bags</s>\"]\n",
      "[\"<pad> luggage & bags > women's bags > shoulder bags</s>\"]\n",
      "[\"<pad> luggage & bags > women's bags > shoulder bags</s>\"]\n",
      "[\"<pad> luggage & bags > women's bags > shoulder bags</s>\"]\n",
      "[\"<pad> luggage & bags > women's bags > shoulder bags</s>\"]\n",
      "[\"<pad> luggage & bags > women's bags > shoulder bags</s>\"]\n",
      "[\"<pad> luggage & bags > women's bags > shoulder bags</s>\"]\n",
      "[\"<pad> luggage & bags > women's bags > shoulder bags</s>\"]\n",
      "[\"<pad> luggage & bags > women's bags > shoulder bags</s>\"]\n",
      "[\"<pad> luggage & bags > women's bags > shoulder bags</s>\"]\n",
      "[\"<pad> luggage & bags > women's bags > shoulder bags</s>\"]\n",
      "[\"<pad> luggage & bags > women's bags > shoulder bags</s>\"]\n",
      "[\"<pad> luggage & bags > women's bags > shoulder bags</s>\"]\n",
      "[\"<pad> luggage & bags > women's bags > shoulder bags</s>\"]\n",
      "[\"<pad> luggage & bags > women's bags > shoulder bags</s>\"]\n",
      "[\"<pad> luggage & bags > women's bags > shoulder bags</s>\"]\n",
      "[\"<pad> luggage & bags > women's bags > shoulder bags</s>\"]\n",
      "[\"<pad> luggage & bags > women's bags > shoulder bags</s>\"]\n",
      "[\"<pad> luggage & bags > women's bags > shoulder bags</s>\"]\n",
      "[\"<pad> luggage & bags > women's bags > shoulder bags</s>\"]\n",
      "[\"<pad> luggage & bags > women's bags > shoulder bags</s>\"]\n",
      "[\"<pad> luggage & bags > women's bags > shoulder bags</s>\"]\n",
      "[\"<pad> luggage & bags > women's bags > shoulder bags</s>\"]\n",
      "[\"<pad> luggage & bags > women's bags > shoulder bags</s>\"]\n",
      "[\"<pad> luggage & bags > women's bags > shoulder bags</s>\"]\n",
      "[\"<pad> luggage & bags > women's bags > shoulder bags</s>\"]\n",
      "[\"<pad> luggage & bags > women's bags > shoulder bags</s>\"]\n",
      "[\"<pad> luggage & bags > women's bags > shoulder bags</s>\"]\n",
      "[\"<pad> luggage & bags > women's bags > shoulder bags</s>\"]\n",
      "[\"<pad> luggage & bags > women's bags > shoulder bags</s>\"]\n",
      "[\"<pad> luggage & bags > women's bags > shoulder bags</s>\"]\n",
      "[\"<pad> luggage & bags > women's bags > shoulder bags</s>\"]\n",
      "[\"<pad> luggage & bags > women's bags > shoulder bags</s>\"]\n",
      "[\"<pad> luggage & bags > women's bags > shoulder bags</s>\"]\n",
      "148 ms ± 658 µs per loop (mean ± std. dev. of 7 runs, 10 loops each)\n"
     ]
    }
   ],
   "source": [
    "%%timeit \n",
    "print(tokenizer.batch_decode(model_ort.generate(\n",
    "    input_ids = batch2[\"input_ids\"], \n",
    "    attention_mask = batch2[\"attention_mask\"],\n",
    "    do_sample = False, \n",
    "    length_penalty = 0, \n",
    "    max_new_tokens = 50 - 1, # HACK: T5 adds pad token in the beginning\n",
    "    prefix_allowed_tokens_fn=constraint\n",
    ")))"
   ]
  },
  {
   "cell_type": "code",
   "execution_count": 24,
   "metadata": {},
   "outputs": [
    {
     "name": "stdout",
     "output_type": "stream",
     "text": [
      "['<pad> mother & kids > feeding > bottle feeding > baby bottle accessories</s>']\n",
      "['<pad> mother & kids > feeding > bottle feeding > baby bottle accessories</s>']\n",
      "['<pad> mother & kids > feeding > bottle feeding > baby bottle accessories</s>']\n",
      "['<pad> mother & kids > feeding > bottle feeding > baby bottle accessories</s>']\n",
      "['<pad> mother & kids > feeding > bottle feeding > baby bottle accessories</s>']\n",
      "['<pad> mother & kids > feeding > bottle feeding > baby bottle accessories</s>']\n",
      "['<pad> mother & kids > feeding > bottle feeding > baby bottle accessories</s>']\n",
      "['<pad> mother & kids > feeding > bottle feeding > baby bottle accessories</s>']\n",
      "['<pad> mother & kids > feeding > bottle feeding > baby bottle accessories</s>']\n",
      "['<pad> mother & kids > feeding > bottle feeding > baby bottle accessories</s>']\n",
      "['<pad> mother & kids > feeding > bottle feeding > baby bottle accessories</s>']\n",
      "['<pad> mother & kids > feeding > bottle feeding > baby bottle accessories</s>']\n",
      "['<pad> mother & kids > feeding > bottle feeding > baby bottle accessories</s>']\n",
      "['<pad> mother & kids > feeding > bottle feeding > baby bottle accessories</s>']\n",
      "['<pad> mother & kids > feeding > bottle feeding > baby bottle accessories</s>']\n",
      "['<pad> mother & kids > feeding > bottle feeding > baby bottle accessories</s>']\n",
      "['<pad> mother & kids > feeding > bottle feeding > baby bottle accessories</s>']\n",
      "['<pad> mother & kids > feeding > bottle feeding > baby bottle accessories</s>']\n",
      "['<pad> mother & kids > feeding > bottle feeding > baby bottle accessories</s>']\n",
      "['<pad> mother & kids > feeding > bottle feeding > baby bottle accessories</s>']\n",
      "['<pad> mother & kids > feeding > bottle feeding > baby bottle accessories</s>']\n",
      "['<pad> mother & kids > feeding > bottle feeding > baby bottle accessories</s>']\n",
      "['<pad> mother & kids > feeding > bottle feeding > baby bottle accessories</s>']\n",
      "['<pad> mother & kids > feeding > bottle feeding > baby bottle accessories</s>']\n",
      "['<pad> mother & kids > feeding > bottle feeding > baby bottle accessories</s>']\n",
      "['<pad> mother & kids > feeding > bottle feeding > baby bottle accessories</s>']\n",
      "['<pad> mother & kids > feeding > bottle feeding > baby bottle accessories</s>']\n",
      "['<pad> mother & kids > feeding > bottle feeding > baby bottle accessories</s>']\n",
      "['<pad> mother & kids > feeding > bottle feeding > baby bottle accessories</s>']\n",
      "['<pad> mother & kids > feeding > bottle feeding > baby bottle accessories</s>']\n",
      "['<pad> mother & kids > feeding > bottle feeding > baby bottle accessories</s>']\n",
      "['<pad> mother & kids > feeding > bottle feeding > baby bottle accessories</s>']\n",
      "['<pad> mother & kids > feeding > bottle feeding > baby bottle accessories</s>']\n",
      "['<pad> mother & kids > feeding > bottle feeding > baby bottle accessories</s>']\n",
      "['<pad> mother & kids > feeding > bottle feeding > baby bottle accessories</s>']\n",
      "['<pad> mother & kids > feeding > bottle feeding > baby bottle accessories</s>']\n",
      "['<pad> mother & kids > feeding > bottle feeding > baby bottle accessories</s>']\n",
      "['<pad> mother & kids > feeding > bottle feeding > baby bottle accessories</s>']\n",
      "['<pad> mother & kids > feeding > bottle feeding > baby bottle accessories</s>']\n",
      "['<pad> mother & kids > feeding > bottle feeding > baby bottle accessories</s>']\n",
      "['<pad> mother & kids > feeding > bottle feeding > baby bottle accessories</s>']\n",
      "['<pad> mother & kids > feeding > bottle feeding > baby bottle accessories</s>']\n",
      "['<pad> mother & kids > feeding > bottle feeding > baby bottle accessories</s>']\n",
      "['<pad> mother & kids > feeding > bottle feeding > baby bottle accessories</s>']\n",
      "['<pad> mother & kids > feeding > bottle feeding > baby bottle accessories</s>']\n",
      "['<pad> mother & kids > feeding > bottle feeding > baby bottle accessories</s>']\n",
      "['<pad> mother & kids > feeding > bottle feeding > baby bottle accessories</s>']\n",
      "['<pad> mother & kids > feeding > bottle feeding > baby bottle accessories</s>']\n",
      "['<pad> mother & kids > feeding > bottle feeding > baby bottle accessories</s>']\n",
      "['<pad> mother & kids > feeding > bottle feeding > baby bottle accessories</s>']\n",
      "['<pad> mother & kids > feeding > bottle feeding > baby bottle accessories</s>']\n",
      "['<pad> mother & kids > feeding > bottle feeding > baby bottle accessories</s>']\n",
      "['<pad> mother & kids > feeding > bottle feeding > baby bottle accessories</s>']\n",
      "['<pad> mother & kids > feeding > bottle feeding > baby bottle accessories</s>']\n",
      "['<pad> mother & kids > feeding > bottle feeding > baby bottle accessories</s>']\n",
      "['<pad> mother & kids > feeding > bottle feeding > baby bottle accessories</s>']\n",
      "['<pad> mother & kids > feeding > bottle feeding > baby bottle accessories</s>']\n",
      "['<pad> mother & kids > feeding > bottle feeding > baby bottle accessories</s>']\n",
      "['<pad> mother & kids > feeding > bottle feeding > baby bottle accessories</s>']\n",
      "['<pad> mother & kids > feeding > bottle feeding > baby bottle accessories</s>']\n",
      "['<pad> mother & kids > feeding > bottle feeding > baby bottle accessories</s>']\n",
      "['<pad> mother & kids > feeding > bottle feeding > baby bottle accessories</s>']\n",
      "['<pad> mother & kids > feeding > bottle feeding > baby bottle accessories</s>']\n",
      "['<pad> mother & kids > feeding > bottle feeding > baby bottle accessories</s>']\n",
      "['<pad> mother & kids > feeding > bottle feeding > baby bottle accessories</s>']\n",
      "['<pad> mother & kids > feeding > bottle feeding > baby bottle accessories</s>']\n",
      "['<pad> mother & kids > feeding > bottle feeding > baby bottle accessories</s>']\n",
      "['<pad> mother & kids > feeding > bottle feeding > baby bottle accessories</s>']\n",
      "['<pad> mother & kids > feeding > bottle feeding > baby bottle accessories</s>']\n",
      "['<pad> mother & kids > feeding > bottle feeding > baby bottle accessories</s>']\n",
      "['<pad> mother & kids > feeding > bottle feeding > baby bottle accessories</s>']\n",
      "['<pad> mother & kids > feeding > bottle feeding > baby bottle accessories</s>']\n",
      "['<pad> mother & kids > feeding > bottle feeding > baby bottle accessories</s>']\n",
      "['<pad> mother & kids > feeding > bottle feeding > baby bottle accessories</s>']\n",
      "['<pad> mother & kids > feeding > bottle feeding > baby bottle accessories</s>']\n",
      "['<pad> mother & kids > feeding > bottle feeding > baby bottle accessories</s>']\n",
      "['<pad> mother & kids > feeding > bottle feeding > baby bottle accessories</s>']\n",
      "['<pad> mother & kids > feeding > bottle feeding > baby bottle accessories</s>']\n",
      "['<pad> mother & kids > feeding > bottle feeding > baby bottle accessories</s>']\n",
      "['<pad> mother & kids > feeding > bottle feeding > baby bottle accessories</s>']\n",
      "['<pad> mother & kids > feeding > bottle feeding > baby bottle accessories</s>']\n",
      "177 ms ± 738 µs per loop (mean ± std. dev. of 7 runs, 10 loops each)\n"
     ]
    }
   ],
   "source": [
    "%%timeit \n",
    "print(tokenizer.batch_decode(model_ort.generate(\n",
    "    input_ids = batch3[\"input_ids\"], \n",
    "    attention_mask = batch3[\"attention_mask\"],\n",
    "    do_sample = False, \n",
    "    length_penalty = 0, \n",
    "    max_new_tokens = 50 - 1, # HACK: T5 adds pad token in the beginning\n",
    "    prefix_allowed_tokens_fn=constraint\n",
    ")))"
   ]
  },
  {
   "cell_type": "code",
   "execution_count": null,
   "metadata": {},
   "outputs": [],
   "source": []
  }
 ],
 "metadata": {
  "kernelspec": {
   "display_name": "py38",
   "language": "python",
   "name": "python3"
  },
  "language_info": {
   "codemirror_mode": {
    "name": "ipython",
    "version": 3
   },
   "file_extension": ".py",
   "mimetype": "text/x-python",
   "name": "python",
   "nbconvert_exporter": "python",
   "pygments_lexer": "ipython3",
   "version": "3.8.13"
  },
  "orig_nbformat": 4,
  "vscode": {
   "interpreter": {
    "hash": "3ea19d11efa7602c1f12500925a974ed4f31fcf847bd6f694bd5180da2602ded"
   }
  }
 },
 "nbformat": 4,
 "nbformat_minor": 2
}
