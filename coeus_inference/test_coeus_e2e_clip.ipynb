{
 "cells": [
  {
   "cell_type": "code",
   "execution_count": 3,
   "metadata": {},
   "outputs": [],
   "source": [
    "import sys \n",
    "sys.path.append('coeus-inference-backend-client-python3')"
   ]
  },
  {
   "cell_type": "code",
   "execution_count": 6,
   "metadata": {},
   "outputs": [],
   "source": [
    "import numpy as np"
   ]
  },
  {
   "cell_type": "code",
   "execution_count": 30,
   "metadata": {},
   "outputs": [
    {
     "name": "stdout",
     "output_type": "stream",
     "text": [
      "coeus-inference-backend-gpu.stage.s.legacy.wish.site:8081\n"
     ]
    }
   ],
   "source": [
    "from coeus_inference_backend_client.client import InferenceBackendClient\n",
    "from coeus_inference_backend_client.utils import (RunInferenceRequest,\n",
    "                                                  ModelInput,\n",
    "                                                  Environment,\n",
    "                                                  BatchRunInferenceRequest,\n",
    "                                                  BatchModelInput)\n",
    "\n",
    "model_name = \"clip_img_onnx_external\"\n",
    "namespace = \"default-gpu\"\n",
    "env = Environment.STAGE\n",
    "client = InferenceBackendClient(namespace, env)\n",
    "print(client._host)\n"
   ]
  },
  {
   "cell_type": "code",
   "execution_count": 31,
   "metadata": {},
   "outputs": [
    {
     "ename": "_InactiveRpcError",
     "evalue": "<_InactiveRpcError of RPC that terminated with:\n\tstatus = StatusCode.UNAVAILABLE\n\tdetails = \"failed to connect to all addresses; last error: UNKNOWN: ipv4:10.32.58.153:8081: Failed to connect to remote host: Connection refused\"\n\tdebug_error_string = \"UNKNOWN:failed to connect to all addresses; last error: UNKNOWN: ipv4:10.32.58.153:8081: Failed to connect to remote host: Connection refused {grpc_status:14, created_time:\"2023-03-06T21:36:35.275041841+00:00\"}\"\n>",
     "output_type": "error",
     "traceback": [
      "\u001b[0;31m---------------------------------------------------------------------------\u001b[0m",
      "\u001b[0;31m_InactiveRpcError\u001b[0m                         Traceback (most recent call last)",
      "Cell \u001b[0;32mIn[31], line 1\u001b[0m\n\u001b[0;32m----> 1\u001b[0m client\u001b[39m.\u001b[39;49mget_current_model_version(model_name)\n",
      "File \u001b[0;32m/workspaces/multitask-llm-rnd/coeus_inference/coeus-inference-backend-client-python3/coeus_inference_backend_client/client.py:244\u001b[0m, in \u001b[0;36mInferenceBackendClient.get_current_model_version\u001b[0;34m(self, model_name)\u001b[0m\n\u001b[1;32m    237\u001b[0m \u001b[39m\u001b[39m\u001b[39m\"\"\"\u001b[39;00m\n\u001b[1;32m    238\u001b[0m \u001b[39mGet the current deployed version of a model given a model name\u001b[39;00m\n\u001b[1;32m    239\u001b[0m \n\u001b[1;32m    240\u001b[0m \u001b[39m:param model_name: string, the name of the model\u001b[39;00m\n\u001b[1;32m    241\u001b[0m \u001b[39m:return string, the current version of the model that the inference is calculated on top of\u001b[39;00m\n\u001b[1;32m    242\u001b[0m \u001b[39m\"\"\"\u001b[39;00m\n\u001b[1;32m    243\u001b[0m request \u001b[39m=\u001b[39m coeus_pb2\u001b[39m.\u001b[39mGetCurrentModelVersionRequest(modelName\u001b[39m=\u001b[39mmodel_name)\n\u001b[0;32m--> 244\u001b[0m response \u001b[39m=\u001b[39m \u001b[39mself\u001b[39;49m\u001b[39m.\u001b[39;49m_grpc_client\u001b[39m.\u001b[39;49mGetCurrentModelVersion(request)\n\u001b[1;32m    245\u001b[0m \u001b[39mreturn\u001b[39;00m response\u001b[39m.\u001b[39mmodelVersion\n",
      "File \u001b[0;32m/opt/conda/envs/py38/lib/python3.8/site-packages/grpc/_interceptor.py:247\u001b[0m, in \u001b[0;36m_UnaryUnaryMultiCallable.__call__\u001b[0;34m(self, request, timeout, metadata, credentials, wait_for_ready, compression)\u001b[0m\n\u001b[1;32m    240\u001b[0m \u001b[39mdef\u001b[39;00m \u001b[39m__call__\u001b[39m(\u001b[39mself\u001b[39m,\n\u001b[1;32m    241\u001b[0m              request: Any,\n\u001b[1;32m    242\u001b[0m              timeout: Optional[\u001b[39mfloat\u001b[39m] \u001b[39m=\u001b[39m \u001b[39mNone\u001b[39;00m,\n\u001b[0;32m   (...)\u001b[0m\n\u001b[1;32m    245\u001b[0m              wait_for_ready: Optional[\u001b[39mbool\u001b[39m] \u001b[39m=\u001b[39m \u001b[39mNone\u001b[39;00m,\n\u001b[1;32m    246\u001b[0m              compression: Optional[grpc\u001b[39m.\u001b[39mCompression] \u001b[39m=\u001b[39m \u001b[39mNone\u001b[39;00m) \u001b[39m-\u001b[39m\u001b[39m>\u001b[39m Any:\n\u001b[0;32m--> 247\u001b[0m     response, ignored_call \u001b[39m=\u001b[39m \u001b[39mself\u001b[39;49m\u001b[39m.\u001b[39;49m_with_call(request,\n\u001b[1;32m    248\u001b[0m                                              timeout\u001b[39m=\u001b[39;49mtimeout,\n\u001b[1;32m    249\u001b[0m                                              metadata\u001b[39m=\u001b[39;49mmetadata,\n\u001b[1;32m    250\u001b[0m                                              credentials\u001b[39m=\u001b[39;49mcredentials,\n\u001b[1;32m    251\u001b[0m                                              wait_for_ready\u001b[39m=\u001b[39;49mwait_for_ready,\n\u001b[1;32m    252\u001b[0m                                              compression\u001b[39m=\u001b[39;49mcompression)\n\u001b[1;32m    253\u001b[0m     \u001b[39mreturn\u001b[39;00m response\n",
      "File \u001b[0;32m/opt/conda/envs/py38/lib/python3.8/site-packages/grpc/_interceptor.py:290\u001b[0m, in \u001b[0;36m_UnaryUnaryMultiCallable._with_call\u001b[0;34m(self, request, timeout, metadata, credentials, wait_for_ready, compression)\u001b[0m\n\u001b[1;32m    285\u001b[0m         \u001b[39mreturn\u001b[39;00m _FailureOutcome(exception, sys\u001b[39m.\u001b[39mexc_info()[\u001b[39m2\u001b[39m])\n\u001b[1;32m    287\u001b[0m call \u001b[39m=\u001b[39m \u001b[39mself\u001b[39m\u001b[39m.\u001b[39m_interceptor\u001b[39m.\u001b[39mintercept_unary_unary(continuation,\n\u001b[1;32m    288\u001b[0m                                                client_call_details,\n\u001b[1;32m    289\u001b[0m                                                request)\n\u001b[0;32m--> 290\u001b[0m \u001b[39mreturn\u001b[39;00m call\u001b[39m.\u001b[39;49mresult(), call\n",
      "File \u001b[0;32m/opt/conda/envs/py38/lib/python3.8/site-packages/grpc/_channel.py:343\u001b[0m, in \u001b[0;36m_InactiveRpcError.result\u001b[0;34m(self, timeout)\u001b[0m\n\u001b[1;32m    341\u001b[0m \u001b[39mdef\u001b[39;00m \u001b[39mresult\u001b[39m(\u001b[39mself\u001b[39m, timeout\u001b[39m=\u001b[39m\u001b[39mNone\u001b[39;00m):  \u001b[39m# pylint: disable=unused-argument\u001b[39;00m\n\u001b[1;32m    342\u001b[0m \u001b[39m    \u001b[39m\u001b[39m\"\"\"See grpc.Future.result.\"\"\"\u001b[39;00m\n\u001b[0;32m--> 343\u001b[0m     \u001b[39mraise\u001b[39;00m \u001b[39mself\u001b[39m\n",
      "File \u001b[0;32m/opt/conda/envs/py38/lib/python3.8/site-packages/grpc/_interceptor.py:274\u001b[0m, in \u001b[0;36m_UnaryUnaryMultiCallable._with_call.<locals>.continuation\u001b[0;34m(new_details, request)\u001b[0m\n\u001b[1;32m    269\u001b[0m (new_method, new_timeout, new_metadata, new_credentials,\n\u001b[1;32m    270\u001b[0m  new_wait_for_ready,\n\u001b[1;32m    271\u001b[0m  new_compression) \u001b[39m=\u001b[39m (_unwrap_client_call_details(\n\u001b[1;32m    272\u001b[0m      new_details, client_call_details))\n\u001b[1;32m    273\u001b[0m \u001b[39mtry\u001b[39;00m:\n\u001b[0;32m--> 274\u001b[0m     response, call \u001b[39m=\u001b[39m \u001b[39mself\u001b[39;49m\u001b[39m.\u001b[39;49m_thunk(new_method)\u001b[39m.\u001b[39;49mwith_call(\n\u001b[1;32m    275\u001b[0m         request,\n\u001b[1;32m    276\u001b[0m         timeout\u001b[39m=\u001b[39;49mnew_timeout,\n\u001b[1;32m    277\u001b[0m         metadata\u001b[39m=\u001b[39;49mnew_metadata,\n\u001b[1;32m    278\u001b[0m         credentials\u001b[39m=\u001b[39;49mnew_credentials,\n\u001b[1;32m    279\u001b[0m         wait_for_ready\u001b[39m=\u001b[39;49mnew_wait_for_ready,\n\u001b[1;32m    280\u001b[0m         compression\u001b[39m=\u001b[39;49mnew_compression)\n\u001b[1;32m    281\u001b[0m     \u001b[39mreturn\u001b[39;00m _UnaryOutcome(response, call)\n\u001b[1;32m    282\u001b[0m \u001b[39mexcept\u001b[39;00m grpc\u001b[39m.\u001b[39mRpcError \u001b[39mas\u001b[39;00m rpc_error:\n",
      "File \u001b[0;32m/opt/conda/envs/py38/lib/python3.8/site-packages/grpc/_channel.py:957\u001b[0m, in \u001b[0;36m_UnaryUnaryMultiCallable.with_call\u001b[0;34m(self, request, timeout, metadata, credentials, wait_for_ready, compression)\u001b[0m\n\u001b[1;32m    948\u001b[0m \u001b[39mdef\u001b[39;00m \u001b[39mwith_call\u001b[39m(\u001b[39mself\u001b[39m,\n\u001b[1;32m    949\u001b[0m               request,\n\u001b[1;32m    950\u001b[0m               timeout\u001b[39m=\u001b[39m\u001b[39mNone\u001b[39;00m,\n\u001b[0;32m   (...)\u001b[0m\n\u001b[1;32m    953\u001b[0m               wait_for_ready\u001b[39m=\u001b[39m\u001b[39mNone\u001b[39;00m,\n\u001b[1;32m    954\u001b[0m               compression\u001b[39m=\u001b[39m\u001b[39mNone\u001b[39;00m):\n\u001b[1;32m    955\u001b[0m     state, call, \u001b[39m=\u001b[39m \u001b[39mself\u001b[39m\u001b[39m.\u001b[39m_blocking(request, timeout, metadata, credentials,\n\u001b[1;32m    956\u001b[0m                                   wait_for_ready, compression)\n\u001b[0;32m--> 957\u001b[0m     \u001b[39mreturn\u001b[39;00m _end_unary_response_blocking(state, call, \u001b[39mTrue\u001b[39;49;00m, \u001b[39mNone\u001b[39;49;00m)\n",
      "File \u001b[0;32m/opt/conda/envs/py38/lib/python3.8/site-packages/grpc/_channel.py:849\u001b[0m, in \u001b[0;36m_end_unary_response_blocking\u001b[0;34m(state, call, with_call, deadline)\u001b[0m\n\u001b[1;32m    847\u001b[0m         \u001b[39mreturn\u001b[39;00m state\u001b[39m.\u001b[39mresponse\n\u001b[1;32m    848\u001b[0m \u001b[39melse\u001b[39;00m:\n\u001b[0;32m--> 849\u001b[0m     \u001b[39mraise\u001b[39;00m _InactiveRpcError(state)\n",
      "\u001b[0;31m_InactiveRpcError\u001b[0m: <_InactiveRpcError of RPC that terminated with:\n\tstatus = StatusCode.UNAVAILABLE\n\tdetails = \"failed to connect to all addresses; last error: UNKNOWN: ipv4:10.32.58.153:8081: Failed to connect to remote host: Connection refused\"\n\tdebug_error_string = \"UNKNOWN:failed to connect to all addresses; last error: UNKNOWN: ipv4:10.32.58.153:8081: Failed to connect to remote host: Connection refused {grpc_status:14, created_time:\"2023-03-06T21:36:35.275041841+00:00\"}\"\n>"
     ]
    }
   ],
   "source": [
    "client.get_current_model_version(model_name)"
   ]
  },
  {
   "cell_type": "code",
   "execution_count": 24,
   "metadata": {},
   "outputs": [],
   "source": [
    "input_values = np.random.random((3,336,336)).reshape(-1).tolist()"
   ]
  },
  {
   "cell_type": "code",
   "execution_count": 25,
   "metadata": {},
   "outputs": [
    {
     "name": "stdout",
     "output_type": "stream",
     "text": [
      "<coeus_inference_backend_client.utils.InferenceResult object at 0x7f9fd43a7b80>\n"
     ]
    }
   ],
   "source": [
    "model_input = ModelInput('float_input')\n",
    "model_input.extend(input_values)\n",
    "\n",
    "run_inference_request = RunInferenceRequest(model_name=model_name)\n",
    "run_inference_request.add_model_input(model_input)\n",
    "\n",
    "response = client.run_inference(run_inference_request)\n",
    "print(response)"
   ]
  },
  {
   "cell_type": "code",
   "execution_count": 26,
   "metadata": {},
   "outputs": [
    {
     "data": {
      "text/plain": [
       "{'_model_name': '', '_model_version': '', '_inference_result_list': []}"
      ]
     },
     "execution_count": 26,
     "metadata": {},
     "output_type": "execute_result"
    }
   ],
   "source": [
    "response.__dict__"
   ]
  },
  {
   "cell_type": "code",
   "execution_count": null,
   "metadata": {},
   "outputs": [],
   "source": []
  }
 ],
 "metadata": {
  "kernelspec": {
   "display_name": "py38",
   "language": "python",
   "name": "python3"
  },
  "language_info": {
   "codemirror_mode": {
    "name": "ipython",
    "version": 3
   },
   "file_extension": ".py",
   "mimetype": "text/x-python",
   "name": "python",
   "nbconvert_exporter": "python",
   "pygments_lexer": "ipython3",
   "version": "3.8.13"
  },
  "orig_nbformat": 4,
  "vscode": {
   "interpreter": {
    "hash": "3ea19d11efa7602c1f12500925a974ed4f31fcf847bd6f694bd5180da2602ded"
   }
  }
 },
 "nbformat": 4,
 "nbformat_minor": 2
}
