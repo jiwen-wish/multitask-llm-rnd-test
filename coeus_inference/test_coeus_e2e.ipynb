{
 "cells": [
  {
   "cell_type": "code",
   "execution_count": 2,
   "metadata": {},
   "outputs": [],
   "source": [
    "import sys \n",
    "sys.path.append('coeus-inference-backend-client-python3')"
   ]
  },
  {
   "cell_type": "code",
   "execution_count": 6,
   "metadata": {},
   "outputs": [
    {
     "name": "stdout",
     "output_type": "stream",
     "text": [
      "coeus-inference-backend-gpu.dev.s.legacy.wish.site:8081\n"
     ]
    }
   ],
   "source": [
    "from coeus_inference_backend_client.client import InferenceBackendClient\n",
    "from coeus_inference_backend_client.utils import (RunInferenceRequest,\n",
    "                                                  ModelInput,\n",
    "                                                  Environment,\n",
    "                                                  BatchRunInferenceRequest,\n",
    "                                                  BatchModelInput)\n",
    "\n",
    "model_name = \"query_classify\"\n",
    "namespace = \"default-gpu\"\n",
    "env = Environment.DEV\n",
    "client = InferenceBackendClient(namespace, env)\n",
    "print(client._host)\n"
   ]
  },
  {
   "cell_type": "code",
   "execution_count": 7,
   "metadata": {},
   "outputs": [
    {
     "name": "stdout",
     "output_type": "stream",
     "text": [
      "[\"['<pad> beauty & health > sexual wellness > sex toys > dildos</s>']\"]\n",
      "[\"['<pad> beauty & health > sexual wellness > sex toys > dildos</s>']\"]\n",
      "[\"['<pad> beauty & health > sexual wellness > sex toys > dildos</s>']\"]\n",
      "[\"['<pad> beauty & health > sexual wellness > sex toys > dildos</s>']\"]\n",
      "[\"['<pad> beauty & health > sexual wellness > sex toys > dildos</s>']\"]\n",
      "[\"['<pad> beauty & health > sexual wellness > sex toys > dildos</s>']\"]\n",
      "[\"['<pad> beauty & health > sexual wellness > sex toys > dildos</s>']\"]\n",
      "[\"['<pad> beauty & health > sexual wellness > sex toys > dildos</s>']\"]\n",
      "144 ms ± 7.74 ms per loop (mean ± std. dev. of 7 runs, 1 loop each)\n"
     ]
    }
   ],
   "source": [
    "%%timeit\n",
    "# For now the server side only accepts list with length 1\n",
    "input_values = [\"Generate taxonomy for query: dildo\"]\n",
    "\n",
    "model_input = ModelInput('string_input') # doesn't matter\n",
    "model_input.extend(input_values)\n",
    "\n",
    "run_inference_request = RunInferenceRequest(model_name=model_name)\n",
    "run_inference_request.add_model_input(model_input)\n",
    "\n",
    "response = client.run_text_generation(run_inference_request)\n",
    "print(response)"
   ]
  },
  {
   "cell_type": "code",
   "execution_count": 14,
   "metadata": {},
   "outputs": [],
   "source": [
    "from tqdm import tqdm"
   ]
  },
  {
   "cell_type": "code",
   "execution_count": 11,
   "metadata": {},
   "outputs": [],
   "source": [
    "import pandas as pd \n",
    "df_test = pd.read_json('../datasets/data/query_label/processed/Offshore_Labelled_Query_Classification_Test.json', lines=True)"
   ]
  },
  {
   "cell_type": "code",
   "execution_count": 15,
   "metadata": {},
   "outputs": [
    {
     "name": "stderr",
     "output_type": "stream",
     "text": [
      "100%|██████████| 4300/4300 [10:14<00:00,  7.00it/s]"
     ]
    },
    {
     "name": "stdout",
     "output_type": "stream",
     "text": [
      "CPU times: user 8.04 s, sys: 1.79 s, total: 9.83 s\n",
      "Wall time: 10min 14s\n"
     ]
    },
    {
     "name": "stderr",
     "output_type": "stream",
     "text": [
      "\n"
     ]
    }
   ],
   "source": [
    "%%time\n",
    "res = {}\n",
    "for i in tqdm(df_test['query'].tolist()):\n",
    "    input_values = [f\"Generate taxonomy for query: {i}\"]\n",
    "\n",
    "    model_input = ModelInput('string_input') # doesn't matter\n",
    "    model_input.extend(input_values)\n",
    "\n",
    "    run_inference_request = RunInferenceRequest(model_name=model_name)\n",
    "    run_inference_request.add_model_input(model_input)\n",
    "\n",
    "    response = client.run_text_generation(run_inference_request)\n",
    "    res[i] = eval(response[0])[0].replace('<pad>', '').replace('</s>', '').strip()"
   ]
  },
  {
   "cell_type": "code",
   "execution_count": 16,
   "metadata": {},
   "outputs": [
    {
     "data": {
      "text/plain": [
       "(0.1427906976744186, 7.003257328990228)"
      ]
     },
     "execution_count": 16,
     "metadata": {},
     "output_type": "execute_result"
    }
   ],
   "source": [
    "(10 * 60 + 14) / 4300, 4300 / (10 * 60 + 14)"
   ]
  },
  {
   "cell_type": "code",
   "execution_count": null,
   "metadata": {},
   "outputs": [],
   "source": []
  }
 ],
 "metadata": {
  "kernelspec": {
   "display_name": "py38",
   "language": "python",
   "name": "python3"
  },
  "language_info": {
   "codemirror_mode": {
    "name": "ipython",
    "version": 3
   },
   "file_extension": ".py",
   "mimetype": "text/x-python",
   "name": "python",
   "nbconvert_exporter": "python",
   "pygments_lexer": "ipython3",
   "version": "3.8.13"
  },
  "orig_nbformat": 4,
  "vscode": {
   "interpreter": {
    "hash": "3ea19d11efa7602c1f12500925a974ed4f31fcf847bd6f694bd5180da2602ded"
   }
  }
 },
 "nbformat": 4,
 "nbformat_minor": 2
}
