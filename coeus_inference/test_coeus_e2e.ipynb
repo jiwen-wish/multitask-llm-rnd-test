{
 "cells": [
  {
   "cell_type": "code",
   "execution_count": 3,
   "metadata": {},
   "outputs": [],
   "source": [
    "import sys \n",
    "sys.path.append('coeus-inference-backend-client-python3')"
   ]
  },
  {
   "cell_type": "code",
   "execution_count": 4,
   "metadata": {},
   "outputs": [
    {
     "name": "stdout",
     "output_type": "stream",
     "text": [
      "coeus-inference-backend-gpu.dev.s.legacy.wish.site:8081\n"
     ]
    }
   ],
   "source": [
    "from coeus_inference_backend_client.client import InferenceBackendClient\n",
    "from coeus_inference_backend_client.utils import (RunInferenceRequest,\n",
    "                                                  ModelInput,\n",
    "                                                  Environment,\n",
    "                                                  BatchRunInferenceRequest,\n",
    "                                                  BatchModelInput)\n",
    "\n",
    "model_name = \"query_classify\"\n",
    "namespace = \"default-gpu\"\n",
    "env = Environment.DEV\n",
    "client = InferenceBackendClient(namespace, env)\n",
    "print(client._host)\n"
   ]
  },
  {
   "cell_type": "code",
   "execution_count": 5,
   "metadata": {},
   "outputs": [
    {
     "name": "stdout",
     "output_type": "stream",
     "text": [
      "[\"['<pad> beauty & health > sexual wellness > sex toys > dildos</s>']\"]\n",
      "[\"['<pad> beauty & health > sexual wellness > sex toys > dildos</s>']\"]\n",
      "[\"['<pad> beauty & health > sexual wellness > sex toys > dildos</s>']\"]\n",
      "[\"['<pad> beauty & health > sexual wellness > sex toys > dildos</s>']\"]\n",
      "[\"['<pad> beauty & health > sexual wellness > sex toys > dildos</s>']\"]\n",
      "[\"['<pad> beauty & health > sexual wellness > sex toys > dildos</s>']\"]\n",
      "[\"['<pad> beauty & health > sexual wellness > sex toys > dildos</s>']\"]\n",
      "[\"['<pad> beauty & health > sexual wellness > sex toys > dildos</s>']\"]\n",
      "147 ms ± 8.68 ms per loop (mean ± std. dev. of 7 runs, 1 loop each)\n"
     ]
    }
   ],
   "source": [
    "%%timeit\n",
    "# For now the server side only accepts list with length 1\n",
    "input_values = [\"Generate taxonomy for query: dildo\"]\n",
    "\n",
    "model_input = ModelInput('string_input') # doesn't matter\n",
    "model_input.extend(input_values)\n",
    "\n",
    "run_inference_request = RunInferenceRequest(model_name=model_name)\n",
    "run_inference_request.add_model_input(model_input)\n",
    "\n",
    "response = client.run_text_generation(run_inference_request)\n",
    "print(response)"
   ]
  },
  {
   "cell_type": "code",
   "execution_count": 6,
   "metadata": {},
   "outputs": [],
   "source": [
    "from tqdm import tqdm"
   ]
  },
  {
   "cell_type": "code",
   "execution_count": 7,
   "metadata": {},
   "outputs": [],
   "source": [
    "import pandas as pd \n",
    "df_test = pd.read_json('../datasets/data/query_label/processed/Offshore_Labelled_Query_Classification_Test.json', lines=True)"
   ]
  },
  {
   "cell_type": "code",
   "execution_count": 8,
   "metadata": {},
   "outputs": [
    {
     "name": "stderr",
     "output_type": "stream",
     "text": [
      "100%|██████████| 4300/4300 [10:20<00:00,  6.93it/s]"
     ]
    },
    {
     "name": "stdout",
     "output_type": "stream",
     "text": [
      "CPU times: user 7.47 s, sys: 2.06 s, total: 9.53 s\n",
      "Wall time: 10min 20s\n"
     ]
    },
    {
     "name": "stderr",
     "output_type": "stream",
     "text": [
      "\n"
     ]
    }
   ],
   "source": [
    "%%time\n",
    "res = {}\n",
    "for i in tqdm(df_test['query'].tolist()):\n",
    "    input_values = [f\"Generate taxonomy for query: {i}\"]\n",
    "\n",
    "    model_input = ModelInput('string_input') # doesn't matter\n",
    "    model_input.extend(input_values)\n",
    "\n",
    "    run_inference_request = RunInferenceRequest(model_name=model_name)\n",
    "    run_inference_request.add_model_input(model_input)\n",
    "\n",
    "    response = client.run_text_generation(run_inference_request)\n",
    "    res[i] = eval(response[0])[0].replace('<pad>', '').replace('</s>', '').strip()"
   ]
  },
  {
   "cell_type": "code",
   "execution_count": 21,
   "metadata": {},
   "outputs": [
    {
     "data": {
      "text/plain": [
       "(0.14418604651162792, 6.935483870967742)"
      ]
     },
     "execution_count": 21,
     "metadata": {},
     "output_type": "execute_result"
    }
   ],
   "source": [
    "(10 * 60 + 20) / 4300, 4300 / (10 * 60 + 20)"
   ]
  },
  {
   "cell_type": "code",
   "execution_count": 14,
   "metadata": {},
   "outputs": [],
   "source": [
    "df_tax = pd.read_json('../datasets/data/taxonomy/wish_newtax.json', lines=True)\n",
    "leaf_paths = df_tax[df_tax.is_leaf]['category_path'].tolist()\n",
    "leaf_paths_lower = [i.lower() for i in leaf_paths]\n",
    "lower2uppermap = {}\n",
    "for l, u in zip(leaf_paths_lower, leaf_paths):\n",
    "    lower2uppermap[l] = u"
   ]
  },
  {
   "cell_type": "code",
   "execution_count": 19,
   "metadata": {},
   "outputs": [],
   "source": [
    "from thefuzz import process as fuzz_process"
   ]
  },
  {
   "cell_type": "code",
   "execution_count": 20,
   "metadata": {},
   "outputs": [
    {
     "name": "stdout",
     "output_type": "stream",
     "text": [
      "CPU times: user 805 ms, sys: 0 ns, total: 805 ms\n",
      "Wall time: 803 ms\n"
     ]
    },
    {
     "data": {
      "text/plain": [
       "('watches > watch accessories > watchbands', 100)"
      ]
     },
     "execution_count": 20,
     "metadata": {},
     "output_type": "execute_result"
    }
   ],
   "source": [
    "%%time\n",
    "# too slow, would rather do constrained generation than post-hoc fuzzy match\n",
    "fuzz_process.extractOne(res[i], leaf_paths_lower)"
   ]
  },
  {
   "cell_type": "code",
   "execution_count": 26,
   "metadata": {},
   "outputs": [],
   "source": [
    "import numpy as np"
   ]
  },
  {
   "cell_type": "code",
   "execution_count": 27,
   "metadata": {},
   "outputs": [
    {
     "data": {
      "text/plain": [
       "0.7579069767441861"
      ]
     },
     "execution_count": 27,
     "metadata": {},
     "output_type": "execute_result"
    }
   ],
   "source": [
    "np.mean([v in lower2uppermap for k, v in res.items()])"
   ]
  },
  {
   "cell_type": "code",
   "execution_count": null,
   "metadata": {},
   "outputs": [],
   "source": []
  }
 ],
 "metadata": {
  "kernelspec": {
   "display_name": "py38",
   "language": "python",
   "name": "python3"
  },
  "language_info": {
   "codemirror_mode": {
    "name": "ipython",
    "version": 3
   },
   "file_extension": ".py",
   "mimetype": "text/x-python",
   "name": "python",
   "nbconvert_exporter": "python",
   "pygments_lexer": "ipython3",
   "version": "3.8.13"
  },
  "orig_nbformat": 4,
  "vscode": {
   "interpreter": {
    "hash": "3ea19d11efa7602c1f12500925a974ed4f31fcf847bd6f694bd5180da2602ded"
   }
  }
 },
 "nbformat": 4,
 "nbformat_minor": 2
}
