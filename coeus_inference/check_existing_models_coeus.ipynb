{
 "cells": [
  {
   "cell_type": "code",
   "execution_count": 1,
   "metadata": {},
   "outputs": [],
   "source": [
    "from coeus_model_registry_client import ModelRegistryClient, SupportedLibraries\n",
    "from onnxconverter_common import data_types as onnx_data_types\n",
    "import torch"
   ]
  },
  {
   "cell_type": "code",
   "execution_count": 2,
   "metadata": {},
   "outputs": [],
   "source": [
    "import sys \n",
    "sys.path.append('../modelling/')"
   ]
  },
  {
   "cell_type": "code",
   "execution_count": 3,
   "metadata": {},
   "outputs": [],
   "source": [
    "from main_multitask_multimodal import LLM_MultitaskMultimodal"
   ]
  },
  {
   "cell_type": "code",
   "execution_count": 4,
   "metadata": {},
   "outputs": [],
   "source": [
    "import os"
   ]
  },
  {
   "cell_type": "code",
   "execution_count": 6,
   "metadata": {},
   "outputs": [
    {
     "name": "stdout",
     "output_type": "stream",
     "text": [
      " config.yaml\n",
      "'epoch=1-step=2600.ckpt.dvc'\n",
      " events.out.tfevents.1674255098.5edda923ab64.9729.0.dvc\n",
      " hparams.yaml\n"
     ]
    }
   ],
   "source": [
    "!ls ../modelling/models/multitask_multimodal_multilingual/version_9"
   ]
  },
  {
   "cell_type": "code",
   "execution_count": 9,
   "metadata": {},
   "outputs": [],
   "source": [
    "ckpt_path = os.path.abspath('../modelling/models/multitask_multimodal_multilingual/version_9/epoch=1-step=2600.ckpt/pytorch_model.bin')"
   ]
  },
  {
   "cell_type": "code",
   "execution_count": 10,
   "metadata": {},
   "outputs": [
    {
     "data": {
      "application/vnd.jupyter.widget-view+json": {
       "model_id": "af2867345d9044a6b14e3bd8592364ad",
       "version_major": 2,
       "version_minor": 0
      },
      "text/plain": [
       "Downloading:   0%|          | 0.00/702 [00:00<?, ?B/s]"
      ]
     },
     "metadata": {},
     "output_type": "display_data"
    },
    {
     "name": "stderr",
     "output_type": "stream",
     "text": [
      "INFO:root:Unused kwargs when getting google/mt5-base: {'distance_func': 'cosine', 'loss_type': 'cross-entropy', 'margin': None, 'hidden_states_type': 'encoder-last', 'add_simcse': False, 'manual_loss_type': 'manual_mse', 'auto_task_weight': False, 'multitask_specs_dict': {'clm_singlemodal_wishquery2tax': None}, 'head_dict': {}}\n"
     ]
    },
    {
     "data": {
      "application/vnd.jupyter.widget-view+json": {
       "model_id": "d047d520935941f6b558f311d87c8338",
       "version_major": 2,
       "version_minor": 0
      },
      "text/plain": [
       "Downloading:   0%|          | 0.00/376 [00:00<?, ?B/s]"
      ]
     },
     "metadata": {},
     "output_type": "display_data"
    },
    {
     "data": {
      "application/vnd.jupyter.widget-view+json": {
       "model_id": "5013aaf8389d4d3e8320097a9e6db51c",
       "version_major": 2,
       "version_minor": 0
      },
      "text/plain": [
       "Downloading:   0%|          | 0.00/4.31M [00:00<?, ?B/s]"
      ]
     },
     "metadata": {},
     "output_type": "display_data"
    },
    {
     "data": {
      "application/vnd.jupyter.widget-view+json": {
       "model_id": "9e6e79130c04404a9a606c589458de46",
       "version_major": 2,
       "version_minor": 0
      },
      "text/plain": [
       "Downloading:   0%|          | 0.00/65.0 [00:00<?, ?B/s]"
      ]
     },
     "metadata": {},
     "output_type": "display_data"
    },
    {
     "name": "stderr",
     "output_type": "stream",
     "text": [
      "/opt/conda/envs/py38/lib/python3.8/site-packages/transformers/convert_slow_tokenizer.py:446: UserWarning: The sentencepiece tokenizer that you are converting to a fast tokenizer uses the byte fallback option which is not implemented in the fast tokenizers. In practice this means that the fast version of the tokenizer can produce unknown tokens whereas the sentencepiece version would have converted these unknown tokens into a sequence of byte tokens matching the original piece of text.\n",
      "  warnings.warn(\n"
     ]
    }
   ],
   "source": [
    "model = LLM_MultitaskMultimodal.load_from_checkpoint(ckpt_path)"
   ]
  },
  {
   "cell_type": "code",
   "execution_count": 11,
   "metadata": {},
   "outputs": [],
   "source": [
    "model.eval()\n",
    "namespace = 'default-gpu'\n",
    "model_name = 'multitask-nlp-queryclassify-v2-test'"
   ]
  },
  {
   "cell_type": "code",
   "execution_count": 13,
   "metadata": {},
   "outputs": [
    {
     "name": "stdout",
     "output_type": "stream",
     "text": [
      "creating client with cert\n"
     ]
    }
   ],
   "source": [
    "with ModelRegistryClient() as coeus:\n",
    "    models = coeus.get_models(namespace)"
   ]
  },
  {
   "cell_type": "code",
   "execution_count": 14,
   "metadata": {},
   "outputs": [
    {
     "data": {
      "text/plain": [
       "[{'namespace': 'default-gpu',\n",
       "  'name': 'mids-image-model-flat-siamese-reduced',\n",
       "  'library': 'LIBRARIES_TENSORFLOW_1',\n",
       "  'mode': 'MODEL_MODES_UNSPECIFIED'},\n",
       " {'namespace': 'default-gpu',\n",
       "  'name': 'collection_reranking_xgboost',\n",
       "  'library': 'LIBRARIES_XGBOOST_1',\n",
       "  'mode': 'MODEL_MODES_UNSPECIFIED'},\n",
       " {'namespace': 'default-gpu',\n",
       "  'name': 'product-swap-pt',\n",
       "  'library': 'LIBRARIES_PYTORCH_1',\n",
       "  'mode': 'MODEL_MODES_UNSPECIFIED'},\n",
       " {'namespace': 'default-gpu',\n",
       "  'name': 'product-listing',\n",
       "  'library': 'LIBRARIES_PYTORCH_1',\n",
       "  'mode': 'MODEL_MODES_UNSPECIFIED'},\n",
       " {'namespace': 'default-gpu',\n",
       "  'name': 'product-listing-fp16',\n",
       "  'library': 'LIBRARIES_PYTORCH_1',\n",
       "  'mode': 'MODEL_MODES_UNSPECIFIED'},\n",
       " {'namespace': 'default-gpu',\n",
       "  'name': 'mids-image-model-flat',\n",
       "  'library': 'LIBRARIES_TENSORFLOW_1',\n",
       "  'mode': 'MODEL_MODES_UNSPECIFIED'},\n",
       " {'namespace': 'default-gpu',\n",
       "  'name': 'mids-image-model-flat-siamese',\n",
       "  'library': 'LIBRARIES_TENSORFLOW_1',\n",
       "  'mode': 'MODEL_MODES_UNSPECIFIED'},\n",
       " {'namespace': 'default-gpu',\n",
       "  'name': 'clip_text_onnx',\n",
       "  'library': 'LIBRARIES_PYTORCH_1',\n",
       "  'mode': 'MODEL_MODES_UNSPECIFIED'}]"
      ]
     },
     "execution_count": 14,
     "metadata": {},
     "output_type": "execute_result"
    }
   ],
   "source": [
    "models"
   ]
  }
 ],
 "metadata": {
  "kernelspec": {
   "display_name": "py38",
   "language": "python",
   "name": "python3"
  },
  "language_info": {
   "codemirror_mode": {
    "name": "ipython",
    "version": 3
   },
   "file_extension": ".py",
   "mimetype": "text/x-python",
   "name": "python",
   "nbconvert_exporter": "python",
   "pygments_lexer": "ipython3",
   "version": "3.8.13"
  },
  "orig_nbformat": 4,
  "vscode": {
   "interpreter": {
    "hash": "3ea19d11efa7602c1f12500925a974ed4f31fcf847bd6f694bd5180da2602ded"
   }
  }
 },
 "nbformat": 4,
 "nbformat_minor": 2
}
