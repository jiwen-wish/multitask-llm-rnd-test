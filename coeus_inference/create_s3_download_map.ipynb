{
 "cells": [
  {
   "cell_type": "code",
   "execution_count": null,
   "metadata": {},
   "outputs": [],
   "source": [
    "# referencing https://github.com/ContextLogic/listing-inference-training/blob/ebb4ebb187022c5a60cedc8c791855f80fa5aac6/query_classification_offline/run_batch.py#L98\n",
    "\n",
    "# model_dvc_path = os.path.join(os.path.dirname(__file__), 'multitask-llm-rnd-manual', \n",
    "#     'modelling', model_relpath + '.dvc')\n",
    "# model_s3_hash = yaml.safe_load(open(model_dvc_path, 'r'))['outs'][0]['md5'].strip()\n",
    "\n",
    "# s3.download_file(\n",
    "#     Bucket=\"structured-data-dev\",\n",
    "#     Key=f\"junwang_query_understand_model/dvc/{model_s3_hash[:2]}/{model_s3_hash[2:]}\",\n",
    "#     Filename=os.path.join(os.path.dirname(__file__), 'multitask-llm-rnd-manual', \n",
    "#         'modelling', model_relpath)\n",
    "# )"
   ]
  },
  {
   "cell_type": "code",
   "execution_count": 1,
   "metadata": {},
   "outputs": [],
   "source": [
    "import glob\n",
    "import yaml \n",
    "\n",
    "path2s3 = {}\n",
    "for i in glob.glob(\"hf_models/query_classify_v2/*.dvc\"):\n",
    "    model_s3_hash = yaml.safe_load(open(i, 'r'))['outs'][0]['md5'].strip()\n",
    "    s3url = f\"s3://structured-data-dev/junwang_coeus_inference/dvc/{model_s3_hash[:2]}/{model_s3_hash[2:]}\"\n",
    "    path2s3[i] = s3url"
   ]
  },
  {
   "cell_type": "code",
   "execution_count": 2,
   "metadata": {},
   "outputs": [
    {
     "data": {
      "text/plain": [
       "{'hf_models/query_classify_v2/config.json.dvc': 's3://structured-data-dev/junwang_coeus_inference/dvc/d4/f88fc69e22fcff28d1c7b8b99a0813',\n",
       " 'hf_models/query_classify_v2/decoder_model.onnx.dvc': 's3://structured-data-dev/junwang_coeus_inference/dvc/de/7e5d49012d6dfd60e59f46a0a7e5e4',\n",
       " 'hf_models/query_classify_v2/decoder_with_past_model.onnx.dvc': 's3://structured-data-dev/junwang_coeus_inference/dvc/40/f5df61d571c5fc581bdbcf36e2c0f6',\n",
       " 'hf_models/query_classify_v2/encoder_model.onnx.dvc': 's3://structured-data-dev/junwang_coeus_inference/dvc/93/a4b5ccbfe8c1c172a891c4a1cdd4c6',\n",
       " 'hf_models/query_classify_v2/pytorch_model.bin.dvc': 's3://structured-data-dev/junwang_coeus_inference/dvc/57/4a87a59e95248ce8a4ca55f008d4f8',\n",
       " 'hf_models/query_classify_v2/special_tokens_map.json.dvc': 's3://structured-data-dev/junwang_coeus_inference/dvc/ff/61a5dbe8524c07029da979ddfda1f1',\n",
       " 'hf_models/query_classify_v2/spiece.model.dvc': 's3://structured-data-dev/junwang_coeus_inference/dvc/ef/d840a5b79fcd8dde0100cca3f5470a',\n",
       " 'hf_models/query_classify_v2/tokenizer.json.dvc': 's3://structured-data-dev/junwang_coeus_inference/dvc/e1/9daf10d2a9445aac8909467d002719',\n",
       " 'hf_models/query_classify_v2/tokenizer_config.json.dvc': 's3://structured-data-dev/junwang_coeus_inference/dvc/d6/d828a8509113359bfac4afb7340c14'}"
      ]
     },
     "execution_count": 2,
     "metadata": {},
     "output_type": "execute_result"
    }
   ],
   "source": [
    "path2s3"
   ]
  },
  {
   "cell_type": "code",
   "execution_count": null,
   "metadata": {},
   "outputs": [],
   "source": []
  }
 ],
 "metadata": {
  "kernelspec": {
   "display_name": "py38",
   "language": "python",
   "name": "python3"
  },
  "language_info": {
   "codemirror_mode": {
    "name": "ipython",
    "version": 3
   },
   "file_extension": ".py",
   "mimetype": "text/x-python",
   "name": "python",
   "nbconvert_exporter": "python",
   "pygments_lexer": "ipython3",
   "version": "3.8.13"
  },
  "orig_nbformat": 4,
  "vscode": {
   "interpreter": {
    "hash": "3ea19d11efa7602c1f12500925a974ed4f31fcf847bd6f694bd5180da2602ded"
   }
  }
 },
 "nbformat": 4,
 "nbformat_minor": 2
}
